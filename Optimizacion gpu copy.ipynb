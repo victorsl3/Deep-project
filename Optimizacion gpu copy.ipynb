{
 "cells": [
  {
   "cell_type": "code",
   "execution_count": 1,
   "metadata": {},
   "outputs": [],
   "source": [
    "import os\n",
    "os.environ[\"SQLITE_BUSY_TIMEOUT\"] = \"30000\"  # 30 segundos"
   ]
  },
  {
   "cell_type": "code",
   "execution_count": 2,
   "metadata": {},
   "outputs": [],
   "source": [
    "import numpy as np\n",
    "import pandas as pd\n",
    "from sklearn.preprocessing import LabelEncoder, minmax_scale, scale\n",
    "import matplotlib.pyplot as plt\n",
    "import torch\n",
    "from torch.utils.data import TensorDataset, DataLoader"
   ]
  },
  {
   "cell_type": "code",
   "execution_count": 3,
   "metadata": {},
   "outputs": [],
   "source": [
    "data_path= \"C:/Users/victo/OneDrive/Escritorio/Máster IA/Redes Neuronales y Deep Learning/Deep/Deep-project/drive-download-20231121T165626Z-001/HotelReservationsPreparedCleanAttributes.csv\"\n",
    "label_path = \"C:/Users/victo/OneDrive/Escritorio/Máster IA/Redes Neuronales y Deep Learning/Deep/Deep-project/drive-download-20231121T165626Z-001/HotelReservationsOutput.csv\""
   ]
  },
  {
   "cell_type": "code",
   "execution_count": 4,
   "metadata": {},
   "outputs": [],
   "source": [
    "features  = pd.read_csv(data_path)\n",
    "labels = pd.read_csv(label_path)"
   ]
  },
  {
   "cell_type": "code",
   "execution_count": 5,
   "metadata": {},
   "outputs": [],
   "source": [
    "from sklearn.model_selection import train_test_split\n",
    "# Divide el conjunto de datos\n",
    "features_train, features_test, labels_train, labels_test = train_test_split(features.values, labels.values, test_size=0.1, random_state=42)\n",
    "features_train, features_val, labels_train, labels_val = train_test_split(features_train, labels_train, test_size=0.1, random_state=42)\n",
    "\n",
    "# Convierte los arrays a tensores de PyTorch\n",
    "features_train = torch.tensor(features_train).float()\n",
    "labels_train = torch.tensor(labels_train).float()\n",
    "features_val = torch.tensor(features_val).float()\n",
    "labels_val = torch.tensor(labels_val).float()\n",
    "features_test = torch.tensor(features_test).float()\n",
    "labels_test = torch.tensor(labels_test).float()\n",
    "\n",
    "# Crea conjuntos de datos de PyTorch\n",
    "train_dataset = TensorDataset(features_train, labels_train)\n",
    "val_dataset = TensorDataset(features_val, labels_val)\n",
    "test_dataset = TensorDataset(features_test, labels_test)\n",
    "\n",
    "# Crea DataLoaders de PyTorch\n",
    "train_loader = DataLoader(train_dataset, batch_size=64, shuffle=True)\n",
    "val_loader = DataLoader(val_dataset, batch_size=64, shuffle=False)\n",
    "test_loader = DataLoader(test_dataset, batch_size=64, shuffle=False)"
   ]
  },
  {
   "cell_type": "code",
   "execution_count": 6,
   "metadata": {},
   "outputs": [
    {
     "name": "stdout",
     "output_type": "stream",
     "text": [
      "CUDA disponible: True\n",
      "Listado de dispositivos GPU disponibles:\n",
      "GPU 0: NVIDIA GeForce RTX 4060 Laptop GPU\n"
     ]
    }
   ],
   "source": [
    "import tensorflow as tf\n",
    "import torch\n",
    "\n",
    "# Verificar si CUDA está disponible\n",
    "cuda_available = torch.cuda.is_available()\n",
    "print(f\"CUDA disponible: {cuda_available}\")\n",
    "\n",
    "# Enumerar dispositivos de GPU disponibles y mostrar sus nombres si CUDA está disponible\n",
    "if cuda_available:\n",
    "    print(\"Listado de dispositivos GPU disponibles:\")\n",
    "    for i in range(torch.cuda.device_count()):\n",
    "        print(f\"GPU {i}: {torch.cuda.get_device_name(i)}\")\n",
    "else:\n",
    "    print(\"No se detectó una GPU. Asegúrate de que el acelerador de hardware esté configurado.\")\n"
   ]
  },
  {
   "cell_type": "code",
   "execution_count": 7,
   "metadata": {},
   "outputs": [],
   "source": [
    "import torch.nn as nn\n",
    "\n",
    "class PyTorchModel(nn.Module):\n",
    "    def __init__(self, trial, input_shape):\n",
    "        super(PyTorchModel, self).__init__()\n",
    "        self.layers = nn.ModuleList()\n",
    "        self.l2_regs = []\n",
    "        current_shape = input_shape\n",
    "\n",
    "        # Definir la arquitectura de la red\n",
    "        n_layers = trial.suggest_int('n_layers', 1, 50)\n",
    "        for i in range(n_layers):\n",
    "            num_units = trial.suggest_categorical(f'n_units_l{i}', [16, 32, 64, 128, 256, 512, 1024, 2048])\n",
    "            activation = trial.suggest_categorical(f'activation_l{i}', ['ReLU', 'Tanh', 'ELU', 'SELU', 'LeakyReLU'])\n",
    "            dropout_rate = trial.suggest_float(f'dropout_l{i}', 0.0, 0.5)\n",
    "            use_batch_norm = trial.suggest_categorical(f'batch_norm_l{i}', [True, False])\n",
    "            l2_reg = trial.suggest_float(f'l2_reg_l{i}', 1e-5, 1e-1, log=True)\n",
    "\n",
    "            # Crear y añadir la capa lineal\n",
    "            layer = nn.Linear(current_shape, num_units)\n",
    "            self.layers.append(layer)\n",
    "            self.l2_regs.append(l2_reg)  # Añadir la tasa de regularización L2\n",
    "\n",
    "            current_shape = num_units\n",
    "\n",
    "            # Añadir Batch Normalization si se indica\n",
    "            if use_batch_norm:\n",
    "                self.layers.append(nn.BatchNorm1d(num_units))\n",
    "            \n",
    "            # Añadir Dropout\n",
    "            self.layers.append(nn.Dropout(dropout_rate))\n",
    "\n",
    "            # Añadir la activación\n",
    "            if activation == 'LeakyReLU':\n",
    "                negative_slope = trial.suggest_float(f'leakyrelu_alpha_l{i}', 0.01, 0.3)\n",
    "                self.layers.append(nn.LeakyReLU(negative_slope=negative_slope))\n",
    "            else:\n",
    "                self.layers.append(getattr(nn, activation)())\n",
    "\n",
    "        # Capa de salida\n",
    "        self.output = nn.Linear(current_shape, 1)\n",
    "\n",
    "    def forward(self, x):\n",
    "        for layer in self.layers:\n",
    "            x = layer(x)\n",
    "        return torch.sigmoid(self.output(x))\n",
    "\n",
    "    def get_l2_loss(self):\n",
    "        l2_loss = 0.0\n",
    "        for layer, l2_reg in zip(self.layers, self.l2_regs):\n",
    "            if isinstance(layer, nn.Linear):\n",
    "                l2_loss += l2_reg * layer.weight.norm(2)\n",
    "        return l2_loss\n",
    "\n"
   ]
  },
  {
   "cell_type": "code",
   "execution_count": 8,
   "metadata": {},
   "outputs": [],
   "source": [
    "from torch.optim import Adam, SGD, RMSprop\n",
    "from torch.utils.data import DataLoader\n",
    "\n",
    "def build_model(params, input_shape, is_trial=True):\n",
    "    # Crear una instancia del modelo con la arquitectura definida\n",
    "    model = PyTorchModel(params, input_shape)\n",
    "\n",
    "    if is_trial:\n",
    "        # Configuración durante la optimización con Optuna\n",
    "        optimizer_name = params.suggest_categorical('optimizer', ['Adam', 'SGD', 'RMSprop'])\n",
    "        lr = params.suggest_float('lr', 1e-5, 1e-1, log=True)\n",
    "        if optimizer_name == 'Adam':\n",
    "            beta1 = params.suggest_float('adam_beta1', 0.85, 0.99)\n",
    "            beta2 = params.suggest_float('adam_beta2', 0.9, 0.999)\n",
    "            optimizer = Adam(model.parameters(), lr=lr, betas=(beta1, beta2))\n",
    "        elif optimizer_name == 'SGD':\n",
    "            momentum = params.suggest_float('sgd_momentum', 0.1, 0.9)\n",
    "            optimizer = SGD(model.parameters(), lr=lr, momentum=momentum)\n",
    "        elif optimizer_name == 'RMSprop':\n",
    "            alpha = params.suggest_float('rmsprop_alpha', 0.85, 0.99)\n",
    "            optimizer = RMSprop(model.parameters(), lr=lr, alpha=alpha)\n",
    "    else:\n",
    "        # Configuración con parámetros fijos\n",
    "        optimizer_name = params['optimizer']\n",
    "        if optimizer_name == 'Adam':\n",
    "            optimizer = Adam(model.parameters(), lr=params['lr'], betas=(params['adam_beta1'], params['adam_beta2']))\n",
    "        elif optimizer_name == 'SGD':\n",
    "            optimizer = SGD(model.parameters(), lr=params['lr'], momentum=params.get('sgd_momentum', 0.9))\n",
    "        elif optimizer_name == 'RMSprop':\n",
    "            optimizer = RMSprop(model.parameters(), lr=params['lr'], alpha=params.get('rmsprop_alpha', 0.99))\n",
    "\n",
    "    return model, optimizer\n",
    "\n"
   ]
  },
  {
   "cell_type": "code",
   "execution_count": 9,
   "metadata": {},
   "outputs": [],
   "source": [
    "from tqdm import tqdm\n",
    "import torch\n",
    "\n",
    "def calculate_accuracy(outputs, labels):\n",
    "    predicted = outputs.round()  # Redondear para obtener las predicciones binarias\n",
    "    correct = (predicted == labels).sum().item()\n",
    "    return correct / labels.size(0)"
   ]
  },
  {
   "cell_type": "code",
   "execution_count": 10,
   "metadata": {},
   "outputs": [],
   "source": [
    "import matplotlib.pyplot as plt\n",
    "from tqdm import tqdm\n",
    "import torch\n",
    "import gc\n",
    "from torch.utils.data import DataLoader\n",
    "\n",
    "def plot_metrics(train_losses, val_losses, train_accuracies, val_accuracies, file_name_base):\n",
    "    plt.figure(figsize=(12, 4))\n",
    "\n",
    "    # Pérdida\n",
    "    plt.subplot(1, 2, 1)\n",
    "    plt.plot(train_losses, label='Train Loss')\n",
    "    plt.plot(val_losses, label='Validation Loss')\n",
    "    plt.title('Pérdida durante el entrenamiento')\n",
    "    plt.xlabel('Épocas')\n",
    "    plt.ylabel('Pérdida')\n",
    "    plt.legend()\n",
    "\n",
    "    # Precisión\n",
    "    plt.subplot(1, 2, 2)\n",
    "    plt.plot(train_accuracies, label='Train Accuracy')\n",
    "    plt.plot(val_accuracies, label='Validation Accuracy')\n",
    "    plt.title('Precisión durante el entrenamiento')\n",
    "    plt.xlabel('Épocas')\n",
    "    plt.ylabel('Precisión')\n",
    "    plt.legend()\n",
    "\n",
    "    plt.savefig(f\"{file_name_base}_plot.png\")\n",
    "    plt.close()"
   ]
  },
  {
   "cell_type": "code",
   "execution_count": 11,
   "metadata": {},
   "outputs": [
    {
     "name": "stdout",
     "output_type": "stream",
     "text": [
      "Mejor loss global: 0.28562170123798375\n"
     ]
    }
   ],
   "source": [
    "import json\n",
    "\n",
    "best_loss_file = \"global_best_loss.json\"\n",
    "\n",
    "# Intenta cargar la mejor precisión global desde un archivo\n",
    "try:\n",
    "    with open(best_loss_file, \"r\") as file:\n",
    "        global_best_loss = json.load(file)\n",
    "except (FileNotFoundError, json.JSONDecodeError, TypeError, ValueError):\n",
    "    global_best_loss = np.inf\n",
    "\n",
    "best_model_path = \"best_model_loss.pt\"\n",
    "plot_file_name_base = \"best_model_loss\"\n",
    "\n",
    "print(f\"Mejor loss global: {global_best_loss}\")"
   ]
  },
  {
   "cell_type": "markdown",
   "metadata": {},
   "source": [
    "## Train"
   ]
  },
  {
   "cell_type": "code",
   "execution_count": 12,
   "metadata": {},
   "outputs": [],
   "source": [
    "import torch\n",
    "import gc\n",
    "from torch.utils.data import DataLoader\n",
    "\n",
    "def objective(trial):\n",
    "    global global_best_loss, best_model_path, plot_file_name_base\n",
    "    # Verificar y configurar el uso de la GPU\n",
    "    device = torch.device('cuda' if torch.cuda.is_available() else 'cpu')\n",
    "    print(f\"Usando {'GPU' if device.type == 'cuda' else 'CPU'} para el Trial {trial.number}\")\n",
    "\n",
    "    model, optimizer = build_model(trial, input_shape) \n",
    "    model.to(device)\n",
    "\n",
    "    # Parametrización del número de épocas y tamaño del batch\n",
    "    epochs = trial.suggest_int('epochs', 10, 2000)\n",
    "    batch_size = trial.suggest_categorical('batch_size', [16, 32, 64, 128, 256, 512, 1024, 2048])\n",
    "\n",
    "    # Criterio de pérdida y DataLoader\n",
    "    criterion = torch.nn.BCELoss()  # Ajustar según tu problema\n",
    "    train_loader = DataLoader(train_dataset, batch_size=batch_size, shuffle=True)\n",
    "    val_loader = DataLoader(val_dataset, batch_size=batch_size, shuffle=False)\n",
    "\n",
    "    # Configuración de Early Stopping y Learning Rate Scheduler\n",
    "    early_stopping_patience = trial.suggest_int('early_stopping_patience', 5, 50)\n",
    "    factor = trial.suggest_float(\"lr_reduce_factor\", 0.1, 0.9)\n",
    "    lr_patience = trial.suggest_int(\"lr_reduce_patience\", 5, 50)\n",
    "    min_lr = trial.suggest_float(\"min_lr\", 1e-6, 1e-4, log=True)\n",
    "    lr_scheduler = torch.optim.lr_scheduler.ReduceLROnPlateau(optimizer, factor=factor, patience=lr_patience, min_lr=min_lr, verbose=True)\n",
    "\n",
    "    # Entrenamiento del modelo\n",
    "    print(f\"Entrenando Trial {trial.number}...\")\n",
    "    best_loss = np.inf # Inicializacion de la mejor perdida\n",
    "    epochs_no_improve = 0\n",
    "    # Inicializar listas para almacenar métricas\n",
    "    train_losses, val_losses, train_accuracies, val_accuracies = [], [], [], []\n",
    "\n",
    "    for epoch in range(epochs):\n",
    "        model.train()\n",
    "        train_loss = 0.0\n",
    "        train_correct = 0\n",
    "        train_total = 0\n",
    "\n",
    "        for inputs, labels in tqdm(train_loader, desc=f\"Epoch {epoch + 1}/{epochs}\", leave=False):\n",
    "            inputs, labels = inputs.to(device), labels.to(device)\n",
    "            optimizer.zero_grad()\n",
    "            outputs = model(inputs)\n",
    "            loss = criterion(outputs, labels)\n",
    "            loss.backward()\n",
    "            optimizer.step()\n",
    "\n",
    "            train_loss += loss.item() * inputs.size(0)\n",
    "            train_correct += calculate_accuracy(outputs, labels) * inputs.size(0)\n",
    "            train_total += labels.size(0)\n",
    "\n",
    "        train_loss /= train_total\n",
    "        train_accuracy = train_correct / train_total\n",
    "\n",
    "        # Almacenar las métricas de entrenamiento\n",
    "        train_losses.append(train_loss)\n",
    "        train_accuracies.append(train_accuracy)\n",
    "\n",
    "        # Evaluación y Early Stopping\n",
    "        val_loss = 0.0\n",
    "        val_correct = 0\n",
    "        val_total = 0\n",
    "        model.eval()\n",
    "        with torch.no_grad():\n",
    "            for inputs, labels in val_loader:\n",
    "                inputs, labels = inputs.to(device), labels.to(device)\n",
    "                outputs = model(inputs)\n",
    "                val_loss += criterion(outputs, labels).item() * inputs.size(0)\n",
    "                val_correct += calculate_accuracy(outputs, labels) * inputs.size(0)\n",
    "                val_total += labels.size(0)\n",
    "\n",
    "        val_loss /= val_total\n",
    "        val_accuracy = val_correct / val_total\n",
    "\n",
    "        # Almacenar las métricas de validación\n",
    "        val_losses.append(val_loss)\n",
    "        val_accuracies.append(val_accuracy)\n",
    "\n",
    "        lr_scheduler.step(val_loss)\n",
    "\n",
    "        # Comprobar si este modelo es el mejor hasta ahora\n",
    "        if val_loss < best_loss:\n",
    "            best_loss = val_loss\n",
    "            if best_loss < global_best_loss:\n",
    "                global_best_loss = best_loss\n",
    "                # Guardar el nuevo valor de global_best_loss\n",
    "                with open(best_loss_file, \"w\") as file:\n",
    "                    json.dump(global_best_loss, file)\n",
    "                with open(\"best_loss_accuracy.json\", \"w\") as file:\n",
    "                    json.dump(val_accuracy, file)\n",
    "                plot_metrics(train_losses, val_losses, train_accuracies, val_accuracies, plot_file_name_base)  # Sobreescribir el gráfico\n",
    "                torch.save(model.state_dict(), best_model_path)  # Sobreescribir el mejor modelo\n",
    "            epochs_no_improve = 0\n",
    "        else:\n",
    "            epochs_no_improve += 1\n",
    "\n",
    "        if epochs_no_improve == early_stopping_patience:\n",
    "            print(\"Early stopping\")\n",
    "            break\n",
    "\n",
    "    print(f\"Trial {trial.number} completado. Mejor pérdida en validación: {best_loss}\")\n",
    "\n",
    "    # Limpiar la memoria después de cada trial\n",
    "    del model, optimizer\n",
    "    torch.cuda.empty_cache()\n",
    "    gc.collect()\n",
    "\n",
    "    # Devolver la pérdida en lugar de la precisión\n",
    "    return best_loss\n"
   ]
  },
  {
   "cell_type": "code",
   "execution_count": 13,
   "metadata": {},
   "outputs": [],
   "source": [
    "input_shape = features_train.shape[1]  # Número de variables explicativas"
   ]
  },
  {
   "cell_type": "code",
   "execution_count": 10,
   "metadata": {},
   "outputs": [
    {
     "name": "stderr",
     "output_type": "stream",
     "text": [
      "\u001b[32m[I 2023-12-09 13:25:37,542]\u001b[0m Using an existing study with name 'accuracy_gpu_study_3' instead of creating a new one.\u001b[0m\n"
     ]
    }
   ],
   "source": [
    "import optuna\n",
    "\n",
    "storage = \"sqlite:///example_copy.db\"  # Ruta de la base de datos SQLite\n",
    "study_name = \"accuracy_gpu_study_3\"  # Nuevo nombre del estudio\n",
    "\n",
    "# Crear un nuevo estudio\n",
    "study = optuna.create_study(study_name=study_name, direction='minimize', storage=storage, load_if_exists=True)"
   ]
  },
  {
   "cell_type": "code",
   "execution_count": 11,
   "metadata": {},
   "outputs": [
    {
     "name": "stdout",
     "output_type": "stream",
     "text": [
      "El estudio contiene 159 ensayos.\n"
     ]
    }
   ],
   "source": [
    "# Número de ensayos en el estudio\n",
    "num_trials = len(study.trials)\n",
    "print(f\"El estudio contiene {num_trials} ensayos.\")"
   ]
  },
  {
   "cell_type": "code",
   "execution_count": 16,
   "metadata": {},
   "outputs": [
    {
     "name": "stdout",
     "output_type": "stream",
     "text": [
      "Usando GPU para el Trial 119\n",
      "Entrenando Trial 119...\n"
     ]
    },
    {
     "name": "stderr",
     "output_type": "stream",
     "text": [
      "                                                                 \r"
     ]
    },
    {
     "name": "stdout",
     "output_type": "stream",
     "text": [
      "Epoch   257: reducing learning rate of group 0 to 2.9506e-02.\n"
     ]
    },
    {
     "name": "stderr",
     "output_type": "stream",
     "text": [
      "\u001b[32m[I 2023-12-06 13:21:49,953]\u001b[0m Trial 119 finished with value: 0.2913436805398687 and parameters: {'n_layers': 24, 'n_units_l0': 512, 'activation_l0': 'SELU', 'dropout_l0': 0.0915941140303668, 'batch_norm_l0': False, 'l2_reg_l0': 0.0007790882168789851, 'n_units_l1': 2048, 'activation_l1': 'LeakyReLU', 'dropout_l1': 0.3498948822017353, 'batch_norm_l1': False, 'l2_reg_l1': 0.023703167715166243, 'leakyrelu_alpha_l1': 0.03151321845186461, 'n_units_l2': 64, 'activation_l2': 'ReLU', 'dropout_l2': 0.27457632456848474, 'batch_norm_l2': True, 'l2_reg_l2': 0.004321740063262309, 'n_units_l3': 2048, 'activation_l3': 'ELU', 'dropout_l3': 0.03311597343050048, 'batch_norm_l3': False, 'l2_reg_l3': 0.0001394958711871764, 'n_units_l4': 1024, 'activation_l4': 'SELU', 'dropout_l4': 0.4519005688427607, 'batch_norm_l4': True, 'l2_reg_l4': 0.0051566006787762304, 'n_units_l5': 16, 'activation_l5': 'SELU', 'dropout_l5': 0.043196791373979616, 'batch_norm_l5': True, 'l2_reg_l5': 0.00018174660283256554, 'n_units_l6': 32, 'activation_l6': 'LeakyReLU', 'dropout_l6': 0.06402326884396782, 'batch_norm_l6': False, 'l2_reg_l6': 1.8798055560348465e-05, 'leakyrelu_alpha_l6': 0.033764811638394954, 'n_units_l7': 16, 'activation_l7': 'SELU', 'dropout_l7': 0.06416064937609788, 'batch_norm_l7': True, 'l2_reg_l7': 0.0017852264566134406, 'n_units_l8': 512, 'activation_l8': 'Tanh', 'dropout_l8': 0.12793364204935165, 'batch_norm_l8': False, 'l2_reg_l8': 0.0004742319497610617, 'n_units_l9': 2048, 'activation_l9': 'SELU', 'dropout_l9': 0.29939638925086304, 'batch_norm_l9': True, 'l2_reg_l9': 0.00020146458299779326, 'n_units_l10': 512, 'activation_l10': 'LeakyReLU', 'dropout_l10': 0.1393301421733006, 'batch_norm_l10': True, 'l2_reg_l10': 3.928373135919237e-05, 'leakyrelu_alpha_l10': 0.18563520276232395, 'n_units_l11': 64, 'activation_l11': 'Tanh', 'dropout_l11': 0.4093465002597936, 'batch_norm_l11': True, 'l2_reg_l11': 0.02915842503566115, 'n_units_l12': 2048, 'activation_l12': 'Tanh', 'dropout_l12': 0.044151013902571375, 'batch_norm_l12': True, 'l2_reg_l12': 8.567676325681021e-05, 'n_units_l13': 256, 'activation_l13': 'Tanh', 'dropout_l13': 0.07236700799166662, 'batch_norm_l13': True, 'l2_reg_l13': 2.3977709108924033e-05, 'n_units_l14': 16, 'activation_l14': 'ELU', 'dropout_l14': 0.315766180309729, 'batch_norm_l14': True, 'l2_reg_l14': 0.0413105237853646, 'n_units_l15': 256, 'activation_l15': 'LeakyReLU', 'dropout_l15': 0.25236727061980385, 'batch_norm_l15': False, 'l2_reg_l15': 0.033501185484654306, 'leakyrelu_alpha_l15': 0.16608233044131618, 'n_units_l16': 32, 'activation_l16': 'ELU', 'dropout_l16': 0.19579109830556415, 'batch_norm_l16': False, 'l2_reg_l16': 1.2710889759828153e-05, 'n_units_l17': 2048, 'activation_l17': 'LeakyReLU', 'dropout_l17': 0.08648760630400468, 'batch_norm_l17': True, 'l2_reg_l17': 0.0009695926647370602, 'leakyrelu_alpha_l17': 0.29789453367875135, 'n_units_l18': 32, 'activation_l18': 'ELU', 'dropout_l18': 0.07844314960954758, 'batch_norm_l18': False, 'l2_reg_l18': 0.03493853015872463, 'n_units_l19': 1024, 'activation_l19': 'LeakyReLU', 'dropout_l19': 0.27354510299325624, 'batch_norm_l19': False, 'l2_reg_l19': 1.6021849326935348e-05, 'leakyrelu_alpha_l19': 0.10540097717948438, 'n_units_l20': 256, 'activation_l20': 'SELU', 'dropout_l20': 0.3224672057750591, 'batch_norm_l20': False, 'l2_reg_l20': 0.00020274983235340577, 'n_units_l21': 1024, 'activation_l21': 'LeakyReLU', 'dropout_l21': 0.44467571299663033, 'batch_norm_l21': True, 'l2_reg_l21': 0.012030456521895126, 'leakyrelu_alpha_l21': 0.24346598811678416, 'n_units_l22': 64, 'activation_l22': 'Tanh', 'dropout_l22': 0.23964932519346918, 'batch_norm_l22': True, 'l2_reg_l22': 0.07376607182282297, 'n_units_l23': 2048, 'activation_l23': 'LeakyReLU', 'dropout_l23': 0.026945322858416942, 'batch_norm_l23': True, 'l2_reg_l23': 2.6409466964000478e-05, 'leakyrelu_alpha_l23': 0.05293537778442101, 'optimizer': 'SGD', 'lr': 0.050648430406250375, 'sgd_momentum': 0.6449289158092746, 'epochs': 732, 'batch_size': 128, 'early_stopping_patience': 39, 'lr_reduce_factor': 0.5825603023237823, 'lr_reduce_patience': 27, 'min_lr': 3.50826588919766e-06}. Best is trial 113 with value: 0.28562170123798375.\u001b[0m\n"
     ]
    },
    {
     "name": "stdout",
     "output_type": "stream",
     "text": [
      "Early stopping\n",
      "Trial 119 completado. Mejor pérdida en validación: 0.2913436805398687\n",
      "Usando GPU para el Trial 120\n",
      "Entrenando Trial 120...\n"
     ]
    },
    {
     "name": "stderr",
     "output_type": "stream",
     "text": [
      "                                                                \r"
     ]
    },
    {
     "name": "stdout",
     "output_type": "stream",
     "text": [
      "Epoch    57: reducing learning rate of group 0 to 2.6854e-02.\n"
     ]
    },
    {
     "name": "stderr",
     "output_type": "stream",
     "text": [
      "\u001b[32m[I 2023-12-06 13:27:29,793]\u001b[0m Trial 120 finished with value: 0.6280645989623224 and parameters: {'n_layers': 26, 'n_units_l0': 512, 'activation_l0': 'SELU', 'dropout_l0': 0.14196880769604822, 'batch_norm_l0': False, 'l2_reg_l0': 0.001200951179735195, 'n_units_l1': 512, 'activation_l1': 'Tanh', 'dropout_l1': 0.34732505992736573, 'batch_norm_l1': False, 'l2_reg_l1': 0.061422990768101496, 'n_units_l2': 64, 'activation_l2': 'SELU', 'dropout_l2': 0.24505272255848823, 'batch_norm_l2': True, 'l2_reg_l2': 0.002810698380970877, 'n_units_l3': 2048, 'activation_l3': 'ELU', 'dropout_l3': 0.03432746134380563, 'batch_norm_l3': False, 'l2_reg_l3': 0.00012505763428138821, 'n_units_l4': 1024, 'activation_l4': 'SELU', 'dropout_l4': 0.4544463813889849, 'batch_norm_l4': True, 'l2_reg_l4': 0.03142750193710226, 'n_units_l5': 16, 'activation_l5': 'SELU', 'dropout_l5': 0.010369064423535891, 'batch_norm_l5': True, 'l2_reg_l5': 0.00011245123411168396, 'n_units_l6': 32, 'activation_l6': 'LeakyReLU', 'dropout_l6': 0.06210411068385144, 'batch_norm_l6': False, 'l2_reg_l6': 1.8974378396275934e-05, 'leakyrelu_alpha_l6': 0.033758197746814766, 'n_units_l7': 16, 'activation_l7': 'SELU', 'dropout_l7': 0.06744410744451165, 'batch_norm_l7': True, 'l2_reg_l7': 0.001565563725352052, 'n_units_l8': 512, 'activation_l8': 'ReLU', 'dropout_l8': 0.081035341025258, 'batch_norm_l8': False, 'l2_reg_l8': 0.0004956124953439887, 'n_units_l9': 2048, 'activation_l9': 'SELU', 'dropout_l9': 0.29822704695224833, 'batch_norm_l9': True, 'l2_reg_l9': 0.000239242719311353, 'n_units_l10': 512, 'activation_l10': 'LeakyReLU', 'dropout_l10': 0.15031974378889018, 'batch_norm_l10': False, 'l2_reg_l10': 3.2178870402269075e-05, 'leakyrelu_alpha_l10': 0.16470586982813665, 'n_units_l11': 64, 'activation_l11': 'Tanh', 'dropout_l11': 0.39740061305966495, 'batch_norm_l11': True, 'l2_reg_l11': 0.03797726937382862, 'n_units_l12': 2048, 'activation_l12': 'Tanh', 'dropout_l12': 0.0450194244061788, 'batch_norm_l12': True, 'l2_reg_l12': 8.303956075134191e-05, 'n_units_l13': 256, 'activation_l13': 'Tanh', 'dropout_l13': 0.07445334415112448, 'batch_norm_l13': True, 'l2_reg_l13': 2.3424915102978757e-05, 'n_units_l14': 2048, 'activation_l14': 'ELU', 'dropout_l14': 0.3132094455637152, 'batch_norm_l14': True, 'l2_reg_l14': 0.04175593415487914, 'n_units_l15': 256, 'activation_l15': 'LeakyReLU', 'dropout_l15': 0.24951279632657414, 'batch_norm_l15': False, 'l2_reg_l15': 0.02723662232587339, 'leakyrelu_alpha_l15': 0.16987784440289827, 'n_units_l16': 32, 'activation_l16': 'ELU', 'dropout_l16': 0.1924409842513357, 'batch_norm_l16': False, 'l2_reg_l16': 1.062786689911281e-05, 'n_units_l17': 2048, 'activation_l17': 'LeakyReLU', 'dropout_l17': 0.08763766518116885, 'batch_norm_l17': True, 'l2_reg_l17': 0.0008652619360643979, 'leakyrelu_alpha_l17': 0.29447845140531725, 'n_units_l18': 32, 'activation_l18': 'ELU', 'dropout_l18': 0.08926899406470387, 'batch_norm_l18': False, 'l2_reg_l18': 0.0314944694624165, 'n_units_l19': 1024, 'activation_l19': 'LeakyReLU', 'dropout_l19': 0.2819198756609413, 'batch_norm_l19': False, 'l2_reg_l19': 1.6334933072285977e-05, 'leakyrelu_alpha_l19': 0.10557246578171497, 'n_units_l20': 512, 'activation_l20': 'SELU', 'dropout_l20': 0.21217536177406102, 'batch_norm_l20': False, 'l2_reg_l20': 0.00023755147840055652, 'n_units_l21': 1024, 'activation_l21': 'LeakyReLU', 'dropout_l21': 0.4444593004368526, 'batch_norm_l21': True, 'l2_reg_l21': 0.012746904676388093, 'leakyrelu_alpha_l21': 0.24127515588712306, 'n_units_l22': 64, 'activation_l22': 'Tanh', 'dropout_l22': 0.23949494316790437, 'batch_norm_l22': True, 'l2_reg_l22': 0.09451840883855209, 'n_units_l23': 2048, 'activation_l23': 'LeakyReLU', 'dropout_l23': 0.003936951315568052, 'batch_norm_l23': True, 'l2_reg_l23': 2.6812606015934446e-05, 'leakyrelu_alpha_l23': 0.05218245411869259, 'n_units_l24': 32, 'activation_l24': 'SELU', 'dropout_l24': 0.1345516217304766, 'batch_norm_l24': True, 'l2_reg_l24': 0.015950788730650162, 'n_units_l25': 2048, 'activation_l25': 'SELU', 'dropout_l25': 0.40766383290087743, 'batch_norm_l25': True, 'l2_reg_l25': 0.0011005958090436025, 'optimizer': 'SGD', 'lr': 0.04592375199721006, 'sgd_momentum': 0.6292563581122583, 'epochs': 729, 'batch_size': 64, 'early_stopping_patience': 41, 'lr_reduce_factor': 0.5847432195747346, 'lr_reduce_patience': 27, 'min_lr': 3.0825212681454243e-06}. Best is trial 113 with value: 0.28562170123798375.\u001b[0m\n"
     ]
    },
    {
     "name": "stdout",
     "output_type": "stream",
     "text": [
      "Early stopping\n",
      "Trial 120 completado. Mejor pérdida en validación: 0.6280645989623224\n",
      "Usando GPU para el Trial 121\n",
      "Entrenando Trial 121...\n"
     ]
    },
    {
     "name": "stderr",
     "output_type": "stream",
     "text": [
      "                                                               \r"
     ]
    },
    {
     "name": "stdout",
     "output_type": "stream",
     "text": [
      "Epoch   190: reducing learning rate of group 0 to 4.7988e-02.\n"
     ]
    },
    {
     "name": "stderr",
     "output_type": "stream",
     "text": [
      "                                                               \r"
     ]
    },
    {
     "name": "stdout",
     "output_type": "stream",
     "text": [
      "Epoch   233: reducing learning rate of group 0 to 2.8754e-02.\n"
     ]
    },
    {
     "name": "stderr",
     "output_type": "stream",
     "text": [
      "                                                               \r"
     ]
    },
    {
     "name": "stdout",
     "output_type": "stream",
     "text": [
      "Epoch   260: reducing learning rate of group 0 to 1.7229e-02.\n"
     ]
    },
    {
     "name": "stderr",
     "output_type": "stream",
     "text": [
      "\u001b[32m[I 2023-12-06 13:30:28,442]\u001b[0m Trial 121 finished with value: 0.2903671515115735 and parameters: {'n_layers': 22, 'n_units_l0': 512, 'activation_l0': 'SELU', 'dropout_l0': 0.1231568171071854, 'batch_norm_l0': False, 'l2_reg_l0': 0.0008203011670791703, 'n_units_l1': 2048, 'activation_l1': 'LeakyReLU', 'dropout_l1': 0.3639485833266773, 'batch_norm_l1': False, 'l2_reg_l1': 0.03304506195388358, 'leakyrelu_alpha_l1': 0.044612205345649185, 'n_units_l2': 64, 'activation_l2': 'ReLU', 'dropout_l2': 0.23684821875299622, 'batch_norm_l2': True, 'l2_reg_l2': 0.0037519382909847712, 'n_units_l3': 2048, 'activation_l3': 'ELU', 'dropout_l3': 0.058391395872834324, 'batch_norm_l3': False, 'l2_reg_l3': 0.00016433664428180638, 'n_units_l4': 1024, 'activation_l4': 'SELU', 'dropout_l4': 0.4744093818864609, 'batch_norm_l4': True, 'l2_reg_l4': 0.01976605477281868, 'n_units_l5': 16, 'activation_l5': 'SELU', 'dropout_l5': 0.041379386461163944, 'batch_norm_l5': True, 'l2_reg_l5': 0.0001720389394632055, 'n_units_l6': 32, 'activation_l6': 'LeakyReLU', 'dropout_l6': 0.036176514433562956, 'batch_norm_l6': False, 'l2_reg_l6': 1.1827736689302064e-05, 'leakyrelu_alpha_l6': 0.028686121189139074, 'n_units_l7': 16, 'activation_l7': 'SELU', 'dropout_l7': 0.08250847875596362, 'batch_norm_l7': True, 'l2_reg_l7': 0.0017624139648172983, 'n_units_l8': 512, 'activation_l8': 'Tanh', 'dropout_l8': 0.11433635093221789, 'batch_norm_l8': False, 'l2_reg_l8': 0.00027525739546623446, 'n_units_l9': 2048, 'activation_l9': 'SELU', 'dropout_l9': 0.32901452161224376, 'batch_norm_l9': True, 'l2_reg_l9': 0.00018811752720265207, 'n_units_l10': 512, 'activation_l10': 'LeakyReLU', 'dropout_l10': 0.23644517263775983, 'batch_norm_l10': True, 'l2_reg_l10': 2.0325487786738884e-05, 'leakyrelu_alpha_l10': 0.26517394018968793, 'n_units_l11': 64, 'activation_l11': 'Tanh', 'dropout_l11': 0.41161189433229645, 'batch_norm_l11': True, 'l2_reg_l11': 0.026425036886719308, 'n_units_l12': 2048, 'activation_l12': 'Tanh', 'dropout_l12': 0.08039081580165795, 'batch_norm_l12': True, 'l2_reg_l12': 0.00014024628269345094, 'n_units_l13': 256, 'activation_l13': 'Tanh', 'dropout_l13': 0.0016243514560380437, 'batch_norm_l13': False, 'l2_reg_l13': 1.7150747746845304e-05, 'n_units_l14': 16, 'activation_l14': 'ELU', 'dropout_l14': 0.30454296015470084, 'batch_norm_l14': False, 'l2_reg_l14': 0.0960841272060641, 'n_units_l15': 256, 'activation_l15': 'LeakyReLU', 'dropout_l15': 0.26967343726482035, 'batch_norm_l15': True, 'l2_reg_l15': 0.0331554624855747, 'leakyrelu_alpha_l15': 0.1769604000707093, 'n_units_l16': 32, 'activation_l16': 'ELU', 'dropout_l16': 0.2952409219631536, 'batch_norm_l16': False, 'l2_reg_l16': 1.5503425089348142e-05, 'n_units_l17': 2048, 'activation_l17': 'LeakyReLU', 'dropout_l17': 0.1363255947819617, 'batch_norm_l17': True, 'l2_reg_l17': 0.0005305089301854766, 'leakyrelu_alpha_l17': 0.23433581051819077, 'n_units_l18': 32, 'activation_l18': 'ELU', 'dropout_l18': 0.08310327041808571, 'batch_norm_l18': False, 'l2_reg_l18': 0.0696300611812517, 'n_units_l19': 1024, 'activation_l19': 'LeakyReLU', 'dropout_l19': 0.21701150467563673, 'batch_norm_l19': False, 'l2_reg_l19': 6.24740834534004e-05, 'leakyrelu_alpha_l19': 0.14250786639470162, 'n_units_l20': 256, 'activation_l20': 'SELU', 'dropout_l20': 0.3195217216610201, 'batch_norm_l20': False, 'l2_reg_l20': 0.0003152109243246474, 'n_units_l21': 1024, 'activation_l21': 'LeakyReLU', 'dropout_l21': 0.49882797143782115, 'batch_norm_l21': True, 'l2_reg_l21': 0.0073929745554581, 'leakyrelu_alpha_l21': 0.2724117313108389, 'optimizer': 'SGD', 'lr': 0.0800884220619569, 'sgd_momentum': 0.6444442545118969, 'epochs': 596, 'batch_size': 512, 'early_stopping_patience': 39, 'lr_reduce_factor': 0.5991895177616012, 'lr_reduce_patience': 24, 'min_lr': 4.192717736313178e-06}. Best is trial 113 with value: 0.28562170123798375.\u001b[0m\n"
     ]
    },
    {
     "name": "stdout",
     "output_type": "stream",
     "text": [
      "Early stopping\n",
      "Trial 121 completado. Mejor pérdida en validación: 0.2903671515115735\n",
      "Usando GPU para el Trial 122\n",
      "Entrenando Trial 122...\n"
     ]
    },
    {
     "name": "stderr",
     "output_type": "stream",
     "text": [
      "                                                              \r"
     ]
    },
    {
     "name": "stdout",
     "output_type": "stream",
     "text": [
      "Epoch   202: reducing learning rate of group 0 to 4.9071e-02.\n"
     ]
    },
    {
     "name": "stderr",
     "output_type": "stream",
     "text": [
      "                                                              \r"
     ]
    },
    {
     "name": "stdout",
     "output_type": "stream",
     "text": [
      "Epoch   241: reducing learning rate of group 0 to 2.8993e-02.\n"
     ]
    },
    {
     "name": "stderr",
     "output_type": "stream",
     "text": [
      "\u001b[32m[I 2023-12-06 13:33:34,017]\u001b[0m Trial 122 finished with value: 0.29594794921634027 and parameters: {'n_layers': 22, 'n_units_l0': 512, 'activation_l0': 'SELU', 'dropout_l0': 0.12277039706964468, 'batch_norm_l0': False, 'l2_reg_l0': 0.0005029399735334622, 'n_units_l1': 2048, 'activation_l1': 'LeakyReLU', 'dropout_l1': 0.3671763668568287, 'batch_norm_l1': False, 'l2_reg_l1': 0.023545735508724398, 'leakyrelu_alpha_l1': 0.04629772482512347, 'n_units_l2': 64, 'activation_l2': 'ReLU', 'dropout_l2': 0.22957734176569772, 'batch_norm_l2': False, 'l2_reg_l2': 0.0021544363314815775, 'n_units_l3': 2048, 'activation_l3': 'ELU', 'dropout_l3': 0.0617216043497706, 'batch_norm_l3': False, 'l2_reg_l3': 0.0001503961000442956, 'n_units_l4': 1024, 'activation_l4': 'ReLU', 'dropout_l4': 0.47809655381386246, 'batch_norm_l4': True, 'l2_reg_l4': 0.013569851350584855, 'n_units_l5': 16, 'activation_l5': 'SELU', 'dropout_l5': 0.045305529786829224, 'batch_norm_l5': True, 'l2_reg_l5': 0.0001907229955048839, 'n_units_l6': 32, 'activation_l6': 'LeakyReLU', 'dropout_l6': 0.07024685820451201, 'batch_norm_l6': False, 'l2_reg_l6': 3.3619814390003965e-05, 'leakyrelu_alpha_l6': 0.025097880405238044, 'n_units_l7': 16, 'activation_l7': 'SELU', 'dropout_l7': 0.025098465310145375, 'batch_norm_l7': True, 'l2_reg_l7': 0.0019328901807005089, 'n_units_l8': 512, 'activation_l8': 'Tanh', 'dropout_l8': 0.1202162826294049, 'batch_norm_l8': False, 'l2_reg_l8': 0.0002529088560576658, 'n_units_l9': 2048, 'activation_l9': 'SELU', 'dropout_l9': 0.33547565687488073, 'batch_norm_l9': True, 'l2_reg_l9': 0.00013440322994465173, 'n_units_l10': 512, 'activation_l10': 'LeakyReLU', 'dropout_l10': 0.23183307678030796, 'batch_norm_l10': True, 'l2_reg_l10': 2.085206029477943e-05, 'leakyrelu_alpha_l10': 0.26655583813798606, 'n_units_l11': 64, 'activation_l11': 'Tanh', 'dropout_l11': 0.42545141756752547, 'batch_norm_l11': True, 'l2_reg_l11': 0.026722120890929568, 'n_units_l12': 2048, 'activation_l12': 'Tanh', 'dropout_l12': 0.08916213168909326, 'batch_norm_l12': False, 'l2_reg_l12': 4.8665397900835886e-05, 'n_units_l13': 256, 'activation_l13': 'Tanh', 'dropout_l13': 0.00029417467184855717, 'batch_norm_l13': False, 'l2_reg_l13': 1.1916133121699273e-05, 'n_units_l14': 16, 'activation_l14': 'ELU', 'dropout_l14': 0.3674789609002367, 'batch_norm_l14': False, 'l2_reg_l14': 0.09798752614398526, 'n_units_l15': 32, 'activation_l15': 'LeakyReLU', 'dropout_l15': 0.28347454024578983, 'batch_norm_l15': True, 'l2_reg_l15': 0.037164812927299964, 'leakyrelu_alpha_l15': 0.17600596001318414, 'n_units_l16': 32, 'activation_l16': 'ELU', 'dropout_l16': 0.29934969714741766, 'batch_norm_l16': False, 'l2_reg_l16': 1.5687003755274717e-05, 'n_units_l17': 2048, 'activation_l17': 'LeakyReLU', 'dropout_l17': 0.08314734856205018, 'batch_norm_l17': True, 'l2_reg_l17': 0.00035644841906933207, 'leakyrelu_alpha_l17': 0.23767983169503137, 'n_units_l18': 2048, 'activation_l18': 'ELU', 'dropout_l18': 0.14645188365774917, 'batch_norm_l18': False, 'l2_reg_l18': 0.0688505092174349, 'n_units_l19': 1024, 'activation_l19': 'LeakyReLU', 'dropout_l19': 0.2169169636495506, 'batch_norm_l19': False, 'l2_reg_l19': 9.391443367489845e-05, 'leakyrelu_alpha_l19': 0.14510369814794266, 'n_units_l20': 256, 'activation_l20': 'SELU', 'dropout_l20': 0.33967714459328796, 'batch_norm_l20': False, 'l2_reg_l20': 0.0002953493185047194, 'n_units_l21': 128, 'activation_l21': 'LeakyReLU', 'dropout_l21': 0.497667559731515, 'batch_norm_l21': True, 'l2_reg_l21': 0.003720371546422887, 'leakyrelu_alpha_l21': 0.27768454891083716, 'optimizer': 'SGD', 'lr': 0.0830514234284646, 'sgd_momentum': 0.6890801495966743, 'epochs': 585, 'batch_size': 512, 'early_stopping_patience': 39, 'lr_reduce_factor': 0.5908486126489996, 'lr_reduce_patience': 22, 'min_lr': 3.444471664005309e-06}. Best is trial 113 with value: 0.28562170123798375.\u001b[0m\n"
     ]
    },
    {
     "name": "stdout",
     "output_type": "stream",
     "text": [
      "Early stopping\n",
      "Trial 122 completado. Mejor pérdida en validación: 0.29594794921634027\n",
      "Usando GPU para el Trial 123\n",
      "Entrenando Trial 123...\n"
     ]
    },
    {
     "name": "stderr",
     "output_type": "stream",
     "text": [
      "                                                              \r"
     ]
    },
    {
     "name": "stdout",
     "output_type": "stream",
     "text": [
      "Epoch   169: reducing learning rate of group 0 to 4.0413e-02.\n"
     ]
    },
    {
     "name": "stderr",
     "output_type": "stream",
     "text": [
      "                                                              \r"
     ]
    },
    {
     "name": "stdout",
     "output_type": "stream",
     "text": [
      "Epoch   201: reducing learning rate of group 0 to 2.2687e-02.\n"
     ]
    },
    {
     "name": "stderr",
     "output_type": "stream",
     "text": [
      "\u001b[32m[I 2023-12-06 13:36:08,689]\u001b[0m Trial 123 finished with value: 0.3085434185144182 and parameters: {'n_layers': 24, 'n_units_l0': 512, 'activation_l0': 'SELU', 'dropout_l0': 0.10453006745379523, 'batch_norm_l0': False, 'l2_reg_l0': 0.0008584326629789062, 'n_units_l1': 2048, 'activation_l1': 'ReLU', 'dropout_l1': 0.35488569787044033, 'batch_norm_l1': False, 'l2_reg_l1': 0.035411458904624965, 'n_units_l2': 64, 'activation_l2': 'LeakyReLU', 'dropout_l2': 0.24411773432780054, 'batch_norm_l2': True, 'l2_reg_l2': 0.0032953331080365178, 'leakyrelu_alpha_l2': 0.15133758678647385, 'n_units_l3': 2048, 'activation_l3': 'ELU', 'dropout_l3': 0.09262849802533918, 'batch_norm_l3': False, 'l2_reg_l3': 9.317245226813135e-05, 'n_units_l4': 1024, 'activation_l4': 'SELU', 'dropout_l4': 0.46915598916520534, 'batch_norm_l4': True, 'l2_reg_l4': 0.019865224416035155, 'n_units_l5': 16, 'activation_l5': 'SELU', 'dropout_l5': 0.058084810223538, 'batch_norm_l5': True, 'l2_reg_l5': 0.00040862298054926687, 'n_units_l6': 32, 'activation_l6': 'LeakyReLU', 'dropout_l6': 0.08625437817033758, 'batch_norm_l6': False, 'l2_reg_l6': 1.6055505003872082e-05, 'leakyrelu_alpha_l6': 0.029723324459173965, 'n_units_l7': 16, 'activation_l7': 'SELU', 'dropout_l7': 0.08653952490965236, 'batch_norm_l7': True, 'l2_reg_l7': 0.0011769263174838743, 'n_units_l8': 512, 'activation_l8': 'LeakyReLU', 'dropout_l8': 0.09861090967461986, 'batch_norm_l8': False, 'l2_reg_l8': 0.0003044673225504739, 'leakyrelu_alpha_l8': 0.13858256313189493, 'n_units_l9': 2048, 'activation_l9': 'SELU', 'dropout_l9': 0.3107996498335764, 'batch_norm_l9': True, 'l2_reg_l9': 0.00018691837886004238, 'n_units_l10': 512, 'activation_l10': 'LeakyReLU', 'dropout_l10': 0.11651817028715863, 'batch_norm_l10': True, 'l2_reg_l10': 1.6275565846941666e-05, 'leakyrelu_alpha_l10': 0.2697006093278773, 'n_units_l11': 64, 'activation_l11': 'Tanh', 'dropout_l11': 0.41378199545594607, 'batch_norm_l11': True, 'l2_reg_l11': 0.014651650659770997, 'n_units_l12': 2048, 'activation_l12': 'LeakyReLU', 'dropout_l12': 0.1300135019891374, 'batch_norm_l12': True, 'l2_reg_l12': 0.0014013501074249762, 'leakyrelu_alpha_l12': 0.2167653410212907, 'n_units_l13': 256, 'activation_l13': 'Tanh', 'dropout_l13': 0.012907348337732737, 'batch_norm_l13': False, 'l2_reg_l13': 2.749315766914552e-05, 'n_units_l14': 16, 'activation_l14': 'ELU', 'dropout_l14': 0.2745514566646591, 'batch_norm_l14': False, 'l2_reg_l14': 0.07712462644588589, 'n_units_l15': 256, 'activation_l15': 'LeakyReLU', 'dropout_l15': 0.3186568489014195, 'batch_norm_l15': True, 'l2_reg_l15': 0.03972477466546577, 'leakyrelu_alpha_l15': 0.19893252020156657, 'n_units_l16': 32, 'activation_l16': 'ELU', 'dropout_l16': 0.16319408522305043, 'batch_norm_l16': False, 'l2_reg_l16': 1.3039926755041447e-05, 'n_units_l17': 2048, 'activation_l17': 'LeakyReLU', 'dropout_l17': 0.10244416676776308, 'batch_norm_l17': True, 'l2_reg_l17': 0.0006006176819772184, 'leakyrelu_alpha_l17': 0.2584395770766826, 'n_units_l18': 32, 'activation_l18': 'ELU', 'dropout_l18': 0.1193951197341048, 'batch_norm_l18': True, 'l2_reg_l18': 0.03627808517875182, 'n_units_l19': 1024, 'activation_l19': 'LeakyReLU', 'dropout_l19': 0.21258782991878716, 'batch_norm_l19': True, 'l2_reg_l19': 5.543972655988479e-05, 'leakyrelu_alpha_l19': 0.10876784623134582, 'n_units_l20': 256, 'activation_l20': 'SELU', 'dropout_l20': 0.3205706928245027, 'batch_norm_l20': True, 'l2_reg_l20': 0.0003684867381038629, 'n_units_l21': 32, 'activation_l21': 'LeakyReLU', 'dropout_l21': 0.4204706797327407, 'batch_norm_l21': False, 'l2_reg_l21': 0.007227825049594619, 'leakyrelu_alpha_l21': 0.28306951033306094, 'n_units_l22': 64, 'activation_l22': 'ELU', 'dropout_l22': 0.2777368333831371, 'batch_norm_l22': True, 'l2_reg_l22': 0.027810281334342445, 'n_units_l23': 1024, 'activation_l23': 'LeakyReLU', 'dropout_l23': 0.061444590839607634, 'batch_norm_l23': True, 'l2_reg_l23': 1.0408701545486989e-05, 'leakyrelu_alpha_l23': 0.0762995758106126, 'optimizer': 'SGD', 'lr': 0.07198808186458419, 'sgd_momentum': 0.5973865736120612, 'epochs': 498, 'batch_size': 512, 'early_stopping_patience': 37, 'lr_reduce_factor': 0.5613808117077946, 'lr_reduce_patience': 27, 'min_lr': 4.188802565633012e-06}. Best is trial 113 with value: 0.28562170123798375.\u001b[0m\n"
     ]
    },
    {
     "name": "stdout",
     "output_type": "stream",
     "text": [
      "Early stopping\n",
      "Trial 123 completado. Mejor pérdida en validación: 0.3085434185144182\n",
      "Usando GPU para el Trial 124\n",
      "Entrenando Trial 124...\n"
     ]
    },
    {
     "name": "stderr",
     "output_type": "stream",
     "text": [
      "                                                             \r"
     ]
    },
    {
     "name": "stdout",
     "output_type": "stream",
     "text": [
      "Epoch    43: reducing learning rate of group 0 to 2.3252e-02.\n"
     ]
    },
    {
     "name": "stderr",
     "output_type": "stream",
     "text": [
      "                                                             \r"
     ]
    },
    {
     "name": "stdout",
     "output_type": "stream",
     "text": [
      "Epoch    69: reducing learning rate of group 0 to 1.3858e-02.\n"
     ]
    },
    {
     "name": "stderr",
     "output_type": "stream",
     "text": [
      "\u001b[32m[I 2023-12-06 13:37:35,524]\u001b[0m Trial 124 finished with value: 0.6281354196951546 and parameters: {'n_layers': 42, 'n_units_l0': 2048, 'activation_l0': 'SELU', 'dropout_l0': 0.11483821726182311, 'batch_norm_l0': False, 'l2_reg_l0': 0.00026005599686924224, 'n_units_l1': 64, 'activation_l1': 'LeakyReLU', 'dropout_l1': 0.3684493822386082, 'batch_norm_l1': False, 'l2_reg_l1': 0.031180116303208487, 'leakyrelu_alpha_l1': 0.03411592061891823, 'n_units_l2': 64, 'activation_l2': 'ReLU', 'dropout_l2': 0.2570846354618227, 'batch_norm_l2': True, 'l2_reg_l2': 0.0038654003608402598, 'n_units_l3': 2048, 'activation_l3': 'ELU', 'dropout_l3': 0.048707207953535475, 'batch_norm_l3': False, 'l2_reg_l3': 0.00029479924370210986, 'n_units_l4': 1024, 'activation_l4': 'SELU', 'dropout_l4': 0.486859113463168, 'batch_norm_l4': True, 'l2_reg_l4': 0.008380226810081829, 'n_units_l5': 1024, 'activation_l5': 'SELU', 'dropout_l5': 0.03544394375241512, 'batch_norm_l5': True, 'l2_reg_l5': 0.0002184496941491854, 'n_units_l6': 32, 'activation_l6': 'ELU', 'dropout_l6': 0.03627238116551106, 'batch_norm_l6': False, 'l2_reg_l6': 1.147712976614822e-05, 'n_units_l7': 16, 'activation_l7': 'SELU', 'dropout_l7': 0.04707396723352689, 'batch_norm_l7': True, 'l2_reg_l7': 0.0009476022885134769, 'n_units_l8': 512, 'activation_l8': 'Tanh', 'dropout_l8': 0.13468759152531418, 'batch_norm_l8': False, 'l2_reg_l8': 0.0005909913645582396, 'n_units_l9': 2048, 'activation_l9': 'SELU', 'dropout_l9': 0.33545125974207185, 'batch_norm_l9': True, 'l2_reg_l9': 0.00013605622082616664, 'n_units_l10': 512, 'activation_l10': 'LeakyReLU', 'dropout_l10': 0.17695531182376734, 'batch_norm_l10': True, 'l2_reg_l10': 1.3830270291179863e-05, 'leakyrelu_alpha_l10': 0.2687979299124987, 'n_units_l11': 64, 'activation_l11': 'Tanh', 'dropout_l11': 0.43676508565849803, 'batch_norm_l11': True, 'l2_reg_l11': 0.05304048281553326, 'n_units_l12': 2048, 'activation_l12': 'SELU', 'dropout_l12': 0.10477863099960923, 'batch_norm_l12': True, 'l2_reg_l12': 0.0007502096637375778, 'n_units_l13': 256, 'activation_l13': 'Tanh', 'dropout_l13': 0.031848990875563546, 'batch_norm_l13': False, 'l2_reg_l13': 2.0226710151481317e-05, 'n_units_l14': 16, 'activation_l14': 'LeakyReLU', 'dropout_l14': 0.32691229579223335, 'batch_norm_l14': False, 'l2_reg_l14': 0.0371674821108403, 'leakyrelu_alpha_l14': 0.279159756020845, 'n_units_l15': 256, 'activation_l15': 'LeakyReLU', 'dropout_l15': 0.20373034299507758, 'batch_norm_l15': True, 'l2_reg_l15': 0.023494334745242703, 'leakyrelu_alpha_l15': 0.13087219701010985, 'n_units_l16': 32, 'activation_l16': 'ELU', 'dropout_l16': 0.13236196360270078, 'batch_norm_l16': False, 'l2_reg_l16': 2.4926484531989375e-05, 'n_units_l17': 2048, 'activation_l17': 'LeakyReLU', 'dropout_l17': 0.12489786079212353, 'batch_norm_l17': False, 'l2_reg_l17': 0.0010351040683754561, 'leakyrelu_alpha_l17': 0.2989580958359699, 'n_units_l18': 32, 'activation_l18': 'ELU', 'dropout_l18': 0.10181386083114272, 'batch_norm_l18': False, 'l2_reg_l18': 0.01794828175757139, 'n_units_l19': 1024, 'activation_l19': 'LeakyReLU', 'dropout_l19': 0.1918564919678093, 'batch_norm_l19': False, 'l2_reg_l19': 0.00014871496656874316, 'leakyrelu_alpha_l19': 0.19390872775606316, 'n_units_l20': 256, 'activation_l20': 'SELU', 'dropout_l20': 0.2705043541025042, 'batch_norm_l20': False, 'l2_reg_l20': 0.00020442996540328705, 'n_units_l21': 512, 'activation_l21': 'SELU', 'dropout_l21': 0.48350472117742677, 'batch_norm_l21': True, 'l2_reg_l21': 0.03389353743099066, 'n_units_l22': 64, 'activation_l22': 'ReLU', 'dropout_l22': 0.30917274912915166, 'batch_norm_l22': True, 'l2_reg_l22': 0.015730690618147452, 'n_units_l23': 64, 'activation_l23': 'LeakyReLU', 'dropout_l23': 0.05230475169457093, 'batch_norm_l23': True, 'l2_reg_l23': 1.7785433696240745e-05, 'leakyrelu_alpha_l23': 0.0925969239600147, 'n_units_l24': 32, 'activation_l24': 'SELU', 'dropout_l24': 0.16335867978345214, 'batch_norm_l24': True, 'l2_reg_l24': 0.006841936979092812, 'n_units_l25': 64, 'activation_l25': 'ReLU', 'dropout_l25': 0.4594826240408264, 'batch_norm_l25': True, 'l2_reg_l25': 0.004983399002800888, 'n_units_l26': 2048, 'activation_l26': 'SELU', 'dropout_l26': 0.4946237680769401, 'batch_norm_l26': False, 'l2_reg_l26': 0.0007796314036554076, 'n_units_l27': 1024, 'activation_l27': 'ELU', 'dropout_l27': 0.2361259490162408, 'batch_norm_l27': True, 'l2_reg_l27': 0.016883887045935818, 'n_units_l28': 128, 'activation_l28': 'ReLU', 'dropout_l28': 0.25292583049194595, 'batch_norm_l28': False, 'l2_reg_l28': 3.10197431305383e-05, 'n_units_l29': 1024, 'activation_l29': 'ReLU', 'dropout_l29': 0.2354868976230873, 'batch_norm_l29': False, 'l2_reg_l29': 0.0008315092567243629, 'n_units_l30': 512, 'activation_l30': 'LeakyReLU', 'dropout_l30': 0.16041096864043514, 'batch_norm_l30': True, 'l2_reg_l30': 9.598977263076867e-05, 'leakyrelu_alpha_l30': 0.2973749747308337, 'n_units_l31': 16, 'activation_l31': 'LeakyReLU', 'dropout_l31': 0.353686847583492, 'batch_norm_l31': False, 'l2_reg_l31': 3.838605350360847e-05, 'leakyrelu_alpha_l31': 0.291135510331298, 'n_units_l32': 64, 'activation_l32': 'Tanh', 'dropout_l32': 0.19386761456994192, 'batch_norm_l32': False, 'l2_reg_l32': 0.08888270261880274, 'n_units_l33': 512, 'activation_l33': 'ELU', 'dropout_l33': 0.21957545964862732, 'batch_norm_l33': False, 'l2_reg_l33': 0.005270180124691098, 'n_units_l34': 128, 'activation_l34': 'LeakyReLU', 'dropout_l34': 0.1685235604568799, 'batch_norm_l34': False, 'l2_reg_l34': 0.009588775312139907, 'leakyrelu_alpha_l34': 0.23303792690972536, 'n_units_l35': 512, 'activation_l35': 'ReLU', 'dropout_l35': 0.4560568061174953, 'batch_norm_l35': True, 'l2_reg_l35': 1.0420072936374119e-05, 'n_units_l36': 256, 'activation_l36': 'ReLU', 'dropout_l36': 0.007153626724757722, 'batch_norm_l36': False, 'l2_reg_l36': 0.0011250181199297727, 'n_units_l37': 32, 'activation_l37': 'SELU', 'dropout_l37': 0.011697925338957249, 'batch_norm_l37': False, 'l2_reg_l37': 0.05343447890054655, 'n_units_l38': 256, 'activation_l38': 'ELU', 'dropout_l38': 0.010320113804501096, 'batch_norm_l38': False, 'l2_reg_l38': 1.2037768927460529e-05, 'n_units_l39': 16, 'activation_l39': 'ELU', 'dropout_l39': 0.4482473127595461, 'batch_norm_l39': False, 'l2_reg_l39': 1.420664278683131e-05, 'n_units_l40': 16, 'activation_l40': 'Tanh', 'dropout_l40': 0.4762583311129515, 'batch_norm_l40': False, 'l2_reg_l40': 0.04258213129724959, 'n_units_l41': 32, 'activation_l41': 'ReLU', 'dropout_l41': 0.4970826418600452, 'batch_norm_l41': False, 'l2_reg_l41': 1.1155879899495038e-05, 'optimizer': 'SGD', 'lr': 0.03901255798922031, 'sgd_momentum': 0.5747883201639584, 'epochs': 787, 'batch_size': 512, 'early_stopping_patience': 38, 'lr_reduce_factor': 0.596006114978506, 'lr_reduce_patience': 25, 'min_lr': 3.684973031192456e-06}. Best is trial 113 with value: 0.28562170123798375.\u001b[0m\n"
     ]
    },
    {
     "name": "stdout",
     "output_type": "stream",
     "text": [
      "Early stopping\n",
      "Trial 124 completado. Mejor pérdida en validación: 0.6281354196951546\n",
      "Usando GPU para el Trial 125\n",
      "Entrenando Trial 125...\n"
     ]
    },
    {
     "name": "stderr",
     "output_type": "stream",
     "text": [
      "                                                              \r"
     ]
    },
    {
     "name": "stdout",
     "output_type": "stream",
     "text": [
      "Epoch   170: reducing learning rate of group 0 to 3.0335e-02.\n"
     ]
    },
    {
     "name": "stderr",
     "output_type": "stream",
     "text": [
      "                                                              \r"
     ]
    },
    {
     "name": "stdout",
     "output_type": "stream",
     "text": [
      "Epoch   233: reducing learning rate of group 0 to 1.7517e-02.\n"
     ]
    },
    {
     "name": "stderr",
     "output_type": "stream",
     "text": [
      "\u001b[32m[I 2023-12-06 13:41:07,002]\u001b[0m Trial 125 finished with value: 0.3099984709555668 and parameters: {'n_layers': 26, 'n_units_l0': 512, 'activation_l0': 'SELU', 'dropout_l0': 0.09414506112815582, 'batch_norm_l0': False, 'l2_reg_l0': 0.0006250047569178717, 'n_units_l1': 2048, 'activation_l1': 'LeakyReLU', 'dropout_l1': 0.3806661032071209, 'batch_norm_l1': False, 'l2_reg_l1': 0.06468993433164699, 'leakyrelu_alpha_l1': 0.017985931689612055, 'n_units_l2': 64, 'activation_l2': 'ReLU', 'dropout_l2': 0.2710861341795878, 'batch_norm_l2': True, 'l2_reg_l2': 0.004710332928280525, 'n_units_l3': 2048, 'activation_l3': 'ELU', 'dropout_l3': 0.07529072570850931, 'batch_norm_l3': False, 'l2_reg_l3': 0.0002052148370158811, 'n_units_l4': 1024, 'activation_l4': 'SELU', 'dropout_l4': 0.45049358680949303, 'batch_norm_l4': True, 'l2_reg_l4': 0.010122062322432776, 'n_units_l5': 16, 'activation_l5': 'SELU', 'dropout_l5': 0.01936906492993102, 'batch_norm_l5': True, 'l2_reg_l5': 9.552890976253345e-05, 'n_units_l6': 32, 'activation_l6': 'LeakyReLU', 'dropout_l6': 0.05199752615627104, 'batch_norm_l6': False, 'l2_reg_l6': 1.2627505217782263e-05, 'leakyrelu_alpha_l6': 0.05684428641557537, 'n_units_l7': 16, 'activation_l7': 'SELU', 'dropout_l7': 0.06359686553574372, 'batch_norm_l7': True, 'l2_reg_l7': 0.0017187384745791102, 'n_units_l8': 512, 'activation_l8': 'Tanh', 'dropout_l8': 0.11242566974192401, 'batch_norm_l8': False, 'l2_reg_l8': 0.00033640553656239794, 'n_units_l9': 2048, 'activation_l9': 'SELU', 'dropout_l9': 0.2871193043254828, 'batch_norm_l9': True, 'l2_reg_l9': 0.00032635358127296215, 'n_units_l10': 512, 'activation_l10': 'LeakyReLU', 'dropout_l10': 0.19030059118978912, 'batch_norm_l10': True, 'l2_reg_l10': 2.2458726786593494e-05, 'leakyrelu_alpha_l10': 0.20828674633155758, 'n_units_l11': 64, 'activation_l11': 'Tanh', 'dropout_l11': 0.39723437625733166, 'batch_norm_l11': True, 'l2_reg_l11': 0.031465436549165775, 'n_units_l12': 32, 'activation_l12': 'Tanh', 'dropout_l12': 0.06305197203286886, 'batch_norm_l12': True, 'l2_reg_l12': 8.899816793510826e-05, 'n_units_l13': 512, 'activation_l13': 'Tanh', 'dropout_l13': 0.04829712764547078, 'batch_norm_l13': False, 'l2_reg_l13': 1.632591631118774e-05, 'n_units_l14': 16, 'activation_l14': 'ELU', 'dropout_l14': 0.29855493074735756, 'batch_norm_l14': False, 'l2_reg_l14': 0.05359342867286479, 'n_units_l15': 256, 'activation_l15': 'LeakyReLU', 'dropout_l15': 0.26082340834900775, 'batch_norm_l15': True, 'l2_reg_l15': 0.02614289992731582, 'leakyrelu_alpha_l15': 0.22363332537156022, 'n_units_l16': 512, 'activation_l16': 'ELU', 'dropout_l16': 0.23644326092941167, 'batch_norm_l16': False, 'l2_reg_l16': 1.9641212924778466e-05, 'n_units_l17': 256, 'activation_l17': 'LeakyReLU', 'dropout_l17': 0.1354490236233442, 'batch_norm_l17': True, 'l2_reg_l17': 0.0015652344498379171, 'leakyrelu_alpha_l17': 0.22747053461133676, 'n_units_l18': 32, 'activation_l18': 'ELU', 'dropout_l18': 0.08064464587705758, 'batch_norm_l18': False, 'l2_reg_l18': 0.05055384927296132, 'n_units_l19': 128, 'activation_l19': 'ELU', 'dropout_l19': 0.24116313277745666, 'batch_norm_l19': False, 'l2_reg_l19': 4.009659997898271e-05, 'n_units_l20': 256, 'activation_l20': 'SELU', 'dropout_l20': 0.2423552078068694, 'batch_norm_l20': False, 'l2_reg_l20': 0.0001710171268978969, 'n_units_l21': 1024, 'activation_l21': 'LeakyReLU', 'dropout_l21': 0.45800359136457, 'batch_norm_l21': True, 'l2_reg_l21': 0.009075582350561348, 'leakyrelu_alpha_l21': 0.25517101258227887, 'n_units_l22': 2048, 'activation_l22': 'Tanh', 'dropout_l22': 0.22586545515897, 'batch_norm_l22': True, 'l2_reg_l22': 0.058243300690478124, 'n_units_l23': 2048, 'activation_l23': 'LeakyReLU', 'dropout_l23': 0.026387677514733816, 'batch_norm_l23': True, 'l2_reg_l23': 3.416017228542756e-05, 'leakyrelu_alpha_l23': 0.03612892821260457, 'n_units_l24': 128, 'activation_l24': 'SELU', 'dropout_l24': 0.07077348097223046, 'batch_norm_l24': True, 'l2_reg_l24': 0.045390763994263596, 'n_units_l25': 16, 'activation_l25': 'SELU', 'dropout_l25': 0.35130914326590434, 'batch_norm_l25': True, 'l2_reg_l25': 0.00048636486271402856, 'optimizer': 'SGD', 'lr': 0.05253281836173664, 'sgd_momentum': 0.6402642285528632, 'epochs': 460, 'batch_size': 512, 'early_stopping_patience': 45, 'lr_reduce_factor': 0.5774534467075109, 'lr_reduce_patience': 25, 'min_lr': 4.488916552797771e-06}. Best is trial 113 with value: 0.28562170123798375.\u001b[0m\n"
     ]
    },
    {
     "name": "stdout",
     "output_type": "stream",
     "text": [
      "Early stopping\n",
      "Trial 125 completado. Mejor pérdida en validación: 0.3099984709555668\n",
      "Usando GPU para el Trial 126\n",
      "Entrenando Trial 126...\n"
     ]
    },
    {
     "name": "stderr",
     "output_type": "stream",
     "text": [
      "                                                               \r"
     ]
    },
    {
     "name": "stdout",
     "output_type": "stream",
     "text": [
      "Epoch    37: reducing learning rate of group 0 to 5.2115e-02.\n"
     ]
    },
    {
     "name": "stderr",
     "output_type": "stream",
     "text": [
      "\u001b[32m[I 2023-12-06 13:45:12,167]\u001b[0m Trial 126 finished with value: 0.6277349890282472 and parameters: {'n_layers': 50, 'n_units_l0': 512, 'activation_l0': 'SELU', 'dropout_l0': 0.07591496646315368, 'batch_norm_l0': False, 'l2_reg_l0': 0.0007823845977137594, 'n_units_l1': 2048, 'activation_l1': 'LeakyReLU', 'dropout_l1': 0.3421522328307831, 'batch_norm_l1': False, 'l2_reg_l1': 0.05173463031808043, 'leakyrelu_alpha_l1': 0.03981492311066565, 'n_units_l2': 64, 'activation_l2': 'ReLU', 'dropout_l2': 0.3028834138348142, 'batch_norm_l2': True, 'l2_reg_l2': 0.003834172917416049, 'n_units_l3': 16, 'activation_l3': 'ELU', 'dropout_l3': 0.0556586394618488, 'batch_norm_l3': False, 'l2_reg_l3': 0.00016462252477700046, 'n_units_l4': 256, 'activation_l4': 'SELU', 'dropout_l4': 0.4195376529938923, 'batch_norm_l4': True, 'l2_reg_l4': 0.005919563781217712, 'n_units_l5': 16, 'activation_l5': 'SELU', 'dropout_l5': 0.026765563622209852, 'batch_norm_l5': True, 'l2_reg_l5': 0.0001334225299784098, 'n_units_l6': 2048, 'activation_l6': 'LeakyReLU', 'dropout_l6': 0.03180997420307836, 'batch_norm_l6': False, 'l2_reg_l6': 2.118302968294363e-05, 'leakyrelu_alpha_l6': 0.030159399419043338, 'n_units_l7': 16, 'activation_l7': 'SELU', 'dropout_l7': 0.10056161659955898, 'batch_norm_l7': True, 'l2_reg_l7': 0.002853148403422591, 'n_units_l8': 128, 'activation_l8': 'Tanh', 'dropout_l8': 0.09142348080177362, 'batch_norm_l8': False, 'l2_reg_l8': 0.00045005993358957885, 'n_units_l9': 64, 'activation_l9': 'SELU', 'dropout_l9': 0.3047888996296077, 'batch_norm_l9': True, 'l2_reg_l9': 0.00021643440013810496, 'n_units_l10': 128, 'activation_l10': 'LeakyReLU', 'dropout_l10': 0.2117267580239336, 'batch_norm_l10': True, 'l2_reg_l10': 3.953191458133616e-05, 'leakyrelu_alpha_l10': 0.26784342050521587, 'n_units_l11': 16, 'activation_l11': 'Tanh', 'dropout_l11': 0.3832158982997199, 'batch_norm_l11': True, 'l2_reg_l11': 0.040987960050765555, 'n_units_l12': 2048, 'activation_l12': 'Tanh', 'dropout_l12': 0.07753701142396535, 'batch_norm_l12': True, 'l2_reg_l12': 0.00013501560454972673, 'n_units_l13': 256, 'activation_l13': 'SELU', 'dropout_l13': 0.0732371265089472, 'batch_norm_l13': True, 'l2_reg_l13': 1.0258333117884875e-05, 'n_units_l14': 16, 'activation_l14': 'ELU', 'dropout_l14': 0.30573871197030267, 'batch_norm_l14': True, 'l2_reg_l14': 0.07066586867696936, 'n_units_l15': 256, 'activation_l15': 'SELU', 'dropout_l15': 0.23635592796592098, 'batch_norm_l15': False, 'l2_reg_l15': 0.0682076017349994, 'n_units_l16': 128, 'activation_l16': 'ELU', 'dropout_l16': 0.26011145805268354, 'batch_norm_l16': False, 'l2_reg_l16': 3.468037317965303e-05, 'n_units_l17': 2048, 'activation_l17': 'Tanh', 'dropout_l17': 0.14328790885091258, 'batch_norm_l17': True, 'l2_reg_l17': 0.0008498553234452961, 'n_units_l18': 32, 'activation_l18': 'ELU', 'dropout_l18': 0.07428058656970245, 'batch_norm_l18': False, 'l2_reg_l18': 0.07474650374810528, 'n_units_l19': 1024, 'activation_l19': 'SELU', 'dropout_l19': 0.27387143864195684, 'batch_norm_l19': False, 'l2_reg_l19': 5.757072599139569e-05, 'n_units_l20': 256, 'activation_l20': 'Tanh', 'dropout_l20': 0.17471355030947058, 'batch_norm_l20': False, 'l2_reg_l20': 5.490231516295818e-05, 'n_units_l21': 1024, 'activation_l21': 'LeakyReLU', 'dropout_l21': 0.4699374275060112, 'batch_norm_l21': True, 'l2_reg_l21': 0.006732544923865531, 'leakyrelu_alpha_l21': 0.23772178306235486, 'n_units_l22': 32, 'activation_l22': 'Tanh', 'dropout_l22': 0.258885637561296, 'batch_norm_l22': True, 'l2_reg_l22': 0.03811481545975815, 'n_units_l23': 2048, 'activation_l23': 'LeakyReLU', 'dropout_l23': 0.08849952906323977, 'batch_norm_l23': True, 'l2_reg_l23': 4.652686167795512e-05, 'leakyrelu_alpha_l23': 0.05702813858862947, 'n_units_l24': 128, 'activation_l24': 'SELU', 'dropout_l24': 0.10199920778112381, 'batch_norm_l24': True, 'l2_reg_l24': 0.0028297532448986347, 'n_units_l25': 512, 'activation_l25': 'SELU', 'dropout_l25': 0.40072752974333115, 'batch_norm_l25': True, 'l2_reg_l25': 0.001298749681003449, 'n_units_l26': 256, 'activation_l26': 'LeakyReLU', 'dropout_l26': 0.44517518372331116, 'batch_norm_l26': True, 'l2_reg_l26': 0.014716060280841789, 'leakyrelu_alpha_l26': 0.15892667062283844, 'n_units_l27': 1024, 'activation_l27': 'ELU', 'dropout_l27': 0.36910270370014125, 'batch_norm_l27': True, 'l2_reg_l27': 0.0338438539552546, 'n_units_l28': 64, 'activation_l28': 'Tanh', 'dropout_l28': 0.4228312519128397, 'batch_norm_l28': True, 'l2_reg_l28': 0.0004596164162508186, 'n_units_l29': 512, 'activation_l29': 'Tanh', 'dropout_l29': 0.08681069976155203, 'batch_norm_l29': True, 'l2_reg_l29': 0.00017003798501614875, 'n_units_l30': 64, 'activation_l30': 'SELU', 'dropout_l30': 0.18031387760560597, 'batch_norm_l30': False, 'l2_reg_l30': 0.0017098499225054547, 'n_units_l31': 1024, 'activation_l31': 'LeakyReLU', 'dropout_l31': 0.09299712894174506, 'batch_norm_l31': False, 'l2_reg_l31': 0.0009083198276747425, 'leakyrelu_alpha_l31': 0.014297430617925572, 'n_units_l32': 256, 'activation_l32': 'ELU', 'dropout_l32': 0.0195105036245925, 'batch_norm_l32': True, 'l2_reg_l32': 0.002486490107650268, 'n_units_l33': 64, 'activation_l33': 'SELU', 'dropout_l33': 0.3197017432263905, 'batch_norm_l33': True, 'l2_reg_l33': 0.0001981008256149711, 'n_units_l34': 512, 'activation_l34': 'Tanh', 'dropout_l34': 0.33342669360042326, 'batch_norm_l34': True, 'l2_reg_l34': 0.0013224624742373785, 'n_units_l35': 64, 'activation_l35': 'Tanh', 'dropout_l35': 0.23297087003647673, 'batch_norm_l35': False, 'l2_reg_l35': 0.0696468620623499, 'n_units_l36': 512, 'activation_l36': 'Tanh', 'dropout_l36': 0.16946720843933433, 'batch_norm_l36': True, 'l2_reg_l36': 0.0011304472275482003, 'n_units_l37': 128, 'activation_l37': 'ReLU', 'dropout_l37': 0.2877148255985588, 'batch_norm_l37': False, 'l2_reg_l37': 0.004413271265841042, 'n_units_l38': 512, 'activation_l38': 'ReLU', 'dropout_l38': 0.4901796752169335, 'batch_norm_l38': False, 'l2_reg_l38': 0.0009731786982073329, 'n_units_l39': 1024, 'activation_l39': 'Tanh', 'dropout_l39': 0.12647029370898416, 'batch_norm_l39': False, 'l2_reg_l39': 0.0097374885858408, 'n_units_l40': 512, 'activation_l40': 'ELU', 'dropout_l40': 0.12269448999096183, 'batch_norm_l40': True, 'l2_reg_l40': 1.0711479573409865e-05, 'n_units_l41': 16, 'activation_l41': 'ELU', 'dropout_l41': 0.018892882359717034, 'batch_norm_l41': True, 'l2_reg_l41': 0.005227074358196756, 'n_units_l42': 256, 'activation_l42': 'ELU', 'dropout_l42': 0.45033595275814986, 'batch_norm_l42': False, 'l2_reg_l42': 0.05517616038391018, 'n_units_l43': 32, 'activation_l43': 'SELU', 'dropout_l43': 0.010486144969260647, 'batch_norm_l43': True, 'l2_reg_l43': 0.03310993737116086, 'n_units_l44': 16, 'activation_l44': 'LeakyReLU', 'dropout_l44': 0.4704773595744781, 'batch_norm_l44': False, 'l2_reg_l44': 0.08818842374964059, 'leakyrelu_alpha_l44': 0.2763471456034553, 'n_units_l45': 64, 'activation_l45': 'SELU', 'dropout_l45': 0.49312473995661055, 'batch_norm_l45': True, 'l2_reg_l45': 1.2252652002168805e-05, 'n_units_l46': 128, 'activation_l46': 'Tanh', 'dropout_l46': 0.4973531555300943, 'batch_norm_l46': True, 'l2_reg_l46': 1.503229466479211e-05, 'n_units_l47': 16, 'activation_l47': 'LeakyReLU', 'dropout_l47': 0.49716324883838675, 'batch_norm_l47': True, 'l2_reg_l47': 1.1828688350712679e-05, 'leakyrelu_alpha_l47': 0.14519986909213375, 'n_units_l48': 128, 'activation_l48': 'Tanh', 'dropout_l48': 0.49852698144116586, 'batch_norm_l48': True, 'l2_reg_l48': 0.07735583951708908, 'n_units_l49': 1024, 'activation_l49': 'ReLU', 'dropout_l49': 0.34740856071733706, 'batch_norm_l49': False, 'l2_reg_l49': 0.00027470702029589665, 'optimizer': 'SGD', 'lr': 0.09660434216792872, 'sgd_momentum': 0.6513490824219947, 'epochs': 608, 'batch_size': 128, 'early_stopping_patience': 40, 'lr_reduce_factor': 0.5394710235265874, 'lr_reduce_patience': 24, 'min_lr': 5.104238284543954e-06}. Best is trial 113 with value: 0.28562170123798375.\u001b[0m\n"
     ]
    },
    {
     "name": "stdout",
     "output_type": "stream",
     "text": [
      "Early stopping\n",
      "Trial 126 completado. Mejor pérdida en validación: 0.6277349890282472\n",
      "Usando GPU para el Trial 127\n",
      "Entrenando Trial 127...\n"
     ]
    },
    {
     "name": "stderr",
     "output_type": "stream",
     "text": [
      "                                                                \r"
     ]
    },
    {
     "name": "stdout",
     "output_type": "stream",
     "text": [
      "Epoch   103: reducing learning rate of group 0 to 3.9604e-02.\n"
     ]
    },
    {
     "name": "stderr",
     "output_type": "stream",
     "text": [
      "                                                                \r"
     ]
    },
    {
     "name": "stdout",
     "output_type": "stream",
     "text": [
      "Epoch   149: reducing learning rate of group 0 to 2.2142e-02.\n"
     ]
    },
    {
     "name": "stderr",
     "output_type": "stream",
     "text": [
      "                                                                \r"
     ]
    },
    {
     "name": "stdout",
     "output_type": "stream",
     "text": [
      "Epoch   182: reducing learning rate of group 0 to 1.2379e-02.\n"
     ]
    },
    {
     "name": "stderr",
     "output_type": "stream",
     "text": [
      "                                                                \r"
     ]
    },
    {
     "name": "stdout",
     "output_type": "stream",
     "text": [
      "Epoch   205: reducing learning rate of group 0 to 6.9206e-03.\n"
     ]
    },
    {
     "name": "stderr",
     "output_type": "stream",
     "text": [
      "                                                                \r"
     ]
    },
    {
     "name": "stdout",
     "output_type": "stream",
     "text": [
      "Epoch   244: reducing learning rate of group 0 to 3.8691e-03.\n"
     ]
    },
    {
     "name": "stderr",
     "output_type": "stream",
     "text": [
      "\u001b[32m[I 2023-12-06 13:57:28,482]\u001b[0m Trial 127 finished with value: 0.30339419785173893 and parameters: {'n_layers': 27, 'n_units_l0': 512, 'activation_l0': 'Tanh', 'dropout_l0': 0.08468792249950191, 'batch_norm_l0': False, 'l2_reg_l0': 0.0010312875394241161, 'n_units_l1': 2048, 'activation_l1': 'LeakyReLU', 'dropout_l1': 0.3911410041175172, 'batch_norm_l1': False, 'l2_reg_l1': 0.04335686231565798, 'leakyrelu_alpha_l1': 0.030191517979360465, 'n_units_l2': 2048, 'activation_l2': 'ReLU', 'dropout_l2': 0.23747200113052142, 'batch_norm_l2': True, 'l2_reg_l2': 0.0028019187186619676, 'n_units_l3': 2048, 'activation_l3': 'ELU', 'dropout_l3': 0.042812545962825535, 'batch_norm_l3': False, 'l2_reg_l3': 0.00012305818461838533, 'n_units_l4': 1024, 'activation_l4': 'SELU', 'dropout_l4': 0.45775020546515316, 'batch_norm_l4': True, 'l2_reg_l4': 0.004211434440685741, 'n_units_l5': 16, 'activation_l5': 'SELU', 'dropout_l5': 0.008852172509775966, 'batch_norm_l5': True, 'l2_reg_l5': 0.0001767169061716978, 'n_units_l6': 32, 'activation_l6': 'LeakyReLU', 'dropout_l6': 0.026933612288628832, 'batch_norm_l6': False, 'l2_reg_l6': 1.0391366154697326e-05, 'leakyrelu_alpha_l6': 0.02897793541342311, 'n_units_l7': 1024, 'activation_l7': 'SELU', 'dropout_l7': 0.07915537013400367, 'batch_norm_l7': True, 'l2_reg_l7': 0.0023145398331646154, 'n_units_l8': 512, 'activation_l8': 'Tanh', 'dropout_l8': 0.12929684704341143, 'batch_norm_l8': False, 'l2_reg_l8': 0.0007147404249859896, 'n_units_l9': 256, 'activation_l9': 'LeakyReLU', 'dropout_l9': 0.2829042801222773, 'batch_norm_l9': True, 'l2_reg_l9': 8.472365386858908e-05, 'leakyrelu_alpha_l9': 0.28259810241654926, 'n_units_l10': 64, 'activation_l10': 'ELU', 'dropout_l10': 0.1632661124076193, 'batch_norm_l10': True, 'l2_reg_l10': 2.6915536237222976e-05, 'n_units_l11': 32, 'activation_l11': 'ELU', 'dropout_l11': 0.4131455945116853, 'batch_norm_l11': True, 'l2_reg_l11': 0.016973635844792112, 'n_units_l12': 16, 'activation_l12': 'Tanh', 'dropout_l12': 0.03781865728709562, 'batch_norm_l12': True, 'l2_reg_l12': 0.00016114087814514625, 'n_units_l13': 16, 'activation_l13': 'Tanh', 'dropout_l13': 0.04713263725847464, 'batch_norm_l13': True, 'l2_reg_l13': 2.5637082696527444e-05, 'n_units_l14': 256, 'activation_l14': 'ELU', 'dropout_l14': 0.2833379456834458, 'batch_norm_l14': True, 'l2_reg_l14': 0.05375027981857633, 'n_units_l15': 256, 'activation_l15': 'SELU', 'dropout_l15': 0.270941191163625, 'batch_norm_l15': False, 'l2_reg_l15': 0.03971608682654247, 'n_units_l16': 32, 'activation_l16': 'SELU', 'dropout_l16': 0.2897016266972894, 'batch_norm_l16': False, 'l2_reg_l16': 1.3184654072022734e-05, 'n_units_l17': 512, 'activation_l17': 'LeakyReLU', 'dropout_l17': 0.16945615201283037, 'batch_norm_l17': True, 'l2_reg_l17': 0.0012848225134922218, 'leakyrelu_alpha_l17': 0.20097562859770673, 'n_units_l18': 256, 'activation_l18': 'ReLU', 'dropout_l18': 0.15812877839021403, 'batch_norm_l18': False, 'l2_reg_l18': 0.03916387301193632, 'n_units_l19': 16, 'activation_l19': 'LeakyReLU', 'dropout_l19': 0.30369348490376996, 'batch_norm_l19': False, 'l2_reg_l19': 2.2301851050024045e-05, 'leakyrelu_alpha_l19': 0.07861456238023642, 'n_units_l20': 32, 'activation_l20': 'ReLU', 'dropout_l20': 0.25851644332625023, 'batch_norm_l20': False, 'l2_reg_l20': 9.160522603371227e-05, 'n_units_l21': 64, 'activation_l21': 'LeakyReLU', 'dropout_l21': 0.454511110653404, 'batch_norm_l21': True, 'l2_reg_l21': 0.014656574462502158, 'leakyrelu_alpha_l21': 0.2619613327844831, 'n_units_l22': 16, 'activation_l22': 'Tanh', 'dropout_l22': 0.2726473893008692, 'batch_norm_l22': True, 'l2_reg_l22': 0.0648150622747771, 'n_units_l23': 2048, 'activation_l23': 'ELU', 'dropout_l23': 0.03144118522007924, 'batch_norm_l23': True, 'l2_reg_l23': 2.384660496929046e-05, 'n_units_l24': 2048, 'activation_l24': 'SELU', 'dropout_l24': 0.03267531108354684, 'batch_norm_l24': True, 'l2_reg_l24': 0.008197678721558514, 'n_units_l25': 32, 'activation_l25': 'Tanh', 'dropout_l25': 0.28022260361679713, 'batch_norm_l25': True, 'l2_reg_l25': 0.0035309473367992044, 'n_units_l26': 256, 'activation_l26': 'LeakyReLU', 'dropout_l26': 0.40555669259938415, 'batch_norm_l26': True, 'l2_reg_l26': 0.09894330539346591, 'leakyrelu_alpha_l26': 0.26357609442439883, 'optimizer': 'SGD', 'lr': 0.07083908286034511, 'sgd_momentum': 0.6715771066373405, 'epochs': 522, 'batch_size': 128, 'early_stopping_patience': 43, 'lr_reduce_factor': 0.5590714731936288, 'lr_reduce_patience': 21, 'min_lr': 3.992312159325362e-06}. Best is trial 113 with value: 0.28562170123798375.\u001b[0m\n"
     ]
    },
    {
     "name": "stdout",
     "output_type": "stream",
     "text": [
      "Early stopping\n",
      "Trial 127 completado. Mejor pérdida en validación: 0.30339419785173893\n",
      "Usando GPU para el Trial 128\n",
      "Entrenando Trial 128...\n"
     ]
    },
    {
     "name": "stderr",
     "output_type": "stream",
     "text": [
      "                                                              \r"
     ]
    },
    {
     "name": "stdout",
     "output_type": "stream",
     "text": [
      "Epoch   146: reducing learning rate of group 0 to 2.4762e-02.\n"
     ]
    },
    {
     "name": "stderr",
     "output_type": "stream",
     "text": [
      "                                                              \r"
     ]
    },
    {
     "name": "stdout",
     "output_type": "stream",
     "text": [
      "Epoch   172: reducing learning rate of group 0 to 1.2466e-02.\n"
     ]
    },
    {
     "name": "stderr",
     "output_type": "stream",
     "text": [
      "\u001b[32m[I 2023-12-06 13:59:00,576]\u001b[0m Trial 128 finished with value: 0.3854637307923567 and parameters: {'n_layers': 29, 'n_units_l0': 512, 'activation_l0': 'SELU', 'dropout_l0': 0.1259343645269776, 'batch_norm_l0': False, 'l2_reg_l0': 0.001541317573993743, 'n_units_l1': 128, 'activation_l1': 'LeakyReLU', 'dropout_l1': 0.38245458131760046, 'batch_norm_l1': False, 'l2_reg_l1': 0.09991760506046228, 'leakyrelu_alpha_l1': 0.05817053652927649, 'n_units_l2': 32, 'activation_l2': 'ReLU', 'dropout_l2': 0.2922639486548619, 'batch_norm_l2': True, 'l2_reg_l2': 0.004644778564247893, 'n_units_l3': 64, 'activation_l3': 'SELU', 'dropout_l3': 0.008622680112800905, 'batch_norm_l3': False, 'l2_reg_l3': 0.0001950653338599544, 'n_units_l4': 128, 'activation_l4': 'SELU', 'dropout_l4': 0.4024976785228902, 'batch_norm_l4': True, 'l2_reg_l4': 0.009826285877145154, 'n_units_l5': 64, 'activation_l5': 'SELU', 'dropout_l5': 0.05203018789067397, 'batch_norm_l5': True, 'l2_reg_l5': 0.00016285874316850765, 'n_units_l6': 128, 'activation_l6': 'LeakyReLU', 'dropout_l6': 0.04325692886871849, 'batch_norm_l6': False, 'l2_reg_l6': 1.5160250716851437e-05, 'leakyrelu_alpha_l6': 0.06145117734332842, 'n_units_l7': 64, 'activation_l7': 'SELU', 'dropout_l7': 0.06025889649589471, 'batch_norm_l7': True, 'l2_reg_l7': 0.0014882221755157066, 'n_units_l8': 16, 'activation_l8': 'Tanh', 'dropout_l8': 0.1114994939343634, 'batch_norm_l8': False, 'l2_reg_l8': 0.0009599273312226956, 'n_units_l9': 2048, 'activation_l9': 'ELU', 'dropout_l9': 0.2585024724266935, 'batch_norm_l9': True, 'l2_reg_l9': 0.00038999990799110855, 'n_units_l10': 512, 'activation_l10': 'LeakyReLU', 'dropout_l10': 0.20410965318312335, 'batch_norm_l10': True, 'l2_reg_l10': 7.610387355779012e-05, 'leakyrelu_alpha_l10': 0.2406132140775335, 'n_units_l11': 64, 'activation_l11': 'Tanh', 'dropout_l11': 0.40431690676560883, 'batch_norm_l11': True, 'l2_reg_l11': 0.026439796554574745, 'n_units_l12': 512, 'activation_l12': 'Tanh', 'dropout_l12': 0.059385284199352524, 'batch_norm_l12': True, 'l2_reg_l12': 0.00021927687090443238, 'n_units_l13': 1024, 'activation_l13': 'ReLU', 'dropout_l13': 0.09868887751398933, 'batch_norm_l13': True, 'l2_reg_l13': 1.717943015001465e-05, 'n_units_l14': 32, 'activation_l14': 'Tanh', 'dropout_l14': 0.34665320161501617, 'batch_norm_l14': True, 'l2_reg_l14': 0.07796454798479449, 'n_units_l15': 256, 'activation_l15': 'LeakyReLU', 'dropout_l15': 0.25881054333673364, 'batch_norm_l15': False, 'l2_reg_l15': 0.0174262796685796, 'leakyrelu_alpha_l15': 0.2892624381010799, 'n_units_l16': 32, 'activation_l16': 'ELU', 'dropout_l16': 0.2375823472949202, 'batch_norm_l16': True, 'l2_reg_l16': 1.0023795479596338e-05, 'n_units_l17': 1024, 'activation_l17': 'ELU', 'dropout_l17': 0.10602815136938448, 'batch_norm_l17': True, 'l2_reg_l17': 0.0020049798913312905, 'n_units_l18': 512, 'activation_l18': 'Tanh', 'dropout_l18': 0.12513028116646904, 'batch_norm_l18': False, 'l2_reg_l18': 0.029409011362406336, 'n_units_l19': 64, 'activation_l19': 'LeakyReLU', 'dropout_l19': 0.3405440344000655, 'batch_norm_l19': False, 'l2_reg_l19': 3.5512082825606374e-05, 'leakyrelu_alpha_l19': 0.17270111004697494, 'n_units_l20': 16, 'activation_l20': 'ELU', 'dropout_l20': 0.1376533334476226, 'batch_norm_l20': False, 'l2_reg_l20': 0.00028240596754384474, 'n_units_l21': 1024, 'activation_l21': 'LeakyReLU', 'dropout_l21': 0.38928997636333357, 'batch_norm_l21': True, 'l2_reg_l21': 0.010644021639821307, 'leakyrelu_alpha_l21': 0.28129019791097026, 'n_units_l22': 256, 'activation_l22': 'SELU', 'dropout_l22': 0.2439618246639168, 'batch_norm_l22': True, 'l2_reg_l22': 0.03566460906995378, 'n_units_l23': 128, 'activation_l23': 'LeakyReLU', 'dropout_l23': 0.05472701266711125, 'batch_norm_l23': True, 'l2_reg_l23': 8.165696183776181e-05, 'leakyrelu_alpha_l23': 0.02751323695497413, 'n_units_l24': 1024, 'activation_l24': 'SELU', 'dropout_l24': 0.06969693099675285, 'batch_norm_l24': True, 'l2_reg_l24': 0.016497057778223165, 'n_units_l25': 512, 'activation_l25': 'SELU', 'dropout_l25': 0.4230300351709234, 'batch_norm_l25': True, 'l2_reg_l25': 0.010183085062202404, 'n_units_l26': 64, 'activation_l26': 'Tanh', 'dropout_l26': 0.33164062036939246, 'batch_norm_l26': True, 'l2_reg_l26': 0.007258719878606885, 'n_units_l27': 512, 'activation_l27': 'SELU', 'dropout_l27': 0.28900459324252425, 'batch_norm_l27': True, 'l2_reg_l27': 0.006345312016232176, 'n_units_l28': 2048, 'activation_l28': 'SELU', 'dropout_l28': 0.2565496729353207, 'batch_norm_l28': True, 'l2_reg_l28': 4.773863297191752e-05, 'optimizer': 'SGD', 'lr': 0.049188164386461036, 'sgd_momentum': 0.6156145619456446, 'epochs': 567, 'batch_size': 2048, 'early_stopping_patience': 36, 'lr_reduce_factor': 0.5034157043733377, 'lr_reduce_patience': 23, 'min_lr': 3.4381969226751602e-06}. Best is trial 113 with value: 0.28562170123798375.\u001b[0m\n"
     ]
    },
    {
     "name": "stdout",
     "output_type": "stream",
     "text": [
      "Early stopping\n",
      "Trial 128 completado. Mejor pérdida en validación: 0.3854637307923567\n",
      "Usando GPU para el Trial 129\n",
      "Entrenando Trial 129...\n"
     ]
    },
    {
     "name": "stderr",
     "output_type": "stream",
     "text": [
      "                                                                 \r"
     ]
    },
    {
     "name": "stdout",
     "output_type": "stream",
     "text": [
      "Epoch   155: reducing learning rate of group 0 to 3.6086e-02.\n"
     ]
    },
    {
     "name": "stderr",
     "output_type": "stream",
     "text": [
      "                                                                 \r"
     ]
    },
    {
     "name": "stdout",
     "output_type": "stream",
     "text": [
      "Epoch   238: reducing learning rate of group 0 to 2.1609e-02.\n"
     ]
    },
    {
     "name": "stderr",
     "output_type": "stream",
     "text": [
      "\u001b[32m[I 2023-12-06 14:07:38,334]\u001b[0m Trial 129 finished with value: 0.30758319969016595 and parameters: {'n_layers': 23, 'n_units_l0': 512, 'activation_l0': 'ReLU', 'dropout_l0': 0.1528790443312314, 'batch_norm_l0': False, 'l2_reg_l0': 0.00045015861794314146, 'n_units_l1': 2048, 'activation_l1': 'LeakyReLU', 'dropout_l1': 0.3571881787167025, 'batch_norm_l1': False, 'l2_reg_l1': 0.08271244013716539, 'leakyrelu_alpha_l1': 0.04357938174613735, 'n_units_l2': 16, 'activation_l2': 'ReLU', 'dropout_l2': 0.32524518042552397, 'batch_norm_l2': True, 'l2_reg_l2': 0.01197450150617088, 'n_units_l3': 16, 'activation_l3': 'ELU', 'dropout_l3': 0.03103589614778849, 'batch_norm_l3': False, 'l2_reg_l3': 0.00010317909209990291, 'n_units_l4': 64, 'activation_l4': 'SELU', 'dropout_l4': 0.4419517435126795, 'batch_norm_l4': True, 'l2_reg_l4': 0.007190518067590697, 'n_units_l5': 256, 'activation_l5': 'SELU', 'dropout_l5': 0.03909311668869171, 'batch_norm_l5': True, 'l2_reg_l5': 0.00013126978090704215, 'n_units_l6': 16, 'activation_l6': 'LeakyReLU', 'dropout_l6': 9.281955976291056e-07, 'batch_norm_l6': False, 'l2_reg_l6': 1.8981995040468587e-05, 'leakyrelu_alpha_l6': 0.05285698758979895, 'n_units_l7': 16, 'activation_l7': 'SELU', 'dropout_l7': 0.03862005177131549, 'batch_norm_l7': True, 'l2_reg_l7': 0.0060754269780996005, 'n_units_l8': 1024, 'activation_l8': 'Tanh', 'dropout_l8': 0.18101120984767935, 'batch_norm_l8': False, 'l2_reg_l8': 0.0017440952958443607, 'n_units_l9': 512, 'activation_l9': 'SELU', 'dropout_l9': 0.29368604029384615, 'batch_norm_l9': True, 'l2_reg_l9': 0.0001777628477948411, 'n_units_l10': 1024, 'activation_l10': 'ReLU', 'dropout_l10': 0.235890891138919, 'batch_norm_l10': True, 'l2_reg_l10': 5.78630352005634e-05, 'n_units_l11': 128, 'activation_l11': 'ReLU', 'dropout_l11': 0.424241827579694, 'batch_norm_l11': False, 'l2_reg_l11': 0.0720164816885824, 'n_units_l12': 64, 'activation_l12': 'ReLU', 'dropout_l12': 0.046224859518852066, 'batch_norm_l12': True, 'l2_reg_l12': 5.537760572640383e-05, 'n_units_l13': 1024, 'activation_l13': 'Tanh', 'dropout_l13': 0.11505158333128508, 'batch_norm_l13': True, 'l2_reg_l13': 5.350886644364228e-05, 'n_units_l14': 64, 'activation_l14': 'ELU', 'dropout_l14': 0.3107322936304112, 'batch_norm_l14': True, 'l2_reg_l14': 0.0992441073800008, 'n_units_l15': 128, 'activation_l15': 'Tanh', 'dropout_l15': 0.24022792457347936, 'batch_norm_l15': False, 'l2_reg_l15': 0.03424518802491472, 'n_units_l16': 512, 'activation_l16': 'LeakyReLU', 'dropout_l16': 0.26836301681323954, 'batch_norm_l16': True, 'l2_reg_l16': 2.3872234304385038e-05, 'leakyrelu_alpha_l16': 0.1621365872670859, 'n_units_l17': 512, 'activation_l17': 'SELU', 'dropout_l17': 0.07678973564719808, 'batch_norm_l17': True, 'l2_reg_l17': 0.0005181836379889285, 'n_units_l18': 32, 'activation_l18': 'ELU', 'dropout_l18': 0.10312241732021922, 'batch_norm_l18': False, 'l2_reg_l18': 0.049458051990402395, 'n_units_l19': 256, 'activation_l19': 'Tanh', 'dropout_l19': 0.26652756693117086, 'batch_norm_l19': False, 'l2_reg_l19': 1.4327679491261163e-05, 'n_units_l20': 128, 'activation_l20': 'ReLU', 'dropout_l20': 0.1931961734872033, 'batch_norm_l20': False, 'l2_reg_l20': 2.412309351104745e-05, 'n_units_l21': 1024, 'activation_l21': 'Tanh', 'dropout_l21': 0.48304587801518517, 'batch_norm_l21': False, 'l2_reg_l21': 0.005423442296416727, 'n_units_l22': 1024, 'activation_l22': 'Tanh', 'dropout_l22': 0.17314512612232325, 'batch_norm_l22': False, 'l2_reg_l22': 0.015251715520494468, 'optimizer': 'SGD', 'lr': 0.060262958507168236, 'sgd_momentum': 0.7199088556363299, 'epochs': 700, 'batch_size': 128, 'early_stopping_patience': 41, 'lr_reduce_factor': 0.5988146352552829, 'lr_reduce_patience': 24, 'min_lr': 2.8180411574069473e-06}. Best is trial 113 with value: 0.28562170123798375.\u001b[0m\n"
     ]
    },
    {
     "name": "stdout",
     "output_type": "stream",
     "text": [
      "Early stopping\n",
      "Trial 129 completado. Mejor pérdida en validación: 0.30758319969016595\n",
      "Usando GPU para el Trial 130\n",
      "Entrenando Trial 130...\n"
     ]
    },
    {
     "name": "stderr",
     "output_type": "stream",
     "text": [
      "                                                                \r"
     ]
    },
    {
     "name": "stdout",
     "output_type": "stream",
     "text": [
      "Epoch    29: reducing learning rate of group 0 to 5.2298e-02.\n"
     ]
    },
    {
     "name": "stderr",
     "output_type": "stream",
     "text": [
      "\u001b[32m[I 2023-12-06 14:09:49,506]\u001b[0m Trial 130 finished with value: 0.6279165720136388 and parameters: {'n_layers': 28, 'n_units_l0': 512, 'activation_l0': 'SELU', 'dropout_l0': 0.055918232627204016, 'batch_norm_l0': False, 'l2_reg_l0': 0.0030019902190313802, 'n_units_l1': 2048, 'activation_l1': 'LeakyReLU', 'dropout_l1': 0.4195659973164046, 'batch_norm_l1': False, 'l2_reg_l1': 0.026968567549841838, 'leakyrelu_alpha_l1': 0.02932477496521378, 'n_units_l2': 64, 'activation_l2': 'ReLU', 'dropout_l2': 0.26473194001259426, 'batch_norm_l2': True, 'l2_reg_l2': 0.007794194495534527, 'n_units_l3': 32, 'activation_l3': 'LeakyReLU', 'dropout_l3': 0.08179536867245385, 'batch_norm_l3': False, 'l2_reg_l3': 0.0002511293059024275, 'leakyrelu_alpha_l3': 0.1520275770037386, 'n_units_l4': 32, 'activation_l4': 'SELU', 'dropout_l4': 0.47909411500129917, 'batch_norm_l4': True, 'l2_reg_l4': 0.014778895141477014, 'n_units_l5': 16, 'activation_l5': 'Tanh', 'dropout_l5': 0.02825385151123193, 'batch_norm_l5': True, 'l2_reg_l5': 0.0003049487552750326, 'n_units_l6': 512, 'activation_l6': 'LeakyReLU', 'dropout_l6': 0.06476447297404109, 'batch_norm_l6': False, 'l2_reg_l6': 2.5399575583446853e-05, 'leakyrelu_alpha_l6': 0.010034020825408427, 'n_units_l7': 1024, 'activation_l7': 'Tanh', 'dropout_l7': 0.08651343384238905, 'batch_norm_l7': True, 'l2_reg_l7': 0.0035938659541019384, 'n_units_l8': 16, 'activation_l8': 'Tanh', 'dropout_l8': 0.20253388399878422, 'batch_norm_l8': False, 'l2_reg_l8': 0.00044099328515215393, 'n_units_l9': 128, 'activation_l9': 'ReLU', 'dropout_l9': 0.23622191409147014, 'batch_norm_l9': True, 'l2_reg_l9': 0.00011818774317941026, 'n_units_l10': 16, 'activation_l10': 'LeakyReLU', 'dropout_l10': 0.18788776138872204, 'batch_norm_l10': True, 'l2_reg_l10': 0.00015212363823478213, 'leakyrelu_alpha_l10': 0.1901133194090681, 'n_units_l11': 256, 'activation_l11': 'SELU', 'dropout_l11': 0.37106118209147887, 'batch_norm_l11': True, 'l2_reg_l11': 0.04855063661204791, 'n_units_l12': 2048, 'activation_l12': 'Tanh', 'dropout_l12': 0.07667964519473645, 'batch_norm_l12': True, 'l2_reg_l12': 0.0001072808328626732, 'n_units_l13': 1024, 'activation_l13': 'ReLU', 'dropout_l13': 0.03322728137519568, 'batch_norm_l13': False, 'l2_reg_l13': 3.658519621620679e-05, 'n_units_l14': 512, 'activation_l14': 'ReLU', 'dropout_l14': 0.2669948543925822, 'batch_norm_l14': False, 'l2_reg_l14': 0.04216918460552199, 'n_units_l15': 64, 'activation_l15': 'ELU', 'dropout_l15': 0.21328951963427023, 'batch_norm_l15': False, 'l2_reg_l15': 0.014104497596444571, 'n_units_l16': 2048, 'activation_l16': 'ELU', 'dropout_l16': 0.20146656592500284, 'batch_norm_l16': False, 'l2_reg_l16': 1.5057347176266693e-05, 'n_units_l17': 128, 'activation_l17': 'ReLU', 'dropout_l17': 0.044785567101767725, 'batch_norm_l17': True, 'l2_reg_l17': 0.000772195447029895, 'n_units_l18': 64, 'activation_l18': 'SELU', 'dropout_l18': 0.0542623724045758, 'batch_norm_l18': False, 'l2_reg_l18': 0.08170829281860023, 'n_units_l19': 1024, 'activation_l19': 'LeakyReLU', 'dropout_l19': 0.2917829315882313, 'batch_norm_l19': False, 'l2_reg_l19': 6.048822506646696e-05, 'leakyrelu_alpha_l19': 0.060984661180133924, 'n_units_l20': 1024, 'activation_l20': 'SELU', 'dropout_l20': 0.27903350862195875, 'batch_norm_l20': True, 'l2_reg_l20': 0.0001397815566028168, 'n_units_l21': 1024, 'activation_l21': 'ELU', 'dropout_l21': 0.41708208298497795, 'batch_norm_l21': True, 'l2_reg_l21': 0.017415790243406764, 'n_units_l22': 128, 'activation_l22': 'Tanh', 'dropout_l22': 0.21988359410826797, 'batch_norm_l22': True, 'l2_reg_l22': 0.0711731673966728, 'n_units_l23': 1024, 'activation_l23': 'Tanh', 'dropout_l23': 0.01961562395109406, 'batch_norm_l23': True, 'l2_reg_l23': 1.540459922009486e-05, 'n_units_l24': 128, 'activation_l24': 'LeakyReLU', 'dropout_l24': 0.029751089995056934, 'batch_norm_l24': True, 'l2_reg_l24': 0.010933066831104706, 'leakyrelu_alpha_l24': 0.01295115300817029, 'n_units_l25': 512, 'activation_l25': 'SELU', 'dropout_l25': 0.34680904404394153, 'batch_norm_l25': True, 'l2_reg_l25': 0.0023938904981820187, 'n_units_l26': 512, 'activation_l26': 'ReLU', 'dropout_l26': 0.2918107321951178, 'batch_norm_l26': True, 'l2_reg_l26': 0.0368950072737889, 'n_units_l27': 2048, 'activation_l27': 'ReLU', 'dropout_l27': 0.42997249997760095, 'batch_norm_l27': True, 'l2_reg_l27': 0.0647731004319632, 'optimizer': 'SGD', 'lr': 0.09976229853503042, 'sgd_momentum': 0.5526070585910743, 'epochs': 339, 'batch_size': 128, 'early_stopping_patience': 39, 'lr_reduce_factor': 0.5242223394179075, 'lr_reduce_patience': 20, 'min_lr': 4.682855757335558e-06}. Best is trial 113 with value: 0.28562170123798375.\u001b[0m\n"
     ]
    },
    {
     "name": "stdout",
     "output_type": "stream",
     "text": [
      "Early stopping\n",
      "Trial 130 completado. Mejor pérdida en validación: 0.6279165720136388\n",
      "Usando GPU para el Trial 131\n",
      "Entrenando Trial 131...\n"
     ]
    },
    {
     "name": "stderr",
     "output_type": "stream",
     "text": [
      "                                                                 \r"
     ]
    },
    {
     "name": "stdout",
     "output_type": "stream",
     "text": [
      "Epoch   175: reducing learning rate of group 0 to 1.9379e-02.\n"
     ]
    },
    {
     "name": "stderr",
     "output_type": "stream",
     "text": [
      "                                                                 \r"
     ]
    },
    {
     "name": "stdout",
     "output_type": "stream",
     "text": [
      "Epoch   228: reducing learning rate of group 0 to 1.1151e-02.\n"
     ]
    },
    {
     "name": "stderr",
     "output_type": "stream",
     "text": [
      "                                                                 \r"
     ]
    },
    {
     "name": "stdout",
     "output_type": "stream",
     "text": [
      "Epoch   261: reducing learning rate of group 0 to 6.4164e-03.\n"
     ]
    },
    {
     "name": "stderr",
     "output_type": "stream",
     "text": [
      "\u001b[32m[I 2023-12-06 14:21:21,969]\u001b[0m Trial 131 finished with value: 0.29896865338315276 and parameters: {'n_layers': 25, 'n_units_l0': 1024, 'activation_l0': 'ReLU', 'dropout_l0': 0.10104117209390612, 'batch_norm_l0': False, 'l2_reg_l0': 0.00035106890408281307, 'n_units_l1': 2048, 'activation_l1': 'LeakyReLU', 'dropout_l1': 0.36924225069408667, 'batch_norm_l1': False, 'l2_reg_l1': 0.034861494178388255, 'leakyrelu_alpha_l1': 0.01620732847911364, 'n_units_l2': 16, 'activation_l2': 'ReLU', 'dropout_l2': 0.2742393436193403, 'batch_norm_l2': True, 'l2_reg_l2': 0.00208163136147848, 'n_units_l3': 256, 'activation_l3': 'Tanh', 'dropout_l3': 0.062089331746658066, 'batch_norm_l3': False, 'l2_reg_l3': 0.0003830580592872591, 'n_units_l4': 128, 'activation_l4': 'SELU', 'dropout_l4': 0.41473453347182654, 'batch_norm_l4': True, 'l2_reg_l4': 0.005412150344656184, 'n_units_l5': 128, 'activation_l5': 'SELU', 'dropout_l5': 0.06281805555071103, 'batch_norm_l5': True, 'l2_reg_l5': 9.190615510078069e-05, 'n_units_l6': 256, 'activation_l6': 'LeakyReLU', 'dropout_l6': 0.00985013495098644, 'batch_norm_l6': True, 'l2_reg_l6': 1.2437409370726292e-05, 'leakyrelu_alpha_l6': 0.04066820741679043, 'n_units_l7': 512, 'activation_l7': 'ELU', 'dropout_l7': 0.11074057619849849, 'batch_norm_l7': True, 'l2_reg_l7': 0.011314313109293865, 'n_units_l8': 512, 'activation_l8': 'ELU', 'dropout_l8': 0.24117551860190534, 'batch_norm_l8': False, 'l2_reg_l8': 0.0002004935066175313, 'n_units_l9': 1024, 'activation_l9': 'Tanh', 'dropout_l9': 0.27517764555951313, 'batch_norm_l9': True, 'l2_reg_l9': 6.617955961248991e-05, 'n_units_l10': 32, 'activation_l10': 'SELU', 'dropout_l10': 0.14146914978972902, 'batch_norm_l10': False, 'l2_reg_l10': 8.924797732998663e-05, 'n_units_l11': 32, 'activation_l11': 'Tanh', 'dropout_l11': 0.43753035782092964, 'batch_norm_l11': True, 'l2_reg_l11': 0.021600789020402404, 'n_units_l12': 512, 'activation_l12': 'Tanh', 'dropout_l12': 0.01944615190327437, 'batch_norm_l12': True, 'l2_reg_l12': 0.0006700786445697462, 'n_units_l13': 128, 'activation_l13': 'ELU', 'dropout_l13': 0.012620504939944543, 'batch_norm_l13': True, 'l2_reg_l13': 1.3495288183041804e-05, 'n_units_l14': 2048, 'activation_l14': 'ELU', 'dropout_l14': 0.293123721226085, 'batch_norm_l14': True, 'l2_reg_l14': 0.0210890341711598, 'n_units_l15': 2048, 'activation_l15': 'SELU', 'dropout_l15': 0.2817549957160788, 'batch_norm_l15': True, 'l2_reg_l15': 0.023488994866952856, 'n_units_l16': 16, 'activation_l16': 'ReLU', 'dropout_l16': 0.25059339665785574, 'batch_norm_l16': True, 'l2_reg_l16': 4.451083389967863e-05, 'n_units_l17': 64, 'activation_l17': 'LeakyReLU', 'dropout_l17': 0.1503600736314242, 'batch_norm_l17': True, 'l2_reg_l17': 0.0018212837290894472, 'leakyrelu_alpha_l17': 0.2551324290829216, 'n_units_l18': 128, 'activation_l18': 'ELU', 'dropout_l18': 0.026536867231918358, 'batch_norm_l18': False, 'l2_reg_l18': 0.01779539845642996, 'n_units_l19': 32, 'activation_l19': 'Tanh', 'dropout_l19': 0.2240765065381995, 'batch_norm_l19': False, 'l2_reg_l19': 2.424722716409915e-05, 'n_units_l20': 512, 'activation_l20': 'ReLU', 'dropout_l20': 0.22502858868781522, 'batch_norm_l20': False, 'l2_reg_l20': 0.0002494294964562981, 'n_units_l21': 1024, 'activation_l21': 'LeakyReLU', 'dropout_l21': 0.4464104864078116, 'batch_norm_l21': True, 'l2_reg_l21': 0.0034976285429596994, 'leakyrelu_alpha_l21': 0.2306307941212289, 'n_units_l22': 256, 'activation_l22': 'ELU', 'dropout_l22': 0.32308737424305684, 'batch_norm_l22': True, 'l2_reg_l22': 0.026947460536532172, 'n_units_l23': 256, 'activation_l23': 'LeakyReLU', 'dropout_l23': 0.10563725853032364, 'batch_norm_l23': True, 'l2_reg_l23': 2.8558064956355897e-05, 'leakyrelu_alpha_l23': 0.03158709401544424, 'n_units_l24': 2048, 'activation_l24': 'Tanh', 'dropout_l24': 0.06506217923305169, 'batch_norm_l24': True, 'l2_reg_l24': 0.004752670003257996, 'optimizer': 'SGD', 'lr': 0.03367828495196943, 'sgd_momentum': 0.5872075261350825, 'epochs': 379, 'batch_size': 128, 'early_stopping_patience': 47, 'lr_reduce_factor': 0.5754131931718437, 'lr_reduce_patience': 27, 'min_lr': 5.389600185745686e-06}. Best is trial 113 with value: 0.28562170123798375.\u001b[0m\n"
     ]
    },
    {
     "name": "stdout",
     "output_type": "stream",
     "text": [
      "Early stopping\n",
      "Trial 131 completado. Mejor pérdida en validación: 0.29896865338315276\n",
      "Usando GPU para el Trial 132\n",
      "Entrenando Trial 132...\n"
     ]
    },
    {
     "name": "stderr",
     "output_type": "stream",
     "text": [
      "                                                                 \r"
     ]
    },
    {
     "name": "stdout",
     "output_type": "stream",
     "text": [
      "Epoch    27: reducing learning rate of group 0 to 4.3133e-02.\n"
     ]
    },
    {
     "name": "stderr",
     "output_type": "stream",
     "text": [
      "\u001b[32m[I 2023-12-06 14:39:33,527]\u001b[0m Trial 132 finished with value: 32.15926493108729 and parameters: {'n_layers': 22, 'n_units_l0': 256, 'activation_l0': 'ReLU', 'dropout_l0': 0.07347486941185329, 'batch_norm_l0': False, 'l2_reg_l0': 0.002494966078251637, 'n_units_l1': 2048, 'activation_l1': 'ELU', 'dropout_l1': 0.4063534658667371, 'batch_norm_l1': False, 'l2_reg_l1': 0.054976583625162036, 'n_units_l2': 2048, 'activation_l2': 'ReLU', 'dropout_l2': 0.2892616664062174, 'batch_norm_l2': True, 'l2_reg_l2': 0.005398845829348737, 'n_units_l3': 512, 'activation_l3': 'LeakyReLU', 'dropout_l3': 0.02010775227870191, 'batch_norm_l3': False, 'l2_reg_l3': 0.00013332941549393815, 'leakyrelu_alpha_l3': 0.19790849931256724, 'n_units_l4': 128, 'activation_l4': 'Tanh', 'dropout_l4': 0.4650222194649206, 'batch_norm_l4': True, 'l2_reg_l4': 0.0123626023854414, 'n_units_l5': 16, 'activation_l5': 'SELU', 'dropout_l5': 0.045972387446701936, 'batch_norm_l5': True, 'l2_reg_l5': 0.0002479626991569024, 'n_units_l6': 32, 'activation_l6': 'ReLU', 'dropout_l6': 0.022844456334145, 'batch_norm_l6': False, 'l2_reg_l6': 1.4446045560138221e-05, 'n_units_l7': 16, 'activation_l7': 'SELU', 'dropout_l7': 0.057128172759886256, 'batch_norm_l7': True, 'l2_reg_l7': 0.002004855911390059, 'n_units_l8': 64, 'activation_l8': 'Tanh', 'dropout_l8': 0.16258703472204095, 'batch_norm_l8': True, 'l2_reg_l8': 0.00015895997583903433, 'n_units_l9': 2048, 'activation_l9': 'ReLU', 'dropout_l9': 0.3184279009617366, 'batch_norm_l9': True, 'l2_reg_l9': 4.06767288612688e-05, 'n_units_l10': 256, 'activation_l10': 'LeakyReLU', 'dropout_l10': 0.22588731128502643, 'batch_norm_l10': True, 'l2_reg_l10': 3.905840198162216e-05, 'leakyrelu_alpha_l10': 0.28080432818257967, 'n_units_l11': 512, 'activation_l11': 'ReLU', 'dropout_l11': 0.3877151206654262, 'batch_norm_l11': True, 'l2_reg_l11': 0.035468087278112334, 'n_units_l12': 64, 'activation_l12': 'LeakyReLU', 'dropout_l12': 0.06250840430578865, 'batch_norm_l12': True, 'l2_reg_l12': 0.0009772991576850341, 'leakyrelu_alpha_l12': 0.250920940060148, 'n_units_l13': 64, 'activation_l13': 'Tanh', 'dropout_l13': 0.0828941147123391, 'batch_norm_l13': True, 'l2_reg_l13': 2.9686862295610434e-05, 'n_units_l14': 1024, 'activation_l14': 'ELU', 'dropout_l14': 0.32388399526628997, 'batch_norm_l14': True, 'l2_reg_l14': 0.07786245061104721, 'n_units_l15': 1024, 'activation_l15': 'SELU', 'dropout_l15': 0.12732685624843315, 'batch_norm_l15': False, 'l2_reg_l15': 0.04626019912532075, 'n_units_l16': 256, 'activation_l16': 'ELU', 'dropout_l16': 0.22041646069600923, 'batch_norm_l16': True, 'l2_reg_l16': 2.9445606741703683e-05, 'n_units_l17': 2048, 'activation_l17': 'ELU', 'dropout_l17': 0.01805626334491682, 'batch_norm_l17': True, 'l2_reg_l17': 0.0012265050169767942, 'n_units_l18': 1024, 'activation_l18': 'ELU', 'dropout_l18': 0.07759913085634515, 'batch_norm_l18': True, 'l2_reg_l18': 0.025463785368161716, 'n_units_l19': 2048, 'activation_l19': 'ELU', 'dropout_l19': 0.2573427207388996, 'batch_norm_l19': True, 'l2_reg_l19': 1.3650979197667025e-05, 'n_units_l20': 256, 'activation_l20': 'ReLU', 'dropout_l20': 0.3200842705556805, 'batch_norm_l20': False, 'l2_reg_l20': 0.00043003896913193404, 'n_units_l21': 1024, 'activation_l21': 'LeakyReLU', 'dropout_l21': 0.4986531973681706, 'batch_norm_l21': True, 'l2_reg_l21': 0.007958952978212796, 'leakyrelu_alpha_l21': 0.2568422856514671, 'optimizer': 'Adam', 'lr': 0.07801726259254749, 'adam_beta1': 0.9609430403052374, 'adam_beta2': 0.9030157556923378, 'epochs': 745, 'batch_size': 16, 'early_stopping_patience': 43, 'lr_reduce_factor': 0.5528704894981777, 'lr_reduce_patience': 25, 'min_lr': 3.1989434346774605e-06}. Best is trial 113 with value: 0.28562170123798375.\u001b[0m\n"
     ]
    },
    {
     "name": "stdout",
     "output_type": "stream",
     "text": [
      "Early stopping\n",
      "Trial 132 completado. Mejor pérdida en validación: 32.15926493108729\n",
      "Usando GPU para el Trial 133\n",
      "Entrenando Trial 133...\n"
     ]
    },
    {
     "name": "stderr",
     "output_type": "stream",
     "text": [
      "                                                              \r"
     ]
    },
    {
     "name": "stdout",
     "output_type": "stream",
     "text": [
      "Epoch   251: reducing learning rate of group 0 to 1.1722e-02.\n"
     ]
    },
    {
     "name": "stderr",
     "output_type": "stream",
     "text": [
      "                                                              \r"
     ]
    },
    {
     "name": "stdout",
     "output_type": "stream",
     "text": [
      "Epoch   287: reducing learning rate of group 0 to 7.1193e-03.\n"
     ]
    },
    {
     "name": "stderr",
     "output_type": "stream",
     "text": [
      "\u001b[32m[I 2023-12-06 14:41:42,775]\u001b[0m Trial 133 finished with value: 0.3841038771190468 and parameters: {'n_layers': 24, 'n_units_l0': 32, 'activation_l0': 'SELU', 'dropout_l0': 0.11022863505500352, 'batch_norm_l0': False, 'l2_reg_l0': 0.0007741903122906065, 'n_units_l1': 2048, 'activation_l1': 'LeakyReLU', 'dropout_l1': 0.474553888067645, 'batch_norm_l1': False, 'l2_reg_l1': 0.023842609612324622, 'leakyrelu_alpha_l1': 0.050562385522658106, 'n_units_l2': 16, 'activation_l2': 'ReLU', 'dropout_l2': 0.31650982405235023, 'batch_norm_l2': True, 'l2_reg_l2': 0.0024329976795086326, 'n_units_l3': 16, 'activation_l3': 'ELU', 'dropout_l3': 0.0398804722673675, 'batch_norm_l3': False, 'l2_reg_l3': 0.0001565951049568587, 'n_units_l4': 1024, 'activation_l4': 'ELU', 'dropout_l4': 0.4939805098921986, 'batch_norm_l4': True, 'l2_reg_l4': 0.017895235884241155, 'n_units_l5': 16, 'activation_l5': 'SELU', 'dropout_l5': 0.07899046679882832, 'batch_norm_l5': False, 'l2_reg_l5': 0.0001510126390999073, 'n_units_l6': 1024, 'activation_l6': 'LeakyReLU', 'dropout_l6': 0.052817051439609186, 'batch_norm_l6': False, 'l2_reg_l6': 1.002861222105666e-05, 'leakyrelu_alpha_l6': 0.06416292546117949, 'n_units_l7': 256, 'activation_l7': 'SELU', 'dropout_l7': 0.07139532253161705, 'batch_norm_l7': True, 'l2_reg_l7': 0.0006507536639298513, 'n_units_l8': 32, 'activation_l8': 'LeakyReLU', 'dropout_l8': 0.14424655605827336, 'batch_norm_l8': False, 'l2_reg_l8': 0.0006385687628917019, 'leakyrelu_alpha_l8': 0.08708693533030686, 'n_units_l9': 128, 'activation_l9': 'ELU', 'dropout_l9': 0.2528412176803166, 'batch_norm_l9': True, 'l2_reg_l9': 0.000254796913076261, 'n_units_l10': 64, 'activation_l10': 'ReLU', 'dropout_l10': 0.25372281804720054, 'batch_norm_l10': True, 'l2_reg_l10': 0.00012423493096775588, 'n_units_l11': 64, 'activation_l11': 'ReLU', 'dropout_l11': 0.45594305098324306, 'batch_norm_l11': True, 'l2_reg_l11': 0.01342082829641993, 'n_units_l12': 1024, 'activation_l12': 'Tanh', 'dropout_l12': 0.0405222316932209, 'batch_norm_l12': False, 'l2_reg_l12': 0.0005426696660407419, 'n_units_l13': 256, 'activation_l13': 'LeakyReLU', 'dropout_l13': 0.06177266904869554, 'batch_norm_l13': True, 'l2_reg_l13': 2.2099622806081667e-05, 'leakyrelu_alpha_l13': 0.29759296228058146, 'n_units_l14': 16, 'activation_l14': 'ELU', 'dropout_l14': 0.255022430913863, 'batch_norm_l14': True, 'l2_reg_l14': 0.055047904224927995, 'n_units_l15': 256, 'activation_l15': 'LeakyReLU', 'dropout_l15': 0.2538785277634596, 'batch_norm_l15': False, 'l2_reg_l15': 0.029019282108760643, 'leakyrelu_alpha_l15': 0.15185324305179357, 'n_units_l16': 64, 'activation_l16': 'ReLU', 'dropout_l16': 0.11684352771800084, 'batch_norm_l16': True, 'l2_reg_l16': 1.87793336043295e-05, 'n_units_l17': 32, 'activation_l17': 'ReLU', 'dropout_l17': 0.10719354284281798, 'batch_norm_l17': False, 'l2_reg_l17': 0.004366827485342417, 'n_units_l18': 512, 'activation_l18': 'Tanh', 'dropout_l18': 0.1032574019932635, 'batch_norm_l18': False, 'l2_reg_l18': 0.0374311485173725, 'n_units_l19': 1024, 'activation_l19': 'SELU', 'dropout_l19': 0.24483569326477747, 'batch_norm_l19': False, 'l2_reg_l19': 0.00011247211835920379, 'n_units_l20': 512, 'activation_l20': 'Tanh', 'dropout_l20': 0.14760274709504473, 'batch_norm_l20': False, 'l2_reg_l20': 0.0007735880796247079, 'n_units_l21': 32, 'activation_l21': 'LeakyReLU', 'dropout_l21': 0.42763379630449094, 'batch_norm_l21': True, 'l2_reg_l21': 0.005664346529125719, 'leakyrelu_alpha_l21': 0.28632731727749805, 'n_units_l22': 512, 'activation_l22': 'LeakyReLU', 'dropout_l22': 0.3332642177732713, 'batch_norm_l22': True, 'l2_reg_l22': 0.09853900854813724, 'leakyrelu_alpha_l22': 0.2395523362326204, 'n_units_l23': 2048, 'activation_l23': 'ELU', 'dropout_l23': 0.07459993651856402, 'batch_norm_l23': False, 'l2_reg_l23': 1.4425459881154023e-05, 'optimizer': 'SGD', 'lr': 0.01930103111366368, 'sgd_momentum': 0.6465901540177835, 'epochs': 638, 'batch_size': 1024, 'early_stopping_patience': 38, 'lr_reduce_factor': 0.6073338532814405, 'lr_reduce_patience': 22, 'min_lr': 4.396520238925707e-06}. Best is trial 113 with value: 0.28562170123798375.\u001b[0m\n"
     ]
    },
    {
     "name": "stdout",
     "output_type": "stream",
     "text": [
      "Early stopping\n",
      "Trial 133 completado. Mejor pérdida en validación: 0.3841038771190468\n",
      "Usando GPU para el Trial 134\n",
      "Entrenando Trial 134...\n"
     ]
    },
    {
     "name": "stderr",
     "output_type": "stream",
     "text": [
      "                                                                \r"
     ]
    },
    {
     "name": "stdout",
     "output_type": "stream",
     "text": [
      "Epoch   160: reducing learning rate of group 0 to 1.6913e-02.\n"
     ]
    },
    {
     "name": "stderr",
     "output_type": "stream",
     "text": [
      "\u001b[32m[I 2023-12-06 14:55:21,669]\u001b[0m Trial 134 finished with value: 0.3126486445641627 and parameters: {'n_layers': 30, 'n_units_l0': 512, 'activation_l0': 'Tanh', 'dropout_l0': 0.09201333527263518, 'batch_norm_l0': False, 'l2_reg_l0': 0.0011891289638672363, 'n_units_l1': 256, 'activation_l1': 'LeakyReLU', 'dropout_l1': 0.3962789546564964, 'batch_norm_l1': False, 'l2_reg_l1': 0.07223329998885017, 'leakyrelu_alpha_l1': 0.02580146933880457, 'n_units_l2': 512, 'activation_l2': 'ReLU', 'dropout_l2': 0.23692896922122703, 'batch_norm_l2': True, 'l2_reg_l2': 0.004014349804353884, 'n_units_l3': 2048, 'activation_l3': 'LeakyReLU', 'dropout_l3': 0.06852716037702274, 'batch_norm_l3': False, 'l2_reg_l3': 6.3590848397516e-05, 'leakyrelu_alpha_l3': 0.13865021999437951, 'n_units_l4': 32, 'activation_l4': 'SELU', 'dropout_l4': 0.42497464015133957, 'batch_norm_l4': True, 'l2_reg_l4': 0.020425375813983633, 'n_units_l5': 16, 'activation_l5': 'SELU', 'dropout_l5': 0.0003775196052305807, 'batch_norm_l5': True, 'l2_reg_l5': 0.00020007558914529364, 'n_units_l6': 512, 'activation_l6': 'ELU', 'dropout_l6': 0.03711819352440708, 'batch_norm_l6': False, 'l2_reg_l6': 3.810183216099152e-05, 'n_units_l7': 32, 'activation_l7': 'SELU', 'dropout_l7': 0.10487211594153746, 'batch_norm_l7': True, 'l2_reg_l7': 0.0011511340841823413, 'n_units_l8': 64, 'activation_l8': 'Tanh', 'dropout_l8': 0.1861210096801074, 'batch_norm_l8': False, 'l2_reg_l8': 0.0014213597244358154, 'n_units_l9': 128, 'activation_l9': 'SELU', 'dropout_l9': 0.2646430071138268, 'batch_norm_l9': False, 'l2_reg_l9': 5.318352821489216e-05, 'n_units_l10': 2048, 'activation_l10': 'Tanh', 'dropout_l10': 0.1558916573046436, 'batch_norm_l10': True, 'l2_reg_l10': 2.8750829318986562e-05, 'n_units_l11': 2048, 'activation_l11': 'LeakyReLU', 'dropout_l11': 0.42065192912413846, 'batch_norm_l11': True, 'l2_reg_l11': 0.01825062204209336, 'leakyrelu_alpha_l11': 0.10816780933116885, 'n_units_l12': 128, 'activation_l12': 'SELU', 'dropout_l12': 0.09048346577595756, 'batch_norm_l12': True, 'l2_reg_l12': 0.01317483062399838, 'n_units_l13': 1024, 'activation_l13': 'ReLU', 'dropout_l13': 0.051288929792019336, 'batch_norm_l13': True, 'l2_reg_l13': 5.1267133431381276e-05, 'n_units_l14': 1024, 'activation_l14': 'ELU', 'dropout_l14': 0.24107600540380345, 'batch_norm_l14': True, 'l2_reg_l14': 0.03145822493934894, 'n_units_l15': 256, 'activation_l15': 'SELU', 'dropout_l15': 0.15637346094671645, 'batch_norm_l15': False, 'l2_reg_l15': 0.0703512519201723, 'n_units_l16': 256, 'activation_l16': 'ReLU', 'dropout_l16': 0.07070670479019407, 'batch_norm_l16': True, 'l2_reg_l16': 5.485048626417187e-05, 'n_units_l17': 512, 'activation_l17': 'ReLU', 'dropout_l17': 0.06963089348308302, 'batch_norm_l17': True, 'l2_reg_l17': 0.00041095679257643387, 'n_units_l18': 16, 'activation_l18': 'LeakyReLU', 'dropout_l18': 0.13185409926767755, 'batch_norm_l18': False, 'l2_reg_l18': 0.0570363471100687, 'leakyrelu_alpha_l18': 0.23325737755360312, 'n_units_l19': 2048, 'activation_l19': 'Tanh', 'dropout_l19': 0.31049112041836263, 'batch_norm_l19': False, 'l2_reg_l19': 4.157176591911796e-05, 'n_units_l20': 64, 'activation_l20': 'LeakyReLU', 'dropout_l20': 0.17898310578679272, 'batch_norm_l20': False, 'l2_reg_l20': 9.599294684492785e-05, 'leakyrelu_alpha_l20': 0.19054982277683175, 'n_units_l21': 128, 'activation_l21': 'LeakyReLU', 'dropout_l21': 0.38713638869298334, 'batch_norm_l21': True, 'l2_reg_l21': 0.0020823954765618246, 'leakyrelu_alpha_l21': 0.2682577630537547, 'n_units_l22': 64, 'activation_l22': 'Tanh', 'dropout_l22': 0.2937307304186285, 'batch_norm_l22': True, 'l2_reg_l22': 0.04078357350251656, 'n_units_l23': 16, 'activation_l23': 'ReLU', 'dropout_l23': 0.04091737117850576, 'batch_norm_l23': True, 'l2_reg_l23': 4.8740926581604715e-05, 'n_units_l24': 16, 'activation_l24': 'SELU', 'dropout_l24': 0.03206651250023545, 'batch_norm_l24': True, 'l2_reg_l24': 0.022529658027565447, 'n_units_l25': 16, 'activation_l25': 'Tanh', 'dropout_l25': 0.38210653054461996, 'batch_norm_l25': True, 'l2_reg_l25': 0.0008828501389539938, 'n_units_l26': 32, 'activation_l26': 'LeakyReLU', 'dropout_l26': 0.3717640226536456, 'batch_norm_l26': True, 'l2_reg_l26': 0.00449295353923664, 'leakyrelu_alpha_l26': 0.20372162189457788, 'n_units_l27': 256, 'activation_l27': 'LeakyReLU', 'dropout_l27': 0.22616111810625644, 'batch_norm_l27': True, 'l2_reg_l27': 0.013809046906792544, 'leakyrelu_alpha_l27': 0.11309936186569852, 'n_units_l28': 512, 'activation_l28': 'ReLU', 'dropout_l28': 0.05929445713841697, 'batch_norm_l28': False, 'l2_reg_l28': 1.2877275140443207e-05, 'n_units_l29': 32, 'activation_l29': 'SELU', 'dropout_l29': 0.24382665221943106, 'batch_norm_l29': True, 'l2_reg_l29': 1.3164476582981964e-05, 'optimizer': 'SGD', 'lr': 0.02676668146955489, 'sgd_momentum': 0.5285013164882818, 'epochs': 292, 'batch_size': 128, 'early_stopping_patience': 33, 'lr_reduce_factor': 0.631869604403108, 'lr_reduce_patience': 26, 'min_lr': 8.973404078796672e-06}. Best is trial 113 with value: 0.28562170123798375.\u001b[0m\n"
     ]
    },
    {
     "name": "stdout",
     "output_type": "stream",
     "text": [
      "Trial 134 completado. Mejor pérdida en validación: 0.3126486445641627\n",
      "Usando GPU para el Trial 135\n",
      "Entrenando Trial 135...\n"
     ]
    },
    {
     "name": "stderr",
     "output_type": "stream",
     "text": [
      "                                                                 \r"
     ]
    },
    {
     "name": "stdout",
     "output_type": "stream",
     "text": [
      "Epoch   230: reducing learning rate of group 0 to 3.2313e-02.\n"
     ]
    },
    {
     "name": "stderr",
     "output_type": "stream",
     "text": [
      "\u001b[32m[I 2023-12-06 15:03:12,945]\u001b[0m Trial 135 finished with value: 0.2949969873676621 and parameters: {'n_layers': 21, 'n_units_l0': 512, 'activation_l0': 'LeakyReLU', 'dropout_l0': 0.08759191148922575, 'batch_norm_l0': False, 'l2_reg_l0': 0.0005955126594499563, 'leakyrelu_alpha_l0': 0.10137426978048002, 'n_units_l1': 2048, 'activation_l1': 'LeakyReLU', 'dropout_l1': 0.4260679041810166, 'batch_norm_l1': True, 'l2_reg_l1': 0.014914599381666822, 'leakyrelu_alpha_l1': 0.03059196126327843, 'n_units_l2': 256, 'activation_l2': 'ReLU', 'dropout_l2': 0.2808691142631595, 'batch_norm_l2': True, 'l2_reg_l2': 0.0064556477642202055, 'n_units_l3': 16, 'activation_l3': 'LeakyReLU', 'dropout_l3': 0.01901394134169447, 'batch_norm_l3': False, 'l2_reg_l3': 0.00031908392247776974, 'leakyrelu_alpha_l3': 0.226294797685128, 'n_units_l4': 512, 'activation_l4': 'SELU', 'dropout_l4': 0.44112366416536863, 'batch_norm_l4': True, 'l2_reg_l4': 0.004896245424150207, 'n_units_l5': 16, 'activation_l5': 'SELU', 'dropout_l5': 0.07084303971253891, 'batch_norm_l5': True, 'l2_reg_l5': 0.0004243616649051194, 'n_units_l6': 64, 'activation_l6': 'Tanh', 'dropout_l6': 0.01761932124403876, 'batch_norm_l6': False, 'l2_reg_l6': 1.746783587294495e-05, 'n_units_l7': 2048, 'activation_l7': 'LeakyReLU', 'dropout_l7': 0.11923028711152948, 'batch_norm_l7': True, 'l2_reg_l7': 0.004092422276389512, 'leakyrelu_alpha_l7': 0.05942068255091657, 'n_units_l8': 64, 'activation_l8': 'Tanh', 'dropout_l8': 0.12619824319394318, 'batch_norm_l8': False, 'l2_reg_l8': 0.000821820715835926, 'n_units_l9': 32, 'activation_l9': 'ReLU', 'dropout_l9': 0.27196699922950013, 'batch_norm_l9': True, 'l2_reg_l9': 9.941780894089962e-05, 'n_units_l10': 32, 'activation_l10': 'Tanh', 'dropout_l10': 0.12873260642732554, 'batch_norm_l10': True, 'l2_reg_l10': 5.006439691240259e-05, 'n_units_l11': 1024, 'activation_l11': 'ReLU', 'dropout_l11': 0.3470979127675376, 'batch_norm_l11': True, 'l2_reg_l11': 0.023288183646315623, 'n_units_l12': 256, 'activation_l12': 'ELU', 'dropout_l12': 0.036020957047289685, 'batch_norm_l12': True, 'l2_reg_l12': 0.0003392655918481749, 'n_units_l13': 1024, 'activation_l13': 'LeakyReLU', 'dropout_l13': 0.06706992523389421, 'batch_norm_l13': True, 'l2_reg_l13': 4.3380101697350954e-05, 'leakyrelu_alpha_l13': 0.27539695958572485, 'n_units_l14': 128, 'activation_l14': 'SELU', 'dropout_l14': 0.28428604248849654, 'batch_norm_l14': True, 'l2_reg_l14': 0.057813237929641444, 'n_units_l15': 16, 'activation_l15': 'ReLU', 'dropout_l15': 0.23706317635807878, 'batch_norm_l15': False, 'l2_reg_l15': 0.00701671049769627, 'n_units_l16': 1024, 'activation_l16': 'Tanh', 'dropout_l16': 0.2136778748368847, 'batch_norm_l16': True, 'l2_reg_l16': 6.500276232600885e-05, 'n_units_l17': 16, 'activation_l17': 'ReLU', 'dropout_l17': 0.049883979563304676, 'batch_norm_l17': True, 'l2_reg_l17': 0.0028124466215513947, 'n_units_l18': 16, 'activation_l18': 'LeakyReLU', 'dropout_l18': 0.05698036081560107, 'batch_norm_l18': False, 'l2_reg_l18': 0.010582185758548648, 'leakyrelu_alpha_l18': 0.2742648044550523, 'n_units_l19': 512, 'activation_l19': 'Tanh', 'dropout_l19': 0.2732306713899732, 'batch_norm_l19': False, 'l2_reg_l19': 2.9412349302904732e-05, 'n_units_l20': 2048, 'activation_l20': 'LeakyReLU', 'dropout_l20': 0.3058169489447496, 'batch_norm_l20': False, 'l2_reg_l20': 0.0001390482587760808, 'leakyrelu_alpha_l20': 0.2404328399039693, 'optimizer': 'SGD', 'lr': 0.060369012521400846, 'sgd_momentum': 0.5730533251943891, 'epochs': 685, 'batch_size': 128, 'early_stopping_patience': 34, 'lr_reduce_factor': 0.5352510795923701, 'lr_reduce_patience': 28, 'min_lr': 6.376730772990621e-06}. Best is trial 113 with value: 0.28562170123798375.\u001b[0m\n"
     ]
    },
    {
     "name": "stdout",
     "output_type": "stream",
     "text": [
      "Early stopping\n",
      "Trial 135 completado. Mejor pérdida en validación: 0.2949969873676621\n",
      "Usando GPU para el Trial 136\n",
      "Entrenando Trial 136...\n"
     ]
    },
    {
     "name": "stderr",
     "output_type": "stream",
     "text": [
      "                                                                 \r"
     ]
    },
    {
     "name": "stdout",
     "output_type": "stream",
     "text": [
      "Epoch   269: reducing learning rate of group 0 to 2.5649e-02.\n"
     ]
    },
    {
     "name": "stderr",
     "output_type": "stream",
     "text": [
      "                                                                 \r"
     ]
    },
    {
     "name": "stdout",
     "output_type": "stream",
     "text": [
      "Epoch   342: reducing learning rate of group 0 to 1.4119e-02.\n"
     ]
    },
    {
     "name": "stderr",
     "output_type": "stream",
     "text": [
      "\u001b[32m[I 2023-12-06 15:16:14,567]\u001b[0m Trial 136 finished with value: 0.2936540843699281 and parameters: {'n_layers': 23, 'n_units_l0': 64, 'activation_l0': 'LeakyReLU', 'dropout_l0': 0.09863434723299938, 'batch_norm_l0': False, 'l2_reg_l0': 0.0006463469402345573, 'leakyrelu_alpha_l0': 0.12072642280149179, 'n_units_l1': 2048, 'activation_l1': 'LeakyReLU', 'dropout_l1': 0.4402985329270611, 'batch_norm_l1': True, 'l2_reg_l1': 0.04496622543125317, 'leakyrelu_alpha_l1': 0.010476630590600505, 'n_units_l2': 64, 'activation_l2': 'ReLU', 'dropout_l2': 0.2812113886565099, 'batch_norm_l2': True, 'l2_reg_l2': 0.005557883291402421, 'n_units_l3': 1024, 'activation_l3': 'LeakyReLU', 'dropout_l3': 0.006356965904696588, 'batch_norm_l3': True, 'l2_reg_l3': 0.00020347025017193463, 'leakyrelu_alpha_l3': 0.2867624534673646, 'n_units_l4': 128, 'activation_l4': 'SELU', 'dropout_l4': 0.433071641499363, 'batch_norm_l4': True, 'l2_reg_l4': 0.003834174219493024, 'n_units_l5': 32, 'activation_l5': 'ELU', 'dropout_l5': 0.052181122123868134, 'batch_norm_l5': True, 'l2_reg_l5': 0.0006286679909869018, 'n_units_l6': 512, 'activation_l6': 'Tanh', 'dropout_l6': 0.021882580079061242, 'batch_norm_l6': False, 'l2_reg_l6': 2.850474657581677e-05, 'n_units_l7': 2048, 'activation_l7': 'LeakyReLU', 'dropout_l7': 0.1267669928554616, 'batch_norm_l7': True, 'l2_reg_l7': 0.002944034668181601, 'leakyrelu_alpha_l7': 0.0649461741562904, 'n_units_l8': 64, 'activation_l8': 'Tanh', 'dropout_l8': 0.14488359714644355, 'batch_norm_l8': False, 'l2_reg_l8': 0.0010779531850876828, 'n_units_l9': 2048, 'activation_l9': 'ReLU', 'dropout_l9': 0.29918821878631896, 'batch_norm_l9': True, 'l2_reg_l9': 9.539474681747847e-05, 'n_units_l10': 32, 'activation_l10': 'Tanh', 'dropout_l10': 0.14183434753814944, 'batch_norm_l10': True, 'l2_reg_l10': 6.69639030692737e-05, 'n_units_l11': 1024, 'activation_l11': 'ReLU', 'dropout_l11': 0.3643015835932911, 'batch_norm_l11': True, 'l2_reg_l11': 0.030264296481457415, 'n_units_l12': 256, 'activation_l12': 'ELU', 'dropout_l12': 0.013670120614169393, 'batch_norm_l12': True, 'l2_reg_l12': 0.0002567026830601418, 'n_units_l13': 32, 'activation_l13': 'LeakyReLU', 'dropout_l13': 0.02998965673556364, 'batch_norm_l13': True, 'l2_reg_l13': 3.4204830576435394e-05, 'leakyrelu_alpha_l13': 0.24707829776549722, 'n_units_l14': 128, 'activation_l14': 'SELU', 'dropout_l14': 0.26283357207421293, 'batch_norm_l14': True, 'l2_reg_l14': 0.0789694885762305, 'n_units_l15': 16, 'activation_l15': 'ReLU', 'dropout_l15': 0.22075805524912892, 'batch_norm_l15': False, 'l2_reg_l15': 0.009474345091613512, 'n_units_l16': 1024, 'activation_l16': 'Tanh', 'dropout_l16': 0.2362600344431164, 'batch_norm_l16': True, 'l2_reg_l16': 9.314267160111444e-05, 'n_units_l17': 16, 'activation_l17': 'ReLU', 'dropout_l17': 0.06246750650707321, 'batch_norm_l17': True, 'l2_reg_l17': 0.002442969255711902, 'n_units_l18': 16, 'activation_l18': 'LeakyReLU', 'dropout_l18': 0.05395065284926745, 'batch_norm_l18': False, 'l2_reg_l18': 0.014297431154621022, 'leakyrelu_alpha_l18': 0.25861950384406107, 'n_units_l19': 1024, 'activation_l19': 'Tanh', 'dropout_l19': 0.2857441685872889, 'batch_norm_l19': False, 'l2_reg_l19': 2.6119882137379658e-05, 'n_units_l20': 2048, 'activation_l20': 'LeakyReLU', 'dropout_l20': 0.29674971164995106, 'batch_norm_l20': False, 'l2_reg_l20': 6.729934389409137e-05, 'leakyrelu_alpha_l20': 0.2996685364736811, 'n_units_l21': 1024, 'activation_l21': 'SELU', 'dropout_l21': 0.3661305202626532, 'batch_norm_l21': True, 'l2_reg_l21': 0.014766454478265594, 'n_units_l22': 256, 'activation_l22': 'SELU', 'dropout_l22': 0.1837409728507352, 'batch_norm_l22': False, 'l2_reg_l22': 0.06928181780572513, 'optimizer': 'SGD', 'lr': 0.04659371675590446, 'sgd_momentum': 0.5459889426971993, 'epochs': 648, 'batch_size': 128, 'early_stopping_patience': 36, 'lr_reduce_factor': 0.5504822902092927, 'lr_reduce_patience': 31, 'min_lr': 7.303917133022916e-06}. Best is trial 113 with value: 0.28562170123798375.\u001b[0m\n"
     ]
    },
    {
     "name": "stdout",
     "output_type": "stream",
     "text": [
      "Early stopping\n",
      "Trial 136 completado. Mejor pérdida en validación: 0.2936540843699281\n",
      "Usando GPU para el Trial 137\n",
      "Entrenando Trial 137...\n"
     ]
    },
    {
     "name": "stderr",
     "output_type": "stream",
     "text": [
      "\u001b[32m[I 2023-12-06 15:25:46,984]\u001b[0m Trial 137 finished with value: 0.3016128150737669 and parameters: {'n_layers': 27, 'n_units_l0': 512, 'activation_l0': 'ReLU', 'dropout_l0': 0.052496140248260076, 'batch_norm_l0': False, 'l2_reg_l0': 0.0008889478909924644, 'n_units_l1': 2048, 'activation_l1': 'LeakyReLU', 'dropout_l1': 0.45833927682285025, 'batch_norm_l1': True, 'l2_reg_l1': 0.02126082744869755, 'leakyrelu_alpha_l1': 0.03303707372011322, 'n_units_l2': 1024, 'activation_l2': 'ReLU', 'dropout_l2': 0.2560749823666166, 'batch_norm_l2': True, 'l2_reg_l2': 0.0069563782502139945, 'n_units_l3': 16, 'activation_l3': 'LeakyReLU', 'dropout_l3': 0.05201424553671065, 'batch_norm_l3': True, 'l2_reg_l3': 0.00024836238052633605, 'leakyrelu_alpha_l3': 0.18347703643165328, 'n_units_l4': 1024, 'activation_l4': 'SELU', 'dropout_l4': 0.3947949204467368, 'batch_norm_l4': True, 'l2_reg_l4': 0.006114706016773926, 'n_units_l5': 16, 'activation_l5': 'SELU', 'dropout_l5': 0.038476200561764665, 'batch_norm_l5': True, 'l2_reg_l5': 0.0003574211743689956, 'n_units_l6': 128, 'activation_l6': 'LeakyReLU', 'dropout_l6': 0.009887207829565958, 'batch_norm_l6': False, 'l2_reg_l6': 2.268032089225661e-05, 'leakyrelu_alpha_l6': 0.02045612094990835, 'n_units_l7': 2048, 'activation_l7': 'LeakyReLU', 'dropout_l7': 0.0920284024131955, 'batch_norm_l7': True, 'l2_reg_l7': 0.005270885345712564, 'leakyrelu_alpha_l7': 0.09106430376792257, 'n_units_l8': 64, 'activation_l8': 'Tanh', 'dropout_l8': 0.16056844400763992, 'batch_norm_l8': False, 'l2_reg_l8': 0.000704401454814934, 'n_units_l9': 32, 'activation_l9': 'ReLU', 'dropout_l9': 0.23125541021672893, 'batch_norm_l9': True, 'l2_reg_l9': 0.00016625047812003903, 'n_units_l10': 32, 'activation_l10': 'Tanh', 'dropout_l10': 0.17418346242450639, 'batch_norm_l10': True, 'l2_reg_l10': 2.1613144160051743e-05, 'n_units_l11': 1024, 'activation_l11': 'ReLU', 'dropout_l11': 0.39736392206730176, 'batch_norm_l11': True, 'l2_reg_l11': 0.0199160709535266, 'n_units_l12': 256, 'activation_l12': 'ELU', 'dropout_l12': 0.012161822837155958, 'batch_norm_l12': True, 'l2_reg_l12': 0.0004501396131489354, 'n_units_l13': 2048, 'activation_l13': 'LeakyReLU', 'dropout_l13': 0.09148106089019176, 'batch_norm_l13': True, 'l2_reg_l13': 1.686495856216221e-05, 'leakyrelu_alpha_l13': 0.20068523429526539, 'n_units_l14': 128, 'activation_l14': 'SELU', 'dropout_l14': 0.30779815873611804, 'batch_norm_l14': True, 'l2_reg_l14': 0.05788313108160738, 'n_units_l15': 16, 'activation_l15': 'ReLU', 'dropout_l15': 0.2244986277979592, 'batch_norm_l15': False, 'l2_reg_l15': 0.01935141570326889, 'n_units_l16': 1024, 'activation_l16': 'Tanh', 'dropout_l16': 0.0032301219669869097, 'batch_norm_l16': True, 'l2_reg_l16': 1.2193750129096578e-05, 'n_units_l17': 256, 'activation_l17': 'ReLU', 'dropout_l17': 0.09003136972820983, 'batch_norm_l17': True, 'l2_reg_l17': 0.0015491257958160985, 'n_units_l18': 16, 'activation_l18': 'LeakyReLU', 'dropout_l18': 0.080284625413617, 'batch_norm_l18': False, 'l2_reg_l18': 0.021404231460513526, 'leakyrelu_alpha_l18': 0.279004703511857, 'n_units_l19': 2048, 'activation_l19': 'Tanh', 'dropout_l19': 0.2625099665070485, 'batch_norm_l19': False, 'l2_reg_l19': 1.9733790154352324e-05, 'n_units_l20': 2048, 'activation_l20': 'LeakyReLU', 'dropout_l20': 0.2053574197271182, 'batch_norm_l20': False, 'l2_reg_l20': 0.0002041882554027461, 'leakyrelu_alpha_l20': 0.2740500647061116, 'n_units_l21': 256, 'activation_l21': 'LeakyReLU', 'dropout_l21': 0.476272533932651, 'batch_norm_l21': False, 'l2_reg_l21': 0.009367689464318716, 'leakyrelu_alpha_l21': 0.28934035161288296, 'n_units_l22': 2048, 'activation_l22': 'ReLU', 'dropout_l22': 0.2568210237949682, 'batch_norm_l22': True, 'l2_reg_l22': 0.026298998363573765, 'n_units_l23': 32, 'activation_l23': 'SELU', 'dropout_l23': 0.1249384035133944, 'batch_norm_l23': True, 'l2_reg_l23': 0.00010094408572441707, 'n_units_l24': 512, 'activation_l24': 'ELU', 'dropout_l24': 0.0021191858048112966, 'batch_norm_l24': True, 'l2_reg_l24': 0.05146488961217937, 'n_units_l25': 256, 'activation_l25': 'LeakyReLU', 'dropout_l25': 0.2969617216354694, 'batch_norm_l25': True, 'l2_reg_l25': 0.013732416470613892, 'leakyrelu_alpha_l25': 0.2678341310947167, 'n_units_l26': 256, 'activation_l26': 'ELU', 'dropout_l26': 0.4415268182451981, 'batch_norm_l26': True, 'l2_reg_l26': 0.002717255736273956, 'optimizer': 'SGD', 'lr': 0.06579989062452356, 'sgd_momentum': 0.6083914452345348, 'epochs': 551, 'batch_size': 128, 'early_stopping_patience': 35, 'lr_reduce_factor': 0.5680788220878716, 'lr_reduce_patience': 42, 'min_lr': 5.873198991008147e-06}. Best is trial 113 with value: 0.28562170123798375.\u001b[0m\n"
     ]
    },
    {
     "name": "stdout",
     "output_type": "stream",
     "text": [
      "Early stopping\n",
      "Trial 137 completado. Mejor pérdida en validación: 0.3016128150737669\n",
      "Usando GPU para el Trial 138\n",
      "Entrenando Trial 138...\n"
     ]
    },
    {
     "name": "stderr",
     "output_type": "stream",
     "text": [
      "                                                                 \r"
     ]
    },
    {
     "name": "stdout",
     "output_type": "stream",
     "text": [
      "Epoch   123: reducing learning rate of group 0 to 2.8976e-02.\n"
     ]
    },
    {
     "name": "stderr",
     "output_type": "stream",
     "text": [
      "\u001b[32m[I 2023-12-06 15:30:07,325]\u001b[0m Trial 138 finished with value: 0.35635736743487406 and parameters: {'n_layers': 20, 'n_units_l0': 2048, 'activation_l0': 'LeakyReLU', 'dropout_l0': 0.08213141593129347, 'batch_norm_l0': False, 'l2_reg_l0': 0.0007234364936942045, 'leakyrelu_alpha_l0': 0.19975726495454998, 'n_units_l1': 2048, 'activation_l1': 'LeakyReLU', 'dropout_l1': 0.4195638915989051, 'batch_norm_l1': False, 'l2_reg_l1': 0.03242753484174974, 'leakyrelu_alpha_l1': 0.022956190192300566, 'n_units_l2': 16, 'activation_l2': 'ReLU', 'dropout_l2': 0.30549667343164527, 'batch_norm_l2': True, 'l2_reg_l2': 0.0033030438865943508, 'n_units_l3': 2048, 'activation_l3': 'LeakyReLU', 'dropout_l3': 0.028872295673262386, 'batch_norm_l3': False, 'l2_reg_l3': 0.0003848651725040349, 'leakyrelu_alpha_l3': 0.2843416164063955, 'n_units_l4': 256, 'activation_l4': 'SELU', 'dropout_l4': 0.36241034215055845, 'batch_norm_l4': True, 'l2_reg_l4': 0.007409160702387707, 'n_units_l5': 128, 'activation_l5': 'Tanh', 'dropout_l5': 0.08969841215217977, 'batch_norm_l5': True, 'l2_reg_l5': 0.0005298642477638781, 'n_units_l6': 64, 'activation_l6': 'Tanh', 'dropout_l6': 0.039566548818355585, 'batch_norm_l6': False, 'l2_reg_l6': 1.538535224166842e-05, 'n_units_l7': 2048, 'activation_l7': 'SELU', 'dropout_l7': 0.13830344884996507, 'batch_norm_l7': True, 'l2_reg_l7': 0.008054324524874382, 'n_units_l8': 256, 'activation_l8': 'Tanh', 'dropout_l8': 0.19770364172149485, 'batch_norm_l8': False, 'l2_reg_l8': 0.00038680246627185685, 'n_units_l9': 128, 'activation_l9': 'ReLU', 'dropout_l9': 0.28215703834599937, 'batch_norm_l9': True, 'l2_reg_l9': 6.774565178482556e-05, 'n_units_l10': 32, 'activation_l10': 'Tanh', 'dropout_l10': 0.1269092517929752, 'batch_norm_l10': True, 'l2_reg_l10': 4.072185108898789e-05, 'n_units_l11': 32, 'activation_l11': 'ReLU', 'dropout_l11': 0.3810645272400501, 'batch_norm_l11': True, 'l2_reg_l11': 0.05663457247585236, 'n_units_l12': 64, 'activation_l12': 'ELU', 'dropout_l12': 0.056747824866692984, 'batch_norm_l12': True, 'l2_reg_l12': 0.00018365297850936294, 'n_units_l13': 1024, 'activation_l13': 'LeakyReLU', 'dropout_l13': 0.05399360823810065, 'batch_norm_l13': True, 'l2_reg_l13': 2.4226178989098318e-05, 'leakyrelu_alpha_l13': 0.23193881512933695, 'n_units_l14': 1024, 'activation_l14': 'LeakyReLU', 'dropout_l14': 0.22993727037089715, 'batch_norm_l14': True, 'l2_reg_l14': 0.08046811639184698, 'leakyrelu_alpha_l14': 0.20592473619242563, 'n_units_l15': 16, 'activation_l15': 'ReLU', 'dropout_l15': 0.19212046964377133, 'batch_norm_l15': False, 'l2_reg_l15': 0.014280929235266583, 'n_units_l16': 1024, 'activation_l16': 'SELU', 'dropout_l16': 0.2684367939544312, 'batch_norm_l16': True, 'l2_reg_l16': 2.3226621314298863e-05, 'n_units_l17': 16, 'activation_l17': 'ReLU', 'dropout_l17': 0.1893990251279903, 'batch_norm_l17': True, 'l2_reg_l17': 0.0035488071785792414, 'n_units_l18': 16, 'activation_l18': 'LeakyReLU', 'dropout_l18': 0.06179022269872966, 'batch_norm_l18': False, 'l2_reg_l18': 0.00970998578986863, 'leakyrelu_alpha_l18': 0.258609385114887, 'n_units_l19': 512, 'activation_l19': 'Tanh', 'dropout_l19': 0.2415568258819515, 'batch_norm_l19': False, 'l2_reg_l19': 1.222980684892952e-05, 'optimizer': 'SGD', 'lr': 0.05617811334056449, 'sgd_momentum': 0.5107749095629138, 'epochs': 584, 'batch_size': 128, 'early_stopping_patience': 32, 'lr_reduce_factor': 0.515788638023411, 'lr_reduce_patience': 23, 'min_lr': 7.75342417244157e-06}. Best is trial 113 with value: 0.28562170123798375.\u001b[0m\n"
     ]
    },
    {
     "name": "stdout",
     "output_type": "stream",
     "text": [
      "Early stopping\n",
      "Trial 138 completado. Mejor pérdida en validación: 0.35635736743487406\n",
      "Usando GPU para el Trial 139\n",
      "Entrenando Trial 139...\n"
     ]
    },
    {
     "name": "stderr",
     "output_type": "stream",
     "text": [
      "                                                                 \r"
     ]
    },
    {
     "name": "stdout",
     "output_type": "stream",
     "text": [
      "Epoch   318: reducing learning rate of group 0 to 3.9222e-02.\n"
     ]
    },
    {
     "name": "stderr",
     "output_type": "stream",
     "text": [
      "\u001b[32m[I 2023-12-06 15:39:56,294]\u001b[0m Trial 139 finished with value: 0.28159837882515115 and parameters: {'n_layers': 18, 'n_units_l0': 512, 'activation_l0': 'LeakyReLU', 'dropout_l0': 0.13444490314924257, 'batch_norm_l0': False, 'l2_reg_l0': 0.0004958626041622863, 'leakyrelu_alpha_l0': 0.12696150569056774, 'n_units_l1': 2048, 'activation_l1': 'LeakyReLU', 'dropout_l1': 0.4675301349423914, 'batch_norm_l1': True, 'l2_reg_l1': 0.013288350696096792, 'leakyrelu_alpha_l1': 0.0426297691479401, 'n_units_l2': 512, 'activation_l2': 'ReLU', 'dropout_l2': 0.22158099685188537, 'batch_norm_l2': True, 'l2_reg_l2': 0.00915466329436878, 'n_units_l3': 16, 'activation_l3': 'LeakyReLU', 'dropout_l3': 0.0006086634535915555, 'batch_norm_l3': True, 'l2_reg_l3': 0.0005787362061002949, 'leakyrelu_alpha_l3': 0.2075042993957096, 'n_units_l4': 128, 'activation_l4': 'SELU', 'dropout_l4': 0.4509789491510368, 'batch_norm_l4': True, 'l2_reg_l4': 0.004917891516417083, 'n_units_l5': 16, 'activation_l5': 'LeakyReLU', 'dropout_l5': 0.06766487632458394, 'batch_norm_l5': True, 'l2_reg_l5': 0.0012690317657129834, 'leakyrelu_alpha_l5': 0.0757249080006991, 'n_units_l6': 32, 'activation_l6': 'SELU', 'dropout_l6': 0.056132197492902866, 'batch_norm_l6': False, 'l2_reg_l6': 1.1934783964687663e-05, 'n_units_l7': 1024, 'activation_l7': 'LeakyReLU', 'dropout_l7': 0.07499114192977059, 'batch_norm_l7': True, 'l2_reg_l7': 0.004376908904175007, 'leakyrelu_alpha_l7': 0.059495234556477206, 'n_units_l8': 64, 'activation_l8': 'ReLU', 'dropout_l8': 0.18001616908444978, 'batch_norm_l8': False, 'l2_reg_l8': 0.0012379079781923545, 'n_units_l9': 64, 'activation_l9': 'ReLU', 'dropout_l9': 0.26350480813803995, 'batch_norm_l9': True, 'l2_reg_l9': 0.000129826996031043, 'n_units_l10': 32, 'activation_l10': 'ELU', 'dropout_l10': 0.1494666201000495, 'batch_norm_l10': True, 'l2_reg_l10': 8.673581906825372e-05, 'n_units_l11': 1024, 'activation_l11': 'ReLU', 'dropout_l11': 0.3282093443106699, 'batch_norm_l11': True, 'l2_reg_l11': 0.02504856376588742, 'n_units_l12': 512, 'activation_l12': 'ELU', 'dropout_l12': 0.07093272692792107, 'batch_norm_l12': True, 'l2_reg_l12': 0.00012836123516163345, 'n_units_l13': 256, 'activation_l13': 'LeakyReLU', 'dropout_l13': 0.038201203513424806, 'batch_norm_l13': True, 'l2_reg_l13': 4.072141118346767e-05, 'leakyrelu_alpha_l13': 0.2797548377556498, 'n_units_l14': 128, 'activation_l14': 'Tanh', 'dropout_l14': 0.2759680502519717, 'batch_norm_l14': True, 'l2_reg_l14': 0.03728811926813709, 'n_units_l15': 512, 'activation_l15': 'SELU', 'dropout_l15': 0.17946752687431872, 'batch_norm_l15': False, 'l2_reg_l15': 0.008537194217966006, 'n_units_l16': 32, 'activation_l16': 'ELU', 'dropout_l16': 0.21464337809041523, 'batch_norm_l16': True, 'l2_reg_l16': 3.771473050628262e-05, 'n_units_l17': 512, 'activation_l17': 'ELU', 'dropout_l17': 0.12287771865518277, 'batch_norm_l17': True, 'l2_reg_l17': 0.0010383349798566116, 'optimizer': 'SGD', 'lr': 0.08056014137868266, 'sgd_momentum': 0.5934853552951467, 'epochs': 488, 'batch_size': 128, 'early_stopping_patience': 34, 'lr_reduce_factor': 0.486867922817986, 'lr_reduce_patience': 32, 'min_lr': 5.146042624825678e-06}. Best is trial 139 with value: 0.28159837882515115.\u001b[0m\n"
     ]
    },
    {
     "name": "stdout",
     "output_type": "stream",
     "text": [
      "Early stopping\n",
      "Trial 139 completado. Mejor pérdida en validación: 0.28159837882515115\n",
      "Usando GPU para el Trial 140\n",
      "Entrenando Trial 140...\n"
     ]
    },
    {
     "name": "stderr",
     "output_type": "stream",
     "text": [
      "\u001b[32m[I 2023-12-06 15:40:19,222]\u001b[0m Trial 140 finished with value: 32.15926536688578 and parameters: {'n_layers': 18, 'n_units_l0': 512, 'activation_l0': 'SELU', 'dropout_l0': 0.13534488580628767, 'batch_norm_l0': False, 'l2_reg_l0': 0.000412894242562952, 'n_units_l1': 2048, 'activation_l1': 'LeakyReLU', 'dropout_l1': 0.47072470310367204, 'batch_norm_l1': False, 'l2_reg_l1': 0.03721967649594196, 'leakyrelu_alpha_l1': 0.04149315579260172, 'n_units_l2': 512, 'activation_l2': 'ReLU', 'dropout_l2': 0.22613792379002018, 'batch_norm_l2': True, 'l2_reg_l2': 0.00982371867709577, 'n_units_l3': 16, 'activation_l3': 'LeakyReLU', 'dropout_l3': 0.00429809379975284, 'batch_norm_l3': True, 'l2_reg_l3': 0.0005782894962637612, 'leakyrelu_alpha_l3': 0.20639725915474527, 'n_units_l4': 128, 'activation_l4': 'LeakyReLU', 'dropout_l4': 0.45176501425517934, 'batch_norm_l4': True, 'l2_reg_l4': 0.008768070858087203, 'leakyrelu_alpha_l4': 0.22749656904426202, 'n_units_l5': 16, 'activation_l5': 'SELU', 'dropout_l5': 0.018152790942420297, 'batch_norm_l5': True, 'l2_reg_l5': 0.0013904229878871713, 'n_units_l6': 32, 'activation_l6': 'SELU', 'dropout_l6': 0.08085743659568145, 'batch_norm_l6': False, 'l2_reg_l6': 1.1987772995638114e-05, 'n_units_l7': 1024, 'activation_l7': 'SELU', 'dropout_l7': 0.08144823588398789, 'batch_norm_l7': True, 'l2_reg_l7': 0.0023966075839855234, 'n_units_l8': 2048, 'activation_l8': 'ReLU', 'dropout_l8': 0.16989228996517314, 'batch_norm_l8': False, 'l2_reg_l8': 0.0012308305291935703, 'n_units_l9': 64, 'activation_l9': 'ReLU', 'dropout_l9': 0.24982193696484262, 'batch_norm_l9': True, 'l2_reg_l9': 0.00013410400003594958, 'n_units_l10': 32, 'activation_l10': 'ELU', 'dropout_l10': 0.1570685434817424, 'batch_norm_l10': True, 'l2_reg_l10': 8.979499256828263e-05, 'n_units_l11': 1024, 'activation_l11': 'ReLU', 'dropout_l11': 0.3261092094635268, 'batch_norm_l11': True, 'l2_reg_l11': 0.04105446405596096, 'n_units_l12': 512, 'activation_l12': 'ELU', 'dropout_l12': 0.09946635494438254, 'batch_norm_l12': True, 'l2_reg_l12': 0.00012317703282735813, 'n_units_l13': 256, 'activation_l13': 'SELU', 'dropout_l13': 0.04009246397388556, 'batch_norm_l13': True, 'l2_reg_l13': 2.0029921794442766e-05, 'n_units_l14': 2048, 'activation_l14': 'Tanh', 'dropout_l14': 0.2867600838452182, 'batch_norm_l14': True, 'l2_reg_l14': 0.03728847001550036, 'n_units_l15': 512, 'activation_l15': 'SELU', 'dropout_l15': 0.1551650146864759, 'batch_norm_l15': False, 'l2_reg_l15': 0.010697466217293103, 'n_units_l16': 32, 'activation_l16': 'ELU', 'dropout_l16': 0.17175395926797798, 'batch_norm_l16': True, 'l2_reg_l16': 3.847052828496414e-05, 'n_units_l17': 512, 'activation_l17': 'ELU', 'dropout_l17': 0.11765373444851246, 'batch_norm_l17': True, 'l2_reg_l17': 0.000980021472472166, 'optimizer': 'RMSprop', 'lr': 0.08325352439666439, 'rmsprop_alpha': 0.9227538102261849, 'epochs': 441, 'batch_size': 2048, 'early_stopping_patience': 37, 'lr_reduce_factor': 0.4796717430935944, 'lr_reduce_patience': 40, 'min_lr': 4.9423104108291245e-06}. Best is trial 139 with value: 0.28159837882515115.\u001b[0m\n"
     ]
    },
    {
     "name": "stdout",
     "output_type": "stream",
     "text": [
      "Early stopping\n",
      "Trial 140 completado. Mejor pérdida en validación: 32.15926536688578\n",
      "Usando GPU para el Trial 141\n",
      "Entrenando Trial 141...\n"
     ]
    },
    {
     "name": "stderr",
     "output_type": "stream",
     "text": [
      "                                                                 \r"
     ]
    },
    {
     "name": "stdout",
     "output_type": "stream",
     "text": [
      "Epoch   178: reducing learning rate of group 0 to 1.8485e-02.\n"
     ]
    },
    {
     "name": "stderr",
     "output_type": "stream",
     "text": [
      "                                                                 \r"
     ]
    },
    {
     "name": "stdout",
     "output_type": "stream",
     "text": [
      "Epoch   240: reducing learning rate of group 0 to 8.5229e-03.\n"
     ]
    },
    {
     "name": "stderr",
     "output_type": "stream",
     "text": [
      "                                                                 \r"
     ]
    },
    {
     "name": "stdout",
     "output_type": "stream",
     "text": [
      "Epoch   293: reducing learning rate of group 0 to 3.9297e-03.\n"
     ]
    },
    {
     "name": "stderr",
     "output_type": "stream",
     "text": [
      "\u001b[32m[I 2023-12-06 15:49:38,305]\u001b[0m Trial 141 finished with value: 0.2846090012724878 and parameters: {'n_layers': 19, 'n_units_l0': 512, 'activation_l0': 'LeakyReLU', 'dropout_l0': 0.11406335215615568, 'batch_norm_l0': False, 'l2_reg_l0': 0.0005209252425459515, 'leakyrelu_alpha_l0': 0.13116319215944136, 'n_units_l1': 2048, 'activation_l1': 'LeakyReLU', 'dropout_l1': 0.4505222034144522, 'batch_norm_l1': True, 'l2_reg_l1': 0.06184464393549094, 'leakyrelu_alpha_l1': 0.05257974188258076, 'n_units_l2': 512, 'activation_l2': 'ReLU', 'dropout_l2': 0.2213891462003455, 'batch_norm_l2': True, 'l2_reg_l2': 0.008517794243600125, 'n_units_l3': 16, 'activation_l3': 'LeakyReLU', 'dropout_l3': 0.03992400232387665, 'batch_norm_l3': False, 'l2_reg_l3': 0.00017770183811864797, 'leakyrelu_alpha_l3': 0.23356853908177921, 'n_units_l4': 128, 'activation_l4': 'SELU', 'dropout_l4': 0.4734309812925096, 'batch_norm_l4': True, 'l2_reg_l4': 0.0026362879496896175, 'n_units_l5': 16, 'activation_l5': 'LeakyReLU', 'dropout_l5': 0.05559104118267738, 'batch_norm_l5': True, 'l2_reg_l5': 0.0011397698575001227, 'leakyrelu_alpha_l5': 0.07492122117563513, 'n_units_l6': 32, 'activation_l6': 'SELU', 'dropout_l6': 0.06839278995191024, 'batch_norm_l6': False, 'l2_reg_l6': 1.948116525812294e-05, 'n_units_l7': 1024, 'activation_l7': 'LeakyReLU', 'dropout_l7': 0.07326989877935051, 'batch_norm_l7': False, 'l2_reg_l7': 0.003454819381700568, 'leakyrelu_alpha_l7': 0.03640680310900658, 'n_units_l8': 64, 'activation_l8': 'ReLU', 'dropout_l8': 0.21706409741924773, 'batch_norm_l8': False, 'l2_reg_l8': 0.002048499132208469, 'n_units_l9': 64, 'activation_l9': 'ReLU', 'dropout_l9': 0.304955614210897, 'batch_norm_l9': True, 'l2_reg_l9': 0.00019144590159035814, 'n_units_l10': 512, 'activation_l10': 'ELU', 'dropout_l10': 0.18271196303692128, 'batch_norm_l10': True, 'l2_reg_l10': 7.016823341871252e-05, 'n_units_l11': 16, 'activation_l11': 'ELU', 'dropout_l11': 0.28854351929889405, 'batch_norm_l11': True, 'l2_reg_l11': 0.013043341582892543, 'n_units_l12': 512, 'activation_l12': 'Tanh', 'dropout_l12': 0.0734425754501647, 'batch_norm_l12': True, 'l2_reg_l12': 6.753515747105324e-05, 'n_units_l13': 256, 'activation_l13': 'LeakyReLU', 'dropout_l13': 0.010407267439331144, 'batch_norm_l13': True, 'l2_reg_l13': 5.954547025044421e-05, 'leakyrelu_alpha_l13': 0.27937996073893673, 'n_units_l14': 128, 'activation_l14': 'Tanh', 'dropout_l14': 0.27756126585814617, 'batch_norm_l14': True, 'l2_reg_l14': 0.04625993434233888, 'n_units_l15': 512, 'activation_l15': 'SELU', 'dropout_l15': 0.17401562257656272, 'batch_norm_l15': False, 'l2_reg_l15': 0.004024241090114579, 'n_units_l16': 32, 'activation_l16': 'ELU', 'dropout_l16': 0.19177803843020108, 'batch_norm_l16': False, 'l2_reg_l16': 1.575056716672778e-05, 'n_units_l17': 512, 'activation_l17': 'ELU', 'dropout_l17': 0.1392160569716127, 'batch_norm_l17': True, 'l2_reg_l17': 0.0011442098993386034, 'n_units_l18': 512, 'activation_l18': 'ELU', 'dropout_l18': 0.09456007636356664, 'batch_norm_l18': False, 'l2_reg_l18': 0.030401782034758087, 'optimizer': 'SGD', 'lr': 0.040091776695003564, 'sgd_momentum': 0.6250707326621394, 'epochs': 487, 'batch_size': 128, 'early_stopping_patience': 42, 'lr_reduce_factor': 0.46107030461333026, 'lr_reduce_patience': 24, 'min_lr': 3.901356318934383e-06}. Best is trial 139 with value: 0.28159837882515115.\u001b[0m\n"
     ]
    },
    {
     "name": "stdout",
     "output_type": "stream",
     "text": [
      "Early stopping\n",
      "Trial 141 completado. Mejor pérdida en validación: 0.2846090012724878\n",
      "Usando GPU para el Trial 142\n",
      "Entrenando Trial 142...\n"
     ]
    },
    {
     "name": "stderr",
     "output_type": "stream",
     "text": [
      "                                                               \r"
     ]
    },
    {
     "name": "stdout",
     "output_type": "stream",
     "text": [
      "Epoch   326: reducing learning rate of group 0 to 1.6613e-02.\n"
     ]
    },
    {
     "name": "stderr",
     "output_type": "stream",
     "text": [
      "                                                               \r"
     ]
    },
    {
     "name": "stdout",
     "output_type": "stream",
     "text": [
      "Epoch   349: reducing learning rate of group 0 to 7.0622e-03.\n"
     ]
    },
    {
     "name": "stderr",
     "output_type": "stream",
     "text": [
      "                                                               \r"
     ]
    },
    {
     "name": "stdout",
     "output_type": "stream",
     "text": [
      "Epoch   407: reducing learning rate of group 0 to 3.0020e-03.\n"
     ]
    },
    {
     "name": "stderr",
     "output_type": "stream",
     "text": [
      "\u001b[32m[I 2023-12-06 15:53:31,410]\u001b[0m Trial 142 finished with value: 0.29545177235902725 and parameters: {'n_layers': 19, 'n_units_l0': 512, 'activation_l0': 'LeakyReLU', 'dropout_l0': 0.14509763231671963, 'batch_norm_l0': False, 'l2_reg_l0': 0.0002912049201356042, 'leakyrelu_alpha_l0': 0.13039586597680158, 'n_units_l1': 1024, 'activation_l1': 'LeakyReLU', 'dropout_l1': 0.4634746271283229, 'batch_norm_l1': True, 'l2_reg_l1': 0.028458688730487264, 'leakyrelu_alpha_l1': 0.054451012420261194, 'n_units_l2': 512, 'activation_l2': 'ReLU', 'dropout_l2': 0.22098072494186988, 'batch_norm_l2': True, 'l2_reg_l2': 0.013829414266491681, 'n_units_l3': 16, 'activation_l3': 'LeakyReLU', 'dropout_l3': 0.04317225107306753, 'batch_norm_l3': True, 'l2_reg_l3': 0.0001150243443702791, 'leakyrelu_alpha_l3': 0.2335619756905915, 'n_units_l4': 128, 'activation_l4': 'SELU', 'dropout_l4': 0.47362362933779223, 'batch_norm_l4': True, 'l2_reg_l4': 0.0026488771996042554, 'n_units_l5': 16, 'activation_l5': 'LeakyReLU', 'dropout_l5': 0.10360799973257259, 'batch_norm_l5': True, 'l2_reg_l5': 0.0009021033347015008, 'leakyrelu_alpha_l5': 0.07365489938859662, 'n_units_l6': 32, 'activation_l6': 'SELU', 'dropout_l6': 0.09985546609993404, 'batch_norm_l6': False, 'l2_reg_l6': 2.1107612337002616e-05, 'n_units_l7': 1024, 'activation_l7': 'LeakyReLU', 'dropout_l7': 0.0524965985637499, 'batch_norm_l7': False, 'l2_reg_l7': 0.0017386254675855009, 'leakyrelu_alpha_l7': 0.03217302188539716, 'n_units_l8': 16, 'activation_l8': 'ReLU', 'dropout_l8': 0.21932041659718496, 'batch_norm_l8': False, 'l2_reg_l8': 0.0005188123335319303, 'n_units_l9': 64, 'activation_l9': 'ReLU', 'dropout_l9': 0.31006461158295123, 'batch_norm_l9': False, 'l2_reg_l9': 0.00018828846804066327, 'n_units_l10': 512, 'activation_l10': 'ELU', 'dropout_l10': 0.14649829785578702, 'batch_norm_l10': True, 'l2_reg_l10': 6.333380247972839e-05, 'n_units_l11': 16, 'activation_l11': 'ELU', 'dropout_l11': 0.2902819862970253, 'batch_norm_l11': True, 'l2_reg_l11': 0.011374938938384782, 'n_units_l12': 512, 'activation_l12': 'ELU', 'dropout_l12': 0.07266627655305652, 'batch_norm_l12': True, 'l2_reg_l12': 5.8912467531624886e-05, 'n_units_l13': 256, 'activation_l13': 'LeakyReLU', 'dropout_l13': 0.0012999400523042472, 'batch_norm_l13': False, 'l2_reg_l13': 5.767571912489159e-05, 'leakyrelu_alpha_l13': 0.28591542709296425, 'n_units_l14': 128, 'activation_l14': 'Tanh', 'dropout_l14': 0.24673302621316717, 'batch_norm_l14': False, 'l2_reg_l14': 0.025123940604546858, 'n_units_l15': 512, 'activation_l15': 'SELU', 'dropout_l15': 0.17097789365031868, 'batch_norm_l15': False, 'l2_reg_l15': 0.004003160182234514, 'n_units_l16': 32, 'activation_l16': 'ELU', 'dropout_l16': 0.19673923595103104, 'batch_norm_l16': False, 'l2_reg_l16': 1.343567117179226e-05, 'n_units_l17': 512, 'activation_l17': 'ELU', 'dropout_l17': 0.1354554681749996, 'batch_norm_l17': True, 'l2_reg_l17': 0.000749971364101385, 'n_units_l18': 2048, 'activation_l18': 'ELU', 'dropout_l18': 0.09542877386668575, 'batch_norm_l18': True, 'l2_reg_l18': 0.02547773303089458, 'optimizer': 'SGD', 'lr': 0.03908227071200824, 'sgd_momentum': 0.6233520338510611, 'epochs': 497, 'batch_size': 512, 'early_stopping_patience': 42, 'lr_reduce_factor': 0.4250883283427118, 'lr_reduce_patience': 21, 'min_lr': 3.756211293771e-06}. Best is trial 139 with value: 0.28159837882515115.\u001b[0m\n"
     ]
    },
    {
     "name": "stdout",
     "output_type": "stream",
     "text": [
      "Early stopping\n",
      "Trial 142 completado. Mejor pérdida en validación: 0.29545177235902725\n",
      "Usando GPU para el Trial 143\n",
      "Entrenando Trial 143...\n"
     ]
    },
    {
     "name": "stderr",
     "output_type": "stream",
     "text": [
      "                                                                 \r"
     ]
    },
    {
     "name": "stdout",
     "output_type": "stream",
     "text": [
      "Epoch   108: reducing learning rate of group 0 to 2.1814e-03.\n"
     ]
    },
    {
     "name": "stderr",
     "output_type": "stream",
     "text": [
      "\u001b[32m[I 2023-12-06 15:56:36,936]\u001b[0m Trial 143 finished with value: 0.40082903017859 and parameters: {'n_layers': 16, 'n_units_l0': 512, 'activation_l0': 'LeakyReLU', 'dropout_l0': 0.12481406324402763, 'batch_norm_l0': False, 'l2_reg_l0': 0.0005490342640016211, 'leakyrelu_alpha_l0': 0.11128245798268359, 'n_units_l1': 32, 'activation_l1': 'LeakyReLU', 'dropout_l1': 0.48440826564953116, 'batch_norm_l1': True, 'l2_reg_l1': 0.01262299891616159, 'leakyrelu_alpha_l1': 0.047156974008942795, 'n_units_l2': 512, 'activation_l2': 'ReLU', 'dropout_l2': 0.2092096641068606, 'batch_norm_l2': False, 'l2_reg_l2': 0.008880015350335875, 'n_units_l3': 16, 'activation_l3': 'ReLU', 'dropout_l3': 0.0988205844300112, 'batch_norm_l3': False, 'l2_reg_l3': 7.825790406350107e-05, 'n_units_l4': 128, 'activation_l4': 'SELU', 'dropout_l4': 0.46304798892608834, 'batch_norm_l4': True, 'l2_reg_l4': 0.0024667488260272986, 'n_units_l5': 512, 'activation_l5': 'LeakyReLU', 'dropout_l5': 0.05862331407075738, 'batch_norm_l5': True, 'l2_reg_l5': 0.00114603814948023, 'leakyrelu_alpha_l5': 0.05046503947677157, 'n_units_l6': 32, 'activation_l6': 'SELU', 'dropout_l6': 0.06956563808878885, 'batch_norm_l6': False, 'l2_reg_l6': 1.7273151325320288e-05, 'n_units_l7': 1024, 'activation_l7': 'LeakyReLU', 'dropout_l7': 0.09639202426529402, 'batch_norm_l7': False, 'l2_reg_l7': 0.001366113330976959, 'leakyrelu_alpha_l7': 0.047256441588338666, 'n_units_l8': 64, 'activation_l8': 'ReLU', 'dropout_l8': 0.20527217255305927, 'batch_norm_l8': False, 'l2_reg_l8': 0.00028151972659598996, 'n_units_l9': 64, 'activation_l9': 'ReLU', 'dropout_l9': 0.2618681255940328, 'batch_norm_l9': True, 'l2_reg_l9': 7.706545914199052e-05, 'n_units_l10': 512, 'activation_l10': 'ELU', 'dropout_l10': 0.18333949267094565, 'batch_norm_l10': True, 'l2_reg_l10': 0.00018246228223491194, 'n_units_l11': 16, 'activation_l11': 'ELU', 'dropout_l11': 0.28210779056837626, 'batch_norm_l11': True, 'l2_reg_l11': 0.025637881570538115, 'n_units_l12': 512, 'activation_l12': 'Tanh', 'dropout_l12': 0.15280374864044605, 'batch_norm_l12': True, 'l2_reg_l12': 8.297406638379353e-05, 'n_units_l13': 256, 'activation_l13': 'Tanh', 'dropout_l13': 0.018245416653817507, 'batch_norm_l13': True, 'l2_reg_l13': 7.236974564412248e-05, 'n_units_l14': 128, 'activation_l14': 'Tanh', 'dropout_l14': 0.2780609669178701, 'batch_norm_l14': True, 'l2_reg_l14': 0.04228547683974441, 'n_units_l15': 512, 'activation_l15': 'SELU', 'dropout_l15': 0.17982266299097374, 'batch_norm_l15': True, 'l2_reg_l15': 0.0033225386096370174, 'optimizer': 'SGD', 'lr': 0.0047384573111015175, 'sgd_momentum': 0.5905497270054201, 'epochs': 529, 'batch_size': 128, 'early_stopping_patience': 39, 'lr_reduce_factor': 0.46035560167202755, 'lr_reduce_patience': 29, 'min_lr': 4.200646190361515e-06}. Best is trial 139 with value: 0.28159837882515115.\u001b[0m\n"
     ]
    },
    {
     "name": "stdout",
     "output_type": "stream",
     "text": [
      "Early stopping\n",
      "Trial 143 completado. Mejor pérdida en validación: 0.40082903017859\n",
      "Usando GPU para el Trial 144\n",
      "Entrenando Trial 144...\n"
     ]
    },
    {
     "name": "stderr",
     "output_type": "stream",
     "text": [
      "                                                                \r"
     ]
    },
    {
     "name": "stdout",
     "output_type": "stream",
     "text": [
      "Epoch    84: reducing learning rate of group 0 to 1.8389e-02.\n"
     ]
    },
    {
     "name": "stderr",
     "output_type": "stream",
     "text": [
      "                                                                \r"
     ]
    },
    {
     "name": "stdout",
     "output_type": "stream",
     "text": [
      "Epoch    94: reducing learning rate of group 0 to 1.0842e-02.\n"
     ]
    },
    {
     "name": "stderr",
     "output_type": "stream",
     "text": [
      "                                                                 \r"
     ]
    },
    {
     "name": "stdout",
     "output_type": "stream",
     "text": [
      "Epoch   111: reducing learning rate of group 0 to 6.3930e-03.\n"
     ]
    },
    {
     "name": "stderr",
     "output_type": "stream",
     "text": [
      "                                                                 \r"
     ]
    },
    {
     "name": "stdout",
     "output_type": "stream",
     "text": [
      "Epoch   122: reducing learning rate of group 0 to 3.7695e-03.\n"
     ]
    },
    {
     "name": "stderr",
     "output_type": "stream",
     "text": [
      "                                                                 \r"
     ]
    },
    {
     "name": "stdout",
     "output_type": "stream",
     "text": [
      "Epoch   141: reducing learning rate of group 0 to 2.2226e-03.\n"
     ]
    },
    {
     "name": "stderr",
     "output_type": "stream",
     "text": [
      "                                                                 \r"
     ]
    },
    {
     "name": "stdout",
     "output_type": "stream",
     "text": [
      "Epoch   151: reducing learning rate of group 0 to 1.3105e-03.\n"
     ]
    },
    {
     "name": "stderr",
     "output_type": "stream",
     "text": [
      "                                                                 \r"
     ]
    },
    {
     "name": "stdout",
     "output_type": "stream",
     "text": [
      "Epoch   161: reducing learning rate of group 0 to 7.7271e-04.\n"
     ]
    },
    {
     "name": "stderr",
     "output_type": "stream",
     "text": [
      "\u001b[32m[I 2023-12-06 16:15:45,302]\u001b[0m Trial 144 finished with value: 0.31288143645795163 and parameters: {'n_layers': 19, 'n_units_l0': 512, 'activation_l0': 'LeakyReLU', 'dropout_l0': 0.11846501798373048, 'batch_norm_l0': False, 'l2_reg_l0': 0.00045688588329232023, 'leakyrelu_alpha_l0': 0.11946080343389476, 'n_units_l1': 2048, 'activation_l1': 'Tanh', 'dropout_l1': 0.4514757620147182, 'batch_norm_l1': True, 'l2_reg_l1': 0.06039431467547673, 'n_units_l2': 512, 'activation_l2': 'ReLU', 'dropout_l2': 0.24874381459481817, 'batch_norm_l2': True, 'l2_reg_l2': 0.007609771840068586, 'n_units_l3': 16, 'activation_l3': 'ELU', 'dropout_l3': 0.000753110509415917, 'batch_norm_l3': True, 'l2_reg_l3': 0.00015020398069345218, 'n_units_l4': 64, 'activation_l4': 'ReLU', 'dropout_l4': 0.4876350080123818, 'batch_norm_l4': True, 'l2_reg_l4': 0.0034237582050348, 'n_units_l5': 16, 'activation_l5': 'LeakyReLU', 'dropout_l5': 0.08233222611705393, 'batch_norm_l5': True, 'l2_reg_l5': 0.0012501324495589254, 'leakyrelu_alpha_l5': 0.09597033193395593, 'n_units_l6': 32, 'activation_l6': 'SELU', 'dropout_l6': 0.059494148872753956, 'batch_norm_l6': False, 'l2_reg_l6': 1.1598197397474187e-05, 'n_units_l7': 1024, 'activation_l7': 'LeakyReLU', 'dropout_l7': 0.03242578075276378, 'batch_norm_l7': False, 'l2_reg_l7': 0.0034279751783371174, 'leakyrelu_alpha_l7': 0.01739077187270059, 'n_units_l8': 128, 'activation_l8': 'SELU', 'dropout_l8': 0.2278205781930594, 'batch_norm_l8': False, 'l2_reg_l8': 0.0009441157158691932, 'n_units_l9': 64, 'activation_l9': 'ELU', 'dropout_l9': 0.24031030364773137, 'batch_norm_l9': True, 'l2_reg_l9': 0.00011913206666516641, 'n_units_l10': 512, 'activation_l10': 'ELU', 'dropout_l10': 0.16267265698390931, 'batch_norm_l10': True, 'l2_reg_l10': 0.00012811085863738127, 'n_units_l11': 16, 'activation_l11': 'ELU', 'dropout_l11': 0.4425467429964001, 'batch_norm_l11': False, 'l2_reg_l11': 0.014389897083928118, 'n_units_l12': 512, 'activation_l12': 'ELU', 'dropout_l12': 0.08255620300290754, 'batch_norm_l12': True, 'l2_reg_l12': 7.198334938025363e-05, 'n_units_l13': 256, 'activation_l13': 'LeakyReLU', 'dropout_l13': 0.009814856922178646, 'batch_norm_l13': True, 'l2_reg_l13': 3.944129610560354e-05, 'leakyrelu_alpha_l13': 0.2983812826937629, 'n_units_l14': 128, 'activation_l14': 'Tanh', 'dropout_l14': 0.26106657193391936, 'batch_norm_l14': True, 'l2_reg_l14': 0.01737473274662601, 'n_units_l15': 512, 'activation_l15': 'Tanh', 'dropout_l15': 0.18233134414047336, 'batch_norm_l15': False, 'l2_reg_l15': 0.005100654459496159, 'n_units_l16': 32, 'activation_l16': 'ELU', 'dropout_l16': 0.15946156129385378, 'batch_norm_l16': False, 'l2_reg_l16': 3.084689589897356e-05, 'n_units_l17': 512, 'activation_l17': 'Tanh', 'dropout_l17': 0.09671451960597904, 'batch_norm_l17': True, 'l2_reg_l17': 0.0011590222643872148, 'n_units_l18': 256, 'activation_l18': 'ELU', 'dropout_l18': 0.1095603214284086, 'batch_norm_l18': False, 'l2_reg_l18': 0.016205081303889174, 'optimizer': 'SGD', 'lr': 0.031187034522815904, 'sgd_momentum': 0.634164558422831, 'epochs': 605, 'batch_size': 32, 'early_stopping_patience': 40, 'lr_reduce_factor': 0.589626967191829, 'lr_reduce_patience': 9, 'min_lr': 3.4793197459447867e-06}. Best is trial 139 with value: 0.28159837882515115.\u001b[0m\n"
     ]
    },
    {
     "name": "stdout",
     "output_type": "stream",
     "text": [
      "Epoch   171: reducing learning rate of group 0 to 4.5561e-04.\n",
      "Early stopping\n",
      "Trial 144 completado. Mejor pérdida en validación: 0.31288143645795163\n",
      "Usando GPU para el Trial 145\n",
      "Entrenando Trial 145...\n"
     ]
    },
    {
     "name": "stderr",
     "output_type": "stream",
     "text": [
      "                                                                 \r"
     ]
    },
    {
     "name": "stdout",
     "output_type": "stream",
     "text": [
      "Epoch   156: reducing learning rate of group 0 to 2.3901e-02.\n"
     ]
    },
    {
     "name": "stderr",
     "output_type": "stream",
     "text": [
      "                                                                 \r"
     ]
    },
    {
     "name": "stdout",
     "output_type": "stream",
     "text": [
      "Epoch   202: reducing learning rate of group 0 to 1.2019e-02.\n"
     ]
    },
    {
     "name": "stderr",
     "output_type": "stream",
     "text": [
      "\u001b[32m[I 2023-12-06 16:23:09,089]\u001b[0m Trial 145 finished with value: 0.2994887106634026 and parameters: {'n_layers': 22, 'n_units_l0': 512, 'activation_l0': 'LeakyReLU', 'dropout_l0': 0.11146830375846367, 'batch_norm_l0': False, 'l2_reg_l0': 0.0003757430362336359, 'leakyrelu_alpha_l0': 0.13250070456715932, 'n_units_l1': 2048, 'activation_l1': 'LeakyReLU', 'dropout_l1': 0.49050661386528827, 'batch_norm_l1': True, 'l2_reg_l1': 0.07757006738447196, 'leakyrelu_alpha_l1': 0.04141312196408442, 'n_units_l2': 512, 'activation_l2': 'ReLU', 'dropout_l2': 0.22180593073916297, 'batch_norm_l2': True, 'l2_reg_l2': 0.004421933121147109, 'n_units_l3': 16, 'activation_l3': 'LeakyReLU', 'dropout_l3': 0.03131455096968672, 'batch_norm_l3': False, 'l2_reg_l3': 0.0001814225501329619, 'leakyrelu_alpha_l3': 0.22415851941807557, 'n_units_l4': 128, 'activation_l4': 'SELU', 'dropout_l4': 0.49687492476599715, 'batch_norm_l4': True, 'l2_reg_l4': 0.004432147529418826, 'n_units_l5': 16, 'activation_l5': 'LeakyReLU', 'dropout_l5': 0.030793763052563806, 'batch_norm_l5': True, 'l2_reg_l5': 0.001960792213497861, 'leakyrelu_alpha_l5': 0.04582267901648073, 'n_units_l6': 32, 'activation_l6': 'SELU', 'dropout_l6': 0.07737342407431534, 'batch_norm_l6': False, 'l2_reg_l6': 1.4319823364149948e-05, 'n_units_l7': 1024, 'activation_l7': 'LeakyReLU', 'dropout_l7': 0.07921599153362996, 'batch_norm_l7': False, 'l2_reg_l7': 0.004060497478646967, 'leakyrelu_alpha_l7': 0.04875079707114606, 'n_units_l8': 64, 'activation_l8': 'ReLU', 'dropout_l8': 0.18631612302932848, 'batch_norm_l8': False, 'l2_reg_l8': 0.002023602833210902, 'n_units_l9': 16, 'activation_l9': 'ReLU', 'dropout_l9': 0.28779598469865497, 'batch_norm_l9': True, 'l2_reg_l9': 0.00023999332398217288, 'n_units_l10': 32, 'activation_l10': 'ELU', 'dropout_l10': 0.20138055330114835, 'batch_norm_l10': True, 'l2_reg_l10': 7.862334315316578e-05, 'n_units_l11': 32, 'activation_l11': 'ELU', 'dropout_l11': 0.40826646961481483, 'batch_norm_l11': True, 'l2_reg_l11': 0.03295820730981759, 'n_units_l12': 512, 'activation_l12': 'Tanh', 'dropout_l12': 0.06567616644367988, 'batch_norm_l12': True, 'l2_reg_l12': 0.00014754808178851157, 'n_units_l13': 256, 'activation_l13': 'LeakyReLU', 'dropout_l13': 0.0257027427768943, 'batch_norm_l13': True, 'l2_reg_l13': 3.141552527567572e-05, 'leakyrelu_alpha_l13': 0.27650124324245184, 'n_units_l14': 1024, 'activation_l14': 'Tanh', 'dropout_l14': 0.2979870396115533, 'batch_norm_l14': True, 'l2_reg_l14': 0.08175302235723972, 'n_units_l15': 32, 'activation_l15': 'SELU', 'dropout_l15': 0.20677881263501913, 'batch_norm_l15': False, 'l2_reg_l15': 0.008510535971698586, 'n_units_l16': 32, 'activation_l16': 'ELU', 'dropout_l16': 0.19083955976195383, 'batch_norm_l16': False, 'l2_reg_l16': 1.9120244884558557e-05, 'n_units_l17': 512, 'activation_l17': 'ELU', 'dropout_l17': 0.1742943016061318, 'batch_norm_l17': True, 'l2_reg_l17': 0.001731200442536074, 'n_units_l18': 512, 'activation_l18': 'ELU', 'dropout_l18': 0.07126086442424885, 'batch_norm_l18': False, 'l2_reg_l18': 0.04339580496494022, 'n_units_l19': 128, 'activation_l19': 'ReLU', 'dropout_l19': 0.32996250655747417, 'batch_norm_l19': False, 'l2_reg_l19': 1.0269774483900697e-05, 'n_units_l20': 512, 'activation_l20': 'ELU', 'dropout_l20': 0.22549393802738454, 'batch_norm_l20': False, 'l2_reg_l20': 0.0005296618650095213, 'n_units_l21': 512, 'activation_l21': 'LeakyReLU', 'dropout_l21': 0.45100864587205997, 'batch_norm_l21': True, 'l2_reg_l21': 0.004389534939820278, 'leakyrelu_alpha_l21': 0.2255250783152874, 'optimizer': 'SGD', 'lr': 0.04752974801366337, 'sgd_momentum': 0.6642700803629571, 'epochs': 482, 'batch_size': 128, 'early_stopping_patience': 44, 'lr_reduce_factor': 0.5028561495649783, 'lr_reduce_patience': 24, 'min_lr': 3.955746467434023e-06}. Best is trial 139 with value: 0.28159837882515115.\u001b[0m\n"
     ]
    },
    {
     "name": "stdout",
     "output_type": "stream",
     "text": [
      "Early stopping\n",
      "Trial 145 completado. Mejor pérdida en validación: 0.2994887106634026\n",
      "Usando GPU para el Trial 146\n",
      "Entrenando Trial 146...\n"
     ]
    },
    {
     "name": "stderr",
     "output_type": "stream",
     "text": [
      "                                                                 \r"
     ]
    },
    {
     "name": "stdout",
     "output_type": "stream",
     "text": [
      "Epoch   240: reducing learning rate of group 0 to 3.8294e-02.\n"
     ]
    },
    {
     "name": "stderr",
     "output_type": "stream",
     "text": [
      "                                                                 \r"
     ]
    },
    {
     "name": "stdout",
     "output_type": "stream",
     "text": [
      "Epoch   275: reducing learning rate of group 0 to 1.8758e-02.\n"
     ]
    },
    {
     "name": "stderr",
     "output_type": "stream",
     "text": [
      "                                                                 \r"
     ]
    },
    {
     "name": "stdout",
     "output_type": "stream",
     "text": [
      "Epoch   307: reducing learning rate of group 0 to 9.1881e-03.\n"
     ]
    },
    {
     "name": "stderr",
     "output_type": "stream",
     "text": [
      "\u001b[32m[I 2023-12-06 16:35:43,382]\u001b[0m Trial 146 finished with value: 0.288362695886019 and parameters: {'n_layers': 24, 'n_units_l0': 512, 'activation_l0': 'LeakyReLU', 'dropout_l0': 0.1327426881303679, 'batch_norm_l0': False, 'l2_reg_l0': 0.000989707569263029, 'leakyrelu_alpha_l0': 0.09789240243093861, 'n_units_l1': 2048, 'activation_l1': 'LeakyReLU', 'dropout_l1': 0.444105106818889, 'batch_norm_l1': True, 'l2_reg_l1': 0.051815343436601276, 'leakyrelu_alpha_l1': 0.018264963213668883, 'n_units_l2': 512, 'activation_l2': 'SELU', 'dropout_l2': 0.2342636070828002, 'batch_norm_l2': True, 'l2_reg_l2': 0.011733220063797527, 'n_units_l3': 16, 'activation_l3': 'LeakyReLU', 'dropout_l3': 0.018845260833072853, 'batch_norm_l3': False, 'l2_reg_l3': 0.00027751859532297276, 'leakyrelu_alpha_l3': 0.20684111880671213, 'n_units_l4': 128, 'activation_l4': 'SELU', 'dropout_l4': 0.45098082886823265, 'batch_norm_l4': True, 'l2_reg_l4': 0.0018867012969092155, 'n_units_l5': 16, 'activation_l5': 'LeakyReLU', 'dropout_l5': 0.04230895893384928, 'batch_norm_l5': True, 'l2_reg_l5': 0.00011525465273158419, 'leakyrelu_alpha_l5': 0.08448857465912502, 'n_units_l6': 32, 'activation_l6': 'SELU', 'dropout_l6': 0.05036459782876382, 'batch_norm_l6': False, 'l2_reg_l6': 1.86593422422564e-05, 'n_units_l7': 1024, 'activation_l7': 'LeakyReLU', 'dropout_l7': 0.064859912479517, 'batch_norm_l7': True, 'l2_reg_l7': 0.005664482861854128, 'leakyrelu_alpha_l7': 0.07756328416652845, 'n_units_l8': 64, 'activation_l8': 'ReLU', 'dropout_l8': 0.1778713759054138, 'batch_norm_l8': False, 'l2_reg_l8': 0.0023208423399131506, 'n_units_l9': 64, 'activation_l9': 'ReLU', 'dropout_l9': 0.27836341136539955, 'batch_norm_l9': True, 'l2_reg_l9': 0.00015177295651246916, 'n_units_l10': 512, 'activation_l10': 'ELU', 'dropout_l10': 0.16909019117900992, 'batch_norm_l10': True, 'l2_reg_l10': 0.00010389970995073491, 'n_units_l11': 1024, 'activation_l11': 'ReLU', 'dropout_l11': 0.30873705448776406, 'batch_norm_l11': True, 'l2_reg_l11': 0.01818446211322719, 'n_units_l12': 32, 'activation_l12': 'Tanh', 'dropout_l12': 0.056038449162417694, 'batch_norm_l12': True, 'l2_reg_l12': 9.886535762770411e-05, 'n_units_l13': 512, 'activation_l13': 'LeakyReLU', 'dropout_l13': 0.03859346361183414, 'batch_norm_l13': True, 'l2_reg_l13': 1.3048649414868353e-05, 'leakyrelu_alpha_l13': 0.26479991462356134, 'n_units_l14': 128, 'activation_l14': 'Tanh', 'dropout_l14': 0.27499546067679653, 'batch_norm_l14': True, 'l2_reg_l14': 0.05226090739445205, 'n_units_l15': 512, 'activation_l15': 'SELU', 'dropout_l15': 0.26962071560017586, 'batch_norm_l15': False, 'l2_reg_l15': 0.03237758412396258, 'n_units_l16': 256, 'activation_l16': 'ELU', 'dropout_l16': 0.2134981061134607, 'batch_norm_l16': True, 'l2_reg_l16': 1.5735077074984278e-05, 'n_units_l17': 512, 'activation_l17': 'ELU', 'dropout_l17': 0.15089347097134945, 'batch_norm_l17': True, 'l2_reg_l17': 0.0012210643428000512, 'n_units_l18': 512, 'activation_l18': 'ReLU', 'dropout_l18': 0.03947008821111958, 'batch_norm_l18': False, 'l2_reg_l18': 0.03563856302697358, 'n_units_l19': 1024, 'activation_l19': 'Tanh', 'dropout_l19': 0.30584926112362304, 'batch_norm_l19': False, 'l2_reg_l19': 7.392584144215445e-05, 'n_units_l20': 16, 'activation_l20': 'ReLU', 'dropout_l20': 0.2592622565214414, 'batch_norm_l20': True, 'l2_reg_l20': 0.00035913309491899587, 'n_units_l21': 1024, 'activation_l21': 'ReLU', 'dropout_l21': 0.42651336779733295, 'batch_norm_l21': True, 'l2_reg_l21': 0.012382181112523951, 'n_units_l22': 256, 'activation_l22': 'LeakyReLU', 'dropout_l22': 0.2149253472353324, 'batch_norm_l22': True, 'l2_reg_l22': 0.04742715809416223, 'leakyrelu_alpha_l22': 0.1494943420950048, 'n_units_l23': 1024, 'activation_l23': 'LeakyReLU', 'dropout_l23': 0.014416624287251024, 'batch_norm_l23': True, 'l2_reg_l23': 2.9319857275182034e-05, 'leakyrelu_alpha_l23': 0.06292107871430085, 'optimizer': 'SGD', 'lr': 0.07817612029925392, 'sgd_momentum': 0.6007084759978649, 'epochs': 386, 'batch_size': 128, 'early_stopping_patience': 41, 'lr_reduce_factor': 0.4898365660768299, 'lr_reduce_patience': 26, 'min_lr': 5.258959832510465e-06}. Best is trial 139 with value: 0.28159837882515115.\u001b[0m\n"
     ]
    },
    {
     "name": "stdout",
     "output_type": "stream",
     "text": [
      "Early stopping\n",
      "Trial 146 completado. Mejor pérdida en validación: 0.288362695886019\n",
      "Usando GPU para el Trial 147\n",
      "Entrenando Trial 147...\n"
     ]
    },
    {
     "name": "stderr",
     "output_type": "stream",
     "text": [
      "                                                                 \r"
     ]
    },
    {
     "name": "stdout",
     "output_type": "stream",
     "text": [
      "Epoch   126: reducing learning rate of group 0 to 3.8647e-02.\n"
     ]
    },
    {
     "name": "stderr",
     "output_type": "stream",
     "text": [
      "                                                                 \r"
     ]
    },
    {
     "name": "stdout",
     "output_type": "stream",
     "text": [
      "Epoch   261: reducing learning rate of group 0 to 1.8308e-02.\n"
     ]
    },
    {
     "name": "stderr",
     "output_type": "stream",
     "text": [
      "\u001b[32m[I 2023-12-06 16:46:36,709]\u001b[0m Trial 147 finished with value: 0.28525585386143343 and parameters: {'n_layers': 25, 'n_units_l0': 512, 'activation_l0': 'LeakyReLU', 'dropout_l0': 0.15934154739563033, 'batch_norm_l0': False, 'l2_reg_l0': 0.0004909883632820703, 'leakyrelu_alpha_l0': 0.09460920811381662, 'n_units_l1': 2048, 'activation_l1': 'LeakyReLU', 'dropout_l1': 0.4443927733976985, 'batch_norm_l1': True, 'l2_reg_l1': 0.04874903364823549, 'leakyrelu_alpha_l1': 0.062240866168118233, 'n_units_l2': 512, 'activation_l2': 'SELU', 'dropout_l2': 0.23909676501780017, 'batch_norm_l2': True, 'l2_reg_l2': 0.010800360713279134, 'n_units_l3': 64, 'activation_l3': 'LeakyReLU', 'dropout_l3': 0.018499186643907248, 'batch_norm_l3': False, 'l2_reg_l3': 0.00028595972797262697, 'leakyrelu_alpha_l3': 0.2539577419115276, 'n_units_l4': 128, 'activation_l4': 'SELU', 'dropout_l4': 0.44973991118802514, 'batch_norm_l4': True, 'l2_reg_l4': 0.0018203983145611636, 'n_units_l5': 16, 'activation_l5': 'LeakyReLU', 'dropout_l5': 0.04449142740971619, 'batch_norm_l5': True, 'l2_reg_l5': 0.00010547676778589018, 'leakyrelu_alpha_l5': 0.08394945651668917, 'n_units_l6': 32, 'activation_l6': 'SELU', 'dropout_l6': 0.05264000143429469, 'batch_norm_l6': False, 'l2_reg_l6': 1.9520310920234345e-05, 'n_units_l7': 1024, 'activation_l7': 'LeakyReLU', 'dropout_l7': 0.04411330293062056, 'batch_norm_l7': False, 'l2_reg_l7': 0.0054389274503537964, 'leakyrelu_alpha_l7': 0.07506144404407576, 'n_units_l8': 64, 'activation_l8': 'ReLU', 'dropout_l8': 0.2105067674078871, 'batch_norm_l8': False, 'l2_reg_l8': 0.0024241865095011397, 'n_units_l9': 64, 'activation_l9': 'ReLU', 'dropout_l9': 0.26899770782069843, 'batch_norm_l9': True, 'l2_reg_l9': 0.0001506133079968271, 'n_units_l10': 512, 'activation_l10': 'ELU', 'dropout_l10': 0.16919800430608647, 'batch_norm_l10': True, 'l2_reg_l10': 9.924485492266932e-05, 'n_units_l11': 1024, 'activation_l11': 'Tanh', 'dropout_l11': 0.3107223782907868, 'batch_norm_l11': True, 'l2_reg_l11': 0.012496671252470897, 'n_units_l12': 32, 'activation_l12': 'Tanh', 'dropout_l12': 0.04972202685865107, 'batch_norm_l12': True, 'l2_reg_l12': 9.964230899387842e-05, 'n_units_l13': 512, 'activation_l13': 'LeakyReLU', 'dropout_l13': 0.03794021899352685, 'batch_norm_l13': True, 'l2_reg_l13': 1.1931398363131375e-05, 'leakyrelu_alpha_l13': 0.2807691363417434, 'n_units_l14': 128, 'activation_l14': 'Tanh', 'dropout_l14': 0.2755218606722053, 'batch_norm_l14': True, 'l2_reg_l14': 0.033792200762334315, 'n_units_l15': 512, 'activation_l15': 'SELU', 'dropout_l15': 0.16239479147551994, 'batch_norm_l15': False, 'l2_reg_l15': 0.03293765339661978, 'n_units_l16': 32, 'activation_l16': 'ELU', 'dropout_l16': 0.18037474344439347, 'batch_norm_l16': True, 'l2_reg_l16': 1.0346362420834253e-05, 'n_units_l17': 512, 'activation_l17': 'ELU', 'dropout_l17': 0.1371121953379845, 'batch_norm_l17': True, 'l2_reg_l17': 0.0013621135900520039, 'n_units_l18': 512, 'activation_l18': 'ReLU', 'dropout_l18': 0.03809222828775316, 'batch_norm_l18': False, 'l2_reg_l18': 0.03061241313632494, 'n_units_l19': 1024, 'activation_l19': 'LeakyReLU', 'dropout_l19': 0.3033028487719803, 'batch_norm_l19': True, 'l2_reg_l19': 7.457593855406324e-05, 'leakyrelu_alpha_l19': 0.14538389192536294, 'n_units_l20': 16, 'activation_l20': 'SELU', 'dropout_l20': 0.27943097263871564, 'batch_norm_l20': True, 'l2_reg_l20': 0.0003800385575049382, 'n_units_l21': 2048, 'activation_l21': 'ReLU', 'dropout_l21': 0.39187280896181387, 'batch_norm_l21': True, 'l2_reg_l21': 0.018538530387227112, 'n_units_l22': 256, 'activation_l22': 'LeakyReLU', 'dropout_l22': 0.1412823391691054, 'batch_norm_l22': True, 'l2_reg_l22': 0.013842586461083639, 'leakyrelu_alpha_l22': 0.1469798504532155, 'n_units_l23': 1024, 'activation_l23': 'ELU', 'dropout_l23': 0.14163006732458205, 'batch_norm_l23': False, 'l2_reg_l23': 3.0013752473612187e-05, 'n_units_l24': 64, 'activation_l24': 'ReLU', 'dropout_l24': 0.11245468238313922, 'batch_norm_l24': False, 'l2_reg_l24': 0.0022237351768860775, 'optimizer': 'SGD', 'lr': 0.08158071872694456, 'sgd_momentum': 0.5985337589751207, 'epochs': 407, 'batch_size': 128, 'early_stopping_patience': 41, 'lr_reduce_factor': 0.47372758702307866, 'lr_reduce_patience': 25, 'min_lr': 5.357331692764077e-06}. Best is trial 139 with value: 0.28159837882515115.\u001b[0m\n"
     ]
    },
    {
     "name": "stdout",
     "output_type": "stream",
     "text": [
      "Early stopping\n",
      "Trial 147 completado. Mejor pérdida en validación: 0.28525585386143343\n",
      "Usando GPU para el Trial 148\n",
      "Entrenando Trial 148...\n"
     ]
    },
    {
     "name": "stderr",
     "output_type": "stream",
     "text": [
      "                                                                 \r"
     ]
    },
    {
     "name": "stdout",
     "output_type": "stream",
     "text": [
      "Epoch   132: reducing learning rate of group 0 to 3.5532e-02.\n"
     ]
    },
    {
     "name": "stderr",
     "output_type": "stream",
     "text": [
      "                                                                 \r"
     ]
    },
    {
     "name": "stdout",
     "output_type": "stream",
     "text": [
      "Epoch   224: reducing learning rate of group 0 to 1.7259e-02.\n"
     ]
    },
    {
     "name": "stderr",
     "output_type": "stream",
     "text": [
      "                                                                 \r"
     ]
    },
    {
     "name": "stdout",
     "output_type": "stream",
     "text": [
      "Epoch   292: reducing learning rate of group 0 to 8.3836e-03.\n"
     ]
    },
    {
     "name": "stderr",
     "output_type": "stream",
     "text": [
      "\u001b[32m[I 2023-12-06 16:58:15,097]\u001b[0m Trial 148 finished with value: 0.2853750932453967 and parameters: {'n_layers': 24, 'n_units_l0': 512, 'activation_l0': 'LeakyReLU', 'dropout_l0': 0.16040127859822842, 'batch_norm_l0': False, 'l2_reg_l0': 0.0005292727129253285, 'leakyrelu_alpha_l0': 0.09365988795889126, 'n_units_l1': 2048, 'activation_l1': 'LeakyReLU', 'dropout_l1': 0.4498090873953868, 'batch_norm_l1': True, 'l2_reg_l1': 0.04160145041077781, 'leakyrelu_alpha_l1': 0.06506398150350305, 'n_units_l2': 512, 'activation_l2': 'SELU', 'dropout_l2': 0.23375372450763915, 'batch_norm_l2': True, 'l2_reg_l2': 0.018011728043324536, 'n_units_l3': 64, 'activation_l3': 'LeakyReLU', 'dropout_l3': 0.01625864684245442, 'batch_norm_l3': False, 'l2_reg_l3': 0.00029510463260624107, 'leakyrelu_alpha_l3': 0.25142390942798376, 'n_units_l4': 128, 'activation_l4': 'SELU', 'dropout_l4': 0.45024089335808243, 'batch_norm_l4': True, 'l2_reg_l4': 0.0016451333111857755, 'n_units_l5': 16, 'activation_l5': 'LeakyReLU', 'dropout_l5': 0.044455686224654394, 'batch_norm_l5': True, 'l2_reg_l5': 0.00011358731168949643, 'leakyrelu_alpha_l5': 0.0816699354150418, 'n_units_l6': 32, 'activation_l6': 'SELU', 'dropout_l6': 0.05476029043767153, 'batch_norm_l6': False, 'l2_reg_l6': 1.921442099681603e-05, 'n_units_l7': 1024, 'activation_l7': 'LeakyReLU', 'dropout_l7': 0.06312496020149731, 'batch_norm_l7': False, 'l2_reg_l7': 0.0066373474887351375, 'leakyrelu_alpha_l7': 0.07748985269548501, 'n_units_l8': 64, 'activation_l8': 'ReLU', 'dropout_l8': 0.2143529021028939, 'batch_norm_l8': False, 'l2_reg_l8': 0.0026438598740879797, 'n_units_l9': 64, 'activation_l9': 'ReLU', 'dropout_l9': 0.27728900154143654, 'batch_norm_l9': True, 'l2_reg_l9': 0.00014637907639693953, 'n_units_l10': 512, 'activation_l10': 'ELU', 'dropout_l10': 0.17344859288120512, 'batch_norm_l10': True, 'l2_reg_l10': 0.00011032993796395198, 'n_units_l11': 1024, 'activation_l11': 'ReLU', 'dropout_l11': 0.30577979658689236, 'batch_norm_l11': True, 'l2_reg_l11': 0.01859647782949671, 'n_units_l12': 32, 'activation_l12': 'Tanh', 'dropout_l12': 0.048260224960996745, 'batch_norm_l12': True, 'l2_reg_l12': 0.00010075689094339717, 'n_units_l13': 64, 'activation_l13': 'LeakyReLU', 'dropout_l13': 0.038383051329445195, 'batch_norm_l13': True, 'l2_reg_l13': 1.3098338662909291e-05, 'leakyrelu_alpha_l13': 0.28161498069592794, 'n_units_l14': 128, 'activation_l14': 'Tanh', 'dropout_l14': 0.2798103065643558, 'batch_norm_l14': True, 'l2_reg_l14': 0.03183244681928149, 'n_units_l15': 512, 'activation_l15': 'SELU', 'dropout_l15': 0.13354583199675119, 'batch_norm_l15': False, 'l2_reg_l15': 0.03618171623753309, 'n_units_l16': 32, 'activation_l16': 'ELU', 'dropout_l16': 0.1825411805880834, 'batch_norm_l16': True, 'l2_reg_l16': 1.095187591201502e-05, 'n_units_l17': 512, 'activation_l17': 'ELU', 'dropout_l17': 0.13862333403199814, 'batch_norm_l17': True, 'l2_reg_l17': 0.001371476883381703, 'n_units_l18': 512, 'activation_l18': 'ReLU', 'dropout_l18': 0.04625012153703778, 'batch_norm_l18': False, 'l2_reg_l18': 0.03242673210640763, 'n_units_l19': 1024, 'activation_l19': 'LeakyReLU', 'dropout_l19': 0.30580864508622596, 'batch_norm_l19': True, 'l2_reg_l19': 8.960035601435969e-05, 'leakyrelu_alpha_l19': 0.1410986766333194, 'n_units_l20': 16, 'activation_l20': 'SELU', 'dropout_l20': 0.27615246291533835, 'batch_norm_l20': True, 'l2_reg_l20': 0.00044164216113050646, 'n_units_l21': 2048, 'activation_l21': 'ReLU', 'dropout_l21': 0.38463892482779305, 'batch_norm_l21': True, 'l2_reg_l21': 0.019708497024214906, 'n_units_l22': 256, 'activation_l22': 'LeakyReLU', 'dropout_l22': 0.14387112938659163, 'batch_norm_l22': True, 'l2_reg_l22': 0.01321580816934933, 'leakyrelu_alpha_l22': 0.1430517325715934, 'n_units_l23': 1024, 'activation_l23': 'ELU', 'dropout_l23': 0.14529586548049897, 'batch_norm_l23': False, 'l2_reg_l23': 2.5829901401264692e-05, 'optimizer': 'SGD', 'lr': 0.0731492589993331, 'sgd_momentum': 0.6049409943506071, 'epochs': 386, 'batch_size': 128, 'early_stopping_patience': 38, 'lr_reduce_factor': 0.4857429451846245, 'lr_reduce_patience': 26, 'min_lr': 4.694189638852602e-06}. Best is trial 139 with value: 0.28159837882515115.\u001b[0m\n"
     ]
    },
    {
     "name": "stdout",
     "output_type": "stream",
     "text": [
      "Early stopping\n",
      "Trial 148 completado. Mejor pérdida en validación: 0.2853750932453967\n",
      "Usando GPU para el Trial 149\n",
      "Entrenando Trial 149...\n"
     ]
    },
    {
     "name": "stderr",
     "output_type": "stream",
     "text": [
      "                                                                 \r"
     ]
    },
    {
     "name": "stdout",
     "output_type": "stream",
     "text": [
      "Epoch   110: reducing learning rate of group 0 to 3.7830e-02.\n"
     ]
    },
    {
     "name": "stderr",
     "output_type": "stream",
     "text": [
      "\u001b[32m[I 2023-12-06 17:03:16,231]\u001b[0m Trial 149 finished with value: 0.3569354223255724 and parameters: {'n_layers': 25, 'n_units_l0': 512, 'activation_l0': 'LeakyReLU', 'dropout_l0': 0.14683910131303426, 'batch_norm_l0': False, 'l2_reg_l0': 0.0005164830050913747, 'leakyrelu_alpha_l0': 0.0937253152098088, 'n_units_l1': 16, 'activation_l1': 'LeakyReLU', 'dropout_l1': 0.44554831991442445, 'batch_norm_l1': True, 'l2_reg_l1': 0.05068679307117906, 'leakyrelu_alpha_l1': 0.06401777084292984, 'n_units_l2': 512, 'activation_l2': 'SELU', 'dropout_l2': 0.2120032637872445, 'batch_norm_l2': True, 'l2_reg_l2': 0.017181125462921974, 'n_units_l3': 64, 'activation_l3': 'LeakyReLU', 'dropout_l3': 0.012018976254258296, 'batch_norm_l3': False, 'l2_reg_l3': 0.0002765870255619446, 'leakyrelu_alpha_l3': 0.25012108717344594, 'n_units_l4': 128, 'activation_l4': 'SELU', 'dropout_l4': 0.4761838805807815, 'batch_norm_l4': True, 'l2_reg_l4': 0.001396039237611374, 'n_units_l5': 16, 'activation_l5': 'LeakyReLU', 'dropout_l5': 0.04577712355522479, 'batch_norm_l5': True, 'l2_reg_l5': 0.00012159406851973955, 'leakyrelu_alpha_l5': 0.08179295723437352, 'n_units_l6': 32, 'activation_l6': 'SELU', 'dropout_l6': 0.06675107443807402, 'batch_norm_l6': False, 'l2_reg_l6': 1.935083527683061e-05, 'n_units_l7': 1024, 'activation_l7': 'LeakyReLU', 'dropout_l7': 0.043665383983629395, 'batch_norm_l7': False, 'l2_reg_l7': 0.006056548662303991, 'leakyrelu_alpha_l7': 0.07103101876583899, 'n_units_l8': 64, 'activation_l8': 'ReLU', 'dropout_l8': 0.21791468313451995, 'batch_norm_l8': False, 'l2_reg_l8': 0.002353749981371562, 'n_units_l9': 64, 'activation_l9': 'ReLU', 'dropout_l9': 0.277536417574694, 'batch_norm_l9': True, 'l2_reg_l9': 0.00015207608091206937, 'n_units_l10': 512, 'activation_l10': 'ELU', 'dropout_l10': 0.16925269627292872, 'batch_norm_l10': True, 'l2_reg_l10': 0.0001343728978406371, 'n_units_l11': 1024, 'activation_l11': 'Tanh', 'dropout_l11': 0.3046724745647295, 'batch_norm_l11': True, 'l2_reg_l11': 0.01664713412142443, 'n_units_l12': 32, 'activation_l12': 'Tanh', 'dropout_l12': 0.05464579561430168, 'batch_norm_l12': True, 'l2_reg_l12': 0.00011465104736435666, 'n_units_l13': 512, 'activation_l13': 'LeakyReLU', 'dropout_l13': 0.03486515775302648, 'batch_norm_l13': True, 'l2_reg_l13': 1.2732512875618976e-05, 'leakyrelu_alpha_l13': 0.2799535820773093, 'n_units_l14': 128, 'activation_l14': 'Tanh', 'dropout_l14': 0.2790148931066288, 'batch_norm_l14': True, 'l2_reg_l14': 0.03126907736062669, 'n_units_l15': 512, 'activation_l15': 'SELU', 'dropout_l15': 0.16633220317307207, 'batch_norm_l15': False, 'l2_reg_l15': 0.031327842646330234, 'n_units_l16': 32, 'activation_l16': 'ELU', 'dropout_l16': 0.18757875768312846, 'batch_norm_l16': True, 'l2_reg_l16': 1.139944817396045e-05, 'n_units_l17': 512, 'activation_l17': 'ELU', 'dropout_l17': 0.1424613344353679, 'batch_norm_l17': True, 'l2_reg_l17': 0.0013092151430832376, 'n_units_l18': 512, 'activation_l18': 'ReLU', 'dropout_l18': 0.032923384927972296, 'batch_norm_l18': False, 'l2_reg_l18': 0.03137831878563546, 'n_units_l19': 1024, 'activation_l19': 'LeakyReLU', 'dropout_l19': 0.311421627902743, 'batch_norm_l19': True, 'l2_reg_l19': 7.617821808085463e-05, 'leakyrelu_alpha_l19': 0.14361689337192501, 'n_units_l20': 16, 'activation_l20': 'SELU', 'dropout_l20': 0.26281136436840297, 'batch_norm_l20': True, 'l2_reg_l20': 0.00037235160993630967, 'n_units_l21': 2048, 'activation_l21': 'ReLU', 'dropout_l21': 0.3897394860356732, 'batch_norm_l21': True, 'l2_reg_l21': 0.020846340797641718, 'n_units_l22': 256, 'activation_l22': 'LeakyReLU', 'dropout_l22': 0.13355416890724417, 'batch_norm_l22': True, 'l2_reg_l22': 0.01340680384895957, 'leakyrelu_alpha_l22': 0.1477641321849661, 'n_units_l23': 1024, 'activation_l23': 'ELU', 'dropout_l23': 0.14604031334133896, 'batch_norm_l23': False, 'l2_reg_l23': 2.78300289444975e-05, 'n_units_l24': 64, 'activation_l24': 'ReLU', 'dropout_l24': 0.11265192391038474, 'batch_norm_l24': False, 'l2_reg_l24': 0.0022366638056080484, 'optimizer': 'SGD', 'lr': 0.07921792823685748, 'sgd_momentum': 0.5980693052516571, 'epochs': 359, 'batch_size': 128, 'early_stopping_patience': 40, 'lr_reduce_factor': 0.47753770772452414, 'lr_reduce_patience': 26, 'min_lr': 5.2815568346351225e-06}. Best is trial 139 with value: 0.28159837882515115.\u001b[0m\n"
     ]
    },
    {
     "name": "stdout",
     "output_type": "stream",
     "text": [
      "Early stopping\n",
      "Trial 149 completado. Mejor pérdida en validación: 0.3569354223255724\n",
      "Usando GPU para el Trial 150\n",
      "Entrenando Trial 150...\n"
     ]
    },
    {
     "name": "stderr",
     "output_type": "stream",
     "text": [
      "                                                                 \r"
     ]
    },
    {
     "name": "stdout",
     "output_type": "stream",
     "text": [
      "Epoch   214: reducing learning rate of group 0 to 3.4061e-02.\n"
     ]
    },
    {
     "name": "stderr",
     "output_type": "stream",
     "text": [
      "\u001b[32m[I 2023-12-06 17:12:13,440]\u001b[0m Trial 150 finished with value: 0.2913675182263665 and parameters: {'n_layers': 24, 'n_units_l0': 512, 'activation_l0': 'LeakyReLU', 'dropout_l0': 0.17305905641529107, 'batch_norm_l0': False, 'l2_reg_l0': 0.0003361942892294323, 'leakyrelu_alpha_l0': 0.09069076751141691, 'n_units_l1': 2048, 'activation_l1': 'LeakyReLU', 'dropout_l1': 0.4686933099709651, 'batch_norm_l1': True, 'l2_reg_l1': 0.04106102294418262, 'leakyrelu_alpha_l1': 0.052144664970531066, 'n_units_l2': 512, 'activation_l2': 'SELU', 'dropout_l2': 0.23418652377739416, 'batch_norm_l2': True, 'l2_reg_l2': 0.012707318275738658, 'n_units_l3': 16, 'activation_l3': 'LeakyReLU', 'dropout_l3': 0.01846267325823532, 'batch_norm_l3': False, 'l2_reg_l3': 0.00032035214972509206, 'leakyrelu_alpha_l3': 0.23424272495991413, 'n_units_l4': 128, 'activation_l4': 'SELU', 'dropout_l4': 0.4511571262386595, 'batch_norm_l4': True, 'l2_reg_l4': 0.0017663630902281099, 'n_units_l5': 16, 'activation_l5': 'LeakyReLU', 'dropout_l5': 0.04035953748817525, 'batch_norm_l5': True, 'l2_reg_l5': 7.410533400875166e-05, 'leakyrelu_alpha_l5': 0.0794874112971949, 'n_units_l6': 32, 'activation_l6': 'SELU', 'dropout_l6': 0.05392535217557253, 'batch_norm_l6': False, 'l2_reg_l6': 2.9535622980118106e-05, 'n_units_l7': 1024, 'activation_l7': 'LeakyReLU', 'dropout_l7': 0.057958671772573155, 'batch_norm_l7': False, 'l2_reg_l7': 0.007806360695452673, 'leakyrelu_alpha_l7': 0.0683323809125118, 'n_units_l8': 64, 'activation_l8': 'ReLU', 'dropout_l8': 0.20725032959184234, 'batch_norm_l8': False, 'l2_reg_l8': 0.0026708974228435516, 'n_units_l9': 64, 'activation_l9': 'ReLU', 'dropout_l9': 0.25423485939483514, 'batch_norm_l9': True, 'l2_reg_l9': 0.0002063814895492132, 'n_units_l10': 512, 'activation_l10': 'ELU', 'dropout_l10': 0.17887784102570106, 'batch_norm_l10': True, 'l2_reg_l10': 0.00010694704195451682, 'n_units_l11': 1024, 'activation_l11': 'Tanh', 'dropout_l11': 0.316368181917385, 'batch_norm_l11': True, 'l2_reg_l11': 0.012759259851521725, 'n_units_l12': 32, 'activation_l12': 'Tanh', 'dropout_l12': 0.05013204633903606, 'batch_norm_l12': True, 'l2_reg_l12': 9.490444264917423e-05, 'n_units_l13': 512, 'activation_l13': 'LeakyReLU', 'dropout_l13': 0.023586548567388753, 'batch_norm_l13': True, 'l2_reg_l13': 1.3665261090449188e-05, 'leakyrelu_alpha_l13': 0.2836265968172022, 'n_units_l14': 128, 'activation_l14': 'Tanh', 'dropout_l14': 0.270966477315093, 'batch_norm_l14': True, 'l2_reg_l14': 0.04943446209347994, 'n_units_l15': 512, 'activation_l15': 'SELU', 'dropout_l15': 0.1534552131666383, 'batch_norm_l15': False, 'l2_reg_l15': 0.04881911587609672, 'n_units_l16': 32, 'activation_l16': 'ELU', 'dropout_l16': 0.17261725681967968, 'batch_norm_l16': True, 'l2_reg_l16': 1.0084847853928311e-05, 'n_units_l17': 512, 'activation_l17': 'ELU', 'dropout_l17': 0.1324558950590865, 'batch_norm_l17': True, 'l2_reg_l17': 0.0009303386058872001, 'n_units_l18': 512, 'activation_l18': 'ReLU', 'dropout_l18': 0.04048108875216781, 'batch_norm_l18': False, 'l2_reg_l18': 0.036140391294831514, 'n_units_l19': 1024, 'activation_l19': 'LeakyReLU', 'dropout_l19': 0.3336497185942639, 'batch_norm_l19': True, 'l2_reg_l19': 9.918654743948378e-05, 'leakyrelu_alpha_l19': 0.12854896980980268, 'n_units_l20': 16, 'activation_l20': 'SELU', 'dropout_l20': 0.27795479469218787, 'batch_norm_l20': True, 'l2_reg_l20': 0.000345424474397022, 'n_units_l21': 2048, 'activation_l21': 'ReLU', 'dropout_l21': 0.40178421178910856, 'batch_norm_l21': True, 'l2_reg_l21': 0.01222728344561866, 'n_units_l22': 256, 'activation_l22': 'LeakyReLU', 'dropout_l22': 0.14952156369777458, 'batch_norm_l22': True, 'l2_reg_l22': 0.020431263289806992, 'leakyrelu_alpha_l22': 0.15132779701949164, 'n_units_l23': 1024, 'activation_l23': 'ELU', 'dropout_l23': 0.1794592030078078, 'batch_norm_l23': False, 'l2_reg_l23': 1.474993471720011e-05, 'optimizer': 'SGD', 'lr': 0.06972426641160762, 'sgd_momentum': 0.6143077305026096, 'epochs': 234, 'batch_size': 128, 'early_stopping_patience': 41, 'lr_reduce_factor': 0.48851339620920475, 'lr_reduce_patience': 25, 'min_lr': 4.695207663486336e-06}. Best is trial 139 with value: 0.28159837882515115.\u001b[0m\n"
     ]
    },
    {
     "name": "stdout",
     "output_type": "stream",
     "text": [
      "Trial 150 completado. Mejor pérdida en validación: 0.2913675182263665\n",
      "Usando GPU para el Trial 151\n",
      "Entrenando Trial 151...\n"
     ]
    },
    {
     "name": "stderr",
     "output_type": "stream",
     "text": [
      "                                                                 \r"
     ]
    },
    {
     "name": "stdout",
     "output_type": "stream",
     "text": [
      "Epoch   219: reducing learning rate of group 0 to 4.4129e-02.\n"
     ]
    },
    {
     "name": "stderr",
     "output_type": "stream",
     "text": [
      "                                                                 \r"
     ]
    },
    {
     "name": "stdout",
     "output_type": "stream",
     "text": [
      "Epoch   250: reducing learning rate of group 0 to 1.9661e-02.\n"
     ]
    },
    {
     "name": "stderr",
     "output_type": "stream",
     "text": [
      "\u001b[32m[I 2023-12-06 17:22:30,249]\u001b[0m Trial 151 finished with value: 0.28748520343446077 and parameters: {'n_layers': 24, 'n_units_l0': 512, 'activation_l0': 'LeakyReLU', 'dropout_l0': 0.16102890951099386, 'batch_norm_l0': False, 'l2_reg_l0': 0.0002163418628829994, 'leakyrelu_alpha_l0': 0.08798253168569589, 'n_units_l1': 2048, 'activation_l1': 'LeakyReLU', 'dropout_l1': 0.46434354317412263, 'batch_norm_l1': True, 'l2_reg_l1': 0.044785477649558925, 'leakyrelu_alpha_l1': 0.060237721625651816, 'n_units_l2': 512, 'activation_l2': 'SELU', 'dropout_l2': 0.2311876613770537, 'batch_norm_l2': True, 'l2_reg_l2': 0.013069610357760409, 'n_units_l3': 64, 'activation_l3': 'LeakyReLU', 'dropout_l3': 0.013582456449789403, 'batch_norm_l3': False, 'l2_reg_l3': 0.0003335863890293033, 'leakyrelu_alpha_l3': 0.238321502614853, 'n_units_l4': 128, 'activation_l4': 'SELU', 'dropout_l4': 0.44711409863654616, 'batch_norm_l4': True, 'l2_reg_l4': 0.0018857421350173533, 'n_units_l5': 16, 'activation_l5': 'LeakyReLU', 'dropout_l5': 0.05459285819878691, 'batch_norm_l5': True, 'l2_reg_l5': 7.9876698921283e-05, 'leakyrelu_alpha_l5': 0.07038160706981307, 'n_units_l6': 32, 'activation_l6': 'SELU', 'dropout_l6': 0.052809714415220324, 'batch_norm_l6': False, 'l2_reg_l6': 2.9551267437955003e-05, 'n_units_l7': 1024, 'activation_l7': 'LeakyReLU', 'dropout_l7': 0.06182374531697789, 'batch_norm_l7': False, 'l2_reg_l7': 0.007160567341498707, 'leakyrelu_alpha_l7': 0.05785575074330336, 'n_units_l8': 64, 'activation_l8': 'ReLU', 'dropout_l8': 0.20022622618566155, 'batch_norm_l8': False, 'l2_reg_l8': 0.002800083422629413, 'n_units_l9': 64, 'activation_l9': 'ReLU', 'dropout_l9': 0.3034535099258736, 'batch_norm_l9': True, 'l2_reg_l9': 0.0002106411603142964, 'n_units_l10': 512, 'activation_l10': 'ELU', 'dropout_l10': 0.18096310790177095, 'batch_norm_l10': True, 'l2_reg_l10': 0.00010257491845269264, 'n_units_l11': 1024, 'activation_l11': 'Tanh', 'dropout_l11': 0.3192292549260612, 'batch_norm_l11': True, 'l2_reg_l11': 0.012382647348838122, 'n_units_l12': 32, 'activation_l12': 'Tanh', 'dropout_l12': 0.04890452995424158, 'batch_norm_l12': True, 'l2_reg_l12': 9.428307867157912e-05, 'n_units_l13': 512, 'activation_l13': 'LeakyReLU', 'dropout_l13': 0.022351529016132597, 'batch_norm_l13': True, 'l2_reg_l13': 1.0965630265746383e-05, 'leakyrelu_alpha_l13': 0.28611023613747416, 'n_units_l14': 128, 'activation_l14': 'Tanh', 'dropout_l14': 0.2696176720362866, 'batch_norm_l14': True, 'l2_reg_l14': 0.032012414713929904, 'n_units_l15': 512, 'activation_l15': 'SELU', 'dropout_l15': 0.14254068447935286, 'batch_norm_l15': False, 'l2_reg_l15': 0.04681507396445758, 'n_units_l16': 32, 'activation_l16': 'ELU', 'dropout_l16': 0.16561063241835863, 'batch_norm_l16': True, 'l2_reg_l16': 1.563533757061496e-05, 'n_units_l17': 512, 'activation_l17': 'ELU', 'dropout_l17': 0.1293158566785118, 'batch_norm_l17': True, 'l2_reg_l17': 0.000932614516508868, 'n_units_l18': 512, 'activation_l18': 'ReLU', 'dropout_l18': 0.04194349870079366, 'batch_norm_l18': False, 'l2_reg_l18': 0.06693968196312511, 'n_units_l19': 1024, 'activation_l19': 'LeakyReLU', 'dropout_l19': 0.33650817259072996, 'batch_norm_l19': True, 'l2_reg_l19': 0.00010029635085686815, 'leakyrelu_alpha_l19': 0.13457023165788634, 'n_units_l20': 16, 'activation_l20': 'SELU', 'dropout_l20': 0.27641956975777904, 'batch_norm_l20': True, 'l2_reg_l20': 0.0003562995559417924, 'n_units_l21': 2048, 'activation_l21': 'ReLU', 'dropout_l21': 0.4056650976446456, 'batch_norm_l21': True, 'l2_reg_l21': 0.011580420266164366, 'n_units_l22': 256, 'activation_l22': 'LeakyReLU', 'dropout_l22': 0.14774836648114847, 'batch_norm_l22': True, 'l2_reg_l22': 0.009323772670061988, 'leakyrelu_alpha_l22': 0.14276418201717395, 'n_units_l23': 1024, 'activation_l23': 'ELU', 'dropout_l23': 0.1625123732149908, 'batch_norm_l23': False, 'l2_reg_l23': 1.3907130993691193e-05, 'optimizer': 'SGD', 'lr': 0.09904766043658952, 'sgd_momentum': 0.6148152894988451, 'epochs': 286, 'batch_size': 128, 'early_stopping_patience': 41, 'lr_reduce_factor': 0.44553549088013983, 'lr_reduce_patience': 25, 'min_lr': 4.512988584325436e-06}. Best is trial 139 with value: 0.28159837882515115.\u001b[0m\n"
     ]
    },
    {
     "name": "stdout",
     "output_type": "stream",
     "text": [
      "Early stopping\n",
      "Trial 151 completado. Mejor pérdida en validación: 0.28748520343446077\n",
      "Usando GPU para el Trial 152\n",
      "Entrenando Trial 152...\n"
     ]
    },
    {
     "name": "stderr",
     "output_type": "stream",
     "text": [
      "\u001b[32m[I 2023-12-06 17:31:07,107]\u001b[0m Trial 152 finished with value: 0.29779374393168123 and parameters: {'n_layers': 23, 'n_units_l0': 512, 'activation_l0': 'LeakyReLU', 'dropout_l0': 0.16090531998670785, 'batch_norm_l0': False, 'l2_reg_l0': 0.00022051875257406633, 'leakyrelu_alpha_l0': 0.08693103919044376, 'n_units_l1': 2048, 'activation_l1': 'SELU', 'dropout_l1': 0.4514030452316679, 'batch_norm_l1': True, 'l2_reg_l1': 0.0399826546087633, 'n_units_l2': 512, 'activation_l2': 'SELU', 'dropout_l2': 0.232441808531587, 'batch_norm_l2': True, 'l2_reg_l2': 0.020801288846231236, 'n_units_l3': 64, 'activation_l3': 'LeakyReLU', 'dropout_l3': 0.019294780081694534, 'batch_norm_l3': False, 'l2_reg_l3': 0.0003242862909604622, 'leakyrelu_alpha_l3': 0.23693168299871892, 'n_units_l4': 128, 'activation_l4': 'SELU', 'dropout_l4': 0.4523596261670998, 'batch_norm_l4': True, 'l2_reg_l4': 0.001983496170540254, 'n_units_l5': 16, 'activation_l5': 'LeakyReLU', 'dropout_l5': 0.05632996387631277, 'batch_norm_l5': True, 'l2_reg_l5': 7.569186517604179e-05, 'leakyrelu_alpha_l5': 0.07222822239726369, 'n_units_l6': 32, 'activation_l6': 'SELU', 'dropout_l6': 0.0547336127590047, 'batch_norm_l6': False, 'l2_reg_l6': 2.9705429815606403e-05, 'n_units_l7': 1024, 'activation_l7': 'LeakyReLU', 'dropout_l7': 0.0550687906559066, 'batch_norm_l7': False, 'l2_reg_l7': 0.008092260682058974, 'leakyrelu_alpha_l7': 0.06004446912030657, 'n_units_l8': 64, 'activation_l8': 'ReLU', 'dropout_l8': 0.1981427215908244, 'batch_norm_l8': False, 'l2_reg_l8': 0.002663348779855873, 'n_units_l9': 64, 'activation_l9': 'LeakyReLU', 'dropout_l9': 0.30089073691700385, 'batch_norm_l9': True, 'l2_reg_l9': 0.00020981387775615874, 'leakyrelu_alpha_l9': 0.21657109350732023, 'n_units_l10': 512, 'activation_l10': 'ELU', 'dropout_l10': 0.17981594331095357, 'batch_norm_l10': True, 'l2_reg_l10': 0.00011001073980029192, 'n_units_l11': 1024, 'activation_l11': 'Tanh', 'dropout_l11': 0.3154296617964488, 'batch_norm_l11': True, 'l2_reg_l11': 0.011893152344503102, 'n_units_l12': 32, 'activation_l12': 'Tanh', 'dropout_l12': 0.03714912686643076, 'batch_norm_l12': True, 'l2_reg_l12': 9.719828246620692e-05, 'n_units_l13': 512, 'activation_l13': 'LeakyReLU', 'dropout_l13': 0.013058137704033539, 'batch_norm_l13': True, 'l2_reg_l13': 1.1775451681973753e-05, 'leakyrelu_alpha_l13': 0.28472069738858624, 'n_units_l14': 128, 'activation_l14': 'Tanh', 'dropout_l14': 0.26558010733064563, 'batch_norm_l14': True, 'l2_reg_l14': 0.02364010574566118, 'n_units_l15': 512, 'activation_l15': 'SELU', 'dropout_l15': 0.14946112659059058, 'batch_norm_l15': False, 'l2_reg_l15': 0.048530997075754104, 'n_units_l16': 32, 'activation_l16': 'ELU', 'dropout_l16': 0.17694015765455032, 'batch_norm_l16': True, 'l2_reg_l16': 1.540364677718845e-05, 'n_units_l17': 512, 'activation_l17': 'ELU', 'dropout_l17': 0.12498432711808502, 'batch_norm_l17': True, 'l2_reg_l17': 0.0007591853716602057, 'n_units_l18': 512, 'activation_l18': 'ReLU', 'dropout_l18': 0.04199256450428006, 'batch_norm_l18': False, 'l2_reg_l18': 0.06929985953232085, 'n_units_l19': 1024, 'activation_l19': 'LeakyReLU', 'dropout_l19': 0.3353769601468467, 'batch_norm_l19': True, 'l2_reg_l19': 0.00011450045888083999, 'leakyrelu_alpha_l19': 0.13090434948621868, 'n_units_l20': 16, 'activation_l20': 'SELU', 'dropout_l20': 0.2784941614810518, 'batch_norm_l20': True, 'l2_reg_l20': 0.00044275875416174224, 'n_units_l21': 2048, 'activation_l21': 'ReLU', 'dropout_l21': 0.40580875449723897, 'batch_norm_l21': True, 'l2_reg_l21': 0.01405685454729468, 'n_units_l22': 256, 'activation_l22': 'LeakyReLU', 'dropout_l22': 0.15803769128944517, 'batch_norm_l22': True, 'l2_reg_l22': 0.007606801720343799, 'leakyrelu_alpha_l22': 0.14039954052370507, 'optimizer': 'SGD', 'lr': 0.06807572446643712, 'sgd_momentum': 0.6146136981987778, 'epochs': 229, 'batch_size': 128, 'early_stopping_patience': 41, 'lr_reduce_factor': 0.4358631151736465, 'lr_reduce_patience': 25, 'min_lr': 4.7639185401970395e-06}. Best is trial 139 with value: 0.28159837882515115.\u001b[0m\n"
     ]
    },
    {
     "name": "stdout",
     "output_type": "stream",
     "text": [
      "Trial 152 completado. Mejor pérdida en validación: 0.29779374393168123\n",
      "Usando GPU para el Trial 153\n",
      "Entrenando Trial 153...\n"
     ]
    },
    {
     "name": "stderr",
     "output_type": "stream",
     "text": [
      "                                                                 \r"
     ]
    },
    {
     "name": "stdout",
     "output_type": "stream",
     "text": [
      "Epoch   190: reducing learning rate of group 0 to 4.4852e-02.\n"
     ]
    },
    {
     "name": "stderr",
     "output_type": "stream",
     "text": [
      "\u001b[32m[I 2023-12-06 17:40:16,059]\u001b[0m Trial 153 finished with value: 0.29198050507177437 and parameters: {'n_layers': 26, 'n_units_l0': 512, 'activation_l0': 'LeakyReLU', 'dropout_l0': 0.17653578242134846, 'batch_norm_l0': False, 'l2_reg_l0': 0.00030540219808787805, 'leakyrelu_alpha_l0': 0.07234827485460112, 'n_units_l1': 2048, 'activation_l1': 'ReLU', 'dropout_l1': 0.46807928034447055, 'batch_norm_l1': True, 'l2_reg_l1': 0.04597832032216058, 'n_units_l2': 512, 'activation_l2': 'SELU', 'dropout_l2': 0.2034147648928628, 'batch_norm_l2': True, 'l2_reg_l2': 0.012685340543555827, 'n_units_l3': 64, 'activation_l3': 'LeakyReLU', 'dropout_l3': 0.010788907677903671, 'batch_norm_l3': False, 'l2_reg_l3': 0.00038602001930685467, 'leakyrelu_alpha_l3': 0.23215295293325028, 'n_units_l4': 128, 'activation_l4': 'SELU', 'dropout_l4': 0.46217848918043497, 'batch_norm_l4': True, 'l2_reg_l4': 0.0017177733768321548, 'n_units_l5': 16, 'activation_l5': 'LeakyReLU', 'dropout_l5': 0.06978295296215208, 'batch_norm_l5': True, 'l2_reg_l5': 6.782621392603217e-05, 'leakyrelu_alpha_l5': 0.0580207108647853, 'n_units_l6': 32, 'activation_l6': 'SELU', 'dropout_l6': 0.08947036159463431, 'batch_norm_l6': False, 'l2_reg_l6': 2.4484667778573697e-05, 'n_units_l7': 1024, 'activation_l7': 'LeakyReLU', 'dropout_l7': 0.0307990013778501, 'batch_norm_l7': False, 'l2_reg_l7': 0.0068177750473702335, 'leakyrelu_alpha_l7': 0.07724261873264493, 'n_units_l8': 64, 'activation_l8': 'ReLU', 'dropout_l8': 0.23951084795286426, 'batch_norm_l8': False, 'l2_reg_l8': 0.003153761545830793, 'n_units_l9': 64, 'activation_l9': 'ReLU', 'dropout_l9': 0.32534968648997376, 'batch_norm_l9': True, 'l2_reg_l9': 0.00019784588524924716, 'n_units_l10': 512, 'activation_l10': 'ELU', 'dropout_l10': 0.1505648720196558, 'batch_norm_l10': True, 'l2_reg_l10': 9.744221728656876e-05, 'n_units_l11': 1024, 'activation_l11': 'Tanh', 'dropout_l11': 0.2979904671248856, 'batch_norm_l11': True, 'l2_reg_l11': 0.007329853456206116, 'n_units_l12': 32, 'activation_l12': 'Tanh', 'dropout_l12': 0.04747665963285014, 'batch_norm_l12': True, 'l2_reg_l12': 6.885471295461656e-05, 'n_units_l13': 512, 'activation_l13': 'LeakyReLU', 'dropout_l13': 0.03755142013147944, 'batch_norm_l13': True, 'l2_reg_l13': 1.0134063015716765e-05, 'leakyrelu_alpha_l13': 0.29869679302290225, 'n_units_l14': 128, 'activation_l14': 'Tanh', 'dropout_l14': 0.27716566514750335, 'batch_norm_l14': True, 'l2_reg_l14': 0.03335598707441218, 'n_units_l15': 512, 'activation_l15': 'SELU', 'dropout_l15': 0.11858902981990076, 'batch_norm_l15': False, 'l2_reg_l15': 0.034625346784447564, 'n_units_l16': 32, 'activation_l16': 'ELU', 'dropout_l16': 0.1539744982636343, 'batch_norm_l16': False, 'l2_reg_l16': 1.2255786163412494e-05, 'n_units_l17': 512, 'activation_l17': 'ELU', 'dropout_l17': 0.13256129924442353, 'batch_norm_l17': True, 'l2_reg_l17': 0.0009250566644980749, 'n_units_l18': 512, 'activation_l18': 'ReLU', 'dropout_l18': 0.01948501581112615, 'batch_norm_l18': False, 'l2_reg_l18': 0.08613116487434902, 'n_units_l19': 1024, 'activation_l19': 'LeakyReLU', 'dropout_l19': 0.3256624411865335, 'batch_norm_l19': True, 'l2_reg_l19': 9.286807421095713e-05, 'leakyrelu_alpha_l19': 0.1402403887791042, 'n_units_l20': 16, 'activation_l20': 'SELU', 'dropout_l20': 0.2850271086272473, 'batch_norm_l20': True, 'l2_reg_l20': 0.0006009332251154973, 'n_units_l21': 2048, 'activation_l21': 'ReLU', 'dropout_l21': 0.36760324877371076, 'batch_norm_l21': True, 'l2_reg_l21': 0.0180745219479511, 'n_units_l22': 256, 'activation_l22': 'LeakyReLU', 'dropout_l22': 0.13793379598791136, 'batch_norm_l22': True, 'l2_reg_l22': 0.019633456688231948, 'leakyrelu_alpha_l22': 0.14525173503159497, 'n_units_l23': 1024, 'activation_l23': 'ELU', 'dropout_l23': 0.17103196695627987, 'batch_norm_l23': False, 'l2_reg_l23': 1.9661883716931474e-05, 'n_units_l24': 64, 'activation_l24': 'ReLU', 'dropout_l24': 0.15799184289781626, 'batch_norm_l24': False, 'l2_reg_l24': 0.0017978216497600513, 'n_units_l25': 1024, 'activation_l25': 'ELU', 'dropout_l25': 0.48655592329231095, 'batch_norm_l25': False, 'l2_reg_l25': 0.0016015441164808893, 'optimizer': 'SGD', 'lr': 0.09920478610549062, 'sgd_momentum': 0.6231552227188845, 'epochs': 229, 'batch_size': 128, 'early_stopping_patience': 42, 'lr_reduce_factor': 0.45211173584296666, 'lr_reduce_patience': 27, 'min_lr': 4.223976304214924e-06}. Best is trial 139 with value: 0.28159837882515115.\u001b[0m\n"
     ]
    },
    {
     "name": "stdout",
     "output_type": "stream",
     "text": [
      "Trial 153 completado. Mejor pérdida en validación: 0.29198050507177437\n",
      "Usando GPU para el Trial 154\n",
      "Entrenando Trial 154...\n"
     ]
    },
    {
     "name": "stderr",
     "output_type": "stream",
     "text": [
      "                                                                 \r"
     ]
    },
    {
     "name": "stdout",
     "output_type": "stream",
     "text": [
      "Epoch   244: reducing learning rate of group 0 to 1.9395e-02.\n"
     ]
    },
    {
     "name": "stderr",
     "output_type": "stream",
     "text": [
      "\u001b[32m[I 2023-12-06 17:52:11,282]\u001b[0m Trial 154 finished with value: 0.29018484525622124 and parameters: {'n_layers': 24, 'n_units_l0': 512, 'activation_l0': 'LeakyReLU', 'dropout_l0': 0.15910125005016074, 'batch_norm_l0': False, 'l2_reg_l0': 0.00016114295891337242, 'leakyrelu_alpha_l0': 0.10748712249086588, 'n_units_l1': 512, 'activation_l1': 'LeakyReLU', 'dropout_l1': 0.47978958266709143, 'batch_norm_l1': True, 'l2_reg_l1': 0.039099309722122055, 'leakyrelu_alpha_l1': 0.06276602115572745, 'n_units_l2': 512, 'activation_l2': 'SELU', 'dropout_l2': 0.21796319168182654, 'batch_norm_l2': True, 'l2_reg_l2': 0.014365855402710783, 'n_units_l3': 64, 'activation_l3': 'LeakyReLU', 'dropout_l3': 0.026930728791225433, 'batch_norm_l3': False, 'l2_reg_l3': 0.00027407783019378667, 'leakyrelu_alpha_l3': 0.2544115361441676, 'n_units_l4': 128, 'activation_l4': 'SELU', 'dropout_l4': 0.4476171511874214, 'batch_norm_l4': True, 'l2_reg_l4': 0.00211290461787502, 'n_units_l5': 16, 'activation_l5': 'LeakyReLU', 'dropout_l5': 0.05051349890758129, 'batch_norm_l5': True, 'l2_reg_l5': 0.0001031895553241385, 'leakyrelu_alpha_l5': 0.04130437762025538, 'n_units_l6': 32, 'activation_l6': 'SELU', 'dropout_l6': 0.052383345415912955, 'batch_norm_l6': True, 'l2_reg_l6': 3.538499660310083e-05, 'n_units_l7': 1024, 'activation_l7': 'LeakyReLU', 'dropout_l7': 0.0143992434553116, 'batch_norm_l7': False, 'l2_reg_l7': 0.010636167911535259, 'leakyrelu_alpha_l7': 0.05003412583472912, 'n_units_l8': 64, 'activation_l8': 'ReLU', 'dropout_l8': 0.21544925032657256, 'batch_norm_l8': True, 'l2_reg_l8': 0.0028446196292055467, 'n_units_l9': 64, 'activation_l9': 'ReLU', 'dropout_l9': 0.265320373262464, 'batch_norm_l9': True, 'l2_reg_l9': 0.00014206168312843245, 'n_units_l10': 512, 'activation_l10': 'ELU', 'dropout_l10': 0.18769118682325459, 'batch_norm_l10': True, 'l2_reg_l10': 5.5654456208878325e-05, 'n_units_l11': 1024, 'activation_l11': 'Tanh', 'dropout_l11': 0.31753976244616394, 'batch_norm_l11': True, 'l2_reg_l11': 0.009435877051611474, 'n_units_l12': 32, 'activation_l12': 'Tanh', 'dropout_l12': 0.030168631570556548, 'batch_norm_l12': True, 'l2_reg_l12': 9.843571290686874e-05, 'n_units_l13': 512, 'activation_l13': 'LeakyReLU', 'dropout_l13': 0.021848964667908317, 'batch_norm_l13': True, 'l2_reg_l13': 1.3339453030404042e-05, 'leakyrelu_alpha_l13': 0.27594808232852325, 'n_units_l14': 128, 'activation_l14': 'Tanh', 'dropout_l14': 0.2523234074578722, 'batch_norm_l14': True, 'l2_reg_l14': 0.030274083636919136, 'n_units_l15': 512, 'activation_l15': 'SELU', 'dropout_l15': 0.14738994263597674, 'batch_norm_l15': False, 'l2_reg_l15': 0.022156931507866358, 'n_units_l16': 32, 'activation_l16': 'ELU', 'dropout_l16': 0.17598827841206804, 'batch_norm_l16': True, 'l2_reg_l16': 1.0159712078766922e-05, 'n_units_l17': 512, 'activation_l17': 'ELU', 'dropout_l17': 0.14730928578367913, 'batch_norm_l17': True, 'l2_reg_l17': 0.0006140233185802174, 'n_units_l18': 512, 'activation_l18': 'ReLU', 'dropout_l18': 0.007705941927473356, 'batch_norm_l18': False, 'l2_reg_l18': 0.04098468092990111, 'n_units_l19': 1024, 'activation_l19': 'LeakyReLU', 'dropout_l19': 0.30904044426507016, 'batch_norm_l19': True, 'l2_reg_l19': 0.00020852586585831526, 'leakyrelu_alpha_l19': 0.16757307469087715, 'n_units_l20': 16, 'activation_l20': 'SELU', 'dropout_l20': 0.25930642756416267, 'batch_norm_l20': True, 'l2_reg_l20': 0.0003327763655939347, 'n_units_l21': 2048, 'activation_l21': 'ReLU', 'dropout_l21': 0.3502414773397488, 'batch_norm_l21': True, 'l2_reg_l21': 0.027067527644775685, 'n_units_l22': 256, 'activation_l22': 'LeakyReLU', 'dropout_l22': 0.10720210078355918, 'batch_norm_l22': True, 'l2_reg_l22': 0.010715440758248075, 'leakyrelu_alpha_l22': 0.12168987776057075, 'n_units_l23': 1024, 'activation_l23': 'ELU', 'dropout_l23': 0.18540837129108112, 'batch_norm_l23': False, 'l2_reg_l23': 1.4143424224462196e-05, 'optimizer': 'SGD', 'lr': 0.042047126920212737, 'sgd_momentum': 0.5742746291495505, 'epochs': 299, 'batch_size': 128, 'early_stopping_patience': 41, 'lr_reduce_factor': 0.46125974522171936, 'lr_reduce_patience': 25, 'min_lr': 4.426071762509909e-06}. Best is trial 139 with value: 0.28159837882515115.\u001b[0m\n"
     ]
    },
    {
     "name": "stdout",
     "output_type": "stream",
     "text": [
      "Trial 154 completado. Mejor pérdida en validación: 0.29018484525622124\n",
      "Usando GPU para el Trial 155\n",
      "Entrenando Trial 155...\n"
     ]
    },
    {
     "name": "stderr",
     "output_type": "stream",
     "text": [
      "                                                                 \r"
     ]
    },
    {
     "name": "stdout",
     "output_type": "stream",
     "text": [
      "Epoch   192: reducing learning rate of group 0 to 8.9531e-04.\n"
     ]
    },
    {
     "name": "stderr",
     "output_type": "stream",
     "text": [
      "\u001b[32m[I 2023-12-06 18:00:15,044]\u001b[0m Trial 155 finished with value: 0.37910531673460607 and parameters: {'n_layers': 23, 'n_units_l0': 512, 'activation_l0': 'LeakyReLU', 'dropout_l0': 0.1703133304848589, 'batch_norm_l0': False, 'l2_reg_l0': 0.00033603590388824517, 'leakyrelu_alpha_l0': 0.09922211774209189, 'n_units_l1': 512, 'activation_l1': 'LeakyReLU', 'dropout_l1': 0.46961128504866656, 'batch_norm_l1': True, 'l2_reg_l1': 0.03620953766180356, 'leakyrelu_alpha_l1': 0.059198361357486635, 'n_units_l2': 512, 'activation_l2': 'SELU', 'dropout_l2': 0.21927144677742694, 'batch_norm_l2': True, 'l2_reg_l2': 0.01144321906207589, 'n_units_l3': 64, 'activation_l3': 'LeakyReLU', 'dropout_l3': 0.025367714264418507, 'batch_norm_l3': False, 'l2_reg_l3': 0.0003280916200882025, 'leakyrelu_alpha_l3': 0.24518395503097254, 'n_units_l4': 128, 'activation_l4': 'SELU', 'dropout_l4': 0.4479845319298013, 'batch_norm_l4': True, 'l2_reg_l4': 0.0018193500444258896, 'n_units_l5': 16, 'activation_l5': 'LeakyReLU', 'dropout_l5': 0.04414295106016211, 'batch_norm_l5': True, 'l2_reg_l5': 0.00010180339278641737, 'leakyrelu_alpha_l5': 0.03837216148337135, 'n_units_l6': 32, 'activation_l6': 'SELU', 'dropout_l6': 0.049697677537667205, 'batch_norm_l6': True, 'l2_reg_l6': 3.1643014423518025e-05, 'n_units_l7': 1024, 'activation_l7': 'LeakyReLU', 'dropout_l7': 0.0417161340576935, 'batch_norm_l7': False, 'l2_reg_l7': 0.0109872718620252, 'leakyrelu_alpha_l7': 0.04810682976712857, 'n_units_l8': 64, 'activation_l8': 'ReLU', 'dropout_l8': 0.20898071402444832, 'batch_norm_l8': True, 'l2_reg_l8': 0.0037103684603255562, 'n_units_l9': 64, 'activation_l9': 'ReLU', 'dropout_l9': 0.26886024138957365, 'batch_norm_l9': True, 'l2_reg_l9': 0.0001515482507769335, 'n_units_l10': 512, 'activation_l10': 'ELU', 'dropout_l10': 0.18622960302308458, 'batch_norm_l10': True, 'l2_reg_l10': 6.808109429466993e-05, 'n_units_l11': 1024, 'activation_l11': 'Tanh', 'dropout_l11': 0.31269603687720365, 'batch_norm_l11': True, 'l2_reg_l11': 0.008624359413135448, 'n_units_l12': 32, 'activation_l12': 'Tanh', 'dropout_l12': 0.029334380342341947, 'batch_norm_l12': True, 'l2_reg_l12': 9.851889115208204e-05, 'n_units_l13': 512, 'activation_l13': 'LeakyReLU', 'dropout_l13': 0.022197791850234835, 'batch_norm_l13': True, 'l2_reg_l13': 1.3919310263754774e-05, 'leakyrelu_alpha_l13': 0.27669392791895336, 'n_units_l14': 128, 'activation_l14': 'Tanh', 'dropout_l14': 0.2561098843910095, 'batch_norm_l14': True, 'l2_reg_l14': 0.02788336221990194, 'n_units_l15': 512, 'activation_l15': 'SELU', 'dropout_l15': 0.1449729588896533, 'batch_norm_l15': False, 'l2_reg_l15': 0.02364589753658924, 'n_units_l16': 32, 'activation_l16': 'ELU', 'dropout_l16': 0.16857105730072974, 'batch_norm_l16': True, 'l2_reg_l16': 1.0322083973556455e-05, 'n_units_l17': 512, 'activation_l17': 'ELU', 'dropout_l17': 0.15045442874138773, 'batch_norm_l17': True, 'l2_reg_l17': 0.0005961194528925653, 'n_units_l18': 512, 'activation_l18': 'ReLU', 'dropout_l18': 0.011342474654678546, 'batch_norm_l18': False, 'l2_reg_l18': 0.04286638985734991, 'n_units_l19': 1024, 'activation_l19': 'LeakyReLU', 'dropout_l19': 0.34336351067668686, 'batch_norm_l19': True, 'l2_reg_l19': 0.000132763736517643, 'leakyrelu_alpha_l19': 0.1507225166704714, 'n_units_l20': 16, 'activation_l20': 'SELU', 'dropout_l20': 0.25880464205573556, 'batch_norm_l20': True, 'l2_reg_l20': 0.0003153784849991466, 'n_units_l21': 2048, 'activation_l21': 'ReLU', 'dropout_l21': 0.34369363675256925, 'batch_norm_l21': True, 'l2_reg_l21': 0.02772529691937018, 'n_units_l22': 256, 'activation_l22': 'LeakyReLU', 'dropout_l22': 0.09797354693815957, 'batch_norm_l22': True, 'l2_reg_l22': 0.010544776675121784, 'leakyrelu_alpha_l22': 0.12489575913603587, 'optimizer': 'SGD', 'lr': 0.001898905084028615, 'sgd_momentum': 0.5795368444051718, 'epochs': 272, 'batch_size': 128, 'early_stopping_patience': 41, 'lr_reduce_factor': 0.4714876166759228, 'lr_reduce_patience': 25, 'min_lr': 4.5306130754354905e-06}. Best is trial 139 with value: 0.28159837882515115.\u001b[0m\n"
     ]
    },
    {
     "name": "stdout",
     "output_type": "stream",
     "text": [
      "Early stopping\n",
      "Trial 155 completado. Mejor pérdida en validación: 0.37910531673460607\n",
      "Usando GPU para el Trial 156\n",
      "Entrenando Trial 156...\n"
     ]
    },
    {
     "name": "stderr",
     "output_type": "stream",
     "text": [
      "\u001b[32m[I 2023-12-06 18:05:33,377]\u001b[0m Trial 156 finished with value: 0.30927057390373663 and parameters: {'n_layers': 24, 'n_units_l0': 512, 'activation_l0': 'LeakyReLU', 'dropout_l0': 0.15760806677506684, 'batch_norm_l0': False, 'l2_reg_l0': 0.0001447188114877939, 'leakyrelu_alpha_l0': 0.10662944565152244, 'n_units_l1': 512, 'activation_l1': 'LeakyReLU', 'dropout_l1': 0.43690188019621345, 'batch_norm_l1': True, 'l2_reg_l1': 0.05631939030530877, 'leakyrelu_alpha_l1': 0.06565133694263996, 'n_units_l2': 512, 'activation_l2': 'SELU', 'dropout_l2': 0.19237242233841076, 'batch_norm_l2': True, 'l2_reg_l2': 0.016031281697377334, 'n_units_l3': 64, 'activation_l3': 'LeakyReLU', 'dropout_l3': 0.019000055759211203, 'batch_norm_l3': False, 'l2_reg_l3': 0.0002779372752749671, 'leakyrelu_alpha_l3': 0.2592637636029773, 'n_units_l4': 128, 'activation_l4': 'SELU', 'dropout_l4': 0.464684966013536, 'batch_norm_l4': True, 'l2_reg_l4': 0.002295584194632196, 'n_units_l5': 16, 'activation_l5': 'LeakyReLU', 'dropout_l5': 0.05143811171453646, 'batch_norm_l5': True, 'l2_reg_l5': 8.775974014555191e-05, 'leakyrelu_alpha_l5': 0.013647275646989986, 'n_units_l6': 32, 'activation_l6': 'SELU', 'dropout_l6': 0.0660892479987896, 'batch_norm_l6': True, 'l2_reg_l6': 3.680390553716898e-05, 'n_units_l7': 1024, 'activation_l7': 'LeakyReLU', 'dropout_l7': 0.021188334619528522, 'batch_norm_l7': False, 'l2_reg_l7': 0.009037630541076537, 'leakyrelu_alpha_l7': 0.06816028866778018, 'n_units_l8': 64, 'activation_l8': 'ReLU', 'dropout_l8': 0.2244316593092924, 'batch_norm_l8': True, 'l2_reg_l8': 0.002837670103298116, 'n_units_l9': 64, 'activation_l9': 'ReLU', 'dropout_l9': 0.28850637243132427, 'batch_norm_l9': True, 'l2_reg_l9': 0.00012630116544988163, 'n_units_l10': 512, 'activation_l10': 'ELU', 'dropout_l10': 0.17423688759073647, 'batch_norm_l10': True, 'l2_reg_l10': 5.4726364923804666e-05, 'n_units_l11': 1024, 'activation_l11': 'Tanh', 'dropout_l11': 0.3294631019949568, 'batch_norm_l11': True, 'l2_reg_l11': 0.009495900546039273, 'n_units_l12': 32, 'activation_l12': 'Tanh', 'dropout_l12': 0.048114292222248986, 'batch_norm_l12': True, 'l2_reg_l12': 7.988287742637765e-05, 'n_units_l13': 512, 'activation_l13': 'LeakyReLU', 'dropout_l13': 0.009680564419389673, 'batch_norm_l13': True, 'l2_reg_l13': 1.2270224040168371e-05, 'leakyrelu_alpha_l13': 0.28241890353190396, 'n_units_l14': 128, 'activation_l14': 'Tanh', 'dropout_l14': 0.24621462533502553, 'batch_norm_l14': True, 'l2_reg_l14': 0.03716514682722641, 'n_units_l15': 512, 'activation_l15': 'SELU', 'dropout_l15': 0.1615101126339787, 'batch_norm_l15': False, 'l2_reg_l15': 0.044704788980014364, 'n_units_l16': 32, 'activation_l16': 'ELU', 'dropout_l16': 0.18001170517819778, 'batch_norm_l16': True, 'l2_reg_l16': 1.4959824594653319e-05, 'n_units_l17': 512, 'activation_l17': 'ELU', 'dropout_l17': 0.11241250798458186, 'batch_norm_l17': True, 'l2_reg_l17': 0.0010154202766377717, 'n_units_l18': 512, 'activation_l18': 'ReLU', 'dropout_l18': 0.028224520309916706, 'batch_norm_l18': False, 'l2_reg_l18': 0.05729751738254048, 'n_units_l19': 1024, 'activation_l19': 'LeakyReLU', 'dropout_l19': 0.30536006445481345, 'batch_norm_l19': True, 'l2_reg_l19': 8.727730235352756e-05, 'leakyrelu_alpha_l19': 0.16958981557133407, 'n_units_l20': 16, 'activation_l20': 'SELU', 'dropout_l20': 0.2690963731563145, 'batch_norm_l20': True, 'l2_reg_l20': 0.000398056020639367, 'n_units_l21': 2048, 'activation_l21': 'ReLU', 'dropout_l21': 0.40380578966021496, 'batch_norm_l21': True, 'l2_reg_l21': 0.04069004962696674, 'n_units_l22': 256, 'activation_l22': 'LeakyReLU', 'dropout_l22': 0.10930969075194448, 'batch_norm_l22': True, 'l2_reg_l22': 0.013922309257943973, 'leakyrelu_alpha_l22': 0.11574505004796516, 'n_units_l23': 1024, 'activation_l23': 'ELU', 'dropout_l23': 0.19476039843964954, 'batch_norm_l23': False, 'l2_reg_l23': 1.3848725230405212e-05, 'optimizer': 'SGD', 'lr': 0.04298949260502645, 'sgd_momentum': 0.6052510088663915, 'epochs': 129, 'batch_size': 128, 'early_stopping_patience': 41, 'lr_reduce_factor': 0.4121732817974795, 'lr_reduce_patience': 26, 'min_lr': 3.856445300713417e-06}. Best is trial 139 with value: 0.28159837882515115.\u001b[0m\n"
     ]
    },
    {
     "name": "stdout",
     "output_type": "stream",
     "text": [
      "Trial 156 completado. Mejor pérdida en validación: 0.30927057390373663\n",
      "Usando GPU para el Trial 157\n",
      "Entrenando Trial 157...\n"
     ]
    },
    {
     "name": "stderr",
     "output_type": "stream",
     "text": [
      "\u001b[32m[I 2023-12-06 18:13:37,768]\u001b[0m Trial 157 finished with value: 0.3031070903103348 and parameters: {'n_layers': 22, 'n_units_l0': 512, 'activation_l0': 'LeakyReLU', 'dropout_l0': 0.18322621038716091, 'batch_norm_l0': False, 'l2_reg_l0': 0.0002204283115368935, 'leakyrelu_alpha_l0': 0.09438946309764938, 'n_units_l1': 2048, 'activation_l1': 'LeakyReLU', 'dropout_l1': 0.48208503286764787, 'batch_norm_l1': True, 'l2_reg_l1': 0.041686123476439796, 'leakyrelu_alpha_l1': 0.07281387762938243, 'n_units_l2': 512, 'activation_l2': 'SELU', 'dropout_l2': 0.23539423713759972, 'batch_norm_l2': True, 'l2_reg_l2': 0.027643501584101, 'n_units_l3': 64, 'activation_l3': 'LeakyReLU', 'dropout_l3': 0.002455148403035612, 'batch_norm_l3': False, 'l2_reg_l3': 0.0004715910720934802, 'leakyrelu_alpha_l3': 0.23713115921150735, 'n_units_l4': 128, 'activation_l4': 'SELU', 'dropout_l4': 0.43322395849240897, 'batch_norm_l4': True, 'l2_reg_l4': 0.002067615988078631, 'n_units_l5': 16, 'activation_l5': 'LeakyReLU', 'dropout_l5': 0.0378887143254276, 'batch_norm_l5': True, 'l2_reg_l5': 5.631991281983711e-05, 'leakyrelu_alpha_l5': 0.07506285224761414, 'n_units_l6': 32, 'activation_l6': 'SELU', 'dropout_l6': 0.04659344067950587, 'batch_norm_l6': True, 'l2_reg_l6': 2.40234493149976e-05, 'n_units_l7': 1024, 'activation_l7': 'LeakyReLU', 'dropout_l7': 0.0628796242810738, 'batch_norm_l7': False, 'l2_reg_l7': 0.005600095393912758, 'leakyrelu_alpha_l7': 0.040271276639848114, 'n_units_l8': 64, 'activation_l8': 'ReLU', 'dropout_l8': 0.23112616684368112, 'batch_norm_l8': True, 'l2_reg_l8': 0.004045657507225241, 'n_units_l9': 64, 'activation_l9': 'ReLU', 'dropout_l9': 0.25316308385045416, 'batch_norm_l9': True, 'l2_reg_l9': 0.0001034162602696695, 'n_units_l10': 512, 'activation_l10': 'ELU', 'dropout_l10': 0.19070020549117353, 'batch_norm_l10': True, 'l2_reg_l10': 0.00010831101219618079, 'n_units_l11': 1024, 'activation_l11': 'Tanh', 'dropout_l11': 0.3035859063956034, 'batch_norm_l11': True, 'l2_reg_l11': 0.01327022631570013, 'n_units_l12': 32, 'activation_l12': 'Tanh', 'dropout_l12': 0.07498579279840786, 'batch_norm_l12': True, 'l2_reg_l12': 4.774625908487773e-05, 'n_units_l13': 512, 'activation_l13': 'LeakyReLU', 'dropout_l13': 0.0013408811754634861, 'batch_norm_l13': True, 'l2_reg_l13': 1.8560889986451887e-05, 'leakyrelu_alpha_l13': 0.2684613189396804, 'n_units_l14': 128, 'activation_l14': 'Tanh', 'dropout_l14': 0.2687624368801429, 'batch_norm_l14': True, 'l2_reg_l14': 0.04727595729172227, 'n_units_l15': 512, 'activation_l15': 'SELU', 'dropout_l15': 0.1394677691161566, 'batch_norm_l15': False, 'l2_reg_l15': 0.029446780318595774, 'n_units_l16': 32, 'activation_l16': 'ELU', 'dropout_l16': 0.20798595905089484, 'batch_norm_l16': True, 'l2_reg_l16': 1.584640118490613e-05, 'n_units_l17': 512, 'activation_l17': 'ELU', 'dropout_l17': 0.13848242927802762, 'batch_norm_l17': True, 'l2_reg_l17': 0.0013498979594530407, 'n_units_l18': 512, 'activation_l18': 'ReLU', 'dropout_l18': 0.04078435116560687, 'batch_norm_l18': False, 'l2_reg_l18': 0.03179225088791663, 'n_units_l19': 1024, 'activation_l19': 'LeakyReLU', 'dropout_l19': 0.3101699091091484, 'batch_norm_l19': True, 'l2_reg_l19': 0.00023633263193673692, 'leakyrelu_alpha_l19': 0.1184184942429854, 'n_units_l20': 16, 'activation_l20': 'SELU', 'dropout_l20': 0.3025242218479433, 'batch_norm_l20': True, 'l2_reg_l20': 0.00028608498704567955, 'n_units_l21': 2048, 'activation_l21': 'ReLU', 'dropout_l21': 0.37874687683441993, 'batch_norm_l21': True, 'l2_reg_l21': 0.020339640175394642, 'optimizer': 'SGD', 'lr': 0.0662151686896426, 'sgd_momentum': 0.5660108654487078, 'epochs': 210, 'batch_size': 128, 'early_stopping_patience': 45, 'lr_reduce_factor': 0.4875959709106635, 'lr_reduce_patience': 23, 'min_lr': 5.441351097439545e-06}. Best is trial 139 with value: 0.28159837882515115.\u001b[0m\n"
     ]
    },
    {
     "name": "stdout",
     "output_type": "stream",
     "text": [
      "Trial 157 completado. Mejor pérdida en validación: 0.3031070903103348\n",
      "Usando GPU para el Trial 158\n"
     ]
    },
    {
     "name": "stderr",
     "output_type": "stream",
     "text": [
      "\u001b[33m[W 2023-12-06 18:13:42,350]\u001b[0m Trial 158 failed with parameters: {'n_layers': 26, 'n_units_l0': 512, 'activation_l0': 'LeakyReLU', 'dropout_l0': 0.14013593859122542, 'batch_norm_l0': False, 'l2_reg_l0': 0.0002743724857902773, 'leakyrelu_alpha_l0': 0.1102640943594278, 'n_units_l1': 512, 'activation_l1': 'LeakyReLU', 'dropout_l1': 0.4558837603816325, 'batch_norm_l1': True, 'l2_reg_l1': 0.06894184978658485, 'leakyrelu_alpha_l1': 0.052074926749961926, 'n_units_l2': 512, 'activation_l2': 'SELU', 'dropout_l2': 0.22768576080184152, 'batch_norm_l2': True, 'l2_reg_l2': 0.01372210081227098, 'n_units_l3': 64, 'activation_l3': 'LeakyReLU', 'dropout_l3': 0.030868378213573806, 'batch_norm_l3': False, 'l2_reg_l3': 0.00025228485048148756, 'leakyrelu_alpha_l3': 0.2593620114463663, 'n_units_l4': 128, 'activation_l4': 'SELU', 'dropout_l4': 0.45083229097853034, 'batch_norm_l4': True, 'l2_reg_l4': 0.0012514897889118245, 'n_units_l5': 16, 'activation_l5': 'LeakyReLU', 'dropout_l5': 0.06350795011282388, 'batch_norm_l5': True, 'l2_reg_l5': 0.00011202373312378872, 'leakyrelu_alpha_l5': 0.08598910747951467, 'n_units_l6': 32, 'activation_l6': 'SELU', 'dropout_l6': 0.08046680361013853, 'batch_norm_l6': True, 'l2_reg_l6': 4.197430370899948e-05, 'n_units_l7': 1024, 'activation_l7': 'LeakyReLU', 'dropout_l7': 0.05128182425921332, 'batch_norm_l7': False, 'l2_reg_l7': 0.012240710603899991, 'leakyrelu_alpha_l7': 0.05940367823096669, 'n_units_l8': 64, 'activation_l8': 'ReLU', 'dropout_l8': 0.21415643760187347, 'batch_norm_l8': True, 'l2_reg_l8': 0.0016488607323653344, 'n_units_l9': 64, 'activation_l9': 'ReLU', 'dropout_l9': 0.3085028838430802, 'batch_norm_l9': True, 'l2_reg_l9': 0.00017229537503344548, 'n_units_l10': 512, 'activation_l10': 'ELU', 'dropout_l10': 0.15920214836296886, 'batch_norm_l10': True, 'l2_reg_l10': 9.628855591086802e-05, 'n_units_l11': 1024, 'activation_l11': 'Tanh', 'dropout_l11': 0.2828438568194294, 'batch_norm_l11': True, 'l2_reg_l11': 0.016668137412178832, 'n_units_l12': 32, 'activation_l12': 'Tanh'} because of the following error: KeyboardInterrupt().\u001b[0m\n",
      "Traceback (most recent call last):\n",
      "  File \"c:\\Users\\victo\\anaconda3\\envs\\cuda\\lib\\site-packages\\optuna\\study\\_optimize.py\", line 200, in _run_trial\n",
      "    value_or_values = func(trial)\n",
      "  File \"C:\\Users\\victo\\AppData\\Local\\Temp\\ipykernel_19924\\2310650378.py\", line 11, in objective\n",
      "    model, optimizer = build_model(trial, input_shape)\n",
      "  File \"C:\\Users\\victo\\AppData\\Local\\Temp\\ipykernel_19924\\3442182408.py\", line 6, in build_model\n",
      "    model = PyTorchModel(params, input_shape)\n",
      "  File \"C:\\Users\\victo\\AppData\\Local\\Temp\\ipykernel_19924\\3492233430.py\", line 14, in __init__\n",
      "    activation = trial.suggest_categorical(f'activation_l{i}', ['ReLU', 'Tanh', 'ELU', 'SELU', 'LeakyReLU'])\n",
      "  File \"c:\\Users\\victo\\anaconda3\\envs\\cuda\\lib\\site-packages\\optuna\\trial\\_trial.py\", line 401, in suggest_categorical\n",
      "    return self._suggest(name, CategoricalDistribution(choices=choices))\n",
      "  File \"c:\\Users\\victo\\anaconda3\\envs\\cuda\\lib\\site-packages\\optuna\\trial\\_trial.py\", line 633, in _suggest\n",
      "    storage.set_trial_param(trial_id, name, param_value_in_internal_repr, distribution)\n",
      "  File \"c:\\Users\\victo\\anaconda3\\envs\\cuda\\lib\\site-packages\\optuna\\storages\\_cached_storage.py\", line 236, in set_trial_param\n",
      "    self._backend.set_trial_param(\n",
      "  File \"c:\\Users\\victo\\anaconda3\\envs\\cuda\\lib\\site-packages\\optuna\\storages\\_rdb\\storage.py\", line 579, in set_trial_param\n",
      "    self._set_trial_param_without_commit(\n",
      "  File \"c:\\Users\\victo\\anaconda3\\envs\\cuda\\lib\\site-packages\\optuna\\storages\\_rdb\\storage.py\", line 615, in _set_trial_param_without_commit\n",
      "    trial_param.check_and_add(session)\n",
      "  File \"c:\\Users\\victo\\anaconda3\\envs\\cuda\\lib\\site-packages\\optuna\\storages\\_rdb\\models.py\", line 369, in check_and_add\n",
      "    self._check_compatibility_with_previous_trial_param_distributions(session)\n",
      "  File \"c:\\Users\\victo\\anaconda3\\envs\\cuda\\lib\\site-packages\\optuna\\storages\\_rdb\\models.py\", line 379, in _check_compatibility_with_previous_trial_param_distributions\n",
      "    session.query(TrialParamModel)\n",
      "  File \"c:\\Users\\victo\\anaconda3\\envs\\cuda\\lib\\site-packages\\sqlalchemy\\orm\\query.py\", line 2747, in first\n",
      "    return self.limit(1)._iter().first()  # type: ignore\n",
      "  File \"c:\\Users\\victo\\anaconda3\\envs\\cuda\\lib\\site-packages\\sqlalchemy\\orm\\query.py\", line 2846, in _iter\n",
      "    result: Union[ScalarResult[_T], Result[_T]] = self.session.execute(\n",
      "  File \"c:\\Users\\victo\\anaconda3\\envs\\cuda\\lib\\site-packages\\sqlalchemy\\orm\\session.py\", line 2232, in execute\n",
      "    return self._execute_internal(\n",
      "  File \"c:\\Users\\victo\\anaconda3\\envs\\cuda\\lib\\site-packages\\sqlalchemy\\orm\\session.py\", line 2127, in _execute_internal\n",
      "    result: Result[Any] = compile_state_cls.orm_execute_statement(\n",
      "  File \"c:\\Users\\victo\\anaconda3\\envs\\cuda\\lib\\site-packages\\sqlalchemy\\orm\\context.py\", line 293, in orm_execute_statement\n",
      "    result = conn.execute(\n",
      "  File \"c:\\Users\\victo\\anaconda3\\envs\\cuda\\lib\\site-packages\\sqlalchemy\\engine\\base.py\", line 1413, in execute\n",
      "    return meth(\n",
      "  File \"c:\\Users\\victo\\anaconda3\\envs\\cuda\\lib\\site-packages\\sqlalchemy\\sql\\elements.py\", line 483, in _execute_on_connection\n",
      "    return connection._execute_clauseelement(\n",
      "  File \"c:\\Users\\victo\\anaconda3\\envs\\cuda\\lib\\site-packages\\sqlalchemy\\engine\\base.py\", line 1637, in _execute_clauseelement\n",
      "    ret = self._execute_context(\n",
      "  File \"c:\\Users\\victo\\anaconda3\\envs\\cuda\\lib\\site-packages\\sqlalchemy\\engine\\base.py\", line 1846, in _execute_context\n",
      "    return self._exec_single_context(\n",
      "  File \"c:\\Users\\victo\\anaconda3\\envs\\cuda\\lib\\site-packages\\sqlalchemy\\engine\\base.py\", line 1987, in _exec_single_context\n",
      "    self._handle_dbapi_exception(\n",
      "  File \"c:\\Users\\victo\\anaconda3\\envs\\cuda\\lib\\site-packages\\sqlalchemy\\engine\\base.py\", line 2347, in _handle_dbapi_exception\n",
      "    raise exc_info[1].with_traceback(exc_info[2])\n",
      "  File \"c:\\Users\\victo\\anaconda3\\envs\\cuda\\lib\\site-packages\\sqlalchemy\\engine\\base.py\", line 1968, in _exec_single_context\n",
      "    self.dialect.do_execute(\n",
      "  File \"c:\\Users\\victo\\anaconda3\\envs\\cuda\\lib\\site-packages\\sqlalchemy\\engine\\default.py\", line 920, in do_execute\n",
      "    cursor.execute(statement, parameters)\n",
      "KeyboardInterrupt\n",
      "\u001b[33m[W 2023-12-06 18:13:42,402]\u001b[0m Trial 158 failed with value None.\u001b[0m\n"
     ]
    },
    {
     "ename": "KeyboardInterrupt",
     "evalue": "",
     "output_type": "error",
     "traceback": [
      "\u001b[1;31m---------------------------------------------------------------------------\u001b[0m",
      "\u001b[1;31mKeyboardInterrupt\u001b[0m                         Traceback (most recent call last)",
      "\u001b[1;32mc:\\Users\\victo\\OneDrive\\Escritorio\\Máster IA\\Redes Neuronales y Deep Learning\\Deep\\Deep-project\\Optimizacion gpu copy.ipynb Celda 17\u001b[0m line \u001b[0;36m<cell line: 2>\u001b[1;34m()\u001b[0m\n\u001b[0;32m      <a href='vscode-notebook-cell:/c%3A/Users/victo/OneDrive/Escritorio/M%C3%A1ster%20IA/Redes%20Neuronales%20y%20Deep%20Learning/Deep/Deep-project/Optimizacion%20gpu%20copy.ipynb#X22sZmlsZQ%3D%3D?line=0'>1</a>\u001b[0m trials_restantes\u001b[39m=\u001b[39m\u001b[39m50000\u001b[39m\n\u001b[1;32m----> <a href='vscode-notebook-cell:/c%3A/Users/victo/OneDrive/Escritorio/M%C3%A1ster%20IA/Redes%20Neuronales%20y%20Deep%20Learning/Deep/Deep-project/Optimizacion%20gpu%20copy.ipynb#X22sZmlsZQ%3D%3D?line=1'>2</a>\u001b[0m study\u001b[39m.\u001b[39;49moptimize(objective, n_trials\u001b[39m=\u001b[39;49mtrials_restantes)\n",
      "File \u001b[1;32mc:\\Users\\victo\\anaconda3\\envs\\cuda\\lib\\site-packages\\optuna\\study\\study.py:425\u001b[0m, in \u001b[0;36mStudy.optimize\u001b[1;34m(self, func, n_trials, timeout, n_jobs, catch, callbacks, gc_after_trial, show_progress_bar)\u001b[0m\n\u001b[0;32m    321\u001b[0m \u001b[39mdef\u001b[39;00m \u001b[39moptimize\u001b[39m(\n\u001b[0;32m    322\u001b[0m     \u001b[39mself\u001b[39m,\n\u001b[0;32m    323\u001b[0m     func: ObjectiveFuncType,\n\u001b[1;32m   (...)\u001b[0m\n\u001b[0;32m    330\u001b[0m     show_progress_bar: \u001b[39mbool\u001b[39m \u001b[39m=\u001b[39m \u001b[39mFalse\u001b[39;00m,\n\u001b[0;32m    331\u001b[0m ) \u001b[39m-\u001b[39m\u001b[39m>\u001b[39m \u001b[39mNone\u001b[39;00m:\n\u001b[0;32m    332\u001b[0m \u001b[39m    \u001b[39m\u001b[39m\"\"\"Optimize an objective function.\u001b[39;00m\n\u001b[0;32m    333\u001b[0m \n\u001b[0;32m    334\u001b[0m \u001b[39m    Optimization is done by choosing a suitable set of hyperparameter values from a given\u001b[39;00m\n\u001b[1;32m   (...)\u001b[0m\n\u001b[0;32m    422\u001b[0m \u001b[39m            If nested invocation of this method occurs.\u001b[39;00m\n\u001b[0;32m    423\u001b[0m \u001b[39m    \"\"\"\u001b[39;00m\n\u001b[1;32m--> 425\u001b[0m     _optimize(\n\u001b[0;32m    426\u001b[0m         study\u001b[39m=\u001b[39;49m\u001b[39mself\u001b[39;49m,\n\u001b[0;32m    427\u001b[0m         func\u001b[39m=\u001b[39;49mfunc,\n\u001b[0;32m    428\u001b[0m         n_trials\u001b[39m=\u001b[39;49mn_trials,\n\u001b[0;32m    429\u001b[0m         timeout\u001b[39m=\u001b[39;49mtimeout,\n\u001b[0;32m    430\u001b[0m         n_jobs\u001b[39m=\u001b[39;49mn_jobs,\n\u001b[0;32m    431\u001b[0m         catch\u001b[39m=\u001b[39;49m\u001b[39mtuple\u001b[39;49m(catch) \u001b[39mif\u001b[39;49;00m \u001b[39misinstance\u001b[39;49m(catch, Iterable) \u001b[39melse\u001b[39;49;00m (catch,),\n\u001b[0;32m    432\u001b[0m         callbacks\u001b[39m=\u001b[39;49mcallbacks,\n\u001b[0;32m    433\u001b[0m         gc_after_trial\u001b[39m=\u001b[39;49mgc_after_trial,\n\u001b[0;32m    434\u001b[0m         show_progress_bar\u001b[39m=\u001b[39;49mshow_progress_bar,\n\u001b[0;32m    435\u001b[0m     )\n",
      "File \u001b[1;32mc:\\Users\\victo\\anaconda3\\envs\\cuda\\lib\\site-packages\\optuna\\study\\_optimize.py:66\u001b[0m, in \u001b[0;36m_optimize\u001b[1;34m(study, func, n_trials, timeout, n_jobs, catch, callbacks, gc_after_trial, show_progress_bar)\u001b[0m\n\u001b[0;32m     64\u001b[0m \u001b[39mtry\u001b[39;00m:\n\u001b[0;32m     65\u001b[0m     \u001b[39mif\u001b[39;00m n_jobs \u001b[39m==\u001b[39m \u001b[39m1\u001b[39m:\n\u001b[1;32m---> 66\u001b[0m         _optimize_sequential(\n\u001b[0;32m     67\u001b[0m             study,\n\u001b[0;32m     68\u001b[0m             func,\n\u001b[0;32m     69\u001b[0m             n_trials,\n\u001b[0;32m     70\u001b[0m             timeout,\n\u001b[0;32m     71\u001b[0m             catch,\n\u001b[0;32m     72\u001b[0m             callbacks,\n\u001b[0;32m     73\u001b[0m             gc_after_trial,\n\u001b[0;32m     74\u001b[0m             reseed_sampler_rng\u001b[39m=\u001b[39;49m\u001b[39mFalse\u001b[39;49;00m,\n\u001b[0;32m     75\u001b[0m             time_start\u001b[39m=\u001b[39;49m\u001b[39mNone\u001b[39;49;00m,\n\u001b[0;32m     76\u001b[0m             progress_bar\u001b[39m=\u001b[39;49mprogress_bar,\n\u001b[0;32m     77\u001b[0m         )\n\u001b[0;32m     78\u001b[0m     \u001b[39melse\u001b[39;00m:\n\u001b[0;32m     79\u001b[0m         \u001b[39mif\u001b[39;00m n_jobs \u001b[39m==\u001b[39m \u001b[39m-\u001b[39m\u001b[39m1\u001b[39m:\n",
      "File \u001b[1;32mc:\\Users\\victo\\anaconda3\\envs\\cuda\\lib\\site-packages\\optuna\\study\\_optimize.py:163\u001b[0m, in \u001b[0;36m_optimize_sequential\u001b[1;34m(study, func, n_trials, timeout, catch, callbacks, gc_after_trial, reseed_sampler_rng, time_start, progress_bar)\u001b[0m\n\u001b[0;32m    160\u001b[0m         \u001b[39mbreak\u001b[39;00m\n\u001b[0;32m    162\u001b[0m \u001b[39mtry\u001b[39;00m:\n\u001b[1;32m--> 163\u001b[0m     frozen_trial \u001b[39m=\u001b[39m _run_trial(study, func, catch)\n\u001b[0;32m    164\u001b[0m \u001b[39mfinally\u001b[39;00m:\n\u001b[0;32m    165\u001b[0m     \u001b[39m# The following line mitigates memory problems that can be occurred in some\u001b[39;00m\n\u001b[0;32m    166\u001b[0m     \u001b[39m# environments (e.g., services that use computing containers such as GitHub Actions).\u001b[39;00m\n\u001b[0;32m    167\u001b[0m     \u001b[39m# Please refer to the following PR for further details:\u001b[39;00m\n\u001b[0;32m    168\u001b[0m     \u001b[39m# https://github.com/optuna/optuna/pull/325.\u001b[39;00m\n\u001b[0;32m    169\u001b[0m     \u001b[39mif\u001b[39;00m gc_after_trial:\n",
      "File \u001b[1;32mc:\\Users\\victo\\anaconda3\\envs\\cuda\\lib\\site-packages\\optuna\\study\\_optimize.py:251\u001b[0m, in \u001b[0;36m_run_trial\u001b[1;34m(study, func, catch)\u001b[0m\n\u001b[0;32m    244\u001b[0m         \u001b[39massert\u001b[39;00m \u001b[39mFalse\u001b[39;00m, \u001b[39m\"\u001b[39m\u001b[39mShould not reach.\u001b[39m\u001b[39m\"\u001b[39m\n\u001b[0;32m    246\u001b[0m \u001b[39mif\u001b[39;00m (\n\u001b[0;32m    247\u001b[0m     frozen_trial\u001b[39m.\u001b[39mstate \u001b[39m==\u001b[39m TrialState\u001b[39m.\u001b[39mFAIL\n\u001b[0;32m    248\u001b[0m     \u001b[39mand\u001b[39;00m func_err \u001b[39mis\u001b[39;00m \u001b[39mnot\u001b[39;00m \u001b[39mNone\u001b[39;00m\n\u001b[0;32m    249\u001b[0m     \u001b[39mand\u001b[39;00m \u001b[39mnot\u001b[39;00m \u001b[39misinstance\u001b[39m(func_err, catch)\n\u001b[0;32m    250\u001b[0m ):\n\u001b[1;32m--> 251\u001b[0m     \u001b[39mraise\u001b[39;00m func_err\n\u001b[0;32m    252\u001b[0m \u001b[39mreturn\u001b[39;00m frozen_trial\n",
      "File \u001b[1;32mc:\\Users\\victo\\anaconda3\\envs\\cuda\\lib\\site-packages\\optuna\\study\\_optimize.py:200\u001b[0m, in \u001b[0;36m_run_trial\u001b[1;34m(study, func, catch)\u001b[0m\n\u001b[0;32m    198\u001b[0m \u001b[39mwith\u001b[39;00m get_heartbeat_thread(trial\u001b[39m.\u001b[39m_trial_id, study\u001b[39m.\u001b[39m_storage):\n\u001b[0;32m    199\u001b[0m     \u001b[39mtry\u001b[39;00m:\n\u001b[1;32m--> 200\u001b[0m         value_or_values \u001b[39m=\u001b[39m func(trial)\n\u001b[0;32m    201\u001b[0m     \u001b[39mexcept\u001b[39;00m exceptions\u001b[39m.\u001b[39mTrialPruned \u001b[39mas\u001b[39;00m e:\n\u001b[0;32m    202\u001b[0m         \u001b[39m# TODO(mamu): Handle multi-objective cases.\u001b[39;00m\n\u001b[0;32m    203\u001b[0m         state \u001b[39m=\u001b[39m TrialState\u001b[39m.\u001b[39mPRUNED\n",
      "\u001b[1;32mc:\\Users\\victo\\OneDrive\\Escritorio\\Máster IA\\Redes Neuronales y Deep Learning\\Deep\\Deep-project\\Optimizacion gpu copy.ipynb Celda 17\u001b[0m line \u001b[0;36mobjective\u001b[1;34m(trial)\u001b[0m\n\u001b[0;32m      <a href='vscode-notebook-cell:/c%3A/Users/victo/OneDrive/Escritorio/M%C3%A1ster%20IA/Redes%20Neuronales%20y%20Deep%20Learning/Deep/Deep-project/Optimizacion%20gpu%20copy.ipynb#X22sZmlsZQ%3D%3D?line=7'>8</a>\u001b[0m device \u001b[39m=\u001b[39m torch\u001b[39m.\u001b[39mdevice(\u001b[39m'\u001b[39m\u001b[39mcuda\u001b[39m\u001b[39m'\u001b[39m \u001b[39mif\u001b[39;00m torch\u001b[39m.\u001b[39mcuda\u001b[39m.\u001b[39mis_available() \u001b[39melse\u001b[39;00m \u001b[39m'\u001b[39m\u001b[39mcpu\u001b[39m\u001b[39m'\u001b[39m)\n\u001b[0;32m      <a href='vscode-notebook-cell:/c%3A/Users/victo/OneDrive/Escritorio/M%C3%A1ster%20IA/Redes%20Neuronales%20y%20Deep%20Learning/Deep/Deep-project/Optimizacion%20gpu%20copy.ipynb#X22sZmlsZQ%3D%3D?line=8'>9</a>\u001b[0m \u001b[39mprint\u001b[39m(\u001b[39mf\u001b[39m\u001b[39m\"\u001b[39m\u001b[39mUsando \u001b[39m\u001b[39m{\u001b[39;00m\u001b[39m'\u001b[39m\u001b[39mGPU\u001b[39m\u001b[39m'\u001b[39m\u001b[39m \u001b[39m\u001b[39mif\u001b[39;00m\u001b[39m \u001b[39mdevice\u001b[39m.\u001b[39mtype\u001b[39m \u001b[39m\u001b[39m==\u001b[39m\u001b[39m \u001b[39m\u001b[39m'\u001b[39m\u001b[39mcuda\u001b[39m\u001b[39m'\u001b[39m\u001b[39m \u001b[39m\u001b[39melse\u001b[39;00m\u001b[39m \u001b[39m\u001b[39m'\u001b[39m\u001b[39mCPU\u001b[39m\u001b[39m'\u001b[39m\u001b[39m}\u001b[39;00m\u001b[39m para el Trial \u001b[39m\u001b[39m{\u001b[39;00mtrial\u001b[39m.\u001b[39mnumber\u001b[39m}\u001b[39;00m\u001b[39m\"\u001b[39m)\n\u001b[1;32m---> <a href='vscode-notebook-cell:/c%3A/Users/victo/OneDrive/Escritorio/M%C3%A1ster%20IA/Redes%20Neuronales%20y%20Deep%20Learning/Deep/Deep-project/Optimizacion%20gpu%20copy.ipynb#X22sZmlsZQ%3D%3D?line=10'>11</a>\u001b[0m model, optimizer \u001b[39m=\u001b[39m build_model(trial, input_shape) \n\u001b[0;32m     <a href='vscode-notebook-cell:/c%3A/Users/victo/OneDrive/Escritorio/M%C3%A1ster%20IA/Redes%20Neuronales%20y%20Deep%20Learning/Deep/Deep-project/Optimizacion%20gpu%20copy.ipynb#X22sZmlsZQ%3D%3D?line=11'>12</a>\u001b[0m model\u001b[39m.\u001b[39mto(device)\n\u001b[0;32m     <a href='vscode-notebook-cell:/c%3A/Users/victo/OneDrive/Escritorio/M%C3%A1ster%20IA/Redes%20Neuronales%20y%20Deep%20Learning/Deep/Deep-project/Optimizacion%20gpu%20copy.ipynb#X22sZmlsZQ%3D%3D?line=13'>14</a>\u001b[0m \u001b[39m# Parametrización del número de épocas y tamaño del batch\u001b[39;00m\n",
      "\u001b[1;32mc:\\Users\\victo\\OneDrive\\Escritorio\\Máster IA\\Redes Neuronales y Deep Learning\\Deep\\Deep-project\\Optimizacion gpu copy.ipynb Celda 17\u001b[0m line \u001b[0;36mbuild_model\u001b[1;34m(params, input_shape, is_trial)\u001b[0m\n\u001b[0;32m      <a href='vscode-notebook-cell:/c%3A/Users/victo/OneDrive/Escritorio/M%C3%A1ster%20IA/Redes%20Neuronales%20y%20Deep%20Learning/Deep/Deep-project/Optimizacion%20gpu%20copy.ipynb#X22sZmlsZQ%3D%3D?line=3'>4</a>\u001b[0m \u001b[39mdef\u001b[39;00m \u001b[39mbuild_model\u001b[39m(params, input_shape, is_trial\u001b[39m=\u001b[39m\u001b[39mTrue\u001b[39;00m):\n\u001b[0;32m      <a href='vscode-notebook-cell:/c%3A/Users/victo/OneDrive/Escritorio/M%C3%A1ster%20IA/Redes%20Neuronales%20y%20Deep%20Learning/Deep/Deep-project/Optimizacion%20gpu%20copy.ipynb#X22sZmlsZQ%3D%3D?line=4'>5</a>\u001b[0m     \u001b[39m# Crear una instancia del modelo con la arquitectura definida\u001b[39;00m\n\u001b[1;32m----> <a href='vscode-notebook-cell:/c%3A/Users/victo/OneDrive/Escritorio/M%C3%A1ster%20IA/Redes%20Neuronales%20y%20Deep%20Learning/Deep/Deep-project/Optimizacion%20gpu%20copy.ipynb#X22sZmlsZQ%3D%3D?line=5'>6</a>\u001b[0m     model \u001b[39m=\u001b[39m PyTorchModel(params, input_shape)\n\u001b[0;32m      <a href='vscode-notebook-cell:/c%3A/Users/victo/OneDrive/Escritorio/M%C3%A1ster%20IA/Redes%20Neuronales%20y%20Deep%20Learning/Deep/Deep-project/Optimizacion%20gpu%20copy.ipynb#X22sZmlsZQ%3D%3D?line=7'>8</a>\u001b[0m     \u001b[39mif\u001b[39;00m is_trial:\n\u001b[0;32m      <a href='vscode-notebook-cell:/c%3A/Users/victo/OneDrive/Escritorio/M%C3%A1ster%20IA/Redes%20Neuronales%20y%20Deep%20Learning/Deep/Deep-project/Optimizacion%20gpu%20copy.ipynb#X22sZmlsZQ%3D%3D?line=8'>9</a>\u001b[0m         \u001b[39m# Configuración durante la optimización con Optuna\u001b[39;00m\n\u001b[0;32m     <a href='vscode-notebook-cell:/c%3A/Users/victo/OneDrive/Escritorio/M%C3%A1ster%20IA/Redes%20Neuronales%20y%20Deep%20Learning/Deep/Deep-project/Optimizacion%20gpu%20copy.ipynb#X22sZmlsZQ%3D%3D?line=9'>10</a>\u001b[0m         optimizer_name \u001b[39m=\u001b[39m params\u001b[39m.\u001b[39msuggest_categorical(\u001b[39m'\u001b[39m\u001b[39moptimizer\u001b[39m\u001b[39m'\u001b[39m, [\u001b[39m'\u001b[39m\u001b[39mAdam\u001b[39m\u001b[39m'\u001b[39m, \u001b[39m'\u001b[39m\u001b[39mSGD\u001b[39m\u001b[39m'\u001b[39m, \u001b[39m'\u001b[39m\u001b[39mRMSprop\u001b[39m\u001b[39m'\u001b[39m])\n",
      "\u001b[1;32mc:\\Users\\victo\\OneDrive\\Escritorio\\Máster IA\\Redes Neuronales y Deep Learning\\Deep\\Deep-project\\Optimizacion gpu copy.ipynb Celda 17\u001b[0m line \u001b[0;36mPyTorchModel.__init__\u001b[1;34m(self, trial, input_shape)\u001b[0m\n\u001b[0;32m     <a href='vscode-notebook-cell:/c%3A/Users/victo/OneDrive/Escritorio/M%C3%A1ster%20IA/Redes%20Neuronales%20y%20Deep%20Learning/Deep/Deep-project/Optimizacion%20gpu%20copy.ipynb#X22sZmlsZQ%3D%3D?line=11'>12</a>\u001b[0m \u001b[39mfor\u001b[39;00m i \u001b[39min\u001b[39;00m \u001b[39mrange\u001b[39m(n_layers):\n\u001b[0;32m     <a href='vscode-notebook-cell:/c%3A/Users/victo/OneDrive/Escritorio/M%C3%A1ster%20IA/Redes%20Neuronales%20y%20Deep%20Learning/Deep/Deep-project/Optimizacion%20gpu%20copy.ipynb#X22sZmlsZQ%3D%3D?line=12'>13</a>\u001b[0m     num_units \u001b[39m=\u001b[39m trial\u001b[39m.\u001b[39msuggest_categorical(\u001b[39mf\u001b[39m\u001b[39m'\u001b[39m\u001b[39mn_units_l\u001b[39m\u001b[39m{\u001b[39;00mi\u001b[39m}\u001b[39;00m\u001b[39m'\u001b[39m, [\u001b[39m16\u001b[39m, \u001b[39m32\u001b[39m, \u001b[39m64\u001b[39m, \u001b[39m128\u001b[39m, \u001b[39m256\u001b[39m, \u001b[39m512\u001b[39m, \u001b[39m1024\u001b[39m, \u001b[39m2048\u001b[39m])\n\u001b[1;32m---> <a href='vscode-notebook-cell:/c%3A/Users/victo/OneDrive/Escritorio/M%C3%A1ster%20IA/Redes%20Neuronales%20y%20Deep%20Learning/Deep/Deep-project/Optimizacion%20gpu%20copy.ipynb#X22sZmlsZQ%3D%3D?line=13'>14</a>\u001b[0m     activation \u001b[39m=\u001b[39m trial\u001b[39m.\u001b[39;49msuggest_categorical(\u001b[39mf\u001b[39;49m\u001b[39m'\u001b[39;49m\u001b[39mactivation_l\u001b[39;49m\u001b[39m{\u001b[39;49;00mi\u001b[39m}\u001b[39;49;00m\u001b[39m'\u001b[39;49m, [\u001b[39m'\u001b[39;49m\u001b[39mReLU\u001b[39;49m\u001b[39m'\u001b[39;49m, \u001b[39m'\u001b[39;49m\u001b[39mTanh\u001b[39;49m\u001b[39m'\u001b[39;49m, \u001b[39m'\u001b[39;49m\u001b[39mELU\u001b[39;49m\u001b[39m'\u001b[39;49m, \u001b[39m'\u001b[39;49m\u001b[39mSELU\u001b[39;49m\u001b[39m'\u001b[39;49m, \u001b[39m'\u001b[39;49m\u001b[39mLeakyReLU\u001b[39;49m\u001b[39m'\u001b[39;49m])\n\u001b[0;32m     <a href='vscode-notebook-cell:/c%3A/Users/victo/OneDrive/Escritorio/M%C3%A1ster%20IA/Redes%20Neuronales%20y%20Deep%20Learning/Deep/Deep-project/Optimizacion%20gpu%20copy.ipynb#X22sZmlsZQ%3D%3D?line=14'>15</a>\u001b[0m     dropout_rate \u001b[39m=\u001b[39m trial\u001b[39m.\u001b[39msuggest_float(\u001b[39mf\u001b[39m\u001b[39m'\u001b[39m\u001b[39mdropout_l\u001b[39m\u001b[39m{\u001b[39;00mi\u001b[39m}\u001b[39;00m\u001b[39m'\u001b[39m, \u001b[39m0.0\u001b[39m, \u001b[39m0.5\u001b[39m)\n\u001b[0;32m     <a href='vscode-notebook-cell:/c%3A/Users/victo/OneDrive/Escritorio/M%C3%A1ster%20IA/Redes%20Neuronales%20y%20Deep%20Learning/Deep/Deep-project/Optimizacion%20gpu%20copy.ipynb#X22sZmlsZQ%3D%3D?line=15'>16</a>\u001b[0m     use_batch_norm \u001b[39m=\u001b[39m trial\u001b[39m.\u001b[39msuggest_categorical(\u001b[39mf\u001b[39m\u001b[39m'\u001b[39m\u001b[39mbatch_norm_l\u001b[39m\u001b[39m{\u001b[39;00mi\u001b[39m}\u001b[39;00m\u001b[39m'\u001b[39m, [\u001b[39mTrue\u001b[39;00m, \u001b[39mFalse\u001b[39;00m])\n",
      "File \u001b[1;32mc:\\Users\\victo\\anaconda3\\envs\\cuda\\lib\\site-packages\\optuna\\trial\\_trial.py:401\u001b[0m, in \u001b[0;36mTrial.suggest_categorical\u001b[1;34m(self, name, choices)\u001b[0m\n\u001b[0;32m    350\u001b[0m \u001b[39m\u001b[39m\u001b[39m\"\"\"Suggest a value for the categorical parameter.\u001b[39;00m\n\u001b[0;32m    351\u001b[0m \n\u001b[0;32m    352\u001b[0m \u001b[39mThe value is sampled from ``choices``.\u001b[39;00m\n\u001b[1;32m   (...)\u001b[0m\n\u001b[0;32m    396\u001b[0m \u001b[39m    :ref:`configurations` tutorial describes more details and flexible usages.\u001b[39;00m\n\u001b[0;32m    397\u001b[0m \u001b[39m\"\"\"\u001b[39;00m\n\u001b[0;32m    398\u001b[0m \u001b[39m# There is no need to call self._check_distribution because\u001b[39;00m\n\u001b[0;32m    399\u001b[0m \u001b[39m# CategoricalDistribution does not support dynamic value space.\u001b[39;00m\n\u001b[1;32m--> 401\u001b[0m \u001b[39mreturn\u001b[39;00m \u001b[39mself\u001b[39;49m\u001b[39m.\u001b[39;49m_suggest(name, CategoricalDistribution(choices\u001b[39m=\u001b[39;49mchoices))\n",
      "File \u001b[1;32mc:\\Users\\victo\\anaconda3\\envs\\cuda\\lib\\site-packages\\optuna\\trial\\_trial.py:633\u001b[0m, in \u001b[0;36mTrial._suggest\u001b[1;34m(self, name, distribution)\u001b[0m\n\u001b[0;32m    631\u001b[0m \u001b[39m# `param_value` is validated here (invalid value like `np.nan` raises ValueError).\u001b[39;00m\n\u001b[0;32m    632\u001b[0m param_value_in_internal_repr \u001b[39m=\u001b[39m distribution\u001b[39m.\u001b[39mto_internal_repr(param_value)\n\u001b[1;32m--> 633\u001b[0m storage\u001b[39m.\u001b[39;49mset_trial_param(trial_id, name, param_value_in_internal_repr, distribution)\n\u001b[0;32m    635\u001b[0m \u001b[39mself\u001b[39m\u001b[39m.\u001b[39m_cached_frozen_trial\u001b[39m.\u001b[39mdistributions[name] \u001b[39m=\u001b[39m distribution\n\u001b[0;32m    636\u001b[0m \u001b[39mself\u001b[39m\u001b[39m.\u001b[39m_cached_frozen_trial\u001b[39m.\u001b[39mparams[name] \u001b[39m=\u001b[39m param_value\n",
      "File \u001b[1;32mc:\\Users\\victo\\anaconda3\\envs\\cuda\\lib\\site-packages\\optuna\\storages\\_cached_storage.py:236\u001b[0m, in \u001b[0;36m_CachedStorage.set_trial_param\u001b[1;34m(self, trial_id, param_name, param_value_internal, distribution)\u001b[0m\n\u001b[0;32m    233\u001b[0m         cached_trial\u001b[39m.\u001b[39mdistributions \u001b[39m=\u001b[39m dists\n\u001b[0;32m    235\u001b[0m         \u001b[39mif\u001b[39;00m cached_dist:  \u001b[39m# Already persisted in case of cache miss so no need to update.\u001b[39;00m\n\u001b[1;32m--> 236\u001b[0m             \u001b[39mself\u001b[39;49m\u001b[39m.\u001b[39;49m_backend\u001b[39m.\u001b[39;49mset_trial_param(\n\u001b[0;32m    237\u001b[0m                 trial_id, param_name, param_value_internal, distribution\n\u001b[0;32m    238\u001b[0m             )\n\u001b[0;32m    239\u001b[0m         \u001b[39mreturn\u001b[39;00m\n\u001b[0;32m    241\u001b[0m \u001b[39mself\u001b[39m\u001b[39m.\u001b[39m_backend\u001b[39m.\u001b[39mset_trial_param(trial_id, param_name, param_value_internal, distribution)\n",
      "File \u001b[1;32mc:\\Users\\victo\\anaconda3\\envs\\cuda\\lib\\site-packages\\optuna\\storages\\_rdb\\storage.py:579\u001b[0m, in \u001b[0;36mRDBStorage.set_trial_param\u001b[1;34m(self, trial_id, param_name, param_value_internal, distribution)\u001b[0m\n\u001b[0;32m    570\u001b[0m \u001b[39mdef\u001b[39;00m \u001b[39mset_trial_param\u001b[39m(\n\u001b[0;32m    571\u001b[0m     \u001b[39mself\u001b[39m,\n\u001b[0;32m    572\u001b[0m     trial_id: \u001b[39mint\u001b[39m,\n\u001b[1;32m   (...)\u001b[0m\n\u001b[0;32m    575\u001b[0m     distribution: distributions\u001b[39m.\u001b[39mBaseDistribution,\n\u001b[0;32m    576\u001b[0m ) \u001b[39m-\u001b[39m\u001b[39m>\u001b[39m \u001b[39mNone\u001b[39;00m:\n\u001b[0;32m    578\u001b[0m     \u001b[39mwith\u001b[39;00m _create_scoped_session(\u001b[39mself\u001b[39m\u001b[39m.\u001b[39mscoped_session, \u001b[39mTrue\u001b[39;00m) \u001b[39mas\u001b[39;00m session:\n\u001b[1;32m--> 579\u001b[0m         \u001b[39mself\u001b[39;49m\u001b[39m.\u001b[39;49m_set_trial_param_without_commit(\n\u001b[0;32m    580\u001b[0m             session, trial_id, param_name, param_value_internal, distribution\n\u001b[0;32m    581\u001b[0m         )\n",
      "File \u001b[1;32mc:\\Users\\victo\\anaconda3\\envs\\cuda\\lib\\site-packages\\optuna\\storages\\_rdb\\storage.py:615\u001b[0m, in \u001b[0;36mRDBStorage._set_trial_param_without_commit\u001b[1;34m(self, session, trial_id, param_name, param_value_internal, distribution)\u001b[0m\n\u001b[0;32m    607\u001b[0m \u001b[39melse\u001b[39;00m:\n\u001b[0;32m    608\u001b[0m     trial_param \u001b[39m=\u001b[39m models\u001b[39m.\u001b[39mTrialParamModel(\n\u001b[0;32m    609\u001b[0m         trial_id\u001b[39m=\u001b[39mtrial_id,\n\u001b[0;32m    610\u001b[0m         param_name\u001b[39m=\u001b[39mparam_name,\n\u001b[0;32m    611\u001b[0m         param_value\u001b[39m=\u001b[39mparam_value_internal,\n\u001b[0;32m    612\u001b[0m         distribution_json\u001b[39m=\u001b[39mdistributions\u001b[39m.\u001b[39mdistribution_to_json(distribution),\n\u001b[0;32m    613\u001b[0m     )\n\u001b[1;32m--> 615\u001b[0m     trial_param\u001b[39m.\u001b[39;49mcheck_and_add(session)\n",
      "File \u001b[1;32mc:\\Users\\victo\\anaconda3\\envs\\cuda\\lib\\site-packages\\optuna\\storages\\_rdb\\models.py:369\u001b[0m, in \u001b[0;36mTrialParamModel.check_and_add\u001b[1;34m(self, session)\u001b[0m\n\u001b[0;32m    367\u001b[0m \u001b[39mdef\u001b[39;00m \u001b[39mcheck_and_add\u001b[39m(\u001b[39mself\u001b[39m, session: orm\u001b[39m.\u001b[39mSession) \u001b[39m-\u001b[39m\u001b[39m>\u001b[39m \u001b[39mNone\u001b[39;00m:\n\u001b[1;32m--> 369\u001b[0m     \u001b[39mself\u001b[39;49m\u001b[39m.\u001b[39;49m_check_compatibility_with_previous_trial_param_distributions(session)\n\u001b[0;32m    370\u001b[0m     session\u001b[39m.\u001b[39madd(\u001b[39mself\u001b[39m)\n",
      "File \u001b[1;32mc:\\Users\\victo\\anaconda3\\envs\\cuda\\lib\\site-packages\\optuna\\storages\\_rdb\\models.py:379\u001b[0m, in \u001b[0;36mTrialParamModel._check_compatibility_with_previous_trial_param_distributions\u001b[1;34m(self, session)\u001b[0m\n\u001b[0;32m    372\u001b[0m \u001b[39mdef\u001b[39;00m \u001b[39m_check_compatibility_with_previous_trial_param_distributions\u001b[39m(\n\u001b[0;32m    373\u001b[0m     \u001b[39mself\u001b[39m, session: orm\u001b[39m.\u001b[39mSession\n\u001b[0;32m    374\u001b[0m ) \u001b[39m-\u001b[39m\u001b[39m>\u001b[39m \u001b[39mNone\u001b[39;00m:\n\u001b[0;32m    376\u001b[0m     trial \u001b[39m=\u001b[39m TrialModel\u001b[39m.\u001b[39mfind_or_raise_by_id(\u001b[39mself\u001b[39m\u001b[39m.\u001b[39mtrial_id, session)\n\u001b[0;32m    378\u001b[0m     previous_record \u001b[39m=\u001b[39m (\n\u001b[1;32m--> 379\u001b[0m         session\u001b[39m.\u001b[39;49mquery(TrialParamModel)\n\u001b[0;32m    380\u001b[0m         \u001b[39m.\u001b[39;49mjoin(TrialModel)\n\u001b[0;32m    381\u001b[0m         \u001b[39m.\u001b[39;49mfilter(TrialModel\u001b[39m.\u001b[39;49mstudy_id \u001b[39m==\u001b[39;49m trial\u001b[39m.\u001b[39;49mstudy_id)\n\u001b[0;32m    382\u001b[0m         \u001b[39m.\u001b[39;49mfilter(TrialParamModel\u001b[39m.\u001b[39;49mparam_name \u001b[39m==\u001b[39;49m \u001b[39mself\u001b[39;49m\u001b[39m.\u001b[39;49mparam_name)\n\u001b[0;32m    383\u001b[0m         \u001b[39m.\u001b[39;49mfirst()\n\u001b[0;32m    384\u001b[0m     )\n\u001b[0;32m    385\u001b[0m     \u001b[39mif\u001b[39;00m previous_record \u001b[39mis\u001b[39;00m \u001b[39mnot\u001b[39;00m \u001b[39mNone\u001b[39;00m:\n\u001b[0;32m    386\u001b[0m         distributions\u001b[39m.\u001b[39mcheck_distribution_compatibility(\n\u001b[0;32m    387\u001b[0m             distributions\u001b[39m.\u001b[39mjson_to_distribution(previous_record\u001b[39m.\u001b[39mdistribution_json),\n\u001b[0;32m    388\u001b[0m             distributions\u001b[39m.\u001b[39mjson_to_distribution(\u001b[39mself\u001b[39m\u001b[39m.\u001b[39mdistribution_json),\n\u001b[0;32m    389\u001b[0m         )\n",
      "File \u001b[1;32mc:\\Users\\victo\\anaconda3\\envs\\cuda\\lib\\site-packages\\sqlalchemy\\orm\\query.py:2747\u001b[0m, in \u001b[0;36mQuery.first\u001b[1;34m(self)\u001b[0m\n\u001b[0;32m   2745\u001b[0m     \u001b[39mreturn\u001b[39;00m \u001b[39mself\u001b[39m\u001b[39m.\u001b[39m_iter()\u001b[39m.\u001b[39mfirst()  \u001b[39m# type: ignore\u001b[39;00m\n\u001b[0;32m   2746\u001b[0m \u001b[39melse\u001b[39;00m:\n\u001b[1;32m-> 2747\u001b[0m     \u001b[39mreturn\u001b[39;00m \u001b[39mself\u001b[39;49m\u001b[39m.\u001b[39;49mlimit(\u001b[39m1\u001b[39;49m)\u001b[39m.\u001b[39;49m_iter()\u001b[39m.\u001b[39mfirst()\n",
      "File \u001b[1;32mc:\\Users\\victo\\anaconda3\\envs\\cuda\\lib\\site-packages\\sqlalchemy\\orm\\query.py:2846\u001b[0m, in \u001b[0;36mQuery._iter\u001b[1;34m(self)\u001b[0m\n\u001b[0;32m   2843\u001b[0m params \u001b[39m=\u001b[39m \u001b[39mself\u001b[39m\u001b[39m.\u001b[39m_params\n\u001b[0;32m   2845\u001b[0m statement \u001b[39m=\u001b[39m \u001b[39mself\u001b[39m\u001b[39m.\u001b[39m_statement_20()\n\u001b[1;32m-> 2846\u001b[0m result: Union[ScalarResult[_T], Result[_T]] \u001b[39m=\u001b[39m \u001b[39mself\u001b[39;49m\u001b[39m.\u001b[39;49msession\u001b[39m.\u001b[39;49mexecute(\n\u001b[0;32m   2847\u001b[0m     statement,\n\u001b[0;32m   2848\u001b[0m     params,\n\u001b[0;32m   2849\u001b[0m     execution_options\u001b[39m=\u001b[39;49m{\u001b[39m\"\u001b[39;49m\u001b[39m_sa_orm_load_options\u001b[39;49m\u001b[39m\"\u001b[39;49m: \u001b[39mself\u001b[39;49m\u001b[39m.\u001b[39;49mload_options},\n\u001b[0;32m   2850\u001b[0m )\n\u001b[0;32m   2852\u001b[0m \u001b[39m# legacy: automatically set scalars, unique\u001b[39;00m\n\u001b[0;32m   2853\u001b[0m \u001b[39mif\u001b[39;00m result\u001b[39m.\u001b[39m_attributes\u001b[39m.\u001b[39mget(\u001b[39m\"\u001b[39m\u001b[39mis_single_entity\u001b[39m\u001b[39m\"\u001b[39m, \u001b[39mFalse\u001b[39;00m):\n",
      "File \u001b[1;32mc:\\Users\\victo\\anaconda3\\envs\\cuda\\lib\\site-packages\\sqlalchemy\\orm\\session.py:2232\u001b[0m, in \u001b[0;36mSession.execute\u001b[1;34m(self, statement, params, execution_options, bind_arguments, _parent_execute_state, _add_event)\u001b[0m\n\u001b[0;32m   2171\u001b[0m \u001b[39mdef\u001b[39;00m \u001b[39mexecute\u001b[39m(\n\u001b[0;32m   2172\u001b[0m     \u001b[39mself\u001b[39m,\n\u001b[0;32m   2173\u001b[0m     statement: Executable,\n\u001b[1;32m   (...)\u001b[0m\n\u001b[0;32m   2179\u001b[0m     _add_event: Optional[Any] \u001b[39m=\u001b[39m \u001b[39mNone\u001b[39;00m,\n\u001b[0;32m   2180\u001b[0m ) \u001b[39m-\u001b[39m\u001b[39m>\u001b[39m Result[Any]:\n\u001b[0;32m   2181\u001b[0m \u001b[39m    \u001b[39m\u001b[39mr\u001b[39m\u001b[39m\"\"\"Execute a SQL expression construct.\u001b[39;00m\n\u001b[0;32m   2182\u001b[0m \n\u001b[0;32m   2183\u001b[0m \u001b[39m    Returns a :class:`_engine.Result` object representing\u001b[39;00m\n\u001b[1;32m   (...)\u001b[0m\n\u001b[0;32m   2230\u001b[0m \n\u001b[0;32m   2231\u001b[0m \u001b[39m    \"\"\"\u001b[39;00m\n\u001b[1;32m-> 2232\u001b[0m     \u001b[39mreturn\u001b[39;00m \u001b[39mself\u001b[39;49m\u001b[39m.\u001b[39;49m_execute_internal(\n\u001b[0;32m   2233\u001b[0m         statement,\n\u001b[0;32m   2234\u001b[0m         params,\n\u001b[0;32m   2235\u001b[0m         execution_options\u001b[39m=\u001b[39;49mexecution_options,\n\u001b[0;32m   2236\u001b[0m         bind_arguments\u001b[39m=\u001b[39;49mbind_arguments,\n\u001b[0;32m   2237\u001b[0m         _parent_execute_state\u001b[39m=\u001b[39;49m_parent_execute_state,\n\u001b[0;32m   2238\u001b[0m         _add_event\u001b[39m=\u001b[39;49m_add_event,\n\u001b[0;32m   2239\u001b[0m     )\n",
      "File \u001b[1;32mc:\\Users\\victo\\anaconda3\\envs\\cuda\\lib\\site-packages\\sqlalchemy\\orm\\session.py:2127\u001b[0m, in \u001b[0;36mSession._execute_internal\u001b[1;34m(self, statement, params, execution_options, bind_arguments, _parent_execute_state, _add_event, _scalar_result)\u001b[0m\n\u001b[0;32m   2122\u001b[0m     \u001b[39mreturn\u001b[39;00m conn\u001b[39m.\u001b[39mscalar(\n\u001b[0;32m   2123\u001b[0m         statement, params \u001b[39mor\u001b[39;00m {}, execution_options\u001b[39m=\u001b[39mexecution_options\n\u001b[0;32m   2124\u001b[0m     )\n\u001b[0;32m   2126\u001b[0m \u001b[39mif\u001b[39;00m compile_state_cls:\n\u001b[1;32m-> 2127\u001b[0m     result: Result[Any] \u001b[39m=\u001b[39m compile_state_cls\u001b[39m.\u001b[39;49morm_execute_statement(\n\u001b[0;32m   2128\u001b[0m         \u001b[39mself\u001b[39;49m,\n\u001b[0;32m   2129\u001b[0m         statement,\n\u001b[0;32m   2130\u001b[0m         params \u001b[39mor\u001b[39;49;00m {},\n\u001b[0;32m   2131\u001b[0m         execution_options,\n\u001b[0;32m   2132\u001b[0m         bind_arguments,\n\u001b[0;32m   2133\u001b[0m         conn,\n\u001b[0;32m   2134\u001b[0m     )\n\u001b[0;32m   2135\u001b[0m \u001b[39melse\u001b[39;00m:\n\u001b[0;32m   2136\u001b[0m     result \u001b[39m=\u001b[39m conn\u001b[39m.\u001b[39mexecute(\n\u001b[0;32m   2137\u001b[0m         statement, params \u001b[39mor\u001b[39;00m {}, execution_options\u001b[39m=\u001b[39mexecution_options\n\u001b[0;32m   2138\u001b[0m     )\n",
      "File \u001b[1;32mc:\\Users\\victo\\anaconda3\\envs\\cuda\\lib\\site-packages\\sqlalchemy\\orm\\context.py:293\u001b[0m, in \u001b[0;36mAbstractORMCompileState.orm_execute_statement\u001b[1;34m(cls, session, statement, params, execution_options, bind_arguments, conn)\u001b[0m\n\u001b[0;32m    283\u001b[0m \u001b[39m@classmethod\u001b[39m\n\u001b[0;32m    284\u001b[0m \u001b[39mdef\u001b[39;00m \u001b[39morm_execute_statement\u001b[39m(\n\u001b[0;32m    285\u001b[0m     \u001b[39mcls\u001b[39m,\n\u001b[1;32m   (...)\u001b[0m\n\u001b[0;32m    291\u001b[0m     conn,\n\u001b[0;32m    292\u001b[0m ) \u001b[39m-\u001b[39m\u001b[39m>\u001b[39m Result:\n\u001b[1;32m--> 293\u001b[0m     result \u001b[39m=\u001b[39m conn\u001b[39m.\u001b[39;49mexecute(\n\u001b[0;32m    294\u001b[0m         statement, params \u001b[39mor\u001b[39;49;00m {}, execution_options\u001b[39m=\u001b[39;49mexecution_options\n\u001b[0;32m    295\u001b[0m     )\n\u001b[0;32m    296\u001b[0m     \u001b[39mreturn\u001b[39;00m \u001b[39mcls\u001b[39m\u001b[39m.\u001b[39morm_setup_cursor_result(\n\u001b[0;32m    297\u001b[0m         session,\n\u001b[0;32m    298\u001b[0m         statement,\n\u001b[1;32m   (...)\u001b[0m\n\u001b[0;32m    302\u001b[0m         result,\n\u001b[0;32m    303\u001b[0m     )\n",
      "File \u001b[1;32mc:\\Users\\victo\\anaconda3\\envs\\cuda\\lib\\site-packages\\sqlalchemy\\engine\\base.py:1413\u001b[0m, in \u001b[0;36mConnection.execute\u001b[1;34m(self, statement, parameters, execution_options)\u001b[0m\n\u001b[0;32m   1411\u001b[0m     \u001b[39mraise\u001b[39;00m exc\u001b[39m.\u001b[39mObjectNotExecutableError(statement) \u001b[39mfrom\u001b[39;00m \u001b[39merr\u001b[39;00m\n\u001b[0;32m   1412\u001b[0m \u001b[39melse\u001b[39;00m:\n\u001b[1;32m-> 1413\u001b[0m     \u001b[39mreturn\u001b[39;00m meth(\n\u001b[0;32m   1414\u001b[0m         \u001b[39mself\u001b[39;49m,\n\u001b[0;32m   1415\u001b[0m         distilled_parameters,\n\u001b[0;32m   1416\u001b[0m         execution_options \u001b[39mor\u001b[39;49;00m NO_OPTIONS,\n\u001b[0;32m   1417\u001b[0m     )\n",
      "File \u001b[1;32mc:\\Users\\victo\\anaconda3\\envs\\cuda\\lib\\site-packages\\sqlalchemy\\sql\\elements.py:483\u001b[0m, in \u001b[0;36mClauseElement._execute_on_connection\u001b[1;34m(self, connection, distilled_params, execution_options)\u001b[0m\n\u001b[0;32m    481\u001b[0m     \u001b[39mif\u001b[39;00m TYPE_CHECKING:\n\u001b[0;32m    482\u001b[0m         \u001b[39massert\u001b[39;00m \u001b[39misinstance\u001b[39m(\u001b[39mself\u001b[39m, Executable)\n\u001b[1;32m--> 483\u001b[0m     \u001b[39mreturn\u001b[39;00m connection\u001b[39m.\u001b[39;49m_execute_clauseelement(\n\u001b[0;32m    484\u001b[0m         \u001b[39mself\u001b[39;49m, distilled_params, execution_options\n\u001b[0;32m    485\u001b[0m     )\n\u001b[0;32m    486\u001b[0m \u001b[39melse\u001b[39;00m:\n\u001b[0;32m    487\u001b[0m     \u001b[39mraise\u001b[39;00m exc\u001b[39m.\u001b[39mObjectNotExecutableError(\u001b[39mself\u001b[39m)\n",
      "File \u001b[1;32mc:\\Users\\victo\\anaconda3\\envs\\cuda\\lib\\site-packages\\sqlalchemy\\engine\\base.py:1637\u001b[0m, in \u001b[0;36mConnection._execute_clauseelement\u001b[1;34m(self, elem, distilled_parameters, execution_options)\u001b[0m\n\u001b[0;32m   1625\u001b[0m compiled_cache: Optional[CompiledCacheType] \u001b[39m=\u001b[39m execution_options\u001b[39m.\u001b[39mget(\n\u001b[0;32m   1626\u001b[0m     \u001b[39m\"\u001b[39m\u001b[39mcompiled_cache\u001b[39m\u001b[39m\"\u001b[39m, \u001b[39mself\u001b[39m\u001b[39m.\u001b[39mengine\u001b[39m.\u001b[39m_compiled_cache\n\u001b[0;32m   1627\u001b[0m )\n\u001b[0;32m   1629\u001b[0m compiled_sql, extracted_params, cache_hit \u001b[39m=\u001b[39m elem\u001b[39m.\u001b[39m_compile_w_cache(\n\u001b[0;32m   1630\u001b[0m     dialect\u001b[39m=\u001b[39mdialect,\n\u001b[0;32m   1631\u001b[0m     compiled_cache\u001b[39m=\u001b[39mcompiled_cache,\n\u001b[1;32m   (...)\u001b[0m\n\u001b[0;32m   1635\u001b[0m     linting\u001b[39m=\u001b[39m\u001b[39mself\u001b[39m\u001b[39m.\u001b[39mdialect\u001b[39m.\u001b[39mcompiler_linting \u001b[39m|\u001b[39m compiler\u001b[39m.\u001b[39mWARN_LINTING,\n\u001b[0;32m   1636\u001b[0m )\n\u001b[1;32m-> 1637\u001b[0m ret \u001b[39m=\u001b[39m \u001b[39mself\u001b[39;49m\u001b[39m.\u001b[39;49m_execute_context(\n\u001b[0;32m   1638\u001b[0m     dialect,\n\u001b[0;32m   1639\u001b[0m     dialect\u001b[39m.\u001b[39;49mexecution_ctx_cls\u001b[39m.\u001b[39;49m_init_compiled,\n\u001b[0;32m   1640\u001b[0m     compiled_sql,\n\u001b[0;32m   1641\u001b[0m     distilled_parameters,\n\u001b[0;32m   1642\u001b[0m     execution_options,\n\u001b[0;32m   1643\u001b[0m     compiled_sql,\n\u001b[0;32m   1644\u001b[0m     distilled_parameters,\n\u001b[0;32m   1645\u001b[0m     elem,\n\u001b[0;32m   1646\u001b[0m     extracted_params,\n\u001b[0;32m   1647\u001b[0m     cache_hit\u001b[39m=\u001b[39;49mcache_hit,\n\u001b[0;32m   1648\u001b[0m )\n\u001b[0;32m   1649\u001b[0m \u001b[39mif\u001b[39;00m has_events:\n\u001b[0;32m   1650\u001b[0m     \u001b[39mself\u001b[39m\u001b[39m.\u001b[39mdispatch\u001b[39m.\u001b[39mafter_execute(\n\u001b[0;32m   1651\u001b[0m         \u001b[39mself\u001b[39m,\n\u001b[0;32m   1652\u001b[0m         elem,\n\u001b[1;32m   (...)\u001b[0m\n\u001b[0;32m   1656\u001b[0m         ret,\n\u001b[0;32m   1657\u001b[0m     )\n",
      "File \u001b[1;32mc:\\Users\\victo\\anaconda3\\envs\\cuda\\lib\\site-packages\\sqlalchemy\\engine\\base.py:1846\u001b[0m, in \u001b[0;36mConnection._execute_context\u001b[1;34m(self, dialect, constructor, statement, parameters, execution_options, *args, **kw)\u001b[0m\n\u001b[0;32m   1841\u001b[0m     \u001b[39mreturn\u001b[39;00m \u001b[39mself\u001b[39m\u001b[39m.\u001b[39m_exec_insertmany_context(\n\u001b[0;32m   1842\u001b[0m         dialect,\n\u001b[0;32m   1843\u001b[0m         context,\n\u001b[0;32m   1844\u001b[0m     )\n\u001b[0;32m   1845\u001b[0m \u001b[39melse\u001b[39;00m:\n\u001b[1;32m-> 1846\u001b[0m     \u001b[39mreturn\u001b[39;00m \u001b[39mself\u001b[39;49m\u001b[39m.\u001b[39;49m_exec_single_context(\n\u001b[0;32m   1847\u001b[0m         dialect, context, statement, parameters\n\u001b[0;32m   1848\u001b[0m     )\n",
      "File \u001b[1;32mc:\\Users\\victo\\anaconda3\\envs\\cuda\\lib\\site-packages\\sqlalchemy\\engine\\base.py:1987\u001b[0m, in \u001b[0;36mConnection._exec_single_context\u001b[1;34m(self, dialect, context, statement, parameters)\u001b[0m\n\u001b[0;32m   1984\u001b[0m     result \u001b[39m=\u001b[39m context\u001b[39m.\u001b[39m_setup_result_proxy()\n\u001b[0;32m   1986\u001b[0m \u001b[39mexcept\u001b[39;00m \u001b[39mBaseException\u001b[39;00m \u001b[39mas\u001b[39;00m e:\n\u001b[1;32m-> 1987\u001b[0m     \u001b[39mself\u001b[39;49m\u001b[39m.\u001b[39;49m_handle_dbapi_exception(\n\u001b[0;32m   1988\u001b[0m         e, str_statement, effective_parameters, cursor, context\n\u001b[0;32m   1989\u001b[0m     )\n\u001b[0;32m   1991\u001b[0m \u001b[39mreturn\u001b[39;00m result\n",
      "File \u001b[1;32mc:\\Users\\victo\\anaconda3\\envs\\cuda\\lib\\site-packages\\sqlalchemy\\engine\\base.py:2347\u001b[0m, in \u001b[0;36mConnection._handle_dbapi_exception\u001b[1;34m(self, e, statement, parameters, cursor, context, is_sub_exec)\u001b[0m\n\u001b[0;32m   2345\u001b[0m     \u001b[39melse\u001b[39;00m:\n\u001b[0;32m   2346\u001b[0m         \u001b[39massert\u001b[39;00m exc_info[\u001b[39m1\u001b[39m] \u001b[39mis\u001b[39;00m \u001b[39mnot\u001b[39;00m \u001b[39mNone\u001b[39;00m\n\u001b[1;32m-> 2347\u001b[0m         \u001b[39mraise\u001b[39;00m exc_info[\u001b[39m1\u001b[39m]\u001b[39m.\u001b[39mwith_traceback(exc_info[\u001b[39m2\u001b[39m])\n\u001b[0;32m   2348\u001b[0m \u001b[39mfinally\u001b[39;00m:\n\u001b[0;32m   2349\u001b[0m     \u001b[39mdel\u001b[39;00m \u001b[39mself\u001b[39m\u001b[39m.\u001b[39m_reentrant_error\n",
      "File \u001b[1;32mc:\\Users\\victo\\anaconda3\\envs\\cuda\\lib\\site-packages\\sqlalchemy\\engine\\base.py:1968\u001b[0m, in \u001b[0;36mConnection._exec_single_context\u001b[1;34m(self, dialect, context, statement, parameters)\u001b[0m\n\u001b[0;32m   1966\u001b[0m                 \u001b[39mbreak\u001b[39;00m\n\u001b[0;32m   1967\u001b[0m     \u001b[39mif\u001b[39;00m \u001b[39mnot\u001b[39;00m evt_handled:\n\u001b[1;32m-> 1968\u001b[0m         \u001b[39mself\u001b[39;49m\u001b[39m.\u001b[39;49mdialect\u001b[39m.\u001b[39;49mdo_execute(\n\u001b[0;32m   1969\u001b[0m             cursor, str_statement, effective_parameters, context\n\u001b[0;32m   1970\u001b[0m         )\n\u001b[0;32m   1972\u001b[0m \u001b[39mif\u001b[39;00m \u001b[39mself\u001b[39m\u001b[39m.\u001b[39m_has_events \u001b[39mor\u001b[39;00m \u001b[39mself\u001b[39m\u001b[39m.\u001b[39mengine\u001b[39m.\u001b[39m_has_events:\n\u001b[0;32m   1973\u001b[0m     \u001b[39mself\u001b[39m\u001b[39m.\u001b[39mdispatch\u001b[39m.\u001b[39mafter_cursor_execute(\n\u001b[0;32m   1974\u001b[0m         \u001b[39mself\u001b[39m,\n\u001b[0;32m   1975\u001b[0m         cursor,\n\u001b[1;32m   (...)\u001b[0m\n\u001b[0;32m   1979\u001b[0m         context\u001b[39m.\u001b[39mexecutemany,\n\u001b[0;32m   1980\u001b[0m     )\n",
      "File \u001b[1;32mc:\\Users\\victo\\anaconda3\\envs\\cuda\\lib\\site-packages\\sqlalchemy\\engine\\default.py:920\u001b[0m, in \u001b[0;36mDefaultDialect.do_execute\u001b[1;34m(self, cursor, statement, parameters, context)\u001b[0m\n\u001b[0;32m    919\u001b[0m \u001b[39mdef\u001b[39;00m \u001b[39mdo_execute\u001b[39m(\u001b[39mself\u001b[39m, cursor, statement, parameters, context\u001b[39m=\u001b[39m\u001b[39mNone\u001b[39;00m):\n\u001b[1;32m--> 920\u001b[0m     cursor\u001b[39m.\u001b[39;49mexecute(statement, parameters)\n",
      "\u001b[1;31mKeyboardInterrupt\u001b[0m: "
     ]
    }
   ],
   "source": [
    "trials_restantes=50000\n",
    "study.optimize(objective, n_trials=trials_restantes)"
   ]
  },
  {
   "cell_type": "code",
   "execution_count": null,
   "metadata": {},
   "outputs": [
    {
     "name": "stdout",
     "output_type": "stream",
     "text": [
      "Número de pruebas finalizadas: 119\n",
      "Mejor prueba: {'activation_l0': 'ReLU', 'activation_l1': 'LeakyReLU', 'activation_l10': 'ReLU', 'activation_l11': 'ReLU', 'activation_l12': 'LeakyReLU', 'activation_l13': 'LeakyReLU', 'activation_l14': 'ELU', 'activation_l15': 'SELU', 'activation_l16': 'ReLU', 'activation_l17': 'LeakyReLU', 'activation_l18': 'Tanh', 'activation_l19': 'Tanh', 'activation_l2': 'ReLU', 'activation_l20': 'ReLU', 'activation_l21': 'LeakyReLU', 'activation_l22': 'Tanh', 'activation_l23': 'LeakyReLU', 'activation_l24': 'SELU', 'activation_l25': 'SELU', 'activation_l26': 'LeakyReLU', 'activation_l27': 'ELU', 'activation_l3': 'LeakyReLU', 'activation_l4': 'ReLU', 'activation_l5': 'SELU', 'activation_l6': 'LeakyReLU', 'activation_l7': 'SELU', 'activation_l8': 'Tanh', 'activation_l9': 'ReLU', 'batch_norm_l0': False, 'batch_norm_l1': False, 'batch_norm_l10': True, 'batch_norm_l11': True, 'batch_norm_l12': True, 'batch_norm_l13': True, 'batch_norm_l14': True, 'batch_norm_l15': False, 'batch_norm_l16': True, 'batch_norm_l17': True, 'batch_norm_l18': False, 'batch_norm_l19': False, 'batch_norm_l2': True, 'batch_norm_l20': False, 'batch_norm_l21': True, 'batch_norm_l22': True, 'batch_norm_l23': True, 'batch_norm_l24': True, 'batch_norm_l25': True, 'batch_norm_l26': True, 'batch_norm_l27': True, 'batch_norm_l3': False, 'batch_norm_l4': True, 'batch_norm_l5': True, 'batch_norm_l6': False, 'batch_norm_l7': True, 'batch_norm_l8': False, 'batch_norm_l9': True, 'batch_size': 128, 'dropout_l0': 0.07488890559243518, 'dropout_l1': 0.39385631829803947, 'dropout_l10': 0.14095551072270307, 'dropout_l11': 0.40372697747854347, 'dropout_l12': 0.08541135689253607, 'dropout_l13': 0.10075956787819221, 'dropout_l14': 0.3533047803814277, 'dropout_l15': 0.2595322411761184, 'dropout_l16': 0.17762660528933186, 'dropout_l17': 0.048400405859730114, 'dropout_l18': 0.07677847847590306, 'dropout_l19': 0.25936279756826053, 'dropout_l2': 0.2762230441116781, 'dropout_l20': 0.16422211275012613, 'dropout_l21': 0.41379369267517874, 'dropout_l22': 0.26405244524882726, 'dropout_l23': 0.04252391322284655, 'dropout_l24': 0.04346067433552529, 'dropout_l25': 0.3952556275726937, 'dropout_l26': 0.41526424482865154, 'dropout_l27': 0.2680114685424495, 'dropout_l3': 0.05292883505179763, 'dropout_l4': 0.44128194297953355, 'dropout_l5': 0.06014807216450272, 'dropout_l6': 0.012895935351145294, 'dropout_l7': 0.08941909614365025, 'dropout_l8': 0.1598106707631206, 'dropout_l9': 0.24804257374527472, 'early_stopping_patience': 37, 'epochs': 543, 'l2_reg_l0': 0.0006128713098084779, 'l2_reg_l1': 0.09835886016428931, 'l2_reg_l10': 7.265194187683313e-05, 'l2_reg_l11': 0.05125296816201305, 'l2_reg_l12': 0.0006323332521349219, 'l2_reg_l13': 2.1079939948860993e-05, 'l2_reg_l14': 0.06597425911203224, 'l2_reg_l15': 0.01819112511733459, 'l2_reg_l16': 7.874813403326542e-05, 'l2_reg_l17': 0.0010588159785086253, 'l2_reg_l18': 0.07498953404960297, 'l2_reg_l19': 1.6011044063366098e-05, 'l2_reg_l2': 0.004429373890551971, 'l2_reg_l20': 5.2691526462384864e-05, 'l2_reg_l21': 0.01312568610503173, 'l2_reg_l22': 0.06667345533891811, 'l2_reg_l23': 1.8223106909711527e-05, 'l2_reg_l24': 0.009748549023293054, 'l2_reg_l25': 0.0012319401557778329, 'l2_reg_l26': 0.004980566522503193, 'l2_reg_l27': 0.020056733327955812, 'l2_reg_l3': 0.00019775200305165058, 'l2_reg_l4': 0.02503894867526443, 'l2_reg_l5': 0.0005043823031718926, 'l2_reg_l6': 1.822656834396918e-05, 'l2_reg_l7': 0.013078989958043305, 'l2_reg_l8': 0.0022240861868348177, 'l2_reg_l9': 8.846018832573217e-05, 'leakyrelu_alpha_l1': 0.03465436179833255, 'leakyrelu_alpha_l12': 0.2897358186088502, 'leakyrelu_alpha_l13': 0.2716914613342299, 'leakyrelu_alpha_l17': 0.25473919582128, 'leakyrelu_alpha_l21': 0.24320857033989104, 'leakyrelu_alpha_l23': 0.04734517064028711, 'leakyrelu_alpha_l26': 0.20713380400137313, 'leakyrelu_alpha_l3': 0.16221189214464538, 'leakyrelu_alpha_l6': 0.12023451991775307, 'lr': 0.03861649632701879, 'lr_reduce_factor': 0.5435240190431401, 'lr_reduce_patience': 22, 'min_lr': 5.992749027522483e-06, 'n_layers': 28, 'n_units_l0': 512, 'n_units_l1': 2048, 'n_units_l10': 1024, 'n_units_l11': 128, 'n_units_l12': 512, 'n_units_l13': 1024, 'n_units_l14': 32, 'n_units_l15': 128, 'n_units_l16': 32, 'n_units_l17': 512, 'n_units_l18': 512, 'n_units_l19': 2048, 'n_units_l2': 2048, 'n_units_l20': 512, 'n_units_l21': 256, 'n_units_l22': 256, 'n_units_l23': 1024, 'n_units_l24': 128, 'n_units_l25': 16, 'n_units_l26': 256, 'n_units_l27': 1024, 'n_units_l3': 16, 'n_units_l4': 32, 'n_units_l5': 128, 'n_units_l6': 128, 'n_units_l7': 16, 'n_units_l8': 64, 'n_units_l9': 128, 'optimizer': 'SGD', 'sgd_momentum': 0.58513035677889}\n"
     ]
    }
   ],
   "source": [
    "print('Número de pruebas finalizadas:', len(study.trials))\n",
    "print('Mejor prueba:', study.best_trial.params)"
   ]
  },
  {
   "cell_type": "code",
   "execution_count": null,
   "metadata": {},
   "outputs": [
    {
     "data": {
      "text/plain": [
       "{'activation_l0': 'ReLU',\n",
       " 'activation_l1': 'LeakyReLU',\n",
       " 'activation_l10': 'ReLU',\n",
       " 'activation_l11': 'ReLU',\n",
       " 'activation_l12': 'LeakyReLU',\n",
       " 'activation_l13': 'LeakyReLU',\n",
       " 'activation_l14': 'ELU',\n",
       " 'activation_l15': 'SELU',\n",
       " 'activation_l16': 'ReLU',\n",
       " 'activation_l17': 'LeakyReLU',\n",
       " 'activation_l18': 'Tanh',\n",
       " 'activation_l19': 'Tanh',\n",
       " 'activation_l2': 'ReLU',\n",
       " 'activation_l20': 'ReLU',\n",
       " 'activation_l21': 'LeakyReLU',\n",
       " 'activation_l22': 'Tanh',\n",
       " 'activation_l23': 'LeakyReLU',\n",
       " 'activation_l24': 'SELU',\n",
       " 'activation_l25': 'SELU',\n",
       " 'activation_l26': 'LeakyReLU',\n",
       " 'activation_l27': 'ELU',\n",
       " 'activation_l3': 'LeakyReLU',\n",
       " 'activation_l4': 'ReLU',\n",
       " 'activation_l5': 'SELU',\n",
       " 'activation_l6': 'LeakyReLU',\n",
       " 'activation_l7': 'SELU',\n",
       " 'activation_l8': 'Tanh',\n",
       " 'activation_l9': 'ReLU',\n",
       " 'batch_norm_l0': False,\n",
       " 'batch_norm_l1': False,\n",
       " 'batch_norm_l10': True,\n",
       " 'batch_norm_l11': True,\n",
       " 'batch_norm_l12': True,\n",
       " 'batch_norm_l13': True,\n",
       " 'batch_norm_l14': True,\n",
       " 'batch_norm_l15': False,\n",
       " 'batch_norm_l16': True,\n",
       " 'batch_norm_l17': True,\n",
       " 'batch_norm_l18': False,\n",
       " 'batch_norm_l19': False,\n",
       " 'batch_norm_l2': True,\n",
       " 'batch_norm_l20': False,\n",
       " 'batch_norm_l21': True,\n",
       " 'batch_norm_l22': True,\n",
       " 'batch_norm_l23': True,\n",
       " 'batch_norm_l24': True,\n",
       " 'batch_norm_l25': True,\n",
       " 'batch_norm_l26': True,\n",
       " 'batch_norm_l27': True,\n",
       " 'batch_norm_l3': False,\n",
       " 'batch_norm_l4': True,\n",
       " 'batch_norm_l5': True,\n",
       " 'batch_norm_l6': False,\n",
       " 'batch_norm_l7': True,\n",
       " 'batch_norm_l8': False,\n",
       " 'batch_norm_l9': True,\n",
       " 'batch_size': 128,\n",
       " 'dropout_l0': 0.07488890559243518,\n",
       " 'dropout_l1': 0.39385631829803947,\n",
       " 'dropout_l10': 0.14095551072270307,\n",
       " 'dropout_l11': 0.40372697747854347,\n",
       " 'dropout_l12': 0.08541135689253607,\n",
       " 'dropout_l13': 0.10075956787819221,\n",
       " 'dropout_l14': 0.3533047803814277,\n",
       " 'dropout_l15': 0.2595322411761184,\n",
       " 'dropout_l16': 0.17762660528933186,\n",
       " 'dropout_l17': 0.048400405859730114,\n",
       " 'dropout_l18': 0.07677847847590306,\n",
       " 'dropout_l19': 0.25936279756826053,\n",
       " 'dropout_l2': 0.2762230441116781,\n",
       " 'dropout_l20': 0.16422211275012613,\n",
       " 'dropout_l21': 0.41379369267517874,\n",
       " 'dropout_l22': 0.26405244524882726,\n",
       " 'dropout_l23': 0.04252391322284655,\n",
       " 'dropout_l24': 0.04346067433552529,\n",
       " 'dropout_l25': 0.3952556275726937,\n",
       " 'dropout_l26': 0.41526424482865154,\n",
       " 'dropout_l27': 0.2680114685424495,\n",
       " 'dropout_l3': 0.05292883505179763,\n",
       " 'dropout_l4': 0.44128194297953355,\n",
       " 'dropout_l5': 0.06014807216450272,\n",
       " 'dropout_l6': 0.012895935351145294,\n",
       " 'dropout_l7': 0.08941909614365025,\n",
       " 'dropout_l8': 0.1598106707631206,\n",
       " 'dropout_l9': 0.24804257374527472,\n",
       " 'early_stopping_patience': 37,\n",
       " 'epochs': 543,\n",
       " 'l2_reg_l0': 0.0006128713098084779,\n",
       " 'l2_reg_l1': 0.09835886016428931,\n",
       " 'l2_reg_l10': 7.265194187683313e-05,\n",
       " 'l2_reg_l11': 0.05125296816201305,\n",
       " 'l2_reg_l12': 0.0006323332521349219,\n",
       " 'l2_reg_l13': 2.1079939948860993e-05,\n",
       " 'l2_reg_l14': 0.06597425911203224,\n",
       " 'l2_reg_l15': 0.01819112511733459,\n",
       " 'l2_reg_l16': 7.874813403326542e-05,\n",
       " 'l2_reg_l17': 0.0010588159785086253,\n",
       " 'l2_reg_l18': 0.07498953404960297,\n",
       " 'l2_reg_l19': 1.6011044063366098e-05,\n",
       " 'l2_reg_l2': 0.004429373890551971,\n",
       " 'l2_reg_l20': 5.2691526462384864e-05,\n",
       " 'l2_reg_l21': 0.01312568610503173,\n",
       " 'l2_reg_l22': 0.06667345533891811,\n",
       " 'l2_reg_l23': 1.8223106909711527e-05,\n",
       " 'l2_reg_l24': 0.009748549023293054,\n",
       " 'l2_reg_l25': 0.0012319401557778329,\n",
       " 'l2_reg_l26': 0.004980566522503193,\n",
       " 'l2_reg_l27': 0.020056733327955812,\n",
       " 'l2_reg_l3': 0.00019775200305165058,\n",
       " 'l2_reg_l4': 0.02503894867526443,\n",
       " 'l2_reg_l5': 0.0005043823031718926,\n",
       " 'l2_reg_l6': 1.822656834396918e-05,\n",
       " 'l2_reg_l7': 0.013078989958043305,\n",
       " 'l2_reg_l8': 0.0022240861868348177,\n",
       " 'l2_reg_l9': 8.846018832573217e-05,\n",
       " 'leakyrelu_alpha_l1': 0.03465436179833255,\n",
       " 'leakyrelu_alpha_l12': 0.2897358186088502,\n",
       " 'leakyrelu_alpha_l13': 0.2716914613342299,\n",
       " 'leakyrelu_alpha_l17': 0.25473919582128,\n",
       " 'leakyrelu_alpha_l21': 0.24320857033989104,\n",
       " 'leakyrelu_alpha_l23': 0.04734517064028711,\n",
       " 'leakyrelu_alpha_l26': 0.20713380400137313,\n",
       " 'leakyrelu_alpha_l3': 0.16221189214464538,\n",
       " 'leakyrelu_alpha_l6': 0.12023451991775307,\n",
       " 'lr': 0.03861649632701879,\n",
       " 'lr_reduce_factor': 0.5435240190431401,\n",
       " 'lr_reduce_patience': 22,\n",
       " 'min_lr': 5.992749027522483e-06,\n",
       " 'n_layers': 28,\n",
       " 'n_units_l0': 512,\n",
       " 'n_units_l1': 2048,\n",
       " 'n_units_l10': 1024,\n",
       " 'n_units_l11': 128,\n",
       " 'n_units_l12': 512,\n",
       " 'n_units_l13': 1024,\n",
       " 'n_units_l14': 32,\n",
       " 'n_units_l15': 128,\n",
       " 'n_units_l16': 32,\n",
       " 'n_units_l17': 512,\n",
       " 'n_units_l18': 512,\n",
       " 'n_units_l19': 2048,\n",
       " 'n_units_l2': 2048,\n",
       " 'n_units_l20': 512,\n",
       " 'n_units_l21': 256,\n",
       " 'n_units_l22': 256,\n",
       " 'n_units_l23': 1024,\n",
       " 'n_units_l24': 128,\n",
       " 'n_units_l25': 16,\n",
       " 'n_units_l26': 256,\n",
       " 'n_units_l27': 1024,\n",
       " 'n_units_l3': 16,\n",
       " 'n_units_l4': 32,\n",
       " 'n_units_l5': 128,\n",
       " 'n_units_l6': 128,\n",
       " 'n_units_l7': 16,\n",
       " 'n_units_l8': 64,\n",
       " 'n_units_l9': 128,\n",
       " 'optimizer': 'SGD',\n",
       " 'sgd_momentum': 0.58513035677889}"
      ]
     },
     "execution_count": 17,
     "metadata": {},
     "output_type": "execute_result"
    }
   ],
   "source": [
    "study.best_params"
   ]
  },
  {
   "cell_type": "markdown",
   "metadata": {},
   "source": [
    "## Test"
   ]
  },
  {
   "cell_type": "code",
   "execution_count": null,
   "metadata": {},
   "outputs": [],
   "source": [
    "import torch.nn as nn\n",
    "\n",
    "class PyTorchModel(nn.Module):\n",
    "    def __init__(self, params, input_shape):\n",
    "        super(PyTorchModel, self).__init__()\n",
    "        self.layers = nn.ModuleList()\n",
    "        self.l2_regs = []\n",
    "        current_shape = input_shape\n",
    "\n",
    "        # Definir la arquitectura de la red usando los hiperparámetros fijos\n",
    "        n_layers = params['n_layers']\n",
    "        for i in range(n_layers):\n",
    "            num_units = params[f'n_units_l{i}']\n",
    "            activation = params[f'activation_l{i}']\n",
    "            dropout_rate = params[f'dropout_l{i}']\n",
    "            use_batch_norm = params[f'batch_norm_l{i}']\n",
    "            l2_reg = params[f'l2_reg_l{i}']\n",
    "\n",
    "            # Crear y añadir la capa lineal\n",
    "            layer = nn.Linear(current_shape, num_units)\n",
    "            self.layers.append(layer)\n",
    "            self.l2_regs.append(l2_reg)  # Añadir la tasa de regularización L2\n",
    "\n",
    "            current_shape = num_units\n",
    "\n",
    "            # Añadir Batch Normalization si se indica\n",
    "            if use_batch_norm:\n",
    "                self.layers.append(nn.BatchNorm1d(num_units))\n",
    "            \n",
    "            # Añadir Dropout\n",
    "            self.layers.append(nn.Dropout(dropout_rate))\n",
    "\n",
    "            # Añadir la activación\n",
    "            if activation == 'LeakyReLU':\n",
    "                negative_slope = params.get(f'leakyrelu_alpha_l{i}', 0.01)  # Valor predeterminado si no se proporciona\n",
    "                self.layers.append(nn.LeakyReLU(negative_slope=negative_slope))\n",
    "            else:\n",
    "                self.layers.append(getattr(nn, activation)())\n",
    "\n",
    "        # Capa de salida\n",
    "        self.output = nn.Linear(current_shape, 1)\n",
    "\n",
    "    def forward(self, x):\n",
    "        for layer in self.layers:\n",
    "            x = layer(x)\n",
    "        return torch.sigmoid(self.output(x))\n",
    "\n",
    "    def get_l2_loss(self):\n",
    "        l2_loss = 0.0\n",
    "        for layer, l2_reg in zip(self.layers, self.l2_regs):\n",
    "            if isinstance(layer, nn.Linear):\n",
    "                l2_loss += l2_reg * layer.weight.norm(2)\n",
    "        return l2_loss"
   ]
  },
  {
   "cell_type": "code",
   "execution_count": null,
   "metadata": {},
   "outputs": [
    {
     "name": "stdout",
     "output_type": "stream",
     "text": [
      "odict_keys(['layers.0.weight', 'layers.0.bias', 'layers.3.weight', 'layers.3.bias', 'layers.6.weight', 'layers.6.bias', 'layers.7.weight', 'layers.7.bias', 'layers.7.running_mean', 'layers.7.running_var', 'layers.7.num_batches_tracked', 'layers.10.weight', 'layers.10.bias', 'layers.11.weight', 'layers.11.bias', 'layers.11.running_mean', 'layers.11.running_var', 'layers.11.num_batches_tracked', 'output.weight', 'output.bias'])\n"
     ]
    }
   ],
   "source": [
    "import torch\n",
    "\n",
    "# Cargar el estado del modelo\n",
    "state_dict = torch.load(\"best_model.pt\")\n",
    "\n",
    "# Imprimir la estructura del modelo\n",
    "print(state_dict.keys())\n"
   ]
  },
  {
   "cell_type": "code",
   "execution_count": null,
   "metadata": {},
   "outputs": [
    {
     "ename": "RuntimeError",
     "evalue": "Error(s) in loading state_dict for PyTorchModel:\n\tMissing key(s) in state_dict: \"layers.14.weight\", \"layers.14.bias\", \"layers.15.weight\", \"layers.15.bias\", \"layers.15.running_mean\", \"layers.15.running_var\", \"layers.18.weight\", \"layers.18.bias\". \n\tsize mismatch for layers.6.weight: copying a param with shape torch.Size([2048, 512]) from checkpoint, the shape in current model is torch.Size([1024, 512]).\n\tsize mismatch for layers.6.bias: copying a param with shape torch.Size([2048]) from checkpoint, the shape in current model is torch.Size([1024]).\n\tsize mismatch for layers.7.weight: copying a param with shape torch.Size([2048]) from checkpoint, the shape in current model is torch.Size([1024]).\n\tsize mismatch for layers.7.bias: copying a param with shape torch.Size([2048]) from checkpoint, the shape in current model is torch.Size([1024]).\n\tsize mismatch for layers.7.running_mean: copying a param with shape torch.Size([2048]) from checkpoint, the shape in current model is torch.Size([1024]).\n\tsize mismatch for layers.7.running_var: copying a param with shape torch.Size([2048]) from checkpoint, the shape in current model is torch.Size([1024]).\n\tsize mismatch for layers.10.weight: copying a param with shape torch.Size([2048, 2048]) from checkpoint, the shape in current model is torch.Size([1024, 1024]).\n\tsize mismatch for layers.10.bias: copying a param with shape torch.Size([2048]) from checkpoint, the shape in current model is torch.Size([1024]).\n\tsize mismatch for layers.11.weight: copying a param with shape torch.Size([2048]) from checkpoint, the shape in current model is torch.Size([1024]).\n\tsize mismatch for layers.11.bias: copying a param with shape torch.Size([2048]) from checkpoint, the shape in current model is torch.Size([1024]).\n\tsize mismatch for layers.11.running_mean: copying a param with shape torch.Size([2048]) from checkpoint, the shape in current model is torch.Size([1024]).\n\tsize mismatch for layers.11.running_var: copying a param with shape torch.Size([2048]) from checkpoint, the shape in current model is torch.Size([1024]).\n\tsize mismatch for output.weight: copying a param with shape torch.Size([1, 2048]) from checkpoint, the shape in current model is torch.Size([1, 128]).",
     "output_type": "error",
     "traceback": [
      "\u001b[0;31m---------------------------------------------------------------------------\u001b[0m",
      "\u001b[0;31mRuntimeError\u001b[0m                              Traceback (most recent call last)",
      "\u001b[1;32m/home/21953404Victor/Deep/Optimizacion gpu.ipynb Celda 20\u001b[0m line \u001b[0;36m2\n\u001b[1;32m      <a href='vscode-notebook-cell://ssh-remote%2B195.235.211.197/home/21953404Victor/Deep/Optimizacion%20gpu.ipynb#X35sdnNjb2RlLXJlbW90ZQ%3D%3D?line=0'>1</a>\u001b[0m model \u001b[39m=\u001b[39m PyTorchModel(study\u001b[39m.\u001b[39mbest_trial\u001b[39m.\u001b[39mparams, input_shape)\n\u001b[0;32m----> <a href='vscode-notebook-cell://ssh-remote%2B195.235.211.197/home/21953404Victor/Deep/Optimizacion%20gpu.ipynb#X35sdnNjb2RlLXJlbW90ZQ%3D%3D?line=1'>2</a>\u001b[0m model\u001b[39m.\u001b[39;49mload_state_dict(torch\u001b[39m.\u001b[39;49mload(\u001b[39m\"\u001b[39;49m\u001b[39mbest_model.pt\u001b[39;49m\u001b[39m\"\u001b[39;49m))\n\u001b[1;32m      <a href='vscode-notebook-cell://ssh-remote%2B195.235.211.197/home/21953404Victor/Deep/Optimizacion%20gpu.ipynb#X35sdnNjb2RlLXJlbW90ZQ%3D%3D?line=2'>3</a>\u001b[0m model\u001b[39m.\u001b[39meval()  \u001b[39m# Poner el modelo en modo de evaluación\u001b[39;00m\n",
      "File \u001b[0;32m~/SDC3/tutorial-env/lib/python3.10/site-packages/torch/nn/modules/module.py:2041\u001b[0m, in \u001b[0;36mModule.load_state_dict\u001b[0;34m(self, state_dict, strict)\u001b[0m\n\u001b[1;32m   2036\u001b[0m         error_msgs\u001b[39m.\u001b[39minsert(\n\u001b[1;32m   2037\u001b[0m             \u001b[39m0\u001b[39m, \u001b[39m'\u001b[39m\u001b[39mMissing key(s) in state_dict: \u001b[39m\u001b[39m{}\u001b[39;00m\u001b[39m. \u001b[39m\u001b[39m'\u001b[39m\u001b[39m.\u001b[39mformat(\n\u001b[1;32m   2038\u001b[0m                 \u001b[39m'\u001b[39m\u001b[39m, \u001b[39m\u001b[39m'\u001b[39m\u001b[39m.\u001b[39mjoin(\u001b[39m'\u001b[39m\u001b[39m\"\u001b[39m\u001b[39m{}\u001b[39;00m\u001b[39m\"\u001b[39m\u001b[39m'\u001b[39m\u001b[39m.\u001b[39mformat(k) \u001b[39mfor\u001b[39;00m k \u001b[39min\u001b[39;00m missing_keys)))\n\u001b[1;32m   2040\u001b[0m \u001b[39mif\u001b[39;00m \u001b[39mlen\u001b[39m(error_msgs) \u001b[39m>\u001b[39m \u001b[39m0\u001b[39m:\n\u001b[0;32m-> 2041\u001b[0m     \u001b[39mraise\u001b[39;00m \u001b[39mRuntimeError\u001b[39;00m(\u001b[39m'\u001b[39m\u001b[39mError(s) in loading state_dict for \u001b[39m\u001b[39m{}\u001b[39;00m\u001b[39m:\u001b[39m\u001b[39m\\n\u001b[39;00m\u001b[39m\\t\u001b[39;00m\u001b[39m{}\u001b[39;00m\u001b[39m'\u001b[39m\u001b[39m.\u001b[39mformat(\n\u001b[1;32m   2042\u001b[0m                        \u001b[39mself\u001b[39m\u001b[39m.\u001b[39m\u001b[39m__class__\u001b[39m\u001b[39m.\u001b[39m\u001b[39m__name__\u001b[39m, \u001b[39m\"\u001b[39m\u001b[39m\\n\u001b[39;00m\u001b[39m\\t\u001b[39;00m\u001b[39m\"\u001b[39m\u001b[39m.\u001b[39mjoin(error_msgs)))\n\u001b[1;32m   2043\u001b[0m \u001b[39mreturn\u001b[39;00m _IncompatibleKeys(missing_keys, unexpected_keys)\n",
      "\u001b[0;31mRuntimeError\u001b[0m: Error(s) in loading state_dict for PyTorchModel:\n\tMissing key(s) in state_dict: \"layers.14.weight\", \"layers.14.bias\", \"layers.15.weight\", \"layers.15.bias\", \"layers.15.running_mean\", \"layers.15.running_var\", \"layers.18.weight\", \"layers.18.bias\". \n\tsize mismatch for layers.6.weight: copying a param with shape torch.Size([2048, 512]) from checkpoint, the shape in current model is torch.Size([1024, 512]).\n\tsize mismatch for layers.6.bias: copying a param with shape torch.Size([2048]) from checkpoint, the shape in current model is torch.Size([1024]).\n\tsize mismatch for layers.7.weight: copying a param with shape torch.Size([2048]) from checkpoint, the shape in current model is torch.Size([1024]).\n\tsize mismatch for layers.7.bias: copying a param with shape torch.Size([2048]) from checkpoint, the shape in current model is torch.Size([1024]).\n\tsize mismatch for layers.7.running_mean: copying a param with shape torch.Size([2048]) from checkpoint, the shape in current model is torch.Size([1024]).\n\tsize mismatch for layers.7.running_var: copying a param with shape torch.Size([2048]) from checkpoint, the shape in current model is torch.Size([1024]).\n\tsize mismatch for layers.10.weight: copying a param with shape torch.Size([2048, 2048]) from checkpoint, the shape in current model is torch.Size([1024, 1024]).\n\tsize mismatch for layers.10.bias: copying a param with shape torch.Size([2048]) from checkpoint, the shape in current model is torch.Size([1024]).\n\tsize mismatch for layers.11.weight: copying a param with shape torch.Size([2048]) from checkpoint, the shape in current model is torch.Size([1024]).\n\tsize mismatch for layers.11.bias: copying a param with shape torch.Size([2048]) from checkpoint, the shape in current model is torch.Size([1024]).\n\tsize mismatch for layers.11.running_mean: copying a param with shape torch.Size([2048]) from checkpoint, the shape in current model is torch.Size([1024]).\n\tsize mismatch for layers.11.running_var: copying a param with shape torch.Size([2048]) from checkpoint, the shape in current model is torch.Size([1024]).\n\tsize mismatch for output.weight: copying a param with shape torch.Size([1, 2048]) from checkpoint, the shape in current model is torch.Size([1, 128])."
     ]
    }
   ],
   "source": [
    "model = PyTorchModel(study.best_trial.params, input_shape)\n",
    "model.load_state_dict(torch.load(\"best_model.pt\"))\n",
    "model.eval()  # Poner el modelo en modo de evaluación"
   ]
  },
  {
   "cell_type": "code",
   "execution_count": null,
   "metadata": {},
   "outputs": [],
   "source": [
    "def evaluate_model(model, criterion, test_loader, device):\n",
    "    model.eval()  # Poner el modelo en modo de evaluación\n",
    "    test_loss = 0\n",
    "    correct = 0\n",
    "    total = 0\n",
    "\n",
    "    with torch.no_grad():  # Desactivar el cálculo de gradientes\n",
    "        for inputs, labels in test_loader:\n",
    "            inputs, labels = inputs.to(device), labels.to(device)\n",
    "            outputs = model(inputs)\n",
    "            test_loss += criterion(outputs, labels).item()  # Sumar la pérdida del lote\n",
    "            predicted = outputs.round()  # Redondear las salidas para obtener predicciones binarias\n",
    "            correct += (predicted == labels).sum().item()  # Sumar predicciones correctas\n",
    "            total += labels.size(0)\n",
    "\n",
    "    test_loss /= len(test_loader)\n",
    "    accuracy = correct / total\n",
    "    return test_loss, accuracy\n",
    "\n",
    "# Suponiendo que tienes un DataLoader para el conjunto de prueba llamado 'test_loader'\n",
    "test_loss, test_accuracy = evaluate_model(model, criterion, test_loader, device)\n",
    "print(f'Test Loss: {test_loss:.4f}, Test Accuracy: {test_accuracy:.4f}')\n"
   ]
  },
  {
   "cell_type": "code",
   "execution_count": null,
   "metadata": {},
   "outputs": [],
   "source": [
    "import torch\n",
    "import numpy as np\n",
    "import matplotlib.pyplot as plt\n",
    "import seaborn as sns\n",
    "from sklearn.metrics import confusion_matrix, accuracy_score, recall_score, precision_score, f1_score\n",
    "\n",
    "# Asegurarse de que el modelo esté en modo de evaluación y moverlo al dispositivo adecuado\n",
    "model.eval()\n",
    "device = torch.device(\"cuda\" if torch.cuda.is_available() else \"cpu\")\n",
    "model.to(device)\n",
    "\n",
    "# Realizar las predicciones\n",
    "with torch.no_grad():\n",
    "    inputs = features_test.to(device)\n",
    "    outputs = model(inputs)\n",
    "    predictions = outputs.round().cpu().numpy()  # Redondear las predicciones y moverlas al CPU\n",
    "\n",
    "# Calcular y visualizar la matriz de confusión\n",
    "conf_matrix = confusion_matrix(labels_test.numpy(), predictions)\n",
    "plt.figure(figsize=(8, 6))\n",
    "sns.heatmap(conf_matrix, annot=True, fmt='g', cmap='Blues')\n",
    "plt.title('Matriz de Confusión')\n",
    "plt.xlabel('Predicciones')\n",
    "plt.ylabel('Valores Reales')\n",
    "plt.show()\n",
    "\n",
    "# Calcular y mostrar otras métricas\n",
    "accuracy = accuracy_score(labels_test.numpy(), predictions)\n",
    "recall = recall_score(labels_test.numpy(), predictions)\n",
    "precision = precision_score(labels_test.numpy(), predictions)\n",
    "f1 = f1_score(labels_test.numpy(), predictions)\n",
    "print(f\"Accuracy: {accuracy}\")\n",
    "print(f\"Recall: {recall}\")\n",
    "print(f\"Precision: {precision}\")\n",
    "print(f\"F1 Score: {f1}\")"
   ]
  },
  {
   "cell_type": "code",
   "execution_count": null,
   "metadata": {},
   "outputs": [],
   "source": []
  }
 ],
 "metadata": {
  "kernelspec": {
   "display_name": "tutorial-env",
   "language": "python",
   "name": "python3"
  },
  "language_info": {
   "codemirror_mode": {
    "name": "ipython",
    "version": 3
   },
   "file_extension": ".py",
   "mimetype": "text/x-python",
   "name": "python",
   "nbconvert_exporter": "python",
   "pygments_lexer": "ipython3",
   "version": "3.8.16"
  }
 },
 "nbformat": 4,
 "nbformat_minor": 2
}
