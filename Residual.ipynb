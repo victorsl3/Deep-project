{
 "cells": [
  {
   "cell_type": "code",
   "execution_count": null,
   "metadata": {},
   "outputs": [],
   "source": [
    "import os\n",
    "os.environ[\"SQLITE_BUSY_TIMEOUT\"] = \"30000\"  # 30 segundos"
   ]
  },
  {
   "cell_type": "code",
   "execution_count": 1,
   "metadata": {},
   "outputs": [],
   "source": [
    "import numpy as np\n",
    "import pandas as pd\n",
    "from sklearn.preprocessing import LabelEncoder, minmax_scale, scale\n",
    "import matplotlib.pyplot as plt\n",
    "import torch\n",
    "from torch.utils.data import TensorDataset, DataLoader"
   ]
  },
  {
   "cell_type": "code",
   "execution_count": 2,
   "metadata": {},
   "outputs": [],
   "source": [
    "data_path= \"/home/21953404Victor/Deep/drive-download-20231121T165626Z-001/HotelReservationsPreparedCleanAttributes.csv\"\n",
    "label_path = \"/home/21953404Victor/Deep/drive-download-20231121T165626Z-001/HotelReservationsOutput.csv\""
   ]
  },
  {
   "cell_type": "code",
   "execution_count": 3,
   "metadata": {},
   "outputs": [],
   "source": [
    "features  = pd.read_csv(data_path)\n",
    "labels = pd.read_csv(label_path)"
   ]
  },
  {
   "cell_type": "code",
   "execution_count": 4,
   "metadata": {},
   "outputs": [],
   "source": [
    "from sklearn.model_selection import train_test_split\n",
    "# Divide el conjunto de datos\n",
    "features_train, features_test, labels_train, labels_test = train_test_split(features.values, labels.values, test_size=0.1, random_state=42)\n",
    "features_train, features_val, labels_train, labels_val = train_test_split(features_train, labels_train, test_size=0.1, random_state=42)\n",
    "\n",
    "# Convierte los arrays a tensores de PyTorch\n",
    "features_train = torch.tensor(features_train).float()\n",
    "labels_train = torch.tensor(labels_train).float()\n",
    "features_val = torch.tensor(features_val).float()\n",
    "labels_val = torch.tensor(labels_val).float()\n",
    "features_test = torch.tensor(features_test).float()\n",
    "labels_test = torch.tensor(labels_test).float()\n",
    "\n",
    "# Crea conjuntos de datos de PyTorch\n",
    "train_dataset = TensorDataset(features_train, labels_train)\n",
    "val_dataset = TensorDataset(features_val, labels_val)\n",
    "test_dataset = TensorDataset(features_test, labels_test)\n",
    "\n",
    "# Crea DataLoaders de PyTorch\n",
    "train_loader = DataLoader(train_dataset, batch_size=64, shuffle=True)\n",
    "val_loader = DataLoader(val_dataset, batch_size=64, shuffle=False)\n",
    "test_loader = DataLoader(test_dataset, batch_size=64, shuffle=False)"
   ]
  },
  {
   "cell_type": "code",
   "execution_count": 5,
   "metadata": {},
   "outputs": [
    {
     "name": "stderr",
     "output_type": "stream",
     "text": [
      "2023-11-29 18:54:24.433788: I tensorflow/core/platform/cpu_feature_guard.cc:193] This TensorFlow binary is optimized with oneAPI Deep Neural Network Library (oneDNN) to use the following CPU instructions in performance-critical operations:  AVX2 FMA\n",
      "To enable them in other operations, rebuild TensorFlow with the appropriate compiler flags.\n",
      "2023-11-29 18:54:24.564989: E tensorflow/stream_executor/cuda/cuda_blas.cc:2981] Unable to register cuBLAS factory: Attempting to register factory for plugin cuBLAS when one has already been registered\n",
      "2023-11-29 18:54:25.147831: W tensorflow/stream_executor/platform/default/dso_loader.cc:64] Could not load dynamic library 'libnvinfer.so.7'; dlerror: libnvinfer.so.7: cannot open shared object file: No such file or directory; LD_LIBRARY_PATH: /opt/hadoop/lib/native:/opt/hadoop/lib/native:\n",
      "2023-11-29 18:54:25.147887: W tensorflow/stream_executor/platform/default/dso_loader.cc:64] Could not load dynamic library 'libnvinfer_plugin.so.7'; dlerror: libnvinfer_plugin.so.7: cannot open shared object file: No such file or directory; LD_LIBRARY_PATH: /opt/hadoop/lib/native:/opt/hadoop/lib/native:\n",
      "2023-11-29 18:54:25.147891: W tensorflow/compiler/tf2tensorrt/utils/py_utils.cc:38] TF-TRT Warning: Cannot dlopen some TensorRT libraries. If you would like to use Nvidia GPU with TensorRT, please make sure the missing libraries mentioned above are installed properly.\n"
     ]
    },
    {
     "name": "stdout",
     "output_type": "stream",
     "text": [
      "CUDA disponible: True\n",
      "Listado de dispositivos GPU disponibles:\n",
      "GPU 0: NVIDIA GeForce RTX 3080 Ti\n"
     ]
    }
   ],
   "source": [
    "import tensorflow as tf\n",
    "import torch\n",
    "\n",
    "# Verificar si CUDA está disponible\n",
    "cuda_available = torch.cuda.is_available()\n",
    "print(f\"CUDA disponible: {cuda_available}\")\n",
    "\n",
    "# Enumerar dispositivos de GPU disponibles y mostrar sus nombres si CUDA está disponible\n",
    "if cuda_available:\n",
    "    print(\"Listado de dispositivos GPU disponibles:\")\n",
    "    for i in range(torch.cuda.device_count()):\n",
    "        print(f\"GPU {i}: {torch.cuda.get_device_name(i)}\")\n",
    "else:\n",
    "    print(\"No se detectó una GPU. Asegúrate de que el acelerador de hardware esté configurado.\")\n"
   ]
  },
  {
   "cell_type": "code",
   "execution_count": 6,
   "metadata": {},
   "outputs": [],
   "source": [
    "import torch.nn as nn\n",
    "import random\n",
    "\n",
    "class PyTorchModel(nn.Module):\n",
    "    def __init__(self, trial, input_shape):\n",
    "        super(PyTorchModel, self).__init__()\n",
    "        self.layers = nn.ModuleList()\n",
    "        self.l2_regs = []\n",
    "        current_shape = input_shape\n",
    "\n",
    "        # Diccionario para rastrear capas elegibles para conexiones residuales, organizadas por tamaño\n",
    "        potential_residuals = {size: [] for size in [16, 32, 64, 128, 256, 512, 1024, 2048]}\n",
    "        self.residual_connections = {}\n",
    "\n",
    "        n_layers = trial.suggest_int('n_layers', 1, 100)\n",
    "        \n",
    "        # Optimizar el umbral para conexiones residuales\n",
    "        residual_threshold_factor = trial.suggest_float('residual_threshold_factor', 0.5, 1.0)\n",
    "        residual_treshold = int(n_layers * residual_threshold_factor)\n",
    "        \n",
    "        for i in range(n_layers):\n",
    "            num_units = trial.suggest_categorical(f'n_units_l{i}', [16, 32, 64, 128, 256, 512, 1024, 2048])\n",
    "            activation = trial.suggest_categorical(f'activation_l{i}', ['ReLU', 'Tanh', 'ELU', 'SELU', 'LeakyReLU'])\n",
    "            dropout_rate = trial.suggest_float(f'dropout_l{i}', 0.0, 0.5)\n",
    "            use_batch_norm = trial.suggest_categorical(f'batch_norm_l{i}', [True, False])\n",
    "            l2_reg = trial.suggest_float(f'l2_reg_l{i}', 1e-5, 1e-1, log=True)\n",
    "\n",
    "            # Crear y añadir la capa lineal\n",
    "            layer = nn.Linear(current_shape, num_units)\n",
    "            self.layers.append(layer)\n",
    "            self.l2_regs.append(l2_reg)\n",
    "            \n",
    "            if num_units in potential_residuals and i >= residual_treshold:\n",
    "                potential_residuals[num_units].append(i)\n",
    "\n",
    "            # Añadir Batch Normalization y Dropout\n",
    "            if use_batch_norm:\n",
    "                self.layers.append(nn.BatchNorm1d(num_units))\n",
    "            self.layers.append(nn.Dropout(dropout_rate))\n",
    "\n",
    "            # Añadir la activación\n",
    "            if activation == 'LeakyReLU':\n",
    "                negative_slope = trial.suggest_float(f'leakyrelu_alpha_l{i}', 0.01, 0.3)\n",
    "                self.layers.append(nn.LeakyReLU(negative_slope=negative_slope))\n",
    "            else:\n",
    "                self.layers.append(getattr(nn, activation)())\n",
    "\n",
    "            current_shape = num_units\n",
    "\n",
    "            # Configurar conexiones residuales\n",
    "            if i >= residual_treshold and num_units in potential_residuals:\n",
    "                res_index = trial.suggest_int(f'res_connection_index_l{i}', 0, len(potential_residuals[num_units]) - 1)\n",
    "                self.residual_connections[i] = potential_residuals[num_units][res_index]\n",
    "\n",
    "        # Capa de salida\n",
    "        self.output = nn.Linear(current_shape, 1)\n",
    "\n",
    "    def forward(self, x):\n",
    "        layer_outputs = {}\n",
    "        for i, layer in enumerate(self.layers):\n",
    "            x = layer(x)\n",
    "            layer_outputs[i] = x.clone()\n",
    "            if i in self.residual_connections:\n",
    "                res_layer = self.residual_connections[i]\n",
    "                if layer_outputs[res_layer].size(1) == x.size(1):\n",
    "                    x = x + layer_outputs[res_layer]\n",
    "        return torch.sigmoid(self.output(x))\n",
    "\n",
    "    def get_l2_loss(self):\n",
    "        l2_loss = 0.0\n",
    "        for layer, l2_reg in zip(self.layers, self.l2_regs):\n",
    "            if isinstance(layer, nn.Linear):\n",
    "                l2_loss += l2_reg * layer.weight.norm(2)\n",
    "        return l2_loss\n"
   ]
  },
  {
   "cell_type": "markdown",
   "metadata": {},
   "source": [
    "Cada capa tiene una lista de posibles capas anteriores con las que puede tener una conexión residual. Para redes con más de residual_treshold capas, el optimizador decide si se realiza una conexión residual y con qué capa anterior, limitando el número máximo de conexiones residuales a 10. La función forward se ha modificado para manejar estas conexiones residuales"
   ]
  },
  {
   "cell_type": "code",
   "execution_count": 7,
   "metadata": {},
   "outputs": [],
   "source": [
    "from torch.optim import Adam, SGD, RMSprop\n",
    "\n",
    "def build_model(params, input_shape, is_trial=True):\n",
    "    # Crear una instancia del modelo con la arquitectura definida\n",
    "    model = PyTorchModel(params, input_shape)\n",
    "\n",
    "    if is_trial:\n",
    "        # Configuración durante la optimización con Optuna\n",
    "        optimizer_name = params.suggest_categorical('optimizer', ['Adam', 'SGD', 'RMSprop'])\n",
    "        lr = params.suggest_float('lr', 1e-5, 1e-1, log=True)\n",
    "        if optimizer_name == 'Adam':\n",
    "            beta1 = params.suggest_float('adam_beta1', 0.85, 0.99)\n",
    "            beta2 = params.suggest_float('adam_beta2', 0.9, 0.999)\n",
    "            optimizer = Adam(model.parameters(), lr=lr, betas=(beta1, beta2))\n",
    "        elif optimizer_name == 'SGD':\n",
    "            momentum = params.suggest_float('sgd_momentum', 0.1, 0.9)\n",
    "            optimizer = SGD(model.parameters(), lr=lr, momentum=momentum)\n",
    "        elif optimizer_name == 'RMSprop':\n",
    "            alpha = params.suggest_float('rmsprop_alpha', 0.85, 0.99)\n",
    "            optimizer = RMSprop(model.parameters(), lr=lr, alpha=alpha)\n",
    "    else:\n",
    "        # Configuración con parámetros fijos\n",
    "        optimizer_name = params['optimizer']\n",
    "        if optimizer_name == 'Adam':\n",
    "            optimizer = Adam(model.parameters(), lr=params['lr'], betas=(params['adam_beta1'], params['adam_beta2']))\n",
    "        elif optimizer_name == 'SGD':\n",
    "            optimizer = SGD(model.parameters(), lr=params['lr'], momentum=params.get('sgd_momentum', 0.9))\n",
    "        elif optimizer_name == 'RMSprop':\n",
    "            optimizer = RMSprop(model.parameters(), lr=params['lr'], alpha=params.get('rmsprop_alpha', 0.99))\n",
    "\n",
    "    return model, optimizer\n"
   ]
  },
  {
   "cell_type": "code",
   "execution_count": 8,
   "metadata": {},
   "outputs": [],
   "source": [
    "from tqdm import tqdm\n",
    "import torch\n",
    "\n",
    "def calculate_accuracy(outputs, labels):\n",
    "    predicted = outputs.round()  # Redondear para obtener las predicciones binarias\n",
    "    correct = (predicted == labels).sum().item()\n",
    "    return correct / labels.size(0)"
   ]
  },
  {
   "cell_type": "code",
   "execution_count": 9,
   "metadata": {},
   "outputs": [],
   "source": [
    "import matplotlib.pyplot as plt\n",
    "from tqdm import tqdm\n",
    "import torch\n",
    "import gc\n",
    "from torch.utils.data import DataLoader\n",
    "\n",
    "def plot_metrics(train_losses, val_losses, train_accuracies, val_accuracies, file_name_base):\n",
    "    plt.figure(figsize=(12, 4))\n",
    "\n",
    "    # Pérdida\n",
    "    plt.subplot(1, 2, 1)\n",
    "    plt.plot(train_losses, label='Train Loss')\n",
    "    plt.plot(val_losses, label='Validation Loss')\n",
    "    plt.title('Pérdida durante el entrenamiento')\n",
    "    plt.xlabel('Épocas')\n",
    "    plt.ylabel('Pérdida')\n",
    "    plt.legend()\n",
    "\n",
    "    # Precisión\n",
    "    plt.subplot(1, 2, 2)\n",
    "    plt.plot(train_accuracies, label='Train Accuracy')\n",
    "    plt.plot(val_accuracies, label='Validation Accuracy')\n",
    "    plt.title('Precisión durante el entrenamiento')\n",
    "    plt.xlabel('Épocas')\n",
    "    plt.ylabel('Precisión')\n",
    "    plt.legend()\n",
    "\n",
    "    plt.savefig(f\"{file_name_base}_plot.png\")\n",
    "    plt.close()"
   ]
  },
  {
   "cell_type": "code",
   "execution_count": 10,
   "metadata": {},
   "outputs": [
    {
     "name": "stdout",
     "output_type": "stream",
     "text": [
      "Mejor accuracy global: 0.0\n"
     ]
    }
   ],
   "source": [
    "import json\n",
    "\n",
    "best_accuracy_file = \"global_best_accuracy_residual.json\"\n",
    "\n",
    "# Intenta cargar la mejor precisión global desde un archivo\n",
    "try:\n",
    "    with open(best_accuracy_file, \"r\") as file:\n",
    "        global_best_accuracy = json.load(file)\n",
    "except (FileNotFoundError, json.JSONDecodeError, TypeError, ValueError):\n",
    "    global_best_accuracy = 0.0\n",
    "    \n",
    "best_model_path = \"best_model_residual.pt\"\n",
    "plot_file_name_base = \"best_model_residual\"\n",
    "\n",
    "print(f\"Mejor accuracy global: {global_best_accuracy}\")"
   ]
  },
  {
   "cell_type": "code",
   "execution_count": 11,
   "metadata": {},
   "outputs": [],
   "source": [
    "import torch\n",
    "import gc\n",
    "from torch.utils.data import DataLoader\n",
    "\n",
    "def objective(trial):\n",
    "    global global_best_accuracy, best_model_path, plot_file_name_base\n",
    "    # Verificar y configurar el uso de la GPU\n",
    "    device = torch.device('cuda' if torch.cuda.is_available() else 'cpu')\n",
    "    print(f\"Usando {'GPU' if device.type == 'cuda' else 'CPU'} para el Trial {trial.number}\")\n",
    "\n",
    "    model, optimizer = build_model(trial, input_shape)  # Asegúrate de que 'input_shape' esté definido\n",
    "    model.to(device)\n",
    "\n",
    "    # Parametrización del número de épocas y tamaño del batch\n",
    "    epochs = trial.suggest_int('epochs', 10, 2000)\n",
    "    batch_size = trial.suggest_categorical('batch_size', [16, 32, 64, 128, 256, 512, 1024, 2048])\n",
    "\n",
    "    # Criterio de pérdida y DataLoader\n",
    "    criterion = torch.nn.BCELoss()  # Ajustar según tu problema\n",
    "    train_loader = DataLoader(train_dataset, batch_size=batch_size, shuffle=True)\n",
    "    val_loader = DataLoader(val_dataset, batch_size=batch_size, shuffle=False)\n",
    "\n",
    "    # Configuración de Early Stopping y Learning Rate Scheduler\n",
    "    early_stopping_patience = trial.suggest_int('early_stopping_patience', 3, 20)\n",
    "    factor = trial.suggest_float(\"lr_reduce_factor\", 0.1, 0.9)\n",
    "    lr_patience = trial.suggest_int(\"lr_reduce_patience\", 5, 50)\n",
    "    min_lr = trial.suggest_float(\"min_lr\", 1e-6, 1e-4, log=True)\n",
    "    lr_scheduler = torch.optim.lr_scheduler.ReduceLROnPlateau(optimizer, factor=factor, patience=lr_patience, min_lr=min_lr, verbose=True)\n",
    "\n",
    "    # Entrenamiento del modelo\n",
    "    print(f\"Entrenando Trial {trial.number}...\")\n",
    "    best_accuracy = 0.0  # Inicializacion de la mejor precisión\n",
    "    epochs_no_improve = 0\n",
    "    train_losses, val_losses, train_accuracies, val_accuracies = [], [], [], []\n",
    "\n",
    "    for epoch in range(epochs):\n",
    "        model.train()\n",
    "        train_loss = 0.0\n",
    "        train_correct = 0\n",
    "        train_total = 0\n",
    "\n",
    "        for inputs, labels in tqdm(train_loader, desc=f\"Epoch {epoch + 1}/{epochs}\", leave=False):\n",
    "            inputs, labels = inputs.to(device), labels.to(device)\n",
    "            optimizer.zero_grad()\n",
    "            outputs = model(inputs)\n",
    "            loss = criterion(outputs, labels)\n",
    "            loss.backward()\n",
    "            optimizer.step()\n",
    "\n",
    "            train_loss += loss.item() * inputs.size(0)\n",
    "            train_correct += calculate_accuracy(outputs, labels) * inputs.size(0)\n",
    "            train_total += labels.size(0)\n",
    "\n",
    "        train_loss /= train_total\n",
    "        train_accuracy = train_correct / train_total\n",
    "\n",
    "        # Almacenar las métricas de entrenamiento\n",
    "        train_losses.append(train_loss)\n",
    "        train_accuracies.append(train_accuracy)\n",
    "\n",
    "        # Evaluación y Early Stopping\n",
    "        val_loss = 0.0\n",
    "        val_correct = 0\n",
    "        val_total = 0\n",
    "        model.eval()\n",
    "        with torch.no_grad():\n",
    "            for inputs, labels in val_loader:\n",
    "                inputs, labels = inputs.to(device), labels.to(device)\n",
    "                outputs = model(inputs)\n",
    "                val_loss += criterion(outputs, labels).item() * inputs.size(0)\n",
    "                val_correct += calculate_accuracy(outputs, labels) * inputs.size(0)\n",
    "                val_total += labels.size(0)\n",
    "\n",
    "        val_loss /= val_total\n",
    "        val_accuracy = val_correct / val_total\n",
    "\n",
    "        # Almacenar las métricas de validación\n",
    "        val_losses.append(val_loss)\n",
    "        val_accuracies.append(val_accuracy)\n",
    "\n",
    "        lr_scheduler.step(val_loss)\n",
    "\n",
    "        # Comprobar si este modelo es el mejor hasta ahora\n",
    "        if val_accuracy > best_accuracy:\n",
    "            best_accuracy = val_accuracy\n",
    "            if best_accuracy > global_best_accuracy:\n",
    "                global_best_accuracy = best_accuracy\n",
    "                # Guardar el nuevo valor de global_best_accuracy\n",
    "                with open(best_accuracy_file, \"w\") as file:\n",
    "                    json.dump(global_best_accuracy, file)\n",
    "                torch.save(model.state_dict(), best_model_path)  # Sobreescribir el mejor modelo\n",
    "                plot_metrics(train_losses, val_losses, train_accuracies, val_accuracies, plot_file_name_base)  # Sobreescribir el gráfico\n",
    "            epochs_no_improve = 0\n",
    "        else:\n",
    "            epochs_no_improve += 1\n",
    "\n",
    "        if epochs_no_improve == early_stopping_patience:\n",
    "            print(\"Early stopping\")\n",
    "            break\n",
    "            \n",
    "    print(f\"Trial {trial.number} completado. Mejor precisión en validación: {best_accuracy}\")\n",
    "\n",
    "    # Limpiar la memoria después de cada trial\n",
    "    del model, optimizer\n",
    "    torch.cuda.empty_cache()\n",
    "    gc.collect()\n",
    "\n",
    "    # Devolver la pérdida en lugar de la precisión\n",
    "    return best_accuracy\n"
   ]
  },
  {
   "cell_type": "code",
   "execution_count": 12,
   "metadata": {},
   "outputs": [],
   "source": [
    "input_shape = features_train.shape[1]  # Número de variables explicativas"
   ]
  },
  {
   "cell_type": "code",
   "execution_count": 13,
   "metadata": {},
   "outputs": [
    {
     "name": "stderr",
     "output_type": "stream",
     "text": [
      "/home/21953404Victor/SDC3/tutorial-env/lib/python3.10/site-packages/tqdm/auto.py:21: TqdmWarning: IProgress not found. Please update jupyter and ipywidgets. See https://ipywidgets.readthedocs.io/en/stable/user_install.html\n",
      "  from .autonotebook import tqdm as notebook_tqdm\n",
      "\u001b[32m[I 2023-11-29 18:54:25,937]\u001b[0m Using an existing study with name 'residual_accuracy_gpu_study3' instead of creating a new one.\u001b[0m\n"
     ]
    },
    {
     "name": "stdout",
     "output_type": "stream",
     "text": [
      "El estudio contiene 5 ensayos.\n"
     ]
    }
   ],
   "source": [
    "import optuna\n",
    "\n",
    "storage = \"sqlite:///example.db\"  # Ruta de la base de datos SQLite\n",
    "study_name = \"residual_accuracy_gpu_study3\"  # Nuevo nombre del estudio\n",
    "\n",
    "# Crear un nuevo estudio\n",
    "study = optuna.create_study(study_name=study_name, direction='maximize', storage=storage, load_if_exists=True)\n",
    "\n",
    "# Número de ensayos en el estudio\n",
    "num_trials = len(study.trials)\n",
    "print(f\"El estudio contiene {num_trials} ensayos.\")"
   ]
  },
  {
   "cell_type": "code",
   "execution_count": null,
   "metadata": {},
   "outputs": [
    {
     "name": "stdout",
     "output_type": "stream",
     "text": [
      "Usando GPU para el Trial 5\n",
      "Entrenando Trial 5...\n"
     ]
    },
    {
     "name": "stderr",
     "output_type": "stream",
     "text": [
      "\u001b[32m[I 2023-11-29 19:05:44,391]\u001b[0m Trial 5 finished with value: 0.678407350689127 and parameters: {'n_layers': 94, 'residual_threshold_factor': 0.6277050550203718, 'n_units_l0': 2048, 'activation_l0': 'ELU', 'dropout_l0': 0.468437475662215, 'batch_norm_l0': False, 'l2_reg_l0': 1.4071535986427523e-05, 'n_units_l1': 64, 'activation_l1': 'SELU', 'dropout_l1': 0.09266980996066476, 'batch_norm_l1': False, 'l2_reg_l1': 0.0006814707419421719, 'n_units_l2': 1024, 'activation_l2': 'Tanh', 'dropout_l2': 0.2680998086820162, 'batch_norm_l2': False, 'l2_reg_l2': 0.00015654454352493364, 'n_units_l3': 1024, 'activation_l3': 'LeakyReLU', 'dropout_l3': 0.11329911009904509, 'batch_norm_l3': False, 'l2_reg_l3': 5.070870739218057e-05, 'leakyrelu_alpha_l3': 0.12371094142600719, 'n_units_l4': 1024, 'activation_l4': 'Tanh', 'dropout_l4': 0.3747644479586307, 'batch_norm_l4': True, 'l2_reg_l4': 0.04709541261334058, 'n_units_l5': 16, 'activation_l5': 'ReLU', 'dropout_l5': 0.2162120272290563, 'batch_norm_l5': True, 'l2_reg_l5': 0.0005365638251727484, 'n_units_l6': 64, 'activation_l6': 'Tanh', 'dropout_l6': 0.02078807784525033, 'batch_norm_l6': False, 'l2_reg_l6': 0.07894136979527307, 'n_units_l7': 512, 'activation_l7': 'SELU', 'dropout_l7': 0.09085013389044794, 'batch_norm_l7': True, 'l2_reg_l7': 6.856855287979652e-05, 'n_units_l8': 128, 'activation_l8': 'ReLU', 'dropout_l8': 0.24845647366129525, 'batch_norm_l8': True, 'l2_reg_l8': 0.0072117118982864825, 'n_units_l9': 1024, 'activation_l9': 'Tanh', 'dropout_l9': 0.0030489860351322062, 'batch_norm_l9': False, 'l2_reg_l9': 0.07828418677515528, 'n_units_l10': 16, 'activation_l10': 'SELU', 'dropout_l10': 0.1490189105036281, 'batch_norm_l10': True, 'l2_reg_l10': 0.007357827325026566, 'n_units_l11': 512, 'activation_l11': 'LeakyReLU', 'dropout_l11': 0.3196958812269445, 'batch_norm_l11': False, 'l2_reg_l11': 0.0001526560271566549, 'leakyrelu_alpha_l11': 0.09994245287424235, 'n_units_l12': 256, 'activation_l12': 'Tanh', 'dropout_l12': 0.292767595091621, 'batch_norm_l12': False, 'l2_reg_l12': 0.00015141969372761937, 'n_units_l13': 128, 'activation_l13': 'ReLU', 'dropout_l13': 0.10076084836771354, 'batch_norm_l13': True, 'l2_reg_l13': 0.00015102652378113965, 'n_units_l14': 32, 'activation_l14': 'ELU', 'dropout_l14': 0.19080458052554256, 'batch_norm_l14': False, 'l2_reg_l14': 0.0423841483176485, 'n_units_l15': 64, 'activation_l15': 'SELU', 'dropout_l15': 0.22293483609763648, 'batch_norm_l15': True, 'l2_reg_l15': 0.029353669392425893, 'n_units_l16': 512, 'activation_l16': 'SELU', 'dropout_l16': 0.14318685312114982, 'batch_norm_l16': False, 'l2_reg_l16': 0.00067226433869951, 'n_units_l17': 16, 'activation_l17': 'Tanh', 'dropout_l17': 0.24848215308137406, 'batch_norm_l17': True, 'l2_reg_l17': 0.00010713366216083635, 'n_units_l18': 32, 'activation_l18': 'ReLU', 'dropout_l18': 0.164206554769475, 'batch_norm_l18': True, 'l2_reg_l18': 0.009366831343844697, 'n_units_l19': 2048, 'activation_l19': 'Tanh', 'dropout_l19': 0.23450008631380953, 'batch_norm_l19': True, 'l2_reg_l19': 1.3505031317873654e-05, 'n_units_l20': 16, 'activation_l20': 'Tanh', 'dropout_l20': 0.2910392838924996, 'batch_norm_l20': True, 'l2_reg_l20': 3.2562868321419166e-05, 'n_units_l21': 512, 'activation_l21': 'LeakyReLU', 'dropout_l21': 0.1959757440903272, 'batch_norm_l21': True, 'l2_reg_l21': 0.001976100394503469, 'leakyrelu_alpha_l21': 0.22583290647627538, 'n_units_l22': 2048, 'activation_l22': 'ReLU', 'dropout_l22': 0.0318174190575799, 'batch_norm_l22': True, 'l2_reg_l22': 0.016457768483046135, 'n_units_l23': 16, 'activation_l23': 'ReLU', 'dropout_l23': 0.4201430977329797, 'batch_norm_l23': False, 'l2_reg_l23': 0.0046845011522177755, 'n_units_l24': 64, 'activation_l24': 'Tanh', 'dropout_l24': 0.06336126964649608, 'batch_norm_l24': False, 'l2_reg_l24': 0.002627428748086464, 'n_units_l25': 32, 'activation_l25': 'ELU', 'dropout_l25': 0.1852906252337847, 'batch_norm_l25': False, 'l2_reg_l25': 0.0002388912075596574, 'n_units_l26': 64, 'activation_l26': 'SELU', 'dropout_l26': 0.09716165022323114, 'batch_norm_l26': True, 'l2_reg_l26': 0.00014718332295194766, 'n_units_l27': 32, 'activation_l27': 'ReLU', 'dropout_l27': 0.46136234022944544, 'batch_norm_l27': False, 'l2_reg_l27': 1.770651570464554e-05, 'n_units_l28': 256, 'activation_l28': 'LeakyReLU', 'dropout_l28': 0.17984339404822242, 'batch_norm_l28': True, 'l2_reg_l28': 6.397185466881757e-05, 'leakyrelu_alpha_l28': 0.19533869627222109, 'n_units_l29': 128, 'activation_l29': 'ReLU', 'dropout_l29': 0.0678977343969247, 'batch_norm_l29': False, 'l2_reg_l29': 0.00011777322084169515, 'n_units_l30': 128, 'activation_l30': 'LeakyReLU', 'dropout_l30': 0.2948867363741216, 'batch_norm_l30': False, 'l2_reg_l30': 0.034619085627121154, 'leakyrelu_alpha_l30': 0.18179224329827806, 'n_units_l31': 128, 'activation_l31': 'ReLU', 'dropout_l31': 0.008391631931236376, 'batch_norm_l31': False, 'l2_reg_l31': 0.00024084948982471465, 'n_units_l32': 128, 'activation_l32': 'SELU', 'dropout_l32': 0.4609999750771387, 'batch_norm_l32': True, 'l2_reg_l32': 0.0003268138226934443, 'n_units_l33': 16, 'activation_l33': 'ReLU', 'dropout_l33': 0.45957840590936827, 'batch_norm_l33': False, 'l2_reg_l33': 0.000806200757749926, 'n_units_l34': 32, 'activation_l34': 'Tanh', 'dropout_l34': 0.015783881443394154, 'batch_norm_l34': True, 'l2_reg_l34': 0.01246607028196599, 'n_units_l35': 16, 'activation_l35': 'SELU', 'dropout_l35': 0.24910204561877558, 'batch_norm_l35': True, 'l2_reg_l35': 7.541672651159566e-05, 'n_units_l36': 1024, 'activation_l36': 'LeakyReLU', 'dropout_l36': 0.4465793730822203, 'batch_norm_l36': True, 'l2_reg_l36': 0.023393942852492144, 'leakyrelu_alpha_l36': 0.07807059980805806, 'n_units_l37': 32, 'activation_l37': 'ReLU', 'dropout_l37': 0.11689551667721293, 'batch_norm_l37': False, 'l2_reg_l37': 0.0002319264443388464, 'n_units_l38': 1024, 'activation_l38': 'ELU', 'dropout_l38': 0.11880576386853292, 'batch_norm_l38': False, 'l2_reg_l38': 0.012312812478602886, 'n_units_l39': 256, 'activation_l39': 'Tanh', 'dropout_l39': 0.05032952297338994, 'batch_norm_l39': True, 'l2_reg_l39': 0.0028905800597124466, 'n_units_l40': 256, 'activation_l40': 'ELU', 'dropout_l40': 0.19329170266240525, 'batch_norm_l40': False, 'l2_reg_l40': 1.1453851397985911e-05, 'n_units_l41': 512, 'activation_l41': 'ELU', 'dropout_l41': 0.16678499640550692, 'batch_norm_l41': True, 'l2_reg_l41': 0.0003609231748591318, 'n_units_l42': 2048, 'activation_l42': 'ReLU', 'dropout_l42': 0.2838721740577205, 'batch_norm_l42': False, 'l2_reg_l42': 0.00047097281234940715, 'n_units_l43': 64, 'activation_l43': 'SELU', 'dropout_l43': 0.215031396487946, 'batch_norm_l43': True, 'l2_reg_l43': 0.01749452271897731, 'n_units_l44': 2048, 'activation_l44': 'SELU', 'dropout_l44': 0.22948129682842439, 'batch_norm_l44': False, 'l2_reg_l44': 0.00022138158772775835, 'n_units_l45': 1024, 'activation_l45': 'SELU', 'dropout_l45': 0.17611314831235708, 'batch_norm_l45': False, 'l2_reg_l45': 3.8818583546609803e-05, 'n_units_l46': 128, 'activation_l46': 'Tanh', 'dropout_l46': 0.4564902929931792, 'batch_norm_l46': True, 'l2_reg_l46': 0.00040911333678698297, 'n_units_l47': 32, 'activation_l47': 'LeakyReLU', 'dropout_l47': 0.4451190764200721, 'batch_norm_l47': False, 'l2_reg_l47': 0.0017336152802630716, 'leakyrelu_alpha_l47': 0.10776351345204542, 'n_units_l48': 2048, 'activation_l48': 'ELU', 'dropout_l48': 0.3265243894062089, 'batch_norm_l48': True, 'l2_reg_l48': 0.00013262977646935587, 'n_units_l49': 1024, 'activation_l49': 'SELU', 'dropout_l49': 0.1177951735128695, 'batch_norm_l49': True, 'l2_reg_l49': 0.09445670373415392, 'n_units_l50': 512, 'activation_l50': 'ReLU', 'dropout_l50': 0.17057786587594914, 'batch_norm_l50': True, 'l2_reg_l50': 0.00018908378830041815, 'n_units_l51': 256, 'activation_l51': 'LeakyReLU', 'dropout_l51': 0.4602158385904107, 'batch_norm_l51': False, 'l2_reg_l51': 2.1189705519982774e-05, 'leakyrelu_alpha_l51': 0.04032135904588981, 'n_units_l52': 128, 'activation_l52': 'ELU', 'dropout_l52': 0.24954291452511967, 'batch_norm_l52': True, 'l2_reg_l52': 0.03152570880673349, 'n_units_l53': 64, 'activation_l53': 'LeakyReLU', 'dropout_l53': 0.12255639477626579, 'batch_norm_l53': False, 'l2_reg_l53': 0.0067233135606794316, 'leakyrelu_alpha_l53': 0.03135952673230611, 'n_units_l54': 32, 'activation_l54': 'ELU', 'dropout_l54': 0.15475563772636003, 'batch_norm_l54': False, 'l2_reg_l54': 0.021659212373920784, 'n_units_l55': 32, 'activation_l55': 'SELU', 'dropout_l55': 0.2029732425651804, 'batch_norm_l55': True, 'l2_reg_l55': 0.00046706592571741675, 'n_units_l56': 16, 'activation_l56': 'SELU', 'dropout_l56': 0.24591923045347608, 'batch_norm_l56': False, 'l2_reg_l56': 0.028861622651991783, 'n_units_l57': 256, 'activation_l57': 'ELU', 'dropout_l57': 0.23310086010163605, 'batch_norm_l57': False, 'l2_reg_l57': 0.022179685575708204, 'n_units_l58': 64, 'activation_l58': 'LeakyReLU', 'dropout_l58': 0.21989913091127955, 'batch_norm_l58': True, 'l2_reg_l58': 0.00015260880084654157, 'leakyrelu_alpha_l58': 0.11529734707768427, 'n_units_l59': 128, 'activation_l59': 'LeakyReLU', 'dropout_l59': 0.2620852688344783, 'batch_norm_l59': True, 'l2_reg_l59': 0.0012597046635165314, 'leakyrelu_alpha_l59': 0.010811833026306434, 'res_connection_index_l59': 0, 'n_units_l60': 64, 'activation_l60': 'Tanh', 'dropout_l60': 0.4657170423241456, 'batch_norm_l60': True, 'l2_reg_l60': 0.0011192644658999976, 'res_connection_index_l60': 0, 'n_units_l61': 128, 'activation_l61': 'Tanh', 'dropout_l61': 0.43800937581115407, 'batch_norm_l61': False, 'l2_reg_l61': 4.7095124821809954e-05, 'res_connection_index_l61': 0, 'n_units_l62': 128, 'activation_l62': 'SELU', 'dropout_l62': 0.45382523544789416, 'batch_norm_l62': True, 'l2_reg_l62': 0.013871888169376161, 'res_connection_index_l62': 1, 'n_units_l63': 1024, 'activation_l63': 'Tanh', 'dropout_l63': 0.056575402440043054, 'batch_norm_l63': False, 'l2_reg_l63': 0.0246652945299214, 'res_connection_index_l63': 0, 'n_units_l64': 2048, 'activation_l64': 'LeakyReLU', 'dropout_l64': 0.32988866049951265, 'batch_norm_l64': True, 'l2_reg_l64': 0.05393216758701111, 'leakyrelu_alpha_l64': 0.011473095638598621, 'res_connection_index_l64': 0, 'n_units_l65': 64, 'activation_l65': 'ELU', 'dropout_l65': 0.11026554505756603, 'batch_norm_l65': False, 'l2_reg_l65': 9.166403223945722e-05, 'res_connection_index_l65': 1, 'n_units_l66': 64, 'activation_l66': 'Tanh', 'dropout_l66': 0.2725223254485203, 'batch_norm_l66': False, 'l2_reg_l66': 0.002056060664153958, 'res_connection_index_l66': 0, 'n_units_l67': 256, 'activation_l67': 'ELU', 'dropout_l67': 0.43884496906329, 'batch_norm_l67': True, 'l2_reg_l67': 0.0005037458562511226, 'res_connection_index_l67': 0, 'n_units_l68': 256, 'activation_l68': 'LeakyReLU', 'dropout_l68': 0.21851675256949515, 'batch_norm_l68': True, 'l2_reg_l68': 0.0945908595927459, 'leakyrelu_alpha_l68': 0.22379262867171748, 'res_connection_index_l68': 0, 'n_units_l69': 128, 'activation_l69': 'ELU', 'dropout_l69': 0.43222970936510635, 'batch_norm_l69': False, 'l2_reg_l69': 0.04548491560500194, 'res_connection_index_l69': 0, 'n_units_l70': 128, 'activation_l70': 'Tanh', 'dropout_l70': 0.1694229806617737, 'batch_norm_l70': False, 'l2_reg_l70': 0.011393158851469644, 'res_connection_index_l70': 3, 'n_units_l71': 128, 'activation_l71': 'ELU', 'dropout_l71': 0.3105508625574639, 'batch_norm_l71': True, 'l2_reg_l71': 0.0812708338249596, 'res_connection_index_l71': 3, 'n_units_l72': 32, 'activation_l72': 'Tanh', 'dropout_l72': 0.16173331691252585, 'batch_norm_l72': True, 'l2_reg_l72': 6.880075257876826e-05, 'res_connection_index_l72': 0, 'n_units_l73': 256, 'activation_l73': 'SELU', 'dropout_l73': 0.42437722712404113, 'batch_norm_l73': False, 'l2_reg_l73': 1.108837179380431e-05, 'res_connection_index_l73': 0, 'n_units_l74': 16, 'activation_l74': 'SELU', 'dropout_l74': 0.427677829877122, 'batch_norm_l74': False, 'l2_reg_l74': 0.008414183923069248, 'res_connection_index_l74': 0, 'n_units_l75': 2048, 'activation_l75': 'LeakyReLU', 'dropout_l75': 0.4428213731780861, 'batch_norm_l75': True, 'l2_reg_l75': 0.08468034954868926, 'leakyrelu_alpha_l75': 0.11803644099176484, 'res_connection_index_l75': 1, 'n_units_l76': 2048, 'activation_l76': 'Tanh', 'dropout_l76': 0.010751211684404571, 'batch_norm_l76': True, 'l2_reg_l76': 3.901325865202142e-05, 'res_connection_index_l76': 1, 'n_units_l77': 512, 'activation_l77': 'LeakyReLU', 'dropout_l77': 0.2571756826743732, 'batch_norm_l77': True, 'l2_reg_l77': 0.0842412390773801, 'leakyrelu_alpha_l77': 0.038496935116464424, 'res_connection_index_l77': 0, 'n_units_l78': 128, 'activation_l78': 'Tanh', 'dropout_l78': 0.02012661292752077, 'batch_norm_l78': True, 'l2_reg_l78': 0.0003081789237679974, 'res_connection_index_l78': 0, 'n_units_l79': 16, 'activation_l79': 'Tanh', 'dropout_l79': 0.14220671601968277, 'batch_norm_l79': True, 'l2_reg_l79': 0.02006338094188032, 'res_connection_index_l79': 0, 'n_units_l80': 32, 'activation_l80': 'LeakyReLU', 'dropout_l80': 0.41841475407647305, 'batch_norm_l80': False, 'l2_reg_l80': 0.04727298105914501, 'leakyrelu_alpha_l80': 0.1717287471498861, 'res_connection_index_l80': 1, 'n_units_l81': 512, 'activation_l81': 'ReLU', 'dropout_l81': 0.157805431913708, 'batch_norm_l81': True, 'l2_reg_l81': 0.053290170900626356, 'res_connection_index_l81': 0, 'n_units_l82': 512, 'activation_l82': 'ELU', 'dropout_l82': 0.3815889944623973, 'batch_norm_l82': True, 'l2_reg_l82': 0.000499931295035434, 'res_connection_index_l82': 0, 'n_units_l83': 2048, 'activation_l83': 'ELU', 'dropout_l83': 0.3337716759582075, 'batch_norm_l83': False, 'l2_reg_l83': 1.84962053420546e-05, 'res_connection_index_l83': 0, 'n_units_l84': 512, 'activation_l84': 'LeakyReLU', 'dropout_l84': 0.3307664112840133, 'batch_norm_l84': True, 'l2_reg_l84': 2.9042957980915776e-05, 'leakyrelu_alpha_l84': 0.2942381207407703, 'res_connection_index_l84': 3, 'n_units_l85': 16, 'activation_l85': 'ELU', 'dropout_l85': 0.40523190726022695, 'batch_norm_l85': False, 'l2_reg_l85': 0.00108197133610191, 'res_connection_index_l85': 0, 'n_units_l86': 2048, 'activation_l86': 'SELU', 'dropout_l86': 0.06060429152779201, 'batch_norm_l86': False, 'l2_reg_l86': 5.8837651490757364e-05, 'res_connection_index_l86': 2, 'n_units_l87': 2048, 'activation_l87': 'ReLU', 'dropout_l87': 0.06914511062379308, 'batch_norm_l87': False, 'l2_reg_l87': 3.692911268379825e-05, 'res_connection_index_l87': 5, 'n_units_l88': 1024, 'activation_l88': 'ELU', 'dropout_l88': 0.48814788532952264, 'batch_norm_l88': False, 'l2_reg_l88': 0.023812223549162403, 'res_connection_index_l88': 1, 'n_units_l89': 512, 'activation_l89': 'ELU', 'dropout_l89': 0.20073786386458714, 'batch_norm_l89': False, 'l2_reg_l89': 0.072596797927748, 'res_connection_index_l89': 4, 'n_units_l90': 256, 'activation_l90': 'ReLU', 'dropout_l90': 0.4889953299408324, 'batch_norm_l90': True, 'l2_reg_l90': 1.4606313009118945e-05, 'res_connection_index_l90': 1, 'n_units_l91': 2048, 'activation_l91': 'Tanh', 'dropout_l91': 0.47616433837845695, 'batch_norm_l91': True, 'l2_reg_l91': 0.006882603222023525, 'res_connection_index_l91': 0, 'n_units_l92': 16, 'activation_l92': 'Tanh', 'dropout_l92': 0.23081066884496132, 'batch_norm_l92': True, 'l2_reg_l92': 0.0009958764858274, 'res_connection_index_l92': 1, 'n_units_l93': 2048, 'activation_l93': 'LeakyReLU', 'dropout_l93': 0.13150849698939704, 'batch_norm_l93': False, 'l2_reg_l93': 0.00017996399010928481, 'leakyrelu_alpha_l93': 0.10840902328219194, 'res_connection_index_l93': 0, 'optimizer': 'Adam', 'lr': 6.475294154091233e-05, 'adam_beta1': 0.8638863296052655, 'adam_beta2': 0.9494254879859579, 'epochs': 1243, 'batch_size': 32, 'early_stopping_patience': 19, 'lr_reduce_factor': 0.5492867007768648, 'lr_reduce_patience': 36, 'min_lr': 1.5156057377576648e-05}. Best is trial 1 with value: 0.678407350689127.\u001b[0m\n"
     ]
    },
    {
     "name": "stdout",
     "output_type": "stream",
     "text": [
      "Early stopping\n",
      "Trial 5 completado. Mejor precisión en validación: 0.678407350689127\n",
      "Usando GPU para el Trial 6\n",
      "Entrenando Trial 6...\n"
     ]
    },
    {
     "name": "stderr",
     "output_type": "stream",
     "text": [
      "                                                                                                                                                                                                                                                        \r"
     ]
    },
    {
     "name": "stdout",
     "output_type": "stream",
     "text": [
      "Early stopping\n",
      "Trial 6 completado. Mejor precisión en validación: 0.8196018376722818\n"
     ]
    },
    {
     "name": "stderr",
     "output_type": "stream",
     "text": [
      "\u001b[32m[I 2023-11-29 19:25:07,455]\u001b[0m Trial 6 finished with value: 0.8196018376722818 and parameters: {'n_layers': 27, 'residual_threshold_factor': 0.8611776313633042, 'n_units_l0': 64, 'activation_l0': 'SELU', 'dropout_l0': 0.4661491088198367, 'batch_norm_l0': False, 'l2_reg_l0': 0.025293599008377243, 'n_units_l1': 128, 'activation_l1': 'Tanh', 'dropout_l1': 0.30329813751135676, 'batch_norm_l1': True, 'l2_reg_l1': 0.026018871380650836, 'n_units_l2': 32, 'activation_l2': 'LeakyReLU', 'dropout_l2': 0.41780700470589327, 'batch_norm_l2': True, 'l2_reg_l2': 2.563295657603275e-05, 'leakyrelu_alpha_l2': 0.22810490919654333, 'n_units_l3': 256, 'activation_l3': 'Tanh', 'dropout_l3': 0.24614477054655526, 'batch_norm_l3': False, 'l2_reg_l3': 0.01629291288268337, 'n_units_l4': 32, 'activation_l4': 'ReLU', 'dropout_l4': 0.25916458485189664, 'batch_norm_l4': False, 'l2_reg_l4': 0.03125781558298025, 'n_units_l5': 1024, 'activation_l5': 'ReLU', 'dropout_l5': 0.1742736023626078, 'batch_norm_l5': True, 'l2_reg_l5': 6.495057755956432e-05, 'n_units_l6': 512, 'activation_l6': 'ReLU', 'dropout_l6': 0.4649948055460054, 'batch_norm_l6': True, 'l2_reg_l6': 0.03361850084963989, 'n_units_l7': 512, 'activation_l7': 'ELU', 'dropout_l7': 0.4809866880737191, 'batch_norm_l7': False, 'l2_reg_l7': 0.0022627343048155953, 'n_units_l8': 32, 'activation_l8': 'Tanh', 'dropout_l8': 0.20495099779884413, 'batch_norm_l8': True, 'l2_reg_l8': 0.005988014286520384, 'n_units_l9': 32, 'activation_l9': 'LeakyReLU', 'dropout_l9': 0.2430137824663724, 'batch_norm_l9': False, 'l2_reg_l9': 0.003351506755139884, 'leakyrelu_alpha_l9': 0.2998910916926767, 'n_units_l10': 512, 'activation_l10': 'ReLU', 'dropout_l10': 0.3500003319284319, 'batch_norm_l10': True, 'l2_reg_l10': 0.00013250399771506268, 'n_units_l11': 256, 'activation_l11': 'ELU', 'dropout_l11': 0.11962155968799154, 'batch_norm_l11': True, 'l2_reg_l11': 0.014994670756999532, 'n_units_l12': 64, 'activation_l12': 'Tanh', 'dropout_l12': 0.11409022728673335, 'batch_norm_l12': True, 'l2_reg_l12': 0.008478105172583671, 'n_units_l13': 256, 'activation_l13': 'SELU', 'dropout_l13': 0.07452624374416583, 'batch_norm_l13': True, 'l2_reg_l13': 1.2247622678808228e-05, 'n_units_l14': 1024, 'activation_l14': 'SELU', 'dropout_l14': 0.3411612098204033, 'batch_norm_l14': False, 'l2_reg_l14': 0.001092642906722218, 'n_units_l15': 1024, 'activation_l15': 'SELU', 'dropout_l15': 0.1095650188385176, 'batch_norm_l15': False, 'l2_reg_l15': 4.1263910605909065e-05, 'n_units_l16': 16, 'activation_l16': 'LeakyReLU', 'dropout_l16': 0.09489437419217911, 'batch_norm_l16': False, 'l2_reg_l16': 1.935897690648694e-05, 'leakyrelu_alpha_l16': 0.09820490173512789, 'n_units_l17': 64, 'activation_l17': 'ELU', 'dropout_l17': 0.19448134586684396, 'batch_norm_l17': False, 'l2_reg_l17': 4.5407876319335606e-05, 'n_units_l18': 32, 'activation_l18': 'SELU', 'dropout_l18': 0.3765626959945367, 'batch_norm_l18': True, 'l2_reg_l18': 1.9782506913795578e-05, 'n_units_l19': 2048, 'activation_l19': 'LeakyReLU', 'dropout_l19': 0.3608532172634418, 'batch_norm_l19': False, 'l2_reg_l19': 4.153524081205021e-05, 'leakyrelu_alpha_l19': 0.051006514082908364, 'n_units_l20': 512, 'activation_l20': 'Tanh', 'dropout_l20': 0.016605208149015893, 'batch_norm_l20': False, 'l2_reg_l20': 0.00013819408562048128, 'n_units_l21': 512, 'activation_l21': 'ELU', 'dropout_l21': 0.2623951273883159, 'batch_norm_l21': False, 'l2_reg_l21': 0.003059814466789573, 'n_units_l22': 512, 'activation_l22': 'ReLU', 'dropout_l22': 0.2761362210531958, 'batch_norm_l22': False, 'l2_reg_l22': 1.1839567478864743e-05, 'n_units_l23': 1024, 'activation_l23': 'SELU', 'dropout_l23': 0.2826147080137125, 'batch_norm_l23': True, 'l2_reg_l23': 0.0005028509189997418, 'res_connection_index_l23': 0, 'n_units_l24': 16, 'activation_l24': 'SELU', 'dropout_l24': 0.4951423975930462, 'batch_norm_l24': True, 'l2_reg_l24': 0.0003565539396260781, 'res_connection_index_l24': 0, 'n_units_l25': 256, 'activation_l25': 'LeakyReLU', 'dropout_l25': 0.3053635338817621, 'batch_norm_l25': False, 'l2_reg_l25': 0.005957952802105639, 'leakyrelu_alpha_l25': 0.2845657318638738, 'res_connection_index_l25': 0, 'n_units_l26': 64, 'activation_l26': 'LeakyReLU', 'dropout_l26': 0.38280961604219665, 'batch_norm_l26': True, 'l2_reg_l26': 3.8069415919536555e-05, 'leakyrelu_alpha_l26': 0.19770142018092698, 'res_connection_index_l26': 0, 'optimizer': 'Adam', 'lr': 0.0002868322851100579, 'adam_beta1': 0.9652557570704812, 'adam_beta2': 0.9529093503350976, 'epochs': 274, 'batch_size': 16, 'early_stopping_patience': 15, 'lr_reduce_factor': 0.5709570674173913, 'lr_reduce_patience': 20, 'min_lr': 2.5444682551590205e-05}. Best is trial 6 with value: 0.8196018376722818.\u001b[0m\n"
     ]
    },
    {
     "name": "stdout",
     "output_type": "stream",
     "text": [
      "Usando GPU para el Trial 7\n",
      "Entrenando Trial 7...\n"
     ]
    },
    {
     "name": "stderr",
     "output_type": "stream",
     "text": [
      "                                                                                                                                                                                                                                                        \r"
     ]
    },
    {
     "name": "stdout",
     "output_type": "stream",
     "text": [
      "Early stopping\n",
      "Trial 7 completado. Mejor precisión en validación: 0.8367534456355283\n"
     ]
    },
    {
     "name": "stderr",
     "output_type": "stream",
     "text": [
      "\u001b[32m[I 2023-11-29 19:36:56,952]\u001b[0m Trial 7 finished with value: 0.8367534456355283 and parameters: {'n_layers': 32, 'residual_threshold_factor': 0.8991071531091714, 'n_units_l0': 2048, 'activation_l0': 'ReLU', 'dropout_l0': 0.10688969126180686, 'batch_norm_l0': True, 'l2_reg_l0': 3.323960190207224e-05, 'n_units_l1': 512, 'activation_l1': 'Tanh', 'dropout_l1': 0.24143627339860607, 'batch_norm_l1': True, 'l2_reg_l1': 0.0011805186481916737, 'n_units_l2': 128, 'activation_l2': 'Tanh', 'dropout_l2': 0.1095810894243896, 'batch_norm_l2': True, 'l2_reg_l2': 1.5802550028006917e-05, 'n_units_l3': 16, 'activation_l3': 'Tanh', 'dropout_l3': 0.4497552753552511, 'batch_norm_l3': True, 'l2_reg_l3': 0.00042958905950153957, 'n_units_l4': 1024, 'activation_l4': 'LeakyReLU', 'dropout_l4': 0.32728367095683697, 'batch_norm_l4': True, 'l2_reg_l4': 0.067480752504459, 'leakyrelu_alpha_l4': 0.15701382490116939, 'n_units_l5': 2048, 'activation_l5': 'SELU', 'dropout_l5': 0.03960586529504995, 'batch_norm_l5': True, 'l2_reg_l5': 0.001667932071506258, 'n_units_l6': 2048, 'activation_l6': 'Tanh', 'dropout_l6': 0.42788199583110487, 'batch_norm_l6': True, 'l2_reg_l6': 5.6054536318479965e-05, 'n_units_l7': 2048, 'activation_l7': 'ReLU', 'dropout_l7': 0.19619448535374412, 'batch_norm_l7': True, 'l2_reg_l7': 0.0003903473767987466, 'n_units_l8': 64, 'activation_l8': 'Tanh', 'dropout_l8': 0.2605464812063753, 'batch_norm_l8': True, 'l2_reg_l8': 1.3051833893646056e-05, 'n_units_l9': 256, 'activation_l9': 'SELU', 'dropout_l9': 0.3973722784333088, 'batch_norm_l9': True, 'l2_reg_l9': 0.00014071385526996677, 'n_units_l10': 32, 'activation_l10': 'ELU', 'dropout_l10': 0.11639038390959255, 'batch_norm_l10': False, 'l2_reg_l10': 0.0015538186370842864, 'n_units_l11': 1024, 'activation_l11': 'ELU', 'dropout_l11': 0.3470041564483408, 'batch_norm_l11': True, 'l2_reg_l11': 0.03552289935984276, 'n_units_l12': 1024, 'activation_l12': 'ReLU', 'dropout_l12': 0.05667167360964048, 'batch_norm_l12': False, 'l2_reg_l12': 0.002872126729140081, 'n_units_l13': 64, 'activation_l13': 'ELU', 'dropout_l13': 0.2997216798776644, 'batch_norm_l13': True, 'l2_reg_l13': 1.1963207800939227e-05, 'n_units_l14': 16, 'activation_l14': 'Tanh', 'dropout_l14': 0.11329427000615094, 'batch_norm_l14': True, 'l2_reg_l14': 1.5357055769618557e-05, 'n_units_l15': 64, 'activation_l15': 'ReLU', 'dropout_l15': 0.07839521842612374, 'batch_norm_l15': False, 'l2_reg_l15': 0.000895116287916305, 'n_units_l16': 2048, 'activation_l16': 'LeakyReLU', 'dropout_l16': 0.031092608410258127, 'batch_norm_l16': False, 'l2_reg_l16': 0.00010922107447653567, 'leakyrelu_alpha_l16': 0.2898892364662565, 'n_units_l17': 16, 'activation_l17': 'Tanh', 'dropout_l17': 0.1235810090763877, 'batch_norm_l17': True, 'l2_reg_l17': 8.018043287321062e-05, 'n_units_l18': 2048, 'activation_l18': 'ELU', 'dropout_l18': 0.2600155255274354, 'batch_norm_l18': False, 'l2_reg_l18': 0.0021198832302700647, 'n_units_l19': 512, 'activation_l19': 'LeakyReLU', 'dropout_l19': 0.18279038616764948, 'batch_norm_l19': False, 'l2_reg_l19': 0.0010393266981146788, 'leakyrelu_alpha_l19': 0.29563223184859616, 'n_units_l20': 256, 'activation_l20': 'Tanh', 'dropout_l20': 0.48661641695140767, 'batch_norm_l20': False, 'l2_reg_l20': 0.0001903421776844549, 'n_units_l21': 64, 'activation_l21': 'SELU', 'dropout_l21': 0.03104809673361253, 'batch_norm_l21': False, 'l2_reg_l21': 0.00012344932322835836, 'n_units_l22': 16, 'activation_l22': 'SELU', 'dropout_l22': 0.40298542563743117, 'batch_norm_l22': False, 'l2_reg_l22': 0.004048230996570666, 'n_units_l23': 16, 'activation_l23': 'ELU', 'dropout_l23': 0.16993166391144543, 'batch_norm_l23': True, 'l2_reg_l23': 0.01833905226017134, 'n_units_l24': 128, 'activation_l24': 'LeakyReLU', 'dropout_l24': 0.3222387934069585, 'batch_norm_l24': True, 'l2_reg_l24': 0.00013809302289290775, 'leakyrelu_alpha_l24': 0.086052996466199, 'n_units_l25': 16, 'activation_l25': 'SELU', 'dropout_l25': 0.3758557688689021, 'batch_norm_l25': True, 'l2_reg_l25': 4.1304655387268425e-05, 'n_units_l26': 2048, 'activation_l26': 'ReLU', 'dropout_l26': 0.1273933717886015, 'batch_norm_l26': True, 'l2_reg_l26': 0.0006210152078902537, 'n_units_l27': 256, 'activation_l27': 'SELU', 'dropout_l27': 0.35374982631832047, 'batch_norm_l27': False, 'l2_reg_l27': 0.038732545065896774, 'n_units_l28': 64, 'activation_l28': 'Tanh', 'dropout_l28': 0.4439545391957155, 'batch_norm_l28': False, 'l2_reg_l28': 8.792498551788881e-05, 'res_connection_index_l28': 0, 'n_units_l29': 32, 'activation_l29': 'SELU', 'dropout_l29': 0.06681420555281947, 'batch_norm_l29': True, 'l2_reg_l29': 0.007318019721762194, 'res_connection_index_l29': 0, 'n_units_l30': 2048, 'activation_l30': 'LeakyReLU', 'dropout_l30': 0.2079138023429039, 'batch_norm_l30': False, 'l2_reg_l30': 0.044359715359415575, 'leakyrelu_alpha_l30': 0.051193884689528645, 'res_connection_index_l30': 0, 'n_units_l31': 16, 'activation_l31': 'SELU', 'dropout_l31': 0.09802799422861319, 'batch_norm_l31': False, 'l2_reg_l31': 0.0001088964053856336, 'res_connection_index_l31': 0, 'optimizer': 'Adam', 'lr': 2.6995458498249863e-05, 'adam_beta1': 0.8758089901151478, 'adam_beta2': 0.9919154552841367, 'epochs': 311, 'batch_size': 32, 'early_stopping_patience': 15, 'lr_reduce_factor': 0.370153247866181, 'lr_reduce_patience': 35, 'min_lr': 8.506742538258294e-06}. Best is trial 7 with value: 0.8367534456355283.\u001b[0m\n"
     ]
    },
    {
     "name": "stdout",
     "output_type": "stream",
     "text": [
      "Usando GPU para el Trial 8\n",
      "Entrenando Trial 8...\n"
     ]
    },
    {
     "name": "stderr",
     "output_type": "stream",
     "text": [
      "                                                                                                                                                                                                                                                        \r"
     ]
    },
    {
     "name": "stdout",
     "output_type": "stream",
     "text": [
      "Early stopping\n",
      "Trial 8 completado. Mejor precisión en validación: 0.678407350689127\n"
     ]
    },
    {
     "name": "stderr",
     "output_type": "stream",
     "text": [
      "\u001b[32m[I 2023-11-29 19:40:25,639]\u001b[0m Trial 8 finished with value: 0.678407350689127 and parameters: {'n_layers': 69, 'residual_threshold_factor': 0.5075218591614512, 'n_units_l0': 1024, 'activation_l0': 'Tanh', 'dropout_l0': 0.21845209131979948, 'batch_norm_l0': False, 'l2_reg_l0': 0.0018769545313614374, 'n_units_l1': 32, 'activation_l1': 'Tanh', 'dropout_l1': 0.012207864622111542, 'batch_norm_l1': True, 'l2_reg_l1': 0.020951274122147527, 'n_units_l2': 16, 'activation_l2': 'ELU', 'dropout_l2': 0.34156441050958347, 'batch_norm_l2': False, 'l2_reg_l2': 1.126242669731967e-05, 'n_units_l3': 16, 'activation_l3': 'LeakyReLU', 'dropout_l3': 0.4017794172752958, 'batch_norm_l3': False, 'l2_reg_l3': 0.004086975941038213, 'leakyrelu_alpha_l3': 0.11583968719578201, 'n_units_l4': 512, 'activation_l4': 'ReLU', 'dropout_l4': 0.4348555632978529, 'batch_norm_l4': False, 'l2_reg_l4': 0.0036522821099800847, 'n_units_l5': 32, 'activation_l5': 'LeakyReLU', 'dropout_l5': 0.34610772892239877, 'batch_norm_l5': True, 'l2_reg_l5': 0.006247782615370779, 'leakyrelu_alpha_l5': 0.09924136551420518, 'n_units_l6': 1024, 'activation_l6': 'ReLU', 'dropout_l6': 0.4945805075396576, 'batch_norm_l6': True, 'l2_reg_l6': 0.02863803243118072, 'n_units_l7': 1024, 'activation_l7': 'LeakyReLU', 'dropout_l7': 0.303285130789313, 'batch_norm_l7': True, 'l2_reg_l7': 4.827228153720184e-05, 'leakyrelu_alpha_l7': 0.07917875891532739, 'n_units_l8': 1024, 'activation_l8': 'Tanh', 'dropout_l8': 0.05889039757514902, 'batch_norm_l8': True, 'l2_reg_l8': 0.0002704267860502671, 'n_units_l9': 16, 'activation_l9': 'ReLU', 'dropout_l9': 0.04890584258057268, 'batch_norm_l9': False, 'l2_reg_l9': 1.7789893025065302e-05, 'n_units_l10': 2048, 'activation_l10': 'Tanh', 'dropout_l10': 0.34440079206650914, 'batch_norm_l10': False, 'l2_reg_l10': 1.164136767510433e-05, 'n_units_l11': 128, 'activation_l11': 'ELU', 'dropout_l11': 0.18285241416788, 'batch_norm_l11': True, 'l2_reg_l11': 2.7539394337050093e-05, 'n_units_l12': 64, 'activation_l12': 'Tanh', 'dropout_l12': 0.02317107041776728, 'batch_norm_l12': True, 'l2_reg_l12': 1.614195170771924e-05, 'n_units_l13': 16, 'activation_l13': 'Tanh', 'dropout_l13': 0.3041828270723531, 'batch_norm_l13': True, 'l2_reg_l13': 0.0037901710168986554, 'n_units_l14': 64, 'activation_l14': 'Tanh', 'dropout_l14': 0.45518821133704396, 'batch_norm_l14': False, 'l2_reg_l14': 2.5195079670240357e-05, 'n_units_l15': 128, 'activation_l15': 'SELU', 'dropout_l15': 0.16692228544864512, 'batch_norm_l15': True, 'l2_reg_l15': 0.00024396276014447524, 'n_units_l16': 64, 'activation_l16': 'Tanh', 'dropout_l16': 0.17021893438584568, 'batch_norm_l16': True, 'l2_reg_l16': 2.1804301073548935e-05, 'n_units_l17': 32, 'activation_l17': 'ELU', 'dropout_l17': 0.29282951786972566, 'batch_norm_l17': True, 'l2_reg_l17': 2.5307397601702894e-05, 'n_units_l18': 32, 'activation_l18': 'SELU', 'dropout_l18': 0.029409763047466564, 'batch_norm_l18': True, 'l2_reg_l18': 0.03959060143020759, 'n_units_l19': 2048, 'activation_l19': 'ELU', 'dropout_l19': 0.41809161140212153, 'batch_norm_l19': False, 'l2_reg_l19': 5.859165088644719e-05, 'n_units_l20': 512, 'activation_l20': 'Tanh', 'dropout_l20': 0.32397577196552446, 'batch_norm_l20': True, 'l2_reg_l20': 0.005159025471994712, 'n_units_l21': 64, 'activation_l21': 'ReLU', 'dropout_l21': 0.13450856765502828, 'batch_norm_l21': True, 'l2_reg_l21': 0.07445223555585502, 'n_units_l22': 2048, 'activation_l22': 'LeakyReLU', 'dropout_l22': 0.3731019489018156, 'batch_norm_l22': True, 'l2_reg_l22': 0.00047719862426137384, 'leakyrelu_alpha_l22': 0.2629215765785408, 'n_units_l23': 32, 'activation_l23': 'SELU', 'dropout_l23': 0.1439937942226832, 'batch_norm_l23': True, 'l2_reg_l23': 1.6757142055379286e-05, 'n_units_l24': 16, 'activation_l24': 'LeakyReLU', 'dropout_l24': 0.007784082226040601, 'batch_norm_l24': True, 'l2_reg_l24': 0.037599196710578354, 'leakyrelu_alpha_l24': 0.18422395474023054, 'n_units_l25': 512, 'activation_l25': 'SELU', 'dropout_l25': 0.3412447605717934, 'batch_norm_l25': False, 'l2_reg_l25': 0.008179394070305972, 'n_units_l26': 256, 'activation_l26': 'SELU', 'dropout_l26': 0.42322481118224287, 'batch_norm_l26': False, 'l2_reg_l26': 0.0529492005907779, 'n_units_l27': 256, 'activation_l27': 'ELU', 'dropout_l27': 0.2627545484610968, 'batch_norm_l27': True, 'l2_reg_l27': 0.0023052247975960797, 'n_units_l28': 256, 'activation_l28': 'Tanh', 'dropout_l28': 0.486704744222822, 'batch_norm_l28': False, 'l2_reg_l28': 0.05383125447706092, 'n_units_l29': 256, 'activation_l29': 'SELU', 'dropout_l29': 0.040921817533646154, 'batch_norm_l29': True, 'l2_reg_l29': 0.0010892271293863201, 'n_units_l30': 256, 'activation_l30': 'ELU', 'dropout_l30': 0.12843733536801033, 'batch_norm_l30': False, 'l2_reg_l30': 0.029960918269227248, 'n_units_l31': 256, 'activation_l31': 'ELU', 'dropout_l31': 0.316025532235196, 'batch_norm_l31': False, 'l2_reg_l31': 0.0074938470000772694, 'n_units_l32': 2048, 'activation_l32': 'Tanh', 'dropout_l32': 0.28608477030141233, 'batch_norm_l32': True, 'l2_reg_l32': 0.001927710835827079, 'n_units_l33': 1024, 'activation_l33': 'Tanh', 'dropout_l33': 0.12802866330507273, 'batch_norm_l33': True, 'l2_reg_l33': 5.122229816912006e-05, 'n_units_l34': 1024, 'activation_l34': 'ReLU', 'dropout_l34': 0.48797051675358316, 'batch_norm_l34': False, 'l2_reg_l34': 0.00047864223456333093, 'n_units_l35': 2048, 'activation_l35': 'ELU', 'dropout_l35': 0.39772305237640065, 'batch_norm_l35': True, 'l2_reg_l35': 1.9475391821932483e-05, 'res_connection_index_l35': 0, 'n_units_l36': 256, 'activation_l36': 'ReLU', 'dropout_l36': 0.13055035766748185, 'batch_norm_l36': False, 'l2_reg_l36': 0.006974423794254259, 'res_connection_index_l36': 0, 'n_units_l37': 32, 'activation_l37': 'LeakyReLU', 'dropout_l37': 0.43348262884949, 'batch_norm_l37': False, 'l2_reg_l37': 0.0013258197117645754, 'leakyrelu_alpha_l37': 0.17490017955618054, 'res_connection_index_l37': 0, 'n_units_l38': 128, 'activation_l38': 'LeakyReLU', 'dropout_l38': 0.22544217385008497, 'batch_norm_l38': True, 'l2_reg_l38': 0.0023107821328149708, 'leakyrelu_alpha_l38': 0.1588485275136937, 'res_connection_index_l38': 0, 'n_units_l39': 64, 'activation_l39': 'ReLU', 'dropout_l39': 0.06718032518335804, 'batch_norm_l39': True, 'l2_reg_l39': 4.416306305728231e-05, 'res_connection_index_l39': 0, 'n_units_l40': 1024, 'activation_l40': 'ELU', 'dropout_l40': 0.43059116574162265, 'batch_norm_l40': True, 'l2_reg_l40': 5.280292891482318e-05, 'res_connection_index_l40': 0, 'n_units_l41': 512, 'activation_l41': 'SELU', 'dropout_l41': 0.004132862325414932, 'batch_norm_l41': True, 'l2_reg_l41': 0.0025657650687171242, 'res_connection_index_l41': 0, 'n_units_l42': 1024, 'activation_l42': 'LeakyReLU', 'dropout_l42': 0.3984325856010816, 'batch_norm_l42': True, 'l2_reg_l42': 0.00012468642625836567, 'leakyrelu_alpha_l42': 0.13718714055083803, 'res_connection_index_l42': 1, 'n_units_l43': 128, 'activation_l43': 'Tanh', 'dropout_l43': 0.45723505394457853, 'batch_norm_l43': True, 'l2_reg_l43': 4.080099807330244e-05, 'res_connection_index_l43': 0, 'n_units_l44': 256, 'activation_l44': 'ELU', 'dropout_l44': 0.16262280891706044, 'batch_norm_l44': False, 'l2_reg_l44': 0.02939458543482685, 'res_connection_index_l44': 1, 'n_units_l45': 2048, 'activation_l45': 'Tanh', 'dropout_l45': 0.24493185429363545, 'batch_norm_l45': False, 'l2_reg_l45': 0.00013353240241149056, 'res_connection_index_l45': 0, 'n_units_l46': 256, 'activation_l46': 'Tanh', 'dropout_l46': 0.03935319532431819, 'batch_norm_l46': False, 'l2_reg_l46': 0.002768084156441032, 'res_connection_index_l46': 2, 'n_units_l47': 2048, 'activation_l47': 'SELU', 'dropout_l47': 0.3567768244874979, 'batch_norm_l47': False, 'l2_reg_l47': 0.0031708391926369523, 'res_connection_index_l47': 1, 'n_units_l48': 32, 'activation_l48': 'SELU', 'dropout_l48': 0.3058071824990906, 'batch_norm_l48': True, 'l2_reg_l48': 0.0010291964469466754, 'res_connection_index_l48': 0, 'n_units_l49': 2048, 'activation_l49': 'ELU', 'dropout_l49': 0.3668583364296691, 'batch_norm_l49': True, 'l2_reg_l49': 4.4902026487815384e-05, 'res_connection_index_l49': 3, 'n_units_l50': 256, 'activation_l50': 'LeakyReLU', 'dropout_l50': 0.3388424350942437, 'batch_norm_l50': False, 'l2_reg_l50': 0.003027972876459508, 'leakyrelu_alpha_l50': 0.13528127704675136, 'res_connection_index_l50': 1, 'n_units_l51': 128, 'activation_l51': 'SELU', 'dropout_l51': 0.4698294586037338, 'batch_norm_l51': True, 'l2_reg_l51': 0.00017438570348895168, 'res_connection_index_l51': 0, 'n_units_l52': 256, 'activation_l52': 'Tanh', 'dropout_l52': 0.18099853720510806, 'batch_norm_l52': True, 'l2_reg_l52': 0.025896353690947053, 'res_connection_index_l52': 1, 'n_units_l53': 512, 'activation_l53': 'SELU', 'dropout_l53': 0.2578887413006075, 'batch_norm_l53': True, 'l2_reg_l53': 0.07264318568592562, 'res_connection_index_l53': 0, 'n_units_l54': 32, 'activation_l54': 'LeakyReLU', 'dropout_l54': 0.24651052670990864, 'batch_norm_l54': True, 'l2_reg_l54': 0.003469219413639079, 'leakyrelu_alpha_l54': 0.25338776451083594, 'res_connection_index_l54': 1, 'n_units_l55': 256, 'activation_l55': 'ReLU', 'dropout_l55': 0.2116626517128573, 'batch_norm_l55': False, 'l2_reg_l55': 0.0008754695661032019, 'res_connection_index_l55': 5, 'n_units_l56': 16, 'activation_l56': 'ReLU', 'dropout_l56': 0.11730407578947338, 'batch_norm_l56': True, 'l2_reg_l56': 0.05301727212286755, 'res_connection_index_l56': 0, 'n_units_l57': 1024, 'activation_l57': 'Tanh', 'dropout_l57': 0.3908207373424966, 'batch_norm_l57': False, 'l2_reg_l57': 0.000353810896617215, 'res_connection_index_l57': 2, 'n_units_l58': 256, 'activation_l58': 'ELU', 'dropout_l58': 0.24439314928596828, 'batch_norm_l58': False, 'l2_reg_l58': 0.0014556722721578378, 'res_connection_index_l58': 1, 'n_units_l59': 128, 'activation_l59': 'LeakyReLU', 'dropout_l59': 0.019002817434977726, 'batch_norm_l59': False, 'l2_reg_l59': 0.003737569656349771, 'leakyrelu_alpha_l59': 0.21938584133639513, 'res_connection_index_l59': 3, 'n_units_l60': 64, 'activation_l60': 'Tanh', 'dropout_l60': 0.16270342527603776, 'batch_norm_l60': True, 'l2_reg_l60': 0.057135218750456455, 'res_connection_index_l60': 0, 'n_units_l61': 256, 'activation_l61': 'ELU', 'dropout_l61': 0.19769023649209583, 'batch_norm_l61': True, 'l2_reg_l61': 0.0021224410835473076, 'res_connection_index_l61': 3, 'n_units_l62': 64, 'activation_l62': 'LeakyReLU', 'dropout_l62': 0.12956222137067425, 'batch_norm_l62': True, 'l2_reg_l62': 0.0002785652756119294, 'leakyrelu_alpha_l62': 0.1965368774342503, 'res_connection_index_l62': 0, 'n_units_l63': 256, 'activation_l63': 'ELU', 'dropout_l63': 0.3748741517555894, 'batch_norm_l63': True, 'l2_reg_l63': 1.4970058913564588e-05, 'res_connection_index_l63': 2, 'n_units_l64': 32, 'activation_l64': 'LeakyReLU', 'dropout_l64': 0.2758727042840474, 'batch_norm_l64': False, 'l2_reg_l64': 0.004376794339102684, 'leakyrelu_alpha_l64': 0.22748613028812878, 'res_connection_index_l64': 1, 'n_units_l65': 64, 'activation_l65': 'Tanh', 'dropout_l65': 0.46071550556956314, 'batch_norm_l65': True, 'l2_reg_l65': 0.018300347611240622, 'res_connection_index_l65': 2, 'n_units_l66': 128, 'activation_l66': 'LeakyReLU', 'dropout_l66': 0.1925861391810441, 'batch_norm_l66': False, 'l2_reg_l66': 0.01084424862498386, 'leakyrelu_alpha_l66': 0.1923100011387848, 'res_connection_index_l66': 0, 'n_units_l67': 32, 'activation_l67': 'SELU', 'dropout_l67': 0.09951513754551855, 'batch_norm_l67': True, 'l2_reg_l67': 0.06509104745025363, 'res_connection_index_l67': 2, 'n_units_l68': 256, 'activation_l68': 'SELU', 'dropout_l68': 0.23567101564428022, 'batch_norm_l68': True, 'l2_reg_l68': 0.0020909721511417497, 'res_connection_index_l68': 2, 'optimizer': 'SGD', 'lr': 0.030596965929662805, 'sgd_momentum': 0.7003048593830032, 'epochs': 431, 'batch_size': 32, 'early_stopping_patience': 8, 'lr_reduce_factor': 0.12167775186837747, 'lr_reduce_patience': 41, 'min_lr': 2.497314779050296e-06}. Best is trial 7 with value: 0.8367534456355283.\u001b[0m\n"
     ]
    },
    {
     "name": "stdout",
     "output_type": "stream",
     "text": [
      "Usando GPU para el Trial 9\n",
      "Entrenando Trial 9...\n"
     ]
    },
    {
     "name": "stderr",
     "output_type": "stream",
     "text": [
      "                                                                                                                                                                                                                                                        \r"
     ]
    },
    {
     "name": "stdout",
     "output_type": "stream",
     "text": [
      "Early stopping\n",
      "Trial 9 completado. Mejor precisión en validación: 0.678407350689127\n"
     ]
    },
    {
     "name": "stderr",
     "output_type": "stream",
     "text": [
      "\u001b[32m[I 2023-11-29 19:43:27,217]\u001b[0m Trial 9 finished with value: 0.678407350689127 and parameters: {'n_layers': 50, 'residual_threshold_factor': 0.9104168406650655, 'n_units_l0': 2048, 'activation_l0': 'LeakyReLU', 'dropout_l0': 0.4420577052072993, 'batch_norm_l0': True, 'l2_reg_l0': 1.4823069864021766e-05, 'leakyrelu_alpha_l0': 0.02626321459452105, 'n_units_l1': 512, 'activation_l1': 'SELU', 'dropout_l1': 0.37547279541453626, 'batch_norm_l1': False, 'l2_reg_l1': 0.0021001627506957673, 'n_units_l2': 32, 'activation_l2': 'SELU', 'dropout_l2': 0.30571966909970666, 'batch_norm_l2': False, 'l2_reg_l2': 0.008388913416958571, 'n_units_l3': 16, 'activation_l3': 'ELU', 'dropout_l3': 0.19820220174078984, 'batch_norm_l3': True, 'l2_reg_l3': 2.5067343557655532e-05, 'n_units_l4': 16, 'activation_l4': 'LeakyReLU', 'dropout_l4': 0.30135220031117943, 'batch_norm_l4': False, 'l2_reg_l4': 0.03060991598201985, 'leakyrelu_alpha_l4': 0.26344001678393003, 'n_units_l5': 32, 'activation_l5': 'ReLU', 'dropout_l5': 0.06669486339389008, 'batch_norm_l5': True, 'l2_reg_l5': 0.0009212462497472301, 'n_units_l6': 512, 'activation_l6': 'LeakyReLU', 'dropout_l6': 0.04453521114416181, 'batch_norm_l6': False, 'l2_reg_l6': 0.08198310775478046, 'leakyrelu_alpha_l6': 0.01937414373503011, 'n_units_l7': 512, 'activation_l7': 'SELU', 'dropout_l7': 0.33038378124621914, 'batch_norm_l7': False, 'l2_reg_l7': 0.029828677102101794, 'n_units_l8': 16, 'activation_l8': 'Tanh', 'dropout_l8': 0.02834421437443807, 'batch_norm_l8': True, 'l2_reg_l8': 0.025333689350995985, 'n_units_l9': 2048, 'activation_l9': 'SELU', 'dropout_l9': 0.49292639042726016, 'batch_norm_l9': False, 'l2_reg_l9': 0.00010592327255001544, 'n_units_l10': 2048, 'activation_l10': 'ELU', 'dropout_l10': 0.1600061986672094, 'batch_norm_l10': False, 'l2_reg_l10': 3.183583602754829e-05, 'n_units_l11': 16, 'activation_l11': 'ReLU', 'dropout_l11': 0.4596122879970997, 'batch_norm_l11': False, 'l2_reg_l11': 1.3399978393244628e-05, 'n_units_l12': 32, 'activation_l12': 'LeakyReLU', 'dropout_l12': 0.0875411562306907, 'batch_norm_l12': True, 'l2_reg_l12': 0.01587400415066635, 'leakyrelu_alpha_l12': 0.2674075130148392, 'n_units_l13': 64, 'activation_l13': 'LeakyReLU', 'dropout_l13': 0.39380097605220155, 'batch_norm_l13': True, 'l2_reg_l13': 2.694325884267659e-05, 'leakyrelu_alpha_l13': 0.2545745700269889, 'n_units_l14': 512, 'activation_l14': 'SELU', 'dropout_l14': 0.24843440005495543, 'batch_norm_l14': True, 'l2_reg_l14': 4.728013237866968e-05, 'n_units_l15': 2048, 'activation_l15': 'ELU', 'dropout_l15': 0.1794243596908079, 'batch_norm_l15': False, 'l2_reg_l15': 0.0027698148608346286, 'n_units_l16': 16, 'activation_l16': 'Tanh', 'dropout_l16': 0.1453801662203419, 'batch_norm_l16': True, 'l2_reg_l16': 1.2817300833842102e-05, 'n_units_l17': 16, 'activation_l17': 'LeakyReLU', 'dropout_l17': 0.2597218191827332, 'batch_norm_l17': True, 'l2_reg_l17': 1.8185364942429052e-05, 'leakyrelu_alpha_l17': 0.15173449851893706, 'n_units_l18': 64, 'activation_l18': 'LeakyReLU', 'dropout_l18': 0.3525418614106131, 'batch_norm_l18': True, 'l2_reg_l18': 0.028050374842380335, 'leakyrelu_alpha_l18': 0.23440183381626922, 'n_units_l19': 64, 'activation_l19': 'LeakyReLU', 'dropout_l19': 0.2400005804884029, 'batch_norm_l19': True, 'l2_reg_l19': 0.00092802381566799, 'leakyrelu_alpha_l19': 0.15953701165769485, 'n_units_l20': 1024, 'activation_l20': 'LeakyReLU', 'dropout_l20': 0.035047934283149784, 'batch_norm_l20': False, 'l2_reg_l20': 2.4078945945367598e-05, 'leakyrelu_alpha_l20': 0.14497816850591114, 'n_units_l21': 512, 'activation_l21': 'LeakyReLU', 'dropout_l21': 0.14443880048902985, 'batch_norm_l21': False, 'l2_reg_l21': 0.019166757044193253, 'leakyrelu_alpha_l21': 0.060187265672148514, 'n_units_l22': 256, 'activation_l22': 'SELU', 'dropout_l22': 0.01453989288262214, 'batch_norm_l22': True, 'l2_reg_l22': 0.03528033176891022, 'n_units_l23': 2048, 'activation_l23': 'Tanh', 'dropout_l23': 0.06422756825083914, 'batch_norm_l23': False, 'l2_reg_l23': 0.0030091488359950532, 'n_units_l24': 64, 'activation_l24': 'LeakyReLU', 'dropout_l24': 0.36673097314547193, 'batch_norm_l24': False, 'l2_reg_l24': 9.824891658856915e-05, 'leakyrelu_alpha_l24': 0.11580876365653005, 'n_units_l25': 512, 'activation_l25': 'SELU', 'dropout_l25': 0.3623446484950976, 'batch_norm_l25': True, 'l2_reg_l25': 0.0005260477220597075, 'n_units_l26': 256, 'activation_l26': 'ELU', 'dropout_l26': 0.40231953376647933, 'batch_norm_l26': True, 'l2_reg_l26': 0.0018018700497228267, 'n_units_l27': 16, 'activation_l27': 'LeakyReLU', 'dropout_l27': 0.31097234330247586, 'batch_norm_l27': True, 'l2_reg_l27': 1.1559512632576371e-05, 'leakyrelu_alpha_l27': 0.03296734663068235, 'n_units_l28': 2048, 'activation_l28': 'SELU', 'dropout_l28': 0.40009454035963105, 'batch_norm_l28': True, 'l2_reg_l28': 3.749593386147118e-05, 'n_units_l29': 128, 'activation_l29': 'ELU', 'dropout_l29': 0.3527991309043218, 'batch_norm_l29': False, 'l2_reg_l29': 0.05135410992418492, 'n_units_l30': 64, 'activation_l30': 'SELU', 'dropout_l30': 0.008763201782738206, 'batch_norm_l30': False, 'l2_reg_l30': 0.00045396959459742433, 'n_units_l31': 128, 'activation_l31': 'ELU', 'dropout_l31': 0.30978104613416757, 'batch_norm_l31': True, 'l2_reg_l31': 0.00019800340929278741, 'n_units_l32': 16, 'activation_l32': 'ELU', 'dropout_l32': 0.26484403420440983, 'batch_norm_l32': True, 'l2_reg_l32': 4.3230512158965104e-05, 'n_units_l33': 1024, 'activation_l33': 'SELU', 'dropout_l33': 0.4483737063794513, 'batch_norm_l33': True, 'l2_reg_l33': 0.07810354669607422, 'n_units_l34': 128, 'activation_l34': 'Tanh', 'dropout_l34': 0.3355118615494869, 'batch_norm_l34': False, 'l2_reg_l34': 1.6323980875486797e-05, 'n_units_l35': 128, 'activation_l35': 'LeakyReLU', 'dropout_l35': 0.3437811949533522, 'batch_norm_l35': False, 'l2_reg_l35': 0.03977246018427871, 'leakyrelu_alpha_l35': 0.24208616384166257, 'n_units_l36': 128, 'activation_l36': 'LeakyReLU', 'dropout_l36': 0.17927386019443142, 'batch_norm_l36': True, 'l2_reg_l36': 2.2348979172477272e-05, 'leakyrelu_alpha_l36': 0.03927238003001273, 'n_units_l37': 256, 'activation_l37': 'ELU', 'dropout_l37': 0.0684484747901743, 'batch_norm_l37': True, 'l2_reg_l37': 0.0008758362548973484, 'n_units_l38': 128, 'activation_l38': 'SELU', 'dropout_l38': 0.14854583261659066, 'batch_norm_l38': False, 'l2_reg_l38': 0.0023206831743512635, 'n_units_l39': 32, 'activation_l39': 'ELU', 'dropout_l39': 0.24692967169709162, 'batch_norm_l39': False, 'l2_reg_l39': 0.003399432461647729, 'n_units_l40': 2048, 'activation_l40': 'Tanh', 'dropout_l40': 0.4275051396201224, 'batch_norm_l40': True, 'l2_reg_l40': 0.0014897743744831013, 'n_units_l41': 2048, 'activation_l41': 'ELU', 'dropout_l41': 0.14020539822679706, 'batch_norm_l41': True, 'l2_reg_l41': 0.014427309252444094, 'n_units_l42': 256, 'activation_l42': 'SELU', 'dropout_l42': 0.44984545081838306, 'batch_norm_l42': False, 'l2_reg_l42': 7.84496233460173e-05, 'n_units_l43': 64, 'activation_l43': 'SELU', 'dropout_l43': 0.20884874937405717, 'batch_norm_l43': False, 'l2_reg_l43': 0.013323657309574131, 'n_units_l44': 32, 'activation_l44': 'Tanh', 'dropout_l44': 0.16617615590016666, 'batch_norm_l44': True, 'l2_reg_l44': 0.0006789075531341368, 'n_units_l45': 2048, 'activation_l45': 'ReLU', 'dropout_l45': 0.23510510754243352, 'batch_norm_l45': False, 'l2_reg_l45': 0.0006329889493579186, 'res_connection_index_l45': 0, 'n_units_l46': 32, 'activation_l46': 'ELU', 'dropout_l46': 0.303693654672609, 'batch_norm_l46': False, 'l2_reg_l46': 0.03550287650107461, 'res_connection_index_l46': 0, 'n_units_l47': 128, 'activation_l47': 'ReLU', 'dropout_l47': 0.35747997889476524, 'batch_norm_l47': True, 'l2_reg_l47': 0.07134589401220279, 'res_connection_index_l47': 0, 'n_units_l48': 32, 'activation_l48': 'SELU', 'dropout_l48': 0.1418726584919855, 'batch_norm_l48': False, 'l2_reg_l48': 0.00066439570939862, 'res_connection_index_l48': 1, 'n_units_l49': 512, 'activation_l49': 'LeakyReLU', 'dropout_l49': 0.3362102634001624, 'batch_norm_l49': True, 'l2_reg_l49': 0.0026306340239858634, 'leakyrelu_alpha_l49': 0.018457783546387607, 'res_connection_index_l49': 0, 'optimizer': 'Adam', 'lr': 0.0015075144969094133, 'adam_beta1': 0.9740647301817527, 'adam_beta2': 0.960448039948584, 'epochs': 355, 'batch_size': 64, 'early_stopping_patience': 18, 'lr_reduce_factor': 0.5104525922092594, 'lr_reduce_patience': 17, 'min_lr': 5.202268412000679e-06}. Best is trial 7 with value: 0.8367534456355283.\u001b[0m\n"
     ]
    },
    {
     "name": "stdout",
     "output_type": "stream",
     "text": [
      "Usando GPU para el Trial 10\n",
      "Entrenando Trial 10...\n"
     ]
    },
    {
     "name": "stderr",
     "output_type": "stream",
     "text": [
      "                                                                                                                                                                                                                                                        \r"
     ]
    },
    {
     "name": "stdout",
     "output_type": "stream",
     "text": [
      "Early stopping\n",
      "Trial 10 completado. Mejor precisión en validación: 0.678407350689127\n"
     ]
    },
    {
     "name": "stderr",
     "output_type": "stream",
     "text": [
      "\u001b[32m[I 2023-11-29 19:50:22,137]\u001b[0m Trial 10 finished with value: 0.678407350689127 and parameters: {'n_layers': 30, 'residual_threshold_factor': 0.5786842995413273, 'n_units_l0': 32, 'activation_l0': 'LeakyReLU', 'dropout_l0': 0.12525050114725894, 'batch_norm_l0': False, 'l2_reg_l0': 0.004820825625567289, 'leakyrelu_alpha_l0': 0.23543509158274267, 'n_units_l1': 64, 'activation_l1': 'SELU', 'dropout_l1': 0.18443969368665497, 'batch_norm_l1': True, 'l2_reg_l1': 0.00020850752628216629, 'n_units_l2': 512, 'activation_l2': 'ELU', 'dropout_l2': 0.00874533040256431, 'batch_norm_l2': False, 'l2_reg_l2': 0.00013316117121033605, 'n_units_l3': 1024, 'activation_l3': 'LeakyReLU', 'dropout_l3': 0.4617605019219826, 'batch_norm_l3': False, 'l2_reg_l3': 4.1276871885511694e-05, 'leakyrelu_alpha_l3': 0.13335918789492646, 'n_units_l4': 32, 'activation_l4': 'ELU', 'dropout_l4': 0.4750347093285073, 'batch_norm_l4': False, 'l2_reg_l4': 9.002311522036168e-05, 'n_units_l5': 512, 'activation_l5': 'LeakyReLU', 'dropout_l5': 0.37993863504433895, 'batch_norm_l5': False, 'l2_reg_l5': 0.00034075954454636763, 'leakyrelu_alpha_l5': 0.24257240140916947, 'n_units_l6': 1024, 'activation_l6': 'LeakyReLU', 'dropout_l6': 0.3709030604772754, 'batch_norm_l6': True, 'l2_reg_l6': 0.0026970456220379744, 'leakyrelu_alpha_l6': 0.06894371032397134, 'n_units_l7': 32, 'activation_l7': 'ELU', 'dropout_l7': 0.11371740618096332, 'batch_norm_l7': False, 'l2_reg_l7': 1.1957974384801144e-05, 'n_units_l8': 32, 'activation_l8': 'SELU', 'dropout_l8': 0.4468827218126835, 'batch_norm_l8': True, 'l2_reg_l8': 0.0001307037694290258, 'n_units_l9': 512, 'activation_l9': 'SELU', 'dropout_l9': 0.21276413433034336, 'batch_norm_l9': False, 'l2_reg_l9': 0.0015917373014460604, 'n_units_l10': 32, 'activation_l10': 'Tanh', 'dropout_l10': 0.31211001847223335, 'batch_norm_l10': False, 'l2_reg_l10': 0.021068454074821844, 'n_units_l11': 128, 'activation_l11': 'ReLU', 'dropout_l11': 0.10917295886539286, 'batch_norm_l11': True, 'l2_reg_l11': 2.008864272928234e-05, 'n_units_l12': 32, 'activation_l12': 'Tanh', 'dropout_l12': 0.06305917716618153, 'batch_norm_l12': True, 'l2_reg_l12': 0.0003477566479777352, 'n_units_l13': 16, 'activation_l13': 'LeakyReLU', 'dropout_l13': 0.4175753760744226, 'batch_norm_l13': True, 'l2_reg_l13': 0.057299176017963006, 'leakyrelu_alpha_l13': 0.09584417127514781, 'n_units_l14': 16, 'activation_l14': 'LeakyReLU', 'dropout_l14': 0.23510127451213425, 'batch_norm_l14': False, 'l2_reg_l14': 3.462178790901393e-05, 'leakyrelu_alpha_l14': 0.2764520888045334, 'n_units_l15': 64, 'activation_l15': 'ReLU', 'dropout_l15': 0.25283096176424785, 'batch_norm_l15': True, 'l2_reg_l15': 0.021217452000161462, 'n_units_l16': 512, 'activation_l16': 'ReLU', 'dropout_l16': 0.4480561310134486, 'batch_norm_l16': False, 'l2_reg_l16': 1.676659331243547e-05, 'n_units_l17': 1024, 'activation_l17': 'ReLU', 'dropout_l17': 0.10033331972596193, 'batch_norm_l17': False, 'l2_reg_l17': 0.01259380878368886, 'res_connection_index_l17': 0, 'n_units_l18': 2048, 'activation_l18': 'Tanh', 'dropout_l18': 0.11522715504380437, 'batch_norm_l18': True, 'l2_reg_l18': 0.0006837181364460526, 'res_connection_index_l18': 0, 'n_units_l19': 1024, 'activation_l19': 'ELU', 'dropout_l19': 0.40359403547851963, 'batch_norm_l19': True, 'l2_reg_l19': 0.007886319051731459, 'res_connection_index_l19': 0, 'n_units_l20': 512, 'activation_l20': 'LeakyReLU', 'dropout_l20': 0.3429495024069036, 'batch_norm_l20': True, 'l2_reg_l20': 0.001040830186615462, 'leakyrelu_alpha_l20': 0.18832266487908733, 'res_connection_index_l20': 0, 'n_units_l21': 16, 'activation_l21': 'ELU', 'dropout_l21': 0.09304576860312569, 'batch_norm_l21': True, 'l2_reg_l21': 0.0007426703641507152, 'res_connection_index_l21': 0, 'n_units_l22': 512, 'activation_l22': 'LeakyReLU', 'dropout_l22': 0.4718390813266138, 'batch_norm_l22': False, 'l2_reg_l22': 0.0002914804400595264, 'leakyrelu_alpha_l22': 0.010772192334619698, 'res_connection_index_l22': 1, 'n_units_l23': 512, 'activation_l23': 'Tanh', 'dropout_l23': 0.37685733848877556, 'batch_norm_l23': True, 'l2_reg_l23': 2.8782231519794286e-05, 'res_connection_index_l23': 2, 'n_units_l24': 32, 'activation_l24': 'ReLU', 'dropout_l24': 0.4285566145536605, 'batch_norm_l24': False, 'l2_reg_l24': 4.148914231017585e-05, 'res_connection_index_l24': 0, 'n_units_l25': 2048, 'activation_l25': 'ReLU', 'dropout_l25': 0.21202782420259225, 'batch_norm_l25': False, 'l2_reg_l25': 0.005382871679206967, 'res_connection_index_l25': 0, 'n_units_l26': 32, 'activation_l26': 'SELU', 'dropout_l26': 0.2241373186779106, 'batch_norm_l26': True, 'l2_reg_l26': 0.032696867755190304, 'res_connection_index_l26': 1, 'n_units_l27': 512, 'activation_l27': 'Tanh', 'dropout_l27': 0.33465817273835086, 'batch_norm_l27': False, 'l2_reg_l27': 0.005321703160950876, 'res_connection_index_l27': 2, 'n_units_l28': 64, 'activation_l28': 'ELU', 'dropout_l28': 0.10989411694982604, 'batch_norm_l28': True, 'l2_reg_l28': 7.445718778947529e-05, 'res_connection_index_l28': 0, 'n_units_l29': 1024, 'activation_l29': 'ELU', 'dropout_l29': 0.10279308544829979, 'batch_norm_l29': True, 'l2_reg_l29': 2.9505831862274993e-05, 'res_connection_index_l29': 2, 'optimizer': 'RMSprop', 'lr': 0.007155717392070823, 'rmsprop_alpha': 0.9533762558985972, 'epochs': 338, 'batch_size': 16, 'early_stopping_patience': 18, 'lr_reduce_factor': 0.23662354479517758, 'lr_reduce_patience': 13, 'min_lr': 3.436702464463207e-06}. Best is trial 7 with value: 0.8367534456355283.\u001b[0m\n"
     ]
    },
    {
     "name": "stdout",
     "output_type": "stream",
     "text": [
      "Usando GPU para el Trial 11\n",
      "Entrenando Trial 11...\n"
     ]
    },
    {
     "name": "stderr",
     "output_type": "stream",
     "text": [
      "                                                                                                                                                                                                                                                        \r"
     ]
    },
    {
     "name": "stdout",
     "output_type": "stream",
     "text": [
      "Early stopping\n",
      "Trial 11 completado. Mejor precisión en validación: 0.678407350689127\n"
     ]
    },
    {
     "name": "stderr",
     "output_type": "stream",
     "text": [
      "\u001b[32m[I 2023-11-29 19:52:02,260]\u001b[0m Trial 11 finished with value: 0.678407350689127 and parameters: {'n_layers': 84, 'residual_threshold_factor': 0.5594344893034351, 'n_units_l0': 16, 'activation_l0': 'LeakyReLU', 'dropout_l0': 0.3570376835577602, 'batch_norm_l0': False, 'l2_reg_l0': 0.0007518499567662947, 'leakyrelu_alpha_l0': 0.02705776532551643, 'n_units_l1': 32, 'activation_l1': 'LeakyReLU', 'dropout_l1': 0.44043127450220954, 'batch_norm_l1': False, 'l2_reg_l1': 0.0014978746464831814, 'leakyrelu_alpha_l1': 0.055833796086298695, 'n_units_l2': 2048, 'activation_l2': 'SELU', 'dropout_l2': 0.43925756529415394, 'batch_norm_l2': True, 'l2_reg_l2': 0.0006660649186735475, 'n_units_l3': 16, 'activation_l3': 'ELU', 'dropout_l3': 0.08903514158700687, 'batch_norm_l3': False, 'l2_reg_l3': 0.0005805573199866239, 'n_units_l4': 1024, 'activation_l4': 'Tanh', 'dropout_l4': 0.4513320378548858, 'batch_norm_l4': False, 'l2_reg_l4': 0.0004449467156265261, 'n_units_l5': 64, 'activation_l5': 'Tanh', 'dropout_l5': 0.2029906959865761, 'batch_norm_l5': True, 'l2_reg_l5': 0.03138302769169334, 'n_units_l6': 2048, 'activation_l6': 'SELU', 'dropout_l6': 0.20100552736792582, 'batch_norm_l6': True, 'l2_reg_l6': 3.1663823807840505e-05, 'n_units_l7': 128, 'activation_l7': 'ELU', 'dropout_l7': 0.33798282085840003, 'batch_norm_l7': False, 'l2_reg_l7': 0.0002141031861873971, 'n_units_l8': 128, 'activation_l8': 'SELU', 'dropout_l8': 0.09228868704487075, 'batch_norm_l8': False, 'l2_reg_l8': 0.002637578143132131, 'n_units_l9': 16, 'activation_l9': 'LeakyReLU', 'dropout_l9': 0.36216776579825505, 'batch_norm_l9': True, 'l2_reg_l9': 0.0018842819298816166, 'leakyrelu_alpha_l9': 0.023915359036099454, 'n_units_l10': 32, 'activation_l10': 'ReLU', 'dropout_l10': 0.1719352607973924, 'batch_norm_l10': True, 'l2_reg_l10': 8.664823413093663e-05, 'n_units_l11': 128, 'activation_l11': 'ELU', 'dropout_l11': 0.17445574379835255, 'batch_norm_l11': True, 'l2_reg_l11': 0.09496004832214536, 'n_units_l12': 256, 'activation_l12': 'ELU', 'dropout_l12': 0.08287325210562096, 'batch_norm_l12': True, 'l2_reg_l12': 0.002903504843458064, 'n_units_l13': 2048, 'activation_l13': 'SELU', 'dropout_l13': 0.3915687220346415, 'batch_norm_l13': True, 'l2_reg_l13': 0.016485688534300547, 'n_units_l14': 2048, 'activation_l14': 'ReLU', 'dropout_l14': 0.013058521951718582, 'batch_norm_l14': False, 'l2_reg_l14': 0.00011266101126110064, 'n_units_l15': 64, 'activation_l15': 'Tanh', 'dropout_l15': 0.4144291379144545, 'batch_norm_l15': False, 'l2_reg_l15': 2.8278592465760933e-05, 'n_units_l16': 512, 'activation_l16': 'ReLU', 'dropout_l16': 0.45002285151169885, 'batch_norm_l16': False, 'l2_reg_l16': 1.013408562308511e-05, 'n_units_l17': 256, 'activation_l17': 'SELU', 'dropout_l17': 0.44992807351506725, 'batch_norm_l17': True, 'l2_reg_l17': 0.00022574314610228002, 'n_units_l18': 64, 'activation_l18': 'Tanh', 'dropout_l18': 0.23510881338633022, 'batch_norm_l18': True, 'l2_reg_l18': 0.00544748391715265, 'n_units_l19': 32, 'activation_l19': 'ReLU', 'dropout_l19': 0.035104775163172675, 'batch_norm_l19': True, 'l2_reg_l19': 5.0357670924372685e-05, 'n_units_l20': 64, 'activation_l20': 'Tanh', 'dropout_l20': 0.1657873212122275, 'batch_norm_l20': False, 'l2_reg_l20': 0.07054104297214951, 'n_units_l21': 32, 'activation_l21': 'Tanh', 'dropout_l21': 0.140467593769335, 'batch_norm_l21': False, 'l2_reg_l21': 0.004293410620102312, 'n_units_l22': 1024, 'activation_l22': 'ReLU', 'dropout_l22': 0.21597629153442882, 'batch_norm_l22': True, 'l2_reg_l22': 0.0006662426657700568, 'n_units_l23': 16, 'activation_l23': 'ReLU', 'dropout_l23': 0.2695997414096649, 'batch_norm_l23': True, 'l2_reg_l23': 0.0009675656638318569, 'n_units_l24': 128, 'activation_l24': 'ELU', 'dropout_l24': 0.4075031348951498, 'batch_norm_l24': False, 'l2_reg_l24': 6.791591628087783e-05, 'n_units_l25': 16, 'activation_l25': 'SELU', 'dropout_l25': 0.031008413588131667, 'batch_norm_l25': True, 'l2_reg_l25': 0.021940901820077716, 'n_units_l26': 32, 'activation_l26': 'SELU', 'dropout_l26': 0.33564923934766483, 'batch_norm_l26': False, 'l2_reg_l26': 0.0005775212258955291, 'n_units_l27': 2048, 'activation_l27': 'ReLU', 'dropout_l27': 0.1493454528472894, 'batch_norm_l27': True, 'l2_reg_l27': 3.749721431532968e-05, 'n_units_l28': 16, 'activation_l28': 'ReLU', 'dropout_l28': 0.10656551918610796, 'batch_norm_l28': False, 'l2_reg_l28': 0.01495298498539383, 'n_units_l29': 16, 'activation_l29': 'LeakyReLU', 'dropout_l29': 0.45365429345442554, 'batch_norm_l29': False, 'l2_reg_l29': 0.0006360900551550278, 'leakyrelu_alpha_l29': 0.05755447943160968, 'n_units_l30': 256, 'activation_l30': 'ELU', 'dropout_l30': 0.24330753911909514, 'batch_norm_l30': False, 'l2_reg_l30': 0.0006106559779927261, 'n_units_l31': 128, 'activation_l31': 'SELU', 'dropout_l31': 0.11885744653412045, 'batch_norm_l31': False, 'l2_reg_l31': 0.0006786261022965093, 'n_units_l32': 128, 'activation_l32': 'LeakyReLU', 'dropout_l32': 0.26834128928188244, 'batch_norm_l32': True, 'l2_reg_l32': 3.1297837002486304e-05, 'leakyrelu_alpha_l32': 0.23361505099657662, 'n_units_l33': 128, 'activation_l33': 'ReLU', 'dropout_l33': 0.02727257346651024, 'batch_norm_l33': True, 'l2_reg_l33': 0.004274511714550722, 'n_units_l34': 32, 'activation_l34': 'ELU', 'dropout_l34': 0.20289609042676288, 'batch_norm_l34': True, 'l2_reg_l34': 1.4460595012934525e-05, 'n_units_l35': 2048, 'activation_l35': 'LeakyReLU', 'dropout_l35': 0.09247112486440467, 'batch_norm_l35': False, 'l2_reg_l35': 0.00018183086328067623, 'leakyrelu_alpha_l35': 0.10092614651845798, 'n_units_l36': 1024, 'activation_l36': 'ReLU', 'dropout_l36': 0.28371618945376126, 'batch_norm_l36': True, 'l2_reg_l36': 0.001176021294863904, 'n_units_l37': 2048, 'activation_l37': 'ELU', 'dropout_l37': 0.3932244656376945, 'batch_norm_l37': False, 'l2_reg_l37': 0.018851582584790454, 'n_units_l38': 32, 'activation_l38': 'LeakyReLU', 'dropout_l38': 0.4743358170807061, 'batch_norm_l38': False, 'l2_reg_l38': 6.270707718088853e-05, 'leakyrelu_alpha_l38': 0.03467533601961142, 'n_units_l39': 16, 'activation_l39': 'Tanh', 'dropout_l39': 0.21104509643997, 'batch_norm_l39': False, 'l2_reg_l39': 0.01455793748002974, 'n_units_l40': 256, 'activation_l40': 'SELU', 'dropout_l40': 0.1772167493139412, 'batch_norm_l40': False, 'l2_reg_l40': 3.08054401971193e-05, 'n_units_l41': 128, 'activation_l41': 'SELU', 'dropout_l41': 0.03234398013379841, 'batch_norm_l41': True, 'l2_reg_l41': 0.0021956697388147007, 'n_units_l42': 32, 'activation_l42': 'LeakyReLU', 'dropout_l42': 0.14306977071168925, 'batch_norm_l42': True, 'l2_reg_l42': 4.057248270876432e-05, 'leakyrelu_alpha_l42': 0.11996075311639971, 'n_units_l43': 2048, 'activation_l43': 'ELU', 'dropout_l43': 0.13743640918808625, 'batch_norm_l43': False, 'l2_reg_l43': 0.0026369209942682143, 'n_units_l44': 128, 'activation_l44': 'SELU', 'dropout_l44': 0.399863626235713, 'batch_norm_l44': True, 'l2_reg_l44': 3.1170000177596823e-05, 'n_units_l45': 2048, 'activation_l45': 'ReLU', 'dropout_l45': 0.2022836410050371, 'batch_norm_l45': False, 'l2_reg_l45': 0.0003181898039023902, 'n_units_l46': 128, 'activation_l46': 'SELU', 'dropout_l46': 0.309619569832086, 'batch_norm_l46': True, 'l2_reg_l46': 0.0004457380509658833, 'res_connection_index_l46': 0, 'n_units_l47': 2048, 'activation_l47': 'ReLU', 'dropout_l47': 0.03226900707205771, 'batch_norm_l47': False, 'l2_reg_l47': 0.017978074366883534, 'res_connection_index_l47': 0, 'n_units_l48': 128, 'activation_l48': 'LeakyReLU', 'dropout_l48': 0.3484766639491407, 'batch_norm_l48': True, 'l2_reg_l48': 0.0008383974583886662, 'leakyrelu_alpha_l48': 0.29538165679745965, 'res_connection_index_l48': 1, 'n_units_l49': 1024, 'activation_l49': 'SELU', 'dropout_l49': 0.19951709518124983, 'batch_norm_l49': True, 'l2_reg_l49': 0.09462438863544174, 'res_connection_index_l49': 0, 'n_units_l50': 64, 'activation_l50': 'Tanh', 'dropout_l50': 0.26259632743768485, 'batch_norm_l50': True, 'l2_reg_l50': 0.006398844602344901, 'res_connection_index_l50': 0, 'n_units_l51': 128, 'activation_l51': 'ELU', 'dropout_l51': 0.45435853170150725, 'batch_norm_l51': True, 'l2_reg_l51': 0.023867554736721072, 'res_connection_index_l51': 1, 'n_units_l52': 16, 'activation_l52': 'LeakyReLU', 'dropout_l52': 0.4946329454275001, 'batch_norm_l52': False, 'l2_reg_l52': 4.799473546481969e-05, 'leakyrelu_alpha_l52': 0.07203953403914498, 'res_connection_index_l52': 0, 'n_units_l53': 1024, 'activation_l53': 'SELU', 'dropout_l53': 0.23107246848190066, 'batch_norm_l53': True, 'l2_reg_l53': 0.001166911855632249, 'res_connection_index_l53': 1, 'n_units_l54': 512, 'activation_l54': 'LeakyReLU', 'dropout_l54': 0.23532587301082264, 'batch_norm_l54': False, 'l2_reg_l54': 7.630045553173736e-05, 'leakyrelu_alpha_l54': 0.2600930275320885, 'res_connection_index_l54': 0, 'n_units_l55': 512, 'activation_l55': 'ELU', 'dropout_l55': 0.18614372671853557, 'batch_norm_l55': False, 'l2_reg_l55': 0.001209191596756179, 'res_connection_index_l55': 0, 'n_units_l56': 2048, 'activation_l56': 'SELU', 'dropout_l56': 0.23780659355880812, 'batch_norm_l56': True, 'l2_reg_l56': 0.0006452879317481046, 'res_connection_index_l56': 0, 'n_units_l57': 32, 'activation_l57': 'Tanh', 'dropout_l57': 0.06801863870312663, 'batch_norm_l57': False, 'l2_reg_l57': 0.014805738673404033, 'res_connection_index_l57': 0, 'n_units_l58': 256, 'activation_l58': 'ReLU', 'dropout_l58': 0.10610345460930054, 'batch_norm_l58': False, 'l2_reg_l58': 2.1465506906852463e-05, 'res_connection_index_l58': 0, 'n_units_l59': 16, 'activation_l59': 'Tanh', 'dropout_l59': 0.1787078444143967, 'batch_norm_l59': True, 'l2_reg_l59': 1.9058258321443886e-05, 'res_connection_index_l59': 0, 'n_units_l60': 128, 'activation_l60': 'SELU', 'dropout_l60': 0.48086357113673733, 'batch_norm_l60': False, 'l2_reg_l60': 0.000739101649457408, 'res_connection_index_l60': 3, 'n_units_l61': 512, 'activation_l61': 'LeakyReLU', 'dropout_l61': 0.14515633487599966, 'batch_norm_l61': True, 'l2_reg_l61': 0.00026443540624792206, 'leakyrelu_alpha_l61': 0.20570117711840816, 'res_connection_index_l61': 1, 'n_units_l62': 1024, 'activation_l62': 'Tanh', 'dropout_l62': 0.4902731093269919, 'batch_norm_l62': False, 'l2_reg_l62': 0.0014162702130774507, 'res_connection_index_l62': 2, 'n_units_l63': 64, 'activation_l63': 'ELU', 'dropout_l63': 0.24354409020476409, 'batch_norm_l63': True, 'l2_reg_l63': 0.04397801391978478, 'res_connection_index_l63': 1, 'n_units_l64': 256, 'activation_l64': 'ReLU', 'dropout_l64': 0.2817774445053441, 'batch_norm_l64': False, 'l2_reg_l64': 0.0007685924578487629, 'res_connection_index_l64': 1, 'n_units_l65': 2048, 'activation_l65': 'Tanh', 'dropout_l65': 0.47672799813391087, 'batch_norm_l65': False, 'l2_reg_l65': 0.000500127077763147, 'res_connection_index_l65': 1, 'n_units_l66': 32, 'activation_l66': 'LeakyReLU', 'dropout_l66': 0.2342529921879719, 'batch_norm_l66': True, 'l2_reg_l66': 8.347447360720793e-05, 'leakyrelu_alpha_l66': 0.268513391004778, 'res_connection_index_l66': 1, 'n_units_l67': 512, 'activation_l67': 'ReLU', 'dropout_l67': 0.43011233947644195, 'batch_norm_l67': True, 'l2_reg_l67': 3.909495503291579e-05, 'res_connection_index_l67': 1, 'n_units_l68': 1024, 'activation_l68': 'LeakyReLU', 'dropout_l68': 0.056445423299724407, 'batch_norm_l68': True, 'l2_reg_l68': 0.00985108976742309, 'leakyrelu_alpha_l68': 0.2841076284373593, 'res_connection_index_l68': 0, 'n_units_l69': 2048, 'activation_l69': 'LeakyReLU', 'dropout_l69': 0.08369053331469556, 'batch_norm_l69': True, 'l2_reg_l69': 0.005210438425225943, 'leakyrelu_alpha_l69': 0.04545552305171783, 'res_connection_index_l69': 0, 'n_units_l70': 1024, 'activation_l70': 'Tanh', 'dropout_l70': 0.06074371856871191, 'batch_norm_l70': True, 'l2_reg_l70': 0.020224450519490306, 'res_connection_index_l70': 1, 'n_units_l71': 16, 'activation_l71': 'Tanh', 'dropout_l71': 0.32113604991535827, 'batch_norm_l71': False, 'l2_reg_l71': 5.4529207730918065e-05, 'res_connection_index_l71': 2, 'n_units_l72': 16, 'activation_l72': 'SELU', 'dropout_l72': 0.05123236411481441, 'batch_norm_l72': True, 'l2_reg_l72': 0.00015416448651334175, 'res_connection_index_l72': 0, 'n_units_l73': 16, 'activation_l73': 'LeakyReLU', 'dropout_l73': 0.24172478437099487, 'batch_norm_l73': True, 'l2_reg_l73': 2.2645216857012183e-05, 'leakyrelu_alpha_l73': 0.14882405372536772, 'res_connection_index_l73': 1, 'n_units_l74': 32, 'activation_l74': 'ELU', 'dropout_l74': 0.05052987683613497, 'batch_norm_l74': False, 'l2_reg_l74': 0.010084260942692783, 'res_connection_index_l74': 2, 'n_units_l75': 512, 'activation_l75': 'SELU', 'dropout_l75': 0.0019145985916268482, 'batch_norm_l75': False, 'l2_reg_l75': 0.03182155081117273, 'res_connection_index_l75': 1, 'n_units_l76': 32, 'activation_l76': 'Tanh', 'dropout_l76': 0.20465577116632078, 'batch_norm_l76': False, 'l2_reg_l76': 7.678800394948483e-05, 'res_connection_index_l76': 2, 'n_units_l77': 16, 'activation_l77': 'ReLU', 'dropout_l77': 0.2807463721366182, 'batch_norm_l77': True, 'l2_reg_l77': 0.00013483260854436799, 'res_connection_index_l77': 4, 'n_units_l78': 1024, 'activation_l78': 'Tanh', 'dropout_l78': 0.4739378949727794, 'batch_norm_l78': False, 'l2_reg_l78': 0.0001592360457672015, 'res_connection_index_l78': 1, 'n_units_l79': 512, 'activation_l79': 'ReLU', 'dropout_l79': 0.10893597401759597, 'batch_norm_l79': True, 'l2_reg_l79': 0.024895549330285992, 'res_connection_index_l79': 4, 'n_units_l80': 64, 'activation_l80': 'ELU', 'dropout_l80': 0.250260904693247, 'batch_norm_l80': True, 'l2_reg_l80': 4.240182316672971e-05, 'res_connection_index_l80': 0, 'n_units_l81': 2048, 'activation_l81': 'Tanh', 'dropout_l81': 0.0258692773189399, 'batch_norm_l81': True, 'l2_reg_l81': 1.5063491710147642e-05, 'res_connection_index_l81': 2, 'n_units_l82': 256, 'activation_l82': 'ELU', 'dropout_l82': 0.0019856531982284653, 'batch_norm_l82': False, 'l2_reg_l82': 0.06396330724300896, 'res_connection_index_l82': 2, 'n_units_l83': 256, 'activation_l83': 'SELU', 'dropout_l83': 0.21365208586236945, 'batch_norm_l83': True, 'l2_reg_l83': 0.020150578413512966, 'res_connection_index_l83': 0, 'optimizer': 'SGD', 'lr': 0.0007327224927952171, 'sgd_momentum': 0.5298301750552818, 'epochs': 1320, 'batch_size': 128, 'early_stopping_patience': 11, 'lr_reduce_factor': 0.7768344298478013, 'lr_reduce_patience': 41, 'min_lr': 7.122826857762862e-06}. Best is trial 7 with value: 0.8367534456355283.\u001b[0m\n"
     ]
    },
    {
     "name": "stdout",
     "output_type": "stream",
     "text": [
      "Usando GPU para el Trial 12\n",
      "Entrenando Trial 12...\n"
     ]
    },
    {
     "name": "stderr",
     "output_type": "stream",
     "text": [
      "                                                                                                                                                                                                                                                        \r"
     ]
    },
    {
     "name": "stdout",
     "output_type": "stream",
     "text": [
      "Early stopping\n",
      "Trial 12 completado. Mejor precisión en validación: 0.8346094946401225\n"
     ]
    },
    {
     "name": "stderr",
     "output_type": "stream",
     "text": [
      "\u001b[32m[I 2023-11-29 19:57:02,537]\u001b[0m Trial 12 finished with value: 0.8346094946401225 and parameters: {'n_layers': 20, 'residual_threshold_factor': 0.934005761178432, 'n_units_l0': 32, 'activation_l0': 'LeakyReLU', 'dropout_l0': 0.34296551037248907, 'batch_norm_l0': True, 'l2_reg_l0': 0.0006900402086462591, 'leakyrelu_alpha_l0': 0.10100540192442413, 'n_units_l1': 2048, 'activation_l1': 'LeakyReLU', 'dropout_l1': 0.11558832149013282, 'batch_norm_l1': False, 'l2_reg_l1': 0.0860878193092133, 'leakyrelu_alpha_l1': 0.08438931894374214, 'n_units_l2': 32, 'activation_l2': 'ReLU', 'dropout_l2': 0.28672216678925455, 'batch_norm_l2': False, 'l2_reg_l2': 1.2751623814682231e-05, 'n_units_l3': 32, 'activation_l3': 'LeakyReLU', 'dropout_l3': 0.4260344783863561, 'batch_norm_l3': False, 'l2_reg_l3': 5.657202566243551e-05, 'leakyrelu_alpha_l3': 0.13284669184987127, 'n_units_l4': 512, 'activation_l4': 'ReLU', 'dropout_l4': 0.28024868283995075, 'batch_norm_l4': False, 'l2_reg_l4': 1.0152124748897077e-05, 'n_units_l5': 256, 'activation_l5': 'ReLU', 'dropout_l5': 0.21162106346151316, 'batch_norm_l5': False, 'l2_reg_l5': 1.0350124346399877e-05, 'n_units_l6': 128, 'activation_l6': 'LeakyReLU', 'dropout_l6': 0.14271737189666722, 'batch_norm_l6': True, 'l2_reg_l6': 3.816055635670412e-05, 'leakyrelu_alpha_l6': 0.26317161005002093, 'n_units_l7': 256, 'activation_l7': 'SELU', 'dropout_l7': 0.3791165273191172, 'batch_norm_l7': False, 'l2_reg_l7': 0.023195896116473345, 'n_units_l8': 512, 'activation_l8': 'ReLU', 'dropout_l8': 0.2965340937822451, 'batch_norm_l8': True, 'l2_reg_l8': 0.0769771317776936, 'n_units_l9': 512, 'activation_l9': 'LeakyReLU', 'dropout_l9': 0.09535082585123983, 'batch_norm_l9': True, 'l2_reg_l9': 4.2176121757606334e-05, 'leakyrelu_alpha_l9': 0.14776354533549668, 'n_units_l10': 16, 'activation_l10': 'LeakyReLU', 'dropout_l10': 0.3591420444190805, 'batch_norm_l10': False, 'l2_reg_l10': 0.007371717907509313, 'leakyrelu_alpha_l10': 0.010710957924186547, 'n_units_l11': 64, 'activation_l11': 'LeakyReLU', 'dropout_l11': 0.28750320749040836, 'batch_norm_l11': False, 'l2_reg_l11': 0.00016262732917761836, 'leakyrelu_alpha_l11': 0.11273886387492839, 'n_units_l12': 1024, 'activation_l12': 'ELU', 'dropout_l12': 0.33322017147990324, 'batch_norm_l12': True, 'l2_reg_l12': 0.03456282234988146, 'n_units_l13': 32, 'activation_l13': 'ELU', 'dropout_l13': 0.3737405952152954, 'batch_norm_l13': True, 'l2_reg_l13': 5.857382471658879e-05, 'n_units_l14': 32, 'activation_l14': 'SELU', 'dropout_l14': 0.0642909527089281, 'batch_norm_l14': True, 'l2_reg_l14': 0.0962901089865186, 'n_units_l15': 1024, 'activation_l15': 'ReLU', 'dropout_l15': 0.1795362054953667, 'batch_norm_l15': True, 'l2_reg_l15': 0.0099425467014262, 'n_units_l16': 64, 'activation_l16': 'Tanh', 'dropout_l16': 0.09623603359532401, 'batch_norm_l16': True, 'l2_reg_l16': 0.04081979715958558, 'n_units_l17': 32, 'activation_l17': 'ELU', 'dropout_l17': 0.1488264743450466, 'batch_norm_l17': False, 'l2_reg_l17': 2.0170507207553604e-05, 'n_units_l18': 256, 'activation_l18': 'ELU', 'dropout_l18': 0.05390948462605033, 'batch_norm_l18': True, 'l2_reg_l18': 0.0036600458969582735, 'res_connection_index_l18': 0, 'n_units_l19': 512, 'activation_l19': 'ReLU', 'dropout_l19': 0.08192354140356917, 'batch_norm_l19': True, 'l2_reg_l19': 0.0007251395935945066, 'res_connection_index_l19': 0, 'optimizer': 'RMSprop', 'lr': 0.02723039230910692, 'rmsprop_alpha': 0.8843760647040189, 'epochs': 390, 'batch_size': 32, 'early_stopping_patience': 15, 'lr_reduce_factor': 0.4442044390615586, 'lr_reduce_patience': 27, 'min_lr': 4.6206777674231345e-06}. Best is trial 7 with value: 0.8367534456355283.\u001b[0m\n"
     ]
    },
    {
     "name": "stdout",
     "output_type": "stream",
     "text": [
      "Usando GPU para el Trial 13\n",
      "Entrenando Trial 13...\n"
     ]
    },
    {
     "name": "stderr",
     "output_type": "stream",
     "text": [
      "                                                                                                                                                                                                                                                        \r"
     ]
    },
    {
     "name": "stdout",
     "output_type": "stream",
     "text": [
      "Early stopping\n",
      "Trial 13 completado. Mejor precisión en validación: 0.678407350689127\n"
     ]
    },
    {
     "name": "stderr",
     "output_type": "stream",
     "text": [
      "\u001b[32m[I 2023-11-29 20:01:55,647]\u001b[0m Trial 13 finished with value: 0.678407350689127 and parameters: {'n_layers': 58, 'residual_threshold_factor': 0.7404501682985605, 'n_units_l0': 64, 'activation_l0': 'LeakyReLU', 'dropout_l0': 0.06932588921288318, 'batch_norm_l0': True, 'l2_reg_l0': 0.01320328515387543, 'leakyrelu_alpha_l0': 0.08881127468131841, 'n_units_l1': 2048, 'activation_l1': 'LeakyReLU', 'dropout_l1': 0.2649352477142999, 'batch_norm_l1': False, 'l2_reg_l1': 3.90825512558971e-05, 'leakyrelu_alpha_l1': 0.07889274514858143, 'n_units_l2': 32, 'activation_l2': 'ELU', 'dropout_l2': 0.008423342164672387, 'batch_norm_l2': True, 'l2_reg_l2': 0.006232084396575342, 'n_units_l3': 512, 'activation_l3': 'SELU', 'dropout_l3': 0.053283813866994434, 'batch_norm_l3': True, 'l2_reg_l3': 0.00960414028056851, 'n_units_l4': 32, 'activation_l4': 'Tanh', 'dropout_l4': 0.10237295857232359, 'batch_norm_l4': False, 'l2_reg_l4': 1.0144664602868703e-05, 'n_units_l5': 32, 'activation_l5': 'ELU', 'dropout_l5': 0.439605003490324, 'batch_norm_l5': False, 'l2_reg_l5': 0.002112879537710283, 'n_units_l6': 16, 'activation_l6': 'SELU', 'dropout_l6': 0.3728358807115113, 'batch_norm_l6': True, 'l2_reg_l6': 0.06444596394252208, 'n_units_l7': 32, 'activation_l7': 'LeakyReLU', 'dropout_l7': 0.0953241139730609, 'batch_norm_l7': True, 'l2_reg_l7': 0.0034182758417747755, 'leakyrelu_alpha_l7': 0.23244549612688786, 'n_units_l8': 32, 'activation_l8': 'Tanh', 'dropout_l8': 0.412955766648349, 'batch_norm_l8': True, 'l2_reg_l8': 0.0018882332344555854, 'n_units_l9': 16, 'activation_l9': 'ELU', 'dropout_l9': 0.07712269406162203, 'batch_norm_l9': True, 'l2_reg_l9': 2.1169673515345e-05, 'n_units_l10': 16, 'activation_l10': 'ELU', 'dropout_l10': 0.20439633322243878, 'batch_norm_l10': False, 'l2_reg_l10': 0.00012601949805675093, 'n_units_l11': 2048, 'activation_l11': 'Tanh', 'dropout_l11': 0.36281238610514804, 'batch_norm_l11': True, 'l2_reg_l11': 0.021815518658613257, 'n_units_l12': 128, 'activation_l12': 'LeakyReLU', 'dropout_l12': 0.12769611904018036, 'batch_norm_l12': True, 'l2_reg_l12': 7.397055279391341e-05, 'leakyrelu_alpha_l12': 0.14857341654629158, 'n_units_l13': 256, 'activation_l13': 'Tanh', 'dropout_l13': 0.004053165921373003, 'batch_norm_l13': True, 'l2_reg_l13': 3.7869623818131814e-05, 'n_units_l14': 32, 'activation_l14': 'ELU', 'dropout_l14': 0.4256023798743598, 'batch_norm_l14': False, 'l2_reg_l14': 0.06072793836554095, 'n_units_l15': 128, 'activation_l15': 'LeakyReLU', 'dropout_l15': 0.10513535016165254, 'batch_norm_l15': False, 'l2_reg_l15': 0.002940648579661124, 'leakyrelu_alpha_l15': 0.15772218900985785, 'n_units_l16': 2048, 'activation_l16': 'Tanh', 'dropout_l16': 0.41019769111016824, 'batch_norm_l16': True, 'l2_reg_l16': 3.4449949179059686e-05, 'n_units_l17': 32, 'activation_l17': 'ELU', 'dropout_l17': 0.05443561140333619, 'batch_norm_l17': True, 'l2_reg_l17': 0.0001266950727161833, 'n_units_l18': 1024, 'activation_l18': 'SELU', 'dropout_l18': 0.1717221199930114, 'batch_norm_l18': False, 'l2_reg_l18': 0.00030666877054027114, 'n_units_l19': 128, 'activation_l19': 'Tanh', 'dropout_l19': 0.44511832109053345, 'batch_norm_l19': True, 'l2_reg_l19': 0.003282009422270475, 'n_units_l20': 512, 'activation_l20': 'ReLU', 'dropout_l20': 0.008000420381211737, 'batch_norm_l20': False, 'l2_reg_l20': 0.06560383195111201, 'n_units_l21': 512, 'activation_l21': 'ReLU', 'dropout_l21': 0.2293517150785514, 'batch_norm_l21': False, 'l2_reg_l21': 3.374757532382612e-05, 'n_units_l22': 256, 'activation_l22': 'Tanh', 'dropout_l22': 0.05855080381843947, 'batch_norm_l22': True, 'l2_reg_l22': 0.011164085338763648, 'n_units_l23': 512, 'activation_l23': 'LeakyReLU', 'dropout_l23': 0.11996156663858809, 'batch_norm_l23': False, 'l2_reg_l23': 0.0013941174475476297, 'leakyrelu_alpha_l23': 0.17707589737633986, 'n_units_l24': 1024, 'activation_l24': 'ReLU', 'dropout_l24': 0.13156333340988047, 'batch_norm_l24': True, 'l2_reg_l24': 0.006593595543652936, 'n_units_l25': 16, 'activation_l25': 'ReLU', 'dropout_l25': 0.0036113552570092855, 'batch_norm_l25': True, 'l2_reg_l25': 1.9876458076972e-05, 'n_units_l26': 512, 'activation_l26': 'LeakyReLU', 'dropout_l26': 0.378828522299303, 'batch_norm_l26': True, 'l2_reg_l26': 0.00956136919498955, 'leakyrelu_alpha_l26': 0.21171327055286976, 'n_units_l27': 2048, 'activation_l27': 'ELU', 'dropout_l27': 0.4060654923589487, 'batch_norm_l27': True, 'l2_reg_l27': 0.009103947835334374, 'n_units_l28': 128, 'activation_l28': 'LeakyReLU', 'dropout_l28': 0.4941136506416889, 'batch_norm_l28': False, 'l2_reg_l28': 0.00014528747086700253, 'leakyrelu_alpha_l28': 0.27224859631563064, 'n_units_l29': 256, 'activation_l29': 'SELU', 'dropout_l29': 0.4525798483087895, 'batch_norm_l29': True, 'l2_reg_l29': 0.009037552584949132, 'n_units_l30': 64, 'activation_l30': 'SELU', 'dropout_l30': 0.10047680535257203, 'batch_norm_l30': True, 'l2_reg_l30': 0.004943148837955788, 'n_units_l31': 128, 'activation_l31': 'Tanh', 'dropout_l31': 0.42018900142784743, 'batch_norm_l31': False, 'l2_reg_l31': 0.0009578435478635587, 'n_units_l32': 64, 'activation_l32': 'ReLU', 'dropout_l32': 0.1991851285555496, 'batch_norm_l32': True, 'l2_reg_l32': 6.354328047511782e-05, 'n_units_l33': 16, 'activation_l33': 'Tanh', 'dropout_l33': 0.42487023711942784, 'batch_norm_l33': False, 'l2_reg_l33': 0.03540938675405542, 'n_units_l34': 2048, 'activation_l34': 'ELU', 'dropout_l34': 0.05893838663652584, 'batch_norm_l34': False, 'l2_reg_l34': 0.017264849905132332, 'n_units_l35': 1024, 'activation_l35': 'ELU', 'dropout_l35': 0.39299839111326934, 'batch_norm_l35': True, 'l2_reg_l35': 0.0003083850303436716, 'n_units_l36': 2048, 'activation_l36': 'ELU', 'dropout_l36': 0.37796292733898845, 'batch_norm_l36': True, 'l2_reg_l36': 0.006796214356426686, 'n_units_l37': 1024, 'activation_l37': 'LeakyReLU', 'dropout_l37': 0.3230877387436539, 'batch_norm_l37': True, 'l2_reg_l37': 0.00048774928815764574, 'leakyrelu_alpha_l37': 0.2912309861810438, 'n_units_l38': 1024, 'activation_l38': 'ReLU', 'dropout_l38': 0.49697973937835743, 'batch_norm_l38': True, 'l2_reg_l38': 3.608000381241481e-05, 'n_units_l39': 64, 'activation_l39': 'ReLU', 'dropout_l39': 0.4023329795865378, 'batch_norm_l39': True, 'l2_reg_l39': 0.00020078417766835393, 'n_units_l40': 16, 'activation_l40': 'ELU', 'dropout_l40': 0.05935801532780727, 'batch_norm_l40': False, 'l2_reg_l40': 7.885002422991708e-05, 'n_units_l41': 128, 'activation_l41': 'Tanh', 'dropout_l41': 0.02478175797623433, 'batch_norm_l41': False, 'l2_reg_l41': 0.07444829844773532, 'n_units_l42': 64, 'activation_l42': 'ELU', 'dropout_l42': 0.39111165553489785, 'batch_norm_l42': True, 'l2_reg_l42': 0.027869376242774153, 'res_connection_index_l42': 0, 'n_units_l43': 16, 'activation_l43': 'ELU', 'dropout_l43': 0.4503435739812453, 'batch_norm_l43': True, 'l2_reg_l43': 0.0003796170035800411, 'res_connection_index_l43': 0, 'n_units_l44': 16, 'activation_l44': 'SELU', 'dropout_l44': 0.19952955750181467, 'batch_norm_l44': True, 'l2_reg_l44': 0.002824422244406345, 'res_connection_index_l44': 1, 'n_units_l45': 64, 'activation_l45': 'LeakyReLU', 'dropout_l45': 0.09436448282886845, 'batch_norm_l45': False, 'l2_reg_l45': 0.0004156961090320661, 'leakyrelu_alpha_l45': 0.03282074459134828, 'res_connection_index_l45': 0, 'n_units_l46': 256, 'activation_l46': 'ELU', 'dropout_l46': 0.49502621606144076, 'batch_norm_l46': False, 'l2_reg_l46': 0.001981754741142283, 'res_connection_index_l46': 0, 'n_units_l47': 1024, 'activation_l47': 'ReLU', 'dropout_l47': 0.37756734426702515, 'batch_norm_l47': False, 'l2_reg_l47': 0.0001169823271169489, 'res_connection_index_l47': 0, 'n_units_l48': 2048, 'activation_l48': 'LeakyReLU', 'dropout_l48': 0.1591850332323126, 'batch_norm_l48': True, 'l2_reg_l48': 0.00020915168729686558, 'leakyrelu_alpha_l48': 0.1248266241424332, 'res_connection_index_l48': 0, 'n_units_l49': 256, 'activation_l49': 'LeakyReLU', 'dropout_l49': 0.04223944569362975, 'batch_norm_l49': False, 'l2_reg_l49': 0.002787105575854199, 'leakyrelu_alpha_l49': 0.09682731274078023, 'res_connection_index_l49': 1, 'n_units_l50': 1024, 'activation_l50': 'SELU', 'dropout_l50': 0.3431185727963228, 'batch_norm_l50': False, 'l2_reg_l50': 0.06854493571047811, 'res_connection_index_l50': 1, 'n_units_l51': 2048, 'activation_l51': 'ReLU', 'dropout_l51': 0.4904802383843099, 'batch_norm_l51': False, 'l2_reg_l51': 0.0041202964106661355, 'res_connection_index_l51': 1, 'n_units_l52': 1024, 'activation_l52': 'ELU', 'dropout_l52': 0.41675475846006843, 'batch_norm_l52': True, 'l2_reg_l52': 0.0009729881037367066, 'res_connection_index_l52': 2, 'n_units_l53': 2048, 'activation_l53': 'Tanh', 'dropout_l53': 0.06320575403057543, 'batch_norm_l53': False, 'l2_reg_l53': 4.0361234965171345e-05, 'res_connection_index_l53': 2, 'n_units_l54': 1024, 'activation_l54': 'ReLU', 'dropout_l54': 0.41107860902929483, 'batch_norm_l54': False, 'l2_reg_l54': 0.004367814059634981, 'res_connection_index_l54': 0, 'n_units_l55': 16, 'activation_l55': 'SELU', 'dropout_l55': 0.4572496885584442, 'batch_norm_l55': False, 'l2_reg_l55': 0.04057722979042528, 'res_connection_index_l55': 1, 'n_units_l56': 1024, 'activation_l56': 'Tanh', 'dropout_l56': 0.09015959216709679, 'batch_norm_l56': False, 'l2_reg_l56': 4.085965767030433e-05, 'res_connection_index_l56': 1, 'n_units_l57': 256, 'activation_l57': 'LeakyReLU', 'dropout_l57': 0.3834133197157658, 'batch_norm_l57': False, 'l2_reg_l57': 2.8193758350427843e-05, 'leakyrelu_alpha_l57': 0.1586363591890192, 'res_connection_index_l57': 0, 'optimizer': 'Adam', 'lr': 0.005267694845685765, 'adam_beta1': 0.8560573350505156, 'adam_beta2': 0.9412524206632946, 'epochs': 1308, 'batch_size': 32, 'early_stopping_patience': 13, 'lr_reduce_factor': 0.39432917277573787, 'lr_reduce_patience': 21, 'min_lr': 1.7248982268700876e-06}. Best is trial 7 with value: 0.8367534456355283.\u001b[0m\n"
     ]
    },
    {
     "name": "stdout",
     "output_type": "stream",
     "text": [
      "Usando GPU para el Trial 14\n",
      "Entrenando Trial 14...\n"
     ]
    },
    {
     "name": "stderr",
     "output_type": "stream",
     "text": [
      "                                                                                                                                                                                                                                                        \r"
     ]
    },
    {
     "name": "stdout",
     "output_type": "stream",
     "text": [
      "Early stopping\n",
      "Trial 14 completado. Mejor precisión en validación: 0.8177641653905053\n"
     ]
    },
    {
     "name": "stderr",
     "output_type": "stream",
     "text": [
      "\u001b[32m[I 2023-11-29 20:02:01,942]\u001b[0m Trial 14 finished with value: 0.8177641653905053 and parameters: {'n_layers': 2, 'residual_threshold_factor': 0.9801815230050902, 'n_units_l0': 512, 'activation_l0': 'ReLU', 'dropout_l0': 0.02671535137794867, 'batch_norm_l0': True, 'l2_reg_l0': 0.00011866680532861024, 'n_units_l1': 512, 'activation_l1': 'ReLU', 'dropout_l1': 0.48652982361348307, 'batch_norm_l1': True, 'l2_reg_l1': 2.128839706661056e-05, 'res_connection_index_l1': 0, 'optimizer': 'Adam', 'lr': 1.0563590068421298e-05, 'adam_beta1': 0.9025669889125986, 'adam_beta2': 0.9979140931304374, 'epochs': 1971, 'batch_size': 512, 'early_stopping_patience': 3, 'lr_reduce_factor': 0.3155439977284259, 'lr_reduce_patience': 50, 'min_lr': 8.35245434815264e-05}. Best is trial 7 with value: 0.8367534456355283.\u001b[0m\n"
     ]
    },
    {
     "name": "stdout",
     "output_type": "stream",
     "text": [
      "Usando GPU para el Trial 15\n",
      "Entrenando Trial 15...\n"
     ]
    },
    {
     "name": "stderr",
     "output_type": "stream",
     "text": [
      "                                                                                                                                                                                                                                                        \r"
     ]
    },
    {
     "name": "stdout",
     "output_type": "stream",
     "text": [
      "Early stopping\n",
      "Trial 15 completado. Mejor precisión en validación: 0.678407350689127\n"
     ]
    },
    {
     "name": "stderr",
     "output_type": "stream",
     "text": [
      "\u001b[32m[I 2023-11-29 20:02:22,796]\u001b[0m Trial 15 finished with value: 0.678407350689127 and parameters: {'n_layers': 22, 'residual_threshold_factor': 0.9877211274801159, 'n_units_l0': 128, 'activation_l0': 'ReLU', 'dropout_l0': 0.2801441915302571, 'batch_norm_l0': True, 'l2_reg_l0': 0.0001747959893594038, 'n_units_l1': 256, 'activation_l1': 'Tanh', 'dropout_l1': 0.18164289973835707, 'batch_norm_l1': False, 'l2_reg_l1': 0.09656325825394076, 'n_units_l2': 128, 'activation_l2': 'Tanh', 'dropout_l2': 0.1500113369151129, 'batch_norm_l2': True, 'l2_reg_l2': 1.0147607167513937e-05, 'n_units_l3': 32, 'activation_l3': 'ReLU', 'dropout_l3': 0.49548094061316406, 'batch_norm_l3': True, 'l2_reg_l3': 0.07272752815604197, 'n_units_l4': 64, 'activation_l4': 'SELU', 'dropout_l4': 0.3188689067670489, 'batch_norm_l4': True, 'l2_reg_l4': 0.0016113234127989806, 'n_units_l5': 2048, 'activation_l5': 'SELU', 'dropout_l5': 0.009598583441855602, 'batch_norm_l5': False, 'l2_reg_l5': 1.1030072109204182e-05, 'n_units_l6': 128, 'activation_l6': 'Tanh', 'dropout_l6': 0.1968320195306711, 'batch_norm_l6': True, 'l2_reg_l6': 4.4139856878888346e-05, 'n_units_l7': 2048, 'activation_l7': 'ReLU', 'dropout_l7': 0.2006399606382772, 'batch_norm_l7': True, 'l2_reg_l7': 0.09525891083112259, 'n_units_l8': 64, 'activation_l8': 'ELU', 'dropout_l8': 0.3340387837328114, 'batch_norm_l8': False, 'l2_reg_l8': 1.8873149101346094e-05, 'n_units_l9': 128, 'activation_l9': 'LeakyReLU', 'dropout_l9': 0.14341006627126313, 'batch_norm_l9': True, 'l2_reg_l9': 0.00017409765131488816, 'leakyrelu_alpha_l9': 0.14425324417660348, 'n_units_l10': 1024, 'activation_l10': 'LeakyReLU', 'dropout_l10': 0.05056055464139675, 'batch_norm_l10': False, 'l2_reg_l10': 0.002544566690384869, 'leakyrelu_alpha_l10': 0.027777313860761033, 'n_units_l11': 1024, 'activation_l11': 'SELU', 'dropout_l11': 0.25266841643341575, 'batch_norm_l11': False, 'l2_reg_l11': 0.0004815932623956984, 'n_units_l12': 1024, 'activation_l12': 'ReLU', 'dropout_l12': 0.49296047195801396, 'batch_norm_l12': False, 'l2_reg_l12': 0.0727555956937222, 'n_units_l13': 32, 'activation_l13': 'ELU', 'dropout_l13': 0.2792116809989923, 'batch_norm_l13': False, 'l2_reg_l13': 0.00026951046619707583, 'n_units_l14': 128, 'activation_l14': 'Tanh', 'dropout_l14': 0.07854338304906422, 'batch_norm_l14': True, 'l2_reg_l14': 0.005883008680806087, 'n_units_l15': 256, 'activation_l15': 'ReLU', 'dropout_l15': 0.01739841486917809, 'batch_norm_l15': True, 'l2_reg_l15': 0.09930751917668516, 'n_units_l16': 256, 'activation_l16': 'LeakyReLU', 'dropout_l16': 0.020193015040222972, 'batch_norm_l16': False, 'l2_reg_l16': 0.039280480742838686, 'leakyrelu_alpha_l16': 0.29088628221442336, 'n_units_l17': 512, 'activation_l17': 'Tanh', 'dropout_l17': 0.0044822557213543, 'batch_norm_l17': False, 'l2_reg_l17': 0.0007352907673617159, 'n_units_l18': 256, 'activation_l18': 'ELU', 'dropout_l18': 0.2935131094947433, 'batch_norm_l18': False, 'l2_reg_l18': 0.003092581549302036, 'n_units_l19': 512, 'activation_l19': 'ReLU', 'dropout_l19': 0.1333085297987144, 'batch_norm_l19': False, 'l2_reg_l19': 0.0008997457782687904, 'n_units_l20': 128, 'activation_l20': 'SELU', 'dropout_l20': 0.491830633809024, 'batch_norm_l20': False, 'l2_reg_l20': 0.00029442640051811816, 'n_units_l21': 1024, 'activation_l21': 'SELU', 'dropout_l21': 0.009530199327140151, 'batch_norm_l21': False, 'l2_reg_l21': 1.498688326522365e-05, 'res_connection_index_l21': 0, 'optimizer': 'RMSprop', 'lr': 0.08932697896165209, 'rmsprop_alpha': 0.8634628481230792, 'epochs': 737, 'batch_size': 256, 'early_stopping_patience': 15, 'lr_reduce_factor': 0.4193269724969851, 'lr_reduce_patience': 29, 'min_lr': 8.97699056459373e-06}. Best is trial 7 with value: 0.8367534456355283.\u001b[0m\n"
     ]
    },
    {
     "name": "stdout",
     "output_type": "stream",
     "text": [
      "Usando GPU para el Trial 16\n",
      "Entrenando Trial 16...\n"
     ]
    },
    {
     "name": "stderr",
     "output_type": "stream",
     "text": [
      "                                                                                                                                                                                                                                                        \r"
     ]
    },
    {
     "name": "stdout",
     "output_type": "stream",
     "text": [
      "Epoch 00018: reducing learning rate of group 0 to 4.0457e-05.\n"
     ]
    },
    {
     "name": "stderr",
     "output_type": "stream",
     "text": [
      "                                                                                                                                                                                                                                                        \r"
     ]
    },
    {
     "name": "stdout",
     "output_type": "stream",
     "text": [
      "Epoch 00025: reducing learning rate of group 0 to 1.1456e-05.\n"
     ]
    },
    {
     "name": "stderr",
     "output_type": "stream",
     "text": [
      "                                                                                                                                                                                                                                                        \r"
     ]
    },
    {
     "name": "stdout",
     "output_type": "stream",
     "text": [
      "Early stopping\n",
      "Trial 16 completado. Mejor precisión en validación: 0.8131699846860643\n"
     ]
    },
    {
     "name": "stderr",
     "output_type": "stream",
     "text": [
      "\u001b[32m[I 2023-11-29 20:02:35,777]\u001b[0m Trial 16 finished with value: 0.8131699846860643 and parameters: {'n_layers': 12, 'residual_threshold_factor': 0.8487928067523272, 'n_units_l0': 256, 'activation_l0': 'ELU', 'dropout_l0': 0.17052115472977453, 'batch_norm_l0': True, 'l2_reg_l0': 0.07749703588085567, 'n_units_l1': 16, 'activation_l1': 'LeakyReLU', 'dropout_l1': 0.18433836604155973, 'batch_norm_l1': True, 'l2_reg_l1': 0.006648116773840031, 'leakyrelu_alpha_l1': 0.23826265375090822, 'n_units_l2': 128, 'activation_l2': 'ReLU', 'dropout_l2': 0.18183624922298175, 'batch_norm_l2': True, 'l2_reg_l2': 5.4105771588116456e-05, 'n_units_l3': 64, 'activation_l3': 'Tanh', 'dropout_l3': 0.37501143407101667, 'batch_norm_l3': True, 'l2_reg_l3': 0.0002060055060937695, 'n_units_l4': 2048, 'activation_l4': 'LeakyReLU', 'dropout_l4': 0.20496038487142862, 'batch_norm_l4': True, 'l2_reg_l4': 0.08551684267310436, 'leakyrelu_alpha_l4': 0.06699226547460001, 'n_units_l5': 256, 'activation_l5': 'SELU', 'dropout_l5': 0.1107291796307682, 'batch_norm_l5': False, 'l2_reg_l5': 9.921356514937927e-05, 'n_units_l6': 2048, 'activation_l6': 'Tanh', 'dropout_l6': 0.2710176785707153, 'batch_norm_l6': False, 'l2_reg_l6': 0.00012177527580120068, 'n_units_l7': 256, 'activation_l7': 'Tanh', 'dropout_l7': 0.23696598491639245, 'batch_norm_l7': True, 'l2_reg_l7': 0.0006744967312364011, 'n_units_l8': 512, 'activation_l8': 'ReLU', 'dropout_l8': 0.32117288422625206, 'batch_norm_l8': False, 'l2_reg_l8': 0.0840536193214705, 'n_units_l9': 512, 'activation_l9': 'SELU', 'dropout_l9': 0.40130616910789363, 'batch_norm_l9': True, 'l2_reg_l9': 0.0002795862952650278, 'n_units_l10': 64, 'activation_l10': 'ELU', 'dropout_l10': 0.4655304469080337, 'batch_norm_l10': False, 'l2_reg_l10': 0.07984043056382566, 'res_connection_index_l10': 0, 'n_units_l11': 1024, 'activation_l11': 'LeakyReLU', 'dropout_l11': 0.033114267521603014, 'batch_norm_l11': False, 'l2_reg_l11': 0.001823739236535684, 'leakyrelu_alpha_l11': 0.23175086845079823, 'res_connection_index_l11': 0, 'optimizer': 'RMSprop', 'lr': 0.00014287664674693019, 'rmsprop_alpha': 0.8799856450029819, 'epochs': 773, 'batch_size': 1024, 'early_stopping_patience': 15, 'lr_reduce_factor': 0.2831635806501729, 'lr_reduce_patience': 5, 'min_lr': 4.501752301932236e-06}. Best is trial 7 with value: 0.8367534456355283.\u001b[0m\n"
     ]
    },
    {
     "name": "stdout",
     "output_type": "stream",
     "text": [
      "Usando GPU para el Trial 17\n",
      "Entrenando Trial 17...\n"
     ]
    },
    {
     "name": "stderr",
     "output_type": "stream",
     "text": [
      "                                                                                                                                                                                                                                                        \r"
     ]
    },
    {
     "name": "stdout",
     "output_type": "stream",
     "text": [
      "Early stopping\n",
      "Trial 17 completado. Mejor precisión en validación: 0.678407350689127\n"
     ]
    },
    {
     "name": "stderr",
     "output_type": "stream",
     "text": [
      "\u001b[32m[I 2023-11-29 20:02:50,620]\u001b[0m Trial 17 finished with value: 0.678407350689127 and parameters: {'n_layers': 40, 'residual_threshold_factor': 0.7892202626130553, 'n_units_l0': 32, 'activation_l0': 'SELU', 'dropout_l0': 0.29550802046432895, 'batch_norm_l0': True, 'l2_reg_l0': 0.00011998178630394222, 'n_units_l1': 1024, 'activation_l1': 'ReLU', 'dropout_l1': 0.11137412167046629, 'batch_norm_l1': False, 'l2_reg_l1': 0.0985469241062351, 'n_units_l2': 256, 'activation_l2': 'Tanh', 'dropout_l2': 0.2016808134161827, 'batch_norm_l2': True, 'l2_reg_l2': 0.07720049669227846, 'n_units_l3': 128, 'activation_l3': 'SELU', 'dropout_l3': 0.39027249851028917, 'batch_norm_l3': True, 'l2_reg_l3': 1.003102030742605e-05, 'n_units_l4': 256, 'activation_l4': 'LeakyReLU', 'dropout_l4': 0.20603542420416254, 'batch_norm_l4': True, 'l2_reg_l4': 0.00029554926935285543, 'leakyrelu_alpha_l4': 0.15999879653756668, 'n_units_l5': 128, 'activation_l5': 'ELU', 'dropout_l5': 0.003092022137259398, 'batch_norm_l5': False, 'l2_reg_l5': 1.539179939271101e-05, 'n_units_l6': 32, 'activation_l6': 'LeakyReLU', 'dropout_l6': 0.12689211882999946, 'batch_norm_l6': True, 'l2_reg_l6': 1.0369899848976952e-05, 'leakyrelu_alpha_l6': 0.29109121179513997, 'n_units_l7': 64, 'activation_l7': 'ReLU', 'dropout_l7': 0.03831266547307571, 'batch_norm_l7': False, 'l2_reg_l7': 0.009235355122620173, 'n_units_l8': 2048, 'activation_l8': 'ReLU', 'dropout_l8': 0.20287023068521737, 'batch_norm_l8': True, 'l2_reg_l8': 1.8859507458750602e-05, 'n_units_l9': 64, 'activation_l9': 'ReLU', 'dropout_l9': 0.1443085541654508, 'batch_norm_l9': True, 'l2_reg_l9': 1.0763077785164933e-05, 'n_units_l10': 256, 'activation_l10': 'LeakyReLU', 'dropout_l10': 0.012742726595168452, 'batch_norm_l10': False, 'l2_reg_l10': 0.000827216880499864, 'leakyrelu_alpha_l10': 0.014933836529059327, 'n_units_l11': 32, 'activation_l11': 'LeakyReLU', 'dropout_l11': 0.39998321475988075, 'batch_norm_l11': True, 'l2_reg_l11': 0.00017651370668244482, 'leakyrelu_alpha_l11': 0.013022862537021382, 'n_units_l12': 1024, 'activation_l12': 'ELU', 'dropout_l12': 0.21158478736163278, 'batch_norm_l12': False, 'l2_reg_l12': 0.0012440313917948412, 'n_units_l13': 512, 'activation_l13': 'ELU', 'dropout_l13': 0.49920721164820975, 'batch_norm_l13': False, 'l2_reg_l13': 0.0001318227638120093, 'n_units_l14': 16, 'activation_l14': 'SELU', 'dropout_l14': 0.10905024213292597, 'batch_norm_l14': True, 'l2_reg_l14': 1.1642024070473243e-05, 'n_units_l15': 1024, 'activation_l15': 'ReLU', 'dropout_l15': 0.009594993573668498, 'batch_norm_l15': True, 'l2_reg_l15': 0.0006211695151266475, 'n_units_l16': 64, 'activation_l16': 'LeakyReLU', 'dropout_l16': 0.02445300084344186, 'batch_norm_l16': True, 'l2_reg_l16': 0.03277496272816592, 'leakyrelu_alpha_l16': 0.29990780253442995, 'n_units_l17': 128, 'activation_l17': 'Tanh', 'dropout_l17': 0.12631171849881725, 'batch_norm_l17': False, 'l2_reg_l17': 1.094257879515248e-05, 'n_units_l18': 128, 'activation_l18': 'ELU', 'dropout_l18': 0.47472529047703005, 'batch_norm_l18': False, 'l2_reg_l18': 0.001313571013749581, 'n_units_l19': 512, 'activation_l19': 'SELU', 'dropout_l19': 0.13164083396328455, 'batch_norm_l19': False, 'l2_reg_l19': 0.08589941243788667, 'n_units_l20': 2048, 'activation_l20': 'ELU', 'dropout_l20': 0.4892834081054942, 'batch_norm_l20': False, 'l2_reg_l20': 1.0405448210737449e-05, 'n_units_l21': 2048, 'activation_l21': 'SELU', 'dropout_l21': 0.38944924940327835, 'batch_norm_l21': False, 'l2_reg_l21': 0.00012364144351096376, 'n_units_l22': 16, 'activation_l22': 'ELU', 'dropout_l22': 0.49784080280007736, 'batch_norm_l22': False, 'l2_reg_l22': 0.006025285456471614, 'n_units_l23': 64, 'activation_l23': 'ELU', 'dropout_l23': 0.20316872629421606, 'batch_norm_l23': True, 'l2_reg_l23': 0.09464002561547967, 'n_units_l24': 512, 'activation_l24': 'LeakyReLU', 'dropout_l24': 0.2885003667015317, 'batch_norm_l24': True, 'l2_reg_l24': 1.093087941662201e-05, 'leakyrelu_alpha_l24': 0.018901496795019734, 'n_units_l25': 64, 'activation_l25': 'Tanh', 'dropout_l25': 0.41901812103740194, 'batch_norm_l25': True, 'l2_reg_l25': 8.391323311305354e-05, 'n_units_l26': 2048, 'activation_l26': 'ReLU', 'dropout_l26': 0.0030588336176872177, 'batch_norm_l26': True, 'l2_reg_l26': 0.0012244242793398791, 'n_units_l27': 128, 'activation_l27': 'SELU', 'dropout_l27': 0.06379828164741985, 'batch_norm_l27': False, 'l2_reg_l27': 0.09105513716837745, 'n_units_l28': 64, 'activation_l28': 'Tanh', 'dropout_l28': 0.3792244715026505, 'batch_norm_l28': False, 'l2_reg_l28': 0.0007911215779067643, 'n_units_l29': 32, 'activation_l29': 'Tanh', 'dropout_l29': 0.1897012542726161, 'batch_norm_l29': True, 'l2_reg_l29': 0.0395147408816888, 'n_units_l30': 512, 'activation_l30': 'Tanh', 'dropout_l30': 0.309103884889177, 'batch_norm_l30': False, 'l2_reg_l30': 1.1786245338308637e-05, 'n_units_l31': 16, 'activation_l31': 'SELU', 'dropout_l31': 0.15142536579517415, 'batch_norm_l31': False, 'l2_reg_l31': 1.9355982679364307e-05, 'res_connection_index_l31': 0, 'n_units_l32': 512, 'activation_l32': 'Tanh', 'dropout_l32': 0.03489285815659193, 'batch_norm_l32': False, 'l2_reg_l32': 0.09031041730690968, 'res_connection_index_l32': 0, 'n_units_l33': 32, 'activation_l33': 'ELU', 'dropout_l33': 0.22210303104953308, 'batch_norm_l33': False, 'l2_reg_l33': 2.4808640650384265e-05, 'res_connection_index_l33': 0, 'n_units_l34': 64, 'activation_l34': 'LeakyReLU', 'dropout_l34': 0.4934734985545044, 'batch_norm_l34': True, 'l2_reg_l34': 0.07315910291274161, 'leakyrelu_alpha_l34': 0.12022457224345906, 'res_connection_index_l34': 0, 'n_units_l35': 64, 'activation_l35': 'ReLU', 'dropout_l35': 0.002771999916565293, 'batch_norm_l35': False, 'l2_reg_l35': 0.003995327724573161, 'res_connection_index_l35': 0, 'n_units_l36': 32, 'activation_l36': 'SELU', 'dropout_l36': 0.012095027818566695, 'batch_norm_l36': False, 'l2_reg_l36': 0.07938319644632257, 'res_connection_index_l36': 1, 'n_units_l37': 512, 'activation_l37': 'Tanh', 'dropout_l37': 0.4937267408073461, 'batch_norm_l37': True, 'l2_reg_l37': 1.3260784327786948e-05, 'res_connection_index_l37': 0, 'n_units_l38': 512, 'activation_l38': 'Tanh', 'dropout_l38': 0.3372347816040894, 'batch_norm_l38': False, 'l2_reg_l38': 0.04004732058191221, 'res_connection_index_l38': 2, 'n_units_l39': 512, 'activation_l39': 'LeakyReLU', 'dropout_l39': 0.477076108185844, 'batch_norm_l39': False, 'l2_reg_l39': 0.08418423025075615, 'leakyrelu_alpha_l39': 0.13294662034661747, 'res_connection_index_l39': 3, 'optimizer': 'RMSprop', 'lr': 2.3440976311172765e-05, 'rmsprop_alpha': 0.9006373655071348, 'epochs': 14, 'batch_size': 2048, 'early_stopping_patience': 12, 'lr_reduce_factor': 0.6249171034305128, 'lr_reduce_patience': 29, 'min_lr': 1.1735935063037965e-05}. Best is trial 7 with value: 0.8367534456355283.\u001b[0m\n"
     ]
    },
    {
     "name": "stdout",
     "output_type": "stream",
     "text": [
      "Usando GPU para el Trial 18\n",
      "Entrenando Trial 18...\n"
     ]
    },
    {
     "name": "stderr",
     "output_type": "stream",
     "text": [
      "                                                                                                                                                                                                                                                        \r"
     ]
    },
    {
     "name": "stdout",
     "output_type": "stream",
     "text": [
      "Early stopping\n",
      "Trial 18 completado. Mejor precisión en validación: 0.678407350689127\n"
     ]
    },
    {
     "name": "stderr",
     "output_type": "stream",
     "text": [
      "\u001b[32m[I 2023-11-29 20:07:21,682]\u001b[0m Trial 18 finished with value: 0.678407350689127 and parameters: {'n_layers': 40, 'residual_threshold_factor': 0.9232972776271297, 'n_units_l0': 32, 'activation_l0': 'Tanh', 'dropout_l0': 0.22163609701118517, 'batch_norm_l0': True, 'l2_reg_l0': 4.232659222163749e-05, 'n_units_l1': 2048, 'activation_l1': 'ELU', 'dropout_l1': 0.23918964530374826, 'batch_norm_l1': False, 'l2_reg_l1': 0.00028212851025504517, 'n_units_l2': 64, 'activation_l2': 'ReLU', 'dropout_l2': 0.10795718182311227, 'batch_norm_l2': False, 'l2_reg_l2': 4.2498027574586005e-05, 'n_units_l3': 32, 'activation_l3': 'ReLU', 'dropout_l3': 0.4819135101486106, 'batch_norm_l3': True, 'l2_reg_l3': 0.00012853647679914645, 'n_units_l4': 512, 'activation_l4': 'ELU', 'dropout_l4': 0.37621786722038886, 'batch_norm_l4': True, 'l2_reg_l4': 0.006128569696024615, 'n_units_l5': 2048, 'activation_l5': 'Tanh', 'dropout_l5': 0.29446044665234905, 'batch_norm_l5': True, 'l2_reg_l5': 0.005825825569870843, 'n_units_l6': 128, 'activation_l6': 'ELU', 'dropout_l6': 0.299630543700787, 'batch_norm_l6': True, 'l2_reg_l6': 0.0001790098011854499, 'n_units_l7': 2048, 'activation_l7': 'SELU', 'dropout_l7': 0.40554912396922177, 'batch_norm_l7': True, 'l2_reg_l7': 0.000756956978278922, 'n_units_l8': 64, 'activation_l8': 'LeakyReLU', 'dropout_l8': 0.4998814571835918, 'batch_norm_l8': True, 'l2_reg_l8': 0.0005735799446534473, 'leakyrelu_alpha_l8': 0.2829700589652072, 'n_units_l9': 256, 'activation_l9': 'ELU', 'dropout_l9': 0.3176697735316334, 'batch_norm_l9': True, 'l2_reg_l9': 0.00046080869400114697, 'n_units_l10': 16, 'activation_l10': 'SELU', 'dropout_l10': 0.2603049225003823, 'batch_norm_l10': False, 'l2_reg_l10': 0.0011068326442202285, 'n_units_l11': 64, 'activation_l11': 'SELU', 'dropout_l11': 0.49076521030311365, 'batch_norm_l11': False, 'l2_reg_l11': 0.006818258653445416, 'n_units_l12': 1024, 'activation_l12': 'ReLU', 'dropout_l12': 0.20000759960691677, 'batch_norm_l12': False, 'l2_reg_l12': 0.07236404326344704, 'n_units_l13': 64, 'activation_l13': 'ELU', 'dropout_l13': 0.20413234716846518, 'batch_norm_l13': True, 'l2_reg_l13': 1.006468022097706e-05, 'n_units_l14': 16, 'activation_l14': 'Tanh', 'dropout_l14': 0.13943123634488436, 'batch_norm_l14': True, 'l2_reg_l14': 0.000591103266946394, 'n_units_l15': 512, 'activation_l15': 'ReLU', 'dropout_l15': 0.09279858202331752, 'batch_norm_l15': False, 'l2_reg_l15': 0.00031239823352321555, 'n_units_l16': 128, 'activation_l16': 'SELU', 'dropout_l16': 0.009820515510558528, 'batch_norm_l16': False, 'l2_reg_l16': 0.09634941747689423, 'n_units_l17': 2048, 'activation_l17': 'LeakyReLU', 'dropout_l17': 0.15824711435195052, 'batch_norm_l17': False, 'l2_reg_l17': 0.0005388655107996643, 'leakyrelu_alpha_l17': 0.011757917624642289, 'n_units_l18': 2048, 'activation_l18': 'ELU', 'dropout_l18': 0.02592747767722453, 'batch_norm_l18': False, 'l2_reg_l18': 0.00967883100175679, 'n_units_l19': 512, 'activation_l19': 'ReLU', 'dropout_l19': 0.1293748826860096, 'batch_norm_l19': False, 'l2_reg_l19': 0.0003688618746776296, 'n_units_l20': 32, 'activation_l20': 'SELU', 'dropout_l20': 0.4064407011920528, 'batch_norm_l20': False, 'l2_reg_l20': 0.001433706492315731, 'n_units_l21': 256, 'activation_l21': 'SELU', 'dropout_l21': 0.02832023257116567, 'batch_norm_l21': False, 'l2_reg_l21': 0.00020933785523809077, 'n_units_l22': 16, 'activation_l22': 'SELU', 'dropout_l22': 0.3745710769417585, 'batch_norm_l22': False, 'l2_reg_l22': 0.06484511534669089, 'n_units_l23': 256, 'activation_l23': 'ELU', 'dropout_l23': 0.018462528935214995, 'batch_norm_l23': True, 'l2_reg_l23': 0.02067729679456013, 'n_units_l24': 2048, 'activation_l24': 'Tanh', 'dropout_l24': 0.2644911000545534, 'batch_norm_l24': True, 'l2_reg_l24': 0.0006570836820327539, 'n_units_l25': 1024, 'activation_l25': 'ELU', 'dropout_l25': 0.48752942906968344, 'batch_norm_l25': True, 'l2_reg_l25': 0.07435340507148061, 'n_units_l26': 2048, 'activation_l26': 'ReLU', 'dropout_l26': 0.19734854755979114, 'batch_norm_l26': False, 'l2_reg_l26': 1.1183804911473859e-05, 'n_units_l27': 256, 'activation_l27': 'SELU', 'dropout_l27': 0.48738473731020826, 'batch_norm_l27': False, 'l2_reg_l27': 0.09961121379553765, 'n_units_l28': 1024, 'activation_l28': 'Tanh', 'dropout_l28': 0.30498344346339135, 'batch_norm_l28': False, 'l2_reg_l28': 0.0006421655693083486, 'n_units_l29': 64, 'activation_l29': 'SELU', 'dropout_l29': 0.009352799581487936, 'batch_norm_l29': True, 'l2_reg_l29': 0.0044292175603444705, 'n_units_l30': 1024, 'activation_l30': 'LeakyReLU', 'dropout_l30': 0.19701478045433624, 'batch_norm_l30': True, 'l2_reg_l30': 0.04394130374418552, 'leakyrelu_alpha_l30': 0.012870640375623188, 'n_units_l31': 512, 'activation_l31': 'LeakyReLU', 'dropout_l31': 0.19466059615504494, 'batch_norm_l31': True, 'l2_reg_l31': 1.2217111941847749e-05, 'leakyrelu_alpha_l31': 0.26561463895099735, 'n_units_l32': 1024, 'activation_l32': 'ELU', 'dropout_l32': 0.031997195977470305, 'batch_norm_l32': False, 'l2_reg_l32': 0.0050959651308874155, 'n_units_l33': 64, 'activation_l33': 'LeakyReLU', 'dropout_l33': 0.26951615913570726, 'batch_norm_l33': False, 'l2_reg_l33': 1.2159578077056047e-05, 'leakyrelu_alpha_l33': 0.23780249879445617, 'n_units_l34': 16, 'activation_l34': 'SELU', 'dropout_l34': 0.18145407426941562, 'batch_norm_l34': True, 'l2_reg_l34': 0.00023688632104381467, 'n_units_l35': 32, 'activation_l35': 'Tanh', 'dropout_l35': 0.4681562102321791, 'batch_norm_l35': False, 'l2_reg_l35': 0.0019458290222903948, 'n_units_l36': 512, 'activation_l36': 'SELU', 'dropout_l36': 0.48891701774979035, 'batch_norm_l36': False, 'l2_reg_l36': 6.267170461020206e-05, 'res_connection_index_l36': 0, 'n_units_l37': 16, 'activation_l37': 'SELU', 'dropout_l37': 0.21844297637051394, 'batch_norm_l37': False, 'l2_reg_l37': 0.06635161555178977, 'res_connection_index_l37': 0, 'n_units_l38': 16, 'activation_l38': 'Tanh', 'dropout_l38': 0.3354722111042656, 'batch_norm_l38': True, 'l2_reg_l38': 0.08551776743200104, 'res_connection_index_l38': 0, 'n_units_l39': 128, 'activation_l39': 'SELU', 'dropout_l39': 0.3713753853896459, 'batch_norm_l39': False, 'l2_reg_l39': 1.1486955568986536e-05, 'res_connection_index_l39': 0, 'optimizer': 'SGD', 'lr': 5.060945813045324e-05, 'sgd_momentum': 0.10669105913222032, 'epochs': 661, 'batch_size': 32, 'early_stopping_patience': 20, 'lr_reduce_factor': 0.3812906296587408, 'lr_reduce_patience': 34, 'min_lr': 1.0563949454525065e-06}. Best is trial 7 with value: 0.8367534456355283.\u001b[0m\n"
     ]
    },
    {
     "name": "stdout",
     "output_type": "stream",
     "text": [
      "Usando GPU para el Trial 19\n",
      "Entrenando Trial 19...\n"
     ]
    },
    {
     "name": "stderr",
     "output_type": "stream",
     "text": [
      "                                                                                                                                                                                                                                                        \r"
     ]
    },
    {
     "name": "stdout",
     "output_type": "stream",
     "text": [
      "Early stopping\n",
      "Trial 19 completado. Mejor precisión en validación: 0.8385911179173048\n"
     ]
    },
    {
     "name": "stderr",
     "output_type": "stream",
     "text": [
      "\u001b[32m[I 2023-11-29 20:10:08,574]\u001b[0m Trial 19 finished with value: 0.8385911179173048 and parameters: {'n_layers': 12, 'residual_threshold_factor': 0.9266019074546636, 'n_units_l0': 2048, 'activation_l0': 'ReLU', 'dropout_l0': 0.35000347804284077, 'batch_norm_l0': True, 'l2_reg_l0': 0.0004373125565598052, 'n_units_l1': 512, 'activation_l1': 'LeakyReLU', 'dropout_l1': 0.10248340289316465, 'batch_norm_l1': True, 'l2_reg_l1': 0.005237637299103179, 'leakyrelu_alpha_l1': 0.1482945830429448, 'n_units_l2': 128, 'activation_l2': 'Tanh', 'dropout_l2': 0.2513854744649622, 'batch_norm_l2': True, 'l2_reg_l2': 1.036411371202725e-05, 'n_units_l3': 2048, 'activation_l3': 'Tanh', 'dropout_l3': 0.323241382464874, 'batch_norm_l3': True, 'l2_reg_l3': 0.001209169216849626, 'n_units_l4': 128, 'activation_l4': 'SELU', 'dropout_l4': 0.3434736898913567, 'batch_norm_l4': True, 'l2_reg_l4': 1.2187531268871064e-05, 'n_units_l5': 2048, 'activation_l5': 'ReLU', 'dropout_l5': 0.12014404067467573, 'batch_norm_l5': True, 'l2_reg_l5': 0.00015465583037757696, 'n_units_l6': 256, 'activation_l6': 'Tanh', 'dropout_l6': 0.13558859620657324, 'batch_norm_l6': False, 'l2_reg_l6': 0.00036818774203175436, 'n_units_l7': 256, 'activation_l7': 'ReLU', 'dropout_l7': 0.19604609258210334, 'batch_norm_l7': True, 'l2_reg_l7': 0.011874373698412329, 'n_units_l8': 512, 'activation_l8': 'ELU', 'dropout_l8': 0.3170926303138173, 'batch_norm_l8': True, 'l2_reg_l8': 0.09780134836553173, 'n_units_l9': 512, 'activation_l9': 'SELU', 'dropout_l9': 0.43380379002871305, 'batch_norm_l9': True, 'l2_reg_l9': 5.498453415564595e-05, 'n_units_l10': 32, 'activation_l10': 'ELU', 'dropout_l10': 0.2723708936561216, 'batch_norm_l10': False, 'l2_reg_l10': 0.007506260590909368, 'n_units_l11': 64, 'activation_l11': 'Tanh', 'dropout_l11': 0.284763696979408, 'batch_norm_l11': False, 'l2_reg_l11': 0.09504067338224381, 'res_connection_index_l11': 0, 'optimizer': 'Adam', 'lr': 0.0004054931626754419, 'adam_beta1': 0.902957569252016, 'adam_beta2': 0.9065362591306125, 'epochs': 987, 'batch_size': 32, 'early_stopping_patience': 16, 'lr_reduce_factor': 0.4781582497591249, 'lr_reduce_patience': 24, 'min_lr': 2.42571082174326e-06}. Best is trial 19 with value: 0.8385911179173048.\u001b[0m\n"
     ]
    },
    {
     "name": "stdout",
     "output_type": "stream",
     "text": [
      "Usando GPU para el Trial 20\n",
      "Entrenando Trial 20...\n"
     ]
    },
    {
     "name": "stderr",
     "output_type": "stream",
     "text": [
      "\u001b[32m[I 2023-11-29 20:11:26,462]\u001b[0m Trial 20 finished with value: 0.8502297090352221 and parameters: {'n_layers': 1, 'residual_threshold_factor': 0.8407522677161088, 'n_units_l0': 2048, 'activation_l0': 'ReLU', 'dropout_l0': 0.1331550088386129, 'batch_norm_l0': True, 'l2_reg_l0': 4.4325724925157446e-05, 'res_connection_index_l0': 0, 'optimizer': 'Adam', 'lr': 0.00015240474443512132, 'adam_beta1': 0.8971991338841304, 'adam_beta2': 0.9021105174093399, 'epochs': 1782, 'batch_size': 64, 'early_stopping_patience': 17, 'lr_reduce_factor': 0.6793265588719872, 'lr_reduce_patience': 49, 'min_lr': 2.5061223511779353e-06}. Best is trial 20 with value: 0.8502297090352221.\u001b[0m\n"
     ]
    },
    {
     "name": "stdout",
     "output_type": "stream",
     "text": [
      "Early stopping\n",
      "Trial 20 completado. Mejor precisión en validación: 0.8502297090352221\n",
      "Usando GPU para el Trial 21\n",
      "Entrenando Trial 21...\n"
     ]
    },
    {
     "name": "stderr",
     "output_type": "stream",
     "text": [
      "                                                                                                                                                                                                                                                        \r"
     ]
    },
    {
     "name": "stdout",
     "output_type": "stream",
     "text": [
      "Early stopping\n",
      "Trial 21 completado. Mejor precisión en validación: 0.8649310872894334\n"
     ]
    },
    {
     "name": "stderr",
     "output_type": "stream",
     "text": [
      "\u001b[32m[I 2023-11-29 20:13:20,104]\u001b[0m Trial 21 finished with value: 0.8649310872894334 and parameters: {'n_layers': 2, 'residual_threshold_factor': 0.7969413912091416, 'n_units_l0': 2048, 'activation_l0': 'ReLU', 'dropout_l0': 0.19351033335057405, 'batch_norm_l0': True, 'l2_reg_l0': 0.0003369689023842756, 'n_units_l1': 16, 'activation_l1': 'LeakyReLU', 'dropout_l1': 0.06132144790543736, 'batch_norm_l1': True, 'l2_reg_l1': 0.004162196010238671, 'leakyrelu_alpha_l1': 0.1788630748298134, 'res_connection_index_l1': 0, 'optimizer': 'Adam', 'lr': 0.0002841140960048662, 'adam_beta1': 0.9135447886669305, 'adam_beta2': 0.9013723126780381, 'epochs': 1852, 'batch_size': 64, 'early_stopping_patience': 17, 'lr_reduce_factor': 0.6703570066032394, 'lr_reduce_patience': 49, 'min_lr': 2.216675879518424e-06}. Best is trial 21 with value: 0.8649310872894334.\u001b[0m\n"
     ]
    },
    {
     "name": "stdout",
     "output_type": "stream",
     "text": [
      "Usando GPU para el Trial 22\n",
      "Entrenando Trial 22...\n"
     ]
    },
    {
     "name": "stderr",
     "output_type": "stream",
     "text": [
      "\u001b[32m[I 2023-11-29 20:13:40,672]\u001b[0m Trial 22 finished with value: 0.8321592649310873 and parameters: {'n_layers': 1, 'residual_threshold_factor': 0.7721002254292356, 'n_units_l0': 2048, 'activation_l0': 'ReLU', 'dropout_l0': 0.16082018367075498, 'batch_norm_l0': True, 'l2_reg_l0': 0.0002972351319274298, 'res_connection_index_l0': 0, 'optimizer': 'Adam', 'lr': 0.00013893162390992501, 'adam_beta1': 0.9320172550333186, 'adam_beta2': 0.9011934802069128, 'epochs': 1952, 'batch_size': 64, 'early_stopping_patience': 6, 'lr_reduce_factor': 0.7016064187362991, 'lr_reduce_patience': 49, 'min_lr': 1.9030258719925703e-06}. Best is trial 21 with value: 0.8649310872894334.\u001b[0m\n"
     ]
    },
    {
     "name": "stdout",
     "output_type": "stream",
     "text": [
      "Early stopping\n",
      "Trial 22 completado. Mejor precisión en validación: 0.8321592649310873\n",
      "Usando GPU para el Trial 23\n",
      "Entrenando Trial 23...\n"
     ]
    },
    {
     "name": "stderr",
     "output_type": "stream",
     "text": [
      "                                                                                                                                                                                                                                                        \r"
     ]
    },
    {
     "name": "stdout",
     "output_type": "stream",
     "text": [
      "Early stopping\n",
      "Trial 23 completado. Mejor precisión en validación: 0.8434915773353752\n"
     ]
    },
    {
     "name": "stderr",
     "output_type": "stream",
     "text": [
      "\u001b[32m[I 2023-11-29 20:15:18,791]\u001b[0m Trial 23 finished with value: 0.8434915773353752 and parameters: {'n_layers': 12, 'residual_threshold_factor': 0.7200696144493595, 'n_units_l0': 512, 'activation_l0': 'ReLU', 'dropout_l0': 0.002293614102378161, 'batch_norm_l0': True, 'l2_reg_l0': 5.125912989630885e-05, 'n_units_l1': 16, 'activation_l1': 'ReLU', 'dropout_l1': 0.002706090031468558, 'batch_norm_l1': True, 'l2_reg_l1': 0.00014031068823270375, 'n_units_l2': 256, 'activation_l2': 'LeakyReLU', 'dropout_l2': 0.46095623698483773, 'batch_norm_l2': False, 'l2_reg_l2': 0.059932886070288065, 'leakyrelu_alpha_l2': 0.018724367824731053, 'n_units_l3': 128, 'activation_l3': 'ReLU', 'dropout_l3': 0.013502905243003849, 'batch_norm_l3': False, 'l2_reg_l3': 0.001308059582116716, 'n_units_l4': 256, 'activation_l4': 'ELU', 'dropout_l4': 0.1161943984112967, 'batch_norm_l4': False, 'l2_reg_l4': 0.0018818832984928702, 'n_units_l5': 128, 'activation_l5': 'LeakyReLU', 'dropout_l5': 0.4949910177824769, 'batch_norm_l5': False, 'l2_reg_l5': 0.048563072884098175, 'leakyrelu_alpha_l5': 0.01262594578617593, 'n_units_l6': 32, 'activation_l6': 'ReLU', 'dropout_l6': 0.008811255718698119, 'batch_norm_l6': False, 'l2_reg_l6': 0.0008278069143978871, 'n_units_l7': 64, 'activation_l7': 'Tanh', 'dropout_l7': 0.024109698488442854, 'batch_norm_l7': False, 'l2_reg_l7': 0.0025647117890983673, 'n_units_l8': 256, 'activation_l8': 'ELU', 'dropout_l8': 0.1362278106970442, 'batch_norm_l8': False, 'l2_reg_l8': 5.553780543833959e-05, 'res_connection_index_l8': 0, 'n_units_l9': 64, 'activation_l9': 'ReLU', 'dropout_l9': 0.20445845464391543, 'batch_norm_l9': False, 'l2_reg_l9': 0.01478545693516365, 'res_connection_index_l9': 0, 'n_units_l10': 256, 'activation_l10': 'Tanh', 'dropout_l10': 0.4605374374604474, 'batch_norm_l10': True, 'l2_reg_l10': 0.09848242793507073, 'res_connection_index_l10': 1, 'n_units_l11': 32, 'activation_l11': 'Tanh', 'dropout_l11': 0.4137957508536856, 'batch_norm_l11': True, 'l2_reg_l11': 0.002649362087588042, 'res_connection_index_l11': 0, 'optimizer': 'Adam', 'lr': 0.001119727140502758, 'adam_beta1': 0.9228638576272714, 'adam_beta2': 0.9160666547795938, 'epochs': 1717, 'batch_size': 64, 'early_stopping_patience': 17, 'lr_reduce_factor': 0.8990472627537185, 'lr_reduce_patience': 43, 'min_lr': 1.4128424328470484e-06}. Best is trial 21 with value: 0.8649310872894334.\u001b[0m\n"
     ]
    },
    {
     "name": "stdout",
     "output_type": "stream",
     "text": [
      "Usando GPU para el Trial 24\n",
      "Entrenando Trial 24...\n"
     ]
    },
    {
     "name": "stderr",
     "output_type": "stream",
     "text": [
      "                                                                                                                                                                                                                                                        \r"
     ]
    },
    {
     "name": "stdout",
     "output_type": "stream",
     "text": [
      "Early stopping\n",
      "Trial 24 completado. Mejor precisión en validación: 0.8649310872894334\n"
     ]
    },
    {
     "name": "stderr",
     "output_type": "stream",
     "text": [
      "\u001b[32m[I 2023-11-29 20:20:17,008]\u001b[0m Trial 24 finished with value: 0.8649310872894334 and parameters: {'n_layers': 8, 'residual_threshold_factor': 0.8219127491492902, 'n_units_l0': 1024, 'activation_l0': 'ReLU', 'dropout_l0': 0.1760721108311657, 'batch_norm_l0': True, 'l2_reg_l0': 0.00024108092588415723, 'n_units_l1': 16, 'activation_l1': 'ELU', 'dropout_l1': 0.04800244636299926, 'batch_norm_l1': True, 'l2_reg_l1': 1.4765125145032119e-05, 'n_units_l2': 16, 'activation_l2': 'LeakyReLU', 'dropout_l2': 0.38409539917198554, 'batch_norm_l2': False, 'l2_reg_l2': 0.00046938482544613776, 'leakyrelu_alpha_l2': 0.2751196481601616, 'n_units_l3': 2048, 'activation_l3': 'SELU', 'dropout_l3': 0.1511355846634675, 'batch_norm_l3': True, 'l2_reg_l3': 0.07551529946656052, 'n_units_l4': 128, 'activation_l4': 'SELU', 'dropout_l4': 0.48363249790240986, 'batch_norm_l4': False, 'l2_reg_l4': 0.011383525899471596, 'n_units_l5': 64, 'activation_l5': 'ELU', 'dropout_l5': 0.26818503754960876, 'batch_norm_l5': True, 'l2_reg_l5': 0.02703792308741501, 'n_units_l6': 16, 'activation_l6': 'SELU', 'dropout_l6': 0.3200750612517944, 'batch_norm_l6': False, 'l2_reg_l6': 0.010196605608812734, 'res_connection_index_l6': 0, 'n_units_l7': 1024, 'activation_l7': 'Tanh', 'dropout_l7': 0.4730847183888651, 'batch_norm_l7': False, 'l2_reg_l7': 0.00016766885182473222, 'res_connection_index_l7': 0, 'optimizer': 'Adam', 'lr': 0.00018068448282044624, 'adam_beta1': 0.8909018406603576, 'adam_beta2': 0.9225042050200372, 'epochs': 1599, 'batch_size': 64, 'early_stopping_patience': 20, 'lr_reduce_factor': 0.735352267824494, 'lr_reduce_patience': 45, 'min_lr': 2.5767373532263125e-06}. Best is trial 21 with value: 0.8649310872894334.\u001b[0m\n"
     ]
    },
    {
     "name": "stdout",
     "output_type": "stream",
     "text": [
      "Usando GPU para el Trial 25\n",
      "Entrenando Trial 25...\n"
     ]
    },
    {
     "name": "stderr",
     "output_type": "stream",
     "text": [
      "\u001b[32m[I 2023-11-29 20:21:47,889]\u001b[0m Trial 25 finished with value: 0.8529862174578867 and parameters: {'n_layers': 2, 'residual_threshold_factor': 0.8101051870240509, 'n_units_l0': 1024, 'activation_l0': 'ReLU', 'dropout_l0': 0.1965653552833081, 'batch_norm_l0': True, 'l2_reg_l0': 0.00024295118964986237, 'n_units_l1': 16, 'activation_l1': 'ELU', 'dropout_l1': 0.05062669034478173, 'batch_norm_l1': True, 'l2_reg_l1': 2.142453564862629e-05, 'res_connection_index_l1': 0, 'optimizer': 'Adam', 'lr': 0.0001715009341057682, 'adam_beta1': 0.8904031830525547, 'adam_beta2': 0.9192647697935769, 'epochs': 1600, 'batch_size': 64, 'early_stopping_patience': 20, 'lr_reduce_factor': 0.6363297121307916, 'lr_reduce_patience': 45, 'min_lr': 2.838010636654367e-06}. Best is trial 21 with value: 0.8649310872894334.\u001b[0m\n"
     ]
    },
    {
     "name": "stdout",
     "output_type": "stream",
     "text": [
      "Early stopping\n",
      "Trial 25 completado. Mejor precisión en validación: 0.8529862174578867\n",
      "Usando GPU para el Trial 26\n",
      "Entrenando Trial 26...\n"
     ]
    },
    {
     "name": "stderr",
     "output_type": "stream",
     "text": [
      "                                                                                                                                                                                                                                                        \r"
     ]
    },
    {
     "name": "stdout",
     "output_type": "stream",
     "text": [
      "Early stopping\n",
      "Trial 26 completado. Mejor precisión en validación: 0.8486983154670751\n"
     ]
    },
    {
     "name": "stderr",
     "output_type": "stream",
     "text": [
      "\u001b[32m[I 2023-11-29 20:24:06,876]\u001b[0m Trial 26 finished with value: 0.8486983154670751 and parameters: {'n_layers': 12, 'residual_threshold_factor': 0.8088150767965705, 'n_units_l0': 1024, 'activation_l0': 'ReLU', 'dropout_l0': 0.1974273085198342, 'batch_norm_l0': True, 'l2_reg_l0': 0.00024078960384280897, 'n_units_l1': 16, 'activation_l1': 'ELU', 'dropout_l1': 0.047350273829266716, 'batch_norm_l1': True, 'l2_reg_l1': 1.0853596774978893e-05, 'n_units_l2': 16, 'activation_l2': 'LeakyReLU', 'dropout_l2': 0.40290376079965246, 'batch_norm_l2': False, 'l2_reg_l2': 0.0005234962372123702, 'leakyrelu_alpha_l2': 0.29612143567602994, 'n_units_l3': 2048, 'activation_l3': 'SELU', 'dropout_l3': 0.1774384688535206, 'batch_norm_l3': True, 'l2_reg_l3': 0.09615724638772989, 'n_units_l4': 128, 'activation_l4': 'SELU', 'dropout_l4': 0.49481623639666766, 'batch_norm_l4': False, 'l2_reg_l4': 0.010228591843571694, 'n_units_l5': 64, 'activation_l5': 'ELU', 'dropout_l5': 0.27875262153787617, 'batch_norm_l5': True, 'l2_reg_l5': 0.0655236531122843, 'n_units_l6': 16, 'activation_l6': 'SELU', 'dropout_l6': 0.32291513847824393, 'batch_norm_l6': False, 'l2_reg_l6': 0.0091827332765404, 'n_units_l7': 1024, 'activation_l7': 'Tanh', 'dropout_l7': 0.4991513598049365, 'batch_norm_l7': False, 'l2_reg_l7': 0.0002179132708191572, 'n_units_l8': 16, 'activation_l8': 'LeakyReLU', 'dropout_l8': 0.003995158049460601, 'batch_norm_l8': False, 'l2_reg_l8': 0.0006792793353269686, 'leakyrelu_alpha_l8': 0.02750508865892204, 'n_units_l9': 32, 'activation_l9': 'Tanh', 'dropout_l9': 0.3179673719662365, 'batch_norm_l9': False, 'l2_reg_l9': 0.0005072087973319962, 'res_connection_index_l9': 0, 'n_units_l10': 512, 'activation_l10': 'ReLU', 'dropout_l10': 0.49995947955417247, 'batch_norm_l10': True, 'l2_reg_l10': 0.00042179956948949293, 'res_connection_index_l10': 0, 'n_units_l11': 16, 'activation_l11': 'SELU', 'dropout_l11': 0.020071731306531726, 'batch_norm_l11': True, 'l2_reg_l11': 0.005654820135368715, 'res_connection_index_l11': 0, 'optimizer': 'Adam', 'lr': 0.00035924393465406484, 'adam_beta1': 0.8871254425652598, 'adam_beta2': 0.9239237017901999, 'epochs': 1524, 'batch_size': 64, 'early_stopping_patience': 20, 'lr_reduce_factor': 0.6041581367991203, 'lr_reduce_patience': 46, 'min_lr': 1.021583426693154e-06}. Best is trial 21 with value: 0.8649310872894334.\u001b[0m\n"
     ]
    },
    {
     "name": "stdout",
     "output_type": "stream",
     "text": [
      "Usando GPU para el Trial 27\n",
      "Entrenando Trial 27...\n"
     ]
    },
    {
     "name": "stderr",
     "output_type": "stream",
     "text": [
      "                                                                                                                                                                                                                                                        \r"
     ]
    },
    {
     "name": "stdout",
     "output_type": "stream",
     "text": [
      "Early stopping\n",
      "Trial 27 completado. Mejor precisión en validación: 0.8388973966309341\n"
     ]
    },
    {
     "name": "stderr",
     "output_type": "stream",
     "text": [
      "\u001b[32m[I 2023-11-29 20:27:32,241]\u001b[0m Trial 27 finished with value: 0.8388973966309341 and parameters: {'n_layers': 19, 'residual_threshold_factor': 0.7070756455350348, 'n_units_l0': 1024, 'activation_l0': 'ReLU', 'dropout_l0': 0.2413657849936062, 'batch_norm_l0': True, 'l2_reg_l0': 0.000357687475032669, 'n_units_l1': 16, 'activation_l1': 'ELU', 'dropout_l1': 0.04600247979511717, 'batch_norm_l1': True, 'l2_reg_l1': 1.4366194257750393e-05, 'n_units_l2': 16, 'activation_l2': 'LeakyReLU', 'dropout_l2': 0.4998679833018818, 'batch_norm_l2': False, 'l2_reg_l2': 0.00025973218271798336, 'leakyrelu_alpha_l2': 0.17649782812249382, 'n_units_l3': 2048, 'activation_l3': 'SELU', 'dropout_l3': 0.13912410523872334, 'batch_norm_l3': True, 'l2_reg_l3': 0.02848267981473186, 'n_units_l4': 128, 'activation_l4': 'SELU', 'dropout_l4': 0.42399529489100796, 'batch_norm_l4': False, 'l2_reg_l4': 0.018214919154346303, 'n_units_l5': 64, 'activation_l5': 'ELU', 'dropout_l5': 0.3212833610114785, 'batch_norm_l5': True, 'l2_reg_l5': 0.01928703555234425, 'n_units_l6': 16, 'activation_l6': 'SELU', 'dropout_l6': 0.24074895112468572, 'batch_norm_l6': False, 'l2_reg_l6': 0.0015013662546997447, 'n_units_l7': 1024, 'activation_l7': 'Tanh', 'dropout_l7': 0.45864994120091185, 'batch_norm_l7': False, 'l2_reg_l7': 6.372801777989612e-05, 'n_units_l8': 256, 'activation_l8': 'SELU', 'dropout_l8': 0.12402371083192615, 'batch_norm_l8': False, 'l2_reg_l8': 5.890638752476817e-05, 'n_units_l9': 2048, 'activation_l9': 'ELU', 'dropout_l9': 0.4995228086569468, 'batch_norm_l9': False, 'l2_reg_l9': 0.008830159298926585, 'n_units_l10': 64, 'activation_l10': 'SELU', 'dropout_l10': 0.07522590769501847, 'batch_norm_l10': True, 'l2_reg_l10': 0.0003205062077527815, 'n_units_l11': 512, 'activation_l11': 'SELU', 'dropout_l11': 0.23341984972390317, 'batch_norm_l11': False, 'l2_reg_l11': 0.0006008189979006629, 'n_units_l12': 2048, 'activation_l12': 'SELU', 'dropout_l12': 0.012886078079160757, 'batch_norm_l12': False, 'l2_reg_l12': 1.0560080869503494e-05, 'n_units_l13': 2048, 'activation_l13': 'ReLU', 'dropout_l13': 0.2111649150030668, 'batch_norm_l13': False, 'l2_reg_l13': 0.0008302762502542195, 'res_connection_index_l13': 0, 'n_units_l14': 256, 'activation_l14': 'LeakyReLU', 'dropout_l14': 0.49207633419375774, 'batch_norm_l14': True, 'l2_reg_l14': 0.01453665592576672, 'leakyrelu_alpha_l14': 0.02261148597764545, 'res_connection_index_l14': 0, 'n_units_l15': 16, 'activation_l15': 'Tanh', 'dropout_l15': 0.4669044568063251, 'batch_norm_l15': True, 'l2_reg_l15': 7.999498003490519e-05, 'res_connection_index_l15': 0, 'n_units_l16': 1024, 'activation_l16': 'ELU', 'dropout_l16': 0.3413533324837529, 'batch_norm_l16': True, 'l2_reg_l16': 0.004662991653089253, 'res_connection_index_l16': 0, 'n_units_l17': 1024, 'activation_l17': 'ReLU', 'dropout_l17': 0.4761800900995473, 'batch_norm_l17': False, 'l2_reg_l17': 0.00600885850753882, 'res_connection_index_l17': 1, 'n_units_l18': 512, 'activation_l18': 'LeakyReLU', 'dropout_l18': 0.4824564772925432, 'batch_norm_l18': False, 'l2_reg_l18': 7.672901328718388e-05, 'leakyrelu_alpha_l18': 0.01606359754360928, 'res_connection_index_l18': 0, 'optimizer': 'Adam', 'lr': 8.807461666903936e-05, 'adam_beta1': 0.8809479746573904, 'adam_beta2': 0.9229744154706766, 'epochs': 1559, 'batch_size': 64, 'early_stopping_patience': 20, 'lr_reduce_factor': 0.6614395979502555, 'lr_reduce_patience': 43, 'min_lr': 3.119585623558691e-06}. Best is trial 21 with value: 0.8649310872894334.\u001b[0m\n"
     ]
    },
    {
     "name": "stdout",
     "output_type": "stream",
     "text": [
      "Usando GPU para el Trial 28\n",
      "Entrenando Trial 28...\n"
     ]
    },
    {
     "name": "stderr",
     "output_type": "stream",
     "text": [
      "                                                                                                                                                                                                                                                        \r"
     ]
    },
    {
     "name": "stdout",
     "output_type": "stream",
     "text": [
      "Early stopping\n",
      "Trial 28 completado. Mejor precisión en validación: 0.8618683001531393\n"
     ]
    },
    {
     "name": "stderr",
     "output_type": "stream",
     "text": [
      "\u001b[32m[I 2023-11-29 20:30:44,581]\u001b[0m Trial 28 finished with value: 0.8618683001531393 and parameters: {'n_layers': 8, 'residual_threshold_factor': 0.8177981309478264, 'n_units_l0': 1024, 'activation_l0': 'ReLU', 'dropout_l0': 0.19213216564381858, 'batch_norm_l0': True, 'l2_reg_l0': 0.0019298921551447023, 'n_units_l1': 16, 'activation_l1': 'ELU', 'dropout_l1': 0.05817313237018062, 'batch_norm_l1': True, 'l2_reg_l1': 5.166011953187731e-05, 'n_units_l2': 2048, 'activation_l2': 'LeakyReLU', 'dropout_l2': 0.37448047691824005, 'batch_norm_l2': False, 'l2_reg_l2': 0.0014752037278145122, 'leakyrelu_alpha_l2': 0.29475080169021506, 'n_units_l3': 64, 'activation_l3': 'SELU', 'dropout_l3': 0.23990918450460466, 'batch_norm_l3': True, 'l2_reg_l3': 0.0034950890584870826, 'n_units_l4': 64, 'activation_l4': 'SELU', 'dropout_l4': 0.4051856380404001, 'batch_norm_l4': False, 'l2_reg_l4': 0.005260602464594912, 'n_units_l5': 512, 'activation_l5': 'ELU', 'dropout_l5': 0.26606852877242965, 'batch_norm_l5': True, 'l2_reg_l5': 0.01546326002087456, 'n_units_l6': 16, 'activation_l6': 'SELU', 'dropout_l6': 0.37022845141784394, 'batch_norm_l6': False, 'l2_reg_l6': 0.01248845149277136, 'res_connection_index_l6': 0, 'n_units_l7': 128, 'activation_l7': 'Tanh', 'dropout_l7': 0.4136397710843172, 'batch_norm_l7': False, 'l2_reg_l7': 0.0018345629454021653, 'res_connection_index_l7': 0, 'optimizer': 'Adam', 'lr': 0.00022849632121205117, 'adam_beta1': 0.9141313119790455, 'adam_beta2': 0.9172777792598044, 'epochs': 1526, 'batch_size': 64, 'early_stopping_patience': 18, 'lr_reduce_factor': 0.7337969672051858, 'lr_reduce_patience': 39, 'min_lr': 1.7329341134266367e-06}. Best is trial 21 with value: 0.8649310872894334.\u001b[0m\n"
     ]
    },
    {
     "name": "stdout",
     "output_type": "stream",
     "text": [
      "Usando GPU para el Trial 29\n",
      "Entrenando Trial 29...\n"
     ]
    },
    {
     "name": "stderr",
     "output_type": "stream",
     "text": [
      "                                                                                                                                                                                                                                                        \r"
     ]
    },
    {
     "name": "stdout",
     "output_type": "stream",
     "text": [
      "Early stopping\n",
      "Trial 29 completado. Mejor precisión en validación: 0.7886676875957122\n"
     ]
    },
    {
     "name": "stderr",
     "output_type": "stream",
     "text": [
      "\u001b[32m[I 2023-11-29 20:31:01,840]\u001b[0m Trial 29 finished with value: 0.7886676875957122 and parameters: {'n_layers': 9, 'residual_threshold_factor': 0.7554290823094117, 'n_units_l0': 1024, 'activation_l0': 'SELU', 'dropout_l0': 0.2551290626783728, 'batch_norm_l0': True, 'l2_reg_l0': 0.001927214211759962, 'n_units_l1': 16, 'activation_l1': 'ELU', 'dropout_l1': 8.060911255895753e-05, 'batch_norm_l1': True, 'l2_reg_l1': 5.012057647476521e-05, 'n_units_l2': 2048, 'activation_l2': 'LeakyReLU', 'dropout_l2': 0.38112711036976776, 'batch_norm_l2': False, 'l2_reg_l2': 0.0013538325209851835, 'leakyrelu_alpha_l2': 0.2916838275843602, 'n_units_l3': 64, 'activation_l3': 'SELU', 'dropout_l3': 0.2324932792389725, 'batch_norm_l3': True, 'l2_reg_l3': 0.0039824451651167495, 'n_units_l4': 64, 'activation_l4': 'SELU', 'dropout_l4': 0.4994801856400882, 'batch_norm_l4': False, 'l2_reg_l4': 0.00467996513010612, 'n_units_l5': 512, 'activation_l5': 'ELU', 'dropout_l5': 0.26539755337261633, 'batch_norm_l5': True, 'l2_reg_l5': 0.07749879516427076, 'n_units_l6': 16, 'activation_l6': 'SELU', 'dropout_l6': 0.34150341936000567, 'batch_norm_l6': False, 'l2_reg_l6': 0.0103955584266492, 'res_connection_index_l6': 0, 'n_units_l7': 128, 'activation_l7': 'Tanh', 'dropout_l7': 0.42595024658110914, 'batch_norm_l7': False, 'l2_reg_l7': 0.0012068280128112667, 'res_connection_index_l7': 0, 'n_units_l8': 2048, 'activation_l8': 'SELU', 'dropout_l8': 0.38154314170423886, 'batch_norm_l8': False, 'l2_reg_l8': 0.001205025227615414, 'res_connection_index_l8': 0, 'optimizer': 'SGD', 'lr': 0.0007178571705225398, 'sgd_momentum': 0.8618593775285863, 'epochs': 1794, 'batch_size': 512, 'early_stopping_patience': 18, 'lr_reduce_factor': 0.738408943936659, 'lr_reduce_patience': 38, 'min_lr': 1.5673280149971416e-06}. Best is trial 21 with value: 0.8649310872894334.\u001b[0m\n"
     ]
    },
    {
     "name": "stdout",
     "output_type": "stream",
     "text": [
      "Usando GPU para el Trial 30\n",
      "Entrenando Trial 30...\n"
     ]
    },
    {
     "name": "stderr",
     "output_type": "stream",
     "text": [
      "                                                                                                                                                                                                                                                        \r"
     ]
    },
    {
     "name": "stdout",
     "output_type": "stream",
     "text": [
      "Early stopping\n",
      "Trial 30 completado. Mejor precisión en validación: 0.7868300153139357\n"
     ]
    },
    {
     "name": "stderr",
     "output_type": "stream",
     "text": [
      "\u001b[32m[I 2023-11-29 20:32:58,557]\u001b[0m Trial 30 finished with value: 0.7868300153139357 and parameters: {'n_layers': 35, 'residual_threshold_factor': 0.6976205630328405, 'n_units_l0': 256, 'activation_l0': 'Tanh', 'dropout_l0': 0.16739900934325, 'batch_norm_l0': True, 'l2_reg_l0': 0.0022671830045560386, 'n_units_l1': 16, 'activation_l1': 'ELU', 'dropout_l1': 0.06760021697465762, 'batch_norm_l1': True, 'l2_reg_l1': 9.864334236891273e-05, 'n_units_l2': 2048, 'activation_l2': 'LeakyReLU', 'dropout_l2': 0.3550717207657638, 'batch_norm_l2': False, 'l2_reg_l2': 0.002154501293226311, 'leakyrelu_alpha_l2': 0.2901077937746546, 'n_units_l3': 64, 'activation_l3': 'SELU', 'dropout_l3': 0.16261947478778402, 'batch_norm_l3': True, 'l2_reg_l3': 0.029344295332482014, 'n_units_l4': 64, 'activation_l4': 'SELU', 'dropout_l4': 0.4134768630956237, 'batch_norm_l4': False, 'l2_reg_l4': 0.018499854471067258, 'n_units_l5': 512, 'activation_l5': 'ELU', 'dropout_l5': 0.37529639097213846, 'batch_norm_l5': True, 'l2_reg_l5': 0.015251299775355186, 'n_units_l6': 16, 'activation_l6': 'SELU', 'dropout_l6': 0.41370195745896354, 'batch_norm_l6': False, 'l2_reg_l6': 0.014948771760376928, 'n_units_l7': 128, 'activation_l7': 'Tanh', 'dropout_l7': 0.4433667856945101, 'batch_norm_l7': False, 'l2_reg_l7': 0.0002463375824769241, 'n_units_l8': 16, 'activation_l8': 'ELU', 'dropout_l8': 0.3693184155833795, 'batch_norm_l8': False, 'l2_reg_l8': 0.016350823189547472, 'n_units_l9': 128, 'activation_l9': 'ELU', 'dropout_l9': 0.27064053901127894, 'batch_norm_l9': False, 'l2_reg_l9': 0.0956826238550176, 'n_units_l10': 128, 'activation_l10': 'SELU', 'dropout_l10': 0.21645286343881637, 'batch_norm_l10': True, 'l2_reg_l10': 1.2274527446764361e-05, 'n_units_l11': 2048, 'activation_l11': 'Tanh', 'dropout_l11': 0.49298273658647174, 'batch_norm_l11': False, 'l2_reg_l11': 3.899555732439204e-05, 'n_units_l12': 16, 'activation_l12': 'SELU', 'dropout_l12': 0.42618220086489045, 'batch_norm_l12': False, 'l2_reg_l12': 0.00029189960648873784, 'n_units_l13': 512, 'activation_l13': 'SELU', 'dropout_l13': 0.004655609447401121, 'batch_norm_l13': False, 'l2_reg_l13': 0.08395478368875343, 'n_units_l14': 128, 'activation_l14': 'ReLU', 'dropout_l14': 0.002416387522875596, 'batch_norm_l14': False, 'l2_reg_l14': 0.0024972361910500195, 'n_units_l15': 32, 'activation_l15': 'LeakyReLU', 'dropout_l15': 0.3418856382667248, 'batch_norm_l15': False, 'l2_reg_l15': 1.366105699040057e-05, 'leakyrelu_alpha_l15': 0.014135775907241022, 'n_units_l16': 32, 'activation_l16': 'ELU', 'dropout_l16': 0.3402445316222594, 'batch_norm_l16': False, 'l2_reg_l16': 0.0005033429277148413, 'n_units_l17': 512, 'activation_l17': 'LeakyReLU', 'dropout_l17': 0.395031640671517, 'batch_norm_l17': True, 'l2_reg_l17': 0.08719609535440752, 'leakyrelu_alpha_l17': 0.2998927359973643, 'n_units_l18': 512, 'activation_l18': 'ReLU', 'dropout_l18': 0.4113343159403806, 'batch_norm_l18': True, 'l2_reg_l18': 1.1706589398153745e-05, 'n_units_l19': 16, 'activation_l19': 'SELU', 'dropout_l19': 0.32565762815646737, 'batch_norm_l19': False, 'l2_reg_l19': 0.09713788158578626, 'n_units_l20': 16, 'activation_l20': 'ELU', 'dropout_l20': 0.15961326605708256, 'batch_norm_l20': True, 'l2_reg_l20': 0.007518414728542201, 'n_units_l21': 128, 'activation_l21': 'Tanh', 'dropout_l21': 0.4957475831449655, 'batch_norm_l21': True, 'l2_reg_l21': 0.0006295506363074259, 'n_units_l22': 128, 'activation_l22': 'ELU', 'dropout_l22': 0.14104227970342853, 'batch_norm_l22': False, 'l2_reg_l22': 0.08216933103466242, 'n_units_l23': 128, 'activation_l23': 'ReLU', 'dropout_l23': 0.4622347164364694, 'batch_norm_l23': False, 'l2_reg_l23': 0.0001969074659784368, 'n_units_l24': 256, 'activation_l24': 'ELU', 'dropout_l24': 0.20807231388528785, 'batch_norm_l24': False, 'l2_reg_l24': 0.0458396987910178, 'res_connection_index_l24': 0, 'n_units_l25': 1024, 'activation_l25': 'LeakyReLU', 'dropout_l25': 0.13711260781927687, 'batch_norm_l25': False, 'l2_reg_l25': 0.001335270098225311, 'leakyrelu_alpha_l25': 0.03430922114767003, 'res_connection_index_l25': 0, 'n_units_l26': 128, 'activation_l26': 'ELU', 'dropout_l26': 0.29423009998065436, 'batch_norm_l26': False, 'l2_reg_l26': 0.005261190935800966, 'res_connection_index_l26': 0, 'n_units_l27': 64, 'activation_l27': 'LeakyReLU', 'dropout_l27': 0.008555040836117689, 'batch_norm_l27': True, 'l2_reg_l27': 0.00023460302082152783, 'leakyrelu_alpha_l27': 0.2697099130506876, 'res_connection_index_l27': 0, 'n_units_l28': 32, 'activation_l28': 'SELU', 'dropout_l28': 0.04959950276466657, 'batch_norm_l28': True, 'l2_reg_l28': 1.4644799959623294e-05, 'res_connection_index_l28': 0, 'n_units_l29': 2048, 'activation_l29': 'LeakyReLU', 'dropout_l29': 0.18782872699622055, 'batch_norm_l29': False, 'l2_reg_l29': 1.7360835499252902e-05, 'leakyrelu_alpha_l29': 0.28715343710677155, 'res_connection_index_l29': 0, 'n_units_l30': 32, 'activation_l30': 'ReLU', 'dropout_l30': 0.48780312807057197, 'batch_norm_l30': True, 'l2_reg_l30': 1.0463833941355394e-05, 'res_connection_index_l30': 1, 'n_units_l31': 32, 'activation_l31': 'ReLU', 'dropout_l31': 0.4511153143717148, 'batch_norm_l31': True, 'l2_reg_l31': 0.005774856879470005, 'res_connection_index_l31': 2, 'n_units_l32': 256, 'activation_l32': 'ReLU', 'dropout_l32': 0.48758120512415853, 'batch_norm_l32': False, 'l2_reg_l32': 1.1715611428337857e-05, 'res_connection_index_l32': 1, 'n_units_l33': 512, 'activation_l33': 'ELU', 'dropout_l33': 0.014404746055674655, 'batch_norm_l33': False, 'l2_reg_l33': 0.00010122164718647123, 'res_connection_index_l33': 0, 'n_units_l34': 256, 'activation_l34': 'SELU', 'dropout_l34': 0.30901994900753926, 'batch_norm_l34': True, 'l2_reg_l34': 0.00011590983184510254, 'res_connection_index_l34': 2, 'optimizer': 'Adam', 'lr': 0.0002591016386464141, 'adam_beta1': 0.9164673016142749, 'adam_beta2': 0.9122821801314951, 'epochs': 1100, 'batch_size': 256, 'early_stopping_patience': 13, 'lr_reduce_factor': 0.8218309582707739, 'lr_reduce_patience': 39, 'min_lr': 1.955071703544868e-06}. Best is trial 21 with value: 0.8649310872894334.\u001b[0m\n"
     ]
    },
    {
     "name": "stdout",
     "output_type": "stream",
     "text": [
      "Usando GPU para el Trial 31\n",
      "Entrenando Trial 31...\n"
     ]
    },
    {
     "name": "stderr",
     "output_type": "stream",
     "text": [
      "                                                                                                                                                                                                                                                        \r"
     ]
    },
    {
     "name": "stdout",
     "output_type": "stream",
     "text": [
      "Early stopping\n",
      "Trial 31 completado. Mejor precisión en validación: 0.8113323124042879\n"
     ]
    },
    {
     "name": "stderr",
     "output_type": "stream",
     "text": [
      "\u001b[32m[I 2023-11-29 20:33:20,633]\u001b[0m Trial 31 finished with value: 0.8113323124042879 and parameters: {'n_layers': 23, 'residual_threshold_factor': 0.8156082234810379, 'n_units_l0': 128, 'activation_l0': 'ELU', 'dropout_l0': 0.09058607824875886, 'batch_norm_l0': True, 'l2_reg_l0': 0.0005722868977772872, 'n_units_l1': 256, 'activation_l1': 'ELU', 'dropout_l1': 0.15503350709451158, 'batch_norm_l1': True, 'l2_reg_l1': 0.00044307139304971605, 'n_units_l2': 64, 'activation_l2': 'LeakyReLU', 'dropout_l2': 0.38004162637409417, 'batch_norm_l2': False, 'l2_reg_l2': 0.0003914212906202027, 'leakyrelu_alpha_l2': 0.21127197270531714, 'n_units_l3': 256, 'activation_l3': 'SELU', 'dropout_l3': 0.21018065096351404, 'batch_norm_l3': True, 'l2_reg_l3': 0.0030921315816811665, 'n_units_l4': 16, 'activation_l4': 'SELU', 'dropout_l4': 0.3927923202725665, 'batch_norm_l4': False, 'l2_reg_l4': 0.006709693958431763, 'n_units_l5': 16, 'activation_l5': 'ELU', 'dropout_l5': 0.2957171241126924, 'batch_norm_l5': True, 'l2_reg_l5': 0.009234468070278603, 'n_units_l6': 256, 'activation_l6': 'SELU', 'dropout_l6': 0.2829743532319632, 'batch_norm_l6': False, 'l2_reg_l6': 0.00475062068961357, 'n_units_l7': 16, 'activation_l7': 'Tanh', 'dropout_l7': 0.48987308969874777, 'batch_norm_l7': False, 'l2_reg_l7': 0.0011992129008555525, 'n_units_l8': 2048, 'activation_l8': 'LeakyReLU', 'dropout_l8': 0.494886455269634, 'batch_norm_l8': False, 'l2_reg_l8': 0.0003640814921813556, 'leakyrelu_alpha_l8': 0.20744215956519643, 'n_units_l9': 1024, 'activation_l9': 'Tanh', 'dropout_l9': 0.19241290778015813, 'batch_norm_l9': True, 'l2_reg_l9': 0.0007943674343249106, 'n_units_l10': 1024, 'activation_l10': 'ReLU', 'dropout_l10': 0.007943429453266537, 'batch_norm_l10': True, 'l2_reg_l10': 0.033165065415732754, 'n_units_l11': 256, 'activation_l11': 'ReLU', 'dropout_l11': 0.4259621254612246, 'batch_norm_l11': True, 'l2_reg_l11': 5.889787191835977e-05, 'n_units_l12': 16, 'activation_l12': 'SELU', 'dropout_l12': 0.250228964876899, 'batch_norm_l12': False, 'l2_reg_l12': 0.0007504176287473832, 'n_units_l13': 1024, 'activation_l13': 'LeakyReLU', 'dropout_l13': 0.4918695509085863, 'batch_norm_l13': False, 'l2_reg_l13': 0.0011991201027796935, 'leakyrelu_alpha_l13': 0.010787716318110763, 'n_units_l14': 2048, 'activation_l14': 'ReLU', 'dropout_l14': 0.18627852215458657, 'batch_norm_l14': True, 'l2_reg_l14': 0.00036287414281312874, 'n_units_l15': 32, 'activation_l15': 'ELU', 'dropout_l15': 0.32301103073284854, 'batch_norm_l15': True, 'l2_reg_l15': 1.1581974285484588e-05, 'n_units_l16': 32, 'activation_l16': 'SELU', 'dropout_l16': 0.24573775950153504, 'batch_norm_l16': True, 'l2_reg_l16': 0.002929849125911567, 'n_units_l17': 2048, 'activation_l17': 'SELU', 'dropout_l17': 0.3605330970047175, 'batch_norm_l17': False, 'l2_reg_l17': 0.002187403991485095, 'n_units_l18': 1024, 'activation_l18': 'LeakyReLU', 'dropout_l18': 0.002612457362476228, 'batch_norm_l18': False, 'l2_reg_l18': 0.00011064866197290785, 'leakyrelu_alpha_l18': 0.27685429764505437, 'res_connection_index_l18': 0, 'n_units_l19': 16, 'activation_l19': 'ELU', 'dropout_l19': 0.4954817031999618, 'batch_norm_l19': False, 'l2_reg_l19': 0.00017086296193864433, 'res_connection_index_l19': 0, 'n_units_l20': 2048, 'activation_l20': 'LeakyReLU', 'dropout_l20': 0.22075753689237532, 'batch_norm_l20': True, 'l2_reg_l20': 0.004153784371145895, 'leakyrelu_alpha_l20': 0.01184467435675271, 'res_connection_index_l20': 0, 'n_units_l21': 1024, 'activation_l21': 'ReLU', 'dropout_l21': 0.3184878262439579, 'batch_norm_l21': True, 'l2_reg_l21': 2.3815362909029056e-05, 'res_connection_index_l21': 1, 'n_units_l22': 64, 'activation_l22': 'Tanh', 'dropout_l22': 0.14438705049171913, 'batch_norm_l22': False, 'l2_reg_l22': 4.9951821003869615e-05, 'res_connection_index_l22': 0, 'optimizer': 'Adam', 'lr': 0.0004854817425432457, 'adam_beta1': 0.9362565852515162, 'adam_beta2': 0.9289478110585596, 'epochs': 1442, 'batch_size': 1024, 'early_stopping_patience': 17, 'lr_reduce_factor': 0.7269839923018024, 'lr_reduce_patience': 32, 'min_lr': 3.3739533441516557e-06}. Best is trial 21 with value: 0.8649310872894334.\u001b[0m\n"
     ]
    },
    {
     "name": "stdout",
     "output_type": "stream",
     "text": [
      "Usando GPU para el Trial 32\n",
      "Entrenando Trial 32...\n"
     ]
    },
    {
     "name": "stderr",
     "output_type": "stream",
     "text": [
      "                                                                                                                                                                                                                                                        \r"
     ]
    },
    {
     "name": "stdout",
     "output_type": "stream",
     "text": [
      "Early stopping\n",
      "Trial 32 completado. Mejor precisión en validación: 0.8597243491577335\n"
     ]
    },
    {
     "name": "stderr",
     "output_type": "stream",
     "text": [
      "\u001b[32m[I 2023-11-29 20:33:58,871]\u001b[0m Trial 32 finished with value: 0.8597243491577335 and parameters: {'n_layers': 17, 'residual_threshold_factor': 0.8655494379118502, 'n_units_l0': 1024, 'activation_l0': 'ReLU', 'dropout_l0': 0.14495064578830474, 'batch_norm_l0': True, 'l2_reg_l0': 0.001043566908741223, 'n_units_l1': 128, 'activation_l1': 'LeakyReLU', 'dropout_l1': 0.13566886107701684, 'batch_norm_l1': True, 'l2_reg_l1': 8.691801565445173e-05, 'leakyrelu_alpha_l1': 0.2873914793277953, 'n_units_l2': 1024, 'activation_l2': 'LeakyReLU', 'dropout_l2': 0.32373103813796356, 'batch_norm_l2': False, 'l2_reg_l2': 0.0008576291665787744, 'leakyrelu_alpha_l2': 0.24500061813654836, 'n_units_l3': 512, 'activation_l3': 'SELU', 'dropout_l3': 0.2839755086956617, 'batch_norm_l3': True, 'l2_reg_l3': 0.011241114033753732, 'n_units_l4': 2048, 'activation_l4': 'SELU', 'dropout_l4': 0.4516530980134149, 'batch_norm_l4': False, 'l2_reg_l4': 0.0030314934509818483, 'n_units_l5': 1024, 'activation_l5': 'ELU', 'dropout_l5': 0.25662527804473895, 'batch_norm_l5': True, 'l2_reg_l5': 0.003305857045367626, 'n_units_l6': 16, 'activation_l6': 'SELU', 'dropout_l6': 0.34156945837670494, 'batch_norm_l6': False, 'l2_reg_l6': 0.019632081185615404, 'n_units_l7': 1024, 'activation_l7': 'Tanh', 'dropout_l7': 0.38285671452482295, 'batch_norm_l7': False, 'l2_reg_l7': 0.006284744733023894, 'n_units_l8': 1024, 'activation_l8': 'SELU', 'dropout_l8': 0.16997735768171812, 'batch_norm_l8': False, 'l2_reg_l8': 0.0011707075658479262, 'n_units_l9': 1024, 'activation_l9': 'ReLU', 'dropout_l9': 0.020510486803867023, 'batch_norm_l9': False, 'l2_reg_l9': 0.03953908807186602, 'n_units_l10': 2048, 'activation_l10': 'Tanh', 'dropout_l10': 0.10309590647169115, 'batch_norm_l10': True, 'l2_reg_l10': 0.003047401283366463, 'n_units_l11': 16, 'activation_l11': 'LeakyReLU', 'dropout_l11': 0.060710849020896684, 'batch_norm_l11': False, 'l2_reg_l11': 1.0024765524233082e-05, 'leakyrelu_alpha_l11': 0.29046231327635813, 'n_units_l12': 128, 'activation_l12': 'SELU', 'dropout_l12': 0.1601068277587263, 'batch_norm_l12': False, 'l2_reg_l12': 0.009508534915974443, 'n_units_l13': 128, 'activation_l13': 'ReLU', 'dropout_l13': 0.23751809526943274, 'batch_norm_l13': False, 'l2_reg_l13': 0.009598717220246486, 'n_units_l14': 1024, 'activation_l14': 'LeakyReLU', 'dropout_l14': 0.31465841223840807, 'batch_norm_l14': False, 'l2_reg_l14': 0.01692947610434178, 'leakyrelu_alpha_l14': 0.14191705616267175, 'res_connection_index_l14': 0, 'n_units_l15': 256, 'activation_l15': 'Tanh', 'dropout_l15': 0.4739175393339707, 'batch_norm_l15': False, 'l2_reg_l15': 0.00011721079809535182, 'res_connection_index_l15': 0, 'n_units_l16': 256, 'activation_l16': 'ReLU', 'dropout_l16': 0.4970562478805972, 'batch_norm_l16': False, 'l2_reg_l16': 0.00014212626329915086, 'res_connection_index_l16': 1, 'optimizer': 'Adam', 'lr': 0.0013996903617536321, 'adam_beta1': 0.9123601706298854, 'adam_beta2': 0.9107850620090958, 'epochs': 1692, 'batch_size': 2048, 'early_stopping_patience': 19, 'lr_reduce_factor': 0.8468979291888427, 'lr_reduce_patience': 46, 'min_lr': 2.0673429471884383e-06}. Best is trial 21 with value: 0.8649310872894334.\u001b[0m\n"
     ]
    },
    {
     "name": "stdout",
     "output_type": "stream",
     "text": [
      "Usando GPU para el Trial 33\n",
      "Entrenando Trial 33...\n"
     ]
    },
    {
     "name": "stderr",
     "output_type": "stream",
     "text": [
      "                                                                                                                                                                                                                                                        \r"
     ]
    },
    {
     "name": "stdout",
     "output_type": "stream",
     "text": [
      "Early stopping\n",
      "Trial 33 completado. Mejor precisión en validación: 0.6787136294027565\n"
     ]
    },
    {
     "name": "stderr",
     "output_type": "stream",
     "text": [
      "\u001b[32m[I 2023-11-29 20:35:48,877]\u001b[0m Trial 33 finished with value: 0.6787136294027565 and parameters: {'n_layers': 71, 'residual_threshold_factor': 0.7745656539777211, 'n_units_l0': 16, 'activation_l0': 'ReLU', 'dropout_l0': 0.17914798518039185, 'batch_norm_l0': False, 'l2_reg_l0': 0.0010017359515244234, 'n_units_l1': 1024, 'activation_l1': 'ELU', 'dropout_l1': 0.07285838778061438, 'batch_norm_l1': True, 'l2_reg_l1': 1.1430265454248004e-05, 'n_units_l2': 2048, 'activation_l2': 'SELU', 'dropout_l2': 0.46202893901806075, 'batch_norm_l2': False, 'l2_reg_l2': 9.536267827177945e-05, 'n_units_l3': 64, 'activation_l3': 'ELU', 'dropout_l3': 0.14607319381906683, 'batch_norm_l3': True, 'l2_reg_l3': 0.04534524330625754, 'n_units_l4': 64, 'activation_l4': 'SELU', 'dropout_l4': 0.3748175119374717, 'batch_norm_l4': False, 'l2_reg_l4': 0.0010152660458162053, 'n_units_l5': 64, 'activation_l5': 'Tanh', 'dropout_l5': 0.3450223326843769, 'batch_norm_l5': True, 'l2_reg_l5': 0.03285981355091329, 'n_units_l6': 16, 'activation_l6': 'ELU', 'dropout_l6': 0.4148311933916996, 'batch_norm_l6': False, 'l2_reg_l6': 0.006355099492187247, 'n_units_l7': 128, 'activation_l7': 'Tanh', 'dropout_l7': 0.4379084947562894, 'batch_norm_l7': False, 'l2_reg_l7': 0.0004116923837967316, 'n_units_l8': 128, 'activation_l8': 'ReLU', 'dropout_l8': 0.0013833097766425273, 'batch_norm_l8': False, 'l2_reg_l8': 0.003594245790818764, 'n_units_l9': 2048, 'activation_l9': 'LeakyReLU', 'dropout_l9': 0.2622155372849098, 'batch_norm_l9': True, 'l2_reg_l9': 0.005901221019175093, 'leakyrelu_alpha_l9': 0.29880325864081453, 'n_units_l10': 1024, 'activation_l10': 'LeakyReLU', 'dropout_l10': 0.21911811004855117, 'batch_norm_l10': True, 'l2_reg_l10': 4.117008942317941e-05, 'leakyrelu_alpha_l10': 0.2958422293321512, 'n_units_l11': 512, 'activation_l11': 'ReLU', 'dropout_l11': 0.3865983951223548, 'batch_norm_l11': True, 'l2_reg_l11': 6.676276381183642e-05, 'n_units_l12': 512, 'activation_l12': 'ELU', 'dropout_l12': 0.27816262550303567, 'batch_norm_l12': True, 'l2_reg_l12': 3.5784652595071916e-05, 'n_units_l13': 128, 'activation_l13': 'ReLU', 'dropout_l13': 0.1548395007586057, 'batch_norm_l13': False, 'l2_reg_l13': 0.0008690430398970814, 'n_units_l14': 64, 'activation_l14': 'ELU', 'dropout_l14': 0.39007371269032576, 'batch_norm_l14': True, 'l2_reg_l14': 0.002521529440780744, 'n_units_l15': 512, 'activation_l15': 'ELU', 'dropout_l15': 0.39866789160835026, 'batch_norm_l15': True, 'l2_reg_l15': 0.0023818223555879107, 'n_units_l16': 1024, 'activation_l16': 'ReLU', 'dropout_l16': 0.314830734449047, 'batch_norm_l16': True, 'l2_reg_l16': 0.008313564029673223, 'n_units_l17': 128, 'activation_l17': 'ReLU', 'dropout_l17': 0.3425706377960738, 'batch_norm_l17': True, 'l2_reg_l17': 0.001922140341853896, 'n_units_l18': 128, 'activation_l18': 'ReLU', 'dropout_l18': 0.3112771251257679, 'batch_norm_l18': False, 'l2_reg_l18': 0.05543390478894196, 'n_units_l19': 64, 'activation_l19': 'SELU', 'dropout_l19': 0.2990140880652497, 'batch_norm_l19': True, 'l2_reg_l19': 1.5137687989423104e-05, 'n_units_l20': 128, 'activation_l20': 'ELU', 'dropout_l20': 0.09492841721356493, 'batch_norm_l20': True, 'l2_reg_l20': 0.01639449524395371, 'n_units_l21': 256, 'activation_l21': 'Tanh', 'dropout_l21': 0.4888323786305954, 'batch_norm_l21': True, 'l2_reg_l21': 0.09333722266179967, 'n_units_l22': 32, 'activation_l22': 'ELU', 'dropout_l22': 0.31194112287276093, 'batch_norm_l22': True, 'l2_reg_l22': 0.0032830243908237616, 'n_units_l23': 1024, 'activation_l23': 'SELU', 'dropout_l23': 0.4902761598041638, 'batch_norm_l23': False, 'l2_reg_l23': 9.47001321027404e-05, 'n_units_l24': 1024, 'activation_l24': 'SELU', 'dropout_l24': 0.21166374931222343, 'batch_norm_l24': False, 'l2_reg_l24': 0.003114194597407389, 'n_units_l25': 64, 'activation_l25': 'Tanh', 'dropout_l25': 0.2696832577487076, 'batch_norm_l25': True, 'l2_reg_l25': 0.00013020555474511025, 'n_units_l26': 1024, 'activation_l26': 'Tanh', 'dropout_l26': 0.4866228649682937, 'batch_norm_l26': False, 'l2_reg_l26': 0.08906713587412265, 'n_units_l27': 1024, 'activation_l27': 'Tanh', 'dropout_l27': 0.2085491783177081, 'batch_norm_l27': False, 'l2_reg_l27': 0.00043031866371187193, 'n_units_l28': 512, 'activation_l28': 'ReLU', 'dropout_l28': 0.014774458971193283, 'batch_norm_l28': True, 'l2_reg_l28': 0.005560053950334362, 'n_units_l29': 512, 'activation_l29': 'Tanh', 'dropout_l29': 0.2704603593547001, 'batch_norm_l29': False, 'l2_reg_l29': 0.0001915353193132755, 'n_units_l30': 16, 'activation_l30': 'Tanh', 'dropout_l30': 0.3860151451605891, 'batch_norm_l30': True, 'l2_reg_l30': 9.51577166022902e-05, 'n_units_l31': 1024, 'activation_l31': 'LeakyReLU', 'dropout_l31': 0.49493014380447825, 'batch_norm_l31': True, 'l2_reg_l31': 0.052895437520195515, 'leakyrelu_alpha_l31': 0.012062386877386533, 'n_units_l32': 64, 'activation_l32': 'LeakyReLU', 'dropout_l32': 0.15182795461797238, 'batch_norm_l32': False, 'l2_reg_l32': 0.09721043463532705, 'leakyrelu_alpha_l32': 0.01916832268741972, 'n_units_l33': 256, 'activation_l33': 'LeakyReLU', 'dropout_l33': 0.14767318218048542, 'batch_norm_l33': True, 'l2_reg_l33': 0.008664860092817937, 'leakyrelu_alpha_l33': 0.02792555892604162, 'n_units_l34': 64, 'activation_l34': 'LeakyReLU', 'dropout_l34': 0.13243811528880886, 'batch_norm_l34': False, 'l2_reg_l34': 0.0011357748667678736, 'leakyrelu_alpha_l34': 0.26645903759214357, 'n_units_l35': 256, 'activation_l35': 'ReLU', 'dropout_l35': 0.20585794774617405, 'batch_norm_l35': False, 'l2_reg_l35': 1.2370893148651407e-05, 'n_units_l36': 16, 'activation_l36': 'ELU', 'dropout_l36': 0.2935951701694102, 'batch_norm_l36': False, 'l2_reg_l36': 0.000181730649442399, 'n_units_l37': 128, 'activation_l37': 'Tanh', 'dropout_l37': 0.008006586915188296, 'batch_norm_l37': True, 'l2_reg_l37': 0.006203394535785177, 'n_units_l38': 64, 'activation_l38': 'ReLU', 'dropout_l38': 0.0018684131554849714, 'batch_norm_l38': True, 'l2_reg_l38': 1.580650770668416e-05, 'n_units_l39': 2048, 'activation_l39': 'ELU', 'dropout_l39': 0.004436550484019586, 'batch_norm_l39': False, 'l2_reg_l39': 0.00018281921762396895, 'n_units_l40': 64, 'activation_l40': 'ReLU', 'dropout_l40': 0.3277994747541394, 'batch_norm_l40': True, 'l2_reg_l40': 0.05654381640988597, 'n_units_l41': 256, 'activation_l41': 'ReLU', 'dropout_l41': 0.458041490687059, 'batch_norm_l41': False, 'l2_reg_l41': 1.180688173249496e-05, 'n_units_l42': 16, 'activation_l42': 'SELU', 'dropout_l42': 0.01681382227725836, 'batch_norm_l42': True, 'l2_reg_l42': 1.2675001749991477e-05, 'n_units_l43': 32, 'activation_l43': 'LeakyReLU', 'dropout_l43': 0.035512399992031485, 'batch_norm_l43': False, 'l2_reg_l43': 1.8166217669095383e-05, 'leakyrelu_alpha_l43': 0.15923824939927153, 'n_units_l44': 64, 'activation_l44': 'ReLU', 'dropout_l44': 0.01331915904029729, 'batch_norm_l44': False, 'l2_reg_l44': 1.0227509235858665e-05, 'n_units_l45': 256, 'activation_l45': 'ELU', 'dropout_l45': 0.45069336181402403, 'batch_norm_l45': True, 'l2_reg_l45': 0.09455928098686216, 'n_units_l46': 1024, 'activation_l46': 'ReLU', 'dropout_l46': 0.15767876188212834, 'batch_norm_l46': True, 'l2_reg_l46': 1.0759778912038194e-05, 'n_units_l47': 512, 'activation_l47': 'ELU', 'dropout_l47': 0.160816027692822, 'batch_norm_l47': True, 'l2_reg_l47': 1.1007775100455283e-05, 'n_units_l48': 512, 'activation_l48': 'Tanh', 'dropout_l48': 0.029846783498137686, 'batch_norm_l48': False, 'l2_reg_l48': 0.06308211961737047, 'n_units_l49': 16, 'activation_l49': 'Tanh', 'dropout_l49': 0.4734995614193992, 'batch_norm_l49': False, 'l2_reg_l49': 1.052720534785378e-05, 'n_units_l50': 128, 'activation_l50': 'ReLU', 'dropout_l50': 0.03182166776850642, 'batch_norm_l50': False, 'l2_reg_l50': 1.7229603836451968e-05, 'n_units_l51': 1024, 'activation_l51': 'Tanh', 'dropout_l51': 0.01581733925513157, 'batch_norm_l51': True, 'l2_reg_l51': 0.09751973013268261, 'n_units_l52': 32, 'activation_l52': 'ReLU', 'dropout_l52': 0.0013427713805878039, 'batch_norm_l52': False, 'l2_reg_l52': 0.0006782695381905996, 'n_units_l53': 256, 'activation_l53': 'ELU', 'dropout_l53': 0.48473581512647496, 'batch_norm_l53': True, 'l2_reg_l53': 1.542460330487356e-05, 'n_units_l54': 64, 'activation_l54': 'SELU', 'dropout_l54': 0.002114958021746327, 'batch_norm_l54': True, 'l2_reg_l54': 1.020947722656026e-05, 'res_connection_index_l54': 0, 'n_units_l55': 128, 'activation_l55': 'Tanh', 'dropout_l55': 0.06101360543563816, 'batch_norm_l55': True, 'l2_reg_l55': 1.3740638539084022e-05, 'res_connection_index_l55': 0, 'n_units_l56': 64, 'activation_l56': 'LeakyReLU', 'dropout_l56': 0.49998729176970164, 'batch_norm_l56': False, 'l2_reg_l56': 2.2363907824118928e-05, 'leakyrelu_alpha_l56': 0.10909766076589558, 'res_connection_index_l56': 1, 'n_units_l57': 64, 'activation_l57': 'SELU', 'dropout_l57': 0.003932117232959609, 'batch_norm_l57': True, 'l2_reg_l57': 1.4270765117191741e-05, 'res_connection_index_l57': 1, 'n_units_l58': 32, 'activation_l58': 'SELU', 'dropout_l58': 0.46372732360919067, 'batch_norm_l58': True, 'l2_reg_l58': 0.07129729636360943, 'res_connection_index_l58': 0, 'n_units_l59': 1024, 'activation_l59': 'SELU', 'dropout_l59': 0.49887922820146674, 'batch_norm_l59': False, 'l2_reg_l59': 0.0487587679392766, 'res_connection_index_l59': 0, 'n_units_l60': 256, 'activation_l60': 'ELU', 'dropout_l60': 0.002722816497313929, 'batch_norm_l60': False, 'l2_reg_l60': 2.070792192893057e-05, 'res_connection_index_l60': 0, 'n_units_l61': 32, 'activation_l61': 'SELU', 'dropout_l61': 0.001215176015471664, 'batch_norm_l61': False, 'l2_reg_l61': 0.09443032125224413, 'res_connection_index_l61': 1, 'n_units_l62': 16, 'activation_l62': 'ELU', 'dropout_l62': 0.006275124584309177, 'batch_norm_l62': False, 'l2_reg_l62': 1.0108202215648974e-05, 'res_connection_index_l62': 0, 'n_units_l63': 512, 'activation_l63': 'LeakyReLU', 'dropout_l63': 0.4652113724647118, 'batch_norm_l63': False, 'l2_reg_l63': 0.00025981006888096654, 'leakyrelu_alpha_l63': 0.26241526084786987, 'res_connection_index_l63': 0, 'n_units_l64': 128, 'activation_l64': 'ELU', 'dropout_l64': 0.003194362230823311, 'batch_norm_l64': True, 'l2_reg_l64': 1.2395810496800082e-05, 'res_connection_index_l64': 0, 'n_units_l65': 512, 'activation_l65': 'ReLU', 'dropout_l65': 0.0012148147799665443, 'batch_norm_l65': True, 'l2_reg_l65': 1.0061539103796544e-05, 'res_connection_index_l65': 0, 'n_units_l66': 16, 'activation_l66': 'SELU', 'dropout_l66': 0.4944626136226442, 'batch_norm_l66': True, 'l2_reg_l66': 1.0904167622689349e-05, 'res_connection_index_l66': 1, 'n_units_l67': 2048, 'activation_l67': 'LeakyReLU', 'dropout_l67': 0.05198480054509286, 'batch_norm_l67': False, 'l2_reg_l67': 1.0841480808616228e-05, 'leakyrelu_alpha_l67': 0.06270250519697045, 'res_connection_index_l67': 0, 'n_units_l68': 2048, 'activation_l68': 'ELU', 'dropout_l68': 0.4983732460219055, 'batch_norm_l68': False, 'l2_reg_l68': 2.4883840641806215e-05, 'res_connection_index_l68': 1, 'n_units_l69': 512, 'activation_l69': 'ReLU', 'dropout_l69': 0.0008049644961020674, 'batch_norm_l69': True, 'l2_reg_l69': 1.213715227985154e-05, 'res_connection_index_l69': 2, 'n_units_l70': 64, 'activation_l70': 'LeakyReLU', 'dropout_l70': 0.46688701585989073, 'batch_norm_l70': True, 'l2_reg_l70': 1.0257281270891196e-05, 'leakyrelu_alpha_l70': 0.10598575767065384, 'res_connection_index_l70': 0, 'optimizer': 'SGD', 'lr': 9.590873294483921e-05, 'sgd_momentum': 0.22010403524723499, 'epochs': 1871, 'batch_size': 128, 'early_stopping_patience': 10, 'lr_reduce_factor': 0.763028136331813, 'lr_reduce_patience': 47, 'min_lr': 1.4145230670104821e-06}. Best is trial 21 with value: 0.8649310872894334.\u001b[0m\n"
     ]
    },
    {
     "name": "stdout",
     "output_type": "stream",
     "text": [
      "Usando GPU para el Trial 34\n",
      "Entrenando Trial 34...\n"
     ]
    },
    {
     "name": "stderr",
     "output_type": "stream",
     "text": [
      "                                                                                                                                                                                                                                                        \r"
     ]
    },
    {
     "name": "stdout",
     "output_type": "stream",
     "text": [
      "Early stopping\n",
      "Trial 34 completado. Mejor precisión en validación: 0.8373660030627872\n"
     ]
    },
    {
     "name": "stderr",
     "output_type": "stream",
     "text": [
      "\u001b[32m[I 2023-11-29 20:36:29,888]\u001b[0m Trial 34 finished with value: 0.8373660030627872 and parameters: {'n_layers': 8, 'residual_threshold_factor': 0.8793540476123936, 'n_units_l0': 1024, 'activation_l0': 'ReLU', 'dropout_l0': 0.2041605218524875, 'batch_norm_l0': True, 'l2_reg_l0': 0.00010853555475887624, 'n_units_l1': 16, 'activation_l1': 'ELU', 'dropout_l1': 0.03002391356377772, 'batch_norm_l1': True, 'l2_reg_l1': 2.7434777773132054e-05, 'n_units_l2': 16, 'activation_l2': 'LeakyReLU', 'dropout_l2': 0.30410517666569964, 'batch_norm_l2': False, 'l2_reg_l2': 0.0003648305558223697, 'leakyrelu_alpha_l2': 0.12785040603091713, 'n_units_l3': 2048, 'activation_l3': 'SELU', 'dropout_l3': 0.26043344340335317, 'batch_norm_l3': True, 'l2_reg_l3': 0.0960946032498708, 'n_units_l4': 128, 'activation_l4': 'SELU', 'dropout_l4': 0.4716313129048943, 'batch_norm_l4': False, 'l2_reg_l4': 0.09353246288284449, 'n_units_l5': 512, 'activation_l5': 'ELU', 'dropout_l5': 0.16303346647827316, 'batch_norm_l5': True, 'l2_reg_l5': 0.08985039511806453, 'n_units_l6': 16, 'activation_l6': 'SELU', 'dropout_l6': 0.2459437821368593, 'batch_norm_l6': False, 'l2_reg_l6': 0.0025512984798072257, 'n_units_l7': 128, 'activation_l7': 'Tanh', 'dropout_l7': 0.39891087887632365, 'batch_norm_l7': False, 'l2_reg_l7': 0.00012407342286490012, 'res_connection_index_l7': 0, 'optimizer': 'Adam', 'lr': 0.0002356993194990932, 'adam_beta1': 0.9401391446383762, 'adam_beta2': 0.9009347498167035, 'epochs': 1446, 'batch_size': 64, 'early_stopping_patience': 13, 'lr_reduce_factor': 0.6936200706036417, 'lr_reduce_patience': 43, 'min_lr': 1.2255946941569704e-06}. Best is trial 21 with value: 0.8649310872894334.\u001b[0m\n"
     ]
    },
    {
     "name": "stdout",
     "output_type": "stream",
     "text": [
      "Usando GPU para el Trial 35\n",
      "Entrenando Trial 35...\n"
     ]
    },
    {
     "name": "stderr",
     "output_type": "stream",
     "text": [
      "                                                                                                                                                                                                                                                        \r"
     ]
    },
    {
     "name": "stdout",
     "output_type": "stream",
     "text": [
      "Early stopping\n",
      "Trial 35 completado. Mejor precisión en validación: 0.8468606431852986\n"
     ]
    },
    {
     "name": "stderr",
     "output_type": "stream",
     "text": [
      "\u001b[32m[I 2023-11-29 20:36:49,961]\u001b[0m Trial 35 finished with value: 0.8468606431852986 and parameters: {'n_layers': 16, 'residual_threshold_factor': 0.8287750405769974, 'n_units_l0': 1024, 'activation_l0': 'ReLU', 'dropout_l0': 0.14998324997877138, 'batch_norm_l0': True, 'l2_reg_l0': 0.0011327155770162922, 'n_units_l1': 128, 'activation_l1': 'LeakyReLU', 'dropout_l1': 0.07989446397306026, 'batch_norm_l1': True, 'l2_reg_l1': 0.00010523538338961632, 'leakyrelu_alpha_l1': 0.29985063206490686, 'n_units_l2': 1024, 'activation_l2': 'LeakyReLU', 'dropout_l2': 0.32089274102808285, 'batch_norm_l2': False, 'l2_reg_l2': 0.0011199769447763398, 'leakyrelu_alpha_l2': 0.25596704657607056, 'n_units_l3': 512, 'activation_l3': 'SELU', 'dropout_l3': 0.27754982342731016, 'batch_norm_l3': True, 'l2_reg_l3': 0.01072341505940071, 'n_units_l4': 2048, 'activation_l4': 'SELU', 'dropout_l4': 0.43955599599093814, 'batch_norm_l4': False, 'l2_reg_l4': 0.00271720933125276, 'n_units_l5': 1024, 'activation_l5': 'ELU', 'dropout_l5': 0.25172018575539795, 'batch_norm_l5': True, 'l2_reg_l5': 0.0035664790729425734, 'n_units_l6': 16, 'activation_l6': 'SELU', 'dropout_l6': 0.33917475921211593, 'batch_norm_l6': False, 'l2_reg_l6': 0.04191335140904513, 'n_units_l7': 1024, 'activation_l7': 'Tanh', 'dropout_l7': 0.37209581738836034, 'batch_norm_l7': False, 'l2_reg_l7': 0.004086787784374195, 'n_units_l8': 1024, 'activation_l8': 'SELU', 'dropout_l8': 0.1605725241575347, 'batch_norm_l8': False, 'l2_reg_l8': 0.0013713280943279506, 'n_units_l9': 1024, 'activation_l9': 'ReLU', 'dropout_l9': 0.0002210743404394977, 'batch_norm_l9': False, 'l2_reg_l9': 0.024721061204017375, 'n_units_l10': 2048, 'activation_l10': 'Tanh', 'dropout_l10': 0.08885088898520659, 'batch_norm_l10': True, 'l2_reg_l10': 0.0029733986137633036, 'n_units_l11': 16, 'activation_l11': 'LeakyReLU', 'dropout_l11': 0.06491633494009447, 'batch_norm_l11': False, 'l2_reg_l11': 2.7870622631594532e-05, 'leakyrelu_alpha_l11': 0.2965946710815815, 'n_units_l12': 128, 'activation_l12': 'SELU', 'dropout_l12': 0.18243123334239356, 'batch_norm_l12': False, 'l2_reg_l12': 0.008034014318886883, 'n_units_l13': 128, 'activation_l13': 'ReLU', 'dropout_l13': 0.24093583985022785, 'batch_norm_l13': False, 'l2_reg_l13': 0.011949529409740298, 'res_connection_index_l13': 0, 'n_units_l14': 1024, 'activation_l14': 'LeakyReLU', 'dropout_l14': 0.30273450930492707, 'batch_norm_l14': False, 'l2_reg_l14': 0.01997268222010124, 'leakyrelu_alpha_l14': 0.1413586055971184, 'res_connection_index_l14': 0, 'n_units_l15': 256, 'activation_l15': 'Tanh', 'dropout_l15': 0.48415632786659446, 'batch_norm_l15': False, 'l2_reg_l15': 0.00010705481302880316, 'res_connection_index_l15': 0, 'optimizer': 'Adam', 'lr': 0.0015458864511815904, 'adam_beta1': 0.9070534708975557, 'adam_beta2': 0.9120562460952952, 'epochs': 1634, 'batch_size': 2048, 'early_stopping_patience': 19, 'lr_reduce_factor': 0.8278965151714544, 'lr_reduce_patience': 46, 'min_lr': 2.0690376897984783e-06}. Best is trial 21 with value: 0.8649310872894334.\u001b[0m\n"
     ]
    },
    {
     "name": "stdout",
     "output_type": "stream",
     "text": [
      "Usando GPU para el Trial 36\n",
      "Entrenando Trial 36...\n"
     ]
    },
    {
     "name": "stderr",
     "output_type": "stream",
     "text": [
      "                                                                                                                                                                                                                                                        \r"
     ]
    },
    {
     "name": "stdout",
     "output_type": "stream",
     "text": [
      "Early stopping\n",
      "Trial 36 completado. Mejor precisión en validación: 0.8811638591117917\n"
     ]
    },
    {
     "name": "stderr",
     "output_type": "stream",
     "text": [
      "\u001b[32m[I 2023-11-29 20:37:25,367]\u001b[0m Trial 36 finished with value: 0.8811638591117917 and parameters: {'n_layers': 6, 'residual_threshold_factor': 0.8707102322712658, 'n_units_l0': 1024, 'activation_l0': 'ReLU', 'dropout_l0': 0.13379536421288565, 'batch_norm_l0': True, 'l2_reg_l0': 0.0032493747882847246, 'n_units_l1': 128, 'activation_l1': 'LeakyReLU', 'dropout_l1': 0.1445705360222495, 'batch_norm_l1': True, 'l2_reg_l1': 5.792317861613786e-05, 'leakyrelu_alpha_l1': 0.21702599681864926, 'n_units_l2': 1024, 'activation_l2': 'LeakyReLU', 'dropout_l2': 0.383351950010257, 'batch_norm_l2': False, 'l2_reg_l2': 0.0008844803139996118, 'leakyrelu_alpha_l2': 0.2456199631400191, 'n_units_l3': 512, 'activation_l3': 'SELU', 'dropout_l3': 0.18239381353549605, 'batch_norm_l3': True, 'l2_reg_l3': 0.017567243166224638, 'n_units_l4': 2048, 'activation_l4': 'SELU', 'dropout_l4': 0.4635729068063099, 'batch_norm_l4': False, 'l2_reg_l4': 0.009971636196969145, 'n_units_l5': 1024, 'activation_l5': 'ELU', 'dropout_l5': 0.24898594631254944, 'batch_norm_l5': True, 'l2_reg_l5': 0.01291975533178831, 'res_connection_index_l5': 0, 'optimizer': 'Adam', 'lr': 0.000550223435355847, 'adam_beta1': 0.9161792167166124, 'adam_beta2': 0.9119081780710605, 'epochs': 1695, 'batch_size': 2048, 'early_stopping_patience': 19, 'lr_reduce_factor': 0.7928916196843672, 'lr_reduce_patience': 38, 'min_lr': 1.5567792893396024e-06}. Best is trial 36 with value: 0.8811638591117917.\u001b[0m\n"
     ]
    },
    {
     "name": "stdout",
     "output_type": "stream",
     "text": [
      "Usando GPU para el Trial 37\n",
      "Entrenando Trial 37...\n"
     ]
    },
    {
     "name": "stderr",
     "output_type": "stream",
     "text": [
      "                                                                                                                                                                                                                                                        \r"
     ]
    },
    {
     "name": "stdout",
     "output_type": "stream",
     "text": [
      "Early stopping\n",
      "Trial 37 completado. Mejor precisión en validación: 0.8744257274119449\n"
     ]
    },
    {
     "name": "stderr",
     "output_type": "stream",
     "text": [
      "\u001b[32m[I 2023-11-29 20:38:07,440]\u001b[0m Trial 37 finished with value: 0.8744257274119449 and parameters: {'n_layers': 7, 'residual_threshold_factor': 0.8784532003181319, 'n_units_l0': 1024, 'activation_l0': 'ELU', 'dropout_l0': 0.11155044565043018, 'batch_norm_l0': True, 'l2_reg_l0': 0.004082217800333051, 'n_units_l1': 128, 'activation_l1': 'LeakyReLU', 'dropout_l1': 0.038613172203688484, 'batch_norm_l1': True, 'l2_reg_l1': 4.950801576832839e-05, 'leakyrelu_alpha_l1': 0.19705830189359436, 'n_units_l2': 1024, 'activation_l2': 'LeakyReLU', 'dropout_l2': 0.3751120561190296, 'batch_norm_l2': False, 'l2_reg_l2': 0.0002671198732240609, 'leakyrelu_alpha_l2': 0.26015858111531426, 'n_units_l3': 512, 'activation_l3': 'SELU', 'dropout_l3': 0.19927066512077174, 'batch_norm_l3': True, 'l2_reg_l3': 0.043800198655561576, 'n_units_l4': 2048, 'activation_l4': 'SELU', 'dropout_l4': 0.4071837540637643, 'batch_norm_l4': False, 'l2_reg_l4': 0.010425494213702901, 'n_units_l5': 1024, 'activation_l5': 'ELU', 'dropout_l5': 0.24528445911149976, 'batch_norm_l5': True, 'l2_reg_l5': 0.021089953578641466, 'n_units_l6': 64, 'activation_l6': 'ELU', 'dropout_l6': 0.38249881783258044, 'batch_norm_l6': False, 'l2_reg_l6': 0.018225985672005333, 'res_connection_index_l6': 0, 'optimizer': 'Adam', 'lr': 0.0005322830739364951, 'adam_beta1': 0.921672696167745, 'adam_beta2': 0.9276345651923561, 'epochs': 1825, 'batch_size': 2048, 'early_stopping_patience': 19, 'lr_reduce_factor': 0.7817175799809143, 'lr_reduce_patience': 38, 'min_lr': 1.4249264191186364e-06}. Best is trial 36 with value: 0.8811638591117917.\u001b[0m\n"
     ]
    },
    {
     "name": "stdout",
     "output_type": "stream",
     "text": [
      "Usando GPU para el Trial 38\n",
      "Entrenando Trial 38...\n"
     ]
    },
    {
     "name": "stderr",
     "output_type": "stream",
     "text": [
      "                                                                                                                                                                                                                                                        \r"
     ]
    },
    {
     "name": "stdout",
     "output_type": "stream",
     "text": [
      "Early stopping\n",
      "Trial 38 completado. Mejor precisión en validación: 0.678407350689127\n"
     ]
    },
    {
     "name": "stderr",
     "output_type": "stream",
     "text": [
      "\u001b[32m[I 2023-11-29 20:38:42,046]\u001b[0m Trial 38 finished with value: 0.678407350689127 and parameters: {'n_layers': 97, 'residual_threshold_factor': 0.8768870952905711, 'n_units_l0': 64, 'activation_l0': 'ELU', 'dropout_l0': 0.10171228514956497, 'batch_norm_l0': False, 'l2_reg_l0': 0.003838306046651829, 'n_units_l1': 128, 'activation_l1': 'LeakyReLU', 'dropout_l1': 0.09450346119213057, 'batch_norm_l1': True, 'l2_reg_l1': 5.1301112830332285e-05, 'leakyrelu_alpha_l1': 0.2083055643589473, 'n_units_l2': 1024, 'activation_l2': 'LeakyReLU', 'dropout_l2': 0.3521697344289657, 'batch_norm_l2': False, 'l2_reg_l2': 0.0002376902599046778, 'leakyrelu_alpha_l2': 0.25060512794976664, 'n_units_l3': 512, 'activation_l3': 'SELU', 'dropout_l3': 0.1890938400493103, 'batch_norm_l3': True, 'l2_reg_l3': 0.05310759655139995, 'n_units_l4': 2048, 'activation_l4': 'SELU', 'dropout_l4': 0.49539891823855553, 'batch_norm_l4': False, 'l2_reg_l4': 0.009932451491677563, 'n_units_l5': 1024, 'activation_l5': 'ELU', 'dropout_l5': 0.23951147386408625, 'batch_norm_l5': True, 'l2_reg_l5': 0.028950666429283154, 'n_units_l6': 64, 'activation_l6': 'ELU', 'dropout_l6': 0.2917922436577546, 'batch_norm_l6': False, 'l2_reg_l6': 0.025005351331074864, 'n_units_l7': 16, 'activation_l7': 'LeakyReLU', 'dropout_l7': 0.2723983599085452, 'batch_norm_l7': True, 'l2_reg_l7': 2.7707079483144378e-05, 'leakyrelu_alpha_l7': 0.2952787390679332, 'n_units_l8': 256, 'activation_l8': 'ELU', 'dropout_l8': 0.10623374575927186, 'batch_norm_l8': True, 'l2_reg_l8': 0.000647722098826526, 'n_units_l9': 32, 'activation_l9': 'Tanh', 'dropout_l9': 0.1056226428513874, 'batch_norm_l9': True, 'l2_reg_l9': 0.0037433132040519106, 'n_units_l10': 512, 'activation_l10': 'ReLU', 'dropout_l10': 0.3006976742561286, 'batch_norm_l10': False, 'l2_reg_l10': 0.0005341222603107086, 'n_units_l11': 256, 'activation_l11': 'Tanh', 'dropout_l11': 0.2084917931782193, 'batch_norm_l11': True, 'l2_reg_l11': 0.000888054034130773, 'n_units_l12': 2048, 'activation_l12': 'ReLU', 'dropout_l12': 0.0019749733269083247, 'batch_norm_l12': True, 'l2_reg_l12': 0.00012723172178684514, 'n_units_l13': 256, 'activation_l13': 'SELU', 'dropout_l13': 0.3602222801347121, 'batch_norm_l13': False, 'l2_reg_l13': 0.03466041264917585, 'n_units_l14': 512, 'activation_l14': 'ReLU', 'dropout_l14': 0.4954022464380685, 'batch_norm_l14': True, 'l2_reg_l14': 0.00024604216022613816, 'n_units_l15': 32, 'activation_l15': 'LeakyReLU', 'dropout_l15': 0.31400897323204646, 'batch_norm_l15': True, 'l2_reg_l15': 0.0003245753407251401, 'leakyrelu_alpha_l15': 0.2973855660400515, 'n_units_l16': 128, 'activation_l16': 'SELU', 'dropout_l16': 0.20316111083081997, 'batch_norm_l16': True, 'l2_reg_l16': 0.0013690688580146203, 'n_units_l17': 256, 'activation_l17': 'ReLU', 'dropout_l17': 0.48383319008584663, 'batch_norm_l17': False, 'l2_reg_l17': 0.0003155840011424915, 'n_units_l18': 16, 'activation_l18': 'SELU', 'dropout_l18': 0.2179886383395086, 'batch_norm_l18': True, 'l2_reg_l18': 0.08446785559480788, 'n_units_l19': 128, 'activation_l19': 'Tanh', 'dropout_l19': 0.28640607126860357, 'batch_norm_l19': False, 'l2_reg_l19': 0.0001720508304228523, 'n_units_l20': 1024, 'activation_l20': 'SELU', 'dropout_l20': 0.2411120870605418, 'batch_norm_l20': True, 'l2_reg_l20': 0.0004947497084894487, 'n_units_l21': 128, 'activation_l21': 'ELU', 'dropout_l21': 0.32022843571231024, 'batch_norm_l21': True, 'l2_reg_l21': 1.229042361817154e-05, 'n_units_l22': 64, 'activation_l22': 'LeakyReLU', 'dropout_l22': 0.1872782807230661, 'batch_norm_l22': True, 'l2_reg_l22': 0.0001313296541779191, 'leakyrelu_alpha_l22': 0.29603439329051096, 'n_units_l23': 128, 'activation_l23': 'LeakyReLU', 'dropout_l23': 0.34222886744666703, 'batch_norm_l23': False, 'l2_reg_l23': 6.874293975771354e-05, 'leakyrelu_alpha_l23': 0.29455138726461516, 'n_units_l24': 256, 'activation_l24': 'ELU', 'dropout_l24': 0.3313137418228568, 'batch_norm_l24': False, 'l2_reg_l24': 0.0763187111320324, 'n_units_l25': 128, 'activation_l25': 'ReLU', 'dropout_l25': 0.10857618898590915, 'batch_norm_l25': False, 'l2_reg_l25': 0.0011903662335047407, 'n_units_l26': 16, 'activation_l26': 'ELU', 'dropout_l26': 0.2570567097801153, 'batch_norm_l26': False, 'l2_reg_l26': 0.00013782559466127728, 'n_units_l27': 64, 'activation_l27': 'ELU', 'dropout_l27': 0.4036507844344263, 'batch_norm_l27': False, 'l2_reg_l27': 9.453445063350242e-05, 'n_units_l28': 2048, 'activation_l28': 'ELU', 'dropout_l28': 0.30175265239047927, 'batch_norm_l28': True, 'l2_reg_l28': 0.0037349034924178993, 'n_units_l29': 1024, 'activation_l29': 'LeakyReLU', 'dropout_l29': 0.1579402470257234, 'batch_norm_l29': False, 'l2_reg_l29': 1.048042798985671e-05, 'leakyrelu_alpha_l29': 0.01859933354050819, 'n_units_l30': 1024, 'activation_l30': 'ReLU', 'dropout_l30': 0.38699917686667823, 'batch_norm_l30': True, 'l2_reg_l30': 0.003945414568885026, 'n_units_l31': 64, 'activation_l31': 'Tanh', 'dropout_l31': 0.2572717823536566, 'batch_norm_l31': True, 'l2_reg_l31': 4.698901196838606e-05, 'n_units_l32': 512, 'activation_l32': 'LeakyReLU', 'dropout_l32': 0.37350638300375905, 'batch_norm_l32': False, 'l2_reg_l32': 0.00031809968194242697, 'leakyrelu_alpha_l32': 0.29036665267063505, 'n_units_l33': 2048, 'activation_l33': 'SELU', 'dropout_l33': 0.3490934671499313, 'batch_norm_l33': True, 'l2_reg_l33': 0.0003059389522101728, 'n_units_l34': 2048, 'activation_l34': 'ELU', 'dropout_l34': 0.3611737045773732, 'batch_norm_l34': True, 'l2_reg_l34': 0.09612205950787711, 'n_units_l35': 1024, 'activation_l35': 'Tanh', 'dropout_l35': 0.1588487547106075, 'batch_norm_l35': True, 'l2_reg_l35': 0.06997600774845132, 'n_units_l36': 2048, 'activation_l36': 'ReLU', 'dropout_l36': 0.2345625055179826, 'batch_norm_l36': False, 'l2_reg_l36': 0.00043652583168917315, 'n_units_l37': 64, 'activation_l37': 'SELU', 'dropout_l37': 0.22668183589965915, 'batch_norm_l37': False, 'l2_reg_l37': 1.1706640187016986e-05, 'n_units_l38': 2048, 'activation_l38': 'SELU', 'dropout_l38': 0.381037629700999, 'batch_norm_l38': False, 'l2_reg_l38': 0.000309724613946772, 'n_units_l39': 1024, 'activation_l39': 'LeakyReLU', 'dropout_l39': 0.17558749539759327, 'batch_norm_l39': True, 'l2_reg_l39': 0.0005045406202653549, 'leakyrelu_alpha_l39': 0.2835797094706842, 'n_units_l40': 128, 'activation_l40': 'LeakyReLU', 'dropout_l40': 0.4972828046070161, 'batch_norm_l40': True, 'l2_reg_l40': 0.09904305348876559, 'leakyrelu_alpha_l40': 0.214497768806781, 'n_units_l41': 16, 'activation_l41': 'LeakyReLU', 'dropout_l41': 0.3949858537304864, 'batch_norm_l41': False, 'l2_reg_l41': 0.0002461867814246588, 'leakyrelu_alpha_l41': 0.015071502713198764, 'n_units_l42': 128, 'activation_l42': 'ELU', 'dropout_l42': 0.49431215970144565, 'batch_norm_l42': False, 'l2_reg_l42': 0.0706718198385881, 'n_units_l43': 1024, 'activation_l43': 'ReLU', 'dropout_l43': 0.3316464274773299, 'batch_norm_l43': True, 'l2_reg_l43': 0.08624366358569169, 'n_units_l44': 1024, 'activation_l44': 'LeakyReLU', 'dropout_l44': 0.34176843441644766, 'batch_norm_l44': True, 'l2_reg_l44': 0.06357823984736503, 'leakyrelu_alpha_l44': 0.035783553971754645, 'n_units_l45': 32, 'activation_l45': 'LeakyReLU', 'dropout_l45': 0.01962285896900101, 'batch_norm_l45': True, 'l2_reg_l45': 1.0098153741897431e-05, 'leakyrelu_alpha_l45': 0.2939835623421193, 'n_units_l46': 64, 'activation_l46': 'LeakyReLU', 'dropout_l46': 0.20080785765347064, 'batch_norm_l46': True, 'l2_reg_l46': 0.09761586498299148, 'leakyrelu_alpha_l46': 0.12948001527208453, 'n_units_l47': 64, 'activation_l47': 'LeakyReLU', 'dropout_l47': 0.23321905680423247, 'batch_norm_l47': True, 'l2_reg_l47': 0.00022995600170294333, 'leakyrelu_alpha_l47': 0.2848809961265493, 'n_units_l48': 1024, 'activation_l48': 'ReLU', 'dropout_l48': 0.4856409960249307, 'batch_norm_l48': False, 'l2_reg_l48': 1.8331065948681013e-05, 'n_units_l49': 128, 'activation_l49': 'ReLU', 'dropout_l49': 0.03770084711974747, 'batch_norm_l49': False, 'l2_reg_l49': 0.00017985133666018697, 'n_units_l50': 16, 'activation_l50': 'ELU', 'dropout_l50': 0.4578434986946316, 'batch_norm_l50': False, 'l2_reg_l50': 0.00023562982519317562, 'n_units_l51': 64, 'activation_l51': 'ReLU', 'dropout_l51': 0.02023036664337935, 'batch_norm_l51': True, 'l2_reg_l51': 1.0717508480459218e-05, 'n_units_l52': 512, 'activation_l52': 'SELU', 'dropout_l52': 0.33473279715373927, 'batch_norm_l52': False, 'l2_reg_l52': 0.08281272384908897, 'n_units_l53': 32, 'activation_l53': 'LeakyReLU', 'dropout_l53': 0.0002605613503367521, 'batch_norm_l53': False, 'l2_reg_l53': 0.00015116512278863148, 'leakyrelu_alpha_l53': 0.28410332618202117, 'n_units_l54': 128, 'activation_l54': 'Tanh', 'dropout_l54': 0.4940547249430109, 'batch_norm_l54': False, 'l2_reg_l54': 0.0004017735884018259, 'n_units_l55': 1024, 'activation_l55': 'Tanh', 'dropout_l55': 0.4735562309357552, 'batch_norm_l55': False, 'l2_reg_l55': 0.08721408479566513, 'n_units_l56': 32, 'activation_l56': 'ELU', 'dropout_l56': 0.016755564887929786, 'batch_norm_l56': True, 'l2_reg_l56': 0.001487387301026677, 'n_units_l57': 16, 'activation_l57': 'ReLU', 'dropout_l57': 0.4790680812970945, 'batch_norm_l57': True, 'l2_reg_l57': 0.09158583838590327, 'n_units_l58': 128, 'activation_l58': 'Tanh', 'dropout_l58': 0.012249409197422956, 'batch_norm_l58': False, 'l2_reg_l58': 0.08344751708249133, 'n_units_l59': 2048, 'activation_l59': 'ReLU', 'dropout_l59': 0.4849577591683163, 'batch_norm_l59': True, 'l2_reg_l59': 1.5628957040150485e-05, 'n_units_l60': 16, 'activation_l60': 'ReLU', 'dropout_l60': 0.29800712985909833, 'batch_norm_l60': True, 'l2_reg_l60': 0.08196808858196099, 'n_units_l61': 2048, 'activation_l61': 'ReLU', 'dropout_l61': 0.4794191213519344, 'batch_norm_l61': False, 'l2_reg_l61': 1.1857674949272776e-05, 'n_units_l62': 2048, 'activation_l62': 'ReLU', 'dropout_l62': 0.30500403400562837, 'batch_norm_l62': True, 'l2_reg_l62': 0.02538903328649823, 'n_units_l63': 128, 'activation_l63': 'SELU', 'dropout_l63': 0.0037236900154292707, 'batch_norm_l63': False, 'l2_reg_l63': 0.0014024338287043686, 'n_units_l64': 512, 'activation_l64': 'SELU', 'dropout_l64': 0.49950312049475054, 'batch_norm_l64': True, 'l2_reg_l64': 1.5749001697978937e-05, 'n_units_l65': 128, 'activation_l65': 'LeakyReLU', 'dropout_l65': 0.2741545305398887, 'batch_norm_l65': False, 'l2_reg_l65': 0.052561486357745726, 'leakyrelu_alpha_l65': 0.055040424709354135, 'n_units_l66': 2048, 'activation_l66': 'ELU', 'dropout_l66': 0.019033250486591935, 'batch_norm_l66': False, 'l2_reg_l66': 0.027417773378504224, 'n_units_l67': 16, 'activation_l67': 'Tanh', 'dropout_l67': 0.2350509317375674, 'batch_norm_l67': False, 'l2_reg_l67': 0.08762238602590951, 'n_units_l68': 16, 'activation_l68': 'Tanh', 'dropout_l68': 0.4869935031011313, 'batch_norm_l68': False, 'l2_reg_l68': 1.199379931602044e-05, 'n_units_l69': 32, 'activation_l69': 'Tanh', 'dropout_l69': 0.49624100721481285, 'batch_norm_l69': False, 'l2_reg_l69': 0.00013680203746068621, 'n_units_l70': 32, 'activation_l70': 'SELU', 'dropout_l70': 0.34708909414854167, 'batch_norm_l70': False, 'l2_reg_l70': 0.0002249703431115888, 'n_units_l71': 512, 'activation_l71': 'SELU', 'dropout_l71': 0.033456777101581514, 'batch_norm_l71': True, 'l2_reg_l71': 1.535535030742636e-05, 'n_units_l72': 2048, 'activation_l72': 'ReLU', 'dropout_l72': 0.48281832187454066, 'batch_norm_l72': False, 'l2_reg_l72': 0.05450559751611523, 'n_units_l73': 1024, 'activation_l73': 'ReLU', 'dropout_l73': 0.005490206958381427, 'batch_norm_l73': True, 'l2_reg_l73': 0.06548970944193451, 'n_units_l74': 512, 'activation_l74': 'Tanh', 'dropout_l74': 0.4818277244429664, 'batch_norm_l74': True, 'l2_reg_l74': 3.071237184324521e-05, 'n_units_l75': 1024, 'activation_l75': 'Tanh', 'dropout_l75': 0.48943249015728696, 'batch_norm_l75': False, 'l2_reg_l75': 1.75424854204361e-05, 'n_units_l76': 512, 'activation_l76': 'ReLU', 'dropout_l76': 0.48043881058414856, 'batch_norm_l76': True, 'l2_reg_l76': 0.09195446105877153, 'n_units_l77': 1024, 'activation_l77': 'Tanh', 'dropout_l77': 0.039173352631650504, 'batch_norm_l77': False, 'l2_reg_l77': 1.1122851469126591e-05, 'n_units_l78': 512, 'activation_l78': 'ELU', 'dropout_l78': 0.24184113926706938, 'batch_norm_l78': True, 'l2_reg_l78': 0.08466042647570883, 'n_units_l79': 64, 'activation_l79': 'LeakyReLU', 'dropout_l79': 0.49436072461249236, 'batch_norm_l79': False, 'l2_reg_l79': 2.1167564851170478e-05, 'leakyrelu_alpha_l79': 0.22823745659508868, 'n_units_l80': 256, 'activation_l80': 'Tanh', 'dropout_l80': 0.0007859536751513296, 'batch_norm_l80': True, 'l2_reg_l80': 1.2917876280932876e-05, 'n_units_l81': 256, 'activation_l81': 'LeakyReLU', 'dropout_l81': 0.4678132568195567, 'batch_norm_l81': False, 'l2_reg_l81': 0.0008282703972298979, 'leakyrelu_alpha_l81': 0.2617218026010765, 'n_units_l82': 2048, 'activation_l82': 'SELU', 'dropout_l82': 0.40635764780110584, 'batch_norm_l82': False, 'l2_reg_l82': 1.4912975018946681e-05, 'n_units_l83': 32, 'activation_l83': 'LeakyReLU', 'dropout_l83': 0.005960289820036657, 'batch_norm_l83': True, 'l2_reg_l83': 0.09008762735451512, 'leakyrelu_alpha_l83': 0.1758084915826197, 'n_units_l84': 256, 'activation_l84': 'ELU', 'dropout_l84': 0.007746297944750458, 'batch_norm_l84': False, 'l2_reg_l84': 0.064579023075785, 'n_units_l85': 128, 'activation_l85': 'ReLU', 'dropout_l85': 0.0027428477942698093, 'batch_norm_l85': True, 'l2_reg_l85': 1.2916725460620785e-05, 'res_connection_index_l85': 0, 'n_units_l86': 16, 'activation_l86': 'ReLU', 'dropout_l86': 0.42924843486619096, 'batch_norm_l86': True, 'l2_reg_l86': 0.04527028115227375, 'res_connection_index_l86': 0, 'n_units_l87': 128, 'activation_l87': 'ELU', 'dropout_l87': 0.48835054924126065, 'batch_norm_l87': True, 'l2_reg_l87': 0.022404937543769956, 'res_connection_index_l87': 0, 'n_units_l88': 32, 'activation_l88': 'ReLU', 'dropout_l88': 0.017374354290417837, 'batch_norm_l88': True, 'l2_reg_l88': 1.3478397869987899e-05, 'res_connection_index_l88': 0, 'n_units_l89': 16, 'activation_l89': 'Tanh', 'dropout_l89': 0.4817759980924684, 'batch_norm_l89': True, 'l2_reg_l89': 1.148615642021802e-05, 'res_connection_index_l89': 0, 'n_units_l90': 128, 'activation_l90': 'ELU', 'dropout_l90': 0.009976256024107233, 'batch_norm_l90': False, 'l2_reg_l90': 0.09432897551409551, 'res_connection_index_l90': 2, 'n_units_l91': 32, 'activation_l91': 'SELU', 'dropout_l91': 0.0054316785082871855, 'batch_norm_l91': False, 'l2_reg_l91': 1.4461858906912284e-05, 'res_connection_index_l91': 1, 'n_units_l92': 128, 'activation_l92': 'SELU', 'dropout_l92': 0.49835815158658126, 'batch_norm_l92': False, 'l2_reg_l92': 1.9107621904079814e-05, 'res_connection_index_l92': 3, 'n_units_l93': 64, 'activation_l93': 'Tanh', 'dropout_l93': 0.48480070332840725, 'batch_norm_l93': True, 'l2_reg_l93': 0.09996469662902767, 'res_connection_index_l93': 0, 'n_units_l94': 2048, 'activation_l94': 'SELU', 'dropout_l94': 0.2456053084946007, 'batch_norm_l94': True, 'l2_reg_l94': 0.001716360715876354, 'res_connection_index_l94': 0, 'n_units_l95': 16, 'activation_l95': 'ELU', 'dropout_l95': 0.3953063994667548, 'batch_norm_l95': True, 'l2_reg_l95': 6.12128061049099e-05, 'res_connection_index_l95': 0, 'n_units_l96': 128, 'activation_l96': 'SELU', 'dropout_l96': 0.4531908802124595, 'batch_norm_l96': False, 'l2_reg_l96': 0.012716022880831616, 'res_connection_index_l96': 0, 'optimizer': 'Adam', 'lr': 0.0006373016368344964, 'adam_beta1': 0.9258025327042014, 'adam_beta2': 0.9278011000035482, 'epochs': 1884, 'batch_size': 2048, 'early_stopping_patience': 16, 'lr_reduce_factor': 0.8062792514722312, 'lr_reduce_patience': 32, 'min_lr': 1.1620851198209596e-06}. Best is trial 36 with value: 0.8811638591117917.\u001b[0m\n"
     ]
    },
    {
     "name": "stdout",
     "output_type": "stream",
     "text": [
      "Usando GPU para el Trial 39\n",
      "Entrenando Trial 39...\n"
     ]
    },
    {
     "name": "stderr",
     "output_type": "stream",
     "text": [
      "                                                                                                                                                                                                                                                        \r"
     ]
    },
    {
     "name": "stdout",
     "output_type": "stream",
     "text": [
      "Early stopping\n",
      "Trial 39 completado. Mejor precisión en validación: 0.860030627871363\n"
     ]
    },
    {
     "name": "stderr",
     "output_type": "stream",
     "text": [
      "\u001b[32m[I 2023-11-29 20:39:33,920]\u001b[0m Trial 39 finished with value: 0.860030627871363 and parameters: {'n_layers': 26, 'residual_threshold_factor': 0.8488123225507263, 'n_units_l0': 1024, 'activation_l0': 'ELU', 'dropout_l0': 0.07617010654489276, 'batch_norm_l0': True, 'l2_reg_l0': 0.00596301222117937, 'n_units_l1': 128, 'activation_l1': 'LeakyReLU', 'dropout_l1': 0.03093886412357571, 'batch_norm_l1': True, 'l2_reg_l1': 2.2210626712200557e-05, 'leakyrelu_alpha_l1': 0.18419294142908302, 'n_units_l2': 1024, 'activation_l2': 'LeakyReLU', 'dropout_l2': 0.42861507305440394, 'batch_norm_l2': False, 'l2_reg_l2': 0.0006093787248426007, 'leakyrelu_alpha_l2': 0.20062764673906458, 'n_units_l3': 512, 'activation_l3': 'SELU', 'dropout_l3': 0.10444797020504454, 'batch_norm_l3': True, 'l2_reg_l3': 0.03165358187662898, 'n_units_l4': 2048, 'activation_l4': 'SELU', 'dropout_l4': 0.45864506241568254, 'batch_norm_l4': False, 'l2_reg_l4': 0.021432722834527792, 'n_units_l5': 1024, 'activation_l5': 'ELU', 'dropout_l5': 0.23274664465461825, 'batch_norm_l5': True, 'l2_reg_l5': 0.010368668205527284, 'n_units_l6': 64, 'activation_l6': 'ELU', 'dropout_l6': 0.4520167161016303, 'batch_norm_l6': False, 'l2_reg_l6': 0.00484019678494907, 'n_units_l7': 64, 'activation_l7': 'ELU', 'dropout_l7': 0.4635344917818498, 'batch_norm_l7': True, 'l2_reg_l7': 1.3683123358150537e-05, 'n_units_l8': 128, 'activation_l8': 'LeakyReLU', 'dropout_l8': 0.04119894627925391, 'batch_norm_l8': False, 'l2_reg_l8': 0.029268680184010548, 'leakyrelu_alpha_l8': 0.13923750564576373, 'n_units_l9': 64, 'activation_l9': 'ELU', 'dropout_l9': 0.049681332046073, 'batch_norm_l9': True, 'l2_reg_l9': 0.0013473272826471795, 'n_units_l10': 256, 'activation_l10': 'SELU', 'dropout_l10': 0.4016392140514206, 'batch_norm_l10': False, 'l2_reg_l10': 0.00041971338550881215, 'n_units_l11': 32, 'activation_l11': 'SELU', 'dropout_l11': 0.0019147793595760687, 'batch_norm_l11': False, 'l2_reg_l11': 0.000335414748567189, 'n_units_l12': 16, 'activation_l12': 'LeakyReLU', 'dropout_l12': 0.14508636680895046, 'batch_norm_l12': False, 'l2_reg_l12': 2.2362241261279797e-05, 'leakyrelu_alpha_l12': 0.03297286547283908, 'n_units_l13': 512, 'activation_l13': 'LeakyReLU', 'dropout_l13': 0.333711988155736, 'batch_norm_l13': False, 'l2_reg_l13': 0.0034276770184522346, 'leakyrelu_alpha_l13': 0.29393867100451215, 'n_units_l14': 128, 'activation_l14': 'ReLU', 'dropout_l14': 0.2878104499779369, 'batch_norm_l14': True, 'l2_reg_l14': 0.0012782331292755386, 'n_units_l15': 16, 'activation_l15': 'LeakyReLU', 'dropout_l15': 0.38186150984416484, 'batch_norm_l15': True, 'l2_reg_l15': 0.0013166535646885879, 'leakyrelu_alpha_l15': 0.02342578414134261, 'n_units_l16': 1024, 'activation_l16': 'ELU', 'dropout_l16': 0.2997311216682629, 'batch_norm_l16': False, 'l2_reg_l16': 0.0002481398855351754, 'n_units_l17': 2048, 'activation_l17': 'SELU', 'dropout_l17': 0.42246708524708293, 'batch_norm_l17': True, 'l2_reg_l17': 0.0013914022573924443, 'n_units_l18': 128, 'activation_l18': 'LeakyReLU', 'dropout_l18': 0.424955340614406, 'batch_norm_l18': False, 'l2_reg_l18': 0.00041743344655989544, 'leakyrelu_alpha_l18': 0.11073714827904993, 'n_units_l19': 32, 'activation_l19': 'Tanh', 'dropout_l19': 0.3572444944943043, 'batch_norm_l19': True, 'l2_reg_l19': 0.002890661191917745, 'n_units_l20': 32, 'activation_l20': 'ReLU', 'dropout_l20': 0.11542436657091609, 'batch_norm_l20': False, 'l2_reg_l20': 0.00010328581904548433, 'n_units_l21': 32, 'activation_l21': 'ELU', 'dropout_l21': 0.43062810443271493, 'batch_norm_l21': False, 'l2_reg_l21': 5.45163706391278e-05, 'n_units_l22': 128, 'activation_l22': 'Tanh', 'dropout_l22': 0.09367653732271353, 'batch_norm_l22': False, 'l2_reg_l22': 0.0014932446653020141, 'res_connection_index_l22': 0, 'n_units_l23': 64, 'activation_l23': 'Tanh', 'dropout_l23': 0.21834602547802323, 'batch_norm_l23': True, 'l2_reg_l23': 0.000258068405388719, 'res_connection_index_l23': 0, 'n_units_l24': 32, 'activation_l24': 'Tanh', 'dropout_l24': 0.00471214724522756, 'batch_norm_l24': True, 'l2_reg_l24': 0.012749636129564958, 'res_connection_index_l24': 0, 'n_units_l25': 32, 'activation_l25': 'LeakyReLU', 'dropout_l25': 0.24882627786986544, 'batch_norm_l25': False, 'l2_reg_l25': 0.09310281353436028, 'leakyrelu_alpha_l25': 0.01853177227944597, 'res_connection_index_l25': 1, 'optimizer': 'Adam', 'lr': 0.00041716587682017565, 'adam_beta1': 0.8979335968415308, 'adam_beta2': 0.9313794376001859, 'epochs': 1814, 'batch_size': 2048, 'early_stopping_patience': 19, 'lr_reduce_factor': 0.5791021336351673, 'lr_reduce_patience': 36, 'min_lr': 1.4537347654723839e-06}. Best is trial 36 with value: 0.8811638591117917.\u001b[0m\n"
     ]
    },
    {
     "name": "stdout",
     "output_type": "stream",
     "text": [
      "Usando GPU para el Trial 40\n",
      "Entrenando Trial 40...\n"
     ]
    },
    {
     "name": "stderr",
     "output_type": "stream",
     "text": [
      "                                                                                                                                                                                                                                                        \r"
     ]
    },
    {
     "name": "stdout",
     "output_type": "stream",
     "text": [
      "Early stopping\n",
      "Trial 40 completado. Mejor precisión en validación: 0.851761102603369\n"
     ]
    },
    {
     "name": "stderr",
     "output_type": "stream",
     "text": [
      "\u001b[32m[I 2023-11-29 20:40:14,914]\u001b[0m Trial 40 finished with value: 0.851761102603369 and parameters: {'n_layers': 6, 'residual_threshold_factor': 0.8934844430063715, 'n_units_l0': 1024, 'activation_l0': 'ELU', 'dropout_l0': 0.10950527924542261, 'batch_norm_l0': False, 'l2_reg_l0': 0.00964391765856829, 'n_units_l1': 128, 'activation_l1': 'LeakyReLU', 'dropout_l1': 0.09456941583273147, 'batch_norm_l1': True, 'l2_reg_l1': 0.0005109984476580662, 'leakyrelu_alpha_l1': 0.152677366048475, 'n_units_l2': 1024, 'activation_l2': 'LeakyReLU', 'dropout_l2': 0.3916951055106338, 'batch_norm_l2': False, 'l2_reg_l2': 0.0001962748891735749, 'leakyrelu_alpha_l2': 0.2559156905351232, 'n_units_l3': 512, 'activation_l3': 'SELU', 'dropout_l3': 0.131571920391868, 'batch_norm_l3': True, 'l2_reg_l3': 0.020137942114112177, 'n_units_l4': 2048, 'activation_l4': 'Tanh', 'dropout_l4': 0.3495089401213634, 'batch_norm_l4': False, 'l2_reg_l4': 0.040978859170576795, 'n_units_l5': 1024, 'activation_l5': 'ELU', 'dropout_l5': 0.18861037787689905, 'batch_norm_l5': True, 'l2_reg_l5': 0.04113566395764891, 'res_connection_index_l5': 0, 'optimizer': 'Adam', 'lr': 4.8938455945825005e-05, 'adam_beta1': 0.9464846794368901, 'adam_beta2': 0.9092864041487527, 'epochs': 1960, 'batch_size': 2048, 'early_stopping_patience': 19, 'lr_reduce_factor': 0.7710902409679992, 'lr_reduce_patience': 42, 'min_lr': 3.7051083261823436e-06}. Best is trial 36 with value: 0.8811638591117917.\u001b[0m\n"
     ]
    },
    {
     "name": "stdout",
     "output_type": "stream",
     "text": [
      "Usando GPU para el Trial 41\n",
      "Entrenando Trial 41...\n"
     ]
    },
    {
     "name": "stderr",
     "output_type": "stream",
     "text": [
      "\u001b[32m[I 2023-11-29 20:49:48,173]\u001b[0m Trial 41 finished with value: 0.678407350689127 and parameters: {'n_layers': 46, 'residual_threshold_factor': 0.8659979500972925, 'n_units_l0': 2048, 'activation_l0': 'SELU', 'dropout_l0': 0.12242079038278436, 'batch_norm_l0': True, 'l2_reg_l0': 0.002839237106661087, 'n_units_l1': 64, 'activation_l1': 'LeakyReLU', 'dropout_l1': 0.029857399070969536, 'batch_norm_l1': True, 'l2_reg_l1': 3.505138123364355e-05, 'leakyrelu_alpha_l1': 0.21892356885638492, 'n_units_l2': 512, 'activation_l2': 'ELU', 'dropout_l2': 0.27087161256809195, 'batch_norm_l2': False, 'l2_reg_l2': 9.918375976375476e-05, 'n_units_l3': 512, 'activation_l3': 'ELU', 'dropout_l3': 0.21781490825605093, 'batch_norm_l3': True, 'l2_reg_l3': 0.054809564504101106, 'n_units_l4': 2048, 'activation_l4': 'ReLU', 'dropout_l4': 0.4190183983241963, 'batch_norm_l4': False, 'l2_reg_l4': 0.010403059749895038, 'n_units_l5': 16, 'activation_l5': 'LeakyReLU', 'dropout_l5': 0.16178850854746535, 'batch_norm_l5': True, 'l2_reg_l5': 0.021617104443089345, 'leakyrelu_alpha_l5': 0.29828151097254635, 'n_units_l6': 64, 'activation_l6': 'ELU', 'dropout_l6': 0.3818992037175591, 'batch_norm_l6': False, 'l2_reg_l6': 0.048065175111636764, 'n_units_l7': 32, 'activation_l7': 'LeakyReLU', 'dropout_l7': 0.3411217722460923, 'batch_norm_l7': True, 'l2_reg_l7': 3.243284289898112e-05, 'leakyrelu_alpha_l7': 0.0420764664309877, 'n_units_l8': 2048, 'activation_l8': 'LeakyReLU', 'dropout_l8': 0.07189290251728392, 'batch_norm_l8': True, 'l2_reg_l8': 0.0001928382714342283, 'leakyrelu_alpha_l8': 0.12548428791141256, 'n_units_l9': 128, 'activation_l9': 'Tanh', 'dropout_l9': 0.16389570486683258, 'batch_norm_l9': False, 'l2_reg_l9': 0.014915454109099604, 'n_units_l10': 64, 'activation_l10': 'Tanh', 'dropout_l10': 0.2503392944555494, 'batch_norm_l10': True, 'l2_reg_l10': 0.0002545810066686799, 'n_units_l11': 2048, 'activation_l11': 'ELU', 'dropout_l11': 0.4480162189162569, 'batch_norm_l11': True, 'l2_reg_l11': 0.001148693668457922, 'n_units_l12': 256, 'activation_l12': 'LeakyReLU', 'dropout_l12': 0.21196870947368657, 'batch_norm_l12': True, 'l2_reg_l12': 1.0307667227223242e-05, 'leakyrelu_alpha_l12': 0.03206746350333803, 'n_units_l13': 16, 'activation_l13': 'Tanh', 'dropout_l13': 0.2802016403043476, 'batch_norm_l13': True, 'l2_reg_l13': 0.03511500049756709, 'n_units_l14': 256, 'activation_l14': 'ELU', 'dropout_l14': 0.3775223955631548, 'batch_norm_l14': False, 'l2_reg_l14': 0.005467098729432827, 'n_units_l15': 2048, 'activation_l15': 'ELU', 'dropout_l15': 0.2889424016012284, 'batch_norm_l15': False, 'l2_reg_l15': 0.06255681091613909, 'n_units_l16': 16, 'activation_l16': 'LeakyReLU', 'dropout_l16': 0.3656495483201072, 'batch_norm_l16': False, 'l2_reg_l16': 0.012469085702848446, 'leakyrelu_alpha_l16': 0.012144788669370687, 'n_units_l17': 64, 'activation_l17': 'LeakyReLU', 'dropout_l17': 0.20049558320181288, 'batch_norm_l17': False, 'l2_reg_l17': 0.008001762402343304, 'leakyrelu_alpha_l17': 0.011372783384949597, 'n_units_l18': 512, 'activation_l18': 'ReLU', 'dropout_l18': 0.08495890715163751, 'batch_norm_l18': True, 'l2_reg_l18': 0.017202009174069766, 'n_units_l19': 256, 'activation_l19': 'ELU', 'dropout_l19': 0.19489727458552975, 'batch_norm_l19': False, 'l2_reg_l19': 0.020990356846685494, 'n_units_l20': 64, 'activation_l20': 'SELU', 'dropout_l20': 0.395373561126926, 'batch_norm_l20': True, 'l2_reg_l20': 0.002155803763077465, 'n_units_l21': 2048, 'activation_l21': 'Tanh', 'dropout_l21': 0.29324113304391963, 'batch_norm_l21': True, 'l2_reg_l21': 1.000649986074464e-05, 'n_units_l22': 32, 'activation_l22': 'ReLU', 'dropout_l22': 0.29685272740956475, 'batch_norm_l22': False, 'l2_reg_l22': 1.0643173503194703e-05, 'n_units_l23': 256, 'activation_l23': 'LeakyReLU', 'dropout_l23': 0.30517800287677194, 'batch_norm_l23': False, 'l2_reg_l23': 1.3324813850993144e-05, 'leakyrelu_alpha_l23': 0.06819330345286048, 'n_units_l24': 2048, 'activation_l24': 'ReLU', 'dropout_l24': 0.4988514828329026, 'batch_norm_l24': False, 'l2_reg_l24': 0.0012766968659069953, 'n_units_l25': 256, 'activation_l25': 'Tanh', 'dropout_l25': 0.4938784567416356, 'batch_norm_l25': True, 'l2_reg_l25': 4.005631504416797e-05, 'n_units_l26': 16, 'activation_l26': 'LeakyReLU', 'dropout_l26': 0.32140887248008243, 'batch_norm_l26': True, 'l2_reg_l26': 0.013094107809996073, 'leakyrelu_alpha_l26': 0.037411739798499835, 'n_units_l27': 32, 'activation_l27': 'LeakyReLU', 'dropout_l27': 0.25788108866547177, 'batch_norm_l27': True, 'l2_reg_l27': 0.000916689214320712, 'leakyrelu_alpha_l27': 0.28608981364361463, 'n_units_l28': 16, 'activation_l28': 'ReLU', 'dropout_l28': 0.2862847178219479, 'batch_norm_l28': True, 'l2_reg_l28': 0.08443011919115162, 'n_units_l29': 16, 'activation_l29': 'Tanh', 'dropout_l29': 0.49540507488473723, 'batch_norm_l29': False, 'l2_reg_l29': 0.07320861611152675, 'n_units_l30': 32, 'activation_l30': 'ELU', 'dropout_l30': 0.0014867951165372095, 'batch_norm_l30': True, 'l2_reg_l30': 6.641725694849973e-05, 'n_units_l31': 2048, 'activation_l31': 'LeakyReLU', 'dropout_l31': 0.3857860437063498, 'batch_norm_l31': True, 'l2_reg_l31': 0.004041998552695846, 'leakyrelu_alpha_l31': 0.2906471057551151, 'n_units_l32': 256, 'activation_l32': 'Tanh', 'dropout_l32': 0.3559021445753491, 'batch_norm_l32': False, 'l2_reg_l32': 0.013564177594560911, 'n_units_l33': 2048, 'activation_l33': 'ELU', 'dropout_l33': 0.3726315862136288, 'batch_norm_l33': False, 'l2_reg_l33': 0.00013804329201022177, 'n_units_l34': 16, 'activation_l34': 'Tanh', 'dropout_l34': 0.11023961511044078, 'batch_norm_l34': False, 'l2_reg_l34': 7.308304419490752e-05, 'n_units_l35': 512, 'activation_l35': 'SELU', 'dropout_l35': 0.3189832692112582, 'batch_norm_l35': True, 'l2_reg_l35': 0.010512762616930783, 'n_units_l36': 16, 'activation_l36': 'Tanh', 'dropout_l36': 0.37666840536624785, 'batch_norm_l36': True, 'l2_reg_l36': 1.4049335023637358e-05, 'n_units_l37': 2048, 'activation_l37': 'LeakyReLU', 'dropout_l37': 0.3349545250901702, 'batch_norm_l37': False, 'l2_reg_l37': 0.004383282991088615, 'leakyrelu_alpha_l37': 0.017148830951820404, 'n_units_l38': 32, 'activation_l38': 'ELU', 'dropout_l38': 0.23190574258820107, 'batch_norm_l38': False, 'l2_reg_l38': 0.011727092527454592, 'n_units_l39': 32, 'activation_l39': 'SELU', 'dropout_l39': 0.3155607292011407, 'batch_norm_l39': False, 'l2_reg_l39': 0.09909357500462615, 'res_connection_index_l39': 0, 'n_units_l40': 512, 'activation_l40': 'ReLU', 'dropout_l40': 0.0019162389611471764, 'batch_norm_l40': True, 'l2_reg_l40': 0.00029748040823715, 'res_connection_index_l40': 0, 'n_units_l41': 1024, 'activation_l41': 'ReLU', 'dropout_l41': 0.30336499433430303, 'batch_norm_l41': False, 'l2_reg_l41': 0.06837947798018928, 'res_connection_index_l41': 0, 'n_units_l42': 512, 'activation_l42': 'Tanh', 'dropout_l42': 0.19292944386164682, 'batch_norm_l42': True, 'l2_reg_l42': 0.0015511293888580552, 'res_connection_index_l42': 0, 'n_units_l43': 256, 'activation_l43': 'ReLU', 'dropout_l43': 0.3251733327037806, 'batch_norm_l43': False, 'l2_reg_l43': 0.00020308221740774731, 'res_connection_index_l43': 0, 'n_units_l44': 64, 'activation_l44': 'Tanh', 'dropout_l44': 0.018452944975661134, 'batch_norm_l44': True, 'l2_reg_l44': 0.008737490905578453, 'res_connection_index_l44': 0, 'n_units_l45': 128, 'activation_l45': 'Tanh', 'dropout_l45': 0.3761791120914769, 'batch_norm_l45': True, 'l2_reg_l45': 0.006009716713182393, 'res_connection_index_l45': 0, 'optimizer': 'Adam', 'lr': 0.00034964709735526255, 'adam_beta1': 0.9174511025401211, 'adam_beta2': 0.908462231474206, 'epochs': 1210, 'batch_size': 16, 'early_stopping_patience': 16, 'lr_reduce_factor': 0.6527994383912523, 'lr_reduce_patience': 37, 'min_lr': 1.01259025761515e-06}. Best is trial 36 with value: 0.8811638591117917.\u001b[0m\n"
     ]
    },
    {
     "name": "stdout",
     "output_type": "stream",
     "text": [
      "Early stopping\n",
      "Trial 41 completado. Mejor precisión en validación: 0.678407350689127\n",
      "Usando GPU para el Trial 42\n",
      "Entrenando Trial 42...\n"
     ]
    },
    {
     "name": "stderr",
     "output_type": "stream",
     "text": [
      "                                                                                                                                                                                                                                                        \r"
     ]
    },
    {
     "name": "stdout",
     "output_type": "stream",
     "text": [
      "Early stopping\n",
      "Trial 42 completado. Mejor precisión en validación: 0.8361408882082695\n"
     ]
    },
    {
     "name": "stderr",
     "output_type": "stream",
     "text": [
      "\u001b[32m[I 2023-11-29 20:50:07,818]\u001b[0m Trial 42 finished with value: 0.8361408882082695 and parameters: {'n_layers': 27, 'residual_threshold_factor': 0.8954151454388746, 'n_units_l0': 16, 'activation_l0': 'ELU', 'dropout_l0': 0.14641034780945056, 'batch_norm_l0': True, 'l2_reg_l0': 0.0015395981095616272, 'n_units_l1': 128, 'activation_l1': 'SELU', 'dropout_l1': 0.07153726169520418, 'batch_norm_l1': True, 'l2_reg_l1': 6.414928099917724e-05, 'n_units_l2': 1024, 'activation_l2': 'SELU', 'dropout_l2': 0.42054535349362515, 'batch_norm_l2': False, 'l2_reg_l2': 0.00029655273586483077, 'n_units_l3': 256, 'activation_l3': 'ReLU', 'dropout_l3': 0.17067608149405278, 'batch_norm_l3': False, 'l2_reg_l3': 0.016703740737605152, 'n_units_l4': 128, 'activation_l4': 'ELU', 'dropout_l4': 0.3925536007812939, 'batch_norm_l4': True, 'l2_reg_l4': 0.04780954365564726, 'n_units_l5': 1024, 'activation_l5': 'SELU', 'dropout_l5': 0.22116020205609765, 'batch_norm_l5': True, 'l2_reg_l5': 0.0970495273815794, 'n_units_l6': 64, 'activation_l6': 'ELU', 'dropout_l6': 0.47907959574435344, 'batch_norm_l6': False, 'l2_reg_l6': 0.020156593985920367, 'n_units_l7': 16, 'activation_l7': 'SELU', 'dropout_l7': 0.1468733026604287, 'batch_norm_l7': False, 'l2_reg_l7': 9.867496353536751e-05, 'n_units_l8': 64, 'activation_l8': 'ReLU', 'dropout_l8': 0.08616108683279122, 'batch_norm_l8': False, 'l2_reg_l8': 1.0386265105040813e-05, 'n_units_l9': 256, 'activation_l9': 'LeakyReLU', 'dropout_l9': 0.28277820514809904, 'batch_norm_l9': False, 'l2_reg_l9': 0.0009463860983601806, 'leakyrelu_alpha_l9': 0.02059618804386995, 'n_units_l10': 256, 'activation_l10': 'LeakyReLU', 'dropout_l10': 0.4264507165762473, 'batch_norm_l10': True, 'l2_reg_l10': 0.0001858162275772314, 'leakyrelu_alpha_l10': 0.16471998323980377, 'n_units_l11': 512, 'activation_l11': 'ReLU', 'dropout_l11': 0.3318107971524722, 'batch_norm_l11': False, 'l2_reg_l11': 0.0017666176628462532, 'n_units_l12': 64, 'activation_l12': 'ELU', 'dropout_l12': 0.477437953542385, 'batch_norm_l12': False, 'l2_reg_l12': 0.09929816663904177, 'n_units_l13': 2048, 'activation_l13': 'SELU', 'dropout_l13': 0.45154168016371027, 'batch_norm_l13': True, 'l2_reg_l13': 5.610825230129172e-05, 'n_units_l14': 512, 'activation_l14': 'Tanh', 'dropout_l14': 0.4198637673907585, 'batch_norm_l14': True, 'l2_reg_l14': 0.00014368919479846177, 'n_units_l15': 128, 'activation_l15': 'Tanh', 'dropout_l15': 0.4437853618598116, 'batch_norm_l15': False, 'l2_reg_l15': 0.007497010732328144, 'n_units_l16': 256, 'activation_l16': 'ELU', 'dropout_l16': 0.29067272777407327, 'batch_norm_l16': True, 'l2_reg_l16': 0.0017502982097770952, 'n_units_l17': 128, 'activation_l17': 'SELU', 'dropout_l17': 0.3170579962181413, 'batch_norm_l17': True, 'l2_reg_l17': 0.00412207216354552, 'n_units_l18': 64, 'activation_l18': 'Tanh', 'dropout_l18': 0.20516379794103567, 'batch_norm_l18': True, 'l2_reg_l18': 0.001261211168267241, 'n_units_l19': 1024, 'activation_l19': 'SELU', 'dropout_l19': 0.05737496484051596, 'batch_norm_l19': True, 'l2_reg_l19': 0.036794424393014426, 'n_units_l20': 2048, 'activation_l20': 'ReLU', 'dropout_l20': 0.18532564579692123, 'batch_norm_l20': False, 'l2_reg_l20': 0.0005243424152108403, 'n_units_l21': 2048, 'activation_l21': 'ReLU', 'dropout_l21': 0.37151862529289137, 'batch_norm_l21': False, 'l2_reg_l21': 0.000261948029465654, 'n_units_l22': 256, 'activation_l22': 'ELU', 'dropout_l22': 0.004374588744205321, 'batch_norm_l22': True, 'l2_reg_l22': 0.0018424306560089019, 'n_units_l23': 32, 'activation_l23': 'ELU', 'dropout_l23': 0.23996029918565534, 'batch_norm_l23': False, 'l2_reg_l23': 0.0075351260837842075, 'n_units_l24': 512, 'activation_l24': 'ELU', 'dropout_l24': 0.22676781841116259, 'batch_norm_l24': False, 'l2_reg_l24': 0.016463586403317267, 'res_connection_index_l24': 0, 'n_units_l25': 2048, 'activation_l25': 'ReLU', 'dropout_l25': 0.056370072392102455, 'batch_norm_l25': False, 'l2_reg_l25': 1.0299586732648916e-05, 'res_connection_index_l25': 0, 'n_units_l26': 1024, 'activation_l26': 'Tanh', 'dropout_l26': 0.1856275777021692, 'batch_norm_l26': False, 'l2_reg_l26': 0.023276388120656563, 'res_connection_index_l26': 0, 'optimizer': 'Adam', 'lr': 0.002612570139478707, 'adam_beta1': 0.9266438219025984, 'adam_beta2': 0.9181868417133715, 'epochs': 1399, 'batch_size': 2048, 'early_stopping_patience': 8, 'lr_reduce_factor': 0.8730303124107485, 'lr_reduce_patience': 33, 'min_lr': 2.3607845965405145e-06}. Best is trial 36 with value: 0.8811638591117917.\u001b[0m\n"
     ]
    },
    {
     "name": "stdout",
     "output_type": "stream",
     "text": [
      "Usando GPU para el Trial 43\n",
      "Entrenando Trial 43...\n"
     ]
    },
    {
     "name": "stderr",
     "output_type": "stream",
     "text": [
      "\u001b[32m[I 2023-11-29 20:52:22,998]\u001b[0m Trial 43 finished with value: 0.678407350689127 and parameters: {'n_layers': 83, 'residual_threshold_factor': 0.9557812721970955, 'n_units_l0': 256, 'activation_l0': 'Tanh', 'dropout_l0': 0.05853752753728647, 'batch_norm_l0': False, 'l2_reg_l0': 0.0005500604395797707, 'n_units_l1': 128, 'activation_l1': 'Tanh', 'dropout_l1': 0.13555499229357093, 'batch_norm_l1': True, 'l2_reg_l1': 0.00015160781129461748, 'n_units_l2': 16, 'activation_l2': 'ReLU', 'dropout_l2': 0.33449759689606284, 'batch_norm_l2': False, 'l2_reg_l2': 0.003015357434175578, 'n_units_l3': 1024, 'activation_l3': 'LeakyReLU', 'dropout_l3': 0.08855528378147193, 'batch_norm_l3': True, 'l2_reg_l3': 0.0987179193775214, 'leakyrelu_alpha_l3': 0.29079941809237514, 'n_units_l4': 1024, 'activation_l4': 'SELU', 'dropout_l4': 0.4669640680057173, 'batch_norm_l4': False, 'l2_reg_l4': 0.014493874919378244, 'n_units_l5': 64, 'activation_l5': 'Tanh', 'dropout_l5': 0.305355292706156, 'batch_norm_l5': True, 'l2_reg_l5': 0.048605077882256674, 'n_units_l6': 512, 'activation_l6': 'ReLU', 'dropout_l6': 0.43767995584821506, 'batch_norm_l6': False, 'l2_reg_l6': 0.029348135336468534, 'n_units_l7': 512, 'activation_l7': 'ELU', 'dropout_l7': 0.47423805814078573, 'batch_norm_l7': False, 'l2_reg_l7': 0.00011827278333213831, 'n_units_l8': 32, 'activation_l8': 'ELU', 'dropout_l8': 0.25051800706225896, 'batch_norm_l8': True, 'l2_reg_l8': 0.006798566246873954, 'n_units_l9': 128, 'activation_l9': 'SELU', 'dropout_l9': 0.3275409448097345, 'batch_norm_l9': True, 'l2_reg_l9': 0.0002883999917197421, 'n_units_l10': 128, 'activation_l10': 'SELU', 'dropout_l10': 0.1365369700797177, 'batch_norm_l10': False, 'l2_reg_l10': 0.0007803298870878862, 'n_units_l11': 2048, 'activation_l11': 'ELU', 'dropout_l11': 0.3762158482185199, 'batch_norm_l11': True, 'l2_reg_l11': 0.0048588118820585766, 'n_units_l12': 512, 'activation_l12': 'ReLU', 'dropout_l12': 0.39021590837529363, 'batch_norm_l12': True, 'l2_reg_l12': 0.0282866769898883, 'n_units_l13': 1024, 'activation_l13': 'Tanh', 'dropout_l13': 0.3261298960102813, 'batch_norm_l13': False, 'l2_reg_l13': 0.0003298179156665172, 'n_units_l14': 64, 'activation_l14': 'SELU', 'dropout_l14': 0.20478100425154272, 'batch_norm_l14': False, 'l2_reg_l14': 7.087112774201084e-05, 'n_units_l15': 512, 'activation_l15': 'ELU', 'dropout_l15': 0.3442441693143176, 'batch_norm_l15': True, 'l2_reg_l15': 0.034442742635581315, 'n_units_l16': 32, 'activation_l16': 'SELU', 'dropout_l16': 0.27250129106779697, 'batch_norm_l16': False, 'l2_reg_l16': 0.0006930384193071559, 'n_units_l17': 512, 'activation_l17': 'Tanh', 'dropout_l17': 0.4076018988074562, 'batch_norm_l17': False, 'l2_reg_l17': 0.01672832827997295, 'n_units_l18': 256, 'activation_l18': 'ReLU', 'dropout_l18': 0.2778830371567836, 'batch_norm_l18': False, 'l2_reg_l18': 0.00017853029131129427, 'n_units_l19': 1024, 'activation_l19': 'LeakyReLU', 'dropout_l19': 0.4805904060968222, 'batch_norm_l19': False, 'l2_reg_l19': 0.0045442450208486125, 'leakyrelu_alpha_l19': 0.0168952475224477, 'n_units_l20': 16, 'activation_l20': 'ELU', 'dropout_l20': 0.27571406900032575, 'batch_norm_l20': True, 'l2_reg_l20': 7.521625283079301e-05, 'n_units_l21': 32, 'activation_l21': 'LeakyReLU', 'dropout_l21': 0.21507028641494244, 'batch_norm_l21': True, 'l2_reg_l21': 5.482089402109693e-05, 'leakyrelu_alpha_l21': 0.011880311393531878, 'n_units_l22': 64, 'activation_l22': 'Tanh', 'dropout_l22': 0.07697881109844323, 'batch_norm_l22': True, 'l2_reg_l22': 0.022788356451922974, 'n_units_l23': 2048, 'activation_l23': 'ReLU', 'dropout_l23': 0.3740810582340338, 'batch_norm_l23': True, 'l2_reg_l23': 0.0017412960039771266, 'n_units_l24': 128, 'activation_l24': 'Tanh', 'dropout_l24': 0.15921415189106322, 'batch_norm_l24': True, 'l2_reg_l24': 0.0003218548302241956, 'n_units_l25': 1024, 'activation_l25': 'ELU', 'dropout_l25': 0.08515308386536352, 'batch_norm_l25': True, 'l2_reg_l25': 0.00045063555724103685, 'n_units_l26': 512, 'activation_l26': 'ReLU', 'dropout_l26': 0.28106963151883413, 'batch_norm_l26': True, 'l2_reg_l26': 0.0042232203012528904, 'n_units_l27': 128, 'activation_l27': 'Tanh', 'dropout_l27': 0.1927110042553915, 'batch_norm_l27': True, 'l2_reg_l27': 0.0001490821814029299, 'n_units_l28': 1024, 'activation_l28': 'LeakyReLU', 'dropout_l28': 0.1937401365205246, 'batch_norm_l28': False, 'l2_reg_l28': 0.000326873104953549, 'leakyrelu_alpha_l28': 0.017455673864308185, 'n_units_l29': 64, 'activation_l29': 'ReLU', 'dropout_l29': 0.2637666371290809, 'batch_norm_l29': True, 'l2_reg_l29': 0.0004066354214657194, 'n_units_l30': 16, 'activation_l30': 'SELU', 'dropout_l30': 0.127849462056722, 'batch_norm_l30': False, 'l2_reg_l30': 0.002717995530387018, 'n_units_l31': 32, 'activation_l31': 'Tanh', 'dropout_l31': 0.21630253222112994, 'batch_norm_l31': False, 'l2_reg_l31': 1.0308941138825847e-05, 'n_units_l32': 16, 'activation_l32': 'ELU', 'dropout_l32': 0.11080222049585453, 'batch_norm_l32': False, 'l2_reg_l32': 0.00034888086630752645, 'n_units_l33': 64, 'activation_l33': 'ReLU', 'dropout_l33': 0.4716116507542654, 'batch_norm_l33': False, 'l2_reg_l33': 0.0030917896677023567, 'n_units_l34': 1024, 'activation_l34': 'ReLU', 'dropout_l34': 0.2483306132491444, 'batch_norm_l34': True, 'l2_reg_l34': 0.001479427677333469, 'n_units_l35': 32, 'activation_l35': 'SELU', 'dropout_l35': 0.4928857101437857, 'batch_norm_l35': False, 'l2_reg_l35': 0.0006286407668656883, 'n_units_l36': 64, 'activation_l36': 'SELU', 'dropout_l36': 0.007152508679734437, 'batch_norm_l36': False, 'l2_reg_l36': 8.073175940581844e-05, 'n_units_l37': 512, 'activation_l37': 'SELU', 'dropout_l37': 0.1728142073620841, 'batch_norm_l37': True, 'l2_reg_l37': 0.05929086801620884, 'n_units_l38': 512, 'activation_l38': 'ELU', 'dropout_l38': 0.10675166885608872, 'batch_norm_l38': True, 'l2_reg_l38': 1.0090292468193127e-05, 'n_units_l39': 128, 'activation_l39': 'LeakyReLU', 'dropout_l39': 0.2847404088822249, 'batch_norm_l39': True, 'l2_reg_l39': 1.1651206181804639e-05, 'leakyrelu_alpha_l39': 0.028729448680690994, 'n_units_l40': 32, 'activation_l40': 'SELU', 'dropout_l40': 0.2706926347588196, 'batch_norm_l40': False, 'l2_reg_l40': 0.008551558395843213, 'n_units_l41': 32, 'activation_l41': 'ELU', 'dropout_l41': 0.4876136056709909, 'batch_norm_l41': False, 'l2_reg_l41': 0.008304506718307085, 'n_units_l42': 1024, 'activation_l42': 'ReLU', 'dropout_l42': 0.019522285130483485, 'batch_norm_l42': False, 'l2_reg_l42': 0.0022303674018283185, 'n_units_l43': 128, 'activation_l43': 'LeakyReLU', 'dropout_l43': 0.007189464113169508, 'batch_norm_l43': True, 'l2_reg_l43': 0.002524302579033107, 'leakyrelu_alpha_l43': 0.011131838300742991, 'n_units_l44': 2048, 'activation_l44': 'ReLU', 'dropout_l44': 0.2955959721194583, 'batch_norm_l44': False, 'l2_reg_l44': 0.07762540217435748, 'n_units_l45': 512, 'activation_l45': 'SELU', 'dropout_l45': 0.35548086679634905, 'batch_norm_l45': True, 'l2_reg_l45': 0.0037700480568078243, 'n_units_l46': 2048, 'activation_l46': 'ReLU', 'dropout_l46': 0.4016070981135728, 'batch_norm_l46': True, 'l2_reg_l46': 1.3597550367531877e-05, 'n_units_l47': 256, 'activation_l47': 'Tanh', 'dropout_l47': 0.21902226075060577, 'batch_norm_l47': True, 'l2_reg_l47': 0.008989199229214526, 'n_units_l48': 64, 'activation_l48': 'Tanh', 'dropout_l48': 0.013205065777157854, 'batch_norm_l48': False, 'l2_reg_l48': 0.09759714501087347, 'n_units_l49': 64, 'activation_l49': 'ReLU', 'dropout_l49': 0.46569971983391106, 'batch_norm_l49': False, 'l2_reg_l49': 0.0008148939145478356, 'n_units_l50': 2048, 'activation_l50': 'LeakyReLU', 'dropout_l50': 0.49331696429126554, 'batch_norm_l50': True, 'l2_reg_l50': 1.3791248163069806e-05, 'leakyrelu_alpha_l50': 0.2902135816918249, 'n_units_l51': 16, 'activation_l51': 'LeakyReLU', 'dropout_l51': 0.16734204071671552, 'batch_norm_l51': False, 'l2_reg_l51': 0.0002174318144611369, 'leakyrelu_alpha_l51': 0.287955987053194, 'n_units_l52': 2048, 'activation_l52': 'LeakyReLU', 'dropout_l52': 0.14721511856051736, 'batch_norm_l52': False, 'l2_reg_l52': 0.00012240650019742887, 'leakyrelu_alpha_l52': 0.27276282005708574, 'n_units_l53': 128, 'activation_l53': 'ReLU', 'dropout_l53': 0.48849467529085366, 'batch_norm_l53': True, 'l2_reg_l53': 0.0005513551832386183, 'n_units_l54': 16, 'activation_l54': 'ELU', 'dropout_l54': 0.3648483641116399, 'batch_norm_l54': True, 'l2_reg_l54': 0.0793329088658347, 'n_units_l55': 64, 'activation_l55': 'LeakyReLU', 'dropout_l55': 0.02328287467179513, 'batch_norm_l55': True, 'l2_reg_l55': 0.004698664304594707, 'leakyrelu_alpha_l55': 0.014533209335531122, 'n_units_l56': 256, 'activation_l56': 'ELU', 'dropout_l56': 0.4227674653110402, 'batch_norm_l56': False, 'l2_reg_l56': 0.00017001715625372202, 'n_units_l57': 2048, 'activation_l57': 'ELU', 'dropout_l57': 0.19966063204266388, 'batch_norm_l57': True, 'l2_reg_l57': 0.00011841584980398616, 'n_units_l58': 1024, 'activation_l58': 'Tanh', 'dropout_l58': 0.4841483207727254, 'batch_norm_l58': True, 'l2_reg_l58': 1.2610046025326931e-05, 'n_units_l59': 256, 'activation_l59': 'ELU', 'dropout_l59': 0.005741581458166556, 'batch_norm_l59': False, 'l2_reg_l59': 0.08605424387442251, 'n_units_l60': 1024, 'activation_l60': 'LeakyReLU', 'dropout_l60': 0.0004018833866322735, 'batch_norm_l60': False, 'l2_reg_l60': 1.1588344771085558e-05, 'leakyrelu_alpha_l60': 0.2562014260894184, 'n_units_l61': 1024, 'activation_l61': 'Tanh', 'dropout_l61': 0.3502297415657205, 'batch_norm_l61': True, 'l2_reg_l61': 0.005014502978695618, 'n_units_l62': 256, 'activation_l62': 'LeakyReLU', 'dropout_l62': 0.2587594987776479, 'batch_norm_l62': False, 'l2_reg_l62': 0.08955239867700898, 'leakyrelu_alpha_l62': 0.014239292855652286, 'n_units_l63': 2048, 'activation_l63': 'ReLU', 'dropout_l63': 0.21887528267150907, 'batch_norm_l63': True, 'l2_reg_l63': 1.6121873801865378e-05, 'n_units_l64': 64, 'activation_l64': 'Tanh', 'dropout_l64': 0.06473962592781851, 'batch_norm_l64': False, 'l2_reg_l64': 0.08670797960313777, 'n_units_l65': 1024, 'activation_l65': 'SELU', 'dropout_l65': 0.2742933414642753, 'batch_norm_l65': True, 'l2_reg_l65': 0.004129373274590943, 'n_units_l66': 1024, 'activation_l66': 'ReLU', 'dropout_l66': 0.49187104519135716, 'batch_norm_l66': True, 'l2_reg_l66': 0.05682901698673245, 'n_units_l67': 128, 'activation_l67': 'ELU', 'dropout_l67': 0.0042547884363994815, 'batch_norm_l67': False, 'l2_reg_l67': 0.002353396549503732, 'n_units_l68': 32, 'activation_l68': 'ReLU', 'dropout_l68': 0.03615275645344379, 'batch_norm_l68': False, 'l2_reg_l68': 0.00015893513075198768, 'n_units_l69': 1024, 'activation_l69': 'SELU', 'dropout_l69': 0.2593802961371081, 'batch_norm_l69': True, 'l2_reg_l69': 0.0009708626870234627, 'n_units_l70': 16, 'activation_l70': 'ELU', 'dropout_l70': 0.26685061946663036, 'batch_norm_l70': False, 'l2_reg_l70': 0.06216370935843633, 'n_units_l71': 256, 'activation_l71': 'LeakyReLU', 'dropout_l71': 0.4766180577263127, 'batch_norm_l71': False, 'l2_reg_l71': 0.0034594375577793436, 'leakyrelu_alpha_l71': 0.24383792688038813, 'n_units_l72': 1024, 'activation_l72': 'LeakyReLU', 'dropout_l72': 0.3526940895358333, 'batch_norm_l72': False, 'l2_reg_l72': 0.004334947407376413, 'leakyrelu_alpha_l72': 0.03938937842693653, 'n_units_l73': 512, 'activation_l73': 'Tanh', 'dropout_l73': 0.44967429295489525, 'batch_norm_l73': False, 'l2_reg_l73': 0.0024540829723413123, 'n_units_l74': 256, 'activation_l74': 'ReLU', 'dropout_l74': 0.016646038807621888, 'batch_norm_l74': True, 'l2_reg_l74': 0.08595850577765567, 'n_units_l75': 256, 'activation_l75': 'ELU', 'dropout_l75': 0.18883701183987195, 'batch_norm_l75': True, 'l2_reg_l75': 0.000310614921307721, 'n_units_l76': 64, 'activation_l76': 'SELU', 'dropout_l76': 0.4733279359600995, 'batch_norm_l76': False, 'l2_reg_l76': 0.004771541122498775, 'n_units_l77': 32, 'activation_l77': 'SELU', 'dropout_l77': 0.4894976134806502, 'batch_norm_l77': False, 'l2_reg_l77': 0.010926002942546033, 'n_units_l78': 32, 'activation_l78': 'SELU', 'dropout_l78': 0.45577347500039783, 'batch_norm_l78': False, 'l2_reg_l78': 1.650062887443053e-05, 'n_units_l79': 256, 'activation_l79': 'ELU', 'dropout_l79': 0.33527321376478303, 'batch_norm_l79': False, 'l2_reg_l79': 0.00015367782820913974, 'res_connection_index_l79': 0, 'n_units_l80': 512, 'activation_l80': 'ReLU', 'dropout_l80': 0.4972224307452246, 'batch_norm_l80': False, 'l2_reg_l80': 0.002787186138674455, 'res_connection_index_l80': 0, 'n_units_l81': 128, 'activation_l81': 'ELU', 'dropout_l81': 0.4050254999727041, 'batch_norm_l81': False, 'l2_reg_l81': 0.09281953049340849, 'res_connection_index_l81': 0, 'n_units_l82': 32, 'activation_l82': 'LeakyReLU', 'dropout_l82': 0.17153986082286016, 'batch_norm_l82': True, 'l2_reg_l82': 0.09805973245446008, 'leakyrelu_alpha_l82': 0.07751905678172163, 'res_connection_index_l82': 0, 'optimizer': 'SGD', 'lr': 0.0007839850918059967, 'sgd_momentum': 0.353784735293324, 'epochs': 1646, 'batch_size': 128, 'early_stopping_patience': 17, 'lr_reduce_factor': 0.7900969546919221, 'lr_reduce_patience': 40, 'min_lr': 2.8515434056221757e-06}. Best is trial 36 with value: 0.8811638591117917.\u001b[0m\n"
     ]
    },
    {
     "name": "stdout",
     "output_type": "stream",
     "text": [
      "Early stopping\n",
      "Trial 43 completado. Mejor precisión en validación: 0.678407350689127\n",
      "Usando GPU para el Trial 44\n",
      "Entrenando Trial 44...\n"
     ]
    },
    {
     "name": "stderr",
     "output_type": "stream",
     "text": [
      "Epoch 33/1740:  30%|████████████████████████████████████████████████████████▊                                                                                                                                       | 544/1837 [00:03<00:08, 153.00it/s]"
     ]
    }
   ],
   "source": [
    "trials_restantes=50000-num_trials\n",
    "study.optimize(objective, n_trials=trials_restantes)"
   ]
  },
  {
   "cell_type": "code",
   "execution_count": null,
   "metadata": {},
   "outputs": [],
   "source": [
    "print('Número de pruebas finalizadas:', len(study.trials))\n",
    "print('Mejor prueba:', study.best_trial.params)"
   ]
  },
  {
   "cell_type": "markdown",
   "metadata": {},
   "source": [
    "## Test"
   ]
  },
  {
   "cell_type": "code",
   "execution_count": null,
   "metadata": {},
   "outputs": [],
   "source": [
    "import torch\n",
    "import torch.nn as nn\n",
    "import torch.optim as optim\n",
    "from torch.utils.data import DataLoader\n",
    "from tqdm import tqdm\n",
    "\n",
    "best_params = study.best_trial.params\n",
    "\n",
    "# Crear el modelo, el optimizador y el scheduler usando la función build_model\n",
    "model, optimizer = build_model(best_params, input_shape, is_trial=False)\n",
    "\n",
    "# Configuración del dispositivo\n",
    "device = torch.device(\"cuda\" if torch.cuda.is_available() else \"cpu\")\n",
    "model.to(device)\n",
    "\n",
    "# Criterio de pérdida\n",
    "criterion = nn.BCELoss()  # Ajusta según tu caso\n",
    "\n",
    "# Función para calcular la precisión\n",
    "def calculate_accuracy(outputs, labels):\n",
    "    predicted = outputs.round()  # Redondear para obtener las predicciones binarias\n",
    "    correct = (predicted == labels).sum().item()\n",
    "    return correct / labels.size(0)\n",
    "\n",
    "# Variables para almacenar métricas y manejar el early stopping\n",
    "best_accuracy = 0.0\n",
    "epochs_no_improve = 0\n",
    "early_stopping_patience = best_params['early_stopping_patience']\n",
    "\n",
    "train_losses = []\n",
    "val_losses = []\n",
    "train_accuracies = []\n",
    "val_accuracies = []"
   ]
  },
  {
   "cell_type": "code",
   "execution_count": null,
   "metadata": {},
   "outputs": [],
   "source": [
    "# Bucle de entrenamiento\n",
    "epochs = best_params['epochs']\n",
    "for epoch in range(epochs):\n",
    "    model.train()\n",
    "    train_loss = 0.0\n",
    "    train_correct = 0\n",
    "    train_total = 0\n",
    "\n",
    "    for inputs, labels in tqdm(train_loader, desc=f\"Epoch {epoch + 1}/{epochs}\", leave=False):\n",
    "        inputs, labels = inputs.to(device), labels.to(device)\n",
    "        optimizer.zero_grad()\n",
    "        outputs = model(inputs)\n",
    "        loss = criterion(outputs, labels)\n",
    "        loss.backward()\n",
    "        optimizer.step()\n",
    "\n",
    "        train_loss += loss.item() * inputs.size(0)\n",
    "        train_correct += calculate_accuracy(outputs, labels) * inputs.size(0)\n",
    "        train_total += labels.size(0)\n",
    "\n",
    "    train_loss /= train_total\n",
    "    train_accuracy = train_correct / train_total\n",
    "\n",
    "    train_losses.append(train_loss)\n",
    "    train_accuracies.append(train_accuracy)\n",
    "\n",
    "    # Evaluación y Early Stopping\n",
    "    val_loss = 0.0\n",
    "    val_correct = 0\n",
    "    val_total = 0\n",
    "    model.eval()\n",
    "    with torch.no_grad():\n",
    "        for inputs, labels in val_loader:\n",
    "            inputs, labels = inputs.to(device), labels.to(device)\n",
    "            outputs = model(inputs)\n",
    "            val_loss += criterion(outputs, labels).item() * inputs.size(0)\n",
    "            val_correct += calculate_accuracy(outputs, labels) * inputs.size(0)\n",
    "            val_total += labels.size(0)\n",
    "\n",
    "    val_loss /= val_total\n",
    "    val_accuracy = val_correct / val_total\n",
    "\n",
    "    val_losses.append(val_loss)\n",
    "    val_accuracies.append(val_accuracy)\n",
    "\n",
    "    lr_scheduler.step(val_loss)\n",
    "\n",
    "    print(f\"Epoch {epoch + 1}/{epochs} - Train Loss: {train_loss:.4f}, Train Acc: {train_accuracy:.4f}, Val Loss: {val_loss:.4f}, Val Acc: {val_accuracy:.4f}\")\n",
    "\n",
    "    if val_accuracy > best_accuracy:\n",
    "        best_accuracy = val_accuracy\n",
    "        epochs_no_improve = 0\n",
    "    else:\n",
    "        epochs_no_improve += 1\n",
    "\n",
    "    # Descomentar si deseas aplicar early stopping\n",
    "    # if epochs_no_improve == early_stopping_patience:\n",
    "    #     print(\"Early stopping\")\n",
    "    #     break\n",
    "\n",
    "print(f\"Entrenamiento completado. Mejor precisión en validación: {best_accuracy}\")"
   ]
  },
  {
   "cell_type": "code",
   "execution_count": null,
   "metadata": {},
   "outputs": [],
   "source": [
    "# Graficar la pérdida y la precisión\n",
    "plt.figure(figsize=(12, 4))\n",
    "\n",
    "# Pérdida\n",
    "plt.subplot(1, 2, 1)\n",
    "plt.plot(history.history['loss'], label='Train Loss')\n",
    "plt.plot(history.history['val_loss'], label='Validation Loss')\n",
    "plt.title('Pérdida durante el entrenamiento')\n",
    "plt.xlabel('Épocas')\n",
    "plt.ylabel('Pérdida')\n",
    "plt.legend()\n",
    "\n",
    "# Precisión\n",
    "plt.subplot(1, 2, 2)\n",
    "plt.plot(history.history['accuracy'], label='Train Accuracy')\n",
    "plt.plot(history.history['val_accuracy'], label='Validation Accuracy')\n",
    "plt.title('Precisión durante el entrenamiento')\n",
    "plt.xlabel('Épocas')\n",
    "plt.ylabel('Precisión')\n",
    "plt.legend()\n",
    "\n",
    "plt.show()"
   ]
  },
  {
   "cell_type": "code",
   "execution_count": null,
   "metadata": {},
   "outputs": [],
   "source": [
    "# Evaluar el modelo en el conjunto de prueba\n",
    "model.evaluate(features_test, labels_test)"
   ]
  },
  {
   "cell_type": "code",
   "execution_count": null,
   "metadata": {},
   "outputs": [],
   "source": [
    "import torch\n",
    "import numpy as np\n",
    "import matplotlib.pyplot as plt\n",
    "import seaborn as sns\n",
    "from sklearn.metrics import confusion_matrix, accuracy_score, recall_score, precision_score, f1_score\n",
    "\n",
    "# Asegurarse de que el modelo esté en modo de evaluación y moverlo al dispositivo adecuado\n",
    "model.eval()\n",
    "device = torch.device(\"cuda\" if torch.cuda.is_available() else \"cpu\")\n",
    "model.to(device)\n",
    "\n",
    "# Realizar las predicciones\n",
    "with torch.no_grad():\n",
    "    inputs = features_test.to(device)\n",
    "    outputs = model(inputs)\n",
    "    predictions = outputs.round().cpu().numpy()  # Redondear las predicciones y moverlas al CPU\n",
    "\n",
    "# Calcular y visualizar la matriz de confusión\n",
    "conf_matrix = confusion_matrix(labels_test.numpy(), predictions)\n",
    "plt.figure(figsize=(8, 6))\n",
    "sns.heatmap(conf_matrix, annot=True, fmt='g', cmap='Blues')\n",
    "plt.title('Matriz de Confusión')\n",
    "plt.xlabel('Predicciones')\n",
    "plt.ylabel('Valores Reales')\n",
    "plt.show()\n",
    "\n",
    "# Calcular y mostrar otras métricas\n",
    "accuracy = accuracy_score(labels_test.numpy(), predictions)\n",
    "recall = recall_score(labels_test.numpy(), predictions)\n",
    "precision = precision_score(labels_test.numpy(), predictions)\n",
    "f1 = f1_score(labels_test.numpy(), predictions)\n",
    "print(f\"Accuracy: {accuracy}\")\n",
    "print(f\"Recall: {recall}\")\n",
    "print(f\"Precision: {precision}\")\n",
    "print(f\"F1 Score: {f1}\")\n"
   ]
  },
  {
   "cell_type": "code",
   "execution_count": null,
   "metadata": {},
   "outputs": [],
   "source": []
  }
 ],
 "metadata": {
  "kernelspec": {
   "display_name": "tutorial-env",
   "language": "python",
   "name": "tutorial-env"
  },
  "language_info": {
   "codemirror_mode": {
    "name": "ipython",
    "version": 3
   },
   "file_extension": ".py",
   "mimetype": "text/x-python",
   "name": "python",
   "nbconvert_exporter": "python",
   "pygments_lexer": "ipython3",
   "version": "3.10.12"
  }
 },
 "nbformat": 4,
 "nbformat_minor": 2
}
