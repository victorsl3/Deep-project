{
 "cells": [
  {
   "cell_type": "code",
   "execution_count": 20,
   "metadata": {},
   "outputs": [],
   "source": [
    "import os\n",
    "os.environ[\"SQLITE_BUSY_TIMEOUT\"] = \"30000\"  # 30 segundos"
   ]
  },
  {
   "cell_type": "code",
   "execution_count": 1,
   "metadata": {},
   "outputs": [],
   "source": [
    "import numpy as np\n",
    "import pandas as pd\n",
    "from sklearn.preprocessing import LabelEncoder, minmax_scale, scale\n",
    "import matplotlib.pyplot as plt\n",
    "import torch\n",
    "from torch.utils.data import TensorDataset, DataLoader"
   ]
  },
  {
   "cell_type": "code",
   "execution_count": 2,
   "metadata": {},
   "outputs": [],
   "source": [
    "data_path= \"/home/21953404Victor/Deep/drive-download-20231121T165626Z-001/HotelReservationsPreparedCleanAttributes.csv\"\n",
    "label_path = \"/home/21953404Victor/Deep/drive-download-20231121T165626Z-001/HotelReservationsOutput.csv\""
   ]
  },
  {
   "cell_type": "code",
   "execution_count": 3,
   "metadata": {},
   "outputs": [],
   "source": [
    "features  = pd.read_csv(data_path)\n",
    "labels = pd.read_csv(label_path)"
   ]
  },
  {
   "cell_type": "code",
   "execution_count": 4,
   "metadata": {},
   "outputs": [],
   "source": [
    "from sklearn.model_selection import train_test_split\n",
    "# Divide el conjunto de datos\n",
    "features_train, features_test, labels_train, labels_test = train_test_split(features.values, labels.values, test_size=0.1, random_state=42)\n",
    "features_train, features_val, labels_train, labels_val = train_test_split(features_train, labels_train, test_size=0.1, random_state=42)\n",
    "\n",
    "# Convierte los arrays a tensores de PyTorch\n",
    "features_train = torch.tensor(features_train).float()\n",
    "labels_train = torch.tensor(labels_train).float()\n",
    "features_val = torch.tensor(features_val).float()\n",
    "labels_val = torch.tensor(labels_val).float()\n",
    "features_test = torch.tensor(features_test).float()\n",
    "labels_test = torch.tensor(labels_test).float()\n",
    "\n",
    "# Crea conjuntos de datos de PyTorch\n",
    "train_dataset = TensorDataset(features_train, labels_train)\n",
    "val_dataset = TensorDataset(features_val, labels_val)\n",
    "test_dataset = TensorDataset(features_test, labels_test)\n",
    "\n",
    "# Crea DataLoaders de PyTorch\n",
    "train_loader = DataLoader(train_dataset, batch_size=64, shuffle=True)\n",
    "val_loader = DataLoader(val_dataset, batch_size=64, shuffle=False)\n",
    "test_loader = DataLoader(test_dataset, batch_size=64, shuffle=False)"
   ]
  },
  {
   "cell_type": "code",
   "execution_count": 5,
   "metadata": {},
   "outputs": [
    {
     "name": "stderr",
     "output_type": "stream",
     "text": [
      "2023-11-30 15:15:12.758163: I tensorflow/core/platform/cpu_feature_guard.cc:193] This TensorFlow binary is optimized with oneAPI Deep Neural Network Library (oneDNN) to use the following CPU instructions in performance-critical operations:  AVX2 FMA\n",
      "To enable them in other operations, rebuild TensorFlow with the appropriate compiler flags.\n",
      "2023-11-30 15:15:13.205005: E tensorflow/stream_executor/cuda/cuda_blas.cc:2981] Unable to register cuBLAS factory: Attempting to register factory for plugin cuBLAS when one has already been registered\n",
      "2023-11-30 15:15:14.286567: W tensorflow/stream_executor/platform/default/dso_loader.cc:64] Could not load dynamic library 'libnvinfer.so.7'; dlerror: libnvinfer.so.7: cannot open shared object file: No such file or directory; LD_LIBRARY_PATH: /opt/hadoop/lib/native:\n",
      "2023-11-30 15:15:14.286641: W tensorflow/stream_executor/platform/default/dso_loader.cc:64] Could not load dynamic library 'libnvinfer_plugin.so.7'; dlerror: libnvinfer_plugin.so.7: cannot open shared object file: No such file or directory; LD_LIBRARY_PATH: /opt/hadoop/lib/native:\n",
      "2023-11-30 15:15:14.286646: W tensorflow/compiler/tf2tensorrt/utils/py_utils.cc:38] TF-TRT Warning: Cannot dlopen some TensorRT libraries. If you would like to use Nvidia GPU with TensorRT, please make sure the missing libraries mentioned above are installed properly.\n"
     ]
    },
    {
     "name": "stdout",
     "output_type": "stream",
     "text": [
      "CUDA disponible: True\n",
      "Listado de dispositivos GPU disponibles:\n",
      "GPU 0: NVIDIA GeForce RTX 3080 Ti\n"
     ]
    }
   ],
   "source": [
    "import tensorflow as tf\n",
    "import torch\n",
    "\n",
    "# Verificar si CUDA está disponible\n",
    "cuda_available = torch.cuda.is_available()\n",
    "print(f\"CUDA disponible: {cuda_available}\")\n",
    "\n",
    "# Enumerar dispositivos de GPU disponibles y mostrar sus nombres si CUDA está disponible\n",
    "if cuda_available:\n",
    "    print(\"Listado de dispositivos GPU disponibles:\")\n",
    "    for i in range(torch.cuda.device_count()):\n",
    "        print(f\"GPU {i}: {torch.cuda.get_device_name(i)}\")\n",
    "else:\n",
    "    print(\"No se detectó una GPU. Asegúrate de que el acelerador de hardware esté configurado.\")\n"
   ]
  },
  {
   "cell_type": "code",
   "execution_count": 6,
   "metadata": {},
   "outputs": [],
   "source": [
    "import torch.nn as nn\n",
    "\n",
    "class PyTorchModel(nn.Module):\n",
    "    def __init__(self, trial, input_shape):\n",
    "        super(PyTorchModel, self).__init__()\n",
    "        self.layers = nn.ModuleList()\n",
    "        self.l2_regs = []\n",
    "        current_shape = input_shape\n",
    "\n",
    "        # Definir la arquitectura de la red\n",
    "        n_layers = trial.suggest_int('n_layers', 1, 50)\n",
    "        for i in range(n_layers):\n",
    "            num_units = trial.suggest_categorical(f'n_units_l{i}', [16, 32, 64, 128, 256, 512, 1024, 2048])\n",
    "            activation = trial.suggest_categorical(f'activation_l{i}', ['ReLU', 'Tanh', 'ELU', 'SELU', 'LeakyReLU'])\n",
    "            dropout_rate = trial.suggest_float(f'dropout_l{i}', 0.0, 0.5)\n",
    "            use_batch_norm = trial.suggest_categorical(f'batch_norm_l{i}', [True, False])\n",
    "            l2_reg = trial.suggest_float(f'l2_reg_l{i}', 1e-5, 1e-1, log=True)\n",
    "\n",
    "            # Crear y añadir la capa lineal\n",
    "            layer = nn.Linear(current_shape, num_units)\n",
    "            self.layers.append(layer)\n",
    "            self.l2_regs.append(l2_reg)  # Añadir la tasa de regularización L2\n",
    "\n",
    "            current_shape = num_units\n",
    "\n",
    "            # Añadir Batch Normalization si se indica\n",
    "            if use_batch_norm:\n",
    "                self.layers.append(nn.BatchNorm1d(num_units))\n",
    "            \n",
    "            # Añadir Dropout\n",
    "            self.layers.append(nn.Dropout(dropout_rate))\n",
    "\n",
    "            # Añadir la activación\n",
    "            if activation == 'LeakyReLU':\n",
    "                negative_slope = trial.suggest_float(f'leakyrelu_alpha_l{i}', 0.01, 0.3)\n",
    "                self.layers.append(nn.LeakyReLU(negative_slope=negative_slope))\n",
    "            else:\n",
    "                self.layers.append(getattr(nn, activation)())\n",
    "\n",
    "        # Capa de salida\n",
    "        self.output = nn.Linear(current_shape, 1)\n",
    "\n",
    "    def forward(self, x):\n",
    "        for layer in self.layers:\n",
    "            x = layer(x)\n",
    "        return torch.sigmoid(self.output(x))\n",
    "\n",
    "    def get_l2_loss(self):\n",
    "        l2_loss = 0.0\n",
    "        for layer, l2_reg in zip(self.layers, self.l2_regs):\n",
    "            if isinstance(layer, nn.Linear):\n",
    "                l2_loss += l2_reg * layer.weight.norm(2)\n",
    "        return l2_loss\n",
    "\n"
   ]
  },
  {
   "cell_type": "code",
   "execution_count": 7,
   "metadata": {},
   "outputs": [],
   "source": [
    "from torch.optim import Adam, SGD, RMSprop\n",
    "from torch.utils.data import DataLoader\n",
    "\n",
    "def build_model(params, input_shape, is_trial=True):\n",
    "    # Crear una instancia del modelo con la arquitectura definida\n",
    "    model = PyTorchModel(params, input_shape)\n",
    "\n",
    "    if is_trial:\n",
    "        # Configuración durante la optimización con Optuna\n",
    "        optimizer_name = params.suggest_categorical('optimizer', ['Adam', 'SGD', 'RMSprop'])\n",
    "        lr = params.suggest_float('lr', 1e-5, 1e-1, log=True)\n",
    "        if optimizer_name == 'Adam':\n",
    "            beta1 = params.suggest_float('adam_beta1', 0.85, 0.99)\n",
    "            beta2 = params.suggest_float('adam_beta2', 0.9, 0.999)\n",
    "            optimizer = Adam(model.parameters(), lr=lr, betas=(beta1, beta2))\n",
    "        elif optimizer_name == 'SGD':\n",
    "            momentum = params.suggest_float('sgd_momentum', 0.1, 0.9)\n",
    "            optimizer = SGD(model.parameters(), lr=lr, momentum=momentum)\n",
    "        elif optimizer_name == 'RMSprop':\n",
    "            alpha = params.suggest_float('rmsprop_alpha', 0.85, 0.99)\n",
    "            optimizer = RMSprop(model.parameters(), lr=lr, alpha=alpha)\n",
    "    else:\n",
    "        # Configuración con parámetros fijos\n",
    "        optimizer_name = params['optimizer']\n",
    "        if optimizer_name == 'Adam':\n",
    "            optimizer = Adam(model.parameters(), lr=params['lr'], betas=(params['adam_beta1'], params['adam_beta2']))\n",
    "        elif optimizer_name == 'SGD':\n",
    "            optimizer = SGD(model.parameters(), lr=params['lr'], momentum=params.get('sgd_momentum', 0.9))\n",
    "        elif optimizer_name == 'RMSprop':\n",
    "            optimizer = RMSprop(model.parameters(), lr=params['lr'], alpha=params.get('rmsprop_alpha', 0.99))\n",
    "\n",
    "    return model, optimizer\n",
    "\n"
   ]
  },
  {
   "cell_type": "code",
   "execution_count": 8,
   "metadata": {},
   "outputs": [],
   "source": [
    "from tqdm import tqdm\n",
    "import torch\n",
    "\n",
    "def calculate_accuracy(outputs, labels):\n",
    "    predicted = outputs.round()  # Redondear para obtener las predicciones binarias\n",
    "    correct = (predicted == labels).sum().item()\n",
    "    return correct / labels.size(0)"
   ]
  },
  {
   "cell_type": "code",
   "execution_count": 9,
   "metadata": {},
   "outputs": [],
   "source": [
    "import matplotlib.pyplot as plt\n",
    "from tqdm import tqdm\n",
    "import torch\n",
    "import gc\n",
    "from torch.utils.data import DataLoader\n",
    "\n",
    "def plot_metrics(train_losses, val_losses, train_accuracies, val_accuracies, file_name_base):\n",
    "    plt.figure(figsize=(12, 4))\n",
    "\n",
    "    # Pérdida\n",
    "    plt.subplot(1, 2, 1)\n",
    "    plt.plot(train_losses, label='Train Loss')\n",
    "    plt.plot(val_losses, label='Validation Loss')\n",
    "    plt.title('Pérdida durante el entrenamiento')\n",
    "    plt.xlabel('Épocas')\n",
    "    plt.ylabel('Pérdida')\n",
    "    plt.legend()\n",
    "\n",
    "    # Precisión\n",
    "    plt.subplot(1, 2, 2)\n",
    "    plt.plot(train_accuracies, label='Train Accuracy')\n",
    "    plt.plot(val_accuracies, label='Validation Accuracy')\n",
    "    plt.title('Precisión durante el entrenamiento')\n",
    "    plt.xlabel('Épocas')\n",
    "    plt.ylabel('Precisión')\n",
    "    plt.legend()\n",
    "\n",
    "    plt.savefig(f\"{file_name_base}_plot.png\")\n",
    "    plt.close()"
   ]
  },
  {
   "cell_type": "code",
   "execution_count": 10,
   "metadata": {},
   "outputs": [
    {
     "name": "stdout",
     "output_type": "stream",
     "text": [
      "Mejor accuracy global: 0.8903522205206739\n"
     ]
    }
   ],
   "source": [
    "import json\n",
    "\n",
    "best_accuracy_file = \"global_best_accuracy.json\"\n",
    "\n",
    "# Intenta cargar la mejor precisión global desde un archivo\n",
    "try:\n",
    "    with open(best_accuracy_file, \"r\") as file:\n",
    "        global_best_accuracy = json.load(file)\n",
    "except (FileNotFoundError, json.JSONDecodeError, TypeError, ValueError):\n",
    "    global_best_accuracy = 0.0\n",
    "    \n",
    "best_model_path = \"best_model.pt\"\n",
    "plot_file_name_base = \"best_model\"\n",
    "\n",
    "print(f\"Mejor accuracy global: {global_best_accuracy}\")"
   ]
  },
  {
   "cell_type": "markdown",
   "metadata": {},
   "source": [
    "## Train"
   ]
  },
  {
   "cell_type": "code",
   "execution_count": 11,
   "metadata": {},
   "outputs": [],
   "source": [
    "import torch\n",
    "import gc\n",
    "from torch.utils.data import DataLoader\n",
    "\n",
    "def objective(trial):\n",
    "    global global_best_accuracy, best_model_path, plot_file_name_base\n",
    "    # Verificar y configurar el uso de la GPU\n",
    "    device = torch.device('cuda' if torch.cuda.is_available() else 'cpu')\n",
    "    print(f\"Usando {'GPU' if device.type == 'cuda' else 'CPU'} para el Trial {trial.number}\")\n",
    "\n",
    "    model, optimizer = build_model(trial, input_shape)  # Asegúrate de que 'input_shape' esté definido\n",
    "    model.to(device)\n",
    "\n",
    "    # Parametrización del número de épocas y tamaño del batch\n",
    "    epochs = trial.suggest_int('epochs', 10, 2000)\n",
    "    batch_size = trial.suggest_categorical('batch_size', [16, 32, 64, 128, 256, 512, 1024, 2048])\n",
    "\n",
    "    # Criterio de pérdida y DataLoader\n",
    "    criterion = torch.nn.BCELoss()  # Ajustar según tu problema\n",
    "    train_loader = DataLoader(train_dataset, batch_size=batch_size, shuffle=True)\n",
    "    val_loader = DataLoader(val_dataset, batch_size=batch_size, shuffle=False)\n",
    "\n",
    "    # Configuración de Early Stopping y Learning Rate Scheduler\n",
    "    early_stopping_patience = trial.suggest_int('early_stopping_patience', 3, 20)\n",
    "    factor = trial.suggest_float(\"lr_reduce_factor\", 0.1, 0.9)\n",
    "    lr_patience = trial.suggest_int(\"lr_reduce_patience\", 5, 50)\n",
    "    min_lr = trial.suggest_float(\"min_lr\", 1e-6, 1e-4, log=True)\n",
    "    lr_scheduler = torch.optim.lr_scheduler.ReduceLROnPlateau(optimizer, factor=factor, patience=lr_patience, min_lr=min_lr, verbose=True)\n",
    "\n",
    "    # Entrenamiento del modelo\n",
    "    print(f\"Entrenando Trial {trial.number}...\")\n",
    "    best_accuracy = 0.0  # Inicializacion de la mejor precisión\n",
    "    epochs_no_improve = 0\n",
    "    # Inicializar listas para almacenar métricas\n",
    "    train_losses, val_losses, train_accuracies, val_accuracies = [], [], [], []\n",
    "\n",
    "    for epoch in range(epochs):\n",
    "        model.train()\n",
    "        train_loss = 0.0\n",
    "        train_correct = 0\n",
    "        train_total = 0\n",
    "\n",
    "        for inputs, labels in tqdm(train_loader, desc=f\"Epoch {epoch + 1}/{epochs}\", leave=False):\n",
    "            inputs, labels = inputs.to(device), labels.to(device)\n",
    "            optimizer.zero_grad()\n",
    "            outputs = model(inputs)\n",
    "            loss = criterion(outputs, labels)\n",
    "            loss.backward()\n",
    "            optimizer.step()\n",
    "\n",
    "            train_loss += loss.item() * inputs.size(0)\n",
    "            train_correct += calculate_accuracy(outputs, labels) * inputs.size(0)\n",
    "            train_total += labels.size(0)\n",
    "\n",
    "        train_loss /= train_total\n",
    "        train_accuracy = train_correct / train_total\n",
    "\n",
    "        # Almacenar las métricas de entrenamiento\n",
    "        train_losses.append(train_loss)\n",
    "        train_accuracies.append(train_accuracy)\n",
    "\n",
    "        # Evaluación y Early Stopping\n",
    "        val_loss = 0.0\n",
    "        val_correct = 0\n",
    "        val_total = 0\n",
    "        model.eval()\n",
    "        with torch.no_grad():\n",
    "            for inputs, labels in val_loader:\n",
    "                inputs, labels = inputs.to(device), labels.to(device)\n",
    "                outputs = model(inputs)\n",
    "                val_loss += criterion(outputs, labels).item() * inputs.size(0)\n",
    "                val_correct += calculate_accuracy(outputs, labels) * inputs.size(0)\n",
    "                val_total += labels.size(0)\n",
    "\n",
    "        val_loss /= val_total\n",
    "        val_accuracy = val_correct / val_total\n",
    "\n",
    "        # Almacenar las métricas de validación\n",
    "        val_losses.append(val_loss)\n",
    "        val_accuracies.append(val_accuracy)\n",
    "\n",
    "        lr_scheduler.step(val_loss)\n",
    "\n",
    "        # Comprobar si este modelo es el mejor hasta ahora\n",
    "        if val_accuracy > best_accuracy:\n",
    "            best_accuracy = val_accuracy\n",
    "            if best_accuracy > global_best_accuracy:\n",
    "                global_best_accuracy = best_accuracy\n",
    "                # Guardar el nuevo valor de global_best_accuracy\n",
    "                with open(best_accuracy_file, \"w\") as file:\n",
    "                    json.dump(global_best_accuracy, file)\n",
    "                torch.save(model.state_dict(), best_model_path)  # Sobreescribir el mejor modelo\n",
    "                plot_metrics(train_losses, val_losses, train_accuracies, val_accuracies, plot_file_name_base)  # Sobreescribir el gráfico\n",
    "            epochs_no_improve = 0\n",
    "        else:\n",
    "            epochs_no_improve += 1\n",
    "\n",
    "        if epochs_no_improve == early_stopping_patience:\n",
    "            print(\"Early stopping\")\n",
    "            break\n",
    "\n",
    "    print(f\"Trial {trial.number} completado. Mejor precisión en validación: {best_accuracy}\")\n",
    "\n",
    "    # Limpiar la memoria después de cada trial\n",
    "    del model, optimizer\n",
    "    torch.cuda.empty_cache()\n",
    "    gc.collect()\n",
    "\n",
    "    # Devolver la pérdida en lugar de la precisión\n",
    "    return best_accuracy\n"
   ]
  },
  {
   "cell_type": "code",
   "execution_count": 12,
   "metadata": {},
   "outputs": [],
   "source": [
    "input_shape = features_train.shape[1]  # Número de variables explicativas"
   ]
  },
  {
   "cell_type": "code",
   "execution_count": 13,
   "metadata": {},
   "outputs": [
    {
     "name": "stderr",
     "output_type": "stream",
     "text": [
      "/home/21953404Victor/SDC3/tutorial-env/lib/python3.10/site-packages/tqdm/auto.py:21: TqdmWarning: IProgress not found. Please update jupyter and ipywidgets. See https://ipywidgets.readthedocs.io/en/stable/user_install.html\n",
      "  from .autonotebook import tqdm as notebook_tqdm\n",
      "\u001b[32m[I 2023-11-30 15:15:15,617]\u001b[0m Using an existing study with name 'accuracy_gpu_study' instead of creating a new one.\u001b[0m\n"
     ]
    }
   ],
   "source": [
    "import optuna\n",
    "\n",
    "storage = \"sqlite:///example.db\"  # Ruta de la base de datos SQLite\n",
    "study_name = \"accuracy_gpu_study\"  # Nuevo nombre del estudio\n",
    "\n",
    "# Crear un nuevo estudio\n",
    "study = optuna.create_study(study_name=study_name, direction='maximize', storage=storage, load_if_exists=True)"
   ]
  },
  {
   "cell_type": "code",
   "execution_count": 14,
   "metadata": {},
   "outputs": [
    {
     "name": "stdout",
     "output_type": "stream",
     "text": [
      "El estudio contiene 478 ensayos.\n"
     ]
    }
   ],
   "source": [
    "# Número de ensayos en el estudio\n",
    "num_trials = len(study.trials)\n",
    "print(f\"El estudio contiene {num_trials} ensayos.\")"
   ]
  },
  {
   "cell_type": "code",
   "execution_count": null,
   "metadata": {},
   "outputs": [
    {
     "name": "stdout",
     "output_type": "stream",
     "text": [
      "Usando GPU para el Trial 377\n",
      "Entrenando Trial 377...\n"
     ]
    },
    {
     "name": "stderr",
     "output_type": "stream",
     "text": [
      "\u001b[32m[I 2023-11-29 18:35:43,545]\u001b[0m Trial 377 finished with value: 0.8799387442572741 and parameters: {'n_layers': 7, 'n_units_l0': 1024, 'activation_l0': 'LeakyReLU', 'dropout_l0': 0.20586549895108144, 'batch_norm_l0': False, 'l2_reg_l0': 0.000542687177346643, 'leakyrelu_alpha_l0': 0.17182393242401497, 'n_units_l1': 128, 'activation_l1': 'LeakyReLU', 'dropout_l1': 0.12076272856367021, 'batch_norm_l1': False, 'l2_reg_l1': 0.007205391117408795, 'leakyrelu_alpha_l1': 0.045352126597739906, 'n_units_l2': 1024, 'activation_l2': 'ReLU', 'dropout_l2': 0.4995547709991217, 'batch_norm_l2': False, 'l2_reg_l2': 2.8634331682601625e-05, 'n_units_l3': 1024, 'activation_l3': 'LeakyReLU', 'dropout_l3': 0.11157486962628477, 'batch_norm_l3': True, 'l2_reg_l3': 0.0037526333590269796, 'leakyrelu_alpha_l3': 0.1686995710767366, 'n_units_l4': 64, 'activation_l4': 'LeakyReLU', 'dropout_l4': 0.29339315201188676, 'batch_norm_l4': False, 'l2_reg_l4': 0.00038962626267814786, 'leakyrelu_alpha_l4': 0.24224093944067351, 'n_units_l5': 2048, 'activation_l5': 'LeakyReLU', 'dropout_l5': 0.052379546538386425, 'batch_norm_l5': False, 'l2_reg_l5': 0.0018824367411702494, 'leakyrelu_alpha_l5': 0.10236163189264286, 'n_units_l6': 16, 'activation_l6': 'SELU', 'dropout_l6': 0.04680206066488585, 'batch_norm_l6': True, 'l2_reg_l6': 0.0001729352753196146, 'optimizer': 'RMSprop', 'lr': 0.0012755652849894324, 'rmsprop_alpha': 0.9605507849116605, 'epochs': 1929, 'batch_size': 128, 'early_stopping_patience': 20, 'lr_reduce_factor': 0.5234083243057656, 'lr_reduce_patience': 28, 'min_lr': 5.293162682071497e-05}. Best is trial 247 with value: 0.8903522205206739.\u001b[0m\n"
     ]
    },
    {
     "name": "stdout",
     "output_type": "stream",
     "text": [
      "Early stopping\n",
      "Trial 377 completado. Mejor precisión en validación: 0.8799387442572741\n",
      "Usando GPU para el Trial 378\n",
      "Entrenando Trial 378...\n"
     ]
    },
    {
     "name": "stderr",
     "output_type": "stream",
     "text": [
      "                                                                                                                                                                                                                                                        \r"
     ]
    },
    {
     "name": "stdout",
     "output_type": "stream",
     "text": [
      "Epoch 00038: reducing learning rate of group 0 to 1.2187e-04.\n"
     ]
    },
    {
     "name": "stderr",
     "output_type": "stream",
     "text": [
      "                                                                                                                                                                                                                                                        \r"
     ]
    },
    {
     "name": "stdout",
     "output_type": "stream",
     "text": [
      "Epoch 00071: reducing learning rate of group 0 to 4.2581e-05.\n"
     ]
    },
    {
     "name": "stderr",
     "output_type": "stream",
     "text": [
      "                                                                                                                                                                                                                                                        \r"
     ]
    },
    {
     "name": "stdout",
     "output_type": "stream",
     "text": [
      "Early stopping\n",
      "Trial 378 completado. Mejor precisión en validación: 0.8817764165390506\n"
     ]
    },
    {
     "name": "stderr",
     "output_type": "stream",
     "text": [
      "\u001b[32m[I 2023-11-29 18:42:45,197]\u001b[0m Trial 378 finished with value: 0.8817764165390506 and parameters: {'n_layers': 5, 'n_units_l0': 2048, 'activation_l0': 'LeakyReLU', 'dropout_l0': 0.10953336917272383, 'batch_norm_l0': False, 'l2_reg_l0': 0.00011233059100925291, 'leakyrelu_alpha_l0': 0.2877116857026001, 'n_units_l1': 512, 'activation_l1': 'Tanh', 'dropout_l1': 0.07259215112330679, 'batch_norm_l1': False, 'l2_reg_l1': 0.00044940829482095545, 'n_units_l2': 1024, 'activation_l2': 'ReLU', 'dropout_l2': 0.16471390116618767, 'batch_norm_l2': True, 'l2_reg_l2': 6.466878532870697e-05, 'n_units_l3': 1024, 'activation_l3': 'Tanh', 'dropout_l3': 0.19654488040901674, 'batch_norm_l3': False, 'l2_reg_l3': 0.04004876257259941, 'n_units_l4': 64, 'activation_l4': 'LeakyReLU', 'dropout_l4': 0.3249103393481334, 'batch_norm_l4': True, 'l2_reg_l4': 0.00020555985080136338, 'leakyrelu_alpha_l4': 0.25285800580152606, 'optimizer': 'RMSprop', 'lr': 0.0005915669572999955, 'rmsprop_alpha': 0.9771667390087804, 'epochs': 1828, 'batch_size': 16, 'early_stopping_patience': 19, 'lr_reduce_factor': 0.2060196375681072, 'lr_reduce_patience': 14, 'min_lr': 4.2581396116167974e-05}. Best is trial 247 with value: 0.8903522205206739.\u001b[0m\n"
     ]
    },
    {
     "name": "stdout",
     "output_type": "stream",
     "text": [
      "Usando GPU para el Trial 379\n",
      "Entrenando Trial 379...\n"
     ]
    },
    {
     "name": "stderr",
     "output_type": "stream",
     "text": [
      "                                                                                                                                                                                                                                                        \r"
     ]
    },
    {
     "name": "stdout",
     "output_type": "stream",
     "text": [
      "Epoch 00049: reducing learning rate of group 0 to 4.2055e-04.\n"
     ]
    },
    {
     "name": "stderr",
     "output_type": "stream",
     "text": [
      "                                                                                                                                                                                                                                                        \r"
     ]
    },
    {
     "name": "stdout",
     "output_type": "stream",
     "text": [
      "Epoch 00080: reducing learning rate of group 0 to 2.3876e-04.\n"
     ]
    },
    {
     "name": "stderr",
     "output_type": "stream",
     "text": [
      "                                                                                                                                                                                                                                                        \r"
     ]
    },
    {
     "name": "stdout",
     "output_type": "stream",
     "text": [
      "Early stopping\n",
      "Trial 379 completado. Mejor precisión en validación: 0.886676875957121\n"
     ]
    },
    {
     "name": "stderr",
     "output_type": "stream",
     "text": [
      "\u001b[32m[I 2023-11-29 18:44:10,646]\u001b[0m Trial 379 finished with value: 0.886676875957121 and parameters: {'n_layers': 7, 'n_units_l0': 1024, 'activation_l0': 'SELU', 'dropout_l0': 0.009081305779644566, 'batch_norm_l0': False, 'l2_reg_l0': 0.0007007050877196262, 'n_units_l1': 2048, 'activation_l1': 'Tanh', 'dropout_l1': 0.35449614972229737, 'batch_norm_l1': False, 'l2_reg_l1': 8.261150852978227e-05, 'n_units_l2': 1024, 'activation_l2': 'ReLU', 'dropout_l2': 0.3406647349456144, 'batch_norm_l2': True, 'l2_reg_l2': 0.002371193074015536, 'n_units_l3': 512, 'activation_l3': 'LeakyReLU', 'dropout_l3': 0.13236531526500422, 'batch_norm_l3': True, 'l2_reg_l3': 0.06750916610269414, 'leakyrelu_alpha_l3': 0.1548251169321868, 'n_units_l4': 64, 'activation_l4': 'LeakyReLU', 'dropout_l4': 0.2815536755956882, 'batch_norm_l4': True, 'l2_reg_l4': 6.409808439878124e-05, 'leakyrelu_alpha_l4': 0.2999453984821389, 'n_units_l5': 2048, 'activation_l5': 'Tanh', 'dropout_l5': 0.49179819433790284, 'batch_norm_l5': False, 'l2_reg_l5': 0.0003701123458698302, 'n_units_l6': 512, 'activation_l6': 'LeakyReLU', 'dropout_l6': 0.07524792192000479, 'batch_norm_l6': True, 'l2_reg_l6': 0.0009579700180930788, 'leakyrelu_alpha_l6': 0.15906567573948027, 'optimizer': 'RMSprop', 'lr': 0.0007407853950757891, 'rmsprop_alpha': 0.9743418891656017, 'epochs': 1956, 'batch_size': 128, 'early_stopping_patience': 20, 'lr_reduce_factor': 0.567714887712981, 'lr_reduce_patience': 30, 'min_lr': 2.1021948543496313e-05}. Best is trial 247 with value: 0.8903522205206739.\u001b[0m\n"
     ]
    },
    {
     "name": "stdout",
     "output_type": "stream",
     "text": [
      "Usando GPU para el Trial 380\n",
      "Entrenando Trial 380...\n"
     ]
    },
    {
     "name": "stderr",
     "output_type": "stream",
     "text": [
      "                                                                                                                                                                                                                                                        \r"
     ]
    },
    {
     "name": "stdout",
     "output_type": "stream",
     "text": [
      "Epoch 00072: reducing learning rate of group 0 to 4.1521e-04.\n"
     ]
    },
    {
     "name": "stderr",
     "output_type": "stream",
     "text": [
      "                                                                                                                                                                                                                                                        \r"
     ]
    },
    {
     "name": "stdout",
     "output_type": "stream",
     "text": [
      "Epoch 00105: reducing learning rate of group 0 to 2.3537e-04.\n"
     ]
    },
    {
     "name": "stderr",
     "output_type": "stream",
     "text": [
      "                                                                                                                                                                                                                                                        \r"
     ]
    },
    {
     "name": "stdout",
     "output_type": "stream",
     "text": [
      "Epoch 00133: reducing learning rate of group 0 to 1.3342e-04.\n"
     ]
    },
    {
     "name": "stderr",
     "output_type": "stream",
     "text": [
      "\u001b[32m[I 2023-11-29 18:45:32,284]\u001b[0m Trial 380 finished with value: 0.8845329249617152 and parameters: {'n_layers': 8, 'n_units_l0': 1024, 'activation_l0': 'SELU', 'dropout_l0': 0.07920946241773551, 'batch_norm_l0': False, 'l2_reg_l0': 0.0007441764812532521, 'n_units_l1': 512, 'activation_l1': 'Tanh', 'dropout_l1': 0.3437135140544309, 'batch_norm_l1': False, 'l2_reg_l1': 0.00011744533692576336, 'n_units_l2': 1024, 'activation_l2': 'ReLU', 'dropout_l2': 0.3863154650527061, 'batch_norm_l2': True, 'l2_reg_l2': 0.0016612727831701766, 'n_units_l3': 512, 'activation_l3': 'LeakyReLU', 'dropout_l3': 0.13820026583962056, 'batch_norm_l3': True, 'l2_reg_l3': 0.06411347080608792, 'leakyrelu_alpha_l3': 0.1580861487247182, 'n_units_l4': 64, 'activation_l4': 'LeakyReLU', 'dropout_l4': 0.2842993360222502, 'batch_norm_l4': True, 'l2_reg_l4': 7.6433738934186e-05, 'leakyrelu_alpha_l4': 0.28971389224614547, 'n_units_l5': 1024, 'activation_l5': 'Tanh', 'dropout_l5': 0.210789797815006, 'batch_norm_l5': False, 'l2_reg_l5': 0.0002358819540222235, 'n_units_l6': 512, 'activation_l6': 'LeakyReLU', 'dropout_l6': 0.08047343690371188, 'batch_norm_l6': True, 'l2_reg_l6': 0.00024100245190327284, 'leakyrelu_alpha_l6': 0.15740624780464998, 'n_units_l7': 16, 'activation_l7': 'ReLU', 'dropout_l7': 0.2839265701481053, 'batch_norm_l7': False, 'l2_reg_l7': 0.015724188679715895, 'optimizer': 'RMSprop', 'lr': 0.0007324689730118102, 'rmsprop_alpha': 0.9709627099390289, 'epochs': 1966, 'batch_size': 256, 'early_stopping_patience': 20, 'lr_reduce_factor': 0.5668633190988054, 'lr_reduce_patience': 27, 'min_lr': 2.237058681275017e-05}. Best is trial 247 with value: 0.8903522205206739.\u001b[0m\n"
     ]
    },
    {
     "name": "stdout",
     "output_type": "stream",
     "text": [
      "Epoch 00161: reducing learning rate of group 0 to 7.5631e-05.\n",
      "Early stopping\n",
      "Trial 380 completado. Mejor precisión en validación: 0.8845329249617152\n",
      "Usando GPU para el Trial 381\n",
      "Entrenando Trial 381...\n"
     ]
    },
    {
     "name": "stderr",
     "output_type": "stream",
     "text": [
      "                                                                                                                                                                                                                                                        \r"
     ]
    },
    {
     "name": "stdout",
     "output_type": "stream",
     "text": [
      "Epoch 00110: reducing learning rate of group 0 to 3.8443e-04.\n"
     ]
    },
    {
     "name": "stderr",
     "output_type": "stream",
     "text": [
      "                                                                                                                                                                                                                                                        \r"
     ]
    },
    {
     "name": "stdout",
     "output_type": "stream",
     "text": [
      "Epoch 00137: reducing learning rate of group 0 to 2.1867e-04.\n"
     ]
    },
    {
     "name": "stderr",
     "output_type": "stream",
     "text": [
      "                                                                                                                                                                                                                                                        \r"
     ]
    },
    {
     "name": "stdout",
     "output_type": "stream",
     "text": [
      "Early stopping\n",
      "Trial 381 completado. Mejor precisión en validación: 0.877488514548239\n"
     ]
    },
    {
     "name": "stderr",
     "output_type": "stream",
     "text": [
      "\u001b[32m[I 2023-11-29 18:47:07,030]\u001b[0m Trial 381 finished with value: 0.877488514548239 and parameters: {'n_layers': 10, 'n_units_l0': 32, 'activation_l0': 'SELU', 'dropout_l0': 0.02987538794284359, 'batch_norm_l0': False, 'l2_reg_l0': 0.0011695297266928644, 'n_units_l1': 2048, 'activation_l1': 'Tanh', 'dropout_l1': 0.36899729278613724, 'batch_norm_l1': False, 'l2_reg_l1': 0.00012256420114473599, 'n_units_l2': 2048, 'activation_l2': 'ReLU', 'dropout_l2': 0.39387159084707807, 'batch_norm_l2': True, 'l2_reg_l2': 0.0033104125081591705, 'n_units_l3': 512, 'activation_l3': 'Tanh', 'dropout_l3': 0.12580562279407848, 'batch_norm_l3': True, 'l2_reg_l3': 0.07104845909972705, 'n_units_l4': 64, 'activation_l4': 'LeakyReLU', 'dropout_l4': 0.2792204126241704, 'batch_norm_l4': True, 'l2_reg_l4': 7.936922643422038e-05, 'leakyrelu_alpha_l4': 0.2893172721408649, 'n_units_l5': 1024, 'activation_l5': 'Tanh', 'dropout_l5': 0.2528871794402916, 'batch_norm_l5': True, 'l2_reg_l5': 0.00035674063834337537, 'n_units_l6': 512, 'activation_l6': 'LeakyReLU', 'dropout_l6': 0.08019803005024799, 'batch_norm_l6': True, 'l2_reg_l6': 0.0012992680745559202, 'leakyrelu_alpha_l6': 0.1601863142174943, 'n_units_l7': 16, 'activation_l7': 'ReLU', 'dropout_l7': 0.2851198014285251, 'batch_norm_l7': False, 'l2_reg_l7': 0.015916135909820536, 'n_units_l8': 16, 'activation_l8': 'Tanh', 'dropout_l8': 0.09978931397816321, 'batch_norm_l8': True, 'l2_reg_l8': 0.006940210337607306, 'n_units_l9': 16, 'activation_l9': 'Tanh', 'dropout_l9': 0.3914236040256416, 'batch_norm_l9': True, 'l2_reg_l9': 0.06694795659969459, 'optimizer': 'RMSprop', 'lr': 0.0006758308970404903, 'rmsprop_alpha': 0.972403375534035, 'epochs': 2000, 'batch_size': 256, 'early_stopping_patience': 20, 'lr_reduce_factor': 0.5688216186352573, 'lr_reduce_patience': 26, 'min_lr': 2.0990878111091145e-05}. Best is trial 247 with value: 0.8903522205206739.\u001b[0m\n"
     ]
    },
    {
     "name": "stdout",
     "output_type": "stream",
     "text": [
      "Usando GPU para el Trial 382\n",
      "Entrenando Trial 382...\n"
     ]
    },
    {
     "name": "stderr",
     "output_type": "stream",
     "text": [
      "\u001b[32m[I 2023-11-29 18:47:43,181]\u001b[0m Trial 382 finished with value: 0.8725880551301685 and parameters: {'n_layers': 9, 'n_units_l0': 2048, 'activation_l0': 'SELU', 'dropout_l0': 0.011963719664431872, 'batch_norm_l0': False, 'l2_reg_l0': 0.0008197870166594296, 'n_units_l1': 2048, 'activation_l1': 'Tanh', 'dropout_l1': 0.3297150563467909, 'batch_norm_l1': False, 'l2_reg_l1': 8.172126885717677e-05, 'n_units_l2': 1024, 'activation_l2': 'ReLU', 'dropout_l2': 0.35251798499889636, 'batch_norm_l2': True, 'l2_reg_l2': 0.0019966966291714086, 'n_units_l3': 512, 'activation_l3': 'LeakyReLU', 'dropout_l3': 0.20211605970301935, 'batch_norm_l3': True, 'l2_reg_l3': 0.05995594428253786, 'leakyrelu_alpha_l3': 0.15602011826204606, 'n_units_l4': 64, 'activation_l4': 'LeakyReLU', 'dropout_l4': 0.2878608099094197, 'batch_norm_l4': True, 'l2_reg_l4': 6.409851226736628e-05, 'leakyrelu_alpha_l4': 0.2996201664155355, 'n_units_l5': 1024, 'activation_l5': 'Tanh', 'dropout_l5': 0.47766888651632455, 'batch_norm_l5': False, 'l2_reg_l5': 0.0003392017615214104, 'n_units_l6': 512, 'activation_l6': 'LeakyReLU', 'dropout_l6': 0.07607498842196755, 'batch_norm_l6': True, 'l2_reg_l6': 0.00024147088116468183, 'leakyrelu_alpha_l6': 0.13375808981120507, 'n_units_l7': 16, 'activation_l7': 'ReLU', 'dropout_l7': 0.3629211709418782, 'batch_norm_l7': False, 'l2_reg_l7': 0.011530944422423584, 'n_units_l8': 1024, 'activation_l8': 'ReLU', 'dropout_l8': 0.1739560526163759, 'batch_norm_l8': False, 'l2_reg_l8': 0.0003950740233739912, 'optimizer': 'RMSprop', 'lr': 0.00044920311548012326, 'rmsprop_alpha': 0.9743148461112977, 'epochs': 1950, 'batch_size': 256, 'early_stopping_patience': 19, 'lr_reduce_factor': 0.5925783428326066, 'lr_reduce_patience': 23, 'min_lr': 2.0498560695871527e-05}. Best is trial 247 with value: 0.8903522205206739.\u001b[0m\n"
     ]
    },
    {
     "name": "stdout",
     "output_type": "stream",
     "text": [
      "Early stopping\n",
      "Trial 382 completado. Mejor precisión en validación: 0.8725880551301685\n",
      "Usando GPU para el Trial 383\n",
      "Entrenando Trial 383...\n"
     ]
    },
    {
     "name": "stderr",
     "output_type": "stream",
     "text": [
      "                                                                                                                                                                                                                                                        \r"
     ]
    },
    {
     "name": "stdout",
     "output_type": "stream",
     "text": [
      "Epoch 00074: reducing learning rate of group 0 to 3.0158e-04.\n"
     ]
    },
    {
     "name": "stderr",
     "output_type": "stream",
     "text": [
      "                                                                                                                                                                                                                                                        \r"
     ]
    },
    {
     "name": "stdout",
     "output_type": "stream",
     "text": [
      "Early stopping\n",
      "Trial 383 completado. Mejor precisión en validación: 0.8753445635528331\n"
     ]
    },
    {
     "name": "stderr",
     "output_type": "stream",
     "text": [
      "\u001b[32m[I 2023-11-29 18:48:29,107]\u001b[0m Trial 383 finished with value: 0.8753445635528331 and parameters: {'n_layers': 8, 'n_units_l0': 1024, 'activation_l0': 'SELU', 'dropout_l0': 0.03880105895589807, 'batch_norm_l0': False, 'l2_reg_l0': 0.0007063568745024529, 'n_units_l1': 2048, 'activation_l1': 'Tanh', 'dropout_l1': 0.18854050435921954, 'batch_norm_l1': False, 'l2_reg_l1': 8.939809974210035e-05, 'n_units_l2': 1024, 'activation_l2': 'ReLU', 'dropout_l2': 0.384642536220292, 'batch_norm_l2': True, 'l2_reg_l2': 0.0025274007670456566, 'n_units_l3': 512, 'activation_l3': 'LeakyReLU', 'dropout_l3': 0.13614432344208233, 'batch_norm_l3': True, 'l2_reg_l3': 0.08475786840189245, 'leakyrelu_alpha_l3': 0.14671671400833258, 'n_units_l4': 64, 'activation_l4': 'LeakyReLU', 'dropout_l4': 0.298207077569802, 'batch_norm_l4': True, 'l2_reg_l4': 6.75648600330291e-05, 'leakyrelu_alpha_l4': 0.28424454971741875, 'n_units_l5': 1024, 'activation_l5': 'Tanh', 'dropout_l5': 0.40757857327894464, 'batch_norm_l5': False, 'l2_reg_l5': 0.00023371451044669833, 'n_units_l6': 512, 'activation_l6': 'LeakyReLU', 'dropout_l6': 0.011059149697091014, 'batch_norm_l6': True, 'l2_reg_l6': 0.0010250294823390311, 'leakyrelu_alpha_l6': 0.17983042122541745, 'n_units_l7': 16, 'activation_l7': 'ReLU', 'dropout_l7': 0.2290577300626093, 'batch_norm_l7': False, 'l2_reg_l7': 0.00393837504900676, 'optimizer': 'RMSprop', 'lr': 0.0005403031843609167, 'rmsprop_alpha': 0.9688117078958312, 'epochs': 1935, 'batch_size': 256, 'early_stopping_patience': 20, 'lr_reduce_factor': 0.5581768489577141, 'lr_reduce_patience': 27, 'min_lr': 1.7121396490810474e-05}. Best is trial 247 with value: 0.8903522205206739.\u001b[0m\n"
     ]
    },
    {
     "name": "stdout",
     "output_type": "stream",
     "text": [
      "Usando GPU para el Trial 384\n",
      "Entrenando Trial 384...\n"
     ]
    },
    {
     "name": "stderr",
     "output_type": "stream",
     "text": [
      "                                                                                                                                                                                                                                                        \r"
     ]
    },
    {
     "name": "stdout",
     "output_type": "stream",
     "text": [
      "Early stopping\n",
      "Trial 384 completado. Mejor precisión en validación: 0.8805513016845329\n"
     ]
    },
    {
     "name": "stderr",
     "output_type": "stream",
     "text": [
      "\u001b[32m[I 2023-11-29 18:49:10,262]\u001b[0m Trial 384 finished with value: 0.8805513016845329 and parameters: {'n_layers': 8, 'n_units_l0': 2048, 'activation_l0': 'SELU', 'dropout_l0': 0.03615274681953862, 'batch_norm_l0': False, 'l2_reg_l0': 0.000875135732188799, 'n_units_l1': 2048, 'activation_l1': 'Tanh', 'dropout_l1': 0.2789353689463899, 'batch_norm_l1': False, 'l2_reg_l1': 0.00011962007306980893, 'n_units_l2': 1024, 'activation_l2': 'ReLU', 'dropout_l2': 0.33247267318525725, 'batch_norm_l2': True, 'l2_reg_l2': 0.0016398803930026617, 'n_units_l3': 512, 'activation_l3': 'Tanh', 'dropout_l3': 0.15531989852309863, 'batch_norm_l3': True, 'l2_reg_l3': 0.06825883966082473, 'n_units_l4': 64, 'activation_l4': 'Tanh', 'dropout_l4': 0.30560496504000173, 'batch_norm_l4': True, 'l2_reg_l4': 5.116256702821053e-05, 'n_units_l5': 1024, 'activation_l5': 'Tanh', 'dropout_l5': 0.21508492004470978, 'batch_norm_l5': False, 'l2_reg_l5': 0.00019923762443791663, 'n_units_l6': 512, 'activation_l6': 'LeakyReLU', 'dropout_l6': 0.058191112396882884, 'batch_norm_l6': True, 'l2_reg_l6': 0.0008289196860489276, 'leakyrelu_alpha_l6': 0.14502378672429808, 'n_units_l7': 16, 'activation_l7': 'ReLU', 'dropout_l7': 0.24066417123168873, 'batch_norm_l7': False, 'l2_reg_l7': 0.007818146667532916, 'optimizer': 'RMSprop', 'lr': 0.0007405343785159566, 'rmsprop_alpha': 0.9764110493709994, 'epochs': 806, 'batch_size': 256, 'early_stopping_patience': 20, 'lr_reduce_factor': 0.6276540125288861, 'lr_reduce_patience': 28, 'min_lr': 2.319793014559656e-05}. Best is trial 247 with value: 0.8903522205206739.\u001b[0m\n"
     ]
    },
    {
     "name": "stdout",
     "output_type": "stream",
     "text": [
      "Usando GPU para el Trial 385\n",
      "Entrenando Trial 385...\n"
     ]
    },
    {
     "name": "stderr",
     "output_type": "stream",
     "text": [
      "                                                                                                                                                                                                                                                        \r"
     ]
    },
    {
     "name": "stdout",
     "output_type": "stream",
     "text": [
      "Epoch 00083: reducing learning rate of group 0 to 2.2210e-04.\n"
     ]
    },
    {
     "name": "stderr",
     "output_type": "stream",
     "text": [
      "                                                                                                                                                                                                                                                        \r"
     ]
    },
    {
     "name": "stdout",
     "output_type": "stream",
     "text": [
      "Epoch 00114: reducing learning rate of group 0 to 1.2777e-04.\n"
     ]
    },
    {
     "name": "stderr",
     "output_type": "stream",
     "text": [
      "\u001b[32m[I 2023-11-29 18:50:08,624]\u001b[0m Trial 385 finished with value: 0.8830015313935682 and parameters: {'n_layers': 7, 'n_units_l0': 1024, 'activation_l0': 'SELU', 'dropout_l0': 0.05850895268704534, 'batch_norm_l0': False, 'l2_reg_l0': 0.000695899963903373, 'n_units_l1': 2048, 'activation_l1': 'ELU', 'dropout_l1': 0.3399401750338097, 'batch_norm_l1': False, 'l2_reg_l1': 0.00011193069592603473, 'n_units_l2': 1024, 'activation_l2': 'ReLU', 'dropout_l2': 0.36881686296631466, 'batch_norm_l2': True, 'l2_reg_l2': 0.0024055459133301665, 'n_units_l3': 512, 'activation_l3': 'LeakyReLU', 'dropout_l3': 0.28566403814026875, 'batch_norm_l3': True, 'l2_reg_l3': 0.05291871958416855, 'leakyrelu_alpha_l3': 0.1550073897866694, 'n_units_l4': 256, 'activation_l4': 'ELU', 'dropout_l4': 0.2815921751477677, 'batch_norm_l4': True, 'l2_reg_l4': 9.175686415037815e-05, 'n_units_l5': 1024, 'activation_l5': 'Tanh', 'dropout_l5': 0.34670097135193, 'batch_norm_l5': False, 'l2_reg_l5': 0.0004457048096348176, 'n_units_l6': 512, 'activation_l6': 'LeakyReLU', 'dropout_l6': 0.027172042986698806, 'batch_norm_l6': True, 'l2_reg_l6': 0.00047789121363391767, 'leakyrelu_alpha_l6': 0.15913930594058096, 'optimizer': 'RMSprop', 'lr': 0.0003860827944556966, 'rmsprop_alpha': 0.9536141533336241, 'epochs': 1962, 'batch_size': 256, 'early_stopping_patience': 20, 'lr_reduce_factor': 0.5752724822863295, 'lr_reduce_patience': 30, 'min_lr': 1.1729993282174739e-05}. Best is trial 247 with value: 0.8903522205206739.\u001b[0m\n"
     ]
    },
    {
     "name": "stdout",
     "output_type": "stream",
     "text": [
      "Early stopping\n",
      "Trial 385 completado. Mejor precisión en validación: 0.8830015313935682\n",
      "Usando GPU para el Trial 386\n",
      "Entrenando Trial 386...\n"
     ]
    },
    {
     "name": "stderr",
     "output_type": "stream",
     "text": [
      "                                                                                                                                                                                                                                                        \r"
     ]
    },
    {
     "name": "stdout",
     "output_type": "stream",
     "text": [
      "Early stopping\n",
      "Trial 386 completado. Mejor precisión en validación: 0.8777947932618683\n"
     ]
    },
    {
     "name": "stderr",
     "output_type": "stream",
     "text": [
      "\u001b[32m[I 2023-11-29 18:50:39,032]\u001b[0m Trial 386 finished with value: 0.8777947932618683 and parameters: {'n_layers': 5, 'n_units_l0': 2048, 'activation_l0': 'SELU', 'dropout_l0': 0.008746264856515754, 'batch_norm_l0': False, 'l2_reg_l0': 0.0014072785771734077, 'n_units_l1': 2048, 'activation_l1': 'Tanh', 'dropout_l1': 0.3425065814438757, 'batch_norm_l1': False, 'l2_reg_l1': 9.23262492196469e-05, 'n_units_l2': 32, 'activation_l2': 'ReLU', 'dropout_l2': 0.3834637038476429, 'batch_norm_l2': True, 'l2_reg_l2': 0.009873692763019344, 'n_units_l3': 512, 'activation_l3': 'LeakyReLU', 'dropout_l3': 0.01848955562984158, 'batch_norm_l3': True, 'l2_reg_l3': 0.08085154313292624, 'leakyrelu_alpha_l3': 0.09432894744374082, 'n_units_l4': 512, 'activation_l4': 'LeakyReLU', 'dropout_l4': 0.2979065344289857, 'batch_norm_l4': True, 'l2_reg_l4': 7.07129895634524e-05, 'leakyrelu_alpha_l4': 0.2908874078250738, 'optimizer': 'RMSprop', 'lr': 0.0006810520386286658, 'rmsprop_alpha': 0.9715389771053946, 'epochs': 1909, 'batch_size': 256, 'early_stopping_patience': 19, 'lr_reduce_factor': 0.5914740784631959, 'lr_reduce_patience': 29, 'min_lr': 2.0886873892006115e-05}. Best is trial 247 with value: 0.8903522205206739.\u001b[0m\n"
     ]
    },
    {
     "name": "stdout",
     "output_type": "stream",
     "text": [
      "Usando GPU para el Trial 387\n",
      "Entrenando Trial 387...\n"
     ]
    },
    {
     "name": "stderr",
     "output_type": "stream",
     "text": [
      "                                                                                                                                                                                                                                                        \r"
     ]
    },
    {
     "name": "stdout",
     "output_type": "stream",
     "text": [
      "Early stopping\n",
      "Trial 387 completado. Mejor precisión en validación: 0.872281776416539\n"
     ]
    },
    {
     "name": "stderr",
     "output_type": "stream",
     "text": [
      "\u001b[32m[I 2023-11-29 18:51:23,609]\u001b[0m Trial 387 finished with value: 0.872281776416539 and parameters: {'n_layers': 3, 'n_units_l0': 1024, 'activation_l0': 'ReLU', 'dropout_l0': 0.2525032160406529, 'batch_norm_l0': False, 'l2_reg_l0': 0.000614426400762035, 'n_units_l1': 256, 'activation_l1': 'Tanh', 'dropout_l1': 0.2626996014775053, 'batch_norm_l1': False, 'l2_reg_l1': 6.994171477389688e-05, 'n_units_l2': 1024, 'activation_l2': 'ReLU', 'dropout_l2': 0.459926812106258, 'batch_norm_l2': True, 'l2_reg_l2': 2.1116440816486946e-05, 'optimizer': 'RMSprop', 'lr': 0.0005635267001009609, 'rmsprop_alpha': 0.9647607051440896, 'epochs': 1974, 'batch_size': 128, 'early_stopping_patience': 18, 'lr_reduce_factor': 0.5536570529184818, 'lr_reduce_patience': 38, 'min_lr': 1.3931628434521943e-05}. Best is trial 247 with value: 0.8903522205206739.\u001b[0m\n"
     ]
    },
    {
     "name": "stdout",
     "output_type": "stream",
     "text": [
      "Usando GPU para el Trial 388\n",
      "Entrenando Trial 388...\n"
     ]
    },
    {
     "name": "stderr",
     "output_type": "stream",
     "text": [
      "                                                                                                                                                                                                                                                        \r"
     ]
    },
    {
     "name": "stdout",
     "output_type": "stream",
     "text": [
      "Early stopping\n",
      "Trial 388 completado. Mejor precisión en validación: 0.8765696784073507\n"
     ]
    },
    {
     "name": "stderr",
     "output_type": "stream",
     "text": [
      "\u001b[32m[I 2023-11-29 18:53:17,015]\u001b[0m Trial 388 finished with value: 0.8765696784073507 and parameters: {'n_layers': 9, 'n_units_l0': 64, 'activation_l0': 'SELU', 'dropout_l0': 0.10429881472859087, 'batch_norm_l0': False, 'l2_reg_l0': 0.0007438702643889117, 'n_units_l1': 512, 'activation_l1': 'Tanh', 'dropout_l1': 0.27734452248786207, 'batch_norm_l1': False, 'l2_reg_l1': 5.2257101701088006e-05, 'n_units_l2': 1024, 'activation_l2': 'ReLU', 'dropout_l2': 0.4729286454444219, 'batch_norm_l2': True, 'l2_reg_l2': 0.0006520406912753144, 'n_units_l3': 512, 'activation_l3': 'SELU', 'dropout_l3': 0.32916754199579124, 'batch_norm_l3': True, 'l2_reg_l3': 0.06306941903723327, 'n_units_l4': 64, 'activation_l4': 'SELU', 'dropout_l4': 0.31427919726532283, 'batch_norm_l4': True, 'l2_reg_l4': 3.254541430404039e-05, 'n_units_l5': 128, 'activation_l5': 'Tanh', 'dropout_l5': 0.15365031030603477, 'batch_norm_l5': False, 'l2_reg_l5': 0.0002784266981919847, 'n_units_l6': 512, 'activation_l6': 'LeakyReLU', 'dropout_l6': 0.10951118886321012, 'batch_norm_l6': True, 'l2_reg_l6': 0.0006940003913316754, 'leakyrelu_alpha_l6': 0.1904405424707506, 'n_units_l7': 16, 'activation_l7': 'ReLU', 'dropout_l7': 0.32085421034517464, 'batch_norm_l7': False, 'l2_reg_l7': 0.00558653046892525, 'n_units_l8': 128, 'activation_l8': 'LeakyReLU', 'dropout_l8': 0.3995698477077999, 'batch_norm_l8': True, 'l2_reg_l8': 0.0018175836633987624, 'leakyrelu_alpha_l8': 0.23618721476123047, 'optimizer': 'RMSprop', 'lr': 0.0008585024129542908, 'rmsprop_alpha': 0.9057402979656773, 'epochs': 1901, 'batch_size': 256, 'early_stopping_patience': 19, 'lr_reduce_factor': 0.5716275213246982, 'lr_reduce_patience': 31, 'min_lr': 1.5760808981102584e-05}. Best is trial 247 with value: 0.8903522205206739.\u001b[0m\n"
     ]
    },
    {
     "name": "stdout",
     "output_type": "stream",
     "text": [
      "Usando GPU para el Trial 389\n",
      "Entrenando Trial 389...\n"
     ]
    },
    {
     "name": "stderr",
     "output_type": "stream",
     "text": [
      "                                                                                                                                                                                                                                                        \r"
     ]
    },
    {
     "name": "stdout",
     "output_type": "stream",
     "text": [
      "Early stopping\n",
      "Trial 389 completado. Mejor precisión en validación: 0.8140888208269526\n"
     ]
    },
    {
     "name": "stderr",
     "output_type": "stream",
     "text": [
      "\u001b[32m[I 2023-11-29 18:55:12,228]\u001b[0m Trial 389 finished with value: 0.8140888208269526 and parameters: {'n_layers': 7, 'n_units_l0': 1024, 'activation_l0': 'SELU', 'dropout_l0': 0.0026306971781979065, 'batch_norm_l0': False, 'l2_reg_l0': 0.0009347917288290885, 'n_units_l1': 512, 'activation_l1': 'Tanh', 'dropout_l1': 0.37815040126196453, 'batch_norm_l1': False, 'l2_reg_l1': 0.00015334529674539, 'n_units_l2': 16, 'activation_l2': 'LeakyReLU', 'dropout_l2': 0.4901386258814793, 'batch_norm_l2': True, 'l2_reg_l2': 0.0026900868764275854, 'leakyrelu_alpha_l2': 0.23762172619504474, 'n_units_l3': 512, 'activation_l3': 'LeakyReLU', 'dropout_l3': 0.23833301468781856, 'batch_norm_l3': True, 'l2_reg_l3': 0.003098732013653253, 'leakyrelu_alpha_l3': 0.1654089078048145, 'n_units_l4': 64, 'activation_l4': 'ReLU', 'dropout_l4': 0.2862553375846927, 'batch_norm_l4': False, 'l2_reg_l4': 4.6873125560196575e-05, 'n_units_l5': 1024, 'activation_l5': 'Tanh', 'dropout_l5': 0.2430188862595244, 'batch_norm_l5': False, 'l2_reg_l5': 0.0009301416533598663, 'n_units_l6': 512, 'activation_l6': 'LeakyReLU', 'dropout_l6': 0.09407910211496023, 'batch_norm_l6': True, 'l2_reg_l6': 0.00030795723825487035, 'leakyrelu_alpha_l6': 0.16717748440358615, 'optimizer': 'SGD', 'lr': 0.0003318977724837678, 'sgd_momentum': 0.6070666667550926, 'epochs': 1930, 'batch_size': 128, 'early_stopping_patience': 20, 'lr_reduce_factor': 0.6104295008640335, 'lr_reduce_patience': 30, 'min_lr': 4.95748700597437e-05}. Best is trial 247 with value: 0.8903522205206739.\u001b[0m\n"
     ]
    },
    {
     "name": "stdout",
     "output_type": "stream",
     "text": [
      "Usando GPU para el Trial 390\n",
      "Entrenando Trial 390...\n"
     ]
    },
    {
     "name": "stderr",
     "output_type": "stream",
     "text": [
      "                                                                                                                                                                                                                                                        \r"
     ]
    },
    {
     "name": "stdout",
     "output_type": "stream",
     "text": [
      "Early stopping\n",
      "Trial 390 completado. Mejor precisión en validación: 0.8771822358346095\n"
     ]
    },
    {
     "name": "stderr",
     "output_type": "stream",
     "text": [
      "\u001b[32m[I 2023-11-29 18:55:45,239]\u001b[0m Trial 390 finished with value: 0.8771822358346095 and parameters: {'n_layers': 6, 'n_units_l0': 2048, 'activation_l0': 'SELU', 'dropout_l0': 0.09395924834595581, 'batch_norm_l0': True, 'l2_reg_l0': 0.000566034299390465, 'n_units_l1': 512, 'activation_l1': 'Tanh', 'dropout_l1': 0.03620804774151723, 'batch_norm_l1': False, 'l2_reg_l1': 0.011494029037122372, 'n_units_l2': 1024, 'activation_l2': 'ReLU', 'dropout_l2': 0.4098005526969778, 'batch_norm_l2': True, 'l2_reg_l2': 7.01916857522441e-05, 'n_units_l3': 512, 'activation_l3': 'Tanh', 'dropout_l3': 0.04655659173557815, 'batch_norm_l3': True, 'l2_reg_l3': 0.09815697605125911, 'n_units_l4': 64, 'activation_l4': 'LeakyReLU', 'dropout_l4': 0.35381768385279594, 'batch_norm_l4': True, 'l2_reg_l4': 6.122705081860669e-05, 'leakyrelu_alpha_l4': 0.2690266536019153, 'n_units_l5': 128, 'activation_l5': 'Tanh', 'dropout_l5': 0.18607901201661886, 'batch_norm_l5': False, 'l2_reg_l5': 0.0003840047260306346, 'optimizer': 'RMSprop', 'lr': 0.0007550433002518702, 'rmsprop_alpha': 0.9790010877753241, 'epochs': 1889, 'batch_size': 256, 'early_stopping_patience': 20, 'lr_reduce_factor': 0.5450481668744064, 'lr_reduce_patience': 36, 'min_lr': 3.848666330687728e-05}. Best is trial 247 with value: 0.8903522205206739.\u001b[0m\n"
     ]
    },
    {
     "name": "stdout",
     "output_type": "stream",
     "text": [
      "Usando GPU para el Trial 391\n",
      "Entrenando Trial 391...\n"
     ]
    },
    {
     "name": "stderr",
     "output_type": "stream",
     "text": [
      "\u001b[32m[I 2023-11-29 18:56:30,600]\u001b[0m Trial 391 finished with value: 0.8713629402756509 and parameters: {'n_layers': 2, 'n_units_l0': 1024, 'activation_l0': 'SELU', 'dropout_l0': 0.002555201640992334, 'batch_norm_l0': False, 'l2_reg_l0': 4.540894088483393e-05, 'n_units_l1': 512, 'activation_l1': 'Tanh', 'dropout_l1': 0.35734132112188227, 'batch_norm_l1': False, 'l2_reg_l1': 0.0037236383912060667, 'optimizer': 'RMSprop', 'lr': 0.0008726539567760425, 'rmsprop_alpha': 0.9754682455874922, 'epochs': 1999, 'batch_size': 128, 'early_stopping_patience': 19, 'lr_reduce_factor': 0.5647638681697205, 'lr_reduce_patience': 31, 'min_lr': 9.33048905359834e-06}. Best is trial 247 with value: 0.8903522205206739.\u001b[0m\n"
     ]
    },
    {
     "name": "stdout",
     "output_type": "stream",
     "text": [
      "Early stopping\n",
      "Trial 391 completado. Mejor precisión en validación: 0.8713629402756509\n",
      "Usando GPU para el Trial 392\n",
      "Entrenando Trial 392...\n"
     ]
    },
    {
     "name": "stderr",
     "output_type": "stream",
     "text": [
      "                                                                                                                                                                                                                                                        \r"
     ]
    },
    {
     "name": "stdout",
     "output_type": "stream",
     "text": [
      "Epoch 00046: reducing learning rate of group 0 to 6.3280e-05.\n"
     ]
    },
    {
     "name": "stderr",
     "output_type": "stream",
     "text": [
      "                                                                                                                                                                                                                                                        \r"
     ]
    },
    {
     "name": "stdout",
     "output_type": "stream",
     "text": [
      "Epoch 00061: reducing learning rate of group 0 to 2.4382e-05.\n"
     ]
    },
    {
     "name": "stderr",
     "output_type": "stream",
     "text": [
      "                                                                                                                                                                                                                                                        \r"
     ]
    },
    {
     "name": "stdout",
     "output_type": "stream",
     "text": [
      "Early stopping\n",
      "Trial 392 completado. Mejor precisión en validación: 0.8848392036753445\n"
     ]
    },
    {
     "name": "stderr",
     "output_type": "stream",
     "text": [
      "\u001b[32m[I 2023-11-29 18:57:29,067]\u001b[0m Trial 392 finished with value: 0.8848392036753445 and parameters: {'n_layers': 4, 'n_units_l0': 2048, 'activation_l0': 'LeakyReLU', 'dropout_l0': 0.045534286092676776, 'batch_norm_l0': False, 'l2_reg_l0': 0.0006564310637358875, 'leakyrelu_alpha_l0': 0.23931692002390614, 'n_units_l1': 512, 'activation_l1': 'Tanh', 'dropout_l1': 0.35145430784208626, 'batch_norm_l1': False, 'l2_reg_l1': 0.0020734517220614215, 'n_units_l2': 2048, 'activation_l2': 'ReLU', 'dropout_l2': 0.46414370385768533, 'batch_norm_l2': True, 'l2_reg_l2': 0.0011498752927664034, 'n_units_l3': 512, 'activation_l3': 'LeakyReLU', 'dropout_l3': 0.09216045154493384, 'batch_norm_l3': True, 'l2_reg_l3': 0.0013802470658962052, 'leakyrelu_alpha_l3': 0.0911431607142677, 'optimizer': 'RMSprop', 'lr': 0.00046005444817472503, 'rmsprop_alpha': 0.9666647239367637, 'epochs': 1946, 'batch_size': 128, 'early_stopping_patience': 20, 'lr_reduce_factor': 0.1375494316586885, 'lr_reduce_patience': 14, 'min_lr': 2.438159314386572e-05}. Best is trial 247 with value: 0.8903522205206739.\u001b[0m\n"
     ]
    },
    {
     "name": "stdout",
     "output_type": "stream",
     "text": [
      "Usando GPU para el Trial 393\n",
      "Entrenando Trial 393...\n"
     ]
    },
    {
     "name": "stderr",
     "output_type": "stream",
     "text": [
      "                                                                                                                                                                                                                                                        \r"
     ]
    },
    {
     "name": "stdout",
     "output_type": "stream",
     "text": [
      "Epoch 00033: reducing learning rate of group 0 to 3.2039e-04.\n"
     ]
    },
    {
     "name": "stderr",
     "output_type": "stream",
     "text": [
      "                                                                                                                                                                                                                                                        \r"
     ]
    },
    {
     "name": "stdout",
     "output_type": "stream",
     "text": [
      "Epoch 00046: reducing learning rate of group 0 to 2.0582e-04.\n"
     ]
    },
    {
     "name": "stderr",
     "output_type": "stream",
     "text": [
      "                                                                                                                                                                                                                                                        \r"
     ]
    },
    {
     "name": "stdout",
     "output_type": "stream",
     "text": [
      "Epoch 00059: reducing learning rate of group 0 to 1.3222e-04.\n"
     ]
    },
    {
     "name": "stderr",
     "output_type": "stream",
     "text": [
      "                                                                                                                                                                                                                                                        \r"
     ]
    },
    {
     "name": "stdout",
     "output_type": "stream",
     "text": [
      "Epoch 00072: reducing learning rate of group 0 to 8.4935e-05.\n"
     ]
    },
    {
     "name": "stderr",
     "output_type": "stream",
     "text": [
      "                                                                                                                                                                                                                                                        \r"
     ]
    },
    {
     "name": "stdout",
     "output_type": "stream",
     "text": [
      "Epoch 00085: reducing learning rate of group 0 to 5.4562e-05.\n"
     ]
    },
    {
     "name": "stderr",
     "output_type": "stream",
     "text": [
      "                                                                                                                                                                                                                                                        \r"
     ]
    },
    {
     "name": "stdout",
     "output_type": "stream",
     "text": [
      "Epoch 00098: reducing learning rate of group 0 to 3.5051e-05.\n"
     ]
    },
    {
     "name": "stderr",
     "output_type": "stream",
     "text": [
      "                                                                                                                                                                                                                                                        \r"
     ]
    },
    {
     "name": "stdout",
     "output_type": "stream",
     "text": [
      "Epoch 00111: reducing learning rate of group 0 to 2.7417e-05.\n"
     ]
    },
    {
     "name": "stderr",
     "output_type": "stream",
     "text": [
      "                                                                                                                                                                                                                                                        \r"
     ]
    },
    {
     "name": "stdout",
     "output_type": "stream",
     "text": [
      "Early stopping\n",
      "Trial 393 completado. Mejor precisión en validación: 0.8768759571209801\n"
     ]
    },
    {
     "name": "stderr",
     "output_type": "stream",
     "text": [
      "\u001b[32m[I 2023-11-29 18:59:15,816]\u001b[0m Trial 393 finished with value: 0.8768759571209801 and parameters: {'n_layers': 5, 'n_units_l0': 2048, 'activation_l0': 'LeakyReLU', 'dropout_l0': 0.016931163119842774, 'batch_norm_l0': False, 'l2_reg_l0': 0.0006296066372158325, 'leakyrelu_alpha_l0': 0.2515581499597381, 'n_units_l1': 2048, 'activation_l1': 'Tanh', 'dropout_l1': 0.35433793939078306, 'batch_norm_l1': True, 'l2_reg_l1': 0.005325796495309333, 'n_units_l2': 2048, 'activation_l2': 'ReLU', 'dropout_l2': 0.4746346862116367, 'batch_norm_l2': False, 'l2_reg_l2': 0.001369468617275313, 'n_units_l3': 512, 'activation_l3': 'LeakyReLU', 'dropout_l3': 0.09629097571890416, 'batch_norm_l3': True, 'l2_reg_l3': 0.001303997971771258, 'leakyrelu_alpha_l3': 0.09124611802862317, 'n_units_l4': 64, 'activation_l4': 'LeakyReLU', 'dropout_l4': 0.3676070668158127, 'batch_norm_l4': True, 'l2_reg_l4': 9.729231329263342e-05, 'leakyrelu_alpha_l4': 0.2829162579893149, 'optimizer': 'RMSprop', 'lr': 0.000498737905157566, 'rmsprop_alpha': 0.9627247614343896, 'epochs': 1944, 'batch_size': 128, 'early_stopping_patience': 20, 'lr_reduce_factor': 0.6423976929041788, 'lr_reduce_patience': 12, 'min_lr': 2.7416994792440673e-05}. Best is trial 247 with value: 0.8903522205206739.\u001b[0m\n"
     ]
    },
    {
     "name": "stdout",
     "output_type": "stream",
     "text": [
      "Usando GPU para el Trial 394\n",
      "Entrenando Trial 394...\n"
     ]
    },
    {
     "name": "stderr",
     "output_type": "stream",
     "text": [
      "                                                                                                                                                                                                                                                        \r"
     ]
    },
    {
     "name": "stdout",
     "output_type": "stream",
     "text": [
      "Early stopping\n",
      "Trial 394 completado. Mejor precisión en validación: 0.8633996937212863\n"
     ]
    },
    {
     "name": "stderr",
     "output_type": "stream",
     "text": [
      "\u001b[32m[I 2023-11-29 19:00:16,769]\u001b[0m Trial 394 finished with value: 0.8633996937212863 and parameters: {'n_layers': 8, 'n_units_l0': 2048, 'activation_l0': 'LeakyReLU', 'dropout_l0': 0.05469612313391408, 'batch_norm_l0': False, 'l2_reg_l0': 0.0011025159992983356, 'leakyrelu_alpha_l0': 0.2570454828787773, 'n_units_l1': 512, 'activation_l1': 'SELU', 'dropout_l1': 0.3619030435914066, 'batch_norm_l1': False, 'l2_reg_l1': 0.0025669308772481485, 'n_units_l2': 2048, 'activation_l2': 'ReLU', 'dropout_l2': 0.46404107755932444, 'batch_norm_l2': True, 'l2_reg_l2': 0.0011432538003503753, 'n_units_l3': 512, 'activation_l3': 'LeakyReLU', 'dropout_l3': 0.2974171411845986, 'batch_norm_l3': True, 'l2_reg_l3': 0.0018023172661763068, 'leakyrelu_alpha_l3': 0.10047100352534168, 'n_units_l4': 64, 'activation_l4': 'SELU', 'dropout_l4': 0.3310649787443786, 'batch_norm_l4': True, 'l2_reg_l4': 0.0013015653270913622, 'n_units_l5': 64, 'activation_l5': 'Tanh', 'dropout_l5': 0.27143307262361926, 'batch_norm_l5': False, 'l2_reg_l5': 0.0004912417131182546, 'n_units_l6': 512, 'activation_l6': 'LeakyReLU', 'dropout_l6': 0.07137491485817665, 'batch_norm_l6': True, 'l2_reg_l6': 0.00022677803034961712, 'leakyrelu_alpha_l6': 0.12246131359799683, 'n_units_l7': 16, 'activation_l7': 'ReLU', 'dropout_l7': 0.3552724905952761, 'batch_norm_l7': False, 'l2_reg_l7': 0.002952087620385062, 'optimizer': 'RMSprop', 'lr': 0.0002858733147744926, 'rmsprop_alpha': 0.9660901787736793, 'epochs': 1964, 'batch_size': 128, 'early_stopping_patience': 20, 'lr_reduce_factor': 0.16968120622258265, 'lr_reduce_patience': 14, 'min_lr': 3.0344142668206614e-05}. Best is trial 247 with value: 0.8903522205206739.\u001b[0m\n"
     ]
    },
    {
     "name": "stdout",
     "output_type": "stream",
     "text": [
      "Usando GPU para el Trial 395\n",
      "Entrenando Trial 395...\n"
     ]
    },
    {
     "name": "stderr",
     "output_type": "stream",
     "text": [
      "                                                                                                                                                                                                                                                        \r"
     ]
    },
    {
     "name": "stdout",
     "output_type": "stream",
     "text": [
      "Epoch 00107: reducing learning rate of group 0 to 1.3051e-04.\n"
     ]
    },
    {
     "name": "stderr",
     "output_type": "stream",
     "text": [
      "                                                                                                                                                                                                                                                        \r"
     ]
    },
    {
     "name": "stdout",
     "output_type": "stream",
     "text": [
      "Epoch 00121: reducing learning rate of group 0 to 3.9236e-05.\n"
     ]
    },
    {
     "name": "stderr",
     "output_type": "stream",
     "text": [
      "\u001b[32m[I 2023-11-29 19:01:53,289]\u001b[0m Trial 395 finished with value: 0.8728943338437979 and parameters: {'n_layers': 4, 'n_units_l0': 2048, 'activation_l0': 'LeakyReLU', 'dropout_l0': 0.05344292808063228, 'batch_norm_l0': False, 'l2_reg_l0': 0.0007935013415831418, 'leakyrelu_alpha_l0': 0.2688243043004418, 'n_units_l1': 32, 'activation_l1': 'Tanh', 'dropout_l1': 0.34080586638842914, 'batch_norm_l1': False, 'l2_reg_l1': 0.0022766182085681174, 'n_units_l2': 2048, 'activation_l2': 'ReLU', 'dropout_l2': 0.4850675108303825, 'batch_norm_l2': True, 'l2_reg_l2': 0.0013220499583064544, 'n_units_l3': 512, 'activation_l3': 'LeakyReLU', 'dropout_l3': 0.08513470142031024, 'batch_norm_l3': True, 'l2_reg_l3': 0.0015185991941836943, 'leakyrelu_alpha_l3': 0.086392773374152, 'optimizer': 'RMSprop', 'lr': 0.000434131244345099, 'rmsprop_alpha': 0.9583979160507868, 'epochs': 1973, 'batch_size': 128, 'early_stopping_patience': 19, 'lr_reduce_factor': 0.30063089468069326, 'lr_reduce_patience': 13, 'min_lr': 3.3938900312077785e-05}. Best is trial 247 with value: 0.8903522205206739.\u001b[0m\n"
     ]
    },
    {
     "name": "stdout",
     "output_type": "stream",
     "text": [
      "Early stopping\n",
      "Trial 395 completado. Mejor precisión en validación: 0.8728943338437979\n",
      "Usando GPU para el Trial 396\n",
      "Entrenando Trial 396...\n"
     ]
    },
    {
     "name": "stderr",
     "output_type": "stream",
     "text": [
      "                                                                                                                                                                                                                                                        \r"
     ]
    },
    {
     "name": "stdout",
     "output_type": "stream",
     "text": [
      "Epoch 00066: reducing learning rate of group 0 to 7.0978e-05.\n"
     ]
    },
    {
     "name": "stderr",
     "output_type": "stream",
     "text": [
      "\u001b[32m[I 2023-11-29 19:03:20,990]\u001b[0m Trial 396 finished with value: 0.8879019908116386 and parameters: {'n_layers': 6, 'n_units_l0': 2048, 'activation_l0': 'LeakyReLU', 'dropout_l0': 0.09964867567288443, 'batch_norm_l0': False, 'l2_reg_l0': 0.0005175590055802913, 'leakyrelu_alpha_l0': 0.24422590773245711, 'n_units_l1': 512, 'activation_l1': 'Tanh', 'dropout_l1': 0.3517149341608428, 'batch_norm_l1': False, 'l2_reg_l1': 0.0030468076713575857, 'n_units_l2': 2048, 'activation_l2': 'ReLU', 'dropout_l2': 0.3432489679318839, 'batch_norm_l2': True, 'l2_reg_l2': 0.000782232720961848, 'n_units_l3': 512, 'activation_l3': 'LeakyReLU', 'dropout_l3': 0.1063509384207861, 'batch_norm_l3': True, 'l2_reg_l3': 0.000917628637802379, 'leakyrelu_alpha_l3': 0.11102564194480002, 'n_units_l4': 64, 'activation_l4': 'LeakyReLU', 'dropout_l4': 0.2727156047010627, 'batch_norm_l4': True, 'l2_reg_l4': 0.0006134791587610575, 'leakyrelu_alpha_l4': 0.29449161012112773, 'n_units_l5': 256, 'activation_l5': 'Tanh', 'dropout_l5': 0.20395876896166315, 'batch_norm_l5': False, 'l2_reg_l5': 0.0006200186987847939, 'optimizer': 'RMSprop', 'lr': 0.0006064941261808302, 'rmsprop_alpha': 0.9693042628229669, 'epochs': 1867, 'batch_size': 128, 'early_stopping_patience': 20, 'lr_reduce_factor': 0.11702948799291835, 'lr_reduce_patience': 41, 'min_lr': 1.070415643686213e-06}. Best is trial 247 with value: 0.8903522205206739.\u001b[0m\n"
     ]
    },
    {
     "name": "stdout",
     "output_type": "stream",
     "text": [
      "Early stopping\n",
      "Trial 396 completado. Mejor precisión en validación: 0.8879019908116386\n",
      "Usando GPU para el Trial 397\n",
      "Entrenando Trial 397...\n"
     ]
    },
    {
     "name": "stderr",
     "output_type": "stream",
     "text": [
      "                                                                                                                                                                                                                                                        \r"
     ]
    },
    {
     "name": "stdout",
     "output_type": "stream",
     "text": [
      "Epoch 00066: reducing learning rate of group 0 to 4.9117e-05.\n"
     ]
    },
    {
     "name": "stderr",
     "output_type": "stream",
     "text": [
      "                                                                                                                                                                                                                                                        \r"
     ]
    },
    {
     "name": "stdout",
     "output_type": "stream",
     "text": [
      "Epoch 00109: reducing learning rate of group 0 to 5.5160e-06.\n"
     ]
    },
    {
     "name": "stderr",
     "output_type": "stream",
     "text": [
      "\u001b[32m[I 2023-11-29 19:05:07,994]\u001b[0m Trial 397 finished with value: 0.8879019908116386 and parameters: {'n_layers': 5, 'n_units_l0': 2048, 'activation_l0': 'LeakyReLU', 'dropout_l0': 0.07580253506846407, 'batch_norm_l0': False, 'l2_reg_l0': 0.0005122666838923303, 'leakyrelu_alpha_l0': 0.23616735360822033, 'n_units_l1': 512, 'activation_l1': 'Tanh', 'dropout_l1': 0.37342474789837793, 'batch_norm_l1': False, 'l2_reg_l1': 0.003127986390000711, 'n_units_l2': 2048, 'activation_l2': 'ReLU', 'dropout_l2': 0.3544473820902986, 'batch_norm_l2': True, 'l2_reg_l2': 0.00026416153585954153, 'n_units_l3': 512, 'activation_l3': 'LeakyReLU', 'dropout_l3': 0.26183323165112354, 'batch_norm_l3': True, 'l2_reg_l3': 0.0013129185271612016, 'leakyrelu_alpha_l3': 0.10701129609135056, 'n_units_l4': 64, 'activation_l4': 'LeakyReLU', 'dropout_l4': 0.340793557155028, 'batch_norm_l4': True, 'l2_reg_l4': 0.0005014201233843444, 'leakyrelu_alpha_l4': 0.294088541743118, 'optimizer': 'RMSprop', 'lr': 0.00043735703843471616, 'rmsprop_alpha': 0.9678951222215781, 'epochs': 1859, 'batch_size': 128, 'early_stopping_patience': 20, 'lr_reduce_factor': 0.11230389134572023, 'lr_reduce_patience': 42, 'min_lr': 4.4684445589620265e-06}. Best is trial 247 with value: 0.8903522205206739.\u001b[0m\n"
     ]
    },
    {
     "name": "stdout",
     "output_type": "stream",
     "text": [
      "Early stopping\n",
      "Trial 397 completado. Mejor precisión en validación: 0.8879019908116386\n",
      "Usando GPU para el Trial 398\n",
      "Entrenando Trial 398...\n"
     ]
    },
    {
     "name": "stderr",
     "output_type": "stream",
     "text": [
      "                                                                                                                                                                                                                                                        \r"
     ]
    },
    {
     "name": "stdout",
     "output_type": "stream",
     "text": [
      "Epoch 00103: reducing learning rate of group 0 to 3.6922e-05.\n"
     ]
    },
    {
     "name": "stderr",
     "output_type": "stream",
     "text": [
      "\u001b[32m[I 2023-11-29 19:06:53,001]\u001b[0m Trial 398 finished with value: 0.8860643185298622 and parameters: {'n_layers': 6, 'n_units_l0': 2048, 'activation_l0': 'LeakyReLU', 'dropout_l0': 0.047705140234148055, 'batch_norm_l0': False, 'l2_reg_l0': 0.0005102039645717864, 'leakyrelu_alpha_l0': 0.23773689860849775, 'n_units_l1': 512, 'activation_l1': 'Tanh', 'dropout_l1': 0.3701967129570056, 'batch_norm_l1': False, 'l2_reg_l1': 0.003179643053620723, 'n_units_l2': 2048, 'activation_l2': 'SELU', 'dropout_l2': 0.343395180789116, 'batch_norm_l2': True, 'l2_reg_l2': 0.0005220928589444172, 'n_units_l3': 512, 'activation_l3': 'LeakyReLU', 'dropout_l3': 0.2654535630439298, 'batch_norm_l3': True, 'l2_reg_l3': 0.0010621708111619298, 'leakyrelu_alpha_l3': 0.1156994661665426, 'n_units_l4': 64, 'activation_l4': 'LeakyReLU', 'dropout_l4': 0.3430168326432138, 'batch_norm_l4': True, 'l2_reg_l4': 0.0006881694240408614, 'leakyrelu_alpha_l4': 0.29564063292504944, 'n_units_l5': 256, 'activation_l5': 'Tanh', 'dropout_l5': 0.3042352322033208, 'batch_norm_l5': False, 'l2_reg_l5': 0.0005819527577413766, 'optimizer': 'RMSprop', 'lr': 0.00034408293708386835, 'rmsprop_alpha': 0.9685248370248078, 'epochs': 1850, 'batch_size': 128, 'early_stopping_patience': 19, 'lr_reduce_factor': 0.10730666918998663, 'lr_reduce_patience': 43, 'min_lr': 4.441200396059705e-06}. Best is trial 247 with value: 0.8903522205206739.\u001b[0m\n"
     ]
    },
    {
     "name": "stdout",
     "output_type": "stream",
     "text": [
      "Early stopping\n",
      "Trial 398 completado. Mejor precisión en validación: 0.8860643185298622\n",
      "Usando GPU para el Trial 399\n",
      "Entrenando Trial 399...\n"
     ]
    },
    {
     "name": "stderr",
     "output_type": "stream",
     "text": [
      "                                                                                                                                                                                                                                                        \r"
     ]
    },
    {
     "name": "stdout",
     "output_type": "stream",
     "text": [
      "Epoch 00071: reducing learning rate of group 0 to 4.4625e-05.\n"
     ]
    },
    {
     "name": "stderr",
     "output_type": "stream",
     "text": [
      "                                                                                                                                                                                                                                                        \r"
     ]
    },
    {
     "name": "stdout",
     "output_type": "stream",
     "text": [
      "Early stopping\n",
      "Trial 399 completado. Mejor precisión en validación: 0.8805513016845329\n"
     ]
    },
    {
     "name": "stderr",
     "output_type": "stream",
     "text": [
      "\u001b[32m[I 2023-11-29 19:08:20,284]\u001b[0m Trial 399 finished with value: 0.8805513016845329 and parameters: {'n_layers': 6, 'n_units_l0': 2048, 'activation_l0': 'LeakyReLU', 'dropout_l0': 0.04507276870575343, 'batch_norm_l0': False, 'l2_reg_l0': 0.00046545640312513055, 'leakyrelu_alpha_l0': 0.2419355009119487, 'n_units_l1': 512, 'activation_l1': 'Tanh', 'dropout_l1': 0.37739036864532144, 'batch_norm_l1': False, 'l2_reg_l1': 0.0029108243465237626, 'n_units_l2': 2048, 'activation_l2': 'SELU', 'dropout_l2': 0.32326541124887004, 'batch_norm_l2': True, 'l2_reg_l2': 0.0004882252531182526, 'n_units_l3': 512, 'activation_l3': 'LeakyReLU', 'dropout_l3': 0.273119020449482, 'batch_norm_l3': True, 'l2_reg_l3': 0.0011039969749927331, 'leakyrelu_alpha_l3': 0.11339745348136601, 'n_units_l4': 64, 'activation_l4': 'LeakyReLU', 'dropout_l4': 0.34268922610134495, 'batch_norm_l4': True, 'l2_reg_l4': 0.0006439828397105276, 'leakyrelu_alpha_l4': 0.294794759814777, 'n_units_l5': 256, 'activation_l5': 'Tanh', 'dropout_l5': 0.22587145834013145, 'batch_norm_l5': False, 'l2_reg_l5': 0.0005750949259187701, 'optimizer': 'RMSprop', 'lr': 0.00035829136001276087, 'rmsprop_alpha': 0.9492954308083075, 'epochs': 1769, 'batch_size': 128, 'early_stopping_patience': 18, 'lr_reduce_factor': 0.12454946929641353, 'lr_reduce_patience': 42, 'min_lr': 3.65117092800024e-06}. Best is trial 247 with value: 0.8903522205206739.\u001b[0m\n"
     ]
    },
    {
     "name": "stdout",
     "output_type": "stream",
     "text": [
      "Usando GPU para el Trial 400\n",
      "Entrenando Trial 400...\n"
     ]
    },
    {
     "name": "stderr",
     "output_type": "stream",
     "text": [
      "                                                                                                                                                                                                                                                        \r"
     ]
    },
    {
     "name": "stdout",
     "output_type": "stream",
     "text": [
      "Epoch 00124: reducing learning rate of group 0 to 4.1904e-05.\n"
     ]
    },
    {
     "name": "stderr",
     "output_type": "stream",
     "text": [
      "                                                                                                                                                                                                                                                        \r"
     ]
    },
    {
     "name": "stdout",
     "output_type": "stream",
     "text": [
      "Epoch 00168: reducing learning rate of group 0 to 4.4616e-06.\n"
     ]
    },
    {
     "name": "stderr",
     "output_type": "stream",
     "text": [
      "                                                                                                                                                                                                                                                        \r"
     ]
    },
    {
     "name": "stdout",
     "output_type": "stream",
     "text": [
      "Early stopping\n",
      "Trial 400 completado. Mejor precisión en validación: 0.8793261868300153\n"
     ]
    },
    {
     "name": "stderr",
     "output_type": "stream",
     "text": [
      "\u001b[32m[I 2023-11-29 19:10:58,936]\u001b[0m Trial 400 finished with value: 0.8793261868300153 and parameters: {'n_layers': 6, 'n_units_l0': 2048, 'activation_l0': 'LeakyReLU', 'dropout_l0': 0.061707965233130865, 'batch_norm_l0': False, 'l2_reg_l0': 0.0005163596335175133, 'leakyrelu_alpha_l0': 0.23319149951587437, 'n_units_l1': 64, 'activation_l1': 'Tanh', 'dropout_l1': 0.3648938510814501, 'batch_norm_l1': False, 'l2_reg_l1': 0.003699813971839317, 'n_units_l2': 2048, 'activation_l2': 'SELU', 'dropout_l2': 0.327054284648538, 'batch_norm_l2': True, 'l2_reg_l2': 0.0007350083421603287, 'n_units_l3': 512, 'activation_l3': 'LeakyReLU', 'dropout_l3': 0.2649349406656555, 'batch_norm_l3': True, 'l2_reg_l3': 0.0010557665118049416, 'leakyrelu_alpha_l3': 0.10829153132925753, 'n_units_l4': 64, 'activation_l4': 'LeakyReLU', 'dropout_l4': 0.35034293347047424, 'batch_norm_l4': True, 'l2_reg_l4': 0.0007500628453608269, 'leakyrelu_alpha_l4': 0.29920707847961175, 'n_units_l5': 256, 'activation_l5': 'Tanh', 'dropout_l5': 0.3422820943066379, 'batch_norm_l5': False, 'l2_reg_l5': 0.0006406122615650031, 'optimizer': 'RMSprop', 'lr': 0.0003935749872323185, 'rmsprop_alpha': 0.9872854262505546, 'epochs': 1809, 'batch_size': 128, 'early_stopping_patience': 19, 'lr_reduce_factor': 0.10647102109743332, 'lr_reduce_patience': 43, 'min_lr': 1.8442055246218626e-06}. Best is trial 247 with value: 0.8903522205206739.\u001b[0m\n"
     ]
    },
    {
     "name": "stdout",
     "output_type": "stream",
     "text": [
      "Usando GPU para el Trial 401\n",
      "Entrenando Trial 401...\n"
     ]
    },
    {
     "name": "stderr",
     "output_type": "stream",
     "text": [
      "\u001b[32m[I 2023-11-29 19:11:57,234]\u001b[0m Trial 401 finished with value: 0.8753445635528331 and parameters: {'n_layers': 6, 'n_units_l0': 2048, 'activation_l0': 'LeakyReLU', 'dropout_l0': 0.048243357305253365, 'batch_norm_l0': False, 'l2_reg_l0': 0.0005935275462069639, 'leakyrelu_alpha_l0': 0.23910595029063622, 'n_units_l1': 512, 'activation_l1': 'Tanh', 'dropout_l1': 0.3794478273698745, 'batch_norm_l1': False, 'l2_reg_l1': 0.0019784474598966736, 'n_units_l2': 2048, 'activation_l2': 'SELU', 'dropout_l2': 0.3471387653807135, 'batch_norm_l2': True, 'l2_reg_l2': 0.00041458765066366293, 'n_units_l3': 512, 'activation_l3': 'LeakyReLU', 'dropout_l3': 0.25929444611463487, 'batch_norm_l3': True, 'l2_reg_l3': 0.0012828824259281681, 'leakyrelu_alpha_l3': 0.11954740960134866, 'n_units_l4': 64, 'activation_l4': 'LeakyReLU', 'dropout_l4': 0.33296276335084984, 'batch_norm_l4': True, 'l2_reg_l4': 0.0009117322111156176, 'leakyrelu_alpha_l4': 0.2942750734756553, 'n_units_l5': 256, 'activation_l5': 'Tanh', 'dropout_l5': 0.2904011085273212, 'batch_norm_l5': False, 'l2_reg_l5': 0.0008923851325510348, 'optimizer': 'RMSprop', 'lr': 0.00031696159166747634, 'rmsprop_alpha': 0.9430929297961682, 'epochs': 1736, 'batch_size': 128, 'early_stopping_patience': 13, 'lr_reduce_factor': 0.10283808676558244, 'lr_reduce_patience': 42, 'min_lr': 1.1342057777246134e-06}. Best is trial 247 with value: 0.8903522205206739.\u001b[0m\n"
     ]
    },
    {
     "name": "stdout",
     "output_type": "stream",
     "text": [
      "Early stopping\n",
      "Trial 401 completado. Mejor precisión en validación: 0.8753445635528331\n",
      "Usando GPU para el Trial 402\n",
      "Entrenando Trial 402...\n"
     ]
    },
    {
     "name": "stderr",
     "output_type": "stream",
     "text": [
      "\u001b[32m[I 2023-11-29 19:13:33,213]\u001b[0m Trial 402 finished with value: 0.8508422664624808 and parameters: {'n_layers': 7, 'n_units_l0': 2048, 'activation_l0': 'LeakyReLU', 'dropout_l0': 0.06425475553223367, 'batch_norm_l0': False, 'l2_reg_l0': 0.0005172577837015185, 'leakyrelu_alpha_l0': 0.2292435094989832, 'n_units_l1': 16, 'activation_l1': 'Tanh', 'dropout_l1': 0.3521661471944169, 'batch_norm_l1': False, 'l2_reg_l1': 0.0032921883430113825, 'n_units_l2': 2048, 'activation_l2': 'ReLU', 'dropout_l2': 0.3462125209735323, 'batch_norm_l2': True, 'l2_reg_l2': 0.0007502536061511756, 'n_units_l3': 512, 'activation_l3': 'LeakyReLU', 'dropout_l3': 0.2648826489148102, 'batch_norm_l3': True, 'l2_reg_l3': 0.0008399463952913694, 'leakyrelu_alpha_l3': 0.11067943223218885, 'n_units_l4': 64, 'activation_l4': 'LeakyReLU', 'dropout_l4': 0.3582321612905507, 'batch_norm_l4': True, 'l2_reg_l4': 0.00045354476780031194, 'leakyrelu_alpha_l4': 0.2846902183624499, 'n_units_l5': 256, 'activation_l5': 'Tanh', 'dropout_l5': 0.43859664953027633, 'batch_norm_l5': False, 'l2_reg_l5': 0.0005493650869061604, 'n_units_l6': 128, 'activation_l6': 'ReLU', 'dropout_l6': 0.17404914377419783, 'batch_norm_l6': False, 'l2_reg_l6': 0.0029999960564516333, 'optimizer': 'RMSprop', 'lr': 0.000183145632041517, 'rmsprop_alpha': 0.9686226472993558, 'epochs': 1846, 'batch_size': 128, 'early_stopping_patience': 19, 'lr_reduce_factor': 0.14245036009454126, 'lr_reduce_patience': 41, 'min_lr': 6.675308022629427e-06}. Best is trial 247 with value: 0.8903522205206739.\u001b[0m\n"
     ]
    },
    {
     "name": "stdout",
     "output_type": "stream",
     "text": [
      "Early stopping\n",
      "Trial 402 completado. Mejor precisión en validación: 0.8508422664624808\n",
      "Usando GPU para el Trial 403\n",
      "Entrenando Trial 403...\n"
     ]
    },
    {
     "name": "stderr",
     "output_type": "stream",
     "text": [
      "\u001b[32m[I 2023-11-29 19:14:24,165]\u001b[0m Trial 403 finished with value: 0.8799387442572741 and parameters: {'n_layers': 5, 'n_units_l0': 2048, 'activation_l0': 'LeakyReLU', 'dropout_l0': 0.08949926475132008, 'batch_norm_l0': False, 'l2_reg_l0': 0.0004584197183807545, 'leakyrelu_alpha_l0': 0.24797432685263215, 'n_units_l1': 512, 'activation_l1': 'Tanh', 'dropout_l1': 0.3528118576235154, 'batch_norm_l1': False, 'l2_reg_l1': 0.002710872976101344, 'n_units_l2': 2048, 'activation_l2': 'ReLU', 'dropout_l2': 0.34036130898521466, 'batch_norm_l2': True, 'l2_reg_l2': 0.00048465427834979476, 'n_units_l3': 512, 'activation_l3': 'LeakyReLU', 'dropout_l3': 0.27579630663808186, 'batch_norm_l3': True, 'l2_reg_l3': 0.0009859387404726405, 'leakyrelu_alpha_l3': 0.10306808992710895, 'n_units_l4': 64, 'activation_l4': 'LeakyReLU', 'dropout_l4': 0.321899331058494, 'batch_norm_l4': True, 'l2_reg_l4': 0.0005618473208295576, 'leakyrelu_alpha_l4': 0.299777167054643, 'optimizer': 'RMSprop', 'lr': 0.00043457016963363506, 'rmsprop_alpha': 0.9834559979967039, 'epochs': 1657, 'batch_size': 128, 'early_stopping_patience': 19, 'lr_reduce_factor': 0.115097043278417, 'lr_reduce_patience': 43, 'min_lr': 2.719420434763479e-06}. Best is trial 247 with value: 0.8903522205206739.\u001b[0m\n"
     ]
    },
    {
     "name": "stdout",
     "output_type": "stream",
     "text": [
      "Early stopping\n",
      "Trial 403 completado. Mejor precisión en validación: 0.8799387442572741\n",
      "Usando GPU para el Trial 404\n",
      "Entrenando Trial 404...\n"
     ]
    },
    {
     "name": "stderr",
     "output_type": "stream",
     "text": [
      "                                                                                                                                                                                                                                                        \r"
     ]
    },
    {
     "name": "stdout",
     "output_type": "stream",
     "text": [
      "Epoch 00070: reducing learning rate of group 0 to 6.1430e-05.\n"
     ]
    },
    {
     "name": "stderr",
     "output_type": "stream",
     "text": [
      "                                                                                                                                                                                                                                                        \r"
     ]
    },
    {
     "name": "stdout",
     "output_type": "stream",
     "text": [
      "Epoch 00112: reducing learning rate of group 0 to 7.7270e-06.\n"
     ]
    },
    {
     "name": "stderr",
     "output_type": "stream",
     "text": [
      "\u001b[32m[I 2023-11-29 19:16:03,441]\u001b[0m Trial 404 finished with value: 0.8875957120980091 and parameters: {'n_layers': 6, 'n_units_l0': 2048, 'activation_l0': 'LeakyReLU', 'dropout_l0': 0.07570928536579202, 'batch_norm_l0': False, 'l2_reg_l0': 0.0006067803245975295, 'leakyrelu_alpha_l0': 0.2279343756080248, 'n_units_l1': 512, 'activation_l1': 'Tanh', 'dropout_l1': 0.36566191840749007, 'batch_norm_l1': False, 'l2_reg_l1': 0.0032901869637537414, 'n_units_l2': 2048, 'activation_l2': 'ReLU', 'dropout_l2': 0.3388597378101584, 'batch_norm_l2': True, 'l2_reg_l2': 0.00029648007684941535, 'n_units_l3': 512, 'activation_l3': 'LeakyReLU', 'dropout_l3': 0.1030177301977962, 'batch_norm_l3': True, 'l2_reg_l3': 0.0014388131461417672, 'leakyrelu_alpha_l3': 0.12456023658154922, 'n_units_l4': 64, 'activation_l4': 'LeakyReLU', 'dropout_l4': 0.34629474974713126, 'batch_norm_l4': True, 'l2_reg_l4': 0.0005462609699525833, 'leakyrelu_alpha_l4': 0.27808821394049404, 'n_units_l5': 256, 'activation_l5': 'Tanh', 'dropout_l5': 0.4857900652598452, 'batch_norm_l5': False, 'l2_reg_l5': 0.00040315056011219655, 'optimizer': 'RMSprop', 'lr': 0.000488378196205127, 'rmsprop_alpha': 0.9741566993994487, 'epochs': 560, 'batch_size': 128, 'early_stopping_patience': 19, 'lr_reduce_factor': 0.12578425032955537, 'lr_reduce_patience': 41, 'min_lr': 1.589185203021782e-06}. Best is trial 247 with value: 0.8903522205206739.\u001b[0m\n"
     ]
    },
    {
     "name": "stdout",
     "output_type": "stream",
     "text": [
      "Early stopping\n",
      "Trial 404 completado. Mejor precisión en validación: 0.8875957120980091\n",
      "Usando GPU para el Trial 405\n",
      "Entrenando Trial 405...\n"
     ]
    },
    {
     "name": "stderr",
     "output_type": "stream",
     "text": [
      "\u001b[32m[I 2023-11-29 19:17:33,218]\u001b[0m Trial 405 finished with value: 0.8781010719754977 and parameters: {'n_layers': 5, 'n_units_l0': 2048, 'activation_l0': 'LeakyReLU', 'dropout_l0': 0.08975390119789559, 'batch_norm_l0': False, 'l2_reg_l0': 0.0006654397549344067, 'leakyrelu_alpha_l0': 0.22751891743579267, 'n_units_l1': 512, 'activation_l1': 'LeakyReLU', 'dropout_l1': 0.3698562466198625, 'batch_norm_l1': False, 'l2_reg_l1': 0.0033047511337339144, 'leakyrelu_alpha_l1': 0.0736079937963835, 'n_units_l2': 2048, 'activation_l2': 'SELU', 'dropout_l2': 0.32966837706404284, 'batch_norm_l2': True, 'l2_reg_l2': 0.0003245222231817817, 'n_units_l3': 512, 'activation_l3': 'LeakyReLU', 'dropout_l3': 0.2542748219723157, 'batch_norm_l3': True, 'l2_reg_l3': 0.001188233172122471, 'leakyrelu_alpha_l3': 0.12474088822869044, 'n_units_l4': 64, 'activation_l4': 'LeakyReLU', 'dropout_l4': 0.3416233945372716, 'batch_norm_l4': True, 'l2_reg_l4': 0.0007693819328818808, 'leakyrelu_alpha_l4': 0.27647919646512825, 'optimizer': 'RMSprop', 'lr': 0.0004741772643225639, 'rmsprop_alpha': 0.974150941100825, 'epochs': 700, 'batch_size': 128, 'early_stopping_patience': 18, 'lr_reduce_factor': 0.11729156328065886, 'lr_reduce_patience': 45, 'min_lr': 1.4110525299806706e-06}. Best is trial 247 with value: 0.8903522205206739.\u001b[0m\n"
     ]
    },
    {
     "name": "stdout",
     "output_type": "stream",
     "text": [
      "Early stopping\n",
      "Trial 405 completado. Mejor precisión en validación: 0.8781010719754977\n",
      "Usando GPU para el Trial 406\n",
      "Entrenando Trial 406...\n"
     ]
    },
    {
     "name": "stderr",
     "output_type": "stream",
     "text": [
      "                                                                                                                                                                                                                                                        \r"
     ]
    },
    {
     "name": "stdout",
     "output_type": "stream",
     "text": [
      "Epoch 00092: reducing learning rate of group 0 to 4.2418e-05.\n"
     ]
    },
    {
     "name": "stderr",
     "output_type": "stream",
     "text": [
      "\u001b[32m[I 2023-11-29 19:19:05,874]\u001b[0m Trial 406 finished with value: 0.888208269525268 and parameters: {'n_layers': 6, 'n_units_l0': 2048, 'activation_l0': 'LeakyReLU', 'dropout_l0': 0.05358839085989564, 'batch_norm_l0': False, 'l2_reg_l0': 0.0005682085480814831, 'leakyrelu_alpha_l0': 0.23927910355703438, 'n_units_l1': 512, 'activation_l1': 'Tanh', 'dropout_l1': 0.3707887693182844, 'batch_norm_l1': False, 'l2_reg_l1': 0.002289747219353461, 'n_units_l2': 2048, 'activation_l2': 'SELU', 'dropout_l2': 0.3376794112198466, 'batch_norm_l2': True, 'l2_reg_l2': 0.00028501704833422214, 'n_units_l3': 512, 'activation_l3': 'LeakyReLU', 'dropout_l3': 0.10195629905660986, 'batch_norm_l3': True, 'l2_reg_l3': 0.0014005434853167104, 'leakyrelu_alpha_l3': 0.11548726568516712, 'n_units_l4': 64, 'activation_l4': 'LeakyReLU', 'dropout_l4': 0.34950129318958556, 'batch_norm_l4': True, 'l2_reg_l4': 0.0006376651173902618, 'leakyrelu_alpha_l4': 0.28796453632407765, 'n_units_l5': 256, 'activation_l5': 'Tanh', 'dropout_l5': 0.28766832928617847, 'batch_norm_l5': False, 'l2_reg_l5': 0.0003920842129529254, 'optimizer': 'RMSprop', 'lr': 0.0003612683090896111, 'rmsprop_alpha': 0.9779887958713436, 'epochs': 159, 'batch_size': 128, 'early_stopping_patience': 18, 'lr_reduce_factor': 0.11741532891555677, 'lr_reduce_patience': 41, 'min_lr': 1.0160215807163108e-06}. Best is trial 247 with value: 0.8903522205206739.\u001b[0m\n"
     ]
    },
    {
     "name": "stdout",
     "output_type": "stream",
     "text": [
      "Early stopping\n",
      "Trial 406 completado. Mejor precisión en validación: 0.888208269525268\n",
      "Usando GPU para el Trial 407\n",
      "Entrenando Trial 407...\n"
     ]
    },
    {
     "name": "stderr",
     "output_type": "stream",
     "text": [
      "\u001b[32m[I 2023-11-29 19:20:08,567]\u001b[0m Trial 407 finished with value: 0.8716692189892803 and parameters: {'n_layers': 5, 'n_units_l0': 2048, 'activation_l0': 'LeakyReLU', 'dropout_l0': 0.07029263335715227, 'batch_norm_l0': False, 'l2_reg_l0': 0.0006074924162025883, 'leakyrelu_alpha_l0': 0.23785402201872674, 'n_units_l1': 128, 'activation_l1': 'Tanh', 'dropout_l1': 0.39347938190450593, 'batch_norm_l1': False, 'l2_reg_l1': 0.0019517144492741147, 'n_units_l2': 2048, 'activation_l2': 'SELU', 'dropout_l2': 0.3323267326904224, 'batch_norm_l2': True, 'l2_reg_l2': 0.0002749459837919307, 'n_units_l3': 512, 'activation_l3': 'LeakyReLU', 'dropout_l3': 0.09275344099933422, 'batch_norm_l3': True, 'l2_reg_l3': 0.001433818865299781, 'leakyrelu_alpha_l3': 0.11617735624682753, 'n_units_l4': 64, 'activation_l4': 'LeakyReLU', 'dropout_l4': 0.3487047419461584, 'batch_norm_l4': True, 'l2_reg_l4': 0.0005437340910533864, 'leakyrelu_alpha_l4': 0.2898220904050178, 'optimizer': 'RMSprop', 'lr': 0.00034632716414075796, 'rmsprop_alpha': 0.9784082267117319, 'epochs': 206, 'batch_size': 128, 'early_stopping_patience': 18, 'lr_reduce_factor': 0.1612195827432941, 'lr_reduce_patience': 41, 'min_lr': 1.0140067891475755e-06}. Best is trial 247 with value: 0.8903522205206739.\u001b[0m\n"
     ]
    },
    {
     "name": "stdout",
     "output_type": "stream",
     "text": [
      "Early stopping\n",
      "Trial 407 completado. Mejor precisión en validación: 0.8716692189892803\n",
      "Usando GPU para el Trial 408\n",
      "Entrenando Trial 408...\n"
     ]
    },
    {
     "name": "stderr",
     "output_type": "stream",
     "text": [
      "                                                                                                                                                                                                                                                        \r"
     ]
    },
    {
     "name": "stdout",
     "output_type": "stream",
     "text": [
      "Epoch 00095: reducing learning rate of group 0 to 4.7211e-05.\n"
     ]
    },
    {
     "name": "stderr",
     "output_type": "stream",
     "text": [
      "\u001b[32m[I 2023-11-29 19:25:32,634]\u001b[0m Trial 408 finished with value: 0.8796324655436447 and parameters: {'n_layers': 27, 'n_units_l0': 2048, 'activation_l0': 'LeakyReLU', 'dropout_l0': 0.046711668579620114, 'batch_norm_l0': False, 'l2_reg_l0': 0.0005432781422855046, 'leakyrelu_alpha_l0': 0.2454034878810852, 'n_units_l1': 512, 'activation_l1': 'Tanh', 'dropout_l1': 0.3602341398409707, 'batch_norm_l1': False, 'l2_reg_l1': 0.0030210555671379194, 'n_units_l2': 2048, 'activation_l2': 'SELU', 'dropout_l2': 0.3137651143746707, 'batch_norm_l2': True, 'l2_reg_l2': 0.00021719658004580838, 'n_units_l3': 512, 'activation_l3': 'LeakyReLU', 'dropout_l3': 0.24613666839667586, 'batch_norm_l3': True, 'l2_reg_l3': 0.0016519895633286753, 'leakyrelu_alpha_l3': 0.10541465188031687, 'n_units_l4': 64, 'activation_l4': 'LeakyReLU', 'dropout_l4': 0.36981253031819455, 'batch_norm_l4': True, 'l2_reg_l4': 0.0005955351814768174, 'leakyrelu_alpha_l4': 0.28236906938919015, 'n_units_l5': 256, 'activation_l5': 'Tanh', 'dropout_l5': 0.2374954201845535, 'batch_norm_l5': False, 'l2_reg_l5': 0.0002829378162886897, 'n_units_l6': 1024, 'activation_l6': 'ReLU', 'dropout_l6': 0.2273499512903796, 'batch_norm_l6': False, 'l2_reg_l6': 0.001750567672506076, 'n_units_l7': 1024, 'activation_l7': 'ELU', 'dropout_l7': 0.19810378566687992, 'batch_norm_l7': True, 'l2_reg_l7': 3.1104187301131696e-05, 'n_units_l8': 256, 'activation_l8': 'SELU', 'dropout_l8': 0.36942385243396003, 'batch_norm_l8': False, 'l2_reg_l8': 0.0011192379099674544, 'n_units_l9': 1024, 'activation_l9': 'LeakyReLU', 'dropout_l9': 0.48629832845913135, 'batch_norm_l9': True, 'l2_reg_l9': 0.00011356147657501209, 'leakyrelu_alpha_l9': 0.22850454756669314, 'n_units_l10': 16, 'activation_l10': 'LeakyReLU', 'dropout_l10': 0.2652485533731944, 'batch_norm_l10': False, 'l2_reg_l10': 0.0005101119419609551, 'leakyrelu_alpha_l10': 0.2425907669971349, 'n_units_l11': 64, 'activation_l11': 'ReLU', 'dropout_l11': 0.13285660664080268, 'batch_norm_l11': True, 'l2_reg_l11': 0.09846468623417039, 'n_units_l12': 32, 'activation_l12': 'LeakyReLU', 'dropout_l12': 0.16303360549306947, 'batch_norm_l12': False, 'l2_reg_l12': 1.7280190796379076e-05, 'leakyrelu_alpha_l12': 0.07837137330896284, 'n_units_l13': 128, 'activation_l13': 'LeakyReLU', 'dropout_l13': 0.03328087252192713, 'batch_norm_l13': False, 'l2_reg_l13': 0.0013422634140106027, 'leakyrelu_alpha_l13': 0.09704711532813116, 'n_units_l14': 1024, 'activation_l14': 'ReLU', 'dropout_l14': 0.3674618900359602, 'batch_norm_l14': True, 'l2_reg_l14': 0.02250265535622107, 'n_units_l15': 512, 'activation_l15': 'ELU', 'dropout_l15': 0.4671456840428659, 'batch_norm_l15': True, 'l2_reg_l15': 0.0013596523539680656, 'n_units_l16': 128, 'activation_l16': 'Tanh', 'dropout_l16': 0.23704490521136454, 'batch_norm_l16': True, 'l2_reg_l16': 4.653899661079084e-05, 'n_units_l17': 64, 'activation_l17': 'SELU', 'dropout_l17': 0.3135755853379556, 'batch_norm_l17': True, 'l2_reg_l17': 0.03872777487751459, 'n_units_l18': 32, 'activation_l18': 'ReLU', 'dropout_l18': 0.17011832665757332, 'batch_norm_l18': False, 'l2_reg_l18': 0.016513055669810154, 'n_units_l19': 32, 'activation_l19': 'SELU', 'dropout_l19': 0.11620045791889294, 'batch_norm_l19': False, 'l2_reg_l19': 0.02351882792026513, 'n_units_l20': 2048, 'activation_l20': 'ELU', 'dropout_l20': 0.448409573145661, 'batch_norm_l20': True, 'l2_reg_l20': 7.50706454258526e-05, 'n_units_l21': 2048, 'activation_l21': 'ReLU', 'dropout_l21': 0.28500080282912954, 'batch_norm_l21': True, 'l2_reg_l21': 2.4695456594774447e-05, 'n_units_l22': 64, 'activation_l22': 'ELU', 'dropout_l22': 0.0680851373477781, 'batch_norm_l22': True, 'l2_reg_l22': 0.0003841105159809188, 'n_units_l23': 32, 'activation_l23': 'Tanh', 'dropout_l23': 3.0233651900746228e-05, 'batch_norm_l23': True, 'l2_reg_l23': 0.0012462586807992016, 'n_units_l24': 512, 'activation_l24': 'ReLU', 'dropout_l24': 0.3935828800236433, 'batch_norm_l24': True, 'l2_reg_l24': 0.013649098446076672, 'n_units_l25': 64, 'activation_l25': 'SELU', 'dropout_l25': 0.27122604552801527, 'batch_norm_l25': False, 'l2_reg_l25': 0.0007410986172696096, 'n_units_l26': 256, 'activation_l26': 'ELU', 'dropout_l26': 0.43640011673215695, 'batch_norm_l26': True, 'l2_reg_l26': 0.09860529149809656, 'optimizer': 'RMSprop', 'lr': 0.0003939094245140077, 'rmsprop_alpha': 0.9388476177755999, 'epochs': 538, 'batch_size': 128, 'early_stopping_patience': 18, 'lr_reduce_factor': 0.11985269117987284, 'lr_reduce_patience': 43, 'min_lr': 1.126359828168005e-06}. Best is trial 247 with value: 0.8903522205206739.\u001b[0m\n"
     ]
    },
    {
     "name": "stdout",
     "output_type": "stream",
     "text": [
      "Epoch 00139: reducing learning rate of group 0 to 5.6584e-06.\n",
      "Early stopping\n",
      "Trial 408 completado. Mejor precisión en validación: 0.8796324655436447\n",
      "Usando GPU para el Trial 409\n",
      "Entrenando Trial 409...\n"
     ]
    },
    {
     "name": "stderr",
     "output_type": "stream",
     "text": [
      "                                                                                                                                                                                                                                                        \r"
     ]
    },
    {
     "name": "stdout",
     "output_type": "stream",
     "text": [
      "Epoch 00067: reducing learning rate of group 0 to 4.1070e-05.\n"
     ]
    },
    {
     "name": "stderr",
     "output_type": "stream",
     "text": [
      "                                                                                                                                                                                                                                                        \r"
     ]
    },
    {
     "name": "stdout",
     "output_type": "stream",
     "text": [
      "Epoch 00109: reducing learning rate of group 0 to 5.3794e-06.\n"
     ]
    },
    {
     "name": "stderr",
     "output_type": "stream",
     "text": [
      "\u001b[32m[I 2023-11-29 19:27:17,991]\u001b[0m Trial 409 finished with value: 0.8820826952526799 and parameters: {'n_layers': 6, 'n_units_l0': 2048, 'activation_l0': 'LeakyReLU', 'dropout_l0': 0.07291692720994984, 'batch_norm_l0': False, 'l2_reg_l0': 0.0008603502569187236, 'leakyrelu_alpha_l0': 0.24171196755147048, 'n_units_l1': 512, 'activation_l1': 'Tanh', 'dropout_l1': 0.363597912745022, 'batch_norm_l1': False, 'l2_reg_l1': 0.002296267865811757, 'n_units_l2': 2048, 'activation_l2': 'SELU', 'dropout_l2': 0.35189085600113673, 'batch_norm_l2': True, 'l2_reg_l2': 0.0002864667508973781, 'n_units_l3': 512, 'activation_l3': 'LeakyReLU', 'dropout_l3': 0.1038748369347966, 'batch_norm_l3': True, 'l2_reg_l3': 0.0007469524474307687, 'leakyrelu_alpha_l3': 0.1311067433109035, 'n_units_l4': 64, 'activation_l4': 'LeakyReLU', 'dropout_l4': 0.3391872000573368, 'batch_norm_l4': True, 'l2_reg_l4': 0.0006666985539231986, 'leakyrelu_alpha_l4': 0.29161804892388205, 'n_units_l5': 256, 'activation_l5': 'Tanh', 'dropout_l5': 0.2991141039614677, 'batch_norm_l5': False, 'l2_reg_l5': 0.00039593923681023157, 'optimizer': 'RMSprop', 'lr': 0.00031356376347658945, 'rmsprop_alpha': 0.9605520456293821, 'epochs': 403, 'batch_size': 128, 'early_stopping_patience': 18, 'lr_reduce_factor': 0.13097921689056086, 'lr_reduce_patience': 41, 'min_lr': 1.0568004633892024e-06}. Best is trial 247 with value: 0.8903522205206739.\u001b[0m\n"
     ]
    },
    {
     "name": "stdout",
     "output_type": "stream",
     "text": [
      "Early stopping\n",
      "Trial 409 completado. Mejor precisión en validación: 0.8820826952526799\n",
      "Usando GPU para el Trial 410\n",
      "Entrenando Trial 410...\n"
     ]
    },
    {
     "name": "stderr",
     "output_type": "stream",
     "text": [
      "                                                                                                                                                                                                                                                        \r"
     ]
    },
    {
     "name": "stdout",
     "output_type": "stream",
     "text": [
      "Trial 410 completado. Mejor precisión en validación: 0.8744257274119449\n"
     ]
    },
    {
     "name": "stderr",
     "output_type": "stream",
     "text": [
      "\u001b[32m[I 2023-11-29 19:28:05,547]\u001b[0m Trial 410 finished with value: 0.8744257274119449 and parameters: {'n_layers': 6, 'n_units_l0': 2048, 'activation_l0': 'LeakyReLU', 'dropout_l0': 0.04364835106883437, 'batch_norm_l0': False, 'l2_reg_l0': 0.0006947947455924441, 'leakyrelu_alpha_l0': 0.22154501292687762, 'n_units_l1': 512, 'activation_l1': 'Tanh', 'dropout_l1': 0.37195780969458114, 'batch_norm_l1': False, 'l2_reg_l1': 0.0015943675255043652, 'n_units_l2': 2048, 'activation_l2': 'SELU', 'dropout_l2': 0.3616510272745181, 'batch_norm_l2': True, 'l2_reg_l2': 0.0003572744928780422, 'n_units_l3': 256, 'activation_l3': 'LeakyReLU', 'dropout_l3': 0.10817860337761123, 'batch_norm_l3': True, 'l2_reg_l3': 0.0009019706881049737, 'leakyrelu_alpha_l3': 0.11420046987990487, 'n_units_l4': 64, 'activation_l4': 'LeakyReLU', 'dropout_l4': 0.34810254798832224, 'batch_norm_l4': True, 'l2_reg_l4': 0.0005645014146483091, 'leakyrelu_alpha_l4': 0.28726572898906044, 'n_units_l5': 256, 'activation_l5': 'Tanh', 'dropout_l5': 0.32183707648215953, 'batch_norm_l5': False, 'l2_reg_l5': 0.0007153987085385482, 'optimizer': 'RMSprop', 'lr': 0.0005097440489509642, 'rmsprop_alpha': 0.9821755047467259, 'epochs': 54, 'batch_size': 128, 'early_stopping_patience': 19, 'lr_reduce_factor': 0.1405638202483468, 'lr_reduce_patience': 41, 'min_lr': 1.1812551712150396e-06}. Best is trial 247 with value: 0.8903522205206739.\u001b[0m\n"
     ]
    },
    {
     "name": "stdout",
     "output_type": "stream",
     "text": [
      "Usando GPU para el Trial 411\n",
      "Entrenando Trial 411...\n"
     ]
    },
    {
     "name": "stderr",
     "output_type": "stream",
     "text": [
      "\u001b[32m[I 2023-11-29 19:28:49,695]\u001b[0m Trial 411 finished with value: 0.8689127105666156 and parameters: {'n_layers': 5, 'n_units_l0': 2048, 'activation_l0': 'LeakyReLU', 'dropout_l0': 0.028282987500814923, 'batch_norm_l0': True, 'l2_reg_l0': 0.0006068599508367698, 'leakyrelu_alpha_l0': 0.24615390898672848, 'n_units_l1': 512, 'activation_l1': 'Tanh', 'dropout_l1': 0.3802225176465636, 'batch_norm_l1': False, 'l2_reg_l1': 0.0022464589228258754, 'n_units_l2': 2048, 'activation_l2': 'SELU', 'dropout_l2': 0.3399921019468663, 'batch_norm_l2': True, 'l2_reg_l2': 0.00023450599956114778, 'n_units_l3': 512, 'activation_l3': 'LeakyReLU', 'dropout_l3': 0.06829326182585299, 'batch_norm_l3': True, 'l2_reg_l3': 0.0014701916713002797, 'leakyrelu_alpha_l3': 0.09818697378900522, 'n_units_l4': 64, 'activation_l4': 'LeakyReLU', 'dropout_l4': 0.3608681703491099, 'batch_norm_l4': True, 'l2_reg_l4': 0.00040591365133114303, 'leakyrelu_alpha_l4': 0.29382000799862007, 'optimizer': 'RMSprop', 'lr': 0.0002393305426179272, 'rmsprop_alpha': 0.9538402867303908, 'epochs': 556, 'batch_size': 128, 'early_stopping_patience': 17, 'lr_reduce_factor': 0.13683282475242742, 'lr_reduce_patience': 43, 'min_lr': 1.2979837878374971e-06}. Best is trial 247 with value: 0.8903522205206739.\u001b[0m\n"
     ]
    },
    {
     "name": "stdout",
     "output_type": "stream",
     "text": [
      "Epoch 00052: reducing learning rate of group 0 to 3.2748e-05.\n",
      "Early stopping\n",
      "Trial 411 completado. Mejor precisión en validación: 0.8689127105666156\n",
      "Usando GPU para el Trial 412\n",
      "Entrenando Trial 412...\n"
     ]
    },
    {
     "name": "stderr",
     "output_type": "stream",
     "text": [
      "                                                                                                                                                                                                                                                        \r"
     ]
    },
    {
     "name": "stdout",
     "output_type": "stream",
     "text": [
      "Early stopping\n",
      "Trial 412 completado. Mejor precisión en validación: 0.8012251148545176\n"
     ]
    },
    {
     "name": "stderr",
     "output_type": "stream",
     "text": [
      "\u001b[32m[I 2023-11-29 19:29:07,259]\u001b[0m Trial 412 finished with value: 0.8012251148545176 and parameters: {'n_layers': 4, 'n_units_l0': 2048, 'activation_l0': 'LeakyReLU', 'dropout_l0': 0.05416441744889806, 'batch_norm_l0': False, 'l2_reg_l0': 0.0005161152038482914, 'leakyrelu_alpha_l0': 0.2370166231571773, 'n_units_l1': 512, 'activation_l1': 'Tanh', 'dropout_l1': 0.3920228568850965, 'batch_norm_l1': True, 'l2_reg_l1': 0.003765276053192173, 'n_units_l2': 2048, 'activation_l2': 'SELU', 'dropout_l2': 0.3276483658489196, 'batch_norm_l2': True, 'l2_reg_l2': 0.0009973870909214455, 'n_units_l3': 512, 'activation_l3': 'LeakyReLU', 'dropout_l3': 0.07458307263865692, 'batch_norm_l3': True, 'l2_reg_l3': 0.0011503953353238082, 'leakyrelu_alpha_l3': 0.11946077823681689, 'optimizer': 'SGD', 'lr': 0.00041952167620794593, 'sgd_momentum': 0.3006754106029707, 'epochs': 584, 'batch_size': 128, 'early_stopping_patience': 14, 'lr_reduce_factor': 0.14763955869609896, 'lr_reduce_patience': 42, 'min_lr': 3.267118543100577e-06}. Best is trial 247 with value: 0.8903522205206739.\u001b[0m\n"
     ]
    },
    {
     "name": "stdout",
     "output_type": "stream",
     "text": [
      "Usando GPU para el Trial 413\n",
      "Entrenando Trial 413...\n"
     ]
    },
    {
     "name": "stderr",
     "output_type": "stream",
     "text": [
      "\u001b[32m[I 2023-11-29 19:30:15,609]\u001b[0m Trial 413 finished with value: 0.877488514548239 and parameters: {'n_layers': 6, 'n_units_l0': 2048, 'activation_l0': 'LeakyReLU', 'dropout_l0': 0.09846139263358354, 'batch_norm_l0': False, 'l2_reg_l0': 0.0009790755923019727, 'leakyrelu_alpha_l0': 0.24629098149545534, 'n_units_l1': 512, 'activation_l1': 'Tanh', 'dropout_l1': 0.35041698258683346, 'batch_norm_l1': False, 'l2_reg_l1': 0.0017809690689130882, 'n_units_l2': 2048, 'activation_l2': 'LeakyReLU', 'dropout_l2': 0.34352257490098614, 'batch_norm_l2': True, 'l2_reg_l2': 0.000370425911442584, 'leakyrelu_alpha_l2': 0.20239825259449812, 'n_units_l3': 16, 'activation_l3': 'LeakyReLU', 'dropout_l3': 0.08748026626315199, 'batch_norm_l3': True, 'l2_reg_l3': 0.0016059858809480874, 'leakyrelu_alpha_l3': 0.12337348564211878, 'n_units_l4': 64, 'activation_l4': 'LeakyReLU', 'dropout_l4': 0.3324192196882981, 'batch_norm_l4': True, 'l2_reg_l4': 0.0004685194768019231, 'leakyrelu_alpha_l4': 0.27823656038787303, 'n_units_l5': 256, 'activation_l5': 'Tanh', 'dropout_l5': 0.26324914741125643, 'batch_norm_l5': True, 'l2_reg_l5': 0.00044599453052251406, 'optimizer': 'RMSprop', 'lr': 0.0005400128443513758, 'rmsprop_alpha': 0.9340365174445646, 'epochs': 215, 'batch_size': 128, 'early_stopping_patience': 19, 'lr_reduce_factor': 0.13096747748034798, 'lr_reduce_patience': 40, 'min_lr': 4.411252115028422e-06}. Best is trial 247 with value: 0.8903522205206739.\u001b[0m\n"
     ]
    },
    {
     "name": "stdout",
     "output_type": "stream",
     "text": [
      "Early stopping\n",
      "Trial 413 completado. Mejor precisión en validación: 0.877488514548239\n",
      "Usando GPU para el Trial 414\n",
      "Entrenando Trial 414...\n"
     ]
    },
    {
     "name": "stderr",
     "output_type": "stream",
     "text": [
      "                                                                                                                                                                                                                                                        \r"
     ]
    },
    {
     "name": "stdout",
     "output_type": "stream",
     "text": [
      "Epoch 00086: reducing learning rate of group 0 to 4.1006e-05.\n"
     ]
    },
    {
     "name": "stderr",
     "output_type": "stream",
     "text": [
      "                                                                                                                                                                                                                                                        \r"
     ]
    },
    {
     "name": "stdout",
     "output_type": "stream",
     "text": [
      "Early stopping\n",
      "Trial 414 completado. Mejor precisión en validación: 0.8817764165390506\n"
     ]
    },
    {
     "name": "stderr",
     "output_type": "stream",
     "text": [
      "\u001b[32m[I 2023-11-29 19:32:07,583]\u001b[0m Trial 414 finished with value: 0.8817764165390506 and parameters: {'n_layers': 7, 'n_units_l0': 2048, 'activation_l0': 'LeakyReLU', 'dropout_l0': 0.07438225938869605, 'batch_norm_l0': False, 'l2_reg_l0': 0.00046929967051279243, 'leakyrelu_alpha_l0': 0.23194960112528884, 'n_units_l1': 2048, 'activation_l1': 'Tanh', 'dropout_l1': 0.3288610413892043, 'batch_norm_l1': False, 'l2_reg_l1': 0.0025982436063334744, 'n_units_l2': 2048, 'activation_l2': 'SELU', 'dropout_l2': 0.35290047517286477, 'batch_norm_l2': True, 'l2_reg_l2': 0.00046500145447669135, 'n_units_l3': 64, 'activation_l3': 'LeakyReLU', 'dropout_l3': 0.11583534522317188, 'batch_norm_l3': True, 'l2_reg_l3': 0.002014181744525738, 'leakyrelu_alpha_l3': 0.1081845340495362, 'n_units_l4': 64, 'activation_l4': 'LeakyReLU', 'dropout_l4': 0.3582822301743928, 'batch_norm_l4': True, 'l2_reg_l4': 0.0010676212564706509, 'leakyrelu_alpha_l4': 0.2879601605375881, 'n_units_l5': 256, 'activation_l5': 'Tanh', 'dropout_l5': 0.473780512294393, 'batch_norm_l5': False, 'l2_reg_l5': 0.0005543292051672155, 'n_units_l6': 2048, 'activation_l6': 'Tanh', 'dropout_l6': 0.25526383880179426, 'batch_norm_l6': False, 'l2_reg_l6': 0.0005179856615620852, 'optimizer': 'RMSprop', 'lr': 0.00035955207100949187, 'rmsprop_alpha': 0.9897175247925107, 'epochs': 400, 'batch_size': 128, 'early_stopping_patience': 19, 'lr_reduce_factor': 0.1140480129218906, 'lr_reduce_patience': 44, 'min_lr': 1.3624276052369195e-06}. Best is trial 247 with value: 0.8903522205206739.\u001b[0m\n"
     ]
    },
    {
     "name": "stdout",
     "output_type": "stream",
     "text": [
      "Usando GPU para el Trial 415\n",
      "Entrenando Trial 415...\n"
     ]
    },
    {
     "name": "stderr",
     "output_type": "stream",
     "text": [
      "\u001b[32m[I 2023-11-29 19:33:05,936]\u001b[0m Trial 415 finished with value: 0.869218989280245 and parameters: {'n_layers': 5, 'n_units_l0': 2048, 'activation_l0': 'LeakyReLU', 'dropout_l0': 0.07957077323871004, 'batch_norm_l0': False, 'l2_reg_l0': 0.0007582846740967777, 'leakyrelu_alpha_l0': 0.2367722437125117, 'n_units_l1': 512, 'activation_l1': 'ELU', 'dropout_l1': 0.369450888382483, 'batch_norm_l1': False, 'l2_reg_l1': 0.0015420121034153073, 'n_units_l2': 2048, 'activation_l2': 'SELU', 'dropout_l2': 0.33859696702119735, 'batch_norm_l2': True, 'l2_reg_l2': 0.0006356374474528963, 'n_units_l3': 512, 'activation_l3': 'LeakyReLU', 'dropout_l3': 0.09583460013006502, 'batch_norm_l3': True, 'l2_reg_l3': 0.0009496835537392385, 'leakyrelu_alpha_l3': 0.095496348182374, 'n_units_l4': 32, 'activation_l4': 'LeakyReLU', 'dropout_l4': 0.3717675197350891, 'batch_norm_l4': True, 'l2_reg_l4': 0.0007914927766888098, 'leakyrelu_alpha_l4': 0.29472979084267936, 'optimizer': 'RMSprop', 'lr': 0.0004889157454160794, 'rmsprop_alpha': 0.9794479640707979, 'epochs': 752, 'batch_size': 128, 'early_stopping_patience': 19, 'lr_reduce_factor': 0.18843437504995825, 'lr_reduce_patience': 40, 'min_lr': 3.7726175386709797e-06}. Best is trial 247 with value: 0.8903522205206739.\u001b[0m\n"
     ]
    },
    {
     "name": "stdout",
     "output_type": "stream",
     "text": [
      "Early stopping\n",
      "Trial 415 completado. Mejor precisión en validación: 0.869218989280245\n",
      "Usando GPU para el Trial 416\n",
      "Entrenando Trial 416...\n"
     ]
    },
    {
     "name": "stderr",
     "output_type": "stream",
     "text": [
      "                                                                                                                                                                                                                                                        \r"
     ]
    },
    {
     "name": "stdout",
     "output_type": "stream",
     "text": [
      "Epoch 00091: reducing learning rate of group 0 to 3.3041e-05.\n"
     ]
    },
    {
     "name": "stderr",
     "output_type": "stream",
     "text": [
      "                                                                                                                                                                                                                                                        \r"
     ]
    },
    {
     "name": "stdout",
     "output_type": "stream",
     "text": [
      "Early stopping\n",
      "Trial 416 completado. Mejor precisión en validación: 0.8796324655436447\n"
     ]
    },
    {
     "name": "stderr",
     "output_type": "stream",
     "text": [
      "\u001b[32m[I 2023-11-29 19:34:52,455]\u001b[0m Trial 416 finished with value: 0.8796324655436447 and parameters: {'n_layers': 7, 'n_units_l0': 2048, 'activation_l0': 'LeakyReLU', 'dropout_l0': 0.03274095119904496, 'batch_norm_l0': False, 'l2_reg_l0': 0.0006710778555874001, 'leakyrelu_alpha_l0': 0.22632793824298728, 'n_units_l1': 512, 'activation_l1': 'Tanh', 'dropout_l1': 0.3888445831240429, 'batch_norm_l1': False, 'l2_reg_l1': 0.004135691171532732, 'n_units_l2': 2048, 'activation_l2': 'SELU', 'dropout_l2': 0.31156148441377074, 'batch_norm_l2': True, 'l2_reg_l2': 0.00023166085935573863, 'n_units_l3': 32, 'activation_l3': 'LeakyReLU', 'dropout_l3': 0.035097545646842684, 'batch_norm_l3': True, 'l2_reg_l3': 0.000676547987723073, 'leakyrelu_alpha_l3': 0.10212407402101129, 'n_units_l4': 1024, 'activation_l4': 'LeakyReLU', 'dropout_l4': 0.3441358696832044, 'batch_norm_l4': True, 'l2_reg_l4': 0.00032664858847519904, 'leakyrelu_alpha_l4': 0.29999188858181147, 'n_units_l5': 256, 'activation_l5': 'Tanh', 'dropout_l5': 0.30715858657932676, 'batch_norm_l5': False, 'l2_reg_l5': 0.00011663780597843504, 'n_units_l6': 256, 'activation_l6': 'ReLU', 'dropout_l6': 0.2018735130285123, 'batch_norm_l6': False, 'l2_reg_l6': 0.00029689554117242706, 'optimizer': 'RMSprop', 'lr': 0.0002692608972023617, 'rmsprop_alpha': 0.9762136578632624, 'epochs': 282, 'batch_size': 128, 'early_stopping_patience': 18, 'lr_reduce_factor': 0.12270820709972217, 'lr_reduce_patience': 42, 'min_lr': 1.0002837456426178e-06}. Best is trial 247 with value: 0.8903522205206739.\u001b[0m\n"
     ]
    },
    {
     "name": "stdout",
     "output_type": "stream",
     "text": [
      "Usando GPU para el Trial 417\n",
      "Entrenando Trial 417...\n"
     ]
    },
    {
     "name": "stderr",
     "output_type": "stream",
     "text": [
      "                                                                                                                                                                                                                                                        \r"
     ]
    },
    {
     "name": "stdout",
     "output_type": "stream",
     "text": [
      "Early stopping\n",
      "Trial 417 completado. Mejor precisión en validación: 0.877488514548239\n"
     ]
    },
    {
     "name": "stderr",
     "output_type": "stream",
     "text": [
      "\u001b[32m[I 2023-11-29 19:35:45,799]\u001b[0m Trial 417 finished with value: 0.877488514548239 and parameters: {'n_layers': 6, 'n_units_l0': 2048, 'activation_l0': 'LeakyReLU', 'dropout_l0': 0.08756737686518096, 'batch_norm_l0': False, 'l2_reg_l0': 0.0004285217246434229, 'leakyrelu_alpha_l0': 0.250067065421276, 'n_units_l1': 256, 'activation_l1': 'Tanh', 'dropout_l1': 0.3513770288048034, 'batch_norm_l1': False, 'l2_reg_l1': 0.0030852574700213652, 'n_units_l2': 2048, 'activation_l2': 'ReLU', 'dropout_l2': 0.3638353015943834, 'batch_norm_l2': True, 'l2_reg_l2': 0.00038374651581168717, 'n_units_l3': 512, 'activation_l3': 'LeakyReLU', 'dropout_l3': 0.058352743846710804, 'batch_norm_l3': True, 'l2_reg_l3': 0.0012290106050698983, 'leakyrelu_alpha_l3': 0.1335548402601766, 'n_units_l4': 64, 'activation_l4': 'LeakyReLU', 'dropout_l4': 0.32637624158968515, 'batch_norm_l4': True, 'l2_reg_l4': 0.00047895084904595405, 'leakyrelu_alpha_l4': 0.281743133176095, 'n_units_l5': 256, 'activation_l5': 'Tanh', 'dropout_l5': 0.2771303321621139, 'batch_norm_l5': False, 'l2_reg_l5': 0.0007966422776659909, 'optimizer': 'RMSprop', 'lr': 0.0005620607333522088, 'rmsprop_alpha': 0.9508004668828816, 'epochs': 1220, 'batch_size': 128, 'early_stopping_patience': 19, 'lr_reduce_factor': 0.1839638951007371, 'lr_reduce_patience': 39, 'min_lr': 1.1779137396903712e-06}. Best is trial 247 with value: 0.8903522205206739.\u001b[0m\n"
     ]
    },
    {
     "name": "stdout",
     "output_type": "stream",
     "text": [
      "Usando GPU para el Trial 418\n",
      "Entrenando Trial 418...\n"
     ]
    },
    {
     "name": "stderr",
     "output_type": "stream",
     "text": [
      "\u001b[32m[I 2023-11-29 19:35:59,878]\u001b[0m Trial 418 finished with value: 0.8483920367534457 and parameters: {'n_layers': 5, 'n_units_l0': 2048, 'activation_l0': 'LeakyReLU', 'dropout_l0': 0.022914195249716135, 'batch_norm_l0': False, 'l2_reg_l0': 0.0005690205946361508, 'leakyrelu_alpha_l0': 0.25627921709088647, 'n_units_l1': 512, 'activation_l1': 'Tanh', 'dropout_l1': 0.36744637942998487, 'batch_norm_l1': False, 'l2_reg_l1': 0.0045636732478734395, 'n_units_l2': 2048, 'activation_l2': 'ReLU', 'dropout_l2': 0.35605550395897734, 'batch_norm_l2': True, 'l2_reg_l2': 0.0001809662892730054, 'n_units_l3': 32, 'activation_l3': 'LeakyReLU', 'dropout_l3': 0.04857121046321697, 'batch_norm_l3': True, 'l2_reg_l3': 0.0023037996207035606, 'leakyrelu_alpha_l3': 0.14055243846023316, 'n_units_l4': 64, 'activation_l4': 'LeakyReLU', 'dropout_l4': 0.3552941019912346, 'batch_norm_l4': True, 'l2_reg_l4': 0.0006611338498798486, 'leakyrelu_alpha_l4': 0.2728685555431433, 'optimizer': 'RMSprop', 'lr': 0.0002881392515327554, 'rmsprop_alpha': 0.9675422042920442, 'epochs': 1068, 'batch_size': 128, 'early_stopping_patience': 3, 'lr_reduce_factor': 0.13644452910950086, 'lr_reduce_patience': 41, 'min_lr': 2.058952994407428e-06}. Best is trial 247 with value: 0.8903522205206739.\u001b[0m\n"
     ]
    },
    {
     "name": "stdout",
     "output_type": "stream",
     "text": [
      "Early stopping\n",
      "Trial 418 completado. Mejor precisión en validación: 0.8483920367534457\n",
      "Usando GPU para el Trial 419\n",
      "Entrenando Trial 419...\n"
     ]
    },
    {
     "name": "stderr",
     "output_type": "stream",
     "text": [
      "                                                                                                                                                                                                                                                        \r"
     ]
    },
    {
     "name": "stdout",
     "output_type": "stream",
     "text": [
      "Epoch 00086: reducing learning rate of group 0 to 2.0251e-05.\n"
     ]
    },
    {
     "name": "stderr",
     "output_type": "stream",
     "text": [
      "                                                                                                                                                                                                                                                        \r"
     ]
    },
    {
     "name": "stdout",
     "output_type": "stream",
     "text": [
      "Early stopping\n",
      "Trial 419 completado. Mejor precisión en validación: 0.8698315467075038\n"
     ]
    },
    {
     "name": "stderr",
     "output_type": "stream",
     "text": [
      "\u001b[32m[I 2023-11-29 19:37:32,996]\u001b[0m Trial 419 finished with value: 0.8698315467075038 and parameters: {'n_layers': 7, 'n_units_l0': 2048, 'activation_l0': 'LeakyReLU', 'dropout_l0': 0.06676390500682938, 'batch_norm_l0': False, 'l2_reg_l0': 0.0005049191159274333, 'leakyrelu_alpha_l0': 0.24054890351472463, 'n_units_l1': 512, 'activation_l1': 'Tanh', 'dropout_l1': 0.44449915397903145, 'batch_norm_l1': False, 'l2_reg_l1': 0.0023772009442490348, 'n_units_l2': 2048, 'activation_l2': 'SELU', 'dropout_l2': 0.002901739314730589, 'batch_norm_l2': True, 'l2_reg_l2': 0.00028660989230989184, 'n_units_l3': 1024, 'activation_l3': 'ELU', 'dropout_l3': 0.10393477189114188, 'batch_norm_l3': True, 'l2_reg_l3': 0.0010797103737027098, 'n_units_l4': 2048, 'activation_l4': 'LeakyReLU', 'dropout_l4': 0.3364432634091786, 'batch_norm_l4': True, 'l2_reg_l4': 0.0003892925762628101, 'leakyrelu_alpha_l4': 0.2864549104200318, 'n_units_l5': 256, 'activation_l5': 'Tanh', 'dropout_l5': 0.2888802735016553, 'batch_norm_l5': False, 'l2_reg_l5': 0.0003503226814391322, 'n_units_l6': 1024, 'activation_l6': 'LeakyReLU', 'dropout_l6': 0.28993247453642057, 'batch_norm_l6': False, 'l2_reg_l6': 0.00017106664388065985, 'leakyrelu_alpha_l6': 0.25630090451211796, 'optimizer': 'RMSprop', 'lr': 0.00019272157161478169, 'rmsprop_alpha': 0.9463521172150771, 'epochs': 128, 'batch_size': 128, 'early_stopping_patience': 19, 'lr_reduce_factor': 0.105079594019442, 'lr_reduce_patience': 40, 'min_lr': 3.5883153980346574e-06}. Best is trial 247 with value: 0.8903522205206739.\u001b[0m\n"
     ]
    },
    {
     "name": "stdout",
     "output_type": "stream",
     "text": [
      "Usando GPU para el Trial 420\n",
      "Entrenando Trial 420...\n"
     ]
    },
    {
     "name": "stderr",
     "output_type": "stream",
     "text": [
      "                                                                                                                                                                                                                                                        \r"
     ]
    },
    {
     "name": "stdout",
     "output_type": "stream",
     "text": [
      "Epoch 00087: reducing learning rate of group 0 to 2.0237e-04.\n"
     ]
    },
    {
     "name": "stderr",
     "output_type": "stream",
     "text": [
      "                                                                                                                                                                                                                                                        \r"
     ]
    },
    {
     "name": "stdout",
     "output_type": "stream",
     "text": [
      "Epoch 00131: reducing learning rate of group 0 to 6.7014e-05.\n"
     ]
    },
    {
     "name": "stderr",
     "output_type": "stream",
     "text": [
      "\u001b[32m[I 2023-11-29 19:39:07,936]\u001b[0m Trial 420 finished with value: 0.8879019908116386 and parameters: {'n_layers': 4, 'n_units_l0': 2048, 'activation_l0': 'LeakyReLU', 'dropout_l0': 0.049701436172569384, 'batch_norm_l0': False, 'l2_reg_l0': 0.0008077068922816913, 'leakyrelu_alpha_l0': 0.22290521410975803, 'n_units_l1': 512, 'activation_l1': 'Tanh', 'dropout_l1': 0.3467156764124686, 'batch_norm_l1': False, 'l2_reg_l1': 3.5346157234406325e-05, 'n_units_l2': 2048, 'activation_l2': 'ReLU', 'dropout_l2': 0.2917631962367822, 'batch_norm_l2': True, 'l2_reg_l2': 0.0005879248409677555, 'n_units_l3': 512, 'activation_l3': 'LeakyReLU', 'dropout_l3': 0.27849409718500784, 'batch_norm_l3': True, 'l2_reg_l3': 0.0016474426886558112, 'leakyrelu_alpha_l3': 0.12787796030454607, 'optimizer': 'RMSprop', 'lr': 0.0006111169818450561, 'rmsprop_alpha': 0.9732996216591067, 'epochs': 493, 'batch_size': 128, 'early_stopping_patience': 19, 'lr_reduce_factor': 0.3311457249357628, 'lr_reduce_patience': 43, 'min_lr': 5.616192684555364e-06}. Best is trial 247 with value: 0.8903522205206739.\u001b[0m\n"
     ]
    },
    {
     "name": "stdout",
     "output_type": "stream",
     "text": [
      "Early stopping\n",
      "Trial 420 completado. Mejor precisión en validación: 0.8879019908116386\n",
      "Usando GPU para el Trial 421\n",
      "Entrenando Trial 421...\n"
     ]
    },
    {
     "name": "stderr",
     "output_type": "stream",
     "text": [
      "                                                                                                                                                                                                                                                        \r"
     ]
    },
    {
     "name": "stdout",
     "output_type": "stream",
     "text": [
      "Epoch 00062: reducing learning rate of group 0 to 6.0895e-05.\n"
     ]
    },
    {
     "name": "stderr",
     "output_type": "stream",
     "text": [
      "                                                                                                                                                                                                                                                        \r"
     ]
    },
    {
     "name": "stdout",
     "output_type": "stream",
     "text": [
      "Early stopping\n",
      "Trial 421 completado. Mejor precisión en validación: 0.8768759571209801\n"
     ]
    },
    {
     "name": "stderr",
     "output_type": "stream",
     "text": [
      "\u001b[32m[I 2023-11-29 19:40:40,061]\u001b[0m Trial 421 finished with value: 0.8768759571209801 and parameters: {'n_layers': 8, 'n_units_l0': 2048, 'activation_l0': 'LeakyReLU', 'dropout_l0': 0.06381100313549398, 'batch_norm_l0': False, 'l2_reg_l0': 0.000827068822553466, 'leakyrelu_alpha_l0': 0.22140054873647078, 'n_units_l1': 512, 'activation_l1': 'SELU', 'dropout_l1': 0.38425335709808717, 'batch_norm_l1': False, 'l2_reg_l1': 4.637874062246192e-05, 'n_units_l2': 2048, 'activation_l2': 'ReLU', 'dropout_l2': 0.30174221530251, 'batch_norm_l2': True, 'l2_reg_l2': 0.0004238388374154767, 'n_units_l3': 1024, 'activation_l3': 'LeakyReLU', 'dropout_l3': 0.28913981889225127, 'batch_norm_l3': True, 'l2_reg_l3': 0.001862741107262235, 'leakyrelu_alpha_l3': 0.12741246924388253, 'n_units_l4': 64, 'activation_l4': 'LeakyReLU', 'dropout_l4': 0.37910420766117164, 'batch_norm_l4': False, 'l2_reg_l4': 3.902271687261209e-05, 'leakyrelu_alpha_l4': 0.19885843330132053, 'n_units_l5': 256, 'activation_l5': 'Tanh', 'dropout_l5': 0.4979492874544489, 'batch_norm_l5': False, 'l2_reg_l5': 0.0011562681863388834, 'n_units_l6': 32, 'activation_l6': 'LeakyReLU', 'dropout_l6': 0.26861119131207156, 'batch_norm_l6': False, 'l2_reg_l6': 0.006410426073789825, 'leakyrelu_alpha_l6': 0.2088338374612606, 'n_units_l7': 64, 'activation_l7': 'SELU', 'dropout_l7': 0.4257872697428059, 'batch_norm_l7': True, 'l2_reg_l7': 9.368361461100059e-05, 'optimizer': 'RMSprop', 'lr': 0.0006021414974496749, 'rmsprop_alpha': 0.9856046206167721, 'epochs': 161, 'batch_size': 128, 'early_stopping_patience': 19, 'lr_reduce_factor': 0.10113068663228782, 'lr_reduce_patience': 42, 'min_lr': 5.888056703322069e-06}. Best is trial 247 with value: 0.8903522205206739.\u001b[0m\n"
     ]
    },
    {
     "name": "stdout",
     "output_type": "stream",
     "text": [
      "Usando GPU para el Trial 422\n",
      "Entrenando Trial 422...\n"
     ]
    },
    {
     "name": "stderr",
     "output_type": "stream",
     "text": [
      "                                                                                                                                                                                                                                                        \r"
     ]
    },
    {
     "name": "stdout",
     "output_type": "stream",
     "text": [
      "Epoch 00073: reducing learning rate of group 0 to 1.5568e-04.\n"
     ]
    },
    {
     "name": "stderr",
     "output_type": "stream",
     "text": [
      "                                                                                                                                                                                                                                                        \r"
     ]
    },
    {
     "name": "stdout",
     "output_type": "stream",
     "text": [
      "Early stopping\n",
      "Trial 422 completado. Mejor precisión en validación: 0.886676875957121\n"
     ]
    },
    {
     "name": "stderr",
     "output_type": "stream",
     "text": [
      "\u001b[32m[I 2023-11-29 19:42:19,046]\u001b[0m Trial 422 finished with value: 0.886676875957121 and parameters: {'n_layers': 6, 'n_units_l0': 2048, 'activation_l0': 'LeakyReLU', 'dropout_l0': 0.08669910922002963, 'batch_norm_l0': False, 'l2_reg_l0': 0.0009694852976611274, 'leakyrelu_alpha_l0': 0.21138920972082362, 'n_units_l1': 512, 'activation_l1': 'Tanh', 'dropout_l1': 0.37025992116792605, 'batch_norm_l1': False, 'l2_reg_l1': 0.003708321641001247, 'n_units_l2': 2048, 'activation_l2': 'ReLU', 'dropout_l2': 0.29768624064668747, 'batch_norm_l2': True, 'l2_reg_l2': 0.0005894881805770991, 'n_units_l3': 2048, 'activation_l3': 'LeakyReLU', 'dropout_l3': 0.008747101007779048, 'batch_norm_l3': True, 'l2_reg_l3': 0.0025816542023782063, 'leakyrelu_alpha_l3': 0.11273314996792883, 'n_units_l4': 64, 'activation_l4': 'LeakyReLU', 'dropout_l4': 0.31961493606852065, 'batch_norm_l4': True, 'l2_reg_l4': 0.00031911453515235267, 'leakyrelu_alpha_l4': 0.2938339003231388, 'n_units_l5': 256, 'activation_l5': 'Tanh', 'dropout_l5': 0.1690698688201665, 'batch_norm_l5': False, 'l2_reg_l5': 0.000299579265425353, 'optimizer': 'RMSprop', 'lr': 0.0005588575258112066, 'rmsprop_alpha': 0.9744972545496556, 'epochs': 297, 'batch_size': 128, 'early_stopping_patience': 18, 'lr_reduce_factor': 0.2785627154395832, 'lr_reduce_patience': 45, 'min_lr': 1.5459170847674553e-06}. Best is trial 247 with value: 0.8903522205206739.\u001b[0m\n"
     ]
    },
    {
     "name": "stdout",
     "output_type": "stream",
     "text": [
      "Usando GPU para el Trial 423\n",
      "Entrenando Trial 423...\n"
     ]
    },
    {
     "name": "stderr",
     "output_type": "stream",
     "text": [
      "                                                                                                                                                                                                                                                        \r"
     ]
    },
    {
     "name": "stdout",
     "output_type": "stream",
     "text": [
      "Epoch 00075: reducing learning rate of group 0 to 1.6948e-04.\n"
     ]
    },
    {
     "name": "stderr",
     "output_type": "stream",
     "text": [
      "\u001b[32m[I 2023-11-29 19:43:17,958]\u001b[0m Trial 423 finished with value: 0.8863705972434915 and parameters: {'n_layers': 5, 'n_units_l0': 2048, 'activation_l0': 'LeakyReLU', 'dropout_l0': 0.07934051262494336, 'batch_norm_l0': False, 'l2_reg_l0': 0.0010810340235819554, 'leakyrelu_alpha_l0': 0.2263862551478015, 'n_units_l1': 512, 'activation_l1': 'Tanh', 'dropout_l1': 0.31908323963294777, 'batch_norm_l1': False, 'l2_reg_l1': 0.0038832176837938336, 'n_units_l2': 2048, 'activation_l2': 'ReLU', 'dropout_l2': 0.2700359640260987, 'batch_norm_l2': True, 'l2_reg_l2': 0.0005745456286398076, 'n_units_l3': 512, 'activation_l3': 'LeakyReLU', 'dropout_l3': 0.007614261932334793, 'batch_norm_l3': True, 'l2_reg_l3': 0.002537441475658935, 'leakyrelu_alpha_l3': 0.12202059253546463, 'n_units_l4': 64, 'activation_l4': 'LeakyReLU', 'dropout_l4': 0.3380147901451721, 'batch_norm_l4': True, 'l2_reg_l4': 1.4506856803418709e-05, 'leakyrelu_alpha_l4': 0.22702936168105117, 'optimizer': 'RMSprop', 'lr': 0.0006218990517670349, 'rmsprop_alpha': 0.9732644741365638, 'epochs': 374, 'batch_size': 128, 'early_stopping_patience': 17, 'lr_reduce_factor': 0.2725219361044976, 'lr_reduce_patience': 46, 'min_lr': 1.3100566595859346e-06}. Best is trial 247 with value: 0.8903522205206739.\u001b[0m\n"
     ]
    },
    {
     "name": "stdout",
     "output_type": "stream",
     "text": [
      "Early stopping\n",
      "Trial 423 completado. Mejor precisión en validación: 0.8863705972434915\n",
      "Usando GPU para el Trial 424\n",
      "Entrenando Trial 424...\n"
     ]
    },
    {
     "name": "stderr",
     "output_type": "stream",
     "text": [
      "                                                                                                                                                                                                                                                        \r"
     ]
    },
    {
     "name": "stdout",
     "output_type": "stream",
     "text": [
      "Epoch 00073: reducing learning rate of group 0 to 1.2737e-04.\n"
     ]
    },
    {
     "name": "stderr",
     "output_type": "stream",
     "text": [
      "                                                                                                                                                                                                                                                        \r"
     ]
    },
    {
     "name": "stdout",
     "output_type": "stream",
     "text": [
      "Epoch 00118: reducing learning rate of group 0 to 4.0486e-05.\n"
     ]
    },
    {
     "name": "stderr",
     "output_type": "stream",
     "text": [
      "                                                                                                                                                                                                                                                        \r"
     ]
    },
    {
     "name": "stdout",
     "output_type": "stream",
     "text": [
      "Early stopping\n",
      "Trial 424 completado. Mejor precisión en validación: 0.8903522205206739\n"
     ]
    },
    {
     "name": "stderr",
     "output_type": "stream",
     "text": [
      "\u001b[32m[I 2023-11-29 19:45:04,275]\u001b[0m Trial 424 finished with value: 0.8903522205206739 and parameters: {'n_layers': 4, 'n_units_l0': 2048, 'activation_l0': 'LeakyReLU', 'dropout_l0': 0.08394331495569064, 'batch_norm_l0': False, 'l2_reg_l0': 0.0012806159934819804, 'leakyrelu_alpha_l0': 0.22596740168215715, 'n_units_l1': 512, 'activation_l1': 'Tanh', 'dropout_l1': 0.3237356727688997, 'batch_norm_l1': False, 'l2_reg_l1': 2.647119915188822e-05, 'n_units_l2': 2048, 'activation_l2': 'ReLU', 'dropout_l2': 0.2677442642183794, 'batch_norm_l2': True, 'l2_reg_l2': 0.0005835229047803909, 'n_units_l3': 2048, 'activation_l3': 'LeakyReLU', 'dropout_l3': 0.0012740978736891229, 'batch_norm_l3': True, 'l2_reg_l3': 0.0025442504646462794, 'leakyrelu_alpha_l3': 0.12117117925172338, 'optimizer': 'RMSprop', 'lr': 0.0004007120499646003, 'rmsprop_alpha': 0.9729117940246917, 'epochs': 489, 'batch_size': 128, 'early_stopping_patience': 19, 'lr_reduce_factor': 0.31786143095004604, 'lr_reduce_patience': 44, 'min_lr': 4.388760345733693e-06}. Best is trial 247 with value: 0.8903522205206739.\u001b[0m\n"
     ]
    },
    {
     "name": "stdout",
     "output_type": "stream",
     "text": [
      "Usando GPU para el Trial 425\n",
      "Entrenando Trial 425...\n"
     ]
    },
    {
     "name": "stderr",
     "output_type": "stream",
     "text": [
      "                                                                                                                                                                                                                                                        \r"
     ]
    },
    {
     "name": "stdout",
     "output_type": "stream",
     "text": [
      "Epoch 00085: reducing learning rate of group 0 to 1.0685e-04.\n"
     ]
    },
    {
     "name": "stderr",
     "output_type": "stream",
     "text": [
      "                                                                                                                                                                                                                                                        \r"
     ]
    },
    {
     "name": "stdout",
     "output_type": "stream",
     "text": [
      "Early stopping\n",
      "Trial 425 completado. Mejor precisión en validación: 0.8888208269525268\n"
     ]
    },
    {
     "name": "stderr",
     "output_type": "stream",
     "text": [
      "\u001b[32m[I 2023-11-29 19:46:32,392]\u001b[0m Trial 425 finished with value: 0.8888208269525268 and parameters: {'n_layers': 4, 'n_units_l0': 2048, 'activation_l0': 'LeakyReLU', 'dropout_l0': 0.08549466768886833, 'batch_norm_l0': False, 'l2_reg_l0': 0.0012963429501396198, 'leakyrelu_alpha_l0': 0.21105713707402304, 'n_units_l1': 512, 'activation_l1': 'Tanh', 'dropout_l1': 0.30486379353391074, 'batch_norm_l1': False, 'l2_reg_l1': 2.2603653171640093e-05, 'n_units_l2': 2048, 'activation_l2': 'ReLU', 'dropout_l2': 0.28616273890049415, 'batch_norm_l2': True, 'l2_reg_l2': 0.0005568414605747039, 'n_units_l3': 2048, 'activation_l3': 'LeakyReLU', 'dropout_l3': 0.0006614631474867383, 'batch_norm_l3': True, 'l2_reg_l3': 0.0025821405278025735, 'leakyrelu_alpha_l3': 0.12124039185132812, 'optimizer': 'RMSprop', 'lr': 0.00038704976894682336, 'rmsprop_alpha': 0.9734607900502477, 'epochs': 480, 'batch_size': 128, 'early_stopping_patience': 17, 'lr_reduce_factor': 0.27605630267639697, 'lr_reduce_patience': 46, 'min_lr': 4.884665351346122e-06}. Best is trial 247 with value: 0.8903522205206739.\u001b[0m\n"
     ]
    },
    {
     "name": "stdout",
     "output_type": "stream",
     "text": [
      "Usando GPU para el Trial 426\n",
      "Entrenando Trial 426...\n"
     ]
    },
    {
     "name": "stderr",
     "output_type": "stream",
     "text": [
      "\u001b[32m[I 2023-11-29 19:47:25,178]\u001b[0m Trial 426 finished with value: 0.8796324655436447 and parameters: {'n_layers': 4, 'n_units_l0': 2048, 'activation_l0': 'LeakyReLU', 'dropout_l0': 0.0766529212512337, 'batch_norm_l0': False, 'l2_reg_l0': 0.0011317332621083092, 'leakyrelu_alpha_l0': 0.21931855984893409, 'n_units_l1': 512, 'activation_l1': 'Tanh', 'dropout_l1': 0.31359660587765315, 'batch_norm_l1': False, 'l2_reg_l1': 2.7474492601845004e-05, 'n_units_l2': 2048, 'activation_l2': 'ReLU', 'dropout_l2': 0.2848664398036794, 'batch_norm_l2': True, 'l2_reg_l2': 0.0005439535081379837, 'n_units_l3': 2048, 'activation_l3': 'LeakyReLU', 'dropout_l3': 0.004356019951530964, 'batch_norm_l3': True, 'l2_reg_l3': 0.002609318378799487, 'leakyrelu_alpha_l3': 0.12061143824389925, 'optimizer': 'RMSprop', 'lr': 0.00037160587067078623, 'rmsprop_alpha': 0.9736246600482706, 'epochs': 494, 'batch_size': 128, 'early_stopping_patience': 17, 'lr_reduce_factor': 0.26810259590584207, 'lr_reduce_patience': 47, 'min_lr': 4.538198307294225e-06}. Best is trial 247 with value: 0.8903522205206739.\u001b[0m\n"
     ]
    },
    {
     "name": "stdout",
     "output_type": "stream",
     "text": [
      "Early stopping\n",
      "Trial 426 completado. Mejor precisión en validación: 0.8796324655436447\n",
      "Usando GPU para el Trial 427\n",
      "Entrenando Trial 427...\n"
     ]
    },
    {
     "name": "stderr",
     "output_type": "stream",
     "text": [
      "                                                                                                                                                                                                                                                        \r"
     ]
    },
    {
     "name": "stdout",
     "output_type": "stream",
     "text": [
      "Epoch 00082: reducing learning rate of group 0 to 9.6324e-05.\n"
     ]
    },
    {
     "name": "stderr",
     "output_type": "stream",
     "text": [
      "\u001b[32m[I 2023-11-29 19:48:25,600]\u001b[0m Trial 427 finished with value: 0.8820826952526799 and parameters: {'n_layers': 3, 'n_units_l0': 2048, 'activation_l0': 'LeakyReLU', 'dropout_l0': 0.08538300403615937, 'batch_norm_l0': False, 'l2_reg_l0': 0.0013733077161877773, 'leakyrelu_alpha_l0': 0.21479315672145094, 'n_units_l1': 512, 'activation_l1': 'Tanh', 'dropout_l1': 0.32056508798572536, 'batch_norm_l1': False, 'l2_reg_l1': 4.0914345674758486e-05, 'n_units_l2': 2048, 'activation_l2': 'ReLU', 'dropout_l2': 0.2747696830025859, 'batch_norm_l2': True, 'l2_reg_l2': 0.0006125323173661653, 'optimizer': 'RMSprop', 'lr': 0.00040378279185594485, 'rmsprop_alpha': 0.9737103329382474, 'epochs': 429, 'batch_size': 128, 'early_stopping_patience': 17, 'lr_reduce_factor': 0.23855290753890304, 'lr_reduce_patience': 46, 'min_lr': 6.30607540964921e-06}. Best is trial 247 with value: 0.8903522205206739.\u001b[0m\n"
     ]
    },
    {
     "name": "stdout",
     "output_type": "stream",
     "text": [
      "Early stopping\n",
      "Trial 427 completado. Mejor precisión en validación: 0.8820826952526799\n",
      "Usando GPU para el Trial 428\n",
      "Entrenando Trial 428...\n"
     ]
    },
    {
     "name": "stderr",
     "output_type": "stream",
     "text": [
      "                                                                                                                                                                                                                                                        \r"
     ]
    },
    {
     "name": "stdout",
     "output_type": "stream",
     "text": [
      "Early stopping\n",
      "Trial 428 completado. Mejor precisión en validación: 0.8784073506891271\n"
     ]
    },
    {
     "name": "stderr",
     "output_type": "stream",
     "text": [
      "\u001b[32m[I 2023-11-29 19:49:07,617]\u001b[0m Trial 428 finished with value: 0.8784073506891271 and parameters: {'n_layers': 4, 'n_units_l0': 2048, 'activation_l0': 'LeakyReLU', 'dropout_l0': 0.0938865841820483, 'batch_norm_l0': False, 'l2_reg_l0': 0.0014508119518564868, 'leakyrelu_alpha_l0': 0.2088707118617413, 'n_units_l1': 512, 'activation_l1': 'Tanh', 'dropout_l1': 0.331295078662013, 'batch_norm_l1': False, 'l2_reg_l1': 0.0035193983847109775, 'n_units_l2': 2048, 'activation_l2': 'ReLU', 'dropout_l2': 0.278289009662231, 'batch_norm_l2': True, 'l2_reg_l2': 0.0005303812119773194, 'n_units_l3': 512, 'activation_l3': 'LeakyReLU', 'dropout_l3': 0.009380140840990519, 'batch_norm_l3': True, 'l2_reg_l3': 0.0020194329747614853, 'leakyrelu_alpha_l3': 0.12427212528235895, 'optimizer': 'RMSprop', 'lr': 0.0004750547239878689, 'rmsprop_alpha': 0.9710074839696938, 'epochs': 496, 'batch_size': 128, 'early_stopping_patience': 17, 'lr_reduce_factor': 0.2874464012537463, 'lr_reduce_patience': 45, 'min_lr': 5.181608404789278e-06}. Best is trial 247 with value: 0.8903522205206739.\u001b[0m\n"
     ]
    },
    {
     "name": "stdout",
     "output_type": "stream",
     "text": [
      "Usando GPU para el Trial 429\n",
      "Entrenando Trial 429...\n"
     ]
    },
    {
     "name": "stderr",
     "output_type": "stream",
     "text": [
      "                                                                                                                                                                                                                                                        \r"
     ]
    },
    {
     "name": "stdout",
     "output_type": "stream",
     "text": [
      "Early stopping\n",
      "Trial 429 completado. Mejor precisión en validación: 0.8836140888208269\n"
     ]
    },
    {
     "name": "stderr",
     "output_type": "stream",
     "text": [
      "\u001b[32m[I 2023-11-29 19:50:28,305]\u001b[0m Trial 429 finished with value: 0.8836140888208269 and parameters: {'n_layers': 4, 'n_units_l0': 2048, 'activation_l0': 'LeakyReLU', 'dropout_l0': 0.0808382877629841, 'batch_norm_l0': False, 'l2_reg_l0': 0.0011737679278539675, 'leakyrelu_alpha_l0': 0.2319120228709715, 'n_units_l1': 512, 'activation_l1': 'Tanh', 'dropout_l1': 0.30559759688186605, 'batch_norm_l1': False, 'l2_reg_l1': 2.3429850154690897e-05, 'n_units_l2': 2048, 'activation_l2': 'ReLU', 'dropout_l2': 0.2938756879301339, 'batch_norm_l2': True, 'l2_reg_l2': 0.0007418209238433853, 'n_units_l3': 2048, 'activation_l3': 'LeakyReLU', 'dropout_l3': 0.009308597032522391, 'batch_norm_l3': True, 'l2_reg_l3': 0.0026952708873641145, 'leakyrelu_alpha_l3': 0.12849532648874656, 'optimizer': 'RMSprop', 'lr': 0.00031907816126569447, 'rmsprop_alpha': 0.9763963895002359, 'epochs': 357, 'batch_size': 128, 'early_stopping_patience': 18, 'lr_reduce_factor': 0.32828668720139664, 'lr_reduce_patience': 48, 'min_lr': 3.8639071668847805e-06}. Best is trial 247 with value: 0.8903522205206739.\u001b[0m\n"
     ]
    },
    {
     "name": "stdout",
     "output_type": "stream",
     "text": [
      "Usando GPU para el Trial 430\n",
      "Entrenando Trial 430...\n"
     ]
    },
    {
     "name": "stderr",
     "output_type": "stream",
     "text": [
      "                                                                                                                                                                                                                                                        \r"
     ]
    },
    {
     "name": "stdout",
     "output_type": "stream",
     "text": [
      "Early stopping\n",
      "Trial 430 completado. Mejor precisión en validación: 0.8526799387442573\n"
     ]
    },
    {
     "name": "stderr",
     "output_type": "stream",
     "text": [
      "\u001b[32m[I 2023-11-29 19:51:17,695]\u001b[0m Trial 430 finished with value: 0.8526799387442573 and parameters: {'n_layers': 3, 'n_units_l0': 2048, 'activation_l0': 'LeakyReLU', 'dropout_l0': 0.0951272372205941, 'batch_norm_l0': False, 'l2_reg_l0': 0.001968262135539568, 'leakyrelu_alpha_l0': 0.22690953859676152, 'n_units_l1': 32, 'activation_l1': 'ReLU', 'dropout_l1': 0.33603464730548327, 'batch_norm_l1': False, 'l2_reg_l1': 1.9970849919970473e-05, 'n_units_l2': 2048, 'activation_l2': 'SELU', 'dropout_l2': 0.25877651071916563, 'batch_norm_l2': True, 'l2_reg_l2': 0.0006578515325663057, 'optimizer': 'RMSprop', 'lr': 0.0003458987443394391, 'rmsprop_alpha': 0.9699665170444843, 'epochs': 394, 'batch_size': 128, 'early_stopping_patience': 17, 'lr_reduce_factor': 0.35445505636177854, 'lr_reduce_patience': 45, 'min_lr': 5.247618180722207e-06}. Best is trial 247 with value: 0.8903522205206739.\u001b[0m\n"
     ]
    },
    {
     "name": "stdout",
     "output_type": "stream",
     "text": [
      "Usando GPU para el Trial 431\n",
      "Entrenando Trial 431...\n"
     ]
    },
    {
     "name": "stderr",
     "output_type": "stream",
     "text": [
      "                                                                                                                                                                                                                                                        \r"
     ]
    },
    {
     "name": "stdout",
     "output_type": "stream",
     "text": [
      "Early stopping\n",
      "Trial 431 completado. Mejor precisión en validación: 0.8683001531393568\n"
     ]
    },
    {
     "name": "stderr",
     "output_type": "stream",
     "text": [
      "\u001b[32m[I 2023-11-29 19:52:33,088]\u001b[0m Trial 431 finished with value: 0.8683001531393568 and parameters: {'n_layers': 5, 'n_units_l0': 2048, 'activation_l0': 'LeakyReLU', 'dropout_l0': 0.08241589167038975, 'batch_norm_l0': False, 'l2_reg_l0': 0.001259268940562014, 'leakyrelu_alpha_l0': 0.20135912170937942, 'n_units_l1': 64, 'activation_l1': 'Tanh', 'dropout_l1': 0.32216178165952675, 'batch_norm_l1': False, 'l2_reg_l1': 1.2445092783232491e-05, 'n_units_l2': 2048, 'activation_l2': 'ReLU', 'dropout_l2': 0.2877241995821326, 'batch_norm_l2': True, 'l2_reg_l2': 0.000480449824526463, 'n_units_l3': 2048, 'activation_l3': 'LeakyReLU', 'dropout_l3': 0.0076072430025719, 'batch_norm_l3': True, 'l2_reg_l3': 0.0016818912899646465, 'leakyrelu_alpha_l3': 0.11584486966302979, 'n_units_l4': 256, 'activation_l4': 'LeakyReLU', 'dropout_l4': 0.3667342969816766, 'batch_norm_l4': True, 'l2_reg_l4': 3.293221046676166e-05, 'leakyrelu_alpha_l4': 0.22391648527733293, 'optimizer': 'RMSprop', 'lr': 0.0002487181980757548, 'rmsprop_alpha': 0.9735104633528928, 'epochs': 508, 'batch_size': 128, 'early_stopping_patience': 17, 'lr_reduce_factor': 0.31908247400008377, 'lr_reduce_patience': 46, 'min_lr': 4.226596957581965e-06}. Best is trial 247 with value: 0.8903522205206739.\u001b[0m\n"
     ]
    },
    {
     "name": "stdout",
     "output_type": "stream",
     "text": [
      "Usando GPU para el Trial 432\n",
      "Entrenando Trial 432...\n"
     ]
    },
    {
     "name": "stderr",
     "output_type": "stream",
     "text": [
      "                                                                                                                                                                                                                                                        \r"
     ]
    },
    {
     "name": "stdout",
     "output_type": "stream",
     "text": [
      "Early stopping\n",
      "Trial 432 completado. Mejor precisión en validación: 0.8725880551301685\n"
     ]
    },
    {
     "name": "stderr",
     "output_type": "stream",
     "text": [
      "\u001b[32m[I 2023-11-29 19:53:23,588]\u001b[0m Trial 432 finished with value: 0.8725880551301685 and parameters: {'n_layers': 4, 'n_units_l0': 2048, 'activation_l0': 'LeakyReLU', 'dropout_l0': 0.05894343393711035, 'batch_norm_l0': True, 'l2_reg_l0': 0.0010146009640905438, 'leakyrelu_alpha_l0': 0.2240229862449095, 'n_units_l1': 512, 'activation_l1': 'Tanh', 'dropout_l1': 0.2938967349620474, 'batch_norm_l1': True, 'l2_reg_l1': 0.0013685807383487215, 'n_units_l2': 2048, 'activation_l2': 'ReLU', 'dropout_l2': 0.2704005107006968, 'batch_norm_l2': True, 'l2_reg_l2': 0.00041983495218576633, 'n_units_l3': 2048, 'activation_l3': 'LeakyReLU', 'dropout_l3': 0.01733627074236126, 'batch_norm_l3': True, 'l2_reg_l3': 0.0022451323589415405, 'leakyrelu_alpha_l3': 0.11398228834561056, 'optimizer': 'RMSprop', 'lr': 0.0004257829277962705, 'rmsprop_alpha': 0.9763315654687119, 'epochs': 610, 'batch_size': 128, 'early_stopping_patience': 16, 'lr_reduce_factor': 0.25049833003865973, 'lr_reduce_patience': 44, 'min_lr': 5.832938117749973e-06}. Best is trial 247 with value: 0.8903522205206739.\u001b[0m\n"
     ]
    },
    {
     "name": "stdout",
     "output_type": "stream",
     "text": [
      "Usando GPU para el Trial 433\n",
      "Entrenando Trial 433...\n"
     ]
    },
    {
     "name": "stderr",
     "output_type": "stream",
     "text": [
      "                                                                                                                                                                                                                                                        \r"
     ]
    },
    {
     "name": "stdout",
     "output_type": "stream",
     "text": [
      "Epoch 00075: reducing learning rate of group 0 to 1.4932e-04.\n"
     ]
    },
    {
     "name": "stderr",
     "output_type": "stream",
     "text": [
      "\u001b[32m[I 2023-11-29 19:54:36,200]\u001b[0m Trial 433 finished with value: 0.8814701378254212 and parameters: {'n_layers': 5, 'n_units_l0': 2048, 'activation_l0': 'LeakyReLU', 'dropout_l0': 0.10053276961705808, 'batch_norm_l0': False, 'l2_reg_l0': 0.001004232244360817, 'leakyrelu_alpha_l0': 0.23151907174407343, 'n_units_l1': 2048, 'activation_l1': 'Tanh', 'dropout_l1': 0.31947946659838844, 'batch_norm_l1': False, 'l2_reg_l1': 2.733800069719695e-05, 'n_units_l2': 2048, 'activation_l2': 'ReLU', 'dropout_l2': 0.2822830576426286, 'batch_norm_l2': True, 'l2_reg_l2': 0.0005514713041493693, 'n_units_l3': 2048, 'activation_l3': 'LeakyReLU', 'dropout_l3': 0.006252488851705399, 'batch_norm_l3': True, 'l2_reg_l3': 0.0030779572342499906, 'leakyrelu_alpha_l3': 0.12444073435695807, 'n_units_l4': 512, 'activation_l4': 'LeakyReLU', 'dropout_l4': 0.39647951404356335, 'batch_norm_l4': True, 'l2_reg_l4': 0.0008808957809443745, 'leakyrelu_alpha_l4': 0.22808300883809488, 'optimizer': 'RMSprop', 'lr': 0.0005454424353348113, 'rmsprop_alpha': 0.9806159855355037, 'epochs': 252, 'batch_size': 128, 'early_stopping_patience': 18, 'lr_reduce_factor': 0.27376170956387763, 'lr_reduce_patience': 44, 'min_lr': 4.688225103737639e-06}. Best is trial 247 with value: 0.8903522205206739.\u001b[0m\n"
     ]
    },
    {
     "name": "stdout",
     "output_type": "stream",
     "text": [
      "Early stopping\n",
      "Trial 433 completado. Mejor precisión en validación: 0.8814701378254212\n",
      "Usando GPU para el Trial 434\n",
      "Entrenando Trial 434...\n"
     ]
    },
    {
     "name": "stderr",
     "output_type": "stream",
     "text": [
      "\u001b[32m[I 2023-11-29 19:55:35,329]\u001b[0m Trial 434 finished with value: 0.8162327718223583 and parameters: {'n_layers': 3, 'n_units_l0': 2048, 'activation_l0': 'ReLU', 'dropout_l0': 0.07386409581770435, 'batch_norm_l0': False, 'l2_reg_l0': 0.001383514150453269, 'n_units_l1': 512, 'activation_l1': 'LeakyReLU', 'dropout_l1': 0.3471281274093047, 'batch_norm_l1': False, 'l2_reg_l1': 2.322758922998318e-05, 'leakyrelu_alpha_l1': 0.21789183558148933, 'n_units_l2': 2048, 'activation_l2': 'ReLU', 'dropout_l2': 0.3036936143595614, 'batch_norm_l2': True, 'l2_reg_l2': 0.0007348006041558872, 'optimizer': 'SGD', 'lr': 0.0005961848938116411, 'sgd_momentum': 0.20619191919418706, 'epochs': 560, 'batch_size': 128, 'early_stopping_patience': 18, 'lr_reduce_factor': 0.2593818973203294, 'lr_reduce_patience': 46, 'min_lr': 4.631940873784131e-06}. Best is trial 247 with value: 0.8903522205206739.\u001b[0m\n"
     ]
    },
    {
     "name": "stdout",
     "output_type": "stream",
     "text": [
      "Early stopping\n",
      "Trial 434 completado. Mejor precisión en validación: 0.8162327718223583\n",
      "Usando GPU para el Trial 435\n",
      "Entrenando Trial 435...\n"
     ]
    },
    {
     "name": "stderr",
     "output_type": "stream",
     "text": [
      "                                                                                                                                                                                                                                                        \r"
     ]
    },
    {
     "name": "stdout",
     "output_type": "stream",
     "text": [
      "Epoch 00101: reducing learning rate of group 0 to 1.7556e-04.\n"
     ]
    },
    {
     "name": "stderr",
     "output_type": "stream",
     "text": [
      "\u001b[32m[I 2023-11-29 19:57:08,281]\u001b[0m Trial 435 finished with value: 0.8875957120980091 and parameters: {'n_layers': 4, 'n_units_l0': 2048, 'activation_l0': 'LeakyReLU', 'dropout_l0': 0.08747693061324735, 'batch_norm_l0': False, 'l2_reg_l0': 0.0010786185703716964, 'leakyrelu_alpha_l0': 0.21513892344935603, 'n_units_l1': 512, 'activation_l1': 'Tanh', 'dropout_l1': 0.374856518453154, 'batch_norm_l1': False, 'l2_reg_l1': 5.5109323898228785e-05, 'n_units_l2': 2048, 'activation_l2': 'ReLU', 'dropout_l2': 0.2553118177261502, 'batch_norm_l2': True, 'l2_reg_l2': 0.00044508028533444464, 'n_units_l3': 2048, 'activation_l3': 'LeakyReLU', 'dropout_l3': 0.016825143460832873, 'batch_norm_l3': True, 'l2_reg_l3': 0.002354216347703787, 'leakyrelu_alpha_l3': 0.1339549213572067, 'optimizer': 'RMSprop', 'lr': 0.00047715344985233276, 'rmsprop_alpha': 0.9721263421201269, 'epochs': 354, 'batch_size': 128, 'early_stopping_patience': 18, 'lr_reduce_factor': 0.36794190918873454, 'lr_reduce_patience': 47, 'min_lr': 5.29268355440289e-06}. Best is trial 247 with value: 0.8903522205206739.\u001b[0m\n"
     ]
    },
    {
     "name": "stdout",
     "output_type": "stream",
     "text": [
      "Early stopping\n",
      "Trial 435 completado. Mejor precisión en validación: 0.8875957120980091\n",
      "Usando GPU para el Trial 436\n",
      "Entrenando Trial 436...\n"
     ]
    },
    {
     "name": "stderr",
     "output_type": "stream",
     "text": [
      "                                                                                                                                                                                                                                                        \r"
     ]
    },
    {
     "name": "stdout",
     "output_type": "stream",
     "text": [
      "Early stopping\n",
      "Trial 436 completado. Mejor precisión en validación: 0.678407350689127\n"
     ]
    },
    {
     "name": "stderr",
     "output_type": "stream",
     "text": [
      "\u001b[32m[I 2023-11-29 19:58:15,700]\u001b[0m Trial 436 finished with value: 0.678407350689127 and parameters: {'n_layers': 36, 'n_units_l0': 2048, 'activation_l0': 'LeakyReLU', 'dropout_l0': 0.10569242726887913, 'batch_norm_l0': False, 'l2_reg_l0': 0.001478413199720439, 'leakyrelu_alpha_l0': 0.2251144825183702, 'n_units_l1': 512, 'activation_l1': 'Tanh', 'dropout_l1': 0.3742852503744377, 'batch_norm_l1': False, 'l2_reg_l1': 4.42174094236697e-05, 'n_units_l2': 2048, 'activation_l2': 'ReLU', 'dropout_l2': 0.2582348679777005, 'batch_norm_l2': True, 'l2_reg_l2': 0.0004704591640329513, 'n_units_l3': 2048, 'activation_l3': 'LeakyReLU', 'dropout_l3': 0.013057259194591763, 'batch_norm_l3': True, 'l2_reg_l3': 0.0023194391392698448, 'leakyrelu_alpha_l3': 0.12987578578964382, 'n_units_l4': 128, 'activation_l4': 'LeakyReLU', 'dropout_l4': 0.33982079720734176, 'batch_norm_l4': True, 'l2_reg_l4': 0.0005419463898121205, 'leakyrelu_alpha_l4': 0.2653295950339673, 'n_units_l5': 256, 'activation_l5': 'Tanh', 'dropout_l5': 0.20095650844561358, 'batch_norm_l5': True, 'l2_reg_l5': 0.000637707278263142, 'n_units_l6': 128, 'activation_l6': 'ReLU', 'dropout_l6': 0.22183974988936683, 'batch_norm_l6': False, 'l2_reg_l6': 0.000656937910794571, 'n_units_l7': 128, 'activation_l7': 'ELU', 'dropout_l7': 0.07538066769780988, 'batch_norm_l7': False, 'l2_reg_l7': 0.08977809185369871, 'n_units_l8': 32, 'activation_l8': 'Tanh', 'dropout_l8': 0.13007242175798467, 'batch_norm_l8': True, 'l2_reg_l8': 0.01405367312305426, 'n_units_l9': 128, 'activation_l9': 'SELU', 'dropout_l9': 0.4658326740862107, 'batch_norm_l9': True, 'l2_reg_l9': 0.04268190427410543, 'n_units_l10': 32, 'activation_l10': 'ELU', 'dropout_l10': 0.27866770587196976, 'batch_norm_l10': True, 'l2_reg_l10': 0.0258909182365388, 'n_units_l11': 2048, 'activation_l11': 'LeakyReLU', 'dropout_l11': 0.49971660995547984, 'batch_norm_l11': False, 'l2_reg_l11': 0.01628068800026035, 'leakyrelu_alpha_l11': 0.06264666508163486, 'n_units_l12': 256, 'activation_l12': 'ReLU', 'dropout_l12': 0.18381354812360046, 'batch_norm_l12': True, 'l2_reg_l12': 0.00010113152334959885, 'n_units_l13': 512, 'activation_l13': 'ReLU', 'dropout_l13': 0.027780642154830504, 'batch_norm_l13': True, 'l2_reg_l13': 0.006342032775150361, 'n_units_l14': 16, 'activation_l14': 'Tanh', 'dropout_l14': 0.3957650038942024, 'batch_norm_l14': True, 'l2_reg_l14': 0.013677443085748846, 'n_units_l15': 32, 'activation_l15': 'LeakyReLU', 'dropout_l15': 0.3419693640095611, 'batch_norm_l15': False, 'l2_reg_l15': 0.003928391886398035, 'leakyrelu_alpha_l15': 0.05572703692110294, 'n_units_l16': 64, 'activation_l16': 'LeakyReLU', 'dropout_l16': 0.4496814711124395, 'batch_norm_l16': False, 'l2_reg_l16': 9.192715444624659e-05, 'leakyrelu_alpha_l16': 0.22226551507830844, 'n_units_l17': 2048, 'activation_l17': 'LeakyReLU', 'dropout_l17': 0.26959012133710863, 'batch_norm_l17': True, 'l2_reg_l17': 0.014425430975208408, 'leakyrelu_alpha_l17': 0.20358543400536985, 'n_units_l18': 16, 'activation_l18': 'SELU', 'dropout_l18': 0.039668648445363164, 'batch_norm_l18': True, 'l2_reg_l18': 0.03522777885783125, 'n_units_l19': 1024, 'activation_l19': 'LeakyReLU', 'dropout_l19': 0.07505388757475612, 'batch_norm_l19': True, 'l2_reg_l19': 0.012578174552570364, 'leakyrelu_alpha_l19': 0.16720405912945946, 'n_units_l20': 256, 'activation_l20': 'SELU', 'dropout_l20': 0.45439890446433734, 'batch_norm_l20': False, 'l2_reg_l20': 1.0558272730033979e-05, 'n_units_l21': 128, 'activation_l21': 'SELU', 'dropout_l21': 0.30543051850972763, 'batch_norm_l21': False, 'l2_reg_l21': 0.0399797464233191, 'n_units_l22': 512, 'activation_l22': 'ReLU', 'dropout_l22': 0.22806002447518298, 'batch_norm_l22': False, 'l2_reg_l22': 0.00017948499068552737, 'n_units_l23': 1024, 'activation_l23': 'ReLU', 'dropout_l23': 0.413458940430549, 'batch_norm_l23': True, 'l2_reg_l23': 0.020208483241769524, 'n_units_l24': 2048, 'activation_l24': 'LeakyReLU', 'dropout_l24': 0.3476867071721873, 'batch_norm_l24': True, 'l2_reg_l24': 0.002116778450581359, 'leakyrelu_alpha_l24': 0.2775647368024612, 'n_units_l25': 2048, 'activation_l25': 'ELU', 'dropout_l25': 0.33974834157283645, 'batch_norm_l25': True, 'l2_reg_l25': 0.002527845345598582, 'n_units_l26': 32, 'activation_l26': 'ReLU', 'dropout_l26': 0.07252240577939689, 'batch_norm_l26': False, 'l2_reg_l26': 0.0005486752031348321, 'n_units_l27': 1024, 'activation_l27': 'ReLU', 'dropout_l27': 0.49773357090585735, 'batch_norm_l27': True, 'l2_reg_l27': 0.0033676437035604274, 'n_units_l28': 64, 'activation_l28': 'ReLU', 'dropout_l28': 0.29126362546513734, 'batch_norm_l28': False, 'l2_reg_l28': 0.09166847651288522, 'n_units_l29': 512, 'activation_l29': 'Tanh', 'dropout_l29': 0.22447760236364223, 'batch_norm_l29': False, 'l2_reg_l29': 4.66250491990623e-05, 'n_units_l30': 16, 'activation_l30': 'SELU', 'dropout_l30': 0.1761106547332289, 'batch_norm_l30': False, 'l2_reg_l30': 0.003427547541463936, 'n_units_l31': 512, 'activation_l31': 'Tanh', 'dropout_l31': 0.08452074017937866, 'batch_norm_l31': False, 'l2_reg_l31': 0.004132445734782256, 'n_units_l32': 512, 'activation_l32': 'ReLU', 'dropout_l32': 0.434282156096932, 'batch_norm_l32': False, 'l2_reg_l32': 9.520764157036316e-05, 'n_units_l33': 32, 'activation_l33': 'LeakyReLU', 'dropout_l33': 0.26924994309331746, 'batch_norm_l33': True, 'l2_reg_l33': 3.6776467581222346e-05, 'leakyrelu_alpha_l33': 0.294487083201163, 'n_units_l34': 1024, 'activation_l34': 'Tanh', 'dropout_l34': 0.29525017341246895, 'batch_norm_l34': True, 'l2_reg_l34': 0.010926631864832998, 'n_units_l35': 128, 'activation_l35': 'ELU', 'dropout_l35': 0.30436548699095045, 'batch_norm_l35': False, 'l2_reg_l35': 0.0021557589308599957, 'optimizer': 'RMSprop', 'lr': 0.0004279042738733058, 'rmsprop_alpha': 0.9711442535381745, 'epochs': 470, 'batch_size': 128, 'early_stopping_patience': 18, 'lr_reduce_factor': 0.33074674651569086, 'lr_reduce_patience': 43, 'min_lr': 5.092237447848204e-06}. Best is trial 247 with value: 0.8903522205206739.\u001b[0m\n"
     ]
    },
    {
     "name": "stdout",
     "output_type": "stream",
     "text": [
      "Usando GPU para el Trial 437\n",
      "Entrenando Trial 437...\n"
     ]
    },
    {
     "name": "stderr",
     "output_type": "stream",
     "text": [
      "\u001b[32m[I 2023-11-29 19:58:43,813]\u001b[0m Trial 437 finished with value: 0.8468606431852986 and parameters: {'n_layers': 2, 'n_units_l0': 2048, 'activation_l0': 'LeakyReLU', 'dropout_l0': 0.08061712341532232, 'batch_norm_l0': False, 'l2_reg_l0': 0.0009433857769301462, 'leakyrelu_alpha_l0': 0.21126728247810517, 'n_units_l1': 16, 'activation_l1': 'Tanh', 'dropout_l1': 0.36051743049145185, 'batch_norm_l1': False, 'l2_reg_l1': 3.50565620272948e-05, 'optimizer': 'RMSprop', 'lr': 0.00047925287459687, 'rmsprop_alpha': 0.9287231292105829, 'epochs': 272, 'batch_size': 128, 'early_stopping_patience': 18, 'lr_reduce_factor': 0.3719994284004005, 'lr_reduce_patience': 50, 'min_lr': 4.2689341677428e-06}. Best is trial 247 with value: 0.8903522205206739.\u001b[0m\n"
     ]
    },
    {
     "name": "stdout",
     "output_type": "stream",
     "text": [
      "Early stopping\n",
      "Trial 437 completado. Mejor precisión en validación: 0.8468606431852986\n",
      "Usando GPU para el Trial 438\n",
      "Entrenando Trial 438...\n"
     ]
    },
    {
     "name": "stderr",
     "output_type": "stream",
     "text": [
      "\u001b[32m[I 2023-11-29 19:59:21,254]\u001b[0m Trial 438 finished with value: 0.8698315467075038 and parameters: {'n_layers': 3, 'n_units_l0': 2048, 'activation_l0': 'ELU', 'dropout_l0': 0.09562599883951464, 'batch_norm_l0': False, 'l2_reg_l0': 0.0012081619514258083, 'n_units_l1': 512, 'activation_l1': 'Tanh', 'dropout_l1': 0.3051076843336365, 'batch_norm_l1': False, 'l2_reg_l1': 3.627785952088738e-05, 'n_units_l2': 2048, 'activation_l2': 'ReLU', 'dropout_l2': 0.246135880224375, 'batch_norm_l2': True, 'l2_reg_l2': 0.0006249197942759139, 'optimizer': 'RMSprop', 'lr': 0.00034389986257922224, 'rmsprop_alpha': 0.9735308891112571, 'epochs': 320, 'batch_size': 128, 'early_stopping_patience': 15, 'lr_reduce_factor': 0.22163570852310333, 'lr_reduce_patience': 48, 'min_lr': 4.881803392314909e-06}. Best is trial 247 with value: 0.8903522205206739.\u001b[0m\n"
     ]
    },
    {
     "name": "stdout",
     "output_type": "stream",
     "text": [
      "Early stopping\n",
      "Trial 438 completado. Mejor precisión en validación: 0.8698315467075038\n",
      "Usando GPU para el Trial 439\n",
      "Entrenando Trial 439...\n"
     ]
    },
    {
     "name": "stderr",
     "output_type": "stream",
     "text": [
      "\u001b[32m[I 2023-11-29 20:00:31,379]\u001b[0m Trial 439 finished with value: 0.8732006125574273 and parameters: {'n_layers': 4, 'n_units_l0': 128, 'activation_l0': 'LeakyReLU', 'dropout_l0': 0.06621712101618557, 'batch_norm_l0': False, 'l2_reg_l0': 0.0009998610451099229, 'leakyrelu_alpha_l0': 0.207971140503429, 'n_units_l1': 512, 'activation_l1': 'Tanh', 'dropout_l1': 0.3742750942639119, 'batch_norm_l1': False, 'l2_reg_l1': 1.6532680217198272e-05, 'n_units_l2': 2048, 'activation_l2': 'ReLU', 'dropout_l2': 0.27086916741830275, 'batch_norm_l2': True, 'l2_reg_l2': 0.0009174455736027747, 'n_units_l3': 2048, 'activation_l3': 'LeakyReLU', 'dropout_l3': 0.017442862659024668, 'batch_norm_l3': True, 'l2_reg_l3': 0.0019788220696858477, 'leakyrelu_alpha_l3': 0.13582174324653357, 'optimizer': 'RMSprop', 'lr': 0.0005153553437652734, 'rmsprop_alpha': 0.9688787115755092, 'epochs': 438, 'batch_size': 128, 'early_stopping_patience': 18, 'lr_reduce_factor': 0.27983621381973134, 'lr_reduce_patience': 47, 'min_lr': 5.429078040333487e-06}. Best is trial 247 with value: 0.8903522205206739.\u001b[0m\n"
     ]
    },
    {
     "name": "stdout",
     "output_type": "stream",
     "text": [
      "Early stopping\n",
      "Trial 439 completado. Mejor precisión en validación: 0.8732006125574273\n",
      "Usando GPU para el Trial 440\n",
      "Entrenando Trial 440...\n"
     ]
    },
    {
     "name": "stderr",
     "output_type": "stream",
     "text": [
      "                                                                                                                                                                                                                                                        \r"
     ]
    },
    {
     "name": "stdout",
     "output_type": "stream",
     "text": [
      "Early stopping\n",
      "Trial 440 completado. Mejor precisión en validación: 0.8633996937212863\n"
     ]
    },
    {
     "name": "stderr",
     "output_type": "stream",
     "text": [
      "\u001b[32m[I 2023-11-29 20:00:58,177]\u001b[0m Trial 440 finished with value: 0.8633996937212863 and parameters: {'n_layers': 5, 'n_units_l0': 2048, 'activation_l0': 'LeakyReLU', 'dropout_l0': 0.08875710042678807, 'batch_norm_l0': False, 'l2_reg_l0': 0.0016197594345711123, 'leakyrelu_alpha_l0': 0.21713342070534522, 'n_units_l1': 128, 'activation_l1': 'Tanh', 'dropout_l1': 0.34537561774408226, 'batch_norm_l1': False, 'l2_reg_l1': 2.006859618581231e-05, 'n_units_l2': 2048, 'activation_l2': 'ReLU', 'dropout_l2': 0.28943174717425474, 'batch_norm_l2': True, 'l2_reg_l2': 0.0003962792992569535, 'n_units_l3': 2048, 'activation_l3': 'LeakyReLU', 'dropout_l3': 0.002373816762060235, 'batch_norm_l3': True, 'l2_reg_l3': 0.0024516941629226375, 'leakyrelu_alpha_l3': 0.12020028515744058, 'n_units_l4': 32, 'activation_l4': 'LeakyReLU', 'dropout_l4': 0.3499314889784385, 'batch_norm_l4': True, 'l2_reg_l4': 3.9709334437857394e-05, 'leakyrelu_alpha_l4': 0.2757460708361448, 'optimizer': 'RMSprop', 'lr': 0.00027769968136353624, 'rmsprop_alpha': 0.9386232559827292, 'epochs': 346, 'batch_size': 1024, 'early_stopping_patience': 17, 'lr_reduce_factor': 0.3397728235935135, 'lr_reduce_patience': 44, 'min_lr': 4.176364467674818e-06}. Best is trial 247 with value: 0.8903522205206739.\u001b[0m\n"
     ]
    },
    {
     "name": "stdout",
     "output_type": "stream",
     "text": [
      "Usando GPU para el Trial 441\n",
      "Entrenando Trial 441...\n"
     ]
    },
    {
     "name": "stderr",
     "output_type": "stream",
     "text": [
      "\u001b[32m[I 2023-11-29 20:01:45,232]\u001b[0m Trial 441 finished with value: 0.8701378254211333 and parameters: {'n_layers': 4, 'n_units_l0': 2048, 'activation_l0': 'LeakyReLU', 'dropout_l0': 0.055524580073854454, 'batch_norm_l0': False, 'l2_reg_l0': 0.0017346624545870415, 'leakyrelu_alpha_l0': 0.20364371840536397, 'n_units_l1': 512, 'activation_l1': 'ELU', 'dropout_l1': 0.3603589982940466, 'batch_norm_l1': False, 'l2_reg_l1': 4.149725538330773e-05, 'n_units_l2': 2048, 'activation_l2': 'ReLU', 'dropout_l2': 0.27798129257844684, 'batch_norm_l2': True, 'l2_reg_l2': 0.0007904017187966758, 'n_units_l3': 2048, 'activation_l3': 'LeakyReLU', 'dropout_l3': 0.003522510515714776, 'batch_norm_l3': True, 'l2_reg_l3': 0.0017024253631434485, 'leakyrelu_alpha_l3': 0.13706757702845437, 'optimizer': 'RMSprop', 'lr': 0.00038369999987764676, 'rmsprop_alpha': 0.9758131448456538, 'epochs': 405, 'batch_size': 128, 'early_stopping_patience': 18, 'lr_reduce_factor': 0.28978332405368307, 'lr_reduce_patience': 47, 'min_lr': 7.9775559696395e-06}. Best is trial 247 with value: 0.8903522205206739.\u001b[0m\n"
     ]
    },
    {
     "name": "stdout",
     "output_type": "stream",
     "text": [
      "Early stopping\n",
      "Trial 441 completado. Mejor precisión en validación: 0.8701378254211333\n",
      "Usando GPU para el Trial 442\n",
      "Entrenando Trial 442...\n"
     ]
    },
    {
     "name": "stderr",
     "output_type": "stream",
     "text": [
      "\u001b[32m[I 2023-11-29 20:02:38,108]\u001b[0m Trial 442 finished with value: 0.8796324655436447 and parameters: {'n_layers': 2, 'n_units_l0': 2048, 'activation_l0': 'LeakyReLU', 'dropout_l0': 0.07784954870052264, 'batch_norm_l0': False, 'l2_reg_l0': 0.0017516857170912872, 'leakyrelu_alpha_l0': 0.21680365428272413, 'n_units_l1': 512, 'activation_l1': 'Tanh', 'dropout_l1': 0.3325328973201848, 'batch_norm_l1': False, 'l2_reg_l1': 3.981099141096074e-05, 'optimizer': 'RMSprop', 'lr': 0.0006044097970636976, 'rmsprop_alpha': 0.9719019148771768, 'epochs': 228, 'batch_size': 128, 'early_stopping_patience': 18, 'lr_reduce_factor': 0.3672898406530942, 'lr_reduce_patience': 45, 'min_lr': 1.4612336704719912e-06}. Best is trial 247 with value: 0.8903522205206739.\u001b[0m\n"
     ]
    },
    {
     "name": "stdout",
     "output_type": "stream",
     "text": [
      "Early stopping\n",
      "Trial 442 completado. Mejor precisión en validación: 0.8796324655436447\n",
      "Usando GPU para el Trial 443\n",
      "Entrenando Trial 443...\n"
     ]
    },
    {
     "name": "stderr",
     "output_type": "stream",
     "text": [
      "                                                                                                                                                                                                                                                        \r"
     ]
    },
    {
     "name": "stdout",
     "output_type": "stream",
     "text": [
      "Early stopping\n",
      "Trial 443 completado. Mejor precisión en validación: 0.8199081163859112\n"
     ]
    },
    {
     "name": "stderr",
     "output_type": "stream",
     "text": [
      "\u001b[32m[I 2023-11-29 20:04:56,769]\u001b[0m Trial 443 finished with value: 0.8199081163859112 and parameters: {'n_layers': 31, 'n_units_l0': 16, 'activation_l0': 'LeakyReLU', 'dropout_l0': 0.06638684546792363, 'batch_norm_l0': False, 'l2_reg_l0': 0.0012282930606650447, 'leakyrelu_alpha_l0': 0.2242517061077963, 'n_units_l1': 512, 'activation_l1': 'Tanh', 'dropout_l1': 0.37010915739953887, 'batch_norm_l1': False, 'l2_reg_l1': 3.353878831168302e-05, 'n_units_l2': 2048, 'activation_l2': 'LeakyReLU', 'dropout_l2': 0.26007760483730125, 'batch_norm_l2': True, 'l2_reg_l2': 0.0003176699094805265, 'leakyrelu_alpha_l2': 0.15125248283227594, 'n_units_l3': 2048, 'activation_l3': 'LeakyReLU', 'dropout_l3': 0.019622616832025673, 'batch_norm_l3': True, 'l2_reg_l3': 0.002863599045420575, 'leakyrelu_alpha_l3': 0.11326875825206914, 'n_units_l4': 64, 'activation_l4': 'ELU', 'dropout_l4': 0.3368663615564488, 'batch_norm_l4': True, 'l2_reg_l4': 3.332257609800948e-05, 'n_units_l5': 256, 'activation_l5': 'Tanh', 'dropout_l5': 0.1269663154336863, 'batch_norm_l5': False, 'l2_reg_l5': 0.0003279135786016952, 'n_units_l6': 256, 'activation_l6': 'Tanh', 'dropout_l6': 0.2754551100862443, 'batch_norm_l6': False, 'l2_reg_l6': 0.002377673242096568, 'n_units_l7': 2048, 'activation_l7': 'Tanh', 'dropout_l7': 0.45135188958057876, 'batch_norm_l7': False, 'l2_reg_l7': 0.000141929275797198, 'n_units_l8': 512, 'activation_l8': 'ReLU', 'dropout_l8': 0.12558533992685372, 'batch_norm_l8': True, 'l2_reg_l8': 0.08012551175059505, 'n_units_l9': 256, 'activation_l9': 'ELU', 'dropout_l9': 0.26879261688773737, 'batch_norm_l9': False, 'l2_reg_l9': 0.0016973257971633203, 'n_units_l10': 1024, 'activation_l10': 'ReLU', 'dropout_l10': 0.35703032387817263, 'batch_norm_l10': False, 'l2_reg_l10': 0.0008451021542637, 'n_units_l11': 256, 'activation_l11': 'SELU', 'dropout_l11': 0.3234816799991792, 'batch_norm_l11': True, 'l2_reg_l11': 5.373464943982024e-05, 'n_units_l12': 128, 'activation_l12': 'Tanh', 'dropout_l12': 0.47157330334992775, 'batch_norm_l12': False, 'l2_reg_l12': 0.0003213226930649732, 'n_units_l13': 64, 'activation_l13': 'ELU', 'dropout_l13': 0.09987359912522442, 'batch_norm_l13': False, 'l2_reg_l13': 0.0008521932038970595, 'n_units_l14': 512, 'activation_l14': 'LeakyReLU', 'dropout_l14': 0.2567524210284486, 'batch_norm_l14': False, 'l2_reg_l14': 0.06413261017485673, 'leakyrelu_alpha_l14': 0.22837412169447818, 'n_units_l15': 1024, 'activation_l15': 'SELU', 'dropout_l15': 0.001624301661606653, 'batch_norm_l15': True, 'l2_reg_l15': 2.794917381600529e-05, 'n_units_l16': 1024, 'activation_l16': 'SELU', 'dropout_l16': 0.32926039882193386, 'batch_norm_l16': True, 'l2_reg_l16': 4.32418517899588e-05, 'n_units_l17': 128, 'activation_l17': 'ELU', 'dropout_l17': 0.1415349649565547, 'batch_norm_l17': False, 'l2_reg_l17': 0.00043300385787434497, 'n_units_l18': 2048, 'activation_l18': 'Tanh', 'dropout_l18': 0.4565999226599565, 'batch_norm_l18': False, 'l2_reg_l18': 0.06662195605066122, 'n_units_l19': 512, 'activation_l19': 'ELU', 'dropout_l19': 0.09150745691885703, 'batch_norm_l19': False, 'l2_reg_l19': 0.043391952446319444, 'n_units_l20': 32, 'activation_l20': 'ReLU', 'dropout_l20': 0.3152337247112855, 'batch_norm_l20': True, 'l2_reg_l20': 0.00026148961497531406, 'n_units_l21': 64, 'activation_l21': 'Tanh', 'dropout_l21': 0.46067707174077843, 'batch_norm_l21': True, 'l2_reg_l21': 0.006512930712470788, 'n_units_l22': 32, 'activation_l22': 'LeakyReLU', 'dropout_l22': 0.056203036963447695, 'batch_norm_l22': True, 'l2_reg_l22': 2.254140358391547e-05, 'leakyrelu_alpha_l22': 0.11425884084497373, 'n_units_l23': 512, 'activation_l23': 'LeakyReLU', 'dropout_l23': 0.44647279124513684, 'batch_norm_l23': False, 'l2_reg_l23': 0.009648852467159146, 'leakyrelu_alpha_l23': 0.106252319804398, 'n_units_l24': 32, 'activation_l24': 'Tanh', 'dropout_l24': 0.26654194676228593, 'batch_norm_l24': False, 'l2_reg_l24': 0.037187225981486646, 'n_units_l25': 256, 'activation_l25': 'ReLU', 'dropout_l25': 0.2260120696137033, 'batch_norm_l25': True, 'l2_reg_l25': 0.0010367422920978368, 'n_units_l26': 16, 'activation_l26': 'Tanh', 'dropout_l26': 0.3028136195486307, 'batch_norm_l26': False, 'l2_reg_l26': 0.002147261792007415, 'n_units_l27': 32, 'activation_l27': 'SELU', 'dropout_l27': 0.16342772994999047, 'batch_norm_l27': False, 'l2_reg_l27': 0.0006210609519660886, 'n_units_l28': 16, 'activation_l28': 'LeakyReLU', 'dropout_l28': 0.4525449855668046, 'batch_norm_l28': True, 'l2_reg_l28': 0.03162249054171723, 'leakyrelu_alpha_l28': 0.14733780661096066, 'n_units_l29': 1024, 'activation_l29': 'LeakyReLU', 'dropout_l29': 0.2900969416901736, 'batch_norm_l29': False, 'l2_reg_l29': 0.0006809813759888299, 'leakyrelu_alpha_l29': 0.28781891875411414, 'n_units_l30': 64, 'activation_l30': 'LeakyReLU', 'dropout_l30': 0.47078699602199653, 'batch_norm_l30': True, 'l2_reg_l30': 3.068326606028729e-05, 'leakyrelu_alpha_l30': 0.2932938990427163, 'optimizer': 'RMSprop', 'lr': 0.0004401214217150074, 'rmsprop_alpha': 0.9786952053298883, 'epochs': 450, 'batch_size': 128, 'early_stopping_patience': 17, 'lr_reduce_factor': 0.30292235104646803, 'lr_reduce_patience': 48, 'min_lr': 5.488115620598572e-06}. Best is trial 247 with value: 0.8903522205206739.\u001b[0m\n"
     ]
    },
    {
     "name": "stdout",
     "output_type": "stream",
     "text": [
      "Usando GPU para el Trial 444\n",
      "Entrenando Trial 444...\n"
     ]
    },
    {
     "name": "stderr",
     "output_type": "stream",
     "text": [
      "                                                                                                                                                                                                                                                        \r"
     ]
    },
    {
     "name": "stdout",
     "output_type": "stream",
     "text": [
      "Early stopping\n",
      "Trial 444 completado. Mejor precisión en validación: 0.8796324655436447\n"
     ]
    },
    {
     "name": "stderr",
     "output_type": "stream",
     "text": [
      "\u001b[32m[I 2023-11-29 20:05:52,174]\u001b[0m Trial 444 finished with value: 0.8796324655436447 and parameters: {'n_layers': 3, 'n_units_l0': 2048, 'activation_l0': 'LeakyReLU', 'dropout_l0': 0.08690557906814533, 'batch_norm_l0': False, 'l2_reg_l0': 0.0009299974542448662, 'leakyrelu_alpha_l0': 0.23099618727949156, 'n_units_l1': 512, 'activation_l1': 'Tanh', 'dropout_l1': 0.38359281266384376, 'batch_norm_l1': False, 'l2_reg_l1': 0.002883320546697556, 'n_units_l2': 2048, 'activation_l2': 'ReLU', 'dropout_l2': 0.2980189399370207, 'batch_norm_l2': True, 'l2_reg_l2': 0.0005996912772754118, 'optimizer': 'RMSprop', 'lr': 0.00029918506290205687, 'rmsprop_alpha': 0.9701659064250276, 'epochs': 517, 'batch_size': 128, 'early_stopping_patience': 18, 'lr_reduce_factor': 0.31092892481484186, 'lr_reduce_patience': 45, 'min_lr': 4.709446580107726e-06}. Best is trial 247 with value: 0.8903522205206739.\u001b[0m\n"
     ]
    },
    {
     "name": "stdout",
     "output_type": "stream",
     "text": [
      "Usando GPU para el Trial 445\n",
      "Entrenando Trial 445...\n"
     ]
    },
    {
     "name": "stderr",
     "output_type": "stream",
     "text": [
      "                                                                                                                                                                                                                                                        \r"
     ]
    },
    {
     "name": "stdout",
     "output_type": "stream",
     "text": [
      "Early stopping\n",
      "Trial 445 completado. Mejor precisión en validación: 0.8508422664624808\n"
     ]
    },
    {
     "name": "stderr",
     "output_type": "stream",
     "text": [
      "\u001b[32m[I 2023-11-29 20:09:01,294]\u001b[0m Trial 445 finished with value: 0.8508422664624808 and parameters: {'n_layers': 5, 'n_units_l0': 2048, 'activation_l0': 'LeakyReLU', 'dropout_l0': 0.10696049640924987, 'batch_norm_l0': False, 'l2_reg_l0': 0.0008742730451461626, 'leakyrelu_alpha_l0': 0.2215255324866187, 'n_units_l1': 512, 'activation_l1': 'Tanh', 'dropout_l1': 0.3246683467240363, 'batch_norm_l1': False, 'l2_reg_l1': 3.121255174154269e-05, 'n_units_l2': 2048, 'activation_l2': 'SELU', 'dropout_l2': 0.24166340980560258, 'batch_norm_l2': True, 'l2_reg_l2': 0.0005345787426103555, 'n_units_l3': 2048, 'activation_l3': 'LeakyReLU', 'dropout_l3': 0.277195906190271, 'batch_norm_l3': True, 'l2_reg_l3': 0.001447266092001949, 'leakyrelu_alpha_l3': 0.13059666283374302, 'n_units_l4': 64, 'activation_l4': 'LeakyReLU', 'dropout_l4': 0.4619718376741386, 'batch_norm_l4': True, 'l2_reg_l4': 0.0006484118498113387, 'leakyrelu_alpha_l4': 0.25888139520523856, 'optimizer': 'RMSprop', 'lr': 2.1074658489628637e-05, 'rmsprop_alpha': 0.9744568265334832, 'epochs': 297, 'batch_size': 64, 'early_stopping_patience': 18, 'lr_reduce_factor': 0.34290318934532094, 'lr_reduce_patience': 43, 'min_lr': 1.5052579943929755e-06}. Best is trial 247 with value: 0.8903522205206739.\u001b[0m\n"
     ]
    },
    {
     "name": "stdout",
     "output_type": "stream",
     "text": [
      "Usando GPU para el Trial 446\n",
      "Entrenando Trial 446...\n"
     ]
    },
    {
     "name": "stderr",
     "output_type": "stream",
     "text": [
      "                                                                                                                                                                                                                                                        \r"
     ]
    },
    {
     "name": "stdout",
     "output_type": "stream",
     "text": [
      "Early stopping\n",
      "Trial 446 completado. Mejor precisión en validación: 0.8664624808575804\n"
     ]
    },
    {
     "name": "stderr",
     "output_type": "stream",
     "text": [
      "\u001b[32m[I 2023-11-29 20:09:40,968]\u001b[0m Trial 446 finished with value: 0.8664624808575804 and parameters: {'n_layers': 6, 'n_units_l0': 256, 'activation_l0': 'ReLU', 'dropout_l0': 0.05201154632049884, 'batch_norm_l0': False, 'l2_reg_l0': 0.0011257334999941798, 'n_units_l1': 512, 'activation_l1': 'Tanh', 'dropout_l1': 0.23338994329142487, 'batch_norm_l1': False, 'l2_reg_l1': 3.080161799954179e-05, 'n_units_l2': 2048, 'activation_l2': 'ReLU', 'dropout_l2': 0.26645598667255216, 'batch_norm_l2': True, 'l2_reg_l2': 0.00043200768838189867, 'n_units_l3': 2048, 'activation_l3': 'LeakyReLU', 'dropout_l3': 0.025257772171794236, 'batch_norm_l3': True, 'l2_reg_l3': 0.0020910026306936954, 'leakyrelu_alpha_l3': 0.14359603333599186, 'n_units_l4': 1024, 'activation_l4': 'LeakyReLU', 'dropout_l4': 0.3551497775331174, 'batch_norm_l4': True, 'l2_reg_l4': 2.0651917832535136e-05, 'leakyrelu_alpha_l4': 0.21937924728259092, 'n_units_l5': 256, 'activation_l5': 'Tanh', 'dropout_l5': 0.23245930226572212, 'batch_norm_l5': True, 'l2_reg_l5': 0.0002812207527765882, 'optimizer': 'RMSprop', 'lr': 0.00015546599407629795, 'rmsprop_alpha': 0.963174156049742, 'epochs': 349, 'batch_size': 128, 'early_stopping_patience': 9, 'lr_reduce_factor': 0.2157779128600878, 'lr_reduce_patience': 46, 'min_lr': 1.553423232413853e-06}. Best is trial 247 with value: 0.8903522205206739.\u001b[0m\n"
     ]
    },
    {
     "name": "stdout",
     "output_type": "stream",
     "text": [
      "Usando GPU para el Trial 447\n",
      "Entrenando Trial 447...\n"
     ]
    },
    {
     "name": "stderr",
     "output_type": "stream",
     "text": [
      "                                                                                                                                                                                                                                                        \r"
     ]
    },
    {
     "name": "stdout",
     "output_type": "stream",
     "text": [
      "Epoch 00081: reducing learning rate of group 0 to 1.4541e-04.\n"
     ]
    },
    {
     "name": "stderr",
     "output_type": "stream",
     "text": [
      "                                                                                                                                                                                                                                                        \r"
     ]
    },
    {
     "name": "stdout",
     "output_type": "stream",
     "text": [
      "Early stopping\n",
      "Trial 447 completado. Mejor precisión en validación: 0.8869831546707504\n"
     ]
    },
    {
     "name": "stderr",
     "output_type": "stream",
     "text": [
      "\u001b[32m[I 2023-11-29 20:11:11,500]\u001b[0m Trial 447 finished with value: 0.8869831546707504 and parameters: {'n_layers': 5, 'n_units_l0': 2048, 'activation_l0': 'LeakyReLU', 'dropout_l0': 0.07572214314563676, 'batch_norm_l0': False, 'l2_reg_l0': 0.0014005303236354863, 'leakyrelu_alpha_l0': 0.21457626404155386, 'n_units_l1': 512, 'activation_l1': 'Tanh', 'dropout_l1': 0.40348596281207666, 'batch_norm_l1': False, 'l2_reg_l1': 6.31130656516307e-05, 'n_units_l2': 2048, 'activation_l2': 'ReLU', 'dropout_l2': 0.2848286897502244, 'batch_norm_l2': True, 'l2_reg_l2': 0.0006732461396966815, 'n_units_l3': 2048, 'activation_l3': 'SELU', 'dropout_l3': 4.592839764389067e-05, 'batch_norm_l3': True, 'l2_reg_l3': 0.0034469064114674413, 'n_units_l4': 64, 'activation_l4': 'LeakyReLU', 'dropout_l4': 0.3807380432929294, 'batch_norm_l4': True, 'l2_reg_l4': 2.6504227723862813e-05, 'leakyrelu_alpha_l4': 0.2482893576096461, 'optimizer': 'RMSprop', 'lr': 0.0006219991445439153, 'rmsprop_alpha': 0.9821488372046615, 'epochs': 388, 'batch_size': 128, 'early_stopping_patience': 17, 'lr_reduce_factor': 0.23378271713339643, 'lr_reduce_patience': 47, 'min_lr': 1.29458847028625e-06}. Best is trial 247 with value: 0.8903522205206739.\u001b[0m\n"
     ]
    },
    {
     "name": "stdout",
     "output_type": "stream",
     "text": [
      "Usando GPU para el Trial 448\n",
      "Entrenando Trial 448...\n"
     ]
    },
    {
     "name": "stderr",
     "output_type": "stream",
     "text": [
      "                                                                                                                                                                                                                                                        \r"
     ]
    },
    {
     "name": "stdout",
     "output_type": "stream",
     "text": [
      "Early stopping\n",
      "Trial 448 completado. Mejor precisión en validación: 0.8490045941807044\n"
     ]
    },
    {
     "name": "stderr",
     "output_type": "stream",
     "text": [
      "\u001b[32m[I 2023-11-29 20:11:40,702]\u001b[0m Trial 448 finished with value: 0.8490045941807044 and parameters: {'n_layers': 4, 'n_units_l0': 2048, 'activation_l0': 'LeakyReLU', 'dropout_l0': 0.07539604913622046, 'batch_norm_l0': False, 'l2_reg_l0': 0.0020534292657977595, 'leakyrelu_alpha_l0': 0.2141638417824329, 'n_units_l1': 256, 'activation_l1': 'Tanh', 'dropout_l1': 0.40648527314935273, 'batch_norm_l1': False, 'l2_reg_l1': 4.985442249318455e-05, 'n_units_l2': 2048, 'activation_l2': 'ReLU', 'dropout_l2': 0.2552969554802817, 'batch_norm_l2': True, 'l2_reg_l2': 0.0006964882211006449, 'n_units_l3': 2048, 'activation_l3': 'SELU', 'dropout_l3': 0.007169198052754567, 'batch_norm_l3': True, 'l2_reg_l3': 0.0029229597747217496, 'optimizer': 'RMSprop', 'lr': 0.0005212464626822786, 'rmsprop_alpha': 0.9836749099641111, 'epochs': 371, 'batch_size': 2048, 'early_stopping_patience': 16, 'lr_reduce_factor': 0.2733624320175497, 'lr_reduce_patience': 47, 'min_lr': 1.2996008672953296e-06}. Best is trial 247 with value: 0.8903522205206739.\u001b[0m\n"
     ]
    },
    {
     "name": "stdout",
     "output_type": "stream",
     "text": [
      "Usando GPU para el Trial 449\n",
      "Entrenando Trial 449...\n"
     ]
    },
    {
     "name": "stderr",
     "output_type": "stream",
     "text": [
      "                                                                                                                                                                                                                                                        \r"
     ]
    },
    {
     "name": "stdout",
     "output_type": "stream",
     "text": [
      "Epoch 00088: reducing learning rate of group 0 to 6.3554e-05.\n"
     ]
    },
    {
     "name": "stderr",
     "output_type": "stream",
     "text": [
      "                                                                                                                                                                                                                                                        \r"
     ]
    },
    {
     "name": "stdout",
     "output_type": "stream",
     "text": [
      "Early stopping\n",
      "Trial 449 completado. Mejor precisión en validación: 0.8826952526799388\n"
     ]
    },
    {
     "name": "stderr",
     "output_type": "stream",
     "text": [
      "\u001b[32m[I 2023-11-29 20:13:47,298]\u001b[0m Trial 449 finished with value: 0.8826952526799388 and parameters: {'n_layers': 6, 'n_units_l0': 2048, 'activation_l0': 'LeakyReLU', 'dropout_l0': 0.09447506467730259, 'batch_norm_l0': False, 'l2_reg_l0': 0.0016866935854760567, 'leakyrelu_alpha_l0': 0.21139802265183072, 'n_units_l1': 2048, 'activation_l1': 'Tanh', 'dropout_l1': 0.39448421982798554, 'batch_norm_l1': False, 'l2_reg_l1': 6.150762599601298e-05, 'n_units_l2': 2048, 'activation_l2': 'ReLU', 'dropout_l2': 0.28501102636842723, 'batch_norm_l2': True, 'l2_reg_l2': 0.000884048749995638, 'n_units_l3': 2048, 'activation_l3': 'SELU', 'dropout_l3': 0.0020617831385804125, 'batch_norm_l3': True, 'l2_reg_l3': 0.003382101657801872, 'n_units_l4': 2048, 'activation_l4': 'ReLU', 'dropout_l4': 0.3903035359285267, 'batch_norm_l4': True, 'l2_reg_l4': 1.299691937323397e-05, 'n_units_l5': 256, 'activation_l5': 'Tanh', 'dropout_l5': 0.22022838603818987, 'batch_norm_l5': True, 'l2_reg_l5': 0.00017083350701423562, 'optimizer': 'RMSprop', 'lr': 0.0002521334384891168, 'rmsprop_alpha': 0.9817133423354654, 'epochs': 435, 'batch_size': 128, 'early_stopping_patience': 17, 'lr_reduce_factor': 0.25206565329313046, 'lr_reduce_patience': 47, 'min_lr': 1.2100858929226469e-06}. Best is trial 247 with value: 0.8903522205206739.\u001b[0m\n"
     ]
    },
    {
     "name": "stdout",
     "output_type": "stream",
     "text": [
      "Usando GPU para el Trial 450\n",
      "Entrenando Trial 450...\n"
     ]
    },
    {
     "name": "stderr",
     "output_type": "stream",
     "text": [
      "                                                                                                                                                                                                                                                        \r"
     ]
    },
    {
     "name": "stdout",
     "output_type": "stream",
     "text": [
      "Early stopping\n",
      "Trial 450 completado. Mejor precisión en validación: 0.8741194486983155\n"
     ]
    },
    {
     "name": "stderr",
     "output_type": "stream",
     "text": [
      "\u001b[32m[I 2023-11-29 20:18:05,972]\u001b[0m Trial 450 finished with value: 0.8741194486983155 and parameters: {'n_layers': 29, 'n_units_l0': 2048, 'activation_l0': 'LeakyReLU', 'dropout_l0': 0.06271633708565805, 'batch_norm_l0': False, 'l2_reg_l0': 0.0011923995131206168, 'leakyrelu_alpha_l0': 0.2055034164293445, 'n_units_l1': 512, 'activation_l1': 'Tanh', 'dropout_l1': 0.31486545517673775, 'batch_norm_l1': False, 'l2_reg_l1': 6.536358697751391e-05, 'n_units_l2': 2048, 'activation_l2': 'ReLU', 'dropout_l2': 0.2946067061458521, 'batch_norm_l2': True, 'l2_reg_l2': 0.0008219610214556282, 'n_units_l3': 2048, 'activation_l3': 'ELU', 'dropout_l3': 0.002313292895581736, 'batch_norm_l3': True, 'l2_reg_l3': 0.0025795579826375648, 'n_units_l4': 64, 'activation_l4': 'LeakyReLU', 'dropout_l4': 0.3229341905714777, 'batch_norm_l4': True, 'l2_reg_l4': 1.651446951034085e-05, 'leakyrelu_alpha_l4': 0.23881972764714243, 'n_units_l5': 256, 'activation_l5': 'Tanh', 'dropout_l5': 0.2536495044498512, 'batch_norm_l5': False, 'l2_reg_l5': 0.0013946803373285554, 'n_units_l6': 2048, 'activation_l6': 'ReLU', 'dropout_l6': 0.21136458265380373, 'batch_norm_l6': False, 'l2_reg_l6': 0.0013850482283463605, 'n_units_l7': 256, 'activation_l7': 'SELU', 'dropout_l7': 0.10215021862164031, 'batch_norm_l7': False, 'l2_reg_l7': 2.040617909157684e-05, 'n_units_l8': 2048, 'activation_l8': 'LeakyReLU', 'dropout_l8': 0.03744187685164008, 'batch_norm_l8': False, 'l2_reg_l8': 1.2764693328081376e-05, 'leakyrelu_alpha_l8': 0.16554715811872375, 'n_units_l9': 2048, 'activation_l9': 'Tanh', 'dropout_l9': 0.16847832261014092, 'batch_norm_l9': True, 'l2_reg_l9': 0.024941310731683777, 'n_units_l10': 512, 'activation_l10': 'Tanh', 'dropout_l10': 0.023321658968587067, 'batch_norm_l10': True, 'l2_reg_l10': 0.00013645002334391327, 'n_units_l11': 128, 'activation_l11': 'Tanh', 'dropout_l11': 0.1479827450673261, 'batch_norm_l11': False, 'l2_reg_l11': 0.005989460683879776, 'n_units_l12': 2048, 'activation_l12': 'ELU', 'dropout_l12': 0.3559456968211516, 'batch_norm_l12': True, 'l2_reg_l12': 0.0006203240747417866, 'n_units_l13': 2048, 'activation_l13': 'Tanh', 'dropout_l13': 0.13556601939912166, 'batch_norm_l13': True, 'l2_reg_l13': 2.7864464818069657e-05, 'n_units_l14': 256, 'activation_l14': 'SELU', 'dropout_l14': 0.006828401836002251, 'batch_norm_l14': True, 'l2_reg_l14': 0.046550846357866826, 'n_units_l15': 16, 'activation_l15': 'ReLU', 'dropout_l15': 0.3847490830688137, 'batch_norm_l15': False, 'l2_reg_l15': 0.010410778997666247, 'n_units_l16': 256, 'activation_l16': 'ReLU', 'dropout_l16': 0.12534806453772315, 'batch_norm_l16': False, 'l2_reg_l16': 0.00016736605310623188, 'n_units_l17': 64, 'activation_l17': 'ReLU', 'dropout_l17': 0.24486424422595165, 'batch_norm_l17': True, 'l2_reg_l17': 0.0009978065579434306, 'n_units_l18': 128, 'activation_l18': 'ELU', 'dropout_l18': 0.38892831654095633, 'batch_norm_l18': True, 'l2_reg_l18': 0.01786209070730876, 'n_units_l19': 256, 'activation_l19': 'Tanh', 'dropout_l19': 0.0026146432946052567, 'batch_norm_l19': True, 'l2_reg_l19': 0.015586796388701855, 'n_units_l20': 2048, 'activation_l20': 'ELU', 'dropout_l20': 0.24738040868253963, 'batch_norm_l20': False, 'l2_reg_l20': 8.221572954867677e-05, 'n_units_l21': 512, 'activation_l21': 'LeakyReLU', 'dropout_l21': 0.3430374685071932, 'batch_norm_l21': False, 'l2_reg_l21': 0.010128481631487067, 'leakyrelu_alpha_l21': 0.20503870069598812, 'n_units_l22': 16, 'activation_l22': 'SELU', 'dropout_l22': 0.03766917992145824, 'batch_norm_l22': False, 'l2_reg_l22': 1.889564026273082e-05, 'n_units_l23': 256, 'activation_l23': 'SELU', 'dropout_l23': 0.2804496962464985, 'batch_norm_l23': True, 'l2_reg_l23': 0.000367583070480011, 'n_units_l24': 64, 'activation_l24': 'SELU', 'dropout_l24': 0.4059765786029882, 'batch_norm_l24': True, 'l2_reg_l24': 0.0002889903218603349, 'n_units_l25': 16, 'activation_l25': 'ReLU', 'dropout_l25': 0.045348944806780145, 'batch_norm_l25': False, 'l2_reg_l25': 2.0745703388011544e-05, 'n_units_l26': 1024, 'activation_l26': 'Tanh', 'dropout_l26': 0.2538473553408172, 'batch_norm_l26': True, 'l2_reg_l26': 0.03310738865890904, 'n_units_l27': 64, 'activation_l27': 'ELU', 'dropout_l27': 0.24606637914774068, 'batch_norm_l27': True, 'l2_reg_l27': 0.0397273264657469, 'n_units_l28': 1024, 'activation_l28': 'SELU', 'dropout_l28': 0.37357513007089416, 'batch_norm_l28': False, 'l2_reg_l28': 0.0023402574677132463, 'optimizer': 'RMSprop', 'lr': 0.00037054214710584353, 'rmsprop_alpha': 0.9868201040850008, 'epochs': 469, 'batch_size': 128, 'early_stopping_patience': 17, 'lr_reduce_factor': 0.23153277234110847, 'lr_reduce_patience': 45, 'min_lr': 1.0911994518277768e-06}. Best is trial 247 with value: 0.8903522205206739.\u001b[0m\n"
     ]
    },
    {
     "name": "stdout",
     "output_type": "stream",
     "text": [
      "Usando GPU para el Trial 451\n",
      "Entrenando Trial 451...\n"
     ]
    },
    {
     "name": "stderr",
     "output_type": "stream",
     "text": [
      "                                                                                                                                                                                                                                                        \r"
     ]
    },
    {
     "name": "stdout",
     "output_type": "stream",
     "text": [
      "Epoch 00093: reducing learning rate of group 0 to 1.0822e-04.\n"
     ]
    },
    {
     "name": "stderr",
     "output_type": "stream",
     "text": [
      "\u001b[32m[I 2023-11-29 20:19:56,418]\u001b[0m Trial 451 finished with value: 0.8885145482388974 and parameters: {'n_layers': 5, 'n_units_l0': 2048, 'activation_l0': 'LeakyReLU', 'dropout_l0': 0.08502626642027591, 'batch_norm_l0': False, 'l2_reg_l0': 0.0025932875515968443, 'leakyrelu_alpha_l0': 0.1988501724697569, 'n_units_l1': 512, 'activation_l1': 'Tanh', 'dropout_l1': 0.4128569203118541, 'batch_norm_l1': False, 'l2_reg_l1': 7.028609971473816e-05, 'n_units_l2': 2048, 'activation_l2': 'ReLU', 'dropout_l2': 0.2624321981764072, 'batch_norm_l2': True, 'l2_reg_l2': 0.0003368927503749352, 'n_units_l3': 2048, 'activation_l3': 'SELU', 'dropout_l3': 0.0006628417285332398, 'batch_norm_l3': True, 'l2_reg_l3': 0.0016399970179773332, 'n_units_l4': 64, 'activation_l4': 'LeakyReLU', 'dropout_l4': 0.38065550718090585, 'batch_norm_l4': True, 'l2_reg_l4': 2.361415056502898e-05, 'leakyrelu_alpha_l4': 0.24907047521871561, 'optimizer': 'RMSprop', 'lr': 0.0006291296891206614, 'rmsprop_alpha': 0.9794145750482871, 'epochs': 315, 'batch_size': 128, 'early_stopping_patience': 17, 'lr_reduce_factor': 0.172015242123061, 'lr_reduce_patience': 49, 'min_lr': 7.094310734220972e-06}. Best is trial 247 with value: 0.8903522205206739.\u001b[0m\n"
     ]
    },
    {
     "name": "stdout",
     "output_type": "stream",
     "text": [
      "Early stopping\n",
      "Trial 451 completado. Mejor precisión en validación: 0.8885145482388974\n",
      "Usando GPU para el Trial 452\n",
      "Entrenando Trial 452...\n"
     ]
    },
    {
     "name": "stderr",
     "output_type": "stream",
     "text": [
      "                                                                                                                                                                                                                                                        \r"
     ]
    },
    {
     "name": "stdout",
     "output_type": "stream",
     "text": [
      "Early stopping\n",
      "Trial 452 completado. Mejor precisión en validación: 0.8787136294027565\n"
     ]
    },
    {
     "name": "stderr",
     "output_type": "stream",
     "text": [
      "\u001b[32m[I 2023-11-29 20:20:53,042]\u001b[0m Trial 452 finished with value: 0.8787136294027565 and parameters: {'n_layers': 4, 'n_units_l0': 2048, 'activation_l0': 'LeakyReLU', 'dropout_l0': 0.08206680751759066, 'batch_norm_l0': False, 'l2_reg_l0': 0.004604180407797059, 'leakyrelu_alpha_l0': 0.19542234036777126, 'n_units_l1': 512, 'activation_l1': 'Tanh', 'dropout_l1': 0.42054474021485283, 'batch_norm_l1': False, 'l2_reg_l1': 4.50226585437591e-05, 'n_units_l2': 2048, 'activation_l2': 'ReLU', 'dropout_l2': 0.274878155044611, 'batch_norm_l2': True, 'l2_reg_l2': 0.00027186818945385905, 'n_units_l3': 2048, 'activation_l3': 'SELU', 'dropout_l3': 0.013851276267678556, 'batch_norm_l3': True, 'l2_reg_l3': 0.0017023342648094404, 'optimizer': 'RMSprop', 'lr': 0.000615895596623966, 'rmsprop_alpha': 0.9808200484041539, 'epochs': 427, 'batch_size': 128, 'early_stopping_patience': 16, 'lr_reduce_factor': 0.15387714606054537, 'lr_reduce_patience': 50, 'min_lr': 5.87255334416346e-06}. Best is trial 247 with value: 0.8903522205206739.\u001b[0m\n"
     ]
    },
    {
     "name": "stdout",
     "output_type": "stream",
     "text": [
      "Usando GPU para el Trial 453\n",
      "Entrenando Trial 453...\n"
     ]
    },
    {
     "name": "stderr",
     "output_type": "stream",
     "text": [
      "\u001b[32m[I 2023-11-29 20:28:24,052]\u001b[0m Trial 453 finished with value: 0.8462480857580398 and parameters: {'n_layers': 7, 'n_units_l0': 2048, 'activation_l0': 'LeakyReLU', 'dropout_l0': 0.09981151108979061, 'batch_norm_l0': True, 'l2_reg_l0': 0.00332365084853179, 'leakyrelu_alpha_l0': 0.21816497806884907, 'n_units_l1': 512, 'activation_l1': 'Tanh', 'dropout_l1': 0.4201425956876473, 'batch_norm_l1': False, 'l2_reg_l1': 6.01146637748562e-05, 'n_units_l2': 2048, 'activation_l2': 'ReLU', 'dropout_l2': 0.25394554113699863, 'batch_norm_l2': True, 'l2_reg_l2': 0.0003248652230735552, 'n_units_l3': 2048, 'activation_l3': 'SELU', 'dropout_l3': 0.00255691620778192, 'batch_norm_l3': True, 'l2_reg_l3': 0.0014616367923080498, 'n_units_l4': 64, 'activation_l4': 'LeakyReLU', 'dropout_l4': 0.38489152336116655, 'batch_norm_l4': True, 'l2_reg_l4': 2.27469066602366e-05, 'leakyrelu_alpha_l4': 0.2445400066755017, 'n_units_l5': 256, 'activation_l5': 'Tanh', 'dropout_l5': 0.14579611672057524, 'batch_norm_l5': False, 'l2_reg_l5': 0.00020691536790952002, 'n_units_l6': 32, 'activation_l6': 'Tanh', 'dropout_l6': 0.2474652539867189, 'batch_norm_l6': False, 'l2_reg_l6': 0.00041037394656393195, 'optimizer': 'RMSprop', 'lr': 0.00045626623990250236, 'rmsprop_alpha': 0.9850361197666089, 'epochs': 371, 'batch_size': 16, 'early_stopping_patience': 17, 'lr_reduce_factor': 0.2945957740951873, 'lr_reduce_patience': 49, 'min_lr': 6.686785835510867e-06}. Best is trial 247 with value: 0.8903522205206739.\u001b[0m\n"
     ]
    },
    {
     "name": "stdout",
     "output_type": "stream",
     "text": [
      "Early stopping\n",
      "Trial 453 completado. Mejor precisión en validación: 0.8462480857580398\n",
      "Usando GPU para el Trial 454\n",
      "Entrenando Trial 454...\n"
     ]
    },
    {
     "name": "stderr",
     "output_type": "stream",
     "text": [
      "\u001b[32m[I 2023-11-29 20:29:19,604]\u001b[0m Trial 454 finished with value: 0.8655436447166922 and parameters: {'n_layers': 5, 'n_units_l0': 32, 'activation_l0': 'LeakyReLU', 'dropout_l0': 0.07410409468281187, 'batch_norm_l0': False, 'l2_reg_l0': 0.002567702298247274, 'leakyrelu_alpha_l0': 0.2269948190426597, 'n_units_l1': 512, 'activation_l1': 'SELU', 'dropout_l1': 0.4026467750259159, 'batch_norm_l1': False, 'l2_reg_l1': 7.979688947310883e-05, 'n_units_l2': 2048, 'activation_l2': 'ReLU', 'dropout_l2': 0.2819758774744379, 'batch_norm_l2': True, 'l2_reg_l2': 0.0003834302540694713, 'n_units_l3': 2048, 'activation_l3': 'SELU', 'dropout_l3': 0.0008981909225547202, 'batch_norm_l3': True, 'l2_reg_l3': 0.000798387534627114, 'n_units_l4': 64, 'activation_l4': 'LeakyReLU', 'dropout_l4': 0.18174620776443937, 'batch_norm_l4': True, 'l2_reg_l4': 0.0008998279165024006, 'leakyrelu_alpha_l4': 0.2366966430941756, 'optimizer': 'RMSprop', 'lr': 0.016631590915895642, 'rmsprop_alpha': 0.9804878281921712, 'epochs': 346, 'batch_size': 128, 'early_stopping_patience': 17, 'lr_reduce_factor': 0.16221609329302422, 'lr_reduce_patience': 49, 'min_lr': 6.924640757823318e-06}. Best is trial 247 with value: 0.8903522205206739.\u001b[0m\n"
     ]
    },
    {
     "name": "stdout",
     "output_type": "stream",
     "text": [
      "Early stopping\n",
      "Trial 454 completado. Mejor precisión en validación: 0.8655436447166922\n",
      "Usando GPU para el Trial 455\n",
      "Entrenando Trial 455...\n"
     ]
    },
    {
     "name": "stderr",
     "output_type": "stream",
     "text": [
      "                                                                                                                                                                                                                                                        \r"
     ]
    },
    {
     "name": "stdout",
     "output_type": "stream",
     "text": [
      "Early stopping\n",
      "Trial 455 completado. Mejor precisión en validación: 0.8771822358346095\n"
     ]
    },
    {
     "name": "stderr",
     "output_type": "stream",
     "text": [
      "\u001b[32m[I 2023-11-29 20:30:19,449]\u001b[0m Trial 455 finished with value: 0.8771822358346095 and parameters: {'n_layers': 3, 'n_units_l0': 2048, 'activation_l0': 'LeakyReLU', 'dropout_l0': 0.0854218587148677, 'batch_norm_l0': False, 'l2_reg_l0': 0.0021160120714098386, 'leakyrelu_alpha_l0': 0.19901561846902927, 'n_units_l1': 512, 'activation_l1': 'Tanh', 'dropout_l1': 0.38381369696573336, 'batch_norm_l1': False, 'l2_reg_l1': 7.763878603606976e-05, 'n_units_l2': 2048, 'activation_l2': 'SELU', 'dropout_l2': 0.2614920334815563, 'batch_norm_l2': True, 'l2_reg_l2': 0.0005183129065812455, 'optimizer': 'RMSprop', 'lr': 0.0006098982664658523, 'rmsprop_alpha': 0.9419000800785988, 'epochs': 319, 'batch_size': 128, 'early_stopping_patience': 17, 'lr_reduce_factor': 0.22864452549692466, 'lr_reduce_patience': 48, 'min_lr': 7.3729388444709165e-06}. Best is trial 247 with value: 0.8903522205206739.\u001b[0m\n"
     ]
    },
    {
     "name": "stdout",
     "output_type": "stream",
     "text": [
      "Usando GPU para el Trial 456\n",
      "Entrenando Trial 456...\n"
     ]
    },
    {
     "name": "stderr",
     "output_type": "stream",
     "text": [
      "                                                                                                                                                                                                                                                        \r"
     ]
    },
    {
     "name": "stdout",
     "output_type": "stream",
     "text": [
      "Early stopping\n",
      "Trial 456 completado. Mejor precisión en validación: 0.7663093415007657\n"
     ]
    },
    {
     "name": "stderr",
     "output_type": "stream",
     "text": [
      "\u001b[32m[I 2023-11-29 20:32:34,447]\u001b[0m Trial 456 finished with value: 0.7663093415007657 and parameters: {'n_layers': 6, 'n_units_l0': 64, 'activation_l0': 'LeakyReLU', 'dropout_l0': 0.11026412321311997, 'batch_norm_l0': False, 'l2_reg_l0': 0.0015060954518968622, 'leakyrelu_alpha_l0': 0.21038275531981265, 'n_units_l1': 512, 'activation_l1': 'Tanh', 'dropout_l1': 0.35373597207243124, 'batch_norm_l1': False, 'l2_reg_l1': 5.2494999858850394e-05, 'n_units_l2': 2048, 'activation_l2': 'ReLU', 'dropout_l2': 0.26773082276852705, 'batch_norm_l2': True, 'l2_reg_l2': 0.00043091394822992833, 'n_units_l3': 2048, 'activation_l3': 'SELU', 'dropout_l3': 0.016956858250581033, 'batch_norm_l3': True, 'l2_reg_l3': 0.002027499989069838, 'n_units_l4': 64, 'activation_l4': 'LeakyReLU', 'dropout_l4': 0.40091640170448073, 'batch_norm_l4': True, 'l2_reg_l4': 2.542223048455035e-05, 'leakyrelu_alpha_l4': 0.24780484927449314, 'n_units_l5': 256, 'activation_l5': 'Tanh', 'dropout_l5': 0.17250875690792028, 'batch_norm_l5': False, 'l2_reg_l5': 0.00039439500009987255, 'optimizer': 'SGD', 'lr': 0.00023263213938974246, 'sgd_momentum': 0.37221261715782383, 'epochs': 244, 'batch_size': 128, 'early_stopping_patience': 16, 'lr_reduce_factor': 0.31905140950311367, 'lr_reduce_patience': 49, 'min_lr': 5.0157088734769045e-06}. Best is trial 247 with value: 0.8903522205206739.\u001b[0m\n"
     ]
    },
    {
     "name": "stdout",
     "output_type": "stream",
     "text": [
      "Usando GPU para el Trial 457\n",
      "Entrenando Trial 457...\n"
     ]
    },
    {
     "name": "stderr",
     "output_type": "stream",
     "text": [
      "\u001b[32m[I 2023-11-29 20:33:51,107]\u001b[0m Trial 457 finished with value: 0.8741194486983155 and parameters: {'n_layers': 5, 'n_units_l0': 2048, 'activation_l0': 'LeakyReLU', 'dropout_l0': 0.033736866747850675, 'batch_norm_l0': False, 'l2_reg_l0': 0.0023631022241622124, 'leakyrelu_alpha_l0': 0.21729736817692571, 'n_units_l1': 512, 'activation_l1': 'ReLU', 'dropout_l1': 0.4044876101246101, 'batch_norm_l1': False, 'l2_reg_l1': 7.34625872378435e-05, 'n_units_l2': 2048, 'activation_l2': 'ReLU', 'dropout_l2': 0.25042640204125316, 'batch_norm_l2': True, 'l2_reg_l2': 0.0006503728833151493, 'n_units_l3': 2048, 'activation_l3': 'SELU', 'dropout_l3': 0.01491799965079206, 'batch_norm_l3': True, 'l2_reg_l3': 0.0012452518993175455, 'n_units_l4': 64, 'activation_l4': 'LeakyReLU', 'dropout_l4': 0.4107540631448308, 'batch_norm_l4': True, 'l2_reg_l4': 1.8078555483887277e-05, 'leakyrelu_alpha_l4': 0.25405089824129884, 'optimizer': 'RMSprop', 'lr': 0.0006428786571621819, 'rmsprop_alpha': 0.9781709722331082, 'epochs': 304, 'batch_size': 128, 'early_stopping_patience': 17, 'lr_reduce_factor': 0.19532882388411843, 'lr_reduce_patience': 46, 'min_lr': 1.2284507081480862e-06}. Best is trial 247 with value: 0.8903522205206739.\u001b[0m\n"
     ]
    },
    {
     "name": "stdout",
     "output_type": "stream",
     "text": [
      "Early stopping\n",
      "Trial 457 completado. Mejor precisión en validación: 0.8741194486983155\n",
      "Usando GPU para el Trial 458\n",
      "Entrenando Trial 458...\n"
     ]
    },
    {
     "name": "stderr",
     "output_type": "stream",
     "text": [
      "\u001b[32m[I 2023-11-29 20:34:16,816]\u001b[0m Trial 458 finished with value: 0.8493108728943338 and parameters: {'n_layers': 1, 'n_units_l0': 2048, 'activation_l0': 'ReLU', 'dropout_l0': 0.06196240924840832, 'batch_norm_l0': False, 'l2_reg_l0': 0.0019282893188638233, 'optimizer': 'RMSprop', 'lr': 0.00032064515918805097, 'rmsprop_alpha': 0.9822988702631086, 'epochs': 497, 'batch_size': 128, 'early_stopping_patience': 17, 'lr_reduce_factor': 0.17689513921294506, 'lr_reduce_patience': 43, 'min_lr': 1.092448704454384e-06}. Best is trial 247 with value: 0.8903522205206739.\u001b[0m\n"
     ]
    },
    {
     "name": "stdout",
     "output_type": "stream",
     "text": [
      "Early stopping\n",
      "Trial 458 completado. Mejor precisión en validación: 0.8493108728943338\n",
      "Usando GPU para el Trial 459\n",
      "Entrenando Trial 459...\n"
     ]
    },
    {
     "name": "stderr",
     "output_type": "stream",
     "text": [
      "                                                                                                                                                                                                                                                        \r"
     ]
    },
    {
     "name": "stdout",
     "output_type": "stream",
     "text": [
      "Epoch 00087: reducing learning rate of group 0 to 1.0944e-04.\n"
     ]
    },
    {
     "name": "stderr",
     "output_type": "stream",
     "text": [
      "\u001b[32m[I 2023-11-29 20:36:03,006]\u001b[0m Trial 459 finished with value: 0.8817764165390506 and parameters: {'n_layers': 6, 'n_units_l0': 2048, 'activation_l0': 'LeakyReLU', 'dropout_l0': 0.08965531051406592, 'batch_norm_l0': False, 'l2_reg_l0': 0.0037371950150636877, 'leakyrelu_alpha_l0': 0.23466112400313882, 'n_units_l1': 512, 'activation_l1': 'Tanh', 'dropout_l1': 0.3964102610624948, 'batch_norm_l1': True, 'l2_reg_l1': 2.9035705457894686e-05, 'n_units_l2': 2048, 'activation_l2': 'Tanh', 'dropout_l2': 0.3156730667663159, 'batch_norm_l2': True, 'l2_reg_l2': 0.00034363037280214716, 'n_units_l3': 2048, 'activation_l3': 'SELU', 'dropout_l3': 0.0006738122127122048, 'batch_norm_l3': True, 'l2_reg_l3': 0.0023389324407908953, 'n_units_l4': 64, 'activation_l4': 'LeakyReLU', 'dropout_l4': 0.3776215182508685, 'batch_norm_l4': True, 'l2_reg_l4': 2.4926805713963285e-05, 'leakyrelu_alpha_l4': 0.25184022931106564, 'n_units_l5': 256, 'activation_l5': 'Tanh', 'dropout_l5': 0.3773851658127404, 'batch_norm_l5': False, 'l2_reg_l5': 0.0005089354486422476, 'optimizer': 'RMSprop', 'lr': 0.00041112084453678714, 'rmsprop_alpha': 0.9771487874006671, 'epochs': 476, 'batch_size': 128, 'early_stopping_patience': 18, 'lr_reduce_factor': 0.2662019524245934, 'lr_reduce_patience': 44, 'min_lr': 1.5803712451549538e-06}. Best is trial 247 with value: 0.8903522205206739.\u001b[0m\n"
     ]
    },
    {
     "name": "stdout",
     "output_type": "stream",
     "text": [
      "Early stopping\n",
      "Trial 459 completado. Mejor precisión en validación: 0.8817764165390506\n",
      "Usando GPU para el Trial 460\n",
      "Entrenando Trial 460...\n"
     ]
    },
    {
     "name": "stderr",
     "output_type": "stream",
     "text": [
      "\u001b[32m[I 2023-11-29 20:36:24,162]\u001b[0m Trial 460 finished with value: 0.8079632465543645 and parameters: {'n_layers': 4, 'n_units_l0': 2048, 'activation_l0': 'LeakyReLU', 'dropout_l0': 0.07015276257904535, 'batch_norm_l0': False, 'l2_reg_l0': 0.0018317682456833867, 'leakyrelu_alpha_l0': 0.22329317400748364, 'n_units_l1': 32, 'activation_l1': 'Tanh', 'dropout_l1': 0.3352819858208709, 'batch_norm_l1': False, 'l2_reg_l1': 1.995519891484659e-05, 'n_units_l2': 2048, 'activation_l2': 'ReLU', 'dropout_l2': 0.23466373589926376, 'batch_norm_l2': True, 'l2_reg_l2': 0.00020315791618059768, 'n_units_l3': 2048, 'activation_l3': 'SELU', 'dropout_l3': 0.26627558472281776, 'batch_norm_l3': True, 'l2_reg_l3': 0.0017882646130258162, 'optimizer': 'RMSprop', 'lr': 1.6033214328237538e-05, 'rmsprop_alpha': 0.8524022700497303, 'epochs': 395, 'batch_size': 128, 'early_stopping_patience': 16, 'lr_reduce_factor': 0.10415279662732678, 'lr_reduce_patience': 42, 'min_lr': 1.3602145880324417e-06}. Best is trial 247 with value: 0.8903522205206739.\u001b[0m\n"
     ]
    },
    {
     "name": "stdout",
     "output_type": "stream",
     "text": [
      "Early stopping\n",
      "Trial 460 completado. Mejor precisión en validación: 0.8079632465543645\n",
      "Usando GPU para el Trial 461\n",
      "Entrenando Trial 461...\n"
     ]
    },
    {
     "name": "stderr",
     "output_type": "stream",
     "text": [
      "\u001b[32m[I 2023-11-29 20:36:46,523]\u001b[0m Trial 461 finished with value: 0.8578866768759571 and parameters: {'n_layers': 7, 'n_units_l0': 2048, 'activation_l0': 'LeakyReLU', 'dropout_l0': 0.04645304086194759, 'batch_norm_l0': False, 'l2_reg_l0': 0.0016778951329318246, 'leakyrelu_alpha_l0': 0.19118237731860777, 'n_units_l1': 512, 'activation_l1': 'Tanh', 'dropout_l1': 0.2970047155243093, 'batch_norm_l1': False, 'l2_reg_l1': 5.551612586020437e-05, 'n_units_l2': 2048, 'activation_l2': 'ReLU', 'dropout_l2': 0.2954387688343646, 'batch_norm_l2': True, 'l2_reg_l2': 0.0005239923784440539, 'n_units_l3': 2048, 'activation_l3': 'SELU', 'dropout_l3': 0.019846495485841366, 'batch_norm_l3': True, 'l2_reg_l3': 0.0011268454791059062, 'n_units_l4': 256, 'activation_l4': 'LeakyReLU', 'dropout_l4': 0.31554506022715656, 'batch_norm_l4': True, 'l2_reg_l4': 1.6355536308268532e-05, 'leakyrelu_alpha_l4': 0.2588806088173805, 'n_units_l5': 256, 'activation_l5': 'Tanh', 'dropout_l5': 0.18175741120436345, 'batch_norm_l5': False, 'l2_reg_l5': 0.0008835290736607511, 'n_units_l6': 1024, 'activation_l6': 'ReLU', 'dropout_l6': 0.1316613624193536, 'batch_norm_l6': False, 'l2_reg_l6': 0.0012026454733026384, 'optimizer': 'RMSprop', 'lr': 0.00048477837242275886, 'rmsprop_alpha': 0.9682684833829064, 'epochs': 997, 'batch_size': 128, 'early_stopping_patience': 8, 'lr_reduce_factor': 0.12227658979238967, 'lr_reduce_patience': 45, 'min_lr': 1.2565237130181427e-06}. Best is trial 247 with value: 0.8903522205206739.\u001b[0m\n"
     ]
    },
    {
     "name": "stdout",
     "output_type": "stream",
     "text": [
      "Early stopping\n",
      "Trial 461 completado. Mejor precisión en validación: 0.8578866768759571\n",
      "Usando GPU para el Trial 462\n",
      "Entrenando Trial 462...\n"
     ]
    },
    {
     "name": "stderr",
     "output_type": "stream",
     "text": [
      "\u001b[32m[I 2023-11-29 20:37:23,529]\u001b[0m Trial 462 finished with value: 0.8686064318529862 and parameters: {'n_layers': 3, 'n_units_l0': 2048, 'activation_l0': 'ELU', 'dropout_l0': 0.09585831649245273, 'batch_norm_l0': False, 'l2_reg_l0': 0.001304772275224915, 'n_units_l1': 512, 'activation_l1': 'Tanh', 'dropout_l1': 0.3752930154993341, 'batch_norm_l1': False, 'l2_reg_l1': 3.446632129178192e-05, 'n_units_l2': 2048, 'activation_l2': 'ReLU', 'dropout_l2': 0.26891733536200296, 'batch_norm_l2': True, 'l2_reg_l2': 0.00026202074236480495, 'optimizer': 'RMSprop', 'lr': 0.0005433447486262337, 'rmsprop_alpha': 0.9365666279391773, 'epochs': 151, 'batch_size': 128, 'early_stopping_patience': 18, 'lr_reduce_factor': 0.281485642923517, 'lr_reduce_patience': 46, 'min_lr': 5.340517315676231e-06}. Best is trial 247 with value: 0.8903522205206739.\u001b[0m\n"
     ]
    },
    {
     "name": "stdout",
     "output_type": "stream",
     "text": [
      "Early stopping\n",
      "Trial 462 completado. Mejor precisión en validación: 0.8686064318529862\n",
      "Usando GPU para el Trial 463\n",
      "Entrenando Trial 463...\n"
     ]
    },
    {
     "name": "stderr",
     "output_type": "stream",
     "text": [
      "\u001b[32m[I 2023-11-29 20:38:54,834]\u001b[0m Trial 463 finished with value: 0.8480857580398162 and parameters: {'n_layers': 16, 'n_units_l0': 128, 'activation_l0': 'LeakyReLU', 'dropout_l0': 0.07827369511311526, 'batch_norm_l0': False, 'l2_reg_l0': 0.0065854654751552446, 'leakyrelu_alpha_l0': 0.22848919186351907, 'n_units_l1': 64, 'activation_l1': 'Tanh', 'dropout_l1': 0.3602516195400357, 'batch_norm_l1': False, 'l2_reg_l1': 0.001220382361695833, 'n_units_l2': 2048, 'activation_l2': 'ReLU', 'dropout_l2': 0.31323821776099925, 'batch_norm_l2': True, 'l2_reg_l2': 0.0007027603216112778, 'n_units_l3': 2048, 'activation_l3': 'SELU', 'dropout_l3': 0.0003131068478178346, 'batch_norm_l3': True, 'l2_reg_l3': 0.0009084754430431011, 'n_units_l4': 64, 'activation_l4': 'LeakyReLU', 'dropout_l4': 0.3844218957374256, 'batch_norm_l4': True, 'l2_reg_l4': 2.803717125781515e-05, 'leakyrelu_alpha_l4': 0.26635339716704204, 'n_units_l5': 256, 'activation_l5': 'ELU', 'dropout_l5': 0.1537808881415087, 'batch_norm_l5': False, 'l2_reg_l5': 0.0007780692970428092, 'n_units_l6': 128, 'activation_l6': 'ReLU', 'dropout_l6': 0.23659477581357058, 'batch_norm_l6': False, 'l2_reg_l6': 0.009836795185695583, 'n_units_l7': 1024, 'activation_l7': 'ELU', 'dropout_l7': 0.1738234148401449, 'batch_norm_l7': False, 'l2_reg_l7': 0.07164827744846292, 'n_units_l8': 16, 'activation_l8': 'SELU', 'dropout_l8': 0.07369938493761147, 'batch_norm_l8': True, 'l2_reg_l8': 0.01683408050479696, 'n_units_l9': 32, 'activation_l9': 'LeakyReLU', 'dropout_l9': 0.34572827663299766, 'batch_norm_l9': False, 'l2_reg_l9': 2.972278352853473e-05, 'leakyrelu_alpha_l9': 0.06768961459742893, 'n_units_l10': 64, 'activation_l10': 'LeakyReLU', 'dropout_l10': 0.23854244555027965, 'batch_norm_l10': False, 'l2_reg_l10': 0.004156397909099686, 'leakyrelu_alpha_l10': 0.17380481933575423, 'n_units_l11': 512, 'activation_l11': 'ReLU', 'dropout_l11': 0.09178696235103417, 'batch_norm_l11': True, 'l2_reg_l11': 0.041701915179911564, 'n_units_l12': 512, 'activation_l12': 'ReLU', 'dropout_l12': 0.3863660510599006, 'batch_norm_l12': False, 'l2_reg_l12': 0.02247409986673633, 'n_units_l13': 32, 'activation_l13': 'SELU', 'dropout_l13': 0.3302957177825261, 'batch_norm_l13': False, 'l2_reg_l13': 0.0014018318196749317, 'n_units_l14': 128, 'activation_l14': 'ELU', 'dropout_l14': 0.45864903715881705, 'batch_norm_l14': False, 'l2_reg_l14': 0.008959274503434487, 'n_units_l15': 64, 'activation_l15': 'ELU', 'dropout_l15': 0.22297438046858772, 'batch_norm_l15': True, 'l2_reg_l15': 0.001610336330310617, 'optimizer': 'RMSprop', 'lr': 0.0090269672523567, 'rmsprop_alpha': 0.9261818470719124, 'epochs': 538, 'batch_size': 128, 'early_stopping_patience': 18, 'lr_reduce_factor': 0.35202615059448394, 'lr_reduce_patience': 41, 'min_lr': 4.399270999041878e-06}. Best is trial 247 with value: 0.8903522205206739.\u001b[0m\n"
     ]
    },
    {
     "name": "stdout",
     "output_type": "stream",
     "text": [
      "Early stopping\n",
      "Trial 463 completado. Mejor precisión en validación: 0.8480857580398162\n",
      "Usando GPU para el Trial 464\n",
      "Entrenando Trial 464...\n"
     ]
    },
    {
     "name": "stderr",
     "output_type": "stream",
     "text": [
      "\u001b[32m[I 2023-11-29 20:40:00,787]\u001b[0m Trial 464 finished with value: 0.8750382848392037 and parameters: {'n_layers': 5, 'n_units_l0': 2048, 'activation_l0': 'LeakyReLU', 'dropout_l0': 0.05107499480260891, 'batch_norm_l0': False, 'l2_reg_l0': 0.001115353684468487, 'leakyrelu_alpha_l0': 0.23442666965219838, 'n_units_l1': 512, 'activation_l1': 'LeakyReLU', 'dropout_l1': 0.28501617377065025, 'batch_norm_l1': False, 'l2_reg_l1': 6.5876756285812e-05, 'leakyrelu_alpha_l1': 0.17783886337174476, 'n_units_l2': 2048, 'activation_l2': 'ReLU', 'dropout_l2': 0.3020335938192412, 'batch_norm_l2': True, 'l2_reg_l2': 0.0004618918863919644, 'n_units_l3': 2048, 'activation_l3': 'SELU', 'dropout_l3': 0.2801339062395891, 'batch_norm_l3': True, 'l2_reg_l3': 0.0001534907669673834, 'n_units_l4': 512, 'activation_l4': 'LeakyReLU', 'dropout_l4': 0.32761341519505227, 'batch_norm_l4': True, 'l2_reg_l4': 1.7425068747913686e-05, 'leakyrelu_alpha_l4': 0.23006678949295825, 'optimizer': 'RMSprop', 'lr': 0.0006721106793758888, 'rmsprop_alpha': 0.9749611107763768, 'epochs': 310, 'batch_size': 128, 'early_stopping_patience': 17, 'lr_reduce_factor': 0.3880664919292396, 'lr_reduce_patience': 43, 'min_lr': 1.0424201319279606e-06}. Best is trial 247 with value: 0.8903522205206739.\u001b[0m\n"
     ]
    },
    {
     "name": "stdout",
     "output_type": "stream",
     "text": [
      "Early stopping\n",
      "Trial 464 completado. Mejor precisión en validación: 0.8750382848392037\n",
      "Usando GPU para el Trial 465\n",
      "Entrenando Trial 465...\n"
     ]
    },
    {
     "name": "stderr",
     "output_type": "stream",
     "text": [
      "\u001b[32m[I 2023-11-29 20:40:39,240]\u001b[0m Trial 465 finished with value: 0.8361408882082695 and parameters: {'n_layers': 7, 'n_units_l0': 2048, 'activation_l0': 'LeakyReLU', 'dropout_l0': 0.06709215189432108, 'batch_norm_l0': False, 'l2_reg_l0': 0.0014097035847484957, 'leakyrelu_alpha_l0': 0.20847355714406732, 'n_units_l1': 16, 'activation_l1': 'Tanh', 'dropout_l1': 0.34210967449735097, 'batch_norm_l1': False, 'l2_reg_l1': 0.003282858151997219, 'n_units_l2': 256, 'activation_l2': 'ReLU', 'dropout_l2': 0.2776888693197511, 'batch_norm_l2': True, 'l2_reg_l2': 0.0003025249928513915, 'n_units_l3': 2048, 'activation_l3': 'SELU', 'dropout_l3': 0.29857332638101597, 'batch_norm_l3': True, 'l2_reg_l3': 0.001502019245020763, 'n_units_l4': 64, 'activation_l4': 'LeakyReLU', 'dropout_l4': 0.21191654225054754, 'batch_norm_l4': True, 'l2_reg_l4': 2.249330362391447e-05, 'leakyrelu_alpha_l4': 0.23925103392846156, 'n_units_l5': 16, 'activation_l5': 'Tanh', 'dropout_l5': 0.24424077339208766, 'batch_norm_l5': False, 'l2_reg_l5': 0.00030258632302535243, 'n_units_l6': 256, 'activation_l6': 'Tanh', 'dropout_l6': 0.31596886923764667, 'batch_norm_l6': False, 'l2_reg_l6': 0.00014104430345194825, 'optimizer': 'RMSprop', 'lr': 4.85771994652174e-05, 'rmsprop_alpha': 0.9442194795625365, 'epochs': 380, 'batch_size': 128, 'early_stopping_patience': 17, 'lr_reduce_factor': 0.15012216050133326, 'lr_reduce_patience': 40, 'min_lr': 3.933545705162963e-06}. Best is trial 247 with value: 0.8903522205206739.\u001b[0m\n"
     ]
    },
    {
     "name": "stdout",
     "output_type": "stream",
     "text": [
      "Early stopping\n",
      "Trial 465 completado. Mejor precisión en validación: 0.8361408882082695\n",
      "Usando GPU para el Trial 466\n",
      "Entrenando Trial 466...\n"
     ]
    },
    {
     "name": "stderr",
     "output_type": "stream",
     "text": [
      "\u001b[32m[I 2023-11-29 20:40:45,526]\u001b[0m Trial 466 finished with value: 0.803062787136294 and parameters: {'n_layers': 2, 'n_units_l0': 16, 'activation_l0': 'LeakyReLU', 'dropout_l0': 0.10494051248881309, 'batch_norm_l0': False, 'l2_reg_l0': 0.002484525792158638, 'leakyrelu_alpha_l0': 0.22048545539741118, 'n_units_l1': 512, 'activation_l1': 'Tanh', 'dropout_l1': 0.41331651906806405, 'batch_norm_l1': False, 'l2_reg_l1': 2.4761975324722263e-05, 'optimizer': 'RMSprop', 'lr': 0.024311218358799916, 'rmsprop_alpha': 0.9654866621383789, 'epochs': 12, 'batch_size': 128, 'early_stopping_patience': 18, 'lr_reduce_factor': 0.24342821851397278, 'lr_reduce_patience': 48, 'min_lr': 5.9186561446144994e-06}. Best is trial 247 with value: 0.8903522205206739.\u001b[0m\n"
     ]
    },
    {
     "name": "stdout",
     "output_type": "stream",
     "text": [
      "Trial 466 completado. Mejor precisión en validación: 0.803062787136294\n",
      "Usando GPU para el Trial 467\n",
      "Entrenando Trial 467...\n"
     ]
    },
    {
     "name": "stderr",
     "output_type": "stream",
     "text": [
      "\u001b[32m[I 2023-11-29 20:41:11,451]\u001b[0m Trial 467 finished with value: 0.8603369065849923 and parameters: {'n_layers': 6, 'n_units_l0': 2048, 'activation_l0': 'LeakyReLU', 'dropout_l0': 0.039019914874098706, 'batch_norm_l0': False, 'l2_reg_l0': 0.002508651163341529, 'leakyrelu_alpha_l0': 0.2144651454909347, 'n_units_l1': 2048, 'activation_l1': 'Tanh', 'dropout_l1': 0.38675131703301957, 'batch_norm_l1': False, 'l2_reg_l1': 0.0026826732989283348, 'n_units_l2': 2048, 'activation_l2': 'SELU', 'dropout_l2': 0.2810547379082697, 'batch_norm_l2': True, 'l2_reg_l2': 0.000924069143017217, 'n_units_l3': 2048, 'activation_l3': 'LeakyReLU', 'dropout_l3': 0.026505936497141815, 'batch_norm_l3': True, 'l2_reg_l3': 0.0005189870452694706, 'leakyrelu_alpha_l3': 0.14205497984843377, 'n_units_l4': 64, 'activation_l4': 'LeakyReLU', 'dropout_l4': 0.3443025971521372, 'batch_norm_l4': True, 'l2_reg_l4': 1.3395092749921443e-05, 'leakyrelu_alpha_l4': 0.27112380854672363, 'n_units_l5': 256, 'activation_l5': 'Tanh', 'dropout_l5': 0.17123794383341806, 'batch_norm_l5': True, 'l2_reg_l5': 0.0006258892320541508, 'optimizer': 'RMSprop', 'lr': 0.0003432183291741078, 'rmsprop_alpha': 0.9785362862761717, 'epochs': 632, 'batch_size': 1024, 'early_stopping_patience': 12, 'lr_reduce_factor': 0.21338477862331043, 'lr_reduce_patience': 47, 'min_lr': 6.378446484543629e-06}. Best is trial 247 with value: 0.8903522205206739.\u001b[0m\n"
     ]
    },
    {
     "name": "stdout",
     "output_type": "stream",
     "text": [
      "Early stopping\n",
      "Trial 467 completado. Mejor precisión en validación: 0.8603369065849923\n",
      "Usando GPU para el Trial 468\n",
      "Entrenando Trial 468...\n"
     ]
    },
    {
     "name": "stderr",
     "output_type": "stream",
     "text": [
      "                                                                                                                                                                                                                                                        \r"
     ]
    },
    {
     "name": "stdout",
     "output_type": "stream",
     "text": [
      "Epoch 00102: reducing learning rate of group 0 to 2.5461e-05.\n"
     ]
    },
    {
     "name": "stderr",
     "output_type": "stream",
     "text": [
      "\u001b[32m[I 2023-11-29 20:43:47,547]\u001b[0m Trial 468 finished with value: 0.8719754977029096 and parameters: {'n_layers': 4, 'n_units_l0': 2048, 'activation_l0': 'LeakyReLU', 'dropout_l0': 0.11486004919409032, 'batch_norm_l0': False, 'l2_reg_l0': 0.0009434092816192762, 'leakyrelu_alpha_l0': 0.23679261416864028, 'n_units_l1': 512, 'activation_l1': 'Tanh', 'dropout_l1': 0.4289427009288947, 'batch_norm_l1': False, 'l2_reg_l1': 9.235786585442823e-05, 'n_units_l2': 2048, 'activation_l2': 'ReLU', 'dropout_l2': 0.26419775517067057, 'batch_norm_l2': True, 'l2_reg_l2': 0.0005955535902154966, 'n_units_l3': 512, 'activation_l3': 'LeakyReLU', 'dropout_l3': 0.25667920120148285, 'batch_norm_l3': True, 'l2_reg_l3': 0.0022212427270315513, 'leakyrelu_alpha_l3': 0.14865793359970425, 'optimizer': 'RMSprop', 'lr': 8.343864258667377e-05, 'rmsprop_alpha': 0.9133300341293853, 'epochs': 434, 'batch_size': 64, 'early_stopping_patience': 16, 'lr_reduce_factor': 0.3051405630786444, 'lr_reduce_patience': 44, 'min_lr': 9.71051595045473e-06}. Best is trial 247 with value: 0.8903522205206739.\u001b[0m\n"
     ]
    },
    {
     "name": "stdout",
     "output_type": "stream",
     "text": [
      "Early stopping\n",
      "Trial 468 completado. Mejor precisión en validación: 0.8719754977029096\n",
      "Usando GPU para el Trial 469\n",
      "Entrenando Trial 469...\n"
     ]
    },
    {
     "name": "stderr",
     "output_type": "stream",
     "text": [
      "\u001b[32m[I 2023-11-29 20:44:54,026]\u001b[0m Trial 469 finished with value: 0.8673813169984687 and parameters: {'n_layers': 7, 'n_units_l0': 2048, 'activation_l0': 'LeakyReLU', 'dropout_l0': 0.0831248902568239, 'batch_norm_l0': False, 'l2_reg_l0': 0.0008248378392982062, 'leakyrelu_alpha_l0': 0.2440660345206773, 'n_units_l1': 512, 'activation_l1': 'ELU', 'dropout_l1': 0.3712364427576496, 'batch_norm_l1': False, 'l2_reg_l1': 5.796892096541295e-05, 'n_units_l2': 2048, 'activation_l2': 'ReLU', 'dropout_l2': 0.29007394978051615, 'batch_norm_l2': True, 'l2_reg_l2': 0.0003661003682544379, 'n_units_l3': 512, 'activation_l3': 'LeakyReLU', 'dropout_l3': 0.010053170366283042, 'batch_norm_l3': True, 'l2_reg_l3': 0.0012788391267417676, 'leakyrelu_alpha_l3': 0.12109160633214594, 'n_units_l4': 128, 'activation_l4': 'LeakyReLU', 'dropout_l4': 0.3325985596914161, 'batch_norm_l4': True, 'l2_reg_l4': 2.962166866367094e-05, 'leakyrelu_alpha_l4': 0.26237555376184857, 'n_units_l5': 512, 'activation_l5': 'Tanh', 'dropout_l5': 0.2633684564377157, 'batch_norm_l5': False, 'l2_reg_l5': 0.0001036341709011203, 'n_units_l6': 2048, 'activation_l6': 'ReLU', 'dropout_l6': 0.23077183759947129, 'batch_norm_l6': True, 'l2_reg_l6': 0.031720317521109, 'optimizer': 'RMSprop', 'lr': 0.0070403744186972326, 'rmsprop_alpha': 0.8887525331576253, 'epochs': 113, 'batch_size': 128, 'early_stopping_patience': 18, 'lr_reduce_factor': 0.12450827045603025, 'lr_reduce_patience': 45, 'min_lr': 1.3093908459076325e-06}. Best is trial 247 with value: 0.8903522205206739.\u001b[0m\n"
     ]
    },
    {
     "name": "stdout",
     "output_type": "stream",
     "text": [
      "Early stopping\n",
      "Trial 469 completado. Mejor precisión en validación: 0.8673813169984687\n",
      "Usando GPU para el Trial 470\n",
      "Entrenando Trial 470...\n"
     ]
    },
    {
     "name": "stderr",
     "output_type": "stream",
     "text": [
      "\u001b[32m[I 2023-11-29 20:45:59,106]\u001b[0m Trial 470 finished with value: 0.8572741194486984 and parameters: {'n_layers': 5, 'n_units_l0': 2048, 'activation_l0': 'ReLU', 'dropout_l0': 0.059505809421532156, 'batch_norm_l0': False, 'l2_reg_l0': 0.001396902842550844, 'n_units_l1': 512, 'activation_l1': 'Tanh', 'dropout_l1': 0.2711794077324331, 'batch_norm_l1': False, 'l2_reg_l1': 0.003938553172560232, 'n_units_l2': 64, 'activation_l2': 'ReLU', 'dropout_l2': 0.3216660699476911, 'batch_norm_l2': True, 'l2_reg_l2': 0.0002215956926936402, 'n_units_l3': 2048, 'activation_l3': 'LeakyReLU', 'dropout_l3': 0.24587055165211974, 'batch_norm_l3': True, 'l2_reg_l3': 0.0026681700888179167, 'leakyrelu_alpha_l3': 0.13442381456224675, 'n_units_l4': 64, 'activation_l4': 'ELU', 'dropout_l4': 0.3143296741966591, 'batch_norm_l4': True, 'l2_reg_l4': 1.2479002503117509e-05, 'optimizer': 'RMSprop', 'lr': 3.135440242547603e-05, 'rmsprop_alpha': 0.9843972293032908, 'epochs': 204, 'batch_size': 128, 'early_stopping_patience': 17, 'lr_reduce_factor': 0.20196991833671885, 'lr_reduce_patience': 46, 'min_lr': 8.410262112551833e-06}. Best is trial 247 with value: 0.8903522205206739.\u001b[0m\n"
     ]
    },
    {
     "name": "stdout",
     "output_type": "stream",
     "text": [
      "Early stopping\n",
      "Trial 470 completado. Mejor precisión en validación: 0.8572741194486984\n",
      "Usando GPU para el Trial 471\n",
      "Entrenando Trial 471...\n"
     ]
    },
    {
     "name": "stderr",
     "output_type": "stream",
     "text": [
      "\u001b[32m[I 2023-11-29 20:46:50,353]\u001b[0m Trial 471 finished with value: 0.8655436447166922 and parameters: {'n_layers': 8, 'n_units_l0': 2048, 'activation_l0': 'LeakyReLU', 'dropout_l0': 0.09254575568658259, 'batch_norm_l0': False, 'l2_reg_l0': 0.0010111619531583396, 'leakyrelu_alpha_l0': 0.2294927833684704, 'n_units_l1': 128, 'activation_l1': 'Tanh', 'dropout_l1': 0.3111206977202021, 'batch_norm_l1': False, 'l2_reg_l1': 3.675910627258599e-05, 'n_units_l2': 2048, 'activation_l2': 'ReLU', 'dropout_l2': 0.2984446135066401, 'batch_norm_l2': True, 'l2_reg_l2': 0.0005674288017769794, 'n_units_l3': 512, 'activation_l3': 'SELU', 'dropout_l3': 0.016445926762754644, 'batch_norm_l3': True, 'l2_reg_l3': 0.0034048702914964485, 'n_units_l4': 64, 'activation_l4': 'LeakyReLU', 'dropout_l4': 0.26559124134874745, 'batch_norm_l4': True, 'l2_reg_l4': 1.8509465362324666e-05, 'leakyrelu_alpha_l4': 0.2508245324357183, 'n_units_l5': 256, 'activation_l5': 'Tanh', 'dropout_l5': 0.1887401489067398, 'batch_norm_l5': False, 'l2_reg_l5': 0.00015445182871461546, 'n_units_l6': 32, 'activation_l6': 'ReLU', 'dropout_l6': 0.2065794215471441, 'batch_norm_l6': True, 'l2_reg_l6': 0.00035503661398913545, 'n_units_l7': 64, 'activation_l7': 'Tanh', 'dropout_l7': 0.12251445060251315, 'batch_norm_l7': False, 'l2_reg_l7': 0.026038958788991526, 'optimizer': 'RMSprop', 'lr': 0.0004288914607919025, 'rmsprop_alpha': 0.9737479757108518, 'epochs': 342, 'batch_size': 128, 'early_stopping_patience': 18, 'lr_reduce_factor': 0.32922552106839487, 'lr_reduce_patience': 39, 'min_lr': 1.6734904498231192e-06}. Best is trial 247 with value: 0.8903522205206739.\u001b[0m\n"
     ]
    },
    {
     "name": "stdout",
     "output_type": "stream",
     "text": [
      "Early stopping\n",
      "Trial 471 completado. Mejor precisión en validación: 0.8655436447166922\n",
      "Usando GPU para el Trial 472\n",
      "Entrenando Trial 472...\n"
     ]
    },
    {
     "name": "stderr",
     "output_type": "stream",
     "text": [
      "                                                                                                                                                                                                                                                        \r"
     ]
    },
    {
     "name": "stdout",
     "output_type": "stream",
     "text": [
      "Early stopping\n",
      "Trial 472 completado. Mejor precisión en validación: 0.7926493108728944\n"
     ]
    },
    {
     "name": "stderr",
     "output_type": "stream",
     "text": [
      "\u001b[32m[I 2023-11-29 20:47:51,717]\u001b[0m Trial 472 finished with value: 0.7926493108728944 and parameters: {'n_layers': 43, 'n_units_l0': 2048, 'activation_l0': 'LeakyReLU', 'dropout_l0': 0.07368267891889087, 'batch_norm_l0': True, 'l2_reg_l0': 0.002899901910810513, 'leakyrelu_alpha_l0': 0.22161396295289632, 'n_units_l1': 512, 'activation_l1': 'Tanh', 'dropout_l1': 0.21214643019834964, 'batch_norm_l1': True, 'l2_reg_l1': 0.0034788555983891784, 'n_units_l2': 2048, 'activation_l2': 'ReLU', 'dropout_l2': 0.3434379507324174, 'batch_norm_l2': True, 'l2_reg_l2': 0.00025608992720350905, 'n_units_l3': 2048, 'activation_l3': 'LeakyReLU', 'dropout_l3': 0.2702344895590242, 'batch_norm_l3': True, 'l2_reg_l3': 0.0018680796122699124, 'leakyrelu_alpha_l3': 0.12857886366892718, 'n_units_l4': 64, 'activation_l4': 'LeakyReLU', 'dropout_l4': 0.36919455642100435, 'batch_norm_l4': True, 'l2_reg_l4': 1.025340341939048e-05, 'leakyrelu_alpha_l4': 0.2809692649464021, 'n_units_l5': 256, 'activation_l5': 'Tanh', 'dropout_l5': 0.22180549436175173, 'batch_norm_l5': False, 'l2_reg_l5': 0.00118083170622357, 'n_units_l6': 16, 'activation_l6': 'LeakyReLU', 'dropout_l6': 0.26142066544024595, 'batch_norm_l6': False, 'l2_reg_l6': 1.209306841593103e-05, 'leakyrelu_alpha_l6': 0.22911760373012274, 'n_units_l7': 128, 'activation_l7': 'SELU', 'dropout_l7': 0.49994853384474375, 'batch_norm_l7': False, 'l2_reg_l7': 0.04385508650804192, 'n_units_l8': 1024, 'activation_l8': 'Tanh', 'dropout_l8': 0.01861211894055259, 'batch_norm_l8': True, 'l2_reg_l8': 0.04099984003671034, 'n_units_l9': 16, 'activation_l9': 'SELU', 'dropout_l9': 0.19168696044913525, 'batch_norm_l9': False, 'l2_reg_l9': 0.001009963328027332, 'n_units_l10': 128, 'activation_l10': 'ELU', 'dropout_l10': 0.4978491023287884, 'batch_norm_l10': True, 'l2_reg_l10': 0.014169295743705942, 'n_units_l11': 1024, 'activation_l11': 'LeakyReLU', 'dropout_l11': 0.2879519640731024, 'batch_norm_l11': False, 'l2_reg_l11': 0.0004185751743227562, 'leakyrelu_alpha_l11': 0.16544192486804363, 'n_units_l12': 64, 'activation_l12': 'Tanh', 'dropout_l12': 0.39830593205570586, 'batch_norm_l12': True, 'l2_reg_l12': 0.0015378389397254911, 'n_units_l13': 128, 'activation_l13': 'LeakyReLU', 'dropout_l13': 0.23826186976538324, 'batch_norm_l13': True, 'l2_reg_l13': 0.00026171516121884154, 'leakyrelu_alpha_l13': 0.2319635032700251, 'n_units_l14': 32, 'activation_l14': 'Tanh', 'dropout_l14': 0.32730740097060257, 'batch_norm_l14': True, 'l2_reg_l14': 0.03235452880743409, 'n_units_l15': 128, 'activation_l15': 'Tanh', 'dropout_l15': 0.1798777778354791, 'batch_norm_l15': True, 'l2_reg_l15': 0.00031623091326403186, 'n_units_l16': 16, 'activation_l16': 'ELU', 'dropout_l16': 0.03879286848141206, 'batch_norm_l16': True, 'l2_reg_l16': 0.007016254431710984, 'n_units_l17': 16, 'activation_l17': 'Tanh', 'dropout_l17': 0.05179491081124704, 'batch_norm_l17': False, 'l2_reg_l17': 0.0002099206557927203, 'n_units_l18': 512, 'activation_l18': 'LeakyReLU', 'dropout_l18': 0.4626648725855192, 'batch_norm_l18': True, 'l2_reg_l18': 0.04485200569072908, 'leakyrelu_alpha_l18': 0.19325798364757885, 'n_units_l19': 2048, 'activation_l19': 'SELU', 'dropout_l19': 0.14933890883080347, 'batch_norm_l19': True, 'l2_reg_l19': 0.0042386112222774705, 'n_units_l20': 512, 'activation_l20': 'Tanh', 'dropout_l20': 0.40202963253544355, 'batch_norm_l20': True, 'l2_reg_l20': 0.00012139828374461935, 'n_units_l21': 256, 'activation_l21': 'SELU', 'dropout_l21': 0.39067570633986465, 'batch_norm_l21': False, 'l2_reg_l21': 0.021588008103165367, 'n_units_l22': 128, 'activation_l22': 'Tanh', 'dropout_l22': 0.45497673154532764, 'batch_norm_l22': True, 'l2_reg_l22': 0.0011903598524110783, 'n_units_l23': 32, 'activation_l23': 'ELU', 'dropout_l23': 0.3558566539655099, 'batch_norm_l23': True, 'l2_reg_l23': 0.0001535520830903616, 'n_units_l24': 128, 'activation_l24': 'LeakyReLU', 'dropout_l24': 0.33290177598840515, 'batch_norm_l24': False, 'l2_reg_l24': 0.0001326718484769419, 'leakyrelu_alpha_l24': 0.15924129690622268, 'n_units_l25': 256, 'activation_l25': 'ELU', 'dropout_l25': 0.14246138183926668, 'batch_norm_l25': False, 'l2_reg_l25': 0.03174785631640887, 'n_units_l26': 128, 'activation_l26': 'ReLU', 'dropout_l26': 0.21789509925018566, 'batch_norm_l26': False, 'l2_reg_l26': 0.0002637034951645186, 'n_units_l27': 256, 'activation_l27': 'Tanh', 'dropout_l27': 0.30124856165195135, 'batch_norm_l27': False, 'l2_reg_l27': 0.009269270509001875, 'n_units_l28': 256, 'activation_l28': 'ELU', 'dropout_l28': 0.27414578233363784, 'batch_norm_l28': False, 'l2_reg_l28': 0.012921551494585974, 'n_units_l29': 32, 'activation_l29': 'ReLU', 'dropout_l29': 0.13527522176215748, 'batch_norm_l29': True, 'l2_reg_l29': 0.001289199742398341, 'n_units_l30': 512, 'activation_l30': 'Tanh', 'dropout_l30': 0.39316394563267926, 'batch_norm_l30': False, 'l2_reg_l30': 0.002097036177873999, 'n_units_l31': 256, 'activation_l31': 'SELU', 'dropout_l31': 0.00013697174613619412, 'batch_norm_l31': True, 'l2_reg_l31': 4.476855396523901e-05, 'n_units_l32': 32, 'activation_l32': 'SELU', 'dropout_l32': 0.2675939054387707, 'batch_norm_l32': True, 'l2_reg_l32': 0.0036729245835893484, 'n_units_l33': 512, 'activation_l33': 'ReLU', 'dropout_l33': 0.060983539261858066, 'batch_norm_l33': True, 'l2_reg_l33': 0.0013245679674692419, 'n_units_l34': 512, 'activation_l34': 'SELU', 'dropout_l34': 0.39157304190046627, 'batch_norm_l34': False, 'l2_reg_l34': 3.99751291469493e-05, 'n_units_l35': 256, 'activation_l35': 'ReLU', 'dropout_l35': 0.06801094419306752, 'batch_norm_l35': False, 'l2_reg_l35': 0.023961426238041643, 'n_units_l36': 16, 'activation_l36': 'SELU', 'dropout_l36': 0.21263376393296546, 'batch_norm_l36': False, 'l2_reg_l36': 0.09471337750290687, 'n_units_l37': 16, 'activation_l37': 'SELU', 'dropout_l37': 0.08374612200243153, 'batch_norm_l37': True, 'l2_reg_l37': 1.5030429547858681e-05, 'n_units_l38': 16, 'activation_l38': 'ReLU', 'dropout_l38': 0.08488145045637452, 'batch_norm_l38': False, 'l2_reg_l38': 5.9542345304212964e-05, 'n_units_l39': 64, 'activation_l39': 'LeakyReLU', 'dropout_l39': 0.24922385939617467, 'batch_norm_l39': False, 'l2_reg_l39': 0.0879905883630153, 'leakyrelu_alpha_l39': 0.01467282044174617, 'n_units_l40': 128, 'activation_l40': 'Tanh', 'dropout_l40': 0.49824678976959763, 'batch_norm_l40': True, 'l2_reg_l40': 8.158413047760319e-05, 'n_units_l41': 128, 'activation_l41': 'SELU', 'dropout_l41': 0.38207150564435094, 'batch_norm_l41': False, 'l2_reg_l41': 0.004537630179461791, 'n_units_l42': 2048, 'activation_l42': 'Tanh', 'dropout_l42': 0.13696013916921834, 'batch_norm_l42': False, 'l2_reg_l42': 0.08352631485759314, 'optimizer': 'RMSprop', 'lr': 0.0006193056064346154, 'rmsprop_alpha': 0.971613502416932, 'epochs': 273, 'batch_size': 128, 'early_stopping_patience': 10, 'lr_reduce_factor': 0.28515678644891335, 'lr_reduce_patience': 41, 'min_lr': 1.3838413920526139e-06}. Best is trial 247 with value: 0.8903522205206739.\u001b[0m\n"
     ]
    },
    {
     "name": "stdout",
     "output_type": "stream",
     "text": [
      "Usando GPU para el Trial 473\n",
      "Entrenando Trial 473...\n"
     ]
    },
    {
     "name": "stderr",
     "output_type": "stream",
     "text": [
      "                                                                                                                                                                                                                                                        \r"
     ]
    },
    {
     "name": "stdout",
     "output_type": "stream",
     "text": [
      "Early stopping\n",
      "Trial 473 completado. Mejor precisión en validación: 0.8465543644716692\n"
     ]
    },
    {
     "name": "stderr",
     "output_type": "stream",
     "text": [
      "\u001b[32m[I 2023-11-29 20:48:13,656]\u001b[0m Trial 473 finished with value: 0.8465543644716692 and parameters: {'n_layers': 6, 'n_units_l0': 256, 'activation_l0': 'LeakyReLU', 'dropout_l0': 0.030160392585879048, 'batch_norm_l0': False, 'l2_reg_l0': 0.002829282723503092, 'leakyrelu_alpha_l0': 0.20760087081919515, 'n_units_l1': 512, 'activation_l1': 'Tanh', 'dropout_l1': 0.3641534545703924, 'batch_norm_l1': False, 'l2_reg_l1': 1.8639356450159532e-05, 'n_units_l2': 128, 'activation_l2': 'LeakyReLU', 'dropout_l2': 0.3086912273175147, 'batch_norm_l2': True, 'l2_reg_l2': 0.0004248948636306367, 'leakyrelu_alpha_l2': 0.07199082326049866, 'n_units_l3': 512, 'activation_l3': 'LeakyReLU', 'dropout_l3': 0.023698409663486533, 'batch_norm_l3': True, 'l2_reg_l3': 0.0015498062156305496, 'leakyrelu_alpha_l3': 0.10990018020175654, 'n_units_l4': 64, 'activation_l4': 'LeakyReLU', 'dropout_l4': 0.3474777001993777, 'batch_norm_l4': True, 'l2_reg_l4': 2.1618386089627522e-05, 'leakyrelu_alpha_l4': 0.2936978933791899, 'n_units_l5': 256, 'activation_l5': 'ELU', 'dropout_l5': 0.20018831675537563, 'batch_norm_l5': False, 'l2_reg_l5': 0.0004312976933553046, 'optimizer': 'RMSprop', 'lr': 0.00021102122785468885, 'rmsprop_alpha': 0.9803025172546895, 'epochs': 393, 'batch_size': 2048, 'early_stopping_patience': 17, 'lr_reduce_factor': 0.2528312152326158, 'lr_reduce_patience': 42, 'min_lr': 1.1477884979144035e-06}. Best is trial 247 with value: 0.8903522205206739.\u001b[0m\n"
     ]
    },
    {
     "name": "stdout",
     "output_type": "stream",
     "text": [
      "Usando GPU para el Trial 474\n",
      "Entrenando Trial 474...\n"
     ]
    },
    {
     "name": "stderr",
     "output_type": "stream",
     "text": [
      "                                                                                                                                                                                                                                                        \r"
     ]
    },
    {
     "name": "stdout",
     "output_type": "stream",
     "text": [
      "Epoch 00116: reducing learning rate of group 0 to 4.1476e-05.\n"
     ]
    },
    {
     "name": "stderr",
     "output_type": "stream",
     "text": [
      "                                                                                                                                                                                                                                                        \r"
     ]
    },
    {
     "name": "stdout",
     "output_type": "stream",
     "text": [
      "Early stopping\n",
      "Trial 474 completado. Mejor precisión en validación: 0.8842266462480858\n"
     ]
    },
    {
     "name": "stderr",
     "output_type": "stream",
     "text": [
      "\u001b[32m[I 2023-11-29 20:50:40,497]\u001b[0m Trial 474 finished with value: 0.8842266462480858 and parameters: {'n_layers': 9, 'n_units_l0': 2048, 'activation_l0': 'LeakyReLU', 'dropout_l0': 0.11823212920646059, 'batch_norm_l0': False, 'l2_reg_l0': 0.0007860945843405488, 'leakyrelu_alpha_l0': 0.19946973133726542, 'n_units_l1': 512, 'activation_l1': 'Tanh', 'dropout_l1': 0.34574040618977064, 'batch_norm_l1': False, 'l2_reg_l1': 1.605244453495793e-05, 'n_units_l2': 2048, 'activation_l2': 'ReLU', 'dropout_l2': 0.24146308579965758, 'batch_norm_l2': True, 'l2_reg_l2': 0.0008074576669462548, 'n_units_l3': 512, 'activation_l3': 'LeakyReLU', 'dropout_l3': 0.010055608559379208, 'batch_norm_l3': True, 'l2_reg_l3': 0.0009983780778745285, 'leakyrelu_alpha_l3': 0.11879884186487544, 'n_units_l4': 64, 'activation_l4': 'ReLU', 'dropout_l4': 0.323383974350409, 'batch_norm_l4': True, 'l2_reg_l4': 4.2187501537252194e-05, 'n_units_l5': 256, 'activation_l5': 'Tanh', 'dropout_l5': 0.23299831074326371, 'batch_norm_l5': False, 'l2_reg_l5': 0.00022766000733626677, 'n_units_l6': 128, 'activation_l6': 'Tanh', 'dropout_l6': 0.1988869318585184, 'batch_norm_l6': True, 'l2_reg_l6': 0.004019230576228312, 'n_units_l7': 256, 'activation_l7': 'ELU', 'dropout_l7': 0.07738066728322596, 'batch_norm_l7': False, 'l2_reg_l7': 0.0011350448810262194, 'n_units_l8': 128, 'activation_l8': 'ReLU', 'dropout_l8': 0.25890656037148585, 'batch_norm_l8': False, 'l2_reg_l8': 0.028155005964920543, 'optimizer': 'RMSprop', 'lr': 0.0001571037966406221, 'rmsprop_alpha': 0.9767714860190643, 'epochs': 538, 'batch_size': 128, 'early_stopping_patience': 18, 'lr_reduce_factor': 0.2640026914539841, 'lr_reduce_patience': 44, 'min_lr': 2.3816236241180183e-06}. Best is trial 247 with value: 0.8903522205206739.\u001b[0m\n"
     ]
    },
    {
     "name": "stdout",
     "output_type": "stream",
     "text": [
      "Usando GPU para el Trial 475\n",
      "Entrenando Trial 475...\n"
     ]
    },
    {
     "name": "stderr",
     "output_type": "stream",
     "text": [
      "\u001b[32m[I 2023-11-29 20:51:47,984]\u001b[0m Trial 475 finished with value: 0.8477794793261868 and parameters: {'n_layers': 3, 'n_units_l0': 32, 'activation_l0': 'LeakyReLU', 'dropout_l0': 0.3407120047710216, 'batch_norm_l0': False, 'l2_reg_l0': 0.004238806292490085, 'leakyrelu_alpha_l0': 0.12069801043225165, 'n_units_l1': 512, 'activation_l1': 'Tanh', 'dropout_l1': 0.3238702623854008, 'batch_norm_l1': False, 'l2_reg_l1': 0.0018173903024857236, 'n_units_l2': 2048, 'activation_l2': 'ReLU', 'dropout_l2': 0.2550771779335314, 'batch_norm_l2': True, 'l2_reg_l2': 0.0003113503808375035, 'optimizer': 'RMSprop', 'lr': 0.0006954332804371509, 'rmsprop_alpha': 0.9672117518197907, 'epochs': 476, 'batch_size': 128, 'early_stopping_patience': 19, 'lr_reduce_factor': 0.3789950846836892, 'lr_reduce_patience': 47, 'min_lr': 3.3750834526869837e-06}. Best is trial 247 with value: 0.8903522205206739.\u001b[0m\n"
     ]
    },
    {
     "name": "stdout",
     "output_type": "stream",
     "text": [
      "Early stopping\n",
      "Trial 475 completado. Mejor precisión en validación: 0.8477794793261868\n",
      "Usando GPU para el Trial 476\n",
      "Entrenando Trial 476...\n"
     ]
    },
    {
     "name": "stderr",
     "output_type": "stream",
     "text": [
      "                                                                                                                                                                                                                                                        \r"
     ]
    },
    {
     "name": "stdout",
     "output_type": "stream",
     "text": [
      "Early stopping\n",
      "Trial 476 completado. Mejor precisión en validación: 0.8508422664624808\n"
     ]
    },
    {
     "name": "stderr",
     "output_type": "stream",
     "text": [
      "\u001b[32m[I 2023-11-29 20:52:29,493]\u001b[0m Trial 476 finished with value: 0.8508422664624808 and parameters: {'n_layers': 5, 'n_units_l0': 2048, 'activation_l0': 'LeakyReLU', 'dropout_l0': 0.01838169322244565, 'batch_norm_l0': False, 'l2_reg_l0': 0.003194450893772112, 'leakyrelu_alpha_l0': 0.29591512577143225, 'n_units_l1': 512, 'activation_l1': 'Tanh', 'dropout_l1': 0.39133266799429467, 'batch_norm_l1': False, 'l2_reg_l1': 0.0013094439881951403, 'n_units_l2': 256, 'activation_l2': 'SELU', 'dropout_l2': 0.32501685753310305, 'batch_norm_l2': True, 'l2_reg_l2': 0.000502030031715487, 'n_units_l3': 2048, 'activation_l3': 'LeakyReLU', 'dropout_l3': 0.2863027512309723, 'batch_norm_l3': True, 'l2_reg_l3': 0.0028084785745685938, 'leakyrelu_alpha_l3': 0.15114888483118913, 'n_units_l4': 64, 'activation_l4': 'LeakyReLU', 'dropout_l4': 0.39728217760909046, 'batch_norm_l4': True, 'l2_reg_l4': 2.1171973939627343e-05, 'leakyrelu_alpha_l4': 0.24607608998628866, 'optimizer': 'RMSprop', 'lr': 0.0035417509101349823, 'rmsprop_alpha': 0.9621511440022916, 'epochs': 601, 'batch_size': 128, 'early_stopping_patience': 18, 'lr_reduce_factor': 0.14846441328309729, 'lr_reduce_patience': 43, 'min_lr': 4.679392761487589e-06}. Best is trial 247 with value: 0.8903522205206739.\u001b[0m\n"
     ]
    },
    {
     "name": "stdout",
     "output_type": "stream",
     "text": [
      "Usando GPU para el Trial 477\n",
      "Entrenando Trial 477...\n"
     ]
    },
    {
     "name": "stderr",
     "output_type": "stream",
     "text": [
      "Epoch 67/414:  17%|███████████████████████████████▉                                                                                                                                                                 | 304/1837 [00:00<00:04, 373.53it/s]"
     ]
    }
   ],
   "source": [
    "trials_restantes=50000\n",
    "study.optimize(objective, n_trials=trials_restantes)"
   ]
  },
  {
   "cell_type": "code",
   "execution_count": 15,
   "metadata": {},
   "outputs": [
    {
     "name": "stdout",
     "output_type": "stream",
     "text": [
      "Número de pruebas finalizadas: 478\n",
      "Mejor prueba: {'activation_l0': 'LeakyReLU', 'activation_l1': 'Tanh', 'activation_l2': 'ReLU', 'activation_l3': 'LeakyReLU', 'activation_l4': 'LeakyReLU', 'activation_l5': 'LeakyReLU', 'batch_norm_l0': False, 'batch_norm_l1': False, 'batch_norm_l2': True, 'batch_norm_l3': True, 'batch_norm_l4': True, 'batch_norm_l5': False, 'batch_size': 128, 'dropout_l0': 0.15555416562446076, 'dropout_l1': 0.04710073432465321, 'dropout_l2': 0.47138973051951627, 'dropout_l3': 0.03696926911573405, 'dropout_l4': 0.3663598253395825, 'dropout_l5': 0.0760906198358584, 'early_stopping_patience': 19, 'epochs': 1828, 'l2_reg_l0': 0.0006237200063191363, 'l2_reg_l1': 0.0041501135567624334, 'l2_reg_l2': 5.418952601060645e-05, 'l2_reg_l3': 0.0038582256308527614, 'l2_reg_l4': 0.0003165493944413712, 'l2_reg_l5': 1.1447128613987452e-05, 'leakyrelu_alpha_l0': 0.28934819519495897, 'leakyrelu_alpha_l3': 0.09538751187985593, 'leakyrelu_alpha_l4': 0.29991298638602004, 'leakyrelu_alpha_l5': 0.09699727259376889, 'lr': 0.0007748614176766361, 'lr_reduce_factor': 0.5657812299571247, 'lr_reduce_patience': 34, 'min_lr': 4.549627177733477e-05, 'n_layers': 6, 'n_units_l0': 2048, 'n_units_l1': 512, 'n_units_l2': 1024, 'n_units_l3': 1024, 'n_units_l4': 64, 'n_units_l5': 128, 'optimizer': 'RMSprop', 'rmsprop_alpha': 0.9798552266592977}\n"
     ]
    }
   ],
   "source": [
    "print('Número de pruebas finalizadas:', len(study.trials))\n",
    "print('Mejor prueba:', study.best_trial.params)"
   ]
  },
  {
   "cell_type": "markdown",
   "metadata": {},
   "source": [
    "## Test"
   ]
  },
  {
   "cell_type": "code",
   "execution_count": 16,
   "metadata": {},
   "outputs": [],
   "source": [
    "import torch.nn as nn\n",
    "\n",
    "class PyTorchModel(nn.Module):\n",
    "    def __init__(self, params, input_shape):\n",
    "        super(PyTorchModel, self).__init__()\n",
    "        self.layers = nn.ModuleList()\n",
    "        self.l2_regs = []\n",
    "        current_shape = input_shape\n",
    "\n",
    "        # Definir la arquitectura de la red usando los hiperparámetros fijos\n",
    "        n_layers = params['n_layers']\n",
    "        for i in range(n_layers):\n",
    "            num_units = params[f'n_units_l{i}']\n",
    "            activation = params[f'activation_l{i}']\n",
    "            dropout_rate = params[f'dropout_l{i}']\n",
    "            use_batch_norm = params[f'batch_norm_l{i}']\n",
    "            l2_reg = params[f'l2_reg_l{i}']\n",
    "\n",
    "            # Crear y añadir la capa lineal\n",
    "            layer = nn.Linear(current_shape, num_units)\n",
    "            self.layers.append(layer)\n",
    "            self.l2_regs.append(l2_reg)  # Añadir la tasa de regularización L2\n",
    "\n",
    "            current_shape = num_units\n",
    "\n",
    "            # Añadir Batch Normalization si se indica\n",
    "            if use_batch_norm:\n",
    "                self.layers.append(nn.BatchNorm1d(num_units))\n",
    "            \n",
    "            # Añadir Dropout\n",
    "            self.layers.append(nn.Dropout(dropout_rate))\n",
    "\n",
    "            # Añadir la activación\n",
    "            if activation == 'LeakyReLU':\n",
    "                negative_slope = params.get(f'leakyrelu_alpha_l{i}', 0.01)  # Valor predeterminado si no se proporciona\n",
    "                self.layers.append(nn.LeakyReLU(negative_slope=negative_slope))\n",
    "            else:\n",
    "                self.layers.append(getattr(nn, activation)())\n",
    "\n",
    "        # Capa de salida\n",
    "        self.output = nn.Linear(current_shape, 1)\n",
    "\n",
    "    def forward(self, x):\n",
    "        for layer in self.layers:\n",
    "            x = layer(x)\n",
    "        return torch.sigmoid(self.output(x))\n",
    "\n",
    "    def get_l2_loss(self):\n",
    "        l2_loss = 0.0\n",
    "        for layer, l2_reg in zip(self.layers, self.l2_regs):\n",
    "            if isinstance(layer, nn.Linear):\n",
    "                l2_loss += l2_reg * layer.weight.norm(2)\n",
    "        return l2_loss\n"
   ]
  },
  {
   "cell_type": "code",
   "execution_count": 19,
   "metadata": {},
   "outputs": [
    {
     "name": "stdout",
     "output_type": "stream",
     "text": [
      "odict_keys(['layers.0.weight', 'layers.0.bias', 'layers.3.weight', 'layers.3.bias', 'layers.6.weight', 'layers.6.bias', 'layers.7.weight', 'layers.7.bias', 'layers.7.running_mean', 'layers.7.running_var', 'layers.7.num_batches_tracked', 'layers.10.weight', 'layers.10.bias', 'layers.11.weight', 'layers.11.bias', 'layers.11.running_mean', 'layers.11.running_var', 'layers.11.num_batches_tracked', 'output.weight', 'output.bias'])\n"
     ]
    }
   ],
   "source": [
    "import torch\n",
    "\n",
    "# Cargar el estado del modelo\n",
    "state_dict = torch.load(\"best_model.pt\")\n",
    "\n",
    "# Imprimir la estructura del modelo\n",
    "print(state_dict.keys())\n"
   ]
  },
  {
   "cell_type": "code",
   "execution_count": 18,
   "metadata": {},
   "outputs": [
    {
     "ename": "RuntimeError",
     "evalue": "Error(s) in loading state_dict for PyTorchModel:\n\tMissing key(s) in state_dict: \"layers.14.weight\", \"layers.14.bias\", \"layers.15.weight\", \"layers.15.bias\", \"layers.15.running_mean\", \"layers.15.running_var\", \"layers.18.weight\", \"layers.18.bias\". \n\tsize mismatch for layers.6.weight: copying a param with shape torch.Size([2048, 512]) from checkpoint, the shape in current model is torch.Size([1024, 512]).\n\tsize mismatch for layers.6.bias: copying a param with shape torch.Size([2048]) from checkpoint, the shape in current model is torch.Size([1024]).\n\tsize mismatch for layers.7.weight: copying a param with shape torch.Size([2048]) from checkpoint, the shape in current model is torch.Size([1024]).\n\tsize mismatch for layers.7.bias: copying a param with shape torch.Size([2048]) from checkpoint, the shape in current model is torch.Size([1024]).\n\tsize mismatch for layers.7.running_mean: copying a param with shape torch.Size([2048]) from checkpoint, the shape in current model is torch.Size([1024]).\n\tsize mismatch for layers.7.running_var: copying a param with shape torch.Size([2048]) from checkpoint, the shape in current model is torch.Size([1024]).\n\tsize mismatch for layers.10.weight: copying a param with shape torch.Size([2048, 2048]) from checkpoint, the shape in current model is torch.Size([1024, 1024]).\n\tsize mismatch for layers.10.bias: copying a param with shape torch.Size([2048]) from checkpoint, the shape in current model is torch.Size([1024]).\n\tsize mismatch for layers.11.weight: copying a param with shape torch.Size([2048]) from checkpoint, the shape in current model is torch.Size([1024]).\n\tsize mismatch for layers.11.bias: copying a param with shape torch.Size([2048]) from checkpoint, the shape in current model is torch.Size([1024]).\n\tsize mismatch for layers.11.running_mean: copying a param with shape torch.Size([2048]) from checkpoint, the shape in current model is torch.Size([1024]).\n\tsize mismatch for layers.11.running_var: copying a param with shape torch.Size([2048]) from checkpoint, the shape in current model is torch.Size([1024]).\n\tsize mismatch for output.weight: copying a param with shape torch.Size([1, 2048]) from checkpoint, the shape in current model is torch.Size([1, 128]).",
     "output_type": "error",
     "traceback": [
      "\u001b[0;31m---------------------------------------------------------------------------\u001b[0m",
      "\u001b[0;31mRuntimeError\u001b[0m                              Traceback (most recent call last)",
      "\u001b[1;32m/home/21953404Victor/Deep/Optimizacion gpu.ipynb Celda 20\u001b[0m line \u001b[0;36m2\n\u001b[1;32m      <a href='vscode-notebook-cell://ssh-remote%2B195.235.211.197/home/21953404Victor/Deep/Optimizacion%20gpu.ipynb#X35sdnNjb2RlLXJlbW90ZQ%3D%3D?line=0'>1</a>\u001b[0m model \u001b[39m=\u001b[39m PyTorchModel(study\u001b[39m.\u001b[39mbest_trial\u001b[39m.\u001b[39mparams, input_shape)\n\u001b[0;32m----> <a href='vscode-notebook-cell://ssh-remote%2B195.235.211.197/home/21953404Victor/Deep/Optimizacion%20gpu.ipynb#X35sdnNjb2RlLXJlbW90ZQ%3D%3D?line=1'>2</a>\u001b[0m model\u001b[39m.\u001b[39;49mload_state_dict(torch\u001b[39m.\u001b[39;49mload(\u001b[39m\"\u001b[39;49m\u001b[39mbest_model.pt\u001b[39;49m\u001b[39m\"\u001b[39;49m))\n\u001b[1;32m      <a href='vscode-notebook-cell://ssh-remote%2B195.235.211.197/home/21953404Victor/Deep/Optimizacion%20gpu.ipynb#X35sdnNjb2RlLXJlbW90ZQ%3D%3D?line=2'>3</a>\u001b[0m model\u001b[39m.\u001b[39meval()  \u001b[39m# Poner el modelo en modo de evaluación\u001b[39;00m\n",
      "File \u001b[0;32m~/SDC3/tutorial-env/lib/python3.10/site-packages/torch/nn/modules/module.py:2041\u001b[0m, in \u001b[0;36mModule.load_state_dict\u001b[0;34m(self, state_dict, strict)\u001b[0m\n\u001b[1;32m   2036\u001b[0m         error_msgs\u001b[39m.\u001b[39minsert(\n\u001b[1;32m   2037\u001b[0m             \u001b[39m0\u001b[39m, \u001b[39m'\u001b[39m\u001b[39mMissing key(s) in state_dict: \u001b[39m\u001b[39m{}\u001b[39;00m\u001b[39m. \u001b[39m\u001b[39m'\u001b[39m\u001b[39m.\u001b[39mformat(\n\u001b[1;32m   2038\u001b[0m                 \u001b[39m'\u001b[39m\u001b[39m, \u001b[39m\u001b[39m'\u001b[39m\u001b[39m.\u001b[39mjoin(\u001b[39m'\u001b[39m\u001b[39m\"\u001b[39m\u001b[39m{}\u001b[39;00m\u001b[39m\"\u001b[39m\u001b[39m'\u001b[39m\u001b[39m.\u001b[39mformat(k) \u001b[39mfor\u001b[39;00m k \u001b[39min\u001b[39;00m missing_keys)))\n\u001b[1;32m   2040\u001b[0m \u001b[39mif\u001b[39;00m \u001b[39mlen\u001b[39m(error_msgs) \u001b[39m>\u001b[39m \u001b[39m0\u001b[39m:\n\u001b[0;32m-> 2041\u001b[0m     \u001b[39mraise\u001b[39;00m \u001b[39mRuntimeError\u001b[39;00m(\u001b[39m'\u001b[39m\u001b[39mError(s) in loading state_dict for \u001b[39m\u001b[39m{}\u001b[39;00m\u001b[39m:\u001b[39m\u001b[39m\\n\u001b[39;00m\u001b[39m\\t\u001b[39;00m\u001b[39m{}\u001b[39;00m\u001b[39m'\u001b[39m\u001b[39m.\u001b[39mformat(\n\u001b[1;32m   2042\u001b[0m                        \u001b[39mself\u001b[39m\u001b[39m.\u001b[39m\u001b[39m__class__\u001b[39m\u001b[39m.\u001b[39m\u001b[39m__name__\u001b[39m, \u001b[39m\"\u001b[39m\u001b[39m\\n\u001b[39;00m\u001b[39m\\t\u001b[39;00m\u001b[39m\"\u001b[39m\u001b[39m.\u001b[39mjoin(error_msgs)))\n\u001b[1;32m   2043\u001b[0m \u001b[39mreturn\u001b[39;00m _IncompatibleKeys(missing_keys, unexpected_keys)\n",
      "\u001b[0;31mRuntimeError\u001b[0m: Error(s) in loading state_dict for PyTorchModel:\n\tMissing key(s) in state_dict: \"layers.14.weight\", \"layers.14.bias\", \"layers.15.weight\", \"layers.15.bias\", \"layers.15.running_mean\", \"layers.15.running_var\", \"layers.18.weight\", \"layers.18.bias\". \n\tsize mismatch for layers.6.weight: copying a param with shape torch.Size([2048, 512]) from checkpoint, the shape in current model is torch.Size([1024, 512]).\n\tsize mismatch for layers.6.bias: copying a param with shape torch.Size([2048]) from checkpoint, the shape in current model is torch.Size([1024]).\n\tsize mismatch for layers.7.weight: copying a param with shape torch.Size([2048]) from checkpoint, the shape in current model is torch.Size([1024]).\n\tsize mismatch for layers.7.bias: copying a param with shape torch.Size([2048]) from checkpoint, the shape in current model is torch.Size([1024]).\n\tsize mismatch for layers.7.running_mean: copying a param with shape torch.Size([2048]) from checkpoint, the shape in current model is torch.Size([1024]).\n\tsize mismatch for layers.7.running_var: copying a param with shape torch.Size([2048]) from checkpoint, the shape in current model is torch.Size([1024]).\n\tsize mismatch for layers.10.weight: copying a param with shape torch.Size([2048, 2048]) from checkpoint, the shape in current model is torch.Size([1024, 1024]).\n\tsize mismatch for layers.10.bias: copying a param with shape torch.Size([2048]) from checkpoint, the shape in current model is torch.Size([1024]).\n\tsize mismatch for layers.11.weight: copying a param with shape torch.Size([2048]) from checkpoint, the shape in current model is torch.Size([1024]).\n\tsize mismatch for layers.11.bias: copying a param with shape torch.Size([2048]) from checkpoint, the shape in current model is torch.Size([1024]).\n\tsize mismatch for layers.11.running_mean: copying a param with shape torch.Size([2048]) from checkpoint, the shape in current model is torch.Size([1024]).\n\tsize mismatch for layers.11.running_var: copying a param with shape torch.Size([2048]) from checkpoint, the shape in current model is torch.Size([1024]).\n\tsize mismatch for output.weight: copying a param with shape torch.Size([1, 2048]) from checkpoint, the shape in current model is torch.Size([1, 128])."
     ]
    }
   ],
   "source": [
    "model = PyTorchModel(study.best_trial.params, input_shape)\n",
    "model.load_state_dict(torch.load(\"best_model.pt\"))\n",
    "model.eval()  # Poner el modelo en modo de evaluación"
   ]
  },
  {
   "cell_type": "code",
   "execution_count": null,
   "metadata": {},
   "outputs": [],
   "source": [
    "def evaluate_model(model, criterion, test_loader, device):\n",
    "    model.eval()  # Poner el modelo en modo de evaluación\n",
    "    test_loss = 0\n",
    "    correct = 0\n",
    "    total = 0\n",
    "\n",
    "    with torch.no_grad():  # Desactivar el cálculo de gradientes\n",
    "        for inputs, labels in test_loader:\n",
    "            inputs, labels = inputs.to(device), labels.to(device)\n",
    "            outputs = model(inputs)\n",
    "            test_loss += criterion(outputs, labels).item()  # Sumar la pérdida del lote\n",
    "            predicted = outputs.round()  # Redondear las salidas para obtener predicciones binarias\n",
    "            correct += (predicted == labels).sum().item()  # Sumar predicciones correctas\n",
    "            total += labels.size(0)\n",
    "\n",
    "    test_loss /= len(test_loader)\n",
    "    accuracy = correct / total\n",
    "    return test_loss, accuracy\n",
    "\n",
    "# Suponiendo que tienes un DataLoader para el conjunto de prueba llamado 'test_loader'\n",
    "test_loss, test_accuracy = evaluate_model(model, criterion, test_loader, device)\n",
    "print(f'Test Loss: {test_loss:.4f}, Test Accuracy: {test_accuracy:.4f}')\n"
   ]
  },
  {
   "cell_type": "code",
   "execution_count": null,
   "metadata": {},
   "outputs": [],
   "source": [
    "import torch\n",
    "import numpy as np\n",
    "import matplotlib.pyplot as plt\n",
    "import seaborn as sns\n",
    "from sklearn.metrics import confusion_matrix, accuracy_score, recall_score, precision_score, f1_score\n",
    "\n",
    "# Asegurarse de que el modelo esté en modo de evaluación y moverlo al dispositivo adecuado\n",
    "model.eval()\n",
    "device = torch.device(\"cuda\" if torch.cuda.is_available() else \"cpu\")\n",
    "model.to(device)\n",
    "\n",
    "# Realizar las predicciones\n",
    "with torch.no_grad():\n",
    "    inputs = features_test.to(device)\n",
    "    outputs = model(inputs)\n",
    "    predictions = outputs.round().cpu().numpy()  # Redondear las predicciones y moverlas al CPU\n",
    "\n",
    "# Calcular y visualizar la matriz de confusión\n",
    "conf_matrix = confusion_matrix(labels_test.numpy(), predictions)\n",
    "plt.figure(figsize=(8, 6))\n",
    "sns.heatmap(conf_matrix, annot=True, fmt='g', cmap='Blues')\n",
    "plt.title('Matriz de Confusión')\n",
    "plt.xlabel('Predicciones')\n",
    "plt.ylabel('Valores Reales')\n",
    "plt.show()\n",
    "\n",
    "# Calcular y mostrar otras métricas\n",
    "accuracy = accuracy_score(labels_test.numpy(), predictions)\n",
    "recall = recall_score(labels_test.numpy(), predictions)\n",
    "precision = precision_score(labels_test.numpy(), predictions)\n",
    "f1 = f1_score(labels_test.numpy(), predictions)\n",
    "print(f\"Accuracy: {accuracy}\")\n",
    "print(f\"Recall: {recall}\")\n",
    "print(f\"Precision: {precision}\")\n",
    "print(f\"F1 Score: {f1}\")"
   ]
  },
  {
   "cell_type": "code",
   "execution_count": null,
   "metadata": {},
   "outputs": [],
   "source": []
  }
 ],
 "metadata": {
  "kernelspec": {
   "display_name": "tutorial-env",
   "language": "python",
   "name": "python3"
  },
  "language_info": {
   "codemirror_mode": {
    "name": "ipython",
    "version": 3
   },
   "file_extension": ".py",
   "mimetype": "text/x-python",
   "name": "python",
   "nbconvert_exporter": "python",
   "pygments_lexer": "ipython3",
   "version": "3.10.12"
  }
 },
 "nbformat": 4,
 "nbformat_minor": 2
}
