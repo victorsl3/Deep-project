{
 "cells": [
  {
   "cell_type": "code",
   "execution_count": 1,
   "metadata": {},
   "outputs": [],
   "source": [
    "import os\n",
    "os.environ[\"SQLITE_BUSY_TIMEOUT\"] = \"30000\"  # 30 segundos"
   ]
  },
  {
   "cell_type": "code",
   "execution_count": 2,
   "metadata": {},
   "outputs": [],
   "source": [
    "import numpy as np\n",
    "import pandas as pd\n",
    "from sklearn.preprocessing import LabelEncoder, minmax_scale, scale\n",
    "import matplotlib.pyplot as plt\n",
    "import torch\n",
    "from torch.utils.data import TensorDataset, DataLoader"
   ]
  },
  {
   "cell_type": "code",
   "execution_count": 3,
   "metadata": {},
   "outputs": [],
   "source": [
    "data_path= \"/home/21953404Victor/Deep/drive-download-20231121T165626Z-001/HotelReservationsPreparedCleanAttributes.csv\"\n",
    "label_path = \"/home/21953404Victor/Deep/drive-download-20231121T165626Z-001/HotelReservationsOutput.csv\""
   ]
  },
  {
   "cell_type": "code",
   "execution_count": 4,
   "metadata": {},
   "outputs": [],
   "source": [
    "features  = pd.read_csv(data_path)\n",
    "labels = pd.read_csv(label_path)"
   ]
  },
  {
   "cell_type": "code",
   "execution_count": 5,
   "metadata": {},
   "outputs": [],
   "source": [
    "from sklearn.model_selection import train_test_split\n",
    "# Divide el conjunto de datos\n",
    "features_train, features_test, labels_train, labels_test = train_test_split(features.values, labels.values, test_size=0.1, random_state=42)\n",
    "features_train, features_val, labels_train, labels_val = train_test_split(features_train, labels_train, test_size=0.1, random_state=42)\n",
    "\n",
    "# Convierte los arrays a tensores de PyTorch\n",
    "features_train = torch.tensor(features_train).float()\n",
    "labels_train = torch.tensor(labels_train).float()\n",
    "features_val = torch.tensor(features_val).float()\n",
    "labels_val = torch.tensor(labels_val).float()\n",
    "features_test = torch.tensor(features_test).float()\n",
    "labels_test = torch.tensor(labels_test).float()\n",
    "\n",
    "# Crea conjuntos de datos de PyTorch\n",
    "train_dataset = TensorDataset(features_train, labels_train)\n",
    "val_dataset = TensorDataset(features_val, labels_val)\n",
    "test_dataset = TensorDataset(features_test, labels_test)\n",
    "\n",
    "# Crea DataLoaders de PyTorch\n",
    "train_loader = DataLoader(train_dataset, batch_size=64, shuffle=True)\n",
    "val_loader = DataLoader(val_dataset, batch_size=64, shuffle=False)\n",
    "test_loader = DataLoader(test_dataset, batch_size=64, shuffle=False)"
   ]
  },
  {
   "cell_type": "code",
   "execution_count": 6,
   "metadata": {},
   "outputs": [
    {
     "name": "stderr",
     "output_type": "stream",
     "text": [
      "2023-12-01 16:41:33.989546: I tensorflow/core/platform/cpu_feature_guard.cc:193] This TensorFlow binary is optimized with oneAPI Deep Neural Network Library (oneDNN) to use the following CPU instructions in performance-critical operations:  AVX2 FMA\n",
      "To enable them in other operations, rebuild TensorFlow with the appropriate compiler flags.\n",
      "2023-12-01 16:41:34.116881: E tensorflow/stream_executor/cuda/cuda_blas.cc:2981] Unable to register cuBLAS factory: Attempting to register factory for plugin cuBLAS when one has already been registered\n",
      "2023-12-01 16:41:34.692035: W tensorflow/stream_executor/platform/default/dso_loader.cc:64] Could not load dynamic library 'libnvinfer.so.7'; dlerror: libnvinfer.so.7: cannot open shared object file: No such file or directory; LD_LIBRARY_PATH: /opt/hadoop/lib/native:/opt/hadoop/lib/native:\n",
      "2023-12-01 16:41:34.692092: W tensorflow/stream_executor/platform/default/dso_loader.cc:64] Could not load dynamic library 'libnvinfer_plugin.so.7'; dlerror: libnvinfer_plugin.so.7: cannot open shared object file: No such file or directory; LD_LIBRARY_PATH: /opt/hadoop/lib/native:/opt/hadoop/lib/native:\n",
      "2023-12-01 16:41:34.692096: W tensorflow/compiler/tf2tensorrt/utils/py_utils.cc:38] TF-TRT Warning: Cannot dlopen some TensorRT libraries. If you would like to use Nvidia GPU with TensorRT, please make sure the missing libraries mentioned above are installed properly.\n"
     ]
    },
    {
     "name": "stdout",
     "output_type": "stream",
     "text": [
      "CUDA disponible: True\n",
      "Listado de dispositivos GPU disponibles:\n",
      "GPU 0: NVIDIA GeForce RTX 3080 Ti\n"
     ]
    }
   ],
   "source": [
    "import tensorflow as tf\n",
    "import torch\n",
    "\n",
    "# Verificar si CUDA está disponible\n",
    "cuda_available = torch.cuda.is_available()\n",
    "print(f\"CUDA disponible: {cuda_available}\")\n",
    "\n",
    "# Enumerar dispositivos de GPU disponibles y mostrar sus nombres si CUDA está disponible\n",
    "if cuda_available:\n",
    "    print(\"Listado de dispositivos GPU disponibles:\")\n",
    "    for i in range(torch.cuda.device_count()):\n",
    "        print(f\"GPU {i}: {torch.cuda.get_device_name(i)}\")\n",
    "else:\n",
    "    print(\"No se detectó una GPU. Asegúrate de que el acelerador de hardware esté configurado.\")\n"
   ]
  },
  {
   "cell_type": "code",
   "execution_count": 7,
   "metadata": {},
   "outputs": [],
   "source": [
    "import torch.nn as nn\n",
    "\n",
    "class PyTorchModel(nn.Module):\n",
    "    def __init__(self, trial, input_shape):\n",
    "        super(PyTorchModel, self).__init__()\n",
    "        self.layers = nn.ModuleList()\n",
    "        self.l2_regs = []\n",
    "        current_shape = input_shape\n",
    "\n",
    "        # Definir la arquitectura de la red\n",
    "        n_layers = trial.suggest_int('n_layers', 1, 50)\n",
    "        for i in range(n_layers):\n",
    "            num_units = trial.suggest_categorical(f'n_units_l{i}', [16, 32, 64, 128, 256, 512, 1024, 2048])\n",
    "            activation = trial.suggest_categorical(f'activation_l{i}', ['ReLU', 'Tanh', 'ELU', 'SELU', 'LeakyReLU'])\n",
    "            dropout_rate = trial.suggest_float(f'dropout_l{i}', 0.0, 0.5)\n",
    "            use_batch_norm = trial.suggest_categorical(f'batch_norm_l{i}', [True, False])\n",
    "            l2_reg = trial.suggest_float(f'l2_reg_l{i}', 1e-5, 1e-1, log=True)\n",
    "\n",
    "            # Crear y añadir la capa lineal\n",
    "            layer = nn.Linear(current_shape, num_units)\n",
    "            self.layers.append(layer)\n",
    "            self.l2_regs.append(l2_reg)  # Añadir la tasa de regularización L2\n",
    "\n",
    "            current_shape = num_units\n",
    "\n",
    "            # Añadir Batch Normalization si se indica\n",
    "            if use_batch_norm:\n",
    "                self.layers.append(nn.BatchNorm1d(num_units))\n",
    "            \n",
    "            # Añadir Dropout\n",
    "            self.layers.append(nn.Dropout(dropout_rate))\n",
    "\n",
    "            # Añadir la activación\n",
    "            if activation == 'LeakyReLU':\n",
    "                negative_slope = trial.suggest_float(f'leakyrelu_alpha_l{i}', 0.01, 0.3)\n",
    "                self.layers.append(nn.LeakyReLU(negative_slope=negative_slope))\n",
    "            else:\n",
    "                self.layers.append(getattr(nn, activation)())\n",
    "\n",
    "        # Capa de salida\n",
    "        self.output = nn.Linear(current_shape, 1)\n",
    "\n",
    "    def forward(self, x):\n",
    "        for layer in self.layers:\n",
    "            x = layer(x)\n",
    "        return torch.sigmoid(self.output(x))\n",
    "\n",
    "    def get_l2_loss(self):\n",
    "        l2_loss = 0.0\n",
    "        for layer, l2_reg in zip(self.layers, self.l2_regs):\n",
    "            if isinstance(layer, nn.Linear):\n",
    "                l2_loss += l2_reg * layer.weight.norm(2)\n",
    "        return l2_loss\n",
    "\n"
   ]
  },
  {
   "cell_type": "code",
   "execution_count": 8,
   "metadata": {},
   "outputs": [],
   "source": [
    "from torch.optim import Adam, SGD, RMSprop\n",
    "from torch.utils.data import DataLoader\n",
    "\n",
    "def build_model(params, input_shape, is_trial=True):\n",
    "    # Crear una instancia del modelo con la arquitectura definida\n",
    "    model = PyTorchModel(params, input_shape)\n",
    "\n",
    "    if is_trial:\n",
    "        # Configuración durante la optimización con Optuna\n",
    "        optimizer_name = params.suggest_categorical('optimizer', ['Adam', 'SGD', 'RMSprop'])\n",
    "        lr = params.suggest_float('lr', 1e-5, 1e-1, log=True)\n",
    "        if optimizer_name == 'Adam':\n",
    "            beta1 = params.suggest_float('adam_beta1', 0.85, 0.99)\n",
    "            beta2 = params.suggest_float('adam_beta2', 0.9, 0.999)\n",
    "            optimizer = Adam(model.parameters(), lr=lr, betas=(beta1, beta2))\n",
    "        elif optimizer_name == 'SGD':\n",
    "            momentum = params.suggest_float('sgd_momentum', 0.1, 0.9)\n",
    "            optimizer = SGD(model.parameters(), lr=lr, momentum=momentum)\n",
    "        elif optimizer_name == 'RMSprop':\n",
    "            alpha = params.suggest_float('rmsprop_alpha', 0.85, 0.99)\n",
    "            optimizer = RMSprop(model.parameters(), lr=lr, alpha=alpha)\n",
    "    else:\n",
    "        # Configuración con parámetros fijos\n",
    "        optimizer_name = params['optimizer']\n",
    "        if optimizer_name == 'Adam':\n",
    "            optimizer = Adam(model.parameters(), lr=params['lr'], betas=(params['adam_beta1'], params['adam_beta2']))\n",
    "        elif optimizer_name == 'SGD':\n",
    "            optimizer = SGD(model.parameters(), lr=params['lr'], momentum=params.get('sgd_momentum', 0.9))\n",
    "        elif optimizer_name == 'RMSprop':\n",
    "            optimizer = RMSprop(model.parameters(), lr=params['lr'], alpha=params.get('rmsprop_alpha', 0.99))\n",
    "\n",
    "    return model, optimizer\n",
    "\n"
   ]
  },
  {
   "cell_type": "code",
   "execution_count": 9,
   "metadata": {},
   "outputs": [],
   "source": [
    "from tqdm import tqdm\n",
    "import torch\n",
    "\n",
    "def calculate_accuracy(outputs, labels):\n",
    "    predicted = outputs.round()  # Redondear para obtener las predicciones binarias\n",
    "    correct = (predicted == labels).sum().item()\n",
    "    return correct / labels.size(0)"
   ]
  },
  {
   "cell_type": "code",
   "execution_count": 10,
   "metadata": {},
   "outputs": [],
   "source": [
    "import matplotlib.pyplot as plt\n",
    "from tqdm import tqdm\n",
    "import torch\n",
    "import gc\n",
    "from torch.utils.data import DataLoader\n",
    "\n",
    "def plot_metrics(train_losses, val_losses, train_accuracies, val_accuracies, file_name_base):\n",
    "    plt.figure(figsize=(12, 4))\n",
    "\n",
    "    # Pérdida\n",
    "    plt.subplot(1, 2, 1)\n",
    "    plt.plot(train_losses, label='Train Loss')\n",
    "    plt.plot(val_losses, label='Validation Loss')\n",
    "    plt.title('Pérdida durante el entrenamiento')\n",
    "    plt.xlabel('Épocas')\n",
    "    plt.ylabel('Pérdida')\n",
    "    plt.legend()\n",
    "\n",
    "    # Precisión\n",
    "    plt.subplot(1, 2, 2)\n",
    "    plt.plot(train_accuracies, label='Train Accuracy')\n",
    "    plt.plot(val_accuracies, label='Validation Accuracy')\n",
    "    plt.title('Precisión durante el entrenamiento')\n",
    "    plt.xlabel('Épocas')\n",
    "    plt.ylabel('Precisión')\n",
    "    plt.legend()\n",
    "\n",
    "    plt.savefig(f\"{file_name_base}_plot.png\")\n",
    "    plt.close()"
   ]
  },
  {
   "cell_type": "code",
   "execution_count": 11,
   "metadata": {},
   "outputs": [
    {
     "name": "stdout",
     "output_type": "stream",
     "text": [
      "Mejor accuracy global: 0.8921898928024502\n"
     ]
    }
   ],
   "source": [
    "import json\n",
    "\n",
    "best_accuracy_file = \"global_best_accuracy.json\"\n",
    "\n",
    "# Intenta cargar la mejor precisión global desde un archivo\n",
    "try:\n",
    "    with open(best_accuracy_file, \"r\") as file:\n",
    "        global_best_accuracy = json.load(file)\n",
    "except (FileNotFoundError, json.JSONDecodeError, TypeError, ValueError):\n",
    "    global_best_accuracy = 0.0\n",
    "    \n",
    "best_model_path = \"best_model.pt\"\n",
    "plot_file_name_base = \"best_model\"\n",
    "\n",
    "print(f\"Mejor accuracy global: {global_best_accuracy}\")"
   ]
  },
  {
   "cell_type": "markdown",
   "metadata": {},
   "source": [
    "## Train"
   ]
  },
  {
   "cell_type": "code",
   "execution_count": 12,
   "metadata": {},
   "outputs": [],
   "source": [
    "import torch\n",
    "import gc\n",
    "from torch.utils.data import DataLoader\n",
    "\n",
    "def objective(trial):\n",
    "    global global_best_accuracy, best_model_path, plot_file_name_base\n",
    "    # Verificar y configurar el uso de la GPU\n",
    "    device = torch.device('cuda' if torch.cuda.is_available() else 'cpu')\n",
    "    print(f\"Usando {'GPU' if device.type == 'cuda' else 'CPU'} para el Trial {trial.number}\")\n",
    "\n",
    "    model, optimizer = build_model(trial, input_shape)  # Asegúrate de que 'input_shape' esté definido\n",
    "    model.to(device)\n",
    "\n",
    "    # Parametrización del número de épocas y tamaño del batch\n",
    "    epochs = trial.suggest_int('epochs', 10, 2000)\n",
    "    batch_size = trial.suggest_categorical('batch_size', [16, 32, 64, 128, 256, 512, 1024, 2048])\n",
    "\n",
    "    # Criterio de pérdida y DataLoader\n",
    "    criterion = torch.nn.BCELoss()  # Ajustar según tu problema\n",
    "    train_loader = DataLoader(train_dataset, batch_size=batch_size, shuffle=True)\n",
    "    val_loader = DataLoader(val_dataset, batch_size=batch_size, shuffle=False)\n",
    "\n",
    "    # Configuración de Early Stopping y Learning Rate Scheduler\n",
    "    early_stopping_patience = trial.suggest_int('early_stopping_patience', 3, 20)\n",
    "    factor = trial.suggest_float(\"lr_reduce_factor\", 0.1, 0.9)\n",
    "    lr_patience = trial.suggest_int(\"lr_reduce_patience\", 5, 50)\n",
    "    min_lr = trial.suggest_float(\"min_lr\", 1e-6, 1e-4, log=True)\n",
    "    lr_scheduler = torch.optim.lr_scheduler.ReduceLROnPlateau(optimizer, factor=factor, patience=lr_patience, min_lr=min_lr, verbose=True)\n",
    "\n",
    "    # Entrenamiento del modelo\n",
    "    print(f\"Entrenando Trial {trial.number}...\")\n",
    "    best_accuracy = 0.0  # Inicializacion de la mejor precisión\n",
    "    epochs_no_improve = 0\n",
    "    # Inicializar listas para almacenar métricas\n",
    "    train_losses, val_losses, train_accuracies, val_accuracies = [], [], [], []\n",
    "\n",
    "    for epoch in range(epochs):\n",
    "        model.train()\n",
    "        train_loss = 0.0\n",
    "        train_correct = 0\n",
    "        train_total = 0\n",
    "\n",
    "        for inputs, labels in tqdm(train_loader, desc=f\"Epoch {epoch + 1}/{epochs}\", leave=False):\n",
    "            inputs, labels = inputs.to(device), labels.to(device)\n",
    "            optimizer.zero_grad()\n",
    "            outputs = model(inputs)\n",
    "            loss = criterion(outputs, labels)\n",
    "            loss.backward()\n",
    "            optimizer.step()\n",
    "\n",
    "            train_loss += loss.item() * inputs.size(0)\n",
    "            train_correct += calculate_accuracy(outputs, labels) * inputs.size(0)\n",
    "            train_total += labels.size(0)\n",
    "\n",
    "        train_loss /= train_total\n",
    "        train_accuracy = train_correct / train_total\n",
    "\n",
    "        # Almacenar las métricas de entrenamiento\n",
    "        train_losses.append(train_loss)\n",
    "        train_accuracies.append(train_accuracy)\n",
    "\n",
    "        # Evaluación y Early Stopping\n",
    "        val_loss = 0.0\n",
    "        val_correct = 0\n",
    "        val_total = 0\n",
    "        model.eval()\n",
    "        with torch.no_grad():\n",
    "            for inputs, labels in val_loader:\n",
    "                inputs, labels = inputs.to(device), labels.to(device)\n",
    "                outputs = model(inputs)\n",
    "                val_loss += criterion(outputs, labels).item() * inputs.size(0)\n",
    "                val_correct += calculate_accuracy(outputs, labels) * inputs.size(0)\n",
    "                val_total += labels.size(0)\n",
    "\n",
    "        val_loss /= val_total\n",
    "        val_accuracy = val_correct / val_total\n",
    "\n",
    "        # Almacenar las métricas de validación\n",
    "        val_losses.append(val_loss)\n",
    "        val_accuracies.append(val_accuracy)\n",
    "\n",
    "        lr_scheduler.step(val_loss)\n",
    "\n",
    "        # Comprobar si este modelo es el mejor hasta ahora\n",
    "        if val_accuracy > best_accuracy:\n",
    "            best_accuracy = val_accuracy\n",
    "            if best_accuracy > global_best_accuracy:\n",
    "                global_best_accuracy = best_accuracy\n",
    "                # Guardar el nuevo valor de global_best_accuracy\n",
    "                with open(best_accuracy_file, \"w\") as file:\n",
    "                    json.dump(global_best_accuracy, file)\n",
    "                torch.save(model.state_dict(), best_model_path)  # Sobreescribir el mejor modelo\n",
    "                plot_metrics(train_losses, val_losses, train_accuracies, val_accuracies, plot_file_name_base)  # Sobreescribir el gráfico\n",
    "            epochs_no_improve = 0\n",
    "        else:\n",
    "            epochs_no_improve += 1\n",
    "\n",
    "        if epochs_no_improve == early_stopping_patience:\n",
    "            print(\"Early stopping\")\n",
    "            break\n",
    "\n",
    "    print(f\"Trial {trial.number} completado. Mejor precisión en validación: {best_accuracy}\")\n",
    "\n",
    "    # Limpiar la memoria después de cada trial\n",
    "    del model, optimizer\n",
    "    torch.cuda.empty_cache()\n",
    "    gc.collect()\n",
    "\n",
    "    # Devolver la pérdida en lugar de la precisión\n",
    "    return best_accuracy\n"
   ]
  },
  {
   "cell_type": "code",
   "execution_count": 13,
   "metadata": {},
   "outputs": [],
   "source": [
    "input_shape = features_train.shape[1]  # Número de variables explicativas"
   ]
  },
  {
   "cell_type": "code",
   "execution_count": 14,
   "metadata": {},
   "outputs": [
    {
     "name": "stderr",
     "output_type": "stream",
     "text": [
      "/home/21953404Victor/SDC3/tutorial-env/lib/python3.10/site-packages/tqdm/auto.py:21: TqdmWarning: IProgress not found. Please update jupyter and ipywidgets. See https://ipywidgets.readthedocs.io/en/stable/user_install.html\n",
      "  from .autonotebook import tqdm as notebook_tqdm\n",
      "\u001b[32m[I 2023-12-01 16:41:35,444]\u001b[0m Using an existing study with name 'accuracy_gpu_study' instead of creating a new one.\u001b[0m\n"
     ]
    }
   ],
   "source": [
    "import optuna\n",
    "\n",
    "storage = \"sqlite:///example.db\"  # Ruta de la base de datos SQLite\n",
    "study_name = \"accuracy_gpu_study\"  # Nuevo nombre del estudio\n",
    "\n",
    "# Crear un nuevo estudio\n",
    "study = optuna.create_study(study_name=study_name, direction='maximize', storage=storage, load_if_exists=True)"
   ]
  },
  {
   "cell_type": "code",
   "execution_count": 15,
   "metadata": {},
   "outputs": [
    {
     "name": "stdout",
     "output_type": "stream",
     "text": [
      "El estudio contiene 1821 ensayos.\n"
     ]
    }
   ],
   "source": [
    "# Número de ensayos en el estudio\n",
    "num_trials = len(study.trials)\n",
    "print(f\"El estudio contiene {num_trials} ensayos.\")"
   ]
  },
  {
   "cell_type": "code",
   "execution_count": null,
   "metadata": {},
   "outputs": [
    {
     "name": "stdout",
     "output_type": "stream",
     "text": [
      "Usando GPU para el Trial 1821\n",
      "Entrenando Trial 1821...\n"
     ]
    },
    {
     "name": "stderr",
     "output_type": "stream",
     "text": [
      "\u001b[32m[I 2023-12-01 16:42:16,950]\u001b[0m Trial 1821 finished with value: 0.678407350689127 and parameters: {'n_layers': 38, 'n_units_l0': 16, 'activation_l0': 'LeakyReLU', 'dropout_l0': 0.032586957650862995, 'batch_norm_l0': False, 'l2_reg_l0': 4.322653215051211e-05, 'leakyrelu_alpha_l0': 0.13228233704565365, 'n_units_l1': 512, 'activation_l1': 'Tanh', 'dropout_l1': 0.2863276078865144, 'batch_norm_l1': False, 'l2_reg_l1': 3.1049299362087644e-05, 'n_units_l2': 1024, 'activation_l2': 'ReLU', 'dropout_l2': 0.2562823716463086, 'batch_norm_l2': True, 'l2_reg_l2': 0.014325419256705075, 'n_units_l3': 2048, 'activation_l3': 'LeakyReLU', 'dropout_l3': 0.44705868107466884, 'batch_norm_l3': False, 'l2_reg_l3': 0.04627729178200595, 'leakyrelu_alpha_l3': 0.2399670001095175, 'n_units_l4': 256, 'activation_l4': 'SELU', 'dropout_l4': 0.4290267911674831, 'batch_norm_l4': True, 'l2_reg_l4': 6.607234706628217e-05, 'n_units_l5': 2048, 'activation_l5': 'ReLU', 'dropout_l5': 0.027974032921513493, 'batch_norm_l5': True, 'l2_reg_l5': 0.00017771526672119003, 'n_units_l6': 16, 'activation_l6': 'SELU', 'dropout_l6': 0.32298705900606894, 'batch_norm_l6': True, 'l2_reg_l6': 0.00010568326916974587, 'n_units_l7': 16, 'activation_l7': 'SELU', 'dropout_l7': 0.4604827704840019, 'batch_norm_l7': True, 'l2_reg_l7': 0.0010752531398437516, 'n_units_l8': 128, 'activation_l8': 'LeakyReLU', 'dropout_l8': 0.46396841927026555, 'batch_norm_l8': True, 'l2_reg_l8': 0.0010896975335822525, 'leakyrelu_alpha_l8': 0.1513543444027737, 'n_units_l9': 128, 'activation_l9': 'SELU', 'dropout_l9': 0.41765482790339087, 'batch_norm_l9': True, 'l2_reg_l9': 0.000276690260518906, 'n_units_l10': 64, 'activation_l10': 'ELU', 'dropout_l10': 0.26181398089683633, 'batch_norm_l10': True, 'l2_reg_l10': 6.85088046151585e-05, 'n_units_l11': 256, 'activation_l11': 'SELU', 'dropout_l11': 0.000777315234344711, 'batch_norm_l11': True, 'l2_reg_l11': 0.0001468309092135897, 'n_units_l12': 512, 'activation_l12': 'SELU', 'dropout_l12': 0.2962201298936754, 'batch_norm_l12': True, 'l2_reg_l12': 0.04043093661518993, 'n_units_l13': 128, 'activation_l13': 'LeakyReLU', 'dropout_l13': 0.00986716135903154, 'batch_norm_l13': True, 'l2_reg_l13': 0.00016597158749464178, 'leakyrelu_alpha_l13': 0.23280816131164028, 'n_units_l14': 1024, 'activation_l14': 'Tanh', 'dropout_l14': 0.44382909958983074, 'batch_norm_l14': True, 'l2_reg_l14': 0.00014225605340136674, 'n_units_l15': 512, 'activation_l15': 'ReLU', 'dropout_l15': 0.11892300962636287, 'batch_norm_l15': False, 'l2_reg_l15': 0.0002448019352752094, 'n_units_l16': 32, 'activation_l16': 'SELU', 'dropout_l16': 0.06207799480605386, 'batch_norm_l16': False, 'l2_reg_l16': 1.9203301959430813e-05, 'n_units_l17': 2048, 'activation_l17': 'SELU', 'dropout_l17': 0.18336942500667933, 'batch_norm_l17': False, 'l2_reg_l17': 1.3765032761026283e-05, 'n_units_l18': 32, 'activation_l18': 'Tanh', 'dropout_l18': 0.1757829693719669, 'batch_norm_l18': True, 'l2_reg_l18': 0.000983828509617458, 'n_units_l19': 256, 'activation_l19': 'LeakyReLU', 'dropout_l19': 0.3441708833581429, 'batch_norm_l19': True, 'l2_reg_l19': 0.005930705901384937, 'leakyrelu_alpha_l19': 0.012761095415915108, 'n_units_l20': 128, 'activation_l20': 'LeakyReLU', 'dropout_l20': 0.3699476760888613, 'batch_norm_l20': True, 'l2_reg_l20': 0.03818307110874494, 'leakyrelu_alpha_l20': 0.18734556493502763, 'n_units_l21': 256, 'activation_l21': 'SELU', 'dropout_l21': 0.424888195905585, 'batch_norm_l21': True, 'l2_reg_l21': 2.3300610860326153e-05, 'n_units_l22': 64, 'activation_l22': 'Tanh', 'dropout_l22': 0.10052182627355177, 'batch_norm_l22': True, 'l2_reg_l22': 2.834956244013679e-05, 'n_units_l23': 32, 'activation_l23': 'SELU', 'dropout_l23': 0.40548111364188016, 'batch_norm_l23': False, 'l2_reg_l23': 0.02558553554566404, 'n_units_l24': 16, 'activation_l24': 'Tanh', 'dropout_l24': 0.44201736427235894, 'batch_norm_l24': False, 'l2_reg_l24': 0.01320174620419221, 'n_units_l25': 2048, 'activation_l25': 'ReLU', 'dropout_l25': 0.19270203356822996, 'batch_norm_l25': False, 'l2_reg_l25': 2.7135807695834267e-05, 'n_units_l26': 16, 'activation_l26': 'ELU', 'dropout_l26': 0.0583050863615826, 'batch_norm_l26': True, 'l2_reg_l26': 0.03705559677016259, 'n_units_l27': 32, 'activation_l27': 'LeakyReLU', 'dropout_l27': 0.2888221435960624, 'batch_norm_l27': True, 'l2_reg_l27': 0.0413752670128627, 'leakyrelu_alpha_l27': 0.1854649100892209, 'n_units_l28': 512, 'activation_l28': 'SELU', 'dropout_l28': 0.06520072429965634, 'batch_norm_l28': False, 'l2_reg_l28': 0.0005725249453990903, 'n_units_l29': 1024, 'activation_l29': 'ELU', 'dropout_l29': 0.2426011277509606, 'batch_norm_l29': False, 'l2_reg_l29': 0.031279375762783695, 'n_units_l30': 64, 'activation_l30': 'ELU', 'dropout_l30': 0.4200424281741693, 'batch_norm_l30': False, 'l2_reg_l30': 0.09938159473431851, 'n_units_l31': 128, 'activation_l31': 'ELU', 'dropout_l31': 0.2325998705481607, 'batch_norm_l31': True, 'l2_reg_l31': 0.0003612086065169657, 'n_units_l32': 2048, 'activation_l32': 'SELU', 'dropout_l32': 0.3455868932996856, 'batch_norm_l32': True, 'l2_reg_l32': 0.09567622392131576, 'n_units_l33': 1024, 'activation_l33': 'LeakyReLU', 'dropout_l33': 0.36615312316815457, 'batch_norm_l33': False, 'l2_reg_l33': 0.09915826293100226, 'leakyrelu_alpha_l33': 0.219208456699683, 'n_units_l34': 512, 'activation_l34': 'LeakyReLU', 'dropout_l34': 0.4636373261708414, 'batch_norm_l34': False, 'l2_reg_l34': 0.0016000293878145446, 'leakyrelu_alpha_l34': 0.232179524541687, 'n_units_l35': 32, 'activation_l35': 'LeakyReLU', 'dropout_l35': 0.49901245460245186, 'batch_norm_l35': True, 'l2_reg_l35': 0.0011811554714586496, 'leakyrelu_alpha_l35': 0.21705253736220154, 'n_units_l36': 64, 'activation_l36': 'ELU', 'dropout_l36': 0.45718366324498155, 'batch_norm_l36': True, 'l2_reg_l36': 0.011754159598735955, 'n_units_l37': 16, 'activation_l37': 'LeakyReLU', 'dropout_l37': 0.4590889167767537, 'batch_norm_l37': True, 'l2_reg_l37': 0.09909400073328518, 'leakyrelu_alpha_l37': 0.12259882122264096, 'optimizer': 'RMSprop', 'lr': 0.0194285366158147, 'rmsprop_alpha': 0.908068515629513, 'epochs': 537, 'batch_size': 256, 'early_stopping_patience': 16, 'lr_reduce_factor': 0.14627079695651718, 'lr_reduce_patience': 36, 'min_lr': 4.092842301585484e-06}. Best is trial 506 with value: 0.8921898928024502.\u001b[0m\n"
     ]
    },
    {
     "name": "stdout",
     "output_type": "stream",
     "text": [
      "Early stopping\n",
      "Trial 1821 completado. Mejor precisión en validación: 0.678407350689127\n",
      "Usando GPU para el Trial 1822\n",
      "Entrenando Trial 1822...\n"
     ]
    },
    {
     "name": "stderr",
     "output_type": "stream",
     "text": [
      "\u001b[32m[I 2023-12-01 16:42:34,575]\u001b[0m Trial 1822 finished with value: 0.8741194486983155 and parameters: {'n_layers': 3, 'n_units_l0': 2048, 'activation_l0': 'LeakyReLU', 'dropout_l0': 0.06827115448687933, 'batch_norm_l0': False, 'l2_reg_l0': 0.001856826288716995, 'leakyrelu_alpha_l0': 0.10370000679135485, 'n_units_l1': 1024, 'activation_l1': 'ReLU', 'dropout_l1': 0.41102313164403365, 'batch_norm_l1': False, 'l2_reg_l1': 7.522848671317091e-05, 'n_units_l2': 1024, 'activation_l2': 'ReLU', 'dropout_l2': 0.15243215471841776, 'batch_norm_l2': True, 'l2_reg_l2': 0.0005380574788168477, 'optimizer': 'RMSprop', 'lr': 0.0023910720341213873, 'rmsprop_alpha': 0.906135199781518, 'epochs': 311, 'batch_size': 512, 'early_stopping_patience': 17, 'lr_reduce_factor': 0.44841867333731783, 'lr_reduce_patience': 37, 'min_lr': 1.493713537949615e-06}. Best is trial 506 with value: 0.8921898928024502.\u001b[0m\n"
     ]
    },
    {
     "name": "stdout",
     "output_type": "stream",
     "text": [
      "Early stopping\n",
      "Trial 1822 completado. Mejor precisión en validación: 0.8741194486983155\n",
      "Usando GPU para el Trial 1823\n",
      "Entrenando Trial 1823...\n"
     ]
    },
    {
     "name": "stderr",
     "output_type": "stream",
     "text": [
      "\u001b[32m[I 2023-12-01 16:42:57,982]\u001b[0m Trial 1823 finished with value: 0.8787136294027565 and parameters: {'n_layers': 4, 'n_units_l0': 2048, 'activation_l0': 'SELU', 'dropout_l0': 0.10033246500336174, 'batch_norm_l0': True, 'l2_reg_l0': 0.0010337005509035951, 'n_units_l1': 512, 'activation_l1': 'Tanh', 'dropout_l1': 0.13108397661270776, 'batch_norm_l1': False, 'l2_reg_l1': 0.018120739904436137, 'n_units_l2': 1024, 'activation_l2': 'ReLU', 'dropout_l2': 0.19605508809378505, 'batch_norm_l2': True, 'l2_reg_l2': 0.0003058369438293999, 'n_units_l3': 2048, 'activation_l3': 'LeakyReLU', 'dropout_l3': 0.4905490724968096, 'batch_norm_l3': True, 'l2_reg_l3': 0.0036089395047380125, 'leakyrelu_alpha_l3': 0.21775308743133576, 'optimizer': 'RMSprop', 'lr': 0.0008746973384133803, 'rmsprop_alpha': 0.8882611566610775, 'epochs': 57, 'batch_size': 256, 'early_stopping_patience': 19, 'lr_reduce_factor': 0.2797877826413451, 'lr_reduce_patience': 38, 'min_lr': 2.9557965254479707e-05}. Best is trial 506 with value: 0.8921898928024502.\u001b[0m\n"
     ]
    },
    {
     "name": "stdout",
     "output_type": "stream",
     "text": [
      "Trial 1823 completado. Mejor precisión en validación: 0.8787136294027565\n",
      "Usando GPU para el Trial 1824\n",
      "Entrenando Trial 1824...\n"
     ]
    },
    {
     "name": "stderr",
     "output_type": "stream",
     "text": [
      "\u001b[32m[I 2023-12-01 16:44:40,862]\u001b[0m Trial 1824 finished with value: 0.8679938744257274 and parameters: {'n_layers': 5, 'n_units_l0': 2048, 'activation_l0': 'LeakyReLU', 'dropout_l0': 0.18714960119031163, 'batch_norm_l0': False, 'l2_reg_l0': 0.0012414901473050534, 'leakyrelu_alpha_l0': 0.25373493881611203, 'n_units_l1': 128, 'activation_l1': 'Tanh', 'dropout_l1': 0.31478316145217305, 'batch_norm_l1': False, 'l2_reg_l1': 0.00021012977779458634, 'n_units_l2': 64, 'activation_l2': 'ReLU', 'dropout_l2': 0.24268430215318798, 'batch_norm_l2': True, 'l2_reg_l2': 0.004770461340469738, 'n_units_l3': 2048, 'activation_l3': 'LeakyReLU', 'dropout_l3': 0.4657875240919799, 'batch_norm_l3': True, 'l2_reg_l3': 0.00023257647294202307, 'leakyrelu_alpha_l3': 0.1948004127842273, 'n_units_l4': 1024, 'activation_l4': 'ELU', 'dropout_l4': 0.2378191905285127, 'batch_norm_l4': True, 'l2_reg_l4': 3.4456906718017505e-05, 'optimizer': 'RMSprop', 'lr': 0.0007274814629877875, 'rmsprop_alpha': 0.8936382581306178, 'epochs': 459, 'batch_size': 64, 'early_stopping_patience': 18, 'lr_reduce_factor': 0.37896245969792564, 'lr_reduce_patience': 35, 'min_lr': 2.0713162981907336e-06}. Best is trial 506 with value: 0.8921898928024502.\u001b[0m\n"
     ]
    },
    {
     "name": "stdout",
     "output_type": "stream",
     "text": [
      "Epoch 00095: reducing learning rate of group 0 to 2.7569e-04.\n",
      "Early stopping\n",
      "Trial 1824 completado. Mejor precisión en validación: 0.8679938744257274\n",
      "Usando GPU para el Trial 1825\n",
      "Entrenando Trial 1825...\n"
     ]
    },
    {
     "name": "stderr",
     "output_type": "stream",
     "text": [
      "\u001b[32m[I 2023-12-01 16:45:37,388]\u001b[0m Trial 1825 finished with value: 0.8407350689127105 and parameters: {'n_layers': 6, 'n_units_l0': 256, 'activation_l0': 'LeakyReLU', 'dropout_l0': 0.08241842337388688, 'batch_norm_l0': False, 'l2_reg_l0': 5.6797827595042584e-05, 'leakyrelu_alpha_l0': 0.23400197892266822, 'n_units_l1': 512, 'activation_l1': 'Tanh', 'dropout_l1': 0.29741127881459956, 'batch_norm_l1': False, 'l2_reg_l1': 0.01225589823357869, 'n_units_l2': 1024, 'activation_l2': 'ReLU', 'dropout_l2': 0.18431903109347736, 'batch_norm_l2': True, 'l2_reg_l2': 0.002892895769483042, 'n_units_l3': 2048, 'activation_l3': 'LeakyReLU', 'dropout_l3': 0.4917658423155667, 'batch_norm_l3': True, 'l2_reg_l3': 1.3603372907201453e-05, 'leakyrelu_alpha_l3': 0.1779494994811824, 'n_units_l4': 2048, 'activation_l4': 'ReLU', 'dropout_l4': 0.481779835742163, 'batch_norm_l4': True, 'l2_reg_l4': 8.20986993832302e-05, 'n_units_l5': 16, 'activation_l5': 'ELU', 'dropout_l5': 0.06410147622559526, 'batch_norm_l5': True, 'l2_reg_l5': 0.005823567158241822, 'optimizer': 'RMSprop', 'lr': 4.1394892482397756e-05, 'rmsprop_alpha': 0.8529929476611082, 'epochs': 505, 'batch_size': 2048, 'early_stopping_patience': 19, 'lr_reduce_factor': 0.3146468202910506, 'lr_reduce_patience': 49, 'min_lr': 1.1346361256991335e-05}. Best is trial 506 with value: 0.8921898928024502.\u001b[0m\n"
     ]
    },
    {
     "name": "stdout",
     "output_type": "stream",
     "text": [
      "Early stopping\n",
      "Trial 1825 completado. Mejor precisión en validación: 0.8407350689127105\n",
      "Usando GPU para el Trial 1826\n",
      "Entrenando Trial 1826...\n"
     ]
    },
    {
     "name": "stderr",
     "output_type": "stream",
     "text": [
      "                                                                                                                                                                                                                                        \r"
     ]
    },
    {
     "name": "stdout",
     "output_type": "stream",
     "text": [
      "Epoch 00084: reducing learning rate of group 0 to 2.2792e-04.\n"
     ]
    },
    {
     "name": "stderr",
     "output_type": "stream",
     "text": [
      "                                                                                                                                                                                                                                        \r"
     ]
    },
    {
     "name": "stdout",
     "output_type": "stream",
     "text": [
      "Epoch 00107: reducing learning rate of group 0 to 3.6508e-05.\n"
     ]
    },
    {
     "name": "stderr",
     "output_type": "stream",
     "text": [
      "                                                                                                                                                                                                                                        \r"
     ]
    },
    {
     "name": "stdout",
     "output_type": "stream",
     "text": [
      "Epoch 00126: reducing learning rate of group 0 to 5.8478e-06.\n"
     ]
    },
    {
     "name": "stderr",
     "output_type": "stream",
     "text": [
      "\u001b[32m[I 2023-12-01 16:46:24,204]\u001b[0m Trial 1826 finished with value: 0.8777947932618683 and parameters: {'n_layers': 5, 'n_units_l0': 2048, 'activation_l0': 'LeakyReLU', 'dropout_l0': 0.17428060942296084, 'batch_norm_l0': False, 'l2_reg_l0': 0.015160293685313693, 'leakyrelu_alpha_l0': 0.26796713473283756, 'n_units_l1': 512, 'activation_l1': 'LeakyReLU', 'dropout_l1': 0.38466811085709945, 'batch_norm_l1': False, 'l2_reg_l1': 0.028079886732603126, 'leakyrelu_alpha_l1': 0.2680335976697819, 'n_units_l2': 256, 'activation_l2': 'Tanh', 'dropout_l2': 0.27329670019837615, 'batch_norm_l2': True, 'l2_reg_l2': 0.04909508527049633, 'n_units_l3': 2048, 'activation_l3': 'LeakyReLU', 'dropout_l3': 0.2358041143048512, 'batch_norm_l3': True, 'l2_reg_l3': 0.01141410689370398, 'leakyrelu_alpha_l3': 0.1572482025759631, 'n_units_l4': 32, 'activation_l4': 'Tanh', 'dropout_l4': 0.38825050552623713, 'batch_norm_l4': True, 'l2_reg_l4': 0.07418702010309101, 'optimizer': 'RMSprop', 'lr': 0.0014229212429930542, 'rmsprop_alpha': 0.8863082357867959, 'epochs': 630, 'batch_size': 256, 'early_stopping_patience': 18, 'lr_reduce_factor': 0.16017864551674732, 'lr_reduce_patience': 18, 'min_lr': 4.954960877124167e-06}. Best is trial 506 with value: 0.8921898928024502.\u001b[0m\n"
     ]
    },
    {
     "name": "stdout",
     "output_type": "stream",
     "text": [
      "Early stopping\n",
      "Trial 1826 completado. Mejor precisión en validación: 0.8777947932618683\n",
      "Usando GPU para el Trial 1827\n",
      "Entrenando Trial 1827...\n"
     ]
    },
    {
     "name": "stderr",
     "output_type": "stream",
     "text": [
      "\u001b[32m[I 2023-12-01 16:46:35,082]\u001b[0m Trial 1827 finished with value: 0.678407350689127 and parameters: {'n_layers': 17, 'n_units_l0': 2048, 'activation_l0': 'LeakyReLU', 'dropout_l0': 0.1376328890942376, 'batch_norm_l0': False, 'l2_reg_l0': 0.023062062796246542, 'leakyrelu_alpha_l0': 0.09142755868928142, 'n_units_l1': 1024, 'activation_l1': 'Tanh', 'dropout_l1': 0.15245816577425342, 'batch_norm_l1': False, 'l2_reg_l1': 0.008830027077828416, 'n_units_l2': 128, 'activation_l2': 'ReLU', 'dropout_l2': 0.26410550800594906, 'batch_norm_l2': True, 'l2_reg_l2': 1.88301507901108e-05, 'n_units_l3': 2048, 'activation_l3': 'LeakyReLU', 'dropout_l3': 0.3397637140664907, 'batch_norm_l3': True, 'l2_reg_l3': 2.178585047869696e-05, 'leakyrelu_alpha_l3': 0.19659762942441503, 'n_units_l4': 256, 'activation_l4': 'SELU', 'dropout_l4': 0.3615531030635359, 'batch_norm_l4': True, 'l2_reg_l4': 0.08310669640536834, 'n_units_l5': 16, 'activation_l5': 'LeakyReLU', 'dropout_l5': 0.013236273220487788, 'batch_norm_l5': True, 'l2_reg_l5': 0.0039800843549810784, 'leakyrelu_alpha_l5': 0.26968559654252117, 'n_units_l6': 128, 'activation_l6': 'SELU', 'dropout_l6': 0.35242865477410734, 'batch_norm_l6': True, 'l2_reg_l6': 0.0001674891895502819, 'n_units_l7': 32, 'activation_l7': 'LeakyReLU', 'dropout_l7': 0.001131572901754141, 'batch_norm_l7': False, 'l2_reg_l7': 0.0003887427594425123, 'leakyrelu_alpha_l7': 0.027242955117221718, 'n_units_l8': 256, 'activation_l8': 'ELU', 'dropout_l8': 0.2501338241562307, 'batch_norm_l8': False, 'l2_reg_l8': 0.00024688493170888366, 'n_units_l9': 256, 'activation_l9': 'ELU', 'dropout_l9': 0.3812938790080867, 'batch_norm_l9': False, 'l2_reg_l9': 0.010556233772985335, 'n_units_l10': 128, 'activation_l10': 'SELU', 'dropout_l10': 0.16754516517834028, 'batch_norm_l10': False, 'l2_reg_l10': 0.03191416097612841, 'n_units_l11': 128, 'activation_l11': 'ELU', 'dropout_l11': 0.15988835961380143, 'batch_norm_l11': False, 'l2_reg_l11': 0.0072719368501826505, 'n_units_l12': 32, 'activation_l12': 'ReLU', 'dropout_l12': 0.39756950477404857, 'batch_norm_l12': False, 'l2_reg_l12': 0.057448392787206704, 'n_units_l13': 16, 'activation_l13': 'ReLU', 'dropout_l13': 0.30430469616570527, 'batch_norm_l13': False, 'l2_reg_l13': 0.00022535773460320195, 'n_units_l14': 16, 'activation_l14': 'ELU', 'dropout_l14': 0.13805371801849703, 'batch_norm_l14': False, 'l2_reg_l14': 0.022368029819116193, 'n_units_l15': 1024, 'activation_l15': 'SELU', 'dropout_l15': 0.21866697739858953, 'batch_norm_l15': True, 'l2_reg_l15': 0.026415520401196664, 'n_units_l16': 64, 'activation_l16': 'ELU', 'dropout_l16': 0.26796836701360577, 'batch_norm_l16': True, 'l2_reg_l16': 0.029185788075076508, 'optimizer': 'SGD', 'lr': 0.0002796720489891831, 'sgd_momentum': 0.5394166110667088, 'epochs': 155, 'batch_size': 256, 'early_stopping_patience': 6, 'lr_reduce_factor': 0.26197727596996023, 'lr_reduce_patience': 39, 'min_lr': 2.4984853962845826e-06}. Best is trial 506 with value: 0.8921898928024502.\u001b[0m\n"
     ]
    },
    {
     "name": "stdout",
     "output_type": "stream",
     "text": [
      "Early stopping\n",
      "Trial 1827 completado. Mejor precisión en validación: 0.678407350689127\n",
      "Usando GPU para el Trial 1828\n",
      "Entrenando Trial 1828...\n"
     ]
    },
    {
     "name": "stderr",
     "output_type": "stream",
     "text": [
      "                                                                                                                                                                                                                                        \r"
     ]
    },
    {
     "name": "stdout",
     "output_type": "stream",
     "text": [
      "Epoch 00096: reducing learning rate of group 0 to 2.1731e-04.\n"
     ]
    },
    {
     "name": "stderr",
     "output_type": "stream",
     "text": [
      "\u001b[32m[I 2023-12-01 16:53:42,774]\u001b[0m Trial 1828 finished with value: 0.8667687595712098 and parameters: {'n_layers': 6, 'n_units_l0': 2048, 'activation_l0': 'LeakyReLU', 'dropout_l0': 0.1170161936565518, 'batch_norm_l0': False, 'l2_reg_l0': 0.00022549846942547565, 'leakyrelu_alpha_l0': 0.042166348807463505, 'n_units_l1': 512, 'activation_l1': 'Tanh', 'dropout_l1': 0.3283655579215371, 'batch_norm_l1': False, 'l2_reg_l1': 0.00011158050942657007, 'n_units_l2': 1024, 'activation_l2': 'ReLU', 'dropout_l2': 0.13737492988329042, 'batch_norm_l2': True, 'l2_reg_l2': 0.00023485411399931018, 'n_units_l3': 2048, 'activation_l3': 'LeakyReLU', 'dropout_l3': 0.4523403689713265, 'batch_norm_l3': True, 'l2_reg_l3': 0.027092323605002487, 'leakyrelu_alpha_l3': 0.026481028084312852, 'n_units_l4': 16, 'activation_l4': 'ELU', 'dropout_l4': 0.4551508351542313, 'batch_norm_l4': True, 'l2_reg_l4': 2.5733603885269206e-05, 'n_units_l5': 64, 'activation_l5': 'ELU', 'dropout_l5': 0.07380652769655685, 'batch_norm_l5': True, 'l2_reg_l5': 2.4927812181958576e-05, 'optimizer': 'RMSprop', 'lr': 0.0005090795286706431, 'rmsprop_alpha': 0.8727109984824026, 'epochs': 1961, 'batch_size': 16, 'early_stopping_patience': 17, 'lr_reduce_factor': 0.42687464450390405, 'lr_reduce_patience': 38, 'min_lr': 3.750150373614708e-05}. Best is trial 506 with value: 0.8921898928024502.\u001b[0m\n"
     ]
    },
    {
     "name": "stdout",
     "output_type": "stream",
     "text": [
      "Early stopping\n",
      "Trial 1828 completado. Mejor precisión en validación: 0.8667687595712098\n",
      "Usando GPU para el Trial 1829\n",
      "Entrenando Trial 1829...\n"
     ]
    },
    {
     "name": "stderr",
     "output_type": "stream",
     "text": [
      "\u001b[32m[I 2023-12-01 16:53:54,466]\u001b[0m Trial 1829 finished with value: 0.8379785604900459 and parameters: {'n_layers': 2, 'n_units_l0': 32, 'activation_l0': 'ReLU', 'dropout_l0': 0.010187264105861486, 'batch_norm_l0': False, 'l2_reg_l0': 0.0014450274757850132, 'n_units_l1': 512, 'activation_l1': 'Tanh', 'dropout_l1': 0.0716640894502692, 'batch_norm_l1': False, 'l2_reg_l1': 0.00029410718511049014, 'optimizer': 'RMSprop', 'lr': 0.00679899705832142, 'rmsprop_alpha': 0.9386607837006492, 'epochs': 368, 'batch_size': 256, 'early_stopping_patience': 19, 'lr_reduce_factor': 0.3635117281449458, 'lr_reduce_patience': 48, 'min_lr': 9.416116114270205e-06}. Best is trial 506 with value: 0.8921898928024502.\u001b[0m\n"
     ]
    },
    {
     "name": "stdout",
     "output_type": "stream",
     "text": [
      "Early stopping\n",
      "Trial 1829 completado. Mejor precisión en validación: 0.8379785604900459\n",
      "Usando GPU para el Trial 1830\n",
      "Entrenando Trial 1830...\n"
     ]
    },
    {
     "name": "stderr",
     "output_type": "stream",
     "text": [
      "                                                                                                                                                                                                                                        \r"
     ]
    },
    {
     "name": "stdout",
     "output_type": "stream",
     "text": [
      "Epoch 00091: reducing learning rate of group 0 to 2.0567e-04.\n"
     ]
    },
    {
     "name": "stderr",
     "output_type": "stream",
     "text": [
      "                                                                                                                                                                                                                                        \r"
     ]
    },
    {
     "name": "stdout",
     "output_type": "stream",
     "text": [
      "Epoch 00132: reducing learning rate of group 0 to 3.7727e-05.\n"
     ]
    },
    {
     "name": "stderr",
     "output_type": "stream",
     "text": [
      "\u001b[32m[I 2023-12-01 16:54:35,066]\u001b[0m Trial 1830 finished with value: 0.877488514548239 and parameters: {'n_layers': 4, 'n_units_l0': 2048, 'activation_l0': 'LeakyReLU', 'dropout_l0': 0.16058307943709182, 'batch_norm_l0': False, 'l2_reg_l0': 0.0023006890358393305, 'leakyrelu_alpha_l0': 0.2817059766842837, 'n_units_l1': 256, 'activation_l1': 'Tanh', 'dropout_l1': 0.4413637528141116, 'batch_norm_l1': True, 'l2_reg_l1': 3.917192272532868e-05, 'n_units_l2': 1024, 'activation_l2': 'ReLU', 'dropout_l2': 0.288632739646212, 'batch_norm_l2': True, 'l2_reg_l2': 0.0008035091387056282, 'n_units_l3': 16, 'activation_l3': 'LeakyReLU', 'dropout_l3': 0.48447094625914705, 'batch_norm_l3': True, 'l2_reg_l3': 0.004384619792293252, 'leakyrelu_alpha_l3': 0.1636132082280326, 'optimizer': 'RMSprop', 'lr': 0.001121191793995027, 'rmsprop_alpha': 0.8598585117445091, 'epochs': 281, 'batch_size': 512, 'early_stopping_patience': 19, 'lr_reduce_factor': 0.18343625219370302, 'lr_reduce_patience': 40, 'min_lr': 1.7782444806666083e-06}. Best is trial 506 with value: 0.8921898928024502.\u001b[0m\n"
     ]
    },
    {
     "name": "stdout",
     "output_type": "stream",
     "text": [
      "Early stopping\n",
      "Trial 1830 completado. Mejor precisión en validación: 0.877488514548239\n",
      "Usando GPU para el Trial 1831\n",
      "Entrenando Trial 1831...\n"
     ]
    },
    {
     "name": "stderr",
     "output_type": "stream",
     "text": [
      "                                                                                                                                                                                                                                        \r"
     ]
    },
    {
     "name": "stdout",
     "output_type": "stream",
     "text": [
      "Epoch 00053: reducing learning rate of group 0 to 3.5526e-04.\n"
     ]
    },
    {
     "name": "stderr",
     "output_type": "stream",
     "text": [
      "\u001b[32m[I 2023-12-01 16:55:09,848]\u001b[0m Trial 1831 finished with value: 0.8863705972434915 and parameters: {'n_layers': 5, 'n_units_l0': 2048, 'activation_l0': 'LeakyReLU', 'dropout_l0': 1.4106387415054739e-05, 'batch_norm_l0': False, 'l2_reg_l0': 2.6674660752839425e-05, 'leakyrelu_alpha_l0': 0.29255737422447725, 'n_units_l1': 1024, 'activation_l1': 'Tanh', 'dropout_l1': 0.3058337495100051, 'batch_norm_l1': False, 'l2_reg_l1': 0.000357817339011866, 'n_units_l2': 1024, 'activation_l2': 'ReLU', 'dropout_l2': 0.2073985021909199, 'batch_norm_l2': True, 'l2_reg_l2': 0.00011063199040382918, 'n_units_l3': 2048, 'activation_l3': 'LeakyReLU', 'dropout_l3': 0.4988721233865177, 'batch_norm_l3': True, 'l2_reg_l3': 0.017948277518343297, 'leakyrelu_alpha_l3': 0.04677962607716735, 'n_units_l4': 64, 'activation_l4': 'ReLU', 'dropout_l4': 0.4149350709053891, 'batch_norm_l4': True, 'l2_reg_l4': 0.00018268633546136457, 'optimizer': 'RMSprop', 'lr': 0.0017008901900472874, 'rmsprop_alpha': 0.8756153238564853, 'epochs': 229, 'batch_size': 256, 'early_stopping_patience': 18, 'lr_reduce_factor': 0.20886842524941734, 'lr_reduce_patience': 40, 'min_lr': 4.75293675462603e-05}. Best is trial 506 with value: 0.8921898928024502.\u001b[0m\n"
     ]
    },
    {
     "name": "stdout",
     "output_type": "stream",
     "text": [
      "Early stopping\n",
      "Trial 1831 completado. Mejor precisión en validación: 0.8863705972434915\n",
      "Usando GPU para el Trial 1832\n",
      "Entrenando Trial 1832...\n"
     ]
    },
    {
     "name": "stderr",
     "output_type": "stream",
     "text": [
      "\u001b[32m[I 2023-12-01 16:56:25,310]\u001b[0m Trial 1832 finished with value: 0.8052067381316999 and parameters: {'n_layers': 6, 'n_units_l0': 2048, 'activation_l0': 'SELU', 'dropout_l0': 0.14797201146872102, 'batch_norm_l0': False, 'l2_reg_l0': 1.5007146027454155e-05, 'n_units_l1': 512, 'activation_l1': 'Tanh', 'dropout_l1': 0.17465339485429218, 'batch_norm_l1': False, 'l2_reg_l1': 0.04724581841203062, 'n_units_l2': 256, 'activation_l2': 'LeakyReLU', 'dropout_l2': 0.23199535808787386, 'batch_norm_l2': True, 'l2_reg_l2': 0.05681025549195677, 'leakyrelu_alpha_l2': 0.291545944723153, 'n_units_l3': 1024, 'activation_l3': 'LeakyReLU', 'dropout_l3': 0.1572797691439232, 'batch_norm_l3': True, 'l2_reg_l3': 0.06991230797862402, 'leakyrelu_alpha_l3': 0.18805118668942117, 'n_units_l4': 256, 'activation_l4': 'SELU', 'dropout_l4': 0.38118797574783225, 'batch_norm_l4': True, 'l2_reg_l4': 2.093924366325947e-05, 'n_units_l5': 16, 'activation_l5': 'SELU', 'dropout_l5': 0.05291002626353375, 'batch_norm_l5': True, 'l2_reg_l5': 0.04641276428813799, 'optimizer': 'Adam', 'lr': 0.004844910781188571, 'adam_beta1': 0.9433155653647968, 'adam_beta2': 0.9928764639181681, 'epochs': 1924, 'batch_size': 32, 'early_stopping_patience': 17, 'lr_reduce_factor': 0.2960333963116077, 'lr_reduce_patience': 50, 'min_lr': 3.469127882442705e-06}. Best is trial 506 with value: 0.8921898928024502.\u001b[0m\n"
     ]
    },
    {
     "name": "stdout",
     "output_type": "stream",
     "text": [
      "Early stopping\n",
      "Trial 1832 completado. Mejor precisión en validación: 0.8052067381316999\n",
      "Usando GPU para el Trial 1833\n",
      "Entrenando Trial 1833...\n"
     ]
    },
    {
     "name": "stderr",
     "output_type": "stream",
     "text": [
      "\u001b[32m[I 2023-12-01 16:56:45,859]\u001b[0m Trial 1833 finished with value: 0.8140888208269526 and parameters: {'n_layers': 15, 'n_units_l0': 2048, 'activation_l0': 'LeakyReLU', 'dropout_l0': 0.060763648213868274, 'batch_norm_l0': False, 'l2_reg_l0': 0.00010085786058647632, 'leakyrelu_alpha_l0': 0.22796062808661274, 'n_units_l1': 512, 'activation_l1': 'ELU', 'dropout_l1': 0.24432554242782065, 'batch_norm_l1': False, 'l2_reg_l1': 0.03456108098355011, 'n_units_l2': 32, 'activation_l2': 'ReLU', 'dropout_l2': 0.20214932788000473, 'batch_norm_l2': True, 'l2_reg_l2': 0.0020505372404594647, 'n_units_l3': 2048, 'activation_l3': 'LeakyReLU', 'dropout_l3': 0.4430195201865886, 'batch_norm_l3': True, 'l2_reg_l3': 0.005679072568740133, 'leakyrelu_alpha_l3': 0.24923935366375047, 'n_units_l4': 64, 'activation_l4': 'ELU', 'dropout_l4': 0.21535913983465635, 'batch_norm_l4': False, 'l2_reg_l4': 1.0007218725206154e-05, 'n_units_l5': 2048, 'activation_l5': 'LeakyReLU', 'dropout_l5': 0.09297979185348013, 'batch_norm_l5': True, 'l2_reg_l5': 9.457030757211625e-05, 'leakyrelu_alpha_l5': 0.18029618836264796, 'n_units_l6': 1024, 'activation_l6': 'ReLU', 'dropout_l6': 0.3093187662462826, 'batch_norm_l6': True, 'l2_reg_l6': 0.05089417379708117, 'n_units_l7': 512, 'activation_l7': 'Tanh', 'dropout_l7': 0.19548425657574944, 'batch_norm_l7': False, 'l2_reg_l7': 0.009015357123068234, 'n_units_l8': 32, 'activation_l8': 'SELU', 'dropout_l8': 0.42007432534319433, 'batch_norm_l8': True, 'l2_reg_l8': 0.028684874293519593, 'n_units_l9': 512, 'activation_l9': 'Tanh', 'dropout_l9': 0.15043405771054058, 'batch_norm_l9': True, 'l2_reg_l9': 0.05877039514558212, 'n_units_l10': 32, 'activation_l10': 'ReLU', 'dropout_l10': 0.4117107166535671, 'batch_norm_l10': True, 'l2_reg_l10': 1.3227210858368676e-05, 'n_units_l11': 512, 'activation_l11': 'LeakyReLU', 'dropout_l11': 0.37406906618765845, 'batch_norm_l11': True, 'l2_reg_l11': 0.005810262436101337, 'leakyrelu_alpha_l11': 0.012476297040426937, 'n_units_l12': 2048, 'activation_l12': 'LeakyReLU', 'dropout_l12': 0.4888307480453039, 'batch_norm_l12': True, 'l2_reg_l12': 0.07825622358577336, 'leakyrelu_alpha_l12': 0.1238767494359688, 'n_units_l13': 512, 'activation_l13': 'SELU', 'dropout_l13': 0.3235440447263269, 'batch_norm_l13': True, 'l2_reg_l13': 9.062591273258117e-05, 'n_units_l14': 256, 'activation_l14': 'SELU', 'dropout_l14': 0.37268485260995543, 'batch_norm_l14': True, 'l2_reg_l14': 0.00036342364597884375, 'optimizer': 'RMSprop', 'lr': 0.02963113044260707, 'rmsprop_alpha': 0.9761918257023254, 'epochs': 2000, 'batch_size': 1024, 'early_stopping_patience': 15, 'lr_reduce_factor': 0.3229529289322715, 'lr_reduce_patience': 37, 'min_lr': 5.4722470546034885e-05}. Best is trial 506 with value: 0.8921898928024502.\u001b[0m\n"
     ]
    },
    {
     "name": "stdout",
     "output_type": "stream",
     "text": [
      "Early stopping\n",
      "Trial 1833 completado. Mejor precisión en validación: 0.8140888208269526\n",
      "Usando GPU para el Trial 1834\n",
      "Entrenando Trial 1834...\n"
     ]
    },
    {
     "name": "stderr",
     "output_type": "stream",
     "text": [
      "\u001b[32m[I 2023-12-01 16:58:32,206]\u001b[0m Trial 1834 finished with value: 0.872281776416539 and parameters: {'n_layers': 4, 'n_units_l0': 512, 'activation_l0': 'LeakyReLU', 'dropout_l0': 0.019347367699166684, 'batch_norm_l0': False, 'l2_reg_l0': 0.0017099633516000354, 'leakyrelu_alpha_l0': 0.11125697288139112, 'n_units_l1': 512, 'activation_l1': 'Tanh', 'dropout_l1': 0.09117301388252624, 'batch_norm_l1': False, 'l2_reg_l1': 1.6382518169568956e-05, 'n_units_l2': 16, 'activation_l2': 'ReLU', 'dropout_l2': 0.1628470326819283, 'batch_norm_l2': True, 'l2_reg_l2': 0.0012399835573396164, 'n_units_l3': 2048, 'activation_l3': 'Tanh', 'dropout_l3': 0.1366148382030327, 'batch_norm_l3': False, 'l2_reg_l3': 0.013469516454611362, 'optimizer': 'RMSprop', 'lr': 0.00034755893190668727, 'rmsprop_alpha': 0.9041729980638693, 'epochs': 423, 'batch_size': 64, 'early_stopping_patience': 19, 'lr_reduce_factor': 0.24921387155031535, 'lr_reduce_patience': 36, 'min_lr': 1.2539554093915093e-05}. Best is trial 506 with value: 0.8921898928024502.\u001b[0m\n"
     ]
    },
    {
     "name": "stdout",
     "output_type": "stream",
     "text": [
      "Early stopping\n",
      "Trial 1834 completado. Mejor precisión en validación: 0.872281776416539\n",
      "Usando GPU para el Trial 1835\n",
      "Entrenando Trial 1835...\n"
     ]
    },
    {
     "name": "stderr",
     "output_type": "stream",
     "text": [
      "\u001b[32m[I 2023-12-01 16:58:55,030]\u001b[0m Trial 1835 finished with value: 0.8771822358346095 and parameters: {'n_layers': 3, 'n_units_l0': 2048, 'activation_l0': 'LeakyReLU', 'dropout_l0': 0.08511591844577009, 'batch_norm_l0': False, 'l2_reg_l0': 0.002741837422166853, 'leakyrelu_alpha_l0': 0.1483907753086212, 'n_units_l1': 1024, 'activation_l1': 'Tanh', 'dropout_l1': 0.04562653785415886, 'batch_norm_l1': False, 'l2_reg_l1': 1.3291136516494319e-05, 'n_units_l2': 1024, 'activation_l2': 'ReLU', 'dropout_l2': 0.2510308146903564, 'batch_norm_l2': True, 'l2_reg_l2': 0.020921087991490363, 'optimizer': 'RMSprop', 'lr': 0.0006487882121697994, 'rmsprop_alpha': 0.8633688281322166, 'epochs': 1891, 'batch_size': 256, 'early_stopping_patience': 16, 'lr_reduce_factor': 0.2806488531864673, 'lr_reduce_patience': 37, 'min_lr': 6.10676733514808e-05}. Best is trial 506 with value: 0.8921898928024502.\u001b[0m\n"
     ]
    },
    {
     "name": "stdout",
     "output_type": "stream",
     "text": [
      "Early stopping\n",
      "Trial 1835 completado. Mejor precisión en validación: 0.8771822358346095\n",
      "Usando GPU para el Trial 1836\n",
      "Entrenando Trial 1836...\n"
     ]
    },
    {
     "name": "stderr",
     "output_type": "stream",
     "text": [
      "\u001b[32m[I 2023-12-01 16:59:17,520]\u001b[0m Trial 1836 finished with value: 0.8704441041347626 and parameters: {'n_layers': 6, 'n_units_l0': 2048, 'activation_l0': 'LeakyReLU', 'dropout_l0': 0.049017089549024895, 'batch_norm_l0': False, 'l2_reg_l0': 0.03275697003396175, 'leakyrelu_alpha_l0': 0.15777200198153585, 'n_units_l1': 512, 'activation_l1': 'Tanh', 'dropout_l1': 0.3959897895365351, 'batch_norm_l1': False, 'l2_reg_l1': 2.8781163139012242e-05, 'n_units_l2': 512, 'activation_l2': 'ELU', 'dropout_l2': 0.3546324325968911, 'batch_norm_l2': True, 'l2_reg_l2': 0.005504517237799749, 'n_units_l3': 128, 'activation_l3': 'LeakyReLU', 'dropout_l3': 0.4530950659547677, 'batch_norm_l3': True, 'l2_reg_l3': 0.03757890093604002, 'leakyrelu_alpha_l3': 0.2618681314611758, 'n_units_l4': 512, 'activation_l4': 'ReLU', 'dropout_l4': 0.3960579655465894, 'batch_norm_l4': True, 'l2_reg_l4': 4.271658530134085e-05, 'n_units_l5': 512, 'activation_l5': 'ELU', 'dropout_l5': 0.21221708743143664, 'batch_norm_l5': False, 'l2_reg_l5': 0.01643227748505333, 'optimizer': 'RMSprop', 'lr': 0.0009357812301117406, 'rmsprop_alpha': 0.861530954467273, 'epochs': 318, 'batch_size': 256, 'early_stopping_patience': 18, 'lr_reduce_factor': 0.38597917048260943, 'lr_reduce_patience': 39, 'min_lr': 2.6409136398233488e-05}. Best is trial 506 with value: 0.8921898928024502.\u001b[0m\n"
     ]
    },
    {
     "name": "stdout",
     "output_type": "stream",
     "text": [
      "Early stopping\n",
      "Trial 1836 completado. Mejor precisión en validación: 0.8704441041347626\n",
      "Usando GPU para el Trial 1837\n",
      "Entrenando Trial 1837...\n"
     ]
    },
    {
     "name": "stderr",
     "output_type": "stream",
     "text": [
      "\u001b[32m[I 2023-12-01 16:59:45,970]\u001b[0m Trial 1837 finished with value: 0.8826952526799388 and parameters: {'n_layers': 5, 'n_units_l0': 2048, 'activation_l0': 'LeakyReLU', 'dropout_l0': 0.07497451905574226, 'batch_norm_l0': False, 'l2_reg_l0': 4.049120510030486e-05, 'leakyrelu_alpha_l0': 0.29982604527182816, 'n_units_l1': 512, 'activation_l1': 'Tanh', 'dropout_l1': 0.12979252846111689, 'batch_norm_l1': False, 'l2_reg_l1': 0.014468602694586295, 'n_units_l2': 1024, 'activation_l2': 'ReLU', 'dropout_l2': 0.15022971013046582, 'batch_norm_l2': True, 'l2_reg_l2': 0.0009836107971758217, 'n_units_l3': 1024, 'activation_l3': 'ReLU', 'dropout_l3': 0.21405689525658592, 'batch_norm_l3': True, 'l2_reg_l3': 0.006709842327941831, 'n_units_l4': 64, 'activation_l4': 'Tanh', 'dropout_l4': 0.3443791492029779, 'batch_norm_l4': True, 'l2_reg_l4': 0.00011070799831371155, 'optimizer': 'RMSprop', 'lr': 0.00046274878902020607, 'rmsprop_alpha': 0.970252176160671, 'epochs': 573, 'batch_size': 256, 'early_stopping_patience': 17, 'lr_reduce_factor': 0.34492205414087357, 'lr_reduce_patience': 47, 'min_lr': 1.2762176383539005e-06}. Best is trial 506 with value: 0.8921898928024502.\u001b[0m\n"
     ]
    },
    {
     "name": "stdout",
     "output_type": "stream",
     "text": [
      "Early stopping\n",
      "Trial 1837 completado. Mejor precisión en validación: 0.8826952526799388\n",
      "Usando GPU para el Trial 1838\n",
      "Entrenando Trial 1838...\n"
     ]
    },
    {
     "name": "stderr",
     "output_type": "stream",
     "text": [
      "\u001b[32m[I 2023-12-01 17:00:07,311]\u001b[0m Trial 1838 finished with value: 0.8566615620214395 and parameters: {'n_layers': 7, 'n_units_l0': 64, 'activation_l0': 'LeakyReLU', 'dropout_l0': 0.19781750582388097, 'batch_norm_l0': False, 'l2_reg_l0': 0.0009562685038082912, 'leakyrelu_alpha_l0': 0.16890369610123002, 'n_units_l1': 1024, 'activation_l1': 'Tanh', 'dropout_l1': 0.16389601057906514, 'batch_norm_l1': False, 'l2_reg_l1': 0.0006135396761863466, 'n_units_l2': 256, 'activation_l2': 'ReLU', 'dropout_l2': 0.1672840351435108, 'batch_norm_l2': True, 'l2_reg_l2': 0.00019024637541540697, 'n_units_l3': 2048, 'activation_l3': 'LeakyReLU', 'dropout_l3': 0.46316815414155277, 'batch_norm_l3': True, 'l2_reg_l3': 0.0001853939828974257, 'leakyrelu_alpha_l3': 0.1780505119419008, 'n_units_l4': 2048, 'activation_l4': 'ELU', 'dropout_l4': 0.3714433762238994, 'batch_norm_l4': True, 'l2_reg_l4': 0.00014762946921145583, 'n_units_l5': 16, 'activation_l5': 'LeakyReLU', 'dropout_l5': 0.34552629980654415, 'batch_norm_l5': True, 'l2_reg_l5': 0.008743319462153194, 'leakyrelu_alpha_l5': 0.2995884531205492, 'n_units_l6': 16, 'activation_l6': 'SELU', 'dropout_l6': 0.4311438479135877, 'batch_norm_l6': True, 'l2_reg_l6': 0.0002828091398710932, 'optimizer': 'RMSprop', 'lr': 0.0020621846465680173, 'rmsprop_alpha': 0.9422322923508037, 'epochs': 123, 'batch_size': 512, 'early_stopping_patience': 10, 'lr_reduce_factor': 0.14290426129055273, 'lr_reduce_patience': 34, 'min_lr': 1.3946443727185768e-06}. Best is trial 506 with value: 0.8921898928024502.\u001b[0m\n"
     ]
    },
    {
     "name": "stdout",
     "output_type": "stream",
     "text": [
      "Early stopping\n",
      "Trial 1838 completado. Mejor precisión en validación: 0.8566615620214395\n",
      "Usando GPU para el Trial 1839\n",
      "Entrenando Trial 1839...\n"
     ]
    },
    {
     "name": "stderr",
     "output_type": "stream",
     "text": [
      "\u001b[32m[I 2023-12-01 17:00:31,486]\u001b[0m Trial 1839 finished with value: 0.8554364471669219 and parameters: {'n_layers': 6, 'n_units_l0': 2048, 'activation_l0': 'LeakyReLU', 'dropout_l0': 0.09913573304800037, 'batch_norm_l0': False, 'l2_reg_l0': 0.014104164207188928, 'leakyrelu_alpha_l0': 0.07142492696086915, 'n_units_l1': 32, 'activation_l1': 'Tanh', 'dropout_l1': 0.0005488080655873806, 'batch_norm_l1': False, 'l2_reg_l1': 0.0008766316498830464, 'n_units_l2': 1024, 'activation_l2': 'ReLU', 'dropout_l2': 0.2468304195923607, 'batch_norm_l2': True, 'l2_reg_l2': 0.00013941097731086887, 'n_units_l3': 64, 'activation_l3': 'LeakyReLU', 'dropout_l3': 0.421261506900302, 'batch_norm_l3': True, 'l2_reg_l3': 0.0004316871951340833, 'leakyrelu_alpha_l3': 0.28354384579587216, 'n_units_l4': 64, 'activation_l4': 'ReLU', 'dropout_l4': 0.2620298940663284, 'batch_norm_l4': True, 'l2_reg_l4': 0.08722145138401687, 'n_units_l5': 32, 'activation_l5': 'ELU', 'dropout_l5': 0.2339826201483328, 'batch_norm_l5': False, 'l2_reg_l5': 0.0023256641234605004, 'optimizer': 'RMSprop', 'lr': 0.0002299386373097793, 'rmsprop_alpha': 0.9789370580969812, 'epochs': 686, 'batch_size': 2048, 'early_stopping_patience': 19, 'lr_reduce_factor': 0.23194347143627692, 'lr_reduce_patience': 40, 'min_lr': 1.5683027349686885e-06}. Best is trial 506 with value: 0.8921898928024502.\u001b[0m\n"
     ]
    },
    {
     "name": "stdout",
     "output_type": "stream",
     "text": [
      "Early stopping\n",
      "Trial 1839 completado. Mejor precisión en validación: 0.8554364471669219\n",
      "Usando GPU para el Trial 1840\n",
      "Entrenando Trial 1840...\n"
     ]
    },
    {
     "name": "stderr",
     "output_type": "stream",
     "text": [
      "\u001b[32m[I 2023-12-01 17:00:37,763]\u001b[0m Trial 1840 finished with value: 0.678407350689127 and parameters: {'n_layers': 3, 'n_units_l0': 2048, 'activation_l0': 'LeakyReLU', 'dropout_l0': 0.10986761272815831, 'batch_norm_l0': False, 'l2_reg_l0': 6.613756653633288e-05, 'leakyrelu_alpha_l0': 0.0562958760974811, 'n_units_l1': 512, 'activation_l1': 'Tanh', 'dropout_l1': 0.26091046757800423, 'batch_norm_l1': False, 'l2_reg_l1': 1.9776432329436057e-05, 'n_units_l2': 1024, 'activation_l2': 'ReLU', 'dropout_l2': 0.1851022213678595, 'batch_norm_l2': True, 'l2_reg_l2': 0.0015050032804285495, 'optimizer': 'RMSprop', 'lr': 0.04555643677350108, 'rmsprop_alpha': 0.8539722296716263, 'epochs': 611, 'batch_size': 256, 'early_stopping_patience': 16, 'lr_reduce_factor': 0.40944746502117796, 'lr_reduce_patience': 36, 'min_lr': 3.240815645933591e-06}. Best is trial 506 with value: 0.8921898928024502.\u001b[0m\n"
     ]
    },
    {
     "name": "stdout",
     "output_type": "stream",
     "text": [
      "Early stopping\n",
      "Trial 1840 completado. Mejor precisión en validación: 0.678407350689127\n",
      "Usando GPU para el Trial 1841\n",
      "Entrenando Trial 1841...\n"
     ]
    },
    {
     "name": "stderr",
     "output_type": "stream",
     "text": [
      "\u001b[32m[I 2023-12-01 17:01:35,124]\u001b[0m Trial 1841 finished with value: 0.8698315467075038 and parameters: {'n_layers': 5, 'n_units_l0': 2048, 'activation_l0': 'SELU', 'dropout_l0': 0.12967105987776828, 'batch_norm_l0': False, 'l2_reg_l0': 2.1246003481573865e-05, 'n_units_l1': 512, 'activation_l1': 'Tanh', 'dropout_l1': 0.1384603201489871, 'batch_norm_l1': False, 'l2_reg_l1': 0.024566826374756552, 'n_units_l2': 64, 'activation_l2': 'ReLU', 'dropout_l2': 0.21807750780689555, 'batch_norm_l2': True, 'l2_reg_l2': 0.09981551582562688, 'n_units_l3': 32, 'activation_l3': 'LeakyReLU', 'dropout_l3': 0.4303297256739284, 'batch_norm_l3': True, 'l2_reg_l3': 0.004892713454931436, 'leakyrelu_alpha_l3': 0.21035952071811406, 'n_units_l4': 64, 'activation_l4': 'SELU', 'dropout_l4': 0.4360783715767439, 'batch_norm_l4': True, 'l2_reg_l4': 1.6910671253986662e-05, 'optimizer': 'RMSprop', 'lr': 0.0007650930624576764, 'rmsprop_alpha': 0.9723576328715824, 'epochs': 199, 'batch_size': 64, 'early_stopping_patience': 19, 'lr_reduce_factor': 0.311271307927629, 'lr_reduce_patience': 38, 'min_lr': 2.1712914422287115e-05}. Best is trial 506 with value: 0.8921898928024502.\u001b[0m\n"
     ]
    },
    {
     "name": "stdout",
     "output_type": "stream",
     "text": [
      "Early stopping\n",
      "Trial 1841 completado. Mejor precisión en validación: 0.8698315467075038\n",
      "Usando GPU para el Trial 1842\n",
      "Entrenando Trial 1842...\n"
     ]
    },
    {
     "name": "stderr",
     "output_type": "stream",
     "text": [
      "                                                                                                                                                                                                                                        \r"
     ]
    },
    {
     "name": "stdout",
     "output_type": "stream",
     "text": [
      "Epoch 00092: reducing learning rate of group 0 to 2.6678e-04.\n"
     ]
    },
    {
     "name": "stderr",
     "output_type": "stream",
     "text": [
      "\u001b[32m[I 2023-12-01 17:02:22,939]\u001b[0m Trial 1842 finished with value: 0.8701378254211333 and parameters: {'n_layers': 7, 'n_units_l0': 2048, 'activation_l0': 'ELU', 'dropout_l0': 0.4489076518180505, 'batch_norm_l0': True, 'l2_reg_l0': 0.008404475759648233, 'n_units_l1': 1024, 'activation_l1': 'SELU', 'dropout_l1': 0.02847458161608081, 'batch_norm_l1': False, 'l2_reg_l1': 0.01964650202616213, 'n_units_l2': 128, 'activation_l2': 'Tanh', 'dropout_l2': 0.33116922821624184, 'batch_norm_l2': True, 'l2_reg_l2': 8.505276318342471e-05, 'n_units_l3': 1024, 'activation_l3': 'ELU', 'dropout_l3': 0.44472594784548436, 'batch_norm_l3': True, 'l2_reg_l3': 0.0005674357396225028, 'n_units_l4': 256, 'activation_l4': 'ELU', 'dropout_l4': 0.4892782473288332, 'batch_norm_l4': True, 'l2_reg_l4': 0.09918027213851122, 'n_units_l5': 16, 'activation_l5': 'SELU', 'dropout_l5': 0.4181865290193224, 'batch_norm_l5': False, 'l2_reg_l5': 3.726616745664697e-05, 'n_units_l6': 256, 'activation_l6': 'ELU', 'dropout_l6': 0.4418785170345019, 'batch_norm_l6': True, 'l2_reg_l6': 7.370306515112758e-05, 'optimizer': 'RMSprop', 'lr': 0.0005715104672706548, 'rmsprop_alpha': 0.8666549229835944, 'epochs': 769, 'batch_size': 256, 'early_stopping_patience': 18, 'lr_reduce_factor': 0.46679591385640623, 'lr_reduce_patience': 35, 'min_lr': 3.445381303149273e-05}. Best is trial 506 with value: 0.8921898928024502.\u001b[0m\n"
     ]
    },
    {
     "name": "stdout",
     "output_type": "stream",
     "text": [
      "Early stopping\n",
      "Trial 1842 completado. Mejor precisión en validación: 0.8701378254211333\n",
      "Usando GPU para el Trial 1843\n",
      "Entrenando Trial 1843...\n"
     ]
    },
    {
     "name": "stderr",
     "output_type": "stream",
     "text": [
      "                                                                                                                                                                                                                                        \r"
     ]
    },
    {
     "name": "stdout",
     "output_type": "stream",
     "text": [
      "Epoch 00123: reducing learning rate of group 0 to 2.1074e-04.\n"
     ]
    },
    {
     "name": "stderr",
     "output_type": "stream",
     "text": [
      "\u001b[32m[I 2023-12-01 17:09:47,134]\u001b[0m Trial 1843 finished with value: 0.8652373660030628 and parameters: {'n_layers': 4, 'n_units_l0': 128, 'activation_l0': 'Tanh', 'dropout_l0': 0.035214639750273224, 'batch_norm_l0': False, 'l2_reg_l0': 0.0020991667929706357, 'n_units_l1': 64, 'activation_l1': 'Tanh', 'dropout_l1': 0.11517893467674355, 'batch_norm_l1': False, 'l2_reg_l1': 0.007806930515650793, 'n_units_l2': 1024, 'activation_l2': 'ReLU', 'dropout_l2': 0.298396181853672, 'batch_norm_l2': True, 'l2_reg_l2': 0.0024969188063986973, 'n_units_l3': 16, 'activation_l3': 'LeakyReLU', 'dropout_l3': 0.41404457053512733, 'batch_norm_l3': True, 'l2_reg_l3': 0.0027753963632373827, 'leakyrelu_alpha_l3': 0.17132718101627412, 'optimizer': 'RMSprop', 'lr': 0.0011967798082405834, 'rmsprop_alpha': 0.8823340360233183, 'epochs': 254, 'batch_size': 16, 'early_stopping_patience': 19, 'lr_reduce_factor': 0.17608648973826646, 'lr_reduce_patience': 46, 'min_lr': 4.4853349944407745e-06}. Best is trial 506 with value: 0.8921898928024502.\u001b[0m\n"
     ]
    },
    {
     "name": "stdout",
     "output_type": "stream",
     "text": [
      "Early stopping\n",
      "Trial 1843 completado. Mejor precisión en validación: 0.8652373660030628\n",
      "Usando GPU para el Trial 1844\n",
      "Entrenando Trial 1844...\n"
     ]
    },
    {
     "name": "stderr",
     "output_type": "stream",
     "text": [
      "\u001b[32m[I 2023-12-01 17:10:20,307]\u001b[0m Trial 1844 finished with value: 0.8535987748851455 and parameters: {'n_layers': 2, 'n_units_l0': 2048, 'activation_l0': 'LeakyReLU', 'dropout_l0': 0.1629387282526184, 'batch_norm_l0': False, 'l2_reg_l0': 8.802313405280036e-05, 'leakyrelu_alpha_l0': 0.23757663905342835, 'n_units_l1': 512, 'activation_l1': 'Tanh', 'dropout_l1': 0.1517618270447228, 'batch_norm_l1': False, 'l2_reg_l1': 4.9920757630984076e-05, 'optimizer': 'RMSprop', 'lr': 0.0001235165785030007, 'rmsprop_alpha': 0.8941834532482535, 'epochs': 367, 'batch_size': 128, 'early_stopping_patience': 19, 'lr_reduce_factor': 0.25914902830760295, 'lr_reduce_patience': 40, 'min_lr': 3.883541813641242e-06}. Best is trial 506 with value: 0.8921898928024502.\u001b[0m\n"
     ]
    },
    {
     "name": "stdout",
     "output_type": "stream",
     "text": [
      "Early stopping\n",
      "Trial 1844 completado. Mejor precisión en validación: 0.8535987748851455\n",
      "Usando GPU para el Trial 1845\n",
      "Entrenando Trial 1845...\n"
     ]
    },
    {
     "name": "stderr",
     "output_type": "stream",
     "text": [
      "\u001b[32m[I 2023-12-01 17:10:38,471]\u001b[0m Trial 1845 finished with value: 0.8698315467075038 and parameters: {'n_layers': 6, 'n_units_l0': 2048, 'activation_l0': 'LeakyReLU', 'dropout_l0': 0.45146826215161967, 'batch_norm_l0': False, 'l2_reg_l0': 0.0001293569073418059, 'leakyrelu_alpha_l0': 0.12365093655349983, 'n_units_l1': 512, 'activation_l1': 'Tanh', 'dropout_l1': 0.09734246841596181, 'batch_norm_l1': False, 'l2_reg_l1': 0.00046629089547730424, 'n_units_l2': 256, 'activation_l2': 'ReLU', 'dropout_l2': 0.12287908093266928, 'batch_norm_l2': True, 'l2_reg_l2': 3.7964432004386105e-05, 'n_units_l3': 2048, 'activation_l3': 'LeakyReLU', 'dropout_l3': 0.20595205476313444, 'batch_norm_l3': True, 'l2_reg_l3': 0.00010436499864673043, 'leakyrelu_alpha_l3': 0.1536000378117401, 'n_units_l4': 64, 'activation_l4': 'ReLU', 'dropout_l4': 0.3576590565547425, 'batch_norm_l4': True, 'l2_reg_l4': 1.4067262358613864e-05, 'n_units_l5': 16, 'activation_l5': 'LeakyReLU', 'dropout_l5': 0.2516919232006736, 'batch_norm_l5': False, 'l2_reg_l5': 0.011046588466979743, 'leakyrelu_alpha_l5': 0.20172931461792037, 'optimizer': 'RMSprop', 'lr': 0.0015639687503144208, 'rmsprop_alpha': 0.9129556862181782, 'epochs': 525, 'batch_size': 256, 'early_stopping_patience': 8, 'lr_reduce_factor': 0.19753818791881328, 'lr_reduce_patience': 39, 'min_lr': 3.127371890268913e-05}. Best is trial 506 with value: 0.8921898928024502.\u001b[0m\n"
     ]
    },
    {
     "name": "stdout",
     "output_type": "stream",
     "text": [
      "Early stopping\n",
      "Trial 1845 completado. Mejor precisión en validación: 0.8698315467075038\n",
      "Usando GPU para el Trial 1846\n",
      "Entrenando Trial 1846...\n"
     ]
    },
    {
     "name": "stderr",
     "output_type": "stream",
     "text": [
      "\u001b[32m[I 2023-12-01 17:12:38,102]\u001b[0m Trial 1846 finished with value: 0.8493108728943338 and parameters: {'n_layers': 4, 'n_units_l0': 2048, 'activation_l0': 'LeakyReLU', 'dropout_l0': 0.41009866830040687, 'batch_norm_l0': False, 'l2_reg_l0': 3.111265607780156e-05, 'leakyrelu_alpha_l0': 0.195056447519533, 'n_units_l1': 16, 'activation_l1': 'ReLU', 'dropout_l1': 0.2792895193212737, 'batch_norm_l1': False, 'l2_reg_l1': 0.04390198054063079, 'n_units_l2': 1024, 'activation_l2': 'ReLU', 'dropout_l2': 0.37133183971553674, 'batch_norm_l2': True, 'l2_reg_l2': 0.00025214150542706755, 'n_units_l3': 2048, 'activation_l3': 'Tanh', 'dropout_l3': 0.3168887046331897, 'batch_norm_l3': True, 'l2_reg_l3': 1.8681426051938066e-05, 'optimizer': 'RMSprop', 'lr': 0.0009894682719938546, 'rmsprop_alpha': 0.9745319366856372, 'epochs': 1864, 'batch_size': 32, 'early_stopping_patience': 18, 'lr_reduce_factor': 0.4542085267474967, 'lr_reduce_patience': 37, 'min_lr': 1.7466433470599924e-05}. Best is trial 506 with value: 0.8921898928024502.\u001b[0m\n"
     ]
    },
    {
     "name": "stdout",
     "output_type": "stream",
     "text": [
      "Early stopping\n",
      "Trial 1846 completado. Mejor precisión en validación: 0.8493108728943338\n",
      "Usando GPU para el Trial 1847\n",
      "Entrenando Trial 1847...\n"
     ]
    },
    {
     "name": "stderr",
     "output_type": "stream",
     "text": [
      "\u001b[32m[I 2023-12-01 17:12:44,757]\u001b[0m Trial 1847 finished with value: 0.678407350689127 and parameters: {'n_layers': 5, 'n_units_l0': 512, 'activation_l0': 'LeakyReLU', 'dropout_l0': 0.36972727659239646, 'batch_norm_l0': False, 'l2_reg_l0': 4.900459006345591e-05, 'leakyrelu_alpha_l0': 0.2629786636057718, 'n_units_l1': 512, 'activation_l1': 'Tanh', 'dropout_l1': 0.3417768753829001, 'batch_norm_l1': False, 'l2_reg_l1': 0.03295200281320218, 'n_units_l2': 32, 'activation_l2': 'ReLU', 'dropout_l2': 0.27121641691560144, 'batch_norm_l2': True, 'l2_reg_l2': 0.013127257281631229, 'n_units_l3': 1024, 'activation_l3': 'LeakyReLU', 'dropout_l3': 0.4574428766269729, 'batch_norm_l3': True, 'l2_reg_l3': 3.138273770027224e-05, 'leakyrelu_alpha_l3': 0.14720741533237275, 'n_units_l4': 64, 'activation_l4': 'Tanh', 'dropout_l4': 0.4072884449353323, 'batch_norm_l4': True, 'l2_reg_l4': 0.02760416935410467, 'optimizer': 'RMSprop', 'lr': 0.07857746048142936, 'rmsprop_alpha': 0.947108478060966, 'epochs': 1945, 'batch_size': 512, 'early_stopping_patience': 17, 'lr_reduce_factor': 0.33362660642790376, 'lr_reduce_patience': 48, 'min_lr': 5.318384220694115e-06}. Best is trial 506 with value: 0.8921898928024502.\u001b[0m\n"
     ]
    },
    {
     "name": "stdout",
     "output_type": "stream",
     "text": [
      "Early stopping\n",
      "Trial 1847 completado. Mejor precisión en validación: 0.678407350689127\n",
      "Usando GPU para el Trial 1848\n",
      "Entrenando Trial 1848...\n"
     ]
    },
    {
     "name": "stderr",
     "output_type": "stream",
     "text": [
      "\u001b[32m[I 2023-12-01 17:13:43,454]\u001b[0m Trial 1848 finished with value: 0.86156202143951 and parameters: {'n_layers': 7, 'n_units_l0': 16, 'activation_l0': 'LeakyReLU', 'dropout_l0': 0.175543887956449, 'batch_norm_l0': False, 'l2_reg_l0': 0.023725424351517484, 'leakyrelu_alpha_l0': 0.14224417499896733, 'n_units_l1': 1024, 'activation_l1': 'Tanh', 'dropout_l1': 0.06464552551290892, 'batch_norm_l1': True, 'l2_reg_l1': 6.030364791194765e-05, 'n_units_l2': 1024, 'activation_l2': 'ReLU', 'dropout_l2': 0.2869782878160026, 'batch_norm_l2': True, 'l2_reg_l2': 0.00048589540118148747, 'n_units_l3': 2048, 'activation_l3': 'LeakyReLU', 'dropout_l3': 0.2262054347286353, 'batch_norm_l3': False, 'l2_reg_l3': 0.0033737744468827257, 'leakyrelu_alpha_l3': 0.20056981058031134, 'n_units_l4': 64, 'activation_l4': 'SELU', 'dropout_l4': 0.4523804757459648, 'batch_norm_l4': True, 'l2_reg_l4': 0.00020692654888399272, 'n_units_l5': 2048, 'activation_l5': 'ELU', 'dropout_l5': 0.08170602262089446, 'batch_norm_l5': False, 'l2_reg_l5': 0.02659968636663911, 'n_units_l6': 32, 'activation_l6': 'SELU', 'dropout_l6': 0.3931235313263381, 'batch_norm_l6': True, 'l2_reg_l6': 0.0011406189686226586, 'optimizer': 'RMSprop', 'lr': 0.00039604490034383276, 'rmsprop_alpha': 0.9681362608902093, 'epochs': 415, 'batch_size': 128, 'early_stopping_patience': 16, 'lr_reduce_factor': 0.29591597368806494, 'lr_reduce_patience': 46, 'min_lr': 1.008362858048961e-05}. Best is trial 506 with value: 0.8921898928024502.\u001b[0m\n"
     ]
    },
    {
     "name": "stdout",
     "output_type": "stream",
     "text": [
      "Early stopping\n",
      "Trial 1848 completado. Mejor precisión en validación: 0.86156202143951\n",
      "Usando GPU para el Trial 1849\n",
      "Entrenando Trial 1849...\n"
     ]
    },
    {
     "name": "stderr",
     "output_type": "stream",
     "text": [
      "\u001b[32m[I 2023-12-01 17:14:45,120]\u001b[0m Trial 1849 finished with value: 0.7975497702909647 and parameters: {'n_layers': 6, 'n_units_l0': 2048, 'activation_l0': 'LeakyReLU', 'dropout_l0': 0.059411005120867166, 'batch_norm_l0': False, 'l2_reg_l0': 0.012931112229185117, 'leakyrelu_alpha_l0': 0.2007090462865922, 'n_units_l1': 512, 'activation_l1': 'Tanh', 'dropout_l1': 0.053966298890570204, 'batch_norm_l1': False, 'l2_reg_l1': 7.43576934044923e-05, 'n_units_l2': 16, 'activation_l2': 'ReLU', 'dropout_l2': 0.31749020451914084, 'batch_norm_l2': True, 'l2_reg_l2': 0.024671472596115046, 'n_units_l3': 1024, 'activation_l3': 'LeakyReLU', 'dropout_l3': 0.43182858028184035, 'batch_norm_l3': True, 'l2_reg_l3': 0.0077115603595669675, 'leakyrelu_alpha_l3': 0.03733022754105309, 'n_units_l4': 64, 'activation_l4': 'ELU', 'dropout_l4': 0.4196897816378245, 'batch_norm_l4': True, 'l2_reg_l4': 5.764338095375783e-05, 'n_units_l5': 16, 'activation_l5': 'ELU', 'dropout_l5': 0.06594403712144414, 'batch_norm_l5': True, 'l2_reg_l5': 5.441777840904267e-05, 'optimizer': 'SGD', 'lr': 0.00011541908001590779, 'sgd_momentum': 0.16081195993988712, 'epochs': 280, 'batch_size': 128, 'early_stopping_patience': 18, 'lr_reduce_factor': 0.16572929455874885, 'lr_reduce_patience': 11, 'min_lr': 4.1318387663422854e-05}. Best is trial 506 with value: 0.8921898928024502.\u001b[0m\n"
     ]
    },
    {
     "name": "stdout",
     "output_type": "stream",
     "text": [
      "Early stopping\n",
      "Trial 1849 completado. Mejor precisión en validación: 0.7975497702909647\n",
      "Usando GPU para el Trial 1850\n",
      "Entrenando Trial 1850...\n"
     ]
    },
    {
     "name": "stderr",
     "output_type": "stream",
     "text": [
      "                                                                                                                                                                                                                                        \r"
     ]
    },
    {
     "name": "stdout",
     "output_type": "stream",
     "text": [
      "Epoch 00065: reducing learning rate of group 0 to 3.0645e-04.\n"
     ]
    },
    {
     "name": "stderr",
     "output_type": "stream",
     "text": [
      "\u001b[32m[I 2023-12-01 17:15:21,056]\u001b[0m Trial 1850 finished with value: 0.8826952526799388 and parameters: {'n_layers': 5, 'n_units_l0': 2048, 'activation_l0': 'LeakyReLU', 'dropout_l0': 0.07095792031354833, 'batch_norm_l0': False, 'l2_reg_l0': 0.0014608196157983476, 'leakyrelu_alpha_l0': 0.18502795362099952, 'n_units_l1': 512, 'activation_l1': 'Tanh', 'dropout_l1': 0.36738969341020766, 'batch_norm_l1': False, 'l2_reg_l1': 0.06063850420761736, 'n_units_l2': 256, 'activation_l2': 'ReLU', 'dropout_l2': 0.1568125658089995, 'batch_norm_l2': True, 'l2_reg_l2': 0.0003549105887926233, 'n_units_l3': 2048, 'activation_l3': 'LeakyReLU', 'dropout_l3': 0.47860665384048884, 'batch_norm_l3': True, 'l2_reg_l3': 0.015210408109681424, 'leakyrelu_alpha_l3': 0.25374456684087016, 'n_units_l4': 64, 'activation_l4': 'ReLU', 'dropout_l4': 0.34977144911885927, 'batch_norm_l4': True, 'l2_reg_l4': 8.741349279372011e-05, 'optimizer': 'RMSprop', 'lr': 0.0007005542199614167, 'rmsprop_alpha': 0.935234515097693, 'epochs': 333, 'batch_size': 256, 'early_stopping_patience': 19, 'lr_reduce_factor': 0.4374459865657857, 'lr_reduce_patience': 47, 'min_lr': 2.437057563776303e-05}. Best is trial 506 with value: 0.8921898928024502.\u001b[0m\n"
     ]
    },
    {
     "name": "stdout",
     "output_type": "stream",
     "text": [
      "Early stopping\n",
      "Trial 1850 completado. Mejor precisión en validación: 0.8826952526799388\n",
      "Usando GPU para el Trial 1851\n",
      "Entrenando Trial 1851...\n"
     ]
    },
    {
     "name": "stderr",
     "output_type": "stream",
     "text": [
      "                                                                                                                                                                                                                                        \r"
     ]
    },
    {
     "name": "stdout",
     "output_type": "stream",
     "text": [
      "Epoch 00044: reducing learning rate of group 0 to 8.2246e-04.\n"
     ]
    },
    {
     "name": "stderr",
     "output_type": "stream",
     "text": [
      "\u001b[32m[I 2023-12-01 17:15:52,854]\u001b[0m Trial 1851 finished with value: 0.870750382848392 and parameters: {'n_layers': 3, 'n_units_l0': 256, 'activation_l0': 'LeakyReLU', 'dropout_l0': 0.21029633638822237, 'batch_norm_l0': False, 'l2_reg_l0': 0.00019445318273821974, 'leakyrelu_alpha_l0': 0.2865096873087491, 'n_units_l1': 2048, 'activation_l1': 'Tanh', 'dropout_l1': 0.43164378432672496, 'batch_norm_l1': False, 'l2_reg_l1': 0.0007396035099688312, 'n_units_l2': 1024, 'activation_l2': 'ReLU', 'dropout_l2': 0.13701849476991282, 'batch_norm_l2': True, 'l2_reg_l2': 0.003616558419298523, 'optimizer': 'RMSprop', 'lr': 0.003393766793252446, 'rmsprop_alpha': 0.9172361938783782, 'epochs': 486, 'batch_size': 128, 'early_stopping_patience': 19, 'lr_reduce_factor': 0.24234433054354096, 'lr_reduce_patience': 40, 'min_lr': 2.8058236805692803e-05}. Best is trial 506 with value: 0.8921898928024502.\u001b[0m\n"
     ]
    },
    {
     "name": "stdout",
     "output_type": "stream",
     "text": [
      "Early stopping\n",
      "Trial 1851 completado. Mejor precisión en validación: 0.870750382848392\n",
      "Usando GPU para el Trial 1852\n",
      "Entrenando Trial 1852...\n"
     ]
    },
    {
     "name": "stderr",
     "output_type": "stream",
     "text": [
      "\u001b[32m[I 2023-12-01 17:16:19,145]\u001b[0m Trial 1852 finished with value: 0.8735068912710566 and parameters: {'n_layers': 8, 'n_units_l0': 2048, 'activation_l0': 'SELU', 'dropout_l0': 0.024886514918468404, 'batch_norm_l0': False, 'l2_reg_l0': 0.0011674549664153202, 'n_units_l1': 1024, 'activation_l1': 'LeakyReLU', 'dropout_l1': 0.08302280295522699, 'batch_norm_l1': False, 'l2_reg_l1': 0.006542585904969132, 'leakyrelu_alpha_l1': 0.19761776066323372, 'n_units_l2': 2048, 'activation_l2': 'ReLU', 'dropout_l2': 0.34188993875130824, 'batch_norm_l2': True, 'l2_reg_l2': 0.01827640338247006, 'n_units_l3': 2048, 'activation_l3': 'LeakyReLU', 'dropout_l3': 0.49959246193684, 'batch_norm_l3': True, 'l2_reg_l3': 1.0090015651099786e-05, 'leakyrelu_alpha_l3': 0.03235020438071981, 'n_units_l4': 256, 'activation_l4': 'LeakyReLU', 'dropout_l4': 0.46491704586039384, 'batch_norm_l4': True, 'l2_reg_l4': 0.00012779978516998746, 'leakyrelu_alpha_l4': 0.09783689056366071, 'n_units_l5': 16, 'activation_l5': 'LeakyReLU', 'dropout_l5': 0.3835523045571615, 'batch_norm_l5': False, 'l2_reg_l5': 0.06346958504053496, 'leakyrelu_alpha_l5': 0.04393262219707073, 'n_units_l6': 128, 'activation_l6': 'SELU', 'dropout_l6': 0.487716879262143, 'batch_norm_l6': True, 'l2_reg_l6': 0.0006040292105617812, 'n_units_l7': 64, 'activation_l7': 'LeakyReLU', 'dropout_l7': 0.08415884439622967, 'batch_norm_l7': True, 'l2_reg_l7': 0.0005522439212858873, 'leakyrelu_alpha_l7': 0.2889582911416717, 'optimizer': 'RMSprop', 'lr': 0.0004708306272559216, 'rmsprop_alpha': 0.9062300151353937, 'epochs': 165, 'batch_size': 1024, 'early_stopping_patience': 17, 'lr_reduce_factor': 0.2180077550898929, 'lr_reduce_patience': 35, 'min_lr': 1.3638921477937763e-05}. Best is trial 506 with value: 0.8921898928024502.\u001b[0m\n"
     ]
    },
    {
     "name": "stdout",
     "output_type": "stream",
     "text": [
      "Early stopping\n",
      "Trial 1852 completado. Mejor precisión en validación: 0.8735068912710566\n",
      "Usando GPU para el Trial 1853\n",
      "Entrenando Trial 1853...\n"
     ]
    },
    {
     "name": "stderr",
     "output_type": "stream",
     "text": [
      "\u001b[32m[I 2023-12-01 17:17:11,927]\u001b[0m Trial 1853 finished with value: 0.8732006125574273 and parameters: {'n_layers': 7, 'n_units_l0': 2048, 'activation_l0': 'LeakyReLU', 'dropout_l0': 0.08893926871975433, 'batch_norm_l0': False, 'l2_reg_l0': 0.0029435569010267462, 'leakyrelu_alpha_l0': 0.09610955330793734, 'n_units_l1': 128, 'activation_l1': 'Tanh', 'dropout_l1': 0.4241538732534715, 'batch_norm_l1': False, 'l2_reg_l1': 1.4855379915867503e-05, 'n_units_l2': 2048, 'activation_l2': 'ReLU', 'dropout_l2': 0.11477423962776084, 'batch_norm_l2': True, 'l2_reg_l2': 0.00012160941003738159, 'n_units_l3': 1024, 'activation_l3': 'LeakyReLU', 'dropout_l3': 0.44398956956371244, 'batch_norm_l3': True, 'l2_reg_l3': 4.462162984733633e-05, 'leakyrelu_alpha_l3': 0.22425399959710435, 'n_units_l4': 64, 'activation_l4': 'LeakyReLU', 'dropout_l4': 0.28567450237882513, 'batch_norm_l4': True, 'l2_reg_l4': 3.0852401097411485e-05, 'leakyrelu_alpha_l4': 0.2537700216040055, 'n_units_l5': 512, 'activation_l5': 'SELU', 'dropout_l5': 0.03605678633975673, 'batch_norm_l5': False, 'l2_reg_l5': 0.004969205947349726, 'n_units_l6': 64, 'activation_l6': 'SELU', 'dropout_l6': 0.25884449479774896, 'batch_norm_l6': True, 'l2_reg_l6': 0.00013668435327261261, 'optimizer': 'Adam', 'lr': 0.0008497287157194971, 'adam_beta1': 0.9576539395334706, 'adam_beta2': 0.9382604390035657, 'epochs': 550, 'batch_size': 128, 'early_stopping_patience': 18, 'lr_reduce_factor': 0.48305293065502636, 'lr_reduce_patience': 41, 'min_lr': 1.7947138797240355e-06}. Best is trial 506 with value: 0.8921898928024502.\u001b[0m\n"
     ]
    },
    {
     "name": "stdout",
     "output_type": "stream",
     "text": [
      "Early stopping\n",
      "Trial 1853 completado. Mejor precisión en validación: 0.8732006125574273\n",
      "Usando GPU para el Trial 1854\n",
      "Entrenando Trial 1854...\n"
     ]
    },
    {
     "name": "stderr",
     "output_type": "stream",
     "text": [
      "\u001b[32m[I 2023-12-01 17:17:35,206]\u001b[0m Trial 1854 finished with value: 0.8483920367534457 and parameters: {'n_layers': 1, 'n_units_l0': 2048, 'activation_l0': 'LeakyReLU', 'dropout_l0': 0.1465850298352535, 'batch_norm_l0': False, 'l2_reg_l0': 0.018796089093620513, 'leakyrelu_alpha_l0': 0.13352583396622994, 'optimizer': 'RMSprop', 'lr': 0.0013296706206460964, 'rmsprop_alpha': 0.8736509264129654, 'epochs': 217, 'batch_size': 64, 'early_stopping_patience': 19, 'lr_reduce_factor': 0.5707019030416269, 'lr_reduce_patience': 45, 'min_lr': 4.725970884152439e-06}. Best is trial 506 with value: 0.8921898928024502.\u001b[0m\n"
     ]
    },
    {
     "name": "stdout",
     "output_type": "stream",
     "text": [
      "Early stopping\n",
      "Trial 1854 completado. Mejor precisión en validación: 0.8483920367534457\n",
      "Usando GPU para el Trial 1855\n",
      "Entrenando Trial 1855...\n"
     ]
    },
    {
     "name": "stderr",
     "output_type": "stream",
     "text": [
      "\u001b[32m[I 2023-12-01 17:17:57,859]\u001b[0m Trial 1855 finished with value: 0.8609494640122511 and parameters: {'n_layers': 4, 'n_units_l0': 2048, 'activation_l0': 'ReLU', 'dropout_l0': 0.009243048665623137, 'batch_norm_l0': False, 'l2_reg_l0': 0.03708156692002844, 'n_units_l1': 512, 'activation_l1': 'Tanh', 'dropout_l1': 0.38521878063769843, 'batch_norm_l1': False, 'l2_reg_l1': 0.00110784288327156, 'n_units_l2': 512, 'activation_l2': 'ReLU', 'dropout_l2': 0.3968848271238212, 'batch_norm_l2': True, 'l2_reg_l2': 2.6940567152720556e-05, 'n_units_l3': 16, 'activation_l3': 'LeakyReLU', 'dropout_l3': 0.3449306335332176, 'batch_norm_l3': True, 'l2_reg_l3': 0.03188646845674632, 'leakyrelu_alpha_l3': 0.1895782796284529, 'optimizer': 'RMSprop', 'lr': 0.0003164859343373951, 'rmsprop_alpha': 0.976901318098924, 'epochs': 1825, 'batch_size': 256, 'early_stopping_patience': 19, 'lr_reduce_factor': 0.39521580423075614, 'lr_reduce_patience': 26, 'min_lr': 4.452011337803807e-05}. Best is trial 506 with value: 0.8921898928024502.\u001b[0m\n"
     ]
    },
    {
     "name": "stdout",
     "output_type": "stream",
     "text": [
      "Early stopping\n",
      "Trial 1855 completado. Mejor precisión en validación: 0.8609494640122511\n",
      "Usando GPU para el Trial 1856\n",
      "Entrenando Trial 1856...\n"
     ]
    },
    {
     "name": "stderr",
     "output_type": "stream",
     "text": [
      "\u001b[32m[I 2023-12-01 17:18:43,992]\u001b[0m Trial 1856 finished with value: 0.8554364471669219 and parameters: {'n_layers': 5, 'n_units_l0': 32, 'activation_l0': 'LeakyReLU', 'dropout_l0': 0.04312822003331962, 'batch_norm_l0': False, 'l2_reg_l0': 0.011079565088369613, 'leakyrelu_alpha_l0': 0.11704627106336953, 'n_units_l1': 512, 'activation_l1': 'Tanh', 'dropout_l1': 0.12268007919493475, 'batch_norm_l1': False, 'l2_reg_l1': 0.015003900140315883, 'n_units_l2': 2048, 'activation_l2': 'Tanh', 'dropout_l2': 0.41144182279543884, 'batch_norm_l2': True, 'l2_reg_l2': 1.4250037904026234e-05, 'n_units_l3': 2048, 'activation_l3': 'Tanh', 'dropout_l3': 0.47563581354761464, 'batch_norm_l3': True, 'l2_reg_l3': 0.004007064453479286, 'n_units_l4': 32, 'activation_l4': 'SELU', 'dropout_l4': 0.44379327694500964, 'batch_norm_l4': True, 'l2_reg_l4': 0.0002502979371756795, 'optimizer': 'RMSprop', 'lr': 0.0005778069117966266, 'rmsprop_alpha': 0.9215398363583701, 'epochs': 1897, 'batch_size': 128, 'early_stopping_patience': 17, 'lr_reduce_factor': 0.3596013335859746, 'lr_reduce_patience': 36, 'min_lr': 2.308959990540205e-06}. Best is trial 506 with value: 0.8921898928024502.\u001b[0m\n"
     ]
    },
    {
     "name": "stdout",
     "output_type": "stream",
     "text": [
      "Early stopping\n",
      "Trial 1856 completado. Mejor precisión en validación: 0.8554364471669219\n",
      "Usando GPU para el Trial 1857\n",
      "Entrenando Trial 1857...\n"
     ]
    },
    {
     "name": "stderr",
     "output_type": "stream",
     "text": [
      "\u001b[32m[I 2023-12-01 17:19:52,569]\u001b[0m Trial 1857 finished with value: 0.678407350689127 and parameters: {'n_layers': 47, 'n_units_l0': 2048, 'activation_l0': 'LeakyReLU', 'dropout_l0': 0.13804569933500455, 'batch_norm_l0': False, 'l2_reg_l0': 0.0017128218411953272, 'leakyrelu_alpha_l0': 0.08541299326374291, 'n_units_l1': 1024, 'activation_l1': 'Tanh', 'dropout_l1': 0.40226655843084935, 'batch_norm_l1': False, 'l2_reg_l1': 1.0057634447661566e-05, 'n_units_l2': 1024, 'activation_l2': 'ReLU', 'dropout_l2': 0.20431071023496958, 'batch_norm_l2': True, 'l2_reg_l2': 0.0018689112229989023, 'n_units_l3': 1024, 'activation_l3': 'LeakyReLU', 'dropout_l3': 0.39431208984223015, 'batch_norm_l3': True, 'l2_reg_l3': 0.09854745149728798, 'leakyrelu_alpha_l3': 0.011144142006858287, 'n_units_l4': 64, 'activation_l4': 'ELU', 'dropout_l4': 0.18869918069362593, 'batch_norm_l4': True, 'l2_reg_l4': 0.016636575661307218, 'n_units_l5': 32, 'activation_l5': 'ELU', 'dropout_l5': 0.32722614009845863, 'batch_norm_l5': False, 'l2_reg_l5': 0.00315849533023518, 'n_units_l6': 1024, 'activation_l6': 'ReLU', 'dropout_l6': 0.37932997681632735, 'batch_norm_l6': True, 'l2_reg_l6': 0.0033963766654470976, 'n_units_l7': 128, 'activation_l7': 'ReLU', 'dropout_l7': 0.021851517933786743, 'batch_norm_l7': False, 'l2_reg_l7': 0.00013706696988493658, 'n_units_l8': 64, 'activation_l8': 'Tanh', 'dropout_l8': 0.0751653397566871, 'batch_norm_l8': False, 'l2_reg_l8': 0.00014306811202846994, 'n_units_l9': 32, 'activation_l9': 'ReLU', 'dropout_l9': 0.304517687635941, 'batch_norm_l9': False, 'l2_reg_l9': 0.07199112366246767, 'n_units_l10': 512, 'activation_l10': 'Tanh', 'dropout_l10': 0.2942165073316536, 'batch_norm_l10': False, 'l2_reg_l10': 0.09983029290621133, 'n_units_l11': 64, 'activation_l11': 'ReLU', 'dropout_l11': 0.25330599571673096, 'batch_norm_l11': False, 'l2_reg_l11': 3.0401670960150862e-05, 'n_units_l12': 64, 'activation_l12': 'Tanh', 'dropout_l12': 0.20664281906423618, 'batch_norm_l12': False, 'l2_reg_l12': 0.03270338293330034, 'n_units_l13': 256, 'activation_l13': 'ELU', 'dropout_l13': 0.21104859393322556, 'batch_norm_l13': False, 'l2_reg_l13': 0.00402869421816168, 'n_units_l14': 128, 'activation_l14': 'ReLU', 'dropout_l14': 0.0022892596276122834, 'batch_norm_l14': False, 'l2_reg_l14': 8.464535171657908e-05, 'n_units_l15': 256, 'activation_l15': 'ELU', 'dropout_l15': 0.10133578448175745, 'batch_norm_l15': False, 'l2_reg_l15': 0.000156730447222678, 'n_units_l16': 2048, 'activation_l16': 'ReLU', 'dropout_l16': 0.22850114563414545, 'batch_norm_l16': False, 'l2_reg_l16': 0.00016151576703270183, 'n_units_l17': 64, 'activation_l17': 'LeakyReLU', 'dropout_l17': 0.19110408086346337, 'batch_norm_l17': True, 'l2_reg_l17': 0.0007167218308265969, 'leakyrelu_alpha_l17': 0.24260897567254924, 'n_units_l18': 64, 'activation_l18': 'ReLU', 'dropout_l18': 0.2078074606180336, 'batch_norm_l18': False, 'l2_reg_l18': 0.002175909842451119, 'n_units_l19': 1024, 'activation_l19': 'Tanh', 'dropout_l19': 0.38485257119773375, 'batch_norm_l19': False, 'l2_reg_l19': 8.505007192247693e-05, 'n_units_l20': 256, 'activation_l20': 'Tanh', 'dropout_l20': 0.034659293034850325, 'batch_norm_l20': False, 'l2_reg_l20': 4.209916916838692e-05, 'n_units_l21': 512, 'activation_l21': 'ReLU', 'dropout_l21': 0.001324225829873349, 'batch_norm_l21': False, 'l2_reg_l21': 5.379317207163699e-05, 'n_units_l22': 256, 'activation_l22': 'SELU', 'dropout_l22': 0.2535165159258354, 'batch_norm_l22': False, 'l2_reg_l22': 0.00010252266672885247, 'n_units_l23': 16, 'activation_l23': 'LeakyReLU', 'dropout_l23': 0.2585890695161434, 'batch_norm_l23': True, 'l2_reg_l23': 1.4083749884102322e-05, 'leakyrelu_alpha_l23': 0.25274544074077654, 'n_units_l24': 2048, 'activation_l24': 'SELU', 'dropout_l24': 0.08498978858991596, 'batch_norm_l24': True, 'l2_reg_l24': 0.07297351566773891, 'n_units_l25': 1024, 'activation_l25': 'LeakyReLU', 'dropout_l25': 0.43750489675219273, 'batch_norm_l25': True, 'l2_reg_l25': 0.021998809559414054, 'leakyrelu_alpha_l25': 0.12232175064456978, 'n_units_l26': 2048, 'activation_l26': 'ReLU', 'dropout_l26': 0.03577476678116581, 'batch_norm_l26': False, 'l2_reg_l26': 0.05968862345694136, 'n_units_l27': 256, 'activation_l27': 'ReLU', 'dropout_l27': 0.0004905361952678433, 'batch_norm_l27': False, 'l2_reg_l27': 0.006973239020641662, 'n_units_l28': 32, 'activation_l28': 'ELU', 'dropout_l28': 0.334107628445429, 'batch_norm_l28': True, 'l2_reg_l28': 3.627284779832485e-05, 'n_units_l29': 64, 'activation_l29': 'SELU', 'dropout_l29': 0.08635229971755493, 'batch_norm_l29': True, 'l2_reg_l29': 0.07222255395589132, 'n_units_l30': 128, 'activation_l30': 'SELU', 'dropout_l30': 0.34938824627227405, 'batch_norm_l30': True, 'l2_reg_l30': 0.0007822269722976496, 'n_units_l31': 2048, 'activation_l31': 'LeakyReLU', 'dropout_l31': 0.18296232494908884, 'batch_norm_l31': False, 'l2_reg_l31': 0.0007651237386159212, 'leakyrelu_alpha_l31': 0.08975373692009969, 'n_units_l32': 512, 'activation_l32': 'Tanh', 'dropout_l32': 0.08843109834227914, 'batch_norm_l32': False, 'l2_reg_l32': 0.0028600703314148987, 'n_units_l33': 512, 'activation_l33': 'Tanh', 'dropout_l33': 0.29619000350908753, 'batch_norm_l33': True, 'l2_reg_l33': 0.0001975261768007017, 'n_units_l34': 64, 'activation_l34': 'SELU', 'dropout_l34': 0.41297226338290394, 'batch_norm_l34': True, 'l2_reg_l34': 0.09825252031191743, 'n_units_l35': 64, 'activation_l35': 'ELU', 'dropout_l35': 0.4059018732316329, 'batch_norm_l35': False, 'l2_reg_l35': 0.018590637551895228, 'n_units_l36': 16, 'activation_l36': 'Tanh', 'dropout_l36': 0.000999249401028468, 'batch_norm_l36': False, 'l2_reg_l36': 7.7201507213418e-05, 'n_units_l37': 512, 'activation_l37': 'ReLU', 'dropout_l37': 0.3126025989112541, 'batch_norm_l37': True, 'l2_reg_l37': 2.447375290179475e-05, 'n_units_l38': 512, 'activation_l38': 'ReLU', 'dropout_l38': 0.49966597566082727, 'batch_norm_l38': False, 'l2_reg_l38': 0.0031007313322033527, 'n_units_l39': 1024, 'activation_l39': 'Tanh', 'dropout_l39': 0.4981292972932082, 'batch_norm_l39': True, 'l2_reg_l39': 0.0007134744778289558, 'n_units_l40': 64, 'activation_l40': 'ELU', 'dropout_l40': 0.3576118669524436, 'batch_norm_l40': False, 'l2_reg_l40': 0.007457573700302462, 'n_units_l41': 64, 'activation_l41': 'ReLU', 'dropout_l41': 0.4502127933842409, 'batch_norm_l41': False, 'l2_reg_l41': 0.031177035704895287, 'n_units_l42': 1024, 'activation_l42': 'LeakyReLU', 'dropout_l42': 0.424220547783891, 'batch_norm_l42': False, 'l2_reg_l42': 0.00018836646805093772, 'leakyrelu_alpha_l42': 0.2995664190378738, 'n_units_l43': 256, 'activation_l43': 'ReLU', 'dropout_l43': 0.16269819471568583, 'batch_norm_l43': True, 'l2_reg_l43': 0.00031988389642251486, 'n_units_l44': 512, 'activation_l44': 'SELU', 'dropout_l44': 0.09235468011869669, 'batch_norm_l44': False, 'l2_reg_l44': 0.09166390048565105, 'n_units_l45': 128, 'activation_l45': 'SELU', 'dropout_l45': 0.40601054754793664, 'batch_norm_l45': False, 'l2_reg_l45': 0.015810935661858268, 'n_units_l46': 256, 'activation_l46': 'ELU', 'dropout_l46': 0.4966980783815394, 'batch_norm_l46': False, 'l2_reg_l46': 0.00010860139982181866, 'optimizer': 'RMSprop', 'lr': 0.011921466145594422, 'rmsprop_alpha': 0.9443631183415913, 'epochs': 306, 'batch_size': 128, 'early_stopping_patience': 18, 'lr_reduce_factor': 0.5302028218876387, 'lr_reduce_patience': 39, 'min_lr': 2.764155119384401e-06}. Best is trial 506 with value: 0.8921898928024502.\u001b[0m\n"
     ]
    },
    {
     "name": "stdout",
     "output_type": "stream",
     "text": [
      "Early stopping\n",
      "Trial 1857 completado. Mejor precisión en validación: 0.678407350689127\n",
      "Usando GPU para el Trial 1858\n",
      "Entrenando Trial 1858...\n"
     ]
    },
    {
     "name": "stderr",
     "output_type": "stream",
     "text": [
      "\u001b[32m[I 2023-12-01 17:20:01,672]\u001b[0m Trial 1858 finished with value: 0.678407350689127 and parameters: {'n_layers': 6, 'n_units_l0': 2048, 'activation_l0': 'LeakyReLU', 'dropout_l0': 0.0775500122852451, 'batch_norm_l0': False, 'l2_reg_l0': 3.624165828386208e-05, 'leakyrelu_alpha_l0': 0.2479015023831606, 'n_units_l1': 512, 'activation_l1': 'Tanh', 'dropout_l1': 0.25118017165789813, 'batch_norm_l1': False, 'l2_reg_l1': 2.5364592424912515e-05, 'n_units_l2': 2048, 'activation_l2': 'ReLU', 'dropout_l2': 0.192810437135864, 'batch_norm_l2': True, 'l2_reg_l2': 0.007319486560466394, 'n_units_l3': 32, 'activation_l3': 'ReLU', 'dropout_l3': 0.3643815455354526, 'batch_norm_l3': True, 'l2_reg_l3': 0.011034522601636254, 'n_units_l4': 1024, 'activation_l4': 'ReLU', 'dropout_l4': 0.397248825305591, 'batch_norm_l4': False, 'l2_reg_l4': 2.2493583617004868e-05, 'n_units_l5': 2048, 'activation_l5': 'ReLU', 'dropout_l5': 0.26262401049407563, 'batch_norm_l5': False, 'l2_reg_l5': 0.00020312330557726663, 'optimizer': 'RMSprop', 'lr': 0.0020750790089901433, 'rmsprop_alpha': 0.9831320983198936, 'epochs': 608, 'batch_size': 256, 'early_stopping_patience': 16, 'lr_reduce_factor': 0.41691363013859273, 'lr_reduce_patience': 37, 'min_lr': 2.116049367936922e-06}. Best is trial 506 with value: 0.8921898928024502.\u001b[0m\n"
     ]
    },
    {
     "name": "stdout",
     "output_type": "stream",
     "text": [
      "Early stopping\n",
      "Trial 1858 completado. Mejor precisión en validación: 0.678407350689127\n",
      "Usando GPU para el Trial 1859\n",
      "Entrenando Trial 1859...\n"
     ]
    },
    {
     "name": "stderr",
     "output_type": "stream",
     "text": [
      "\u001b[32m[I 2023-12-01 17:23:11,004]\u001b[0m Trial 1859 finished with value: 0.8741194486983155 and parameters: {'n_layers': 9, 'n_units_l0': 2048, 'activation_l0': 'LeakyReLU', 'dropout_l0': 0.18468651634558014, 'batch_norm_l0': False, 'l2_reg_l0': 2.4763739441269103e-05, 'leakyrelu_alpha_l0': 0.2788721013114532, 'n_units_l1': 512, 'activation_l1': 'Tanh', 'dropout_l1': 0.17230298782414905, 'batch_norm_l1': False, 'l2_reg_l1': 0.002201866309626572, 'n_units_l2': 2048, 'activation_l2': 'ReLU', 'dropout_l2': 0.4343575658202079, 'batch_norm_l2': True, 'l2_reg_l2': 0.00015582321064215362, 'n_units_l3': 2048, 'activation_l3': 'LeakyReLU', 'dropout_l3': 0.4336003759431036, 'batch_norm_l3': True, 'l2_reg_l3': 0.009621128207181267, 'leakyrelu_alpha_l3': 0.1593233827284089, 'n_units_l4': 2048, 'activation_l4': 'LeakyReLU', 'dropout_l4': 0.3646812205608631, 'batch_norm_l4': True, 'l2_reg_l4': 4.8233342913271425e-05, 'leakyrelu_alpha_l4': 0.26384058796958276, 'n_units_l5': 16, 'activation_l5': 'LeakyReLU', 'dropout_l5': 0.3701768840934548, 'batch_norm_l5': True, 'l2_reg_l5': 1.8833316271874908e-05, 'leakyrelu_alpha_l5': 0.11987593974116383, 'n_units_l6': 16, 'activation_l6': 'ELU', 'dropout_l6': 0.24498097162201357, 'batch_norm_l6': True, 'l2_reg_l6': 0.025781081211668118, 'n_units_l7': 32, 'activation_l7': 'ELU', 'dropout_l7': 0.06212494614261346, 'batch_norm_l7': True, 'l2_reg_l7': 8.85764922485621e-05, 'n_units_l8': 512, 'activation_l8': 'ReLU', 'dropout_l8': 0.20606791786017822, 'batch_norm_l8': True, 'l2_reg_l8': 0.010848064277148265, 'optimizer': 'RMSprop', 'lr': 5.481000457138137e-05, 'rmsprop_alpha': 0.895313889451929, 'epochs': 1946, 'batch_size': 128, 'early_stopping_patience': 19, 'lr_reduce_factor': 0.27222714114593255, 'lr_reduce_patience': 41, 'min_lr': 1.9259330779301488e-05}. Best is trial 506 with value: 0.8921898928024502.\u001b[0m\n"
     ]
    },
    {
     "name": "stdout",
     "output_type": "stream",
     "text": [
      "Early stopping\n",
      "Trial 1859 completado. Mejor precisión en validación: 0.8741194486983155\n",
      "Usando GPU para el Trial 1860\n",
      "Entrenando Trial 1860...\n"
     ]
    },
    {
     "name": "stderr",
     "output_type": "stream",
     "text": [
      "\u001b[32m[I 2023-12-01 17:24:31,999]\u001b[0m Trial 1860 finished with value: 0.8808575803981623 and parameters: {'n_layers': 7, 'n_units_l0': 2048, 'activation_l0': 'LeakyReLU', 'dropout_l0': 0.12325110600160726, 'batch_norm_l0': True, 'l2_reg_l0': 1.7789328093725692e-05, 'leakyrelu_alpha_l0': 0.227608133555601, 'n_units_l1': 512, 'activation_l1': 'ELU', 'dropout_l1': 0.32028587204737224, 'batch_norm_l1': False, 'l2_reg_l1': 3.5158951873747675e-05, 'n_units_l2': 1024, 'activation_l2': 'ReLU', 'dropout_l2': 0.1786507296827518, 'batch_norm_l2': True, 'l2_reg_l2': 0.0007539502573795995, 'n_units_l3': 1024, 'activation_l3': 'LeakyReLU', 'dropout_l3': 0.4094403783938539, 'batch_norm_l3': True, 'l2_reg_l3': 0.002774996201071159, 'leakyrelu_alpha_l3': 0.2304382824828068, 'n_units_l4': 64, 'activation_l4': 'Tanh', 'dropout_l4': 0.3371162259260946, 'batch_norm_l4': True, 'l2_reg_l4': 0.020077890525406684, 'n_units_l5': 64, 'activation_l5': 'ELU', 'dropout_l5': 0.3931475051941336, 'batch_norm_l5': False, 'l2_reg_l5': 0.0001344740875787687, 'n_units_l6': 128, 'activation_l6': 'SELU', 'dropout_l6': 0.10624657398616572, 'batch_norm_l6': True, 'l2_reg_l6': 9.490317145666632e-05, 'optimizer': 'RMSprop', 'lr': 0.0011283175314851387, 'rmsprop_alpha': 0.9298237674916625, 'epochs': 360, 'batch_size': 128, 'early_stopping_patience': 19, 'lr_reduce_factor': 0.1524183912655193, 'lr_reduce_patience': 46, 'min_lr': 1.4947857367964858e-05}. Best is trial 506 with value: 0.8921898928024502.\u001b[0m\n"
     ]
    },
    {
     "name": "stdout",
     "output_type": "stream",
     "text": [
      "Early stopping\n",
      "Trial 1860 completado. Mejor precisión en validación: 0.8808575803981623\n",
      "Usando GPU para el Trial 1861\n",
      "Entrenando Trial 1861...\n"
     ]
    },
    {
     "name": "stderr",
     "output_type": "stream",
     "text": [
      "\u001b[32m[I 2023-12-01 17:25:16,656]\u001b[0m Trial 1861 finished with value: 0.678407350689127 and parameters: {'n_layers': 25, 'n_units_l0': 2048, 'activation_l0': 'SELU', 'dropout_l0': 0.09580758009213997, 'batch_norm_l0': False, 'l2_reg_l0': 0.027914555876778765, 'n_units_l1': 1024, 'activation_l1': 'Tanh', 'dropout_l1': 0.14467899253382158, 'batch_norm_l1': False, 'l2_reg_l1': 1.2051653144508596e-05, 'n_units_l2': 256, 'activation_l2': 'LeakyReLU', 'dropout_l2': 0.28084326251322544, 'batch_norm_l2': True, 'l2_reg_l2': 2.0908656499842353e-05, 'leakyrelu_alpha_l2': 0.22556552197221214, 'n_units_l3': 2048, 'activation_l3': 'Tanh', 'dropout_l3': 0.31059906726574626, 'batch_norm_l3': False, 'l2_reg_l3': 9.706431334940441e-05, 'n_units_l4': 64, 'activation_l4': 'LeakyReLU', 'dropout_l4': 0.42989976873763136, 'batch_norm_l4': True, 'l2_reg_l4': 0.000174671918683315, 'leakyrelu_alpha_l4': 0.2686942454450284, 'n_units_l5': 16, 'activation_l5': 'LeakyReLU', 'dropout_l5': 0.3327355299042008, 'batch_norm_l5': False, 'l2_reg_l5': 0.038234074803250286, 'leakyrelu_alpha_l5': 0.1900663034380374, 'n_units_l6': 256, 'activation_l6': 'SELU', 'dropout_l6': 0.29010393830274744, 'batch_norm_l6': True, 'l2_reg_l6': 0.0009772147567732197, 'n_units_l7': 2048, 'activation_l7': 'LeakyReLU', 'dropout_l7': 0.16028441862697007, 'batch_norm_l7': False, 'l2_reg_l7': 0.0024987320643041237, 'leakyrelu_alpha_l7': 0.2572327869175673, 'n_units_l8': 2048, 'activation_l8': 'LeakyReLU', 'dropout_l8': 0.016293868443375825, 'batch_norm_l8': False, 'l2_reg_l8': 0.0001829957644403052, 'leakyrelu_alpha_l8': 0.19419380245128415, 'n_units_l9': 64, 'activation_l9': 'LeakyReLU', 'dropout_l9': 0.17533908647082266, 'batch_norm_l9': True, 'l2_reg_l9': 0.046720717752016264, 'leakyrelu_alpha_l9': 0.28333159006273556, 'n_units_l10': 16, 'activation_l10': 'LeakyReLU', 'dropout_l10': 0.07854608412055264, 'batch_norm_l10': True, 'l2_reg_l10': 0.04846615625419215, 'leakyrelu_alpha_l10': 0.25560831963734165, 'n_units_l11': 16, 'activation_l11': 'Tanh', 'dropout_l11': 0.23636077995762525, 'batch_norm_l11': True, 'l2_reg_l11': 0.0026414245350016644, 'n_units_l12': 1024, 'activation_l12': 'ELU', 'dropout_l12': 0.03188935256823583, 'batch_norm_l12': True, 'l2_reg_l12': 0.0003642560385609521, 'n_units_l13': 64, 'activation_l13': 'Tanh', 'dropout_l13': 0.23973176371712906, 'batch_norm_l13': True, 'l2_reg_l13': 0.0006133722366683408, 'n_units_l14': 32, 'activation_l14': 'LeakyReLU', 'dropout_l14': 0.3468405989544996, 'batch_norm_l14': True, 'l2_reg_l14': 0.0027521352643981394, 'leakyrelu_alpha_l14': 0.11437600064842413, 'n_units_l15': 16, 'activation_l15': 'LeakyReLU', 'dropout_l15': 0.33344799219628607, 'batch_norm_l15': True, 'l2_reg_l15': 0.0005050821049710034, 'leakyrelu_alpha_l15': 0.20850009223828198, 'n_units_l16': 1024, 'activation_l16': 'LeakyReLU', 'dropout_l16': 0.1893241002910952, 'batch_norm_l16': True, 'l2_reg_l16': 0.0017737078244915007, 'leakyrelu_alpha_l16': 0.19680034398898744, 'n_units_l17': 1024, 'activation_l17': 'ELU', 'dropout_l17': 0.10817557641001779, 'batch_norm_l17': False, 'l2_reg_l17': 0.016948883448744713, 'n_units_l18': 256, 'activation_l18': 'ELU', 'dropout_l18': 0.2223030087050527, 'batch_norm_l18': True, 'l2_reg_l18': 0.014222701546073278, 'n_units_l19': 2048, 'activation_l19': 'ReLU', 'dropout_l19': 0.18506951643382588, 'batch_norm_l19': True, 'l2_reg_l19': 3.435641597313646e-05, 'n_units_l20': 1024, 'activation_l20': 'ELU', 'dropout_l20': 0.20135268119309888, 'batch_norm_l20': True, 'l2_reg_l20': 2.3212834143109383e-05, 'n_units_l21': 1024, 'activation_l21': 'Tanh', 'dropout_l21': 0.4875337950718763, 'batch_norm_l21': True, 'l2_reg_l21': 0.0009656337383228248, 'n_units_l22': 2048, 'activation_l22': 'LeakyReLU', 'dropout_l22': 0.4263951207974177, 'batch_norm_l22': True, 'l2_reg_l22': 0.0023359027126723456, 'leakyrelu_alpha_l22': 0.09011618686572966, 'n_units_l23': 2048, 'activation_l23': 'Tanh', 'dropout_l23': 0.16771847000108772, 'batch_norm_l23': False, 'l2_reg_l23': 0.04511759647123467, 'n_units_l24': 32, 'activation_l24': 'ReLU', 'dropout_l24': 0.23615095270019293, 'batch_norm_l24': False, 'l2_reg_l24': 0.00010377915542213137, 'optimizer': 'RMSprop', 'lr': 0.016014035799514336, 'rmsprop_alpha': 0.8502541378496525, 'epochs': 441, 'batch_size': 128, 'early_stopping_patience': 18, 'lr_reduce_factor': 0.5861313887738926, 'lr_reduce_patience': 24, 'min_lr': 1.4186305542240067e-06}. Best is trial 506 with value: 0.8921898928024502.\u001b[0m\n"
     ]
    },
    {
     "name": "stdout",
     "output_type": "stream",
     "text": [
      "Early stopping\n",
      "Trial 1861 completado. Mejor precisión en validación: 0.678407350689127\n",
      "Usando GPU para el Trial 1862\n",
      "Entrenando Trial 1862...\n"
     ]
    },
    {
     "name": "stderr",
     "output_type": "stream",
     "text": [
      "\u001b[32m[I 2023-12-01 17:25:55,040]\u001b[0m Trial 1862 finished with value: 0.8753445635528331 and parameters: {'n_layers': 3, 'n_units_l0': 512, 'activation_l0': 'LeakyReLU', 'dropout_l0': 0.11207091771575918, 'batch_norm_l0': False, 'l2_reg_l0': 7.887911870572025e-05, 'leakyrelu_alpha_l0': 0.2919121919737374, 'n_units_l1': 256, 'activation_l1': 'Tanh', 'dropout_l1': 0.2656800686314551, 'batch_norm_l1': False, 'l2_reg_l1': 1.8249071609563146e-05, 'n_units_l2': 2048, 'activation_l2': 'ReLU', 'dropout_l2': 0.22806900863644183, 'batch_norm_l2': True, 'l2_reg_l2': 0.04123477422618713, 'optimizer': 'RMSprop', 'lr': 0.0007158487213854371, 'rmsprop_alpha': 0.9257669558888244, 'epochs': 259, 'batch_size': 512, 'early_stopping_patience': 19, 'lr_reduce_factor': 0.32305962402844546, 'lr_reduce_patience': 49, 'min_lr': 5.4881517688293805e-06}. Best is trial 506 with value: 0.8921898928024502.\u001b[0m\n"
     ]
    },
    {
     "name": "stdout",
     "output_type": "stream",
     "text": [
      "Early stopping\n",
      "Trial 1862 completado. Mejor precisión en validación: 0.8753445635528331\n",
      "Usando GPU para el Trial 1863\n",
      "Entrenando Trial 1863...\n"
     ]
    },
    {
     "name": "stderr",
     "output_type": "stream",
     "text": [
      "\u001b[32m[I 2023-12-01 17:26:43,764]\u001b[0m Trial 1863 finished with value: 0.8658499234303216 and parameters: {'n_layers': 8, 'n_units_l0': 64, 'activation_l0': 'LeakyReLU', 'dropout_l0': 0.15783640593971046, 'batch_norm_l0': False, 'l2_reg_l0': 0.007429043641458326, 'leakyrelu_alpha_l0': 0.24257612786951957, 'n_units_l1': 512, 'activation_l1': 'Tanh', 'dropout_l1': 0.10658079888088401, 'batch_norm_l1': False, 'l2_reg_l1': 0.0027125755636593645, 'n_units_l2': 64, 'activation_l2': 'ReLU', 'dropout_l2': 0.30438551947438897, 'batch_norm_l2': True, 'l2_reg_l2': 0.0009285481159782585, 'n_units_l3': 256, 'activation_l3': 'LeakyReLU', 'dropout_l3': 0.18258718646569638, 'batch_norm_l3': True, 'l2_reg_l3': 0.0052034924185221975, 'leakyrelu_alpha_l3': 0.21761752654422575, 'n_units_l4': 16, 'activation_l4': 'LeakyReLU', 'dropout_l4': 0.3774615599822636, 'batch_norm_l4': True, 'l2_reg_l4': 1.9176473769837364e-05, 'leakyrelu_alpha_l4': 0.24604141801552037, 'n_units_l5': 16, 'activation_l5': 'ELU', 'dropout_l5': 0.31051721274168564, 'batch_norm_l5': False, 'l2_reg_l5': 0.008393359380770694, 'n_units_l6': 16, 'activation_l6': 'SELU', 'dropout_l6': 0.33178408926929104, 'batch_norm_l6': True, 'l2_reg_l6': 0.00019775046368702572, 'n_units_l7': 512, 'activation_l7': 'LeakyReLU', 'dropout_l7': 0.10250479303336661, 'batch_norm_l7': False, 'l2_reg_l7': 0.0012222211254225104, 'leakyrelu_alpha_l7': 0.08773192399774506, 'optimizer': 'RMSprop', 'lr': 0.0026007213494599257, 'rmsprop_alpha': 0.8655334127511152, 'epochs': 175, 'batch_size': 256, 'early_stopping_patience': 17, 'lr_reduce_factor': 0.5115038713755752, 'lr_reduce_patience': 41, 'min_lr': 2.3379176629693745e-05}. Best is trial 506 with value: 0.8921898928024502.\u001b[0m\n"
     ]
    },
    {
     "name": "stdout",
     "output_type": "stream",
     "text": [
      "Early stopping\n",
      "Trial 1863 completado. Mejor precisión en validación: 0.8658499234303216\n",
      "Usando GPU para el Trial 1864\n",
      "Entrenando Trial 1864...\n"
     ]
    },
    {
     "name": "stderr",
     "output_type": "stream",
     "text": [
      "\u001b[32m[I 2023-12-01 17:28:35,735]\u001b[0m Trial 1864 finished with value: 0.8750382848392037 and parameters: {'n_layers': 5, 'n_units_l0': 2048, 'activation_l0': 'LeakyReLU', 'dropout_l0': 0.16992969569096655, 'batch_norm_l0': False, 'l2_reg_l0': 0.002584304703065122, 'leakyrelu_alpha_l0': 0.1891950025055814, 'n_units_l1': 512, 'activation_l1': 'Tanh', 'dropout_l1': 0.15950889742466556, 'batch_norm_l1': False, 'l2_reg_l1': 0.0004885895220711572, 'n_units_l2': 2048, 'activation_l2': 'ReLU', 'dropout_l2': 0.23562844688983442, 'batch_norm_l2': True, 'l2_reg_l2': 0.03387940495967611, 'n_units_l3': 2048, 'activation_l3': 'ELU', 'dropout_l3': 0.4585165171560554, 'batch_norm_l3': True, 'l2_reg_l3': 0.0773183109838942, 'n_units_l4': 256, 'activation_l4': 'LeakyReLU', 'dropout_l4': 0.41202587390618567, 'batch_norm_l4': True, 'l2_reg_l4': 9.932409041646876e-05, 'leakyrelu_alpha_l4': 0.25954005374212935, 'optimizer': 'RMSprop', 'lr': 4.992572894176064e-05, 'rmsprop_alpha': 0.9877719169592459, 'epochs': 393, 'batch_size': 128, 'early_stopping_patience': 18, 'lr_reduce_factor': 0.28402321990565244, 'lr_reduce_patience': 38, 'min_lr': 1.6948915334505245e-05}. Best is trial 506 with value: 0.8921898928024502.\u001b[0m\n"
     ]
    },
    {
     "name": "stdout",
     "output_type": "stream",
     "text": [
      "Early stopping\n",
      "Trial 1864 completado. Mejor precisión en validación: 0.8750382848392037\n",
      "Usando GPU para el Trial 1865\n",
      "Entrenando Trial 1865...\n"
     ]
    },
    {
     "name": "stderr",
     "output_type": "stream",
     "text": [
      "\u001b[32m[I 2023-12-01 17:28:57,950]\u001b[0m Trial 1865 finished with value: 0.8719754977029096 and parameters: {'n_layers': 4, 'n_units_l0': 2048, 'activation_l0': 'LeakyReLU', 'dropout_l0': 0.017780997879036912, 'batch_norm_l0': False, 'l2_reg_l0': 0.000946404743330189, 'leakyrelu_alpha_l0': 0.25213242212772735, 'n_units_l1': 1024, 'activation_l1': 'Tanh', 'dropout_l1': 0.2934080383794668, 'batch_norm_l1': False, 'l2_reg_l1': 2.0286623681375837e-05, 'n_units_l2': 1024, 'activation_l2': 'ELU', 'dropout_l2': 0.2606568975877007, 'batch_norm_l2': True, 'l2_reg_l2': 7.35238704091881e-05, 'n_units_l3': 16, 'activation_l3': 'LeakyReLU', 'dropout_l3': 0.16963399682512992, 'batch_norm_l3': True, 'l2_reg_l3': 0.0006835168820833544, 'leakyrelu_alpha_l3': 0.18505064895100334, 'optimizer': 'RMSprop', 'lr': 0.001611969787069344, 'rmsprop_alpha': 0.9406654853543596, 'epochs': 571, 'batch_size': 128, 'early_stopping_patience': 16, 'lr_reduce_factor': 0.18858073599328998, 'lr_reduce_patience': 44, 'min_lr': 4.246955965180901e-06}. Best is trial 506 with value: 0.8921898928024502.\u001b[0m\n"
     ]
    },
    {
     "name": "stdout",
     "output_type": "stream",
     "text": [
      "Early stopping\n",
      "Trial 1865 completado. Mejor precisión en validación: 0.8719754977029096\n",
      "Usando GPU para el Trial 1866\n",
      "Entrenando Trial 1866...\n"
     ]
    },
    {
     "name": "stderr",
     "output_type": "stream",
     "text": [
      "\u001b[32m[I 2023-12-01 17:29:48,752]\u001b[0m Trial 1866 finished with value: 0.853292496171516 and parameters: {'n_layers': 6, 'n_units_l0': 2048, 'activation_l0': 'LeakyReLU', 'dropout_l0': 0.486118939412256, 'batch_norm_l0': False, 'l2_reg_l0': 0.00022952952444095233, 'leakyrelu_alpha_l0': 0.2740329710336996, 'n_units_l1': 512, 'activation_l1': 'Tanh', 'dropout_l1': 0.4708488227717945, 'batch_norm_l1': False, 'l2_reg_l1': 0.00038107729333236107, 'n_units_l2': 2048, 'activation_l2': 'ReLU', 'dropout_l2': 0.3563498012627203, 'batch_norm_l2': True, 'l2_reg_l2': 0.0003169843825121234, 'n_units_l3': 1024, 'activation_l3': 'LeakyReLU', 'dropout_l3': 0.3986233677471168, 'batch_norm_l3': True, 'l2_reg_l3': 0.020767428806477438, 'leakyrelu_alpha_l3': 0.2118389454186985, 'n_units_l4': 64, 'activation_l4': 'ELU', 'dropout_l4': 0.39123841374345875, 'batch_norm_l4': True, 'l2_reg_l4': 0.06266806727293868, 'n_units_l5': 512, 'activation_l5': 'SELU', 'dropout_l5': 0.36271879934530427, 'batch_norm_l5': False, 'l2_reg_l5': 0.052737914047036705, 'optimizer': 'RMSprop', 'lr': 8.927321008957086e-05, 'rmsprop_alpha': 0.9709114910579997, 'epochs': 119, 'batch_size': 256, 'early_stopping_patience': 19, 'lr_reduce_factor': 0.3461724260202445, 'lr_reduce_patience': 45, 'min_lr': 1.6308450714895971e-06}. Best is trial 506 with value: 0.8921898928024502.\u001b[0m\n"
     ]
    },
    {
     "name": "stdout",
     "output_type": "stream",
     "text": [
      "Trial 1866 completado. Mejor precisión en validación: 0.853292496171516\n",
      "Usando GPU para el Trial 1867\n",
      "Entrenando Trial 1867...\n"
     ]
    },
    {
     "name": "stderr",
     "output_type": "stream",
     "text": [
      "\u001b[32m[I 2023-12-01 17:30:18,870]\u001b[0m Trial 1867 finished with value: 0.858499234303216 and parameters: {'n_layers': 6, 'n_units_l0': 2048, 'activation_l0': 'ELU', 'dropout_l0': 0.06099534766018889, 'batch_norm_l0': False, 'l2_reg_l0': 0.0020937233095556385, 'n_units_l1': 512, 'activation_l1': 'Tanh', 'dropout_l1': 0.3766882748950631, 'batch_norm_l1': False, 'l2_reg_l1': 0.001585499570860705, 'n_units_l2': 2048, 'activation_l2': 'ReLU', 'dropout_l2': 0.1597703905203201, 'batch_norm_l2': True, 'l2_reg_l2': 0.0030456030183373278, 'n_units_l3': 2048, 'activation_l3': 'LeakyReLU', 'dropout_l3': 0.43818298370645425, 'batch_norm_l3': True, 'l2_reg_l3': 0.00031901697451597094, 'leakyrelu_alpha_l3': 0.12859183040756567, 'n_units_l4': 64, 'activation_l4': 'ReLU', 'dropout_l4': 0.3463775577299837, 'batch_norm_l4': True, 'l2_reg_l4': 2.89654408389414e-05, 'n_units_l5': 2048, 'activation_l5': 'LeakyReLU', 'dropout_l5': 0.049365986174127095, 'batch_norm_l5': True, 'l2_reg_l5': 1.3126277861413273e-05, 'leakyrelu_alpha_l5': 0.09236117957572795, 'optimizer': 'RMSprop', 'lr': 0.00015637136887541961, 'rmsprop_alpha': 0.8864154458587424, 'epochs': 1860, 'batch_size': 2048, 'early_stopping_patience': 13, 'lr_reduce_factor': 0.36976751707448313, 'lr_reduce_patience': 34, 'min_lr': 8.993325418605506e-06}. Best is trial 506 with value: 0.8921898928024502.\u001b[0m\n"
     ]
    },
    {
     "name": "stdout",
     "output_type": "stream",
     "text": [
      "Early stopping\n",
      "Trial 1867 completado. Mejor precisión en validación: 0.858499234303216\n",
      "Usando GPU para el Trial 1868\n",
      "Entrenando Trial 1868...\n"
     ]
    },
    {
     "name": "stderr",
     "output_type": "stream",
     "text": [
      "\u001b[32m[I 2023-12-01 17:33:15,623]\u001b[0m Trial 1868 finished with value: 0.8529862174578867 and parameters: {'n_layers': 19, 'n_units_l0': 2048, 'activation_l0': 'LeakyReLU', 'dropout_l0': 0.05238012406814553, 'batch_norm_l0': False, 'l2_reg_l0': 4.6221080451928583e-05, 'leakyrelu_alpha_l0': 0.1264809182172421, 'n_units_l1': 1024, 'activation_l1': 'SELU', 'dropout_l1': 0.4489374925910431, 'batch_norm_l1': True, 'l2_reg_l1': 0.0019801626072954237, 'n_units_l2': 128, 'activation_l2': 'ReLU', 'dropout_l2': 0.10553314316375, 'batch_norm_l2': True, 'l2_reg_l2': 0.0002032280923642389, 'n_units_l3': 128, 'activation_l3': 'LeakyReLU', 'dropout_l3': 0.48811024581976004, 'batch_norm_l3': True, 'l2_reg_l3': 2.5879448707999234e-05, 'leakyrelu_alpha_l3': 0.27273021755173493, 'n_units_l4': 64, 'activation_l4': 'SELU', 'dropout_l4': 0.35623650426269016, 'batch_norm_l4': True, 'l2_reg_l4': 1.2436110466745869e-05, 'n_units_l5': 32, 'activation_l5': 'ELU', 'dropout_l5': 0.10019873052629832, 'batch_norm_l5': False, 'l2_reg_l5': 0.00023077973616715558, 'n_units_l6': 32, 'activation_l6': 'ReLU', 'dropout_l6': 0.16891997037848572, 'batch_norm_l6': True, 'l2_reg_l6': 0.004540827306405386, 'n_units_l7': 64, 'activation_l7': 'ELU', 'dropout_l7': 0.07168513036918178, 'batch_norm_l7': True, 'l2_reg_l7': 0.006867082879115752, 'n_units_l8': 16, 'activation_l8': 'ELU', 'dropout_l8': 0.18975643114407806, 'batch_norm_l8': True, 'l2_reg_l8': 0.00331396200745627, 'n_units_l9': 16, 'activation_l9': 'SELU', 'dropout_l9': 0.28484676925579294, 'batch_norm_l9': False, 'l2_reg_l9': 1.1555128807782447e-05, 'n_units_l10': 2048, 'activation_l10': 'ELU', 'dropout_l10': 0.37728973377421626, 'batch_norm_l10': False, 'l2_reg_l10': 0.0005106270751572483, 'n_units_l11': 1024, 'activation_l11': 'SELU', 'dropout_l11': 0.12684940602788472, 'batch_norm_l11': False, 'l2_reg_l11': 0.03125291720398198, 'n_units_l12': 16, 'activation_l12': 'SELU', 'dropout_l12': 0.2856859534800949, 'batch_norm_l12': False, 'l2_reg_l12': 0.00018949644874026713, 'n_units_l13': 2048, 'activation_l13': 'LeakyReLU', 'dropout_l13': 0.33642604413307053, 'batch_norm_l13': False, 'l2_reg_l13': 0.007520160488242776, 'leakyrelu_alpha_l13': 0.16836258138312854, 'n_units_l14': 2048, 'activation_l14': 'Tanh', 'dropout_l14': 0.23084850728371215, 'batch_norm_l14': False, 'l2_reg_l14': 0.0020863167633617713, 'n_units_l15': 64, 'activation_l15': 'Tanh', 'dropout_l15': 0.07961983846132603, 'batch_norm_l15': False, 'l2_reg_l15': 9.074642356755294e-05, 'n_units_l16': 128, 'activation_l16': 'Tanh', 'dropout_l16': 0.2596250028753768, 'batch_norm_l16': False, 'l2_reg_l16': 0.00399845756210333, 'n_units_l17': 256, 'activation_l17': 'ReLU', 'dropout_l17': 0.4295516478025548, 'batch_norm_l17': True, 'l2_reg_l17': 0.0010105139147168435, 'n_units_l18': 1024, 'activation_l18': 'LeakyReLU', 'dropout_l18': 0.07123152047690334, 'batch_norm_l18': False, 'l2_reg_l18': 5.4317364856922326e-05, 'leakyrelu_alpha_l18': 0.2660528336508897, 'optimizer': 'RMSprop', 'lr': 2.7193767008190595e-05, 'rmsprop_alpha': 0.85792430336656, 'epochs': 308, 'batch_size': 128, 'early_stopping_patience': 20, 'lr_reduce_factor': 0.2992745198697922, 'lr_reduce_patience': 40, 'min_lr': 5.2381278006378645e-05}. Best is trial 506 with value: 0.8921898928024502.\u001b[0m\n"
     ]
    },
    {
     "name": "stdout",
     "output_type": "stream",
     "text": [
      "Early stopping\n",
      "Trial 1868 completado. Mejor precisión en validación: 0.8529862174578867\n",
      "Usando GPU para el Trial 1869\n",
      "Entrenando Trial 1869...\n"
     ]
    },
    {
     "name": "stderr",
     "output_type": "stream",
     "text": [
      "\u001b[32m[I 2023-12-01 17:34:22,557]\u001b[0m Trial 1869 finished with value: 0.678407350689127 and parameters: {'n_layers': 22, 'n_units_l0': 2048, 'activation_l0': 'Tanh', 'dropout_l0': 0.1933067799069817, 'batch_norm_l0': False, 'l2_reg_l0': 1.0626949591696685e-05, 'n_units_l1': 512, 'activation_l1': 'Tanh', 'dropout_l1': 0.41082589633379796, 'batch_norm_l1': False, 'l2_reg_l1': 0.000951924439668989, 'n_units_l2': 1024, 'activation_l2': 'ReLU', 'dropout_l2': 0.38057612490532267, 'batch_norm_l2': True, 'l2_reg_l2': 0.00830166985981056, 'n_units_l3': 1024, 'activation_l3': 'LeakyReLU', 'dropout_l3': 0.41300976772108056, 'batch_norm_l3': True, 'l2_reg_l3': 0.00022576290503660722, 'leakyrelu_alpha_l3': 0.14950525504926146, 'n_units_l4': 64, 'activation_l4': 'LeakyReLU', 'dropout_l4': 0.42322640202131834, 'batch_norm_l4': True, 'l2_reg_l4': 7.061190846570741e-05, 'leakyrelu_alpha_l4': 0.1222962857052271, 'n_units_l5': 16, 'activation_l5': 'LeakyReLU', 'dropout_l5': 0.09240624162572464, 'batch_norm_l5': False, 'l2_reg_l5': 2.074660135266551e-05, 'leakyrelu_alpha_l5': 0.08279924145507014, 'n_units_l6': 64, 'activation_l6': 'SELU', 'dropout_l6': 0.21810029026718422, 'batch_norm_l6': True, 'l2_reg_l6': 7.282236262766511e-05, 'n_units_l7': 256, 'activation_l7': 'SELU', 'dropout_l7': 0.1370259377929944, 'batch_norm_l7': False, 'l2_reg_l7': 0.0001114906153908309, 'n_units_l8': 1024, 'activation_l8': 'SELU', 'dropout_l8': 0.3258606006382555, 'batch_norm_l8': False, 'l2_reg_l8': 0.04665908021657043, 'n_units_l9': 2048, 'activation_l9': 'ELU', 'dropout_l9': 0.05120456271341928, 'batch_norm_l9': True, 'l2_reg_l9': 3.273465411340526e-05, 'n_units_l10': 1024, 'activation_l10': 'SELU', 'dropout_l10': 0.3477195545102769, 'batch_norm_l10': True, 'l2_reg_l10': 3.6081663867696996e-05, 'n_units_l11': 32, 'activation_l11': 'ELU', 'dropout_l11': 0.2800372922654083, 'batch_norm_l11': True, 'l2_reg_l11': 0.0043648151099436, 'n_units_l12': 128, 'activation_l12': 'ReLU', 'dropout_l12': 0.1712618302699979, 'batch_norm_l12': True, 'l2_reg_l12': 0.06371993625483235, 'n_units_l13': 32, 'activation_l13': 'ReLU', 'dropout_l13': 0.358693939408808, 'batch_norm_l13': True, 'l2_reg_l13': 0.012964374110784854, 'n_units_l14': 64, 'activation_l14': 'ELU', 'dropout_l14': 0.021087632876296447, 'batch_norm_l14': True, 'l2_reg_l14': 0.004532839025060249, 'n_units_l15': 32, 'activation_l15': 'ReLU', 'dropout_l15': 0.1367133607173367, 'batch_norm_l15': True, 'l2_reg_l15': 0.00020104588975809902, 'n_units_l16': 256, 'activation_l16': 'SELU', 'dropout_l16': 0.446001389715327, 'batch_norm_l16': True, 'l2_reg_l16': 0.0005504770466875458, 'n_units_l17': 16, 'activation_l17': 'Tanh', 'dropout_l17': 0.3414880532624327, 'batch_norm_l17': False, 'l2_reg_l17': 0.02431873225304654, 'n_units_l18': 16, 'activation_l18': 'SELU', 'dropout_l18': 0.08573329611521174, 'batch_norm_l18': True, 'l2_reg_l18': 0.008875491671215423, 'n_units_l19': 16, 'activation_l19': 'SELU', 'dropout_l19': 0.40790486798753733, 'batch_norm_l19': False, 'l2_reg_l19': 0.00026646506859384465, 'n_units_l20': 512, 'activation_l20': 'SELU', 'dropout_l20': 0.05914895949526183, 'batch_norm_l20': False, 'l2_reg_l20': 0.000163584849015854, 'n_units_l21': 64, 'activation_l21': 'ELU', 'dropout_l21': 0.22031867391470283, 'batch_norm_l21': False, 'l2_reg_l21': 2.0403824082979137e-05, 'optimizer': 'RMSprop', 'lr': 0.009615806435499965, 'rmsprop_alpha': 0.8702964273790822, 'epochs': 666, 'batch_size': 64, 'early_stopping_patience': 18, 'lr_reduce_factor': 0.552311411569403, 'lr_reduce_patience': 42, 'min_lr': 2.608013352408369e-06}. Best is trial 506 with value: 0.8921898928024502.\u001b[0m\n"
     ]
    },
    {
     "name": "stdout",
     "output_type": "stream",
     "text": [
      "Early stopping\n",
      "Trial 1869 completado. Mejor precisión en validación: 0.678407350689127\n",
      "Usando GPU para el Trial 1870\n",
      "Entrenando Trial 1870...\n"
     ]
    },
    {
     "name": "stderr",
     "output_type": "stream",
     "text": [
      "\u001b[32m[I 2023-12-01 17:35:18,766]\u001b[0m Trial 1870 finished with value: 0.8765696784073507 and parameters: {'n_layers': 7, 'n_units_l0': 128, 'activation_l0': 'LeakyReLU', 'dropout_l0': 0.08485616361114118, 'batch_norm_l0': False, 'l2_reg_l0': 0.00011254643100713693, 'leakyrelu_alpha_l0': 0.20658111110674418, 'n_units_l1': 512, 'activation_l1': 'Tanh', 'dropout_l1': 0.07818091849971959, 'batch_norm_l1': False, 'l2_reg_l1': 0.009572593602978352, 'n_units_l2': 2048, 'activation_l2': 'ReLU', 'dropout_l2': 0.19648450010214624, 'batch_norm_l2': True, 'l2_reg_l2': 0.0013622938882016339, 'n_units_l3': 2048, 'activation_l3': 'Tanh', 'dropout_l3': 0.32465511537518343, 'batch_norm_l3': True, 'l2_reg_l3': 0.05697227976655872, 'n_units_l4': 64, 'activation_l4': 'LeakyReLU', 'dropout_l4': 0.47428739147562315, 'batch_norm_l4': True, 'l2_reg_l4': 3.62071084312015e-05, 'leakyrelu_alpha_l4': 0.1521243335162525, 'n_units_l5': 16, 'activation_l5': 'ELU', 'dropout_l5': 0.2934619805719653, 'batch_norm_l5': False, 'l2_reg_l5': 7.522458035037988e-05, 'n_units_l6': 128, 'activation_l6': 'ELU', 'dropout_l6': 0.2034854339196187, 'batch_norm_l6': True, 'l2_reg_l6': 0.00032994965954164163, 'optimizer': 'RMSprop', 'lr': 0.000919058341275004, 'rmsprop_alpha': 0.9226593122716387, 'epochs': 521, 'batch_size': 128, 'early_stopping_patience': 15, 'lr_reduce_factor': 0.25448998142118356, 'lr_reduce_patience': 46, 'min_lr': 1.2594025943991434e-06}. Best is trial 506 with value: 0.8921898928024502.\u001b[0m\n"
     ]
    },
    {
     "name": "stdout",
     "output_type": "stream",
     "text": [
      "Early stopping\n",
      "Trial 1870 completado. Mejor precisión en validación: 0.8765696784073507\n",
      "Usando GPU para el Trial 1871\n",
      "Entrenando Trial 1871...\n"
     ]
    },
    {
     "name": "stderr",
     "output_type": "stream",
     "text": [
      "                                                                                                                                                                                                                                        \r"
     ]
    },
    {
     "name": "stdout",
     "output_type": "stream",
     "text": [
      "Epoch 00077: reducing learning rate of group 0 to 5.4125e-04.\n"
     ]
    },
    {
     "name": "stderr",
     "output_type": "stream",
     "text": [
      "\u001b[32m[I 2023-12-01 17:35:53,678]\u001b[0m Trial 1871 finished with value: 0.8799387442572741 and parameters: {'n_layers': 3, 'n_units_l0': 2048, 'activation_l0': 'LeakyReLU', 'dropout_l0': 0.35967188903378666, 'batch_norm_l0': False, 'l2_reg_l0': 0.01681236861889191, 'leakyrelu_alpha_l0': 0.15700243507874986, 'n_units_l1': 512, 'activation_l1': 'Tanh', 'dropout_l1': 0.23897795975957342, 'batch_norm_l1': False, 'l2_reg_l1': 2.480878007657171e-05, 'n_units_l2': 2048, 'activation_l2': 'ReLU', 'dropout_l2': 0.296609236962643, 'batch_norm_l2': True, 'l2_reg_l2': 5.201788681717747e-05, 'optimizer': 'RMSprop', 'lr': 0.004012908290914596, 'rmsprop_alpha': 0.9796833525253739, 'epochs': 1966, 'batch_size': 256, 'early_stopping_patience': 19, 'lr_reduce_factor': 0.1348776836614681, 'lr_reduce_patience': 45, 'min_lr': 5.891540288835043e-05}. Best is trial 506 with value: 0.8921898928024502.\u001b[0m\n"
     ]
    },
    {
     "name": "stdout",
     "output_type": "stream",
     "text": [
      "Early stopping\n",
      "Trial 1871 completado. Mejor precisión en validación: 0.8799387442572741\n",
      "Usando GPU para el Trial 1872\n",
      "Entrenando Trial 1872...\n"
     ]
    },
    {
     "name": "stderr",
     "output_type": "stream",
     "text": [
      "\u001b[32m[I 2023-12-01 17:37:57,857]\u001b[0m Trial 1872 finished with value: 0.8747320061255742 and parameters: {'n_layers': 8, 'n_units_l0': 2048, 'activation_l0': 'SELU', 'dropout_l0': 0.03286124756772312, 'batch_norm_l0': False, 'l2_reg_l0': 0.0012143896907762044, 'n_units_l1': 32, 'activation_l1': 'Tanh', 'dropout_l1': 0.13853916391264387, 'batch_norm_l1': False, 'l2_reg_l1': 4.092469404539743e-05, 'n_units_l2': 256, 'activation_l2': 'Tanh', 'dropout_l2': 0.44552039018588024, 'batch_norm_l2': True, 'l2_reg_l2': 0.00010420978850504993, 'n_units_l3': 2048, 'activation_l3': 'LeakyReLU', 'dropout_l3': 0.24844433621553313, 'batch_norm_l3': True, 'l2_reg_l3': 0.002382615541504104, 'leakyrelu_alpha_l3': 0.05211209627875957, 'n_units_l4': 256, 'activation_l4': 'LeakyReLU', 'dropout_l4': 0.269862020640629, 'batch_norm_l4': True, 'l2_reg_l4': 0.00013882570630471206, 'leakyrelu_alpha_l4': 0.12153048261715875, 'n_units_l5': 2048, 'activation_l5': 'SELU', 'dropout_l5': 0.07315371810401908, 'batch_norm_l5': False, 'l2_reg_l5': 0.001814023014637901, 'n_units_l6': 256, 'activation_l6': 'SELU', 'dropout_l6': 0.40522712126004024, 'batch_norm_l6': True, 'l2_reg_l6': 6.242886696118388e-05, 'n_units_l7': 16, 'activation_l7': 'LeakyReLU', 'dropout_l7': 0.04515876466697984, 'batch_norm_l7': False, 'l2_reg_l7': 0.0003313099475440539, 'leakyrelu_alpha_l7': 0.14526997500880753, 'optimizer': 'RMSprop', 'lr': 0.0002011832010162867, 'rmsprop_alpha': 0.9735966681867899, 'epochs': 481, 'batch_size': 128, 'early_stopping_patience': 20, 'lr_reduce_factor': 0.1990366520524453, 'lr_reduce_patience': 44, 'min_lr': 1.9798505857671134e-06}. Best is trial 506 with value: 0.8921898928024502.\u001b[0m\n"
     ]
    },
    {
     "name": "stdout",
     "output_type": "stream",
     "text": [
      "Early stopping\n",
      "Trial 1872 completado. Mejor precisión en validación: 0.8747320061255742\n",
      "Usando GPU para el Trial 1873\n",
      "Entrenando Trial 1873...\n"
     ]
    },
    {
     "name": "stderr",
     "output_type": "stream",
     "text": [
      "\u001b[32m[I 2023-12-01 17:38:38,890]\u001b[0m Trial 1873 finished with value: 0.7320061255742726 and parameters: {'n_layers': 5, 'n_units_l0': 16, 'activation_l0': 'LeakyReLU', 'dropout_l0': 0.07229859510035502, 'batch_norm_l0': False, 'l2_reg_l0': 0.05582616824637167, 'leakyrelu_alpha_l0': 0.29495846056025793, 'n_units_l1': 1024, 'activation_l1': 'ReLU', 'dropout_l1': 0.27991889590792945, 'batch_norm_l1': False, 'l2_reg_l1': 0.00018171381002355313, 'n_units_l2': 1024, 'activation_l2': 'ReLU', 'dropout_l2': 0.24914773368175666, 'batch_norm_l2': True, 'l2_reg_l2': 0.0006220369351146307, 'n_units_l3': 1024, 'activation_l3': 'LeakyReLU', 'dropout_l3': 0.4978988762455952, 'batch_norm_l3': False, 'l2_reg_l3': 1.374062022936639e-05, 'leakyrelu_alpha_l3': 0.23414242015614933, 'n_units_l4': 512, 'activation_l4': 'ELU', 'dropout_l4': 0.38030794731776846, 'batch_norm_l4': True, 'l2_reg_l4': 0.00022432215464293902, 'optimizer': 'SGD', 'lr': 0.0005120424828005928, 'sgd_momentum': 0.5961386723228802, 'epochs': 225, 'batch_size': 128, 'early_stopping_patience': 9, 'lr_reduce_factor': 0.494448847196849, 'lr_reduce_patience': 42, 'min_lr': 2.032793357268432e-05}. Best is trial 506 with value: 0.8921898928024502.\u001b[0m\n"
     ]
    },
    {
     "name": "stdout",
     "output_type": "stream",
     "text": [
      "Early stopping\n",
      "Trial 1873 completado. Mejor precisión en validación: 0.7320061255742726\n",
      "Usando GPU para el Trial 1874\n",
      "Entrenando Trial 1874...\n"
     ]
    },
    {
     "name": "stderr",
     "output_type": "stream",
     "text": [
      "\u001b[32m[I 2023-12-01 17:38:46,836]\u001b[0m Trial 1874 finished with value: 0.678407350689127 and parameters: {'n_layers': 4, 'n_units_l0': 2048, 'activation_l0': 'LeakyReLU', 'dropout_l0': 0.10497261117269427, 'batch_norm_l0': False, 'l2_reg_l0': 2.9003235160255848e-05, 'leakyrelu_alpha_l0': 0.16519340187730122, 'n_units_l1': 512, 'activation_l1': 'Tanh', 'dropout_l1': 0.4816717526782726, 'batch_norm_l1': False, 'l2_reg_l1': 1.6026309480147786e-05, 'n_units_l2': 2048, 'activation_l2': 'ReLU', 'dropout_l2': 0.26768142694188796, 'batch_norm_l2': True, 'l2_reg_l2': 0.00043126226607562444, 'n_units_l3': 64, 'activation_l3': 'LeakyReLU', 'dropout_l3': 0.3641049740109466, 'batch_norm_l3': True, 'l2_reg_l3': 0.003199327591909661, 'leakyrelu_alpha_l3': 0.17761885500578428, 'optimizer': 'RMSprop', 'lr': 0.0629777062535865, 'rmsprop_alpha': 0.9672065683749979, 'epochs': 350, 'batch_size': 256, 'early_stopping_patience': 17, 'lr_reduce_factor': 0.606124932339049, 'lr_reduce_patience': 43, 'min_lr': 4.919307212000616e-06}. Best is trial 506 with value: 0.8921898928024502.\u001b[0m\n"
     ]
    },
    {
     "name": "stdout",
     "output_type": "stream",
     "text": [
      "Early stopping\n",
      "Trial 1874 completado. Mejor precisión en validación: 0.678407350689127\n",
      "Usando GPU para el Trial 1875\n",
      "Entrenando Trial 1875...\n"
     ]
    },
    {
     "name": "stderr",
     "output_type": "stream",
     "text": [
      "\u001b[32m[I 2023-12-01 17:39:38,620]\u001b[0m Trial 1875 finished with value: 0.8171516079632466 and parameters: {'n_layers': 6, 'n_units_l0': 512, 'activation_l0': 'LeakyReLU', 'dropout_l0': 0.14385110187807215, 'batch_norm_l0': False, 'l2_reg_l0': 0.04548509618262818, 'leakyrelu_alpha_l0': 0.17535819144144912, 'n_units_l1': 512, 'activation_l1': 'Tanh', 'dropout_l1': 0.39229812769023537, 'batch_norm_l1': False, 'l2_reg_l1': 0.00027658752084286207, 'n_units_l2': 2048, 'activation_l2': 'ReLU', 'dropout_l2': 0.2767788709132111, 'batch_norm_l2': True, 'l2_reg_l2': 3.404094723725458e-05, 'n_units_l3': 2048, 'activation_l3': 'LeakyReLU', 'dropout_l3': 0.14837581835316102, 'batch_norm_l3': True, 'l2_reg_l3': 4.697329108194822e-05, 'leakyrelu_alpha_l3': 0.2043150754718295, 'n_units_l4': 64, 'activation_l4': 'ReLU', 'dropout_l4': 0.3674529484883524, 'batch_norm_l4': True, 'l2_reg_l4': 1.8106256554957484e-05, 'n_units_l5': 16, 'activation_l5': 'LeakyReLU', 'dropout_l5': 0.006724767423142847, 'batch_norm_l5': True, 'l2_reg_l5': 0.003642903902763561, 'leakyrelu_alpha_l5': 0.24994421142096718, 'optimizer': 'Adam', 'lr': 0.019656642803866056, 'adam_beta1': 0.9332758202845142, 'adam_beta2': 0.9702460167698278, 'epochs': 1907, 'batch_size': 128, 'early_stopping_patience': 19, 'lr_reduce_factor': 0.30862476933029237, 'lr_reduce_patience': 47, 'min_lr': 1.2138416189747785e-05}. Best is trial 506 with value: 0.8921898928024502.\u001b[0m\n"
     ]
    },
    {
     "name": "stdout",
     "output_type": "stream",
     "text": [
      "Early stopping\n",
      "Trial 1875 completado. Mejor precisión en validación: 0.8171516079632466\n",
      "Usando GPU para el Trial 1876\n",
      "Entrenando Trial 1876...\n"
     ]
    },
    {
     "name": "stderr",
     "output_type": "stream",
     "text": [
      "\u001b[32m[I 2023-12-01 17:51:13,580]\u001b[0m Trial 1876 finished with value: 0.8735068912710566 and parameters: {'n_layers': 9, 'n_units_l0': 2048, 'activation_l0': 'LeakyReLU', 'dropout_l0': 8.431268146658392e-05, 'batch_norm_l0': False, 'l2_reg_l0': 0.0014943085748979274, 'leakyrelu_alpha_l0': 0.2138940364813809, 'n_units_l1': 64, 'activation_l1': 'Tanh', 'dropout_l1': 0.18298326225303851, 'batch_norm_l1': False, 'l2_reg_l1': 0.00011256852860895965, 'n_units_l2': 1024, 'activation_l2': 'ReLU', 'dropout_l2': 0.12259384521056842, 'batch_norm_l2': True, 'l2_reg_l2': 0.00016596440650635456, 'n_units_l3': 16, 'activation_l3': 'LeakyReLU', 'dropout_l3': 0.3539424315374435, 'batch_norm_l3': True, 'l2_reg_l3': 0.00013318101445391692, 'leakyrelu_alpha_l3': 0.13973100084236045, 'n_units_l4': 64, 'activation_l4': 'LeakyReLU', 'dropout_l4': 0.4058627202252875, 'batch_norm_l4': True, 'l2_reg_l4': 0.045677098830118605, 'leakyrelu_alpha_l4': 0.03560769292129942, 'n_units_l5': 512, 'activation_l5': 'ELU', 'dropout_l5': 0.0005698741777524913, 'batch_norm_l5': False, 'l2_reg_l5': 0.022598815396716893, 'n_units_l6': 1024, 'activation_l6': 'SELU', 'dropout_l6': 0.13914685736180235, 'batch_norm_l6': True, 'l2_reg_l6': 0.00015803226577658713, 'n_units_l7': 64, 'activation_l7': 'Tanh', 'dropout_l7': 0.22910015214344592, 'batch_norm_l7': True, 'l2_reg_l7': 0.0007266697390983486, 'n_units_l8': 128, 'activation_l8': 'Tanh', 'dropout_l8': 0.3747257232611959, 'batch_norm_l8': True, 'l2_reg_l8': 0.016787855218579808, 'optimizer': 'RMSprop', 'lr': 0.000273942651178936, 'rmsprop_alpha': 0.9039306348232836, 'epochs': 275, 'batch_size': 16, 'early_stopping_patience': 18, 'lr_reduce_factor': 0.1691656228967497, 'lr_reduce_patience': 41, 'min_lr': 3.69587601685324e-05}. Best is trial 506 with value: 0.8921898928024502.\u001b[0m\n"
     ]
    },
    {
     "name": "stdout",
     "output_type": "stream",
     "text": [
      "Early stopping\n",
      "Trial 1876 completado. Mejor precisión en validación: 0.8735068912710566\n",
      "Usando GPU para el Trial 1877\n",
      "Entrenando Trial 1877...\n"
     ]
    },
    {
     "name": "stderr",
     "output_type": "stream",
     "text": [
      "                                                                                                                                                                                                                                        \r"
     ]
    },
    {
     "name": "stdout",
     "output_type": "stream",
     "text": [
      "Epoch 00081: reducing learning rate of group 0 to 7.8158e-05.\n"
     ]
    },
    {
     "name": "stderr",
     "output_type": "stream",
     "text": [
      "\u001b[32m[I 2023-12-01 17:52:38,444]\u001b[0m Trial 1877 finished with value: 0.8738131699846861 and parameters: {'n_layers': 7, 'n_units_l0': 2048, 'activation_l0': 'LeakyReLU', 'dropout_l0': 0.376743170165449, 'batch_norm_l0': False, 'l2_reg_l0': 0.001820477902532442, 'leakyrelu_alpha_l0': 0.23453615052628052, 'n_units_l1': 1024, 'activation_l1': 'Tanh', 'dropout_l1': 0.30041225616696526, 'batch_norm_l1': False, 'l2_reg_l1': 3.0933638285027903e-05, 'n_units_l2': 32, 'activation_l2': 'ReLU', 'dropout_l2': 0.1472296250203934, 'batch_norm_l2': True, 'l2_reg_l2': 0.0010200932969410465, 'n_units_l3': 1024, 'activation_l3': 'Tanh', 'dropout_l3': 0.4215052877627492, 'batch_norm_l3': True, 'l2_reg_l3': 5.355460195898119e-05, 'n_units_l4': 2048, 'activation_l4': 'Tanh', 'dropout_l4': 0.489206102239471, 'batch_norm_l4': True, 'l2_reg_l4': 2.5274902848017626e-05, 'n_units_l5': 16, 'activation_l5': 'ReLU', 'dropout_l5': 0.28156851695432633, 'batch_norm_l5': False, 'l2_reg_l5': 0.0025249664793128637, 'n_units_l6': 16, 'activation_l6': 'SELU', 'dropout_l6': 0.46173834934949454, 'batch_norm_l6': True, 'l2_reg_l6': 0.002727672201959503, 'optimizer': 'RMSprop', 'lr': 0.0003558436563447299, 'rmsprop_alpha': 0.8816343853518137, 'epochs': 442, 'batch_size': 128, 'early_stopping_patience': 20, 'lr_reduce_factor': 0.21964126343663545, 'lr_reduce_patience': 39, 'min_lr': 3.99114895910458e-06}. Best is trial 506 with value: 0.8921898928024502.\u001b[0m\n"
     ]
    },
    {
     "name": "stdout",
     "output_type": "stream",
     "text": [
      "Early stopping\n",
      "Trial 1877 completado. Mejor precisión en validación: 0.8738131699846861\n",
      "Usando GPU para el Trial 1878\n",
      "Entrenando Trial 1878...\n"
     ]
    },
    {
     "name": "stderr",
     "output_type": "stream",
     "text": [
      "\u001b[32m[I 2023-12-01 17:55:00,265]\u001b[0m Trial 1878 finished with value: 0.8217457886676875 and parameters: {'n_layers': 2, 'n_units_l0': 256, 'activation_l0': 'LeakyReLU', 'dropout_l0': 0.2027336354956689, 'batch_norm_l0': False, 'l2_reg_l0': 0.02195638554944885, 'leakyrelu_alpha_l0': 0.06456111792098486, 'n_units_l1': 16, 'activation_l1': 'Tanh', 'dropout_l1': 0.1210519636308952, 'batch_norm_l1': False, 'l2_reg_l1': 9.594453875265826e-05, 'optimizer': 'RMSprop', 'lr': 1.0025683341108699e-05, 'rmsprop_alpha': 0.9759326456443782, 'epochs': 1998, 'batch_size': 32, 'early_stopping_patience': 19, 'lr_reduce_factor': 0.2670673970669401, 'lr_reduce_patience': 43, 'min_lr': 3.0734619688665736e-06}. Best is trial 506 with value: 0.8921898928024502.\u001b[0m\n"
     ]
    },
    {
     "name": "stdout",
     "output_type": "stream",
     "text": [
      "Early stopping\n",
      "Trial 1878 completado. Mejor precisión en validación: 0.8217457886676875\n",
      "Usando GPU para el Trial 1879\n",
      "Entrenando Trial 1879...\n"
     ]
    },
    {
     "name": "stderr",
     "output_type": "stream",
     "text": [
      "\u001b[32m[I 2023-12-01 17:55:34,047]\u001b[0m Trial 1879 finished with value: 0.8781010719754977 and parameters: {'n_layers': 5, 'n_units_l0': 2048, 'activation_l0': 'LeakyReLU', 'dropout_l0': 0.13106889101011168, 'batch_norm_l0': True, 'l2_reg_l0': 1.246914998736538e-05, 'leakyrelu_alpha_l0': 0.010380323999387986, 'n_units_l1': 512, 'activation_l1': 'LeakyReLU', 'dropout_l1': 0.3388120738247143, 'batch_norm_l1': False, 'l2_reg_l1': 0.0006064440634086563, 'leakyrelu_alpha_l1': 0.24702792577734403, 'n_units_l2': 2048, 'activation_l2': 'ReLU', 'dropout_l2': 0.21228829566850704, 'batch_norm_l2': True, 'l2_reg_l2': 0.003973142019606589, 'n_units_l3': 32, 'activation_l3': 'LeakyReLU', 'dropout_l3': 0.3373699429882142, 'batch_norm_l3': True, 'l2_reg_l3': 7.832235124335204e-05, 'leakyrelu_alpha_l3': 0.19610474990870233, 'n_units_l4': 64, 'activation_l4': 'LeakyReLU', 'dropout_l4': 0.3349262123537543, 'batch_norm_l4': False, 'l2_reg_l4': 1.4413267752562876e-05, 'leakyrelu_alpha_l4': 0.11206396801792914, 'optimizer': 'RMSprop', 'lr': 0.000634695298375114, 'rmsprop_alpha': 0.8991183383439297, 'epochs': 1807, 'batch_size': 256, 'early_stopping_patience': 17, 'lr_reduce_factor': 0.3825990580729895, 'lr_reduce_patience': 44, 'min_lr': 2.607873552329289e-05}. Best is trial 506 with value: 0.8921898928024502.\u001b[0m\n"
     ]
    },
    {
     "name": "stdout",
     "output_type": "stream",
     "text": [
      "Early stopping\n",
      "Trial 1879 completado. Mejor precisión en validación: 0.8781010719754977\n",
      "Usando GPU para el Trial 1880\n",
      "Entrenando Trial 1880...\n"
     ]
    },
    {
     "name": "stderr",
     "output_type": "stream",
     "text": [
      "\u001b[32m[I 2023-12-01 17:55:57,386]\u001b[0m Trial 1880 finished with value: 0.8759571209800919 and parameters: {'n_layers': 4, 'n_units_l0': 2048, 'activation_l0': 'ReLU', 'dropout_l0': 0.09218124237425601, 'batch_norm_l0': False, 'l2_reg_l0': 5.372091408945596e-05, 'n_units_l1': 512, 'activation_l1': 'Tanh', 'dropout_l1': 0.1011019351649007, 'batch_norm_l1': False, 'l2_reg_l1': 0.0033673527940005507, 'n_units_l2': 2048, 'activation_l2': 'ReLU', 'dropout_l2': 0.4550469662086342, 'batch_norm_l2': True, 'l2_reg_l2': 0.05953223821415236, 'n_units_l3': 2048, 'activation_l3': 'LeakyReLU', 'dropout_l3': 0.1367852731129318, 'batch_norm_l3': True, 'l2_reg_l3': 0.0003827894642428535, 'leakyrelu_alpha_l3': 0.11244687789147453, 'optimizer': 'RMSprop', 'lr': 0.0010782915633283958, 'rmsprop_alpha': 0.9899076158230132, 'epochs': 599, 'batch_size': 512, 'early_stopping_patience': 19, 'lr_reduce_factor': 0.3349334131157955, 'lr_reduce_patience': 36, 'min_lr': 8.36270849788164e-06}. Best is trial 506 with value: 0.8921898928024502.\u001b[0m\n"
     ]
    },
    {
     "name": "stdout",
     "output_type": "stream",
     "text": [
      "Early stopping\n",
      "Trial 1880 completado. Mejor precisión en validación: 0.8759571209800919\n",
      "Usando GPU para el Trial 1881\n",
      "Entrenando Trial 1881...\n"
     ]
    },
    {
     "name": "stderr",
     "output_type": "stream",
     "text": [
      "\u001b[32m[I 2023-12-01 17:56:40,992]\u001b[0m Trial 1881 finished with value: 0.8637059724349158 and parameters: {'n_layers': 6, 'n_units_l0': 2048, 'activation_l0': 'SELU', 'dropout_l0': 0.391437392389768, 'batch_norm_l0': False, 'l2_reg_l0': 0.0032629124888568107, 'n_units_l1': 2048, 'activation_l1': 'Tanh', 'dropout_l1': 0.12999471173422272, 'batch_norm_l1': False, 'l2_reg_l1': 0.031803432583855436, 'n_units_l2': 16, 'activation_l2': 'ReLU', 'dropout_l2': 0.40633651080074956, 'batch_norm_l2': True, 'l2_reg_l2': 0.0002212420140257908, 'n_units_l3': 2048, 'activation_l3': 'ReLU', 'dropout_l3': 0.29779635631042445, 'batch_norm_l3': True, 'l2_reg_l3': 0.01687664561961605, 'n_units_l4': 64, 'activation_l4': 'SELU', 'dropout_l4': 0.44456236267997046, 'batch_norm_l4': True, 'l2_reg_l4': 0.00010853458985852226, 'n_units_l5': 32, 'activation_l5': 'ELU', 'dropout_l5': 0.4041749618407012, 'batch_norm_l5': False, 'l2_reg_l5': 0.00016279370402021108, 'optimizer': 'RMSprop', 'lr': 0.0004384285458508459, 'rmsprop_alpha': 0.969882523804203, 'epochs': 200, 'batch_size': 128, 'early_stopping_patience': 20, 'lr_reduce_factor': 0.4213326264769336, 'lr_reduce_patience': 38, 'min_lr': 2.9572652515335178e-05}. Best is trial 506 with value: 0.8921898928024502.\u001b[0m\n"
     ]
    },
    {
     "name": "stdout",
     "output_type": "stream",
     "text": [
      "Early stopping\n",
      "Trial 1881 completado. Mejor precisión en validación: 0.8637059724349158\n",
      "Usando GPU para el Trial 1882\n",
      "Entrenando Trial 1882...\n"
     ]
    },
    {
     "name": "stderr",
     "output_type": "stream",
     "text": [
      "                                                                                                                                                                                                                                        \r"
     ]
    },
    {
     "name": "stdout",
     "output_type": "stream",
     "text": [
      "Epoch 00070: reducing learning rate of group 0 to 4.6995e-04.\n"
     ]
    },
    {
     "name": "stderr",
     "output_type": "stream",
     "text": [
      "                                                                                                                                                                                                                                        \r"
     ]
    },
    {
     "name": "stdout",
     "output_type": "stream",
     "text": [
      "Epoch 00094: reducing learning rate of group 0 to 2.7095e-04.\n"
     ]
    },
    {
     "name": "stderr",
     "output_type": "stream",
     "text": [
      "                                                                                                                                                                                                                                        \r"
     ]
    },
    {
     "name": "stdout",
     "output_type": "stream",
     "text": [
      "Epoch 00103: reducing learning rate of group 0 to 1.5621e-04.\n"
     ]
    },
    {
     "name": "stderr",
     "output_type": "stream",
     "text": [
      "                                                                                                                                                                                                                                        \r"
     ]
    },
    {
     "name": "stdout",
     "output_type": "stream",
     "text": [
      "Epoch 00112: reducing learning rate of group 0 to 9.0062e-05.\n"
     ]
    },
    {
     "name": "stderr",
     "output_type": "stream",
     "text": [
      "\u001b[32m[I 2023-12-01 17:57:12,303]\u001b[0m Trial 1882 finished with value: 0.8833078101071975 and parameters: {'n_layers': 7, 'n_units_l0': 2048, 'activation_l0': 'LeakyReLU', 'dropout_l0': 0.022974419852614773, 'batch_norm_l0': False, 'l2_reg_l0': 0.0001651030097238016, 'leakyrelu_alpha_l0': 0.10692177720855764, 'n_units_l1': 1024, 'activation_l1': 'Tanh', 'dropout_l1': 0.3498485781293375, 'batch_norm_l1': False, 'l2_reg_l1': 0.002453153235678268, 'n_units_l2': 1024, 'activation_l2': 'ReLU', 'dropout_l2': 0.3714306278903057, 'batch_norm_l2': True, 'l2_reg_l2': 0.08007861623452782, 'n_units_l3': 1024, 'activation_l3': 'LeakyReLU', 'dropout_l3': 0.2018191096016148, 'batch_norm_l3': True, 'l2_reg_l3': 0.0001563849081032625, 'leakyrelu_alpha_l3': 0.1606393898238102, 'n_units_l4': 256, 'activation_l4': 'LeakyReLU', 'dropout_l4': 0.39847456712280804, 'batch_norm_l4': True, 'l2_reg_l4': 0.04894120670104065, 'leakyrelu_alpha_l4': 0.1468456183571157, 'n_units_l5': 16, 'activation_l5': 'LeakyReLU', 'dropout_l5': 0.490003652752405, 'batch_norm_l5': False, 'l2_reg_l5': 6.0690351984325336e-05, 'leakyrelu_alpha_l5': 0.22905190745771084, 'n_units_l6': 128, 'activation_l6': 'ReLU', 'dropout_l6': 0.12407331269188542, 'batch_norm_l6': True, 'l2_reg_l6': 0.0014274280009640699, 'optimizer': 'RMSprop', 'lr': 0.000815129967107367, 'rmsprop_alpha': 0.9791512175882499, 'epochs': 1927, 'batch_size': 1024, 'early_stopping_patience': 18, 'lr_reduce_factor': 0.5765388947837445, 'lr_reduce_patience': 8, 'min_lr': 5.64285169300858e-06}. Best is trial 506 with value: 0.8921898928024502.\u001b[0m\n"
     ]
    },
    {
     "name": "stdout",
     "output_type": "stream",
     "text": [
      "Early stopping\n",
      "Trial 1882 completado. Mejor precisión en validación: 0.8833078101071975\n",
      "Usando GPU para el Trial 1883\n",
      "Entrenando Trial 1883...\n"
     ]
    },
    {
     "name": "stderr",
     "output_type": "stream",
     "text": [
      "\u001b[32m[I 2023-12-01 17:57:53,389]\u001b[0m Trial 1883 finished with value: 0.8125574272588055 and parameters: {'n_layers': 8, 'n_units_l0': 32, 'activation_l0': 'LeakyReLU', 'dropout_l0': 0.1508149542466183, 'batch_norm_l0': False, 'l2_reg_l0': 0.009104483398720081, 'leakyrelu_alpha_l0': 0.28470327672231066, 'n_units_l1': 512, 'activation_l1': 'Tanh', 'dropout_l1': 0.04107051400987228, 'batch_norm_l1': False, 'l2_reg_l1': 0.019115875153937624, 'n_units_l2': 2048, 'activation_l2': 'ReLU', 'dropout_l2': 0.39142560605212984, 'batch_norm_l2': True, 'l2_reg_l2': 0.0024971231299122446, 'n_units_l3': 2048, 'activation_l3': 'LeakyReLU', 'dropout_l3': 0.1879086605512822, 'batch_norm_l3': True, 'l2_reg_l3': 0.04724900747827789, 'leakyrelu_alpha_l3': 0.1225129620786672, 'n_units_l4': 64, 'activation_l4': 'ELU', 'dropout_l4': 0.415584770282502, 'batch_norm_l4': True, 'l2_reg_l4': 0.03451059647270848, 'n_units_l5': 2048, 'activation_l5': 'SELU', 'dropout_l5': 0.018137390498740455, 'batch_norm_l5': True, 'l2_reg_l5': 0.014757316470269958, 'n_units_l6': 32, 'activation_l6': 'ELU', 'dropout_l6': 0.2742115336794477, 'batch_norm_l6': True, 'l2_reg_l6': 0.0005115096544240337, 'n_units_l7': 32, 'activation_l7': 'LeakyReLU', 'dropout_l7': 0.14867576388130285, 'batch_norm_l7': False, 'l2_reg_l7': 0.000507244229852056, 'leakyrelu_alpha_l7': 0.2738013406298868, 'optimizer': 'RMSprop', 'lr': 0.0846170524790131, 'rmsprop_alpha': 0.9091774579271217, 'epochs': 639, 'batch_size': 128, 'early_stopping_patience': 16, 'lr_reduce_factor': 0.44119564290933755, 'lr_reduce_patience': 35, 'min_lr': 4.934199353901054e-05}. Best is trial 506 with value: 0.8921898928024502.\u001b[0m\n"
     ]
    },
    {
     "name": "stdout",
     "output_type": "stream",
     "text": [
      "Early stopping\n",
      "Trial 1883 completado. Mejor precisión en validación: 0.8125574272588055\n",
      "Usando GPU para el Trial 1884\n",
      "Entrenando Trial 1884...\n"
     ]
    },
    {
     "name": "stderr",
     "output_type": "stream",
     "text": [
      "\u001b[32m[I 2023-12-01 17:58:45,227]\u001b[0m Trial 1884 finished with value: 0.8695252679938744 and parameters: {'n_layers': 6, 'n_units_l0': 2048, 'activation_l0': 'LeakyReLU', 'dropout_l0': 0.04064331674308039, 'batch_norm_l0': False, 'l2_reg_l0': 6.323604624959248e-05, 'leakyrelu_alpha_l0': 0.2601371643084953, 'n_units_l1': 128, 'activation_l1': 'Tanh', 'dropout_l1': 0.4595664021826048, 'batch_norm_l1': False, 'l2_reg_l1': 0.012073546883443068, 'n_units_l2': 256, 'activation_l2': 'LeakyReLU', 'dropout_l2': 0.4239750842172277, 'batch_norm_l2': True, 'l2_reg_l2': 0.0017475729970017927, 'leakyrelu_alpha_l2': 0.2654717234985766, 'n_units_l3': 1024, 'activation_l3': 'LeakyReLU', 'dropout_l3': 0.3555769923409924, 'batch_norm_l3': True, 'l2_reg_l3': 0.0020443945760904325, 'leakyrelu_alpha_l3': 0.2935274200520416, 'n_units_l4': 64, 'activation_l4': 'ReLU', 'dropout_l4': 0.4336533373084566, 'batch_norm_l4': True, 'l2_reg_l4': 0.0001571321567861515, 'n_units_l5': 64, 'activation_l5': 'ELU', 'dropout_l5': 0.496577473853142, 'batch_norm_l5': False, 'l2_reg_l5': 0.09948112368987347, 'optimizer': 'RMSprop', 'lr': 0.0013311888210982123, 'rmsprop_alpha': 0.9846261947531089, 'epochs': 329, 'batch_size': 256, 'early_stopping_patience': 19, 'lr_reduce_factor': 0.47330169397337973, 'lr_reduce_patience': 45, 'min_lr': 1.6159999570652387e-06}. Best is trial 506 with value: 0.8921898928024502.\u001b[0m\n"
     ]
    },
    {
     "name": "stdout",
     "output_type": "stream",
     "text": [
      "Early stopping\n",
      "Trial 1884 completado. Mejor precisión en validación: 0.8695252679938744\n",
      "Usando GPU para el Trial 1885\n",
      "Entrenando Trial 1885...\n"
     ]
    },
    {
     "name": "stderr",
     "output_type": "stream",
     "text": [
      "\u001b[32m[I 2023-12-01 17:58:58,103]\u001b[0m Trial 1885 finished with value: 0.678407350689127 and parameters: {'n_layers': 4, 'n_units_l0': 2048, 'activation_l0': 'LeakyReLU', 'dropout_l0': 0.16853899757655424, 'batch_norm_l0': False, 'l2_reg_l0': 0.001018067462076043, 'leakyrelu_alpha_l0': 0.05263281758195963, 'n_units_l1': 512, 'activation_l1': 'Tanh', 'dropout_l1': 0.06080414806524284, 'batch_norm_l1': False, 'l2_reg_l1': 0.0072526214465422215, 'n_units_l2': 2048, 'activation_l2': 'ReLU', 'dropout_l2': 0.2203287111265379, 'batch_norm_l2': True, 'l2_reg_l2': 0.00027837546954292047, 'n_units_l3': 2048, 'activation_l3': 'ELU', 'dropout_l3': 0.3873906916850343, 'batch_norm_l3': False, 'l2_reg_l3': 0.0038754700554180193, 'optimizer': 'RMSprop', 'lr': 0.0019473978115796867, 'rmsprop_alpha': 0.8904428843641297, 'epochs': 60, 'batch_size': 128, 'early_stopping_patience': 18, 'lr_reduce_factor': 0.23570604331526473, 'lr_reduce_patience': 40, 'min_lr': 1.1033233028443927e-05}. Best is trial 506 with value: 0.8921898928024502.\u001b[0m\n"
     ]
    },
    {
     "name": "stdout",
     "output_type": "stream",
     "text": [
      "Early stopping\n",
      "Trial 1885 completado. Mejor precisión en validación: 0.678407350689127\n",
      "Usando GPU para el Trial 1886\n",
      "Entrenando Trial 1886...\n"
     ]
    },
    {
     "name": "stderr",
     "output_type": "stream",
     "text": [
      "\u001b[32m[I 2023-12-01 17:59:38,264]\u001b[0m Trial 1886 finished with value: 0.8787136294027565 and parameters: {'n_layers': 5, 'n_units_l0': 2048, 'activation_l0': 'LeakyReLU', 'dropout_l0': 0.00980061920852626, 'batch_norm_l0': False, 'l2_reg_l0': 2.1369709465218224e-05, 'leakyrelu_alpha_l0': 0.22335820919096003, 'n_units_l1': 512, 'activation_l1': 'Tanh', 'dropout_l1': 0.166260987258577, 'batch_norm_l1': False, 'l2_reg_l1': 1.26181113960905e-05, 'n_units_l2': 1024, 'activation_l2': 'ReLU', 'dropout_l2': 0.3159074687347789, 'batch_norm_l2': True, 'l2_reg_l2': 0.00012732852031305684, 'n_units_l3': 16, 'activation_l3': 'LeakyReLU', 'dropout_l3': 0.21666698515548877, 'batch_norm_l3': True, 'l2_reg_l3': 0.03652135326181739, 'leakyrelu_alpha_l3': 0.10667872269158143, 'n_units_l4': 64, 'activation_l4': 'LeakyReLU', 'dropout_l4': 0.45928341326132194, 'batch_norm_l4': True, 'l2_reg_l4': 5.6721684135749877e-05, 'leakyrelu_alpha_l4': 0.27358002565000156, 'optimizer': 'RMSprop', 'lr': 0.0005872430012437837, 'rmsprop_alpha': 0.9151174095546473, 'epochs': 403, 'batch_size': 128, 'early_stopping_patience': 20, 'lr_reduce_factor': 0.28157945821245606, 'lr_reduce_patience': 34, 'min_lr': 3.392367321103214e-05}. Best is trial 506 with value: 0.8921898928024502.\u001b[0m\n"
     ]
    },
    {
     "name": "stdout",
     "output_type": "stream",
     "text": [
      "Early stopping\n",
      "Trial 1886 completado. Mejor precisión en validación: 0.8787136294027565\n",
      "Usando GPU para el Trial 1887\n",
      "Entrenando Trial 1887...\n"
     ]
    },
    {
     "name": "stderr",
     "output_type": "stream",
     "text": [
      "                                                                                                                                                                                                                                        \r"
     ]
    },
    {
     "name": "stdout",
     "output_type": "stream",
     "text": [
      "Early stopping\n",
      "Trial 1887 completado. Mejor precisión en validación: 0.863093415007657\n"
     ]
    },
    {
     "name": "stderr",
     "output_type": "stream",
     "text": [
      "\u001b[32m[I 2023-12-01 18:01:33,872]\u001b[0m Trial 1887 finished with value: 0.863093415007657 and parameters: {'n_layers': 10, 'n_units_l0': 2048, 'activation_l0': 'LeakyReLU', 'dropout_l0': 0.11770058435419638, 'batch_norm_l0': False, 'l2_reg_l0': 3.868350910606219e-05, 'leakyrelu_alpha_l0': 0.20022445591422489, 'n_units_l1': 1024, 'activation_l1': 'Tanh', 'dropout_l1': 0.09197059624136313, 'batch_norm_l1': True, 'l2_reg_l1': 0.00013429084685322344, 'n_units_l2': 2048, 'activation_l2': 'Tanh', 'dropout_l2': 0.3321443063838028, 'batch_norm_l2': True, 'l2_reg_l2': 0.004904958960205529, 'n_units_l3': 1024, 'activation_l3': 'Tanh', 'dropout_l3': 0.46691293676174195, 'batch_norm_l3': True, 'l2_reg_l3': 0.0004662421462957083, 'n_units_l4': 64, 'activation_l4': 'LeakyReLU', 'dropout_l4': 0.3860875560347183, 'batch_norm_l4': True, 'l2_reg_l4': 0.03538821151794758, 'leakyrelu_alpha_l4': 0.17314310058029958, 'n_units_l5': 16, 'activation_l5': 'LeakyReLU', 'dropout_l5': 0.19554769746567724, 'batch_norm_l5': False, 'l2_reg_l5': 1.5701167085979063e-05, 'leakyrelu_alpha_l5': 0.01083241666686894, 'n_units_l6': 16, 'activation_l6': 'SELU', 'dropout_l6': 0.3009365808111604, 'batch_norm_l6': True, 'l2_reg_l6': 9.079113199293808e-05, 'n_units_l7': 512, 'activation_l7': 'ReLU', 'dropout_l7': 0.11139799499735283, 'batch_norm_l7': False, 'l2_reg_l7': 0.004323791459868663, 'n_units_l8': 256, 'activation_l8': 'ReLU', 'dropout_l8': 0.2812965790022259, 'batch_norm_l8': False, 'l2_reg_l8': 0.0018261854821312556, 'n_units_l9': 1024, 'activation_l9': 'Tanh', 'dropout_l9': 0.21076152978853457, 'batch_norm_l9': False, 'l2_reg_l9': 0.004116503207044037, 'optimizer': 'RMSprop', 'lr': 0.0007403337374069963, 'rmsprop_alpha': 0.9112224796229009, 'epochs': 271, 'batch_size': 64, 'early_stopping_patience': 19, 'lr_reduce_factor': 0.15576285539311308, 'lr_reduce_patience': 42, 'min_lr': 3.5185078889000573e-06}. Best is trial 506 with value: 0.8921898928024502.\u001b[0m\n"
     ]
    },
    {
     "name": "stdout",
     "output_type": "stream",
     "text": [
      "Usando GPU para el Trial 1888\n",
      "Entrenando Trial 1888...\n"
     ]
    },
    {
     "name": "stderr",
     "output_type": "stream",
     "text": [
      "                                                                                                                                                                                                                                        \r"
     ]
    },
    {
     "name": "stdout",
     "output_type": "stream",
     "text": [
      "Early stopping\n",
      "Trial 1888 completado. Mejor precisión en validación: 0.8597243491577335\n"
     ]
    },
    {
     "name": "stderr",
     "output_type": "stream",
     "text": [
      "\u001b[32m[I 2023-12-01 18:02:36,150]\u001b[0m Trial 1888 finished with value: 0.8597243491577335 and parameters: {'n_layers': 3, 'n_units_l0': 2048, 'activation_l0': 'LeakyReLU', 'dropout_l0': 0.3479573727905855, 'batch_norm_l0': False, 'l2_reg_l0': 0.030024500133413293, 'leakyrelu_alpha_l0': 0.18098748039461174, 'n_units_l1': 512, 'activation_l1': 'Tanh', 'dropout_l1': 0.2513967320640495, 'batch_norm_l1': False, 'l2_reg_l1': 0.025487965957145756, 'n_units_l2': 512, 'activation_l2': 'ReLU', 'dropout_l2': 0.1327398033810894, 'batch_norm_l2': True, 'l2_reg_l2': 0.010682619400793389, 'optimizer': 'RMSprop', 'lr': 7.234341167181293e-05, 'rmsprop_alpha': 0.9542104288934764, 'epochs': 1877, 'batch_size': 256, 'early_stopping_patience': 20, 'lr_reduce_factor': 0.18561269366492655, 'lr_reduce_patience': 45, 'min_lr': 9.457204299988605e-06}. Best is trial 506 with value: 0.8921898928024502.\u001b[0m\n"
     ]
    },
    {
     "name": "stdout",
     "output_type": "stream",
     "text": [
      "Usando GPU para el Trial 1889\n",
      "Entrenando Trial 1889...\n"
     ]
    },
    {
     "name": "stderr",
     "output_type": "stream",
     "text": [
      "                                                                                                                                                                                                                                        \r"
     ]
    },
    {
     "name": "stdout",
     "output_type": "stream",
     "text": [
      "Early stopping\n",
      "Trial 1889 completado. Mejor precisión en validación: 0.8404287901990811\n"
     ]
    },
    {
     "name": "stderr",
     "output_type": "stream",
     "text": [
      "\u001b[32m[I 2023-12-01 18:03:26,726]\u001b[0m Trial 1889 finished with value: 0.8404287901990811 and parameters: {'n_layers': 8, 'n_units_l0': 64, 'activation_l0': 'LeakyReLU', 'dropout_l0': 0.48444606663570167, 'batch_norm_l0': False, 'l2_reg_l0': 0.0008134320240890432, 'leakyrelu_alpha_l0': 0.13873694676574014, 'n_units_l1': 512, 'activation_l1': 'ELU', 'dropout_l1': 0.14870397040873154, 'batch_norm_l1': False, 'l2_reg_l1': 6.68120572692648e-05, 'n_units_l2': 2048, 'activation_l2': 'ReLU', 'dropout_l2': 0.4751463071888551, 'batch_norm_l2': True, 'l2_reg_l2': 0.027771864479212927, 'n_units_l3': 2048, 'activation_l3': 'LeakyReLU', 'dropout_l3': 0.37173438221764943, 'batch_norm_l3': True, 'l2_reg_l3': 0.006684257349677224, 'leakyrelu_alpha_l3': 0.2956709394809245, 'n_units_l4': 32, 'activation_l4': 'LeakyReLU', 'dropout_l4': 0.24189228406056615, 'batch_norm_l4': True, 'l2_reg_l4': 8.520522867859804e-05, 'leakyrelu_alpha_l4': 0.011021755911224673, 'n_units_l5': 16, 'activation_l5': 'ELU', 'dropout_l5': 0.23638326803262122, 'batch_norm_l5': False, 'l2_reg_l5': 1.0170414340146073e-05, 'n_units_l6': 1024, 'activation_l6': 'SELU', 'dropout_l6': 0.11548962571685975, 'batch_norm_l6': True, 'l2_reg_l6': 0.00027095718472386067, 'n_units_l7': 64, 'activation_l7': 'ELU', 'dropout_l7': 0.02799512575547044, 'batch_norm_l7': True, 'l2_reg_l7': 6.767953817366862e-05, 'optimizer': 'RMSprop', 'lr': 0.0009772478408541885, 'rmsprop_alpha': 0.8785820618731851, 'epochs': 557, 'batch_size': 128, 'early_stopping_patience': 17, 'lr_reduce_factor': 0.5246945333551599, 'lr_reduce_patience': 41, 'min_lr': 1.531497712150083e-05}. Best is trial 506 with value: 0.8921898928024502.\u001b[0m\n"
     ]
    },
    {
     "name": "stdout",
     "output_type": "stream",
     "text": [
      "Usando GPU para el Trial 1890\n",
      "Entrenando Trial 1890...\n"
     ]
    },
    {
     "name": "stderr",
     "output_type": "stream",
     "text": [
      "                                                                                                                                                                                                                                        \r"
     ]
    },
    {
     "name": "stdout",
     "output_type": "stream",
     "text": [
      "Epoch 00058: reducing learning rate of group 0 to 5.0875e-04.\n"
     ]
    },
    {
     "name": "stderr",
     "output_type": "stream",
     "text": [
      "                                                                                                                                                                                                                                        \r"
     ]
    },
    {
     "name": "stdout",
     "output_type": "stream",
     "text": [
      "Epoch 00102: reducing learning rate of group 0 to 1.6400e-04.\n"
     ]
    },
    {
     "name": "stderr",
     "output_type": "stream",
     "text": [
      "                                                                                                                                                                                                                                        \r"
     ]
    },
    {
     "name": "stdout",
     "output_type": "stream",
     "text": [
      "Early stopping\n",
      "Trial 1890 completado. Mejor precisión en validación: 0.8857580398162328\n"
     ]
    },
    {
     "name": "stderr",
     "output_type": "stream",
     "text": [
      "\u001b[32m[I 2023-12-01 18:04:58,457]\u001b[0m Trial 1890 finished with value: 0.8857580398162328 and parameters: {'n_layers': 7, 'n_units_l0': 512, 'activation_l0': 'SELU', 'dropout_l0': 0.07943631661086839, 'batch_norm_l0': False, 'l2_reg_l0': 0.09793328192282212, 'n_units_l1': 1024, 'activation_l1': 'Tanh', 'dropout_l1': 0.35914876112392935, 'batch_norm_l1': False, 'l2_reg_l1': 0.00017059907335197872, 'n_units_l2': 2048, 'activation_l2': 'ELU', 'dropout_l2': 0.28602509489639627, 'batch_norm_l2': True, 'l2_reg_l2': 4.0641453113130674e-05, 'n_units_l3': 2048, 'activation_l3': 'LeakyReLU', 'dropout_l3': 0.23632000723146102, 'batch_norm_l3': True, 'l2_reg_l3': 6.937253858808486e-05, 'leakyrelu_alpha_l3': 0.29999725019878376, 'n_units_l4': 64, 'activation_l4': 'SELU', 'dropout_l4': 0.3452015559800397, 'batch_norm_l4': True, 'l2_reg_l4': 0.00026873540641032714, 'n_units_l5': 512, 'activation_l5': 'LeakyReLU', 'dropout_l5': 0.10940205167013939, 'batch_norm_l5': True, 'l2_reg_l5': 0.07846862917547827, 'leakyrelu_alpha_l5': 0.19587798413134713, 'n_units_l6': 64, 'activation_l6': 'SELU', 'dropout_l6': 0.3716386204646083, 'batch_norm_l6': True, 'l2_reg_l6': 0.014645467272603496, 'optimizer': 'RMSprop', 'lr': 0.0015781817000719977, 'rmsprop_alpha': 0.9326524102847727, 'epochs': 154, 'batch_size': 128, 'early_stopping_patience': 18, 'lr_reduce_factor': 0.322366280595677, 'lr_reduce_patience': 43, 'min_lr': 3.996467733989392e-05}. Best is trial 506 with value: 0.8921898928024502.\u001b[0m\n"
     ]
    },
    {
     "name": "stdout",
     "output_type": "stream",
     "text": [
      "Usando GPU para el Trial 1891\n",
      "Entrenando Trial 1891...\n"
     ]
    },
    {
     "name": "stderr",
     "output_type": "stream",
     "text": [
      "                                                                                                                                                                                                                                        \r"
     ]
    },
    {
     "name": "stdout",
     "output_type": "stream",
     "text": [
      "Early stopping\n",
      "Trial 1891 completado. Mejor precisión en validación: 0.8376722817764165\n"
     ]
    },
    {
     "name": "stderr",
     "output_type": "stream",
     "text": [
      "\u001b[32m[I 2023-12-01 18:05:56,719]\u001b[0m Trial 1891 finished with value: 0.8376722817764165 and parameters: {'n_layers': 5, 'n_units_l0': 2048, 'activation_l0': 'LeakyReLU', 'dropout_l0': 0.067463264454897, 'batch_norm_l0': False, 'l2_reg_l0': 0.002615338061294043, 'leakyrelu_alpha_l0': 0.23998646233200224, 'n_units_l1': 512, 'activation_l1': 'Tanh', 'dropout_l1': 0.26969469895228476, 'batch_norm_l1': False, 'l2_reg_l1': 0.058646786875224795, 'n_units_l2': 1024, 'activation_l2': 'ReLU', 'dropout_l2': 0.11539063865306354, 'batch_norm_l2': True, 'l2_reg_l2': 0.0005344581213881435, 'n_units_l3': 256, 'activation_l3': 'LeakyReLU', 'dropout_l3': 0.4748960315073979, 'batch_norm_l3': True, 'l2_reg_l3': 0.0008808581727939543, 'leakyrelu_alpha_l3': 0.26382103564814663, 'n_units_l4': 1024, 'activation_l4': 'ELU', 'dropout_l4': 0.36007732138716503, 'batch_norm_l4': True, 'l2_reg_l4': 2.124119721893251e-05, 'optimizer': 'RMSprop', 'lr': 1.5545868714502854e-05, 'rmsprop_alpha': 0.9479198197310714, 'epochs': 374, 'batch_size': 256, 'early_stopping_patience': 19, 'lr_reduce_factor': 0.5575713756213827, 'lr_reduce_patience': 37, 'min_lr': 4.958954085298591e-06}. Best is trial 506 with value: 0.8921898928024502.\u001b[0m\n"
     ]
    },
    {
     "name": "stdout",
     "output_type": "stream",
     "text": [
      "Usando GPU para el Trial 1892\n",
      "Entrenando Trial 1892...\n"
     ]
    },
    {
     "name": "stderr",
     "output_type": "stream",
     "text": [
      "\u001b[32m[I 2023-12-01 18:06:05,841]\u001b[0m Trial 1892 finished with value: 0.842572741194487 and parameters: {'n_layers': 6, 'n_units_l0': 2048, 'activation_l0': 'LeakyReLU', 'dropout_l0': 0.09733582277277582, 'batch_norm_l0': False, 'l2_reg_l0': 0.002022337130162277, 'leakyrelu_alpha_l0': 0.22654151886158772, 'n_units_l1': 512, 'activation_l1': 'Tanh', 'dropout_l1': 0.41889520425278143, 'batch_norm_l1': False, 'l2_reg_l1': 0.0013754814070364228, 'n_units_l2': 2048, 'activation_l2': 'ReLU', 'dropout_l2': 0.166991270400275, 'batch_norm_l2': True, 'l2_reg_l2': 0.0012347268351990345, 'n_units_l3': 32, 'activation_l3': 'LeakyReLU', 'dropout_l3': 0.1288183411899401, 'batch_norm_l3': True, 'l2_reg_l3': 0.0017019849152334536, 'leakyrelu_alpha_l3': 0.256079955219149, 'n_units_l4': 256, 'activation_l4': 'ReLU', 'dropout_l4': 0.22816681974045422, 'batch_norm_l4': True, 'l2_reg_l4': 0.00012890837573995356, 'n_units_l5': 16, 'activation_l5': 'SELU', 'dropout_l5': 0.24466516328465548, 'batch_norm_l5': False, 'l2_reg_l5': 3.175032019436811e-05, 'optimizer': 'RMSprop', 'lr': 0.0004926560509723061, 'rmsprop_alpha': 0.9723967896464009, 'epochs': 11, 'batch_size': 128, 'early_stopping_patience': 16, 'lr_reduce_factor': 0.4530675026389407, 'lr_reduce_patience': 17, 'min_lr': 2.2451774889618443e-05}. Best is trial 506 with value: 0.8921898928024502.\u001b[0m\n"
     ]
    },
    {
     "name": "stdout",
     "output_type": "stream",
     "text": [
      "Trial 1892 completado. Mejor precisión en validación: 0.842572741194487\n",
      "Usando GPU para el Trial 1893\n",
      "Entrenando Trial 1893...\n"
     ]
    },
    {
     "name": "stderr",
     "output_type": "stream",
     "text": [
      "\u001b[32m[I 2023-12-01 18:06:14,075]\u001b[0m Trial 1893 finished with value: 0.678407350689127 and parameters: {'n_layers': 2, 'n_units_l0': 2048, 'activation_l0': 'ELU', 'dropout_l0': 0.2197190540033509, 'batch_norm_l0': False, 'l2_reg_l0': 0.0012414460873166433, 'n_units_l1': 256, 'activation_l1': 'Tanh', 'dropout_l1': 0.020515417143595303, 'batch_norm_l1': False, 'l2_reg_l1': 0.0002155290036400394, 'optimizer': 'SGD', 'lr': 1.9180967790670143e-05, 'sgd_momentum': 0.6142223173581799, 'epochs': 723, 'batch_size': 128, 'early_stopping_patience': 17, 'lr_reduce_factor': 0.6214607648611096, 'lr_reduce_patience': 46, 'min_lr': 1.4181038087223894e-06}. Best is trial 506 with value: 0.8921898928024502.\u001b[0m\n"
     ]
    },
    {
     "name": "stdout",
     "output_type": "stream",
     "text": [
      "Early stopping\n",
      "Trial 1893 completado. Mejor precisión en validación: 0.678407350689127\n",
      "Usando GPU para el Trial 1894\n",
      "Entrenando Trial 1894...\n"
     ]
    },
    {
     "name": "stderr",
     "output_type": "stream",
     "text": [
      "                                                                                                                                                                                                                                        \r"
     ]
    },
    {
     "name": "stdout",
     "output_type": "stream",
     "text": [
      "Epoch 00077: reducing learning rate of group 0 to 6.8680e-04.\n"
     ]
    },
    {
     "name": "stderr",
     "output_type": "stream",
     "text": [
      "                                                                                                                                                                                                                                        \r"
     ]
    },
    {
     "name": "stdout",
     "output_type": "stream",
     "text": [
      "Early stopping\n",
      "Trial 1894 completado. Mejor precisión en validación: 0.8817764165390506\n"
     ]
    },
    {
     "name": "stderr",
     "output_type": "stream",
     "text": [
      "\u001b[32m[I 2023-12-01 18:06:45,382]\u001b[0m Trial 1894 finished with value: 0.8817764165390506 and parameters: {'n_layers': 5, 'n_units_l0': 2048, 'activation_l0': 'LeakyReLU', 'dropout_l0': 0.18458734031243798, 'batch_norm_l0': False, 'l2_reg_l0': 0.005852618331778768, 'leakyrelu_alpha_l0': 0.07903808328253828, 'n_units_l1': 1024, 'activation_l1': 'Tanh', 'dropout_l1': 0.10956076879162956, 'batch_norm_l1': False, 'l2_reg_l1': 0.0043733708953258375, 'n_units_l2': 2048, 'activation_l2': 'ReLU', 'dropout_l2': 0.19023866858345312, 'batch_norm_l2': True, 'l2_reg_l2': 8.361822207149338e-05, 'n_units_l3': 1024, 'activation_l3': 'LeakyReLU', 'dropout_l3': 0.4023509148709507, 'batch_norm_l3': True, 'l2_reg_l3': 0.02306334894962885, 'leakyrelu_alpha_l3': 0.09706134824775685, 'n_units_l4': 64, 'activation_l4': 'Tanh', 'dropout_l4': 0.37293421667938775, 'batch_norm_l4': True, 'l2_reg_l4': 1.1491702410717526e-05, 'optimizer': 'RMSprop', 'lr': 0.0028024095939701804, 'rmsprop_alpha': 0.9387124752482578, 'epochs': 251, 'batch_size': 512, 'early_stopping_patience': 19, 'lr_reduce_factor': 0.2450756508323771, 'lr_reduce_patience': 47, 'min_lr': 1.815372883971716e-05}. Best is trial 506 with value: 0.8921898928024502.\u001b[0m\n"
     ]
    },
    {
     "name": "stdout",
     "output_type": "stream",
     "text": [
      "Usando GPU para el Trial 1895\n",
      "Entrenando Trial 1895...\n"
     ]
    },
    {
     "name": "stderr",
     "output_type": "stream",
     "text": [
      "                                                                                                                                                                                                                                        \r"
     ]
    },
    {
     "name": "stdout",
     "output_type": "stream",
     "text": [
      "Early stopping\n",
      "Trial 1895 completado. Mejor precisión en validación: 0.8710566615620214\n"
     ]
    },
    {
     "name": "stderr",
     "output_type": "stream",
     "text": [
      "\u001b[32m[I 2023-12-01 18:07:18,645]\u001b[0m Trial 1895 finished with value: 0.8710566615620214 and parameters: {'n_layers': 4, 'n_units_l0': 2048, 'activation_l0': 'LeakyReLU', 'dropout_l0': 0.45452808103906106, 'batch_norm_l0': False, 'l2_reg_l0': 2.7616956467915948e-05, 'leakyrelu_alpha_l0': 0.266275660309328, 'n_units_l1': 512, 'activation_l1': 'SELU', 'dropout_l1': 0.3717638955398132, 'batch_norm_l1': False, 'l2_reg_l1': 0.0007249491666006327, 'n_units_l2': 1024, 'activation_l2': 'ReLU', 'dropout_l2': 0.2524997252256159, 'batch_norm_l2': True, 'l2_reg_l2': 0.00017528920730440438, 'n_units_l3': 2048, 'activation_l3': 'Tanh', 'dropout_l3': 0.43982994470962494, 'batch_norm_l3': True, 'l2_reg_l3': 0.008602859230520498, 'optimizer': 'RMSprop', 'lr': 0.006480979476351069, 'rmsprop_alpha': 0.8695536262550797, 'epochs': 308, 'batch_size': 256, 'early_stopping_patience': 14, 'lr_reduce_factor': 0.3985469864956379, 'lr_reduce_patience': 44, 'min_lr': 3.0194243472504957e-05}. Best is trial 506 with value: 0.8921898928024502.\u001b[0m\n"
     ]
    },
    {
     "name": "stdout",
     "output_type": "stream",
     "text": [
      "Usando GPU para el Trial 1896\n",
      "Entrenando Trial 1896...\n"
     ]
    },
    {
     "name": "stderr",
     "output_type": "stream",
     "text": [
      "                                                                                                                                                                                                                                        \r"
     ]
    },
    {
     "name": "stdout",
     "output_type": "stream",
     "text": [
      "Early stopping\n",
      "Trial 1896 completado. Mejor precisión en validación: 0.678407350689127\n"
     ]
    },
    {
     "name": "stderr",
     "output_type": "stream",
     "text": [
      "\u001b[32m[I 2023-12-01 18:07:45,441]\u001b[0m Trial 1896 finished with value: 0.678407350689127 and parameters: {'n_layers': 9, 'n_units_l0': 2048, 'activation_l0': 'Tanh', 'dropout_l0': 0.05022565336724648, 'batch_norm_l0': False, 'l2_reg_l0': 3.40884705543501e-05, 'n_units_l1': 512, 'activation_l1': 'Tanh', 'dropout_l1': 0.31497014702481485, 'batch_norm_l1': False, 'l2_reg_l1': 2.2500911279139528e-05, 'n_units_l2': 256, 'activation_l2': 'ReLU', 'dropout_l2': 0.29151018435181764, 'batch_norm_l2': True, 'l2_reg_l2': 0.04974599014604429, 'n_units_l3': 1024, 'activation_l3': 'LeakyReLU', 'dropout_l3': 0.17328003754825982, 'batch_norm_l3': True, 'l2_reg_l3': 4.085856402977961e-05, 'leakyrelu_alpha_l3': 0.13450581576359538, 'n_units_l4': 2048, 'activation_l4': 'LeakyReLU', 'dropout_l4': 0.32587257358800226, 'batch_norm_l4': True, 'l2_reg_l4': 3.889419110615139e-05, 'leakyrelu_alpha_l4': 0.25234084735699025, 'n_units_l5': 2048, 'activation_l5': 'ELU', 'dropout_l5': 0.31845925120755314, 'batch_norm_l5': False, 'l2_reg_l5': 4.507491608612453e-05, 'n_units_l6': 128, 'activation_l6': 'ReLU', 'dropout_l6': 0.3575121447640435, 'batch_norm_l6': True, 'l2_reg_l6': 4.73078769478666e-05, 'n_units_l7': 128, 'activation_l7': 'LeakyReLU', 'dropout_l7': 0.20567421886808204, 'batch_norm_l7': False, 'l2_reg_l7': 0.00027331793381177083, 'leakyrelu_alpha_l7': 0.05196881212168711, 'n_units_l8': 32, 'activation_l8': 'LeakyReLU', 'dropout_l8': 0.4925605866326933, 'batch_norm_l8': True, 'l2_reg_l8': 1.2760040127964846e-05, 'leakyrelu_alpha_l8': 0.24946481336131787, 'optimizer': 'RMSprop', 'lr': 0.04084381273664998, 'rmsprop_alpha': 0.9774992180328681, 'epochs': 511, 'batch_size': 128, 'early_stopping_patience': 20, 'lr_reduce_factor': 0.5964274165803581, 'lr_reduce_patience': 42, 'min_lr': 1.9206608251766133e-06}. Best is trial 506 with value: 0.8921898928024502.\u001b[0m\n"
     ]
    },
    {
     "name": "stdout",
     "output_type": "stream",
     "text": [
      "Usando GPU para el Trial 1897\n",
      "Entrenando Trial 1897...\n"
     ]
    },
    {
     "name": "stderr",
     "output_type": "stream",
     "text": [
      "\u001b[32m[I 2023-12-01 18:08:29,681]\u001b[0m Trial 1897 finished with value: 0.8698315467075038 and parameters: {'n_layers': 7, 'n_units_l0': 128, 'activation_l0': 'LeakyReLU', 'dropout_l0': 0.16173967842185227, 'batch_norm_l0': False, 'l2_reg_l0': 0.03938111555403526, 'leakyrelu_alpha_l0': 0.14962192768305885, 'n_units_l1': 512, 'activation_l1': 'Tanh', 'dropout_l1': 0.33101661629020634, 'batch_norm_l1': False, 'l2_reg_l1': 8.690964011368178e-05, 'n_units_l2': 64, 'activation_l2': 'ReLU', 'dropout_l2': 0.010456333933088998, 'batch_norm_l2': True, 'l2_reg_l2': 0.0008224833193690969, 'n_units_l3': 2048, 'activation_l3': 'LeakyReLU', 'dropout_l3': 0.15296724283050517, 'batch_norm_l3': True, 'l2_reg_l3': 0.012404784701669848, 'leakyrelu_alpha_l3': 0.14434860516829306, 'n_units_l4': 64, 'activation_l4': 'LeakyReLU', 'dropout_l4': 0.3524214511131198, 'batch_norm_l4': True, 'l2_reg_l4': 0.02910172418033437, 'leakyrelu_alpha_l4': 0.26938108343050243, 'n_units_l5': 32, 'activation_l5': 'LeakyReLU', 'dropout_l5': 0.05856227173347621, 'batch_norm_l5': False, 'l2_reg_l5': 0.006627379624719276, 'leakyrelu_alpha_l5': 0.16168719031169412, 'n_units_l6': 256, 'activation_l6': 'SELU', 'dropout_l6': 0.34380000554936235, 'batch_norm_l6': True, 'l2_reg_l6': 0.00011411041694903662, 'optimizer': 'RMSprop', 'lr': 0.00039925801504248136, 'rmsprop_alpha': 0.8618599566650109, 'epochs': 1963, 'batch_size': 2048, 'early_stopping_patience': 15, 'lr_reduce_factor': 0.20686574727335813, 'lr_reduce_patience': 50, 'min_lr': 8.0939286735617e-06}. Best is trial 506 with value: 0.8921898928024502.\u001b[0m\n"
     ]
    },
    {
     "name": "stdout",
     "output_type": "stream",
     "text": [
      "Early stopping\n",
      "Trial 1897 completado. Mejor precisión en validación: 0.8698315467075038\n",
      "Usando GPU para el Trial 1898\n",
      "Entrenando Trial 1898...\n"
     ]
    },
    {
     "name": "stderr",
     "output_type": "stream",
     "text": [
      "\u001b[32m[I 2023-12-01 18:09:35,302]\u001b[0m Trial 1898 finished with value: 0.8811638591117917 and parameters: {'n_layers': 6, 'n_units_l0': 2048, 'activation_l0': 'LeakyReLU', 'dropout_l0': 0.1761062373043112, 'batch_norm_l0': False, 'l2_reg_l0': 1.674194728635053e-05, 'leakyrelu_alpha_l0': 0.2753353267760101, 'n_units_l1': 1024, 'activation_l1': 'ReLU', 'dropout_l1': 0.15542283705626114, 'batch_norm_l1': False, 'l2_reg_l1': 5.608744437435569e-05, 'n_units_l2': 2048, 'activation_l2': 'ReLU', 'dropout_l2': 0.3051254874690476, 'batch_norm_l2': True, 'l2_reg_l2': 6.138802725128192e-05, 'n_units_l3': 16, 'activation_l3': 'LeakyReLU', 'dropout_l3': 0.39882626478302063, 'batch_norm_l3': False, 'l2_reg_l3': 0.0025404895382792154, 'leakyrelu_alpha_l3': 0.16939017116180058, 'n_units_l4': 16, 'activation_l4': 'LeakyReLU', 'dropout_l4': 0.3380198766565304, 'batch_norm_l4': True, 'l2_reg_l4': 1.68761336541761e-05, 'leakyrelu_alpha_l4': 0.0676310919613382, 'n_units_l5': 16, 'activation_l5': 'ELU', 'dropout_l5': 0.33883115947412124, 'batch_norm_l5': False, 'l2_reg_l5': 0.004543842421498093, 'optimizer': 'Adam', 'lr': 0.0011479649135522224, 'adam_beta1': 0.9298183436732633, 'adam_beta2': 0.9433936859461262, 'epochs': 475, 'batch_size': 128, 'early_stopping_patience': 19, 'lr_reduce_factor': 0.30314841488809263, 'lr_reduce_patience': 43, 'min_lr': 1.2683654079947332e-06}. Best is trial 506 with value: 0.8921898928024502.\u001b[0m\n"
     ]
    },
    {
     "name": "stdout",
     "output_type": "stream",
     "text": [
      "Early stopping\n",
      "Trial 1898 completado. Mejor precisión en validación: 0.8811638591117917\n",
      "Usando GPU para el Trial 1899\n",
      "Entrenando Trial 1899...\n"
     ]
    },
    {
     "name": "stderr",
     "output_type": "stream",
     "text": [
      "\u001b[32m[I 2023-12-01 18:10:10,920]\u001b[0m Trial 1899 finished with value: 0.8453292496171516 and parameters: {'n_layers': 11, 'n_units_l0': 2048, 'activation_l0': 'LeakyReLU', 'dropout_l0': 0.08680851643289529, 'batch_norm_l0': True, 'l2_reg_l0': 0.0014646789011113612, 'leakyrelu_alpha_l0': 0.1002717362526516, 'n_units_l1': 512, 'activation_l1': 'Tanh', 'dropout_l1': 0.17440717186478769, 'batch_norm_l1': False, 'l2_reg_l1': 0.0029487287756016518, 'n_units_l2': 2048, 'activation_l2': 'ReLU', 'dropout_l2': 0.34934030407058553, 'batch_norm_l2': True, 'l2_reg_l2': 0.002338020201143826, 'n_units_l3': 2048, 'activation_l3': 'LeakyReLU', 'dropout_l3': 0.19130208766595988, 'batch_norm_l3': True, 'l2_reg_l3': 0.004415440423527982, 'leakyrelu_alpha_l3': 0.15509450557869917, 'n_units_l4': 64, 'activation_l4': 'ELU', 'dropout_l4': 0.3884513761309449, 'batch_norm_l4': True, 'l2_reg_l4': 0.00017580311096018262, 'n_units_l5': 16, 'activation_l5': 'LeakyReLU', 'dropout_l5': 0.08478947872785059, 'batch_norm_l5': True, 'l2_reg_l5': 0.0001089616723619152, 'leakyrelu_alpha_l5': 0.1536289866334038, 'n_units_l6': 16, 'activation_l6': 'ELU', 'dropout_l6': 0.3201743876418087, 'batch_norm_l6': True, 'l2_reg_l6': 5.760181923159467e-05, 'n_units_l7': 2048, 'activation_l7': 'LeakyReLU', 'dropout_l7': 0.17316321431733456, 'batch_norm_l7': False, 'l2_reg_l7': 0.00017466324918866176, 'leakyrelu_alpha_l7': 0.23902934272150198, 'n_units_l8': 64, 'activation_l8': 'ELU', 'dropout_l8': 0.14381079189910423, 'batch_norm_l8': False, 'l2_reg_l8': 2.6674593743457428e-05, 'n_units_l9': 128, 'activation_l9': 'ReLU', 'dropout_l9': 0.24595617498236017, 'batch_norm_l9': True, 'l2_reg_l9': 6.64620652017989e-05, 'n_units_l10': 256, 'activation_l10': 'ReLU', 'dropout_l10': 0.3349407353627678, 'batch_norm_l10': False, 'l2_reg_l10': 0.00027848917914372203, 'optimizer': 'RMSprop', 'lr': 0.010218170109227145, 'rmsprop_alpha': 0.9817295567499115, 'epochs': 1921, 'batch_size': 128, 'early_stopping_patience': 18, 'lr_reduce_factor': 0.26568851273329136, 'lr_reduce_patience': 39, 'min_lr': 6.168139914881585e-06}. Best is trial 506 with value: 0.8921898928024502.\u001b[0m\n"
     ]
    },
    {
     "name": "stdout",
     "output_type": "stream",
     "text": [
      "Early stopping\n",
      "Trial 1899 completado. Mejor precisión en validación: 0.8453292496171516\n",
      "Usando GPU para el Trial 1900\n",
      "Entrenando Trial 1900...\n"
     ]
    },
    {
     "name": "stderr",
     "output_type": "stream",
     "text": [
      "\u001b[32m[I 2023-12-01 18:10:19,716]\u001b[0m Trial 1900 finished with value: 0.678407350689127 and parameters: {'n_layers': 4, 'n_units_l0': 2048, 'activation_l0': 'SELU', 'dropout_l0': 0.02908997101597943, 'batch_norm_l0': False, 'l2_reg_l0': 9.227164110716222e-05, 'n_units_l1': 32, 'activation_l1': 'Tanh', 'dropout_l1': 0.23352531504765578, 'batch_norm_l1': False, 'l2_reg_l1': 0.005896730492276868, 'n_units_l2': 1024, 'activation_l2': 'Tanh', 'dropout_l2': 0.18067615411868956, 'batch_norm_l2': True, 'l2_reg_l2': 0.006523970376423874, 'n_units_l3': 1024, 'activation_l3': 'LeakyReLU', 'dropout_l3': 0.009804643014979051, 'batch_norm_l3': True, 'l2_reg_l3': 0.00033575734247427274, 'leakyrelu_alpha_l3': 0.1799246521225397, 'optimizer': 'RMSprop', 'lr': 0.056153917048787326, 'rmsprop_alpha': 0.9185476727241408, 'epochs': 201, 'batch_size': 256, 'early_stopping_patience': 20, 'lr_reduce_factor': 0.35645194458260376, 'lr_reduce_patience': 41, 'min_lr': 2.756156509885587e-05}. Best is trial 506 with value: 0.8921898928024502.\u001b[0m\n"
     ]
    },
    {
     "name": "stdout",
     "output_type": "stream",
     "text": [
      "Early stopping\n",
      "Trial 1900 completado. Mejor precisión en validación: 0.678407350689127\n",
      "Usando GPU para el Trial 1901\n",
      "Entrenando Trial 1901...\n"
     ]
    },
    {
     "name": "stderr",
     "output_type": "stream",
     "text": [
      "\u001b[32m[I 2023-12-01 18:14:02,343]\u001b[0m Trial 1901 finished with value: 0.8572741194486984 and parameters: {'n_layers': 8, 'n_units_l0': 16, 'activation_l0': 'LeakyReLU', 'dropout_l0': 0.13517075737727177, 'batch_norm_l0': False, 'l2_reg_l0': 0.0002569448474834022, 'leakyrelu_alpha_l0': 0.2317848439151619, 'n_units_l1': 512, 'activation_l1': 'Tanh', 'dropout_l1': 0.4023304355341164, 'batch_norm_l1': False, 'l2_reg_l1': 0.015370732032229568, 'n_units_l2': 2048, 'activation_l2': 'ReLU', 'dropout_l2': 0.24056264215603285, 'batch_norm_l2': True, 'l2_reg_l2': 0.016845087409268072, 'n_units_l3': 2048, 'activation_l3': 'ReLU', 'dropout_l3': 0.2877157390170561, 'batch_norm_l3': True, 'l2_reg_l3': 0.028162432519533605, 'n_units_l4': 64, 'activation_l4': 'ReLU', 'dropout_l4': 0.30145167093194275, 'batch_norm_l4': True, 'l2_reg_l4': 2.779444382087745e-05, 'n_units_l5': 2048, 'activation_l5': 'ELU', 'dropout_l5': 0.1263308567815991, 'batch_norm_l5': False, 'l2_reg_l5': 0.0002709636398623493, 'n_units_l6': 128, 'activation_l6': 'SELU', 'dropout_l6': 0.2634944064491143, 'batch_norm_l6': True, 'l2_reg_l6': 0.060322814141861796, 'n_units_l7': 32, 'activation_l7': 'SELU', 'dropout_l7': 0.08448983311917721, 'batch_norm_l7': True, 'l2_reg_l7': 0.048089362300607154, 'optimizer': 'RMSprop', 'lr': 0.00024393235354798826, 'rmsprop_alpha': 0.9502777762027129, 'epochs': 355, 'batch_size': 64, 'early_stopping_patience': 19, 'lr_reduce_factor': 0.13842218395526837, 'lr_reduce_patience': 40, 'min_lr': 4.5511141475548e-06}. Best is trial 506 with value: 0.8921898928024502.\u001b[0m\n"
     ]
    },
    {
     "name": "stdout",
     "output_type": "stream",
     "text": [
      "Early stopping\n",
      "Trial 1901 completado. Mejor precisión en validación: 0.8572741194486984\n",
      "Usando GPU para el Trial 1902\n",
      "Entrenando Trial 1902...\n"
     ]
    },
    {
     "name": "stderr",
     "output_type": "stream",
     "text": [
      "                                                                                                                                                                                                                                        \r"
     ]
    },
    {
     "name": "stdout",
     "output_type": "stream",
     "text": [
      "Epoch 00060: reducing learning rate of group 0 to 4.7086e-04.\n"
     ]
    },
    {
     "name": "stderr",
     "output_type": "stream",
     "text": [
      "\u001b[32m[I 2023-12-01 18:14:48,847]\u001b[0m Trial 1902 finished with value: 0.8845329249617152 and parameters: {'n_layers': 5, 'n_units_l0': 2048, 'activation_l0': 'LeakyReLU', 'dropout_l0': 0.1531633286667555, 'batch_norm_l0': False, 'l2_reg_l0': 0.000129220271257885, 'leakyrelu_alpha_l0': 0.28838091427401313, 'n_units_l1': 1024, 'activation_l1': 'Tanh', 'dropout_l1': 0.04947823164552151, 'batch_norm_l1': False, 'l2_reg_l1': 0.047532650362415683, 'n_units_l2': 128, 'activation_l2': 'ReLU', 'dropout_l2': 0.0012550337991743127, 'batch_norm_l2': True, 'l2_reg_l2': 0.003163439624609278, 'n_units_l3': 1024, 'activation_l3': 'Tanh', 'dropout_l3': 0.22632127517826559, 'batch_norm_l3': True, 'l2_reg_l3': 0.04368197047330591, 'n_units_l4': 256, 'activation_l4': 'LeakyReLU', 'dropout_l4': 0.4064644918723242, 'batch_norm_l4': False, 'l2_reg_l4': 1.3830299737148053e-05, 'leakyrelu_alpha_l4': 0.1288595178389991, 'optimizer': 'RMSprop', 'lr': 0.0008750521438523537, 'rmsprop_alpha': 0.9744711761202848, 'epochs': 116, 'batch_size': 128, 'early_stopping_patience': 18, 'lr_reduce_factor': 0.538088356462431, 'lr_reduce_patience': 36, 'min_lr': 1.3296069485771979e-05}. Best is trial 506 with value: 0.8921898928024502.\u001b[0m\n"
     ]
    },
    {
     "name": "stdout",
     "output_type": "stream",
     "text": [
      "Early stopping\n",
      "Trial 1902 completado. Mejor precisión en validación: 0.8845329249617152\n",
      "Usando GPU para el Trial 1903\n",
      "Entrenando Trial 1903...\n"
     ]
    },
    {
     "name": "stderr",
     "output_type": "stream",
     "text": [
      "\u001b[32m[I 2023-12-01 18:23:17,510]\u001b[0m Trial 1903 finished with value: 0.8646248085758039 and parameters: {'n_layers': 9, 'n_units_l0': 512, 'activation_l0': 'LeakyReLU', 'dropout_l0': 0.11041201231733673, 'batch_norm_l0': False, 'l2_reg_l0': 0.0024452144886638093, 'leakyrelu_alpha_l0': 0.04119755427172479, 'n_units_l1': 512, 'activation_l1': 'Tanh', 'dropout_l1': 0.13578549577430085, 'batch_norm_l1': False, 'l2_reg_l1': 0.000354520662602961, 'n_units_l2': 2048, 'activation_l2': 'ReLU', 'dropout_l2': 0.4643629286846086, 'batch_norm_l2': True, 'l2_reg_l2': 0.00010104432635447996, 'n_units_l3': 64, 'activation_l3': 'LeakyReLU', 'dropout_l3': 0.3744659618140382, 'batch_norm_l3': True, 'l2_reg_l3': 0.06541159588809606, 'leakyrelu_alpha_l3': 0.19409702503929643, 'n_units_l4': 64, 'activation_l4': 'SELU', 'dropout_l4': 0.4794763155476697, 'batch_norm_l4': True, 'l2_reg_l4': 0.010268679216925744, 'n_units_l5': 16, 'activation_l5': 'SELU', 'dropout_l5': 0.1834841639170752, 'batch_norm_l5': False, 'l2_reg_l5': 0.0029451284653950376, 'n_units_l6': 32, 'activation_l6': 'SELU', 'dropout_l6': 0.19014876625417776, 'batch_norm_l6': True, 'l2_reg_l6': 0.0016903682853439714, 'n_units_l7': 512, 'activation_l7': 'ELU', 'dropout_l7': 0.13074573217632518, 'batch_norm_l7': False, 'l2_reg_l7': 0.0009093097129793642, 'n_units_l8': 512, 'activation_l8': 'SELU', 'dropout_l8': 0.23647856027857964, 'batch_norm_l8': True, 'l2_reg_l8': 0.00032186721494081275, 'optimizer': 'RMSprop', 'lr': 0.0006612087905651125, 'rmsprop_alpha': 0.8977185476195805, 'epochs': 244, 'batch_size': 16, 'early_stopping_patience': 16, 'lr_reduce_factor': 0.4898446161344015, 'lr_reduce_patience': 44, 'min_lr': 1.0462047011250648e-05}. Best is trial 506 with value: 0.8921898928024502.\u001b[0m\n"
     ]
    },
    {
     "name": "stdout",
     "output_type": "stream",
     "text": [
      "Early stopping\n",
      "Trial 1903 completado. Mejor precisión en validación: 0.8646248085758039\n",
      "Usando GPU para el Trial 1904\n",
      "Entrenando Trial 1904...\n"
     ]
    },
    {
     "name": "stderr",
     "output_type": "stream",
     "text": [
      "                                                                                                                                                                                                                                        \r"
     ]
    },
    {
     "name": "stdout",
     "output_type": "stream",
     "text": [
      "Epoch 00059: reducing learning rate of group 0 to 3.0402e-03.\n"
     ]
    },
    {
     "name": "stderr",
     "output_type": "stream",
     "text": [
      "\u001b[32m[I 2023-12-01 18:23:58,288]\u001b[0m Trial 1904 finished with value: 0.8260336906584992 and parameters: {'n_layers': 3, 'n_units_l0': 2048, 'activation_l0': 'LeakyReLU', 'dropout_l0': 0.20912083682743504, 'batch_norm_l0': False, 'l2_reg_l0': 0.07738455173962844, 'leakyrelu_alpha_l0': 0.2955376652924773, 'n_units_l1': 64, 'activation_l1': 'Tanh', 'dropout_l1': 0.28765916020451365, 'batch_norm_l1': False, 'l2_reg_l1': 0.00015145361677261574, 'n_units_l2': 1024, 'activation_l2': 'ReLU', 'dropout_l2': 0.0857436278967163, 'batch_norm_l2': True, 'l2_reg_l2': 0.00038721740632446743, 'optimizer': 'RMSprop', 'lr': 0.004641608335999567, 'rmsprop_alpha': 0.96644045545629, 'epochs': 1839, 'batch_size': 128, 'early_stopping_patience': 20, 'lr_reduce_factor': 0.6549793694862707, 'lr_reduce_patience': 48, 'min_lr': 2.2216962748467497e-06}. Best is trial 506 with value: 0.8921898928024502.\u001b[0m\n"
     ]
    },
    {
     "name": "stdout",
     "output_type": "stream",
     "text": [
      "Early stopping\n",
      "Trial 1904 completado. Mejor precisión en validación: 0.8260336906584992\n",
      "Usando GPU para el Trial 1905\n",
      "Entrenando Trial 1905...\n"
     ]
    },
    {
     "name": "stderr",
     "output_type": "stream",
     "text": [
      "\u001b[32m[I 2023-12-01 18:24:43,792]\u001b[0m Trial 1905 finished with value: 0.8833078101071975 and parameters: {'n_layers': 7, 'n_units_l0': 2048, 'activation_l0': 'LeakyReLU', 'dropout_l0': 0.06107089519720884, 'batch_norm_l0': False, 'l2_reg_l0': 0.0009259862585521805, 'leakyrelu_alpha_l0': 0.24638838688992531, 'n_units_l1': 512, 'activation_l1': 'LeakyReLU', 'dropout_l1': 0.07007143806692814, 'batch_norm_l1': False, 'l2_reg_l1': 0.001996727845163188, 'leakyrelu_alpha_l1': 0.29005841770885976, 'n_units_l2': 2048, 'activation_l2': 'ReLU', 'dropout_l2': 0.09783718105223227, 'batch_norm_l2': True, 'l2_reg_l2': 0.0006567013139788076, 'n_units_l3': 2048, 'activation_l3': 'LeakyReLU', 'dropout_l3': 0.360785072746312, 'batch_norm_l3': True, 'l2_reg_l3': 0.005530543546589611, 'leakyrelu_alpha_l3': 0.1159547435667774, 'n_units_l4': 64, 'activation_l4': 'LeakyReLU', 'dropout_l4': 0.49864260098120944, 'batch_norm_l4': True, 'l2_reg_l4': 6.691994772949658e-05, 'leakyrelu_alpha_l4': 0.23822509969949426, 'n_units_l5': 512, 'activation_l5': 'ReLU', 'dropout_l5': 0.41555750599735397, 'batch_norm_l5': False, 'l2_reg_l5': 0.030301656239105124, 'n_units_l6': 16, 'activation_l6': 'SELU', 'dropout_l6': 0.2354606304902952, 'batch_norm_l6': True, 'l2_reg_l6': 0.002231373388633594, 'optimizer': 'RMSprop', 'lr': 0.0003095378518783046, 'rmsprop_alpha': 0.9216945619194354, 'epochs': 284, 'batch_size': 256, 'early_stopping_patience': 19, 'lr_reduce_factor': 0.17569714779573067, 'lr_reduce_patience': 42, 'min_lr': 5.443045128352866e-06}. Best is trial 506 with value: 0.8921898928024502.\u001b[0m\n"
     ]
    },
    {
     "name": "stdout",
     "output_type": "stream",
     "text": [
      "Early stopping\n",
      "Trial 1905 completado. Mejor precisión en validación: 0.8833078101071975\n",
      "Usando GPU para el Trial 1906\n",
      "Entrenando Trial 1906...\n"
     ]
    },
    {
     "name": "stderr",
     "output_type": "stream",
     "text": [
      "\u001b[32m[I 2023-12-01 18:25:34,866]\u001b[0m Trial 1906 finished with value: 0.8781010719754977 and parameters: {'n_layers': 6, 'n_units_l0': 256, 'activation_l0': 'ReLU', 'dropout_l0': 0.01733294627177033, 'batch_norm_l0': False, 'l2_reg_l0': 0.007652682022902924, 'n_units_l1': 512, 'activation_l1': 'Tanh', 'dropout_l1': 0.12437729860430347, 'batch_norm_l1': True, 'l2_reg_l1': 3.513880385021536e-05, 'n_units_l2': 256, 'activation_l2': 'ReLU', 'dropout_l2': 0.3792166961435912, 'batch_norm_l2': True, 'l2_reg_l2': 1.7756377527364623e-05, 'n_units_l3': 128, 'activation_l3': 'LeakyReLU', 'dropout_l3': 0.0947485204103209, 'batch_norm_l3': True, 'l2_reg_l3': 0.0006541241375850912, 'leakyrelu_alpha_l3': 0.12638351135692327, 'n_units_l4': 64, 'activation_l4': 'LeakyReLU', 'dropout_l4': 0.4224677216101736, 'batch_norm_l4': True, 'l2_reg_l4': 0.00010401897813051656, 'leakyrelu_alpha_l4': 0.2462100257293012, 'n_units_l5': 16, 'activation_l5': 'LeakyReLU', 'dropout_l5': 0.22166980621305327, 'batch_norm_l5': False, 'l2_reg_l5': 0.0014776754154663511, 'leakyrelu_alpha_l5': 0.09955377939233238, 'optimizer': 'RMSprop', 'lr': 0.0012982959834759737, 'rmsprop_alpha': 0.9699570629039281, 'epochs': 569, 'batch_size': 128, 'early_stopping_patience': 17, 'lr_reduce_factor': 0.31774818776091346, 'lr_reduce_patience': 45, 'min_lr': 7.296784889671481e-06}. Best is trial 506 with value: 0.8921898928024502.\u001b[0m\n"
     ]
    },
    {
     "name": "stdout",
     "output_type": "stream",
     "text": [
      "Early stopping\n",
      "Trial 1906 completado. Mejor precisión en validación: 0.8781010719754977\n",
      "Usando GPU para el Trial 1907\n",
      "Entrenando Trial 1907...\n"
     ]
    },
    {
     "name": "stderr",
     "output_type": "stream",
     "text": [
      "\u001b[32m[I 2023-12-01 18:26:13,276]\u001b[0m Trial 1907 finished with value: 0.8214395099540582 and parameters: {'n_layers': 3, 'n_units_l0': 2048, 'activation_l0': 'LeakyReLU', 'dropout_l0': 0.12508840457809553, 'batch_norm_l0': False, 'l2_reg_l0': 0.003768149128713408, 'leakyrelu_alpha_l0': 0.19098379707423122, 'n_units_l1': 1024, 'activation_l1': 'Tanh', 'dropout_l1': 0.38850726448278516, 'batch_norm_l1': False, 'l2_reg_l1': 0.0011457315457545157, 'n_units_l2': 2048, 'activation_l2': 'ReLU', 'dropout_l2': 0.26611024752595097, 'batch_norm_l2': True, 'l2_reg_l2': 0.00014939328587155234, 'optimizer': 'RMSprop', 'lr': 0.0023690180429453414, 'rmsprop_alpha': 0.9007410054627636, 'epochs': 419, 'batch_size': 32, 'early_stopping_patience': 20, 'lr_reduce_factor': 0.28873627588597267, 'lr_reduce_patience': 43, 'min_lr': 4.5310766408057553e-05}. Best is trial 506 with value: 0.8921898928024502.\u001b[0m\n"
     ]
    },
    {
     "name": "stdout",
     "output_type": "stream",
     "text": [
      "Early stopping\n",
      "Trial 1907 completado. Mejor precisión en validación: 0.8214395099540582\n",
      "Usando GPU para el Trial 1908\n",
      "Entrenando Trial 1908...\n"
     ]
    },
    {
     "name": "stderr",
     "output_type": "stream",
     "text": [
      "\u001b[32m[I 2023-12-01 18:27:12,367]\u001b[0m Trial 1908 finished with value: 0.8523736600306279 and parameters: {'n_layers': 6, 'n_units_l0': 2048, 'activation_l0': 'LeakyReLU', 'dropout_l0': 0.07651334994172547, 'batch_norm_l0': False, 'l2_reg_l0': 0.009911191009613221, 'leakyrelu_alpha_l0': 0.21777613998541842, 'n_units_l1': 16, 'activation_l1': 'Tanh', 'dropout_l1': 0.49115911992151123, 'batch_norm_l1': False, 'l2_reg_l1': 1.732417012308671e-05, 'n_units_l2': 1024, 'activation_l2': 'ReLU', 'dropout_l2': 0.4319247002773563, 'batch_norm_l2': True, 'l2_reg_l2': 0.01242767483332563, 'n_units_l3': 2048, 'activation_l3': 'ELU', 'dropout_l3': 0.3812317732253111, 'batch_norm_l3': True, 'l2_reg_l3': 0.0011910061449252746, 'n_units_l4': 64, 'activation_l4': 'Tanh', 'dropout_l4': 0.43533830368770843, 'batch_norm_l4': True, 'l2_reg_l4': 0.09974876950289623, 'n_units_l5': 32, 'activation_l5': 'ELU', 'dropout_l5': 0.26456709132884454, 'batch_norm_l5': True, 'l2_reg_l5': 0.0009395318794393522, 'optimizer': 'RMSprop', 'lr': 0.0005586154749653489, 'rmsprop_alpha': 0.8889233071048805, 'epochs': 651, 'batch_size': 128, 'early_stopping_patience': 19, 'lr_reduce_factor': 0.5701323367642863, 'lr_reduce_patience': 38, 'min_lr': 1.7420962011434113e-06}. Best is trial 506 with value: 0.8921898928024502.\u001b[0m\n"
     ]
    },
    {
     "name": "stdout",
     "output_type": "stream",
     "text": [
      "Early stopping\n",
      "Trial 1908 completado. Mejor precisión en validación: 0.8523736600306279\n",
      "Usando GPU para el Trial 1909\n",
      "Entrenando Trial 1909...\n"
     ]
    },
    {
     "name": "stderr",
     "output_type": "stream",
     "text": [
      "\u001b[32m[I 2023-12-01 18:27:49,143]\u001b[0m Trial 1909 finished with value: 0.8735068912710566 and parameters: {'n_layers': 5, 'n_units_l0': 32, 'activation_l0': 'LeakyReLU', 'dropout_l0': 0.00014798157098130016, 'batch_norm_l0': False, 'l2_reg_l0': 0.0002115248729066414, 'leakyrelu_alpha_l0': 0.20353801675275257, 'n_units_l1': 512, 'activation_l1': 'Tanh', 'dropout_l1': 0.1142723843785442, 'batch_norm_l1': False, 'l2_reg_l1': 2.6691195746357456e-05, 'n_units_l2': 2048, 'activation_l2': 'ReLU', 'dropout_l2': 0.28084391560051414, 'batch_norm_l2': True, 'l2_reg_l2': 0.0015732401684757423, 'n_units_l3': 1024, 'activation_l3': 'LeakyReLU', 'dropout_l3': 0.33925294242217285, 'batch_norm_l3': True, 'l2_reg_l3': 2.1816683216414818e-05, 'leakyrelu_alpha_l3': 0.18497956684932668, 'n_units_l4': 256, 'activation_l4': 'ReLU', 'dropout_l4': 0.4494974104887542, 'batch_norm_l4': True, 'l2_reg_l4': 0.018718303090999516, 'optimizer': 'RMSprop', 'lr': 0.00173229683182032, 'rmsprop_alpha': 0.9446261554083357, 'epochs': 1878, 'batch_size': 256, 'early_stopping_patience': 18, 'lr_reduce_factor': 0.45942148538751265, 'lr_reduce_patience': 27, 'min_lr': 3.7541737628331622e-06}. Best is trial 506 with value: 0.8921898928024502.\u001b[0m\n"
     ]
    },
    {
     "name": "stdout",
     "output_type": "stream",
     "text": [
      "Early stopping\n",
      "Trial 1909 completado. Mejor precisión en validación: 0.8735068912710566\n",
      "Usando GPU para el Trial 1910\n",
      "Entrenando Trial 1910...\n"
     ]
    },
    {
     "name": "stderr",
     "output_type": "stream",
     "text": [
      "\u001b[32m[I 2023-12-01 18:28:40,313]\u001b[0m Trial 1910 finished with value: 0.8728943338437979 and parameters: {'n_layers': 7, 'n_units_l0': 2048, 'activation_l0': 'SELU', 'dropout_l0': 0.10160053528233992, 'batch_norm_l0': False, 'l2_reg_l0': 7.367935093317779e-05, 'n_units_l1': 2048, 'activation_l1': 'Tanh', 'dropout_l1': 0.2438155855902939, 'batch_norm_l1': False, 'l2_reg_l1': 0.008882712538844631, 'n_units_l2': 32, 'activation_l2': 'ReLU', 'dropout_l2': 0.415585206018663, 'batch_norm_l2': True, 'l2_reg_l2': 0.0011490407406600284, 'n_units_l3': 32, 'activation_l3': 'LeakyReLU', 'dropout_l3': 0.24173972899886367, 'batch_norm_l3': True, 'l2_reg_l3': 0.00026910537284814185, 'leakyrelu_alpha_l3': 0.2265873031345764, 'n_units_l4': 512, 'activation_l4': 'ELU', 'dropout_l4': 0.36640038498201055, 'batch_norm_l4': True, 'l2_reg_l4': 4.6282166731714306e-05, 'n_units_l5': 16, 'activation_l5': 'ELU', 'dropout_l5': 0.11639263897189384, 'batch_norm_l5': False, 'l2_reg_l5': 8.722411137599418e-05, 'n_units_l6': 2048, 'activation_l6': 'ReLU', 'dropout_l6': 0.28640203036488016, 'batch_norm_l6': True, 'l2_reg_l6': 0.036502234355836105, 'optimizer': 'RMSprop', 'lr': 0.0007772625893615468, 'rmsprop_alpha': 0.9858886352852412, 'epochs': 330, 'batch_size': 128, 'early_stopping_patience': 19, 'lr_reduce_factor': 0.37115347899469364, 'lr_reduce_patience': 34, 'min_lr': 1.5441621502336952e-06}. Best is trial 506 with value: 0.8921898928024502.\u001b[0m\n"
     ]
    },
    {
     "name": "stdout",
     "output_type": "stream",
     "text": [
      "Early stopping\n",
      "Trial 1910 completado. Mejor precisión en validación: 0.8728943338437979\n",
      "Usando GPU para el Trial 1911\n",
      "Entrenando Trial 1911...\n"
     ]
    },
    {
     "name": "stderr",
     "output_type": "stream",
     "text": [
      "\u001b[32m[I 2023-12-01 18:28:51,711]\u001b[0m Trial 1911 finished with value: 0.678407350689127 and parameters: {'n_layers': 13, 'n_units_l0': 2048, 'activation_l0': 'LeakyReLU', 'dropout_l0': 0.06898260289142641, 'batch_norm_l0': False, 'l2_reg_l0': 0.02012186595668104, 'leakyrelu_alpha_l0': 0.11753131746275888, 'n_units_l1': 512, 'activation_l1': 'ELU', 'dropout_l1': 0.30335663049910294, 'batch_norm_l1': False, 'l2_reg_l1': 0.0396271420061821, 'n_units_l2': 2048, 'activation_l2': 'ReLU', 'dropout_l2': 0.22375459550691698, 'batch_norm_l2': True, 'l2_reg_l2': 1.3935604937915124e-05, 'n_units_l3': 2048, 'activation_l3': 'LeakyReLU', 'dropout_l3': 0.12241739125215563, 'batch_norm_l3': True, 'l2_reg_l3': 1.5241310545443305e-05, 'leakyrelu_alpha_l3': 0.2741782361368753, 'n_units_l4': 64, 'activation_l4': 'LeakyReLU', 'dropout_l4': 0.39990786981371224, 'batch_norm_l4': True, 'l2_reg_l4': 0.022528606253341885, 'leakyrelu_alpha_l4': 0.1410049168974162, 'n_units_l5': 2048, 'activation_l5': 'LeakyReLU', 'dropout_l5': 0.3570248389894921, 'batch_norm_l5': False, 'l2_reg_l5': 0.018874360745308683, 'leakyrelu_alpha_l5': 0.28574225153490834, 'n_units_l6': 64, 'activation_l6': 'Tanh', 'dropout_l6': 0.3992658276917441, 'batch_norm_l6': True, 'l2_reg_l6': 3.694143137014922e-05, 'n_units_l7': 64, 'activation_l7': 'LeakyReLU', 'dropout_l7': 0.2543886860469795, 'batch_norm_l7': True, 'l2_reg_l7': 0.003058911806762238, 'leakyrelu_alpha_l7': 0.1567551287103814, 'n_units_l8': 2048, 'activation_l8': 'Tanh', 'dropout_l8': 0.40924240575394244, 'batch_norm_l8': False, 'l2_reg_l8': 0.0001094658953978592, 'n_units_l9': 256, 'activation_l9': 'LeakyReLU', 'dropout_l9': 0.31647252793709346, 'batch_norm_l9': False, 'l2_reg_l9': 0.014719219942841158, 'leakyrelu_alpha_l9': 0.29746348266890477, 'n_units_l10': 64, 'activation_l10': 'Tanh', 'dropout_l10': 0.14278474201422522, 'batch_norm_l10': True, 'l2_reg_l10': 0.0010499890770032537, 'n_units_l11': 2048, 'activation_l11': 'LeakyReLU', 'dropout_l11': 0.4185504465527704, 'batch_norm_l11': False, 'l2_reg_l11': 0.0008083661801696685, 'leakyrelu_alpha_l11': 0.03883474757235278, 'n_units_l12': 256, 'activation_l12': 'LeakyReLU', 'dropout_l12': 0.08720451950997932, 'batch_norm_l12': False, 'l2_reg_l12': 5.879345940276888e-05, 'leakyrelu_alpha_l12': 0.03724717196417146, 'optimizer': 'RMSprop', 'lr': 0.04800321836529462, 'rmsprop_alpha': 0.9269725394210244, 'epochs': 1957, 'batch_size': 512, 'early_stopping_patience': 17, 'lr_reduce_factor': 0.15771134796876865, 'lr_reduce_patience': 42, 'min_lr': 3.267930475467508e-06}. Best is trial 506 with value: 0.8921898928024502.\u001b[0m\n"
     ]
    },
    {
     "name": "stdout",
     "output_type": "stream",
     "text": [
      "Early stopping\n",
      "Trial 1911 completado. Mejor precisión en validación: 0.678407350689127\n",
      "Usando GPU para el Trial 1912\n",
      "Entrenando Trial 1912...\n"
     ]
    },
    {
     "name": "stderr",
     "output_type": "stream",
     "text": [
      "                                                                                                                                                                                                                                        \r"
     ]
    },
    {
     "name": "stdout",
     "output_type": "stream",
     "text": [
      "Epoch 00106: reducing learning rate of group 0 to 1.3062e-04.\n"
     ]
    },
    {
     "name": "stderr",
     "output_type": "stream",
     "text": [
      "\u001b[32m[I 2023-12-01 18:29:55,225]\u001b[0m Trial 1912 finished with value: 0.8817764165390506 and parameters: {'n_layers': 4, 'n_units_l0': 2048, 'activation_l0': 'LeakyReLU', 'dropout_l0': 0.14441882045524357, 'batch_norm_l0': False, 'l2_reg_l0': 4.9145113353317555e-05, 'leakyrelu_alpha_l0': 0.13065499645583067, 'n_units_l1': 1024, 'activation_l1': 'Tanh', 'dropout_l1': 0.19311207556693408, 'batch_norm_l1': False, 'l2_reg_l1': 4.6733665686234185e-05, 'n_units_l2': 1024, 'activation_l2': 'LeakyReLU', 'dropout_l2': 0.0665441081943854, 'batch_norm_l2': True, 'l2_reg_l2': 0.03126634538202781, 'leakyrelu_alpha_l2': 0.15929836158568647, 'n_units_l3': 16, 'activation_l3': 'Tanh', 'dropout_l3': 0.319784372139411, 'batch_norm_l3': False, 'l2_reg_l3': 0.0032120592422049095, 'optimizer': 'RMSprop', 'lr': 0.0003771421426771061, 'rmsprop_alpha': 0.9814029535579241, 'epochs': 624, 'batch_size': 128, 'early_stopping_patience': 20, 'lr_reduce_factor': 0.34635422596814125, 'lr_reduce_patience': 44, 'min_lr': 6.515400178286129e-05}. Best is trial 506 with value: 0.8921898928024502.\u001b[0m\n"
     ]
    },
    {
     "name": "stdout",
     "output_type": "stream",
     "text": [
      "Early stopping\n",
      "Trial 1912 completado. Mejor precisión en validación: 0.8817764165390506\n",
      "Usando GPU para el Trial 1913\n",
      "Entrenando Trial 1913...\n"
     ]
    },
    {
     "name": "stderr",
     "output_type": "stream",
     "text": [
      "\u001b[32m[I 2023-12-01 18:30:23,335]\u001b[0m Trial 1913 finished with value: 0.8744257274119449 and parameters: {'n_layers': 8, 'n_units_l0': 2048, 'activation_l0': 'LeakyReLU', 'dropout_l0': 0.08675734599577548, 'batch_norm_l0': False, 'l2_reg_l0': 0.0030047976243698974, 'leakyrelu_alpha_l0': 0.2571219792198854, 'n_units_l1': 512, 'activation_l1': 'Tanh', 'dropout_l1': 0.010486349927673229, 'batch_norm_l1': False, 'l2_reg_l1': 0.0002945893728767752, 'n_units_l2': 16, 'activation_l2': 'Tanh', 'dropout_l2': 0.3943710926206048, 'batch_norm_l2': True, 'l2_reg_l2': 0.0002286413597590698, 'n_units_l3': 1024, 'activation_l3': 'LeakyReLU', 'dropout_l3': 0.14466519298098612, 'batch_norm_l3': True, 'l2_reg_l3': 0.002171145243814452, 'leakyrelu_alpha_l3': 0.09066148736299495, 'n_units_l4': 64, 'activation_l4': 'LeakyReLU', 'dropout_l4': 0.34733731876333657, 'batch_norm_l4': True, 'l2_reg_l4': 2.3190295157679896e-05, 'leakyrelu_alpha_l4': 0.16231812482176758, 'n_units_l5': 64, 'activation_l5': 'SELU', 'dropout_l5': 0.10445684121601717, 'batch_norm_l5': False, 'l2_reg_l5': 0.001989531109079648, 'n_units_l6': 128, 'activation_l6': 'ELU', 'dropout_l6': 0.4480584314463035, 'batch_norm_l6': True, 'l2_reg_l6': 0.0003987981786681586, 'n_units_l7': 256, 'activation_l7': 'Tanh', 'dropout_l7': 0.06122918323622014, 'batch_norm_l7': False, 'l2_reg_l7': 0.001717828730028097, 'optimizer': 'RMSprop', 'lr': 0.00102767088457942, 'rmsprop_alpha': 0.8747476082906522, 'epochs': 539, 'batch_size': 1024, 'early_stopping_patience': 19, 'lr_reduce_factor': 0.5095907898568928, 'lr_reduce_patience': 46, 'min_lr': 2.3841661494953737e-05}. Best is trial 506 with value: 0.8921898928024502.\u001b[0m\n"
     ]
    },
    {
     "name": "stdout",
     "output_type": "stream",
     "text": [
      "Early stopping\n",
      "Trial 1913 completado. Mejor precisión en validación: 0.8744257274119449\n",
      "Usando GPU para el Trial 1914\n",
      "Entrenando Trial 1914...\n"
     ]
    },
    {
     "name": "stderr",
     "output_type": "stream",
     "text": [
      "\u001b[32m[I 2023-12-01 18:31:15,686]\u001b[0m Trial 1914 finished with value: 0.796937212863706 and parameters: {'n_layers': 1, 'n_units_l0': 2048, 'activation_l0': 'LeakyReLU', 'dropout_l0': 0.039762288813257385, 'batch_norm_l0': False, 'l2_reg_l0': 0.06480412475416338, 'leakyrelu_alpha_l0': 0.08843779922542977, 'optimizer': 'SGD', 'lr': 0.0004874717430012681, 'sgd_momentum': 0.26448214029113437, 'epochs': 389, 'batch_size': 256, 'early_stopping_patience': 18, 'lr_reduce_factor': 0.5841952609346682, 'lr_reduce_patience': 40, 'min_lr': 3.281700005621957e-05}. Best is trial 506 with value: 0.8921898928024502.\u001b[0m\n"
     ]
    },
    {
     "name": "stdout",
     "output_type": "stream",
     "text": [
      "Early stopping\n",
      "Trial 1914 completado. Mejor precisión en validación: 0.796937212863706\n",
      "Usando GPU para el Trial 1915\n",
      "Entrenando Trial 1915...\n"
     ]
    },
    {
     "name": "stderr",
     "output_type": "stream",
     "text": [
      "\u001b[32m[I 2023-12-01 18:33:10,271]\u001b[0m Trial 1915 finished with value: 0.8588055130168454 and parameters: {'n_layers': 10, 'n_units_l0': 64, 'activation_l0': 'LeakyReLU', 'dropout_l0': 0.16840722188085985, 'batch_norm_l0': False, 'l2_reg_l0': 0.013168345466480581, 'leakyrelu_alpha_l0': 0.28110786109470837, 'n_units_l1': 512, 'activation_l1': 'Tanh', 'dropout_l1': 0.22605995671648932, 'batch_norm_l1': False, 'l2_reg_l1': 0.001695783510777048, 'n_units_l2': 2048, 'activation_l2': 'ReLU', 'dropout_l2': 0.4809858857694255, 'batch_norm_l2': True, 'l2_reg_l2': 0.00029903721844950034, 'n_units_l3': 2048, 'activation_l3': 'LeakyReLU', 'dropout_l3': 0.46677241914610085, 'batch_norm_l3': True, 'l2_reg_l3': 0.0016292274808020202, 'leakyrelu_alpha_l3': 0.28663040112856264, 'n_units_l4': 2048, 'activation_l4': 'SELU', 'dropout_l4': 0.4150275196013532, 'batch_norm_l4': True, 'l2_reg_l4': 1.8032723076581117e-05, 'n_units_l5': 16, 'activation_l5': 'ELU', 'dropout_l5': 0.0668133283567547, 'batch_norm_l5': False, 'l2_reg_l5': 0.0011623425886794232, 'n_units_l6': 1024, 'activation_l6': 'SELU', 'dropout_l6': 0.4947357240699787, 'batch_norm_l6': True, 'l2_reg_l6': 0.00024348005244438048, 'n_units_l7': 16, 'activation_l7': 'ReLU', 'dropout_l7': 0.012987964145551228, 'batch_norm_l7': False, 'l2_reg_l7': 0.09878642243200354, 'n_units_l8': 16, 'activation_l8': 'ReLU', 'dropout_l8': 0.040687424966130536, 'batch_norm_l8': True, 'l2_reg_l8': 0.0891162192356933, 'n_units_l9': 512, 'activation_l9': 'SELU', 'dropout_l9': 0.4478838553215496, 'batch_norm_l9': True, 'l2_reg_l9': 0.09981504392062093, 'optimizer': 'RMSprop', 'lr': 0.0006359041841981938, 'rmsprop_alpha': 0.8564239463980635, 'epochs': 307, 'batch_size': 128, 'early_stopping_patience': 19, 'lr_reduce_factor': 0.2231176127469899, 'lr_reduce_patience': 45, 'min_lr': 4.283077251785047e-06}. Best is trial 506 with value: 0.8921898928024502.\u001b[0m\n"
     ]
    },
    {
     "name": "stdout",
     "output_type": "stream",
     "text": [
      "Early stopping\n",
      "Trial 1915 completado. Mejor precisión en validación: 0.8588055130168454\n",
      "Usando GPU para el Trial 1916\n",
      "Entrenando Trial 1916...\n"
     ]
    },
    {
     "name": "stderr",
     "output_type": "stream",
     "text": [
      "\u001b[32m[I 2023-12-01 18:33:54,085]\u001b[0m Trial 1916 finished with value: 0.8781010719754977 and parameters: {'n_layers': 5, 'n_units_l0': 2048, 'activation_l0': 'LeakyReLU', 'dropout_l0': 0.19482259043381783, 'batch_norm_l0': False, 'l2_reg_l0': 0.025881827819001082, 'leakyrelu_alpha_l0': 0.29996522826107785, 'n_units_l1': 128, 'activation_l1': 'Tanh', 'dropout_l1': 0.08346777952516339, 'batch_norm_l1': False, 'l2_reg_l1': 1.4657598112514894e-05, 'n_units_l2': 2048, 'activation_l2': 'ReLU', 'dropout_l2': 0.14586619350798793, 'batch_norm_l2': True, 'l2_reg_l2': 2.8154428555858625e-05, 'n_units_l3': 2048, 'activation_l3': 'LeakyReLU', 'dropout_l3': 0.0075597312484943, 'batch_norm_l3': True, 'l2_reg_l3': 0.0005256076048557208, 'leakyrelu_alpha_l3': 0.10157048207002005, 'n_units_l4': 64, 'activation_l4': 'LeakyReLU', 'dropout_l4': 0.29085458292474675, 'batch_norm_l4': True, 'l2_reg_l4': 0.00020651045457870766, 'leakyrelu_alpha_l4': 0.2617254830862801, 'optimizer': 'RMSprop', 'lr': 0.00018152304139792846, 'rmsprop_alpha': 0.9739007120964991, 'epochs': 208, 'batch_size': 128, 'early_stopping_patience': 17, 'lr_reduce_factor': 0.25083955614066544, 'lr_reduce_patience': 41, 'min_lr': 9.849158091520831e-06}. Best is trial 506 with value: 0.8921898928024502.\u001b[0m\n"
     ]
    },
    {
     "name": "stdout",
     "output_type": "stream",
     "text": [
      "Early stopping\n",
      "Trial 1916 completado. Mejor precisión en validación: 0.8781010719754977\n",
      "Usando GPU para el Trial 1917\n",
      "Entrenando Trial 1917...\n"
     ]
    },
    {
     "name": "stderr",
     "output_type": "stream",
     "text": [
      "                                                                                                                                                                                                                                        \r"
     ]
    },
    {
     "name": "stdout",
     "output_type": "stream",
     "text": [
      "Epoch 00047: reducing learning rate of group 0 to 2.2738e-03.\n"
     ]
    },
    {
     "name": "stderr",
     "output_type": "stream",
     "text": [
      "                                                                                                                                                                                                                                        \r"
     ]
    },
    {
     "name": "stdout",
     "output_type": "stream",
     "text": [
      "Epoch 00092: reducing learning rate of group 0 to 1.4362e-03.\n"
     ]
    },
    {
     "name": "stderr",
     "output_type": "stream",
     "text": [
      "\u001b[32m[I 2023-12-01 18:34:29,596]\u001b[0m Trial 1917 finished with value: 0.8621745788667687 and parameters: {'n_layers': 4, 'n_units_l0': 2048, 'activation_l0': 'LeakyReLU', 'dropout_l0': 0.0546218091423577, 'batch_norm_l0': True, 'l2_reg_l0': 0.00016285417680336406, 'leakyrelu_alpha_l0': 0.1446498810027357, 'n_units_l1': 1024, 'activation_l1': 'Tanh', 'dropout_l1': 0.43705546621855484, 'batch_norm_l1': False, 'l2_reg_l1': 0.0035543498122382307, 'n_units_l2': 1024, 'activation_l2': 'ELU', 'dropout_l2': 0.4999334762131997, 'batch_norm_l2': True, 'l2_reg_l2': 0.00019459835986715177, 'n_units_l3': 1024, 'activation_l3': 'LeakyReLU', 'dropout_l3': 0.16263708441098473, 'batch_norm_l3': True, 'l2_reg_l3': 0.01987034799999794, 'leakyrelu_alpha_l3': 0.20197270441856074, 'optimizer': 'RMSprop', 'lr': 0.0035999709241781707, 'rmsprop_alpha': 0.895618544036164, 'epochs': 1926, 'batch_size': 256, 'early_stopping_patience': 20, 'lr_reduce_factor': 0.6316227049198836, 'lr_reduce_patience': 44, 'min_lr': 5.809660761504313e-05}. Best is trial 506 with value: 0.8921898928024502.\u001b[0m\n"
     ]
    },
    {
     "name": "stdout",
     "output_type": "stream",
     "text": [
      "Early stopping\n",
      "Trial 1917 completado. Mejor precisión en validación: 0.8621745788667687\n",
      "Usando GPU para el Trial 1918\n",
      "Entrenando Trial 1918...\n"
     ]
    },
    {
     "name": "stderr",
     "output_type": "stream",
     "text": [
      "\u001b[32m[I 2023-12-01 18:35:55,135]\u001b[0m Trial 1918 finished with value: 0.858499234303216 and parameters: {'n_layers': 7, 'n_units_l0': 512, 'activation_l0': 'ELU', 'dropout_l0': 0.01404082127655657, 'batch_norm_l0': False, 'l2_reg_l0': 0.001727673787028595, 'n_units_l1': 512, 'activation_l1': 'Tanh', 'dropout_l1': 0.14495308587670508, 'batch_norm_l1': False, 'l2_reg_l1': 0.0004450665324012699, 'n_units_l2': 2048, 'activation_l2': 'ReLU', 'dropout_l2': 0.173455347231847, 'batch_norm_l2': True, 'l2_reg_l2': 4.816810573029852e-05, 'n_units_l3': 2048, 'activation_l3': 'LeakyReLU', 'dropout_l3': 0.3124314397127751, 'batch_norm_l3': True, 'l2_reg_l3': 5.970647527851788e-05, 'leakyrelu_alpha_l3': 0.13881515292140334, 'n_units_l4': 64, 'activation_l4': 'LeakyReLU', 'dropout_l4': 0.250771327730961, 'batch_norm_l4': True, 'l2_reg_l4': 0.0001426951781323618, 'leakyrelu_alpha_l4': 0.18524078299449348, 'n_units_l5': 16, 'activation_l5': 'LeakyReLU', 'dropout_l5': 0.13567470904357387, 'batch_norm_l5': True, 'l2_reg_l5': 0.012018033272446866, 'leakyrelu_alpha_l5': 0.06164713915168913, 'n_units_l6': 2048, 'activation_l6': 'LeakyReLU', 'dropout_l6': 0.4221591091803934, 'batch_norm_l6': True, 'l2_reg_l6': 7.067723282554567e-05, 'leakyrelu_alpha_l6': 0.2640350123711209, 'optimizer': 'RMSprop', 'lr': 3.5740602114358616e-05, 'rmsprop_alpha': 0.8659319747890549, 'epochs': 460, 'batch_size': 64, 'early_stopping_patience': 18, 'lr_reduce_factor': 0.3361402381884809, 'lr_reduce_patience': 43, 'min_lr': 5.788646577701159e-06}. Best is trial 506 with value: 0.8921898928024502.\u001b[0m\n"
     ]
    },
    {
     "name": "stdout",
     "output_type": "stream",
     "text": [
      "Early stopping\n",
      "Trial 1918 completado. Mejor precisión en validación: 0.858499234303216\n",
      "Usando GPU para el Trial 1919\n",
      "Entrenando Trial 1919...\n"
     ]
    },
    {
     "name": "stderr",
     "output_type": "stream",
     "text": [
      "                                                                                                                                                                                                                                        \r"
     ]
    },
    {
     "name": "stdout",
     "output_type": "stream",
     "text": [
      "Epoch 00108: reducing learning rate of group 0 to 4.3602e-04.\n"
     ]
    },
    {
     "name": "stderr",
     "output_type": "stream",
     "text": [
      "\u001b[32m[I 2023-12-01 18:37:23,528]\u001b[0m Trial 1919 finished with value: 0.8833078101071975 and parameters: {'n_layers': 6, 'n_units_l0': 2048, 'activation_l0': 'SELU', 'dropout_l0': 0.027896088391244724, 'batch_norm_l0': False, 'l2_reg_l0': 2.3741303473267795e-05, 'n_units_l1': 512, 'activation_l1': 'Tanh', 'dropout_l1': 0.25665188908700587, 'batch_norm_l1': False, 'l2_reg_l1': 0.011340760110519627, 'n_units_l2': 256, 'activation_l2': 'ReLU', 'dropout_l2': 0.19928799907813693, 'batch_norm_l2': True, 'l2_reg_l2': 0.024307473536671797, 'n_units_l3': 1024, 'activation_l3': 'Tanh', 'dropout_l3': 0.0001345145694417963, 'batch_norm_l3': True, 'l2_reg_l3': 0.00011791896889527405, 'n_units_l4': 64, 'activation_l4': 'ELU', 'dropout_l4': 0.3806145236354028, 'batch_norm_l4': True, 'l2_reg_l4': 0.057292919733131956, 'n_units_l5': 512, 'activation_l5': 'ELU', 'dropout_l5': 0.04148041354870119, 'batch_norm_l5': False, 'l2_reg_l5': 2.567866615908309e-05, 'optimizer': 'Adam', 'lr': 0.0014706096724999397, 'adam_beta1': 0.9479647434863552, 'adam_beta2': 0.9856101662469161, 'epochs': 158, 'batch_size': 128, 'early_stopping_patience': 20, 'lr_reduce_factor': 0.2964904511693658, 'lr_reduce_patience': 37, 'min_lr': 2.070128923568037e-05}. Best is trial 506 with value: 0.8921898928024502.\u001b[0m\n"
     ]
    },
    {
     "name": "stdout",
     "output_type": "stream",
     "text": [
      "Early stopping\n",
      "Trial 1919 completado. Mejor precisión en validación: 0.8833078101071975\n",
      "Usando GPU para el Trial 1920\n",
      "Entrenando Trial 1920...\n"
     ]
    },
    {
     "name": "stderr",
     "output_type": "stream",
     "text": [
      "                                                                                                                                                                                                                                        \r"
     ]
    },
    {
     "name": "stdout",
     "output_type": "stream",
     "text": [
      "Epoch 00081: reducing learning rate of group 0 to 4.4372e-04.\n"
     ]
    },
    {
     "name": "stderr",
     "output_type": "stream",
     "text": [
      "\u001b[32m[I 2023-12-01 18:39:00,561]\u001b[0m Trial 1920 finished with value: 0.8836140888208269 and parameters: {'n_layers': 8, 'n_units_l0': 2048, 'activation_l0': 'LeakyReLU', 'dropout_l0': 0.12164134112929716, 'batch_norm_l0': False, 'l2_reg_l0': 3.8304834019613454e-05, 'leakyrelu_alpha_l0': 0.04767300652726429, 'n_units_l1': 512, 'activation_l1': 'Tanh', 'dropout_l1': 0.03078960868153427, 'batch_norm_l1': False, 'l2_reg_l1': 0.002579706735388055, 'n_units_l2': 2048, 'activation_l2': 'ReLU', 'dropout_l2': 0.36692635256276085, 'batch_norm_l2': True, 'l2_reg_l2': 0.00012503203315993844, 'n_units_l3': 256, 'activation_l3': 'LeakyReLU', 'dropout_l3': 0.11329806096866715, 'batch_norm_l3': True, 'l2_reg_l3': 0.00021139450675073318, 'leakyrelu_alpha_l3': 0.15228564309026277, 'n_units_l4': 256, 'activation_l4': 'ReLU', 'dropout_l4': 0.3261015050175702, 'batch_norm_l4': True, 'l2_reg_l4': 8.093761062766674e-05, 'n_units_l5': 2048, 'activation_l5': 'LeakyReLU', 'dropout_l5': 0.16666809209885913, 'batch_norm_l5': False, 'l2_reg_l5': 0.00019760080271224615, 'leakyrelu_alpha_l5': 0.10994839707304851, 'n_units_l6': 2048, 'activation_l6': 'Tanh', 'dropout_l6': 0.3820905225773532, 'batch_norm_l6': True, 'l2_reg_l6': 3.184733242538741e-05, 'n_units_l7': 64, 'activation_l7': 'LeakyReLU', 'dropout_l7': 0.037877355180475, 'batch_norm_l7': True, 'l2_reg_l7': 7.996606026100831e-05, 'leakyrelu_alpha_l7': 0.26308596105743914, 'optimizer': 'RMSprop', 'lr': 0.000809186135683005, 'rmsprop_alpha': 0.9778907038823351, 'epochs': 250, 'batch_size': 128, 'early_stopping_patience': 19, 'lr_reduce_factor': 0.5483554624500129, 'lr_reduce_patience': 42, 'min_lr': 2.673828448617049e-06}. Best is trial 506 with value: 0.8921898928024502.\u001b[0m\n"
     ]
    },
    {
     "name": "stdout",
     "output_type": "stream",
     "text": [
      "Early stopping\n",
      "Trial 1920 completado. Mejor precisión en validación: 0.8836140888208269\n",
      "Usando GPU para el Trial 1921\n",
      "Entrenando Trial 1921...\n"
     ]
    },
    {
     "name": "stderr",
     "output_type": "stream",
     "text": [
      "\u001b[32m[I 2023-12-01 18:39:39,109]\u001b[0m Trial 1921 finished with value: 0.8588055130168454 and parameters: {'n_layers': 2, 'n_units_l0': 2048, 'activation_l0': 'LeakyReLU', 'dropout_l0': 0.13888599255522155, 'batch_norm_l0': False, 'l2_reg_l0': 0.0166973961364289, 'leakyrelu_alpha_l0': 0.21316534281860344, 'n_units_l1': 1024, 'activation_l1': 'SELU', 'dropout_l1': 0.4112902064228035, 'batch_norm_l1': False, 'l2_reg_l1': 2.209454116919309e-05, 'optimizer': 'RMSprop', 'lr': 0.0004303976235741367, 'rmsprop_alpha': 0.9359098106503151, 'epochs': 503, 'batch_size': 256, 'early_stopping_patience': 17, 'lr_reduce_factor': 0.20106638506021468, 'lr_reduce_patience': 41, 'min_lr': 3.70832407682384e-05}. Best is trial 506 with value: 0.8921898928024502.\u001b[0m\n"
     ]
    },
    {
     "name": "stdout",
     "output_type": "stream",
     "text": [
      "Early stopping\n",
      "Trial 1921 completado. Mejor precisión en validación: 0.8588055130168454\n",
      "Usando GPU para el Trial 1922\n",
      "Entrenando Trial 1922...\n"
     ]
    },
    {
     "name": "stderr",
     "output_type": "stream",
     "text": [
      "\u001b[32m[I 2023-12-01 18:40:28,439]\u001b[0m Trial 1922 finished with value: 0.8777947932618683 and parameters: {'n_layers': 6, 'n_units_l0': 2048, 'activation_l0': 'LeakyReLU', 'dropout_l0': 0.09636727550228423, 'batch_norm_l0': False, 'l2_reg_l0': 0.005061591003625302, 'leakyrelu_alpha_l0': 0.10934362137256186, 'n_units_l1': 512, 'activation_l1': 'Tanh', 'dropout_l1': 0.09531932542745604, 'batch_norm_l1': False, 'l2_reg_l1': 0.021440080200414453, 'n_units_l2': 1024, 'activation_l2': 'ReLU', 'dropout_l2': 0.23556781351758263, 'batch_norm_l2': True, 'l2_reg_l2': 0.06821646172617732, 'n_units_l3': 2048, 'activation_l3': 'LeakyReLU', 'dropout_l3': 0.4152451038563326, 'batch_norm_l3': True, 'l2_reg_l3': 0.0009724105429447177, 'leakyrelu_alpha_l3': 0.16499291451258863, 'n_units_l4': 64, 'activation_l4': 'LeakyReLU', 'dropout_l4': 0.4644658276099618, 'batch_norm_l4': True, 'l2_reg_l4': 0.013000305792156903, 'leakyrelu_alpha_l4': 0.25505800333361595, 'n_units_l5': 16, 'activation_l5': 'SELU', 'dropout_l5': 0.08364633438540364, 'batch_norm_l5': False, 'l2_reg_l5': 0.0003237862439808315, 'optimizer': 'RMSprop', 'lr': 0.0019523886380591123, 'rmsprop_alpha': 0.9059826545457913, 'epochs': 1807, 'batch_size': 128, 'early_stopping_patience': 16, 'lr_reduce_factor': 0.43455115904866476, 'lr_reduce_patience': 46, 'min_lr': 5.080374133633375e-06}. Best is trial 506 with value: 0.8921898928024502.\u001b[0m\n"
     ]
    },
    {
     "name": "stdout",
     "output_type": "stream",
     "text": [
      "Early stopping\n",
      "Trial 1922 completado. Mejor precisión en validación: 0.8777947932618683\n",
      "Usando GPU para el Trial 1923\n",
      "Entrenando Trial 1923...\n"
     ]
    },
    {
     "name": "stderr",
     "output_type": "stream",
     "text": [
      "\u001b[32m[I 2023-12-01 18:40:54,792]\u001b[0m Trial 1923 finished with value: 0.8309341500765697 and parameters: {'n_layers': 5, 'n_units_l0': 2048, 'activation_l0': 'LeakyReLU', 'dropout_l0': 0.27767795426321074, 'batch_norm_l0': False, 'l2_reg_l0': 0.006465118498171254, 'leakyrelu_alpha_l0': 0.2700551561498581, 'n_units_l1': 256, 'activation_l1': 'Tanh', 'dropout_l1': 0.162021624263071, 'batch_norm_l1': False, 'l2_reg_l1': 0.004457940473104643, 'n_units_l2': 512, 'activation_l2': 'ReLU', 'dropout_l2': 0.325782396307913, 'batch_norm_l2': True, 'l2_reg_l2': 7.620916732168833e-05, 'n_units_l3': 16, 'activation_l3': 'LeakyReLU', 'dropout_l3': 0.4405851778790979, 'batch_norm_l3': True, 'l2_reg_l3': 1.2273701761421611e-05, 'leakyrelu_alpha_l3': 0.05674000872575875, 'n_units_l4': 64, 'activation_l4': 'LeakyReLU', 'dropout_l4': 0.3566692079119304, 'batch_norm_l4': False, 'l2_reg_l4': 3.440331849237022e-05, 'leakyrelu_alpha_l4': 0.1796421450043726, 'optimizer': 'RMSprop', 'lr': 2.303641154226824e-05, 'rmsprop_alpha': 0.9410188110588996, 'epochs': 581, 'batch_size': 128, 'early_stopping_patience': 18, 'lr_reduce_factor': 0.2741837041175342, 'lr_reduce_patience': 35, 'min_lr': 4.193574711845213e-05}. Best is trial 506 with value: 0.8921898928024502.\u001b[0m\n"
     ]
    },
    {
     "name": "stdout",
     "output_type": "stream",
     "text": [
      "Early stopping\n",
      "Trial 1923 completado. Mejor precisión en validación: 0.8309341500765697\n",
      "Usando GPU para el Trial 1924\n",
      "Entrenando Trial 1924...\n"
     ]
    },
    {
     "name": "stderr",
     "output_type": "stream",
     "text": [
      "                                                                                                                                                                                                                                        \r"
     ]
    },
    {
     "name": "stdout",
     "output_type": "stream",
     "text": [
      "Epoch 00208: reducing learning rate of group 0 to 5.1205e-04.\n"
     ]
    },
    {
     "name": "stderr",
     "output_type": "stream",
     "text": [
      "\u001b[32m[I 2023-12-01 18:42:06,138]\u001b[0m Trial 1924 finished with value: 0.8790199081163859 and parameters: {'n_layers': 3, 'n_units_l0': 128, 'activation_l0': 'LeakyReLU', 'dropout_l0': 0.2977768110302682, 'batch_norm_l0': False, 'l2_reg_l0': 0.0011912517960053785, 'leakyrelu_alpha_l0': 0.17282741212044547, 'n_units_l1': 512, 'activation_l1': 'Tanh', 'dropout_l1': 0.18471677337207965, 'batch_norm_l1': False, 'l2_reg_l1': 0.06786913494093029, 'n_units_l2': 2048, 'activation_l2': 'ReLU', 'dropout_l2': 0.44384391621816843, 'batch_norm_l2': True, 'l2_reg_l2': 0.002108670213146977, 'optimizer': 'RMSprop', 'lr': 0.001239951908754934, 'rmsprop_alpha': 0.9647695986756856, 'epochs': 703, 'batch_size': 256, 'early_stopping_patience': 19, 'lr_reduce_factor': 0.4129577164013983, 'lr_reduce_patience': 49, 'min_lr': 4.958883903867388e-05}. Best is trial 506 with value: 0.8921898928024502.\u001b[0m\n"
     ]
    },
    {
     "name": "stdout",
     "output_type": "stream",
     "text": [
      "Early stopping\n",
      "Trial 1924 completado. Mejor precisión en validación: 0.8790199081163859\n",
      "Usando GPU para el Trial 1925\n",
      "Entrenando Trial 1925...\n"
     ]
    },
    {
     "name": "stderr",
     "output_type": "stream",
     "text": [
      "\u001b[32m[I 2023-12-01 18:42:58,320]\u001b[0m Trial 1925 finished with value: 0.8290964777947932 and parameters: {'n_layers': 7, 'n_units_l0': 2048, 'activation_l0': 'Tanh', 'dropout_l0': 0.15811082164241796, 'batch_norm_l0': False, 'l2_reg_l0': 0.0021766479139672186, 'n_units_l1': 1024, 'activation_l1': 'ReLU', 'dropout_l1': 0.3820004974710834, 'batch_norm_l1': True, 'l2_reg_l1': 0.0009739808302471156, 'n_units_l2': 2048, 'activation_l2': 'ReLU', 'dropout_l2': 0.2971795005258177, 'batch_norm_l2': True, 'l2_reg_l2': 0.004523455963459732, 'n_units_l3': 1024, 'activation_l3': 'LeakyReLU', 'dropout_l3': 0.131926234067847, 'batch_norm_l3': True, 'l2_reg_l3': 0.0007412651083887672, 'leakyrelu_alpha_l3': 0.10897629402568382, 'n_units_l4': 32, 'activation_l4': 'SELU', 'dropout_l4': 0.2255346653041289, 'batch_norm_l4': True, 'l2_reg_l4': 1.4488824297841079e-05, 'n_units_l5': 32, 'activation_l5': 'ELU', 'dropout_l5': 0.38040622545588415, 'batch_norm_l5': False, 'l2_reg_l5': 0.005131144063581061, 'n_units_l6': 256, 'activation_l6': 'SELU', 'dropout_l6': 0.41303482520378265, 'batch_norm_l6': True, 'l2_reg_l6': 0.006692280399362874, 'optimizer': 'RMSprop', 'lr': 1.2670699514156666e-05, 'rmsprop_alpha': 0.879135537016767, 'epochs': 1881, 'batch_size': 128, 'early_stopping_patience': 20, 'lr_reduce_factor': 0.13100292461746027, 'lr_reduce_patience': 39, 'min_lr': 2.6185241090052382e-05}. Best is trial 506 with value: 0.8921898928024502.\u001b[0m\n"
     ]
    },
    {
     "name": "stdout",
     "output_type": "stream",
     "text": [
      "Early stopping\n",
      "Trial 1925 completado. Mejor precisión en validación: 0.8290964777947932\n",
      "Usando GPU para el Trial 1926\n",
      "Entrenando Trial 1926...\n"
     ]
    },
    {
     "name": "stderr",
     "output_type": "stream",
     "text": [
      "\u001b[32m[I 2023-12-01 18:44:20,454]\u001b[0m Trial 1926 finished with value: 0.8762633996937212 and parameters: {'n_layers': 9, 'n_units_l0': 2048, 'activation_l0': 'LeakyReLU', 'dropout_l0': 0.22647990793397485, 'batch_norm_l0': False, 'l2_reg_l0': 0.03051921166706918, 'leakyrelu_alpha_l0': 0.19378749688796612, 'n_units_l1': 512, 'activation_l1': 'Tanh', 'dropout_l1': 0.3285731603704655, 'batch_norm_l1': False, 'l2_reg_l1': 0.08151250368124166, 'n_units_l2': 1024, 'activation_l2': 'ReLU', 'dropout_l2': 0.2587517549475906, 'batch_norm_l2': True, 'l2_reg_l2': 0.0056606407519676554, 'n_units_l3': 2048, 'activation_l3': 'ReLU', 'dropout_l3': 0.09588275821059139, 'batch_norm_l3': True, 'l2_reg_l3': 0.0026014245746929835, 'n_units_l4': 1024, 'activation_l4': 'Tanh', 'dropout_l4': 0.30803285396469343, 'batch_norm_l4': True, 'l2_reg_l4': 0.0011023888763989648, 'n_units_l5': 16, 'activation_l5': 'LeakyReLU', 'dropout_l5': 0.2100250010299864, 'batch_norm_l5': True, 'l2_reg_l5': 0.03764057247150695, 'leakyrelu_alpha_l5': 0.03099906863595732, 'n_units_l6': 16, 'activation_l6': 'LeakyReLU', 'dropout_l6': 0.4699634610411706, 'batch_norm_l6': True, 'l2_reg_l6': 0.0001317597724052676, 'leakyrelu_alpha_l6': 0.21936033293721222, 'n_units_l7': 32, 'activation_l7': 'ELU', 'dropout_l7': 0.18764042463660774, 'batch_norm_l7': False, 'l2_reg_l7': 0.00013277858791694235, 'n_units_l8': 1024, 'activation_l8': 'LeakyReLU', 'dropout_l8': 0.3556247204258968, 'batch_norm_l8': False, 'l2_reg_l8': 0.060900666215486524, 'leakyrelu_alpha_l8': 0.08995554970726823, 'optimizer': 'RMSprop', 'lr': 0.0006735686916798868, 'rmsprop_alpha': 0.8533615828942123, 'epochs': 96, 'batch_size': 128, 'early_stopping_patience': 19, 'lr_reduce_factor': 0.6165034816049373, 'lr_reduce_patience': 43, 'min_lr': 2.9293060411584814e-06}. Best is trial 506 with value: 0.8921898928024502.\u001b[0m\n"
     ]
    },
    {
     "name": "stdout",
     "output_type": "stream",
     "text": [
      "Early stopping\n",
      "Trial 1926 completado. Mejor precisión en validación: 0.8762633996937212\n",
      "Usando GPU para el Trial 1927\n",
      "Entrenando Trial 1927...\n"
     ]
    },
    {
     "name": "stderr",
     "output_type": "stream",
     "text": [
      "\u001b[32m[I 2023-12-01 18:44:43,310]\u001b[0m Trial 1927 finished with value: 0.8805513016845329 and parameters: {'n_layers': 4, 'n_units_l0': 2048, 'activation_l0': 'LeakyReLU', 'dropout_l0': 0.081930393130224, 'batch_norm_l0': False, 'l2_reg_l0': 0.011224073299885621, 'leakyrelu_alpha_l0': 0.1596178267222136, 'n_units_l1': 512, 'activation_l1': 'Tanh', 'dropout_l1': 0.10549094543471085, 'batch_norm_l1': False, 'l2_reg_l1': 0.006195870584372285, 'n_units_l2': 2048, 'activation_l2': 'ReLU', 'dropout_l2': 0.45806451521129227, 'batch_norm_l2': True, 'l2_reg_l2': 0.003794609436510355, 'n_units_l3': 32, 'activation_l3': 'LeakyReLU', 'dropout_l3': 0.2015869286429282, 'batch_norm_l3': False, 'l2_reg_l3': 0.0038283965051910526, 'leakyrelu_alpha_l3': 0.20776713704865762, 'optimizer': 'RMSprop', 'lr': 0.0009833587554613995, 'rmsprop_alpha': 0.9688406906968273, 'epochs': 345, 'batch_size': 256, 'early_stopping_patience': 16, 'lr_reduce_factor': 0.47923528893599665, 'lr_reduce_patience': 25, 'min_lr': 1.3337324321758262e-06}. Best is trial 506 with value: 0.8921898928024502.\u001b[0m\n"
     ]
    },
    {
     "name": "stdout",
     "output_type": "stream",
     "text": [
      "Early stopping\n",
      "Trial 1927 completado. Mejor precisión en validación: 0.8805513016845329\n",
      "Usando GPU para el Trial 1928\n",
      "Entrenando Trial 1928...\n"
     ]
    },
    {
     "name": "stderr",
     "output_type": "stream",
     "text": [
      "\u001b[32m[I 2023-12-01 18:44:53,242]\u001b[0m Trial 1928 finished with value: 0.678407350689127 and parameters: {'n_layers': 8, 'n_units_l0': 2048, 'activation_l0': 'LeakyReLU', 'dropout_l0': 0.18218267179532543, 'batch_norm_l0': False, 'l2_reg_l0': 1.9261635048234286e-05, 'leakyrelu_alpha_l0': 0.23823787362994342, 'n_units_l1': 1024, 'activation_l1': 'Tanh', 'dropout_l1': 0.27644862540791526, 'batch_norm_l1': False, 'l2_reg_l1': 0.00025378046369195967, 'n_units_l2': 2048, 'activation_l2': 'ReLU', 'dropout_l2': 0.3586653672405338, 'batch_norm_l2': True, 'l2_reg_l2': 2.500705719298282e-05, 'n_units_l3': 2048, 'activation_l3': 'Tanh', 'dropout_l3': 0.4269504210400451, 'batch_norm_l3': True, 'l2_reg_l3': 0.07537155831737373, 'n_units_l4': 64, 'activation_l4': 'LeakyReLU', 'dropout_l4': 0.3908919701638615, 'batch_norm_l4': True, 'l2_reg_l4': 0.06879710674373309, 'leakyrelu_alpha_l4': 0.2665054420945785, 'n_units_l5': 16, 'activation_l5': 'ELU', 'dropout_l5': 0.057171421195495495, 'batch_norm_l5': False, 'l2_reg_l5': 0.054075157648864045, 'n_units_l6': 2048, 'activation_l6': 'SELU', 'dropout_l6': 0.3359656496574977, 'batch_norm_l6': True, 'l2_reg_l6': 0.0007111263275302891, 'n_units_l7': 512, 'activation_l7': 'LeakyReLU', 'dropout_l7': 0.07450001628904654, 'batch_norm_l7': False, 'l2_reg_l7': 0.005277657134964643, 'leakyrelu_alpha_l7': 0.2934962866061475, 'optimizer': 'RMSprop', 'lr': 0.08696616257436918, 'rmsprop_alpha': 0.9308705527706768, 'epochs': 273, 'batch_size': 512, 'early_stopping_patience': 18, 'lr_reduce_factor': 0.18296671005030937, 'lr_reduce_patience': 44, 'min_lr': 8.661158534851673e-06}. Best is trial 506 with value: 0.8921898928024502.\u001b[0m\n"
     ]
    },
    {
     "name": "stdout",
     "output_type": "stream",
     "text": [
      "Early stopping\n",
      "Trial 1928 completado. Mejor precisión en validación: 0.678407350689127\n",
      "Usando GPU para el Trial 1929\n",
      "Entrenando Trial 1929...\n"
     ]
    },
    {
     "name": "stderr",
     "output_type": "stream",
     "text": [
      "\u001b[32m[I 2023-12-01 18:45:10,809]\u001b[0m Trial 1929 finished with value: 0.8297090352220521 and parameters: {'n_layers': 5, 'n_units_l0': 16, 'activation_l0': 'SELU', 'dropout_l0': 0.04650437831693849, 'batch_norm_l0': False, 'l2_reg_l0': 1.0100442492456347e-05, 'n_units_l1': 512, 'activation_l1': 'Tanh', 'dropout_l1': 0.13176566430458925, 'batch_norm_l1': False, 'l2_reg_l1': 1.2595131365504163e-05, 'n_units_l2': 256, 'activation_l2': 'Tanh', 'dropout_l2': 0.3396917464796462, 'batch_norm_l2': True, 'l2_reg_l2': 0.04783411551531398, 'n_units_l3': 1024, 'activation_l3': 'LeakyReLU', 'dropout_l3': 0.378379142105028, 'batch_norm_l3': True, 'l2_reg_l3': 0.01074755933305311, 'leakyrelu_alpha_l3': 0.23650816620977447, 'n_units_l4': 64, 'activation_l4': 'ELU', 'dropout_l4': 0.3374305053171874, 'batch_norm_l4': True, 'l2_reg_l4': 0.00011692624385960776, 'optimizer': 'RMSprop', 'lr': 0.0002922724169216214, 'rmsprop_alpha': 0.8857733756849913, 'epochs': 389, 'batch_size': 2048, 'early_stopping_patience': 20, 'lr_reduce_factor': 0.6857300245701887, 'lr_reduce_patience': 47, 'min_lr': 1.7084692375961927e-05}. Best is trial 506 with value: 0.8921898928024502.\u001b[0m\n"
     ]
    },
    {
     "name": "stdout",
     "output_type": "stream",
     "text": [
      "Early stopping\n",
      "Trial 1929 completado. Mejor precisión en validación: 0.8297090352220521\n",
      "Usando GPU para el Trial 1930\n",
      "Entrenando Trial 1930...\n"
     ]
    },
    {
     "name": "stderr",
     "output_type": "stream",
     "text": [
      "\u001b[32m[I 2023-12-01 18:45:47,396]\u001b[0m Trial 1930 finished with value: 0.8520673813169984 and parameters: {'n_layers': 6, 'n_units_l0': 256, 'activation_l0': 'LeakyReLU', 'dropout_l0': 0.07001130740786836, 'batch_norm_l0': False, 'l2_reg_l0': 0.000797024781735608, 'leakyrelu_alpha_l0': 0.2505610930551522, 'n_units_l1': 512, 'activation_l1': 'Tanh', 'dropout_l1': 0.3973870668447896, 'batch_norm_l1': False, 'l2_reg_l1': 0.0005474767916568985, 'n_units_l2': 64, 'activation_l2': 'ReLU', 'dropout_l2': 0.40493170033393955, 'batch_norm_l2': True, 'l2_reg_l2': 0.000933198281961187, 'n_units_l3': 2048, 'activation_l3': 'SELU', 'dropout_l3': 0.17390685317410598, 'batch_norm_l3': True, 'l2_reg_l3': 0.0075196646530199, 'n_units_l4': 256, 'activation_l4': 'ReLU', 'dropout_l4': 0.2787601921589866, 'batch_norm_l4': True, 'l2_reg_l4': 0.0003169962667915636, 'n_units_l5': 2048, 'activation_l5': 'LeakyReLU', 'dropout_l5': 0.030946696146638225, 'batch_norm_l5': False, 'l2_reg_l5': 0.0023068812453749254, 'leakyrelu_alpha_l5': 0.05095536932236266, 'optimizer': 'RMSprop', 'lr': 0.0005453838911701091, 'rmsprop_alpha': 0.869026278645479, 'epochs': 231, 'batch_size': 128, 'early_stopping_patience': 19, 'lr_reduce_factor': 0.23598409980178808, 'lr_reduce_patience': 38, 'min_lr': 6.635410762245639e-06}. Best is trial 506 with value: 0.8921898928024502.\u001b[0m\n"
     ]
    },
    {
     "name": "stdout",
     "output_type": "stream",
     "text": [
      "Early stopping\n",
      "Trial 1930 completado. Mejor precisión en validación: 0.8520673813169984\n",
      "Usando GPU para el Trial 1931\n",
      "Entrenando Trial 1931...\n"
     ]
    },
    {
     "name": "stderr",
     "output_type": "stream",
     "text": [
      "\u001b[32m[I 2023-12-01 18:46:54,881]\u001b[0m Trial 1931 finished with value: 0.8679938744257274 and parameters: {'n_layers': 4, 'n_units_l0': 2048, 'activation_l0': 'ReLU', 'dropout_l0': 0.4372868395892843, 'batch_norm_l0': False, 'l2_reg_l0': 0.00010902536758915837, 'n_units_l1': 32, 'activation_l1': 'Tanh', 'dropout_l1': 0.3710028762342721, 'batch_norm_l1': False, 'l2_reg_l1': 0.0007938137696431353, 'n_units_l2': 2048, 'activation_l2': 'ReLU', 'dropout_l2': 0.31359334365908365, 'batch_norm_l2': True, 'l2_reg_l2': 0.0006948953712805702, 'n_units_l3': 1024, 'activation_l3': 'LeakyReLU', 'dropout_l3': 0.2502953071654953, 'batch_norm_l3': True, 'l2_reg_l3': 1.6560060752595053e-05, 'leakyrelu_alpha_l3': 0.1311215515398083, 'optimizer': 'RMSprop', 'lr': 0.0003466795722046288, 'rmsprop_alpha': 0.9718827916940066, 'epochs': 300, 'batch_size': 128, 'early_stopping_patience': 20, 'lr_reduce_factor': 0.30825995752778823, 'lr_reduce_patience': 45, 'min_lr': 7.774586708546515e-06}. Best is trial 506 with value: 0.8921898928024502.\u001b[0m\n"
     ]
    },
    {
     "name": "stdout",
     "output_type": "stream",
     "text": [
      "Early stopping\n",
      "Trial 1931 completado. Mejor precisión en validación: 0.8679938744257274\n",
      "Usando GPU para el Trial 1932\n",
      "Entrenando Trial 1932...\n"
     ]
    },
    {
     "name": "stderr",
     "output_type": "stream",
     "text": [
      "\u001b[32m[I 2023-12-01 18:50:39,618]\u001b[0m Trial 1932 finished with value: 0.8545176110260337 and parameters: {'n_layers': 7, 'n_units_l0': 512, 'activation_l0': 'LeakyReLU', 'dropout_l0': 0.11195623837669885, 'batch_norm_l0': False, 'l2_reg_l0': 0.00029954765040758353, 'leakyrelu_alpha_l0': 0.22350566164490326, 'n_units_l1': 512, 'activation_l1': 'LeakyReLU', 'dropout_l1': 0.17335331713197458, 'batch_norm_l1': False, 'l2_reg_l1': 0.002936136592649869, 'leakyrelu_alpha_l1': 0.03193661812103234, 'n_units_l2': 1024, 'activation_l2': 'ReLU', 'dropout_l2': 0.1333746292071879, 'batch_norm_l2': True, 'l2_reg_l2': 0.00014836725567889448, 'n_units_l3': 2048, 'activation_l3': 'ELU', 'dropout_l3': 0.017297546213648582, 'batch_norm_l3': True, 'l2_reg_l3': 0.013825771460783174, 'n_units_l4': 64, 'activation_l4': 'LeakyReLU', 'dropout_l4': 0.4278856182280086, 'batch_norm_l4': True, 'l2_reg_l4': 1.2288381296894906e-05, 'leakyrelu_alpha_l4': 0.048560340014668885, 'n_units_l5': 16, 'activation_l5': 'ReLU', 'dropout_l5': 0.2725002684988875, 'batch_norm_l5': False, 'l2_reg_l5': 0.0001271847074695859, 'n_units_l6': 128, 'activation_l6': 'LeakyReLU', 'dropout_l6': 0.09840387209797827, 'batch_norm_l6': True, 'l2_reg_l6': 4.112801943480139e-05, 'leakyrelu_alpha_l6': 0.07466619535645073, 'optimizer': 'RMSprop', 'lr': 0.027101315098251234, 'rmsprop_alpha': 0.9565319031287657, 'epochs': 1997, 'batch_size': 16, 'early_stopping_patience': 17, 'lr_reduce_factor': 0.38397119456619083, 'lr_reduce_patience': 40, 'min_lr': 5.4864308727226565e-05}. Best is trial 506 with value: 0.8921898928024502.\u001b[0m\n"
     ]
    },
    {
     "name": "stdout",
     "output_type": "stream",
     "text": [
      "Early stopping\n",
      "Trial 1932 completado. Mejor precisión en validación: 0.8545176110260337\n",
      "Usando GPU para el Trial 1933\n",
      "Entrenando Trial 1933...\n"
     ]
    },
    {
     "name": "stderr",
     "output_type": "stream",
     "text": [
      "\u001b[32m[I 2023-12-01 18:51:29,679]\u001b[0m Trial 1933 finished with value: 0.853292496171516 and parameters: {'n_layers': 6, 'n_units_l0': 2048, 'activation_l0': 'LeakyReLU', 'dropout_l0': 0.05953600226469993, 'batch_norm_l0': False, 'l2_reg_l0': 0.00015018687094803517, 'leakyrelu_alpha_l0': 0.20639715468997366, 'n_units_l1': 1024, 'activation_l1': 'Tanh', 'dropout_l1': 0.3421466918078984, 'batch_norm_l1': False, 'l2_reg_l1': 2.864975030929179e-05, 'n_units_l2': 2048, 'activation_l2': 'ReLU', 'dropout_l2': 0.07616345180481279, 'batch_norm_l2': True, 'l2_reg_l2': 0.00044497641331124637, 'n_units_l3': 128, 'activation_l3': 'LeakyReLU', 'dropout_l3': 0.4886168418630462, 'batch_norm_l3': True, 'l2_reg_l3': 8.11762399452852e-05, 'leakyrelu_alpha_l3': 0.14508771059472433, 'n_units_l4': 16, 'activation_l4': 'LeakyReLU', 'dropout_l4': 0.37574651817064564, 'batch_norm_l4': True, 'l2_reg_l4': 2.2399993823406474e-05, 'leakyrelu_alpha_l4': 0.11680784063347685, 'n_units_l5': 512, 'activation_l5': 'SELU', 'dropout_l5': 0.09496370779205096, 'batch_norm_l5': False, 'l2_reg_l5': 0.003969646262115849, 'optimizer': 'RMSprop', 'lr': 2.364503967742916e-05, 'rmsprop_alpha': 0.9143310791347097, 'epochs': 609, 'batch_size': 256, 'early_stopping_patience': 18, 'lr_reduce_factor': 0.15253028381268163, 'lr_reduce_patience': 42, 'min_lr': 1.9155589332853433e-06}. Best is trial 506 with value: 0.8921898928024502.\u001b[0m\n"
     ]
    },
    {
     "name": "stdout",
     "output_type": "stream",
     "text": [
      "Early stopping\n",
      "Trial 1933 completado. Mejor precisión en validación: 0.853292496171516\n",
      "Usando GPU para el Trial 1934\n",
      "Entrenando Trial 1934...\n"
     ]
    },
    {
     "name": "stderr",
     "output_type": "stream",
     "text": [
      "                                                                                                                                                                                                                                        \r"
     ]
    },
    {
     "name": "stdout",
     "output_type": "stream",
     "text": [
      "Epoch 00147: reducing learning rate of group 0 to 1.7144e-03.\n"
     ]
    },
    {
     "name": "stderr",
     "output_type": "stream",
     "text": [
      "\u001b[32m[I 2023-12-01 18:53:22,044]\u001b[0m Trial 1934 finished with value: 0.8753445635528331 and parameters: {'n_layers': 5, 'n_units_l0': 2048, 'activation_l0': 'LeakyReLU', 'dropout_l0': 0.398392233192056, 'batch_norm_l0': False, 'l2_reg_l0': 4.315777723309267e-05, 'leakyrelu_alpha_l0': 0.029788276740854047, 'n_units_l1': 512, 'activation_l1': 'Tanh', 'dropout_l1': 0.07435561306055205, 'batch_norm_l1': False, 'l2_reg_l1': 0.0038365606364966854, 'n_units_l2': 128, 'activation_l2': 'ReLU', 'dropout_l2': 0.24367444896262652, 'batch_norm_l2': True, 'l2_reg_l2': 0.0002502859733814042, 'n_units_l3': 2048, 'activation_l3': 'LeakyReLU', 'dropout_l3': 0.21853587571874178, 'batch_norm_l3': True, 'l2_reg_l3': 0.00490878060386751, 'leakyrelu_alpha_l3': 0.17415100622001523, 'n_units_l4': 2048, 'activation_l4': 'LeakyReLU', 'dropout_l4': 0.25873622673913255, 'batch_norm_l4': True, 'l2_reg_l4': 0.00027128850618747806, 'leakyrelu_alpha_l4': 0.08128005741463892, 'optimizer': 'RMSprop', 'lr': 0.0030151034714270327, 'rmsprop_alpha': 0.8846565213949036, 'epochs': 176, 'batch_size': 128, 'early_stopping_patience': 19, 'lr_reduce_factor': 0.5686110727777625, 'lr_reduce_patience': 43, 'min_lr': 1.2847886739622965e-05}. Best is trial 506 with value: 0.8921898928024502.\u001b[0m\n"
     ]
    },
    {
     "name": "stdout",
     "output_type": "stream",
     "text": [
      "Trial 1934 completado. Mejor precisión en validación: 0.8753445635528331\n",
      "Usando GPU para el Trial 1935\n",
      "Entrenando Trial 1935...\n"
     ]
    },
    {
     "name": "stderr",
     "output_type": "stream",
     "text": [
      "                                                                                                                                                                                                                                        \r"
     ]
    },
    {
     "name": "stdout",
     "output_type": "stream",
     "text": [
      "Epoch 00064: reducing learning rate of group 0 to 6.4937e-04.\n"
     ]
    },
    {
     "name": "stderr",
     "output_type": "stream",
     "text": [
      "\u001b[32m[I 2023-12-01 18:54:30,889]\u001b[0m Trial 1935 finished with value: 0.8670750382848392 and parameters: {'n_layers': 3, 'n_units_l0': 2048, 'activation_l0': 'LeakyReLU', 'dropout_l0': 0.4199894037717576, 'batch_norm_l0': True, 'l2_reg_l0': 1.43857792202026e-05, 'leakyrelu_alpha_l0': 0.23052712556896043, 'n_units_l1': 512, 'activation_l1': 'Tanh', 'dropout_l1': 0.32033708914124204, 'batch_norm_l1': False, 'l2_reg_l1': 1.805135073171003e-05, 'n_units_l2': 2048, 'activation_l2': 'ReLU', 'dropout_l2': 0.2809970532143536, 'batch_norm_l2': True, 'l2_reg_l2': 0.002807069947023966, 'optimizer': 'RMSprop', 'lr': 0.00108663037696634, 'rmsprop_alpha': 0.9518609221380132, 'epochs': 1846, 'batch_size': 64, 'early_stopping_patience': 19, 'lr_reduce_factor': 0.5976031861601483, 'lr_reduce_patience': 41, 'min_lr': 4.643328502650565e-06}. Best is trial 506 with value: 0.8921898928024502.\u001b[0m\n"
     ]
    },
    {
     "name": "stdout",
     "output_type": "stream",
     "text": [
      "Early stopping\n",
      "Trial 1935 completado. Mejor precisión en validación: 0.8670750382848392\n",
      "Usando GPU para el Trial 1936\n",
      "Entrenando Trial 1936...\n"
     ]
    },
    {
     "name": "stderr",
     "output_type": "stream",
     "text": [
      "\u001b[32m[I 2023-12-01 18:56:32,675]\u001b[0m Trial 1936 finished with value: 0.8309341500765697 and parameters: {'n_layers': 7, 'n_units_l0': 32, 'activation_l0': 'LeakyReLU', 'dropout_l0': 0.008416396685930937, 'batch_norm_l0': False, 'l2_reg_l0': 2.8024574969276706e-05, 'leakyrelu_alpha_l0': 0.2870183720119303, 'n_units_l1': 64, 'activation_l1': 'Tanh', 'dropout_l1': 0.42348416755794804, 'batch_norm_l1': False, 'l2_reg_l1': 0.0021407348458747726, 'n_units_l2': 1024, 'activation_l2': 'ReLU', 'dropout_l2': 0.16243667239768195, 'batch_norm_l2': True, 'l2_reg_l2': 0.020080668765465465, 'n_units_l3': 16, 'activation_l3': 'SELU', 'dropout_l3': 0.46317971370120925, 'batch_norm_l3': True, 'l2_reg_l3': 0.05953492649866922, 'n_units_l4': 64, 'activation_l4': 'ELU', 'dropout_l4': 0.3189784495305374, 'batch_norm_l4': True, 'l2_reg_l4': 2.814000056595157e-05, 'n_units_l5': 16, 'activation_l5': 'ELU', 'dropout_l5': 0.3523209056890787, 'batch_norm_l5': True, 'l2_reg_l5': 1.1583202788107308e-05, 'n_units_l6': 2048, 'activation_l6': 'ReLU', 'dropout_l6': 0.16343723941538113, 'batch_norm_l6': True, 'l2_reg_l6': 0.00018257509401437084, 'optimizer': 'SGD', 'lr': 0.0008767850028795919, 'sgd_momentum': 0.8171211482796601, 'epochs': 1961, 'batch_size': 128, 'early_stopping_patience': 20, 'lr_reduce_factor': 0.25773977701233075, 'lr_reduce_patience': 44, 'min_lr': 1.1666954438980618e-05}. Best is trial 506 with value: 0.8921898928024502.\u001b[0m\n"
     ]
    },
    {
     "name": "stdout",
     "output_type": "stream",
     "text": [
      "Early stopping\n",
      "Trial 1936 completado. Mejor precisión en validación: 0.8309341500765697\n",
      "Usando GPU para el Trial 1937\n",
      "Entrenando Trial 1937...\n"
     ]
    },
    {
     "name": "stderr",
     "output_type": "stream",
     "text": [
      "\u001b[32m[I 2023-12-01 18:57:41,729]\u001b[0m Trial 1937 finished with value: 0.8820826952526799 and parameters: {'n_layers': 6, 'n_units_l0': 2048, 'activation_l0': 'LeakyReLU', 'dropout_l0': 0.15507149055890299, 'batch_norm_l0': False, 'l2_reg_l0': 6.134741084896529e-05, 'leakyrelu_alpha_l0': 0.1836682237434666, 'n_units_l1': 1024, 'activation_l1': 'Tanh', 'dropout_l1': 0.15041981560251189, 'batch_norm_l1': False, 'l2_reg_l1': 0.02674320441918131, 'n_units_l2': 2048, 'activation_l2': 'ReLU', 'dropout_l2': 0.30550464591533655, 'batch_norm_l2': True, 'l2_reg_l2': 0.03900879481410378, 'n_units_l3': 1024, 'activation_l3': 'LeakyReLU', 'dropout_l3': 0.3582484668430108, 'batch_norm_l3': False, 'l2_reg_l3': 0.0018924011518131464, 'leakyrelu_alpha_l3': 0.1169190385841964, 'n_units_l4': 64, 'activation_l4': 'ReLU', 'dropout_l4': 0.36487253875493186, 'batch_norm_l4': True, 'l2_reg_l4': 0.00016425643428155093, 'n_units_l5': 32, 'activation_l5': 'LeakyReLU', 'dropout_l5': 0.12124502346120958, 'batch_norm_l5': False, 'l2_reg_l5': 0.0007823694442605389, 'leakyrelu_alpha_l5': 0.07502641273982309, 'optimizer': 'RMSprop', 'lr': 0.0014398792303327124, 'rmsprop_alpha': 0.9110174061258399, 'epochs': 429, 'batch_size': 128, 'early_stopping_patience': 17, 'lr_reduce_factor': 0.6631687404272064, 'lr_reduce_patience': 35, 'min_lr': 6.085363494313902e-06}. Best is trial 506 with value: 0.8921898928024502.\u001b[0m\n"
     ]
    },
    {
     "name": "stdout",
     "output_type": "stream",
     "text": [
      "Early stopping\n",
      "Trial 1937 completado. Mejor precisión en validación: 0.8820826952526799\n",
      "Usando GPU para el Trial 1938\n",
      "Entrenando Trial 1938...\n"
     ]
    },
    {
     "name": "stderr",
     "output_type": "stream",
     "text": [
      "\u001b[32m[I 2023-12-01 18:59:50,298]\u001b[0m Trial 1938 finished with value: 0.851761102603369 and parameters: {'n_layers': 8, 'n_units_l0': 2048, 'activation_l0': 'LeakyReLU', 'dropout_l0': 0.03488845696561032, 'batch_norm_l0': False, 'l2_reg_l0': 0.001592045657525109, 'leakyrelu_alpha_l0': 0.12279887779723779, 'n_units_l1': 512, 'activation_l1': 'Tanh', 'dropout_l1': 0.2618325661222895, 'batch_norm_l1': False, 'l2_reg_l1': 0.0520588362452136, 'n_units_l2': 2048, 'activation_l2': 'ReLU', 'dropout_l2': 0.2140763814208735, 'batch_norm_l2': True, 'l2_reg_l2': 9.287734324579924e-05, 'n_units_l3': 2048, 'activation_l3': 'LeakyReLU', 'dropout_l3': 0.18749056324717536, 'batch_norm_l3': True, 'l2_reg_l3': 0.099699150472109, 'leakyrelu_alpha_l3': 0.2457651276628417, 'n_units_l4': 64, 'activation_l4': 'SELU', 'dropout_l4': 0.40608746353888825, 'batch_norm_l4': True, 'l2_reg_l4': 9.236303587610438e-05, 'n_units_l5': 16, 'activation_l5': 'ELU', 'dropout_l5': 0.30036205806971616, 'batch_norm_l5': False, 'l2_reg_l5': 0.0016951239040233937, 'n_units_l6': 32, 'activation_l6': 'Tanh', 'dropout_l6': 0.22398863627987828, 'batch_norm_l6': True, 'l2_reg_l6': 8.112450123800404e-05, 'n_units_l7': 64, 'activation_l7': 'SELU', 'dropout_l7': 0.00016465250083341765, 'batch_norm_l7': True, 'l2_reg_l7': 0.0002017611280850908, 'optimizer': 'RMSprop', 'lr': 0.0022876108510898377, 'rmsprop_alpha': 0.924020721211609, 'epochs': 339, 'batch_size': 32, 'early_stopping_patience': 15, 'lr_reduce_factor': 0.32553483767362534, 'lr_reduce_patience': 36, 'min_lr': 2.3983918669508776e-06}. Best is trial 506 with value: 0.8921898928024502.\u001b[0m\n"
     ]
    },
    {
     "name": "stdout",
     "output_type": "stream",
     "text": [
      "Early stopping\n",
      "Trial 1938 completado. Mejor precisión en validación: 0.851761102603369\n",
      "Usando GPU para el Trial 1939\n",
      "Entrenando Trial 1939...\n"
     ]
    },
    {
     "name": "stderr",
     "output_type": "stream",
     "text": [
      "\u001b[32m[I 2023-12-01 19:00:28,880]\u001b[0m Trial 1939 finished with value: 0.8554364471669219 and parameters: {'n_layers': 5, 'n_units_l0': 2048, 'activation_l0': 'SELU', 'dropout_l0': 0.4383101018327885, 'batch_norm_l0': False, 'l2_reg_l0': 0.003817085438395621, 'n_units_l1': 16, 'activation_l1': 'Tanh', 'dropout_l1': 0.12142259980482915, 'batch_norm_l1': False, 'l2_reg_l1': 4.00118091808199e-05, 'n_units_l2': 1024, 'activation_l2': 'ReLU', 'dropout_l2': 0.38495126282333136, 'batch_norm_l2': True, 'l2_reg_l2': 0.001371675691744168, 'n_units_l3': 64, 'activation_l3': 'Tanh', 'dropout_l3': 0.30236305032138433, 'batch_norm_l3': True, 'l2_reg_l3': 0.001383159003151981, 'n_units_l4': 64, 'activation_l4': 'LeakyReLU', 'dropout_l4': 0.47399477341919233, 'batch_norm_l4': True, 'l2_reg_l4': 6.147793842838781e-05, 'leakyrelu_alpha_l4': 0.016449031594130387, 'optimizer': 'RMSprop', 'lr': 0.0007143243875202184, 'rmsprop_alpha': 0.9757522992383909, 'epochs': 518, 'batch_size': 256, 'early_stopping_patience': 18, 'lr_reduce_factor': 0.5206762409980048, 'lr_reduce_patience': 42, 'min_lr': 1.5345196428219106e-06}. Best is trial 506 with value: 0.8921898928024502.\u001b[0m\n"
     ]
    },
    {
     "name": "stdout",
     "output_type": "stream",
     "text": [
      "Early stopping\n",
      "Trial 1939 completado. Mejor precisión en validación: 0.8554364471669219\n",
      "Usando GPU para el Trial 1940\n",
      "Entrenando Trial 1940...\n"
     ]
    },
    {
     "name": "stderr",
     "output_type": "stream",
     "text": [
      "\u001b[32m[I 2023-12-01 19:01:13,620]\u001b[0m Trial 1940 finished with value: 0.8312404287901991 and parameters: {'n_layers': 9, 'n_units_l0': 2048, 'activation_l0': 'LeakyReLU', 'dropout_l0': 0.4611773756492066, 'batch_norm_l0': False, 'l2_reg_l0': 0.0023753800468095743, 'leakyrelu_alpha_l0': 0.09419043451263345, 'n_units_l1': 512, 'activation_l1': 'Tanh', 'dropout_l1': 0.2351971795754207, 'batch_norm_l1': False, 'l2_reg_l1': 0.001235967530475784, 'n_units_l2': 2048, 'activation_l2': 'LeakyReLU', 'dropout_l2': 0.41985946262935947, 'batch_norm_l2': True, 'l2_reg_l2': 0.0005681284362392088, 'leakyrelu_alpha_l2': 0.19924487656709913, 'n_units_l3': 1024, 'activation_l3': 'SELU', 'dropout_l3': 0.07664909043194607, 'batch_norm_l3': True, 'l2_reg_l3': 0.0028961118348269483, 'n_units_l4': 256, 'activation_l4': 'LeakyReLU', 'dropout_l4': 0.45491386671535167, 'batch_norm_l4': True, 'l2_reg_l4': 1.0048245968862146e-05, 'leakyrelu_alpha_l4': 0.08423429856869895, 'n_units_l5': 64, 'activation_l5': 'ELU', 'dropout_l5': 0.07666202235324714, 'batch_norm_l5': False, 'l2_reg_l5': 0.075846492049798, 'n_units_l6': 2048, 'activation_l6': 'SELU', 'dropout_l6': 0.36425972378522975, 'batch_norm_l6': True, 'l2_reg_l6': 4.8615630822505134e-05, 'n_units_l7': 128, 'activation_l7': 'LeakyReLU', 'dropout_l7': 0.12267586523932464, 'batch_norm_l7': False, 'l2_reg_l7': 0.0020678494948893514, 'leakyrelu_alpha_l7': 0.23372553245103272, 'n_units_l8': 128, 'activation_l8': 'ELU', 'dropout_l8': 0.39290113145028044, 'batch_norm_l8': True, 'l2_reg_l8': 0.0007242717604421479, 'optimizer': 'RMSprop', 'lr': 0.005436487123037491, 'rmsprop_alpha': 0.9031862593037479, 'epochs': 1933, 'batch_size': 128, 'early_stopping_patience': 19, 'lr_reduce_factor': 0.2874072002869863, 'lr_reduce_patience': 45, 'min_lr': 1.233062165250203e-06}. Best is trial 506 with value: 0.8921898928024502.\u001b[0m\n"
     ]
    },
    {
     "name": "stdout",
     "output_type": "stream",
     "text": [
      "Early stopping\n",
      "Trial 1940 completado. Mejor precisión en validación: 0.8312404287901991\n",
      "Usando GPU para el Trial 1941\n",
      "Entrenando Trial 1941...\n"
     ]
    },
    {
     "name": "stderr",
     "output_type": "stream",
     "text": [
      "                                                                                                                                                                                                                                        \r"
     ]
    },
    {
     "name": "stdout",
     "output_type": "stream",
     "text": [
      "Epoch 00059: reducing learning rate of group 0 to 2.2875e-04.\n"
     ]
    },
    {
     "name": "stderr",
     "output_type": "stream",
     "text": [
      "\u001b[32m[I 2023-12-01 19:02:06,499]\u001b[0m Trial 1941 finished with value: 0.8854517611026034 and parameters: {'n_layers': 4, 'n_units_l0': 2048, 'activation_l0': 'LeakyReLU', 'dropout_l0': 0.20931164242770223, 'batch_norm_l0': False, 'l2_reg_l0': 0.0401587293874436, 'leakyrelu_alpha_l0': 0.13876171663393644, 'n_units_l1': 2048, 'activation_l1': 'Tanh', 'dropout_l1': 0.3548059130525175, 'batch_norm_l1': False, 'l2_reg_l1': 0.01619516211823813, 'n_units_l2': 256, 'activation_l2': 'ReLU', 'dropout_l2': 0.2909669496338126, 'batch_norm_l2': True, 'l2_reg_l2': 0.0017232352526906174, 'n_units_l3': 2048, 'activation_l3': 'LeakyReLU', 'dropout_l3': 0.23071391798650148, 'batch_norm_l3': True, 'l2_reg_l3': 0.03471719080762948, 'leakyrelu_alpha_l3': 0.19056324426863758, 'optimizer': 'RMSprop', 'lr': 0.000456399753747119, 'rmsprop_alpha': 0.983849030025911, 'epochs': 1906, 'batch_size': 128, 'early_stopping_patience': 20, 'lr_reduce_factor': 0.5011962616057182, 'lr_reduce_patience': 27, 'min_lr': 3.448748124260651e-05}. Best is trial 506 with value: 0.8921898928024502.\u001b[0m\n"
     ]
    },
    {
     "name": "stdout",
     "output_type": "stream",
     "text": [
      "Epoch 00087: reducing learning rate of group 0 to 1.1465e-04.\n",
      "Early stopping\n",
      "Trial 1941 completado. Mejor precisión en validación: 0.8854517611026034\n",
      "Usando GPU para el Trial 1942\n",
      "Entrenando Trial 1942...\n"
     ]
    },
    {
     "name": "stderr",
     "output_type": "stream",
     "text": [
      "\u001b[32m[I 2023-12-01 19:02:43,784]\u001b[0m Trial 1942 finished with value: 0.8352220520673813 and parameters: {'n_layers': 2, 'n_units_l0': 2048, 'activation_l0': 'LeakyReLU', 'dropout_l0': 0.13013795322370023, 'batch_norm_l0': False, 'l2_reg_l0': 3.284880030889961e-05, 'leakyrelu_alpha_l0': 0.1637146926122314, 'n_units_l1': 1024, 'activation_l1': 'ELU', 'dropout_l1': 0.3055554402262264, 'batch_norm_l1': False, 'l2_reg_l1': 0.0015713231685496641, 'optimizer': 'Adam', 'lr': 1.5278437537132663e-05, 'adam_beta1': 0.9375954321630026, 'adam_beta2': 0.9252591012181078, 'epochs': 541, 'batch_size': 256, 'early_stopping_patience': 19, 'lr_reduce_factor': 0.2161147341656498, 'lr_reduce_patience': 46, 'min_lr': 5.502823836808948e-06}. Best is trial 506 with value: 0.8921898928024502.\u001b[0m\n"
     ]
    },
    {
     "name": "stdout",
     "output_type": "stream",
     "text": [
      "Early stopping\n",
      "Trial 1942 completado. Mejor precisión en validación: 0.8352220520673813\n",
      "Usando GPU para el Trial 1943\n",
      "Entrenando Trial 1943...\n"
     ]
    },
    {
     "name": "stderr",
     "output_type": "stream",
     "text": [
      "\u001b[32m[I 2023-12-01 19:03:16,215]\u001b[0m Trial 1943 finished with value: 0.8741194486983155 and parameters: {'n_layers': 6, 'n_units_l0': 2048, 'activation_l0': 'LeakyReLU', 'dropout_l0': 0.07587579320961214, 'batch_norm_l0': False, 'l2_reg_l0': 0.0010942080784887664, 'leakyrelu_alpha_l0': 0.21096886876337584, 'n_units_l1': 512, 'activation_l1': 'Tanh', 'dropout_l1': 0.28997055834750063, 'batch_norm_l1': False, 'l2_reg_l1': 0.005199106360722934, 'n_units_l2': 2048, 'activation_l2': 'ELU', 'dropout_l2': 0.4715229550239503, 'batch_norm_l2': True, 'l2_reg_l2': 0.00780547124401997, 'n_units_l3': 32, 'activation_l3': 'LeakyReLU', 'dropout_l3': 0.15816581590886714, 'batch_norm_l3': True, 'l2_reg_l3': 0.0001833844960405835, 'leakyrelu_alpha_l3': 0.043319667092459255, 'n_units_l4': 64, 'activation_l4': 'Tanh', 'dropout_l4': 0.48812907308222275, 'batch_norm_l4': True, 'l2_reg_l4': 0.00023394151745928765, 'n_units_l5': 2048, 'activation_l5': 'LeakyReLU', 'dropout_l5': 0.3936284564882875, 'batch_norm_l5': False, 'l2_reg_l5': 3.81979409917212e-05, 'leakyrelu_alpha_l5': 0.1343518116872478, 'optimizer': 'RMSprop', 'lr': 0.0005443998872285226, 'rmsprop_alpha': 0.9794063308744019, 'epochs': 467, 'batch_size': 1024, 'early_stopping_patience': 16, 'lr_reduce_factor': 0.17041974327902687, 'lr_reduce_patience': 43, 'min_lr': 2.826798123345735e-05}. Best is trial 506 with value: 0.8921898928024502.\u001b[0m\n"
     ]
    },
    {
     "name": "stdout",
     "output_type": "stream",
     "text": [
      "Early stopping\n",
      "Trial 1943 completado. Mejor precisión en validación: 0.8741194486983155\n",
      "Usando GPU para el Trial 1944\n",
      "Entrenando Trial 1944...\n"
     ]
    },
    {
     "name": "stderr",
     "output_type": "stream",
     "text": [
      "\u001b[32m[I 2023-12-01 19:03:37,007]\u001b[0m Trial 1944 finished with value: 0.8437978560490046 and parameters: {'n_layers': 5, 'n_units_l0': 2048, 'activation_l0': 'ELU', 'dropout_l0': 0.10233087261032768, 'batch_norm_l0': False, 'l2_reg_l0': 0.0019264085681865585, 'n_units_l1': 512, 'activation_l1': 'Tanh', 'dropout_l1': 0.04206334867709115, 'batch_norm_l1': True, 'l2_reg_l1': 0.008374076791241674, 'n_units_l2': 32, 'activation_l2': 'Tanh', 'dropout_l2': 0.43956199155675774, 'batch_norm_l2': True, 'l2_reg_l2': 0.00018882732508244455, 'n_units_l3': 2048, 'activation_l3': 'SELU', 'dropout_l3': 0.10393044095966499, 'batch_norm_l3': True, 'l2_reg_l3': 0.015749161304215623, 'n_units_l4': 64, 'activation_l4': 'LeakyReLU', 'dropout_l4': 0.4382689181496403, 'batch_norm_l4': True, 'l2_reg_l4': 1.7436969319474656e-05, 'leakyrelu_alpha_l4': 0.07441723253233486, 'optimizer': 'RMSprop', 'lr': 0.0002431927431425657, 'rmsprop_alpha': 0.9450837898953564, 'epochs': 294, 'batch_size': 128, 'early_stopping_patience': 18, 'lr_reduce_factor': 0.6454545188498518, 'lr_reduce_patience': 44, 'min_lr': 1.7058187794962515e-06}. Best is trial 506 with value: 0.8921898928024502.\u001b[0m\n"
     ]
    },
    {
     "name": "stdout",
     "output_type": "stream",
     "text": [
      "Early stopping\n",
      "Trial 1944 completado. Mejor precisión en validación: 0.8437978560490046\n",
      "Usando GPU para el Trial 1945\n",
      "Entrenando Trial 1945...\n"
     ]
    },
    {
     "name": "stderr",
     "output_type": "stream",
     "text": [
      "\u001b[32m[I 2023-12-01 19:04:07,250]\u001b[0m Trial 1945 finished with value: 0.8609494640122511 and parameters: {'n_layers': 7, 'n_units_l0': 512, 'activation_l0': 'LeakyReLU', 'dropout_l0': 0.3845214840814869, 'batch_norm_l0': False, 'l2_reg_l0': 0.0028544821072585824, 'leakyrelu_alpha_l0': 0.27811437734831884, 'n_units_l1': 128, 'activation_l1': 'Tanh', 'dropout_l1': 0.060497399543253866, 'batch_norm_l1': False, 'l2_reg_l1': 6.425339523374528e-05, 'n_units_l2': 1024, 'activation_l2': 'ReLU', 'dropout_l2': 0.1087227289735522, 'batch_norm_l2': True, 'l2_reg_l2': 0.0003531121298988644, 'n_units_l3': 1024, 'activation_l3': 'LeakyReLU', 'dropout_l3': 0.20859255249066153, 'batch_norm_l3': True, 'l2_reg_l3': 9.686209496703586e-05, 'leakyrelu_alpha_l3': 0.09303186011492837, 'n_units_l4': 512, 'activation_l4': 'ELU', 'dropout_l4': 0.18945883434536945, 'batch_norm_l4': True, 'l2_reg_l4': 5.179693881634846e-05, 'n_units_l5': 16, 'activation_l5': 'SELU', 'dropout_l5': 0.42502880614065963, 'batch_norm_l5': True, 'l2_reg_l5': 0.010391755900739668, 'n_units_l6': 512, 'activation_l6': 'LeakyReLU', 'dropout_l6': 0.08190037499941749, 'batch_norm_l6': True, 'l2_reg_l6': 2.0177071606965024e-05, 'leakyrelu_alpha_l6': 0.2976102365443999, 'optimizer': 'RMSprop', 'lr': 0.0016856345086746808, 'rmsprop_alpha': 0.8908976286100803, 'epochs': 367, 'batch_size': 128, 'early_stopping_patience': 17, 'lr_reduce_factor': 0.7033615672485837, 'lr_reduce_patience': 39, 'min_lr': 1.556120049553613e-05}. Best is trial 506 with value: 0.8921898928024502.\u001b[0m\n"
     ]
    },
    {
     "name": "stdout",
     "output_type": "stream",
     "text": [
      "Early stopping\n",
      "Trial 1945 completado. Mejor precisión en validación: 0.8609494640122511\n",
      "Usando GPU para el Trial 1946\n",
      "Entrenando Trial 1946...\n"
     ]
    },
    {
     "name": "stderr",
     "output_type": "stream",
     "text": [
      "\u001b[32m[I 2023-12-01 19:04:33,081]\u001b[0m Trial 1946 finished with value: 0.8606431852986217 and parameters: {'n_layers': 4, 'n_units_l0': 2048, 'activation_l0': 'Tanh', 'dropout_l0': 0.3443167142604769, 'batch_norm_l0': False, 'l2_reg_l0': 0.0013709670802033466, 'n_units_l1': 512, 'activation_l1': 'Tanh', 'dropout_l1': 0.21833060557402809, 'batch_norm_l1': False, 'l2_reg_l1': 1.5551249305537203e-05, 'n_units_l2': 16, 'activation_l2': 'ReLU', 'dropout_l2': 0.27105099871860605, 'batch_norm_l2': True, 'l2_reg_l2': 2.113327615935835e-05, 'n_units_l3': 16, 'activation_l3': 'LeakyReLU', 'dropout_l3': 0.40211768019819494, 'batch_norm_l3': True, 'l2_reg_l3': 0.0022557899592356148, 'leakyrelu_alpha_l3': 0.1362086002831208, 'optimizer': 'RMSprop', 'lr': 0.0008319255836523135, 'rmsprop_alpha': 0.8607962405394568, 'epochs': 195, 'batch_size': 256, 'early_stopping_patience': 19, 'lr_reduce_factor': 0.2702812302513388, 'lr_reduce_patience': 37, 'min_lr': 3.880228460164686e-06}. Best is trial 506 with value: 0.8921898928024502.\u001b[0m\n"
     ]
    },
    {
     "name": "stdout",
     "output_type": "stream",
     "text": [
      "Early stopping\n",
      "Trial 1946 completado. Mejor precisión en validación: 0.8606431852986217\n",
      "Usando GPU para el Trial 1947\n",
      "Entrenando Trial 1947...\n"
     ]
    },
    {
     "name": "stderr",
     "output_type": "stream",
     "text": [
      "\u001b[32m[I 2023-12-01 19:05:06,933]\u001b[0m Trial 1947 finished with value: 0.870750382848392 and parameters: {'n_layers': 10, 'n_units_l0': 2048, 'activation_l0': 'LeakyReLU', 'dropout_l0': 0.02033722588763246, 'batch_norm_l0': False, 'l2_reg_l0': 8.032580642877714e-05, 'leakyrelu_alpha_l0': 0.2945287175858426, 'n_units_l1': 1024, 'activation_l1': 'SELU', 'dropout_l1': 0.1624012300093417, 'batch_norm_l1': False, 'l2_reg_l1': 1.0000178892110912e-05, 'n_units_l2': 2048, 'activation_l2': 'ReLU', 'dropout_l2': 0.151300857526234, 'batch_norm_l2': True, 'l2_reg_l2': 0.0010626762983128987, 'n_units_l3': 2048, 'activation_l3': 'LeakyReLU', 'dropout_l3': 0.08683634701676252, 'batch_norm_l3': True, 'l2_reg_l3': 3.685914318147561e-05, 'leakyrelu_alpha_l3': 0.2220531464546765, 'n_units_l4': 64, 'activation_l4': 'ReLU', 'dropout_l4': 0.20989991752931786, 'batch_norm_l4': False, 'l2_reg_l4': 0.040452040340080216, 'n_units_l5': 16, 'activation_l5': 'ELU', 'dropout_l5': 0.3693534219338611, 'batch_norm_l5': False, 'l2_reg_l5': 0.0012114230122516564, 'n_units_l6': 16, 'activation_l6': 'ELU', 'dropout_l6': 0.17984819831949747, 'batch_norm_l6': True, 'l2_reg_l6': 0.010578293404902787, 'n_units_l7': 2048, 'activation_l7': 'ELU', 'dropout_l7': 0.48715597353960277, 'batch_norm_l7': False, 'l2_reg_l7': 0.00039540690576143846, 'n_units_l8': 256, 'activation_l8': 'SELU', 'dropout_l8': 0.316948170576153, 'batch_norm_l8': False, 'l2_reg_l8': 0.0013880468619487682, 'n_units_l9': 32, 'activation_l9': 'ELU', 'dropout_l9': 0.4289326733232341, 'batch_norm_l9': False, 'l2_reg_l9': 2.5460506983066307e-05, 'optimizer': 'RMSprop', 'lr': 0.00011195052101730096, 'rmsprop_alpha': 0.8729170678277023, 'epochs': 670, 'batch_size': 512, 'early_stopping_patience': 20, 'lr_reduce_factor': 0.36248519114848265, 'lr_reduce_patience': 19, 'min_lr': 2.4695151409459318e-05}. Best is trial 506 with value: 0.8921898928024502.\u001b[0m\n"
     ]
    },
    {
     "name": "stdout",
     "output_type": "stream",
     "text": [
      "Early stopping\n",
      "Trial 1947 completado. Mejor precisión en validación: 0.870750382848392\n",
      "Usando GPU para el Trial 1948\n",
      "Entrenando Trial 1948...\n"
     ]
    },
    {
     "name": "stderr",
     "output_type": "stream",
     "text": [
      "\u001b[32m[I 2023-12-01 19:05:33,648]\u001b[0m Trial 1948 finished with value: 0.8594180704441041 and parameters: {'n_layers': 3, 'n_units_l0': 64, 'activation_l0': 'LeakyReLU', 'dropout_l0': 0.16727801450327195, 'batch_norm_l0': False, 'l2_reg_l0': 0.0033351257058127745, 'leakyrelu_alpha_l0': 0.24343756839923822, 'n_units_l1': 512, 'activation_l1': 'Tanh', 'dropout_l1': 0.09922545717239027, 'batch_norm_l1': False, 'l2_reg_l1': 0.0004122723101746533, 'n_units_l2': 2048, 'activation_l2': 'ReLU', 'dropout_l2': 0.11725882982786802, 'batch_norm_l2': True, 'l2_reg_l2': 3.8934965575331656e-05, 'optimizer': 'RMSprop', 'lr': 0.0011584476474296678, 'rmsprop_alpha': 0.9673640199105217, 'epochs': 1999, 'batch_size': 128, 'early_stopping_patience': 12, 'lr_reduce_factor': 0.1412842423182343, 'lr_reduce_patience': 48, 'min_lr': 1.476607613987413e-05}. Best is trial 506 with value: 0.8921898928024502.\u001b[0m\n"
     ]
    },
    {
     "name": "stdout",
     "output_type": "stream",
     "text": [
      "Early stopping\n",
      "Trial 1948 completado. Mejor precisión en validación: 0.8594180704441041\n",
      "Usando GPU para el Trial 1949\n",
      "Entrenando Trial 1949...\n"
     ]
    },
    {
     "name": "stderr",
     "output_type": "stream",
     "text": [
      "                                                                                                                                                                                                                                        \r"
     ]
    },
    {
     "name": "stdout",
     "output_type": "stream",
     "text": [
      "Epoch 00098: reducing learning rate of group 0 to 4.1242e-03.\n"
     ]
    },
    {
     "name": "stderr",
     "output_type": "stream",
     "text": [
      "\u001b[32m[I 2023-12-01 19:06:48,765]\u001b[0m Trial 1949 finished with value: 0.8793261868300153 and parameters: {'n_layers': 6, 'n_units_l0': 128, 'activation_l0': 'SELU', 'dropout_l0': 0.08874821205497219, 'batch_norm_l0': False, 'l2_reg_l0': 0.00019905466407619027, 'n_units_l1': 512, 'activation_l1': 'Tanh', 'dropout_l1': 0.24670160319171067, 'batch_norm_l1': False, 'l2_reg_l1': 0.00019292375826226524, 'n_units_l2': 1024, 'activation_l2': 'ReLU', 'dropout_l2': 0.22811813226220617, 'batch_norm_l2': True, 'l2_reg_l2': 3.283423908615493e-05, 'n_units_l3': 1024, 'activation_l3': 'SELU', 'dropout_l3': 0.0001950692760728165, 'batch_norm_l3': False, 'l2_reg_l3': 0.006287588613130606, 'n_units_l4': 64, 'activation_l4': 'LeakyReLU', 'dropout_l4': 0.3424911995721576, 'batch_norm_l4': True, 'l2_reg_l4': 0.0001227909629810021, 'leakyrelu_alpha_l4': 0.03383722777849876, 'n_units_l5': 512, 'activation_l5': 'LeakyReLU', 'dropout_l5': 0.19098119009870845, 'batch_norm_l5': False, 'l2_reg_l5': 1.7278167063225338e-05, 'leakyrelu_alpha_l5': 0.2787019470142282, 'optimizer': 'RMSprop', 'lr': 0.007026320885875274, 'rmsprop_alpha': 0.9733877990097187, 'epochs': 252, 'batch_size': 128, 'early_stopping_patience': 19, 'lr_reduce_factor': 0.586959015799718, 'lr_reduce_patience': 41, 'min_lr': 6.820429394553433e-06}. Best is trial 506 with value: 0.8921898928024502.\u001b[0m\n"
     ]
    },
    {
     "name": "stdout",
     "output_type": "stream",
     "text": [
      "Early stopping\n",
      "Trial 1949 completado. Mejor precisión en validación: 0.8793261868300153\n",
      "Usando GPU para el Trial 1950\n",
      "Entrenando Trial 1950...\n"
     ]
    },
    {
     "name": "stderr",
     "output_type": "stream",
     "text": [
      "                                                                                                                                                                                                                                        \r"
     ]
    },
    {
     "name": "stdout",
     "output_type": "stream",
     "text": [
      "Epoch 00100: reducing learning rate of group 0 to 2.5825e-04.\n"
     ]
    },
    {
     "name": "stderr",
     "output_type": "stream",
     "text": [
      "\u001b[32m[I 2023-12-01 19:10:33,874]\u001b[0m Trial 1950 finished with value: 0.8863705972434915 and parameters: {'n_layers': 8, 'n_units_l0': 2048, 'activation_l0': 'LeakyReLU', 'dropout_l0': 0.1775951836556514, 'batch_norm_l0': False, 'l2_reg_l0': 0.0009364299213009987, 'leakyrelu_alpha_l0': 0.15081678507437662, 'n_units_l1': 1024, 'activation_l1': 'Tanh', 'dropout_l1': 0.1942608229492293, 'batch_norm_l1': False, 'l2_reg_l1': 9.684920093086443e-05, 'n_units_l2': 2048, 'activation_l2': 'ReLU', 'dropout_l2': 0.257220172532006, 'batch_norm_l2': True, 'l2_reg_l2': 0.08387339368364947, 'n_units_l3': 2048, 'activation_l3': 'Tanh', 'dropout_l3': 0.014531031981844418, 'batch_norm_l3': True, 'l2_reg_l3': 0.008767288519193065, 'n_units_l4': 256, 'activation_l4': 'SELU', 'dropout_l4': 0.4148433794612335, 'batch_norm_l4': True, 'l2_reg_l4': 0.0001886885088701246, 'n_units_l5': 2048, 'activation_l5': 'ELU', 'dropout_l5': 0.051441091275416614, 'batch_norm_l5': False, 'l2_reg_l5': 0.00804976397012037, 'n_units_l6': 2048, 'activation_l6': 'LeakyReLU', 'dropout_l6': 0.4341427171460615, 'batch_norm_l6': True, 'l2_reg_l6': 2.6449083246804744e-05, 'leakyrelu_alpha_l6': 0.20161370001102108, 'n_units_l7': 32, 'activation_l7': 'Tanh', 'dropout_l7': 0.09464720466010149, 'batch_norm_l7': True, 'l2_reg_l7': 0.02946594517649669, 'optimizer': 'RMSprop', 'lr': 0.0006372815010511732, 'rmsprop_alpha': 0.8763711595491287, 'epochs': 134, 'batch_size': 64, 'early_stopping_patience': 20, 'lr_reduce_factor': 0.4052309030021953, 'lr_reduce_patience': 43, 'min_lr': 3.158007239357912e-05}. Best is trial 506 with value: 0.8921898928024502.\u001b[0m\n"
     ]
    },
    {
     "name": "stdout",
     "output_type": "stream",
     "text": [
      "Early stopping\n",
      "Trial 1950 completado. Mejor precisión en validación: 0.8863705972434915\n",
      "Usando GPU para el Trial 1951\n",
      "Entrenando Trial 1951...\n"
     ]
    },
    {
     "name": "stderr",
     "output_type": "stream",
     "text": [
      "\u001b[32m[I 2023-12-01 19:11:01,832]\u001b[0m Trial 1951 finished with value: 0.8796324655436447 and parameters: {'n_layers': 5, 'n_units_l0': 2048, 'activation_l0': 'LeakyReLU', 'dropout_l0': 0.14100201582395705, 'batch_norm_l0': False, 'l2_reg_l0': 0.023768523959488023, 'leakyrelu_alpha_l0': 0.21936833734208236, 'n_units_l1': 512, 'activation_l1': 'ReLU', 'dropout_l1': 0.13836159277285964, 'batch_norm_l1': False, 'l2_reg_l1': 3.2254978482177295e-05, 'n_units_l2': 512, 'activation_l2': 'ReLU', 'dropout_l2': 0.20185201074724185, 'batch_norm_l2': True, 'l2_reg_l2': 0.0008058609514494528, 'n_units_l3': 1024, 'activation_l3': 'LeakyReLU', 'dropout_l3': 0.11487598267269532, 'batch_norm_l3': True, 'l2_reg_l3': 0.0010965991000837848, 'leakyrelu_alpha_l3': 0.06484984598409363, 'n_units_l4': 64, 'activation_l4': 'LeakyReLU', 'dropout_l4': 0.3960021753750004, 'batch_norm_l4': True, 'l2_reg_l4': 1.988691074471829e-05, 'leakyrelu_alpha_l4': 0.15676205711499785, 'optimizer': 'RMSprop', 'lr': 0.00038737997057622066, 'rmsprop_alpha': 0.9169984629545079, 'epochs': 320, 'batch_size': 256, 'early_stopping_patience': 18, 'lr_reduce_factor': 0.5387454606957686, 'lr_reduce_patience': 22, 'min_lr': 1.4007841998200706e-06}. Best is trial 506 with value: 0.8921898928024502.\u001b[0m\n"
     ]
    },
    {
     "name": "stdout",
     "output_type": "stream",
     "text": [
      "Early stopping\n",
      "Trial 1951 completado. Mejor precisión en validación: 0.8796324655436447\n",
      "Usando GPU para el Trial 1952\n",
      "Entrenando Trial 1952...\n"
     ]
    },
    {
     "name": "stderr",
     "output_type": "stream",
     "text": [
      "                                                                                                                                                                                                                                        \r"
     ]
    },
    {
     "name": "stdout",
     "output_type": "stream",
     "text": [
      "Epoch 00071: reducing learning rate of group 0 to 3.3768e-04.\n"
     ]
    },
    {
     "name": "stderr",
     "output_type": "stream",
     "text": [
      "                                                                                                                                                                                                                                        \r"
     ]
    },
    {
     "name": "stdout",
     "output_type": "stream",
     "text": [
      "Epoch 00112: reducing learning rate of group 0 to 1.5218e-04.\n"
     ]
    },
    {
     "name": "stderr",
     "output_type": "stream",
     "text": [
      "\u001b[32m[I 2023-12-01 19:13:21,360]\u001b[0m Trial 1952 finished with value: 0.886676875957121 and parameters: {'n_layers': 12, 'n_units_l0': 2048, 'activation_l0': 'LeakyReLU', 'dropout_l0': 0.06627562907310565, 'batch_norm_l0': False, 'l2_reg_l0': 0.050647293796472335, 'leakyrelu_alpha_l0': 0.2602565824584793, 'n_units_l1': 512, 'activation_l1': 'Tanh', 'dropout_l1': 0.17946045110935638, 'batch_norm_l1': False, 'l2_reg_l1': 0.030810885259659443, 'n_units_l2': 2048, 'activation_l2': 'ReLU', 'dropout_l2': 0.3498806740578322, 'batch_norm_l2': True, 'l2_reg_l2': 0.00013167151602038742, 'n_units_l3': 2048, 'activation_l3': 'LeakyReLU', 'dropout_l3': 0.38452949976085793, 'batch_norm_l3': True, 'l2_reg_l3': 0.001521263722503707, 'leakyrelu_alpha_l3': 0.12463837912315254, 'n_units_l4': 2048, 'activation_l4': 'LeakyReLU', 'dropout_l4': 0.3321695380053468, 'batch_norm_l4': True, 'l2_reg_l4': 9.830849586646965e-05, 'leakyrelu_alpha_l4': 0.05329605903277179, 'n_units_l5': 32, 'activation_l5': 'LeakyReLU', 'dropout_l5': 0.022196883845131424, 'batch_norm_l5': False, 'l2_reg_l5': 0.025624990279004077, 'leakyrelu_alpha_l5': 0.2055753103479599, 'n_units_l6': 64, 'activation_l6': 'SELU', 'dropout_l6': 0.1551804844505304, 'batch_norm_l6': True, 'l2_reg_l6': 5.8342249528241716e-05, 'n_units_l7': 512, 'activation_l7': 'LeakyReLU', 'dropout_l7': 0.4699532848468296, 'batch_norm_l7': False, 'l2_reg_l7': 0.017310545287523533, 'leakyrelu_alpha_l7': 0.18213351299361577, 'n_units_l8': 32, 'activation_l8': 'Tanh', 'dropout_l8': 0.4289931830715097, 'batch_norm_l8': True, 'l2_reg_l8': 0.014360331589384103, 'n_units_l9': 64, 'activation_l9': 'Tanh', 'dropout_l9': 0.2257001652461002, 'batch_norm_l9': True, 'l2_reg_l9': 0.0004914158103828832, 'n_units_l10': 128, 'activation_l10': 'LeakyReLU', 'dropout_l10': 0.36758276055092537, 'batch_norm_l10': False, 'l2_reg_l10': 0.001944886824859728, 'leakyrelu_alpha_l10': 0.14513292848610446, 'n_units_l11': 256, 'activation_l11': 'ReLU', 'dropout_l11': 0.10963927512740274, 'batch_norm_l11': True, 'l2_reg_l11': 9.625620878621517e-05, 'optimizer': 'RMSprop', 'lr': 0.0007493046226185444, 'rmsprop_alpha': 0.8934107805196382, 'epochs': 591, 'batch_size': 128, 'early_stopping_patience': 19, 'lr_reduce_factor': 0.4506644390032412, 'lr_reduce_patience': 40, 'min_lr': 9.16512867599158e-06}. Best is trial 506 with value: 0.8921898928024502.\u001b[0m\n"
     ]
    },
    {
     "name": "stdout",
     "output_type": "stream",
     "text": [
      "Early stopping\n",
      "Trial 1952 completado. Mejor precisión en validación: 0.886676875957121\n",
      "Usando GPU para el Trial 1953\n",
      "Entrenando Trial 1953...\n"
     ]
    },
    {
     "name": "stderr",
     "output_type": "stream",
     "text": [
      "\u001b[32m[I 2023-12-01 19:18:04,970]\u001b[0m Trial 1953 finished with value: 0.8385911179173048 and parameters: {'n_layers': 33, 'n_units_l0': 2048, 'activation_l0': 'LeakyReLU', 'dropout_l0': 0.23196629907423819, 'batch_norm_l0': False, 'l2_reg_l0': 2.420652244416896e-05, 'leakyrelu_alpha_l0': 0.057947891905991214, 'n_units_l1': 1024, 'activation_l1': 'Tanh', 'dropout_l1': 0.02199500401250395, 'batch_norm_l1': False, 'l2_reg_l1': 0.0005426778439698586, 'n_units_l2': 1024, 'activation_l2': 'ReLU', 'dropout_l2': 0.018219514815682125, 'batch_norm_l2': True, 'l2_reg_l2': 0.06338926288975338, 'n_units_l3': 256, 'activation_l3': 'ReLU', 'dropout_l3': 0.3402706681047956, 'batch_norm_l3': True, 'l2_reg_l3': 0.0035208254010245022, 'n_units_l4': 64, 'activation_l4': 'ELU', 'dropout_l4': 0.34942161839039293, 'batch_norm_l4': True, 'l2_reg_l4': 0.0001439393813059445, 'n_units_l5': 16, 'activation_l5': 'SELU', 'dropout_l5': 0.15503703898976806, 'batch_norm_l5': True, 'l2_reg_l5': 0.0029464000340831834, 'n_units_l6': 128, 'activation_l6': 'LeakyReLU', 'dropout_l6': 0.20881106996919968, 'batch_norm_l6': True, 'l2_reg_l6': 0.0009611012648010765, 'leakyrelu_alpha_l6': 0.21121451845531647, 'n_units_l7': 64, 'activation_l7': 'ReLU', 'dropout_l7': 0.21677751914226667, 'batch_norm_l7': False, 'l2_reg_l7': 0.0004545299770586136, 'n_units_l8': 64, 'activation_l8': 'ReLU', 'dropout_l8': 0.1792805609788739, 'batch_norm_l8': False, 'l2_reg_l8': 0.007339926801045916, 'n_units_l9': 16, 'activation_l9': 'ReLU', 'dropout_l9': 0.07659816808548053, 'batch_norm_l9': False, 'l2_reg_l9': 0.02053181386707922, 'n_units_l10': 32, 'activation_l10': 'ELU', 'dropout_l10': 0.32317059321333635, 'batch_norm_l10': True, 'l2_reg_l10': 2.4525275695075472e-05, 'n_units_l11': 128, 'activation_l11': 'Tanh', 'dropout_l11': 0.19860108502348706, 'batch_norm_l11': False, 'l2_reg_l11': 0.0018539168682354071, 'n_units_l12': 512, 'activation_l12': 'Tanh', 'dropout_l12': 0.35361363156699527, 'batch_norm_l12': True, 'l2_reg_l12': 2.094603394461652e-05, 'n_units_l13': 1024, 'activation_l13': 'SELU', 'dropout_l13': 0.37378130749329785, 'batch_norm_l13': False, 'l2_reg_l13': 0.023674633291984024, 'n_units_l14': 512, 'activation_l14': 'SELU', 'dropout_l14': 0.33151516493529043, 'batch_norm_l14': False, 'l2_reg_l14': 0.07562944242095945, 'n_units_l15': 2048, 'activation_l15': 'SELU', 'dropout_l15': 0.06086322512992498, 'batch_norm_l15': False, 'l2_reg_l15': 0.002046381430939258, 'n_units_l16': 16, 'activation_l16': 'ELU', 'dropout_l16': 0.29917763244670653, 'batch_norm_l16': False, 'l2_reg_l16': 5.456202627642892e-05, 'n_units_l17': 32, 'activation_l17': 'SELU', 'dropout_l17': 0.3761227581662984, 'batch_norm_l17': True, 'l2_reg_l17': 0.0020200477933057697, 'n_units_l18': 2048, 'activation_l18': 'Tanh', 'dropout_l18': 0.14065621723639565, 'batch_norm_l18': False, 'l2_reg_l18': 0.00031612590577321137, 'n_units_l19': 128, 'activation_l19': 'ELU', 'dropout_l19': 0.2901986843671871, 'batch_norm_l19': True, 'l2_reg_l19': 0.01881352558550658, 'n_units_l20': 64, 'activation_l20': 'ReLU', 'dropout_l20': 0.35137030135176617, 'batch_norm_l20': True, 'l2_reg_l20': 0.053484529099980874, 'n_units_l21': 128, 'activation_l21': 'LeakyReLU', 'dropout_l21': 0.01848873985218813, 'batch_norm_l21': True, 'l2_reg_l21': 3.440140069988097e-05, 'leakyrelu_alpha_l21': 0.29260145460881537, 'n_units_l22': 512, 'activation_l22': 'ELU', 'dropout_l22': 0.45262383722674937, 'batch_norm_l22': False, 'l2_reg_l22': 0.003908295221570508, 'n_units_l23': 64, 'activation_l23': 'ReLU', 'dropout_l23': 0.2978553242679933, 'batch_norm_l23': True, 'l2_reg_l23': 1.020068232332086e-05, 'n_units_l24': 512, 'activation_l24': 'ELU', 'dropout_l24': 0.3731412047613045, 'batch_norm_l24': True, 'l2_reg_l24': 0.0003069168832292773, 'n_units_l25': 256, 'activation_l25': 'Tanh', 'dropout_l25': 0.09608418149697262, 'batch_norm_l25': False, 'l2_reg_l25': 4.2241251033615455e-05, 'n_units_l26': 32, 'activation_l26': 'LeakyReLU', 'dropout_l26': 0.06952701710637166, 'batch_norm_l26': True, 'l2_reg_l26': 0.09510569019652476, 'leakyrelu_alpha_l26': 0.1299838126984756, 'n_units_l27': 128, 'activation_l27': 'SELU', 'dropout_l27': 0.12698253900224588, 'batch_norm_l27': True, 'l2_reg_l27': 0.011512467831018721, 'n_units_l28': 128, 'activation_l28': 'LeakyReLU', 'dropout_l28': 0.4621881586798254, 'batch_norm_l28': False, 'l2_reg_l28': 0.002245007833878071, 'leakyrelu_alpha_l28': 0.14623144167087007, 'n_units_l29': 256, 'activation_l29': 'Tanh', 'dropout_l29': 0.03547830097698468, 'batch_norm_l29': False, 'l2_reg_l29': 1.957782682829431e-05, 'n_units_l30': 1024, 'activation_l30': 'LeakyReLU', 'dropout_l30': 0.06999345716223448, 'batch_norm_l30': False, 'l2_reg_l30': 0.002403180891094228, 'leakyrelu_alpha_l30': 0.23520098962616848, 'n_units_l31': 64, 'activation_l31': 'ReLU', 'dropout_l31': 0.08336720189103636, 'batch_norm_l31': True, 'l2_reg_l31': 0.0012953126976349824, 'n_units_l32': 64, 'activation_l32': 'ELU', 'dropout_l32': 0.23070416352790218, 'batch_norm_l32': True, 'l2_reg_l32': 0.001238496403394737, 'optimizer': 'RMSprop', 'lr': 0.000921310366682533, 'rmsprop_alpha': 0.9706371370705972, 'epochs': 802, 'batch_size': 128, 'early_stopping_patience': 17, 'lr_reduce_factor': 0.3089969528695061, 'lr_reduce_patience': 45, 'min_lr': 4.4523771107181045e-05}. Best is trial 506 with value: 0.8921898928024502.\u001b[0m\n"
     ]
    },
    {
     "name": "stdout",
     "output_type": "stream",
     "text": [
      "Early stopping\n",
      "Trial 1953 completado. Mejor precisión en validación: 0.8385911179173048\n",
      "Usando GPU para el Trial 1954\n",
      "Entrenando Trial 1954...\n"
     ]
    },
    {
     "name": "stderr",
     "output_type": "stream",
     "text": [
      "\u001b[32m[I 2023-12-01 19:18:26,345]\u001b[0m Trial 1954 finished with value: 0.8416539050535988 and parameters: {'n_layers': 8, 'n_units_l0': 16, 'activation_l0': 'LeakyReLU', 'dropout_l0': 0.14776451346111819, 'batch_norm_l0': False, 'l2_reg_l0': 0.000352293820230222, 'leakyrelu_alpha_l0': 0.07624971832260875, 'n_units_l1': 256, 'activation_l1': 'Tanh', 'dropout_l1': 0.11107130900784794, 'batch_norm_l1': False, 'l2_reg_l1': 0.002391086518646935, 'n_units_l2': 256, 'activation_l2': 'ReLU', 'dropout_l2': 0.48163835606431205, 'batch_norm_l2': True, 'l2_reg_l2': 1.019482004914296e-05, 'n_units_l3': 2048, 'activation_l3': 'SELU', 'dropout_l3': 0.4834683254417951, 'batch_norm_l3': True, 'l2_reg_l3': 0.02789701623973373, 'n_units_l4': 64, 'activation_l4': 'ReLU', 'dropout_l4': 0.42718091393275964, 'batch_norm_l4': True, 'l2_reg_l4': 3.987365350650203e-05, 'n_units_l5': 16, 'activation_l5': 'ELU', 'dropout_l5': 0.46222127994965645, 'batch_norm_l5': False, 'l2_reg_l5': 0.0002367868290623324, 'n_units_l6': 2048, 'activation_l6': 'Tanh', 'dropout_l6': 0.3117572062334069, 'batch_norm_l6': False, 'l2_reg_l6': 0.002980276789643624, 'n_units_l7': 256, 'activation_l7': 'LeakyReLU', 'dropout_l7': 0.04766004972663158, 'batch_norm_l7': True, 'l2_reg_l7': 0.00010295974244032233, 'leakyrelu_alpha_l7': 0.16582298181815913, 'optimizer': 'RMSprop', 'lr': 0.001910763757249754, 'rmsprop_alpha': 0.9543169938379216, 'epochs': 1885, 'batch_size': 256, 'early_stopping_patience': 18, 'lr_reduce_factor': 0.23812593484677064, 'lr_reduce_patience': 42, 'min_lr': 2.2604896644212104e-05}. Best is trial 506 with value: 0.8921898928024502.\u001b[0m\n"
     ]
    },
    {
     "name": "stdout",
     "output_type": "stream",
     "text": [
      "Early stopping\n",
      "Trial 1954 completado. Mejor precisión en validación: 0.8416539050535988\n",
      "Usando GPU para el Trial 1955\n",
      "Entrenando Trial 1955...\n"
     ]
    },
    {
     "name": "stderr",
     "output_type": "stream",
     "text": [
      "\u001b[32m[I 2023-12-01 19:19:06,670]\u001b[0m Trial 1955 finished with value: 0.8499234303215927 and parameters: {'n_layers': 7, 'n_units_l0': 2048, 'activation_l0': 'LeakyReLU', 'dropout_l0': 0.49824226682071904, 'batch_norm_l0': True, 'l2_reg_l0': 0.008071373503395847, 'leakyrelu_alpha_l0': 0.19830848850364002, 'n_units_l1': 512, 'activation_l1': 'Tanh', 'dropout_l1': 0.46409357215448277, 'batch_norm_l1': False, 'l2_reg_l1': 0.0032166088667048027, 'n_units_l2': 2048, 'activation_l2': 'ReLU', 'dropout_l2': 0.09867631871825641, 'batch_norm_l2': True, 'l2_reg_l2': 0.00011452955314136477, 'n_units_l3': 1024, 'activation_l3': 'LeakyReLU', 'dropout_l3': 0.13997428002779488, 'batch_norm_l3': True, 'l2_reg_l3': 2.7328108528187064e-05, 'leakyrelu_alpha_l3': 0.10258453450722779, 'n_units_l4': 64, 'activation_l4': 'LeakyReLU', 'dropout_l4': 0.15674470585266873, 'batch_norm_l4': True, 'l2_reg_l4': 0.006505903147006457, 'leakyrelu_alpha_l4': 0.10402732248781005, 'n_units_l5': 16, 'activation_l5': 'LeakyReLU', 'dropout_l5': 0.09798834317213703, 'batch_norm_l5': False, 'l2_reg_l5': 0.0004217732484066155, 'leakyrelu_alpha_l5': 0.02216008265830685, 'n_units_l6': 1024, 'activation_l6': 'SELU', 'dropout_l6': 0.24414559015259654, 'batch_norm_l6': True, 'l2_reg_l6': 0.0970386176025318, 'optimizer': 'RMSprop', 'lr': 0.0013737576595605756, 'rmsprop_alpha': 0.9365257924495856, 'epochs': 222, 'batch_size': 128, 'early_stopping_patience': 16, 'lr_reduce_factor': 0.19146396364310486, 'lr_reduce_patience': 44, 'min_lr': 1.9181568221311256e-05}. Best is trial 506 with value: 0.8921898928024502.\u001b[0m\n"
     ]
    },
    {
     "name": "stdout",
     "output_type": "stream",
     "text": [
      "Early stopping\n",
      "Trial 1955 completado. Mejor precisión en validación: 0.8499234303215927\n",
      "Usando GPU para el Trial 1956\n",
      "Entrenando Trial 1956...\n"
     ]
    },
    {
     "name": "stderr",
     "output_type": "stream",
     "text": [
      "\u001b[32m[I 2023-12-01 19:21:36,123]\u001b[0m Trial 1956 finished with value: 0.8686064318529862 and parameters: {'n_layers': 16, 'n_units_l0': 2048, 'activation_l0': 'LeakyReLU', 'dropout_l0': 0.19781061813093775, 'batch_norm_l0': False, 'l2_reg_l0': 0.004160987886692478, 'leakyrelu_alpha_l0': 0.039722329991017824, 'n_units_l1': 512, 'activation_l1': 'Tanh', 'dropout_l1': 0.08620615605331239, 'batch_norm_l1': False, 'l2_reg_l1': 0.01307355996936947, 'n_units_l2': 2048, 'activation_l2': 'ReLU', 'dropout_l2': 0.18319459429670878, 'batch_norm_l2': True, 'l2_reg_l2': 0.012099532087835077, 'n_units_l3': 16, 'activation_l3': 'LeakyReLU', 'dropout_l3': 0.3500708125643166, 'batch_norm_l3': True, 'l2_reg_l3': 0.004514345934515694, 'leakyrelu_alpha_l3': 0.2405830449252254, 'n_units_l4': 256, 'activation_l4': 'LeakyReLU', 'dropout_l4': 0.3739898834468612, 'batch_norm_l4': True, 'l2_reg_l4': 7.22751465416114e-05, 'leakyrelu_alpha_l4': 0.2731488837384869, 'n_units_l5': 2048, 'activation_l5': 'ReLU', 'dropout_l5': 0.11128663814966942, 'batch_norm_l5': False, 'l2_reg_l5': 0.00609718912349226, 'n_units_l6': 256, 'activation_l6': 'LeakyReLU', 'dropout_l6': 0.39260406475092685, 'batch_norm_l6': False, 'l2_reg_l6': 0.04593386849217868, 'leakyrelu_alpha_l6': 0.18873931026338375, 'n_units_l7': 16, 'activation_l7': 'ELU', 'dropout_l7': 0.10735118286351986, 'batch_norm_l7': False, 'l2_reg_l7': 0.0013617513205443814, 'n_units_l8': 512, 'activation_l8': 'LeakyReLU', 'dropout_l8': 0.301365326423471, 'batch_norm_l8': True, 'l2_reg_l8': 0.0006073450089222166, 'leakyrelu_alpha_l8': 0.028555870791095533, 'n_units_l9': 2048, 'activation_l9': 'LeakyReLU', 'dropout_l9': 0.34557090375266625, 'batch_norm_l9': True, 'l2_reg_l9': 0.0012395726749250195, 'leakyrelu_alpha_l9': 0.19049423000690505, 'n_units_l10': 512, 'activation_l10': 'SELU', 'dropout_l10': 0.03638186182874148, 'batch_norm_l10': False, 'l2_reg_l10': 0.0041006819100240025, 'n_units_l11': 512, 'activation_l11': 'SELU', 'dropout_l11': 0.48034674930533644, 'batch_norm_l11': True, 'l2_reg_l11': 0.0033359350584030814, 'n_units_l12': 32, 'activation_l12': 'ELU', 'dropout_l12': 0.06686849113879217, 'batch_norm_l12': False, 'l2_reg_l12': 3.598600215058176e-05, 'n_units_l13': 128, 'activation_l13': 'ELU', 'dropout_l13': 0.25866746800433893, 'batch_norm_l13': True, 'l2_reg_l13': 0.005274799009255012, 'n_units_l14': 1024, 'activation_l14': 'ReLU', 'dropout_l14': 0.4330576614470432, 'batch_norm_l14': True, 'l2_reg_l14': 1.0208750854815489e-05, 'n_units_l15': 128, 'activation_l15': 'ELU', 'dropout_l15': 0.18690464407789015, 'batch_norm_l15': True, 'l2_reg_l15': 0.09684040159775022, 'optimizer': 'RMSprop', 'lr': 6.36231801079621e-05, 'rmsprop_alpha': 0.8645176856766671, 'epochs': 1945, 'batch_size': 128, 'early_stopping_patience': 20, 'lr_reduce_factor': 0.33665581145723755, 'lr_reduce_patience': 47, 'min_lr': 2.4082593289038046e-06}. Best is trial 506 with value: 0.8921898928024502.\u001b[0m\n"
     ]
    },
    {
     "name": "stdout",
     "output_type": "stream",
     "text": [
      "Early stopping\n",
      "Trial 1956 completado. Mejor precisión en validación: 0.8686064318529862\n",
      "Usando GPU para el Trial 1957\n",
      "Entrenando Trial 1957...\n"
     ]
    },
    {
     "name": "stderr",
     "output_type": "stream",
     "text": [
      "\u001b[32m[I 2023-12-01 19:21:43,035]\u001b[0m Trial 1957 finished with value: 0.7124042879019908 and parameters: {'n_layers': 1, 'n_units_l0': 256, 'activation_l0': 'ReLU', 'dropout_l0': 0.052639660705446754, 'batch_norm_l0': False, 'l2_reg_l0': 0.01556383793753248, 'optimizer': 'RMSprop', 'lr': 1.178118411662745e-05, 'rmsprop_alpha': 0.9199437505488676, 'epochs': 430, 'batch_size': 2048, 'early_stopping_patience': 19, 'lr_reduce_factor': 0.6072489013072485, 'lr_reduce_patience': 7, 'min_lr': 5.057173471773537e-06}. Best is trial 506 with value: 0.8921898928024502.\u001b[0m\n"
     ]
    },
    {
     "name": "stdout",
     "output_type": "stream",
     "text": [
      "Early stopping\n",
      "Trial 1957 completado. Mejor precisión en validación: 0.7124042879019908\n",
      "Usando GPU para el Trial 1958\n",
      "Entrenando Trial 1958...\n"
     ]
    },
    {
     "name": "stderr",
     "output_type": "stream",
     "text": [
      "\u001b[32m[I 2023-12-01 19:21:50,815]\u001b[0m Trial 1958 finished with value: 0.7381316998468607 and parameters: {'n_layers': 4, 'n_units_l0': 2048, 'activation_l0': 'LeakyReLU', 'dropout_l0': 0.08224935768104713, 'batch_norm_l0': False, 'l2_reg_l0': 4.713796065566205e-05, 'leakyrelu_alpha_l0': 0.2888302071588758, 'n_units_l1': 512, 'activation_l1': 'Tanh', 'dropout_l1': 0.38922077536831334, 'batch_norm_l1': False, 'l2_reg_l1': 5.3415707023894295e-05, 'n_units_l2': 1024, 'activation_l2': 'Tanh', 'dropout_l2': 0.31923138012376545, 'batch_norm_l2': True, 'l2_reg_l2': 5.4836417904860383e-05, 'n_units_l3': 2048, 'activation_l3': 'SELU', 'dropout_l3': 0.4985331599929579, 'batch_norm_l3': True, 'l2_reg_l3': 0.0004411826533095409, 'optimizer': 'SGD', 'lr': 0.0005501410758760045, 'sgd_momentum': 0.434268071292156, 'epochs': 1835, 'batch_size': 512, 'early_stopping_patience': 20, 'lr_reduce_factor': 0.4674168063444328, 'lr_reduce_patience': 46, 'min_lr': 2.165127463507891e-06}. Best is trial 506 with value: 0.8921898928024502.\u001b[0m\n"
     ]
    },
    {
     "name": "stdout",
     "output_type": "stream",
     "text": [
      "Early stopping\n",
      "Trial 1958 completado. Mejor precisión en validación: 0.7381316998468607\n",
      "Usando GPU para el Trial 1959\n",
      "Entrenando Trial 1959...\n"
     ]
    },
    {
     "name": "stderr",
     "output_type": "stream",
     "text": [
      "\u001b[32m[I 2023-12-01 19:23:27,423]\u001b[0m Trial 1959 finished with value: 0.8633996937212863 and parameters: {'n_layers': 6, 'n_units_l0': 2048, 'activation_l0': 'SELU', 'dropout_l0': 0.18856162776106405, 'batch_norm_l0': False, 'l2_reg_l0': 0.0001053908734196458, 'n_units_l1': 1024, 'activation_l1': 'Tanh', 'dropout_l1': 0.4039574004896873, 'batch_norm_l1': False, 'l2_reg_l1': 2.2300203294758797e-05, 'n_units_l2': 2048, 'activation_l2': 'ReLU', 'dropout_l2': 0.05172868041530186, 'batch_norm_l2': True, 'l2_reg_l2': 0.01551094221145462, 'n_units_l3': 1024, 'activation_l3': 'LeakyReLU', 'dropout_l3': 0.46974465303231927, 'batch_norm_l3': True, 'l2_reg_l3': 0.0018369895692454355, 'leakyrelu_alpha_l3': 0.21591613415172614, 'n_units_l4': 64, 'activation_l4': 'SELU', 'dropout_l4': 0.3568797037309968, 'batch_norm_l4': True, 'l2_reg_l4': 0.08147585740592597, 'n_units_l5': 512, 'activation_l5': 'ELU', 'dropout_l5': 0.17589374285582182, 'batch_norm_l5': True, 'l2_reg_l5': 0.0008881334815623014, 'optimizer': 'RMSprop', 'lr': 2.294323620109706e-05, 'rmsprop_alpha': 0.9869085516811732, 'epochs': 394, 'batch_size': 256, 'early_stopping_patience': 19, 'lr_reduce_factor': 0.4265181321202796, 'lr_reduce_patience': 42, 'min_lr': 3.882332338524519e-05}. Best is trial 506 with value: 0.8921898928024502.\u001b[0m\n"
     ]
    },
    {
     "name": "stdout",
     "output_type": "stream",
     "text": [
      "Early stopping\n",
      "Trial 1959 completado. Mejor precisión en validación: 0.8633996937212863\n",
      "Usando GPU para el Trial 1960\n",
      "Entrenando Trial 1960...\n"
     ]
    },
    {
     "name": "stderr",
     "output_type": "stream",
     "text": [
      "\u001b[32m[I 2023-12-01 19:24:33,222]\u001b[0m Trial 1960 finished with value: 0.8698315467075038 and parameters: {'n_layers': 3, 'n_units_l0': 512, 'activation_l0': 'LeakyReLU', 'dropout_l0': 0.4079514859293328, 'batch_norm_l0': False, 'l2_reg_l0': 0.005326530958701631, 'leakyrelu_alpha_l0': 0.07069716468042407, 'n_units_l1': 512, 'activation_l1': 'LeakyReLU', 'dropout_l1': 0.22570064232089176, 'batch_norm_l1': False, 'l2_reg_l1': 0.01011264637098115, 'leakyrelu_alpha_l1': 0.23173267349720225, 'n_units_l2': 64, 'activation_l2': 'ReLU', 'dropout_l2': 0.12687112151088817, 'batch_norm_l2': True, 'l2_reg_l2': 0.010146553489641044, 'optimizer': 'RMSprop', 'lr': 0.00020202458213971756, 'rmsprop_alpha': 0.9279994152109506, 'epochs': 287, 'batch_size': 128, 'early_stopping_patience': 18, 'lr_reduce_factor': 0.48541908308345094, 'lr_reduce_patience': 37, 'min_lr': 6.196031079103077e-05}. Best is trial 506 with value: 0.8921898928024502.\u001b[0m\n"
     ]
    },
    {
     "name": "stdout",
     "output_type": "stream",
     "text": [
      "Early stopping\n",
      "Trial 1960 completado. Mejor precisión en validación: 0.8698315467075038\n",
      "Usando GPU para el Trial 1961\n",
      "Entrenando Trial 1961...\n"
     ]
    },
    {
     "name": "stderr",
     "output_type": "stream",
     "text": [
      "\u001b[32m[I 2023-12-01 19:25:43,189]\u001b[0m Trial 1961 finished with value: 0.8367534456355283 and parameters: {'n_layers': 9, 'n_units_l0': 2048, 'activation_l0': 'LeakyReLU', 'dropout_l0': 0.04166179117688748, 'batch_norm_l0': False, 'l2_reg_l0': 0.00014429431317103237, 'leakyrelu_alpha_l0': 0.23481638579603972, 'n_units_l1': 512, 'activation_l1': 'Tanh', 'dropout_l1': 0.3662269926680283, 'batch_norm_l1': False, 'l2_reg_l1': 0.0006625139996017451, 'n_units_l2': 2048, 'activation_l2': 'ReLU', 'dropout_l2': 0.2504907804798948, 'batch_norm_l2': True, 'l2_reg_l2': 0.002121308935705809, 'n_units_l3': 32, 'activation_l3': 'ELU', 'dropout_l3': 0.32282846961167877, 'batch_norm_l3': True, 'l2_reg_l3': 0.04350621794616586, 'n_units_l4': 32, 'activation_l4': 'Tanh', 'dropout_l4': 0.3865208303157372, 'batch_norm_l4': True, 'l2_reg_l4': 0.023298300381710768, 'n_units_l5': 16, 'activation_l5': 'SELU', 'dropout_l5': 0.2531143734257599, 'batch_norm_l5': False, 'l2_reg_l5': 0.00016876540291496024, 'n_units_l6': 2048, 'activation_l6': 'SELU', 'dropout_l6': 0.14235943562405623, 'batch_norm_l6': True, 'l2_reg_l6': 1.162583720657856e-05, 'n_units_l7': 64, 'activation_l7': 'LeakyReLU', 'dropout_l7': 0.16414195399111034, 'batch_norm_l7': True, 'l2_reg_l7': 0.0006675450480675435, 'leakyrelu_alpha_l7': 0.13086670004292855, 'n_units_l8': 2048, 'activation_l8': 'ELU', 'dropout_l8': 0.27065039627916604, 'batch_norm_l8': False, 'l2_reg_l8': 8.458221397985688e-05, 'optimizer': 'RMSprop', 'lr': 1.0150492251252573e-05, 'rmsprop_alpha': 0.9634230150867331, 'epochs': 1785, 'batch_size': 128, 'early_stopping_patience': 16, 'lr_reduce_factor': 0.5580046934464994, 'lr_reduce_patience': 41, 'min_lr': 8.226949793871082e-06}. Best is trial 506 with value: 0.8921898928024502.\u001b[0m\n"
     ]
    },
    {
     "name": "stdout",
     "output_type": "stream",
     "text": [
      "Early stopping\n",
      "Trial 1961 completado. Mejor precisión en validación: 0.8367534456355283\n",
      "Usando GPU para el Trial 1962\n",
      "Entrenando Trial 1962...\n"
     ]
    },
    {
     "name": "stderr",
     "output_type": "stream",
     "text": [
      "\u001b[32m[I 2023-12-01 19:26:09,466]\u001b[0m Trial 1962 finished with value: 0.8704441041347626 and parameters: {'n_layers': 6, 'n_units_l0': 2048, 'activation_l0': 'LeakyReLU', 'dropout_l0': 0.09408587414260061, 'batch_norm_l0': False, 'l2_reg_l0': 0.00024151674568554307, 'leakyrelu_alpha_l0': 0.17724371901309247, 'n_units_l1': 1024, 'activation_l1': 'Tanh', 'dropout_l1': 0.1449212647668144, 'batch_norm_l1': False, 'l2_reg_l1': 0.040753977721358685, 'n_units_l2': 1024, 'activation_l2': 'ReLU', 'dropout_l2': 0.03687960616693896, 'batch_norm_l2': True, 'l2_reg_l2': 0.0035405529383417088, 'n_units_l3': 2048, 'activation_l3': 'LeakyReLU', 'dropout_l3': 0.17770687246878342, 'batch_norm_l3': False, 'l2_reg_l3': 3.659890523856025e-05, 'leakyrelu_alpha_l3': 0.24417511318198462, 'n_units_l4': 64, 'activation_l4': 'LeakyReLU', 'dropout_l4': 0.44251372559251434, 'batch_norm_l4': True, 'l2_reg_l4': 3.163188199347127e-05, 'leakyrelu_alpha_l4': 0.24807317121250347, 'n_units_l5': 64, 'activation_l5': 'LeakyReLU', 'dropout_l5': 0.13145119798095298, 'batch_norm_l5': False, 'l2_reg_l5': 8.12447845765664e-05, 'leakyrelu_alpha_l5': 0.03904496619903143, 'optimizer': 'RMSprop', 'lr': 0.00015052421648260346, 'rmsprop_alpha': 0.9497537611046848, 'epochs': 548, 'batch_size': 256, 'early_stopping_patience': 15, 'lr_reduce_factor': 0.16563102216251205, 'lr_reduce_patience': 43, 'min_lr': 4.262484269971169e-06}. Best is trial 506 with value: 0.8921898928024502.\u001b[0m\n"
     ]
    },
    {
     "name": "stdout",
     "output_type": "stream",
     "text": [
      "Early stopping\n",
      "Trial 1962 completado. Mejor precisión en validación: 0.8704441041347626\n",
      "Usando GPU para el Trial 1963\n",
      "Entrenando Trial 1963...\n"
     ]
    },
    {
     "name": "stderr",
     "output_type": "stream",
     "text": [
      "\u001b[32m[I 2023-12-01 19:28:41,191]\u001b[0m Trial 1963 finished with value: 0.8744257274119449 and parameters: {'n_layers': 7, 'n_units_l0': 2048, 'activation_l0': 'LeakyReLU', 'dropout_l0': 0.11801987546621301, 'batch_norm_l0': False, 'l2_reg_l0': 0.0008124248360984063, 'leakyrelu_alpha_l0': 0.1684317321293779, 'n_units_l1': 512, 'activation_l1': 'Tanh', 'dropout_l1': 0.034736314428456955, 'batch_norm_l1': False, 'l2_reg_l1': 0.001748689735488569, 'n_units_l2': 2048, 'activation_l2': 'ReLU', 'dropout_l2': 0.42907961605228756, 'batch_norm_l2': True, 'l2_reg_l2': 0.0060663092710796125, 'n_units_l3': 2048, 'activation_l3': 'Tanh', 'dropout_l3': 0.27820927600732603, 'batch_norm_l3': True, 'l2_reg_l3': 0.0005801338780586865, 'n_units_l4': 1024, 'activation_l4': 'ELU', 'dropout_l4': 0.3139585133689076, 'batch_norm_l4': True, 'l2_reg_l4': 1.4751862666815632e-05, 'n_units_l5': 32, 'activation_l5': 'ELU', 'dropout_l5': 0.07220392410064923, 'batch_norm_l5': False, 'l2_reg_l5': 4.974844679835989e-05, 'n_units_l6': 512, 'activation_l6': 'LeakyReLU', 'dropout_l6': 0.27016346170825667, 'batch_norm_l6': True, 'l2_reg_l6': 0.00046500899555980706, 'leakyrelu_alpha_l6': 0.05707075729209929, 'optimizer': 'Adam', 'lr': 2.1344838235449704e-05, 'adam_beta1': 0.9063612600733563, 'adam_beta2': 0.91495005805989, 'epochs': 339, 'batch_size': 128, 'early_stopping_patience': 19, 'lr_reduce_factor': 0.28569095321210947, 'lr_reduce_patience': 34, 'min_lr': 6.222026786408181e-06}. Best is trial 506 with value: 0.8921898928024502.\u001b[0m\n"
     ]
    },
    {
     "name": "stdout",
     "output_type": "stream",
     "text": [
      "Early stopping\n",
      "Trial 1963 completado. Mejor precisión en validación: 0.8744257274119449\n",
      "Usando GPU para el Trial 1964\n",
      "Entrenando Trial 1964...\n"
     ]
    },
    {
     "name": "stderr",
     "output_type": "stream",
     "text": [
      "\u001b[32m[I 2023-12-01 19:32:30,497]\u001b[0m Trial 1964 finished with value: 0.844104134762634 and parameters: {'n_layers': 5, 'n_units_l0': 32, 'activation_l0': 'LeakyReLU', 'dropout_l0': 0.023188465604508518, 'batch_norm_l0': False, 'l2_reg_l0': 0.02081633690805049, 'leakyrelu_alpha_l0': 0.2656683961960734, 'n_units_l1': 32, 'activation_l1': 'Tanh', 'dropout_l1': 0.2744459470288649, 'batch_norm_l1': True, 'l2_reg_l1': 8.209108196715374e-05, 'n_units_l2': 128, 'activation_l2': 'LeakyReLU', 'dropout_l2': 0.40712107782854867, 'batch_norm_l2': True, 'l2_reg_l2': 0.0001588007096476409, 'leakyrelu_alpha_l2': 0.1149489306020826, 'n_units_l3': 1024, 'activation_l3': 'LeakyReLU', 'dropout_l3': 0.12514623652974283, 'batch_norm_l3': True, 'l2_reg_l3': 0.01921619742417832, 'leakyrelu_alpha_l3': 0.03787100637372412, 'n_units_l4': 64, 'activation_l4': 'ReLU', 'dropout_l4': 0.32749645660783133, 'batch_norm_l4': True, 'l2_reg_l4': 2.645208195010073e-05, 'optimizer': 'RMSprop', 'lr': 0.00033417504237533954, 'rmsprop_alpha': 0.9771659458665876, 'epochs': 631, 'batch_size': 16, 'early_stopping_patience': 17, 'lr_reduce_factor': 0.25460976803178, 'lr_reduce_patience': 44, 'min_lr': 1.035374346540281e-05}. Best is trial 506 with value: 0.8921898928024502.\u001b[0m\n"
     ]
    },
    {
     "name": "stdout",
     "output_type": "stream",
     "text": [
      "Early stopping\n",
      "Trial 1964 completado. Mejor precisión en validación: 0.844104134762634\n",
      "Usando GPU para el Trial 1965\n",
      "Entrenando Trial 1965...\n"
     ]
    },
    {
     "name": "stderr",
     "output_type": "stream",
     "text": [
      "\u001b[32m[I 2023-12-01 19:33:06,421]\u001b[0m Trial 1965 finished with value: 0.8826952526799388 and parameters: {'n_layers': 4, 'n_units_l0': 2048, 'activation_l0': 'LeakyReLU', 'dropout_l0': 0.010310201100760348, 'batch_norm_l0': False, 'l2_reg_l0': 0.03238383191066702, 'leakyrelu_alpha_l0': 0.1047899147488798, 'n_units_l1': 512, 'activation_l1': 'Tanh', 'dropout_l1': 0.05315415825377259, 'batch_norm_l1': False, 'l2_reg_l1': 1.3669594209535535e-05, 'n_units_l2': 2048, 'activation_l2': 'ReLU', 'dropout_l2': 0.0620677092609328, 'batch_norm_l2': True, 'l2_reg_l2': 7.03046488416771e-05, 'n_units_l3': 128, 'activation_l3': 'SELU', 'dropout_l3': 0.4993584984932193, 'batch_norm_l3': True, 'l2_reg_l3': 0.0003032074817254359, 'optimizer': 'RMSprop', 'lr': 0.002870146303189007, 'rmsprop_alpha': 0.9802570815450177, 'epochs': 498, 'batch_size': 128, 'early_stopping_patience': 20, 'lr_reduce_factor': 0.6709954697532985, 'lr_reduce_patience': 40, 'min_lr': 7.216698691156393e-06}. Best is trial 506 with value: 0.8921898928024502.\u001b[0m\n"
     ]
    },
    {
     "name": "stdout",
     "output_type": "stream",
     "text": [
      "Early stopping\n",
      "Trial 1965 completado. Mejor precisión en validación: 0.8826952526799388\n",
      "Usando GPU para el Trial 1966\n",
      "Entrenando Trial 1966...\n"
     ]
    },
    {
     "name": "stderr",
     "output_type": "stream",
     "text": [
      "\u001b[32m[I 2023-12-01 19:33:24,919]\u001b[0m Trial 1966 finished with value: 0.8294027565084227 and parameters: {'n_layers': 5, 'n_units_l0': 2048, 'activation_l0': 'LeakyReLU', 'dropout_l0': 0.1563306388883891, 'batch_norm_l0': False, 'l2_reg_l0': 0.0014254656236160558, 'leakyrelu_alpha_l0': 0.11268346604537716, 'n_units_l1': 1024, 'activation_l1': 'ELU', 'dropout_l1': 0.15368541547525744, 'batch_norm_l1': False, 'l2_reg_l1': 0.0008700496688970216, 'n_units_l2': 256, 'activation_l2': 'ReLU', 'dropout_l2': 0.36802888656067007, 'batch_norm_l2': True, 'l2_reg_l2': 0.00020840747992329663, 'n_units_l3': 2048, 'activation_l3': 'LeakyReLU', 'dropout_l3': 0.2840369661601042, 'batch_norm_l3': True, 'l2_reg_l3': 1.9285328448131085e-05, 'leakyrelu_alpha_l3': 0.02212150099453833, 'n_units_l4': 64, 'activation_l4': 'LeakyReLU', 'dropout_l4': 0.1683516791588842, 'batch_norm_l4': True, 'l2_reg_l4': 0.017835565776465608, 'leakyrelu_alpha_l4': 0.2362333158543667, 'optimizer': 'RMSprop', 'lr': 1.8000209698049907e-05, 'rmsprop_alpha': 0.9597460891800151, 'epochs': 1960, 'batch_size': 64, 'early_stopping_patience': 7, 'lr_reduce_factor': 0.627250581858868, 'lr_reduce_patience': 45, 'min_lr': 5.205877274678614e-05}. Best is trial 506 with value: 0.8921898928024502.\u001b[0m\n"
     ]
    },
    {
     "name": "stdout",
     "output_type": "stream",
     "text": [
      "Early stopping\n",
      "Trial 1966 completado. Mejor precisión en validación: 0.8294027565084227\n",
      "Usando GPU para el Trial 1967\n",
      "Entrenando Trial 1967...\n"
     ]
    },
    {
     "name": "stderr",
     "output_type": "stream",
     "text": [
      "\u001b[32m[I 2023-12-01 19:34:06,661]\u001b[0m Trial 1967 finished with value: 0.8833078101071975 and parameters: {'n_layers': 7, 'n_units_l0': 2048, 'activation_l0': 'SELU', 'dropout_l0': 0.24127592301076395, 'batch_norm_l0': False, 'l2_reg_l0': 5.541705062723757e-05, 'n_units_l1': 512, 'activation_l1': 'Tanh', 'dropout_l1': 0.12728873101456045, 'batch_norm_l1': False, 'l2_reg_l1': 0.004114420462430386, 'n_units_l2': 1024, 'activation_l2': 'ReLU', 'dropout_l2': 0.02469855837211203, 'batch_norm_l2': True, 'l2_reg_l2': 0.09857281773009985, 'n_units_l3': 1024, 'activation_l3': 'LeakyReLU', 'dropout_l3': 0.024599531598063905, 'batch_norm_l3': True, 'l2_reg_l3': 0.0008301731570244265, 'leakyrelu_alpha_l3': 0.2908645271435348, 'n_units_l4': 16, 'activation_l4': 'LeakyReLU', 'dropout_l4': 0.28246084216566725, 'batch_norm_l4': False, 'l2_reg_l4': 0.008677078194015793, 'leakyrelu_alpha_l4': 0.24205083276043027, 'n_units_l5': 16, 'activation_l5': 'LeakyReLU', 'dropout_l5': 0.14504800911494634, 'batch_norm_l5': False, 'l2_reg_l5': 0.0006155323040660638, 'leakyrelu_alpha_l5': 0.24129538552754526, 'n_units_l6': 16, 'activation_l6': 'ReLU', 'dropout_l6': 0.3495576316766843, 'batch_norm_l6': False, 'l2_reg_l6': 1.7902160632198087e-05, 'optimizer': 'RMSprop', 'lr': 0.00044199927367541663, 'rmsprop_alpha': 0.9750974431942216, 'epochs': 233, 'batch_size': 256, 'early_stopping_patience': 18, 'lr_reduce_factor': 0.35688550676637393, 'lr_reduce_patience': 36, 'min_lr': 2.6559719064931905e-06}. Best is trial 506 with value: 0.8921898928024502.\u001b[0m\n"
     ]
    },
    {
     "name": "stdout",
     "output_type": "stream",
     "text": [
      "Early stopping\n",
      "Trial 1967 completado. Mejor precisión en validación: 0.8833078101071975\n",
      "Usando GPU para el Trial 1968\n",
      "Entrenando Trial 1968...\n"
     ]
    },
    {
     "name": "stderr",
     "output_type": "stream",
     "text": [
      "\u001b[32m[I 2023-12-01 19:34:17,724]\u001b[0m Trial 1968 finished with value: 0.678407350689127 and parameters: {'n_layers': 3, 'n_units_l0': 2048, 'activation_l0': 'LeakyReLU', 'dropout_l0': 0.10698519280479753, 'batch_norm_l0': False, 'l2_reg_l0': 3.334874012761507e-05, 'leakyrelu_alpha_l0': 0.20170890158836793, 'n_units_l1': 512, 'activation_l1': 'Tanh', 'dropout_l1': 0.20415008295011186, 'batch_norm_l1': False, 'l2_reg_l1': 0.000333305013393078, 'n_units_l2': 2048, 'activation_l2': 'ReLU', 'dropout_l2': 0.27282939303468945, 'batch_norm_l2': True, 'l2_reg_l2': 0.0002736390364418854, 'optimizer': 'RMSprop', 'lr': 0.028207123707316047, 'rmsprop_alpha': 0.8841709686430668, 'epochs': 1909, 'batch_size': 128, 'early_stopping_patience': 19, 'lr_reduce_factor': 0.39241090043414156, 'lr_reduce_patience': 42, 'min_lr': 2.1076988684848312e-05}. Best is trial 506 with value: 0.8921898928024502.\u001b[0m\n"
     ]
    },
    {
     "name": "stdout",
     "output_type": "stream",
     "text": [
      "Early stopping\n",
      "Trial 1968 completado. Mejor precisión en validación: 0.678407350689127\n",
      "Usando GPU para el Trial 1969\n",
      "Entrenando Trial 1969...\n"
     ]
    },
    {
     "name": "stderr",
     "output_type": "stream",
     "text": [
      "\u001b[32m[I 2023-12-01 19:34:32,081]\u001b[0m Trial 1969 finished with value: 0.678407350689127 and parameters: {'n_layers': 8, 'n_units_l0': 64, 'activation_l0': 'LeakyReLU', 'dropout_l0': 0.1316671399891357, 'batch_norm_l0': False, 'l2_reg_l0': 0.0018111676674347022, 'leakyrelu_alpha_l0': 0.2834406970803142, 'n_units_l1': 512, 'activation_l1': 'Tanh', 'dropout_l1': 0.1696537638401775, 'batch_norm_l1': False, 'l2_reg_l1': 0.0013105953750959173, 'n_units_l2': 2048, 'activation_l2': 'ELU', 'dropout_l2': 0.45139976657465763, 'batch_norm_l2': True, 'l2_reg_l2': 0.0012435583901105882, 'n_units_l3': 2048, 'activation_l3': 'SELU', 'dropout_l3': 0.24837272160317736, 'batch_norm_l3': True, 'l2_reg_l3': 0.0026054822378701165, 'n_units_l4': 64, 'activation_l4': 'LeakyReLU', 'dropout_l4': 0.21644664538161745, 'batch_norm_l4': True, 'l2_reg_l4': 1.1881797992794789e-05, 'leakyrelu_alpha_l4': 0.066846000857154, 'n_units_l5': 2048, 'activation_l5': 'ELU', 'dropout_l5': 0.407191086736262, 'batch_norm_l5': True, 'l2_reg_l5': 0.0013479513795707303, 'n_units_l6': 2048, 'activation_l6': 'Tanh', 'dropout_l6': 0.37706631653126327, 'batch_norm_l6': True, 'l2_reg_l6': 0.00021195528272066353, 'n_units_l7': 32, 'activation_l7': 'SELU', 'dropout_l7': 0.15149862842800269, 'batch_norm_l7': False, 'l2_reg_l7': 0.012055855712366283, 'optimizer': 'RMSprop', 'lr': 0.03192475701596617, 'rmsprop_alpha': 0.8571649041783238, 'epochs': 170, 'batch_size': 128, 'early_stopping_patience': 11, 'lr_reduce_factor': 0.2247550740822034, 'lr_reduce_patience': 38, 'min_lr': 2.8930220517179836e-05}. Best is trial 506 with value: 0.8921898928024502.\u001b[0m\n"
     ]
    },
    {
     "name": "stdout",
     "output_type": "stream",
     "text": [
      "Early stopping\n",
      "Trial 1969 completado. Mejor precisión en validación: 0.678407350689127\n",
      "Usando GPU para el Trial 1970\n",
      "Entrenando Trial 1970...\n"
     ]
    },
    {
     "name": "stderr",
     "output_type": "stream",
     "text": [
      "\u001b[32m[I 2023-12-01 19:34:39,662]\u001b[0m Trial 1970 finished with value: 0.8245022970903522 and parameters: {'n_layers': 6, 'n_units_l0': 2048, 'activation_l0': 'LeakyReLU', 'dropout_l0': 0.07438406946174661, 'batch_norm_l0': False, 'l2_reg_l0': 2.0369874380301756e-05, 'leakyrelu_alpha_l0': 0.0170434874765531, 'n_units_l1': 1024, 'activation_l1': 'Tanh', 'dropout_l1': 0.45130552458582446, 'batch_norm_l1': False, 'l2_reg_l1': 0.006470883202688787, 'n_units_l2': 1024, 'activation_l2': 'ReLU', 'dropout_l2': 0.17325281103386025, 'batch_norm_l2': True, 'l2_reg_l2': 0.000494807258793316, 'n_units_l3': 16, 'activation_l3': 'LeakyReLU', 'dropout_l3': 0.10179359841468119, 'batch_norm_l3': True, 'l2_reg_l3': 0.08427005740994678, 'leakyrelu_alpha_l3': 0.11164074333115703, 'n_units_l4': 256, 'activation_l4': 'ELU', 'dropout_l4': 0.40646967640178566, 'batch_norm_l4': True, 'l2_reg_l4': 0.015194781726638044, 'n_units_l5': 16, 'activation_l5': 'SELU', 'dropout_l5': 0.044247107965150315, 'batch_norm_l5': False, 'l2_reg_l5': 0.062295152404788785, 'optimizer': 'RMSprop', 'lr': 0.00758656064764535, 'rmsprop_alpha': 0.9402973630496775, 'epochs': 90, 'batch_size': 256, 'early_stopping_patience': 4, 'lr_reduce_factor': 0.29809960690389325, 'lr_reduce_patience': 43, 'min_lr': 3.37264092402873e-06}. Best is trial 506 with value: 0.8921898928024502.\u001b[0m\n"
     ]
    },
    {
     "name": "stdout",
     "output_type": "stream",
     "text": [
      "Early stopping\n",
      "Trial 1970 completado. Mejor precisión en validación: 0.8245022970903522\n",
      "Usando GPU para el Trial 1971\n",
      "Entrenando Trial 1971...\n"
     ]
    },
    {
     "name": "stderr",
     "output_type": "stream",
     "text": [
      "\u001b[32m[I 2023-12-01 19:35:47,280]\u001b[0m Trial 1971 finished with value: 0.8058192955589587 and parameters: {'n_layers': 2, 'n_units_l0': 2048, 'activation_l0': 'ELU', 'dropout_l0': 0.1765928124289986, 'batch_norm_l0': False, 'l2_reg_l0': 0.0023439123639903475, 'n_units_l1': 64, 'activation_l1': 'Tanh', 'dropout_l1': 0.4136960814319023, 'batch_norm_l1': False, 'l2_reg_l1': 0.00011794053532744897, 'optimizer': 'RMSprop', 'lr': 0.008543013085896696, 'rmsprop_alpha': 0.9073092786113464, 'epochs': 360, 'batch_size': 32, 'early_stopping_patience': 20, 'lr_reduce_factor': 0.3284434233831958, 'lr_reduce_patience': 39, 'min_lr': 2.9031606413044536e-06}. Best is trial 506 with value: 0.8921898928024502.\u001b[0m\n"
     ]
    },
    {
     "name": "stdout",
     "output_type": "stream",
     "text": [
      "Early stopping\n",
      "Trial 1971 completado. Mejor precisión en validación: 0.8058192955589587\n",
      "Usando GPU para el Trial 1972\n",
      "Entrenando Trial 1972...\n"
     ]
    },
    {
     "name": "stderr",
     "output_type": "stream",
     "text": [
      "\u001b[32m[I 2023-12-01 19:36:16,144]\u001b[0m Trial 1972 finished with value: 0.8373660030627872 and parameters: {'n_layers': 5, 'n_units_l0': 2048, 'activation_l0': 'Tanh', 'dropout_l0': 0.16473056428103441, 'batch_norm_l0': False, 'l2_reg_l0': 0.0002786399479301221, 'n_units_l1': 16, 'activation_l1': 'Tanh', 'dropout_l1': 0.3103608302570813, 'batch_norm_l1': False, 'l2_reg_l1': 2.0651997885927447e-05, 'n_units_l2': 2048, 'activation_l2': 'ReLU', 'dropout_l2': 0.2943178359240995, 'batch_norm_l2': True, 'l2_reg_l2': 0.056261330741936844, 'n_units_l3': 64, 'activation_l3': 'LeakyReLU', 'dropout_l3': 0.1911051305901767, 'batch_norm_l3': True, 'l2_reg_l3': 0.009895049875403406, 'leakyrelu_alpha_l3': 0.1588729503408483, 'n_units_l4': 2048, 'activation_l4': 'LeakyReLU', 'dropout_l4': 0.4182375146220777, 'batch_norm_l4': True, 'l2_reg_l4': 0.028134420215364078, 'leakyrelu_alpha_l4': 0.10987116861229701, 'optimizer': 'RMSprop', 'lr': 0.0010428938942135208, 'rmsprop_alpha': 0.9899956997403383, 'epochs': 476, 'batch_size': 128, 'early_stopping_patience': 17, 'lr_reduce_factor': 0.12943834495183912, 'lr_reduce_patience': 41, 'min_lr': 1.4942996254787075e-06}. Best is trial 506 with value: 0.8921898928024502.\u001b[0m\n"
     ]
    },
    {
     "name": "stdout",
     "output_type": "stream",
     "text": [
      "Early stopping\n",
      "Trial 1972 completado. Mejor precisión en validación: 0.8373660030627872\n",
      "Usando GPU para el Trial 1973\n",
      "Entrenando Trial 1973...\n"
     ]
    },
    {
     "name": "stderr",
     "output_type": "stream",
     "text": [
      "                                                                                                                                                                                                                                        \r"
     ]
    },
    {
     "name": "stdout",
     "output_type": "stream",
     "text": [
      "Epoch 00083: reducing learning rate of group 0 to 1.4243e-04.\n"
     ]
    },
    {
     "name": "stderr",
     "output_type": "stream",
     "text": [
      "\u001b[32m[I 2023-12-01 19:37:53,181]\u001b[0m Trial 1973 finished with value: 0.8826952526799388 and parameters: {'n_layers': 9, 'n_units_l0': 512, 'activation_l0': 'LeakyReLU', 'dropout_l0': 0.05865765922800152, 'batch_norm_l0': False, 'l2_reg_l0': 0.0069044441732942375, 'leakyrelu_alpha_l0': 0.2539556812679367, 'n_units_l1': 512, 'activation_l1': 'Tanh', 'dropout_l1': 0.3826852866476944, 'batch_norm_l1': False, 'l2_reg_l1': 0.0026537751199380458, 'n_units_l2': 2048, 'activation_l2': 'Tanh', 'dropout_l2': 0.3787773697593507, 'batch_norm_l2': True, 'l2_reg_l2': 0.04343725073882599, 'n_units_l3': 2048, 'activation_l3': 'Tanh', 'dropout_l3': 0.15605948349550142, 'batch_norm_l3': True, 'l2_reg_l3': 0.0012698379318130315, 'n_units_l4': 64, 'activation_l4': 'ReLU', 'dropout_l4': 0.3649024865561634, 'batch_norm_l4': True, 'l2_reg_l4': 0.00021841015645106664, 'n_units_l5': 16, 'activation_l5': 'LeakyReLU', 'dropout_l5': 0.0873466862091101, 'batch_norm_l5': False, 'l2_reg_l5': 3.144494552901458e-05, 'leakyrelu_alpha_l5': 0.2211958611328245, 'n_units_l6': 2048, 'activation_l6': 'ELU', 'dropout_l6': 0.19772345856506138, 'batch_norm_l6': False, 'l2_reg_l6': 3.229148139032461e-05, 'n_units_l7': 512, 'activation_l7': 'LeakyReLU', 'dropout_l7': 0.2663488665438444, 'batch_norm_l7': False, 'l2_reg_l7': 0.008175613685998917, 'leakyrelu_alpha_l7': 0.24911749325994575, 'n_units_l8': 16, 'activation_l8': 'Tanh', 'dropout_l8': 0.4491765534996349, 'batch_norm_l8': True, 'l2_reg_l8': 3.304600957511712e-05, 'optimizer': 'RMSprop', 'lr': 0.0007313949865839769, 'rmsprop_alpha': 0.8502940936494269, 'epochs': 586, 'batch_size': 128, 'early_stopping_patience': 19, 'lr_reduce_factor': 0.19474345033104357, 'lr_reduce_patience': 44, 'min_lr': 2.0232308552018833e-06}. Best is trial 506 with value: 0.8921898928024502.\u001b[0m\n"
     ]
    },
    {
     "name": "stdout",
     "output_type": "stream",
     "text": [
      "Early stopping\n",
      "Trial 1973 completado. Mejor precisión en validación: 0.8826952526799388\n",
      "Usando GPU para el Trial 1974\n",
      "Entrenando Trial 1974...\n"
     ]
    },
    {
     "name": "stderr",
     "output_type": "stream",
     "text": [
      "\u001b[32m[I 2023-12-01 19:38:26,792]\u001b[0m Trial 1974 finished with value: 0.8747320061255742 and parameters: {'n_layers': 7, 'n_units_l0': 2048, 'activation_l0': 'LeakyReLU', 'dropout_l0': 0.22053166639800154, 'batch_norm_l0': True, 'l2_reg_l0': 0.0011398912094122502, 'leakyrelu_alpha_l0': 0.2264850250376897, 'n_units_l1': 512, 'activation_l1': 'SELU', 'dropout_l1': 0.4302170049751079, 'batch_norm_l1': False, 'l2_reg_l1': 0.004932973414413672, 'n_units_l2': 32, 'activation_l2': 'ReLU', 'dropout_l2': 0.3922695147860682, 'batch_norm_l2': True, 'l2_reg_l2': 0.00010120994092081965, 'n_units_l3': 1024, 'activation_l3': 'LeakyReLU', 'dropout_l3': 0.4421340418467967, 'batch_norm_l3': True, 'l2_reg_l3': 3.286739693212519e-05, 'leakyrelu_alpha_l3': 0.12071921723018383, 'n_units_l4': 64, 'activation_l4': 'SELU', 'dropout_l4': 0.3964812065668751, 'batch_norm_l4': True, 'l2_reg_l4': 0.00011269858420332527, 'n_units_l5': 512, 'activation_l5': 'ELU', 'dropout_l5': 0.3157621657245435, 'batch_norm_l5': False, 'l2_reg_l5': 0.014682239830593831, 'n_units_l6': 128, 'activation_l6': 'LeakyReLU', 'dropout_l6': 0.08980884558278071, 'batch_norm_l6': True, 'l2_reg_l6': 0.0020372227701295825, 'leakyrelu_alpha_l6': 0.2924258630091011, 'optimizer': 'RMSprop', 'lr': 0.0012289109058515465, 'rmsprop_alpha': 0.9469587362991876, 'epochs': 277, 'batch_size': 512, 'early_stopping_patience': 18, 'lr_reduce_factor': 0.20996194739869148, 'lr_reduce_patience': 45, 'min_lr': 5.252633802229073e-06}. Best is trial 506 with value: 0.8921898928024502.\u001b[0m\n"
     ]
    },
    {
     "name": "stdout",
     "output_type": "stream",
     "text": [
      "Early stopping\n",
      "Trial 1974 completado. Mejor precisión en validación: 0.8747320061255742\n",
      "Usando GPU para el Trial 1975\n",
      "Entrenando Trial 1975...\n"
     ]
    },
    {
     "name": "stderr",
     "output_type": "stream",
     "text": [
      "\u001b[32m[I 2023-12-01 19:38:34,594]\u001b[0m Trial 1975 finished with value: 0.678407350689127 and parameters: {'n_layers': 4, 'n_units_l0': 2048, 'activation_l0': 'LeakyReLU', 'dropout_l0': 0.032150907111756166, 'batch_norm_l0': False, 'l2_reg_l0': 6.750746512259814e-05, 'leakyrelu_alpha_l0': 0.02313826436286967, 'n_units_l1': 1024, 'activation_l1': 'Tanh', 'dropout_l1': 0.11736742252284632, 'batch_norm_l1': False, 'l2_reg_l1': 2.550797208062564e-05, 'n_units_l2': 2048, 'activation_l2': 'ReLU', 'dropout_l2': 0.49175345109417107, 'batch_norm_l2': True, 'l2_reg_l2': 0.0026167352538251287, 'n_units_l3': 2048, 'activation_l3': 'SELU', 'dropout_l3': 0.1680666746644262, 'batch_norm_l3': False, 'l2_reg_l3': 0.0031120526124242508, 'optimizer': 'RMSprop', 'lr': 0.0038354927188642514, 'rmsprop_alpha': 0.9712946576481484, 'epochs': 1873, 'batch_size': 1024, 'early_stopping_patience': 20, 'lr_reduce_factor': 0.27098366328226703, 'lr_reduce_patience': 43, 'min_lr': 1.7069892026915369e-06}. Best is trial 506 with value: 0.8921898928024502.\u001b[0m\n"
     ]
    },
    {
     "name": "stdout",
     "output_type": "stream",
     "text": [
      "Early stopping\n",
      "Trial 1975 completado. Mejor precisión en validación: 0.678407350689127\n",
      "Usando GPU para el Trial 1976\n",
      "Entrenando Trial 1976...\n"
     ]
    },
    {
     "name": "stderr",
     "output_type": "stream",
     "text": [
      "\u001b[32m[I 2023-12-01 19:39:07,281]\u001b[0m Trial 1976 finished with value: 0.678407350689127 and parameters: {'n_layers': 31, 'n_units_l0': 128, 'activation_l0': 'LeakyReLU', 'dropout_l0': 0.09124366073131497, 'batch_norm_l0': False, 'l2_reg_l0': 0.08480363953522885, 'leakyrelu_alpha_l0': 0.20906654304768815, 'n_units_l1': 128, 'activation_l1': 'Tanh', 'dropout_l1': 0.01181342594075542, 'batch_norm_l1': False, 'l2_reg_l1': 1.7280283790492486e-05, 'n_units_l2': 1024, 'activation_l2': 'ReLU', 'dropout_l2': 0.26552953390950645, 'batch_norm_l2': True, 'l2_reg_l2': 0.03411234041265703, 'n_units_l3': 1024, 'activation_l3': 'LeakyReLU', 'dropout_l3': 0.07202127553053235, 'batch_norm_l3': True, 'l2_reg_l3': 0.0130740529612666, 'leakyrelu_alpha_l3': 0.16812946113708555, 'n_units_l4': 64, 'activation_l4': 'LeakyReLU', 'dropout_l4': 0.34256450276374373, 'batch_norm_l4': True, 'l2_reg_l4': 0.011098343419830929, 'leakyrelu_alpha_l4': 0.26600664403248864, 'n_units_l5': 16, 'activation_l5': 'ELU', 'dropout_l5': 0.335637654322956, 'batch_norm_l5': False, 'l2_reg_l5': 6.944822879807122e-05, 'n_units_l6': 32, 'activation_l6': 'SELU', 'dropout_l6': 0.48397466884784496, 'batch_norm_l6': False, 'l2_reg_l6': 0.003933109289355429, 'n_units_l7': 128, 'activation_l7': 'ELU', 'dropout_l7': 0.45367780544369346, 'batch_norm_l7': True, 'l2_reg_l7': 0.0002627280236682967, 'n_units_l8': 1024, 'activation_l8': 'SELU', 'dropout_l8': 0.08675762849992524, 'batch_norm_l8': False, 'l2_reg_l8': 0.002605745799875136, 'n_units_l9': 1024, 'activation_l9': 'SELU', 'dropout_l9': 0.45958150846566875, 'batch_norm_l9': False, 'l2_reg_l9': 4.553542018564927e-05, 'n_units_l10': 16, 'activation_l10': 'ReLU', 'dropout_l10': 0.09939778487858258, 'batch_norm_l10': True, 'l2_reg_l10': 0.058470565271642835, 'n_units_l11': 64, 'activation_l11': 'ELU', 'dropout_l11': 0.2067057244676583, 'batch_norm_l11': False, 'l2_reg_l11': 0.019594309528656876, 'n_units_l12': 2048, 'activation_l12': 'SELU', 'dropout_l12': 0.001451011624192644, 'batch_norm_l12': True, 'l2_reg_l12': 0.0008862580407854491, 'n_units_l13': 16, 'activation_l13': 'Tanh', 'dropout_l13': 0.4114404501298255, 'batch_norm_l13': False, 'l2_reg_l13': 0.00011641152831309144, 'n_units_l14': 16, 'activation_l14': 'LeakyReLU', 'dropout_l14': 0.2590331897838988, 'batch_norm_l14': False, 'l2_reg_l14': 0.0529483411689818, 'leakyrelu_alpha_l14': 0.08971541068105167, 'n_units_l15': 512, 'activation_l15': 'LeakyReLU', 'dropout_l15': 0.15738026844748734, 'batch_norm_l15': False, 'l2_reg_l15': 0.0010240442594921415, 'leakyrelu_alpha_l15': 0.10134605868529767, 'n_units_l16': 512, 'activation_l16': 'ReLU', 'dropout_l16': 0.397247959862671, 'batch_norm_l16': True, 'l2_reg_l16': 8.228661144900554e-05, 'n_units_l17': 512, 'activation_l17': 'LeakyReLU', 'dropout_l17': 0.26127634340049793, 'batch_norm_l17': False, 'l2_reg_l17': 0.004954242082594713, 'leakyrelu_alpha_l17': 0.03780091855539475, 'n_units_l18': 128, 'activation_l18': 'ReLU', 'dropout_l18': 0.12820938230295512, 'batch_norm_l18': True, 'l2_reg_l18': 0.01985826802634837, 'n_units_l19': 64, 'activation_l19': 'Tanh', 'dropout_l19': 0.39620567308214905, 'batch_norm_l19': False, 'l2_reg_l19': 0.007965787382862733, 'n_units_l20': 32, 'activation_l20': 'LeakyReLU', 'dropout_l20': 0.4511388445157069, 'batch_norm_l20': False, 'l2_reg_l20': 9.504049106113915e-05, 'leakyrelu_alpha_l20': 0.15117998326783022, 'n_units_l21': 2048, 'activation_l21': 'SELU', 'dropout_l21': 0.3988738861658004, 'batch_norm_l21': False, 'l2_reg_l21': 0.00037554255540305143, 'n_units_l22': 128, 'activation_l22': 'ReLU', 'dropout_l22': 0.14081227301525462, 'batch_norm_l22': True, 'l2_reg_l22': 0.07279303104806557, 'n_units_l23': 512, 'activation_l23': 'ELU', 'dropout_l23': 0.2739070219384634, 'batch_norm_l23': False, 'l2_reg_l23': 0.0015042235082139033, 'n_units_l24': 256, 'activation_l24': 'LeakyReLU', 'dropout_l24': 0.2122774553556085, 'batch_norm_l24': False, 'l2_reg_l24': 1.8719467750065495e-05, 'leakyrelu_alpha_l24': 0.2546724720686983, 'n_units_l25': 64, 'activation_l25': 'SELU', 'dropout_l25': 0.04598508201067891, 'batch_norm_l25': True, 'l2_reg_l25': 1.4007331560511626e-05, 'n_units_l26': 128, 'activation_l26': 'Tanh', 'dropout_l26': 0.17094762150662138, 'batch_norm_l26': False, 'l2_reg_l26': 0.00015260696388474444, 'n_units_l27': 16, 'activation_l27': 'ELU', 'dropout_l27': 0.33477900415129186, 'batch_norm_l27': False, 'l2_reg_l27': 0.00022647273219082904, 'n_units_l28': 64, 'activation_l28': 'Tanh', 'dropout_l28': 0.3815893875234114, 'batch_norm_l28': True, 'l2_reg_l28': 0.0010278863629436866, 'n_units_l29': 128, 'activation_l29': 'ReLU', 'dropout_l29': 0.49719788490741146, 'batch_norm_l29': True, 'l2_reg_l29': 0.04690321096133001, 'n_units_l30': 512, 'activation_l30': 'Tanh', 'dropout_l30': 0.2850813490261769, 'batch_norm_l30': True, 'l2_reg_l30': 0.00010386054410384431, 'optimizer': 'RMSprop', 'lr': 4.439885285770973e-05, 'rmsprop_alpha': 0.9670869606968789, 'epochs': 405, 'batch_size': 256, 'early_stopping_patience': 19, 'lr_reduce_factor': 0.5753185708984502, 'lr_reduce_patience': 42, 'min_lr': 4.793400957773142e-05}. Best is trial 506 with value: 0.8921898928024502.\u001b[0m\n"
     ]
    },
    {
     "name": "stdout",
     "output_type": "stream",
     "text": [
      "Early stopping\n",
      "Trial 1976 completado. Mejor precisión en validación: 0.678407350689127\n",
      "Usando GPU para el Trial 1977\n",
      "Entrenando Trial 1977...\n"
     ]
    },
    {
     "name": "stderr",
     "output_type": "stream",
     "text": [
      "\u001b[32m[I 2023-12-01 19:39:51,552]\u001b[0m Trial 1977 finished with value: 0.8802450229709036 and parameters: {'n_layers': 6, 'n_units_l0': 2048, 'activation_l0': 'LeakyReLU', 'dropout_l0': 0.1490246520072731, 'batch_norm_l0': False, 'l2_reg_l0': 3.9095014235808324e-05, 'leakyrelu_alpha_l0': 0.2747141125926844, 'n_units_l1': 2048, 'activation_l1': 'Tanh', 'dropout_l1': 0.24006972048315608, 'batch_norm_l1': False, 'l2_reg_l1': 0.06441022364739338, 'n_units_l2': 256, 'activation_l2': 'ReLU', 'dropout_l2': 0.08237137797239617, 'batch_norm_l2': True, 'l2_reg_l2': 0.004457758706515758, 'n_units_l3': 2048, 'activation_l3': 'LeakyReLU', 'dropout_l3': 0.4206014073846766, 'batch_norm_l3': True, 'l2_reg_l3': 0.02449143667802391, 'leakyrelu_alpha_l3': 0.2572630504368494, 'n_units_l4': 64, 'activation_l4': 'Tanh', 'dropout_l4': 0.33284589768738054, 'batch_norm_l4': True, 'l2_reg_l4': 2.2622322778949888e-05, 'n_units_l5': 2048, 'activation_l5': 'LeakyReLU', 'dropout_l5': 0.2886673604443351, 'batch_norm_l5': True, 'l2_reg_l5': 2.090548234582419e-05, 'leakyrelu_alpha_l5': 0.2609092441558528, 'optimizer': 'RMSprop', 'lr': 0.000607467829866796, 'rmsprop_alpha': 0.881741785367186, 'epochs': 314, 'batch_size': 128, 'early_stopping_patience': 10, 'lr_reduce_factor': 0.1488842276534308, 'lr_reduce_patience': 40, 'min_lr': 2.5845772804129772e-05}. Best is trial 506 with value: 0.8921898928024502.\u001b[0m\n"
     ]
    },
    {
     "name": "stdout",
     "output_type": "stream",
     "text": [
      "Early stopping\n",
      "Trial 1977 completado. Mejor precisión en validación: 0.8802450229709036\n",
      "Usando GPU para el Trial 1978\n",
      "Entrenando Trial 1978...\n"
     ]
    },
    {
     "name": "stderr",
     "output_type": "stream",
     "text": [
      "\u001b[32m[I 2023-12-01 19:40:36,353]\u001b[0m Trial 1978 finished with value: 0.877488514548239 and parameters: {'n_layers': 5, 'n_units_l0': 2048, 'activation_l0': 'SELU', 'dropout_l0': 0.01044725303138462, 'batch_norm_l0': False, 'l2_reg_l0': 0.002804001957153866, 'n_units_l1': 512, 'activation_l1': 'Tanh', 'dropout_l1': 0.07952733104172843, 'batch_norm_l1': False, 'l2_reg_l1': 1.1870827064831555e-05, 'n_units_l2': 2048, 'activation_l2': 'ReLU', 'dropout_l2': 0.33479939005044934, 'batch_norm_l2': True, 'l2_reg_l2': 1.3068162680042061e-05, 'n_units_l3': 32, 'activation_l3': 'SELU', 'dropout_l3': 0.4536718367999027, 'batch_norm_l3': True, 'l2_reg_l3': 0.0058097485029369915, 'n_units_l4': 256, 'activation_l4': 'LeakyReLU', 'dropout_l4': 0.19866395688936297, 'batch_norm_l4': True, 'l2_reg_l4': 0.03685816189723231, 'leakyrelu_alpha_l4': 0.14548729600840443, 'optimizer': 'RMSprop', 'lr': 0.00029553250055916984, 'rmsprop_alpha': 0.9020818528603676, 'epochs': 197, 'batch_size': 128, 'early_stopping_patience': 20, 'lr_reduce_factor': 0.5250573583430027, 'lr_reduce_patience': 46, 'min_lr': 7.802172421649247e-06}. Best is trial 506 with value: 0.8921898928024502.\u001b[0m\n"
     ]
    },
    {
     "name": "stdout",
     "output_type": "stream",
     "text": [
      "Early stopping\n",
      "Trial 1978 completado. Mejor precisión en validación: 0.877488514548239\n",
      "Usando GPU para el Trial 1979\n",
      "Entrenando Trial 1979...\n"
     ]
    },
    {
     "name": "stderr",
     "output_type": "stream",
     "text": [
      "\u001b[32m[I 2023-12-01 19:40:59,720]\u001b[0m Trial 1979 finished with value: 0.8094946401225115 and parameters: {'n_layers': 8, 'n_units_l0': 2048, 'activation_l0': 'LeakyReLU', 'dropout_l0': 0.07289334636180989, 'batch_norm_l0': False, 'l2_reg_l0': 0.012309832852871603, 'leakyrelu_alpha_l0': 0.1554087674039259, 'n_units_l1': 512, 'activation_l1': 'ReLU', 'dropout_l1': 0.21553121335838155, 'batch_norm_l1': False, 'l2_reg_l1': 0.022794792107481934, 'n_units_l2': 16, 'activation_l2': 'ReLU', 'dropout_l2': 0.1528711832265991, 'batch_norm_l2': True, 'l2_reg_l2': 0.00034221620264564197, 'n_units_l3': 2048, 'activation_l3': 'LeakyReLU', 'dropout_l3': 0.017093271741171572, 'batch_norm_l3': True, 'l2_reg_l3': 0.0021180467920529217, 'leakyrelu_alpha_l3': 0.148164303541551, 'n_units_l4': 512, 'activation_l4': 'LeakyReLU', 'dropout_l4': 0.29462948274362877, 'batch_norm_l4': True, 'l2_reg_l4': 7.909908859420375e-05, 'leakyrelu_alpha_l4': 0.2591562938662639, 'n_units_l5': 32, 'activation_l5': 'ELU', 'dropout_l5': 0.1626725420355816, 'batch_norm_l5': False, 'l2_reg_l5': 0.04517439958228182, 'n_units_l6': 2048, 'activation_l6': 'LeakyReLU', 'dropout_l6': 0.2572870893667634, 'batch_norm_l6': True, 'l2_reg_l6': 0.0003055770159667927, 'leakyrelu_alpha_l6': 0.23768017878413988, 'n_units_l7': 64, 'activation_l7': 'Tanh', 'dropout_l7': 0.2807131320606093, 'batch_norm_l7': False, 'l2_reg_l7': 0.002328987734563687, 'optimizer': 'RMSprop', 'lr': 0.025001638594246776, 'rmsprop_alpha': 0.8970656940914672, 'epochs': 562, 'batch_size': 128, 'early_stopping_patience': 17, 'lr_reduce_factor': 0.3728653813758235, 'lr_reduce_patience': 21, 'min_lr': 1.2992905038192659e-06}. Best is trial 506 with value: 0.8921898928024502.\u001b[0m\n"
     ]
    },
    {
     "name": "stdout",
     "output_type": "stream",
     "text": [
      "Early stopping\n",
      "Trial 1979 completado. Mejor precisión en validación: 0.8094946401225115\n",
      "Usando GPU para el Trial 1980\n",
      "Entrenando Trial 1980...\n"
     ]
    },
    {
     "name": "stderr",
     "output_type": "stream",
     "text": [
      "\u001b[32m[I 2023-12-01 19:41:40,330]\u001b[0m Trial 1980 finished with value: 0.762021439509954 and parameters: {'n_layers': 7, 'n_units_l0': 16, 'activation_l0': 'LeakyReLU', 'dropout_l0': 0.2847955255895688, 'batch_norm_l0': False, 'l2_reg_l0': 2.8842227992388687e-05, 'leakyrelu_alpha_l0': 0.18635089320061682, 'n_units_l1': 512, 'activation_l1': 'Tanh', 'dropout_l1': 0.25419858693927055, 'batch_norm_l1': False, 'l2_reg_l1': 0.00013568800319989146, 'n_units_l2': 2048, 'activation_l2': 'ReLU', 'dropout_l2': 0.19210900513067836, 'batch_norm_l2': True, 'l2_reg_l2': 0.008715708306552472, 'n_units_l3': 1024, 'activation_l3': 'LeakyReLU', 'dropout_l3': 0.23219276264159963, 'batch_norm_l3': True, 'l2_reg_l3': 0.00025426395186072817, 'leakyrelu_alpha_l3': 0.20106563418591525, 'n_units_l4': 64, 'activation_l4': 'ELU', 'dropout_l4': 0.3791106303884056, 'batch_norm_l4': True, 'l2_reg_l4': 1.6788936568914422e-05, 'n_units_l5': 16, 'activation_l5': 'SELU', 'dropout_l5': 0.06451778314696906, 'batch_norm_l5': False, 'l2_reg_l5': 0.00035618443231210214, 'n_units_l6': 512, 'activation_l6': 'SELU', 'dropout_l6': 0.10803505812294248, 'batch_norm_l6': True, 'l2_reg_l6': 0.00014787967591603263, 'optimizer': 'SGD', 'lr': 8.105358070721284e-05, 'sgd_momentum': 0.32594384582774205, 'epochs': 135, 'batch_size': 256, 'early_stopping_patience': 19, 'lr_reduce_factor': 0.31792458073029406, 'lr_reduce_patience': 48, 'min_lr': 3.0684552842872196e-05}. Best is trial 506 with value: 0.8921898928024502.\u001b[0m\n"
     ]
    },
    {
     "name": "stdout",
     "output_type": "stream",
     "text": [
      "Early stopping\n",
      "Trial 1980 completado. Mejor precisión en validación: 0.762021439509954\n",
      "Usando GPU para el Trial 1981\n",
      "Entrenando Trial 1981...\n"
     ]
    },
    {
     "name": "stderr",
     "output_type": "stream",
     "text": [
      "\u001b[32m[I 2023-12-01 19:42:07,124]\u001b[0m Trial 1981 finished with value: 0.8716692189892803 and parameters: {'n_layers': 6, 'n_units_l0': 2048, 'activation_l0': 'LeakyReLU', 'dropout_l0': 0.09911742178176083, 'batch_norm_l0': False, 'l2_reg_l0': 0.0006614290190416758, 'leakyrelu_alpha_l0': 0.12721067388148558, 'n_units_l1': 1024, 'activation_l1': 'Tanh', 'dropout_l1': 0.00014564204577527384, 'batch_norm_l1': False, 'l2_reg_l1': 0.00021869867254018928, 'n_units_l2': 1024, 'activation_l2': 'ReLU', 'dropout_l2': 0.2810121157325656, 'batch_norm_l2': True, 'l2_reg_l2': 0.001600189102497791, 'n_units_l3': 2048, 'activation_l3': 'Tanh', 'dropout_l3': 0.36971834564744266, 'batch_norm_l3': True, 'l2_reg_l3': 0.050273560369674494, 'n_units_l4': 64, 'activation_l4': 'ReLU', 'dropout_l4': 0.30642341594997413, 'batch_norm_l4': True, 'l2_reg_l4': 0.00036503781049683395, 'n_units_l5': 16, 'activation_l5': 'LeakyReLU', 'dropout_l5': 0.10641762281060418, 'batch_norm_l5': False, 'l2_reg_l5': 1.3242620530558e-05, 'leakyrelu_alpha_l5': 0.07047781908197381, 'optimizer': 'RMSprop', 'lr': 0.0008870505847100368, 'rmsprop_alpha': 0.932785756460529, 'epochs': 256, 'batch_size': 128, 'early_stopping_patience': 16, 'lr_reduce_factor': 0.49786510055108907, 'lr_reduce_patience': 20, 'min_lr': 1.379921665699597e-05}. Best is trial 506 with value: 0.8921898928024502.\u001b[0m\n"
     ]
    },
    {
     "name": "stdout",
     "output_type": "stream",
     "text": [
      "Early stopping\n",
      "Trial 1981 completado. Mejor precisión en validación: 0.8716692189892803\n",
      "Usando GPU para el Trial 1982\n",
      "Entrenando Trial 1982...\n"
     ]
    },
    {
     "name": "stderr",
     "output_type": "stream",
     "text": [
      "\u001b[32m[I 2023-12-01 19:43:04,766]\u001b[0m Trial 1982 finished with value: 0.8725880551301685 and parameters: {'n_layers': 4, 'n_units_l0': 2048, 'activation_l0': 'LeakyReLU', 'dropout_l0': 0.1187329274497472, 'batch_norm_l0': False, 'l2_reg_l0': 0.001009993426192462, 'leakyrelu_alpha_l0': 0.13643171473626325, 'n_units_l1': 512, 'activation_l1': 'Tanh', 'dropout_l1': 0.3973680355763504, 'batch_norm_l1': False, 'l2_reg_l1': 3.7925403792347676e-05, 'n_units_l2': 2048, 'activation_l2': 'ReLU', 'dropout_l2': 0.39791649319698236, 'batch_norm_l2': True, 'l2_reg_l2': 4.5489441209339074e-05, 'n_units_l3': 16, 'activation_l3': 'ReLU', 'dropout_l3': 0.22122913681590783, 'batch_norm_l3': True, 'l2_reg_l3': 0.06625624522896967, 'optimizer': 'RMSprop', 'lr': 0.00048440834566072994, 'rmsprop_alpha': 0.9827736507565157, 'epochs': 374, 'batch_size': 64, 'early_stopping_patience': 18, 'lr_reduce_factor': 0.4410920619740429, 'lr_reduce_patience': 44, 'min_lr': 4.589110288763531e-06}. Best is trial 506 with value: 0.8921898928024502.\u001b[0m\n"
     ]
    },
    {
     "name": "stdout",
     "output_type": "stream",
     "text": [
      "Early stopping\n",
      "Trial 1982 completado. Mejor precisión en validación: 0.8725880551301685\n",
      "Usando GPU para el Trial 1983\n",
      "Entrenando Trial 1983...\n"
     ]
    },
    {
     "name": "stderr",
     "output_type": "stream",
     "text": [
      "                                                                                                                                                                                                                                        \r"
     ]
    },
    {
     "name": "stdout",
     "output_type": "stream",
     "text": [
      "Epoch 00049: reducing learning rate of group 0 to 5.6002e-04.\n"
     ]
    },
    {
     "name": "stderr",
     "output_type": "stream",
     "text": [
      "                                                                                                                                                                                                                                        \r"
     ]
    },
    {
     "name": "stdout",
     "output_type": "stream",
     "text": [
      "Epoch 00078: reducing learning rate of group 0 to 1.9432e-04.\n"
     ]
    },
    {
     "name": "stderr",
     "output_type": "stream",
     "text": [
      "\u001b[32m[I 2023-12-01 19:44:03,581]\u001b[0m Trial 1983 finished with value: 0.8845329249617152 and parameters: {'n_layers': 5, 'n_units_l0': 2048, 'activation_l0': 'ReLU', 'dropout_l0': 0.08127132894955699, 'batch_norm_l0': False, 'l2_reg_l0': 1.547376600018967e-05, 'n_units_l1': 512, 'activation_l1': 'Tanh', 'dropout_l1': 0.2819768398132166, 'batch_norm_l1': True, 'l2_reg_l1': 7.518681354543514e-05, 'n_units_l2': 2048, 'activation_l2': 'ReLU', 'dropout_l2': 0.4628474632801026, 'batch_norm_l2': True, 'l2_reg_l2': 0.025911253143683248, 'n_units_l3': 1024, 'activation_l3': 'SELU', 'dropout_l3': 0.08632489046482432, 'batch_norm_l3': True, 'l2_reg_l3': 1.18450834485528e-05, 'n_units_l4': 64, 'activation_l4': 'LeakyReLU', 'dropout_l4': 0.4677355571866636, 'batch_norm_l4': True, 'l2_reg_l4': 0.00015531808492995816, 'leakyrelu_alpha_l4': 0.2739427976085125, 'optimizer': 'RMSprop', 'lr': 0.0016139594208242976, 'rmsprop_alpha': 0.9135318591451622, 'epochs': 438, 'batch_size': 128, 'early_stopping_patience': 19, 'lr_reduce_factor': 0.34698505608948327, 'lr_reduce_patience': 28, 'min_lr': 5.69239495733868e-05}. Best is trial 506 with value: 0.8921898928024502.\u001b[0m\n"
     ]
    },
    {
     "name": "stdout",
     "output_type": "stream",
     "text": [
      "Early stopping\n",
      "Trial 1983 completado. Mejor precisión en validación: 0.8845329249617152\n",
      "Usando GPU para el Trial 1984\n",
      "Entrenando Trial 1984...\n"
     ]
    },
    {
     "name": "stderr",
     "output_type": "stream",
     "text": [
      "                                                                                                                                                                                                                                        \r"
     ]
    },
    {
     "name": "stdout",
     "output_type": "stream",
     "text": [
      "Epoch 00117: reducing learning rate of group 0 to 1.6483e-03.\n"
     ]
    },
    {
     "name": "stderr",
     "output_type": "stream",
     "text": [
      "\u001b[32m[I 2023-12-01 19:44:44,938]\u001b[0m Trial 1984 finished with value: 0.8784073506891271 and parameters: {'n_layers': 2, 'n_units_l0': 256, 'activation_l0': 'LeakyReLU', 'dropout_l0': 0.0479450688797729, 'batch_norm_l0': False, 'l2_reg_l0': 0.0019340198519181022, 'leakyrelu_alpha_l0': 0.08582766177988078, 'n_units_l1': 1024, 'activation_l1': 'Tanh', 'dropout_l1': 0.47778833314060826, 'batch_norm_l1': False, 'l2_reg_l1': 0.0033386927005639726, 'optimizer': 'RMSprop', 'lr': 0.0024046159310319704, 'rmsprop_alpha': 0.9690148765879955, 'epochs': 1957, 'batch_size': 256, 'early_stopping_patience': 20, 'lr_reduce_factor': 0.6854680584916606, 'lr_reduce_patience': 43, 'min_lr': 1.7068853152926113e-05}. Best is trial 506 with value: 0.8921898928024502.\u001b[0m\n"
     ]
    },
    {
     "name": "stdout",
     "output_type": "stream",
     "text": [
      "Early stopping\n",
      "Trial 1984 completado. Mejor precisión en validación: 0.8784073506891271\n",
      "Usando GPU para el Trial 1985\n",
      "Entrenando Trial 1985...\n"
     ]
    },
    {
     "name": "stderr",
     "output_type": "stream",
     "text": [
      "\u001b[32m[I 2023-12-01 19:45:25,354]\u001b[0m Trial 1985 finished with value: 0.8649310872894334 and parameters: {'n_layers': 9, 'n_units_l0': 2048, 'activation_l0': 'LeakyReLU', 'dropout_l0': 0.13606038203385376, 'batch_norm_l0': False, 'l2_reg_l0': 0.004676493349194915, 'leakyrelu_alpha_l0': 0.10098874375346839, 'n_units_l1': 256, 'activation_l1': 'LeakyReLU', 'dropout_l1': 0.2660064065486592, 'batch_norm_l1': False, 'l2_reg_l1': 0.0019408191936481193, 'leakyrelu_alpha_l1': 0.25732272715904814, 'n_units_l2': 1024, 'activation_l2': 'ReLU', 'dropout_l2': 0.21165628078530305, 'batch_norm_l2': True, 'l2_reg_l2': 0.0032763575913998524, 'n_units_l3': 2048, 'activation_l3': 'LeakyReLU', 'dropout_l3': 0.20139635278498985, 'batch_norm_l3': True, 'l2_reg_l3': 0.00037138350486395455, 'leakyrelu_alpha_l3': 0.18010943463770174, 'n_units_l4': 64, 'activation_l4': 'SELU', 'dropout_l4': 0.48433532178511296, 'batch_norm_l4': True, 'l2_reg_l4': 0.0002724676707512111, 'n_units_l5': 16, 'activation_l5': 'ReLU', 'dropout_l5': 0.20137162120108681, 'batch_norm_l5': False, 'l2_reg_l5': 0.0021111237147206576, 'n_units_l6': 16, 'activation_l6': 'Tanh', 'dropout_l6': 0.07228998182352375, 'batch_norm_l6': False, 'l2_reg_l6': 9.845708029191748e-05, 'n_units_l7': 32, 'activation_l7': 'ReLU', 'dropout_l7': 0.19717447198441368, 'batch_norm_l7': False, 'l2_reg_l7': 0.0008219750753956455, 'n_units_l8': 128, 'activation_l8': 'ReLU', 'dropout_l8': 0.028484565703111808, 'batch_norm_l8': True, 'l2_reg_l8': 2.0929303207956575e-05, 'optimizer': 'RMSprop', 'lr': 0.0005929741124498354, 'rmsprop_alpha': 0.9767903314770553, 'epochs': 1914, 'batch_size': 128, 'early_stopping_patience': 15, 'lr_reduce_factor': 0.1759817562734464, 'lr_reduce_patience': 47, 'min_lr': 9.643199909855977e-06}. Best is trial 506 with value: 0.8921898928024502.\u001b[0m\n"
     ]
    },
    {
     "name": "stdout",
     "output_type": "stream",
     "text": [
      "Early stopping\n",
      "Trial 1985 completado. Mejor precisión en validación: 0.8649310872894334\n",
      "Usando GPU para el Trial 1986\n",
      "Entrenando Trial 1986...\n"
     ]
    },
    {
     "name": "stderr",
     "output_type": "stream",
     "text": [
      "                                                                                                                                                                                                                                        \r"
     ]
    },
    {
     "name": "stdout",
     "output_type": "stream",
     "text": [
      "Epoch 00065: reducing learning rate of group 0 to 1.8486e-04.\n"
     ]
    },
    {
     "name": "stderr",
     "output_type": "stream",
     "text": [
      "\u001b[32m[I 2023-12-01 19:46:04,332]\u001b[0m Trial 1986 finished with value: 0.8817764165390506 and parameters: {'n_layers': 3, 'n_units_l0': 2048, 'activation_l0': 'LeakyReLU', 'dropout_l0': 0.018102298158469546, 'batch_norm_l0': False, 'l2_reg_l0': 0.00035245529474283664, 'leakyrelu_alpha_l0': 0.03657522760754596, 'n_units_l1': 512, 'activation_l1': 'Tanh', 'dropout_l1': 0.13383329441342967, 'batch_norm_l1': False, 'l2_reg_l1': 0.019867067817419544, 'n_units_l2': 2048, 'activation_l2': 'ReLU', 'dropout_l2': 0.23802628506445478, 'batch_norm_l2': True, 'l2_reg_l2': 0.000808125362719185, 'optimizer': 'Adam', 'lr': 0.0007250072631355173, 'adam_beta1': 0.9636075609555889, 'adam_beta2': 0.9297212826094354, 'epochs': 610, 'batch_size': 128, 'early_stopping_patience': 19, 'lr_reduce_factor': 0.25497696168533607, 'lr_reduce_patience': 34, 'min_lr': 6.0488406355246155e-06}. Best is trial 506 with value: 0.8921898928024502.\u001b[0m\n"
     ]
    },
    {
     "name": "stdout",
     "output_type": "stream",
     "text": [
      "Early stopping\n",
      "Trial 1986 completado. Mejor precisión en validación: 0.8817764165390506\n",
      "Usando GPU para el Trial 1987\n",
      "Entrenando Trial 1987...\n"
     ]
    },
    {
     "name": "stderr",
     "output_type": "stream",
     "text": [
      "                                                                                                                                                                                                                                        \r"
     ]
    },
    {
     "name": "stdout",
     "output_type": "stream",
     "text": [
      "Epoch 00074: reducing learning rate of group 0 to 6.3405e-04.\n"
     ]
    },
    {
     "name": "stderr",
     "output_type": "stream",
     "text": [
      "\u001b[32m[I 2023-12-01 19:46:57,160]\u001b[0m Trial 1987 finished with value: 0.8854517611026034 and parameters: {'n_layers': 7, 'n_units_l0': 2048, 'activation_l0': 'SELU', 'dropout_l0': 0.0003454610971424209, 'batch_norm_l0': False, 'l2_reg_l0': 0.026538665422662523, 'n_units_l1': 512, 'activation_l1': 'Tanh', 'dropout_l1': 0.06660945555057221, 'batch_norm_l1': False, 'l2_reg_l1': 0.00686221790429056, 'n_units_l2': 2048, 'activation_l2': 'Tanh', 'dropout_l2': 0.22179659259894308, 'batch_norm_l2': True, 'l2_reg_l2': 1.604408406035896e-05, 'n_units_l3': 1024, 'activation_l3': 'LeakyReLU', 'dropout_l3': 0.04967841361214938, 'batch_norm_l3': True, 'l2_reg_l3': 0.0037615165394313957, 'leakyrelu_alpha_l3': 0.1291735681737137, 'n_units_l4': 64, 'activation_l4': 'LeakyReLU', 'dropout_l4': 0.42789866040446983, 'batch_norm_l4': True, 'l2_reg_l4': 0.0012651052821305868, 'leakyrelu_alpha_l4': 0.23067097768454398, 'n_units_l5': 2048, 'activation_l5': 'ELU', 'dropout_l5': 0.12046838400736591, 'batch_norm_l5': True, 'l2_reg_l5': 0.00029984232483229586, 'n_units_l6': 64, 'activation_l6': 'LeakyReLU', 'dropout_l6': 0.12519370365933485, 'batch_norm_l6': True, 'l2_reg_l6': 0.03438158847196595, 'leakyrelu_alpha_l6': 0.24819671175954164, 'optimizer': 'RMSprop', 'lr': 0.0010540226462895427, 'rmsprop_alpha': 0.9437464562449346, 'epochs': 1846, 'batch_size': 256, 'early_stopping_patience': 17, 'lr_reduce_factor': 0.6015514225125813, 'lr_reduce_patience': 35, 'min_lr': 3.983037561576237e-05}. Best is trial 506 with value: 0.8921898928024502.\u001b[0m\n"
     ]
    },
    {
     "name": "stdout",
     "output_type": "stream",
     "text": [
      "Epoch 00110: reducing learning rate of group 0 to 3.8141e-04.\n",
      "Early stopping\n",
      "Trial 1987 completado. Mejor precisión en validación: 0.8854517611026034\n",
      "Usando GPU para el Trial 1988\n",
      "Entrenando Trial 1988...\n"
     ]
    },
    {
     "name": "stderr",
     "output_type": "stream",
     "text": [
      "                                                                                                                                                                                                                                        \r"
     ]
    },
    {
     "name": "stdout",
     "output_type": "stream",
     "text": [
      "Epoch 00094: reducing learning rate of group 0 to 2.3284e-04.\n"
     ]
    },
    {
     "name": "stderr",
     "output_type": "stream",
     "text": [
      "\u001b[32m[I 2023-12-01 19:48:40,031]\u001b[0m Trial 1988 finished with value: 0.8811638591117917 and parameters: {'n_layers': 10, 'n_units_l0': 512, 'activation_l0': 'LeakyReLU', 'dropout_l0': 0.061329199483105126, 'batch_norm_l0': False, 'l2_reg_l0': 0.0033166684923675084, 'leakyrelu_alpha_l0': 0.21885054657204833, 'n_units_l1': 1024, 'activation_l1': 'Tanh', 'dropout_l1': 0.2977081714577526, 'batch_norm_l1': False, 'l2_reg_l1': 0.08689150585314585, 'n_units_l2': 512, 'activation_l2': 'ReLU', 'dropout_l2': 0.30533096221680095, 'batch_norm_l2': True, 'l2_reg_l2': 8.000322085226164e-05, 'n_units_l3': 256, 'activation_l3': 'LeakyReLU', 'dropout_l3': 0.007669417506418772, 'batch_norm_l3': False, 'l2_reg_l3': 0.0016633895732026166, 'leakyrelu_alpha_l3': 0.2767801665033187, 'n_units_l4': 256, 'activation_l4': 'LeakyReLU', 'dropout_l4': 0.14662309483015715, 'batch_norm_l4': True, 'l2_reg_l4': 0.00013046797001767957, 'leakyrelu_alpha_l4': 0.03825839052298856, 'n_units_l5': 128, 'activation_l5': 'LeakyReLU', 'dropout_l5': 0.13750154068696813, 'batch_norm_l5': False, 'l2_reg_l5': 0.0005033706039096522, 'leakyrelu_alpha_l5': 0.2670057811339679, 'n_units_l6': 1024, 'activation_l6': 'SELU', 'dropout_l6': 0.40751346555223467, 'batch_norm_l6': False, 'l2_reg_l6': 4.146904166861959e-05, 'n_units_l7': 2048, 'activation_l7': 'LeakyReLU', 'dropout_l7': 0.02109444813505552, 'batch_norm_l7': True, 'l2_reg_l7': 0.0010300375568484041, 'leakyrelu_alpha_l7': 0.1530420392365981, 'n_units_l8': 256, 'activation_l8': 'LeakyReLU', 'dropout_l8': 0.22484779284245493, 'batch_norm_l8': False, 'l2_reg_l8': 0.004630166309781727, 'leakyrelu_alpha_l8': 0.1309134856973032, 'n_units_l9': 128, 'activation_l9': 'ELU', 'dropout_l9': 0.13379447908043607, 'batch_norm_l9': True, 'l2_reg_l9': 0.0031995792505812486, 'optimizer': 'RMSprop', 'lr': 0.000360699660841548, 'rmsprop_alpha': 0.8873792289486737, 'epochs': 651, 'batch_size': 128, 'early_stopping_patience': 18, 'lr_reduce_factor': 0.6455225711934581, 'lr_reduce_patience': 50, 'min_lr': 1.100703443044605e-05}. Best is trial 506 with value: 0.8921898928024502.\u001b[0m\n"
     ]
    },
    {
     "name": "stdout",
     "output_type": "stream",
     "text": [
      "Early stopping\n",
      "Trial 1988 completado. Mejor precisión en validación: 0.8811638591117917\n",
      "Usando GPU para el Trial 1989\n",
      "Entrenando Trial 1989...\n"
     ]
    },
    {
     "name": "stderr",
     "output_type": "stream",
     "text": [
      "\u001b[32m[I 2023-12-01 19:49:19,397]\u001b[0m Trial 1989 finished with value: 0.8805513016845329 and parameters: {'n_layers': 6, 'n_units_l0': 2048, 'activation_l0': 'LeakyReLU', 'dropout_l0': 0.4967380547238136, 'batch_norm_l0': False, 'l2_reg_l0': 9.050732451576472e-05, 'leakyrelu_alpha_l0': 0.1451463509870929, 'n_units_l1': 512, 'activation_l1': 'Tanh', 'dropout_l1': 0.3341404674854441, 'batch_norm_l1': False, 'l2_reg_l1': 0.001058003254354064, 'n_units_l2': 256, 'activation_l2': 'ReLU', 'dropout_l2': 0.16138566982878388, 'batch_norm_l2': True, 'l2_reg_l2': 0.0001882929161722344, 'n_units_l3': 2048, 'activation_l3': 'SELU', 'dropout_l3': 0.1124733586128801, 'batch_norm_l3': True, 'l2_reg_l3': 0.0010160023124972269, 'n_units_l4': 2048, 'activation_l4': 'ELU', 'dropout_l4': 0.3554252574897988, 'batch_norm_l4': False, 'l2_reg_l4': 4.233109933450263e-05, 'n_units_l5': 512, 'activation_l5': 'ELU', 'dropout_l5': 0.3466250725487262, 'batch_norm_l5': False, 'l2_reg_l5': 0.000676607478271668, 'optimizer': 'RMSprop', 'lr': 0.00024244995106162412, 'rmsprop_alpha': 0.9732965917416536, 'epochs': 537, 'batch_size': 512, 'early_stopping_patience': 20, 'lr_reduce_factor': 0.5408511862975046, 'lr_reduce_patience': 41, 'min_lr': 3.8186493737825394e-06}. Best is trial 506 with value: 0.8921898928024502.\u001b[0m\n"
     ]
    },
    {
     "name": "stdout",
     "output_type": "stream",
     "text": [
      "Early stopping\n",
      "Trial 1989 completado. Mejor precisión en validación: 0.8805513016845329\n",
      "Usando GPU para el Trial 1990\n",
      "Entrenando Trial 1990...\n"
     ]
    },
    {
     "name": "stderr",
     "output_type": "stream",
     "text": [
      "\u001b[32m[I 2023-12-01 19:49:37,272]\u001b[0m Trial 1990 finished with value: 0.8554364471669219 and parameters: {'n_layers': 4, 'n_units_l0': 32, 'activation_l0': 'LeakyReLU', 'dropout_l0': 0.02977479201938421, 'batch_norm_l0': False, 'l2_reg_l0': 0.0015111951967117826, 'leakyrelu_alpha_l0': 0.2942030268229148, 'n_units_l1': 512, 'activation_l1': 'Tanh', 'dropout_l1': 0.16265572917608562, 'batch_norm_l1': False, 'l2_reg_l1': 0.017001188117657478, 'n_units_l2': 1024, 'activation_l2': 'ReLU', 'dropout_l2': 0.4172491146306808, 'batch_norm_l2': True, 'l2_reg_l2': 0.0010167868598057273, 'n_units_l3': 2048, 'activation_l3': 'LeakyReLU', 'dropout_l3': 0.13148204652408005, 'batch_norm_l3': True, 'l2_reg_l3': 6.073523603530725e-05, 'leakyrelu_alpha_l3': 0.09706197526816747, 'optimizer': 'RMSprop', 'lr': 0.0019784350708768905, 'rmsprop_alpha': 0.866921480849331, 'epochs': 747, 'batch_size': 2048, 'early_stopping_patience': 19, 'lr_reduce_factor': 0.2824241741912191, 'lr_reduce_patience': 39, 'min_lr': 1.1866179921214932e-05}. Best is trial 506 with value: 0.8921898928024502.\u001b[0m\n"
     ]
    },
    {
     "name": "stdout",
     "output_type": "stream",
     "text": [
      "Early stopping\n",
      "Trial 1990 completado. Mejor precisión en validación: 0.8554364471669219\n",
      "Usando GPU para el Trial 1991\n",
      "Entrenando Trial 1991...\n"
     ]
    },
    {
     "name": "stderr",
     "output_type": "stream",
     "text": [
      "\u001b[32m[I 2023-12-01 19:50:31,660]\u001b[0m Trial 1991 finished with value: 0.872281776416539 and parameters: {'n_layers': 8, 'n_units_l0': 2048, 'activation_l0': 'LeakyReLU', 'dropout_l0': 0.16959807259149662, 'batch_norm_l0': False, 'l2_reg_l0': 0.0007886544869978609, 'leakyrelu_alpha_l0': 0.24179793876656186, 'n_units_l1': 512, 'activation_l1': 'ELU', 'dropout_l1': 0.49786318830218157, 'batch_norm_l1': False, 'l2_reg_l1': 3.044590650769349e-05, 'n_units_l2': 2048, 'activation_l2': 'ReLU', 'dropout_l2': 0.07190935012995825, 'batch_norm_l2': True, 'l2_reg_l2': 0.02131371976747805, 'n_units_l3': 1024, 'activation_l3': 'ELU', 'dropout_l3': 0.1432384909475046, 'batch_norm_l3': True, 'l2_reg_l3': 0.00014653642601999696, 'n_units_l4': 64, 'activation_l4': 'ReLU', 'dropout_l4': 0.45485166601755306, 'batch_norm_l4': True, 'l2_reg_l4': 0.0001960833035063639, 'n_units_l5': 64, 'activation_l5': 'SELU', 'dropout_l5': 0.033263525618401124, 'batch_norm_l5': False, 'l2_reg_l5': 0.0010151187954212178, 'n_units_l6': 2048, 'activation_l6': 'LeakyReLU', 'dropout_l6': 0.4551919143123641, 'batch_norm_l6': True, 'l2_reg_l6': 2.223551126581433e-05, 'leakyrelu_alpha_l6': 0.28449040452452284, 'n_units_l7': 256, 'activation_l7': 'ELU', 'dropout_l7': 0.2430367615697146, 'batch_norm_l7': False, 'l2_reg_l7': 0.00016037727396853757, 'optimizer': 'RMSprop', 'lr': 0.0012331654591168058, 'rmsprop_alpha': 0.980530879485275, 'epochs': 309, 'batch_size': 128, 'early_stopping_patience': 16, 'lr_reduce_factor': 0.41008759648398174, 'lr_reduce_patience': 42, 'min_lr': 1.1832181281895351e-06}. Best is trial 506 with value: 0.8921898928024502.\u001b[0m\n"
     ]
    },
    {
     "name": "stdout",
     "output_type": "stream",
     "text": [
      "Early stopping\n",
      "Trial 1991 completado. Mejor precisión en validación: 0.872281776416539\n",
      "Usando GPU para el Trial 1992\n",
      "Entrenando Trial 1992...\n"
     ]
    },
    {
     "name": "stderr",
     "output_type": "stream",
     "text": [
      "                                                                                                                                                                                                                                        \r"
     ]
    },
    {
     "name": "stdout",
     "output_type": "stream",
     "text": [
      "Epoch 00049: reducing learning rate of group 0 to 2.6823e-04.\n"
     ]
    },
    {
     "name": "stderr",
     "output_type": "stream",
     "text": [
      "                                                                                                                                                                                                                                        \r"
     ]
    },
    {
     "name": "stdout",
     "output_type": "stream",
     "text": [
      "Epoch 00095: reducing learning rate of group 0 to 8.5244e-05.\n"
     ]
    },
    {
     "name": "stderr",
     "output_type": "stream",
     "text": [
      "\u001b[32m[I 2023-12-01 19:51:21,576]\u001b[0m Trial 1992 finished with value: 0.8793261868300153 and parameters: {'n_layers': 5, 'n_units_l0': 2048, 'activation_l0': 'LeakyReLU', 'dropout_l0': 0.2152813097720343, 'batch_norm_l0': True, 'l2_reg_l0': 0.018486809794040153, 'leakyrelu_alpha_l0': 0.19528323084460392, 'n_units_l1': 1024, 'activation_l1': 'Tanh', 'dropout_l1': 0.3245156609602296, 'batch_norm_l1': False, 'l2_reg_l1': 0.003960925803202761, 'n_units_l2': 2048, 'activation_l2': 'LeakyReLU', 'dropout_l2': 0.2885342641080708, 'batch_norm_l2': True, 'l2_reg_l2': 0.0006174271874811398, 'leakyrelu_alpha_l2': 0.27245604347643115, 'n_units_l3': 16, 'activation_l3': 'LeakyReLU', 'dropout_l3': 0.3434877886907512, 'batch_norm_l3': True, 'l2_reg_l3': 0.0072814642237064575, 'leakyrelu_alpha_l3': 0.04723133374597973, 'n_units_l4': 64, 'activation_l4': 'LeakyReLU', 'dropout_l4': 0.38749654967879976, 'batch_norm_l4': True, 'l2_reg_l4': 3.327414101481711e-05, 'leakyrelu_alpha_l4': 0.16502848937442774, 'optimizer': 'RMSprop', 'lr': 0.0008440357818623898, 'rmsprop_alpha': 0.9218313777090525, 'epochs': 215, 'batch_size': 256, 'early_stopping_patience': 18, 'lr_reduce_factor': 0.31779757795186636, 'lr_reduce_patience': 45, 'min_lr': 3.4451388623919496e-05}. Best is trial 506 with value: 0.8921898928024502.\u001b[0m\n"
     ]
    },
    {
     "name": "stdout",
     "output_type": "stream",
     "text": [
      "Early stopping\n",
      "Trial 1992 completado. Mejor precisión en validación: 0.8793261868300153\n",
      "Usando GPU para el Trial 1993\n",
      "Entrenando Trial 1993...\n"
     ]
    },
    {
     "name": "stderr",
     "output_type": "stream",
     "text": [
      "\u001b[32m[I 2023-12-01 19:51:53,859]\u001b[0m Trial 1993 finished with value: 0.8272588055130169 and parameters: {'n_layers': 7, 'n_units_l0': 2048, 'activation_l0': 'LeakyReLU', 'dropout_l0': 0.18818812922588785, 'batch_norm_l0': False, 'l2_reg_l0': 0.03446006144301197, 'leakyrelu_alpha_l0': 0.23101934691095993, 'n_units_l1': 512, 'activation_l1': 'Tanh', 'dropout_l1': 0.3767552550562803, 'batch_norm_l1': False, 'l2_reg_l1': 0.05345476527809071, 'n_units_l2': 64, 'activation_l2': 'ReLU', 'dropout_l2': 0.36282637460376027, 'batch_norm_l2': True, 'l2_reg_l2': 0.00023982635844690655, 'n_units_l3': 2048, 'activation_l3': 'SELU', 'dropout_l3': 0.23962416328471436, 'batch_norm_l3': True, 'l2_reg_l3': 0.031872027558637495, 'n_units_l4': 64, 'activation_l4': 'Tanh', 'dropout_l4': 0.2738445919989203, 'batch_norm_l4': True, 'l2_reg_l4': 0.00404882539010399, 'n_units_l5': 16, 'activation_l5': 'LeakyReLU', 'dropout_l5': 0.38168119173396703, 'batch_norm_l5': False, 'l2_reg_l5': 0.00010342296337169421, 'leakyrelu_alpha_l5': 0.2931865406605042, 'n_units_l6': 256, 'activation_l6': 'ReLU', 'dropout_l6': 0.32229482891244216, 'batch_norm_l6': True, 'l2_reg_l6': 0.0006063068035865649, 'optimizer': 'RMSprop', 'lr': 0.004581054045601377, 'rmsprop_alpha': 0.8601787535818458, 'epochs': 503, 'batch_size': 128, 'early_stopping_patience': 20, 'lr_reduce_factor': 0.5892867751425909, 'lr_reduce_patience': 44, 'min_lr': 6.592650362797921e-05}. Best is trial 506 with value: 0.8921898928024502.\u001b[0m\n"
     ]
    },
    {
     "name": "stdout",
     "output_type": "stream",
     "text": [
      "Early stopping\n",
      "Trial 1993 completado. Mejor precisión en validación: 0.8272588055130169\n",
      "Usando GPU para el Trial 1994\n",
      "Entrenando Trial 1994...\n"
     ]
    },
    {
     "name": "stderr",
     "output_type": "stream",
     "text": [
      "\u001b[32m[I 2023-12-01 19:55:23,670]\u001b[0m Trial 1994 finished with value: 0.8637059724349158 and parameters: {'n_layers': 5, 'n_units_l0': 2048, 'activation_l0': 'LeakyReLU', 'dropout_l0': 0.20509161022236708, 'batch_norm_l0': False, 'l2_reg_l0': 0.0025610507268121, 'leakyrelu_alpha_l0': 0.2712123210999126, 'n_units_l1': 512, 'activation_l1': 'Tanh', 'dropout_l1': 0.35442029603409136, 'batch_norm_l1': False, 'l2_reg_l1': 0.0007446867763414537, 'n_units_l2': 1024, 'activation_l2': 'ReLU', 'dropout_l2': 0.1415385213108926, 'batch_norm_l2': True, 'l2_reg_l2': 0.00041603657976712553, 'n_units_l3': 32, 'activation_l3': 'LeakyReLU', 'dropout_l3': 0.04056606622093181, 'batch_norm_l3': True, 'l2_reg_l3': 0.004881452406810579, 'leakyrelu_alpha_l3': 0.14354488052249012, 'n_units_l4': 32, 'activation_l4': 'LeakyReLU', 'dropout_l4': 0.40676455436337233, 'batch_norm_l4': True, 'l2_reg_l4': 0.0021580454364041705, 'leakyrelu_alpha_l4': 0.1711987529975594, 'optimizer': 'RMSprop', 'lr': 0.00043408018671142924, 'rmsprop_alpha': 0.9243987662659895, 'epochs': 273, 'batch_size': 16, 'early_stopping_patience': 19, 'lr_reduce_factor': 0.5572021852955047, 'lr_reduce_patience': 36, 'min_lr': 1.900723543880936e-05}. Best is trial 506 with value: 0.8921898928024502.\u001b[0m\n"
     ]
    },
    {
     "name": "stdout",
     "output_type": "stream",
     "text": [
      "Early stopping\n",
      "Trial 1994 completado. Mejor precisión en validación: 0.8637059724349158\n",
      "Usando GPU para el Trial 1995\n",
      "Entrenando Trial 1995...\n"
     ]
    },
    {
     "name": "stderr",
     "output_type": "stream",
     "text": [
      "\u001b[32m[I 2023-12-01 19:56:17,383]\u001b[0m Trial 1995 finished with value: 0.678407350689127 and parameters: {'n_layers': 35, 'n_units_l0': 2048, 'activation_l0': 'LeakyReLU', 'dropout_l0': 0.06731334006518955, 'batch_norm_l0': False, 'l2_reg_l0': 0.04618897587758714, 'leakyrelu_alpha_l0': 0.1187586282001075, 'n_units_l1': 32, 'activation_l1': 'Tanh', 'dropout_l1': 0.0922560456066783, 'batch_norm_l1': False, 'l2_reg_l1': 0.0004622944416921724, 'n_units_l2': 2048, 'activation_l2': 'ReLU', 'dropout_l2': 0.34717460852620813, 'batch_norm_l2': True, 'l2_reg_l2': 6.145997305977655e-05, 'n_units_l3': 1024, 'activation_l3': 'Tanh', 'dropout_l3': 0.029178867080710123, 'batch_norm_l3': True, 'l2_reg_l3': 9.417167229931536e-05, 'n_units_l4': 64, 'activation_l4': 'SELU', 'dropout_l4': 0.32019330665390056, 'batch_norm_l4': True, 'l2_reg_l4': 0.04783727916786351, 'n_units_l5': 16, 'activation_l5': 'ELU', 'dropout_l5': 0.22737729421456926, 'batch_norm_l5': True, 'l2_reg_l5': 0.004280573850832409, 'n_units_l6': 128, 'activation_l6': 'SELU', 'dropout_l6': 0.42561939108151925, 'batch_norm_l6': False, 'l2_reg_l6': 0.0051212283459827835, 'n_units_l7': 512, 'activation_l7': 'LeakyReLU', 'dropout_l7': 0.1808937925072943, 'batch_norm_l7': False, 'l2_reg_l7': 0.0003283571263048331, 'leakyrelu_alpha_l7': 0.13836915193103055, 'n_units_l8': 32, 'activation_l8': 'ELU', 'dropout_l8': 0.21311254446194633, 'batch_norm_l8': True, 'l2_reg_l8': 1.5965851279172767e-05, 'n_units_l9': 256, 'activation_l9': 'Tanh', 'dropout_l9': 0.06700090506494372, 'batch_norm_l9': False, 'l2_reg_l9': 0.0024651381809115214, 'n_units_l10': 2048, 'activation_l10': 'Tanh', 'dropout_l10': 0.42746353607758353, 'batch_norm_l10': False, 'l2_reg_l10': 1.8277004174425394e-05, 'n_units_l11': 16, 'activation_l11': 'LeakyReLU', 'dropout_l11': 0.49820069228700364, 'batch_norm_l11': True, 'l2_reg_l11': 0.0004948174763000826, 'leakyrelu_alpha_l11': 0.29809118583368616, 'n_units_l12': 64, 'activation_l12': 'ReLU', 'dropout_l12': 0.46596373289896054, 'batch_norm_l12': False, 'l2_reg_l12': 0.0006776281223499163, 'n_units_l13': 512, 'activation_l13': 'LeakyReLU', 'dropout_l13': 0.1381666440311904, 'batch_norm_l13': True, 'l2_reg_l13': 0.00013191494207006745, 'leakyrelu_alpha_l13': 0.20184166286016303, 'n_units_l14': 256, 'activation_l14': 'Tanh', 'dropout_l14': 0.058265478252516434, 'batch_norm_l14': True, 'l2_reg_l14': 0.0015005113846622078, 'n_units_l15': 1024, 'activation_l15': 'Tanh', 'dropout_l15': 0.4880361873899936, 'batch_norm_l15': True, 'l2_reg_l15': 0.0005815898183582224, 'n_units_l16': 32, 'activation_l16': 'LeakyReLU', 'dropout_l16': 0.35188916332924136, 'batch_norm_l16': False, 'l2_reg_l16': 1.447664260311113e-05, 'leakyrelu_alpha_l16': 0.24256181702233498, 'n_units_l17': 128, 'activation_l17': 'ELU', 'dropout_l17': 0.43776041297674034, 'batch_norm_l17': True, 'l2_reg_l17': 0.00023879275971109057, 'n_units_l18': 512, 'activation_l18': 'ELU', 'dropout_l18': 0.1588493586147009, 'batch_norm_l18': False, 'l2_reg_l18': 0.005835913857433396, 'n_units_l19': 512, 'activation_l19': 'LeakyReLU', 'dropout_l19': 0.012445503262118962, 'batch_norm_l19': True, 'l2_reg_l19': 0.013566740470010979, 'leakyrelu_alpha_l19': 0.125793631809471, 'n_units_l20': 16, 'activation_l20': 'Tanh', 'dropout_l20': 0.0896176529556989, 'batch_norm_l20': True, 'l2_reg_l20': 0.016344378216981686, 'n_units_l21': 16, 'activation_l21': 'ReLU', 'dropout_l21': 0.2711117874166399, 'batch_norm_l21': True, 'l2_reg_l21': 1.1923869065526013e-05, 'n_units_l22': 32, 'activation_l22': 'Tanh', 'dropout_l22': 0.08023685935704838, 'batch_norm_l22': False, 'l2_reg_l22': 0.04537486193663902, 'n_units_l23': 128, 'activation_l23': 'SELU', 'dropout_l23': 0.4275062654592674, 'batch_norm_l23': True, 'l2_reg_l23': 0.00016922004008222485, 'n_units_l24': 64, 'activation_l24': 'Tanh', 'dropout_l24': 0.32172301539070014, 'batch_norm_l24': True, 'l2_reg_l24': 0.00043721331220500934, 'n_units_l25': 128, 'activation_l25': 'ELU', 'dropout_l25': 0.2511741379647572, 'batch_norm_l25': False, 'l2_reg_l25': 2.332188260838152e-05, 'n_units_l26': 512, 'activation_l26': 'SELU', 'dropout_l26': 0.1154283626994062, 'batch_norm_l26': True, 'l2_reg_l26': 0.00011313892794556872, 'n_units_l27': 2048, 'activation_l27': 'Tanh', 'dropout_l27': 0.4698815518949317, 'batch_norm_l27': True, 'l2_reg_l27': 0.09996736426055096, 'n_units_l28': 1024, 'activation_l28': 'ReLU', 'dropout_l28': 0.24376002131220562, 'batch_norm_l28': False, 'l2_reg_l28': 6.401543488422751e-05, 'n_units_l29': 2048, 'activation_l29': 'LeakyReLU', 'dropout_l29': 0.2046769387831864, 'batch_norm_l29': False, 'l2_reg_l29': 3.582824487722946e-05, 'leakyrelu_alpha_l29': 0.1402087071406446, 'n_units_l30': 2048, 'activation_l30': 'ReLU', 'dropout_l30': 0.22456673803492894, 'batch_norm_l30': False, 'l2_reg_l30': 0.001097999939025864, 'n_units_l31': 16, 'activation_l31': 'Tanh', 'dropout_l31': 0.05751993396271293, 'batch_norm_l31': False, 'l2_reg_l31': 6.12072426877343e-05, 'n_units_l32': 1024, 'activation_l32': 'LeakyReLU', 'dropout_l32': 0.024427900971630834, 'batch_norm_l32': False, 'l2_reg_l32': 0.0007395920825546439, 'leakyrelu_alpha_l32': 0.01592301156013276, 'n_units_l33': 64, 'activation_l33': 'ELU', 'dropout_l33': 0.4982131363105446, 'batch_norm_l33': False, 'l2_reg_l33': 0.04314637482158958, 'n_units_l34': 256, 'activation_l34': 'ReLU', 'dropout_l34': 0.08605671813634652, 'batch_norm_l34': False, 'l2_reg_l34': 4.6856155695548624e-05, 'optimizer': 'RMSprop', 'lr': 0.0015054077308191771, 'rmsprop_alpha': 0.9377327597437306, 'epochs': 1903, 'batch_size': 128, 'early_stopping_patience': 17, 'lr_reduce_factor': 0.23903575715871916, 'lr_reduce_patience': 37, 'min_lr': 6.593252327855613e-06}. Best is trial 506 with value: 0.8921898928024502.\u001b[0m\n"
     ]
    },
    {
     "name": "stdout",
     "output_type": "stream",
     "text": [
      "Early stopping\n",
      "Trial 1995 completado. Mejor precisión en validación: 0.678407350689127\n",
      "Usando GPU para el Trial 1996\n",
      "Entrenando Trial 1996...\n"
     ]
    },
    {
     "name": "stderr",
     "output_type": "stream",
     "text": [
      "\u001b[32m[I 2023-12-01 19:57:21,811]\u001b[0m Trial 1996 finished with value: 0.8823889739663093 and parameters: {'n_layers': 11, 'n_units_l0': 2048, 'activation_l0': 'ELU', 'dropout_l0': 0.1558186524190895, 'batch_norm_l0': False, 'l2_reg_l0': 0.0012101473816279974, 'n_units_l1': 1024, 'activation_l1': 'Tanh', 'dropout_l1': 0.18184411885517576, 'batch_norm_l1': False, 'l2_reg_l1': 0.03480431949101126, 'n_units_l2': 2048, 'activation_l2': 'ELU', 'dropout_l2': 0.10571789026417514, 'batch_norm_l2': True, 'l2_reg_l2': 1.0075666232293332e-05, 'n_units_l3': 2048, 'activation_l3': 'LeakyReLU', 'dropout_l3': 0.2624305096234048, 'batch_norm_l3': True, 'l2_reg_l3': 0.00019806315483043304, 'leakyrelu_alpha_l3': 0.08611775879737013, 'n_units_l4': 256, 'activation_l4': 'LeakyReLU', 'dropout_l4': 0.36313170889161733, 'batch_norm_l4': True, 'l2_reg_l4': 1.3499278094643795e-05, 'leakyrelu_alpha_l4': 0.1916366027570354, 'n_units_l5': 32, 'activation_l5': 'LeakyReLU', 'dropout_l5': 0.09325878606200053, 'batch_norm_l5': False, 'l2_reg_l5': 0.0025563997677386183, 'leakyrelu_alpha_l5': 0.24649831906205893, 'n_units_l6': 2048, 'activation_l6': 'LeakyReLU', 'dropout_l6': 0.28302852796488426, 'batch_norm_l6': True, 'l2_reg_l6': 1.4894626705098983e-05, 'leakyrelu_alpha_l6': 0.08022776786988968, 'n_units_l7': 64, 'activation_l7': 'SELU', 'dropout_l7': 0.09782798598957106, 'batch_norm_l7': True, 'l2_reg_l7': 0.003977847402011024, 'n_units_l8': 64, 'activation_l8': 'SELU', 'dropout_l8': 0.06773232612227487, 'batch_norm_l8': False, 'l2_reg_l8': 0.0009520554453247402, 'n_units_l9': 512, 'activation_l9': 'ReLU', 'dropout_l9': 0.19187999396750738, 'batch_norm_l9': True, 'l2_reg_l9': 0.0019166526058728456, 'n_units_l10': 1024, 'activation_l10': 'LeakyReLU', 'dropout_l10': 0.21061140327224132, 'batch_norm_l10': True, 'l2_reg_l10': 0.011405560965369613, 'leakyrelu_alpha_l10': 0.2318786922907523, 'optimizer': 'RMSprop', 'lr': 0.000638127055164519, 'rmsprop_alpha': 0.9620259485581678, 'epochs': 358, 'batch_size': 256, 'early_stopping_patience': 18, 'lr_reduce_factor': 0.1641317181237782, 'lr_reduce_patience': 46, 'min_lr': 3.089939289080008e-06}. Best is trial 506 with value: 0.8921898928024502.\u001b[0m\n"
     ]
    },
    {
     "name": "stdout",
     "output_type": "stream",
     "text": [
      "Early stopping\n",
      "Trial 1996 completado. Mejor precisión en validación: 0.8823889739663093\n",
      "Usando GPU para el Trial 1997\n",
      "Entrenando Trial 1997...\n"
     ]
    },
    {
     "name": "stderr",
     "output_type": "stream",
     "text": [
      "\u001b[32m[I 2023-12-01 19:57:52,568]\u001b[0m Trial 1997 finished with value: 0.8750382848392037 and parameters: {'n_layers': 3, 'n_units_l0': 2048, 'activation_l0': 'SELU', 'dropout_l0': 0.03872172114746769, 'batch_norm_l0': False, 'l2_reg_l0': 0.010063926370886616, 'n_units_l1': 512, 'activation_l1': 'Tanh', 'dropout_l1': 0.10221700390104753, 'batch_norm_l1': False, 'l2_reg_l1': 0.002973427254927153, 'n_units_l2': 1024, 'activation_l2': 'ReLU', 'dropout_l2': 0.24327256165845737, 'batch_norm_l2': True, 'l2_reg_l2': 0.0001463908911397325, 'optimizer': 'RMSprop', 'lr': 0.0005288086249405021, 'rmsprop_alpha': 0.854250211873329, 'epochs': 1810, 'batch_size': 128, 'early_stopping_patience': 19, 'lr_reduce_factor': 0.4746716085457475, 'lr_reduce_patience': 38, 'min_lr': 5.677582404294315e-06}. Best is trial 506 with value: 0.8921898928024502.\u001b[0m\n"
     ]
    },
    {
     "name": "stdout",
     "output_type": "stream",
     "text": [
      "Early stopping\n",
      "Trial 1997 completado. Mejor precisión en validación: 0.8750382848392037\n",
      "Usando GPU para el Trial 1998\n",
      "Entrenando Trial 1998...\n"
     ]
    },
    {
     "name": "stderr",
     "output_type": "stream",
     "text": [
      "\u001b[32m[I 2023-12-01 19:58:38,709]\u001b[0m Trial 1998 finished with value: 0.8787136294027565 and parameters: {'n_layers': 6, 'n_units_l0': 2048, 'activation_l0': 'Tanh', 'dropout_l0': 0.08698177209177772, 'batch_norm_l0': False, 'l2_reg_l0': 2.539848706237338e-05, 'n_units_l1': 512, 'activation_l1': 'Tanh', 'dropout_l1': 0.14360144638165204, 'batch_norm_l1': False, 'l2_reg_l1': 0.004720673372871395, 'n_units_l2': 2048, 'activation_l2': 'ReLU', 'dropout_l2': 0.32269561671433455, 'batch_norm_l2': True, 'l2_reg_l2': 0.0001119002430223227, 'n_units_l3': 2048, 'activation_l3': 'LeakyReLU', 'dropout_l3': 0.09503289895453196, 'batch_norm_l3': True, 'l2_reg_l3': 0.0030202385380880903, 'leakyrelu_alpha_l3': 0.18661461679626057, 'n_units_l4': 1024, 'activation_l4': 'ELU', 'dropout_l4': 0.4456947733921193, 'batch_norm_l4': True, 'l2_reg_l4': 2.0030273941103542e-05, 'n_units_l5': 2048, 'activation_l5': 'ELU', 'dropout_l5': 0.48071658604337947, 'batch_norm_l5': False, 'l2_reg_l5': 0.003560626664961903, 'optimizer': 'RMSprop', 'lr': 0.0010040116722691709, 'rmsprop_alpha': 0.9654452333963586, 'epochs': 454, 'batch_size': 128, 'early_stopping_patience': 20, 'lr_reduce_factor': 0.2968556999136718, 'lr_reduce_patience': 43, 'min_lr': 1.7929750824898178e-06}. Best is trial 506 with value: 0.8921898928024502.\u001b[0m\n"
     ]
    },
    {
     "name": "stdout",
     "output_type": "stream",
     "text": [
      "Early stopping\n",
      "Trial 1998 completado. Mejor precisión en validación: 0.8787136294027565\n",
      "Usando GPU para el Trial 1999\n",
      "Entrenando Trial 1999...\n"
     ]
    },
    {
     "name": "stderr",
     "output_type": "stream",
     "text": [
      "\u001b[32m[I 2023-12-01 20:02:55,334]\u001b[0m Trial 1999 finished with value: 0.8496171516079633 and parameters: {'n_layers': 21, 'n_units_l0': 64, 'activation_l0': 'LeakyReLU', 'dropout_l0': 0.10638918828616886, 'batch_norm_l0': False, 'l2_reg_l0': 0.0001760283145049146, 'leakyrelu_alpha_l0': 0.2897650502427846, 'n_units_l1': 1024, 'activation_l1': 'Tanh', 'dropout_l1': 0.49964376370333274, 'batch_norm_l1': False, 'l2_reg_l1': 1.5037140477264436e-05, 'n_units_l2': 256, 'activation_l2': 'ReLU', 'dropout_l2': 0.25455320516945695, 'batch_norm_l2': True, 'l2_reg_l2': 0.002094063876862574, 'n_units_l3': 128, 'activation_l3': 'SELU', 'dropout_l3': 0.009682923154080616, 'batch_norm_l3': True, 'l2_reg_l3': 0.0001257070127385915, 'n_units_l4': 64, 'activation_l4': 'ReLU', 'dropout_l4': 0.4192095410881495, 'batch_norm_l4': True, 'l2_reg_l4': 5.054372460819759e-05, 'n_units_l5': 16, 'activation_l5': 'SELU', 'dropout_l5': 0.43389494220318053, 'batch_norm_l5': False, 'l2_reg_l5': 0.00024728705833706847, 'n_units_l6': 512, 'activation_l6': 'ELU', 'dropout_l6': 0.13332142991177995, 'batch_norm_l6': False, 'l2_reg_l6': 0.0012925594687616235, 'n_units_l7': 16, 'activation_l7': 'LeakyReLU', 'dropout_l7': 0.29639590104998903, 'batch_norm_l7': False, 'l2_reg_l7': 0.0005470580833881257, 'leakyrelu_alpha_l7': 0.22274349683636802, 'n_units_l8': 512, 'activation_l8': 'Tanh', 'dropout_l8': 0.12768724403012757, 'batch_norm_l8': True, 'l2_reg_l8': 4.278440341273743e-05, 'n_units_l9': 32, 'activation_l9': 'LeakyReLU', 'dropout_l9': 0.26174934254374044, 'batch_norm_l9': False, 'l2_reg_l9': 0.03407571044826019, 'leakyrelu_alpha_l9': 0.22421546000942488, 'n_units_l10': 256, 'activation_l10': 'ELU', 'dropout_l10': 0.3591093678806371, 'batch_norm_l10': False, 'l2_reg_l10': 0.000365351928724359, 'n_units_l11': 1024, 'activation_l11': 'ReLU', 'dropout_l11': 0.1833969122364859, 'batch_norm_l11': False, 'l2_reg_l11': 0.004944713264163585, 'n_units_l12': 1024, 'activation_l12': 'LeakyReLU', 'dropout_l12': 0.04816038774763243, 'batch_norm_l12': True, 'l2_reg_l12': 0.00012299641494543565, 'leakyrelu_alpha_l12': 0.23876289309625912, 'n_units_l13': 256, 'activation_l13': 'ReLU', 'dropout_l13': 0.2454707499698527, 'batch_norm_l13': False, 'l2_reg_l13': 0.011720616920404882, 'n_units_l14': 128, 'activation_l14': 'ELU', 'dropout_l14': 0.15333900901677838, 'batch_norm_l14': False, 'l2_reg_l14': 6.220186798003136e-05, 'n_units_l15': 256, 'activation_l15': 'ReLU', 'dropout_l15': 0.27657983354191457, 'batch_norm_l15': False, 'l2_reg_l15': 0.0028618147942026527, 'n_units_l16': 64, 'activation_l16': 'Tanh', 'dropout_l16': 0.41987099467101313, 'batch_norm_l16': True, 'l2_reg_l16': 0.00022133025174323636, 'n_units_l17': 2048, 'activation_l17': 'ReLU', 'dropout_l17': 0.0022800610264493426, 'batch_norm_l17': False, 'l2_reg_l17': 0.06479657087007676, 'n_units_l18': 32, 'activation_l18': 'LeakyReLU', 'dropout_l18': 0.3674325168026639, 'batch_norm_l18': True, 'l2_reg_l18': 0.0002699829202061941, 'leakyrelu_alpha_l18': 0.20461559532693777, 'n_units_l19': 32, 'activation_l19': 'ReLU', 'dropout_l19': 0.37424916840319733, 'batch_norm_l19': False, 'l2_reg_l19': 0.0013113657900908598, 'n_units_l20': 2048, 'activation_l20': 'ELU', 'dropout_l20': 0.010378277776383282, 'batch_norm_l20': False, 'l2_reg_l20': 0.008003331636137302, 'optimizer': 'RMSprop', 'lr': 0.0007959139994585022, 'rmsprop_alpha': 0.9853664512164316, 'epochs': 1962, 'batch_size': 64, 'early_stopping_patience': 19, 'lr_reduce_factor': 0.12451122984274038, 'lr_reduce_patience': 42, 'min_lr': 2.334783130452976e-05}. Best is trial 506 with value: 0.8921898928024502.\u001b[0m\n"
     ]
    },
    {
     "name": "stdout",
     "output_type": "stream",
     "text": [
      "Early stopping\n",
      "Trial 1999 completado. Mejor precisión en validación: 0.8496171516079633\n",
      "Usando GPU para el Trial 2000\n",
      "Entrenando Trial 2000...\n"
     ]
    },
    {
     "name": "stderr",
     "output_type": "stream",
     "text": [
      "\u001b[32m[I 2023-12-01 20:05:49,354]\u001b[0m Trial 2000 finished with value: 0.8554364471669219 and parameters: {'n_layers': 6, 'n_units_l0': 1024, 'activation_l0': 'LeakyReLU', 'dropout_l0': 0.1474067805823138, 'batch_norm_l0': False, 'l2_reg_l0': 0.0016450055997843799, 'leakyrelu_alpha_l0': 0.03162965431401511, 'n_units_l1': 64, 'activation_l1': 'Tanh', 'dropout_l1': 0.4437828408808653, 'batch_norm_l1': False, 'l2_reg_l1': 0.0002919522416860416, 'n_units_l2': 128, 'activation_l2': 'ReLU', 'dropout_l2': 0.44027468012547566, 'batch_norm_l2': True, 'l2_reg_l2': 0.0014039621272317667, 'n_units_l3': 1024, 'activation_l3': 'LeakyReLU', 'dropout_l3': 0.3985035742917956, 'batch_norm_l3': False, 'l2_reg_l3': 0.0007343457000368999, 'leakyrelu_alpha_l3': 0.10684454997164108, 'n_units_l4': 64, 'activation_l4': 'LeakyReLU', 'dropout_l4': 0.37242772795691925, 'batch_norm_l4': True, 'l2_reg_l4': 8.67621173462406e-05, 'leakyrelu_alpha_l4': 0.10850129774633432, 'n_units_l5': 16, 'activation_l5': 'LeakyReLU', 'dropout_l5': 0.011310548142786536, 'batch_norm_l5': False, 'l2_reg_l5': 0.02172146101878192, 'leakyrelu_alpha_l5': 0.17529532127083128, 'optimizer': 'RMSprop', 'lr': 0.0013444450930992632, 'rmsprop_alpha': 0.9086665383666852, 'epochs': 315, 'batch_size': 32, 'early_stopping_patience': 17, 'lr_reduce_factor': 0.6186087871045571, 'lr_reduce_patience': 41, 'min_lr': 8.618546382035869e-06}. Best is trial 506 with value: 0.8921898928024502.\u001b[0m\n"
     ]
    },
    {
     "name": "stdout",
     "output_type": "stream",
     "text": [
      "Early stopping\n",
      "Trial 2000 completado. Mejor precisión en validación: 0.8554364471669219\n",
      "Usando GPU para el Trial 2001\n",
      "Entrenando Trial 2001...\n"
     ]
    },
    {
     "name": "stderr",
     "output_type": "stream",
     "text": [
      "\u001b[32m[I 2023-12-01 20:06:29,272]\u001b[0m Trial 2001 finished with value: 0.8477794793261868 and parameters: {'n_layers': 8, 'n_units_l0': 2048, 'activation_l0': 'LeakyReLU', 'dropout_l0': 0.07906004007031987, 'batch_norm_l0': False, 'l2_reg_l0': 0.013936832130494901, 'leakyrelu_alpha_l0': 0.22274718918645736, 'n_units_l1': 16, 'activation_l1': 'SELU', 'dropout_l1': 0.2291272910027226, 'batch_norm_l1': True, 'l2_reg_l1': 0.013682214127595231, 'n_units_l2': 2048, 'activation_l2': 'Tanh', 'dropout_l2': 0.00218009897510843, 'batch_norm_l2': True, 'l2_reg_l2': 0.0776159895741857, 'n_units_l3': 64, 'activation_l3': 'LeakyReLU', 'dropout_l3': 0.1203427694731886, 'batch_norm_l3': True, 'l2_reg_l3': 0.018368168728054437, 'leakyrelu_alpha_l3': 0.0350509202794176, 'n_units_l4': 64, 'activation_l4': 'LeakyReLU', 'dropout_l4': 0.4989476917052323, 'batch_norm_l4': True, 'l2_reg_l4': 0.007951558392833305, 'leakyrelu_alpha_l4': 0.2514363934914834, 'n_units_l5': 128, 'activation_l5': 'ELU', 'dropout_l5': 0.0002688973700619747, 'batch_norm_l5': True, 'l2_reg_l5': 0.001607187000210325, 'n_units_l6': 2048, 'activation_l6': 'Tanh', 'dropout_l6': 0.3692124382983184, 'batch_norm_l6': True, 'l2_reg_l6': 8.37801877060721e-05, 'n_units_l7': 64, 'activation_l7': 'Tanh', 'dropout_l7': 0.056629163133951096, 'batch_norm_l7': False, 'l2_reg_l7': 0.0026407213495488503, 'optimizer': 'RMSprop', 'lr': 0.0018495576518362791, 'rmsprop_alpha': 0.9296859240006694, 'epochs': 1865, 'batch_size': 256, 'early_stopping_patience': 20, 'lr_reduce_factor': 0.2077796521532052, 'lr_reduce_patience': 45, 'min_lr': 4.937954260091654e-06}. Best is trial 506 with value: 0.8921898928024502.\u001b[0m\n"
     ]
    },
    {
     "name": "stdout",
     "output_type": "stream",
     "text": [
      "Early stopping\n",
      "Trial 2001 completado. Mejor precisión en validación: 0.8477794793261868\n",
      "Usando GPU para el Trial 2002\n",
      "Entrenando Trial 2002...\n"
     ]
    },
    {
     "name": "stderr",
     "output_type": "stream",
     "text": [
      "\u001b[32m[I 2023-12-01 20:07:08,212]\u001b[0m Trial 2002 finished with value: 0.732312404287902 and parameters: {'n_layers': 4, 'n_units_l0': 2048, 'activation_l0': 'LeakyReLU', 'dropout_l0': 0.2725746933696871, 'batch_norm_l0': False, 'l2_reg_l0': 0.00041967227407702714, 'leakyrelu_alpha_l0': 0.25084762725867416, 'n_units_l1': 512, 'activation_l1': 'Tanh', 'dropout_l1': 0.15689053896763006, 'batch_norm_l1': False, 'l2_reg_l1': 4.287010083895002e-05, 'n_units_l2': 1024, 'activation_l2': 'ReLU', 'dropout_l2': 0.20200930733288094, 'batch_norm_l2': True, 'l2_reg_l2': 2.411133284684176e-05, 'n_units_l3': 2048, 'activation_l3': 'SELU', 'dropout_l3': 0.3893874687685655, 'batch_norm_l3': True, 'l2_reg_l3': 0.0013213683658888427, 'optimizer': 'SGD', 'lr': 9.397785865204782e-05, 'sgd_momentum': 0.8668132647239672, 'epochs': 244, 'batch_size': 128, 'early_stopping_patience': 18, 'lr_reduce_factor': 0.7028807260118848, 'lr_reduce_patience': 40, 'min_lr': 1.586136654330433e-06}. Best is trial 506 with value: 0.8921898928024502.\u001b[0m\n"
     ]
    },
    {
     "name": "stdout",
     "output_type": "stream",
     "text": [
      "Early stopping\n",
      "Trial 2002 completado. Mejor precisión en validación: 0.732312404287902\n",
      "Usando GPU para el Trial 2003\n",
      "Entrenando Trial 2003...\n"
     ]
    },
    {
     "name": "stderr",
     "output_type": "stream",
     "text": [
      "                                                                                                                                                                                                                                        \r"
     ]
    },
    {
     "name": "stdout",
     "output_type": "stream",
     "text": [
      "Epoch 00050: reducing learning rate of group 0 to 1.7676e-04.\n"
     ]
    },
    {
     "name": "stderr",
     "output_type": "stream",
     "text": [
      "\u001b[32m[I 2023-12-01 20:08:10,865]\u001b[0m Trial 2003 finished with value: 0.8557427258805513 and parameters: {'n_layers': 7, 'n_units_l0': 512, 'activation_l0': 'LeakyReLU', 'dropout_l0': 0.4502433213460469, 'batch_norm_l0': False, 'l2_reg_l0': 4.1904844208105945e-05, 'leakyrelu_alpha_l0': 0.2384255184355323, 'n_units_l1': 2048, 'activation_l1': 'Tanh', 'dropout_l1': 0.40519610298108644, 'batch_norm_l1': False, 'l2_reg_l1': 0.0024205992771271414, 'n_units_l2': 2048, 'activation_l2': 'ReLU', 'dropout_l2': 0.034946172987296964, 'batch_norm_l2': True, 'l2_reg_l2': 0.00016558347411678881, 'n_units_l3': 1024, 'activation_l3': 'LeakyReLU', 'dropout_l3': 0.4717286696352771, 'batch_norm_l3': True, 'l2_reg_l3': 0.0024009494406099525, 'leakyrelu_alpha_l3': 0.19410198408004237, 'n_units_l4': 16, 'activation_l4': 'LeakyReLU', 'dropout_l4': 0.34724442561996927, 'batch_norm_l4': True, 'l2_reg_l4': 2.450479553971611e-05, 'leakyrelu_alpha_l4': 0.1830582353659263, 'n_units_l5': 512, 'activation_l5': 'ELU', 'dropout_l5': 0.4991879259663864, 'batch_norm_l5': False, 'l2_reg_l5': 0.03348067605037544, 'n_units_l6': 16, 'activation_l6': 'SELU', 'dropout_l6': 0.29719776124336644, 'batch_norm_l6': False, 'l2_reg_l6': 0.0008259799882604015, 'optimizer': 'RMSprop', 'lr': 0.000661091670932753, 'rmsprop_alpha': 0.9586780713037261, 'epochs': 1999, 'batch_size': 128, 'early_stopping_patience': 19, 'lr_reduce_factor': 0.2673786104943745, 'lr_reduce_patience': 43, 'min_lr': 7.309857433674215e-06}. Best is trial 506 with value: 0.8921898928024502.\u001b[0m\n"
     ]
    },
    {
     "name": "stdout",
     "output_type": "stream",
     "text": [
      "Early stopping\n",
      "Trial 2003 completado. Mejor precisión en validación: 0.8557427258805513\n",
      "Usando GPU para el Trial 2004\n",
      "Entrenando Trial 2004...\n"
     ]
    },
    {
     "name": "stderr",
     "output_type": "stream",
     "text": [
      "\u001b[32m[I 2023-12-01 20:08:38,192]\u001b[0m Trial 2004 finished with value: 0.8814701378254212 and parameters: {'n_layers': 4, 'n_units_l0': 2048, 'activation_l0': 'LeakyReLU', 'dropout_l0': 0.12374519201958356, 'batch_norm_l0': False, 'l2_reg_l0': 0.005651117102125394, 'leakyrelu_alpha_l0': 0.2809497124758984, 'n_units_l1': 512, 'activation_l1': 'Tanh', 'dropout_l1': 0.047547629192998375, 'batch_norm_l1': False, 'l2_reg_l1': 0.007930785187875999, 'n_units_l2': 2048, 'activation_l2': 'ReLU', 'dropout_l2': 0.0557234825727716, 'batch_norm_l2': True, 'l2_reg_l2': 0.00028842319583305566, 'n_units_l3': 16, 'activation_l3': 'Tanh', 'dropout_l3': 0.06454261109433934, 'batch_norm_l3': True, 'l2_reg_l3': 2.3375064354659313e-05, 'optimizer': 'RMSprop', 'lr': 0.00039880262264189217, 'rmsprop_alpha': 0.8915523407633258, 'epochs': 172, 'batch_size': 1024, 'early_stopping_patience': 19, 'lr_reduce_factor': 0.34246302975139503, 'lr_reduce_patience': 44, 'min_lr': 4.140644984778392e-06}. Best is trial 506 with value: 0.8921898928024502.\u001b[0m\n"
     ]
    },
    {
     "name": "stdout",
     "output_type": "stream",
     "text": [
      "Early stopping\n",
      "Trial 2004 completado. Mejor precisión en validación: 0.8814701378254212\n",
      "Usando GPU para el Trial 2005\n",
      "Entrenando Trial 2005...\n"
     ]
    },
    {
     "name": "stderr",
     "output_type": "stream",
     "text": [
      "\u001b[32m[I 2023-12-01 20:09:08,500]\u001b[0m Trial 2005 finished with value: 0.870750382848392 and parameters: {'n_layers': 5, 'n_units_l0': 128, 'activation_l0': 'LeakyReLU', 'dropout_l0': 0.1393515416299635, 'batch_norm_l0': False, 'l2_reg_l0': 0.000566965010765587, 'leakyrelu_alpha_l0': 0.06076398116338657, 'n_units_l1': 512, 'activation_l1': 'ReLU', 'dropout_l1': 0.28955852777303615, 'batch_norm_l1': False, 'l2_reg_l1': 2.070139207889833e-05, 'n_units_l2': 1024, 'activation_l2': 'ReLU', 'dropout_l2': 0.1276328867303242, 'batch_norm_l2': True, 'l2_reg_l2': 0.007023933114870669, 'n_units_l3': 2048, 'activation_l3': 'LeakyReLU', 'dropout_l3': 0.01922222349368706, 'batch_norm_l3': True, 'l2_reg_l3': 0.03952225886218802, 'leakyrelu_alpha_l3': 0.011941610923363905, 'n_units_l4': 64, 'activation_l4': 'SELU', 'dropout_l4': 0.33556837476583296, 'batch_norm_l4': True, 'l2_reg_l4': 6.13051203039471e-05, 'optimizer': 'RMSprop', 'lr': 0.00029757985388875535, 'rmsprop_alpha': 0.8733806450753012, 'epochs': 574, 'batch_size': 256, 'early_stopping_patience': 20, 'lr_reduce_factor': 0.5191892297345211, 'lr_reduce_patience': 42, 'min_lr': 1.403789401146384e-06}. Best is trial 506 with value: 0.8921898928024502.\u001b[0m\n"
     ]
    },
    {
     "name": "stdout",
     "output_type": "stream",
     "text": [
      "Early stopping\n",
      "Trial 2005 completado. Mejor precisión en validación: 0.870750382848392\n",
      "Usando GPU para el Trial 2006\n",
      "Entrenando Trial 2006...\n"
     ]
    },
    {
     "name": "stderr",
     "output_type": "stream",
     "text": [
      "\u001b[32m[I 2023-12-01 20:09:17,482]\u001b[0m Trial 2006 finished with value: 0.678407350689127 and parameters: {'n_layers': 2, 'n_units_l0': 2048, 'activation_l0': 'LeakyReLU', 'dropout_l0': 0.29017673311499437, 'batch_norm_l0': False, 'l2_reg_l0': 0.0037566218531590355, 'leakyrelu_alpha_l0': 0.2159475758947294, 'n_units_l1': 1024, 'activation_l1': 'Tanh', 'dropout_l1': 0.11979743143364585, 'batch_norm_l1': False, 'l2_reg_l1': 5.7607767519712586e-05, 'optimizer': 'Adam', 'lr': 0.012048041989473695, 'adam_beta1': 0.9598993676772294, 'adam_beta2': 0.9223604361474745, 'epochs': 341, 'batch_size': 128, 'early_stopping_patience': 18, 'lr_reduce_factor': 0.3882204407163861, 'lr_reduce_patience': 46, 'min_lr': 3.7691023850461295e-05}. Best is trial 506 with value: 0.8921898928024502.\u001b[0m\n"
     ]
    },
    {
     "name": "stdout",
     "output_type": "stream",
     "text": [
      "Early stopping\n",
      "Trial 2006 completado. Mejor precisión en validación: 0.678407350689127\n",
      "Usando GPU para el Trial 2007\n",
      "Entrenando Trial 2007...\n"
     ]
    },
    {
     "name": "stderr",
     "output_type": "stream",
     "text": [
      "\u001b[32m[I 2023-12-01 20:09:55,284]\u001b[0m Trial 2007 finished with value: 0.845635528330781 and parameters: {'n_layers': 9, 'n_units_l0': 2048, 'activation_l0': 'SELU', 'dropout_l0': 0.4707443362698353, 'batch_norm_l0': False, 'l2_reg_l0': 0.0009235890756228399, 'n_units_l1': 512, 'activation_l1': 'Tanh', 'dropout_l1': 0.19651344841996565, 'batch_norm_l1': False, 'l2_reg_l1': 0.001573547640371822, 'n_units_l2': 32, 'activation_l2': 'ReLU', 'dropout_l2': 0.26634111241748504, 'batch_norm_l2': False, 'l2_reg_l2': 3.260115778764561e-05, 'n_units_l3': 2048, 'activation_l3': 'SELU', 'dropout_l3': 0.2102495292580495, 'batch_norm_l3': True, 'l2_reg_l3': 7.30547116833684e-05, 'n_units_l4': 256, 'activation_l4': 'ELU', 'dropout_l4': 0.26443924015260245, 'batch_norm_l4': True, 'l2_reg_l4': 0.0003348139173931373, 'n_units_l5': 16, 'activation_l5': 'LeakyReLU', 'dropout_l5': 0.30334726876817925, 'batch_norm_l5': False, 'l2_reg_l5': 0.008673631270213221, 'leakyrelu_alpha_l5': 0.189509721366087, 'n_units_l6': 2048, 'activation_l6': 'LeakyReLU', 'dropout_l6': 0.23017812845173613, 'batch_norm_l6': True, 'l2_reg_l6': 0.00011270753788069996, 'leakyrelu_alpha_l6': 0.269630748132122, 'n_units_l7': 32, 'activation_l7': 'ELU', 'dropout_l7': 0.0824634917540064, 'batch_norm_l7': True, 'l2_reg_l7': 0.009589267053884055, 'n_units_l8': 2048, 'activation_l8': 'ReLU', 'dropout_l8': 0.4749816654862639, 'batch_norm_l8': False, 'l2_reg_l8': 0.00027028350206027005, 'optimizer': 'RMSprop', 'lr': 5.1852889786541896e-05, 'rmsprop_alpha': 0.955749392167559, 'epochs': 398, 'batch_size': 512, 'early_stopping_patience': 17, 'lr_reduce_factor': 0.18657894179845405, 'lr_reduce_patience': 44, 'min_lr': 4.365308863633879e-05}. Best is trial 506 with value: 0.8921898928024502.\u001b[0m\n"
     ]
    },
    {
     "name": "stdout",
     "output_type": "stream",
     "text": [
      "Early stopping\n",
      "Trial 2007 completado. Mejor precisión en validación: 0.845635528330781\n",
      "Usando GPU para el Trial 2008\n",
      "Entrenando Trial 2008...\n"
     ]
    },
    {
     "name": "stderr",
     "output_type": "stream",
     "text": [
      "\u001b[32m[I 2023-12-01 20:10:38,297]\u001b[0m Trial 2008 finished with value: 0.8257274119448699 and parameters: {'n_layers': 7, 'n_units_l0': 2048, 'activation_l0': 'LeakyReLU', 'dropout_l0': 0.16339112736615927, 'batch_norm_l0': False, 'l2_reg_l0': 1.325642130534555e-05, 'leakyrelu_alpha_l0': 0.204103859318762, 'n_units_l1': 128, 'activation_l1': 'Tanh', 'dropout_l1': 0.3624803098706415, 'batch_norm_l1': False, 'l2_reg_l1': 0.00015950365688756541, 'n_units_l2': 2048, 'activation_l2': 'ReLU', 'dropout_l2': 0.29963244716106574, 'batch_norm_l2': True, 'l2_reg_l2': 0.0017929776364559319, 'n_units_l3': 1024, 'activation_l3': 'LeakyReLU', 'dropout_l3': 0.48704046489884656, 'batch_norm_l3': True, 'l2_reg_l3': 0.054783320680312685, 'leakyrelu_alpha_l3': 0.13448861801649323, 'n_units_l4': 2048, 'activation_l4': 'ReLU', 'dropout_l4': 0.39855024225185853, 'batch_norm_l4': True, 'l2_reg_l4': 0.013318146422496915, 'n_units_l5': 32, 'activation_l5': 'SELU', 'dropout_l5': 0.08248255703138271, 'batch_norm_l5': False, 'l2_reg_l5': 0.00014756437956616776, 'n_units_l6': 32, 'activation_l6': 'LeakyReLU', 'dropout_l6': 0.3084298942996398, 'batch_norm_l6': True, 'l2_reg_l6': 4.9382283581343516e-05, 'leakyrelu_alpha_l6': 0.028429003355855353, 'optimizer': 'RMSprop', 'lr': 0.005671428398712117, 'rmsprop_alpha': 0.9174177284139482, 'epochs': 688, 'batch_size': 128, 'early_stopping_patience': 19, 'lr_reduce_factor': 0.4503576807271245, 'lr_reduce_patience': 41, 'min_lr': 3.387639419020253e-06}. Best is trial 506 with value: 0.8921898928024502.\u001b[0m\n"
     ]
    },
    {
     "name": "stdout",
     "output_type": "stream",
     "text": [
      "Early stopping\n",
      "Trial 2008 completado. Mejor precisión en validación: 0.8257274119448699\n",
      "Usando GPU para el Trial 2009\n",
      "Entrenando Trial 2009...\n"
     ]
    },
    {
     "name": "stderr",
     "output_type": "stream",
     "text": [
      "\u001b[32m[I 2023-12-01 20:11:46,125]\u001b[0m Trial 2009 finished with value: 0.8633996937212863 and parameters: {'n_layers': 5, 'n_units_l0': 16, 'activation_l0': 'LeakyReLU', 'dropout_l0': 0.09542140616061245, 'batch_norm_l0': False, 'l2_reg_l0': 0.0021292512377271426, 'leakyrelu_alpha_l0': 0.09504258039272423, 'n_units_l1': 512, 'activation_l1': 'Tanh', 'dropout_l1': 0.4184574961443872, 'batch_norm_l1': False, 'l2_reg_l1': 0.0003686580143332453, 'n_units_l2': 2048, 'activation_l2': 'ReLU', 'dropout_l2': 0.3742712835140948, 'batch_norm_l2': True, 'l2_reg_l2': 0.0005661556819836391, 'n_units_l3': 2048, 'activation_l3': 'LeakyReLU', 'dropout_l3': 0.298149230354199, 'batch_norm_l3': True, 'l2_reg_l3': 0.012039536633934362, 'leakyrelu_alpha_l3': 0.061312525222682455, 'n_units_l4': 64, 'activation_l4': 'LeakyReLU', 'dropout_l4': 0.20288287336846153, 'batch_norm_l4': True, 'l2_reg_l4': 0.0653497170019674, 'leakyrelu_alpha_l4': 0.1526132786802531, 'optimizer': 'RMSprop', 'lr': 0.0005276248479758885, 'rmsprop_alpha': 0.8991182800503612, 'epochs': 909, 'batch_size': 256, 'early_stopping_patience': 16, 'lr_reduce_factor': 0.14123073362582078, 'lr_reduce_patience': 35, 'min_lr': 5.289925002779335e-06}. Best is trial 506 with value: 0.8921898928024502.\u001b[0m\n"
     ]
    },
    {
     "name": "stdout",
     "output_type": "stream",
     "text": [
      "Early stopping\n",
      "Trial 2009 completado. Mejor precisión en validación: 0.8633996937212863\n",
      "Usando GPU para el Trial 2010\n",
      "Entrenando Trial 2010...\n"
     ]
    },
    {
     "name": "stderr",
     "output_type": "stream",
     "text": [
      "\u001b[32m[I 2023-12-01 20:12:21,339]\u001b[0m Trial 2010 finished with value: 0.8728943338437979 and parameters: {'n_layers': 6, 'n_units_l0': 1024, 'activation_l0': 'ReLU', 'dropout_l0': 0.025247011342810398, 'batch_norm_l0': True, 'l2_reg_l0': 3.300838355445374e-05, 'n_units_l1': 1024, 'activation_l1': 'Tanh', 'dropout_l1': 0.0265233318131877, 'batch_norm_l1': False, 'l2_reg_l1': 0.0005535324190358755, 'n_units_l2': 16, 'activation_l2': 'ReLU', 'dropout_l2': 0.47093057115747466, 'batch_norm_l2': True, 'l2_reg_l2': 0.00012631623063204576, 'n_units_l3': 32, 'activation_l3': 'LeakyReLU', 'dropout_l3': 0.32110950113519326, 'batch_norm_l3': True, 'l2_reg_l3': 0.004223374918722566, 'leakyrelu_alpha_l3': 0.15203696941882208, 'n_units_l4': 64, 'activation_l4': 'Tanh', 'dropout_l4': 0.4350480336424655, 'batch_norm_l4': True, 'l2_reg_l4': 0.0049041782945342715, 'n_units_l5': 2048, 'activation_l5': 'ReLU', 'dropout_l5': 0.3978293094609141, 'batch_norm_l5': False, 'l2_reg_l5': 0.0178849439773734, 'optimizer': 'RMSprop', 'lr': 0.0009317904811301903, 'rmsprop_alpha': 0.9486558785900129, 'epochs': 528, 'batch_size': 128, 'early_stopping_patience': 20, 'lr_reduce_factor': 0.6566413110192131, 'lr_reduce_patience': 45, 'min_lr': 2.439011997322356e-06}. Best is trial 506 with value: 0.8921898928024502.\u001b[0m\n"
     ]
    },
    {
     "name": "stdout",
     "output_type": "stream",
     "text": [
      "Early stopping\n",
      "Trial 2010 completado. Mejor precisión en validación: 0.8728943338437979\n",
      "Usando GPU para el Trial 2011\n",
      "Entrenando Trial 2011...\n"
     ]
    },
    {
     "name": "stderr",
     "output_type": "stream",
     "text": [
      "\u001b[32m[I 2023-12-01 20:12:56,001]\u001b[0m Trial 2011 finished with value: 0.8679938744257274 and parameters: {'n_layers': 3, 'n_units_l0': 2048, 'activation_l0': 'LeakyReLU', 'dropout_l0': 0.04947940740668724, 'batch_norm_l0': False, 'l2_reg_l0': 0.0002797040535594429, 'leakyrelu_alpha_l0': 0.2954601094045019, 'n_units_l1': 512, 'activation_l1': 'LeakyReLU', 'dropout_l1': 0.13646752835976036, 'batch_norm_l1': False, 'l2_reg_l1': 0.0035477630351842455, 'leakyrelu_alpha_l1': 0.2758085068518545, 'n_units_l2': 1024, 'activation_l2': 'ReLU', 'dropout_l2': 0.23069708153602903, 'batch_norm_l2': True, 'l2_reg_l2': 0.0026365857962214055, 'optimizer': 'RMSprop', 'lr': 0.003020419502266309, 'rmsprop_alpha': 0.8782820478505671, 'epochs': 279, 'batch_size': 128, 'early_stopping_patience': 19, 'lr_reduce_factor': 0.5780324572815139, 'lr_reduce_patience': 49, 'min_lr': 2.5080432773178595e-05}. Best is trial 506 with value: 0.8921898928024502.\u001b[0m\n"
     ]
    },
    {
     "name": "stdout",
     "output_type": "stream",
     "text": [
      "Early stopping\n",
      "Trial 2011 completado. Mejor precisión en validación: 0.8679938744257274\n",
      "Usando GPU para el Trial 2012\n",
      "Entrenando Trial 2012...\n"
     ]
    },
    {
     "name": "stderr",
     "output_type": "stream",
     "text": [
      "                                                                                                                                                                                                                                        \r"
     ]
    },
    {
     "name": "stdout",
     "output_type": "stream",
     "text": [
      "Epoch 00088: reducing learning rate of group 0 to 8.4872e-04.\n"
     ]
    },
    {
     "name": "stderr",
     "output_type": "stream",
     "text": [
      "\u001b[32m[I 2023-12-01 20:13:41,547]\u001b[0m Trial 2012 finished with value: 0.8857580398162328 and parameters: {'n_layers': 8, 'n_units_l0': 2048, 'activation_l0': 'LeakyReLU', 'dropout_l0': 0.1805890827380906, 'batch_norm_l0': False, 'l2_reg_l0': 2.0546181228016764e-05, 'leakyrelu_alpha_l0': 0.1306193621608504, 'n_units_l1': 512, 'activation_l1': 'Tanh', 'dropout_l1': 0.21148297076776448, 'batch_norm_l1': False, 'l2_reg_l1': 4.902750907584145e-05, 'n_units_l2': 2048, 'activation_l2': 'ReLU', 'dropout_l2': 0.4260433396921299, 'batch_norm_l2': True, 'l2_reg_l2': 0.0009285925577493401, 'n_units_l3': 1024, 'activation_l3': 'SELU', 'dropout_l3': 0.17862891884558377, 'batch_norm_l3': True, 'l2_reg_l3': 0.0005268894875224365, 'n_units_l4': 64, 'activation_l4': 'LeakyReLU', 'dropout_l4': 0.23035354500425695, 'batch_norm_l4': False, 'l2_reg_l4': 1.6027120544496105e-05, 'leakyrelu_alpha_l4': 0.2774860756328669, 'n_units_l5': 16, 'activation_l5': 'ELU', 'dropout_l5': 0.36454777155230916, 'batch_norm_l5': True, 'l2_reg_l5': 0.0008067437002855893, 'n_units_l6': 128, 'activation_l6': 'SELU', 'dropout_l6': 0.33870468764291095, 'batch_norm_l6': False, 'l2_reg_l6': 0.00895366632369222, 'n_units_l7': 512, 'activation_l7': 'LeakyReLU', 'dropout_l7': 0.12223448822089766, 'batch_norm_l7': False, 'l2_reg_l7': 0.00023137796824492708, 'leakyrelu_alpha_l7': 0.1723736677569272, 'optimizer': 'RMSprop', 'lr': 0.0011969122878186435, 'rmsprop_alpha': 0.8711655838575517, 'epochs': 1940, 'batch_size': 256, 'early_stopping_patience': 14, 'lr_reduce_factor': 0.7090939670445348, 'lr_reduce_patience': 38, 'min_lr': 2.817111576338886e-05}. Best is trial 506 with value: 0.8921898928024502.\u001b[0m\n"
     ]
    },
    {
     "name": "stdout",
     "output_type": "stream",
     "text": [
      "Early stopping\n",
      "Trial 2012 completado. Mejor precisión en validación: 0.8857580398162328\n",
      "Usando GPU para el Trial 2013\n",
      "Entrenando Trial 2013...\n"
     ]
    },
    {
     "name": "stderr",
     "output_type": "stream",
     "text": [
      "\u001b[32m[I 2023-12-01 20:14:00,951]\u001b[0m Trial 2013 finished with value: 0.8073506891271056 and parameters: {'n_layers': 5, 'n_units_l0': 256, 'activation_l0': 'LeakyReLU', 'dropout_l0': 0.01661187452012376, 'batch_norm_l0': False, 'l2_reg_l0': 7.686723650539763e-05, 'leakyrelu_alpha_l0': 0.1806036085066911, 'n_units_l1': 1024, 'activation_l1': 'Tanh', 'dropout_l1': 0.16750410615220884, 'batch_norm_l1': False, 'l2_reg_l1': 2.497313902406881e-05, 'n_units_l2': 256, 'activation_l2': 'ReLU', 'dropout_l2': 0.38646128626175985, 'batch_norm_l2': True, 'l2_reg_l2': 0.01685056246568215, 'n_units_l3': 2048, 'activation_l3': 'ReLU', 'dropout_l3': 0.4283468028954007, 'batch_norm_l3': False, 'l2_reg_l3': 0.001980862304946166, 'n_units_l4': 64, 'activation_l4': 'LeakyReLU', 'dropout_l4': 0.2521164367352472, 'batch_norm_l4': True, 'l2_reg_l4': 0.00010147394668128432, 'leakyrelu_alpha_l4': 0.2566093368033041, 'optimizer': 'RMSprop', 'lr': 0.05809490203935549, 'rmsprop_alpha': 0.9718176022667947, 'epochs': 844, 'batch_size': 128, 'early_stopping_patience': 18, 'lr_reduce_factor': 0.30396932623861483, 'lr_reduce_patience': 43, 'min_lr': 2.0756065950800762e-05}. Best is trial 506 with value: 0.8921898928024502.\u001b[0m\n"
     ]
    },
    {
     "name": "stdout",
     "output_type": "stream",
     "text": [
      "Early stopping\n",
      "Trial 2013 completado. Mejor precisión en validación: 0.8073506891271056\n",
      "Usando GPU para el Trial 2014\n",
      "Entrenando Trial 2014...\n"
     ]
    },
    {
     "name": "stderr",
     "output_type": "stream",
     "text": [
      "                                                                                                                                                                                                                                        \r"
     ]
    },
    {
     "name": "stdout",
     "output_type": "stream",
     "text": [
      "Epoch 00118: reducing learning rate of group 0 to 5.0121e-05.\n"
     ]
    },
    {
     "name": "stderr",
     "output_type": "stream",
     "text": [
      "\u001b[32m[I 2023-12-01 20:16:19,707]\u001b[0m Trial 2014 finished with value: 0.8860643185298622 and parameters: {'n_layers': 4, 'n_units_l0': 2048, 'activation_l0': 'LeakyReLU', 'dropout_l0': 0.4205917630866584, 'batch_norm_l0': False, 'l2_reg_l0': 0.00011725434082555051, 'leakyrelu_alpha_l0': 0.24627728939377727, 'n_units_l1': 512, 'activation_l1': 'Tanh', 'dropout_l1': 0.11391443993377624, 'batch_norm_l1': False, 'l2_reg_l1': 0.027196017380394403, 'n_units_l2': 2048, 'activation_l2': 'ReLU', 'dropout_l2': 0.10012490767652413, 'batch_norm_l2': True, 'l2_reg_l2': 0.005282464295142138, 'n_units_l3': 16, 'activation_l3': 'LeakyReLU', 'dropout_l3': 0.16856919701687395, 'batch_norm_l3': True, 'l2_reg_l3': 0.00976368916448055, 'leakyrelu_alpha_l3': 0.27883488837242426, 'optimizer': 'RMSprop', 'lr': 0.00014919464475943205, 'rmsprop_alpha': 0.9784876690426122, 'epochs': 217, 'batch_size': 64, 'early_stopping_patience': 20, 'lr_reduce_factor': 0.22852573124014772, 'lr_reduce_patience': 40, 'min_lr': 5.0121483622963295e-05}. Best is trial 506 with value: 0.8921898928024502.\u001b[0m\n"
     ]
    },
    {
     "name": "stdout",
     "output_type": "stream",
     "text": [
      "Early stopping\n",
      "Trial 2014 completado. Mejor precisión en validación: 0.8860643185298622\n",
      "Usando GPU para el Trial 2015\n",
      "Entrenando Trial 2015...\n"
     ]
    },
    {
     "name": "stderr",
     "output_type": "stream",
     "text": [
      "                                                                                                                                                                                                                                        \r"
     ]
    },
    {
     "name": "stdout",
     "output_type": "stream",
     "text": [
      "Epoch 00073: reducing learning rate of group 0 to 4.6632e-04.\n"
     ]
    },
    {
     "name": "stderr",
     "output_type": "stream",
     "text": [
      "\u001b[32m[I 2023-12-01 20:17:14,164]\u001b[0m Trial 2015 finished with value: 0.8833078101071975 and parameters: {'n_layers': 6, 'n_units_l0': 2048, 'activation_l0': 'LeakyReLU', 'dropout_l0': 0.06048280178819624, 'batch_norm_l0': False, 'l2_reg_l0': 0.0002013456205070017, 'leakyrelu_alpha_l0': 0.2102420649048361, 'n_units_l1': 256, 'activation_l1': 'Tanh', 'dropout_l1': 0.31730839345567574, 'batch_norm_l1': False, 'l2_reg_l1': 0.010871446080190306, 'n_units_l2': 2048, 'activation_l2': 'Tanh', 'dropout_l2': 0.4094832917897725, 'batch_norm_l2': True, 'l2_reg_l2': 8.878493712602039e-05, 'n_units_l3': 1024, 'activation_l3': 'Tanh', 'dropout_l3': 0.49975002333721535, 'batch_norm_l3': True, 'l2_reg_l3': 4.966932372593325e-05, 'n_units_l4': 64, 'activation_l4': 'ELU', 'dropout_l4': 0.4111485946612417, 'batch_norm_l4': True, 'l2_reg_l4': 0.00017035994444777213, 'n_units_l5': 16, 'activation_l5': 'LeakyReLU', 'dropout_l5': 0.3240823988576632, 'batch_norm_l5': False, 'l2_reg_l5': 0.006681761774516233, 'leakyrelu_alpha_l5': 0.12416751630105646, 'optimizer': 'RMSprop', 'lr': 0.0007315214202254585, 'rmsprop_alpha': 0.91109431741176, 'epochs': 134, 'batch_size': 128, 'early_stopping_patience': 18, 'lr_reduce_factor': 0.6374660857607258, 'lr_reduce_patience': 42, 'min_lr': 2.0729207611651917e-06}. Best is trial 506 with value: 0.8921898928024502.\u001b[0m\n"
     ]
    },
    {
     "name": "stdout",
     "output_type": "stream",
     "text": [
      "Early stopping\n",
      "Trial 2015 completado. Mejor precisión en validación: 0.8833078101071975\n",
      "Usando GPU para el Trial 2016\n",
      "Entrenando Trial 2016...\n"
     ]
    },
    {
     "name": "stderr",
     "output_type": "stream",
     "text": [
      "\u001b[32m[I 2023-12-01 20:18:25,930]\u001b[0m Trial 2016 finished with value: 0.678407350689127 and parameters: {'n_layers': 44, 'n_units_l0': 2048, 'activation_l0': 'SELU', 'dropout_l0': 0.11178843764260686, 'batch_norm_l0': False, 'l2_reg_l0': 0.0006672705167472343, 'n_units_l1': 512, 'activation_l1': 'Tanh', 'dropout_l1': 0.2411521215978807, 'batch_norm_l1': False, 'l2_reg_l1': 0.00023308017884477857, 'n_units_l2': 1024, 'activation_l2': 'ReLU', 'dropout_l2': 0.2792801788457494, 'batch_norm_l2': True, 'l2_reg_l2': 0.00022218221088250606, 'n_units_l3': 2048, 'activation_l3': 'LeakyReLU', 'dropout_l3': 0.4142341341960457, 'batch_norm_l3': True, 'l2_reg_l3': 0.08045894053940186, 'leakyrelu_alpha_l3': 0.21008551078146337, 'n_units_l4': 256, 'activation_l4': 'ReLU', 'dropout_l4': 0.383669691457158, 'batch_norm_l4': True, 'l2_reg_l4': 0.0008818269093068315, 'n_units_l5': 2048, 'activation_l5': 'ELU', 'dropout_l5': 0.06364030893327863, 'batch_norm_l5': False, 'l2_reg_l5': 2.6795245993380563e-05, 'n_units_l6': 2048, 'activation_l6': 'Tanh', 'dropout_l6': 0.17109033862602457, 'batch_norm_l6': True, 'l2_reg_l6': 0.0247649619648268, 'n_units_l7': 128, 'activation_l7': 'ReLU', 'dropout_l7': 0.032375220924704934, 'batch_norm_l7': True, 'l2_reg_l7': 0.0015960734898578606, 'n_units_l8': 16, 'activation_l8': 'LeakyReLU', 'dropout_l8': 0.16324202700314536, 'batch_norm_l8': True, 'l2_reg_l8': 0.0012443589291331165, 'leakyrelu_alpha_l8': 0.1785084782306112, 'n_units_l9': 64, 'activation_l9': 'SELU', 'dropout_l9': 0.39156253074095354, 'batch_norm_l9': True, 'l2_reg_l9': 0.008482623325939402, 'n_units_l10': 64, 'activation_l10': 'SELU', 'dropout_l10': 0.18857095747168917, 'batch_norm_l10': True, 'l2_reg_l10': 2.9202358896976702e-05, 'n_units_l11': 32, 'activation_l11': 'Tanh', 'dropout_l11': 0.07245145212644422, 'batch_norm_l11': True, 'l2_reg_l11': 1.2629544385143245e-05, 'n_units_l12': 16, 'activation_l12': 'Tanh', 'dropout_l12': 0.44239781721049104, 'batch_norm_l12': False, 'l2_reg_l12': 0.0005143157997146833, 'n_units_l13': 64, 'activation_l13': 'SELU', 'dropout_l13': 0.4844280865739639, 'batch_norm_l13': True, 'l2_reg_l13': 0.017769271087463213, 'n_units_l14': 32, 'activation_l14': 'SELU', 'dropout_l14': 0.3925782840997009, 'batch_norm_l14': True, 'l2_reg_l14': 0.0008395127993106196, 'n_units_l15': 16, 'activation_l15': 'SELU', 'dropout_l15': 0.24767773473295912, 'batch_norm_l15': True, 'l2_reg_l15': 1.9590558364171763e-05, 'n_units_l16': 2048, 'activation_l16': 'SELU', 'dropout_l16': 0.4991321808168534, 'batch_norm_l16': False, 'l2_reg_l16': 3.736914282566571e-05, 'n_units_l17': 64, 'activation_l17': 'Tanh', 'dropout_l17': 0.47450017237090814, 'batch_norm_l17': True, 'l2_reg_l17': 0.0013889036822950142, 'n_units_l18': 64, 'activation_l18': 'SELU', 'dropout_l18': 0.24037968508104687, 'batch_norm_l18': False, 'l2_reg_l18': 0.0017404378593841299, 'n_units_l19': 256, 'activation_l19': 'SELU', 'dropout_l19': 0.4544912683378116, 'batch_norm_l19': True, 'l2_reg_l19': 0.010425406179726742, 'n_units_l20': 128, 'activation_l20': 'SELU', 'dropout_l20': 0.3092132250571876, 'batch_norm_l20': True, 'l2_reg_l20': 6.361859800739846e-05, 'n_units_l21': 32, 'activation_l21': 'Tanh', 'dropout_l21': 0.16341663730165348, 'batch_norm_l21': False, 'l2_reg_l21': 0.0005549694170542147, 'n_units_l22': 1024, 'activation_l22': 'SELU', 'dropout_l22': 0.20128973011463488, 'batch_norm_l22': True, 'l2_reg_l22': 0.00023146112562171276, 'n_units_l23': 256, 'activation_l23': 'LeakyReLU', 'dropout_l23': 0.25482134435528436, 'batch_norm_l23': False, 'l2_reg_l23': 6.902241360874341e-05, 'leakyrelu_alpha_l23': 0.20551040787331773, 'n_units_l24': 128, 'activation_l24': 'ReLU', 'dropout_l24': 0.4976502967520952, 'batch_norm_l24': False, 'l2_reg_l24': 0.0026182778730540575, 'n_units_l25': 16, 'activation_l25': 'ReLU', 'dropout_l25': 0.13210437798315056, 'batch_norm_l25': True, 'l2_reg_l25': 0.0001003073706289861, 'n_units_l26': 64, 'activation_l26': 'ELU', 'dropout_l26': 0.020188256532814974, 'batch_norm_l26': False, 'l2_reg_l26': 0.0002176477508271178, 'n_units_l27': 512, 'activation_l27': 'LeakyReLU', 'dropout_l27': 0.2652012950087863, 'batch_norm_l27': False, 'l2_reg_l27': 0.0001540966316917148, 'leakyrelu_alpha_l27': 0.07235733890748797, 'n_units_l28': 256, 'activation_l28': 'SELU', 'dropout_l28': 0.35898153290702695, 'batch_norm_l28': True, 'l2_reg_l28': 0.0386152732861188, 'n_units_l29': 512, 'activation_l29': 'ELU', 'dropout_l29': 0.2210007297881965, 'batch_norm_l29': True, 'l2_reg_l29': 0.0004872435227604552, 'n_units_l30': 256, 'activation_l30': 'ELU', 'dropout_l30': 0.19141138064298718, 'batch_norm_l30': True, 'l2_reg_l30': 1.4480075291869702e-05, 'n_units_l31': 32, 'activation_l31': 'SELU', 'dropout_l31': 0.02321877049802612, 'batch_norm_l31': True, 'l2_reg_l31': 0.0001580523365410648, 'n_units_l32': 16, 'activation_l32': 'SELU', 'dropout_l32': 0.18097117922929795, 'batch_norm_l32': True, 'l2_reg_l32': 0.00011601234073114942, 'n_units_l33': 32, 'activation_l33': 'ReLU', 'dropout_l33': 0.18848847962642312, 'batch_norm_l33': True, 'l2_reg_l33': 0.0012081440560653583, 'n_units_l34': 1024, 'activation_l34': 'Tanh', 'dropout_l34': 0.1312188586624722, 'batch_norm_l34': True, 'l2_reg_l34': 0.003825402217337942, 'n_units_l35': 16, 'activation_l35': 'Tanh', 'dropout_l35': 0.30749574503498844, 'batch_norm_l35': True, 'l2_reg_l35': 0.008574721369608292, 'n_units_l36': 1024, 'activation_l36': 'LeakyReLU', 'dropout_l36': 0.13477613024604232, 'batch_norm_l36': True, 'l2_reg_l36': 0.046251800586349166, 'leakyrelu_alpha_l36': 0.2156076528337298, 'n_units_l37': 1024, 'activation_l37': 'ELU', 'dropout_l37': 0.2487405438651958, 'batch_norm_l37': False, 'l2_reg_l37': 0.0016089948929161664, 'n_units_l38': 256, 'activation_l38': 'Tanh', 'dropout_l38': 0.4499910297703077, 'batch_norm_l38': True, 'l2_reg_l38': 0.03020363582537989, 'n_units_l39': 16, 'activation_l39': 'SELU', 'dropout_l39': 0.37070210206894694, 'batch_norm_l39': True, 'l2_reg_l39': 0.002063917723038862, 'n_units_l40': 128, 'activation_l40': 'LeakyReLU', 'dropout_l40': 0.22927920916648406, 'batch_norm_l40': False, 'l2_reg_l40': 0.002699325768873777, 'leakyrelu_alpha_l40': 0.29349694210442767, 'n_units_l41': 32, 'activation_l41': 'ELU', 'dropout_l41': 0.3583766549629837, 'batch_norm_l41': False, 'l2_reg_l41': 3.2484223386194704e-05, 'n_units_l42': 512, 'activation_l42': 'Tanh', 'dropout_l42': 0.08333536259125007, 'batch_norm_l42': True, 'l2_reg_l42': 0.0009798810863734448, 'n_units_l43': 512, 'activation_l43': 'SELU', 'dropout_l43': 0.4194845124749272, 'batch_norm_l43': False, 'l2_reg_l43': 2.2769946713171183e-05, 'optimizer': 'RMSprop', 'lr': 0.0023205040322719123, 'rmsprop_alpha': 0.9345965740340719, 'epochs': 613, 'batch_size': 128, 'early_stopping_patience': 17, 'lr_reduce_factor': 0.2569870517821606, 'lr_reduce_patience': 47, 'min_lr': 4.605712746362458e-06}. Best is trial 506 with value: 0.8921898928024502.\u001b[0m\n"
     ]
    },
    {
     "name": "stdout",
     "output_type": "stream",
     "text": [
      "Early stopping\n",
      "Trial 2016 completado. Mejor precisión en validación: 0.678407350689127\n",
      "Usando GPU para el Trial 2017\n",
      "Entrenando Trial 2017...\n"
     ]
    },
    {
     "name": "stderr",
     "output_type": "stream",
     "text": [
      "\u001b[32m[I 2023-12-01 20:18:59,829]\u001b[0m Trial 2017 finished with value: 0.8548238897396631 and parameters: {'n_layers': 8, 'n_units_l0': 1024, 'activation_l0': 'LeakyReLU', 'dropout_l0': 0.30076007548216405, 'batch_norm_l0': False, 'l2_reg_l0': 0.023294816645514638, 'leakyrelu_alpha_l0': 0.22908391239465267, 'n_units_l1': 512, 'activation_l1': 'ELU', 'dropout_l1': 0.0605406244276605, 'batch_norm_l1': False, 'l2_reg_l1': 0.0055449630103925705, 'n_units_l2': 512, 'activation_l2': 'LeakyReLU', 'dropout_l2': 0.3110009609153538, 'batch_norm_l2': True, 'l2_reg_l2': 0.0011838906427742812, 'leakyrelu_alpha_l2': 0.26035994404306223, 'n_units_l3': 256, 'activation_l3': 'SELU', 'dropout_l3': 0.2702362984761157, 'batch_norm_l3': True, 'l2_reg_l3': 2.878923726677279e-05, 'n_units_l4': 64, 'activation_l4': 'LeakyReLU', 'dropout_l4': 0.10603003513999987, 'batch_norm_l4': True, 'l2_reg_l4': 2.897966843842113e-05, 'leakyrelu_alpha_l4': 0.13147299725472328, 'n_units_l5': 16, 'activation_l5': 'LeakyReLU', 'dropout_l5': 0.26939790618297565, 'batch_norm_l5': False, 'l2_reg_l5': 0.00548093384051661, 'leakyrelu_alpha_l5': 0.2141169169273724, 'n_units_l6': 64, 'activation_l6': 'LeakyReLU', 'dropout_l6': 0.3576296666761855, 'batch_norm_l6': False, 'l2_reg_l6': 6.182082168404214e-05, 'leakyrelu_alpha_l6': 0.25838597117551965, 'n_units_l7': 2048, 'activation_l7': 'LeakyReLU', 'dropout_l7': 0.009261631570876859, 'batch_norm_l7': False, 'l2_reg_l7': 0.05794123443861253, 'leakyrelu_alpha_l7': 0.20735101782615642, 'optimizer': 'RMSprop', 'lr': 0.00019963530102385012, 'rmsprop_alpha': 0.9752865875652648, 'epochs': 71, 'batch_size': 256, 'early_stopping_patience': 19, 'lr_reduce_factor': 0.46445178195821024, 'lr_reduce_patience': 44, 'min_lr': 9.179550597911263e-06}. Best is trial 506 with value: 0.8921898928024502.\u001b[0m\n"
     ]
    },
    {
     "name": "stdout",
     "output_type": "stream",
     "text": [
      "Trial 2017 completado. Mejor precisión en validación: 0.8548238897396631\n",
      "Usando GPU para el Trial 2018\n",
      "Entrenando Trial 2018...\n"
     ]
    },
    {
     "name": "stderr",
     "output_type": "stream",
     "text": [
      "                                                                                                                                                                                                                                        \r"
     ]
    },
    {
     "name": "stdout",
     "output_type": "stream",
     "text": [
      "Epoch 00051: reducing learning rate of group 0 to 2.6277e-04.\n"
     ]
    },
    {
     "name": "stderr",
     "output_type": "stream",
     "text": [
      "                                                                                                                                                                                                                                        \r"
     ]
    },
    {
     "name": "stdout",
     "output_type": "stream",
     "text": [
      "Epoch 00088: reducing learning rate of group 0 to 1.4880e-04.\n"
     ]
    },
    {
     "name": "stderr",
     "output_type": "stream",
     "text": [
      "\u001b[32m[I 2023-12-01 20:20:34,339]\u001b[0m Trial 2018 finished with value: 0.885145482388974 and parameters: {'n_layers': 6, 'n_units_l0': 2048, 'activation_l0': 'LeakyReLU', 'dropout_l0': 0.23533698863693725, 'batch_norm_l0': False, 'l2_reg_l0': 0.05743640953437476, 'leakyrelu_alpha_l0': 0.25796275496262505, 'n_units_l1': 1024, 'activation_l1': 'Tanh', 'dropout_l1': 0.38960476610072703, 'batch_norm_l1': False, 'l2_reg_l1': 0.000885232440810629, 'n_units_l2': 2048, 'activation_l2': 'ReLU', 'dropout_l2': 0.4917801430109724, 'batch_norm_l2': True, 'l2_reg_l2': 4.324862163393791e-05, 'n_units_l3': 2048, 'activation_l3': 'LeakyReLU', 'dropout_l3': 0.2544037766054633, 'batch_norm_l3': True, 'l2_reg_l3': 0.0011054086797051496, 'leakyrelu_alpha_l3': 0.11604967158707086, 'n_units_l4': 64, 'activation_l4': 'SELU', 'dropout_l4': 0.2984873498727163, 'batch_norm_l4': True, 'l2_reg_l4': 1.182610905481299e-05, 'n_units_l5': 128, 'activation_l5': 'ELU', 'dropout_l5': 0.10266166556335457, 'batch_norm_l5': True, 'l2_reg_l5': 4.311044765344705e-05, 'optimizer': 'RMSprop', 'lr': 0.0004640289423363224, 'rmsprop_alpha': 0.9523759549562966, 'epochs': 477, 'batch_size': 128, 'early_stopping_patience': 20, 'lr_reduce_factor': 0.5662777680967848, 'lr_reduce_patience': 36, 'min_lr': 1.426367748826601e-05}. Best is trial 506 with value: 0.8921898928024502.\u001b[0m\n"
     ]
    },
    {
     "name": "stdout",
     "output_type": "stream",
     "text": [
      "Epoch 00125: reducing learning rate of group 0 to 8.4262e-05.\n",
      "Early stopping\n",
      "Trial 2018 completado. Mejor precisión en validación: 0.885145482388974\n",
      "Usando GPU para el Trial 2019\n",
      "Entrenando Trial 2019...\n"
     ]
    },
    {
     "name": "stderr",
     "output_type": "stream",
     "text": [
      "\u001b[32m[I 2023-12-01 20:20:41,861]\u001b[0m Trial 2019 finished with value: 0.678407350689127 and parameters: {'n_layers': 7, 'n_units_l0': 512, 'activation_l0': 'LeakyReLU', 'dropout_l0': 0.12762343149275612, 'batch_norm_l0': False, 'l2_reg_l0': 0.002940147642582794, 'leakyrelu_alpha_l0': 0.19190521867498314, 'n_units_l1': 512, 'activation_l1': 'Tanh', 'dropout_l1': 0.25700938269634344, 'batch_norm_l1': False, 'l2_reg_l1': 1.761627041824041e-05, 'n_units_l2': 2048, 'activation_l2': 'ReLU', 'dropout_l2': 0.08536892727766382, 'batch_norm_l2': True, 'l2_reg_l2': 0.03071849254370126, 'n_units_l3': 1024, 'activation_l3': 'ELU', 'dropout_l3': 0.19711438696869105, 'batch_norm_l3': True, 'l2_reg_l3': 0.01603133981259872, 'n_units_l4': 64, 'activation_l4': 'LeakyReLU', 'dropout_l4': 0.35180208936974133, 'batch_norm_l4': True, 'l2_reg_l4': 0.0036799097811337374, 'leakyrelu_alpha_l4': 0.08105119586585381, 'n_units_l5': 32, 'activation_l5': 'SELU', 'dropout_l5': 0.12643709916780915, 'batch_norm_l5': False, 'l2_reg_l5': 0.00039177657652502324, 'n_units_l6': 512, 'activation_l6': 'SELU', 'dropout_l6': 0.18985528585386804, 'batch_norm_l6': True, 'l2_reg_l6': 0.0125505255727294, 'optimizer': 'RMSprop', 'lr': 0.03631298590287487, 'rmsprop_alpha': 0.9693426767611742, 'epochs': 1914, 'batch_size': 2048, 'early_stopping_patience': 16, 'lr_reduce_factor': 0.5067738089571107, 'lr_reduce_patience': 43, 'min_lr': 5.657065146862428e-06}. Best is trial 506 with value: 0.8921898928024502.\u001b[0m\n"
     ]
    },
    {
     "name": "stdout",
     "output_type": "stream",
     "text": [
      "Early stopping\n",
      "Trial 2019 completado. Mejor precisión en validación: 0.678407350689127\n",
      "Usando GPU para el Trial 2020\n",
      "Entrenando Trial 2020...\n"
     ]
    },
    {
     "name": "stderr",
     "output_type": "stream",
     "text": [
      "                                                                                                                                                                                                                                        \r"
     ]
    },
    {
     "name": "stdout",
     "output_type": "stream",
     "text": [
      "Epoch 00056: reducing learning rate of group 0 to 3.4347e-03.\n"
     ]
    },
    {
     "name": "stderr",
     "output_type": "stream",
     "text": [
      "\u001b[32m[I 2023-12-01 20:21:26,262]\u001b[0m Trial 2020 finished with value: 0.8823889739663093 and parameters: {'n_layers': 3, 'n_units_l0': 2048, 'activation_l0': 'LeakyReLU', 'dropout_l0': 0.08692603954741866, 'batch_norm_l0': False, 'l2_reg_l0': 6.0551777476393314e-05, 'leakyrelu_alpha_l0': 0.05031478557835954, 'n_units_l1': 512, 'activation_l1': 'Tanh', 'dropout_l1': 0.14870136752774932, 'batch_norm_l1': True, 'l2_reg_l1': 0.0013282512467964348, 'n_units_l2': 1024, 'activation_l2': 'ReLU', 'dropout_l2': 0.1748498088769337, 'batch_norm_l2': True, 'l2_reg_l2': 0.009862849849284917, 'optimizer': 'RMSprop', 'lr': 0.009133879602397237, 'rmsprop_alpha': 0.9049399759672461, 'epochs': 336, 'batch_size': 128, 'early_stopping_patience': 19, 'lr_reduce_factor': 0.37604328097950845, 'lr_reduce_patience': 41, 'min_lr': 3.237908513011608e-05}. Best is trial 506 with value: 0.8921898928024502.\u001b[0m\n"
     ]
    },
    {
     "name": "stdout",
     "output_type": "stream",
     "text": [
      "Early stopping\n",
      "Trial 2020 completado. Mejor precisión en validación: 0.8823889739663093\n",
      "Usando GPU para el Trial 2021\n",
      "Entrenando Trial 2021...\n"
     ]
    },
    {
     "name": "stderr",
     "output_type": "stream",
     "text": [
      "                                                                                                                                                                                                                                        \r"
     ]
    },
    {
     "name": "stdout",
     "output_type": "stream",
     "text": [
      "Epoch 00048: reducing learning rate of group 0 to 4.7402e-06.\n"
     ]
    },
    {
     "name": "stderr",
     "output_type": "stream",
     "text": [
      "\u001b[32m[I 2023-12-01 20:21:53,438]\u001b[0m Trial 2021 finished with value: 0.36845329249617154 and parameters: {'n_layers': 4, 'n_units_l0': 32, 'activation_l0': 'LeakyReLU', 'dropout_l0': 0.4871112261183167, 'batch_norm_l0': False, 'l2_reg_l0': 0.0003373817824309288, 'leakyrelu_alpha_l0': 0.1729028029127188, 'n_units_l1': 1024, 'activation_l1': 'Tanh', 'dropout_l1': 0.34074594603937547, 'batch_norm_l1': False, 'l2_reg_l1': 0.0001166519911047732, 'n_units_l2': 2048, 'activation_l2': 'ReLU', 'dropout_l2': 0.1418596692441728, 'batch_norm_l2': True, 'l2_reg_l2': 0.0007136650594017547, 'n_units_l3': 2048, 'activation_l3': 'LeakyReLU', 'dropout_l3': 0.3068192087642628, 'batch_norm_l3': True, 'l2_reg_l3': 1.6427428757509972e-05, 'leakyrelu_alpha_l3': 0.17532632701310258, 'optimizer': 'RMSprop', 'lr': 2.9983830975361838e-05, 'rmsprop_alpha': 0.9827443324828101, 'epochs': 292, 'batch_size': 256, 'early_stopping_patience': 18, 'lr_reduce_factor': 0.15809343403236206, 'lr_reduce_patience': 46, 'min_lr': 1.1870807612478073e-06}. Best is trial 506 with value: 0.8921898928024502.\u001b[0m\n"
     ]
    },
    {
     "name": "stdout",
     "output_type": "stream",
     "text": [
      "Early stopping\n",
      "Trial 2021 completado. Mejor precisión en validación: 0.36845329249617154\n",
      "Usando GPU para el Trial 2022\n",
      "Entrenando Trial 2022...\n"
     ]
    },
    {
     "name": "stderr",
     "output_type": "stream",
     "text": [
      "                                                                                                                                                                                                                                        \r"
     ]
    },
    {
     "name": "stdout",
     "output_type": "stream",
     "text": [
      "Epoch 00016: reducing learning rate of group 0 to 5.0463e-03.\n"
     ]
    },
    {
     "name": "stderr",
     "output_type": "stream",
     "text": [
      "\u001b[32m[I 2023-12-01 20:22:04,046]\u001b[0m Trial 2022 finished with value: 0.678407350689127 and parameters: {'n_layers': 10, 'n_units_l0': 2048, 'activation_l0': 'LeakyReLU', 'dropout_l0': 0.43872072314872274, 'batch_norm_l0': False, 'l2_reg_l0': 0.00014413271543070624, 'leakyrelu_alpha_l0': 0.2672348446886042, 'n_units_l1': 512, 'activation_l1': 'Tanh', 'dropout_l1': 0.4367720272374102, 'batch_norm_l1': False, 'l2_reg_l1': 0.045689967447008886, 'n_units_l2': 2048, 'activation_l2': 'ReLU', 'dropout_l2': 0.18884419260058086, 'batch_norm_l2': True, 'l2_reg_l2': 0.0003836360494413003, 'n_units_l3': 1024, 'activation_l3': 'SELU', 'dropout_l3': 0.45687920550143496, 'batch_norm_l3': True, 'l2_reg_l3': 0.0015271831827780916, 'n_units_l4': 64, 'activation_l4': 'LeakyReLU', 'dropout_l4': 0.31548357726452264, 'batch_norm_l4': True, 'l2_reg_l4': 1.9640130649078116e-05, 'leakyrelu_alpha_l4': 0.0725581554304586, 'n_units_l5': 512, 'activation_l5': 'LeakyReLU', 'dropout_l5': 0.21513373984379044, 'batch_norm_l5': False, 'l2_reg_l5': 1.623502098246843e-05, 'leakyrelu_alpha_l5': 0.0889640518262199, 'n_units_l6': 16, 'activation_l6': 'ReLU', 'dropout_l6': 0.147807216932143, 'batch_norm_l6': True, 'l2_reg_l6': 0.00036119789782890443, 'n_units_l7': 64, 'activation_l7': 'ELU', 'dropout_l7': 0.14144197645537906, 'batch_norm_l7': False, 'l2_reg_l7': 0.0012105617294174919, 'n_units_l8': 1024, 'activation_l8': 'ELU', 'dropout_l8': 0.000503684817871608, 'batch_norm_l8': False, 'l2_reg_l8': 0.006399425038416115, 'n_units_l9': 16, 'activation_l9': 'ELU', 'dropout_l9': 0.36565923776617737, 'batch_norm_l9': False, 'l2_reg_l9': 0.0001452391343395054, 'optimizer': 'RMSprop', 'lr': 0.015878727439025672, 'rmsprop_alpha': 0.9733168925643292, 'epochs': 1015, 'batch_size': 512, 'early_stopping_patience': 19, 'lr_reduce_factor': 0.31780202373637156, 'lr_reduce_patience': 6, 'min_lr': 2.8151412384461706e-06}. Best is trial 506 with value: 0.8921898928024502.\u001b[0m\n"
     ]
    },
    {
     "name": "stdout",
     "output_type": "stream",
     "text": [
      "Early stopping\n",
      "Trial 2022 completado. Mejor precisión en validación: 0.678407350689127\n",
      "Usando GPU para el Trial 2023\n",
      "Entrenando Trial 2023...\n"
     ]
    },
    {
     "name": "stderr",
     "output_type": "stream",
     "text": [
      "\u001b[32m[I 2023-12-01 20:22:30,245]\u001b[0m Trial 2023 finished with value: 0.8434915773353752 and parameters: {'n_layers': 7, 'n_units_l0': 2048, 'activation_l0': 'ELU', 'dropout_l0': 0.19347277004869656, 'batch_norm_l0': False, 'l2_reg_l0': 0.0013446186949900912, 'n_units_l1': 32, 'activation_l1': 'Tanh', 'dropout_l1': 0.10583014719047759, 'batch_norm_l1': False, 'l2_reg_l1': 0.0021805580776158642, 'n_units_l2': 256, 'activation_l2': 'ELU', 'dropout_l2': 0.20920089155793042, 'batch_norm_l2': True, 'l2_reg_l2': 0.0035114071397033277, 'n_units_l3': 2048, 'activation_l3': 'LeakyReLU', 'dropout_l3': 0.15073611234789902, 'batch_norm_l3': True, 'l2_reg_l3': 0.003489800515526185, 'leakyrelu_alpha_l3': 0.12478971530371341, 'n_units_l4': 512, 'activation_l4': 'ELU', 'dropout_l4': 0.3278095662617853, 'batch_norm_l4': True, 'l2_reg_l4': 0.00023935050156808228, 'n_units_l5': 64, 'activation_l5': 'ELU', 'dropout_l5': 0.050289582360877126, 'batch_norm_l5': False, 'l2_reg_l5': 1.183132508926943e-05, 'n_units_l6': 2048, 'activation_l6': 'LeakyReLU', 'dropout_l6': 0.4415091354171312, 'batch_norm_l6': False, 'l2_reg_l6': 2.8376779095199905e-05, 'leakyrelu_alpha_l6': 0.22809738523051026, 'optimizer': 'RMSprop', 'lr': 0.001507663233177395, 'rmsprop_alpha': 0.865065368250278, 'epochs': 2000, 'batch_size': 128, 'early_stopping_patience': 20, 'lr_reduce_factor': 0.27808751635349016, 'lr_reduce_patience': 34, 'min_lr': 7.678731047178425e-06}. Best is trial 506 with value: 0.8921898928024502.\u001b[0m\n"
     ]
    },
    {
     "name": "stdout",
     "output_type": "stream",
     "text": [
      "Early stopping\n",
      "Trial 2023 completado. Mejor precisión en validación: 0.8434915773353752\n",
      "Usando GPU para el Trial 2024\n",
      "Entrenando Trial 2024...\n"
     ]
    },
    {
     "name": "stderr",
     "output_type": "stream",
     "text": [
      "\u001b[32m[I 2023-12-01 20:27:22,426]\u001b[0m Trial 2024 finished with value: 0.678407350689127 and parameters: {'n_layers': 27, 'n_units_l0': 2048, 'activation_l0': 'LeakyReLU', 'dropout_l0': 0.07119056398327053, 'batch_norm_l0': False, 'l2_reg_l0': 4.880871542502184e-05, 'leakyrelu_alpha_l0': 0.1658539350317461, 'n_units_l1': 512, 'activation_l1': 'Tanh', 'dropout_l1': 0.22157937847873482, 'batch_norm_l1': False, 'l2_reg_l1': 0.0006141783369045334, 'n_units_l2': 64, 'activation_l2': 'ReLU', 'dropout_l2': 0.4809126822942996, 'batch_norm_l2': True, 'l2_reg_l2': 0.013325455341724931, 'n_units_l3': 2048, 'activation_l3': 'LeakyReLU', 'dropout_l3': 0.36039047671923613, 'batch_norm_l3': False, 'l2_reg_l3': 0.0060501564793898005, 'leakyrelu_alpha_l3': 0.16108002433883903, 'n_units_l4': 2048, 'activation_l4': 'ReLU', 'dropout_l4': 0.37044885563972163, 'batch_norm_l4': True, 'l2_reg_l4': 0.00012619225398491382, 'n_units_l5': 16, 'activation_l5': 'LeakyReLU', 'dropout_l5': 0.18524460556293054, 'batch_norm_l5': False, 'l2_reg_l5': 6.038581774190957e-05, 'leakyrelu_alpha_l5': 0.14570303205547788, 'n_units_l6': 1024, 'activation_l6': 'SELU', 'dropout_l6': 0.3843747040535166, 'batch_norm_l6': True, 'l2_reg_l6': 1.2010578691888886e-05, 'n_units_l7': 256, 'activation_l7': 'LeakyReLU', 'dropout_l7': 0.07096111830648787, 'batch_norm_l7': True, 'l2_reg_l7': 0.006188790580217203, 'leakyrelu_alpha_l7': 0.28039052628861283, 'n_units_l8': 128, 'activation_l8': 'SELU', 'dropout_l8': 0.2884559167320242, 'batch_norm_l8': True, 'l2_reg_l8': 0.0682434510937199, 'n_units_l9': 2048, 'activation_l9': 'Tanh', 'dropout_l9': 0.2945247687207242, 'batch_norm_l9': True, 'l2_reg_l9': 8.548353475137356e-05, 'n_units_l10': 32, 'activation_l10': 'ReLU', 'dropout_l10': 0.46643240156891286, 'batch_norm_l10': False, 'l2_reg_l10': 4.3571296559433864e-05, 'n_units_l11': 256, 'activation_l11': 'SELU', 'dropout_l11': 0.047394362264109535, 'batch_norm_l11': False, 'l2_reg_l11': 0.04222749299743387, 'n_units_l12': 128, 'activation_l12': 'ELU', 'dropout_l12': 0.11476011912929313, 'batch_norm_l12': True, 'l2_reg_l12': 0.0052039458673840125, 'n_units_l13': 2048, 'activation_l13': 'ELU', 'dropout_l13': 0.26833403218923224, 'batch_norm_l13': False, 'l2_reg_l13': 6.958081317508461e-05, 'n_units_l14': 2048, 'activation_l14': 'ReLU', 'dropout_l14': 0.3598240907464779, 'batch_norm_l14': False, 'l2_reg_l14': 0.0012297257088595848, 'n_units_l15': 64, 'activation_l15': 'ELU', 'dropout_l15': 0.4714822130605068, 'batch_norm_l15': False, 'l2_reg_l15': 2.5990959445212203e-05, 'n_units_l16': 1024, 'activation_l16': 'ELU', 'dropout_l16': 0.10111197471462141, 'batch_norm_l16': True, 'l2_reg_l16': 0.00030814829657314257, 'n_units_l17': 1024, 'activation_l17': 'SELU', 'dropout_l17': 0.24382299417756678, 'batch_norm_l17': False, 'l2_reg_l17': 0.00031355333209228466, 'n_units_l18': 256, 'activation_l18': 'Tanh', 'dropout_l18': 0.22693855324625797, 'batch_norm_l18': True, 'l2_reg_l18': 0.0031459121255012026, 'n_units_l19': 1024, 'activation_l19': 'ELU', 'dropout_l19': 0.3045057956774155, 'batch_norm_l19': False, 'l2_reg_l19': 0.0001547459758427962, 'n_units_l20': 1024, 'activation_l20': 'ReLU', 'dropout_l20': 0.32983580044046007, 'batch_norm_l20': False, 'l2_reg_l20': 7.441776327168808e-05, 'n_units_l21': 256, 'activation_l21': 'ELU', 'dropout_l21': 0.46710459383152664, 'batch_norm_l21': True, 'l2_reg_l21': 0.0001633349180568841, 'n_units_l22': 64, 'activation_l22': 'ELU', 'dropout_l22': 0.06493049300448012, 'batch_norm_l22': False, 'l2_reg_l22': 1.581532383059903e-05, 'n_units_l23': 1024, 'activation_l23': 'Tanh', 'dropout_l23': 0.3185100352523708, 'batch_norm_l23': True, 'l2_reg_l23': 1.9891292418828734e-05, 'n_units_l24': 1024, 'activation_l24': 'SELU', 'dropout_l24': 0.3011337691358449, 'batch_norm_l24': True, 'l2_reg_l24': 0.0075758270479965965, 'n_units_l25': 512, 'activation_l25': 'LeakyReLU', 'dropout_l25': 0.3515587274574005, 'batch_norm_l25': False, 'l2_reg_l25': 4.939131926662936e-05, 'leakyrelu_alpha_l25': 0.18199113501530223, 'n_units_l26': 256, 'activation_l26': 'ReLU', 'dropout_l26': 0.1447611246120065, 'batch_norm_l26': True, 'l2_reg_l26': 0.02332617043852822, 'optimizer': 'SGD', 'lr': 0.0008630586403428931, 'sgd_momentum': 0.19377562085291267, 'epochs': 423, 'batch_size': 16, 'early_stopping_patience': 17, 'lr_reduce_factor': 0.35552015449145413, 'lr_reduce_patience': 42, 'min_lr': 6.970043351783743e-06}. Best is trial 506 with value: 0.8921898928024502.\u001b[0m\n"
     ]
    },
    {
     "name": "stdout",
     "output_type": "stream",
     "text": [
      "Early stopping\n",
      "Trial 2024 completado. Mejor precisión en validación: 0.678407350689127\n",
      "Usando GPU para el Trial 2025\n",
      "Entrenando Trial 2025...\n"
     ]
    },
    {
     "name": "stderr",
     "output_type": "stream",
     "text": [
      "\u001b[32m[I 2023-12-01 20:28:29,769]\u001b[0m Trial 2025 finished with value: 0.8701378254211333 and parameters: {'n_layers': 5, 'n_units_l0': 64, 'activation_l0': 'Tanh', 'dropout_l0': 0.0349152974070389, 'batch_norm_l0': False, 'l2_reg_l0': 0.009398405468409313, 'n_units_l1': 1024, 'activation_l1': 'SELU', 'dropout_l1': 0.07488081020293744, 'batch_norm_l1': False, 'l2_reg_l1': 3.3959219610585865e-05, 'n_units_l2': 1024, 'activation_l2': 'ReLU', 'dropout_l2': 0.27514558135380385, 'batch_norm_l2': False, 'l2_reg_l2': 1.8851722214016265e-05, 'n_units_l3': 16, 'activation_l3': 'LeakyReLU', 'dropout_l3': 0.1053820666456178, 'batch_norm_l3': True, 'l2_reg_l3': 0.0009297616093706223, 'leakyrelu_alpha_l3': 0.1408076689145795, 'n_units_l4': 256, 'activation_l4': 'LeakyReLU', 'dropout_l4': 0.4709297859979888, 'batch_norm_l4': True, 'l2_reg_l4': 1.0090403360756629e-05, 'leakyrelu_alpha_l4': 0.09649201761803453, 'optimizer': 'RMSprop', 'lr': 0.00012145226485941224, 'rmsprop_alpha': 0.8805974718888087, 'epochs': 655, 'batch_size': 128, 'early_stopping_patience': 20, 'lr_reduce_factor': 0.5453608622409414, 'lr_reduce_patience': 37, 'min_lr': 1.6447785371809284e-05}. Best is trial 506 with value: 0.8921898928024502.\u001b[0m\n"
     ]
    },
    {
     "name": "stdout",
     "output_type": "stream",
     "text": [
      "Early stopping\n",
      "Trial 2025 completado. Mejor precisión en validación: 0.8701378254211333\n",
      "Usando GPU para el Trial 2026\n",
      "Entrenando Trial 2026...\n"
     ]
    },
    {
     "name": "stderr",
     "output_type": "stream",
     "text": [
      "\u001b[32m[I 2023-12-01 20:31:15,066]\u001b[0m Trial 2026 finished with value: 0.8686064318529862 and parameters: {'n_layers': 29, 'n_units_l0': 1024, 'activation_l0': 'LeakyReLU', 'dropout_l0': 0.15592353717213467, 'batch_norm_l0': False, 'l2_reg_l0': 0.004624846282354215, 'leakyrelu_alpha_l0': 0.2843069003219902, 'n_units_l1': 512, 'activation_l1': 'Tanh', 'dropout_l1': 0.09182687376465182, 'batch_norm_l1': False, 'l2_reg_l1': 1.3146200953386842e-05, 'n_units_l2': 2048, 'activation_l2': 'ReLU', 'dropout_l2': 0.4575587007226869, 'batch_norm_l2': True, 'l2_reg_l2': 0.04227380878898119, 'n_units_l3': 1024, 'activation_l3': 'Tanh', 'dropout_l3': 0.07780895771044305, 'batch_norm_l3': True, 'l2_reg_l3': 0.021675233622579483, 'n_units_l4': 64, 'activation_l4': 'Tanh', 'dropout_l4': 0.3394352654594433, 'batch_norm_l4': True, 'l2_reg_l4': 0.007198646093669833, 'n_units_l5': 16, 'activation_l5': 'ELU', 'dropout_l5': 0.07737324450404161, 'batch_norm_l5': True, 'l2_reg_l5': 0.0010733650219903346, 'n_units_l6': 2048, 'activation_l6': 'ELU', 'dropout_l6': 0.11462700057052282, 'batch_norm_l6': False, 'l2_reg_l6': 0.0016182201023747444, 'n_units_l7': 32, 'activation_l7': 'SELU', 'dropout_l7': 0.11402672795553834, 'batch_norm_l7': False, 'l2_reg_l7': 0.020382050473016302, 'n_units_l8': 256, 'activation_l8': 'Tanh', 'dropout_l8': 0.11189588441902498, 'batch_norm_l8': False, 'l2_reg_l8': 7.713825473213753e-05, 'n_units_l9': 1024, 'activation_l9': 'ReLU', 'dropout_l9': 0.47304157241369926, 'batch_norm_l9': False, 'l2_reg_l9': 0.0003322832734536866, 'n_units_l10': 128, 'activation_l10': 'Tanh', 'dropout_l10': 0.49894563990977925, 'batch_norm_l10': True, 'l2_reg_l10': 0.0008645896039996769, 'n_units_l11': 2048, 'activation_l11': 'ELU', 'dropout_l11': 0.29971820996230025, 'batch_norm_l11': True, 'l2_reg_l11': 0.0024764773771997453, 'n_units_l12': 256, 'activation_l12': 'SELU', 'dropout_l12': 0.14673096301020183, 'batch_norm_l12': False, 'l2_reg_l12': 0.0002761882748187315, 'n_units_l13': 32, 'activation_l13': 'Tanh', 'dropout_l13': 0.1024277607444321, 'batch_norm_l13': True, 'l2_reg_l13': 1.2572533182601444e-05, 'n_units_l14': 64, 'activation_l14': 'LeakyReLU', 'dropout_l14': 0.2997595405667023, 'batch_norm_l14': True, 'l2_reg_l14': 1.7851377553611915e-05, 'leakyrelu_alpha_l14': 0.12328044193027012, 'n_units_l15': 32, 'activation_l15': 'LeakyReLU', 'dropout_l15': 0.4612126176586461, 'batch_norm_l15': True, 'l2_reg_l15': 0.014524661687136928, 'leakyrelu_alpha_l15': 0.2622238920217085, 'n_units_l16': 128, 'activation_l16': 'ReLU', 'dropout_l16': 0.1590407017247946, 'batch_norm_l16': False, 'l2_reg_l16': 0.01567980974978326, 'n_units_l17': 16, 'activation_l17': 'LeakyReLU', 'dropout_l17': 0.06968730470670986, 'batch_norm_l17': True, 'l2_reg_l17': 1.5871469833983114e-05, 'leakyrelu_alpha_l17': 0.18350981576368197, 'n_units_l18': 1024, 'activation_l18': 'ReLU', 'dropout_l18': 0.31127019530167555, 'batch_norm_l18': False, 'l2_reg_l18': 0.0007773033069129014, 'n_units_l19': 2048, 'activation_l19': 'Tanh', 'dropout_l19': 0.3304530238505735, 'batch_norm_l19': True, 'l2_reg_l19': 0.0010940942184274299, 'n_units_l20': 256, 'activation_l20': 'LeakyReLU', 'dropout_l20': 0.3500584393354022, 'batch_norm_l20': True, 'l2_reg_l20': 0.0019681478488918604, 'leakyrelu_alpha_l20': 0.21316673276710651, 'n_units_l21': 512, 'activation_l21': 'LeakyReLU', 'dropout_l21': 0.20803234921473343, 'batch_norm_l21': False, 'l2_reg_l21': 0.005502139272777162, 'leakyrelu_alpha_l21': 0.18223455722978787, 'n_units_l22': 16, 'activation_l22': 'LeakyReLU', 'dropout_l22': 0.000907823985909606, 'batch_norm_l22': True, 'l2_reg_l22': 0.02249947623414875, 'leakyrelu_alpha_l22': 0.1503897755323577, 'n_units_l23': 32, 'activation_l23': 'ReLU', 'dropout_l23': 0.01913388753619033, 'batch_norm_l23': False, 'l2_reg_l23': 3.919544440699111e-05, 'n_units_l24': 16, 'activation_l24': 'ELU', 'dropout_l24': 0.274973668704914, 'batch_norm_l24': False, 'l2_reg_l24': 5.9102695786737834e-05, 'n_units_l25': 32, 'activation_l25': 'Tanh', 'dropout_l25': 0.4987163621781384, 'batch_norm_l25': True, 'l2_reg_l25': 0.00012162949359389588, 'n_units_l26': 1024, 'activation_l26': 'LeakyReLU', 'dropout_l26': 0.30683891234003574, 'batch_norm_l26': False, 'l2_reg_l26': 1.015676064930607e-05, 'leakyrelu_alpha_l26': 0.06282652232824407, 'n_units_l27': 64, 'activation_l27': 'ReLU', 'dropout_l27': 0.02222400733182367, 'batch_norm_l27': True, 'l2_reg_l27': 6.206709704242885e-05, 'n_units_l28': 2048, 'activation_l28': 'ELU', 'dropout_l28': 0.1075852408387577, 'batch_norm_l28': False, 'l2_reg_l28': 0.00013893087314890767, 'optimizer': 'RMSprop', 'lr': 0.00035005849450939555, 'rmsprop_alpha': 0.9644475453792146, 'epochs': 176, 'batch_size': 256, 'early_stopping_patience': 19, 'lr_reduce_factor': 0.42196863653025485, 'lr_reduce_patience': 39, 'min_lr': 1.4296545455108439e-06}. Best is trial 506 with value: 0.8921898928024502.\u001b[0m\n"
     ]
    },
    {
     "name": "stdout",
     "output_type": "stream",
     "text": [
      "Early stopping\n",
      "Trial 2026 completado. Mejor precisión en validación: 0.8686064318529862\n",
      "Usando GPU para el Trial 2027\n",
      "Entrenando Trial 2027...\n"
     ]
    },
    {
     "name": "stderr",
     "output_type": "stream",
     "text": [
      "                                                                                                                                                                                                                                        \r"
     ]
    },
    {
     "name": "stdout",
     "output_type": "stream",
     "text": [
      "Epoch 00028: reducing learning rate of group 0 to 2.5904e-04.\n"
     ]
    },
    {
     "name": "stderr",
     "output_type": "stream",
     "text": [
      "                                                                                                                                                                                                                                        \r"
     ]
    },
    {
     "name": "stdout",
     "output_type": "stream",
     "text": [
      "Epoch 00045: reducing learning rate of group 0 to 1.1135e-04.\n"
     ]
    },
    {
     "name": "stderr",
     "output_type": "stream",
     "text": [
      "                                                                                                                                                                                                                                        \r"
     ]
    },
    {
     "name": "stdout",
     "output_type": "stream",
     "text": [
      "Epoch 00058: reducing learning rate of group 0 to 4.7867e-05.\n"
     ]
    },
    {
     "name": "stderr",
     "output_type": "stream",
     "text": [
      "                                                                                                                                                                                                                                        \r"
     ]
    },
    {
     "name": "stdout",
     "output_type": "stream",
     "text": [
      "Epoch 00071: reducing learning rate of group 0 to 2.0576e-05.\n"
     ]
    },
    {
     "name": "stderr",
     "output_type": "stream",
     "text": [
      "                                                                                                                                                                                                                                        \r"
     ]
    },
    {
     "name": "stdout",
     "output_type": "stream",
     "text": [
      "Epoch 00084: reducing learning rate of group 0 to 8.8450e-06.\n"
     ]
    },
    {
     "name": "stderr",
     "output_type": "stream",
     "text": [
      "\u001b[32m[I 2023-12-01 20:32:42,110]\u001b[0m Trial 2027 finished with value: 0.8796324655436447 and parameters: {'n_layers': 9, 'n_units_l0': 2048, 'activation_l0': 'SELU', 'dropout_l0': 0.22501509609166778, 'batch_norm_l0': False, 'l2_reg_l0': 0.0004942904084631949, 'n_units_l1': 512, 'activation_l1': 'Tanh', 'dropout_l1': 0.30752974005376904, 'batch_norm_l1': False, 'l2_reg_l1': 0.0011184134386550628, 'n_units_l2': 2048, 'activation_l2': 'ReLU', 'dropout_l2': 0.3369234221615011, 'batch_norm_l2': True, 'l2_reg_l2': 0.00017383206728350736, 'n_units_l3': 2048, 'activation_l3': 'SELU', 'dropout_l3': 0.02881870740291497, 'batch_norm_l3': True, 'l2_reg_l3': 0.0024625315166040096, 'n_units_l4': 64, 'activation_l4': 'LeakyReLU', 'dropout_l4': 0.39477702118524377, 'batch_norm_l4': True, 'l2_reg_l4': 0.02620300729638268, 'leakyrelu_alpha_l4': 0.2646116507505381, 'n_units_l5': 2048, 'activation_l5': 'SELU', 'dropout_l5': 0.11263307014874212, 'batch_norm_l5': False, 'l2_reg_l5': 0.0018427101486750551, 'n_units_l6': 128, 'activation_l6': 'Tanh', 'dropout_l6': 0.218148362086471, 'batch_norm_l6': True, 'l2_reg_l6': 3.7564446134198975e-05, 'n_units_l7': 512, 'activation_l7': 'LeakyReLU', 'dropout_l7': 0.04530709997294825, 'batch_norm_l7': False, 'l2_reg_l7': 5.7409262385068675e-05, 'leakyrelu_alpha_l7': 0.2697172351591243, 'n_units_l8': 32, 'activation_l8': 'ReLU', 'dropout_l8': 0.19574266408137125, 'batch_norm_l8': True, 'l2_reg_l8': 0.009566549338974483, 'optimizer': 'RMSprop', 'lr': 0.0006026020643544038, 'rmsprop_alpha': 0.9770400496189178, 'epochs': 255, 'batch_size': 128, 'early_stopping_patience': 18, 'lr_reduce_factor': 0.4298667148957149, 'lr_reduce_patience': 12, 'min_lr': 6.125113682469949e-06}. Best is trial 506 with value: 0.8921898928024502.\u001b[0m\n"
     ]
    },
    {
     "name": "stdout",
     "output_type": "stream",
     "text": [
      "Early stopping\n",
      "Trial 2027 completado. Mejor precisión en validación: 0.8796324655436447\n",
      "Usando GPU para el Trial 2028\n",
      "Entrenando Trial 2028...\n"
     ]
    },
    {
     "name": "stderr",
     "output_type": "stream",
     "text": [
      "\u001b[32m[I 2023-12-01 20:33:28,685]\u001b[0m Trial 2028 finished with value: 0.8300153139356815 and parameters: {'n_layers': 6, 'n_units_l0': 2048, 'activation_l0': 'LeakyReLU', 'dropout_l0': 0.3745225565905875, 'batch_norm_l0': False, 'l2_reg_l0': 2.842111199695784e-05, 'leakyrelu_alpha_l0': 0.1519490013577021, 'n_units_l1': 64, 'activation_l1': 'Tanh', 'dropout_l1': 0.2723998765543322, 'batch_norm_l1': False, 'l2_reg_l1': 0.0028246496321983087, 'n_units_l2': 1024, 'activation_l2': 'ReLU', 'dropout_l2': 0.0474225650138336, 'batch_norm_l2': True, 'l2_reg_l2': 0.0005031174356674986, 'n_units_l3': 32, 'activation_l3': 'LeakyReLU', 'dropout_l3': 0.2415538846749258, 'batch_norm_l3': True, 'l2_reg_l3': 0.000622188343378901, 'leakyrelu_alpha_l3': 0.09590378592124595, 'n_units_l4': 64, 'activation_l4': 'SELU', 'dropout_l4': 0.4260386941259319, 'batch_norm_l4': True, 'l2_reg_l4': 3.568998393310452e-05, 'n_units_l5': 16, 'activation_l5': 'LeakyReLU', 'dropout_l5': 0.4122231436990315, 'batch_norm_l5': False, 'l2_reg_l5': 0.0005360681183076169, 'leakyrelu_alpha_l5': 0.23432563724030814, 'optimizer': 'RMSprop', 'lr': 1.811335832126452e-05, 'rmsprop_alpha': 0.8878423630322941, 'epochs': 1875, 'batch_size': 128, 'early_stopping_patience': 16, 'lr_reduce_factor': 0.17741575943108318, 'lr_reduce_patience': 45, 'min_lr': 6.054323767358859e-05}. Best is trial 506 with value: 0.8921898928024502.\u001b[0m\n"
     ]
    },
    {
     "name": "stdout",
     "output_type": "stream",
     "text": [
      "Early stopping\n",
      "Trial 2028 completado. Mejor precisión en validación: 0.8300153139356815\n",
      "Usando GPU para el Trial 2029\n",
      "Entrenando Trial 2029...\n"
     ]
    },
    {
     "name": "stderr",
     "output_type": "stream",
     "text": [
      "\u001b[32m[I 2023-12-01 20:35:12,416]\u001b[0m Trial 2029 finished with value: 0.8725880551301685 and parameters: {'n_layers': 8, 'n_units_l0': 2048, 'activation_l0': 'LeakyReLU', 'dropout_l0': 0.1024857991534623, 'batch_norm_l0': True, 'l2_reg_l0': 0.001004136948058764, 'leakyrelu_alpha_l0': 0.2994688575401318, 'n_units_l1': 512, 'activation_l1': 'Tanh', 'dropout_l1': 0.17500322030731894, 'batch_norm_l1': False, 'l2_reg_l1': 0.07486854904417625, 'n_units_l2': 128, 'activation_l2': 'Tanh', 'dropout_l2': 0.26134684280793696, 'batch_norm_l2': True, 'l2_reg_l2': 6.154237861629503e-05, 'n_units_l3': 1024, 'activation_l3': 'LeakyReLU', 'dropout_l3': 0.4356408595471528, 'batch_norm_l3': True, 'l2_reg_l3': 0.0004265854734316141, 'leakyrelu_alpha_l3': 0.010732822044970641, 'n_units_l4': 32, 'activation_l4': 'LeakyReLU', 'dropout_l4': 0.17932200532830855, 'batch_norm_l4': True, 'l2_reg_l4': 0.0002899703824462993, 'leakyrelu_alpha_l4': 0.1764996854071812, 'n_units_l5': 128, 'activation_l5': 'ELU', 'dropout_l5': 0.44762331182977827, 'batch_norm_l5': False, 'l2_reg_l5': 0.0001900776786668101, 'n_units_l6': 256, 'activation_l6': 'LeakyReLU', 'dropout_l6': 0.2479444444564524, 'batch_norm_l6': True, 'l2_reg_l6': 1.7147330338777874e-05, 'leakyrelu_alpha_l6': 0.11018758052471869, 'n_units_l7': 64, 'activation_l7': 'Tanh', 'dropout_l7': 0.47697991670769907, 'batch_norm_l7': True, 'l2_reg_l7': 0.00321111301305923, 'optimizer': 'RMSprop', 'lr': 0.00025165667227651316, 'rmsprop_alpha': 0.9399211418844251, 'epochs': 375, 'batch_size': 64, 'early_stopping_patience': 19, 'lr_reduce_factor': 0.6113528833815594, 'lr_reduce_patience': 44, 'min_lr': 1.8775455185601634e-06}. Best is trial 506 with value: 0.8921898928024502.\u001b[0m\n"
     ]
    },
    {
     "name": "stdout",
     "output_type": "stream",
     "text": [
      "Early stopping\n",
      "Trial 2029 completado. Mejor precisión en validación: 0.8725880551301685\n",
      "Usando GPU para el Trial 2030\n",
      "Entrenando Trial 2030...\n"
     ]
    },
    {
     "name": "stderr",
     "output_type": "stream",
     "text": [
      "\u001b[32m[I 2023-12-01 20:38:06,288]\u001b[0m Trial 2030 finished with value: 0.8686064318529862 and parameters: {'n_layers': 5, 'n_units_l0': 2048, 'activation_l0': 'LeakyReLU', 'dropout_l0': 0.4069099679259077, 'batch_norm_l0': False, 'l2_reg_l0': 0.002273069733643494, 'leakyrelu_alpha_l0': 0.08228133974049384, 'n_units_l1': 1024, 'activation_l1': 'Tanh', 'dropout_l1': 0.12542801851101815, 'batch_norm_l1': False, 'l2_reg_l1': 6.708763235781526e-05, 'n_units_l2': 2048, 'activation_l2': 'ReLU', 'dropout_l2': 0.11615653619904447, 'batch_norm_l2': True, 'l2_reg_l2': 2.825012004233788e-05, 'n_units_l3': 128, 'activation_l3': 'SELU', 'dropout_l3': 0.009374897916776896, 'batch_norm_l3': True, 'l2_reg_l3': 0.06387618760168189, 'n_units_l4': 1024, 'activation_l4': 'ELU', 'dropout_l4': 0.45907997436537173, 'batch_norm_l4': True, 'l2_reg_l4': 0.08159302605220209, 'optimizer': 'Adam', 'lr': 0.0009665381896859791, 'adam_beta1': 0.887860977663642, 'adam_beta2': 0.931261133336012, 'epochs': 580, 'batch_size': 32, 'early_stopping_patience': 17, 'lr_reduce_factor': 0.33366020614681174, 'lr_reduce_patience': 45, 'min_lr': 1.0584363583561432e-05}. Best is trial 506 with value: 0.8921898928024502.\u001b[0m\n"
     ]
    },
    {
     "name": "stdout",
     "output_type": "stream",
     "text": [
      "Early stopping\n",
      "Trial 2030 completado. Mejor precisión en validación: 0.8686064318529862\n",
      "Usando GPU para el Trial 2031\n",
      "Entrenando Trial 2031...\n"
     ]
    },
    {
     "name": "stderr",
     "output_type": "stream",
     "text": [
      "\u001b[32m[I 2023-12-01 20:38:28,397]\u001b[0m Trial 2031 finished with value: 0.8548238897396631 and parameters: {'n_layers': 2, 'n_units_l0': 2048, 'activation_l0': 'LeakyReLU', 'dropout_l0': 0.011793993337009756, 'batch_norm_l0': False, 'l2_reg_l0': 0.006345451191926634, 'leakyrelu_alpha_l0': 0.23405590381196323, 'n_units_l1': 16, 'activation_l1': 'Tanh', 'dropout_l1': 0.34651566792907024, 'batch_norm_l1': False, 'l2_reg_l1': 0.004476706414159698, 'optimizer': 'RMSprop', 'lr': 0.0011021587150656794, 'rmsprop_alpha': 0.9263515731684838, 'epochs': 503, 'batch_size': 256, 'early_stopping_patience': 18, 'lr_reduce_factor': 0.48562597169191263, 'lr_reduce_patience': 41, 'min_lr': 3.500883860040027e-05}. Best is trial 506 with value: 0.8921898928024502.\u001b[0m\n"
     ]
    },
    {
     "name": "stdout",
     "output_type": "stream",
     "text": [
      "Early stopping\n",
      "Trial 2031 completado. Mejor precisión en validación: 0.8548238897396631\n",
      "Usando GPU para el Trial 2032\n",
      "Entrenando Trial 2032...\n"
     ]
    },
    {
     "name": "stderr",
     "output_type": "stream",
     "text": [
      "\u001b[32m[I 2023-12-01 20:39:02,403]\u001b[0m Trial 2032 finished with value: 0.8753445635528331 and parameters: {'n_layers': 4, 'n_units_l0': 2048, 'activation_l0': 'LeakyReLU', 'dropout_l0': 0.1411693131800768, 'batch_norm_l0': False, 'l2_reg_l0': 0.0007639966111749496, 'leakyrelu_alpha_l0': 0.1120728752630948, 'n_units_l1': 512, 'activation_l1': 'Tanh', 'dropout_l1': 0.2319124536408903, 'batch_norm_l1': False, 'l2_reg_l1': 0.00018004994530316867, 'n_units_l2': 2048, 'activation_l2': 'ReLU', 'dropout_l2': 0.29196106602581207, 'batch_norm_l2': True, 'l2_reg_l2': 0.000880202184758556, 'n_units_l3': 2048, 'activation_l3': 'LeakyReLU', 'dropout_l3': 0.12821282164606732, 'batch_norm_l3': True, 'l2_reg_l3': 0.0018393586027621778, 'leakyrelu_alpha_l3': 0.19914413089949984, 'optimizer': 'RMSprop', 'lr': 0.0017253093363013459, 'rmsprop_alpha': 0.9427283696217781, 'epochs': 313, 'batch_size': 128, 'early_stopping_patience': 20, 'lr_reduce_factor': 0.6721937731632458, 'lr_reduce_patience': 43, 'min_lr': 2.6452895098215193e-05}. Best is trial 506 with value: 0.8921898928024502.\u001b[0m\n"
     ]
    },
    {
     "name": "stdout",
     "output_type": "stream",
     "text": [
      "Early stopping\n",
      "Trial 2032 completado. Mejor precisión en validación: 0.8753445635528331\n",
      "Usando GPU para el Trial 2033\n",
      "Entrenando Trial 2033...\n"
     ]
    },
    {
     "name": "stderr",
     "output_type": "stream",
     "text": [
      "\u001b[32m[I 2023-12-01 20:39:51,895]\u001b[0m Trial 2033 finished with value: 0.8823889739663093 and parameters: {'n_layers': 6, 'n_units_l0': 1024, 'activation_l0': 'LeakyReLU', 'dropout_l0': 0.17409014078669216, 'batch_norm_l0': False, 'l2_reg_l0': 0.06777276286675908, 'leakyrelu_alpha_l0': 0.14246128181606685, 'n_units_l1': 512, 'activation_l1': 'Tanh', 'dropout_l1': 0.03673619527584451, 'batch_norm_l1': False, 'l2_reg_l1': 2.0174497868644762e-05, 'n_units_l2': 1024, 'activation_l2': 'ReLU', 'dropout_l2': 0.39790046777403915, 'batch_norm_l2': True, 'l2_reg_l2': 0.002220783859361796, 'n_units_l3': 64, 'activation_l3': 'LeakyReLU', 'dropout_l3': 0.2290347981710185, 'batch_norm_l3': True, 'l2_reg_l3': 0.00010378643416646616, 'leakyrelu_alpha_l3': 0.07078175232000732, 'n_units_l4': 64, 'activation_l4': 'LeakyReLU', 'dropout_l4': 0.3632113961309127, 'batch_norm_l4': True, 'l2_reg_l4': 1.4117686568239746e-05, 'leakyrelu_alpha_l4': 0.22914517017066388, 'n_units_l5': 16, 'activation_l5': 'ELU', 'dropout_l5': 0.14664059458430556, 'batch_norm_l5': False, 'l2_reg_l5': 0.001415411003986437, 'optimizer': 'RMSprop', 'lr': 0.0007102402036497984, 'rmsprop_alpha': 0.9868804773347969, 'epochs': 1818, 'batch_size': 128, 'early_stopping_patience': 19, 'lr_reduce_factor': 0.24356172045698105, 'lr_reduce_patience': 38, 'min_lr': 1.2227226069685633e-05}. Best is trial 506 with value: 0.8921898928024502.\u001b[0m\n"
     ]
    },
    {
     "name": "stdout",
     "output_type": "stream",
     "text": [
      "Early stopping\n",
      "Trial 2033 completado. Mejor precisión en validación: 0.8823889739663093\n",
      "Usando GPU para el Trial 2034\n",
      "Entrenando Trial 2034...\n"
     ]
    },
    {
     "name": "stderr",
     "output_type": "stream",
     "text": [
      "\u001b[32m[I 2023-12-01 20:40:02,563]\u001b[0m Trial 2034 finished with value: 0.8318529862174578 and parameters: {'n_layers': 1, 'n_units_l0': 128, 'activation_l0': 'ReLU', 'dropout_l0': 0.2030815246602614, 'batch_norm_l0': False, 'l2_reg_l0': 0.09990290014034828, 'optimizer': 'RMSprop', 'lr': 0.04277758156052523, 'rmsprop_alpha': 0.9674516193275546, 'epochs': 1929, 'batch_size': 1024, 'early_stopping_patience': 15, 'lr_reduce_factor': 0.2979126367591896, 'lr_reduce_patience': 40, 'min_lr': 2.275193578667666e-06}. Best is trial 506 with value: 0.8921898928024502.\u001b[0m\n"
     ]
    },
    {
     "name": "stdout",
     "output_type": "stream",
     "text": [
      "Early stopping\n",
      "Trial 2034 completado. Mejor precisión en validación: 0.8318529862174578\n",
      "Usando GPU para el Trial 2035\n",
      "Entrenando Trial 2035...\n"
     ]
    },
    {
     "name": "stderr",
     "output_type": "stream",
     "text": [
      "\u001b[32m[I 2023-12-01 20:41:14,141]\u001b[0m Trial 2035 finished with value: 0.8643185298621746 and parameters: {'n_layers': 3, 'n_units_l0': 512, 'activation_l0': 'LeakyReLU', 'dropout_l0': 0.0766876185191575, 'batch_norm_l0': False, 'l2_reg_l0': 0.015811836869303375, 'leakyrelu_alpha_l0': 0.15963896457850554, 'n_units_l1': 2048, 'activation_l1': 'ReLU', 'dropout_l1': 0.3746514172778291, 'batch_norm_l1': False, 'l2_reg_l1': 0.003651310748059742, 'n_units_l2': 2048, 'activation_l2': 'ReLU', 'dropout_l2': 0.35718216681497983, 'batch_norm_l2': True, 'l2_reg_l2': 0.002961421019616018, 'optimizer': 'RMSprop', 'lr': 2.9073792229406257e-05, 'rmsprop_alpha': 0.8943104832641403, 'epochs': 224, 'batch_size': 256, 'early_stopping_patience': 20, 'lr_reduce_factor': 0.21425025954314952, 'lr_reduce_patience': 42, 'min_lr': 6.998859602632147e-05}. Best is trial 506 with value: 0.8921898928024502.\u001b[0m\n"
     ]
    },
    {
     "name": "stdout",
     "output_type": "stream",
     "text": [
      "Early stopping\n",
      "Trial 2035 completado. Mejor precisión en validación: 0.8643185298621746\n",
      "Usando GPU para el Trial 2036\n",
      "Entrenando Trial 2036...\n"
     ]
    },
    {
     "name": "stderr",
     "output_type": "stream",
     "text": [
      "\u001b[32m[I 2023-12-01 20:42:00,353]\u001b[0m Trial 2036 finished with value: 0.86156202143951 and parameters: {'n_layers': 7, 'n_units_l0': 2048, 'activation_l0': 'SELU', 'dropout_l0': 0.367966055999551, 'batch_norm_l0': False, 'l2_reg_l0': 0.028177864867741098, 'n_units_l1': 1024, 'activation_l1': 'Tanh', 'dropout_l1': 0.20447528548112243, 'batch_norm_l1': False, 'l2_reg_l1': 0.00040956593446753056, 'n_units_l2': 256, 'activation_l2': 'ReLU', 'dropout_l2': 0.22074335907217138, 'batch_norm_l2': True, 'l2_reg_l2': 0.00014147990755176938, 'n_units_l3': 2048, 'activation_l3': 'LeakyReLU', 'dropout_l3': 0.18373918860835056, 'batch_norm_l3': True, 'l2_reg_l3': 0.008467672105423405, 'leakyrelu_alpha_l3': 0.0887907633984951, 'n_units_l4': 64, 'activation_l4': 'ReLU', 'dropout_l4': 0.40942056724211984, 'batch_norm_l4': False, 'l2_reg_l4': 9.620223829320793e-05, 'n_units_l5': 512, 'activation_l5': 'ReLU', 'dropout_l5': 0.1705282301784855, 'batch_norm_l5': True, 'l2_reg_l5': 0.0693741272400349, 'n_units_l6': 2048, 'activation_l6': 'SELU', 'dropout_l6': 0.415521205584267, 'batch_norm_l6': False, 'l2_reg_l6': 2.261843965781632e-05, 'optimizer': 'RMSprop', 'lr': 0.0005268540139712718, 'rmsprop_alpha': 0.8583371391367608, 'epochs': 548, 'batch_size': 128, 'early_stopping_patience': 18, 'lr_reduce_factor': 0.11976682665502926, 'lr_reduce_patience': 48, 'min_lr': 4.290786689058197e-06}. Best is trial 506 with value: 0.8921898928024502.\u001b[0m\n"
     ]
    },
    {
     "name": "stdout",
     "output_type": "stream",
     "text": [
      "Early stopping\n",
      "Trial 2036 completado. Mejor precisión en validación: 0.86156202143951\n",
      "Usando GPU para el Trial 2037\n",
      "Entrenando Trial 2037...\n"
     ]
    },
    {
     "name": "stderr",
     "output_type": "stream",
     "text": [
      "\u001b[32m[I 2023-12-01 20:42:49,255]\u001b[0m Trial 2037 finished with value: 0.872281776416539 and parameters: {'n_layers': 5, 'n_units_l0': 2048, 'activation_l0': 'LeakyReLU', 'dropout_l0': 0.00777982368348815, 'batch_norm_l0': False, 'l2_reg_l0': 0.0017549150215479426, 'leakyrelu_alpha_l0': 0.20042049143344506, 'n_units_l1': 512, 'activation_l1': 'LeakyReLU', 'dropout_l1': 0.39595057868313177, 'batch_norm_l1': False, 'l2_reg_l1': 0.0017517381156805093, 'leakyrelu_alpha_l1': 0.010094175960403046, 'n_units_l2': 2048, 'activation_l2': 'ReLU', 'dropout_l2': 0.2455944303802616, 'batch_norm_l2': True, 'l2_reg_l2': 0.02600417584221828, 'n_units_l3': 1024, 'activation_l3': 'SELU', 'dropout_l3': 0.21949021469178848, 'batch_norm_l3': True, 'l2_reg_l3': 0.00015512068052496352, 'n_units_l4': 256, 'activation_l4': 'LeakyReLU', 'dropout_l4': 0.3799975795118643, 'batch_norm_l4': True, 'l2_reg_l4': 0.00041286742509212077, 'leakyrelu_alpha_l4': 0.23929160358547424, 'optimizer': 'RMSprop', 'lr': 0.001315649666204464, 'rmsprop_alpha': 0.8532399759879797, 'epochs': 1966, 'batch_size': 128, 'early_stopping_patience': 17, 'lr_reduce_factor': 0.5933359615579817, 'lr_reduce_patience': 43, 'min_lr': 4.695775032829505e-05}. Best is trial 506 with value: 0.8921898928024502.\u001b[0m\n"
     ]
    },
    {
     "name": "stdout",
     "output_type": "stream",
     "text": [
      "Early stopping\n",
      "Trial 2037 completado. Mejor precisión en validación: 0.872281776416539\n",
      "Usando GPU para el Trial 2038\n",
      "Entrenando Trial 2038...\n"
     ]
    },
    {
     "name": "stderr",
     "output_type": "stream",
     "text": [
      "\u001b[32m[I 2023-12-01 20:43:01,297]\u001b[0m Trial 2038 finished with value: 0.678407350689127 and parameters: {'n_layers': 7, 'n_units_l0': 2048, 'activation_l0': 'LeakyReLU', 'dropout_l0': 0.04714387921446483, 'batch_norm_l0': False, 'l2_reg_l0': 1.7720845698661175e-05, 'leakyrelu_alpha_l0': 0.12433628762788963, 'n_units_l1': 512, 'activation_l1': 'Tanh', 'dropout_l1': 0.192084036933351, 'batch_norm_l1': False, 'l2_reg_l1': 0.005573329072340956, 'n_units_l2': 1024, 'activation_l2': 'ReLU', 'dropout_l2': 0.4299595763634791, 'batch_norm_l2': True, 'l2_reg_l2': 0.00033462815323885326, 'n_units_l3': 2048, 'activation_l3': 'Tanh', 'dropout_l3': 0.058898387049100276, 'batch_norm_l3': False, 'l2_reg_l3': 0.005063434930109836, 'n_units_l4': 64, 'activation_l4': 'LeakyReLU', 'dropout_l4': 0.4433503391168248, 'batch_norm_l4': True, 'l2_reg_l4': 0.015915734177284983, 'leakyrelu_alpha_l4': 0.13924708530593738, 'n_units_l5': 32, 'activation_l5': 'LeakyReLU', 'dropout_l5': 0.023846909036520245, 'batch_norm_l5': False, 'l2_reg_l5': 0.0036297525461857793, 'leakyrelu_alpha_l5': 0.22702546353844258, 'n_units_l6': 512, 'activation_l6': 'LeakyReLU', 'dropout_l6': 0.33075413285893, 'batch_norm_l6': True, 'l2_reg_l6': 0.0034975345617026107, 'leakyrelu_alpha_l6': 0.21603021829963592, 'optimizer': 'RMSprop', 'lr': 0.021972801016662852, 'rmsprop_alpha': 0.9310633369194484, 'epochs': 466, 'batch_size': 256, 'early_stopping_patience': 19, 'lr_reduce_factor': 0.7337542357345269, 'lr_reduce_patience': 44, 'min_lr': 1.3285288788657617e-06}. Best is trial 506 with value: 0.8921898928024502.\u001b[0m\n"
     ]
    },
    {
     "name": "stdout",
     "output_type": "stream",
     "text": [
      "Early stopping\n",
      "Trial 2038 completado. Mejor precisión en validación: 0.678407350689127\n",
      "Usando GPU para el Trial 2039\n",
      "Entrenando Trial 2039...\n"
     ]
    },
    {
     "name": "stderr",
     "output_type": "stream",
     "text": [
      "\u001b[32m[I 2023-12-01 20:43:28,142]\u001b[0m Trial 2039 finished with value: 0.8539050535987749 and parameters: {'n_layers': 8, 'n_units_l0': 16, 'activation_l0': 'LeakyReLU', 'dropout_l0': 0.09318327611061515, 'batch_norm_l0': False, 'l2_reg_l0': 0.03841758077579798, 'leakyrelu_alpha_l0': 0.22415748507680525, 'n_units_l1': 512, 'activation_l1': 'Tanh', 'dropout_l1': 0.2514766576746357, 'batch_norm_l1': False, 'l2_reg_l1': 2.7007524131567884e-05, 'n_units_l2': 2048, 'activation_l2': 'ReLU', 'dropout_l2': 0.16145383681445372, 'batch_norm_l2': True, 'l2_reg_l2': 0.00147363809525697, 'n_units_l3': 16, 'activation_l3': 'LeakyReLU', 'dropout_l3': 0.0002146419135802791, 'batch_norm_l3': True, 'l2_reg_l3': 0.0013209671176216973, 'leakyrelu_alpha_l3': 0.10367050557805525, 'n_units_l4': 64, 'activation_l4': 'LeakyReLU', 'dropout_l4': 0.3059866566523786, 'batch_norm_l4': True, 'l2_reg_l4': 2.484845494310078e-05, 'leakyrelu_alpha_l4': 0.28121740453801575, 'n_units_l5': 16, 'activation_l5': 'SELU', 'dropout_l5': 0.13125917752122218, 'batch_norm_l5': False, 'l2_reg_l5': 0.010578809089294709, 'n_units_l6': 16, 'activation_l6': 'LeakyReLU', 'dropout_l6': 0.0535027840765115, 'batch_norm_l6': False, 'l2_reg_l6': 7.086769844982362e-05, 'leakyrelu_alpha_l6': 0.2757381709442526, 'n_units_l7': 16, 'activation_l7': 'ELU', 'dropout_l7': 0.4222153158433893, 'batch_norm_l7': False, 'l2_reg_l7': 4.174756291931682e-05, 'optimizer': 'RMSprop', 'lr': 0.0004112544218489768, 'rmsprop_alpha': 0.9813158929072724, 'epochs': 394, 'batch_size': 512, 'early_stopping_patience': 19, 'lr_reduce_factor': 0.28488226008777723, 'lr_reduce_patience': 45, 'min_lr': 5.494093678162207e-05}. Best is trial 506 with value: 0.8921898928024502.\u001b[0m\n"
     ]
    },
    {
     "name": "stdout",
     "output_type": "stream",
     "text": [
      "Early stopping\n",
      "Trial 2039 completado. Mejor precisión en validación: 0.8539050535987749\n",
      "Usando GPU para el Trial 2040\n",
      "Entrenando Trial 2040...\n"
     ]
    },
    {
     "name": "stderr",
     "output_type": "stream",
     "text": [
      "                                                                                                                                                                                                                                        \r"
     ]
    },
    {
     "name": "stdout",
     "output_type": "stream",
     "text": [
      "Epoch 00103: reducing learning rate of group 0 to 1.2186e-04.\n"
     ]
    },
    {
     "name": "stderr",
     "output_type": "stream",
     "text": [
      "                                                                                                                                                                                                                                        \r"
     ]
    },
    {
     "name": "stdout",
     "output_type": "stream",
     "text": [
      "Epoch 00145: reducing learning rate of group 0 to 1.8311e-05.\n"
     ]
    },
    {
     "name": "stderr",
     "output_type": "stream",
     "text": [
      "\u001b[32m[I 2023-12-01 20:44:53,945]\u001b[0m Trial 2040 finished with value: 0.8799387442572741 and parameters: {'n_layers': 4, 'n_units_l0': 2048, 'activation_l0': 'LeakyReLU', 'dropout_l0': 0.16370837207458558, 'batch_norm_l0': False, 'l2_reg_l0': 3.599104159366993e-05, 'leakyrelu_alpha_l0': 0.28856583822030457, 'n_units_l1': 128, 'activation_l1': 'Tanh', 'dropout_l1': 0.1520756767139734, 'batch_norm_l1': True, 'l2_reg_l1': 1.1635676147666093e-05, 'n_units_l2': 32, 'activation_l2': 'ReLU', 'dropout_l2': 0.008717917971954155, 'batch_norm_l2': True, 'l2_reg_l2': 0.004048318923191758, 'n_units_l3': 1024, 'activation_l3': 'LeakyReLU', 'dropout_l3': 0.3797401317078151, 'batch_norm_l3': True, 'l2_reg_l3': 0.0027102442000598434, 'leakyrelu_alpha_l3': 0.11934351067857572, 'optimizer': 'RMSprop', 'lr': 0.0008110331190172275, 'rmsprop_alpha': 0.920043476139093, 'epochs': 1851, 'batch_size': 128, 'early_stopping_patience': 20, 'lr_reduce_factor': 0.15025809800886575, 'lr_reduce_patience': 41, 'min_lr': 1.667486482848502e-06}. Best is trial 506 with value: 0.8921898928024502.\u001b[0m\n"
     ]
    },
    {
     "name": "stdout",
     "output_type": "stream",
     "text": [
      "Early stopping\n",
      "Trial 2040 completado. Mejor precisión en validación: 0.8799387442572741\n",
      "Usando GPU para el Trial 2041\n",
      "Entrenando Trial 2041...\n"
     ]
    },
    {
     "name": "stderr",
     "output_type": "stream",
     "text": [
      "\u001b[32m[I 2023-12-01 20:46:40,821]\u001b[0m Trial 2041 finished with value: 0.8551301684532925 and parameters: {'n_layers': 6, 'n_units_l0': 2048, 'activation_l0': 'LeakyReLU', 'dropout_l0': 0.11564564505968344, 'batch_norm_l0': False, 'l2_reg_l0': 0.0032748671518638196, 'leakyrelu_alpha_l0': 0.21457193035806876, 'n_units_l1': 1024, 'activation_l1': 'Tanh', 'dropout_l1': 0.29555036448082805, 'batch_norm_l1': False, 'l2_reg_l1': 0.05791837405080097, 'n_units_l2': 2048, 'activation_l2': 'ReLU', 'dropout_l2': 0.45050142417978795, 'batch_norm_l2': True, 'l2_reg_l2': 0.05764323900731511, 'n_units_l3': 2048, 'activation_l3': 'SELU', 'dropout_l3': 0.08894669462598252, 'batch_norm_l3': True, 'l2_reg_l3': 0.0002764805442969311, 'n_units_l4': 64, 'activation_l4': 'SELU', 'dropout_l4': 0.28606735330961797, 'batch_norm_l4': True, 'l2_reg_l4': 0.0014846682271699877, 'n_units_l5': 2048, 'activation_l5': 'ELU', 'dropout_l5': 0.2448106790252093, 'batch_norm_l5': False, 'l2_reg_l5': 0.013356463205701897, 'optimizer': 'RMSprop', 'lr': 1.3250774554121584e-05, 'rmsprop_alpha': 0.9464230259135196, 'epochs': 275, 'batch_size': 128, 'early_stopping_patience': 19, 'lr_reduce_factor': 0.3985023835898478, 'lr_reduce_patience': 36, 'min_lr': 2.2768543952004146e-05}. Best is trial 506 with value: 0.8921898928024502.\u001b[0m\n"
     ]
    },
    {
     "name": "stdout",
     "output_type": "stream",
     "text": [
      "Early stopping\n",
      "Trial 2041 completado. Mejor precisión en validación: 0.8551301684532925\n",
      "Usando GPU para el Trial 2042\n",
      "Entrenando Trial 2042...\n"
     ]
    },
    {
     "name": "stderr",
     "output_type": "stream",
     "text": [
      "\u001b[32m[I 2023-12-01 20:47:34,148]\u001b[0m Trial 2042 finished with value: 0.8318529862174578 and parameters: {'n_layers': 9, 'n_units_l0': 1024, 'activation_l0': 'LeakyReLU', 'dropout_l0': 0.0671467005613436, 'batch_norm_l0': False, 'l2_reg_l0': 0.01896005828489286, 'leakyrelu_alpha_l0': 0.24670743015837748, 'n_units_l1': 512, 'activation_l1': 'Tanh', 'dropout_l1': 0.13869665115778831, 'batch_norm_l1': False, 'l2_reg_l1': 0.023970542209017058, 'n_units_l2': 16, 'activation_l2': 'ReLU', 'dropout_l2': 0.3247956024335986, 'batch_norm_l2': True, 'l2_reg_l2': 1.2715903981344656e-05, 'n_units_l3': 2048, 'activation_l3': 'LeakyReLU', 'dropout_l3': 0.28975985913921354, 'batch_norm_l3': True, 'l2_reg_l3': 0.00034766764567648284, 'leakyrelu_alpha_l3': 0.16983290811910146, 'n_units_l4': 16, 'activation_l4': 'ELU', 'dropout_l4': 0.3528180296611436, 'batch_norm_l4': True, 'l2_reg_l4': 6.914467113130626e-05, 'n_units_l5': 16, 'activation_l5': 'LeakyReLU', 'dropout_l5': 0.3889271351937009, 'batch_norm_l5': False, 'l2_reg_l5': 0.00254933139268829, 'leakyrelu_alpha_l5': 0.05657624296144481, 'n_units_l6': 2048, 'activation_l6': 'SELU', 'dropout_l6': 0.09158492210099042, 'batch_norm_l6': True, 'l2_reg_l6': 0.00016379214407870468, 'n_units_l7': 32, 'activation_l7': 'ReLU', 'dropout_l7': 0.1733959330406701, 'batch_norm_l7': False, 'l2_reg_l7': 0.0004554528212757436, 'n_units_l8': 64, 'activation_l8': 'LeakyReLU', 'dropout_l8': 0.40053798661685597, 'batch_norm_l8': False, 'l2_reg_l8': 0.00048634888544276175, 'leakyrelu_alpha_l8': 0.14715936973596902, 'optimizer': 'RMSprop', 'lr': 2.0601292591463615e-05, 'rmsprop_alpha': 0.9717051476811475, 'epochs': 1896, 'batch_size': 256, 'early_stopping_patience': 16, 'lr_reduce_factor': 0.3110300986132633, 'lr_reduce_patience': 40, 'min_lr': 8.183760877478029e-06}. Best is trial 506 with value: 0.8921898928024502.\u001b[0m\n"
     ]
    },
    {
     "name": "stdout",
     "output_type": "stream",
     "text": [
      "Early stopping\n",
      "Trial 2042 completado. Mejor precisión en validación: 0.8318529862174578\n",
      "Usando GPU para el Trial 2043\n",
      "Entrenando Trial 2043...\n"
     ]
    },
    {
     "name": "stderr",
     "output_type": "stream",
     "text": [
      "\u001b[32m[I 2023-12-01 20:48:11,110]\u001b[0m Trial 2043 finished with value: 0.863093415007657 and parameters: {'n_layers': 5, 'n_units_l0': 256, 'activation_l0': 'LeakyReLU', 'dropout_l0': 0.3252789004288207, 'batch_norm_l0': False, 'l2_reg_l0': 0.0004068952645918823, 'leakyrelu_alpha_l0': 0.279767277585379, 'n_units_l1': 512, 'activation_l1': 'Tanh', 'dropout_l1': 0.48829361514311387, 'batch_norm_l1': False, 'l2_reg_l1': 0.008366184194538748, 'n_units_l2': 1024, 'activation_l2': 'Tanh', 'dropout_l2': 0.3030802236678536, 'batch_norm_l2': True, 'l2_reg_l2': 9.872041404217726e-05, 'n_units_l3': 1024, 'activation_l3': 'ReLU', 'dropout_l3': 0.33378191953698283, 'batch_norm_l3': True, 'l2_reg_l3': 0.09942241130212895, 'n_units_l4': 64, 'activation_l4': 'ReLU', 'dropout_l4': 0.32391904085815826, 'batch_norm_l4': True, 'l2_reg_l4': 0.00019353655898471232, 'optimizer': 'RMSprop', 'lr': 0.002041719997677019, 'rmsprop_alpha': 0.9782504766198804, 'epochs': 1785, 'batch_size': 128, 'early_stopping_patience': 20, 'lr_reduce_factor': 0.6332691668924502, 'lr_reduce_patience': 46, 'min_lr': 3.0613324396350365e-05}. Best is trial 506 with value: 0.8921898928024502.\u001b[0m\n"
     ]
    },
    {
     "name": "stdout",
     "output_type": "stream",
     "text": [
      "Early stopping\n",
      "Trial 2043 completado. Mejor precisión en validación: 0.863093415007657\n",
      "Usando GPU para el Trial 2044\n"
     ]
    }
   ],
   "source": [
    "trials_restantes=50000\n",
    "study.optimize(objective, n_trials=trials_restantes)"
   ]
  },
  {
   "cell_type": "code",
   "execution_count": null,
   "metadata": {},
   "outputs": [],
   "source": [
    "print('Número de pruebas finalizadas:', len(study.trials))\n",
    "print('Mejor prueba:', study.best_trial.params)"
   ]
  },
  {
   "cell_type": "markdown",
   "metadata": {},
   "source": [
    "## Test"
   ]
  },
  {
   "cell_type": "code",
   "execution_count": null,
   "metadata": {},
   "outputs": [],
   "source": [
    "import torch.nn as nn\n",
    "\n",
    "class PyTorchModel(nn.Module):\n",
    "    def __init__(self, params, input_shape):\n",
    "        super(PyTorchModel, self).__init__()\n",
    "        self.layers = nn.ModuleList()\n",
    "        self.l2_regs = []\n",
    "        current_shape = input_shape\n",
    "\n",
    "        # Definir la arquitectura de la red usando los hiperparámetros fijos\n",
    "        n_layers = params['n_layers']\n",
    "        for i in range(n_layers):\n",
    "            num_units = params[f'n_units_l{i}']\n",
    "            activation = params[f'activation_l{i}']\n",
    "            dropout_rate = params[f'dropout_l{i}']\n",
    "            use_batch_norm = params[f'batch_norm_l{i}']\n",
    "            l2_reg = params[f'l2_reg_l{i}']\n",
    "\n",
    "            # Crear y añadir la capa lineal\n",
    "            layer = nn.Linear(current_shape, num_units)\n",
    "            self.layers.append(layer)\n",
    "            self.l2_regs.append(l2_reg)  # Añadir la tasa de regularización L2\n",
    "\n",
    "            current_shape = num_units\n",
    "\n",
    "            # Añadir Batch Normalization si se indica\n",
    "            if use_batch_norm:\n",
    "                self.layers.append(nn.BatchNorm1d(num_units))\n",
    "            \n",
    "            # Añadir Dropout\n",
    "            self.layers.append(nn.Dropout(dropout_rate))\n",
    "\n",
    "            # Añadir la activación\n",
    "            if activation == 'LeakyReLU':\n",
    "                negative_slope = params.get(f'leakyrelu_alpha_l{i}', 0.01)  # Valor predeterminado si no se proporciona\n",
    "                self.layers.append(nn.LeakyReLU(negative_slope=negative_slope))\n",
    "            else:\n",
    "                self.layers.append(getattr(nn, activation)())\n",
    "\n",
    "        # Capa de salida\n",
    "        self.output = nn.Linear(current_shape, 1)\n",
    "\n",
    "    def forward(self, x):\n",
    "        for layer in self.layers:\n",
    "            x = layer(x)\n",
    "        return torch.sigmoid(self.output(x))\n",
    "\n",
    "    def get_l2_loss(self):\n",
    "        l2_loss = 0.0\n",
    "        for layer, l2_reg in zip(self.layers, self.l2_regs):\n",
    "            if isinstance(layer, nn.Linear):\n",
    "                l2_loss += l2_reg * layer.weight.norm(2)\n",
    "        return l2_loss\n"
   ]
  },
  {
   "cell_type": "code",
   "execution_count": null,
   "metadata": {},
   "outputs": [],
   "source": [
    "import torch\n",
    "\n",
    "# Cargar el estado del modelo\n",
    "state_dict = torch.load(\"best_model.pt\")\n",
    "\n",
    "# Imprimir la estructura del modelo\n",
    "print(state_dict.keys())\n"
   ]
  },
  {
   "cell_type": "code",
   "execution_count": null,
   "metadata": {},
   "outputs": [],
   "source": [
    "model = PyTorchModel(study.best_trial.params, input_shape)\n",
    "model.load_state_dict(torch.load(\"best_model.pt\"))\n",
    "model.eval()  # Poner el modelo en modo de evaluación"
   ]
  },
  {
   "cell_type": "code",
   "execution_count": null,
   "metadata": {},
   "outputs": [],
   "source": [
    "def evaluate_model(model, criterion, test_loader, device):\n",
    "    model.eval()  # Poner el modelo en modo de evaluación\n",
    "    test_loss = 0\n",
    "    correct = 0\n",
    "    total = 0\n",
    "\n",
    "    with torch.no_grad():  # Desactivar el cálculo de gradientes\n",
    "        for inputs, labels in test_loader:\n",
    "            inputs, labels = inputs.to(device), labels.to(device)\n",
    "            outputs = model(inputs)\n",
    "            test_loss += criterion(outputs, labels).item()  # Sumar la pérdida del lote\n",
    "            predicted = outputs.round()  # Redondear las salidas para obtener predicciones binarias\n",
    "            correct += (predicted == labels).sum().item()  # Sumar predicciones correctas\n",
    "            total += labels.size(0)\n",
    "\n",
    "    test_loss /= len(test_loader)\n",
    "    accuracy = correct / total\n",
    "    return test_loss, accuracy\n",
    "\n",
    "# Suponiendo que tienes un DataLoader para el conjunto de prueba llamado 'test_loader'\n",
    "test_loss, test_accuracy = evaluate_model(model, criterion, test_loader, device)\n",
    "print(f'Test Loss: {test_loss:.4f}, Test Accuracy: {test_accuracy:.4f}')\n"
   ]
  },
  {
   "cell_type": "code",
   "execution_count": null,
   "metadata": {},
   "outputs": [],
   "source": [
    "import torch\n",
    "import numpy as np\n",
    "import matplotlib.pyplot as plt\n",
    "import seaborn as sns\n",
    "from sklearn.metrics import confusion_matrix, accuracy_score, recall_score, precision_score, f1_score\n",
    "\n",
    "# Asegurarse de que el modelo esté en modo de evaluación y moverlo al dispositivo adecuado\n",
    "model.eval()\n",
    "device = torch.device(\"cuda\" if torch.cuda.is_available() else \"cpu\")\n",
    "model.to(device)\n",
    "\n",
    "# Realizar las predicciones\n",
    "with torch.no_grad():\n",
    "    inputs = features_test.to(device)\n",
    "    outputs = model(inputs)\n",
    "    predictions = outputs.round().cpu().numpy()  # Redondear las predicciones y moverlas al CPU\n",
    "\n",
    "# Calcular y visualizar la matriz de confusión\n",
    "conf_matrix = confusion_matrix(labels_test.numpy(), predictions)\n",
    "plt.figure(figsize=(8, 6))\n",
    "sns.heatmap(conf_matrix, annot=True, fmt='g', cmap='Blues')\n",
    "plt.title('Matriz de Confusión')\n",
    "plt.xlabel('Predicciones')\n",
    "plt.ylabel('Valores Reales')\n",
    "plt.show()\n",
    "\n",
    "# Calcular y mostrar otras métricas\n",
    "accuracy = accuracy_score(labels_test.numpy(), predictions)\n",
    "recall = recall_score(labels_test.numpy(), predictions)\n",
    "precision = precision_score(labels_test.numpy(), predictions)\n",
    "f1 = f1_score(labels_test.numpy(), predictions)\n",
    "print(f\"Accuracy: {accuracy}\")\n",
    "print(f\"Recall: {recall}\")\n",
    "print(f\"Precision: {precision}\")\n",
    "print(f\"F1 Score: {f1}\")"
   ]
  },
  {
   "cell_type": "code",
   "execution_count": null,
   "metadata": {},
   "outputs": [],
   "source": []
  }
 ],
 "metadata": {
  "kernelspec": {
   "display_name": "tutorial-env",
   "language": "python",
   "name": "tutorial-env"
  },
  "language_info": {
   "codemirror_mode": {
    "name": "ipython",
    "version": 3
   },
   "file_extension": ".py",
   "mimetype": "text/x-python",
   "name": "python",
   "nbconvert_exporter": "python",
   "pygments_lexer": "ipython3",
   "version": "3.10.12"
  }
 },
 "nbformat": 4,
 "nbformat_minor": 2
}
